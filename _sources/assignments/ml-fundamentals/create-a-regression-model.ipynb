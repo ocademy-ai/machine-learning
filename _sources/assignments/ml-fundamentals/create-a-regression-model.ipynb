{
 "cells": [
  {
   "cell_type": "markdown",
   "id": "e225a739",
   "metadata": {},
   "source": [
    "# Create a regression model\n",
    "\n",
    "## Instructions\n",
    "\n",
    "In this section you were shown how to build a model using both Linear and Polynomial Regression. Using this knowledge, find a dataset or use one of Scikit-learn's built-in sets to build a fresh model. Explain in your notebook why you chose the technique you did, and demonstrate your model's accuracy. If it is not accurate, explain why.\n",
    "\n",
    "## Rubric\n",
    "\n",
    "| Criteria | Exemplary                                                    | Adequate                   | Needs Improvement               |\n",
    "| -------- | ------------------------------------------------------------ | -------------------------- | ------------------------------- |\n",
    "|          | presents a complete notebook with a well-documented solution | the solution is incomplete | the solution is flawed or buggy |\n",
    "\n",
    "## Acknowledgments\n",
    "\n",
    "Thanks to Microsoft for creating the open-source course [ML-For-Beginners](https://github.com/microsoft/ML-For-Beginners). It inspires the majority of the content in this chapter."
   ]
  }
 ],
 "metadata": {
  "jupytext": {
   "cell_metadata_filter": "-all",
   "formats": "md:myst",
   "text_representation": {
    "extension": ".md",
    "format_name": "myst",
    "format_version": 0.13,
    "jupytext_version": "1.11.5"
   }
  },
  "kernelspec": {
   "display_name": "Python 3",
   "language": "python",
   "name": "python3"
  },
  "source_map": [
   14
  ]
 },
 "nbformat": 4,
 "nbformat_minor": 5
}