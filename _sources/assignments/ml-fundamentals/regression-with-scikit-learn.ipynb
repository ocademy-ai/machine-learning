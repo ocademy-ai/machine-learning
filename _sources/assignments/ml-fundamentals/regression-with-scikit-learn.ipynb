{
 "cells": [
  {
   "cell_type": "markdown",
   "id": "d5e8515c",
   "metadata": {},
   "source": [
    "# Regression with Scikit-learn\n",
    "\n",
    "## Instructions\n",
    "\n",
    "Take a look at the [Linnerud dataset](https://scikit-learn.org/stable/modules/generated/sklearn.datasets.load_linnerud.html#sklearn.datasets.load_linnerud) in Scikit-learn. This dataset has multiple [targets](https://scikit-learn.org/stable/datasets/toy_dataset.html#linnerrud-dataset): 'It consists of three exercise (data) and three physiological (target) variables collected from twenty middle-aged men in a fitness club'.\n",
    "\n",
    "In your own words, describe how to create a Regression model that would plot the relationship between the waistline and how many situps are accomplished. Do the same for the other datapoints in this dataset.\n",
    "\n",
    "## Rubric\n",
    "\n",
    "| Criteria                       | Exemplary                           | Adequate                      | Needs Improvement          |\n",
    "| ------------------------------ | ----------------------------------- | ----------------------------- | -------------------------- |\n",
    "| Submit a descriptive paragraph | Well-written paragraph is submitted | A few sentences are submitted | No description is supplied |\n",
    "\n",
    "## Acknowledgments\n",
    "\n",
    "Thanks to Microsoft for creating the open-source course [ML-For-Beginners](https://github.com/microsoft/ML-For-Beginners). It inspires the majority of the content in this chapter."
   ]
  }
 ],
 "metadata": {
  "jupytext": {
   "cell_metadata_filter": "-all",
   "formats": "md:myst",
   "text_representation": {
    "extension": ".md",
    "format_name": "myst",
    "format_version": 0.13,
    "jupytext_version": "1.11.5"
   }
  },
  "kernelspec": {
   "display_name": "Python 3",
   "language": "python",
   "name": "python3"
  },
  "source_map": [
   14
  ]
 },
 "nbformat": 4,
 "nbformat_minor": 5
}