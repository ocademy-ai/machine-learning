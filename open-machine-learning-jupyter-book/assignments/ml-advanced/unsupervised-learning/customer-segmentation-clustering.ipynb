{
 "cells": [
  {
   "attachments": {},
   "cell_type": "markdown",
   "id": "7e5f2abc",
   "metadata": {},
   "source": [
    "# Customer segmentation: clustering - assignment 3"
   ]
  },
  {
   "attachments": {},
   "cell_type": "markdown",
   "id": "1bd223de",
   "metadata": {},
   "source": [
    "In this project, we will be performing an unsupervised clustering of data on the customer's records from a groceries firm's database. Customer segmentation is the practice of separating customers into groups that reflect similarities among customers in each cluster. We will divide customers into segments to optimize the significance of each customer to the business. To modify products according to distinct needs and behaviours of the customers. It also helps the business to cater to the concerns of different types of customers."
   ]
  },
  {
   "cell_type": "markdown",
   "id": "ae3f38f1",
   "metadata": {},
   "source": [
    "## Importing libraries"
   ]
  },
  {
   "cell_type": "code",
   "execution_count": null,
   "id": "351f137d",
   "metadata": {
    "execution": {
     "iopub.execute_input": "2021-10-08T04:14:39.256813Z",
     "iopub.status.busy": "2021-10-08T04:14:39.256071Z",
     "iopub.status.idle": "2021-10-08T04:14:40.759591Z",
     "shell.execute_reply": "2021-10-08T04:14:40.759031Z",
     "shell.execute_reply.started": "2021-10-08T04:12:13.782444Z"
    },
    "papermill": {
     "duration": 1.53841,
     "end_time": "2021-10-08T04:14:40.759736",
     "exception": false,
     "start_time": "2021-10-08T04:14:39.221326",
     "status": "completed"
    },
    "tags": []
   },
   "outputs": [],
   "source": [
    "import numpy as np\n",
    "import pandas as pd\n",
    "import matplotlib.pyplot as plt\n",
    "from matplotlib import colors\n",
    "import seaborn as sns\n",
    "from sklearn.preprocessing import LabelEncoder\n",
    "from sklearn.preprocessing import StandardScaler\n",
    "from sklearn.decomposition import PCA\n",
    "from yellowbrick.cluster import KElbowVisualizer\n",
    "from sklearn.cluster import KMeans\n",
    "import matplotlib.pyplot as plt, numpy as np\n",
    "from sklearn.cluster import AgglomerativeClustering\n",
    "import warnings\n",
    "import sys\n",
    "if not sys.warnoptions:\n",
    "    warnings.simplefilter(\"ignore\")\n",
    "np.random.seed(42)"
   ]
  },
  {
   "cell_type": "markdown",
   "id": "b72af4fa",
   "metadata": {},
   "source": [
    "## Loading data"
   ]
  },
  {
   "cell_type": "code",
   "execution_count": null,
   "id": "7a6e8b5a",
   "metadata": {
    "execution": {
     "iopub.execute_input": "2021-10-08T04:14:40.879581Z",
     "iopub.status.busy": "2021-10-08T04:14:40.878909Z",
     "iopub.status.idle": "2021-10-08T04:14:40.932630Z",
     "shell.execute_reply": "2021-10-08T04:14:40.933049Z",
     "shell.execute_reply.started": "2021-10-08T04:12:15.114297Z"
    },
    "papermill": {
     "duration": 0.087752,
     "end_time": "2021-10-08T04:14:40.933340",
     "exception": false,
     "start_time": "2021-10-08T04:14:40.845588",
     "status": "completed"
    },
    "tags": []
   },
   "outputs": [],
   "source": [
    "data = pd.read_csv(\"../../../assets/data/marketing_campaign.csv\", sep=\"\\t\")\n",
    "print(\"Number of datapoints:\", len(data))\n",
    "data.head()"
   ]
  },
  {
   "cell_type": "markdown",
   "id": "72eb39cd",
   "metadata": {},
   "source": [
    "## Data cleaning"
   ]
  },
  {
   "cell_type": "markdown",
   "id": "d32c3d27",
   "metadata": {
    "papermill": {
     "duration": 0.028,
     "end_time": "2021-10-08T04:14:40.989700",
     "exception": false,
     "start_time": "2021-10-08T04:14:40.961700",
     "status": "completed"
    },
    "tags": []
   },
   "source": [
    "**In this section** \n",
    "* Data Cleaning\n",
    "* Feature Engineering \n",
    "\n",
    "In order to, get a full grasp of what steps should I be taking to clean the dataset. \n",
    "Let us have a look at the information in data. \n"
   ]
  },
  {
   "cell_type": "code",
   "execution_count": null,
   "id": "ce8667e8",
   "metadata": {
    "execution": {
     "iopub.execute_input": "2021-10-08T04:14:41.061822Z",
     "iopub.status.busy": "2021-10-08T04:14:41.055775Z",
     "iopub.status.idle": "2021-10-08T04:14:41.076529Z",
     "shell.execute_reply": "2021-10-08T04:14:41.075783Z",
     "shell.execute_reply.started": "2021-10-08T04:12:15.173448Z"
    },
    "papermill": {
     "duration": 0.058629,
     "end_time": "2021-10-08T04:14:41.076744",
     "exception": false,
     "start_time": "2021-10-08T04:14:41.018115",
     "status": "completed"
    },
    "tags": []
   },
   "outputs": [],
   "source": [
    "#Information on features \n",
    "data.info()"
   ]
  },
  {
   "cell_type": "markdown",
   "id": "7d049aab",
   "metadata": {
    "papermill": {
     "duration": 0.028603,
     "end_time": "2021-10-08T04:14:41.136192",
     "exception": false,
     "start_time": "2021-10-08T04:14:41.107589",
     "status": "completed"
    },
    "tags": []
   },
   "source": [
    "**From the above output, we can conclude and note that:**\n",
    "\n",
    "* There are missing values in income\n",
    "* Dt_Customer that indicates the date a customer joined the database is not parsed as DateTime\n",
    "* There are some categorical features in our data frame; as there are some features in dtype: object). So we will need to encode them into numeric forms later. \n",
    "\n",
    "First of all, for the missing values, I am simply going to drop the rows that have missing income values. "
   ]
  },
  {
   "cell_type": "code",
   "execution_count": null,
   "id": "b6003c58",
   "metadata": {
    "execution": {
     "iopub.execute_input": "2021-10-08T04:14:41.203332Z",
     "iopub.status.busy": "2021-10-08T04:14:41.202517Z",
     "iopub.status.idle": "2021-10-08T04:14:41.207231Z",
     "shell.execute_reply": "2021-10-08T04:14:41.206495Z",
     "shell.execute_reply.started": "2021-10-08T04:12:15.199835Z"
    },
    "papermill": {
     "duration": 0.042312,
     "end_time": "2021-10-08T04:14:41.207425",
     "exception": false,
     "start_time": "2021-10-08T04:14:41.165113",
     "status": "completed"
    },
    "tags": []
   },
   "outputs": [],
   "source": [
    "#To remove the NA values\n",
    "data = data.dropna()\n",
    "print(\"The total number of data-points after removing the rows with missing values are:\", len(data))"
   ]
  },
  {
   "cell_type": "markdown",
   "id": "1c9849ed",
   "metadata": {
    "papermill": {
     "duration": 0.028861,
     "end_time": "2021-10-08T04:14:41.266284",
     "exception": false,
     "start_time": "2021-10-08T04:14:41.237423",
     "status": "completed"
    },
    "tags": []
   },
   "source": [
    "In the next step, I am going to create a feature out of **\"Dt_Customer\"** that indicates the number of days a customer is registered in the firm's database. However, in order to keep it simple, I am taking this value relative to the most recent customer in the record. \n",
    "\n",
    "Thus to get the values I must check the newest and oldest recorded dates. "
   ]
  },
  {
   "cell_type": "code",
   "execution_count": null,
   "id": "29e0a06d",
   "metadata": {
    "execution": {
     "iopub.execute_input": "2021-10-08T04:14:41.334783Z",
     "iopub.status.busy": "2021-10-08T04:14:41.334173Z",
     "iopub.status.idle": "2021-10-08T04:14:41.341585Z",
     "shell.execute_reply": "2021-10-08T04:14:41.341118Z",
     "shell.execute_reply.started": "2021-10-08T04:12:15.211459Z"
    },
    "papermill": {
     "duration": 0.046416,
     "end_time": "2021-10-08T04:14:41.341737",
     "exception": false,
     "start_time": "2021-10-08T04:14:41.295321",
     "status": "completed"
    },
    "tags": []
   },
   "outputs": [],
   "source": [
    "data[\"Dt_Customer\"] = pd.to_datetime(data[\"Dt_Customer\"])\n",
    "dates = []\n",
    "for i in data[\"Dt_Customer\"]:\n",
    "    i = i.date()\n",
    "    dates.append(i)\n",
    "# Dates of the newest and oldest recorded customer\n",
    "print(\"The newest customer's enrolment date in therecords:\", max(dates))\n",
    "print(\"The oldest customer's enrolment date in the records:\", min(dates))"
   ]
  },
  {
   "cell_type": "markdown",
   "id": "a16a073f",
   "metadata": {
    "papermill": {
     "duration": 0.029401,
     "end_time": "2021-10-08T04:14:41.400477",
     "exception": false,
     "start_time": "2021-10-08T04:14:41.371076",
     "status": "completed"
    },
    "tags": []
   },
   "source": [
    "Creating a feature **(\"Customer_For\")** of the number of days the customers started to shop in the store relative to the last recorded date"
   ]
  },
  {
   "cell_type": "code",
   "execution_count": null,
   "id": "23e9342f",
   "metadata": {
    "execution": {
     "iopub.execute_input": "2021-10-08T04:14:41.480254Z",
     "iopub.status.busy": "2021-10-08T04:14:41.479279Z",
     "iopub.status.idle": "2021-10-08T04:14:41.481715Z",
     "shell.execute_reply": "2021-10-08T04:14:41.482326Z",
     "shell.execute_reply.started": "2021-10-08T04:12:15.230607Z"
    },
    "papermill": {
     "duration": 0.051941,
     "end_time": "2021-10-08T04:14:41.482563",
     "exception": false,
     "start_time": "2021-10-08T04:14:41.430622",
     "status": "completed"
    },
    "tags": []
   },
   "outputs": [],
   "source": [
    "# Created a feature \"Customer_For\"\n",
    "days = []\n",
    "d1 = max(dates)  # taking it to be the newest customer\n",
    "for i in dates:\n",
    "    delta = d1 - i\n",
    "    days.append(delta)\n",
    "data[\"Customer_For\"] = days\n",
    "data[\"Customer_For\"] = pd.to_numeric(data[\"Customer_For\"], errors=\"coerce\")"
   ]
  },
  {
   "cell_type": "markdown",
   "id": "12d9ce12",
   "metadata": {
    "papermill": {
     "duration": 0.040084,
     "end_time": "2021-10-08T04:14:41.565744",
     "exception": false,
     "start_time": "2021-10-08T04:14:41.525660",
     "status": "completed"
    },
    "tags": []
   },
   "source": [
    "Now we will be exploring the unique values in the categorical features to get a clear idea of the data.  "
   ]
  },
  {
   "cell_type": "code",
   "execution_count": null,
   "id": "a4b44962",
   "metadata": {
    "execution": {
     "iopub.execute_input": "2021-10-08T04:14:41.636485Z",
     "iopub.status.busy": "2021-10-08T04:14:41.635493Z",
     "iopub.status.idle": "2021-10-08T04:14:41.639975Z",
     "shell.execute_reply": "2021-10-08T04:14:41.639496Z",
     "shell.execute_reply.started": "2021-10-08T04:12:15.251514Z"
    },
    "papermill": {
     "duration": 0.043279,
     "end_time": "2021-10-08T04:14:41.640142",
     "exception": false,
     "start_time": "2021-10-08T04:14:41.596863",
     "status": "completed"
    },
    "tags": []
   },
   "outputs": [],
   "source": [
    "print(\"Total categories in the feature Marital_Status:\\n\",\n",
    "      data[\"Marital_Status\"].value_counts(), \"\\n\")\n",
    "print(\"Total categories in the feature Education:\\n\",\n",
    "      data[\"Education\"].value_counts())"
   ]
  },
  {
   "cell_type": "markdown",
   "id": "2ec8fa09",
   "metadata": {
    "papermill": {
     "duration": 0.029496,
     "end_time": "2021-10-08T04:14:41.700019",
     "exception": false,
     "start_time": "2021-10-08T04:14:41.670523",
     "status": "completed"
    },
    "tags": []
   },
   "source": [
    "**In the next bit, I will be performing the following steps to engineer some new features:**\n",
    "\n",
    "* Extract the **\"Age\"** of a customer by the **\"Year_Birth\"** indicating the birth year of the respective person.\n",
    "* Create another feature **\"Spent\"** indicating the total amount spent by the customer in various categories over the span of two years.\n",
    "* Create another feature **\"Living_With\"** out of **\"Marital_Status\"** to extract the living situation of couples.\n",
    "* Create a feature **\"Children\"** to indicate total children in a household that is, kids and teenagers.\n",
    "* To get further clarity of household, Creating feature indicating **\"Family_Size\"**\n",
    "* Create a feature **\"Is_Parent\"** to indicate parenthood status\n",
    "* Lastly, I will create three categories in the **\"Education\"** by simplifying its value counts.\n",
    "* Dropping some of the redundant features"
   ]
  },
  {
   "cell_type": "code",
   "execution_count": null,
   "id": "39c3ecc3",
   "metadata": {
    "execution": {
     "iopub.execute_input": "2021-10-08T04:14:41.763000Z",
     "iopub.status.busy": "2021-10-08T04:14:41.762048Z",
     "iopub.status.idle": "2021-10-08T04:14:41.784285Z",
     "shell.execute_reply": "2021-10-08T04:14:41.784752Z",
     "shell.execute_reply.started": "2021-10-08T04:12:15.268640Z"
    },
    "papermill": {
     "duration": 0.055238,
     "end_time": "2021-10-08T04:14:41.784923",
     "exception": false,
     "start_time": "2021-10-08T04:14:41.729685",
     "status": "completed"
    },
    "tags": []
   },
   "outputs": [],
   "source": [
    "# Feature Engineering\n",
    "# Age of customer today\n",
    "data[\"Age\"] = 2021-data[\"Year_Birth\"]\n",
    "\n",
    "# Total spendings on various items\n",
    "data[\"Spent\"] = data[\"MntWines\"] + data[\"MntFruits\"] + data[\"MntMeatProducts\"] + \\\n",
    "    data[\"MntFishProducts\"] + data[\"MntSweetProducts\"] + data[\"MntGoldProds\"]\n",
    "\n",
    "# Deriving living situation by marital status\"Alone\"\n",
    "data[\"Living_With\"] = data[\"Marital_Status\"].replace(\n",
    "    {\"Married\": \"Partner\", \"Together\": \"Partner\", \"Absurd\": \"Alone\", \"Widow\": \"Alone\", \"YOLO\": \"Alone\", \"Divorced\": \"Alone\", \"Single\": \"Alone\", })\n",
    "\n",
    "# Feature indicating total children living in the household\n",
    "data[\"Children\"] = data[\"Kidhome\"]+data[\"Teenhome\"]\n",
    "\n",
    "# Feature for total members in the householde\n",
    "data[\"Family_Size\"] = data[\"Living_With\"].replace(\n",
    "    {\"Alone\": 1, \"Partner\": 2}) + data[\"Children\"]\n",
    "\n",
    "# Feature pertaining parenthood\n",
    "data[\"Is_Parent\"] = np.where(data.Children > 0, 1, 0)\n",
    "\n",
    "# Segmenting education levels in three groups\n",
    "data[\"Education\"] = data[\"Education\"].replace(\n",
    "    {\"Basic\": \"Undergraduate\", \"2n Cycle\": \"Undergraduate\", \"Graduation\": \"Graduate\", \"Master\": \"Postgraduate\", \"PhD\": \"Postgraduate\"})\n",
    "\n",
    "# For clarity\n",
    "data = data.rename(columns={\"MntWines\": \"Wines\", \"MntFruits\": \"Fruits\", \"MntMeatProducts\": \"Meat\",\n",
    "                   \"MntFishProducts\": \"Fish\", \"MntSweetProducts\": \"Sweets\", \"MntGoldProds\": \"Gold\"})\n",
    "\n",
    "# Dropping some of the redundant features\n",
    "to_drop = [\"Marital_Status\", \"Dt_Customer\",\n",
    "           \"Z_CostContact\", \"Z_Revenue\", \"Year_Birth\", \"ID\"]\n",
    "data = data.drop(to_drop, axis=1)"
   ]
  },
  {
   "cell_type": "markdown",
   "id": "0a591bf5",
   "metadata": {
    "papermill": {
     "duration": 0.029572,
     "end_time": "2021-10-08T04:14:41.843846",
     "exception": false,
     "start_time": "2021-10-08T04:14:41.814274",
     "status": "completed"
    },
    "tags": []
   },
   "source": [
    "Now that we have some new features let's have a look at the data's stats. "
   ]
  },
  {
   "cell_type": "code",
   "execution_count": null,
   "id": "89cc5d6b",
   "metadata": {
    "execution": {
     "iopub.execute_input": "2021-10-08T04:14:41.911150Z",
     "iopub.status.busy": "2021-10-08T04:14:41.910560Z",
     "iopub.status.idle": "2021-10-08T04:14:41.983207Z",
     "shell.execute_reply": "2021-10-08T04:14:41.982716Z",
     "shell.execute_reply.started": "2021-10-08T04:12:15.401193Z"
    },
    "papermill": {
     "duration": 0.109706,
     "end_time": "2021-10-08T04:14:41.983356",
     "exception": false,
     "start_time": "2021-10-08T04:14:41.873650",
     "status": "completed"
    },
    "tags": []
   },
   "outputs": [],
   "source": [
    "data.describe()"
   ]
  },
  {
   "cell_type": "markdown",
   "id": "b3b39dc8",
   "metadata": {
    "papermill": {
     "duration": 0.030087,
     "end_time": "2021-10-08T04:14:42.043835",
     "exception": false,
     "start_time": "2021-10-08T04:14:42.013748",
     "status": "completed"
    },
    "tags": []
   },
   "source": [
    "The above stats show some discrepancies in mean Income and Age and max Income and age.\n",
    "\n",
    "Do note that  max-age is 128 years, As I calculated the age that would be today (i.e. 2021) and the data is old.\n",
    "\n",
    "I must take a look at the broader view of the data. \n",
    "I will plot some of the selected features."
   ]
  },
  {
   "cell_type": "code",
   "execution_count": null,
   "id": "f4f98d4d",
   "metadata": {
    "execution": {
     "iopub.execute_input": "2021-10-08T04:14:42.108649Z",
     "iopub.status.busy": "2021-10-08T04:14:42.107868Z",
     "iopub.status.idle": "2021-10-08T04:14:51.052631Z",
     "shell.execute_reply": "2021-10-08T04:14:51.053086Z",
     "shell.execute_reply.started": "2021-10-08T04:12:15.480124Z"
    },
    "papermill": {
     "duration": 8.979335,
     "end_time": "2021-10-08T04:14:51.053279",
     "exception": false,
     "start_time": "2021-10-08T04:14:42.073944",
     "status": "completed"
    },
    "tags": []
   },
   "outputs": [],
   "source": [
    "# To plot some selected features\n",
    "# Setting up colors prefrences\n",
    "sns.set(rc={\"axes.facecolor\": \"#FFF9ED\", \"figure.facecolor\": \"#FFF9ED\"})\n",
    "pallet = [\"#682F2F\", \"#9E726F\", \"#D6B2B1\", \"#B9C0C9\", \"#9F8A78\", \"#F3AB60\"]\n",
    "cmap = colors.ListedColormap(\n",
    "    [\"#682F2F\", \"#9E726F\", \"#D6B2B1\", \"#B9C0C9\", \"#9F8A78\", \"#F3AB60\"])\n",
    "# Plotting following features\n",
    "To_Plot = [\"Income\", \"Recency\", \"Customer_For\", \"Age\", \"Spent\", \"Is_Parent\"]\n",
    "print(\"Reletive Plot Of Some Selected Features: A Data Subset\")\n",
    "plt.figure()\n",
    "sns.pairplot(data[To_Plot], hue=\"Is_Parent\", palette=([\"#682F2F\", \"#F3AB60\"]))\n",
    "# Taking hue\n",
    "plt.show()"
   ]
  },
  {
   "cell_type": "markdown",
   "id": "55979cdb",
   "metadata": {
    "papermill": {
     "duration": 0.046896,
     "end_time": "2021-10-08T04:14:51.147774",
     "exception": false,
     "start_time": "2021-10-08T04:14:51.100878",
     "status": "completed"
    },
    "tags": []
   },
   "source": [
    "Clearly, there are a few outliers in the Income and Age features. \n",
    "I will be deleting the outliers in the data. "
   ]
  },
  {
   "cell_type": "code",
   "execution_count": null,
   "id": "57be2ade",
   "metadata": {
    "execution": {
     "iopub.execute_input": "2021-10-08T04:14:51.244803Z",
     "iopub.status.busy": "2021-10-08T04:14:51.244208Z",
     "iopub.status.idle": "2021-10-08T04:14:51.251678Z",
     "shell.execute_reply": "2021-10-08T04:14:51.252401Z",
     "shell.execute_reply.started": "2021-10-08T04:12:24.093947Z"
    },
    "papermill": {
     "duration": 0.05833,
     "end_time": "2021-10-08T04:14:51.252647",
     "exception": false,
     "start_time": "2021-10-08T04:14:51.194317",
     "status": "completed"
    },
    "tags": []
   },
   "outputs": [],
   "source": [
    "# Dropping the outliers by setting a cap on Age and income.\n",
    "data = data[(data[\"Age\"] < 90)]\n",
    "data = data[(data[\"Income\"] < 600000)]\n",
    "print(\"The total number of data-points after removing the outliers are:\", len(data))"
   ]
  },
  {
   "cell_type": "markdown",
   "id": "b2421777",
   "metadata": {
    "papermill": {
     "duration": 0.046761,
     "end_time": "2021-10-08T04:14:51.348041",
     "exception": false,
     "start_time": "2021-10-08T04:14:51.301280",
     "status": "completed"
    },
    "tags": []
   },
   "source": [
    "Next, let us look at the correlation amongst the features. \n",
    "(Excluding the categorical attributes at this point)"
   ]
  },
  {
   "cell_type": "code",
   "execution_count": null,
   "id": "9003f989",
   "metadata": {
    "execution": {
     "iopub.execute_input": "2021-10-08T04:14:51.451283Z",
     "iopub.status.busy": "2021-10-08T04:14:51.450603Z",
     "iopub.status.idle": "2021-10-08T04:14:55.872170Z",
     "shell.execute_reply": "2021-10-08T04:14:55.872855Z",
     "shell.execute_reply.started": "2021-10-08T04:12:24.103737Z"
    },
    "papermill": {
     "duration": 4.47676,
     "end_time": "2021-10-08T04:14:55.873081",
     "exception": false,
     "start_time": "2021-10-08T04:14:51.396321",
     "status": "completed"
    },
    "tags": []
   },
   "outputs": [],
   "source": [
    "# correlation matrix\n",
    "corrmat = data.corr()\n",
    "plt.figure(figsize=(20, 20))\n",
    "sns.heatmap(corrmat, annot=True, cmap=cmap, center=0)"
   ]
  },
  {
   "cell_type": "markdown",
   "id": "a3009cfe",
   "metadata": {
    "papermill": {
     "duration": 0.063054,
     "end_time": "2021-10-08T04:14:56.005374",
     "exception": false,
     "start_time": "2021-10-08T04:14:55.942320",
     "status": "completed"
    },
    "tags": []
   },
   "source": [
    "The data is quite clean and the new features have been included. I will proceed to the next step. That is, preprocessing the data. \n",
    "\n",
    "## Data preprocessing\n",
    "\n",
    "In this section, I will be preprocessing the data to perform clustering operations.\n",
    "\n",
    "**The following steps are applied to preprocess the data:**\n",
    "\n",
    "* Label encoding the categorical features\n",
    "* Scaling the features using the standard scaler \n",
    "* Creating a subset dataframe for dimensionality reduction"
   ]
  },
  {
   "cell_type": "code",
   "execution_count": null,
   "id": "8c2b2759",
   "metadata": {
    "execution": {
     "iopub.execute_input": "2021-10-08T04:14:56.143780Z",
     "iopub.status.busy": "2021-10-08T04:14:56.143069Z",
     "iopub.status.idle": "2021-10-08T04:14:56.148332Z",
     "shell.execute_reply": "2021-10-08T04:14:56.147769Z",
     "shell.execute_reply.started": "2021-10-08T04:12:28.363650Z"
    },
    "papermill": {
     "duration": 0.085186,
     "end_time": "2021-10-08T04:14:56.148485",
     "exception": false,
     "start_time": "2021-10-08T04:14:56.063299",
     "status": "completed"
    },
    "tags": []
   },
   "outputs": [],
   "source": [
    "# Get list of categorical variables\n",
    "s = (data.dtypes == 'object')\n",
    "object_cols = list(s[s].index)\n",
    "\n",
    "print(\"Categorical variables in the dataset:\", object_cols)"
   ]
  },
  {
   "cell_type": "code",
   "execution_count": null,
   "id": "115aaeb4",
   "metadata": {
    "execution": {
     "iopub.execute_input": "2021-10-08T04:14:56.284601Z",
     "iopub.status.busy": "2021-10-08T04:14:56.283653Z",
     "iopub.status.idle": "2021-10-08T04:14:56.295535Z",
     "shell.execute_reply": "2021-10-08T04:14:56.295995Z",
     "shell.execute_reply.started": "2021-10-08T04:12:28.371665Z"
    },
    "papermill": {
     "duration": 0.078164,
     "end_time": "2021-10-08T04:14:56.296208",
     "exception": false,
     "start_time": "2021-10-08T04:14:56.218044",
     "status": "completed"
    },
    "tags": []
   },
   "outputs": [],
   "source": [
    "# Label Encoding the object dtypes.\n",
    "LE = LabelEncoder()\n",
    "for i in object_cols:\n",
    "    data[i] = data[[i]].apply(LE.fit_transform)\n",
    "\n",
    "print(\"All features are now numerical\")"
   ]
  },
  {
   "cell_type": "code",
   "execution_count": null,
   "id": "3d2a7deb",
   "metadata": {
    "execution": {
     "iopub.execute_input": "2021-10-08T04:14:56.418843Z",
     "iopub.status.busy": "2021-10-08T04:14:56.417813Z",
     "iopub.status.idle": "2021-10-08T04:14:56.429945Z",
     "shell.execute_reply": "2021-10-08T04:14:56.429482Z",
     "shell.execute_reply.started": "2021-10-08T04:12:28.392454Z"
    },
    "papermill": {
     "duration": 0.075769,
     "end_time": "2021-10-08T04:14:56.430085",
     "exception": false,
     "start_time": "2021-10-08T04:14:56.354316",
     "status": "completed"
    },
    "tags": []
   },
   "outputs": [],
   "source": [
    "# Creating a copy of data\n",
    "ds = data.copy()\n",
    "# creating a subset of dataframe by dropping the features on deals accepted and promotions\n",
    "cols_del = ['AcceptedCmp3', 'AcceptedCmp4', 'AcceptedCmp5',\n",
    "            'AcceptedCmp1', 'AcceptedCmp2', 'Complain', 'Response']\n",
    "ds = ds.drop(cols_del, axis=1)\n",
    "# Scaling\n",
    "scaler = StandardScaler()\n",
    "scaler.fit(ds)\n",
    "scaled_ds = pd.DataFrame(scaler.transform(ds), columns=ds.columns)\n",
    "print(\"All features are now scaled\")"
   ]
  },
  {
   "cell_type": "code",
   "execution_count": null,
   "id": "2f951bfa",
   "metadata": {
    "execution": {
     "iopub.execute_input": "2021-10-08T04:14:56.559863Z",
     "iopub.status.busy": "2021-10-08T04:14:56.557570Z",
     "iopub.status.idle": "2021-10-08T04:14:56.574476Z",
     "shell.execute_reply": "2021-10-08T04:14:56.574908Z",
     "shell.execute_reply.started": "2021-10-08T04:12:28.409942Z"
    },
    "papermill": {
     "duration": 0.087305,
     "end_time": "2021-10-08T04:14:56.575069",
     "exception": false,
     "start_time": "2021-10-08T04:14:56.487764",
     "status": "completed"
    },
    "tags": []
   },
   "outputs": [],
   "source": [
    "# Scaled data to be used for reducing the dimensionality\n",
    "print(\"Dataframe to be used for further modelling:\")\n",
    "scaled_ds.head()"
   ]
  },
  {
   "cell_type": "markdown",
   "id": "8448cbbb",
   "metadata": {
    "papermill": {
     "duration": 0.062052,
     "end_time": "2021-10-08T04:14:56.694594",
     "exception": false,
     "start_time": "2021-10-08T04:14:56.632542",
     "status": "completed"
    },
    "tags": []
   },
   "source": [
    "## Dimensionality reduction\n",
    "In this problem, there are many factors on the basis of which the final classification will be done. These factors are basically attributes or features. The higher the number of features, the harder it is to work with it. Many of these features are correlated, and hence redundant. This is why I will be performing dimensionality reduction on the selected features before putting them through a classifier.  \n",
    "*Dimensionality reduction is the process of reducing the number of random variables under consideration, by obtaining a set of principal variables.* \n",
    "\n",
    "**Principal component analysis (PCA)** is a technique for reducing the dimensionality of such datasets, increasing interpretability but at the same time minimizing information loss.\n",
    "\n",
    "**Steps in this section:**\n",
    "* Dimensionality reduction with PCA\n",
    "* Plotting the reduced dataframe\n",
    "\n",
    "**Dimensionality reduction with PCA**\n",
    "\n",
    "For this project, I will be reducing the dimensions to 3."
   ]
  },
  {
   "cell_type": "code",
   "execution_count": null,
   "id": "1d9a0b28",
   "metadata": {
    "execution": {
     "iopub.execute_input": "2021-10-08T04:14:56.823997Z",
     "iopub.status.busy": "2021-10-08T04:14:56.816062Z",
     "iopub.status.idle": "2021-10-08T04:14:56.869227Z",
     "shell.execute_reply": "2021-10-08T04:14:56.870468Z",
     "shell.execute_reply.started": "2021-10-08T04:12:28.438263Z"
    },
    "papermill": {
     "duration": 0.118668,
     "end_time": "2021-10-08T04:14:56.870748",
     "exception": false,
     "start_time": "2021-10-08T04:14:56.752080",
     "status": "completed"
    },
    "tags": []
   },
   "outputs": [],
   "source": [
    "# Initiating PCA to reduce dimentions aka features to 3\n",
    "pca = PCA(n_components=3)\n",
    "pca.fit(scaled_ds)\n",
    "PCA_ds = pd.DataFrame(pca.transform(scaled_ds),\n",
    "                      columns=([\"col1\", \"col2\", \"col3\"]))\n",
    "PCA_ds.describe().T"
   ]
  },
  {
   "cell_type": "code",
   "execution_count": null,
   "id": "c9e49197",
   "metadata": {
    "execution": {
     "iopub.execute_input": "2021-10-08T04:14:57.061968Z",
     "iopub.status.busy": "2021-10-08T04:14:57.055234Z",
     "iopub.status.idle": "2021-10-08T04:14:57.336741Z",
     "shell.execute_reply": "2021-10-08T04:14:57.337174Z",
     "shell.execute_reply.started": "2021-10-08T04:12:28.499006Z"
    },
    "papermill": {
     "duration": 0.367462,
     "end_time": "2021-10-08T04:14:57.337354",
     "exception": false,
     "start_time": "2021-10-08T04:14:56.969892",
     "status": "completed"
    },
    "tags": []
   },
   "outputs": [],
   "source": [
    "# A 3D Projection Of Data In The Reduced Dimension\n",
    "x = PCA_ds[\"col1\"]\n",
    "y = PCA_ds[\"col2\"]\n",
    "z = PCA_ds[\"col3\"]\n",
    "# To plot\n",
    "fig = plt.figure(figsize=(10, 8))\n",
    "ax = fig.add_subplot(111, projection=\"3d\")\n",
    "ax.scatter(x, y, z, c=\"maroon\", marker=\"o\")\n",
    "ax.set_title(\"A 3D Projection Of Data In The Reduced Dimension\")\n",
    "plt.show()"
   ]
  },
  {
   "cell_type": "markdown",
   "id": "e177ffab",
   "metadata": {
    "papermill": {
     "duration": 0.061136,
     "end_time": "2021-10-08T04:14:57.460284",
     "exception": false,
     "start_time": "2021-10-08T04:14:57.399148",
     "status": "completed"
    },
    "tags": []
   },
   "source": [
    "## Clustering\n",
    "\n",
    "Now that I have reduced the attributes to three dimensions, I will be performing clustering via Agglomerative clustering. Agglomerative clustering is a hierarchical clustering method.  It involves merging examples until the desired number of clusters is achieved.\n",
    "\n",
    "**Steps involved in the Clustering**\n",
    "* Elbow Method to determine the number of clusters to be formed\n",
    "* Clustering via Agglomerative Clustering\n",
    "* Examining the clusters formed via scatter plot"
   ]
  },
  {
   "cell_type": "code",
   "execution_count": null,
   "id": "70dd6138",
   "metadata": {
    "execution": {
     "iopub.execute_input": "2021-10-08T04:14:57.586371Z",
     "iopub.status.busy": "2021-10-08T04:14:57.585728Z",
     "iopub.status.idle": "2021-10-08T04:14:59.263906Z",
     "shell.execute_reply": "2021-10-08T04:14:59.263310Z",
     "shell.execute_reply.started": "2021-10-08T04:12:28.811409Z"
    },
    "papermill": {
     "duration": 1.74229,
     "end_time": "2021-10-08T04:14:59.264051",
     "exception": false,
     "start_time": "2021-10-08T04:14:57.521761",
     "status": "completed"
    },
    "tags": []
   },
   "outputs": [],
   "source": [
    "# Quick examination of elbow method to find numbers of clusters to make.\n",
    "print('Elbow Method to determine the number of clusters to be formed:')\n",
    "Elbow_M = KElbowVisualizer(KMeans(), k=10)\n",
    "Elbow_M.fit(PCA_ds)\n",
    "Elbow_M.show()"
   ]
  },
  {
   "cell_type": "markdown",
   "id": "c1ff1fae",
   "metadata": {
    "execution": {
     "iopub.execute_input": "2021-09-24T12:48:31.555898Z",
     "iopub.status.busy": "2021-09-24T12:48:31.555573Z",
     "iopub.status.idle": "2021-09-24T12:48:31.559969Z",
     "shell.execute_reply": "2021-09-24T12:48:31.559288Z",
     "shell.execute_reply.started": "2021-09-24T12:48:31.55586Z"
    },
    "papermill": {
     "duration": 0.063192,
     "end_time": "2021-10-08T04:14:59.390530",
     "exception": false,
     "start_time": "2021-10-08T04:14:59.327338",
     "status": "completed"
    },
    "tags": []
   },
   "source": [
    "The above cell indicates that four will be an optimal number of clusters for this data. \n",
    "Next, we will be fitting the Agglomerative Clustering Model to get the final clusters. "
   ]
  },
  {
   "cell_type": "code",
   "execution_count": null,
   "id": "07f5743a",
   "metadata": {
    "execution": {
     "iopub.execute_input": "2021-10-08T04:14:59.527275Z",
     "iopub.status.busy": "2021-10-08T04:14:59.526543Z",
     "iopub.status.idle": "2021-10-08T04:14:59.670409Z",
     "shell.execute_reply": "2021-10-08T04:14:59.669779Z",
     "shell.execute_reply.started": "2021-10-08T04:12:30.673084Z"
    },
    "papermill": {
     "duration": 0.213864,
     "end_time": "2021-10-08T04:14:59.670550",
     "exception": false,
     "start_time": "2021-10-08T04:14:59.456686",
     "status": "completed"
    },
    "tags": []
   },
   "outputs": [],
   "source": [
    "# Initiating the Agglomerative Clustering model\n",
    "AC = AgglomerativeClustering(n_clusters=4)\n",
    "# fit model and predict clusters\n",
    "yhat_AC = AC.fit_predict(PCA_ds)\n",
    "PCA_ds[\"Clusters\"] = yhat_AC\n",
    "# Adding the Clusters feature to the orignal dataframe.\n",
    "data[\"Clusters\"] = yhat_AC"
   ]
  },
  {
   "cell_type": "markdown",
   "id": "fb953814",
   "metadata": {
    "papermill": {
     "duration": 0.063434,
     "end_time": "2021-10-08T04:14:59.798310",
     "exception": false,
     "start_time": "2021-10-08T04:14:59.734876",
     "status": "completed"
    },
    "tags": []
   },
   "source": [
    "To examine the clusters formed let's have a look at the 3-D distribution of the clusters. "
   ]
  },
  {
   "cell_type": "code",
   "execution_count": null,
   "id": "c56f2f13",
   "metadata": {
    "execution": {
     "iopub.execute_input": "2021-10-08T04:14:59.948296Z",
     "iopub.status.busy": "2021-10-08T04:14:59.942685Z",
     "iopub.status.idle": "2021-10-08T04:15:00.243746Z",
     "shell.execute_reply": "2021-10-08T04:15:00.244210Z",
     "shell.execute_reply.started": "2021-10-08T04:12:30.828912Z"
    },
    "papermill": {
     "duration": 0.381844,
     "end_time": "2021-10-08T04:15:00.244379",
     "exception": false,
     "start_time": "2021-10-08T04:14:59.862535",
     "status": "completed"
    },
    "tags": []
   },
   "outputs": [],
   "source": [
    "# Plotting the clusters\n",
    "fig = plt.figure(figsize=(10, 8))\n",
    "ax = plt.subplot(111, projection='3d', label=\"bla\")\n",
    "ax.scatter(x, y, z, s=40, c=PCA_ds[\"Clusters\"], marker='o', cmap=cmap)\n",
    "ax.set_title(\"The Plot Of The Clusters\")\n",
    "plt.show()"
   ]
  },
  {
   "cell_type": "markdown",
   "id": "f0e7a9d2",
   "metadata": {
    "papermill": {
     "duration": 0.065606,
     "end_time": "2021-10-08T04:15:00.376433",
     "exception": false,
     "start_time": "2021-10-08T04:15:00.310827",
     "status": "completed"
    },
    "tags": []
   },
   "source": [
    "## Evaluating models\n",
    "\n",
    "Since this is an unsupervised clustering. We do not have a tagged feature to evaluate or score our model. The purpose of this section is to study the patterns in the clusters formed and determine the nature of the clusters' patterns. \n",
    "\n",
    "For that, we will be having a look at the data in light of clusters via exploratory data analysis and drawing conclusions. \n",
    "\n",
    "**Firstly, let us have a look at the group distribution of clustring**"
   ]
  },
  {
   "cell_type": "code",
   "execution_count": null,
   "id": "6b9189d2",
   "metadata": {
    "execution": {
     "iopub.execute_input": "2021-10-08T04:15:00.515866Z",
     "iopub.status.busy": "2021-10-08T04:15:00.514854Z",
     "iopub.status.idle": "2021-10-08T04:15:00.913031Z",
     "shell.execute_reply": "2021-10-08T04:15:00.912447Z",
     "shell.execute_reply.started": "2021-10-08T04:12:31.157287Z"
    },
    "papermill": {
     "duration": 0.470936,
     "end_time": "2021-10-08T04:15:00.913213",
     "exception": false,
     "start_time": "2021-10-08T04:15:00.442277",
     "status": "completed"
    },
    "tags": []
   },
   "outputs": [],
   "source": [
    "# Plotting countplot of clusters\n",
    "pal = [\"#682F2F\", \"#B9C0C9\", \"#9F8A78\", \"#F3AB60\"]\n",
    "pl = sns.countplot(x=data[\"Clusters\"], palette=pal)\n",
    "pl.set_title(\"Distribution Of The Clusters\")\n",
    "plt.show()"
   ]
  },
  {
   "cell_type": "markdown",
   "id": "07f2e0f1",
   "metadata": {
    "papermill": {
     "duration": 0.066727,
     "end_time": "2021-10-08T04:15:01.186736",
     "exception": false,
     "start_time": "2021-10-08T04:15:01.120009",
     "status": "completed"
    },
    "tags": []
   },
   "source": [
    "The clusters seem to be fairly distributed."
   ]
  },
  {
   "cell_type": "code",
   "execution_count": null,
   "id": "559ecb13",
   "metadata": {
    "execution": {
     "iopub.execute_input": "2021-10-08T04:15:01.360323Z",
     "iopub.status.busy": "2021-10-08T04:15:01.359683Z",
     "iopub.status.idle": "2021-10-08T04:15:01.793924Z",
     "shell.execute_reply": "2021-10-08T04:15:01.792766Z",
     "shell.execute_reply.started": "2021-10-08T04:12:31.389440Z"
    },
    "papermill": {
     "duration": 0.510132,
     "end_time": "2021-10-08T04:15:01.794103",
     "exception": false,
     "start_time": "2021-10-08T04:15:01.283971",
     "status": "completed"
    },
    "tags": []
   },
   "outputs": [],
   "source": [
    "pl = sns.scatterplot(\n",
    "    data=data, x=data[\"Spent\"], y=data[\"Income\"], hue=data[\"Clusters\"], palette=pal)\n",
    "pl.set_title(\"Cluster's Profile Based On Income And Spending\")\n",
    "plt.legend()\n",
    "plt.show()"
   ]
  },
  {
   "cell_type": "markdown",
   "id": "84e4c291",
   "metadata": {
    "papermill": {
     "duration": 0.07143,
     "end_time": "2021-10-08T04:15:01.938650",
     "exception": false,
     "start_time": "2021-10-08T04:15:01.867220",
     "status": "completed"
    },
    "tags": []
   },
   "source": [
    "**Income vs  spending plot shows the clusters pattern**\n",
    "* group 0: high spending & average income\n",
    "* group 1: high spending & high income\n",
    "* group 2: low spending & low income \n",
    "* group 3: high spending & low income  \n",
    "\n",
    "Next, I will be looking at the detailed distribution of clusters as per the various products in the data. Namely: Wines, Fruits, Meat, Fish, Sweets and Gold"
   ]
  },
  {
   "cell_type": "code",
   "execution_count": null,
   "id": "4903aaf3",
   "metadata": {
    "execution": {
     "iopub.execute_input": "2021-10-08T04:15:02.088310Z",
     "iopub.status.busy": "2021-10-08T04:15:02.087626Z",
     "iopub.status.idle": "2021-10-08T04:15:06.694890Z",
     "shell.execute_reply": "2021-10-08T04:15:06.695350Z",
     "shell.execute_reply.started": "2021-10-08T04:12:31.819670Z"
    },
    "papermill": {
     "duration": 4.684948,
     "end_time": "2021-10-08T04:15:06.695522",
     "exception": false,
     "start_time": "2021-10-08T04:15:02.010574",
     "status": "completed"
    },
    "tags": []
   },
   "outputs": [],
   "source": [
    "plt.figure()\n",
    "pl = sns.swarmplot(x=data[\"Clusters\"], y=data[\"Spent\"],\n",
    "                   color=\"#CBEDDD\", alpha=0.5)\n",
    "pl = sns.boxenplot(x=data[\"Clusters\"], y=data[\"Spent\"], palette=pal)\n",
    "plt.show()"
   ]
  },
  {
   "cell_type": "markdown",
   "id": "f35b69f9",
   "metadata": {
    "papermill": {
     "duration": 0.07193,
     "end_time": "2021-10-08T04:15:06.840213",
     "exception": false,
     "start_time": "2021-10-08T04:15:06.768283",
     "status": "completed"
    },
    "tags": []
   },
   "source": [
    "\n",
    "From the above plot, it can be clearly seen that cluster 1 is our biggest set of customers closely followed by cluster 0.\n",
    "We can explore what each cluster is spending on for the targeted marketing strategies.\n"
   ]
  },
  {
   "cell_type": "markdown",
   "id": "80f20861",
   "metadata": {
    "papermill": {
     "duration": 0.074689,
     "end_time": "2021-10-08T04:15:06.988145",
     "exception": false,
     "start_time": "2021-10-08T04:15:06.913456",
     "status": "completed"
    },
    "tags": []
   },
   "source": [
    "Let us next explore how did our campaigns do in the past."
   ]
  },
  {
   "cell_type": "code",
   "execution_count": null,
   "id": "e70811f2",
   "metadata": {
    "execution": {
     "iopub.execute_input": "2021-10-08T04:15:07.146675Z",
     "iopub.status.busy": "2021-10-08T04:15:07.145665Z",
     "iopub.status.idle": "2021-10-08T04:15:07.434967Z",
     "shell.execute_reply": "2021-10-08T04:15:07.434335Z",
     "shell.execute_reply.started": "2021-10-08T04:12:36.278010Z"
    },
    "papermill": {
     "duration": 0.373835,
     "end_time": "2021-10-08T04:15:07.435114",
     "exception": false,
     "start_time": "2021-10-08T04:15:07.061279",
     "status": "completed"
    },
    "tags": []
   },
   "outputs": [],
   "source": [
    "# Creating a feature to get a sum of accepted promotions\n",
    "data[\"Total_Promos\"] = data[\"AcceptedCmp1\"] + data[\"AcceptedCmp2\"] + \\\n",
    "    data[\"AcceptedCmp3\"] + data[\"AcceptedCmp4\"] + data[\"AcceptedCmp5\"]\n",
    "# Plotting count of total campaign accepted.\n",
    "plt.figure()\n",
    "pl = sns.countplot(x=data[\"Total_Promos\"], hue=data[\"Clusters\"], palette=pal)\n",
    "pl.set_title(\"Count Of Promotion Accepted\")\n",
    "pl.set_xlabel(\"Number Of Total Accepted Promotions\")\n",
    "plt.show()"
   ]
  },
  {
   "cell_type": "markdown",
   "id": "31a9b95f",
   "metadata": {
    "papermill": {
     "duration": 0.075057,
     "end_time": "2021-10-08T04:15:07.585345",
     "exception": false,
     "start_time": "2021-10-08T04:15:07.510288",
     "status": "completed"
    },
    "tags": []
   },
   "source": [
    "There has not been an overwhelming response to the campaigns so far. Very few participants overall. Moreover, no one part take in all 5 of them. Perhaps better-targeted and well-planned campaigns are required to boost sales. \n"
   ]
  },
  {
   "cell_type": "code",
   "execution_count": null,
   "id": "20b69169",
   "metadata": {
    "execution": {
     "iopub.execute_input": "2021-10-08T04:15:07.734414Z",
     "iopub.status.busy": "2021-10-08T04:15:07.733808Z",
     "iopub.status.idle": "2021-10-08T04:15:07.983586Z",
     "shell.execute_reply": "2021-10-08T04:15:07.983066Z",
     "shell.execute_reply.started": "2021-10-08T04:12:36.567195Z"
    },
    "papermill": {
     "duration": 0.325298,
     "end_time": "2021-10-08T04:15:07.983731",
     "exception": false,
     "start_time": "2021-10-08T04:15:07.658433",
     "status": "completed"
    },
    "tags": []
   },
   "outputs": [],
   "source": [
    "# Plotting the number of deals purchased\n",
    "plt.figure()\n",
    "pl = sns.boxenplot(y=data[\"NumDealsPurchases\"],\n",
    "                   x=data[\"Clusters\"], palette=pal)\n",
    "pl.set_title(\"Number of Deals Purchased\")\n",
    "plt.show()"
   ]
  },
  {
   "cell_type": "markdown",
   "id": "cb4d960d",
   "metadata": {
    "papermill": {
     "duration": 0.075506,
     "end_time": "2021-10-08T04:15:08.136009",
     "exception": false,
     "start_time": "2021-10-08T04:15:08.060503",
     "status": "completed"
    },
    "tags": []
   },
   "source": [
    "Unlike campaigns, the deals offered did well. It has best outcome with cluster 0 and cluster 3. \n",
    "However, our star customers cluster 1 are not much into the deals. \n",
    "Nothing seems to attract cluster 2 overwhelmingly \n"
   ]
  },
  {
   "cell_type": "code",
   "execution_count": null,
   "id": "61521155",
   "metadata": {
    "_kg_hide-input": true,
    "_kg_hide-output": true,
    "execution": {
     "iopub.execute_input": "2021-10-08T04:15:08.291394Z",
     "iopub.status.busy": "2021-10-08T04:15:08.290733Z",
     "iopub.status.idle": "2021-10-08T04:15:11.506052Z",
     "shell.execute_reply": "2021-10-08T04:15:11.506546Z",
     "shell.execute_reply.started": "2021-10-08T04:12:36.807697Z"
    },
    "papermill": {
     "duration": 3.296251,
     "end_time": "2021-10-08T04:15:11.506721",
     "exception": false,
     "start_time": "2021-10-08T04:15:08.210470",
     "status": "completed"
    },
    "tags": []
   },
   "outputs": [],
   "source": [
    "# for more details on the purchasing style\n",
    "Places = [\"NumWebPurchases\", \"NumCatalogPurchases\",\n",
    "          \"NumStorePurchases\",  \"NumWebVisitsMonth\"]\n",
    "\n",
    "for i in Places:\n",
    "    plt.figure()\n",
    "    sns.jointplot(x=data[i], y=data[\"Spent\"],\n",
    "                  hue=data[\"Clusters\"], palette=pal)\n",
    "    plt.show()"
   ]
  },
  {
   "cell_type": "markdown",
   "id": "4bc708cd",
   "metadata": {
    "papermill": {
     "duration": 0.083796,
     "end_time": "2021-10-08T04:15:11.674202",
     "exception": false,
     "start_time": "2021-10-08T04:15:11.590406",
     "status": "completed"
    },
    "tags": []
   },
   "source": [
    "## Profiling\n",
    "\n",
    "Now that we have formed the clusters and looked at their purchasing habits. \n",
    "Let us see who all are there in these clusters. For that, we will be profiling the clusters formed and come to a conclusion about who is our star customer and who needs more attention from the retail store's marketing team.\n",
    "\n",
    "To decide that I will be plotting some of the features that are indicative of the customer's personal traits in light of the cluster they are in. \n",
    "On the basis of the outcomes, I will be arriving at the conclusions. "
   ]
  },
  {
   "cell_type": "code",
   "execution_count": null,
   "id": "4f1be44f",
   "metadata": {
    "execution": {
     "iopub.execute_input": "2021-10-08T04:15:11.864726Z",
     "iopub.status.busy": "2021-10-08T04:15:11.863979Z",
     "iopub.status.idle": "2021-10-08T04:15:37.658767Z",
     "shell.execute_reply": "2021-10-08T04:15:37.659280Z",
     "shell.execute_reply.started": "2021-10-08T04:12:39.974905Z"
    },
    "papermill": {
     "duration": 25.901281,
     "end_time": "2021-10-08T04:15:37.659466",
     "exception": false,
     "start_time": "2021-10-08T04:15:11.758185",
     "status": "completed"
    },
    "tags": []
   },
   "outputs": [],
   "source": [
    "Personal = [\"Kidhome\", \"Teenhome\", \"Customer_For\", \"Age\",\n",
    "            \"Children\", \"Family_Size\", \"Is_Parent\", \"Education\", \"Living_With\"]\n",
    "\n",
    "for i in Personal:\n",
    "    plt.figure()\n",
    "    sns.jointplot(x=data[i], y=data[\"Spent\"],\n",
    "                  hue=data[\"Clusters\"], kind=\"kde\", palette=pal)\n",
    "    plt.show()"
   ]
  },
  {
   "cell_type": "markdown",
   "id": "b1f8f7b3",
   "metadata": {
    "papermill": {
     "duration": 0.106499,
     "end_time": "2021-10-08T04:15:38.087648",
     "exception": false,
     "start_time": "2021-10-08T04:15:37.981149",
     "status": "completed"
    },
    "tags": []
   },
   "source": [
    "## Conclusion\n",
    "\n",
    "In this project, I performed unsupervised clustering. \n",
    "I did use dimensionality reduction followed by agglomerative clustering. \n",
    "I came up with 4 clusters and further used them in profiling customers in clusters according to their family structures and income/spending. \n",
    "This can be used in planning better marketing strategies. "
   ]
  },
  {
   "attachments": {},
   "cell_type": "markdown",
   "id": "0bc5ca4e",
   "metadata": {},
   "source": [
    "## Acknowledgments\n",
    "Thanks to Karnika Kapoor for creating the Notebook [Customer Segmentation: Clustering](https://www.kaggle.com/code/karnikakapoor/customer-segmentation-clustering), lisensed under the [Apache 2.0](https://www.apache.org/licenses/LICENSE-2.0). It inspires the majority of the content in this chapter."
   ]
  }
 ],
 "metadata": {
  "kernelspec": {
   "display_name": "Python 3 (ipykernel)",
   "language": "python",
   "name": "python3"
  },
  "language_info": {
   "codemirror_mode": {
    "name": "ipython",
    "version": 3
   },
   "file_extension": ".py",
   "mimetype": "text/x-python",
   "name": "python",
   "nbconvert_exporter": "python",
   "pygments_lexer": "ipython3",
   "version": "3.10.9"
  },
  "papermill": {
   "default_parameters": {},
   "duration": 68.93969,
   "end_time": "2021-10-08T04:15:39.992191",
   "environment_variables": {},
   "exception": null,
   "input_path": "__notebook__.ipynb",
   "output_path": "__notebook__.ipynb",
   "parameters": {},
   "start_time": "2021-10-08T04:14:31.052501",
   "version": "2.3.3"
  }
 },
 "nbformat": 4,
 "nbformat_minor": 5
}
