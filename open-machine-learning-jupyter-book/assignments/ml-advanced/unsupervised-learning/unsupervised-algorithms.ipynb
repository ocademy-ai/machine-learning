{
 "cells": [
  {
   "cell_type": "markdown",
   "id": "1ca7db12",
   "metadata": {
    "papermill": {
     "duration": 0.006674,
     "end_time": "2023-04-05T15:06:08.735640",
     "exception": false,
     "start_time": "2023-04-05T15:06:08.728966",
     "status": "completed"
    },
    "tags": []
   },
   "source": [
    "# Unsupervised algorithms - assignment 2"
   ]
  },
  {
   "attachments": {},
   "cell_type": "markdown",
   "id": "76b30c7d",
   "metadata": {
    "papermill": {
     "duration": 0.005061,
     "end_time": "2023-04-05T15:06:08.746303",
     "exception": false,
     "start_time": "2023-04-05T15:06:08.741242",
     "status": "completed"
    },
    "tags": []
   },
   "source": [
    "## Dataset Attributes\n",
    "**country** : Name of the country<br>\n",
    "**child_mort** : Death of children under 5 years of age per 1000 live births<br>\n",
    "**exports** : Exports of goods and services per capita. Given as %age of the GDP per capita<br>\n",
    "**health** : Total health spending per capita. Given as %age of GDP per capita<br>\n",
    "**imports** : Imports of goods and services per capita. Given as %age of the GDP per capita<br>\n",
    "**Income** : Net income per person<br>\n",
    "**Inflation** : The measurement of the annual growth rate of the Total GDP<br>\n",
    "**life_expec** : The average number of years a new born child would live if the current mortality patterns are to rem...<br>\n",
    "**total_fer** : The number of children that would be born to each woman if the current age-fertility rates remain th...<br>\n",
    "**gdpp** : The GDP per capita. Calculated as the Total GDP divided by the total population."
   ]
  },
  {
   "attachments": {},
   "cell_type": "markdown",
   "id": "2aa6deaf",
   "metadata": {},
   "source": [
    "## Importing libraries"
   ]
  },
  {
   "cell_type": "code",
   "execution_count": null,
   "id": "85b36333",
   "metadata": {
    "execution": {
     "iopub.execute_input": "2023-04-05T15:06:08.769843Z",
     "iopub.status.busy": "2023-04-05T15:06:08.769025Z",
     "iopub.status.idle": "2023-04-05T15:06:10.029728Z",
     "shell.execute_reply": "2023-04-05T15:06:10.028489Z"
    },
    "papermill": {
     "duration": 1.270888,
     "end_time": "2023-04-05T15:06:10.032888",
     "exception": false,
     "start_time": "2023-04-05T15:06:08.762000",
     "status": "completed"
    },
    "tags": []
   },
   "outputs": [],
   "source": [
    "import numpy as np\n",
    "import pandas as pd\n",
    "import matplotlib.pyplot as plt\n",
    "import seaborn as sns"
   ]
  },
  {
   "attachments": {},
   "cell_type": "markdown",
   "id": "82daf80c",
   "metadata": {},
   "source": [
    "## Loading the dataset"
   ]
  },
  {
   "cell_type": "code",
   "execution_count": null,
   "id": "78bb660f",
   "metadata": {
    "execution": {
     "iopub.execute_input": "2023-04-05T15:06:10.046430Z",
     "iopub.status.busy": "2023-04-05T15:06:10.045990Z",
     "iopub.status.idle": "2023-04-05T15:06:10.076144Z",
     "shell.execute_reply": "2023-04-05T15:06:10.074788Z"
    },
    "papermill": {
     "duration": 0.039974,
     "end_time": "2023-04-05T15:06:10.078927",
     "exception": false,
     "start_time": "2023-04-05T15:06:10.038953",
     "status": "completed"
    },
    "tags": []
   },
   "outputs": [],
   "source": [
    "data = pd.read_csv(\"../../../assets/data/Country-data.csv\")"
   ]
  },
  {
   "cell_type": "code",
   "execution_count": null,
   "id": "e66ddef7",
   "metadata": {
    "execution": {
     "iopub.execute_input": "2023-04-05T15:06:10.092461Z",
     "iopub.status.busy": "2023-04-05T15:06:10.092019Z",
     "iopub.status.idle": "2023-04-05T15:06:10.125297Z",
     "shell.execute_reply": "2023-04-05T15:06:10.124079Z"
    },
    "papermill": {
     "duration": 0.043282,
     "end_time": "2023-04-05T15:06:10.128067",
     "exception": false,
     "start_time": "2023-04-05T15:06:10.084785",
     "status": "completed"
    },
    "scrolled": true,
    "tags": []
   },
   "outputs": [],
   "source": [
    "data.head()"
   ]
  },
  {
   "cell_type": "code",
   "execution_count": null,
   "id": "d56d694c",
   "metadata": {
    "execution": {
     "iopub.execute_input": "2023-04-05T15:06:10.141614Z",
     "iopub.status.busy": "2023-04-05T15:06:10.141234Z",
     "iopub.status.idle": "2023-04-05T15:06:10.165805Z",
     "shell.execute_reply": "2023-04-05T15:06:10.164929Z"
    },
    "papermill": {
     "duration": 0.034902,
     "end_time": "2023-04-05T15:06:10.168905",
     "exception": false,
     "start_time": "2023-04-05T15:06:10.134003",
     "status": "completed"
    },
    "tags": []
   },
   "outputs": [],
   "source": [
    "data.info()"
   ]
  },
  {
   "cell_type": "code",
   "execution_count": null,
   "id": "e1aa6e9d",
   "metadata": {
    "execution": {
     "iopub.execute_input": "2023-04-05T15:06:10.182849Z",
     "iopub.status.busy": "2023-04-05T15:06:10.182457Z",
     "iopub.status.idle": "2023-04-05T15:06:10.189972Z",
     "shell.execute_reply": "2023-04-05T15:06:10.188954Z"
    },
    "papermill": {
     "duration": 0.017052,
     "end_time": "2023-04-05T15:06:10.192348",
     "exception": false,
     "start_time": "2023-04-05T15:06:10.175296",
     "status": "completed"
    },
    "scrolled": true,
    "tags": []
   },
   "outputs": [],
   "source": [
    "data.shape"
   ]
  },
  {
   "attachments": {},
   "cell_type": "markdown",
   "id": "782e91b9",
   "metadata": {
    "papermill": {
     "duration": 0.005778,
     "end_time": "2023-04-05T15:06:10.204238",
     "exception": false,
     "start_time": "2023-04-05T15:06:10.198460",
     "status": "completed"
    },
    "tags": []
   },
   "source": [
    "## Data preprocessing"
   ]
  },
  {
   "cell_type": "code",
   "execution_count": null,
   "id": "4c949117",
   "metadata": {
    "execution": {
     "iopub.execute_input": "2023-04-05T15:06:10.219372Z",
     "iopub.status.busy": "2023-04-05T15:06:10.217969Z",
     "iopub.status.idle": "2023-04-05T15:06:10.258981Z",
     "shell.execute_reply": "2023-04-05T15:06:10.257825Z"
    },
    "papermill": {
     "duration": 0.051266,
     "end_time": "2023-04-05T15:06:10.261637",
     "exception": false,
     "start_time": "2023-04-05T15:06:10.210371",
     "status": "completed"
    },
    "scrolled": true,
    "tags": []
   },
   "outputs": [],
   "source": [
    "data.describe()"
   ]
  },
  {
   "cell_type": "code",
   "execution_count": null,
   "id": "e7ac99fa",
   "metadata": {
    "execution": {
     "iopub.execute_input": "2023-04-05T15:06:10.276646Z",
     "iopub.status.busy": "2023-04-05T15:06:10.276253Z",
     "iopub.status.idle": "2023-04-05T15:06:10.282653Z",
     "shell.execute_reply": "2023-04-05T15:06:10.281515Z"
    },
    "papermill": {
     "duration": 0.017161,
     "end_time": "2023-04-05T15:06:10.285365",
     "exception": false,
     "start_time": "2023-04-05T15:06:10.268204",
     "status": "completed"
    },
    "tags": []
   },
   "outputs": [],
   "source": [
    "# Drop unwanted columns\n",
    "data.drop(['country'], axis=1, inplace=True)"
   ]
  },
  {
   "cell_type": "code",
   "execution_count": null,
   "id": "54456972",
   "metadata": {
    "execution": {
     "iopub.execute_input": "2023-04-05T15:06:10.300259Z",
     "iopub.status.busy": "2023-04-05T15:06:10.299826Z",
     "iopub.status.idle": "2023-04-05T15:06:10.309768Z",
     "shell.execute_reply": "2023-04-05T15:06:10.308475Z"
    },
    "papermill": {
     "duration": 0.020264,
     "end_time": "2023-04-05T15:06:10.312211",
     "exception": false,
     "start_time": "2023-04-05T15:06:10.291947",
     "status": "completed"
    },
    "tags": []
   },
   "outputs": [],
   "source": [
    "# check for null values\n",
    "data.isnull().sum()"
   ]
  },
  {
   "cell_type": "code",
   "execution_count": null,
   "id": "50d81a06",
   "metadata": {
    "execution": {
     "iopub.execute_input": "2023-04-05T15:06:10.327820Z",
     "iopub.status.busy": "2023-04-05T15:06:10.327103Z",
     "iopub.status.idle": "2023-04-05T15:06:10.338842Z",
     "shell.execute_reply": "2023-04-05T15:06:10.337964Z"
    },
    "papermill": {
     "duration": 0.021887,
     "end_time": "2023-04-05T15:06:10.340960",
     "exception": false,
     "start_time": "2023-04-05T15:06:10.319073",
     "status": "completed"
    },
    "tags": []
   },
   "outputs": [],
   "source": [
    "# check for duplicates\n",
    "data.duplicated().sum()"
   ]
  },
  {
   "cell_type": "code",
   "execution_count": null,
   "id": "5321a9c7",
   "metadata": {
    "execution": {
     "iopub.execute_input": "2023-04-05T15:06:10.356923Z",
     "iopub.status.busy": "2023-04-05T15:06:10.356261Z",
     "iopub.status.idle": "2023-04-05T15:06:11.191651Z",
     "shell.execute_reply": "2023-04-05T15:06:11.190406Z"
    },
    "papermill": {
     "duration": 0.846358,
     "end_time": "2023-04-05T15:06:11.194167",
     "exception": false,
     "start_time": "2023-04-05T15:06:10.347809",
     "status": "completed"
    },
    "scrolled": true,
    "tags": []
   },
   "outputs": [],
   "source": [
    "plt.figure(figsize=(10, 10))\n",
    "sns.heatmap(data.corr(), annot=True)"
   ]
  },
  {
   "attachments": {},
   "cell_type": "markdown",
   "id": "14c259fe",
   "metadata": {
    "papermill": {
     "duration": 0.008364,
     "end_time": "2023-04-05T15:06:11.211225",
     "exception": false,
     "start_time": "2023-04-05T15:06:11.202861",
     "status": "completed"
    },
    "tags": []
   },
   "source": [
    "## Feature scaling"
   ]
  },
  {
   "cell_type": "code",
   "execution_count": null,
   "id": "2a310f1c",
   "metadata": {
    "execution": {
     "iopub.execute_input": "2023-04-05T15:06:11.231525Z",
     "iopub.status.busy": "2023-04-05T15:06:11.230298Z",
     "iopub.status.idle": "2023-04-05T15:06:11.403123Z",
     "shell.execute_reply": "2023-04-05T15:06:11.401685Z"
    },
    "papermill": {
     "duration": 0.185492,
     "end_time": "2023-04-05T15:06:11.406023",
     "exception": false,
     "start_time": "2023-04-05T15:06:11.220531",
     "status": "completed"
    },
    "tags": []
   },
   "outputs": [],
   "source": [
    "from sklearn.preprocessing import StandardScaler"
   ]
  },
  {
   "cell_type": "code",
   "execution_count": null,
   "id": "8addd292",
   "metadata": {
    "execution": {
     "iopub.execute_input": "2023-04-05T15:06:11.426436Z",
     "iopub.status.busy": "2023-04-05T15:06:11.425190Z",
     "iopub.status.idle": "2023-04-05T15:06:11.435544Z",
     "shell.execute_reply": "2023-04-05T15:06:11.434099Z"
    },
    "papermill": {
     "duration": 0.02343,
     "end_time": "2023-04-05T15:06:11.438444",
     "exception": false,
     "start_time": "2023-04-05T15:06:11.415014",
     "status": "completed"
    },
    "tags": []
   },
   "outputs": [],
   "source": [
    "ss = StandardScaler()\n",
    "data = pd.DataFrame(ss.fit_transform(data), columns=data.columns)"
   ]
  },
  {
   "cell_type": "code",
   "execution_count": null,
   "id": "ebc51815",
   "metadata": {
    "execution": {
     "iopub.execute_input": "2023-04-05T15:06:11.457892Z",
     "iopub.status.busy": "2023-04-05T15:06:11.457497Z",
     "iopub.status.idle": "2023-04-05T15:06:11.472668Z",
     "shell.execute_reply": "2023-04-05T15:06:11.471447Z"
    },
    "papermill": {
     "duration": 0.027989,
     "end_time": "2023-04-05T15:06:11.475285",
     "exception": false,
     "start_time": "2023-04-05T15:06:11.447296",
     "status": "completed"
    },
    "tags": []
   },
   "outputs": [],
   "source": [
    "data.head()"
   ]
  },
  {
   "attachments": {},
   "cell_type": "markdown",
   "id": "f174ac57",
   "metadata": {
    "papermill": {
     "duration": 0.008504,
     "end_time": "2023-04-05T15:06:11.492534",
     "exception": false,
     "start_time": "2023-04-05T15:06:11.484030",
     "status": "completed"
    },
    "tags": []
   },
   "source": [
    "## Principal component analysis"
   ]
  },
  {
   "cell_type": "code",
   "execution_count": null,
   "id": "aa82c757",
   "metadata": {
    "execution": {
     "iopub.execute_input": "2023-04-05T15:06:11.512274Z",
     "iopub.status.busy": "2023-04-05T15:06:11.511601Z",
     "iopub.status.idle": "2023-04-05T15:06:11.742525Z",
     "shell.execute_reply": "2023-04-05T15:06:11.741355Z"
    },
    "papermill": {
     "duration": 0.244029,
     "end_time": "2023-04-05T15:06:11.745421",
     "exception": false,
     "start_time": "2023-04-05T15:06:11.501392",
     "status": "completed"
    },
    "tags": []
   },
   "outputs": [],
   "source": [
    "from sklearn.decomposition import PCA\n",
    "pca=PCA()"
   ]
  },
  {
   "cell_type": "code",
   "execution_count": null,
   "id": "5df82365",
   "metadata": {
    "execution": {
     "iopub.execute_input": "2023-04-05T15:06:11.766504Z",
     "iopub.status.busy": "2023-04-05T15:06:11.765498Z",
     "iopub.status.idle": "2023-04-05T15:06:11.785684Z",
     "shell.execute_reply": "2023-04-05T15:06:11.784354Z"
    },
    "papermill": {
     "duration": 0.033996,
     "end_time": "2023-04-05T15:06:11.788422",
     "exception": false,
     "start_time": "2023-04-05T15:06:11.754426",
     "status": "completed"
    },
    "tags": []
   },
   "outputs": [],
   "source": [
    "pca_data = pd.DataFrame(pca.fit_transform(data), columns=data.columns)"
   ]
  },
  {
   "cell_type": "code",
   "execution_count": null,
   "id": "35a8aebd",
   "metadata": {
    "execution": {
     "iopub.execute_input": "2023-04-05T15:06:11.808945Z",
     "iopub.status.busy": "2023-04-05T15:06:11.808164Z",
     "iopub.status.idle": "2023-04-05T15:06:11.827009Z",
     "shell.execute_reply": "2023-04-05T15:06:11.825847Z"
    },
    "papermill": {
     "duration": 0.031833,
     "end_time": "2023-04-05T15:06:11.829469",
     "exception": false,
     "start_time": "2023-04-05T15:06:11.797636",
     "status": "completed"
    },
    "tags": []
   },
   "outputs": [],
   "source": [
    "pca_data"
   ]
  },
  {
   "cell_type": "code",
   "execution_count": null,
   "id": "3e1f154d",
   "metadata": {
    "execution": {
     "iopub.execute_input": "2023-04-05T15:06:11.850793Z",
     "iopub.status.busy": "2023-04-05T15:06:11.849768Z",
     "iopub.status.idle": "2023-04-05T15:06:11.856556Z",
     "shell.execute_reply": "2023-04-05T15:06:11.855682Z"
    },
    "papermill": {
     "duration": 0.019597,
     "end_time": "2023-04-05T15:06:11.858629",
     "exception": false,
     "start_time": "2023-04-05T15:06:11.839032",
     "status": "completed"
    },
    "tags": []
   },
   "outputs": [],
   "source": [
    "pca.explained_variance_"
   ]
  },
  {
   "cell_type": "code",
   "execution_count": null,
   "id": "fbf829e1",
   "metadata": {
    "execution": {
     "iopub.execute_input": "2023-04-05T15:06:11.879693Z",
     "iopub.status.busy": "2023-04-05T15:06:11.879261Z",
     "iopub.status.idle": "2023-04-05T15:06:12.076312Z",
     "shell.execute_reply": "2023-04-05T15:06:12.075009Z"
    },
    "papermill": {
     "duration": 0.210655,
     "end_time": "2023-04-05T15:06:12.078939",
     "exception": false,
     "start_time": "2023-04-05T15:06:11.868284",
     "status": "completed"
    },
    "scrolled": true,
    "tags": []
   },
   "outputs": [],
   "source": [
    "plt.step(list(range(1, 10)), np.cumsum(pca.explained_variance_ratio_))\n",
    "plt.plot(np.cumsum(pca.explained_variance_ratio_))\n",
    "plt.xlabel('Eigen Values')\n",
    "plt.ylabel('Ratio of Variance Explained')\n",
    "plt.title('Variance Covered by each Eigen Value')\n",
    "plt.show()"
   ]
  },
  {
   "cell_type": "code",
   "execution_count": null,
   "id": "5a84a053",
   "metadata": {
    "execution": {
     "iopub.execute_input": "2023-04-05T15:06:12.102510Z",
     "iopub.status.busy": "2023-04-05T15:06:12.101322Z",
     "iopub.status.idle": "2023-04-05T15:06:12.108360Z",
     "shell.execute_reply": "2023-04-05T15:06:12.107110Z"
    },
    "papermill": {
     "duration": 0.021548,
     "end_time": "2023-04-05T15:06:12.110932",
     "exception": false,
     "start_time": "2023-04-05T15:06:12.089384",
     "status": "completed"
    },
    "tags": []
   },
   "outputs": [],
   "source": [
    "pca_data.drop(['inflation', 'life_expec', 'total_fer', 'gdpp'],\n",
    "              axis=1, inplace=True)"
   ]
  },
  {
   "cell_type": "code",
   "execution_count": null,
   "id": "b099d5de",
   "metadata": {
    "execution": {
     "iopub.execute_input": "2023-04-05T15:06:12.133264Z",
     "iopub.status.busy": "2023-04-05T15:06:12.132804Z",
     "iopub.status.idle": "2023-04-05T15:06:12.149552Z",
     "shell.execute_reply": "2023-04-05T15:06:12.148256Z"
    },
    "papermill": {
     "duration": 0.03067,
     "end_time": "2023-04-05T15:06:12.151836",
     "exception": false,
     "start_time": "2023-04-05T15:06:12.121166",
     "status": "completed"
    },
    "tags": []
   },
   "outputs": [],
   "source": [
    "pca_data"
   ]
  },
  {
   "attachments": {},
   "cell_type": "markdown",
   "id": "1a3e8d8d",
   "metadata": {
    "papermill": {
     "duration": 0.010338,
     "end_time": "2023-04-05T15:06:12.172834",
     "exception": false,
     "start_time": "2023-04-05T15:06:12.162496",
     "status": "completed"
    },
    "tags": []
   },
   "source": [
    "## Hierarchical clustering"
   ]
  },
  {
   "cell_type": "code",
   "execution_count": null,
   "id": "63a7249b",
   "metadata": {
    "execution": {
     "iopub.execute_input": "2023-04-05T15:06:12.196697Z",
     "iopub.status.busy": "2023-04-05T15:06:12.195922Z",
     "iopub.status.idle": "2023-04-05T15:06:15.466692Z",
     "shell.execute_reply": "2023-04-05T15:06:15.465320Z"
    },
    "papermill": {
     "duration": 3.28608,
     "end_time": "2023-04-05T15:06:15.469855",
     "exception": false,
     "start_time": "2023-04-05T15:06:12.183775",
     "status": "completed"
    },
    "tags": []
   },
   "outputs": [],
   "source": [
    "from scipy.cluster.hierarchy import dendrogram, linkage\n",
    "import matplotlib.pyplot as plt\n",
    "\n",
    "\n",
    "Z = linkage(pca_data, method='ward', metric='euclidean')\n",
    "\n",
    "plt.figure(figsize=(15, 6))\n",
    "plt.title('Hierarchical Clustering Dendrogram')\n",
    "plt.xlabel('Sample Index')\n",
    "plt.ylabel('Distance')\n",
    "dendrogram(Z)\n",
    "plt.show()"
   ]
  },
  {
   "attachments": {},
   "cell_type": "markdown",
   "id": "d4b94102",
   "metadata": {},
   "source": [
    "## Acknowledgments\n",
    "Thanks to Gokulprasanth T for creating the open-source project [Unsupervised algorithms](https://www.kaggle.com/code/gokulprasantht/unsupervised-algorithms), lisensed under the [Apache 2.0](https://www.apache.org/licenses/LICENSE-2.0). It inspires the majority of the content in this chapter."
   ]
  }
 ],
 "metadata": {
  "kernelspec": {
   "display_name": "Python 3 (ipykernel)",
   "language": "python",
   "name": "python3"
  },
  "language_info": {
   "codemirror_mode": {
    "name": "ipython",
    "version": 3
   },
   "file_extension": ".py",
   "mimetype": "text/x-python",
   "name": "python",
   "nbconvert_exporter": "python",
   "pygments_lexer": "ipython3",
   "version": "3.10.9"
  },
  "papermill": {
   "default_parameters": {},
   "duration": 18.728112,
   "end_time": "2023-04-05T15:06:16.204819",
   "environment_variables": {},
   "exception": null,
   "input_path": "__notebook__.ipynb",
   "output_path": "__notebook__.ipynb",
   "parameters": {},
   "start_time": "2023-04-05T15:05:57.476707",
   "version": "2.4.0"
  }
 },
 "nbformat": 4,
 "nbformat_minor": 5
}
