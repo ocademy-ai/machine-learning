{
 "cells": [
  {
   "cell_type": "markdown",
   "id": "4f60d031",
   "metadata": {
    "_cell_guid": "b1076dfc-b9ad-4769-8c92-a6c4dae69d19",
    "_uuid": "8f2839f25d086af736a60e9eeb907d3b93b6e0e5",
    "execution": {
     "iopub.execute_input": "2022-12-31T12:36:17.996900Z",
     "iopub.status.busy": "2022-12-31T12:36:17.996536Z",
     "iopub.status.idle": "2022-12-31T12:36:18.011981Z",
     "shell.execute_reply": "2022-12-31T12:36:18.011234Z"
    },
    "papermill": {
     "duration": 0.023707,
     "end_time": "2022-12-31T12:36:18.014094",
     "exception": false,
     "start_time": "2022-12-31T12:36:17.990387",
     "status": "completed"
    },
    "tags": []
   },
   "source": [
    "# Implementation of K-Means algorithm from scratch - assignment 5"
   ]
  },
  {
   "cell_type": "markdown",
   "id": "f9f399d2",
   "metadata": {},
   "source": [
    "## Import necessary libraries"
   ]
  },
  {
   "cell_type": "code",
   "execution_count": null,
   "id": "5b617770",
   "metadata": {},
   "outputs": [],
   "source": [
    "import numpy as np  # linear algebra\n",
    "import pandas as pd  # data processing, CSV file I/O (e.g. pd.read_csv)\n",
    "from matplotlib import pyplot as plt\n",
    "from matplotlib import rc\n",
    "from matplotlib.animation import FuncAnimation as animate\n",
    "\n",
    "rc('animation', html='html5')"
   ]
  },
  {
   "cell_type": "markdown",
   "id": "d0261add",
   "metadata": {},
   "source": [
    "## Load the dataset"
   ]
  },
  {
   "cell_type": "code",
   "execution_count": null,
   "id": "0ade3bd9",
   "metadata": {
    "papermill": {
     "duration": 0.069598,
     "end_time": "2022-12-31T12:36:18.087764",
     "exception": false,
     "start_time": "2022-12-31T12:36:18.018166",
     "status": "completed"
    },
    "tags": []
   },
   "outputs": [],
   "source": [
    "df = pd.read_csv(\"../../../assets/data/implementation-Kmeans/basic1.csv\")\n",
    "display(df.head(),df.describe(),df.isnull().sum())"
   ]
  },
  {
   "cell_type": "code",
   "execution_count": null,
   "id": "dbdfb06d",
   "metadata": {
    "papermill": {
     "duration": 0.208645,
     "end_time": "2022-12-31T12:36:18.300789",
     "exception": false,
     "start_time": "2022-12-31T12:36:18.092144",
     "status": "completed"
    },
    "tags": []
   },
   "outputs": [],
   "source": [
    "fig = plt.figure()\n",
    "plt.scatter(df.x/560,df.y/560,marker='.')"
   ]
  },
  {
   "cell_type": "markdown",
   "id": "8e9cf3a2",
   "metadata": {},
   "source": [
    "## Our own implementation of k-means algorithm"
   ]
  },
  {
   "cell_type": "code",
   "execution_count": null,
   "id": "f0e825c7",
   "metadata": {
    "papermill": {
     "duration": 3.759268,
     "end_time": "2022-12-31T12:36:22.064983",
     "exception": false,
     "start_time": "2022-12-31T12:36:18.305715",
     "status": "completed"
    },
    "tags": []
   },
   "outputs": [],
   "source": [
    "\n",
    "fig, ax = plt.subplots()\n",
    "\n",
    "\n",
    "class Kmeans:\n",
    "    def __init__(self, K: int, data, seed=None):\n",
    "        self.k = K  # k clusters\n",
    "        if seed is not None:\n",
    "            np.random.seed(seed)\n",
    "        self.centroids = np.random.rand(K, 2)\n",
    "\n",
    "        self.maxval = data.max(axis=0).max()\n",
    "        self.data = data/self.maxval\n",
    "        self.labels = np.zeros(len(self.data))\n",
    "\n",
    "    def _get_closest_class_id(self, X):\n",
    "        # compute the distance between the sample and all the centroids\n",
    "        # and return the index of the minimum distance\n",
    "        d = ((X-self.centroids)**2).sum(axis=1)\n",
    "        return np.argmin(d)\n",
    "\n",
    "    def fit(self, tollarence=1e-10):\n",
    "\n",
    "        ax.clear()\n",
    "        ax.scatter(self.data[:, 0], self.data[:, 1], c=self.labels, marker='.')\n",
    "\n",
    "        pervcentroid = self.centroids.copy()\n",
    "        ax.scatter(pervcentroid[:, 0], pervcentroid[:, 1], c=list(\n",
    "            range(self.k)), marker='+', cmap='winter')\n",
    "\n",
    "        for i in range(len(self.data)):\n",
    "            self.labels[i] = self._get_closest_class_id(self.data[i])\n",
    "\n",
    "        # calculate the mean of the new clusters\n",
    "        for k in range(self.k):\n",
    "            self.centroids[k] = self.data[np.where(\n",
    "                self.labels == k)].mean(axis=0)\n",
    "\n",
    "        ax.scatter(self.centroids[:, 0], self.centroids[:, 1], c=list(\n",
    "            range(self.k)), marker='x', cmap='winter')\n",
    "\n",
    "\n",
    "train = df.iloc[:, :-1].to_numpy()\n",
    "a = Kmeans(4, train, 10)\n",
    "\n",
    "plots1 = animate(fig, a.fit, frames=10, interval=1000, repeat=False)\n",
    "plots1"
   ]
  },
  {
   "cell_type": "code",
   "execution_count": null,
   "id": "ff8a1c75",
   "metadata": {
    "papermill": {
     "duration": 0.180555,
     "end_time": "2022-12-31T12:36:22.251977",
     "exception": false,
     "start_time": "2022-12-31T12:36:22.071422",
     "status": "completed"
    },
    "tags": []
   },
   "outputs": [],
   "source": [
    "df = pd.read_csv('../../../assets/data/implementation-Kmeans/sparse.csv')\n",
    "data = df.iloc[:, :-1].to_numpy()\n",
    "plt.scatter(df.x, df.y)"
   ]
  },
  {
   "cell_type": "code",
   "execution_count": null,
   "id": "acd1b0d5",
   "metadata": {
    "papermill": {
     "duration": 0.942434,
     "end_time": "2022-12-31T12:36:23.202061",
     "exception": false,
     "start_time": "2022-12-31T12:36:22.259627",
     "status": "completed"
    },
    "tags": []
   },
   "outputs": [],
   "source": [
    "a = Kmeans(3, data, 17)\n",
    "plots1 = animate(fig, a.fit, frames=10, interval=1000, repeat=False)\n",
    "plots1"
   ]
  },
  {
   "cell_type": "code",
   "execution_count": null,
   "id": "e20f2cd2",
   "metadata": {
    "papermill": {
     "duration": 0.188401,
     "end_time": "2022-12-31T12:36:23.398451",
     "exception": false,
     "start_time": "2022-12-31T12:36:23.210050",
     "status": "completed"
    },
    "tags": []
   },
   "outputs": [],
   "source": [
    "df = pd.read_csv('../../../assets/data/implementation-Kmeans/basic5.csv')\n",
    "data = df.iloc[:, :-1].to_numpy()\n",
    "plt.scatter(df.x, df.y)"
   ]
  },
  {
   "cell_type": "code",
   "execution_count": null,
   "id": "17e73cff",
   "metadata": {
    "papermill": {
     "duration": 1.913529,
     "end_time": "2022-12-31T12:36:25.319870",
     "exception": false,
     "start_time": "2022-12-31T12:36:23.406341",
     "status": "completed"
    },
    "tags": []
   },
   "outputs": [],
   "source": [
    "a = Kmeans(3, data, 17)\n",
    "plots2 = animate(fig, a.fit, frames=10, interval=1000, repeat=False)\n",
    "plots2"
   ]
  },
  {
   "cell_type": "code",
   "execution_count": null,
   "id": "32c47f5e",
   "metadata": {
    "papermill": {
     "duration": 0.204232,
     "end_time": "2022-12-31T12:36:25.532997",
     "exception": false,
     "start_time": "2022-12-31T12:36:25.328765",
     "status": "completed"
    },
    "tags": []
   },
   "outputs": [],
   "source": [
    "df = pd.read_csv('../../../assets/data/implementation-Kmeans/spiral2.csv')\n",
    "data = df.iloc[:, :-1].to_numpy()\n",
    "plt.scatter(df.x, df.y)"
   ]
  },
  {
   "cell_type": "code",
   "execution_count": null,
   "id": "da89f7d9",
   "metadata": {
    "papermill": {
     "duration": 9.208532,
     "end_time": "2022-12-31T12:36:34.751116",
     "exception": false,
     "start_time": "2022-12-31T12:36:25.542584",
     "status": "completed"
    },
    "tags": []
   },
   "outputs": [],
   "source": [
    "a = Kmeans(2, data, 10)\n",
    "plots2 = animate(fig, a.fit, frames=30, interval=1000, repeat=False)\n",
    "plots2"
   ]
  },
  {
   "cell_type": "code",
   "execution_count": null,
   "id": "2b633a54",
   "metadata": {
    "papermill": {
     "duration": 0.187441,
     "end_time": "2022-12-31T12:36:34.949541",
     "exception": false,
     "start_time": "2022-12-31T12:36:34.762100",
     "status": "completed"
    },
    "tags": []
   },
   "outputs": [],
   "source": [
    "df = pd.read_csv('../../../assets/data/implementation-Kmeans/network.csv')\n",
    "data = df.iloc[:, :-1].to_numpy()\n",
    "plt.scatter(df.x, df.y)"
   ]
  },
  {
   "cell_type": "code",
   "execution_count": null,
   "id": "b40f5d01",
   "metadata": {
    "papermill": {
     "duration": 1.469256,
     "end_time": "2022-12-31T12:36:36.430505",
     "exception": false,
     "start_time": "2022-12-31T12:36:34.961249",
     "status": "completed"
    },
    "tags": []
   },
   "outputs": [],
   "source": [
    "a = Kmeans(5, data, 10)\n",
    "plots2 = animate(fig, a.fit, frames=10, interval=2000, repeat=False)\n",
    "plots2"
   ]
  },
  {
   "cell_type": "code",
   "execution_count": null,
   "id": "a48d927d",
   "metadata": {
    "papermill": {
     "duration": 0.22782,
     "end_time": "2022-12-31T12:36:36.671161",
     "exception": false,
     "start_time": "2022-12-31T12:36:36.443341",
     "status": "completed"
    },
    "tags": []
   },
   "outputs": [],
   "source": [
    "df = pd.read_csv('../../../assets/data/implementation-Kmeans/basic4.csv')\n",
    "data = df.iloc[:, :-1].to_numpy()\n",
    "plt.scatter(df.x, df.y)"
   ]
  },
  {
   "cell_type": "code",
   "execution_count": null,
   "id": "2cf3ddab",
   "metadata": {
    "papermill": {
     "duration": 11.716343,
     "end_time": "2022-12-31T12:36:48.400335",
     "exception": false,
     "start_time": "2022-12-31T12:36:36.683992",
     "status": "completed"
    },
    "tags": []
   },
   "outputs": [],
   "source": [
    "a = Kmeans(3, data, 10)\n",
    "plots2 = animate(fig, a.fit, frames=30, interval=1000, repeat=False)\n",
    "plots2"
   ]
  },
  {
   "cell_type": "code",
   "execution_count": null,
   "id": "00219e9f",
   "metadata": {
    "papermill": {
     "duration": 0.192883,
     "end_time": "2022-12-31T12:36:48.608512",
     "exception": false,
     "start_time": "2022-12-31T12:36:48.415629",
     "status": "completed"
    },
    "tags": []
   },
   "outputs": [],
   "source": [
    "df = pd.read_csv('../../../assets/data/implementation-Kmeans/blob.csv')\n",
    "data = df.iloc[:, :-1].to_numpy()\n",
    "plt.scatter(df.x, df.y)"
   ]
  },
  {
   "cell_type": "code",
   "execution_count": null,
   "id": "b04ee96c",
   "metadata": {
    "papermill": {
     "duration": 5.139679,
     "end_time": "2022-12-31T12:36:53.762371",
     "exception": false,
     "start_time": "2022-12-31T12:36:48.622692",
     "status": "completed"
    },
    "tags": []
   },
   "outputs": [],
   "source": [
    "a = Kmeans(4, data, 10)\n",
    "plots2 = animate(fig, a.fit, frames=30, interval=1000, repeat=False)\n",
    "plots2"
   ]
  },
  {
   "cell_type": "markdown",
   "id": "ac41497a",
   "metadata": {},
   "source": [
    "## Acknowledgments\n",
    "Thanks to Rajarshi Banerjee for creating the Notebook [Implementation of K-Means algorithm from scratch](https://www.kaggle.com/code/banerz/implementation-of-k-means-algorithm-from-scratch), lisensed under the [Apache 2.0](https://www.apache.org/licenses/LICENSE-2.0). It inspires the majority of the content in this chapter."
   ]
  }
 ],
 "metadata": {
  "kernelspec": {
   "display_name": "Python 3 (ipykernel)",
   "language": "python",
   "name": "python3"
  },
  "language_info": {
   "codemirror_mode": {
    "name": "ipython",
    "version": 3
   },
   "file_extension": ".py",
   "mimetype": "text/x-python",
   "name": "python",
   "nbconvert_exporter": "python",
   "pygments_lexer": "ipython3",
   "version": "3.10.9"
  },
  "papermill": {
   "default_parameters": {},
   "duration": 43.044342,
   "end_time": "2022-12-31T12:36:54.399095",
   "environment_variables": {},
   "exception": null,
   "input_path": "__notebook__.ipynb",
   "output_path": "__notebook__.ipynb",
   "parameters": {},
   "start_time": "2022-12-31T12:36:11.354753",
   "version": "2.3.4"
  }
 },
 "nbformat": 4,
 "nbformat_minor": 5
}
