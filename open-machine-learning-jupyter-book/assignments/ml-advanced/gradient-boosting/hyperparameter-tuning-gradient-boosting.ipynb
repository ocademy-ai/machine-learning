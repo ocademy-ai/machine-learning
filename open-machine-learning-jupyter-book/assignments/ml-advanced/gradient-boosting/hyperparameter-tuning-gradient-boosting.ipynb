{
 "cells": [
  {
   "cell_type": "markdown",
   "metadata": {
    "papermill": {
     "duration": 0.111521,
     "end_time": "2021-10-11T12:39:47.509947",
     "exception": false,
     "start_time": "2021-10-11T12:39:47.398426",
     "status": "completed"
    },
    "tags": []
   },
   "source": [
    "# Hyperparameter tuning gradient boosting"
   ]
  },
  {
   "cell_type": "markdown",
   "metadata": {
    "papermill": {
     "duration": 0.108593,
     "end_time": "2021-10-11T12:39:47.729383",
     "exception": false,
     "start_time": "2021-10-11T12:39:47.620790",
     "status": "completed"
    },
    "tags": []
   },
   "source": [
    "## Context:\n",
    "A company which is active in Big Data and Data Science wants to hire data scientists among people who successfully pass some courses which are conducted by the company. Many people sign up for their training. Company wants to know which of these candidates really want to work for the company after training, because it helps reducing the cost and time as well as increasing the quality of training and the planning of the courses. Information related to demographics, education, experience are in hands from candidates signup and enrollment."
   ]
  },
  {
   "cell_type": "markdown",
   "metadata": {
    "papermill": {
     "duration": 0.108107,
     "end_time": "2021-10-11T12:39:47.945507",
     "exception": false,
     "start_time": "2021-10-11T12:39:47.837400",
     "status": "completed"
    },
    "tags": []
   },
   "source": [
    "## Features\n",
    "\n",
    "* enrollee_id : Unique ID for candidate\n",
    "* city: City code\n",
    "* city_ development _index : Developement index of the city (scaled)\n",
    "* gender: Gender of candidate\n",
    "* relevent_experience: Relevant experience of candidate\n",
    "* enrolled_university: Type of University course enrolled if any\n",
    "* education_level: Education level of candidate\n",
    "* major_discipline :Education major discipline of candidate\n",
    "* experience: Candidate total experience in years\n",
    "* company_size: No of employees in current employer's company\n",
    "* company_type : Type of current employer\n",
    "* lastnewjob: Difference in years between previous job and current job\n",
    "* training_hours: training hours completed\n",
    "* target: 0 – Not looking for job change, 1 – Looking for a job change"
   ]
  },
  {
   "cell_type": "markdown",
   "metadata": {
    "papermill": {
     "duration": 0.107639,
     "end_time": "2021-10-11T12:39:48.162113",
     "exception": false,
     "start_time": "2021-10-11T12:39:48.054474",
     "status": "completed"
    },
    "tags": []
   },
   "source": [
    "## Plan:\n",
    "\n",
    "We will treat each column in two phases:\n",
    "### Data preprocessing:\n",
    "* Imputing missing values.\n",
    "* Handling categorical data.\n",
    "    \n",
    "### Data Visualization\n",
    "\n",
    "### Model Creation:\n",
    "\n",
    "Then we will test several model and choose the one with the best performance:\n",
    "* Models: Logistic Regression-SVM-Gradient Boosting-KNN-RandomForest-XGBoost classifier.\n",
    "* Hyperparameter tuning.\n",
    "* Use the model to predict target column in Test set."
   ]
  },
  {
   "cell_type": "markdown",
   "metadata": {
    "jp-MarkdownHeadingCollapsed": true,
    "tags": []
   },
   "source": [
    "## Imports¶"
   ]
  },
  {
   "cell_type": "markdown",
   "metadata": {
    "papermill": {
     "duration": 0.108452,
     "end_time": "2021-10-11T12:39:48.377981",
     "exception": false,
     "start_time": "2021-10-11T12:39:48.269529",
     "status": "completed"
    },
    "tags": []
   },
   "source": [
    "Lets get started, first lets import our typical libraries:"
   ]
  },
  {
   "cell_type": "code",
   "execution_count": null,
   "metadata": {
    "_cell_guid": "b1076dfc-b9ad-4769-8c92-a6c4dae69d19",
    "_uuid": "8f2839f25d086af736a60e9eeb907d3b93b6e0e5",
    "papermill": {
     "duration": 1.123946,
     "end_time": "2021-10-11T12:39:49.610495",
     "exception": false,
     "start_time": "2021-10-11T12:39:48.486549",
     "status": "completed"
    },
    "tags": []
   },
   "outputs": [],
   "source": [
    "import numpy as np\n",
    "import pandas as pd \n",
    "import seaborn as sns\n",
    "import matplotlib.pyplot as plt\n",
    "import warnings\n",
    "\n",
    "warnings.filterwarnings(\"ignore\")\n",
    "\n",
    "import os\n",
    "for dirname, _, filenames in os.walk('/kaggle/input'):\n",
    "    for filename in filenames:\n",
    "        print(os.path.join(dirname, filename))\n",
    "print(\"Setup complete\")"
   ]
  },
  {
   "cell_type": "markdown",
   "metadata": {
    "jp-MarkdownHeadingCollapsed": true,
    "tags": []
   },
   "source": [
    "## Loading the data"
   ]
  },
  {
   "cell_type": "markdown",
   "metadata": {
    "papermill": {
     "duration": 0.119831,
     "end_time": "2021-10-11T12:39:49.840552",
     "exception": false,
     "start_time": "2021-10-11T12:39:49.720721",
     "status": "completed"
    },
    "tags": []
   },
   "source": [
    "Let's import our train and test data."
   ]
  },
  {
   "cell_type": "code",
   "execution_count": null,
   "metadata": {
    "_cell_guid": "79c7e3d0-c299-4dcb-8224-4455121ee9b0",
    "_uuid": "d629ff2d2480ee46fbb7e2d37f6b5fab8052498a",
    "papermill": {
     "duration": 0.222422,
     "end_time": "2021-10-11T12:39:50.184733",
     "exception": false,
     "start_time": "2021-10-11T12:39:49.962311",
     "status": "completed"
    },
    "tags": []
   },
   "outputs": [],
   "source": [
    "#Data\n",
    "train = pd.read_csv(\"../../../assets/data/aug_train.csv\")\n",
    "\n",
    "#testing data\n",
    "#test = pd.read_csv('../input/hr-analytics-job-change-of-data-scientists/aug_test.csv')"
   ]
  },
  {
   "cell_type": "markdown",
   "metadata": {
    "papermill": {
     "duration": 0.107965,
     "end_time": "2021-10-11T12:39:50.403429",
     "exception": false,
     "start_time": "2021-10-11T12:39:50.295464",
     "status": "completed"
    },
    "tags": []
   },
   "source": [
    "Let's take a closer look to our data."
   ]
  },
  {
   "cell_type": "code",
   "execution_count": null,
   "metadata": {
    "papermill": {
     "duration": 0.14597,
     "end_time": "2021-10-11T12:39:50.658257",
     "exception": false,
     "start_time": "2021-10-11T12:39:50.512287",
     "status": "completed"
    },
    "tags": []
   },
   "outputs": [],
   "source": [
    "train.head()"
   ]
  },
  {
   "cell_type": "markdown",
   "metadata": {
    "papermill": {
     "duration": 0.111489,
     "end_time": "2021-10-11T12:39:50.880026",
     "exception": false,
     "start_time": "2021-10-11T12:39:50.768537",
     "status": "completed"
    },
    "tags": []
   },
   "source": [
    "From the first glence we can see that most of the data is categorical, and we have several missing values in different columns.\n",
    "Let's take a look at the number of missing values in each column:"
   ]
  },
  {
   "cell_type": "code",
   "execution_count": null,
   "metadata": {
    "papermill": {
     "duration": 0.139712,
     "end_time": "2021-10-11T12:39:51.129704",
     "exception": false,
     "start_time": "2021-10-11T12:39:50.989992",
     "status": "completed"
    },
    "tags": []
   },
   "outputs": [],
   "source": [
    "print(\"Train data missing values: \\n\",train.isna().sum())"
   ]
  },
  {
   "cell_type": "code",
   "execution_count": null,
   "metadata": {
    "papermill": {
     "duration": 0.142273,
     "end_time": "2021-10-11T12:39:51.383249",
     "exception": false,
     "start_time": "2021-10-11T12:39:51.240976",
     "status": "completed"
    },
    "tags": []
   },
   "outputs": [],
   "source": [
    "train.count()"
   ]
  },
  {
   "cell_type": "markdown",
   "metadata": {
    "jp-MarkdownHeadingCollapsed": true,
    "tags": []
   },
   "source": [
    "## Exploratory data analysis"
   ]
  },
  {
   "cell_type": "markdown",
   "metadata": {
    "papermill": {
     "duration": 0.111753,
     "end_time": "2021-10-11T12:39:51.606759",
     "exception": false,
     "start_time": "2021-10-11T12:39:51.495006",
     "status": "completed"
    },
    "tags": []
   },
   "source": [
    "### Task 1: City"
   ]
  },
  {
   "cell_type": "code",
   "execution_count": null,
   "metadata": {
    "papermill": {
     "duration": 0.134494,
     "end_time": "2021-10-11T12:39:51.851866",
     "exception": false,
     "start_time": "2021-10-11T12:39:51.717372",
     "status": "completed"
    },
    "tags": []
   },
   "outputs": [],
   "source": [
    "train[\"city\"].unique()"
   ]
  },
  {
   "cell_type": "markdown",
   "metadata": {
    "papermill": {
     "duration": 0.114689,
     "end_time": "2021-10-11T12:39:52.097127",
     "exception": false,
     "start_time": "2021-10-11T12:39:51.982438",
     "status": "completed"
    },
    "tags": []
   },
   "source": [
    "We can see that every city has a specific number, with a prefix \"city_\", so first we have to delete the prefix then transform the data from object type to integer."
   ]
  },
  {
   "cell_type": "code",
   "execution_count": null,
   "metadata": {
    "papermill": {
     "duration": 0.133331,
     "end_time": "2021-10-11T12:39:52.346589",
     "exception": false,
     "start_time": "2021-10-11T12:39:52.213258",
     "status": "completed"
    },
    "tags": []
   },
   "outputs": [],
   "source": [
    "train['city'] = train['city'].map(lambda row: row.replace('city_',''))"
   ]
  },
  {
   "cell_type": "code",
   "execution_count": null,
   "metadata": {
    "papermill": {
     "duration": 0.127902,
     "end_time": "2021-10-11T12:39:52.589584",
     "exception": false,
     "start_time": "2021-10-11T12:39:52.461682",
     "status": "completed"
    },
    "tags": []
   },
   "outputs": [],
   "source": [
    "train['city'] = train['city'].astype(int)"
   ]
  },
  {
   "cell_type": "markdown",
   "metadata": {
    "papermill": {
     "duration": 0.113039,
     "end_time": "2021-10-11T12:39:52.822404",
     "exception": false,
     "start_time": "2021-10-11T12:39:52.709365",
     "status": "completed"
    },
    "tags": []
   },
   "source": [
    "The result of cities"
   ]
  },
  {
   "cell_type": "code",
   "execution_count": null,
   "metadata": {
    "papermill": {
     "duration": 0.129061,
     "end_time": "2021-10-11T12:39:53.066197",
     "exception": false,
     "start_time": "2021-10-11T12:39:52.937136",
     "status": "completed"
    },
    "tags": []
   },
   "outputs": [],
   "source": [
    "print(train[\"city\"].unique())\n",
    "print(\"We have {} unique variables:\".format(len(train[\"city\"].unique())))"
   ]
  },
  {
   "cell_type": "code",
   "execution_count": null,
   "metadata": {
    "papermill": {
     "duration": 0.419839,
     "end_time": "2021-10-11T12:39:53.600374",
     "exception": false,
     "start_time": "2021-10-11T12:39:53.180535",
     "status": "completed"
    },
    "tags": []
   },
   "outputs": [],
   "source": [
    "plt.figure(figsize=(16,8))\n",
    "g = sns.distplot(train.city,kde=False, color=\"red\")\n",
    "g = (g.set(xlim=(0,185),xticks=range(0,190,10)))\n",
    "plt.xlabel(\"City Number\")\n",
    "plt.ylabel(\"Distribution\")\n",
    "plt.show()"
   ]
  },
  {
   "cell_type": "code",
   "execution_count": null,
   "metadata": {
    "papermill": {
     "duration": 0.128254,
     "end_time": "2021-10-11T12:39:53.842563",
     "exception": false,
     "start_time": "2021-10-11T12:39:53.714309",
     "status": "completed"
    },
    "tags": []
   },
   "outputs": [],
   "source": [
    "print(\"Most common cities are:\\n\",train['city'].value_counts())"
   ]
  },
  {
   "cell_type": "markdown",
   "metadata": {
    "papermill": {
     "duration": 0.11615,
     "end_time": "2021-10-11T12:39:54.076687",
     "exception": false,
     "start_time": "2021-10-11T12:39:53.960537",
     "status": "completed"
    },
    "tags": []
   },
   "source": [
    "We can see that candidates from the city number **103** are the majority."
   ]
  },
  {
   "cell_type": "code",
   "execution_count": null,
   "metadata": {
    "papermill": {
     "duration": 0.158257,
     "end_time": "2021-10-11T12:39:54.351061",
     "exception": false,
     "start_time": "2021-10-11T12:39:54.192804",
     "status": "completed"
    },
    "tags": []
   },
   "outputs": [],
   "source": [
    "train.sort_values(by='city')"
   ]
  },
  {
   "cell_type": "markdown",
   "metadata": {
    "papermill": {
     "duration": 0.117552,
     "end_time": "2021-10-11T12:39:54.587575",
     "exception": false,
     "start_time": "2021-10-11T12:39:54.470023",
     "status": "completed"
    },
    "tags": []
   },
   "source": [
    "And here we can see that each city has specific city_development_index, so deleting this column won't make any difference to the model, however we can visualize what is the development index for the cities with the majority of candidates:"
   ]
  },
  {
   "cell_type": "code",
   "execution_count": null,
   "metadata": {
    "papermill": {
     "duration": 0.147039,
     "end_time": "2021-10-11T12:39:54.852385",
     "exception": false,
     "start_time": "2021-10-11T12:39:54.705346",
     "status": "completed"
    },
    "tags": []
   },
   "outputs": [],
   "source": [
    "train.loc[train.city == 103,'city_development_index']"
   ]
  },
  {
   "cell_type": "markdown",
   "metadata": {
    "papermill": {
     "duration": 0.11499,
     "end_time": "2021-10-11T12:39:55.083558",
     "exception": false,
     "start_time": "2021-10-11T12:39:54.968568",
     "status": "completed"
    },
    "tags": []
   },
   "source": [
    "So the city with the majority of candidates is a well developped city, but do we have a relationship between the city development index and the chance of the candidate looking for another job?"
   ]
  },
  {
   "cell_type": "code",
   "execution_count": null,
   "metadata": {
    "papermill": {
     "duration": 0.12564,
     "end_time": "2021-10-11T12:39:55.324174",
     "exception": false,
     "start_time": "2021-10-11T12:39:55.198534",
     "status": "completed"
    },
    "tags": []
   },
   "outputs": [],
   "source": [
    "train['city'] = train['city'].astype(np.int8)"
   ]
  },
  {
   "cell_type": "code",
   "execution_count": null,
   "metadata": {
    "papermill": {
     "duration": 0.48337,
     "end_time": "2021-10-11T12:39:55.924285",
     "exception": false,
     "start_time": "2021-10-11T12:39:55.440915",
     "status": "completed"
    },
    "tags": []
   },
   "outputs": [],
   "source": [
    "sns.lineplot(x='target', y='city_development_index',data=train)\n",
    "plt.show()"
   ]
  },
  {
   "cell_type": "markdown",
   "metadata": {
    "papermill": {
     "duration": 0.119222,
     "end_time": "2021-10-11T12:39:56.162770",
     "exception": false,
     "start_time": "2021-10-11T12:39:56.043548",
     "status": "completed"
    },
    "tags": []
   },
   "source": [
    "The candidates from cities with low development index tend to look for a job change and vice versa. Now let's just drop this column."
   ]
  },
  {
   "cell_type": "code",
   "execution_count": null,
   "metadata": {
    "papermill": {
     "duration": 0.133678,
     "end_time": "2021-10-11T12:39:56.416583",
     "exception": false,
     "start_time": "2021-10-11T12:39:56.282905",
     "status": "completed"
    },
    "tags": []
   },
   "outputs": [],
   "source": [
    "train = train.drop(labels='city_development_index', axis=1)"
   ]
  },
  {
   "cell_type": "markdown",
   "metadata": {
    "jp-MarkdownHeadingCollapsed": true,
    "papermill": {
     "duration": 0.117248,
     "end_time": "2021-10-11T12:39:56.649718",
     "exception": false,
     "start_time": "2021-10-11T12:39:56.532470",
     "status": "completed"
    },
    "tags": []
   },
   "source": [
    "### Task2: Gender"
   ]
  },
  {
   "cell_type": "markdown",
   "metadata": {
    "papermill": {
     "duration": 0.117929,
     "end_time": "2021-10-11T12:39:56.882591",
     "exception": false,
     "start_time": "2021-10-11T12:39:56.764662",
     "status": "completed"
    },
    "tags": []
   },
   "source": [
    "It is obvious we have to encode the caregorical data and take care of missing data, there are a lot of ways to handle gender missing values such as replacing them with most common gender in the dataset, deleting those rows...etc.\n",
    "But I prefer to fill the gender missing values with \"Other\" since we may have candidates identify as non-binary.\n",
    "First lets take a look at our gender column:"
   ]
  },
  {
   "cell_type": "code",
   "execution_count": null,
   "metadata": {
    "papermill": {
     "duration": 0.36981,
     "end_time": "2021-10-11T12:39:57.368265",
     "exception": false,
     "start_time": "2021-10-11T12:39:56.998455",
     "status": "completed"
    },
    "tags": []
   },
   "outputs": [],
   "source": [
    "plt.figure(figsize=(12,6))\n",
    "sns.violinplot(x='gender', y='target', palette='Set2', data=train)\n",
    "plt.show()"
   ]
  },
  {
   "cell_type": "markdown",
   "metadata": {
    "papermill": {
     "duration": 0.120082,
     "end_time": "2021-10-11T12:39:57.608820",
     "exception": false,
     "start_time": "2021-10-11T12:39:57.488738",
     "status": "completed"
    },
    "tags": []
   },
   "source": [
    "It looks like more men don't look for a job change but actually we can't conclude that from this violinplot since most of the candidates are men."
   ]
  },
  {
   "cell_type": "code",
   "execution_count": null,
   "metadata": {
    "papermill": {
     "duration": 0.270393,
     "end_time": "2021-10-11T12:39:58.000176",
     "exception": false,
     "start_time": "2021-10-11T12:39:57.729783",
     "status": "completed"
    },
    "tags": []
   },
   "outputs": [],
   "source": [
    "train['gender'].hist()\n",
    "plt.show()"
   ]
  },
  {
   "cell_type": "markdown",
   "metadata": {
    "papermill": {
     "duration": 0.117554,
     "end_time": "2021-10-11T12:39:58.235373",
     "exception": false,
     "start_time": "2021-10-11T12:39:58.117819",
     "status": "completed"
    },
    "tags": []
   },
   "source": [
    "Now let's fill the missing values with 'Other':"
   ]
  },
  {
   "cell_type": "code",
   "execution_count": null,
   "metadata": {
    "papermill": {
     "duration": 0.129002,
     "end_time": "2021-10-11T12:39:58.482050",
     "exception": false,
     "start_time": "2021-10-11T12:39:58.353048",
     "status": "completed"
    },
    "tags": []
   },
   "outputs": [],
   "source": [
    "train['gender'] = train['gender'].fillna('Other')"
   ]
  },
  {
   "cell_type": "markdown",
   "metadata": {
    "papermill": {
     "duration": 0.121775,
     "end_time": "2021-10-11T12:39:58.722757",
     "exception": false,
     "start_time": "2021-10-11T12:39:58.600982",
     "status": "completed"
    },
    "tags": []
   },
   "source": [
    "Since we don't have any missing values left in the gender column, let's encode the column, I will use for this one LabelEncoder of sklearn:"
   ]
  },
  {
   "cell_type": "code",
   "execution_count": null,
   "metadata": {
    "papermill": {
     "duration": 0.275678,
     "end_time": "2021-10-11T12:39:59.118260",
     "exception": false,
     "start_time": "2021-10-11T12:39:58.842582",
     "status": "completed"
    },
    "tags": []
   },
   "outputs": [],
   "source": [
    "from sklearn.preprocessing import LabelEncoder"
   ]
  },
  {
   "cell_type": "code",
   "execution_count": null,
   "metadata": {
    "papermill": {
     "duration": 0.137283,
     "end_time": "2021-10-11T12:39:59.376001",
     "exception": false,
     "start_time": "2021-10-11T12:39:59.238718",
     "status": "completed"
    },
    "tags": []
   },
   "outputs": [],
   "source": [
    "label_encoder = LabelEncoder()\n",
    "train[\"gender\"] = label_encoder.fit_transform(train[\"gender\"])"
   ]
  },
  {
   "cell_type": "markdown",
   "metadata": {
    "papermill": {
     "duration": 0.118133,
     "end_time": "2021-10-11T12:39:59.614780",
     "exception": false,
     "start_time": "2021-10-11T12:39:59.496647",
     "status": "completed"
    },
    "tags": []
   },
   "source": [
    "- Female : 0\n",
    "- Male : 1\n",
    "- Other : 2"
   ]
  },
  {
   "cell_type": "markdown",
   "metadata": {
    "papermill": {
     "duration": 0.122978,
     "end_time": "2021-10-11T12:39:59.855918",
     "exception": false,
     "start_time": "2021-10-11T12:39:59.732940",
     "status": "completed"
    },
    "tags": []
   },
   "source": [
    "Lets have a look at what we have achieved so far:"
   ]
  },
  {
   "cell_type": "code",
   "execution_count": null,
   "metadata": {
    "papermill": {
     "duration": 0.15171,
     "end_time": "2021-10-11T12:40:00.132777",
     "exception": false,
     "start_time": "2021-10-11T12:39:59.981067",
     "status": "completed"
    },
    "tags": []
   },
   "outputs": [],
   "source": [
    "train.isna().sum()"
   ]
  },
  {
   "cell_type": "code",
   "execution_count": null,
   "metadata": {
    "papermill": {
     "duration": 0.140544,
     "end_time": "2021-10-11T12:40:00.393048",
     "exception": false,
     "start_time": "2021-10-11T12:40:00.252504",
     "status": "completed"
    },
    "tags": []
   },
   "outputs": [],
   "source": [
    "train.head()"
   ]
  },
  {
   "cell_type": "markdown",
   "metadata": {
    "jp-MarkdownHeadingCollapsed": true,
    "papermill": {
     "duration": 0.120274,
     "end_time": "2021-10-11T12:40:00.634051",
     "exception": false,
     "start_time": "2021-10-11T12:40:00.513777",
     "status": "completed"
    },
    "tags": []
   },
   "source": [
    "### Task 3：Relevant experience"
   ]
  },
  {
   "cell_type": "markdown",
   "metadata": {
    "papermill": {
     "duration": 0.120551,
     "end_time": "2021-10-11T12:40:00.878085",
     "exception": false,
     "start_time": "2021-10-11T12:40:00.757534",
     "status": "completed"
    },
    "tags": []
   },
   "source": [
    "Before making any decision we have to look at the values of this column:"
   ]
  },
  {
   "cell_type": "code",
   "execution_count": null,
   "metadata": {
    "papermill": {
     "duration": 0.131698,
     "end_time": "2021-10-11T12:40:01.133078",
     "exception": false,
     "start_time": "2021-10-11T12:40:01.001380",
     "status": "completed"
    },
    "tags": []
   },
   "outputs": [],
   "source": [
    "train['relevent_experience'].unique()"
   ]
  },
  {
   "cell_type": "markdown",
   "metadata": {
    "papermill": {
     "duration": 0.12263,
     "end_time": "2021-10-11T12:40:01.376146",
     "exception": false,
     "start_time": "2021-10-11T12:40:01.253516",
     "status": "completed"
    },
    "tags": []
   },
   "source": [
    "So it only has two values, and no missing data."
   ]
  },
  {
   "cell_type": "markdown",
   "metadata": {},
   "source": [
    "Encoding:"
   ]
  },
  {
   "cell_type": "code",
   "execution_count": null,
   "metadata": {},
   "outputs": [],
   "source": [
    "train[\"relevent_experience\"] = train[\"relevent_experience\"].map({\"Has relevent experience\":1, \"No relevent experience\":0})"
   ]
  },
  {
   "cell_type": "markdown",
   "metadata": {
    "papermill": {
     "duration": 0.119476,
     "end_time": "2021-10-11T12:40:01.617125",
     "exception": false,
     "start_time": "2021-10-11T12:40:01.497649",
     "status": "completed"
    },
    "tags": []
   },
   "source": [
    "### Encoding:"
   ]
  },
  {
   "cell_type": "code",
   "execution_count": null,
   "metadata": {
    "execution": {
     "iopub.execute_input": "2021-10-11T12:40:01.919129Z",
     "iopub.status.busy": "2021-10-11T12:40:01.918448Z",
     "iopub.status.idle": "2021-10-11T12:40:01.922837Z",
     "shell.execute_reply": "2021-10-11T12:40:01.923372Z"
    },
    "papermill": {
     "duration": 0.138747,
     "end_time": "2021-10-11T12:40:01.923544",
     "exception": false,
     "start_time": "2021-10-11T12:40:01.784797",
     "status": "completed"
    },
    "tags": []
   },
   "outputs": [],
   "source": [
    "train[\"relevent_experience\"] = train[\"relevent_experience\"].map({\"Has relevent experience\":1, \"No relevent experience\":0})"
   ]
  },
  {
   "cell_type": "markdown",
   "metadata": {
    "jp-MarkdownHeadingCollapsed": true,
    "papermill": {
     "duration": 0.144897,
     "end_time": "2021-10-11T12:40:02.196675",
     "exception": false,
     "start_time": "2021-10-11T12:40:02.051778",
     "status": "completed"
    },
    "tags": []
   },
   "source": [
    "### Task 4: Enrolled university"
   ]
  },
  {
   "cell_type": "code",
   "execution_count": null,
   "metadata": {
    "papermill": {
     "duration": 0.149725,
     "end_time": "2021-10-11T12:40:02.477481",
     "exception": false,
     "start_time": "2021-10-11T12:40:02.327756",
     "status": "completed"
    },
    "tags": []
   },
   "outputs": [],
   "source": [
    "train['enrolled_university'].unique()"
   ]
  },
  {
   "cell_type": "markdown",
   "metadata": {
    "papermill": {
     "duration": 0.123868,
     "end_time": "2021-10-11T12:40:02.728055",
     "exception": false,
     "start_time": "2021-10-11T12:40:02.604187",
     "status": "completed"
    },
    "tags": []
   },
   "source": [
    "This column has missing values, lets take care of them before encoding."
   ]
  },
  {
   "cell_type": "code",
   "execution_count": null,
   "metadata": {
    "papermill": {
     "duration": 0.276945,
     "end_time": "2021-10-11T12:40:03.157250",
     "exception": false,
     "start_time": "2021-10-11T12:40:02.880305",
     "status": "completed"
    },
    "tags": []
   },
   "outputs": [],
   "source": [
    "sns.countplot(x='enrolled_university', data=train)\n",
    "plt.show()"
   ]
  },
  {
   "cell_type": "markdown",
   "metadata": {
    "papermill": {
     "duration": 0.121317,
     "end_time": "2021-10-11T12:40:03.401671",
     "exception": false,
     "start_time": "2021-10-11T12:40:03.280354",
     "status": "completed"
    },
    "tags": []
   },
   "source": [
    "Most of the candidates had no university enrollment"
   ]
  },
  {
   "cell_type": "code",
   "execution_count": null,
   "metadata": {
    "papermill": {
     "duration": 0.494543,
     "end_time": "2021-10-11T12:40:04.019821",
     "exception": false,
     "start_time": "2021-10-11T12:40:03.525278",
     "status": "completed"
    },
    "tags": []
   },
   "outputs": [],
   "source": [
    "sns.lineplot(x='enrolled_university', y='target', palette='Set2', data=train)\n",
    "plt.show()"
   ]
  },
  {
   "cell_type": "markdown",
   "metadata": {
    "papermill": {
     "duration": 0.122319,
     "end_time": "2021-10-11T12:40:04.267685",
     "exception": false,
     "start_time": "2021-10-11T12:40:04.145366",
     "status": "completed"
    },
    "tags": []
   },
   "source": [
    "We can see that most of candidates had no enrollment more likely aren't looking for a job change."
   ]
  },
  {
   "cell_type": "markdown",
   "metadata": {
    "papermill": {
     "duration": 0.123183,
     "end_time": "2021-10-11T12:40:04.515130",
     "exception": false,
     "start_time": "2021-10-11T12:40:04.391947",
     "status": "completed"
    },
    "tags": []
   },
   "source": [
    "We can't tell if the missing data is left out or the candidates had no enrollment, but also we don't want to create a new value (like 'OTHER') because it can create a pattern that doesn't exist.\n",
    "I will fill the missing values with the no_enrollment value."
   ]
  },
  {
   "cell_type": "code",
   "execution_count": null,
   "metadata": {
    "papermill": {
     "duration": 0.136225,
     "end_time": "2021-10-11T12:40:04.774604",
     "exception": false,
     "start_time": "2021-10-11T12:40:04.638379",
     "status": "completed"
    },
    "tags": []
   },
   "outputs": [],
   "source": [
    "train[\"enrolled_university\"]=train[\"enrolled_university\"].fillna('no_enrollment')"
   ]
  },
  {
   "cell_type": "markdown",
   "metadata": {
    "papermill": {
     "duration": 0.12593,
     "end_time": "2021-10-11T12:40:05.023792",
     "exception": false,
     "start_time": "2021-10-11T12:40:04.897862",
     "status": "completed"
    },
    "tags": []
   },
   "source": [
    "Encode:"
   ]
  },
  {
   "cell_type": "code",
   "execution_count": null,
   "metadata": {
    "papermill": {
     "duration": 0.140388,
     "end_time": "2021-10-11T12:40:05.287028",
     "exception": false,
     "start_time": "2021-10-11T12:40:05.146640",
     "status": "completed"
    },
    "tags": []
   },
   "outputs": [],
   "source": [
    "train[\"enrolled_university\"] = label_encoder.fit_transform(train[\"enrolled_university\"])"
   ]
  },
  {
   "cell_type": "markdown",
   "metadata": {
    "jp-MarkdownHeadingCollapsed": true,
    "papermill": {
     "duration": 0.124898,
     "end_time": "2021-10-11T12:40:05.535095",
     "exception": false,
     "start_time": "2021-10-11T12:40:05.410197",
     "status": "completed"
    },
    "tags": []
   },
   "source": [
    "### Task 5: Education level"
   ]
  },
  {
   "cell_type": "code",
   "execution_count": null,
   "metadata": {
    "papermill": {
     "duration": 0.135422,
     "end_time": "2021-10-11T12:40:05.794027",
     "exception": false,
     "start_time": "2021-10-11T12:40:05.658605",
     "status": "completed"
    },
    "tags": []
   },
   "outputs": [],
   "source": [
    "train['education_level'].unique()"
   ]
  },
  {
   "cell_type": "code",
   "execution_count": null,
   "metadata": {
    "papermill": {
     "duration": 0.281381,
     "end_time": "2021-10-11T12:40:06.199780",
     "exception": false,
     "start_time": "2021-10-11T12:40:05.918399",
     "status": "completed"
    },
    "tags": []
   },
   "outputs": [],
   "source": [
    "train['education_level'].hist()\n",
    "plt.show()"
   ]
  },
  {
   "cell_type": "markdown",
   "metadata": {
    "papermill": {
     "duration": 0.129647,
     "end_time": "2021-10-11T12:40:06.458409",
     "exception": false,
     "start_time": "2021-10-11T12:40:06.328762",
     "status": "completed"
    },
    "tags": []
   },
   "source": [
    "Most candidates are graduates."
   ]
  },
  {
   "cell_type": "code",
   "execution_count": null,
   "metadata": {
    "papermill": {
     "duration": 0.568255,
     "end_time": "2021-10-11T12:40:07.152290",
     "exception": false,
     "start_time": "2021-10-11T12:40:06.584035",
     "status": "completed"
    },
    "tags": []
   },
   "outputs": [],
   "source": [
    "sns.lineplot(x='education_level', y='target', palette='Set2', data=train)\n",
    "plt.show()"
   ]
  },
  {
   "cell_type": "markdown",
   "metadata": {
    "papermill": {
     "duration": 0.126914,
     "end_time": "2021-10-11T12:40:07.406312",
     "exception": false,
     "start_time": "2021-10-11T12:40:07.279398",
     "status": "completed"
    },
    "tags": []
   },
   "source": [
    "Graduates and Masters are most likely to look for a job change, but people with Phd or primary school aren't."
   ]
  },
  {
   "cell_type": "code",
   "execution_count": null,
   "metadata": {
    "papermill": {
     "duration": 0.139551,
     "end_time": "2021-10-11T12:40:07.675570",
     "exception": false,
     "start_time": "2021-10-11T12:40:07.536019",
     "status": "completed"
    },
    "tags": []
   },
   "outputs": [],
   "source": [
    "train[\"education_level\"]=train[\"education_level\"].fillna('Other')"
   ]
  },
  {
   "cell_type": "code",
   "execution_count": null,
   "metadata": {
    "papermill": {
     "duration": 0.147233,
     "end_time": "2021-10-11T12:40:07.949938",
     "exception": false,
     "start_time": "2021-10-11T12:40:07.802705",
     "status": "completed"
    },
    "tags": []
   },
   "outputs": [],
   "source": [
    "train[\"education_level\"] = label_encoder.fit_transform(train[\"education_level\"])"
   ]
  },
  {
   "cell_type": "markdown",
   "metadata": {
    "jp-MarkdownHeadingCollapsed": true,
    "papermill": {
     "duration": 0.129273,
     "end_time": "2021-10-11T12:40:08.208497",
     "exception": false,
     "start_time": "2021-10-11T12:40:08.079224",
     "status": "completed"
    },
    "tags": []
   },
   "source": [
    "### Task 6: Major discipline"
   ]
  },
  {
   "cell_type": "code",
   "execution_count": null,
   "metadata": {
    "papermill": {
     "duration": 0.143109,
     "end_time": "2021-10-11T12:40:08.480167",
     "exception": false,
     "start_time": "2021-10-11T12:40:08.337058",
     "status": "completed"
    },
    "tags": []
   },
   "outputs": [],
   "source": [
    "train['major_discipline'].unique()"
   ]
  },
  {
   "cell_type": "markdown",
   "metadata": {
    "papermill": {
     "duration": 0.12827,
     "end_time": "2021-10-11T12:40:08.737121",
     "exception": false,
     "start_time": "2021-10-11T12:40:08.608851",
     "status": "completed"
    },
    "tags": []
   },
   "source": [
    "**STEM:** Science, technology, engineering, and mathematics"
   ]
  },
  {
   "cell_type": "code",
   "execution_count": null,
   "metadata": {
    "papermill": {
     "duration": 0.289589,
     "end_time": "2021-10-11T12:40:09.154723",
     "exception": false,
     "start_time": "2021-10-11T12:40:08.865134",
     "status": "completed"
    },
    "tags": []
   },
   "outputs": [],
   "source": [
    "train['major_discipline'].hist()"
   ]
  },
  {
   "cell_type": "markdown",
   "metadata": {
    "papermill": {
     "duration": 0.127675,
     "end_time": "2021-10-11T12:40:09.409720",
     "exception": false,
     "start_time": "2021-10-11T12:40:09.282045",
     "status": "completed"
    },
    "tags": []
   },
   "source": [
    "Most of our candidates are STEM majors."
   ]
  },
  {
   "cell_type": "code",
   "execution_count": null,
   "metadata": {
    "papermill": {
     "duration": 0.143544,
     "end_time": "2021-10-11T12:40:09.682015",
     "exception": false,
     "start_time": "2021-10-11T12:40:09.538471",
     "status": "completed"
    },
    "tags": []
   },
   "outputs": [],
   "source": [
    "train['major_discipline'] = train['major_discipline'].fillna('Other')"
   ]
  },
  {
   "cell_type": "code",
   "execution_count": null,
   "metadata": {
    "papermill": {
     "duration": 0.14415,
     "end_time": "2021-10-11T12:40:09.959536",
     "exception": false,
     "start_time": "2021-10-11T12:40:09.815386",
     "status": "completed"
    },
    "tags": []
   },
   "outputs": [],
   "source": [
    "train[\"major_discipline\"] = label_encoder.fit_transform(train[\"major_discipline\"])"
   ]
  },
  {
   "cell_type": "code",
   "execution_count": null,
   "metadata": {
    "papermill": {
     "duration": 0.148303,
     "end_time": "2021-10-11T12:40:10.237760",
     "exception": false,
     "start_time": "2021-10-11T12:40:10.089457",
     "status": "completed"
    },
    "tags": []
   },
   "outputs": [],
   "source": [
    "train.head()"
   ]
  },
  {
   "cell_type": "markdown",
   "metadata": {
    "jp-MarkdownHeadingCollapsed": true,
    "papermill": {
     "duration": 0.130695,
     "end_time": "2021-10-11T12:40:10.498087",
     "exception": false,
     "start_time": "2021-10-11T12:40:10.367392",
     "status": "completed"
    },
    "tags": []
   },
   "source": [
    "### Task 7: Experience"
   ]
  },
  {
   "cell_type": "markdown",
   "metadata": {
    "papermill": {
     "duration": 0.131063,
     "end_time": "2021-10-11T12:40:10.759178",
     "exception": false,
     "start_time": "2021-10-11T12:40:10.628115",
     "status": "completed"
    },
    "tags": []
   },
   "source": [
    "The experience variable is an object indicating the minimum or maximum years of experience a candidate had, so deleting the operators won't make a big difference."
   ]
  },
  {
   "cell_type": "markdown",
   "metadata": {
    "papermill": {
     "duration": 0.134626,
     "end_time": "2021-10-11T12:40:11.025744",
     "exception": false,
     "start_time": "2021-10-11T12:40:10.891118",
     "status": "completed"
    },
    "tags": []
   },
   "source": [
    "First we have to convert the column to string."
   ]
  },
  {
   "cell_type": "code",
   "execution_count": null,
   "metadata": {
    "papermill": {
     "duration": 0.148807,
     "end_time": "2021-10-11T12:40:11.307569",
     "exception": false,
     "start_time": "2021-10-11T12:40:11.158762",
     "status": "completed"
    },
    "tags": []
   },
   "outputs": [],
   "source": [
    "train['experience'] = train['experience'].astype(str)"
   ]
  },
  {
   "cell_type": "code",
   "execution_count": null,
   "metadata": {
    "papermill": {
     "duration": 0.160274,
     "end_time": "2021-10-11T12:40:11.605100",
     "exception": false,
     "start_time": "2021-10-11T12:40:11.444826",
     "status": "completed"
    },
    "tags": []
   },
   "outputs": [],
   "source": [
    "train['experience'] = train['experience'].apply(lambda col: col.replace('>',''))\n",
    "train['experience'] = train['experience'].apply(lambda col: col.replace('<',''))"
   ]
  },
  {
   "cell_type": "markdown",
   "metadata": {
    "papermill": {
     "duration": 0.132397,
     "end_time": "2021-10-11T12:40:11.869513",
     "exception": false,
     "start_time": "2021-10-11T12:40:11.737116",
     "status": "completed"
    },
    "tags": []
   },
   "source": [
    "Delete the symbols."
   ]
  },
  {
   "cell_type": "code",
   "execution_count": null,
   "metadata": {
    "papermill": {
     "duration": 0.155384,
     "end_time": "2021-10-11T12:40:12.155993",
     "exception": false,
     "start_time": "2021-10-11T12:40:12.000609",
     "status": "completed"
    },
    "tags": []
   },
   "outputs": [],
   "source": [
    "train.head()"
   ]
  },
  {
   "cell_type": "markdown",
   "metadata": {
    "papermill": {
     "duration": 0.132408,
     "end_time": "2021-10-11T12:40:12.422271",
     "exception": false,
     "start_time": "2021-10-11T12:40:12.289863",
     "status": "completed"
    },
    "tags": []
   },
   "source": [
    "Lets fill the missing values with 0."
   ]
  },
  {
   "cell_type": "code",
   "execution_count": null,
   "metadata": {
    "papermill": {
     "duration": 0.149454,
     "end_time": "2021-10-11T12:40:12.708123",
     "exception": false,
     "start_time": "2021-10-11T12:40:12.558669",
     "status": "completed"
    },
    "tags": []
   },
   "outputs": [],
   "source": [
    "train['experience'] = train['experience'].apply(lambda col: col.replace('nan','0'))"
   ]
  },
  {
   "cell_type": "markdown",
   "metadata": {
    "papermill": {
     "duration": 0.134873,
     "end_time": "2021-10-11T12:40:12.976499",
     "exception": false,
     "start_time": "2021-10-11T12:40:12.841626",
     "status": "completed"
    },
    "tags": []
   },
   "source": [
    "Convert the values to Integer."
   ]
  },
  {
   "cell_type": "code",
   "execution_count": null,
   "metadata": {
    "papermill": {
     "duration": 0.162793,
     "end_time": "2021-10-11T12:40:13.277498",
     "exception": false,
     "start_time": "2021-10-11T12:40:13.114705",
     "status": "completed"
    },
    "tags": []
   },
   "outputs": [],
   "source": [
    "train['experience'] = pd.to_numeric(train['experience'])"
   ]
  },
  {
   "cell_type": "markdown",
   "metadata": {
    "jp-MarkdownHeadingCollapsed": true,
    "papermill": {
     "duration": 0.141444,
     "end_time": "2021-10-11T12:40:13.549227",
     "exception": false,
     "start_time": "2021-10-11T12:40:13.407783",
     "status": "completed"
    },
    "tags": []
   },
   "source": [
    "### Task 8:Company size"
   ]
  },
  {
   "cell_type": "code",
   "execution_count": null,
   "metadata": {
    "papermill": {
     "duration": 0.164101,
     "end_time": "2021-10-11T12:40:13.853634",
     "exception": false,
     "start_time": "2021-10-11T12:40:13.689533",
     "status": "completed"
    },
    "tags": []
   },
   "outputs": [],
   "source": [
    "train['company_size'].unique()"
   ]
  },
  {
   "cell_type": "markdown",
   "metadata": {
    "papermill": {
     "duration": 0.139655,
     "end_time": "2021-10-11T12:40:14.152991",
     "exception": false,
     "start_time": "2021-10-11T12:40:14.013336",
     "status": "completed"
    },
    "tags": []
   },
   "source": [
    "We have 5938 missing values in the company_size column, before encoding categorical data we have to handle the missing values."
   ]
  },
  {
   "cell_type": "code",
   "execution_count": null,
   "metadata": {
    "papermill": {
     "duration": 0.295466,
     "end_time": "2021-10-11T12:40:14.581595",
     "exception": false,
     "start_time": "2021-10-11T12:40:14.286129",
     "status": "completed"
    },
    "tags": []
   },
   "outputs": [],
   "source": [
    "sns.countplot(y='company_size', data=train)\n",
    "plt.show()"
   ]
  },
  {
   "cell_type": "markdown",
   "metadata": {
    "papermill": {
     "duration": 0.131716,
     "end_time": "2021-10-11T12:40:14.846712",
     "exception": false,
     "start_time": "2021-10-11T12:40:14.714996",
     "status": "completed"
    },
    "tags": []
   },
   "source": [
    "#### We can see that most candidates work in small companies (between 50-500)"
   ]
  },
  {
   "cell_type": "markdown",
   "metadata": {
    "papermill": {
     "duration": 0.13213,
     "end_time": "2021-10-11T12:40:15.110875",
     "exception": false,
     "start_time": "2021-10-11T12:40:14.978745",
     "status": "completed"
    },
    "tags": []
   },
   "source": [
    "Identify each interval with a number:"
   ]
  },
  {
   "cell_type": "code",
   "execution_count": null,
   "metadata": {
    "papermill": {
     "duration": 0.150543,
     "end_time": "2021-10-11T12:40:15.393177",
     "exception": false,
     "start_time": "2021-10-11T12:40:15.242634",
     "status": "completed"
    },
    "tags": []
   },
   "outputs": [],
   "source": [
    "train['company_size'] = train['company_size'].map({\"50-99\":0, \"<10\":1, \"10000+\":2, \"5000-9999\":3, \"1000-4999\":4, \"10/49\":5, \"100-500\":6, \"500-999\":7})"
   ]
  },
  {
   "cell_type": "code",
   "execution_count": null,
   "metadata": {
    "papermill": {
     "duration": 0.14328,
     "end_time": "2021-10-11T12:40:15.710849",
     "exception": false,
     "start_time": "2021-10-11T12:40:15.567569",
     "status": "completed"
    },
    "tags": []
   },
   "outputs": [],
   "source": [
    "train.shape"
   ]
  },
  {
   "cell_type": "markdown",
   "metadata": {
    "papermill": {
     "duration": 0.137938,
     "end_time": "2021-10-11T12:40:15.982935",
     "exception": false,
     "start_time": "2021-10-11T12:40:15.844997",
     "status": "completed"
    },
    "tags": []
   },
   "source": [
    "30% of candidates didn't mention if they had experience or not, so we will assume that these candidates have no experience."
   ]
  },
  {
   "cell_type": "code",
   "execution_count": null,
   "metadata": {
    "papermill": {
     "duration": 0.14103,
     "end_time": "2021-10-11T12:40:16.261744",
     "exception": false,
     "start_time": "2021-10-11T12:40:16.120714",
     "status": "completed"
    },
    "tags": []
   },
   "outputs": [],
   "source": [
    "train['company_size'] = train['company_size'].fillna(8)"
   ]
  },
  {
   "cell_type": "markdown",
   "metadata": {
    "jp-MarkdownHeadingCollapsed": true,
    "papermill": {
     "duration": 0.132403,
     "end_time": "2021-10-11T12:40:16.528454",
     "exception": false,
     "start_time": "2021-10-11T12:40:16.396051",
     "status": "completed"
    },
    "tags": []
   },
   "source": [
    "### Task 9:Company type"
   ]
  },
  {
   "cell_type": "code",
   "execution_count": null,
   "metadata": {
    "papermill": {
     "duration": 0.288882,
     "end_time": "2021-10-11T12:40:16.950190",
     "exception": false,
     "start_time": "2021-10-11T12:40:16.661308",
     "status": "completed"
    },
    "tags": []
   },
   "outputs": [],
   "source": [
    "sns.countplot(y='company_type', data=train)\n",
    "plt.show()"
   ]
  },
  {
   "cell_type": "markdown",
   "metadata": {
    "papermill": {
     "duration": 0.134207,
     "end_time": "2021-10-11T12:40:17.220146",
     "exception": false,
     "start_time": "2021-10-11T12:40:17.085939",
     "status": "completed"
    },
    "tags": []
   },
   "source": [
    "Most of candidates work in Private limited company type (pvt ltd)"
   ]
  },
  {
   "cell_type": "code",
   "execution_count": null,
   "metadata": {
    "papermill": {
     "duration": 0.149053,
     "end_time": "2021-10-11T12:40:17.503135",
     "exception": false,
     "start_time": "2021-10-11T12:40:17.354082",
     "status": "completed"
    },
    "tags": []
   },
   "outputs": [],
   "source": [
    "train['company_type'] = train['company_type'].map({\"Pvt Ltd\":0, \"Funded Startup\":1, \"Early Stage Startup\":2, \"Public Sector\":3, \"NGO\":4, \"Other\":5})"
   ]
  },
  {
   "cell_type": "code",
   "execution_count": null,
   "metadata": {
    "papermill": {
     "duration": 0.454546,
     "end_time": "2021-10-11T12:40:18.092563",
     "exception": false,
     "start_time": "2021-10-11T12:40:17.638017",
     "status": "completed"
    },
    "tags": []
   },
   "outputs": [],
   "source": [
    "plt.figure(figsize=(12,6))\n",
    "sns.violinplot(x='company_size', y='company_type',data=train)\n",
    "plt.show()"
   ]
  },
  {
   "cell_type": "markdown",
   "metadata": {
    "papermill": {
     "duration": 0.135786,
     "end_time": "2021-10-11T12:40:18.364725",
     "exception": false,
     "start_time": "2021-10-11T12:40:18.228939",
     "status": "completed"
    },
    "tags": []
   },
   "source": [
    "Private limited companies are of different sizes, from less than ten people to +10 000! So we can't really find a relation between company size and type.\n",
    "We will fill missing values in company_type with 0(private limited comapany)."
   ]
  },
  {
   "cell_type": "code",
   "execution_count": null,
   "metadata": {
    "papermill": {
     "duration": 0.145666,
     "end_time": "2021-10-11T12:40:18.648560",
     "exception": false,
     "start_time": "2021-10-11T12:40:18.502894",
     "status": "completed"
    },
    "tags": []
   },
   "outputs": [],
   "source": [
    "train['company_type'] = train['company_type'].fillna(0)"
   ]
  },
  {
   "cell_type": "markdown",
   "metadata": {
    "jp-MarkdownHeadingCollapsed": true,
    "papermill": {
     "duration": 0.135524,
     "end_time": "2021-10-11T12:40:18.921378",
     "exception": false,
     "start_time": "2021-10-11T12:40:18.785854",
     "status": "completed"
    },
    "tags": []
   },
   "source": [
    "### Task 10: Last new job"
   ]
  },
  {
   "cell_type": "code",
   "execution_count": null,
   "metadata": {
    "papermill": {
     "duration": 0.145871,
     "end_time": "2021-10-11T12:40:19.202921",
     "exception": false,
     "start_time": "2021-10-11T12:40:19.057050",
     "status": "completed"
    },
    "tags": []
   },
   "outputs": [],
   "source": [
    "train['last_new_job'].unique()"
   ]
  },
  {
   "cell_type": "markdown",
   "metadata": {
    "papermill": {
     "duration": 0.134747,
     "end_time": "2021-10-11T12:40:19.473123",
     "exception": false,
     "start_time": "2021-10-11T12:40:19.338376",
     "status": "completed"
    },
    "tags": []
   },
   "source": [
    "We assume that missing values are from candidates that had no job."
   ]
  },
  {
   "cell_type": "code",
   "execution_count": null,
   "metadata": {
    "papermill": {
     "duration": 0.147781,
     "end_time": "2021-10-11T12:40:19.756026",
     "exception": false,
     "start_time": "2021-10-11T12:40:19.608245",
     "status": "completed"
    },
    "tags": []
   },
   "outputs": [],
   "source": [
    "train['last_new_job'] = train['last_new_job'].fillna('never')"
   ]
  },
  {
   "cell_type": "code",
   "execution_count": null,
   "metadata": {
    "papermill": {
     "duration": 0.148144,
     "end_time": "2021-10-11T12:40:20.045018",
     "exception": false,
     "start_time": "2021-10-11T12:40:19.896874",
     "status": "completed"
    },
    "tags": []
   },
   "outputs": [],
   "source": [
    "train['last_new_job'] = train['last_new_job'].map({\"1\":1, \">4\": 5, \"never\":0, \"4\":4, \"3\":3, \"2\":2})"
   ]
  },
  {
   "cell_type": "code",
   "execution_count": null,
   "metadata": {
    "papermill": {
     "duration": 0.62848,
     "end_time": "2021-10-11T12:40:20.809115",
     "exception": false,
     "start_time": "2021-10-11T12:40:20.180635",
     "status": "completed"
    },
    "tags": []
   },
   "outputs": [],
   "source": [
    "g = sns.catplot(y=\"target\",x=\"last_new_job\",data=train, kind=\"bar\")"
   ]
  },
  {
   "cell_type": "markdown",
   "metadata": {
    "papermill": {
     "duration": 0.135817,
     "end_time": "2021-10-11T12:40:21.084449",
     "exception": false,
     "start_time": "2021-10-11T12:40:20.948632",
     "status": "completed"
    },
    "tags": []
   },
   "source": [
    "So we have taken care of all categorical data and missing values, lets take a look at what we have done so far:"
   ]
  },
  {
   "cell_type": "code",
   "execution_count": null,
   "metadata": {
    "papermill": {
     "duration": 0.15725,
     "end_time": "2021-10-11T12:40:21.378803",
     "exception": false,
     "start_time": "2021-10-11T12:40:21.221553",
     "status": "completed"
    },
    "tags": []
   },
   "outputs": [],
   "source": [
    "train.head()"
   ]
  },
  {
   "cell_type": "code",
   "execution_count": null,
   "metadata": {
    "papermill": {
     "duration": 0.149124,
     "end_time": "2021-10-11T12:40:21.666805",
     "exception": false,
     "start_time": "2021-10-11T12:40:21.517681",
     "status": "completed"
    },
    "tags": []
   },
   "outputs": [],
   "source": [
    "train.dtypes"
   ]
  },
  {
   "cell_type": "markdown",
   "metadata": {
    "papermill": {
     "duration": 0.138197,
     "end_time": "2021-10-11T12:40:21.946374",
     "exception": false,
     "start_time": "2021-10-11T12:40:21.808177",
     "status": "completed"
    },
    "tags": []
   },
   "source": [
    "### Task 11: Pre modeling steps"
   ]
  },
  {
   "cell_type": "code",
   "execution_count": null,
   "metadata": {
    "papermill": {
     "duration": 0.146591,
     "end_time": "2021-10-11T12:40:22.233307",
     "exception": false,
     "start_time": "2021-10-11T12:40:22.086716",
     "status": "completed"
    },
    "tags": []
   },
   "outputs": [],
   "source": [
    "pred = train['target']"
   ]
  },
  {
   "cell_type": "code",
   "execution_count": null,
   "metadata": {
    "papermill": {
     "duration": 0.148449,
     "end_time": "2021-10-11T12:40:22.522501",
     "exception": false,
     "start_time": "2021-10-11T12:40:22.374052",
     "status": "completed"
    },
    "tags": []
   },
   "outputs": [],
   "source": [
    "train = train.drop(labels='target', axis=1)"
   ]
  },
  {
   "cell_type": "code",
   "execution_count": null,
   "metadata": {
    "papermill": {
     "duration": 0.148541,
     "end_time": "2021-10-11T12:40:22.811359",
     "exception": false,
     "start_time": "2021-10-11T12:40:22.662818",
     "status": "completed"
    },
    "tags": []
   },
   "outputs": [],
   "source": [
    "train = train.astype(np.int8)"
   ]
  },
  {
   "cell_type": "markdown",
   "metadata": {
    "papermill": {
     "duration": 0.139162,
     "end_time": "2021-10-11T12:40:23.089439",
     "exception": false,
     "start_time": "2021-10-11T12:40:22.950277",
     "status": "completed"
    },
    "tags": []
   },
   "source": [
    "## Models testing"
   ]
  },
  {
   "cell_type": "code",
   "execution_count": null,
   "metadata": {
    "papermill": {
     "duration": 1.317107,
     "end_time": "2021-10-11T12:40:24.545103",
     "exception": false,
     "start_time": "2021-10-11T12:40:23.227996",
     "status": "completed"
    },
    "tags": []
   },
   "outputs": [],
   "source": [
    "from sklearn.pipeline import Pipeline\n",
    "from sklearn import svm\n",
    "from sklearn.linear_model import LogisticRegression\n",
    "from sklearn.ensemble import RandomForestClassifier, AdaBoostClassifier\n",
    "import xgboost as xgb\n",
    "from sklearn.neighbors import KNeighborsClassifier\n",
    "from sklearn.ensemble import GradientBoostingClassifier\n",
    "from sklearn import metrics\n",
    "from sklearn.model_selection import KFold, cross_val_score, train_test_split"
   ]
  },
  {
   "cell_type": "markdown",
   "metadata": {
    "papermill": {
     "duration": 0.153391,
     "end_time": "2021-10-11T12:40:24.838226",
     "exception": false,
     "start_time": "2021-10-11T12:40:24.684835",
     "status": "completed"
    },
    "tags": []
   },
   "source": [
    "Lets try different models and see what works best:"
   ]
  },
  {
   "cell_type": "code",
   "execution_count": null,
   "metadata": {
    "papermill": {
     "duration": 0.148242,
     "end_time": "2021-10-11T12:40:25.143567",
     "exception": false,
     "start_time": "2021-10-11T12:40:24.995325",
     "status": "completed"
    },
    "tags": []
   },
   "outputs": [],
   "source": [
    "KFold_Score = pd.DataFrame()\n",
    "classifiers = ['Linear SVM', 'LogisticRegression', 'RandomForestClassifier', 'XGBoostClassifier','GradientBoostingClassifier']\n",
    "models = [svm.SVC(kernel='linear'),\n",
    "          LogisticRegression(max_iter = 1000),\n",
    "          RandomForestClassifier(n_estimators=200, random_state=0),\n",
    "          xgb.XGBClassifier(n_estimators=100),\n",
    "          GradientBoostingClassifier(random_state=0)\n",
    "         ]"
   ]
  },
  {
   "cell_type": "code",
   "execution_count": null,
   "metadata": {
    "papermill": {
     "duration": 0.145124,
     "end_time": "2021-10-11T12:40:25.426662",
     "exception": false,
     "start_time": "2021-10-11T12:40:25.281538",
     "status": "completed"
    },
    "tags": []
   },
   "outputs": [],
   "source": [
    "j = 0\n",
    "for i in models:\n",
    "    model = i\n",
    "    cv = KFold(n_splits=5, random_state=0, shuffle=True)\n",
    "    KFold_Score[classifiers[j]] = (cross_val_score(model, train, np.ravel(pred), scoring = 'accuracy', cv=cv))\n",
    "    j = j+1"
   ]
  },
  {
   "cell_type": "code",
   "execution_count": null,
   "metadata": {
    "papermill": {
     "duration": 0.144786,
     "end_time": "2021-10-11T12:40:25.709287",
     "exception": false,
     "start_time": "2021-10-11T12:40:25.564501",
     "status": "completed"
    },
    "tags": []
   },
   "outputs": [],
   "source": [
    "mean = pd.DataFrame(KFold_Score.mean(), index= classifiers)\n",
    "KFold_Score = pd.concat([KFold_Score,mean.T])\n",
    "KFold_Score.index=['Fold 1','Fold 2','Fold 3','Fold 4','Fold 5','Mean']\n",
    "KFold_Score.T.sort_values(by=['Mean'], ascending = False)"
   ]
  },
  {
   "cell_type": "markdown",
   "metadata": {
    "papermill": {
     "duration": 0.141239,
     "end_time": "2021-10-11T12:40:25.993843",
     "exception": false,
     "start_time": "2021-10-11T12:40:25.852604",
     "status": "completed"
    },
    "tags": []
   },
   "source": [
    "Obviously,Gradient Boosting gives the best result."
   ]
  },
  {
   "cell_type": "markdown",
   "metadata": {
    "papermill": {
     "duration": 0.139093,
     "end_time": "2021-10-11T12:40:26.553536",
     "exception": false,
     "start_time": "2021-10-11T12:40:26.414443",
     "status": "completed"
    },
    "tags": []
   },
   "source": [
    "## Boosting:"
   ]
  },
  {
   "cell_type": "markdown",
   "metadata": {
    "papermill": {
     "duration": 0.142064,
     "end_time": "2021-10-11T12:40:26.834405",
     "exception": false,
     "start_time": "2021-10-11T12:40:26.692341",
     "status": "completed"
    },
    "tags": []
   },
   "source": [
    "**Ensemble learning techniques:** They combine the predictions of multiple machine learning models.\n",
    "\n",
    "**Boosting:** Boosting algorithms play a crucial role in dealing with bias variance trade-off.  Unlike bagging algorithms, which only controls for high variance in a model, boosting controls both the aspects (bias & variance), and is considered to be more effective.\n",
    "Boosting is an ensemble learning technique.\n",
    "\n",
    "Boosting is a sequential technique which works on the principle of ensemble. It combines a set of weak learners and delivers improved prediction accuracy. At any instant t, the model outcomes are weighed based on the outcomes of previous instant t-1. The outcomes predicted correctly are given a lower weight and the ones miss-classified are weighted higher.\n"
   ]
  },
  {
   "cell_type": "markdown",
   "metadata": {
    "papermill": {
     "duration": 0.140119,
     "end_time": "2021-10-11T12:40:27.114823",
     "exception": false,
     "start_time": "2021-10-11T12:40:26.974704",
     "status": "completed"
    },
    "tags": []
   },
   "source": [
    "**Visually:**"
   ]
  },
  {
   "attachments": {},
   "cell_type": "markdown",
   "metadata": {
    "papermill": {
     "duration": 0.138672,
     "end_time": "2021-10-11T12:40:27.392733",
     "exception": false,
     "start_time": "2021-10-11T12:40:27.254061",
     "status": "completed"
    },
    "tags": []
   },
   "source": [
    "![image.png](../../../../images/boosting_visual_1.png)"
   ]
  },
  {
   "cell_type": "markdown",
   "metadata": {
    "papermill": {
     "duration": 0.140264,
     "end_time": "2021-10-11T12:40:27.673326",
     "exception": false,
     "start_time": "2021-10-11T12:40:27.533062",
     "status": "completed"
    },
    "tags": []
   },
   "source": [
    "<a href=\"https://ibb.co/PgstW8k\"><img src=\"https://i.ibb.co/WfNsz1C/boosting.png\" alt=\"boosting\" border=\"0\"></a>"
   ]
  },
  {
   "cell_type": "markdown",
   "metadata": {
    "papermill": {
     "duration": 0.141215,
     "end_time": "2021-10-11T12:40:27.954893",
     "exception": false,
     "start_time": "2021-10-11T12:40:27.813678",
     "status": "completed"
    },
    "tags": []
   },
   "source": [
    "## Gradient Boosting:"
   ]
  },
  {
   "attachments": {},
   "cell_type": "markdown",
   "metadata": {
    "papermill": {
     "duration": 0.138767,
     "end_time": "2021-10-11T12:40:28.234441",
     "exception": false,
     "start_time": "2021-10-11T12:40:28.095674",
     "status": "completed"
    },
    "tags": []
   },
   "source": [
    "![image.png](../../../../images/boosting_visual_3.png)"
   ]
  },
  {
   "cell_type": "markdown",
   "metadata": {
    "papermill": {
     "duration": 0.140906,
     "end_time": "2021-10-11T12:40:28.521244",
     "exception": false,
     "start_time": "2021-10-11T12:40:28.380338",
     "status": "completed"
    },
    "tags": []
   },
   "source": [
    "The overall parameters of gradient boosting can be devided into three categories:\n",
    "* Tree-Specific Parameters: These affect each individual tree in the model.\n",
    "* Boosting Parameters: These affect the boosting operation in the model.\n",
    "* Miscellaneous Parameters: Other parameters for overall functioning."
   ]
  },
  {
   "cell_type": "markdown",
   "metadata": {
    "papermill": {
     "duration": 0.140441,
     "end_time": "2021-10-11T12:40:28.801746",
     "exception": false,
     "start_time": "2021-10-11T12:40:28.661305",
     "status": "completed"
    },
    "tags": []
   },
   "source": [
    "### Tree-specific parameters"
   ]
  },
  {
   "cell_type": "markdown",
   "metadata": {
    "papermill": {
     "duration": 0.138508,
     "end_time": "2021-10-11T12:40:29.082166",
     "exception": false,
     "start_time": "2021-10-11T12:40:28.943658",
     "status": "completed"
    },
    "tags": []
   },
   "source": [
    "### Boosting parameters:"
   ]
  },
  {
   "cell_type": "markdown",
   "metadata": {
    "papermill": {
     "duration": 0.13876,
     "end_time": "2021-10-11T12:40:29.360641",
     "exception": false,
     "start_time": "2021-10-11T12:40:29.221881",
     "status": "completed"
    },
    "tags": []
   },
   "source": [
    "* learning_rate\n",
    "* n_estimators\n",
    "* subsample"
   ]
  },
  {
   "cell_type": "markdown",
   "metadata": {
    "papermill": {
     "duration": 0.139627,
     "end_time": "2021-10-11T12:40:29.638937",
     "exception": false,
     "start_time": "2021-10-11T12:40:29.499310",
     "status": "completed"
    },
    "tags": []
   },
   "source": [
    "### Miscellaneous parameters"
   ]
  },
  {
   "cell_type": "markdown",
   "metadata": {
    "papermill": {
     "duration": 0.147703,
     "end_time": "2021-10-11T12:40:29.926606",
     "exception": false,
     "start_time": "2021-10-11T12:40:29.778903",
     "status": "completed"
    },
    "tags": []
   },
   "source": [
    "* loss\n",
    "* init\n",
    "* random_state\n",
    "* verbose"
   ]
  },
  {
   "cell_type": "markdown",
   "metadata": {
    "papermill": {
     "duration": 0.138971,
     "end_time": "2021-10-11T12:40:30.204254",
     "exception": false,
     "start_time": "2021-10-11T12:40:30.065283",
     "status": "completed"
    },
    "tags": []
   },
   "source": [
    "*Boosting reference:* https://www.analyticsvidhya.com/blog/2016/02/complete-guide-parameter-tuning-gradient-boosting-gbm-python/\n",
    "\n",
    "*Patrick Winston, MIT:* https://www.youtube.com/watch?v=UHBmv7qCey4"
   ]
  },
  {
   "cell_type": "markdown",
   "metadata": {
    "papermill": {
     "duration": 0.138198,
     "end_time": "2021-10-11T12:40:30.481275",
     "exception": false,
     "start_time": "2021-10-11T12:40:30.343077",
     "status": "completed"
    },
    "tags": []
   },
   "source": [
    "## Hyperparameter Tuning using GridSearchCV"
   ]
  },
  {
   "cell_type": "markdown",
   "metadata": {
    "papermill": {
     "duration": 0.139077,
     "end_time": "2021-10-11T12:40:30.760867",
     "exception": false,
     "start_time": "2021-10-11T12:40:30.621790",
     "status": "completed"
    },
    "tags": []
   },
   "source": [
    "**GradientBoostingClassifier**(*, loss='deviance', learning_rate=0.1, n_estimators=100, subsample=1.0, criterion='friedman_mse', min_samples_split=2, min_samples_leaf=1, min_weight_fraction_leaf=0.0, max_depth=3, min_impurity_decrease=0.0, min_impurity_split=None, init=None, random_state=None, max_features=None, verbose=0, max_leaf_nodes=None, warm_start=False, validation_fraction=0.1, n_iter_no_change=None, tol=0.0001, ccp_alpha=0.0)"
   ]
  },
  {
   "cell_type": "markdown",
   "metadata": {
    "papermill": {
     "duration": 0.140097,
     "end_time": "2021-10-11T12:40:31.042636",
     "exception": false,
     "start_time": "2021-10-11T12:40:30.902539",
     "status": "completed"
    },
    "tags": []
   },
   "source": [
    "Grid search is best described as exhuastive guess and check. We have a problem: find the hyperparameters that result in the best cross validation score, and a set of values to try in the hyperparameter grid - the domain. The grid search method for finding the answer is to try all combinations of values in the domain and hope that the best combination is in the grid (in reality, we will never know if we found the best settings unless we have an infinite hyperparameter grid which would then require an infinite amount of time to run).\n",
    "\n",
    "Grid search suffers from one limiting problem: it is extremely computationally expensive because we have to perform cross validation with every single combination of hyperparameters in the grid!"
   ]
  },
  {
   "attachments": {},
   "cell_type": "markdown",
   "metadata": {
    "papermill": {
     "duration": 0.138667,
     "end_time": "2021-10-11T12:40:31.320928",
     "exception": false,
     "start_time": "2021-10-11T12:40:31.182261",
     "status": "completed"
    },
    "tags": []
   },
   "source": [
    "![image.png](../../../../images/boosting_visual_4.png)"
   ]
  },
  {
   "cell_type": "markdown",
   "metadata": {
    "papermill": {
     "duration": 0.141425,
     "end_time": "2021-10-11T12:40:31.601230",
     "exception": false,
     "start_time": "2021-10-11T12:40:31.459805",
     "status": "completed"
    },
    "tags": []
   },
   "source": [
    "**Pros:**\n",
    "- We don't have to write a long (nested for loops) code.\n",
    "- Finds the best model within the grid.\n",
    "\n",
    "**Cons:**\n",
    "- Computationally expensive.\n",
    "- It is 'uninformed'. Results of one model don't help creating the next model."
   ]
  },
  {
   "cell_type": "markdown",
   "metadata": {},
   "source": [
    "### Task 1: Initialize model"
   ]
  },
  {
   "cell_type": "code",
   "execution_count": null,
   "metadata": {
    "papermill": {
     "duration": 0.154053,
     "end_time": "2021-10-11T12:40:31.895793",
     "exception": false,
     "start_time": "2021-10-11T12:40:31.741740",
     "status": "completed"
    },
    "tags": []
   },
   "outputs": [],
   "source": [
    "X_train, X_test, y_train, y_test = train_test_split(train, pred, test_size=0.3, random_state=42)"
   ]
  },
  {
   "cell_type": "markdown",
   "metadata": {
    "papermill": {
     "duration": 0.138377,
     "end_time": "2021-10-11T12:40:32.175773",
     "exception": false,
     "start_time": "2021-10-11T12:40:32.037396",
     "status": "completed"
    },
    "tags": []
   },
   "source": [
    "Lets initialize our model with these parameters:"
   ]
  },
  {
   "cell_type": "code",
   "execution_count": null,
   "metadata": {
    "papermill": {
     "duration": 0.150769,
     "end_time": "2021-10-11T12:40:32.468305",
     "exception": false,
     "start_time": "2021-10-11T12:40:32.317536",
     "status": "completed"
    },
    "tags": []
   },
   "outputs": [],
   "source": [
    "y_train.head()"
   ]
  },
  {
   "cell_type": "code",
   "execution_count": null,
   "metadata": {
    "papermill": {
     "duration": 0.154011,
     "end_time": "2021-10-11T12:40:32.767976",
     "exception": false,
     "start_time": "2021-10-11T12:40:32.613965",
     "status": "completed"
    },
    "tags": []
   },
   "outputs": [],
   "source": [
    "mymodel = GradientBoostingClassifier(learning_rate=0.1, min_samples_split=500,min_samples_leaf=50,max_depth=8,max_features='sqrt',subsample=0.8,random_state=10)"
   ]
  },
  {
   "cell_type": "markdown",
   "metadata": {},
   "source": [
    "### Task 2: Remove enrollee_id"
   ]
  },
  {
   "cell_type": "markdown",
   "metadata": {
    "papermill": {
     "duration": 0.147041,
     "end_time": "2021-10-11T12:40:33.060079",
     "exception": false,
     "start_time": "2021-10-11T12:40:32.913038",
     "status": "completed"
    },
    "tags": []
   },
   "source": [
    "We shouldn't use the enrollee_id since it is unique for each candidate."
   ]
  },
  {
   "cell_type": "code",
   "execution_count": null,
   "metadata": {
    "papermill": {
     "duration": 0.150048,
     "end_time": "2021-10-11T12:40:33.351299",
     "exception": false,
     "start_time": "2021-10-11T12:40:33.201251",
     "status": "completed"
    },
    "tags": []
   },
   "outputs": [],
   "source": [
    "predictors = [x for x in X_train.columns if x not in [\"enrollee_id\"]]"
   ]
  },
  {
   "cell_type": "code",
   "execution_count": null,
   "metadata": {
    "papermill": {
     "duration": 0.150803,
     "end_time": "2021-10-11T12:40:33.643122",
     "exception": false,
     "start_time": "2021-10-11T12:40:33.492319",
     "status": "completed"
    },
    "tags": []
   },
   "outputs": [],
   "source": [
    "predictors"
   ]
  },
  {
   "cell_type": "markdown",
   "metadata": {
    "jp-MarkdownHeadingCollapsed": true,
    "tags": []
   },
   "source": [
    "### Task 3: Look for optimal number"
   ]
  },
  {
   "cell_type": "markdown",
   "metadata": {
    "papermill": {
     "duration": 0.143777,
     "end_time": "2021-10-11T12:40:33.928146",
     "exception": false,
     "start_time": "2021-10-11T12:40:33.784369",
     "status": "completed"
    },
    "tags": []
   },
   "source": [
    "First we have to look for an optimal number of estimators:"
   ]
  },
  {
   "cell_type": "code",
   "execution_count": null,
   "metadata": {
    "papermill": {
     "duration": 0.149368,
     "end_time": "2021-10-11T12:40:34.222129",
     "exception": false,
     "start_time": "2021-10-11T12:40:34.072761",
     "status": "completed"
    },
    "tags": []
   },
   "outputs": [],
   "source": [
    "param_test1 = {'n_estimators':range(10,100,10)}"
   ]
  },
  {
   "cell_type": "markdown",
   "metadata": {
    "papermill": {
     "duration": 0.140128,
     "end_time": "2021-10-11T12:40:34.502785",
     "exception": false,
     "start_time": "2021-10-11T12:40:34.362657",
     "status": "completed"
    },
    "tags": []
   },
   "source": [
    "Grid search:"
   ]
  },
  {
   "cell_type": "code",
   "execution_count": null,
   "metadata": {
    "papermill": {
     "duration": 11.302919,
     "end_time": "2021-10-11T12:40:45.948274",
     "exception": false,
     "start_time": "2021-10-11T12:40:34.645355",
     "status": "completed"
    },
    "tags": []
   },
   "outputs": [],
   "source": [
    "from sklearn.model_selection import GridSearchCV\n",
    "CV_gbc = GridSearchCV(estimator=mymodel, param_grid=param_test1, scoring='roc_auc',n_jobs=4, cv= 5)\n",
    "CV_gbc.fit(X_train[predictors],y_train)\n",
    "CV_gbc.best_params_, CV_gbc.best_score_"
   ]
  },
  {
   "cell_type": "code",
   "execution_count": null,
   "metadata": {
    "papermill": {
     "duration": 0.157844,
     "end_time": "2021-10-11T12:40:46.250396",
     "exception": false,
     "start_time": "2021-10-11T12:40:46.092552",
     "status": "completed"
    },
    "tags": []
   },
   "outputs": [],
   "source": [
    "CV_gbc.cv_results_"
   ]
  },
  {
   "cell_type": "code",
   "execution_count": null,
   "metadata": {
    "papermill": {
     "duration": 0.153562,
     "end_time": "2021-10-11T12:40:46.546052",
     "exception": false,
     "start_time": "2021-10-11T12:40:46.392490",
     "status": "completed"
    },
    "tags": []
   },
   "outputs": [],
   "source": [
    "dir(CV_gbc)"
   ]
  },
  {
   "cell_type": "markdown",
   "metadata": {},
   "source": [
    "### Task 4: Find learning rate"
   ]
  },
  {
   "cell_type": "markdown",
   "metadata": {
    "papermill": {
     "duration": 0.154257,
     "end_time": "2021-10-11T12:40:46.843128",
     "exception": false,
     "start_time": "2021-10-11T12:40:46.688871",
     "status": "completed"
    },
    "tags": []
   },
   "source": [
    "As you can see that here we got 90 as the optimal estimators for 0.1 learning rate, it is close to 100 so we will increase the learning rate to 0.2. (I tried working with number of estimators as 90 but when I increased the learning rate I got slightly better results, I won't include the whole process because it will take a lot of time to run)"
   ]
  },
  {
   "cell_type": "code",
   "execution_count": null,
   "metadata": {
    "papermill": {
     "duration": 0.152763,
     "end_time": "2021-10-11T12:40:47.154998",
     "exception": false,
     "start_time": "2021-10-11T12:40:47.002235",
     "status": "completed"
    },
    "tags": []
   },
   "outputs": [],
   "source": [
    "mymodel0 = GradientBoostingClassifier(learning_rate=0.2, min_samples_split=500,min_samples_leaf=50,max_depth=8,max_features='sqrt',subsample=0.8,random_state=10)"
   ]
  },
  {
   "cell_type": "code",
   "execution_count": null,
   "metadata": {
    "papermill": {
     "duration": 8.315435,
     "end_time": "2021-10-11T12:40:55.613052",
     "exception": false,
     "start_time": "2021-10-11T12:40:47.297617",
     "status": "completed"
    },
    "tags": []
   },
   "outputs": [],
   "source": [
    "from sklearn.model_selection import GridSearchCV\n",
    "CV_gbc0 = GridSearchCV(estimator=mymodel0, param_grid=param_test1, scoring='roc_auc',n_jobs=4, cv= 5)\n",
    "CV_gbc0.fit(X_train[predictors],y_train)\n",
    "CV_gbc0.best_params_, CV_gbc0.best_score_"
   ]
  },
  {
   "cell_type": "markdown",
   "metadata": {},
   "source": [
    "### Task 5: Find max_depth and min_samples_split"
   ]
  },
  {
   "cell_type": "markdown",
   "metadata": {
    "papermill": {
     "duration": 0.148313,
     "end_time": "2021-10-11T12:40:55.904983",
     "exception": false,
     "start_time": "2021-10-11T12:40:55.756670",
     "status": "completed"
    },
    "tags": []
   },
   "source": [
    "The next step is to find the max_depth and min_samples_split."
   ]
  },
  {
   "cell_type": "code",
   "execution_count": null,
   "metadata": {
    "papermill": {
     "duration": 15.599818,
     "end_time": "2021-10-11T12:41:11.653872",
     "exception": false,
     "start_time": "2021-10-11T12:40:56.054054",
     "status": "completed"
    },
    "tags": []
   },
   "outputs": [],
   "source": [
    "param_test2 = {'max_depth':range(5,9,1), 'min_samples_split':range(400,800,100)}\n",
    "gbc = GridSearchCV(estimator = GradientBoostingClassifier(learning_rate=0.2, n_estimators=60, max_features='sqrt', subsample=0.8, random_state=10), \n",
    "param_grid = param_test2, scoring='roc_auc',n_jobs=4, cv=5)\n",
    "gbc.fit(X_train[predictors],y_train)\n",
    "gbc.best_params_, gbc.best_score_"
   ]
  },
  {
   "cell_type": "markdown",
   "metadata": {
    "papermill": {
     "duration": 0.148787,
     "end_time": "2021-10-11T12:41:11.950833",
     "exception": false,
     "start_time": "2021-10-11T12:41:11.802046",
     "status": "completed"
    },
    "tags": []
   },
   "source": [
    "So we got a maximum depth of 7 and minimum samples split is 700."
   ]
  },
  {
   "cell_type": "markdown",
   "metadata": {
    "papermill": {
     "duration": 0.146295,
     "end_time": "2021-10-11T12:41:12.242994",
     "exception": false,
     "start_time": "2021-10-11T12:41:12.096699",
     "status": "completed"
    },
    "tags": []
   },
   "source": [
    "### Task 6: Find min_samples_leaf"
   ]
  },
  {
   "cell_type": "code",
   "execution_count": null,
   "metadata": {
    "papermill": {
     "duration": 34.488033,
     "end_time": "2021-10-11T12:41:46.878607",
     "exception": false,
     "start_time": "2021-10-11T12:41:12.390574",
     "status": "completed"
    },
    "tags": []
   },
   "outputs": [],
   "source": [
    "param_test3 = {'min_samples_split':range(400,1200,100), 'min_samples_leaf':range(30,71,10)}\n",
    "gsearch3 = GridSearchCV(estimator = GradientBoostingClassifier(learning_rate=0.2, n_estimators=60,max_depth=6, max_features='sqrt', subsample=0.8, random_state=10), \n",
    "param_grid = param_test3, scoring='roc_auc',n_jobs=4, cv=5)\n",
    "gsearch3.fit(X_train[predictors],y_train)\n",
    "gsearch3.best_params_, gsearch3.best_score_"
   ]
  },
  {
   "cell_type": "markdown",
   "metadata": {
    "jp-MarkdownHeadingCollapsed": true,
    "tags": []
   },
   "source": [
    "### Task 7: AUC"
   ]
  },
  {
   "cell_type": "markdown",
   "metadata": {
    "papermill": {
     "duration": 0.145988,
     "end_time": "2021-10-11T12:41:47.176738",
     "exception": false,
     "start_time": "2021-10-11T12:41:47.030750",
     "status": "completed"
    },
    "tags": []
   },
   "source": [
    "Lets write a function that returns the accuracy, auc score and the importance of each variable:"
   ]
  },
  {
   "cell_type": "code",
   "execution_count": null,
   "metadata": {
    "papermill": {
     "duration": 0.158422,
     "end_time": "2021-10-11T12:41:47.481140",
     "exception": false,
     "start_time": "2021-10-11T12:41:47.322718",
     "status": "completed"
    },
    "tags": []
   },
   "outputs": [],
   "source": [
    "from sklearn.model_selection import cross_validate"
   ]
  },
  {
   "cell_type": "markdown",
   "metadata": {
    "papermill": {
     "duration": 0.145059,
     "end_time": "2021-10-11T12:41:47.771982",
     "exception": false,
     "start_time": "2021-10-11T12:41:47.626923",
     "status": "completed"
    },
    "tags": []
   },
   "source": [
    "AUC represents the probability that a random positive  example is positioned to the right of a random negative example. AUC ranges in value from 0 to 1. A model whose predictions are 100% wrong has an AUC of 0.0; one whose predictions are 100% correct has an AUC of 1.0."
   ]
  },
  {
   "cell_type": "code",
   "execution_count": null,
   "metadata": {
    "papermill": {
     "duration": 0.161795,
     "end_time": "2021-10-11T12:41:48.080262",
     "exception": false,
     "start_time": "2021-10-11T12:41:47.918467",
     "status": "completed"
    },
    "tags": []
   },
   "outputs": [],
   "source": [
    "def modelfit(alg, dtrain, pred, predictors, performCV=True, printFeatureImportance=True, cv_folds=5):\n",
    "    #Fit the algorithm on the data\n",
    "    alg.fit(dtrain[predictors], pred)\n",
    "        \n",
    "    #Predict training set:\n",
    "    dtrain_predictions = alg.predict(dtrain[predictors])\n",
    "    dtrain_predprob = alg.predict_proba(dtrain[predictors])[:,1]\n",
    "    \n",
    "    #Perform cross-validation:\n",
    "    if performCV:\n",
    "        cv_score = cross_validate(alg, dtrain[predictors], pred, cv=cv_folds, scoring='roc_auc')\n",
    "    \n",
    "    #Print model report:\n",
    "    print(\"\\nModel Report\")\n",
    "    print(\"Accuracy :\",metrics.accuracy_score(pred.values, dtrain_predictions))\n",
    "    print(\"AUC Score (Train):\", metrics.roc_auc_score(pred, dtrain_predprob))\n",
    "    print(\"cv Score: \", np.mean(cv_score['test_score']))\n",
    "        \n",
    "    #Print Feature Importance:\n",
    "    if printFeatureImportance:\n",
    "        feat_imp = pd.Series(alg.feature_importances_, predictors).sort_values(ascending=False)\n",
    "        feat_imp.plot(kind='bar', title='Feature Importances')\n",
    "        plt.ylabel('Feature Importance Score')"
   ]
  },
  {
   "cell_type": "markdown",
   "metadata": {
    "papermill": {
     "duration": 0.145331,
     "end_time": "2021-10-11T12:41:48.371538",
     "exception": false,
     "start_time": "2021-10-11T12:41:48.226207",
     "status": "completed"
    },
    "tags": []
   },
   "source": [
    "Lets run the function on the model we got till now:"
   ]
  },
  {
   "cell_type": "code",
   "execution_count": null,
   "metadata": {
    "papermill": {
     "duration": 3.032491,
     "end_time": "2021-10-11T12:41:51.551781",
     "exception": false,
     "start_time": "2021-10-11T12:41:48.519290",
     "status": "completed"
    },
    "tags": []
   },
   "outputs": [],
   "source": [
    "modelfit(gsearch3.best_estimator_, X_train, y_train, predictors)"
   ]
  },
  {
   "cell_type": "markdown",
   "metadata": {},
   "source": [
    "### Task 8: Find max_features"
   ]
  },
  {
   "cell_type": "code",
   "execution_count": null,
   "metadata": {
    "papermill": {
     "duration": 5.667166,
     "end_time": "2021-10-11T12:41:57.367509",
     "exception": false,
     "start_time": "2021-10-11T12:41:51.700343",
     "status": "completed"
    },
    "tags": []
   },
   "outputs": [],
   "source": [
    "param_test4 = {'max_features':range(7,20,2)}\n",
    "gsearch4 = GridSearchCV(estimator = GradientBoostingClassifier(learning_rate=0.2, n_estimators=60,max_depth=6, min_samples_split=900, min_samples_leaf=60, subsample=0.8, random_state=10),\n",
    "param_grid = param_test4, scoring='roc_auc',n_jobs=4, cv=5)\n",
    "gsearch4.fit(X_train[predictors],y_train)\n",
    "gsearch4.best_params_, gsearch4.best_score_"
   ]
  },
  {
   "cell_type": "markdown",
   "metadata": {
    "papermill": {
     "duration": 0.149161,
     "end_time": "2021-10-11T12:41:57.665264",
     "exception": false,
     "start_time": "2021-10-11T12:41:57.516103",
     "status": "completed"
    },
    "tags": []
   },
   "source": [
    "\n",
    "With this we have the final tree-parameters as:\n",
    "\n",
    "    min_samples_split: 900\n",
    "    min_samples_leaf: 60\n",
    "    max_depth: 6\n",
    "    max_features: 9\n"
   ]
  },
  {
   "cell_type": "markdown",
   "metadata": {},
   "source": [
    "### Task 9: Find subsample value"
   ]
  },
  {
   "cell_type": "markdown",
   "metadata": {
    "papermill": {
     "duration": 0.148329,
     "end_time": "2021-10-11T12:41:57.961864",
     "exception": false,
     "start_time": "2021-10-11T12:41:57.813535",
     "status": "completed"
    },
    "tags": []
   },
   "source": [
    "The next step would be try different subsample values."
   ]
  },
  {
   "cell_type": "code",
   "execution_count": null,
   "metadata": {
    "papermill": {
     "duration": 9.555683,
     "end_time": "2021-10-11T12:42:07.666248",
     "exception": false,
     "start_time": "2021-10-11T12:41:58.110565",
     "status": "completed"
    },
    "tags": []
   },
   "outputs": [],
   "source": [
    "param_test5 = {'subsample':[0.6,0.7,0.75,0.8,0.85,0.9]}\n",
    "gsearch5 = GridSearchCV(estimator = GradientBoostingClassifier(learning_rate=0.2, n_estimators=60,max_depth=6,min_samples_split=900, min_samples_leaf=60, subsample=0.8, random_state=10,max_features=9),\n",
    "param_grid = param_test5, scoring='roc_auc',n_jobs=4, cv=5)\n",
    "gsearch5.fit(X_train[predictors],y_train)\n",
    "gsearch5.best_params_, gsearch5.best_score_"
   ]
  },
  {
   "cell_type": "markdown",
   "metadata": {},
   "source": [
    "We got 0.85 as the optimum subsample value."
   ]
  },
  {
   "cell_type": "markdown",
   "metadata": {},
   "source": [
    "### Task 10: Improvement"
   ]
  },
  {
   "cell_type": "markdown",
   "metadata": {
    "papermill": {
     "duration": 0.152276,
     "end_time": "2021-10-11T12:42:07.969030",
     "exception": false,
     "start_time": "2021-10-11T12:42:07.816754",
     "status": "completed"
    },
    "tags": []
   },
   "source": [
    "Now, we need to lower the learning rate and increase the number of estimators to see if we get better results."
   ]
  },
  {
   "cell_type": "code",
   "execution_count": null,
   "metadata": {
    "papermill": {
     "duration": 11.490095,
     "end_time": "2021-10-11T12:42:19.610647",
     "exception": false,
     "start_time": "2021-10-11T12:42:08.120552",
     "status": "completed"
    },
    "tags": []
   },
   "outputs": [],
   "source": [
    "gbm_tuned_1 = GradientBoostingClassifier(learning_rate=0.1, n_estimators=140,max_depth=6, min_samples_split=900,min_samples_leaf=60, subsample=0.8, random_state=10, max_features=9)\n",
    "modelfit(gbm_tuned_1, X_train, y_train, predictors)"
   ]
  },
  {
   "cell_type": "markdown",
   "metadata": {
    "papermill": {
     "duration": 0.157715,
     "end_time": "2021-10-11T12:42:19.921563",
     "exception": false,
     "start_time": "2021-10-11T12:42:19.763848",
     "status": "completed"
    },
    "tags": []
   },
   "source": [
    "We can see a slight improvement in Accuracy and cv score, lets descrease the learning rate and increase number of estimators one more time."
   ]
  },
  {
   "cell_type": "code",
   "execution_count": null,
   "metadata": {
    "papermill": {
     "duration": 95.997992,
     "end_time": "2021-10-11T12:43:56.073314",
     "exception": false,
     "start_time": "2021-10-11T12:42:20.075322",
     "status": "completed"
    },
    "tags": []
   },
   "outputs": [],
   "source": [
    "gbm_tuned_2 = GradientBoostingClassifier(learning_rate=0.01, n_estimators=1200,max_depth=6, min_samples_split=900,min_samples_leaf=60, subsample=0.8, random_state=10, max_features=9)\n",
    "modelfit(gbm_tuned_2, X_train, y_train, predictors)"
   ]
  },
  {
   "cell_type": "code",
   "execution_count": null,
   "metadata": {
    "papermill": {
     "duration": 119.057664,
     "end_time": "2021-10-11T12:45:55.284331",
     "exception": false,
     "start_time": "2021-10-11T12:43:56.226667",
     "status": "completed"
    },
    "tags": []
   },
   "outputs": [],
   "source": [
    "gbm_tuned_3 = GradientBoostingClassifier(learning_rate=0.005, n_estimators=1500,max_depth=6, min_samples_split=900,min_samples_leaf=60, subsample=0.8, random_state=10, max_features=9)\n",
    "modelfit(gbm_tuned_3, X_train, y_train, predictors)"
   ]
  },
  {
   "cell_type": "markdown",
   "metadata": {
    "papermill": {
     "duration": 0.153668,
     "end_time": "2021-10-11T12:45:55.592256",
     "exception": false,
     "start_time": "2021-10-11T12:45:55.438588",
     "status": "completed"
    },
    "tags": []
   },
   "source": [
    "increasing the number of estimators got us a slightly better model."
   ]
  },
  {
   "cell_type": "markdown",
   "metadata": {},
   "source": [
    "### Task 11: Model fitting"
   ]
  },
  {
   "cell_type": "markdown",
   "metadata": {
    "papermill": {
     "duration": 0.155153,
     "end_time": "2021-10-11T12:45:55.902068",
     "exception": false,
     "start_time": "2021-10-11T12:45:55.746915",
     "status": "completed"
    },
    "tags": []
   },
   "source": [
    "Lets fit the model."
   ]
  },
  {
   "cell_type": "code",
   "execution_count": null,
   "metadata": {
    "papermill": {
     "duration": 2.666311,
     "end_time": "2021-10-11T12:45:58.723415",
     "exception": false,
     "start_time": "2021-10-11T12:45:56.057104",
     "status": "completed"
    },
    "tags": []
   },
   "outputs": [],
   "source": [
    "gbm_tuned_1.fit(X_train,y_train)"
   ]
  },
  {
   "cell_type": "code",
   "execution_count": null,
   "metadata": {
    "papermill": {
     "duration": 0.177798,
     "end_time": "2021-10-11T12:45:59.056872",
     "exception": false,
     "start_time": "2021-10-11T12:45:58.879074",
     "status": "completed"
    },
    "tags": []
   },
   "outputs": [],
   "source": [
    "X_test[predictors]"
   ]
  },
  {
   "cell_type": "markdown",
   "metadata": {},
   "source": [
    "### Task 12: Prediction"
   ]
  },
  {
   "cell_type": "markdown",
   "metadata": {
    "papermill": {
     "duration": 0.156,
     "end_time": "2021-10-11T12:45:59.371221",
     "exception": false,
     "start_time": "2021-10-11T12:45:59.215221",
     "status": "completed"
    },
    "tags": []
   },
   "source": [
    "Make predictions on test and training set:"
   ]
  },
  {
   "cell_type": "code",
   "execution_count": null,
   "metadata": {
    "papermill": {
     "duration": 0.191312,
     "end_time": "2021-10-11T12:45:59.718796",
     "exception": false,
     "start_time": "2021-10-11T12:45:59.527484",
     "status": "completed"
    },
    "tags": []
   },
   "outputs": [],
   "source": [
    "preds = gbm_tuned_1.predict(X_test)"
   ]
  },
  {
   "cell_type": "code",
   "execution_count": null,
   "metadata": {
    "papermill": {
     "duration": 0.230734,
     "end_time": "2021-10-11T12:46:00.112519",
     "exception": false,
     "start_time": "2021-10-11T12:45:59.881785",
     "status": "completed"
    },
    "tags": []
   },
   "outputs": [],
   "source": [
    "p = gbm_tuned_1.predict(X_train)"
   ]
  },
  {
   "cell_type": "code",
   "execution_count": null,
   "metadata": {
    "papermill": {
     "duration": 0.169344,
     "end_time": "2021-10-11T12:46:00.439537",
     "exception": false,
     "start_time": "2021-10-11T12:46:00.270193",
     "status": "completed"
    },
    "tags": []
   },
   "outputs": [],
   "source": [
    "print(\"Accuracy on training set is:\")\n",
    "metrics.accuracy_score(y_train, p)"
   ]
  },
  {
   "cell_type": "code",
   "execution_count": null,
   "metadata": {
    "papermill": {
     "duration": 0.167047,
     "end_time": "2021-10-11T12:46:00.762675",
     "exception": false,
     "start_time": "2021-10-11T12:46:00.595628",
     "status": "completed"
    },
    "tags": []
   },
   "outputs": [],
   "source": [
    "metrics.accuracy_score(y_test, preds)"
   ]
  },
  {
   "cell_type": "markdown",
   "metadata": {},
   "source": [
    "### Task 13: Result"
   ]
  },
  {
   "cell_type": "markdown",
   "metadata": {
    "papermill": {
     "duration": 0.159908,
     "end_time": "2021-10-11T12:46:01.079304",
     "exception": false,
     "start_time": "2021-10-11T12:46:00.919396",
     "status": "completed"
    },
    "tags": []
   },
   "source": [
    "Save results to a dataframe"
   ]
  },
  {
   "cell_type": "code",
   "execution_count": null,
   "metadata": {
    "papermill": {
     "duration": 0.167495,
     "end_time": "2021-10-11T12:46:01.409697",
     "exception": false,
     "start_time": "2021-10-11T12:46:01.242202",
     "status": "completed"
    },
    "tags": []
   },
   "outputs": [],
   "source": [
    "output = pd.DataFrame({'enrollee_id ': X_test.enrollee_id , 'target': preds})"
   ]
  },
  {
   "cell_type": "code",
   "execution_count": null,
   "metadata": {
    "papermill": {
     "duration": 0.172351,
     "end_time": "2021-10-11T12:46:01.741304",
     "exception": false,
     "start_time": "2021-10-11T12:46:01.568953",
     "status": "completed"
    },
    "tags": []
   },
   "outputs": [],
   "source": [
    "output.sample(7)"
   ]
  },
  {
   "cell_type": "markdown",
   "metadata": {},
   "source": [
    "## Acknowledgments\n",
    "\n",
    "Thanks to [Omar El Yousfi](https://www.kaggle.com/elyousfiomar) for creating the open-source course [Hyperparameter tuning - Gradient boosting](https://www.kaggle.com/code/elyousfiomar/hyperparameter-tuning-gradient-boosting/notebook#Relevant-experience:). It inspires the majority of the content in this chapter."
   ]
  }
 ],
 "metadata": {
  "kernelspec": {
   "display_name": "Python 3 (ipykernel)",
   "language": "python",
   "name": "python3"
  },
  "language_info": {
   "codemirror_mode": {
    "name": "ipython",
    "version": 3
   },
   "file_extension": ".py",
   "mimetype": "text/x-python",
   "name": "python",
   "nbconvert_exporter": "python",
   "pygments_lexer": "ipython3",
   "version": "3.10.9"
  },
  "papermill": {
   "duration": 379.464157,
   "end_time": "2021-10-11T12:46:02.013909",
   "environment_variables": {},
   "exception": null,
   "input_path": "__notebook__.ipynb",
   "output_path": "__notebook__.ipynb",
   "parameters": {},
   "start_time": "2021-10-11T12:39:42.549752",
   "version": "2.1.0"
  }
 },
 "nbformat": 4,
 "nbformat_minor": 4
}
