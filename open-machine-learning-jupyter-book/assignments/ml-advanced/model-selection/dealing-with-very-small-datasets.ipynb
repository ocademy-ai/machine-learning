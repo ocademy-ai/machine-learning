{
 "cells": [
  {
   "cell_type": "markdown",
   "metadata": {},
   "source": [
    "# Dealing with very small datasets\n",
    "\n",
    "In this kernel we will see some techniques to handle very small datasets, where the main challenge is to avoid overfitting."
   ]
  },
  {
   "cell_type": "markdown",
   "metadata": {},
   "source": [
    "## Imports"
   ]
  },
  {
   "cell_type": "code",
   "execution_count": 19,
   "metadata": {
    "tags": []
   },
   "outputs": [
    {
     "name": "stdout",
     "output_type": "stream",
     "text": [
      "Train rows: 250\n",
      "Test rows: 19750\n",
      "Data columns: 300\n"
     ]
    }
   ],
   "source": [
    "import warnings\n",
    "warnings.filterwarnings('ignore')\n",
    "\n",
    "import numpy as np\n",
    "import pandas as pd\n",
    "\n",
    "train = pd.read_csv('../../../assets/data/ml-advanced/model-selection/train.csv')\n",
    "test = pd.read_csv('../../../assets/data/ml-advanced/model-selection/test.csv')\n",
    "\n",
    "labels = train.columns.drop(['id', 'target'])\n",
    "target = train['target']\n",
    "\n",
    "print('Train rows:', train.shape[0])\n",
    "print('Test rows:', test.shape[0])\n",
    "print('Data columns:', test.columns.drop(['id']).shape[0])"
   ]
  },
  {
   "cell_type": "markdown",
   "metadata": {},
   "source": [
    "A visual inspection of the number of rows:"
   ]
  },
  {
   "cell_type": "code",
   "execution_count": 20,
   "metadata": {
    "tags": []
   },
   "outputs": [
    {
     "data": {
      "image/png": "[encoded data removed]",
      "text/plain": [
       "<Figure size 640x480 with 1 Axes>"
      ]
     },
     "metadata": {},
     "output_type": "display_data"
    }
   ],
   "source": [
    "import matplotlib.pyplot as plt\n",
    "\n",
    "d_names = ('train.csv', 'test.csv')\n",
    "y_pos = range(len(d_names))\n",
    " \n",
    "plt.bar(\n",
    "    y_pos, \n",
    "    (train.shape[0], test.shape[0]), \n",
    "    align='center', \n",
    "    alpha=0.8\n",
    ")\n",
    "plt.xticks(y_pos, d_names)\n",
    "plt.ylabel('Number of rows') \n",
    "plt.title('😱 Wow!')\n",
    "plt.show()"
   ]
  },
  {
   "cell_type": "markdown",
   "metadata": {},
   "source": [
    "## Why small datasets lead to overfitting?\n",
    "\n",
    "The goal of a machine learning model is to **generalize** patterns in training data so that you can correctly predict new data that has never been presented to the model. Overfitting occurs when a model adjusts excessively to the training data, seeing patterns that do not exist, and consequently performing poorly in predicting new data:\n",
    "\n",
    "![](https://raw.githubusercontent.com/rafjaa/curso-mineracao-de-dados-aplicada/master/img/kernel_overfitting/under_over.png)\n",
    "<center><strong>Source:</strong> <a href=\"https://medium.com/@shubhapatnim86/generalisation-training-validation-test-data-machine-learning-part-6-1de9dbb7d3d5\">https://medium.com/@shubhapatnim86/generalisation-training-validation-test-data-machine-learning-part-6-1de9dbb7d3d5</a></center>\n",
    "\n",
    "<br>\n",
    "\n",
    "The fewer samples for training, the more models can fit our data. In an extreme example (a), for just one training point, any model will be able to \"explain\" it, however simple or complex the model may be. As we get to have more samples (b, c), fewer models are able to explain them:\n",
    "\n",
    "![](https://raw.githubusercontent.com/rafjaa/curso-mineracao-de-dados-aplicada/master/img/kernel_overfitting/few_samples.png)\n",
    "<center><strong>Source:</strong> <a href=\"https://towardsdatascience.com/breaking-the-curse-of-small-datasets-in-machine-learning-part-1-36f28b0c044d\">https://towardsdatascience.com/breaking-the-curse-of-small-datasets-in-machine-learning-part-1-36f28b0c044d</a></center>\n",
    "\n",
    "<br>\n",
    "\n",
    "That way, for a dataset with only 250 samples, we need to be very careful not to be fooled by overfitting. In this kernel we will see some tips that can help.\n"
   ]
  },
  {
   "cell_type": "markdown",
   "metadata": {},
   "source": [
    "## Use simple models\n",
    "\n",
    "As we saw, few samples allow several models to \"explain\" the data. By thinking graphically, complex models can make crazy curves that will almost perfectly explain the training data, but possibly will perform poorly over the test data.\n",
    "\n",
    "![](https://raw.githubusercontent.com/rafjaa/curso-mineracao-de-dados-aplicada/master/img/kernel_overfitting/overfitting_curve.png)\n",
    "<center><strong>Source:</strong> <a href=\"https://bioinfo.iric.ca/overfitting-and-regularization/\">https://bioinfo.iric.ca/overfitting-and-regularization/</a></center>\n",
    "\n",
    "<br>\n",
    "\n",
    "Avoid complex models with many parameters, thus limiting their generalization and possibility of overfitting. Regularization techniques like L1 and L2 also help make the models more conservative. For tree-based models, reducing their maximum depth also limits the model's ability to see patterns and non-existent relationships.\n",
    "\n",
    "A good model to get started is Logistic Regression, a linear model used when the dependent variable (target) is categorical (classification tasks).\n",
    "\n",
    "![](https://raw.githubusercontent.com/rafjaa/curso-mineracao-de-dados-aplicada/master/img/kernel_overfitting/logisticregression.png)\n",
    "<center><strong>Source:</strong> <a href=\"https://towardsdatascience.com/logistic-regression-detailed-overview-46c4da4303bc\">https://towardsdatascience.com/logistic-regression-detailed-overview-46c4da4303bc</a></center>\n",
    "\n",
    "<br>\n",
    "\n",
    "In this model, we can control the regularization by means of the <code>penalty</code> and <code>C</code> parameters (inverse of regularization strength - smaller values specify stronger regularization) to deal with the overfitting:"
   ]
  },
  {
   "cell_type": "code",
   "execution_count": 21,
   "metadata": {
    "tags": []
   },
   "outputs": [
    {
     "data": {
      "text/plain": [
       "array([0.58189074, 0.32447945, 0.34406834, ..., 0.31680716, 0.28289147,\n",
       "       0.23345881])"
      ]
     },
     "execution_count": 21,
     "metadata": {},
     "output_type": "execute_result"
    }
   ],
   "source": [
    "from sklearn.linear_model import LogisticRegression\n",
    "\n",
    "m = LogisticRegression(\n",
    "    solver='liblinear',\n",
    "    penalty='l1',\n",
    "    C=0.1\n",
    ")\n",
    "m.fit(train[labels], target)\n",
    "m.predict_proba(test[labels])[:,1]"
   ]
  },
  {
   "cell_type": "markdown",
   "metadata": {},
   "source": [
    "For tree-based models like XGBoost, we can control the overfitting by tuning a series of parameters:\n",
    "\n",
    "* Restricting the maximum depth of trees via <code>max_depth</code> (low values)\n",
    "* Making the model more conservative via <code>gamma</code> and <code>eta</code> (high values)\n",
    "* L1 and L2 regularization via <code>reg_alpha</code> and <code>reg_lambda</code> (high values)"
   ]
  },
  {
   "cell_type": "code",
   "execution_count": 22,
   "metadata": {
    "tags": []
   },
   "outputs": [
    {
     "data": {
      "text/plain": [
       "array([0.41772607, 0.58376515, 0.3847439 , ..., 0.87046   , 0.03286381,\n",
       "       0.27321932], dtype=float32)"
      ]
     },
     "execution_count": 22,
     "metadata": {},
     "output_type": "execute_result"
    }
   ],
   "source": [
    "from xgboost import XGBClassifier\n",
    "\n",
    "m = XGBClassifier(\n",
    "    max_depth=2,\n",
    "    gamma=2,\n",
    "    eta=0.8,\n",
    "    reg_alpha=0.5,\n",
    "    reg_lambda=0.5\n",
    ")\n",
    "m.fit(train[labels], target)\n",
    "m.predict_proba(test[labels])[:,1]"
   ]
  },
  {
   "cell_type": "markdown",
   "metadata": {},
   "source": [
    "**Note that because it is a nonlinear model with several parameters, it tends to be more prone to overfitting than a simple linear model such as logistic regression.**"
   ]
  },
  {
   "cell_type": "markdown",
   "metadata": {},
   "source": [
    "## Beware the outliers\n",
    "\n",
    "Outliers are extreme values that fall a long way outside of the other observations. In a small dataset, the impact of an outlier can be much greater, since it will have a heavy weight for the model:\n",
    "\n",
    "![](https://raw.githubusercontent.com/rafjaa/curso-mineracao-de-dados-aplicada/master/img/kernel_overfitting/outlier.png)\n",
    "<center><strong>Source:</strong> <a href=\"https://becominghuman.ai/day-7-data-cleaning-all-that-you-need-to-know-about-it-23b05738abe7\">https://becominghuman.ai/day-7-data-cleaning-all-that-you-need-to-know-about-it-23b05738abe7</a></center>\n",
    "\n",
    "<br>\n",
    "\n",
    "The scikit-learn library has several implementations of outliers detection techniques:\n",
    "\n",
    "![](https://raw.githubusercontent.com/rafjaa/curso-mineracao-de-dados-aplicada/master/img/kernel_overfitting/outl_detection.png)\n",
    "<center><strong>Source:</strong> <a href=\"https://scikit-learn.org/stable/auto_examples/plot_anomaly_comparison.html\">https://scikit-learn.org/stable/auto_examples/plot_anomaly_comparison.html</a></center>\n",
    "\n",
    "<br>\n",
    "\n",
    "Let's do an experiment with the <code>IsolationForest</code> technique, which uses random forests for efficient detection of outliers in high-dimensional datasets. From scikit-learn documentation:\n",
    "\n",
    "> The IsolationForest ‘isolates’ observations by randomly selecting a feature and then randomly selecting a split value between the maximum and minimum values of the selected feature.\n",
    "> \n",
    "> Since recursive partitioning can be represented by a tree structure, the number of splittings required to isolate a sample is equivalent to the path length from the root node to the terminating node.\n",
    "> \n",
    "> This path length, averaged over a forest of such random trees, is a measure of normality and our decision function.\n",
    "\n",
    "![](https://raw.githubusercontent.com/rafjaa/curso-mineracao-de-dados-aplicada/master/img/kernel_overfitting/isolation_forest.jpg)\n",
    "<center><strong>Source:</strong> <a href=\"https://www.slideshare.net/mlvlc/l14-anomaly-detection\">https://www.slideshare.net/mlvlc/l14-anomaly-detection</a></center>\n",
    "\n",
    "<br>\n",
    "\n",
    "Let's score each sample of our dataset using a isolation forest (the lower, the more abnormal):"
   ]
  },
  {
   "cell_type": "code",
   "execution_count": 23,
   "metadata": {
    "tags": []
   },
   "outputs": [
    {
     "name": "stdout",
     "output_type": "stream",
     "text": [
      "[-0.43680124 -0.43000732 -0.43254876 -0.41989924 -0.4323624  -0.46154137\n",
      " -0.43064631 -0.45052419 -0.42044872 -0.41818347 -0.45155707 -0.44475051\n",
      " -0.44241249 -0.43779703 -0.42792058 -0.43949135 -0.42666847 -0.42845324\n",
      " -0.44525731 -0.42209054 -0.43917058 -0.41660864 -0.44007968 -0.44144129\n",
      " -0.4248918  -0.41113211 -0.42068904 -0.41988125 -0.42954602 -0.44939167\n",
      " -0.42304088 -0.45056448 -0.42472424 -0.43690022 -0.42532448 -0.41867564\n",
      " -0.43482292 -0.43180239 -0.42490525 -0.44511389 -0.40899925 -0.43398378\n",
      " -0.42389368 -0.42972219 -0.45249146 -0.45579047 -0.45375827 -0.4192045\n",
      " -0.41139404 -0.44424449 -0.41260788 -0.44232544 -0.42164557 -0.41717293\n",
      " -0.45557923 -0.41146096 -0.43353237 -0.44336536 -0.41957751 -0.42894826\n",
      " -0.42048146 -0.44152081 -0.448542   -0.44852121 -0.42683597 -0.43392423\n",
      " -0.42401943 -0.43904181 -0.43704031 -0.41695767 -0.42843938 -0.4424748\n",
      " -0.43813204 -0.43298134 -0.42459308 -0.42828847 -0.42240607 -0.44536798\n",
      " -0.43718142 -0.43842785 -0.43326981 -0.45502101 -0.4391838  -0.41806662\n",
      " -0.41474249 -0.45129755 -0.44676083 -0.42854531 -0.41140332 -0.44220766\n",
      " -0.44271772 -0.43897059 -0.42613887 -0.43375866 -0.43966242 -0.43860061\n",
      " -0.44216017 -0.44285155 -0.42250691 -0.42727342 -0.41497721 -0.46534097\n",
      " -0.43926376 -0.41173571 -0.42116509 -0.43420512 -0.42738528 -0.44278911\n",
      " -0.43879332 -0.4320502  -0.43974922 -0.44504321 -0.43605443 -0.43349556\n",
      " -0.42717206 -0.44538754 -0.43972657 -0.44029673 -0.45683462 -0.42874996\n",
      " -0.42685261 -0.43140967 -0.43389552 -0.44910967 -0.4056932  -0.43651446\n",
      " -0.41950232 -0.43398791 -0.4160253  -0.42817654 -0.40952659 -0.43396753\n",
      " -0.433764   -0.44646288 -0.42763711 -0.40945173 -0.43917977 -0.44471999\n",
      " -0.43390502 -0.43151996 -0.43383255 -0.42336166 -0.41671473 -0.45095728\n",
      " -0.4303378  -0.44080286 -0.42908557 -0.40620105 -0.44599544 -0.41754258\n",
      " -0.41958629 -0.42097473 -0.43599569 -0.42840606 -0.44839542 -0.42618909\n",
      " -0.45955676 -0.43362497 -0.43740144 -0.44194    -0.44009704 -0.45258169\n",
      " -0.42372436 -0.44737212 -0.43534762 -0.44707546 -0.41182279 -0.42244377\n",
      " -0.42531214 -0.41893263 -0.42973119 -0.43863956 -0.4195789  -0.42370422\n",
      " -0.44103837 -0.43735749 -0.43187685 -0.43667505 -0.44399114 -0.44233254\n",
      " -0.42323044 -0.43438011 -0.41989761 -0.43266301 -0.44219632 -0.43368518\n",
      " -0.42116389 -0.4306437  -0.43516782 -0.43325545 -0.42948936 -0.43203814\n",
      " -0.42886566 -0.4109664  -0.4408626  -0.43674965 -0.43939858 -0.43649522\n",
      " -0.44525584 -0.42322914 -0.41959358 -0.41524892 -0.43689612 -0.43173653\n",
      " -0.44307375 -0.42201659 -0.43578371 -0.43233858 -0.42774784 -0.43610116\n",
      " -0.44481236 -0.42946362 -0.44577968 -0.41637546 -0.43900041 -0.42215157\n",
      " -0.43448252 -0.42917444 -0.43943463 -0.42496064 -0.42874274 -0.44608125\n",
      " -0.45113411 -0.43176807 -0.43470894 -0.43292931 -0.42282091 -0.43604872\n",
      " -0.45073021 -0.44205662 -0.41479766 -0.43399455 -0.42672435 -0.42159368\n",
      " -0.4404042  -0.43771019 -0.41418737 -0.43772314 -0.41872023 -0.42381935\n",
      " -0.42098261 -0.4174135  -0.43683068 -0.43513069 -0.41080537 -0.44569336\n",
      " -0.41639142 -0.44129143 -0.43943749 -0.43340362]\n"
     ]
    }
   ],
   "source": [
    "from sklearn.ensemble import IsolationForest\n",
    "\n",
    "isf = IsolationForest(n_jobs=-1, random_state=1)\n",
    "isf.fit(train[labels], train['target'])\n",
    "\n",
    "print(isf.score_samples(train[labels]))"
   ]
  },
  {
   "cell_type": "markdown",
   "metadata": {},
   "source": [
    "Now, let's predict the outliers (1 for inliers, -1 for outliers):"
   ]
  },
  {
   "cell_type": "code",
   "execution_count": 24,
   "metadata": {
    "tags": []
   },
   "outputs": [
    {
     "data": {
      "text/plain": [
       "array([1, 1, 1, 1, 1, 1, 1, 1, 1, 1, 1, 1, 1, 1, 1, 1, 1, 1, 1, 1, 1, 1,\n",
       "       1, 1, 1, 1, 1, 1, 1, 1, 1, 1, 1, 1, 1, 1, 1, 1, 1, 1, 1, 1, 1, 1,\n",
       "       1, 1, 1, 1, 1, 1, 1, 1, 1, 1, 1, 1, 1, 1, 1, 1, 1, 1, 1, 1, 1, 1,\n",
       "       1, 1, 1, 1, 1, 1, 1, 1, 1, 1, 1, 1, 1, 1, 1, 1, 1, 1, 1, 1, 1, 1,\n",
       "       1, 1, 1, 1, 1, 1, 1, 1, 1, 1, 1, 1, 1, 1, 1, 1, 1, 1, 1, 1, 1, 1,\n",
       "       1, 1, 1, 1, 1, 1, 1, 1, 1, 1, 1, 1, 1, 1, 1, 1, 1, 1, 1, 1, 1, 1,\n",
       "       1, 1, 1, 1, 1, 1, 1, 1, 1, 1, 1, 1, 1, 1, 1, 1, 1, 1, 1, 1, 1, 1,\n",
       "       1, 1, 1, 1, 1, 1, 1, 1, 1, 1, 1, 1, 1, 1, 1, 1, 1, 1, 1, 1, 1, 1,\n",
       "       1, 1, 1, 1, 1, 1, 1, 1, 1, 1, 1, 1, 1, 1, 1, 1, 1, 1, 1, 1, 1, 1,\n",
       "       1, 1, 1, 1, 1, 1, 1, 1, 1, 1, 1, 1, 1, 1, 1, 1, 1, 1, 1, 1, 1, 1,\n",
       "       1, 1, 1, 1, 1, 1, 1, 1, 1, 1, 1, 1, 1, 1, 1, 1, 1, 1, 1, 1, 1, 1,\n",
       "       1, 1, 1, 1, 1, 1, 1, 1])"
      ]
     },
     "execution_count": 24,
     "metadata": {},
     "output_type": "execute_result"
    }
   ],
   "source": [
    "isf.predict(train[labels])"
   ]
  },
  {
   "cell_type": "markdown",
   "metadata": {},
   "source": [
    "Beware, with few samples, it becomes a challenge to adjust the algorithms to correctly identify the outliers."
   ]
  },
  {
   "cell_type": "markdown",
   "metadata": {},
   "source": [
    "## Select the features\n",
    "\n",
    "While removing outliers consists of deleting rows from the dataset, feature selection consists of deleting columns that do not contribute to the prediction. There is a wide variety of methods, such as analysis of its correlation with the target, importance analysis and recursive elimination.\n",
    "\n",
    "Let's see an example of how to identify the most relevant features for classification using a tree model:"
   ]
  },
  {
   "cell_type": "code",
   "execution_count": 25,
   "metadata": {
    "tags": []
   },
   "outputs": [
    {
     "name": "stdout",
     "output_type": "stream",
     "text": [
      "Top features:\n",
      "1. feature 127 (0.031539)\n",
      "2. feature 176 (0.016554)\n",
      "3. feature 241 (0.012582)\n",
      "4. feature 133 (0.012242)\n",
      "5. feature 135 (0.011263)\n",
      "6. feature 126 (0.011100)\n",
      "7. feature 59 (0.010686)\n",
      "8. feature 16 (0.010294)\n",
      "9. feature 220 (0.009949)\n",
      "10. feature 199 (0.009758)\n",
      "11. feature 74 (0.009215)\n",
      "12. feature 169 (0.008473)\n",
      "13. feature 66 (0.008463)\n",
      "14. feature 93 (0.007872)\n",
      "15. feature 18 (0.007814)\n"
     ]
    }
   ],
   "source": [
    "from sklearn.ensemble import ExtraTreesClassifier\n",
    "\n",
    "TOP_FEATURES = 15\n",
    "\n",
    "forest = ExtraTreesClassifier(n_estimators=250, max_depth=5, random_state=1)\n",
    "forest.fit(train[labels], train['target'])\n",
    "\n",
    "importances = forest.feature_importances_\n",
    "std = np.std(\n",
    "    [tree.feature_importances_ for tree in forest.estimators_],\n",
    "    axis=0\n",
    ")\n",
    "indices = np.argsort(importances)[::-1]\n",
    "indices = indices[:TOP_FEATURES]\n",
    "\n",
    "print('Top features:')\n",
    "for f in range(TOP_FEATURES):\n",
    "    print('%d. feature %d (%f)' % (f + 1, indices[f], importances[indices[f]]))"
   ]
  },
  {
   "cell_type": "markdown",
   "metadata": {},
   "source": [
    "We can plot a chart of the importances:"
   ]
  },
  {
   "cell_type": "code",
   "execution_count": 26,
   "metadata": {
    "tags": []
   },
   "outputs": [
    {
     "data": {
      "image/png": "[encoded data removed]",
      "text/plain": [
       "<Figure size 640x480 with 1 Axes>"
      ]
     },
     "metadata": {},
     "output_type": "display_data"
    }
   ],
   "source": [
    "plt.figure()\n",
    "plt.title('Top feature importances')\n",
    "plt.bar(\n",
    "    range(TOP_FEATURES), \n",
    "    importances[indices],\n",
    "    yerr=std[indices], \n",
    ")\n",
    "plt.xticks(range(TOP_FEATURES), indices)\n",
    "plt.show()"
   ]
  },
  {
   "cell_type": "markdown",
   "metadata": {},
   "source": [
    "In the next example, we will try to identify the most important features by successively training a model and recursively eliminating those that do not contribute to a good final solution (according to the selected model).\n",
    "\n",
    "We will use the recursive feature elimination <code>RFE</code> from the scikit-learn library and the <code>XGBClassifier</code> model:"
   ]
  },
  {
   "cell_type": "code",
   "execution_count": 27,
   "metadata": {
    "tags": []
   },
   "outputs": [
    {
     "name": "stdout",
     "output_type": "stream",
     "text": [
      "Selected features:\n",
      "['0', '1', '3', '4', '5', '6', '8', '9', '10', '13', '16', '17', '18', '19', '20', '22', '26', '29', '30', '33', '34', '37', '39', '41', '42', '46', '47', '50', '51', '52', '54', '57', '58', '59', '60', '61', '63', '66', '68', '69', '74', '76', '80', '82', '85', '87', '89', '90', '93', '95', '96', '97', '98', '101', '103', '106', '107', '108', '113', '114', '117', '119', '121', '123', '126', '127', '128', '133', '134', '135', '137', '140', '141', '142', '143', '144', '146', '147', '153', '154', '155', '157', '159', '161', '162', '163', '164', '167', '169', '170', '172', '175', '176', '177', '178', '179', '180', '183', '184', '188', '189', '190', '191', '192', '198', '199', '200', '205', '208', '211', '212', '213', '215', '218', '219', '220', '221', '224', '228', '230', '232', '234', '237', '239', '241', '242', '243', '244', '247', '248', '253', '255', '256', '260', '261', '262', '263', '265', '266', '270', '271', '273', '275', '281', '284', '286', '291', '293', '296', '298']\n"
     ]
    }
   ],
   "source": [
    "from sklearn.feature_selection import RFE\n",
    "\n",
    "rfe = RFE(XGBClassifier(n_jobs=-1, random_state=1))\n",
    "\n",
    "rfe.fit(train[labels], train['target'])\n",
    "\n",
    "print('Selected features:')\n",
    "print(labels[rfe.support_].tolist())"
   ]
  },
  {
   "cell_type": "markdown",
   "metadata": {},
   "source": [
    "**Caution: for a very small dataset, very robust local validation is required to determine whether or not a feature contributes to the final solution. **"
   ]
  },
  {
   "cell_type": "markdown",
   "metadata": {},
   "source": [
    "## Balance the dataset with synthetic samples (SMOTE)\n",
    "\n",
    "<br>\n",
    "\n",
    "Let's look at the distribution of target values:"
   ]
  },
  {
   "cell_type": "code",
   "execution_count": 28,
   "metadata": {
    "tags": []
   },
   "outputs": [
    {
     "data": {
      "image/png": "[encoded data removed]",
      "text/plain": [
       "<Figure size 640x480 with 1 Axes>"
      ]
     },
     "metadata": {},
     "output_type": "display_data"
    }
   ],
   "source": [
    "train['target'].value_counts().plot(kind='bar', title='Count (target)');"
   ]
  },
  {
   "cell_type": "markdown",
   "metadata": {},
   "source": [
    "In addition to being extremely small, our training dataset has the unbalanced <code>target</code> binary variable, which can undermine some models' predictability. We will perform an oversampling, which consists of creating new samples to increase the <code>0</code> minority class. For this we will use the SMOTE technique.\n",
    "\n",
    "SMOTE (Synthetic Minority Oversampling TEchnique) consists of synthesizing elements for the minority class, based on those that already exist. It works randomly picingk a point from the minority class and computing the k-nearest neighbors for this point. The synthetic points are added between the chosen point and its neighbors.\n",
    "\n",
    "![](https://raw.githubusercontent.com/rafjaa/machine_learning_fecib/master/src/static/img/smote.png)\n",
    "<center><strong>Source:</strong> <a href=\"https://www.kaggle.com/rafjaa/resampling-strategies-for-imbalanced-datasets\">https://www.kaggle.com/rafjaa/resampling-strategies-for-imbalanced-datasets</a></center>\n",
    "\n",
    "<br>\n",
    "\n",
    "We'll use the SMOTE implementation from the library <code>imbalanced-learn</code>, with the parameter <code>ratio='minority'</code> to resample the minority class:"
   ]
  },
  {
   "cell_type": "code",
   "execution_count": 30,
   "metadata": {
    "tags": []
   },
   "outputs": [
    {
     "data": {
      "image/png": "[encoded data removed]",
      "text/plain": [
       "<Figure size 640x480 with 1 Axes>"
      ]
     },
     "metadata": {},
     "output_type": "display_data"
    }
   ],
   "source": [
    "from imblearn.over_sampling import SMOTE\n",
    "\n",
    "smote = SMOTE(sampling_strategy='minority', n_jobs=-1)\n",
    "X_sm, y_sm = smote.fit_resample(train[labels], train['target'])\n",
    "\n",
    "df = pd.DataFrame(X_sm, columns=labels)\n",
    "df['target'] = y_sm\n",
    "\n",
    "df['target'].value_counts().plot(kind='bar', title='Count (target)');"
   ]
  },
  {
   "cell_type": "markdown",
   "metadata": {},
   "source": [
    "## Combine models for the final submission\n",
    "\n",
    "Combine the prediction of several models or the same model with different values of hyperparameters reduces variance and enhances generalization.\n",
    "\n",
    "![](https://raw.githubusercontent.com/rafjaa/curso-mineracao-de-dados-aplicada/master/img/kernel_overfitting/combine.jpg)\n",
    "<center><strong>Source:</strong> <a href=\"https://medium.com/rants-on-machine-learning/what-to-do-with-small-data-d253254d1a89\">https://medium.com/rants-on-machine-learning/what-to-do-with-small-data-d253254d1a89</a></center>\n",
    "\n",
    "<br>\n",
    "\n",
    "Often, combining weak models that are poorly correlated with each other can lead to superior results than a strong individual model. There are several ways to do this. The simplest is to perform a weighted average of the various predictions:"
   ]
  },
  {
   "cell_type": "code",
   "execution_count": 31,
   "metadata": {
    "tags": []
   },
   "outputs": [
    {
     "data": {
      "text/html": [
       "<div>\n",
       "<style scoped>\n",
       "    .dataframe tbody tr th:only-of-type {\n",
       "        vertical-align: middle;\n",
       "    }\n",
       "\n",
       "    .dataframe tbody tr th {\n",
       "        vertical-align: top;\n",
       "    }\n",
       "\n",
       "    .dataframe thead th {\n",
       "        text-align: right;\n",
       "    }\n",
       "</style>\n",
       "<table border=\"1\" class=\"dataframe\">\n",
       "  <thead>\n",
       "    <tr style=\"text-align: right;\">\n",
       "      <th></th>\n",
       "      <th>0</th>\n",
       "      <th>1</th>\n",
       "      <th>weighted_pred</th>\n",
       "    </tr>\n",
       "  </thead>\n",
       "  <tbody>\n",
       "    <tr>\n",
       "      <th>0</th>\n",
       "      <td>0.342621</td>\n",
       "      <td>0.110084</td>\n",
       "      <td>0.288959</td>\n",
       "    </tr>\n",
       "    <tr>\n",
       "      <th>1</th>\n",
       "      <td>0.064630</td>\n",
       "      <td>0.228866</td>\n",
       "      <td>0.102531</td>\n",
       "    </tr>\n",
       "    <tr>\n",
       "      <th>2</th>\n",
       "      <td>0.130286</td>\n",
       "      <td>0.368411</td>\n",
       "      <td>0.185238</td>\n",
       "    </tr>\n",
       "    <tr>\n",
       "      <th>3</th>\n",
       "      <td>0.106289</td>\n",
       "      <td>0.428504</td>\n",
       "      <td>0.180646</td>\n",
       "    </tr>\n",
       "    <tr>\n",
       "      <th>4</th>\n",
       "      <td>0.581357</td>\n",
       "      <td>0.969705</td>\n",
       "      <td>0.670976</td>\n",
       "    </tr>\n",
       "  </tbody>\n",
       "</table>\n",
       "</div>"
      ],
      "text/plain": [
       "          0         1  weighted_pred\n",
       "0  0.342621  0.110084       0.288959\n",
       "1  0.064630  0.228866       0.102531\n",
       "2  0.130286  0.368411       0.185238\n",
       "3  0.106289  0.428504       0.180646\n",
       "4  0.581357  0.969705       0.670976"
      ]
     },
     "execution_count": 31,
     "metadata": {},
     "output_type": "execute_result"
    }
   ],
   "source": [
    "models = [\n",
    "    LogisticRegression(),\n",
    "    XGBClassifier(max_depth=2)\n",
    "]\n",
    "\n",
    "preds = pd.DataFrame()\n",
    "for i, m in enumerate(models):\n",
    "    m.fit(train[labels], target),\n",
    "    preds[i] = m.predict_proba(test[labels])[:,1]\n",
    "\n",
    "weights = [1, 0.3]\n",
    "preds['weighted_pred'] = (preds * weights).sum(axis=1) / sum(weights)\n",
    "preds.head()"
   ]
  },
  {
   "cell_type": "markdown",
   "metadata": {},
   "source": [
    "Another more sophisticated way of combining predictions is the use of a meta-classifier, which receives as input the prediction of other classifiers, and performs the final predict. From the <code>mlxtend</code> library documentation:\n",
    "\n",
    "> Stacking is an ensemble learning technique to combine multiple classification models via a meta-classifier. The individual classification models are trained based on the complete training set; then, the meta-classifier is fitted based on the outputs -- meta-features -- of the individual classification models in the ensemble. The meta-classifier can either be trained on the predicted class labels or probabilities from the ensemble.\n",
    "\n",
    "![](https://raw.githubusercontent.com/rafjaa/curso-mineracao-de-dados-aplicada/master/img/kernel_overfitting/stack.png)\n",
    "<center><strong>Source:</strong> <a href=\"http://rasbt.github.io/mlxtend/user_guide/classifier/StackingClassifier/\">http://rasbt.github.io/mlxtend/user_guide/classifier/StackingClassifier/</a></center>\n",
    "\n",
    "<br>\n",
    "\n",
    "As an example, we will use the <code>StackingClassifier</code> of the <code>mlxtend</code> library:"
   ]
  },
  {
   "cell_type": "code",
   "execution_count": 32,
   "metadata": {},
   "outputs": [
    {
     "data": {
      "text/html": [
       "<div>\n",
       "<style scoped>\n",
       "    .dataframe tbody tr th:only-of-type {\n",
       "        vertical-align: middle;\n",
       "    }\n",
       "\n",
       "    .dataframe tbody tr th {\n",
       "        vertical-align: top;\n",
       "    }\n",
       "\n",
       "    .dataframe thead th {\n",
       "        text-align: right;\n",
       "    }\n",
       "</style>\n",
       "<table border=\"1\" class=\"dataframe\">\n",
       "  <thead>\n",
       "    <tr style=\"text-align: right;\">\n",
       "      <th></th>\n",
       "      <th>0</th>\n",
       "      <th>1</th>\n",
       "      <th>weighted_pred</th>\n",
       "      <th>stack_pred</th>\n",
       "    </tr>\n",
       "  </thead>\n",
       "  <tbody>\n",
       "    <tr>\n",
       "      <th>0</th>\n",
       "      <td>0.342621</td>\n",
       "      <td>0.110084</td>\n",
       "      <td>0.288959</td>\n",
       "      <td>0.064288</td>\n",
       "    </tr>\n",
       "    <tr>\n",
       "      <th>1</th>\n",
       "      <td>0.064630</td>\n",
       "      <td>0.228866</td>\n",
       "      <td>0.102531</td>\n",
       "      <td>0.034679</td>\n",
       "    </tr>\n",
       "    <tr>\n",
       "      <th>2</th>\n",
       "      <td>0.130286</td>\n",
       "      <td>0.368411</td>\n",
       "      <td>0.185238</td>\n",
       "      <td>0.076875</td>\n",
       "    </tr>\n",
       "    <tr>\n",
       "      <th>3</th>\n",
       "      <td>0.106289</td>\n",
       "      <td>0.428504</td>\n",
       "      <td>0.180646</td>\n",
       "      <td>0.088097</td>\n",
       "    </tr>\n",
       "    <tr>\n",
       "      <th>4</th>\n",
       "      <td>0.581357</td>\n",
       "      <td>0.969705</td>\n",
       "      <td>0.670976</td>\n",
       "      <td>0.861055</td>\n",
       "    </tr>\n",
       "  </tbody>\n",
       "</table>\n",
       "</div>"
      ],
      "text/plain": [
       "          0         1  weighted_pred  stack_pred\n",
       "0  0.342621  0.110084       0.288959    0.064288\n",
       "1  0.064630  0.228866       0.102531    0.034679\n",
       "2  0.130286  0.368411       0.185238    0.076875\n",
       "3  0.106289  0.428504       0.180646    0.088097\n",
       "4  0.581357  0.969705       0.670976    0.861055"
      ]
     },
     "execution_count": 32,
     "metadata": {},
     "output_type": "execute_result"
    }
   ],
   "source": [
    "from mlxtend.classifier import StackingClassifier\n",
    "\n",
    "m = StackingClassifier(\n",
    "    classifiers=[\n",
    "        LogisticRegression(),\n",
    "        XGBClassifier(max_depth=2)\n",
    "    ],\n",
    "    use_probas=True,\n",
    "    meta_classifier=LogisticRegression()\n",
    ")\n",
    "\n",
    "m.fit(train[labels], target),\n",
    "preds['stack_pred'] = m.predict_proba(test[labels])[:,1]\n",
    "preds.head()"
   ]
  },
  {
   "cell_type": "markdown",
   "metadata": {},
   "source": [
    "## Acknowledgments\n",
    "\n",
    "Thanks to Rafael Alencar for creating the open-source project [Dealing with very small datasets](https://www.kaggle.com/code/rafjaa/dealing-with-very-small-datasets). It inspires the majority of the content in this chapter."
   ]
  }
 ],
 "metadata": {
  "kernelspec": {
   "display_name": "Python 3 (ipykernel)",
   "language": "python",
   "name": "python3"
  },
  "language_info": {
   "codemirror_mode": {
    "name": "ipython",
    "version": 3
   },
   "file_extension": ".py",
   "mimetype": "text/x-python",
   "name": "python",
   "nbconvert_exporter": "python",
   "pygments_lexer": "ipython3",
   "version": "3.10.9"
  }
 },
 "nbformat": 4,
 "nbformat_minor": 4
}
