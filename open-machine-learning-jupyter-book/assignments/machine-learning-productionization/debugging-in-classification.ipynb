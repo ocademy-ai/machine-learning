{
  "cells": [
    {
      "attachments": {},
      "cell_type": "markdown",
      "metadata": {},
      "source": [
        "<details><summary><b>LICENSE</b></summary>\n",
        "\n",
        "Copyright 2018 Google LLC.\n",
        "\n",
        "Licensed under the Apache License, Version 2.0 (the \"License\");\n",
        "you may not use this file except in compliance with the License.\n",
        "You may obtain a copy of the License at\n",
        "\n",
        "https://www.apache.org/licenses/LICENSE-2.0\n",
        "\n",
        "Unless required by applicable law or agreed to in writing, software\n",
        "distributed under the License is distributed on an \"AS IS\" BASIS,\n",
        "WITHOUT WARRANTIES OR CONDITIONS OF ANY KIND, either express or implied.\n",
        "See the License for the specific language governing permissions and\n",
        "limitations under the License.\n",
        "</details>"
      ]
    },
    {
      "cell_type": "markdown",
      "metadata": {
        "id": "MvIx0zxzE93Y"
      },
      "source": [
        "# Case Study: Debugging in Classification"
      ]
    },
    {
      "cell_type": "markdown",
      "metadata": {
        "id": "9tNgLQzd1QHX"
      },
      "source": [
        "This Colab quickly demonstrates a few concepts related to debugging classification models. You will explore potential problems in implementing these tasks:\n",
        "\n",
        "* Calculating loss for classification problems.\n",
        "* Optimizing your model\n",
        "* Applying regularization.\n",
        "* Following best practices in development and debugging.\n",
        "\n",
        "Please **make a copy** of this Colab before running it. Click on *File*, and then click on *Save a copy in Drive*."
      ]
    },
    {
      "cell_type": "markdown",
      "metadata": {
        "id": "0X7dDkLFFCYT"
      },
      "source": [
        "## Load MNIST Data"
      ]
    },
    {
      "cell_type": "markdown",
      "metadata": {
        "id": "vmtkGlmC0a0O"
      },
      "source": [
        "MNIST is a dataset of images of the numbers 0 to 9. The problem is to classify the images as numbers. Setup libraries and load the MNIST dataset. Display the first few rows to verify that the data loaded. You'll explore the data format after the data loads."
      ]
    },
    {
      "cell_type": "code",
      "execution_count": 10,
      "metadata": {
        "id": "RNYSqbAcFOIs"
      },
      "outputs": [
        {
          "data": {
            "text/html": [
              "<div>\n",
              "<style scoped>\n",
              "    .dataframe tbody tr th:only-of-type {\n",
              "        vertical-align: middle;\n",
              "    }\n",
              "\n",
              "    .dataframe tbody tr th {\n",
              "        vertical-align: top;\n",
              "    }\n",
              "\n",
              "    .dataframe thead th {\n",
              "        text-align: right;\n",
              "    }\n",
              "</style>\n",
              "<table border=\"1\" class=\"dataframe\">\n",
              "  <thead>\n",
              "    <tr style=\"text-align: right;\">\n",
              "      <th></th>\n",
              "      <th>0</th>\n",
              "      <th>1</th>\n",
              "      <th>2</th>\n",
              "      <th>3</th>\n",
              "      <th>4</th>\n",
              "      <th>5</th>\n",
              "      <th>6</th>\n",
              "      <th>7</th>\n",
              "      <th>8</th>\n",
              "      <th>9</th>\n",
              "      <th>...</th>\n",
              "      <th>775</th>\n",
              "      <th>776</th>\n",
              "      <th>777</th>\n",
              "      <th>778</th>\n",
              "      <th>779</th>\n",
              "      <th>780</th>\n",
              "      <th>781</th>\n",
              "      <th>782</th>\n",
              "      <th>783</th>\n",
              "      <th>784</th>\n",
              "    </tr>\n",
              "  </thead>\n",
              "  <tbody>\n",
              "    <tr>\n",
              "      <th>0</th>\n",
              "      <td>6</td>\n",
              "      <td>0</td>\n",
              "      <td>0</td>\n",
              "      <td>0</td>\n",
              "      <td>0</td>\n",
              "      <td>0</td>\n",
              "      <td>0</td>\n",
              "      <td>0</td>\n",
              "      <td>0</td>\n",
              "      <td>0</td>\n",
              "      <td>...</td>\n",
              "      <td>0</td>\n",
              "      <td>0</td>\n",
              "      <td>0</td>\n",
              "      <td>0</td>\n",
              "      <td>0</td>\n",
              "      <td>0</td>\n",
              "      <td>0</td>\n",
              "      <td>0</td>\n",
              "      <td>0</td>\n",
              "      <td>0</td>\n",
              "    </tr>\n",
              "    <tr>\n",
              "      <th>1</th>\n",
              "      <td>5</td>\n",
              "      <td>0</td>\n",
              "      <td>0</td>\n",
              "      <td>0</td>\n",
              "      <td>0</td>\n",
              "      <td>0</td>\n",
              "      <td>0</td>\n",
              "      <td>0</td>\n",
              "      <td>0</td>\n",
              "      <td>0</td>\n",
              "      <td>...</td>\n",
              "      <td>0</td>\n",
              "      <td>0</td>\n",
              "      <td>0</td>\n",
              "      <td>0</td>\n",
              "      <td>0</td>\n",
              "      <td>0</td>\n",
              "      <td>0</td>\n",
              "      <td>0</td>\n",
              "      <td>0</td>\n",
              "      <td>0</td>\n",
              "    </tr>\n",
              "    <tr>\n",
              "      <th>2</th>\n",
              "      <td>7</td>\n",
              "      <td>0</td>\n",
              "      <td>0</td>\n",
              "      <td>0</td>\n",
              "      <td>0</td>\n",
              "      <td>0</td>\n",
              "      <td>0</td>\n",
              "      <td>0</td>\n",
              "      <td>0</td>\n",
              "      <td>0</td>\n",
              "      <td>...</td>\n",
              "      <td>0</td>\n",
              "      <td>0</td>\n",
              "      <td>0</td>\n",
              "      <td>0</td>\n",
              "      <td>0</td>\n",
              "      <td>0</td>\n",
              "      <td>0</td>\n",
              "      <td>0</td>\n",
              "      <td>0</td>\n",
              "      <td>0</td>\n",
              "    </tr>\n",
              "    <tr>\n",
              "      <th>3</th>\n",
              "      <td>9</td>\n",
              "      <td>0</td>\n",
              "      <td>0</td>\n",
              "      <td>0</td>\n",
              "      <td>0</td>\n",
              "      <td>0</td>\n",
              "      <td>0</td>\n",
              "      <td>0</td>\n",
              "      <td>0</td>\n",
              "      <td>0</td>\n",
              "      <td>...</td>\n",
              "      <td>0</td>\n",
              "      <td>0</td>\n",
              "      <td>0</td>\n",
              "      <td>0</td>\n",
              "      <td>0</td>\n",
              "      <td>0</td>\n",
              "      <td>0</td>\n",
              "      <td>0</td>\n",
              "      <td>0</td>\n",
              "      <td>0</td>\n",
              "    </tr>\n",
              "    <tr>\n",
              "      <th>4</th>\n",
              "      <td>5</td>\n",
              "      <td>0</td>\n",
              "      <td>0</td>\n",
              "      <td>0</td>\n",
              "      <td>0</td>\n",
              "      <td>0</td>\n",
              "      <td>0</td>\n",
              "      <td>0</td>\n",
              "      <td>0</td>\n",
              "      <td>0</td>\n",
              "      <td>...</td>\n",
              "      <td>0</td>\n",
              "      <td>0</td>\n",
              "      <td>0</td>\n",
              "      <td>0</td>\n",
              "      <td>0</td>\n",
              "      <td>0</td>\n",
              "      <td>0</td>\n",
              "      <td>0</td>\n",
              "      <td>0</td>\n",
              "      <td>0</td>\n",
              "    </tr>\n",
              "  </tbody>\n",
              "</table>\n",
              "<p>5 rows × 785 columns</p>\n",
              "</div>"
            ],
            "text/plain": [
              "   0    1    2    3    4    5    6    7    8    9    ...  775  776  777  778  \\\n",
              "0    6    0    0    0    0    0    0    0    0    0  ...    0    0    0    0   \n",
              "1    5    0    0    0    0    0    0    0    0    0  ...    0    0    0    0   \n",
              "2    7    0    0    0    0    0    0    0    0    0  ...    0    0    0    0   \n",
              "3    9    0    0    0    0    0    0    0    0    0  ...    0    0    0    0   \n",
              "4    5    0    0    0    0    0    0    0    0    0  ...    0    0    0    0   \n",
              "\n",
              "   779  780  781  782  783  784  \n",
              "0    0    0    0    0    0    0  \n",
              "1    0    0    0    0    0    0  \n",
              "2    0    0    0    0    0    0  \n",
              "3    0    0    0    0    0    0  \n",
              "4    0    0    0    0    0    0  \n",
              "\n",
              "[5 rows x 785 columns]"
            ]
          },
          "execution_count": 10,
          "metadata": {},
          "output_type": "execute_result"
        }
      ],
      "source": [
        "# Reset environment for a new run\n",
        "%reset -f\n",
        "\n",
        "# Load Libraries\n",
        "from os.path import join # for joining file pathnames\n",
        "import pandas as pd\n",
        "import tensorflow as tf\n",
        "from tensorflow import keras\n",
        "import numpy as np\n",
        "import matplotlib.pyplot as plt\n",
        "import unittest\n",
        "import sys\n",
        "\n",
        "# Set Pandas display options\n",
        "pd.options.display.max_rows = 10\n",
        "pd.options.display.float_format = '{:.1f}'.format\n",
        "\n",
        "# Load data\n",
        "mnistDf_backup = pd.read_csv(\n",
        "  \"https://download.mlcc.google.com/mledu-datasets/mnist_train_small.csv\",\n",
        "  sep=\",\",\n",
        "  header=None)\n",
        "# Shuffle data\n",
        "mnistDf_backup.sample(frac=1).reset_index(drop=True)\n",
        "# Use the first 5000 examples for faster prototyping\n",
        "mnistDf = mnistDf_backup[0:5000]\n",
        "\n",
        "mnistDf.head()"
      ]
    },
    {
      "cell_type": "markdown",
      "metadata": {
        "id": "Z70hEJlEGyMJ"
      },
      "source": [
        "## Understanding the Data Format"
      ]
    },
    {
      "cell_type": "markdown",
      "metadata": {
        "id": "kg0-25p2mOi0"
      },
      "source": [
        "Each row represents one labeled example. Column 0 represents the label that a human rater has assigned for one handwritten digit. For example, if Column 0 contains '6', then a human rater interpreted the handwritten character as the digit '6'.  The ten digits 0-9 are each represented, with a unique class label for each possible digit. Thus, this is a multi-class classification problem with 10 classes."
      ]
    },
    {
      "cell_type": "markdown",
      "metadata": {
        "id": "PQ7vuOwRCsZ1"
      },
      "source": [
        "![img](https://www.tensorflow.org/versions/r0.11/images/MNIST-Matrix.png)"
      ]
    },
    {
      "cell_type": "markdown",
      "metadata": {
        "id": "dghlqJPIu8UM"
      },
      "source": [
        "Columns 1 through 784 contain the feature values, one per pixel for the 28×28=784 pixel values. The pixel values are on a gray scale in which 0 represents white, 255 represents black, and values between 0 and 255 represent shades of gray. Most of the pixel values are 0; you may want to take a minute to confirm that they aren't all 0.  Modify the form below and run the code to view data for a given example."
      ]
    },
    {
      "cell_type": "code",
      "execution_count": 11,
      "metadata": {
        "cellView": "form",
        "id": "2ZkrL5MCqiJI"
      },
      "outputs": [
        {
          "name": "stdout",
          "output_type": "stream",
          "text": [
            "[[  3   0   0   0   0   0   0   0   0   0   0   0   0   0   0   0   0   0\n",
            "    0   0   0   0   0   0   0   0   0   0]\n",
            " [  0   0   0   0   0   0   0   0   0   0   0   0   0   0   0   0   0   0\n",
            "    0   0   0   0   0   0   0   0   0   0]\n",
            " [  0   0   0   0   0   0   0   0   0   0   0   0   0   0   0   0   0   0\n",
            "    0   0   0   0   0   0   0   0   0   0]\n",
            " [  0   0   0   0   0   0   0   0   0   0   0   0   0   0   0   0   0   0\n",
            "    0   0   0   0   0   0   0   0   0   0]\n",
            " [  0   0   0   0   0   0   0   0   0   0   0   0   0   0   0   0   0   0\n",
            "    0   0   0   0   0   0   0   0   0   0]\n",
            " [  0   0   0   0   0   0   0   0   0   0   0   0   0   0   0   0   0   0\n",
            "    0   0   0   0   0   0   0   0   0   0]\n",
            " [  0   0   0   0   0   0   0   0   0  82 152 233 254 213 152 112  21   0\n",
            "    0   0   0   0   0   0   0   0   0   0]\n",
            " [  0   0   0   0   0   0   0  82 163 243 192 232 253 252 253 252 223  40\n",
            "    0   0   0   0   0   0   0   0   0   0]\n",
            " [  0   0   0   0   0   0   0  41  82   0   0   0   0   0  62 142 254 151\n",
            "    0   0   0   0   0   0   0   0   0   0]\n",
            " [  0   0   0   0   0   0   0   0   0   0   0   0   0   0   0   0 253 151\n",
            "    0   0   0   0   0   0   0   0   0   0]\n",
            " [  0   0   0   0   0   0   0   0   0   0   0   0   0   0   0  82 254  91\n",
            "    0   0   0   0   0   0   0   0   0   0]\n",
            " [  0   0   0   0   0   0   0   0   0   0   0   0   0   0  41 243 253  50\n",
            "    0   0   0   0   0   0   0   0   0   0]\n",
            " [  0   0   0   0   0   0   0   0   0   0   0   0   0   0 173 253  82   0\n",
            "    0   0   0   0   0   0   0   0   0   0]\n",
            " [  0   0   0   0   0   0   0   0   0   0   0   0   0  82 253 212   0   0\n",
            "    0   0   0   0   0   0   0   0   0   0]\n",
            " [  0   0   0   0   0   0   0   0   0   0   0   0 113 253 234  71  92  51\n",
            "   21   0   0   0   0   0   0   0   0   0]\n",
            " [  0   0   0   0   0   0   0   0   0   0   0   0 152 252 253 252 253 252\n",
            "  203  61   0   0   0   0   0   0   0   0]\n",
            " [  0   0   0   0   0   0   0   0   0   0   0   0  62 102 102 102 102 142\n",
            "  234 213  21   0   0   0   0   0   0   0]\n",
            " [  0   0   0   0   0   0   0   0   0   0   0   0   0   0   0   0   0   0\n",
            "  152 252 102   0   0   0   0   0   0   0]\n",
            " [  0   0   0   0   0   0   0   0   0   0   0   0   0   0   0   0   0   0\n",
            "  152 253 102   0   0   0   0   0   0   0]\n",
            " [  0   0   0   0   0   0   0   0   0   0   0   0   0   0   0   0   0   0\n",
            "  152 252 102   0   0   0   0   0   0   0]\n",
            " [  0   0   0   0   0   0   0   0   0   0   0   0   0   0   0   0   0   0\n",
            "  152 253  41   0   0   0   0   0   0   0]\n",
            " [  0   0   0   0   0   0   0   0   0   0   0   0   0   0   0   0   0   0\n",
            "  233 171   0   0   0   0   0   0   0   0]\n",
            " [  0   0   0   0   0   0   0   0   0   0   0   0   0   0   0   0   0 163\n",
            "  255 131   0   0   0   0   0   0   0   0]\n",
            " [  0   0   0   0   0   0   0   0   0   0   0   0   0   0   0   0  21 223\n",
            "  233  30   0   0   0   0   0   0   0   0]\n",
            " [  0   0   0   0   0   0   0   0   0   0   0   0   0   0  92  51 214 253\n",
            "   82   0   0   0   0   0   0   0   0   0]\n",
            " [  0   0   0   0   0   0   0   0   0   0   0   0   0   0  51 252 253  90\n",
            "    0   0   0   0   0   0   0   0   0   0]\n",
            " [  0   0   0   0   0   0   0   0   0   0   0   0   0   0   0   0   0   0\n",
            "    0   0   0   0   0   0   0   0   0   0]\n",
            " [  0   0   0   0   0   0   0   0   0   0   0   0   0   0   0   0   0   0\n",
            "    0   0   0   0   0   0   0   0   0   0]]\n"
          ]
        }
      ],
      "source": [
        "showExample = 1000 # @param\n",
        "digitData = np.reshape(mnistDf.iloc[showExample,0:-1],[28,28])\n",
        "print (digitData)"
      ]
    },
    {
      "cell_type": "markdown",
      "metadata": {
        "id": "NdGR7XJFG3SC"
      },
      "source": [
        "## Do you have Imbalanced Classes?"
      ]
    },
    {
      "cell_type": "markdown",
      "metadata": {
        "id": "iaCeo87dGq6F"
      },
      "source": [
        "As we read in the course, imbalanced classes make classification harder. Let's look at the distribution of classes. Do you have imbalanced classes?"
      ]
    },
    {
      "cell_type": "code",
      "execution_count": 12,
      "metadata": {
        "id": "ovuBykz5GCHl"
      },
      "outputs": [
        {
          "name": "stderr",
          "output_type": "stream",
          "text": [
            "UsageError: Line magic function `%hide_result` not found.\n"
          ]
        }
      ],
      "source": [
        "%hide_result # hides result of cell computation\n",
        "# Calculate the number of classes\n",
        "numClasses = mnistDf.iloc[:,0].unique().shape[0]\n",
        "# Plot histogram of class distribution\n",
        "plt.hist(mnistDf.iloc[:,0], bins=range(numClasses+1))\n",
        "plt.xticks(range(numClasses+1))"
      ]
    },
    {
      "cell_type": "markdown",
      "metadata": {
        "id": "a7b5jJzMFd9f"
      },
      "source": [
        "The preceding graph shows that the 10 classes are roughly equally represented."
      ]
    },
    {
      "cell_type": "markdown",
      "metadata": {
        "id": "Z9gUThwlOjRu"
      },
      "source": [
        "## Shuffle and Split Dataset"
      ]
    },
    {
      "cell_type": "markdown",
      "metadata": {
        "id": "yPd1qfBGOmot"
      },
      "source": [
        "As part of [Data Debugging](https://developers.google.com/machine-learning/testing-debugging/common/data-errors) best practices, ensure your splits are statistically equivalent by shuffling your data to remove any pre-existing order."
      ]
    },
    {
      "cell_type": "code",
      "execution_count": 13,
      "metadata": {
        "id": "9dKZM0l8Om_Q"
      },
      "outputs": [],
      "source": [
        "# Shuffle data\n",
        "mnistDf = mnistDf.sample(frac=1).reset_index(drop=True)\n",
        "\n",
        "# Split dataset into data and labels\n",
        "mnistData = mnistDf.iloc[:,1:-1].copy(deep=True)\n",
        "mnistLabels = mnistDf.iloc[:,0].copy(deep=True)"
      ]
    },
    {
      "cell_type": "markdown",
      "metadata": {
        "id": "i7cOxjDqJW1r"
      },
      "source": [
        "## Process Data"
      ]
    },
    {
      "cell_type": "markdown",
      "metadata": {
        "id": "T8Hsfx4OJh4J"
      },
      "source": [
        "Scale the data values to `[0,1]` since the values are bounded to `[0,255]` and do not contain outliers. Then check that the scaled data values are as expected by generating summary statistics using the `DataFrame.describe()` function.\n",
        "\n",
        "Run the following cell to scale data and generate statistics. This cell takes a few minutes to run."
      ]
    },
    {
      "cell_type": "code",
      "execution_count": 14,
      "metadata": {
        "id": "xz6glQVeJhGa"
      },
      "outputs": [
        {
          "data": {
            "text/html": [
              "<div>\n",
              "<style scoped>\n",
              "    .dataframe tbody tr th:only-of-type {\n",
              "        vertical-align: middle;\n",
              "    }\n",
              "\n",
              "    .dataframe tbody tr th {\n",
              "        vertical-align: top;\n",
              "    }\n",
              "\n",
              "    .dataframe thead th {\n",
              "        text-align: right;\n",
              "    }\n",
              "</style>\n",
              "<table border=\"1\" class=\"dataframe\">\n",
              "  <thead>\n",
              "    <tr style=\"text-align: right;\">\n",
              "      <th></th>\n",
              "      <th>1</th>\n",
              "      <th>2</th>\n",
              "      <th>3</th>\n",
              "      <th>4</th>\n",
              "      <th>5</th>\n",
              "      <th>6</th>\n",
              "      <th>7</th>\n",
              "      <th>8</th>\n",
              "      <th>9</th>\n",
              "      <th>10</th>\n",
              "      <th>...</th>\n",
              "      <th>774</th>\n",
              "      <th>775</th>\n",
              "      <th>776</th>\n",
              "      <th>777</th>\n",
              "      <th>778</th>\n",
              "      <th>779</th>\n",
              "      <th>780</th>\n",
              "      <th>781</th>\n",
              "      <th>782</th>\n",
              "      <th>783</th>\n",
              "    </tr>\n",
              "  </thead>\n",
              "  <tbody>\n",
              "    <tr>\n",
              "      <th>count</th>\n",
              "      <td>0.0</td>\n",
              "      <td>0.0</td>\n",
              "      <td>0.0</td>\n",
              "      <td>0.0</td>\n",
              "      <td>0.0</td>\n",
              "      <td>0.0</td>\n",
              "      <td>0.0</td>\n",
              "      <td>0.0</td>\n",
              "      <td>0.0</td>\n",
              "      <td>0.0</td>\n",
              "      <td>...</td>\n",
              "      <td>5000.0</td>\n",
              "      <td>5000.0</td>\n",
              "      <td>5000.0</td>\n",
              "      <td>5000.0</td>\n",
              "      <td>5000.0</td>\n",
              "      <td>5000.0</td>\n",
              "      <td>5000.0</td>\n",
              "      <td>0.0</td>\n",
              "      <td>0.0</td>\n",
              "      <td>0.0</td>\n",
              "    </tr>\n",
              "    <tr>\n",
              "      <th>mean</th>\n",
              "      <td>NaN</td>\n",
              "      <td>NaN</td>\n",
              "      <td>NaN</td>\n",
              "      <td>NaN</td>\n",
              "      <td>NaN</td>\n",
              "      <td>NaN</td>\n",
              "      <td>NaN</td>\n",
              "      <td>NaN</td>\n",
              "      <td>NaN</td>\n",
              "      <td>NaN</td>\n",
              "      <td>...</td>\n",
              "      <td>0.0</td>\n",
              "      <td>0.0</td>\n",
              "      <td>0.0</td>\n",
              "      <td>0.0</td>\n",
              "      <td>0.0</td>\n",
              "      <td>0.0</td>\n",
              "      <td>0.0</td>\n",
              "      <td>NaN</td>\n",
              "      <td>NaN</td>\n",
              "      <td>NaN</td>\n",
              "    </tr>\n",
              "    <tr>\n",
              "      <th>std</th>\n",
              "      <td>NaN</td>\n",
              "      <td>NaN</td>\n",
              "      <td>NaN</td>\n",
              "      <td>NaN</td>\n",
              "      <td>NaN</td>\n",
              "      <td>NaN</td>\n",
              "      <td>NaN</td>\n",
              "      <td>NaN</td>\n",
              "      <td>NaN</td>\n",
              "      <td>NaN</td>\n",
              "      <td>...</td>\n",
              "      <td>0.0</td>\n",
              "      <td>0.0</td>\n",
              "      <td>0.0</td>\n",
              "      <td>0.0</td>\n",
              "      <td>0.0</td>\n",
              "      <td>0.0</td>\n",
              "      <td>0.0</td>\n",
              "      <td>NaN</td>\n",
              "      <td>NaN</td>\n",
              "      <td>NaN</td>\n",
              "    </tr>\n",
              "    <tr>\n",
              "      <th>min</th>\n",
              "      <td>NaN</td>\n",
              "      <td>NaN</td>\n",
              "      <td>NaN</td>\n",
              "      <td>NaN</td>\n",
              "      <td>NaN</td>\n",
              "      <td>NaN</td>\n",
              "      <td>NaN</td>\n",
              "      <td>NaN</td>\n",
              "      <td>NaN</td>\n",
              "      <td>NaN</td>\n",
              "      <td>...</td>\n",
              "      <td>0.0</td>\n",
              "      <td>0.0</td>\n",
              "      <td>0.0</td>\n",
              "      <td>0.0</td>\n",
              "      <td>0.0</td>\n",
              "      <td>0.0</td>\n",
              "      <td>0.0</td>\n",
              "      <td>NaN</td>\n",
              "      <td>NaN</td>\n",
              "      <td>NaN</td>\n",
              "    </tr>\n",
              "    <tr>\n",
              "      <th>25%</th>\n",
              "      <td>NaN</td>\n",
              "      <td>NaN</td>\n",
              "      <td>NaN</td>\n",
              "      <td>NaN</td>\n",
              "      <td>NaN</td>\n",
              "      <td>NaN</td>\n",
              "      <td>NaN</td>\n",
              "      <td>NaN</td>\n",
              "      <td>NaN</td>\n",
              "      <td>NaN</td>\n",
              "      <td>...</td>\n",
              "      <td>0.0</td>\n",
              "      <td>0.0</td>\n",
              "      <td>0.0</td>\n",
              "      <td>0.0</td>\n",
              "      <td>0.0</td>\n",
              "      <td>0.0</td>\n",
              "      <td>0.0</td>\n",
              "      <td>NaN</td>\n",
              "      <td>NaN</td>\n",
              "      <td>NaN</td>\n",
              "    </tr>\n",
              "    <tr>\n",
              "      <th>50%</th>\n",
              "      <td>NaN</td>\n",
              "      <td>NaN</td>\n",
              "      <td>NaN</td>\n",
              "      <td>NaN</td>\n",
              "      <td>NaN</td>\n",
              "      <td>NaN</td>\n",
              "      <td>NaN</td>\n",
              "      <td>NaN</td>\n",
              "      <td>NaN</td>\n",
              "      <td>NaN</td>\n",
              "      <td>...</td>\n",
              "      <td>0.0</td>\n",
              "      <td>0.0</td>\n",
              "      <td>0.0</td>\n",
              "      <td>0.0</td>\n",
              "      <td>0.0</td>\n",
              "      <td>0.0</td>\n",
              "      <td>0.0</td>\n",
              "      <td>NaN</td>\n",
              "      <td>NaN</td>\n",
              "      <td>NaN</td>\n",
              "    </tr>\n",
              "    <tr>\n",
              "      <th>75%</th>\n",
              "      <td>NaN</td>\n",
              "      <td>NaN</td>\n",
              "      <td>NaN</td>\n",
              "      <td>NaN</td>\n",
              "      <td>NaN</td>\n",
              "      <td>NaN</td>\n",
              "      <td>NaN</td>\n",
              "      <td>NaN</td>\n",
              "      <td>NaN</td>\n",
              "      <td>NaN</td>\n",
              "      <td>...</td>\n",
              "      <td>0.0</td>\n",
              "      <td>0.0</td>\n",
              "      <td>0.0</td>\n",
              "      <td>0.0</td>\n",
              "      <td>0.0</td>\n",
              "      <td>0.0</td>\n",
              "      <td>0.0</td>\n",
              "      <td>NaN</td>\n",
              "      <td>NaN</td>\n",
              "      <td>NaN</td>\n",
              "    </tr>\n",
              "    <tr>\n",
              "      <th>max</th>\n",
              "      <td>NaN</td>\n",
              "      <td>NaN</td>\n",
              "      <td>NaN</td>\n",
              "      <td>NaN</td>\n",
              "      <td>NaN</td>\n",
              "      <td>NaN</td>\n",
              "      <td>NaN</td>\n",
              "      <td>NaN</td>\n",
              "      <td>NaN</td>\n",
              "      <td>NaN</td>\n",
              "      <td>...</td>\n",
              "      <td>1.0</td>\n",
              "      <td>1.0</td>\n",
              "      <td>1.0</td>\n",
              "      <td>1.0</td>\n",
              "      <td>1.0</td>\n",
              "      <td>1.0</td>\n",
              "      <td>1.0</td>\n",
              "      <td>NaN</td>\n",
              "      <td>NaN</td>\n",
              "      <td>NaN</td>\n",
              "    </tr>\n",
              "  </tbody>\n",
              "</table>\n",
              "<p>8 rows × 783 columns</p>\n",
              "</div>"
            ],
            "text/plain": [
              "       1    2    3    4    5    6    7    8    9    10   ...    774    775  \\\n",
              "count  0.0  0.0  0.0  0.0  0.0  0.0  0.0  0.0  0.0  0.0  ... 5000.0 5000.0   \n",
              "mean   NaN  NaN  NaN  NaN  NaN  NaN  NaN  NaN  NaN  NaN  ...    0.0    0.0   \n",
              "std    NaN  NaN  NaN  NaN  NaN  NaN  NaN  NaN  NaN  NaN  ...    0.0    0.0   \n",
              "min    NaN  NaN  NaN  NaN  NaN  NaN  NaN  NaN  NaN  NaN  ...    0.0    0.0   \n",
              "25%    NaN  NaN  NaN  NaN  NaN  NaN  NaN  NaN  NaN  NaN  ...    0.0    0.0   \n",
              "50%    NaN  NaN  NaN  NaN  NaN  NaN  NaN  NaN  NaN  NaN  ...    0.0    0.0   \n",
              "75%    NaN  NaN  NaN  NaN  NaN  NaN  NaN  NaN  NaN  NaN  ...    0.0    0.0   \n",
              "max    NaN  NaN  NaN  NaN  NaN  NaN  NaN  NaN  NaN  NaN  ...    1.0    1.0   \n",
              "\n",
              "         776    777    778    779    780  781  782  783  \n",
              "count 5000.0 5000.0 5000.0 5000.0 5000.0  0.0  0.0  0.0  \n",
              "mean     0.0    0.0    0.0    0.0    0.0  NaN  NaN  NaN  \n",
              "std      0.0    0.0    0.0    0.0    0.0  NaN  NaN  NaN  \n",
              "min      0.0    0.0    0.0    0.0    0.0  NaN  NaN  NaN  \n",
              "25%      0.0    0.0    0.0    0.0    0.0  NaN  NaN  NaN  \n",
              "50%      0.0    0.0    0.0    0.0    0.0  NaN  NaN  NaN  \n",
              "75%      0.0    0.0    0.0    0.0    0.0  NaN  NaN  NaN  \n",
              "max      1.0    1.0    1.0    1.0    1.0  NaN  NaN  NaN  \n",
              "\n",
              "[8 rows x 783 columns]"
            ]
          },
          "execution_count": 14,
          "metadata": {},
          "output_type": "execute_result"
        }
      ],
      "source": [
        "def minMaxScaler(arr):\n",
        "  min = np.min(arr)\n",
        "  max = np.max(arr)\n",
        "  arr = (arr-min)/max\n",
        "  return arr\n",
        "\n",
        "for featureIdx in range(mnistData.shape[1]):\n",
        "  mnistData.iloc[:,featureIdx] = minMaxScaler(mnistData.iloc[:,featureIdx])\n",
        "\n",
        "mnistData.describe()"
      ]
    },
    {
      "cell_type": "markdown",
      "metadata": {
        "id": "ja7-yiPaNSqQ"
      },
      "source": [
        "Oh no! Some of your features are all `NaN`. What do you think the cause is? Hint: While NaNs have many causes, in this case, the NaN values are caused by the properties of your data. Use the next code cell to explore your data. Then check the next cell for the solution. Try to find the solution yourself. Debugging `NaN`s and exploring your data are important skills."
      ]
    },
    {
      "cell_type": "code",
      "execution_count": 15,
      "metadata": {
        "id": "MDcTFax_FaAh"
      },
      "outputs": [],
      "source": [
        "# First reload your data\n",
        "mnistData = mnistDf.iloc[:,1:-1].copy(deep=True)"
      ]
    },
    {
      "cell_type": "code",
      "execution_count": 16,
      "metadata": {
        "id": "lPRf41XwNlSJ"
      },
      "outputs": [],
      "source": [
        "# Explore your data"
      ]
    },
    {
      "cell_type": "markdown",
      "metadata": {
        "id": "nKdUi_QENxXp"
      },
      "source": [
        "### Solution"
      ]
    },
    {
      "cell_type": "markdown",
      "metadata": {
        "id": "OCYR63qR249Y"
      },
      "source": [
        "Start exploring your data by generating a high-level summary using `Dataframe.describe()`."
      ]
    },
    {
      "cell_type": "code",
      "execution_count": 17,
      "metadata": {
        "id": "KrZUagAw24oS"
      },
      "outputs": [
        {
          "data": {
            "text/html": [
              "<div>\n",
              "<style scoped>\n",
              "    .dataframe tbody tr th:only-of-type {\n",
              "        vertical-align: middle;\n",
              "    }\n",
              "\n",
              "    .dataframe tbody tr th {\n",
              "        vertical-align: top;\n",
              "    }\n",
              "\n",
              "    .dataframe thead th {\n",
              "        text-align: right;\n",
              "    }\n",
              "</style>\n",
              "<table border=\"1\" class=\"dataframe\">\n",
              "  <thead>\n",
              "    <tr style=\"text-align: right;\">\n",
              "      <th></th>\n",
              "      <th>1</th>\n",
              "      <th>2</th>\n",
              "      <th>3</th>\n",
              "      <th>4</th>\n",
              "      <th>5</th>\n",
              "      <th>6</th>\n",
              "      <th>7</th>\n",
              "      <th>8</th>\n",
              "      <th>9</th>\n",
              "      <th>10</th>\n",
              "      <th>...</th>\n",
              "      <th>774</th>\n",
              "      <th>775</th>\n",
              "      <th>776</th>\n",
              "      <th>777</th>\n",
              "      <th>778</th>\n",
              "      <th>779</th>\n",
              "      <th>780</th>\n",
              "      <th>781</th>\n",
              "      <th>782</th>\n",
              "      <th>783</th>\n",
              "    </tr>\n",
              "  </thead>\n",
              "  <tbody>\n",
              "    <tr>\n",
              "      <th>count</th>\n",
              "      <td>5000.0</td>\n",
              "      <td>5000.0</td>\n",
              "      <td>5000.0</td>\n",
              "      <td>5000.0</td>\n",
              "      <td>5000.0</td>\n",
              "      <td>5000.0</td>\n",
              "      <td>5000.0</td>\n",
              "      <td>5000.0</td>\n",
              "      <td>5000.0</td>\n",
              "      <td>5000.0</td>\n",
              "      <td>...</td>\n",
              "      <td>5000.0</td>\n",
              "      <td>5000.0</td>\n",
              "      <td>5000.0</td>\n",
              "      <td>5000.0</td>\n",
              "      <td>5000.0</td>\n",
              "      <td>5000.0</td>\n",
              "      <td>5000.0</td>\n",
              "      <td>5000.0</td>\n",
              "      <td>5000.0</td>\n",
              "      <td>5000.0</td>\n",
              "    </tr>\n",
              "    <tr>\n",
              "      <th>mean</th>\n",
              "      <td>0.0</td>\n",
              "      <td>0.0</td>\n",
              "      <td>0.0</td>\n",
              "      <td>0.0</td>\n",
              "      <td>0.0</td>\n",
              "      <td>0.0</td>\n",
              "      <td>0.0</td>\n",
              "      <td>0.0</td>\n",
              "      <td>0.0</td>\n",
              "      <td>0.0</td>\n",
              "      <td>...</td>\n",
              "      <td>0.5</td>\n",
              "      <td>0.3</td>\n",
              "      <td>0.1</td>\n",
              "      <td>0.0</td>\n",
              "      <td>0.0</td>\n",
              "      <td>0.0</td>\n",
              "      <td>0.0</td>\n",
              "      <td>0.0</td>\n",
              "      <td>0.0</td>\n",
              "      <td>0.0</td>\n",
              "    </tr>\n",
              "    <tr>\n",
              "      <th>std</th>\n",
              "      <td>0.0</td>\n",
              "      <td>0.0</td>\n",
              "      <td>0.0</td>\n",
              "      <td>0.0</td>\n",
              "      <td>0.0</td>\n",
              "      <td>0.0</td>\n",
              "      <td>0.0</td>\n",
              "      <td>0.0</td>\n",
              "      <td>0.0</td>\n",
              "      <td>0.0</td>\n",
              "      <td>...</td>\n",
              "      <td>9.4</td>\n",
              "      <td>7.7</td>\n",
              "      <td>5.2</td>\n",
              "      <td>1.0</td>\n",
              "      <td>0.6</td>\n",
              "      <td>3.5</td>\n",
              "      <td>0.9</td>\n",
              "      <td>0.0</td>\n",
              "      <td>0.0</td>\n",
              "      <td>0.0</td>\n",
              "    </tr>\n",
              "    <tr>\n",
              "      <th>min</th>\n",
              "      <td>0.0</td>\n",
              "      <td>0.0</td>\n",
              "      <td>0.0</td>\n",
              "      <td>0.0</td>\n",
              "      <td>0.0</td>\n",
              "      <td>0.0</td>\n",
              "      <td>0.0</td>\n",
              "      <td>0.0</td>\n",
              "      <td>0.0</td>\n",
              "      <td>0.0</td>\n",
              "      <td>...</td>\n",
              "      <td>0.0</td>\n",
              "      <td>0.0</td>\n",
              "      <td>0.0</td>\n",
              "      <td>0.0</td>\n",
              "      <td>0.0</td>\n",
              "      <td>0.0</td>\n",
              "      <td>0.0</td>\n",
              "      <td>0.0</td>\n",
              "      <td>0.0</td>\n",
              "      <td>0.0</td>\n",
              "    </tr>\n",
              "    <tr>\n",
              "      <th>25%</th>\n",
              "      <td>0.0</td>\n",
              "      <td>0.0</td>\n",
              "      <td>0.0</td>\n",
              "      <td>0.0</td>\n",
              "      <td>0.0</td>\n",
              "      <td>0.0</td>\n",
              "      <td>0.0</td>\n",
              "      <td>0.0</td>\n",
              "      <td>0.0</td>\n",
              "      <td>0.0</td>\n",
              "      <td>...</td>\n",
              "      <td>0.0</td>\n",
              "      <td>0.0</td>\n",
              "      <td>0.0</td>\n",
              "      <td>0.0</td>\n",
              "      <td>0.0</td>\n",
              "      <td>0.0</td>\n",
              "      <td>0.0</td>\n",
              "      <td>0.0</td>\n",
              "      <td>0.0</td>\n",
              "      <td>0.0</td>\n",
              "    </tr>\n",
              "    <tr>\n",
              "      <th>50%</th>\n",
              "      <td>0.0</td>\n",
              "      <td>0.0</td>\n",
              "      <td>0.0</td>\n",
              "      <td>0.0</td>\n",
              "      <td>0.0</td>\n",
              "      <td>0.0</td>\n",
              "      <td>0.0</td>\n",
              "      <td>0.0</td>\n",
              "      <td>0.0</td>\n",
              "      <td>0.0</td>\n",
              "      <td>...</td>\n",
              "      <td>0.0</td>\n",
              "      <td>0.0</td>\n",
              "      <td>0.0</td>\n",
              "      <td>0.0</td>\n",
              "      <td>0.0</td>\n",
              "      <td>0.0</td>\n",
              "      <td>0.0</td>\n",
              "      <td>0.0</td>\n",
              "      <td>0.0</td>\n",
              "      <td>0.0</td>\n",
              "    </tr>\n",
              "    <tr>\n",
              "      <th>75%</th>\n",
              "      <td>0.0</td>\n",
              "      <td>0.0</td>\n",
              "      <td>0.0</td>\n",
              "      <td>0.0</td>\n",
              "      <td>0.0</td>\n",
              "      <td>0.0</td>\n",
              "      <td>0.0</td>\n",
              "      <td>0.0</td>\n",
              "      <td>0.0</td>\n",
              "      <td>0.0</td>\n",
              "      <td>...</td>\n",
              "      <td>0.0</td>\n",
              "      <td>0.0</td>\n",
              "      <td>0.0</td>\n",
              "      <td>0.0</td>\n",
              "      <td>0.0</td>\n",
              "      <td>0.0</td>\n",
              "      <td>0.0</td>\n",
              "      <td>0.0</td>\n",
              "      <td>0.0</td>\n",
              "      <td>0.0</td>\n",
              "    </tr>\n",
              "    <tr>\n",
              "      <th>max</th>\n",
              "      <td>0.0</td>\n",
              "      <td>0.0</td>\n",
              "      <td>0.0</td>\n",
              "      <td>0.0</td>\n",
              "      <td>0.0</td>\n",
              "      <td>0.0</td>\n",
              "      <td>0.0</td>\n",
              "      <td>0.0</td>\n",
              "      <td>0.0</td>\n",
              "      <td>0.0</td>\n",
              "      <td>...</td>\n",
              "      <td>254.0</td>\n",
              "      <td>253.0</td>\n",
              "      <td>254.0</td>\n",
              "      <td>68.0</td>\n",
              "      <td>43.0</td>\n",
              "      <td>244.0</td>\n",
              "      <td>62.0</td>\n",
              "      <td>0.0</td>\n",
              "      <td>0.0</td>\n",
              "      <td>0.0</td>\n",
              "    </tr>\n",
              "  </tbody>\n",
              "</table>\n",
              "<p>8 rows × 783 columns</p>\n",
              "</div>"
            ],
            "text/plain": [
              "         1      2      3      4      5      6      7      8      9      10   \\\n",
              "count 5000.0 5000.0 5000.0 5000.0 5000.0 5000.0 5000.0 5000.0 5000.0 5000.0   \n",
              "mean     0.0    0.0    0.0    0.0    0.0    0.0    0.0    0.0    0.0    0.0   \n",
              "std      0.0    0.0    0.0    0.0    0.0    0.0    0.0    0.0    0.0    0.0   \n",
              "min      0.0    0.0    0.0    0.0    0.0    0.0    0.0    0.0    0.0    0.0   \n",
              "25%      0.0    0.0    0.0    0.0    0.0    0.0    0.0    0.0    0.0    0.0   \n",
              "50%      0.0    0.0    0.0    0.0    0.0    0.0    0.0    0.0    0.0    0.0   \n",
              "75%      0.0    0.0    0.0    0.0    0.0    0.0    0.0    0.0    0.0    0.0   \n",
              "max      0.0    0.0    0.0    0.0    0.0    0.0    0.0    0.0    0.0    0.0   \n",
              "\n",
              "       ...    774    775    776    777    778    779    780    781    782  \\\n",
              "count  ... 5000.0 5000.0 5000.0 5000.0 5000.0 5000.0 5000.0 5000.0 5000.0   \n",
              "mean   ...    0.5    0.3    0.1    0.0    0.0    0.0    0.0    0.0    0.0   \n",
              "std    ...    9.4    7.7    5.2    1.0    0.6    3.5    0.9    0.0    0.0   \n",
              "min    ...    0.0    0.0    0.0    0.0    0.0    0.0    0.0    0.0    0.0   \n",
              "25%    ...    0.0    0.0    0.0    0.0    0.0    0.0    0.0    0.0    0.0   \n",
              "50%    ...    0.0    0.0    0.0    0.0    0.0    0.0    0.0    0.0    0.0   \n",
              "75%    ...    0.0    0.0    0.0    0.0    0.0    0.0    0.0    0.0    0.0   \n",
              "max    ...  254.0  253.0  254.0   68.0   43.0  244.0   62.0    0.0    0.0   \n",
              "\n",
              "         783  \n",
              "count 5000.0  \n",
              "mean     0.0  \n",
              "std      0.0  \n",
              "min      0.0  \n",
              "25%      0.0  \n",
              "50%      0.0  \n",
              "75%      0.0  \n",
              "max      0.0  \n",
              "\n",
              "[8 rows x 783 columns]"
            ]
          },
          "execution_count": 17,
          "metadata": {},
          "output_type": "execute_result"
        }
      ],
      "source": [
        "mnistData.describe()"
      ]
    },
    {
      "cell_type": "markdown",
      "metadata": {
        "id": "cp3rP2saNyup"
      },
      "source": [
        "Because some of the feature columns are all zeros, the scaling function divided by 0 (because `np.max` returns 0). The division by 0 resulted in NaN values. This result shows you how easily NaNs can arise in engineered data. The `describe` function will not detect every occurrence of NaN (or None). Instead,  use the command `DataFrame.isnull().any()`.\n",
        "\n",
        "*Note*: Given the maximum value of the feature data is 255, you could simply divide the input by 255 instead of using min-max scaling, and avoid introducing NaNs. However, this example purposely uses min-max scaling to show how NaNs can appear in engineered data.\n",
        "\n",
        "Now let's try scaling the data again."
      ]
    },
    {
      "cell_type": "code",
      "execution_count": 18,
      "metadata": {
        "id": "YSV3SNG2LNp2"
      },
      "outputs": [],
      "source": [
        "# Redefine the scaling function to check for zeros\n",
        "def minMaxScaler(arr):\n",
        "  max = np.max(arr)\n",
        "  if(max!=0):  # avoid /0\n",
        "    min = np.min(arr)\n",
        "    arr = (arr-min)/max\n",
        "  return arr\n",
        "\n",
        "# Reload data\n",
        "mnistData = mnistDf.iloc[:,1:-1].copy(deep=True)\n",
        "\n",
        "# Scale data\n",
        "for featureIdx in range(mnistData.shape[1]):\n",
        "  mnistData.iloc[:,featureIdx] = minMaxScaler(mnistData.iloc[:,featureIdx])"
      ]
    },
    {
      "cell_type": "markdown",
      "metadata": {
        "id": "_xXmVNVJXrG1"
      },
      "source": [
        "You should follow best practice and prevent this bug from recurring by writing a unit test to check for not having `NaN` values in your engineered data."
      ]
    },
    {
      "cell_type": "markdown",
      "metadata": {
        "id": "9IBsKY3i6itJ"
      },
      "source": [
        "## Remove All-Zero Features?"
      ]
    },
    {
      "cell_type": "markdown",
      "metadata": {
        "id": "o7BIOScX6kp5"
      },
      "source": [
        "You might think that getting NaNs and discovering that some features were all-zero is good luck because those features can be discarded. However, your training data and validation data might have different all-zero features. Since you should not use validation data to make modeling decisions, you cannot remove only those features that are all-zero in both. Furthermore, data in the future might have different characteristics. There are pros and cons in either case. This Colab keeps the features since reducing the feature set is not a concern."
      ]
    },
    {
      "cell_type": "markdown",
      "metadata": {
        "id": "HE0WOm7O3TGl"
      },
      "source": [
        "## Establish Baseline"
      ]
    },
    {
      "cell_type": "markdown",
      "metadata": {
        "id": "PAWzL8sW3U9V"
      },
      "source": [
        "Following development best practices, you should establish a baseline. The simplest baseline is predicting the most common class. You saw that the most common class is 1. Let's check the accuracy when always predicting 1."
      ]
    },
    {
      "cell_type": "code",
      "execution_count": 19,
      "metadata": {
        "id": "PhT7hh6j5HmA"
      },
      "outputs": [
        {
          "data": {
            "text/plain": [
              "11.42"
            ]
          },
          "execution_count": 19,
          "metadata": {},
          "output_type": "execute_result"
        }
      ],
      "source": [
        "np.sum(mnistLabels==1)*1.0/mnistLabels.shape[0]*100"
      ]
    },
    {
      "cell_type": "markdown",
      "metadata": {
        "id": "VOE2yBOK5fQw"
      },
      "source": [
        "Your baseline accuracy is about 11%. Should be easy to beat, right?"
      ]
    },
    {
      "cell_type": "markdown",
      "metadata": {
        "id": "B6AOgLcC5nwp"
      },
      "source": [
        "## Train a Linear Model"
      ]
    },
    {
      "cell_type": "markdown",
      "metadata": {
        "id": "2hH-T1mn5pao"
      },
      "source": [
        "Let's start nice and easy with a linear model. All we need is an accuracy > 11%.\n",
        "\n",
        "First, let's define a function to plot our loss and accuracy curves. The function will also print the final loss and accuracy. Instead of using `verbose=1`, you can call the function."
      ]
    },
    {
      "cell_type": "code",
      "execution_count": 29,
      "metadata": {
        "id": "P68UKi78a0T-"
      },
      "outputs": [],
      "source": [
        "def showClassificationResults(trainHistory):\n",
        "  \"\"\"Function to:\n",
        "   * Print final loss & accuracy.\n",
        "   * Plot loss & accuracy curves.\n",
        "\n",
        "  Args:\n",
        "    trainHistory: object returned by model.fit\n",
        "  \"\"\"\n",
        "\n",
        "  # Print final loss and accuracy\n",
        "  print(\"Final training loss: \" + str(trainHistory.history['loss'][-1]))\n",
        "  print(\"Final validation loss: \" + str(trainHistory.history['val_loss'][-1]))\n",
        "  print(\"Final training accuracy: \" + str(trainHistory.history['accuracy'][-1]))\n",
        "  print(\"Final validation accuracy: \" + str(trainHistory.history['val_accuracy'][-1]))\n",
        "  # Plot loss and accuracy curves\n",
        "  f = plt.figure(figsize=(10,4))\n",
        "  axLoss = f.add_subplot(121)\n",
        "  axAcc = f.add_subplot(122)\n",
        "  axLoss.plot(trainHistory.history['loss'])\n",
        "  axLoss.plot(trainHistory.history['val_loss'])\n",
        "  axLoss.legend(['Training loss', 'Validation loss'], loc='best')\n",
        "  axLoss.set_xlabel('Training epochs')\n",
        "  axLoss.set_ylabel('Loss')\n",
        "\n",
        "\n",
        "  axAcc.legend(['Training accuracy', 'Validation accuracy'], loc='best')\n",
        "  axAcc.set_xlabel('Training epochs')\n",
        "  axAcc.set_ylabel('Accuracy')"
      ]
    },
    {
      "cell_type": "markdown",
      "metadata": {
        "id": "dU4bG_nYcTeR"
      },
      "source": [
        "Now train a linear model with an output layer and a hidden layer."
      ]
    },
    {
      "cell_type": "code",
      "execution_count": 30,
      "metadata": {
        "id": "5_gWbZxS5mFg"
      },
      "outputs": [
        {
          "name": "stdout",
          "output_type": "stream",
          "text": [
            "Final training loss: 3.3865902423858643\n",
            "Final validation loss: 3.764021396636963\n",
            "Final training accuracy: 0.14474999904632568\n",
            "Final validation accuracy: 0.13300000131130219\n"
          ]
        },
        {
          "data": {
            "image/png": "[encoded data removed]",
            "text/plain": [
              "<Figure size 1000x400 with 2 Axes>"
            ]
          },
          "metadata": {},
          "output_type": "display_data"
        }
      ],
      "source": [
        "model = None\n",
        "# Define\n",
        "model = keras.Sequential()\n",
        "model.add(keras.layers.Dense(mnistData.shape[1],\n",
        "                             activation='linear',\n",
        "                             input_dim=mnistData.shape[1]))\n",
        "model.add(keras.layers.Dense(1, activation='linear'))\n",
        "# Compile\n",
        "model.compile(optimizer=\"adam\", loss='mse', metrics=['accuracy'])\n",
        "# Train\n",
        "trainHistory = model.fit(mnistData, mnistLabels, epochs=10, batch_size=100,\n",
        "                         validation_split=0.2, verbose=0)\n",
        "# Plot\n",
        "showClassificationResults(trainHistory)"
      ]
    },
    {
      "cell_type": "markdown",
      "metadata": {
        "id": "f8nF3XAnAres"
      },
      "source": [
        "Wow, that accuracy is terrible! What could the cause be?\n",
        "\n",
        "Hint: You followed the same procedure as for the previous regression problem. Do you need an adaptation for a classification problem? Experiment with the code above or skip to the solution below."
      ]
    },
    {
      "cell_type": "markdown",
      "metadata": {
        "id": "dqnRGq2UCEYP"
      },
      "source": [
        "### Solution"
      ]
    },
    {
      "cell_type": "markdown",
      "metadata": {
        "id": "DmvvQeJfCFc9"
      },
      "source": [
        "In regression, the last layer uses a linear activation function. In classification, the last layer cannot use a linear transform. Instead, one option is a softmax transform. Furthermore, in regression, the loss is calculated using MSE while in classification, loss is calculated using crossentropy. Before running your model, if you wrote a test to validate the output values, your test would detect the anomalous output. You'll look at such a test later. Move onto the next section to fix the loss calculation."
      ]
    },
    {
      "cell_type": "markdown",
      "metadata": {
        "id": "296GJgdPkWDE"
      },
      "source": [
        "## Fixing Loss Calculation"
      ]
    },
    {
      "cell_type": "markdown",
      "metadata": {
        "id": "A-mGfHlpDITS"
      },
      "source": [
        "Since your labels are integers instead of one-hot encodings, use `sparse_categorical_crossentropy` instead of `categorical_crossentropy` so that you avoid converting the integers to one-hot encoding."
      ]
    },
    {
      "cell_type": "markdown",
      "metadata": {
        "id": "HFxuJSj2JhIZ"
      },
      "source": [
        "Retrain the model with the new loss calculation by running the following cell. Look through the code to note the changes. What do you think of the result?"
      ]
    },
    {
      "cell_type": "code",
      "execution_count": 31,
      "metadata": {
        "id": "vhfoEAR_gwFW"
      },
      "outputs": [
        {
          "name": "stdout",
          "output_type": "stream",
          "text": [
            "Final training loss: 0.17528191208839417\n",
            "Final validation loss: 0.4156950116157532\n",
            "Final training accuracy: 0.9524444341659546\n",
            "Final validation accuracy: 0.8859999775886536\n"
          ]
        },
        {
          "data": {
            "image/png": "[encoded data removed]",
            "text/plain": [
              "<Figure size 1000x400 with 2 Axes>"
            ]
          },
          "metadata": {},
          "output_type": "display_data"
        }
      ],
      "source": [
        "model = None\n",
        "# Define\n",
        "model = keras.Sequential()\n",
        "model.add(keras.layers.Dense(mnistData.shape[1], activation='linear',\n",
        "                             input_dim = mnistData.shape[1]))\n",
        "model.add(keras.layers.Dense(10, activation='softmax'))\n",
        "# Compile\n",
        "model.compile(optimizer=\"adam\",\n",
        "              loss='sparse_categorical_crossentropy',\n",
        "              metrics=['accuracy'])\n",
        "# Train\n",
        "trainHistory = model.fit(mnistData, mnistLabels, epochs=10, batch_size=100,\n",
        "                         validation_split=0.1, verbose=0)\n",
        "# Plot\n",
        "showClassificationResults(trainHistory)"
      ]
    },
    {
      "cell_type": "markdown",
      "metadata": {
        "id": "gr2QBQEvEN3D"
      },
      "source": [
        "Your loss curves are much better. Your accuracy has improved too. You're on the right track."
      ]
    },
    {
      "cell_type": "markdown",
      "metadata": {
        "id": "-hNND_KIFyf7"
      },
      "source": [
        "## Train a Nonlinear Model"
      ]
    },
    {
      "cell_type": "markdown",
      "metadata": {
        "id": "v_o9SEa3F0xy"
      },
      "source": [
        "Switch to a nonlinear model by modifying the code below to use relu activation functions instead of linear activation functions. Run the code. What do you observe?"
      ]
    },
    {
      "cell_type": "code",
      "execution_count": 33,
      "metadata": {
        "id": "bprM8t-ti-KQ"
      },
      "outputs": [
        {
          "name": "stdout",
          "output_type": "stream",
          "text": [
            "Final training loss: 0.004448330495506525\n",
            "Final validation loss: 0.2425404191017151\n",
            "Final training accuracy: 1.0\n",
            "Final validation accuracy: 0.9359999895095825\n"
          ]
        },
        {
          "data": {
            "image/png": "[encoded data removed]",
            "text/plain": [
              "<Figure size 1000x400 with 2 Axes>"
            ]
          },
          "metadata": {},
          "output_type": "display_data"
        }
      ],
      "source": [
        "model = None\n",
        "\n",
        "# Define\n",
        "model = keras.Sequential()\n",
        "model.add(keras.layers.Dense(mnistData.shape[1], activation='relu', input_dim=mnistData.shape[1]))\n",
        "model.add(keras.layers.Dense(10, activation='softmax'))\n",
        "\n",
        "# Compile\n",
        "model.compile(optimizer=\"adam\", loss='sparse_categorical_crossentropy', metrics=['accuracy'])\n",
        "\n",
        "# Train\n",
        "trainHistory = model.fit(mnistData, mnistLabels, epochs=20, batch_size=100, validation_split=0.1, verbose=0)\n",
        "\n",
        "# Plot\n",
        "showClassificationResults(trainHistory)"
      ]
    },
    {
      "cell_type": "markdown",
      "metadata": {
        "id": "LodYblJbF673"
      },
      "source": [
        "The quality of the nonlinear model is significantly better than of the linear model. Progress! Move onto the next section."
      ]
    },
    {
      "cell_type": "markdown",
      "metadata": {
        "id": "1u9z5zSIGF4H"
      },
      "source": [
        "## Adding a Second Layer"
      ]
    },
    {
      "cell_type": "markdown",
      "metadata": {
        "id": "Xa_gtVEHJCON"
      },
      "source": [
        "Increasing the model's capacity significantly improved your results. Perhaps you can continue this strategy by adding a second relu layer. Run the following code cell to train the model with another relu layer."
      ]
    },
    {
      "cell_type": "code",
      "execution_count": 34,
      "metadata": {
        "id": "HgY8AFlWGHd2"
      },
      "outputs": [
        {
          "name": "stdout",
          "output_type": "stream",
          "text": [
            "Final training loss: 0.0015419889241456985\n",
            "Final validation loss: 0.23306657373905182\n",
            "Final training accuracy: 1.0\n",
            "Final validation accuracy: 0.9419999718666077\n"
          ]
        },
        {
          "data": {
            "image/png": "[encoded data removed]",
            "text/plain": [
              "<Figure size 1000x400 with 2 Axes>"
            ]
          },
          "metadata": {},
          "output_type": "display_data"
        }
      ],
      "source": [
        "model = None\n",
        "# Define\n",
        "model = keras.Sequential()\n",
        "model.add(keras.layers.Dense(mnistData.shape[1], activation='relu',\n",
        "                             input_dim = mnistData.shape[1]))\n",
        "model.add(keras.layers.Dense(mnistData.shape[1], activation='relu'))\n",
        "model.add(keras.layers.Dense(10,activation='softmax'))\n",
        "# Compile\n",
        "model.compile(optimizer=\"adam\", loss='sparse_categorical_crossentropy',\n",
        "              metrics=['accuracy'])\n",
        "# Train\n",
        "trainHistory = model.fit(mnistData, mnistLabels, epochs=10, batch_size=100,\n",
        "                        validation_split=0.1, verbose=0)\n",
        "# Plot\n",
        "showClassificationResults(trainHistory)"
      ]
    },
    {
      "cell_type": "markdown",
      "metadata": {
        "id": "2lcvRLzjJS6L"
      },
      "source": [
        "Guess what. Your previous model had training and validation accuracies of 100% and 95%. You can't do much better than that! So your new accuracy is about the same. How high can you push your accuracy? With this configuration the highest training and validation accuracies appear to be 100% and 96% respectively. Since the neural net returns similar accuracy with 1 or 2 layers, let's use the simpler model with 1 layer.\n",
        "\n",
        "Does your model begin to overfit the training data if you train for long enough? (Your model starts overfitting training data at the point when your validation loss starts increasing.)"
      ]
    },
    {
      "cell_type": "markdown",
      "metadata": {
        "id": "tDdWPO1AKsXx"
      },
      "source": [
        "## Check for Training/Validation Data Skew"
      ]
    },
    {
      "cell_type": "markdown",
      "metadata": {
        "id": "UTGSClhnKutt"
      },
      "source": [
        "Our validation accuracy is a little worse than our training accuracy. While this result is always expected, you should check for typical errors. The commonest cause is having different distributions of data and labels in training and validation. Confirm that the distribution of classes in training and validation data is similar."
      ]
    },
    {
      "cell_type": "code",
      "execution_count": 35,
      "metadata": {
        "id": "5-8aUQ7eg2Z1"
      },
      "outputs": [
        {
          "name": "stderr",
          "output_type": "stream",
          "text": [
            "UsageError: Line magic function `%hide_result` not found.\n"
          ]
        }
      ],
      "source": [
        "%hide_result # hides result of cell computation\n",
        "\n",
        "f = plt.figure(figsize=(10,3))\n",
        "ax = f.add_subplot(1,2,1)\n",
        "plt.hist(mnistLabels[0:len(mnistLabels)*8/10], bins=range(numClasses+1))\n",
        "plt.xticks(range(numClasses+1))\n",
        "ax2 = f.add_subplot(1,2,2,)\n",
        "plt.hist(mnistLabels[len(mnistLabels)*8/10:-1], bins=range(numClasses+1))\n",
        "plt.xticks(range(numClasses+1))"
      ]
    },
    {
      "cell_type": "markdown",
      "metadata": {
        "id": "JYAlIiUBqe4H"
      },
      "source": [
        "## Apply Dropout Regularization"
      ]
    },
    {
      "cell_type": "markdown",
      "metadata": {
        "id": "9UDeCe7Iqgc3"
      },
      "source": [
        "Dropout regularization is a common regularization method that removes a random selection of a fixed number of units in a network layer for a single gradient step. Typically, dropout will improve generalization at a dropout rate of between 10% and 50% of neurons. \n",
        "\n",
        "Try to reduce the divergence between training and validation loss by using dropout regularization with values between 0.1 and 0.5. Dropout does not improve the results in this case. However, at a dropout of 0.5, the difference in loss decreases, though both training and validation loss decrease in absolute terms."
      ]
    },
    {
      "cell_type": "code",
      "execution_count": 36,
      "metadata": {
        "id": "A0LNZvchsWJa"
      },
      "outputs": [
        {
          "name": "stdout",
          "output_type": "stream",
          "text": [
            "Final training loss: 0.10402584820985794\n",
            "Final validation loss: 0.22979693114757538\n",
            "Final training accuracy: 0.973111093044281\n",
            "Final validation accuracy: 0.9279999732971191\n"
          ]
        },
        {
          "data": {
            "image/png": "[encoded data removed]",
            "text/plain": [
              "<Figure size 1000x400 with 2 Axes>"
            ]
          },
          "metadata": {},
          "output_type": "display_data"
        }
      ],
      "source": [
        "from keras import regularizers\n",
        "model = None\n",
        "# Define lambda\n",
        "dropoutLambda = 0.5 #@param\n",
        "# Define model\n",
        "model = keras.Sequential()\n",
        "model.add(keras.layers.Dense(mnistData.shape[1],\n",
        "                             input_dim=mnistData.shape[1],\n",
        "                             activation='relu'))\n",
        "model.add(keras.layers.Dropout(dropoutLambda,\n",
        "                               noise_shape=(1, mnistData.shape[1])))\n",
        "model.add(keras.layers.Dense(10, activation='softmax'))\n",
        "# Compile\n",
        "model.compile(optimizer = \"adam\",\n",
        "              loss = 'sparse_categorical_crossentropy',\n",
        "              metrics = ['accuracy'])\n",
        "# Train\n",
        "trainHistory = model.fit(mnistData,\n",
        "                        mnistLabels,\n",
        "                        epochs=30,\n",
        "                        batch_size=500,\n",
        "                        validation_split=0.1,\n",
        "                        verbose=0)\n",
        "# Plot\n",
        "showClassificationResults(trainHistory)"
      ]
    },
    {
      "cell_type": "markdown",
      "metadata": {
        "id": "FDP4RPSNxyHc"
      },
      "source": [
        "Sample results using dropout regularization after 30 epochs:\n",
        "\n",
        "Lambda | Training Loss | Validation Loss\n",
        "------- | ------------------------------------------------------\n",
        "0.1 | 0.99 | 0.95\n",
        "0.2 | 0.99 | 0.95\n",
        "0.3 | 0.99 | 0.95\n",
        "0.5 | 0.97 | 0.94"
      ]
    },
    {
      "cell_type": "markdown",
      "metadata": {
        "id": "md6_n4woxgdQ"
      },
      "source": [
        "## Check Accuracy for Data Slices"
      ]
    },
    {
      "cell_type": "markdown",
      "metadata": {
        "id": "JndFQG56xhYD"
      },
      "source": [
        "For classification problems, you should always check the metrics by class to ensure your model predicts well across all classes. Check accuracy on the 10 classes by running the next cell by using the function `sklearn.metrics.classification_report` from the scikit-learn library. In the output, the rows with indices 0 to 9 correspond to the classes for the labels 0 to 9. The columns \"Precision\", \"Recall\", and \"[F1-Score](https://en.wikipedia.org/wiki/F1_score)\" correspond to the respective classification metrics for each class. \"Support\" is the number of examples for the class in question. For example, for the label \"4\", when predicting on 464 examples labelled \"4\", the model has a precision of 0.98, a recall of 0.97, and a F1 score of 0.98.\n",
        "\n",
        "The classification metrics are very uniform across all classes, which is perfect. In your classification problem, in case any metric is lower for a class, then you should investigate why the model has lower-quality predictions for that class."
      ]
    },
    {
      "cell_type": "code",
      "execution_count": 39,
      "metadata": {
        "id": "YArLe5K8xjoE"
      },
      "outputs": [
        {
          "name": "stdout",
          "output_type": "stream",
          "text": [
            "157/157 [==============================] - 0s 2ms/step\n",
            "              precision    recall  f1-score   support\n",
            "\n",
            "           0       0.99      0.99      0.99       499\n",
            "           1       0.97      0.99      0.98       571\n",
            "           2       0.98      0.98      0.98       504\n",
            "           3       0.98      0.97      0.97       487\n",
            "           4       0.97      0.98      0.97       464\n",
            "           5       0.98      0.99      0.99       434\n",
            "           6       0.99      0.99      0.99       491\n",
            "           7       0.98      0.97      0.97       550\n",
            "           8       0.98      0.98      0.98       485\n",
            "           9       0.96      0.97      0.96       515\n",
            "\n",
            "    accuracy                           0.98      5000\n",
            "   macro avg       0.98      0.98      0.98      5000\n",
            "weighted avg       0.98      0.98      0.98      5000\n",
            "\n"
          ]
        }
      ],
      "source": [
        "# Predict probabilities for each class\n",
        "mnistPredProbabilities = model.predict(mnistData)\n",
        "\n",
        "# Get the class with the maximum probability for each sample\n",
        "mnistPred = np.argmax(mnistPredProbabilities, axis=1)\n",
        "\n",
        "# Print classification report\n",
        "print(classification_report(mnistLabels, mnistPred))"
      ]
    },
    {
      "cell_type": "markdown",
      "metadata": {
        "id": "XGaXjzW2ItTr"
      },
      "source": [
        "## Testing for Anomalous Values"
      ]
    },
    {
      "cell_type": "markdown",
      "metadata": {
        "id": "Rkl5SPIsI3Bb"
      },
      "source": [
        "In the section [Train a Linear Model](https://colab.corp.google.com/google_src/cloud/karangill/mlcc/google3/engedu/ml/capitalg/colab/testing_debugging_classification.ipynb#scrollTo=B6AOgLcC5nwp), you debugged an incorrect calculation of loss. Before running your model, if you wrote a test to validate the output values, your test would detect the anomalous output. For example, you could test whether the distribution of predicted labels on the training dataset is similar to the actual distribution of training labels. A simple statistical implementation of this concept is to compare the standard deviation and mean of the predicted and actual labels.\n",
        "\n",
        "First, check the standard deviation and mean of the actual labels."
      ]
    },
    {
      "cell_type": "code",
      "execution_count": 40,
      "metadata": {
        "id": "F_WjpuqmZuAr"
      },
      "outputs": [
        {
          "name": "stdout",
          "output_type": "stream",
          "text": [
            "Mean of actual labels: 4.4754\n",
            "Standard deviation of actual labels: 2.914754679214009\n"
          ]
        }
      ],
      "source": [
        "print(\"Mean of actual labels: \" + str(np.mean(mnistLabels)))\n",
        "print(\"Standard deviation of actual labels: \" + str(np.std(mnistLabels)))"
      ]
    },
    {
      "cell_type": "markdown",
      "metadata": {
        "id": "W30mjNZUv8Gx"
      },
      "source": [
        "Write tests to check if the mean and standard deviation of the predicted labels falls within the expected range. The expected range defined in the tests below is somewhat arbitrary. In practice, you will tune the range thresholds to accommodate natural variation in predictions."
      ]
    },
    {
      "cell_type": "code",
      "execution_count": 41,
      "metadata": {
        "id": "P-XChYMVHFhn"
      },
      "outputs": [],
      "source": [
        "class mlTest(unittest.TestCase): \n",
        "  '''Class to test statistics of predicted output on training data against\n",
        "     statistics of labels to validate that model predictions are in the]\n",
        "     expected range.\n",
        "  '''\n",
        "     \n",
        "  def testStd(self):\n",
        "    y = model.predict(mnistData)\n",
        "    yStd = np.std(y)\n",
        "    yStdActual = np.std(mnistLabels)\n",
        "    deltaStd = 0.05\n",
        "    errorMsg = 'Std. dev. of predicted values ' + str(yStd) + \\\n",
        "               ' and actual values ' + str(yStdActual) + \\\n",
        "               ' differs by >' + str(deltaStd) + '.'\n",
        "    self.assertAlmostEqual(yStd, yStdActual, delta=deltaStd, msg=errorMsg)\n",
        "\n",
        "  def testMean(self):\n",
        "    y = model.predict(mnistData)\n",
        "    yMean = np.mean(y)\n",
        "    yMeanActual = np.mean(mnistLabels)\n",
        "    deltaMean = 0.05\n",
        "    errorMsg = 'Mean of predicted values ' + str(yMean) + \\\n",
        "               ' and actual values ' + str(yMeanActual) + \\\n",
        "               ' differs by >' + str(deltaMean) + '.'\n",
        "    self.assertAlmostEqual(yMean, yMeanActual, delta=deltaMean, msg=errorMsg)"
      ]
    },
    {
      "cell_type": "markdown",
      "metadata": {
        "id": "Prq5XYuAKE0y"
      },
      "source": [
        "Run the following cell to train a model with the wrong loss calculation and execute the tests. The tests should fail."
      ]
    },
    {
      "cell_type": "code",
      "execution_count": 42,
      "metadata": {
        "id": "_51wIJhXKF68"
      },
      "outputs": [
        {
          "name": "stdout",
          "output_type": "stream",
          "text": [
            "157/157 [==============================] - 0s 2ms/step\n"
          ]
        },
        {
          "name": "stderr",
          "output_type": "stream",
          "text": [
            "F"
          ]
        },
        {
          "name": "stdout",
          "output_type": "stream",
          "text": [
            "157/157 [==============================] - 0s 2ms/step\n"
          ]
        },
        {
          "name": "stderr",
          "output_type": "stream",
          "text": [
            "F\n",
            "======================================================================\n",
            "FAIL: testMean (__main__.mlTest)\n",
            "----------------------------------------------------------------------\n",
            "Traceback (most recent call last):\n",
            "  File \"C:\\Users\\yienk\\AppData\\Local\\Temp\\ipykernel_16636\\678801843.py\", line 25, in testMean\n",
            "    self.assertAlmostEqual(yMean, yMeanActual, delta=deltaMean, msg=errorMsg)\n",
            "AssertionError: 4.2938147 != 4.4754 within 0.05 delta (0.18158534088134726 difference) : Mean of predicted values 4.2938147 and actual values 4.4754 differs by >0.05.\n",
            "\n",
            "======================================================================\n",
            "FAIL: testStd (__main__.mlTest)\n",
            "----------------------------------------------------------------------\n",
            "Traceback (most recent call last):\n",
            "  File \"C:\\Users\\yienk\\AppData\\Local\\Temp\\ipykernel_16636\\678801843.py\", line 15, in testStd\n",
            "    self.assertAlmostEqual(yStd, yStdActual, delta=deltaStd, msg=errorMsg)\n",
            "AssertionError: 2.4004042 != 2.914754679214009 within 0.05 delta (0.5143504643550001 difference) : Std. dev. of predicted values 2.4004042 and actual values 2.914754679214009 differs by >0.05.\n",
            "\n",
            "----------------------------------------------------------------------\n",
            "Ran 2 tests in 0.870s\n",
            "\n",
            "FAILED (failures=2)\n"
          ]
        },
        {
          "data": {
            "text/plain": [
              "<unittest.runner.TextTestResult run=2 errors=0 failures=2>"
            ]
          },
          "execution_count": 42,
          "metadata": {},
          "output_type": "execute_result"
        }
      ],
      "source": [
        "#@title Train model and run tests\n",
        "\n",
        "model = None\n",
        "# Define\n",
        "model = keras.Sequential()\n",
        "model.add(keras.layers.Dense(mnistData.shape[1],\n",
        "                             activation='linear',\n",
        "                             input_dim=mnistData.shape[1]))\n",
        "model.add(keras.layers.Dense(1, activation='linear'))\n",
        "# Compile\n",
        "model.compile(optimizer=\"adam\", loss='mse', metrics=['accuracy'])\n",
        "# Train\n",
        "trainHistory = model.fit(mnistData, mnistLabels, epochs=10, batch_size=100,\n",
        "                         validation_split=0.1, verbose=0)\n",
        "\n",
        "suite = unittest.TestLoader().loadTestsFromTestCase(mlTest)\n",
        "unittest.TextTestRunner(verbosity=1, stream=sys.stderr).run(suite)"
      ]
    },
    {
      "cell_type": "markdown",
      "metadata": {
        "id": "LalmZjs7b0M5"
      },
      "source": [
        "Since the tests fail, check the data distribution of predicted labels for anomalies."
      ]
    },
    {
      "cell_type": "code",
      "execution_count": 43,
      "metadata": {
        "id": "11S1Mh6VbtgT"
      },
      "outputs": [
        {
          "name": "stdout",
          "output_type": "stream",
          "text": [
            "157/157 [==============================] - 0s 2ms/step\n"
          ]
        },
        {
          "data": {
            "text/plain": [
              "(array([253., 599., 601., 707., 685., 690., 603., 429., 201.,  67.]),\n",
              " array([ 0.,  1.,  2.,  3.,  4.,  5.,  6.,  7.,  8.,  9., 10.]),\n",
              " <BarContainer object of 10 artists>)"
            ]
          },
          "execution_count": 43,
          "metadata": {},
          "output_type": "execute_result"
        },
        {
          "data": {
            "image/png": "[encoded data removed]",
            "text/plain": [
              "<Figure size 640x480 with 1 Axes>"
            ]
          },
          "metadata": {},
          "output_type": "display_data"
        }
      ],
      "source": [
        "yPred = model.predict(mnistData)\n",
        "plt.hist(yPred, bins=range(11))"
      ]
    },
    {
      "cell_type": "markdown",
      "metadata": {
        "id": "2vLmiLOob_zY"
      },
      "source": [
        "Given equally represented classes, the predicted labels are clearly skewed. From this plot, a possible explanation is that your loss calculation does not appear to be weighting all classes equally. This anomaly is a hint that your loss calculation is incorrect."
      ]
    },
    {
      "cell_type": "markdown",
      "metadata": {
        "id": "r2dShXOwTe0B"
      },
      "source": [
        "## Optional: Pass Tests by Fixing Loss Calculation"
      ]
    },
    {
      "cell_type": "markdown",
      "metadata": {
        "id": "K7UhxfMKTi_7"
      },
      "source": [
        "As an optional exercise, you can attempt to pass the tests by fixing the loss calculation. You will need to:\n",
        "1. Fix the loss calculation by setting the output layer's activation to `softmax`.\n",
        "1. Set the model's loss to `sparse_categorical_crossentropy`.\n",
        "1. Set the number of units in the output layer to 10 corresponding to the 10 classes.\n",
        "1. Adapt the tests to the modified output layer."
      ]
    },
    {
      "cell_type": "markdown",
      "metadata": {
        "id": "W0lr3mzppHr1"
      },
      "source": [
        "## Conclusion\n",
        "\n",
        "The Colab demonstrated the following principles:\n",
        "\n",
        "* Calculate loss correctly for your problem.\n",
        "* Verify and unit test your engineered data.\n",
        "* Find the right model capacity through experimentation.\n",
        "* Find the best regularization through experimentation.\n",
        "* Check quality on data slices."
      ]
    }
  ],
  "metadata": {
    "colab": {
      "collapsed_sections": [
        "vrr7QBAu_oeC",
        "nKdUi_QENxXp",
        "dqnRGq2UCEYP"
      ],
      "name": "Case Study: Debugging in Classification.ipynb",
      "provenance": []
    },
    "kernelspec": {
      "display_name": "Python 3.8.13 ('open-machine-learning-jupyter-book')",
      "language": "python",
      "name": "python3"
    },
    "language_info": {
      "codemirror_mode": {
        "name": "ipython",
        "version": 3
      },
      "file_extension": ".py",
      "mimetype": "text/x-python",
      "name": "python",
      "nbconvert_exporter": "python",
      "pygments_lexer": "ipython3",
      "version": "3.9.18"
    },
    "vscode": {
      "interpreter": {
        "hash": "7d30ee397bdd1fbf33affe9c166bdd43c2304a81a5b0731ca6c4974a84c0bfbd"
      }
    }
  },
  "nbformat": 4,
  "nbformat_minor": 0
}
