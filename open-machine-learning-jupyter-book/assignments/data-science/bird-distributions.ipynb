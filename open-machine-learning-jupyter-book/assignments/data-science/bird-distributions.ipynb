{
 "cells": [
  {
   "cell_type": "markdown",
   "source": [
    "# Bird distributions"
   ],
   "metadata": {}
  }
 ],
 "metadata": {
  "orig_nbformat": 4,
  "language_info": {
   "name": "python"
  }
 },
 "nbformat": 4,
 "nbformat_minor": 2
}