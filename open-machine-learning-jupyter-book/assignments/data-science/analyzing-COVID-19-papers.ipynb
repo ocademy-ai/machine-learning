{
 "cells": [
  {
   "cell_type": "markdown",
   "metadata": {},
   "source": [
    "# Analyzing COVID-19 papers\n",
    "\n",
    "In this challenge, we will continue with the topic of COVID pandemic, and focus on processing scientific papers on the subject. There is [CORD-19 Dataset](https://www.kaggle.com/allen-institute-for-ai/CORD-19-research-challenge) with more than 7000 (at the time of writing) papers on COVID, available with metadata and abstracts (and for about half of them there is also full text provided).\n",
    "\n",
    "A full example of analyzing this dataset using [Text Analytics for Health](https://docs.microsoft.com/azure/cognitive-services/text-analytics/how-tos/text-analytics-for-health/?WT.mc_id=academic-77958-bethanycheum) cognitive service is described [in this blog post](https://soshnikov.com/science/analyzing-medical-papers-with-azure-and-text-analytics-for-health/). We will discuss simplified version of this analysis."
   ]
  },
  {
   "cell_type": "code",
   "execution_count": null,
   "metadata": {},
   "outputs": [],
   "source": [
    "import pandas as pd\n",
    "import numpy as np\n",
    "import matplotlib.pyplot as plt"
   ]
  },
  {
   "cell_type": "markdown",
   "metadata": {},
   "source": [
    "## Getting the data\n",
    "\n",
    "First, we need get the metadata for CORD papers that we will be working with.\n",
    "\n",
    "> **NOTE**: We do not provide a copy of the dataset as part of this repository. You may first need to download the [`metadata.csv`](https://www.kaggle.com/allen-institute-for-ai/CORD-19-research-challenge?select=metadata.csv) file from [this dataset on Kaggle](https://www.kaggle.com/allen-institute-for-ai/CORD-19-research-challenge). Registration with Kaggle may be required. You may also download the dataset without registration [from here](https://ai2-semanticscholar-cord-19.s3-us-west-2.amazonaws.com/historical_releases.html), but it will include all full texts in addition to metadata file.\n",
    "\n",
    "We will try to get the data directly from online source, however, if it fails, you need to download the data as described above. Also, it makes sense to download the data if you plan to experiment with it further, to save on waiting time.\n",
    "\n",
    "> **NOTE** that dataset is quite large, around 1 Gb in size, and the following line of code can take a long time to complete! (~5 mins)"
   ]
  },
  {
   "cell_type": "code",
   "execution_count": null,
   "metadata": {},
   "outputs": [],
   "source": [
    "df = pd.read_csv(\"FILE_PATH_TO_metadata.csv\")\n",
    "df.head()"
   ]
  },
  {
   "cell_type": "markdown",
   "metadata": {},
   "source": [
    "We will now convert publication date column to `datetime`, and plot the histogram to see the range of publication dates."
   ]
  },
  {
   "cell_type": "code",
   "execution_count": null,
   "metadata": {},
   "outputs": [],
   "source": [
    "df['publish_time'] = pd.to_datetime(df['publish_time'])\n",
    "df['publish_time'].hist()\n",
    "plt.show()"
   ]
  },
  {
   "cell_type": "markdown",
   "metadata": {},
   "source": [
    "Interestingly, there are coronavirus-related papers that date back to 1880!"
   ]
  },
  {
   "cell_type": "markdown",
   "metadata": {},
   "source": [
    "## Structured data extraction\n",
    "\n",
    "Let's see what kind of information we can easily extract from abstracts. One thing we might be interested in is to see which treatment strategies exist, and how they evolved over time. To begin with, we can manually compile the list of possible medications used to treat COVID, and also the list of diagnoses. We then go over them and search corresponding terms in the abstracts of papers."
   ]
  },
  {
   "cell_type": "code",
   "execution_count": null,
   "metadata": {},
   "outputs": [],
   "source": [
    "medications = [\n",
    "    'hydroxychloroquine', 'chloroquine', 'tocilizumab', 'remdesivir', 'azithromycin', \n",
    "    'lopinavir', 'ritonavir', 'dexamethasone', 'heparin', 'favipiravir', 'methylprednisolone']\n",
    "diagnosis = [\n",
    "    'covid','sars','pneumonia','infection','diabetes','coronavirus','death'\n",
    "]\n",
    "\n",
    "for m in medications:\n",
    "    print(f\" + Processing medication: {m}\")\n",
    "    df[m] = df['abstract'].apply(lambda x: str(x).lower().count(' '+m))\n",
    "    \n",
    "for m in diagnosis:\n",
    "    print(f\" + Processing diagnosis: {m}\")\n",
    "    df[m] = df['abstract'].apply(lambda x: str(x).lower().count(' '+m))"
   ]
  },
  {
   "cell_type": "markdown",
   "metadata": {},
   "source": [
    "We have added a bunch of columns to our dataframe that contain number of times a given medicine/diagnosis is present in the abstract. \n",
    "\n",
    "> **Note** that we add space to the beginning of the word when looking for a substring. If we do not do that, we might get wrong results, because *chloroquine* would also be found inside substring *hydroxychloroquine*. Also, we force conversion of abstracts column to `str` to get rid of an error - try removing `str` and see what happens.\n",
    "\n",
    "To make working with data easier, we can extract the sub-frame with only medication counts, and compute the accumulated number of occurrences. This gives is the most popular medication: "
   ]
  },
  {
   "cell_type": "code",
   "execution_count": null,
   "metadata": {},
   "outputs": [],
   "source": [
    "dfm = df[medications]\n",
    "dfm = dfm.sum().reset_index().rename(columns={ 'index' : 'Name', 0 : 'Count'})\n",
    "dfm.sort_values('Count',ascending=False)"
   ]
  },
  {
   "cell_type": "code",
   "execution_count": null,
   "metadata": {},
   "outputs": [],
   "source": [
    "dfm.set_index('Name').plot(kind='bar')\n",
    "plt.show()"
   ]
  },
  {
   "cell_type": "markdown",
   "metadata": {},
   "source": [
    "## Looking for trends in treatment strategy\n",
    "\n",
    "In the example above we have `sum`ed all values, but we can also do the same on a monthly basis:"
   ]
  },
  {
   "cell_type": "code",
   "execution_count": null,
   "metadata": {},
   "outputs": [],
   "source": [
    "dfm = df[['publish_time']+medications].set_index('publish_time')\n",
    "dfm = dfm[(dfm.index>=\"2020-01-01\") & (dfm.index<=\"2021-07-31\")]\n",
    "dfmt = dfm.groupby([dfm.index.year,dfm.index.month]).sum()\n",
    "dfmt"
   ]
  },
  {
   "cell_type": "markdown",
   "metadata": {},
   "source": [
    "This gives us a good picture of treatment strategies. Let's visualize it!"
   ]
  },
  {
   "cell_type": "code",
   "execution_count": null,
   "metadata": {},
   "outputs": [],
   "source": [
    "dfmt.plot()\n",
    "plt.show()"
   ]
  },
  {
   "cell_type": "markdown",
   "metadata": {},
   "source": [
    "An interesting observation is that we have huge spikes at two locations: January, 2020 and January, 2021. It is caused by the fact that some papers do not have a clearly specified data of publication, and they are specified as January of the respective year.\n",
    "\n",
    "To make more sense of the data, let's visualize just a few medicines. We will also \"erase\" data for January, and fill it in by some medium value, in order to make nicer plot:"
   ]
  },
  {
   "cell_type": "code",
   "execution_count": null,
   "metadata": {},
   "outputs": [],
   "source": [
    "meds = ['hydroxychloroquine','tocilizumab','favipiravir']\n",
    "dfmt.loc[(2020,1)] = np.nan\n",
    "dfmt.loc[(2021,1)] = np.nan\n",
    "dfmt.fillna(method='pad',inplace=True)\n",
    "fig, ax = plt.subplots(1,len(meds),figsize=(10,3))\n",
    "for i,m in enumerate(meds):\n",
    "    dfmt[m].plot(ax=ax[i])\n",
    "    ax[i].set_title(m)\n",
    "plt.show()"
   ]
  },
  {
   "cell_type": "markdown",
   "metadata": {},
   "source": [
    "Observe how popularity of hydroxychloroquine was on the rise in the first few months, and then started to decline, while number of mentions of favipiravir shows stable rise. Another good way to visualize relative popularity is to use **stack plot** (or **area plot** in Pandas terminology):"
   ]
  },
  {
   "cell_type": "code",
   "execution_count": null,
   "metadata": {},
   "outputs": [],
   "source": [
    "dfmt.plot.area()\n",
    "plt.show()"
   ]
  },
  {
   "cell_type": "markdown",
   "metadata": {},
   "source": [
    "Even further, we can compute relative popularity in percents:"
   ]
  },
  {
   "cell_type": "code",
   "execution_count": null,
   "metadata": {},
   "outputs": [],
   "source": [
    "dfmtp = dfmt.iloc[:,:].apply(lambda x: x/x.sum(), axis=1)\n",
    "dfmtp.plot.area()\n",
    "plt.show()"
   ]
  },
  {
   "cell_type": "markdown",
   "metadata": {},
   "source": [
    "\n",
    "## Computing medicine-diagnosis correspondence\n",
    "\n",
    "One of the most interesting relationships we can look for is how different diagnoses are treated with different medicines. In order to visualize it, we need to compute **co-occurence frequency map**, which would show how many times two terms are mentioned in the same paper.\n",
    "\n",
    "Such a map is essentially a 2D matrix, which is best represented by **numpy array**. We will compute this map by walking through all abstracts, and marking entities that occur there:"
   ]
  },
  {
   "cell_type": "code",
   "execution_count": null,
   "metadata": {},
   "outputs": [],
   "source": [
    "m = np.zeros((len(medications),len(diagnosis)))\n",
    "for a in df['abstract']:\n",
    "    x = str(a).lower()\n",
    "    for i,d in enumerate(diagnosis):\n",
    "        if ' '+d in x:\n",
    "            for j,me in enumerate(medications):\n",
    "                if ' '+me in x:\n",
    "                    m[j,i] += 1"
   ]
  },
  {
   "cell_type": "code",
   "execution_count": null,
   "metadata": {},
   "outputs": [],
   "source": [
    "m"
   ]
  },
  {
   "cell_type": "markdown",
   "metadata": {},
   "source": [
    "One of the ways to visualize this matrix is to draw a **heatmap**:"
   ]
  },
  {
   "cell_type": "code",
   "execution_count": null,
   "metadata": {},
   "outputs": [],
   "source": [
    "plt.imshow(m,interpolation='nearest',cmap='hot')\n",
    "ax = plt.gca()\n",
    "ax.set_yticks(range(len(medications))) \n",
    "ax.set_yticklabels(medications)\n",
    "ax.set_xticks(range(len(diagnosis)))\n",
    "ax.set_xticklabels(diagnosis,rotation=90)\n",
    "plt.show()"
   ]
  },
  {
   "cell_type": "markdown",
   "metadata": {},
   "source": [
    "However, even better visualization can be done using so-called **Sankey** diagram! `matplotlib` does not have built-in support for this diagram type, so we would have to use [Plotly](https://plotly.com/python/) as described [in this tutorial](https://plotly.com/python/sankey-diagram/).\n",
    "\n",
    "To make plotly sankey diagram, we need to build the following lists:\n",
    "* List `all_nodes` of all nodes in the graph, which will include both medications and diagnosis\n",
    "* List of source and target indices - those lists would show, which nodes go to the left, and which to the right part of the diagram\n",
    "* List of all links, each link consisting of:\n",
    "   - Source index in the `all_nodes` array\n",
    "   - Target index \n",
    "   - Value indicating strength of the link. This is exactly the value from our co-occurence matrix.\n",
    "   - Optionally color of the link. We will make an option to highlight some of the terms for clarity\n",
    "\n",
    "Generic code to draw sankey diagram is structured as a separate `sankey` function, which takes two lists (source and target categories) and co-occurence matrix. It also allows us to specify the threshold, and omit all links that are weaker than that threshold - this makes the diagram a little bit less complex. "
   ]
  },
  {
   "cell_type": "code",
   "execution_count": null,
   "metadata": {},
   "outputs": [],
   "source": [
    "import plotly.graph_objects as go\n",
    "\n",
    "def sankey(cat1, cat2, m, treshold=0, h1=[], h2=[]):\n",
    "    all_nodes = cat1 + cat2\n",
    "    source_indices = list(range(len(cat1)))\n",
    "    target_indices = list(range(len(cat1),len(cat1)+len(cat2)))\n",
    "\n",
    "    s, t, v, c = [], [], [], []\n",
    "    for i in range(len(cat1)):\n",
    "        for j in range(len(cat2)):\n",
    "            if m[i,j]>treshold:\n",
    "                s.append(i)\n",
    "                t.append(len(cat1)+j)\n",
    "                v.append(m[i,j])\n",
    "                c.append('pink' if i in h1 or j in h2 else 'lightgray')\n",
    "\n",
    "    fig = go.Figure(data=[go.Sankey(\n",
    "        # Define nodes\n",
    "        node = dict(\n",
    "        pad = 40,\n",
    "        thickness = 40,\n",
    "        line = dict(color = \"black\", width = 1.0),\n",
    "        label =  all_nodes),\n",
    "\n",
    "        # Add links\n",
    "        link = dict(\n",
    "        source =  s,\n",
    "        target =  t,\n",
    "        value =  v,\n",
    "        color = c\n",
    "    ))])\n",
    "    fig.show()\n",
    "\n",
    "sankey(medications,diagnosis,m,500,h2=[0])"
   ]
  },
  {
   "cell_type": "markdown",
   "metadata": {},
   "source": [
    "## Conclusion\n",
    "\n",
    "You have seen that we can use quite simple methods to extract information from non-structured data sources, such as text. In this example, we have taken the existing list of medications, but it would be much more powerful to use natural language processing (NLP) techniques to perform entity extraction from text. In [this blog post](https://soshnikov.com/science/analyzing-medical-papers-with-azure-and-text-analytics-for-health/) we describe how to use cloud services for entity extraction. Another option would be using Python NLP libraries such as [NLTK](https://www.nltk.org/) - an approach for extracting information from text using NLTK is described [here](https://www.nltk.org/book/ch07.html)."
   ]
  },
  {
   "cell_type": "markdown",
   "metadata": {},
   "source": [
    "## Challenge\n",
    "\n",
    "Continue to research the COVID paper data along the following lines:\n",
    "\n",
    "1. Build co-occurrence matrix of different medications, and see which medications often occur together (i.e. mentioned in one abstract). You can modify the code for building co-occurrence matrix for medications and diagnoses.\n",
    "1. Visualize this matrix using heatmap.\n",
    "1. As a stretch goal, you may want to visualize the co-occurrence of medications using [chord diagram](https://en.wikipedia.org/wiki/Chord_diagram). [This library](https://pypi.org/project/chord/) may help you draw a chord diagram.\n",
    "1. As another stretch goal, try to extract dosages of different medications (such as **400mg** in *take 400mg of chloroquine daily*) using regular expressions, and build dataframe that shows different dosages for different medications. **Note**: consider numeric values that are in close textual vicinity of the medicine name."
   ]
  },
  {
   "cell_type": "markdown",
   "metadata": {},
   "source": [
    "## Acknowledgments\n",
    "\n",
    "Thanks to Microsoft for creating the open-source course [Data Science for Beginners](https://github.com/microsoft/Data-Science-For-Beginners). It inspires the majority of the content in this chapter."
   ]
  }
 ],
 "metadata": {
  "interpreter": {
   "hash": "86193a1ab0ba47eac1c69c1756090baa3b420b3eea7d4aafab8b85f8b312f0c5"
  },
  "kernelspec": {
   "display_name": "conda-open-machine-learning-jupyter-book",
   "language": "python",
   "name": "conda-open-machine-learning-jupyter-book"
  },
  "language_info": {
   "codemirror_mode": {
    "name": "ipython",
    "version": 3
   },
   "file_extension": ".py",
   "mimetype": "text/x-python",
   "name": "python",
   "nbconvert_exporter": "python",
   "pygments_lexer": "ipython3",
   "version": "3.9.7"
  }
 },
 "nbformat": 4,
 "nbformat_minor": 4
}
