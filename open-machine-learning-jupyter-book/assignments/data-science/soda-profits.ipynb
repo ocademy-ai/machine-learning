{
 "cells": [
  {
   "attachments": {},
   "cell_type": "markdown",
   "metadata": {},
   "source": [
    "# Soda profits\n",
    "\n",
    "## Loading data\n",
    "\n",
    "You have been provided a database built on SQLite which contains information about Soda, provided by the Microsoft for creating the open-source course [Data Science for Beginners](https://github.com/microsoft/Data-Science-For-Beginners). Dataset is available in [this GitHub Repository](https://github.com/microsoft/Data-Science-For-Beginners/blob/main/2-Working-With-Data)."
   ]
  },
  {
   "cell_type": "code",
   "execution_count": null,
   "metadata": {},
   "outputs": [],
   "source": [
    "from sqlalchemy.engine import create_engine\n",
    "import sqlite3\n",
    "from pandas.io import sql\n",
    "import subprocess\n",
    "%pip install ipython-sql\n",
    "%load_ext sql\n",
    "%sql sqlite:///../../assets/data/coca_cola_co.sqlite \n",
    "# loading from disk"
   ]
  },
  {
   "attachments": {},
   "cell_type": "markdown",
   "metadata": {},
   "source": [
    "The Coca-Cola Co spreadsheet[coc] is missing some calculations. Your task is to:"
   ]
  },
  {
   "attachments": {},
   "cell_type": "markdown",
   "metadata": {},
   "source": [
    "1. Calculate the Gross profits of FY ‘15, ‘16, ‘17, and ‘18.\n",
    "\n",
    "Gross Profit = Net Operating revenues - Cost of goods sold.\n"
   ]
  },
  {
   "cell_type": "code",
   "execution_count": null,
   "metadata": {},
   "outputs": [],
   "source": [
    "%%sql\n",
    "    SELECT year, \"Net Operating Revenues\" - \"Cost of Goods Sold\" AS \"Gross Profit\"\n",
    "    FROM \"coca-cola-co\"\n",
    "    WHERE year IN ('15', '16', '17', '18');"
   ]
  },
  {
   "attachments": {},
   "cell_type": "markdown",
   "metadata": {},
   "source": [
    "2. Calculate the average of all the gross profits. Try to do this with a function.\n",
    "\n",
    "Average = Sum of gross profits divided by the number of fiscal years (10).\n",
    "\n",
    "Documentation of the AVERAGE function.\n"
   ]
  },
  {
   "cell_type": "code",
   "execution_count": null,
   "metadata": {},
   "outputs": [],
   "source": [
    "%%sql\n",
    "    SELECT AVG(\"Gross Profit\") AS \"Average Gross Profit\"\n",
    "    FROM (\n",
    "    SELECT \"Net Operating Revenues\" - \"Cost of Goods Sold\" AS \"Gross Profit\"\n",
    "    FROM \"coca-cola-co\"\n",
    "    ) AS \"All Gross Profits\";"
   ]
  },
  {
   "attachments": {},
   "cell_type": "markdown",
   "metadata": {},
   "source": [
    "## Acknowledgments\n",
    "\n",
    "Thanks to Microsoft for creating the open-source course [Data Science for Beginners](https://github.com/microsoft/Data-Science-For-Beginners). It inspires the majority of the content in this chapter."
   ]
  }
 ],
 "metadata": {
  "kernelspec": {
   "display_name": "myconda_1",
   "language": "python",
   "name": "myconda_1"
  },
  "language_info": {
   "codemirror_mode": {
    "name": "ipython",
    "version": 3
   },
   "file_extension": ".py",
   "mimetype": "text/x-python",
   "name": "python",
   "nbconvert_exporter": "python",
   "pygments_lexer": "ipython3",
   "version": "3.10.5"
  },
  "orig_nbformat": 4
 },
 "nbformat": 4,
 "nbformat_minor": 2
}
