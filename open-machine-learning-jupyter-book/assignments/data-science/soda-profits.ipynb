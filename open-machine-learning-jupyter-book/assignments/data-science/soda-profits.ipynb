{
 "cells": [
  {
   "attachments": {},
   "cell_type": "markdown",
   "metadata": {},
   "source": [
    "# Soda profits"
   ]
  },
  {
   "attachments": {},
   "cell_type": "markdown",
   "metadata": {},
   "source": [
    "## Instructions\n",
    "\n",
    "The <a href=\"../../assets/data/coca-cola-co.csv\">Coca-Cola Co spreadsheet</a>{cite}`cocacola_excel` is missing some calculations. "
   ]
  },
  {
   "attachments": {},
   "cell_type": "markdown",
   "metadata": {},
   "source": [
    "## Loading data"
   ]
  },
  {
   "cell_type": "code",
   "execution_count": null,
   "metadata": {},
   "outputs": [],
   "source": [
    "%pip install ipython-sql\n",
    "%load_ext sql\n",
    "from sqlalchemy.engine import create_engine\n",
    "import sqlite3\n",
    "from pandas.io import sql\n",
    "import subprocess"
   ]
  },
  {
   "cell_type": "code",
   "execution_count": null,
   "metadata": {},
   "outputs": [],
   "source": [
    "%sql sqlite:///../../assets/data/coca_cola_co.sqlite \n",
    "# loading from disk"
   ]
  },
  {
   "attachments": {},
   "cell_type": "markdown",
   "metadata": {},
   "source": [
    "## Assignment\n",
    "\n",
    "Create queries to return the following information:"
   ]
  },
  {
   "attachments": {},
   "cell_type": "markdown",
   "metadata": {},
   "source": [
    "1. Calculate the Gross profits of FY '15, '16, '17, and '18.\n",
    "    - Gross Profit = Net Operating revenues - Cost of goods sold.\n"
   ]
  },
  {
   "cell_type": "code",
   "execution_count": null,
   "metadata": {},
   "outputs": [],
   "source": [
    "%%sql\n",
    "    SELECT year, \"Net Operating Revenues\" - \"Cost of Goods Sold\" AS \"Gross Profit\"\n",
    "    FROM \"coca-cola-co\"\n",
    "    WHERE year IN ('15', '16', '17', '18');"
   ]
  },
  {
   "attachments": {},
   "cell_type": "markdown",
   "metadata": {},
   "source": [
    "2. Calculate the average of all the gross profits. Try to do this with a function.\n",
    "    - Average = Sum of gross profits divided by the number of fiscal years (10).\n",
    "    - Documentation of the [AVERAGE function](https://support.microsoft.com/en-us/office/average-function-047bac88-d466-426c-a32b-8f33eb960cf6).\n"
   ]
  },
  {
   "cell_type": "code",
   "execution_count": null,
   "metadata": {},
   "outputs": [],
   "source": [
    "%%sql\n",
    "    SELECT AVG(\"Gross Profit\") AS \"Average Gross Profit\"\n",
    "    FROM (\n",
    "    SELECT \"Net Operating Revenues\" - \"Cost of Goods Sold\" AS \"Gross Profit\"\n",
    "    FROM \"coca-cola-co\"\n",
    "    ) AS \"All Gross Profits\";"
   ]
  },
  {
   "attachments": {},
   "cell_type": "markdown",
   "metadata": {},
   "source": [
    "## Acknowledgments\n",
    "\n",
    "Thanks to Microsoft for creating the open-source course [Data Science for Beginners](https://github.com/microsoft/Data-Science-For-Beginners) and author [Jasmine Greenaway](https://github.com/paladique). They inspires the majority of the content in this chapter."
   ]
  }
 ],
 "metadata": {
  "kernelspec": {
   "display_name": "myconda_1",
   "language": "python",
   "name": "myconda_1"
  },
  "language_info": {
   "codemirror_mode": {
    "name": "ipython",
    "version": 3
   },
   "file_extension": ".py",
   "mimetype": "text/x-python",
   "name": "python",
   "nbconvert_exporter": "python",
   "pygments_lexer": "ipython3",
   "version": "3.10.5"
  },
  "orig_nbformat": 4
 },
 "nbformat": 4,
 "nbformat_minor": 2
}
