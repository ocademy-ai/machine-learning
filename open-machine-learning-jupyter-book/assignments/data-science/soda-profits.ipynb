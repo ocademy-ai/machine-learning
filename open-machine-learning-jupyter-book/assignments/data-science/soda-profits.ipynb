{
 "cells": [
  {
   "cell_type": "markdown",
   "metadata": {},
   "source": [
    "# Soda profits\n",
    "\n",
    "The <a href=\"https://raw.githubusercontent.com/open-academy/machine-learning/main/open-machine-learning-jupyter-book/assets/data/coca_cola_co.sqlite\">Coca-Cola Co spreadsheet</a><cite>[1]</cite> is missing some calculations. \n"
   ]
  },
  {
   "cell_type": "markdown",
   "metadata": {},
   "source": [
    "## Loading data"
   ]
  },
  {
   "cell_type": "code",
   "execution_count": null,
   "metadata": {},
   "outputs": [],
   "source": [
    "# install the necessary dependencies\n",
    "import sys\n",
    "!{sys.executable} -m pip install --quiet ipython-sql\n",
    "\n",
    "%load_ext sql"
   ]
  },
  {
   "cell_type": "code",
   "execution_count": null,
   "metadata": {},
   "outputs": [],
   "source": [
    "# download data file\n",
    "!curl https://raw.githubusercontent.com/open-academy/machine-learning/main/open-machine-learning-jupyter-book/assets/data/coca_cola_co.sqlite -o ./coca_cola_co.sqlite\n",
    "\n",
    "# loading from disk\n",
    "%sql sqlite:///coca_cola_co.sqlite\n",
    "\n",
    "# clear tmp data file\n",
    "!rm -rf coca_cola_co.sqlite\n"
   ]
  },
  {
   "cell_type": "markdown",
   "metadata": {},
   "source": [
    "Let's have a look at some sample data."
   ]
  },
  {
   "cell_type": "code",
   "execution_count": 28,
   "metadata": {},
   "outputs": [
    {
     "name": "stdout",
     "output_type": "stream",
     "text": [
      " * sqlite:///coca_cola_co.sqlite\n",
      "Done.\n"
     ]
    },
    {
     "data": {
      "text/html": [
       "<table>\n",
       "    <thead>\n",
       "        <tr>\n",
       "            <th>year</th>\n",
       "            <th>Net operating revenues</th>\n",
       "            <th>Cost of goods sold</th>\n",
       "            <th>Gross Profit</th>\n",
       "        </tr>\n",
       "    </thead>\n",
       "    <tbody>\n",
       "        <tr>\n",
       "            <td>09</td>\n",
       "            <td>30990.00</td>\n",
       "            <td>11088.00</td>\n",
       "            <td>19902.00</td>\n",
       "        </tr>\n",
       "        <tr>\n",
       "            <td>10</td>\n",
       "            <td>35119.00</td>\n",
       "            <td>12693.00</td>\n",
       "            <td>22426.00</td>\n",
       "        </tr>\n",
       "        <tr>\n",
       "            <td>11</td>\n",
       "            <td>46542.00</td>\n",
       "            <td>18215.00</td>\n",
       "            <td>28327.00</td>\n",
       "        </tr>\n",
       "        <tr>\n",
       "            <td>12</td>\n",
       "            <td>48017.00</td>\n",
       "            <td>19053.00</td>\n",
       "            <td>28964.00</td>\n",
       "        </tr>\n",
       "        <tr>\n",
       "            <td>13</td>\n",
       "            <td>46854.00</td>\n",
       "            <td>18421.00</td>\n",
       "            <td>28433.00</td>\n",
       "        </tr>\n",
       "        <tr>\n",
       "            <td>14</td>\n",
       "            <td>45998.00</td>\n",
       "            <td>17889.00</td>\n",
       "            <td>28109.00</td>\n",
       "        </tr>\n",
       "        <tr>\n",
       "            <td>15</td>\n",
       "            <td>44294.00</td>\n",
       "            <td>17482.00</td>\n",
       "            <td></td>\n",
       "        </tr>\n",
       "        <tr>\n",
       "            <td>16</td>\n",
       "            <td>41863.00</td>\n",
       "            <td>16465.00</td>\n",
       "            <td></td>\n",
       "        </tr>\n",
       "        <tr>\n",
       "            <td>17</td>\n",
       "            <td>35410.00</td>\n",
       "            <td>13255.00</td>\n",
       "            <td></td>\n",
       "        </tr>\n",
       "        <tr>\n",
       "            <td>18</td>\n",
       "            <td>31856.00</td>\n",
       "            <td>11770.00</td>\n",
       "            <td></td>\n",
       "        </tr>\n",
       "    </tbody>\n",
       "</table>"
      ],
      "text/plain": [
       "[('09', '30990.00', '11088.00', '19902.00'),\n",
       " ('10', '35119.00', '12693.00', '22426.00'),\n",
       " ('11', '46542.00', '18215.00', '28327.00'),\n",
       " ('12', '48017.00', '19053.00', '28964.00'),\n",
       " ('13', '46854.00', '18421.00', '28433.00'),\n",
       " ('14', '45998.00', '17889.00', '28109.00'),\n",
       " ('15', '44294.00', '17482.00', ''),\n",
       " ('16', '41863.00', '16465.00', ''),\n",
       " ('17', '35410.00', '13255.00', ''),\n",
       " ('18', '31856.00', '11770.00', '')]"
      ]
     },
     "execution_count": 28,
     "metadata": {},
     "output_type": "execute_result"
    }
   ],
   "source": [
    "%%sql\n",
    "\n",
    "SELECT * FROM \"coca-cola-co\""
   ]
  },
  {
   "cell_type": "markdown",
   "metadata": {},
   "source": [
    "## Assignment\n",
    "\n",
    "Create queries to return the following information:"
   ]
  },
  {
   "cell_type": "markdown",
   "metadata": {},
   "source": [
    "1. Calculate the Gross profits of FY '15, '16, '17, and '18.\n",
    "    - Gross Profit = Net Operating revenues - Cost of goods sold.\n"
   ]
  },
  {
   "cell_type": "code",
   "execution_count": null,
   "metadata": {},
   "outputs": [],
   "source": [
    "%%sql\n",
    "\n",
    "SELECT year, \"Net Operating Revenues\" ____ \"Cost of Goods Sold\" ______ \"Gross Profit\"\n",
    "FROM \"coca-cola-co\"\n",
    "WHERE ______ IN ('15', '16', '17', '18');"
   ]
  },
  {
   "cell_type": "markdown",
   "metadata": {},
   "source": [
    "2. Calculate the average of all the gross profits. Try to do this with a function.\n",
    "    - Average = Sum of gross profits divided by the number of fiscal years (10).\n",
    "    - Documentation of the [AVERAGE function](https://support.microsoft.com/en-us/office/average-function-047bac88-d466-426c-a32b-8f33eb960cf6).\n"
   ]
  },
  {
   "cell_type": "code",
   "execution_count": null,
   "metadata": {},
   "outputs": [],
   "source": [
    "%%sql\n",
    "\n",
    "SELECT ____(\"Gross Profit\") AS \"Average Gross Profit\"\n",
    "______ (\n",
    "    SELECT ____ - ____ AS \"Gross Profit\"\n",
    "    FROM \"coca-cola-co\"\n",
    ") AS \"All Gross Profits\";"
   ]
  },
  {
   "cell_type": "markdown",
   "metadata": {},
   "source": [
    "## Acknowledgments\n",
    "\n",
    "Thanks to Microsoft for creating the open-source course [Data Science for Beginners](https://github.com/microsoft/Data-Science-For-Beginners) and the data author [Jasmine Greenaway](https://github.com/paladique). They inspires the majority of the content in this chapter."
   ]
  },
  {
   "cell_type": "markdown",
   "metadata": {},
   "source": [
    "## Bibliography\n",
    "\n",
    "[1]. CocaCola excel. (n.d.). Retrieved 29 May 2023, from https://www.kaggle.com/datasets/yiyiwang0826/cocacola-excel"
   ]
  }
 ],
 "metadata": {
  "kernelspec": {
   "display_name": "Python 3 (ipykernel)",
   "language": "python",
   "name": "python3"
  },
  "language_info": {
   "codemirror_mode": {
    "name": "ipython",
    "version": 3
   },
   "file_extension": ".py",
   "mimetype": "text/x-python",
   "name": "python",
   "nbconvert_exporter": "python",
   "pygments_lexer": "ipython3",
   "version": "3.9.5"
  }
 },
 "nbformat": 4,
 "nbformat_minor": 4
}
