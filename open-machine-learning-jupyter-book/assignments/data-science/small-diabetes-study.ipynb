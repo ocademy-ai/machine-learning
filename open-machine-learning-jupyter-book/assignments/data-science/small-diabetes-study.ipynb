{
 "cells": [
  {
   "cell_type": "code",
   "execution_count": null,
   "metadata": {
    "jupyter": {
     "source_hidden": true
    },
    "tags": [
     "hide-input",
     "hide-output"
    ]
   },
   "outputs": [],
   "source": [
    "# init \n",
    "error_message = 'The anwser is not correct, please try again. \\n\\n\\nNeed help? See the hint below. 👇'"
   ]
  },
  {
   "cell_type": "markdown",
   "metadata": {},
   "source": [
    "# Small diabetes study\n",
    "\n",
    "In this assignment, we will work with a small dataset of diabetes patients taken from [here](https://www4.stat.ncsu.edu/~boos/var.select/diabetes.html).\n",
    "\n",
    "\n",
    "## Introduction to probability and statistics"
   ]
  },
  {
   "cell_type": "code",
   "execution_count": null,
   "metadata": {
    "tags": [
     "hide-input",
     "hide-output"
    ]
   },
   "outputs": [],
   "source": [
    "import pandas as pd\n",
    "import numpy as np\n",
    "import matplotlib\n",
    "\n",
    "df = pd.read_csv(\"../../assets/data/diabetes.tsv\",sep='\\t')\n",
    "df.head()"
   ]
  },
  {
   "cell_type": "markdown",
   "metadata": {},
   "source": [
    "\n",
    "In this dataset, columns as the following:\n",
    "* Age and sex are self-explanatory\n",
    "* BMI is body mass index\n",
    "* BP is average blood pressure\n",
    "* S1 through S6 are different blood measurements\n",
    "* Y is the qualitative measure of disease progression over one year\n",
    "\n",
    "Let's study this dataset using methods of probability and statistics.\n",
    "\n",
    "### Task 1: Compute mean values and variance for all values"
   ]
  },
  {
   "cell_type": "code",
   "execution_count": null,
   "metadata": {},
   "outputs": [],
   "source": [
    "df_mean = ____\n",
    "df_std = ____"
   ]
  },
  {
   "cell_type": "markdown",
   "metadata": {
    "jp-MarkdownHeadingCollapsed": true,
    "tags": []
   },
   "source": [
    "<h5><font color=blue>Check result by executing below... 📝</font></h5>\n"
   ]
  },
  {
   "cell_type": "code",
   "execution_count": null,
   "metadata": {
    "jupyter": {
     "source_hidden": true
    },
    "tags": [
     "hide-input"
    ]
   },
   "outputs": [],
   "source": [
    "assert df_mean['AGE'] == 48.51809954751131, error_message\n",
    "assert df_mean['BMI'] == 26.37579185520362, error_message\n",
    "assert df_mean['BP'] == 94.64701357466062, error_message\n",
    "assert df_mean['Y'] == 152.13348416289594, error_message\n",
    "\n",
    "assert df_std['S1'] == 34.60805167504306, error_message\n",
    "assert df_std['S2'] == 30.413080969276546, error_message\n",
    "assert df_std['S3'] == 12.934202154863327, error_message\n",
    "assert df_std['S4'] == 1.2904498966082774, error_message\n",
    "assert df_std['S5'] == 0.5223905610694907, error_message\n",
    "assert df_std['S6'] == 11.496334739334172, error_message\n",
    "\n",
    "print('✅ Correct!')"
   ]
  },
  {
   "cell_type": "markdown",
   "metadata": {
    "jupyter": {
     "source_hidden": true
    },
    "tags": [
     "hide-input"
    ]
   },
   "source": [
    "<div class=\"alert alert-info\">👩‍💻 <b>Hint</b>: you can consider to use <code>pandas.DataFrame.mean</code> and <code>pandas.DataFrame.std</code>.</div>"
   ]
  },
  {
   "cell_type": "markdown",
   "metadata": {
    "tags": []
   },
   "source": [
    "### Task 2: Plot boxplots for BMI, BP and Y depending on gender"
   ]
  },
  {
   "cell_type": "markdown",
   "metadata": {},
   "source": [
    "#### Part 1: get the data ready"
   ]
  },
  {
   "cell_type": "code",
   "execution_count": null,
   "metadata": {},
   "outputs": [],
   "source": [
    "columns_to_plot = ____\n",
    "\n",
    "# filter the df by 'SEX' == 1\n",
    "df_sex_1 = df____\n",
    "\n",
    "# filter the df by 'SEX' == 2\n",
    "df_sex_2 = df____"
   ]
  },
  {
   "cell_type": "code",
   "execution_count": null,
   "metadata": {
    "tags": []
   },
   "outputs": [],
   "source": [
    "assert columns_to_plot == ['BMI', 'BP', 'Y'], 'The anwser is not correct, please try again. \\n\\n\\nNeed help? See the hint below. 👇'\n",
    "\n",
    "print('✅ Correct!')"
   ]
  },
  {
   "cell_type": "code",
   "execution_count": null,
   "metadata": {},
   "outputs": [],
   "source": [
    "# filter the df by 'SEX' == 1\n",
    "df_sex_1 = df[df['SEX'] == 1]"
   ]
  },
  {
   "cell_type": "markdown",
   "metadata": {
    "jp-MarkdownHeadingCollapsed": true,
    "tags": []
   },
   "source": [
    "<h5><font color=blue>Check result by executing below... 📝</font></h5>"
   ]
  },
  {
   "cell_type": "code",
   "execution_count": null,
   "metadata": {
    "jupyter": {
     "source_hidden": true
    },
    "tags": [
     "hide-input"
    ]
   },
   "outputs": [],
   "source": [
    "assert columns_to_plot == ['BMI', 'BP', 'Y'], error_message\n",
    "assert df_sex_1.equals(df[df['SEX'] == 1]), error_message\n",
    "assert df_sex_2.equals(df[df['SEX'] == 2]), error_message\n",
    "\n",
    "print('✅ Correct!')"
   ]
  },
  {
   "cell_type": "markdown",
   "metadata": {
    "jupyter": {
     "source_hidden": true
    },
    "tags": [
     "hide-input"
    ]
   },
   "source": [
    "<div class=\"alert alert-info\">👩‍💻 <b>Hint</b>: refer to <a href=\"https://pandas.pydata.org/docs/user_guide/indexing.html\">indexin and selecting data on</a> <code>pandas.DataFrame</code>.</div>"
   ]
  },
  {
   "cell_type": "markdown",
   "metadata": {},
   "source": [
    "#### Part 2: plot the data"
   ]
  },
  {
   "cell_type": "code",
   "execution_count": null,
   "metadata": {},
   "outputs": [],
   "source": [
    "plot_sex_1 = df_sex_1.____(column = columns_to_plot)"
   ]
  },
  {
   "cell_type": "code",
   "execution_count": null,
   "metadata": {},
   "outputs": [],
   "source": [
    "plot_sex_2 = df_sex_2.____(column = columns_to_plot) "
   ]
  },
  {
   "cell_type": "markdown",
   "metadata": {
    "jp-MarkdownHeadingCollapsed": true,
    "tags": []
   },
   "source": [
    "<h5><font color=blue>Check result by executing below... 📝</font></h5>"
   ]
  },
  {
   "cell_type": "code",
   "execution_count": null,
   "metadata": {
    "jupyter": {
     "source_hidden": true
    },
    "tags": [
     "hide-input"
    ]
   },
   "outputs": [],
   "source": [
    "assert plot_sex_1, error_message\n",
    "assert plot_sex_2, error_message\n",
    "\n",
    "print('✅ Correct!')"
   ]
  },
  {
   "cell_type": "markdown",
   "metadata": {
    "jupyter": {
     "source_hidden": true
    },
    "tags": [
     "hide-input"
    ]
   },
   "source": [
    "<div class=\"alert alert-info\">👩‍💻 <b>Hint</b>: you can consider to use <code>pandas.DataFrame.boxplot</code>.</div>"
   ]
  },
  {
   "cell_type": "markdown",
   "metadata": {},
   "source": [
    "### Task 3: What is the distribution of Age, Sex, BMI and Y variables?"
   ]
  },
  {
   "cell_type": "code",
   "execution_count": null,
   "metadata": {},
   "outputs": [],
   "source": [
    "age_distribution = df['AGE']____"
   ]
  },
  {
   "cell_type": "code",
   "execution_count": null,
   "metadata": {},
   "outputs": [],
   "source": [
    "sex_distribution = df['SEX']____"
   ]
  },
  {
   "cell_type": "code",
   "execution_count": null,
   "metadata": {},
   "outputs": [],
   "source": [
    "bmi_distribution = df['BMI']____"
   ]
  },
  {
   "cell_type": "code",
   "execution_count": null,
   "metadata": {},
   "outputs": [],
   "source": [
    "y_distribution = df['Y']____"
   ]
  },
  {
   "cell_type": "markdown",
   "metadata": {
    "jp-MarkdownHeadingCollapsed": true,
    "tags": []
   },
   "source": [
    "<h5><font color=blue>Check result by executing below... 📝</font></h5>"
   ]
  },
  {
   "cell_type": "code",
   "execution_count": null,
   "metadata": {
    "jupyter": {
     "source_hidden": true
    },
    "tags": [
     "hide-input"
    ]
   },
   "outputs": [],
   "source": [
    "assert age_distribution, error_message\n",
    "assert sex_distribution, error_message\n",
    "assert bmi_distribution, error_message\n",
    "assert y_distribution, error_message\n",
    "\n",
    "print('✅ Correct!')"
   ]
  },
  {
   "cell_type": "markdown",
   "metadata": {
    "jupyter": {
     "source_hidden": true
    },
    "tags": [
     "hide-input"
    ]
   },
   "source": [
    "<div class=\"alert alert-info\">👩‍💻 <b>Hint</b>: you can consider to use <code>pandas.DataFrame.plot</code>.</div>"
   ]
  },
  {
   "cell_type": "markdown",
   "metadata": {},
   "source": [
    "### Task 4: Test the correlation between different variables and disease progression (Y)\n",
    "\n",
    "> **Hint** Correlation matrix would give you the most useful information on which values are dependent."
   ]
  },
  {
   "cell_type": "code",
   "execution_count": null,
   "metadata": {},
   "outputs": [],
   "source": [
    "df_corr_y = df____"
   ]
  },
  {
   "cell_type": "markdown",
   "metadata": {
    "jp-MarkdownHeadingCollapsed": true,
    "tags": []
   },
   "source": [
    "<h5><font color=blue>Check result by executing below... 📝</font></h5>"
   ]
  },
  {
   "cell_type": "code",
   "execution_count": null,
   "metadata": {
    "jupyter": {
     "source_hidden": true
    },
    "tags": [
     "hide-input"
    ]
   },
   "outputs": [],
   "source": [
    "assert df_corr_y['AGE'] == 0.18788875071891994, error_message\n",
    "assert df_corr_y['SEX'] == 0.04306199845160546, error_message\n",
    "assert df_corr_y['BMI'] == 0.5864501344746884, error_message\n",
    "assert df_corr_y['BP'] == 0.4414817585625712, error_message\n",
    "assert df_corr_y['S1'] == 0.2120224810145505, error_message\n",
    "assert df_corr_y['S2'] == 0.17405358696874243, error_message\n",
    "assert df_corr_y['S3'] == -0.39478925067091813, error_message\n",
    "assert df_corr_y['S4'] == 0.430452884744773, error_message\n",
    "assert df_corr_y['S5'] == 0.5658825924427435, error_message\n",
    "assert df_corr_y['S6'] == 0.3824834842485807, error_message\n",
    "assert df_corr_y['Y'] == 1.0, error_message\n",
    "\n",
    "print('✅ Correct!')"
   ]
  },
  {
   "cell_type": "markdown",
   "metadata": {
    "jupyter": {
     "source_hidden": true
    },
    "tags": [
     "hide-input"
    ]
   },
   "source": [
    "<div class=\"alert alert-info\">👩‍💻 <b>Hint</b>: you can consider to use <code>pandas.DataFrame.corr</code>.</div>"
   ]
  },
  {
   "cell_type": "markdown",
   "metadata": {},
   "source": [
    "### Task 5: Test the hypothesis that the degree of diabetes progression is different between men and women"
   ]
  },
  {
   "cell_type": "code",
   "execution_count": null,
   "metadata": {},
   "outputs": [],
   "source": [
    "# get the correlation between 'SEX' and 'Y'\n",
    "df_corr_sex_with_y = df____"
   ]
  },
  {
   "cell_type": "code",
   "execution_count": null,
   "metadata": {},
   "outputs": [],
   "source": [
    "# plot the scatterplot between 'SEX' and 'Y'\n",
    "df____"
   ]
  },
  {
   "cell_type": "code",
   "execution_count": null,
   "metadata": {},
   "outputs": [],
   "source": [
    "# fill in True or False\n",
    "diabetes_progression_correlated_with_sex = ____\n",
    "print(f\"The degree of diabetes progression is {'different' if diabetes_progression_correlated_with_sex else 'not different'} between men and women.\")"
   ]
  },
  {
   "cell_type": "markdown",
   "metadata": {
    "jp-MarkdownHeadingCollapsed": true,
    "tags": []
   },
   "source": [
    "<h5><font color=blue>Check result by executing below... 📝</font></h5>"
   ]
  },
  {
   "cell_type": "code",
   "execution_count": null,
   "metadata": {
    "jupyter": {
     "source_hidden": true
    },
    "tags": [
     "hide-input"
    ]
   },
   "outputs": [],
   "source": [
    "assert df_corr_sex_with_y == 0.0430619984516054, error_message\n",
    "assert not diabetes_progression_correlated_with_sex, error_message\n",
    "\n",
    "print('✅ Correct!')"
   ]
  },
  {
   "cell_type": "markdown",
   "metadata": {
    "jupyter": {
     "source_hidden": true
    },
    "tags": [
     "hide-input"
    ]
   },
   "source": [
    "<div class=\"alert alert-info\">👩‍💻 <b>Hint</b>: you can consider to use <code>pandas.DataFrame.corrwith</code> to get the correlation, and <code>pandas.DataFrame.plot.scatter</code> to plot the scatterplots.</div>"
   ]
  },
  {
   "cell_type": "markdown",
   "metadata": {},
   "source": [
    "## Rubric\n",
    "\n",
    "Exemplary | Adequate | Needs Improvement\n",
    "--- | --- | -- |\n",
    "All required tasks are complete, graphically illustrated and explained | Most of the tasks are complete, explanations or takeaways from graphs and/or obtained values are missing | Only basic tasks such as computation of mean/variance and basic plots are complete, no conclusions are made from the data\n",
    "\n",
    "## Acknowledgments\n",
    "\n",
    "Thanks to Microsoft for creating the open-source course [Data Science for Beginners](https://github.com/microsoft/Data-Science-For-Beginners). It inspires the majority of the content in this chapter.\n"
   ]
  }
 ],
 "metadata": {
  "kernelspec": {
   "display_name": "Python 3 (ipykernel)",
   "language": "python",
   "name": "python3"
  },
  "language_info": {
   "codemirror_mode": {
    "name": "ipython",
    "version": 3
   },
   "file_extension": ".py",
   "mimetype": "text/x-python",
   "name": "python",
   "nbconvert_exporter": "python",
   "pygments_lexer": "ipython3",
   "version": "3.9.7"
  },
  "vscode": {
   "interpreter": {
    "hash": "aee8b7b246df8f9039afb4144a1f6fd8d2ca17a180786b69acc140d282b71a49"
   }
  }
 },
 "nbformat": 4,
 "nbformat_minor": 4
}
