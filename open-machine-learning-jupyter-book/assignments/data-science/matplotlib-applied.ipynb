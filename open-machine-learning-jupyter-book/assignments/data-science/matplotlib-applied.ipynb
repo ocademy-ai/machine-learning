{
 "cells": [
  {
   "attachments": {},
   "cell_type": "markdown",
   "metadata": {},
   "source": [
    "<details><summary><b>LICENSE</b></summary>\n",
    "\n",
    "Copyright 2015 Donne Martin\n",
    "\n",
    "Licensed under the Apache License, Version 2.0 (the \"License\");\n",
    "you may not use this file except in compliance with the License.\n",
    "You may obtain a copy of the License at\n",
    "\n",
    "   http://www.apache.org/licenses/LICENSE-2.0\n",
    "\n",
    "Unless required by applicable law or agreed to in writing, software\n",
    "distributed under the License is distributed on an \"AS IS\" BASIS,\n",
    "WITHOUT WARRANTIES OR CONDITIONS OF ANY KIND, either express or implied.\n",
    "See the License for the specific language governing permissions and\n",
    "limitations under the License.\n",
    "\n",
    "</details>"
   ]
  },
  {
   "cell_type": "markdown",
   "metadata": {},
   "source": [
    "# Matplotlib applied\n",
    "\n",
    "* Applying Matplotlib Visualizations to Kaggle: Titanic\n",
    "* Bar Plots, Histograms, subplot2grid\n",
    "* Normalized Plots\n",
    "* Scatter Plots, subplots\n",
    "* Kernel Density Estimation Plots\n",
    "\n",
    "# challenge\n",
    "* This assignment is modified form https://github.com/donnemartin/data-science-ipython-notebooks/blob/master/matplotlib/matplotlib-applied.ipynb\n",
    "* This is an assignment to learn about Data Cleaning Visualization and plot\n",
    "\n",
    "\n",
    "## Applying Matplotlib Visualizations to Kaggle: Titanic\n",
    "Prepare the titanic data to plot:"
   ]
  },
  {
   "cell_type": "code",
   "execution_count": 35,
   "metadata": {},
   "outputs": [],
   "source": [
    "%matplotlib inline\n",
    "import pandas as pd\n",
    "import numpy as np\n",
    "import pylab as plt\n",
    "import seaborn\n",
    "\n",
    "# Set the global default size of matplotlib figures\n",
    "plt.rc(\"figure\", figsize=(10, 5))\n",
    "# Set seaborn aesthetic parameters to defaults\n",
    "seaborn.set()"
   ]
  },
  {
   "cell_type": "code",
   "execution_count": null,
   "metadata": {},
   "outputs": [],
   "source": [
    "df_train = pd.read_csv(\"../../assets/data/titanic_train.csv\")"
   ]
  },
  {
   "cell_type": "code",
   "execution_count": null,
   "metadata": {},
   "outputs": [],
   "source": [
    "def label_encode(df, column_name, encoded_column_name):\n",
    "    \"\"\"Label encode one column of a Dataframe.\n",
    "\n",
    "    Args:\n",
    "        df (DataFrame): a data structure\n",
    "        column_name (string): The column name to read\n",
    "        encoded_column_name(string): Columns converted from strings to numeric representations\n",
    "    \"\"\"\n",
    "    column = np.sort(df[column_name].unique())\n",
    "\n",
    "    # Generate a mapping of column from a string to a number representation\n",
    "    column_value_mapping = dict(zip(column, range(0, len(column))))\n",
    "\n",
    "    # Transform column from a string to a number representation\n",
    "    df[encoded_column_name] = df[column_name].map(column_value_mapping).astype(int)"
   ]
  },
  {
   "cell_type": "code",
   "execution_count": null,
   "metadata": {},
   "outputs": [],
   "source": [
    "def one_hot_encode(df, column_name, encoded_column_name_prefix):\n",
    "    return pd.concat(\n",
    "        [df, pd.get_dummies(df[column_name], prefix=encoded_column_name_prefix)], axis=1\n",
    "    )\n",
    "\n",
    "\n",
    "def clean_fare(df, ticket_price):\n",
    "    if len(df[df[ticket_price].isnull()]) > 0:\n",
    "        avg_fare = df[ticket_price].mean()\n",
    "        df.replace({None: avg_fare}, inplace=True)\n",
    "\n",
    "\n",
    "def clean_age(df, column_name, column_value_fill, column_value):\n",
    "    df[column_value_fill] = df[column_name]\n",
    "    df[column_value_fill] = (\n",
    "        df[column_value_fill]\n",
    "        .groupby([df[column_value], df[\"Pclass\"]])\n",
    "        .apply(lambda x: x.fillna(x.median()))\n",
    "    )"
   ]
  },
  {
   "cell_type": "code",
   "execution_count": null,
   "metadata": {},
   "outputs": [],
   "source": [
    "def clean_data(df):\n",
    "    # Fill in missing values of Embarked\n",
    "    # Since the vast majority of passengers embarked in 'S': 3,\n",
    "    # we assign the missing values in Embarked to 'S':\n",
    "    df[\"Embarked\"] = df[\"Embarked\"].fillna(\"S\")\n",
    "    label_encode(df, \"Sex\", \"Sex_Val\")\n",
    "    # Get the unique values of Embarked\n",
    "    label_encode(df, \"Embarked\", \"Embarked_Val\")\n",
    "\n",
    "    # Transform Embarked from a string to dummy variables\n",
    "    df = one_hot_encode(df, \"Embarked\", \"Embarked_Val\")\n",
    "\n",
    "    # Fill in missing values of Fare with the average Fare\n",
    "    clean_fare(df, \"Fare\")\n",
    "\n",
    "    # To keep Age intact, make a copy of it called AgeFill\n",
    "    # that we will use to fill in the missing ages:\n",
    "    # Determine the Age typical for each passenger class by Sex_Val.\n",
    "    # We'll use the median instead of the mean because the Age\n",
    "    # histogram seems to be right skewed.\n",
    "\n",
    "    clean_age(df, \"Age\", \"AgeFill\", \"Sex_Val\")\n",
    "\n",
    "    # Define a new feature FamilySize that is the sum of\n",
    "    # Parch (number of parents or children on board) and\n",
    "    # SibSp (number of siblings or spouses):\n",
    "    df[\"FamilySize\"] = df[\"Parch\"] + df[\"SibSp\"]\n",
    "\n",
    "    return df\n",
    "\n",
    "\n",
    "df_train = clean_data(df_train)"
   ]
  },
  {
   "cell_type": "markdown",
   "metadata": {},
   "source": [
    "# Bar Plots, Histograms, subplot2grid"
   ]
  },
  {
   "cell_type": "code",
   "execution_count": null,
   "metadata": {},
   "outputs": [],
   "source": [
    "# Size of matplotlib figures that contain subplots\n",
    "figsize_with_subplots = (10, 10)\n",
    "\n",
    "# Set up a grid of plots\n",
    "fig = plt.figure(figsize=figsize_with_subplots)\n",
    "fig_dims = (3, 2)\n",
    "\n",
    "# Plot death and survival counts\n",
    "plt.subplot2grid(fig_dims, (0, 0))\n",
    "\n",
    "\n",
    "def create_sub_plot_2_grid(\n",
    "    df, column_name, plot_title, plot_kind, plot_color=\"b\", plot_align=\"center\"\n",
    "):\n",
    "    df[column_name].value_counts().plot(\n",
    "        kind=plot_kind, title=plot_title, color=plot_color, align=plot_align\n",
    "    )\n",
    "\n",
    "\n",
    "create_sub_plot_2_grid(\n",
    "    df_train, \"Survived\", \"Death and Survival Counts\", \"bar\", \"r\", \"center\"\n",
    ")\n",
    "\n",
    "# Plot Pclass counts\n",
    "plt.subplot2grid(fig_dims, (0, 1))\n",
    "\n",
    "create_sub_plot_2_grid(df_train, \"Pclass\", \"Passenger Class Counts\", \"bar\")\n",
    "# Plot Sex counts\n",
    "plt.subplot2grid(fig_dims, (1, 0))\n",
    "\n",
    "create_sub_plot_2_grid(df_train, \"Sex\", \"Gender Counts\", \"bar\")\n",
    "plt.xticks(rotation=0)\n",
    "\n",
    "# Plot Embarked counts\n",
    "plt.subplot2grid(fig_dims, (1, 1))\n",
    "\n",
    "create_sub_plot_2_grid(df_train, \"Embarked\", \"Ports of Embarkation Counts\", \"bar\")\n",
    "\n",
    "# Plot the Age histogram\n",
    "plt.subplot2grid(fig_dims, (2, 0))\n",
    "df_train[\"Age\"].hist()\n",
    "plt.title(\"Age Histogram\")"
   ]
  },
  {
   "cell_type": "code",
   "execution_count": null,
   "metadata": {},
   "outputs": [],
   "source": [
    "# Get the unique values of Embarked and its maximum\n",
    "family_sizes = np.sort(df_train[\"FamilySize\"].unique())\n",
    "family_size_max = max(family_sizes)\n",
    "\n",
    "df1 = df_train[df_train[\"Survived\"] == 0][\"FamilySize\"]\n",
    "df2 = df_train[df_train[\"Survived\"] == 1][\"FamilySize\"]\n",
    "plt.hist([df1, df2], bins=family_size_max + 1, range=(0, family_size_max), stacked=True)\n",
    "plt.legend((\"Died\", \"Survived\"), loc=\"best\")\n",
    "plt.title(\"Survivors by Family Size\")"
   ]
  },
  {
   "cell_type": "markdown",
   "metadata": {},
   "source": [
    "# Normalized Plots"
   ]
  },
  {
   "cell_type": "code",
   "execution_count": null,
   "metadata": {},
   "outputs": [],
   "source": [
    "pclass_xt = pd.crosstab(df_train[\"Pclass\"], df_train[\"Survived\"])\n",
    "\n",
    "# Normalize the cross tab to sum to 1:\n",
    "pclass_xt_pct = pclass_xt.div(pclass_xt.sum(1).astype(float), axis=0)\n",
    "\n",
    "pclass_xt_pct.plot(kind=\"bar\", stacked=True, title=\"Survival Rate by Passenger Classes\")\n",
    "plt.xlabel(\"Passenger Class\")\n",
    "plt.ylabel(\"Survival Rate\")"
   ]
  },
  {
   "cell_type": "code",
   "execution_count": null,
   "metadata": {},
   "outputs": [],
   "source": [
    "def get_survival_rate_by_gender(gender):\n",
    "    gender_df = df_train[df_train[\"Sex\"] == gender]\n",
    "    gender_xt = pd.crosstab(gender_df[\"Pclass\"], df_train[\"Survived\"])\n",
    "    gender_xt_pct = gender_xt.div(gender_xt.sum(1).astype(float), axis=0)\n",
    "    return gender_xt_pct\n",
    "\n",
    "\n",
    "# Plot survival rate by Sex\n",
    "gender_xt_pct = get_survival_rate_by_gender(\"female\")\n",
    "\n",
    "\n",
    "gender_xt_pct.plot(\n",
    "    kind=\"bar\", stacked=True, title=\"Female Survival Rate by Passenger Class\"\n",
    ")\n",
    "plt.xlabel(\"Passenger Class\")\n",
    "plt.ylabel(\"Survival Rate\")"
   ]
  },
  {
   "cell_type": "code",
   "execution_count": null,
   "metadata": {},
   "outputs": [],
   "source": [
    "# Plot survival rate by Pclass)\n",
    "gender_xt_pct = get_survival_rate_by_gender(\"male\")\n",
    "gender_xt_pct.plot(\n",
    "    kind=\"bar\", stacked=True, title=\"Male Survival Rate by Passenger Class\"\n",
    ")\n",
    "plt.xlabel(\"Passenger Class\")\n",
    "plt.ylabel(\"Survival Rate\")"
   ]
  },
  {
   "cell_type": "markdown",
   "metadata": {},
   "source": [
    "# Scatter Plots, subplots"
   ]
  },
  {
   "cell_type": "code",
   "execution_count": null,
   "metadata": {},
   "outputs": [],
   "source": [
    "# Set up a grid of plots\n",
    "fig, axes = plt.subplots(2, 1, figsize=figsize_with_subplots)\n",
    "\n",
    "\n",
    "def get_Histogram_of_AgeFill_segmented_by_Survived(df, column_number):\n",
    "    df = df[df[\"Survived\"] == column_number][\"Age\"]\n",
    "    return df\n",
    "\n",
    "\n",
    "df1 = get_Histogram_of_AgeFill_segmented_by_Survived(df_train, 0)\n",
    "df2 = get_Histogram_of_AgeFill_segmented_by_Survived(df_train, 1)\n",
    "max_age = int(max(df_train[\"AgeFill\"]))\n",
    "\n",
    "axes[1].hist([df1, df2], bins=int(max_age / 10), range=(1, max_age), stacked=True)\n",
    "axes[1].legend((\"Died\", \"Survived\"), loc=\"best\")\n",
    "axes[1].set_title(\"Survivors by Age Groups Histogram\")\n",
    "axes[1].set_xlabel(\"Age\")\n",
    "axes[1].set_ylabel(\"Count\")\n",
    "\n",
    "# Scatter plot Survived and AgeFill\n",
    "axes[0].scatter(df_train[\"Survived\"], df_train[\"AgeFill\"])\n",
    "axes[0].set_title(\"Survivors by Age Plot\")\n",
    "axes[0].set_xlabel(\"Survived\")\n",
    "axes[0].set_ylabel(\"Age\")"
   ]
  },
  {
   "cell_type": "markdown",
   "metadata": {},
   "source": [
    "# Kernel Density Estimation Plots"
   ]
  },
  {
   "cell_type": "code",
   "execution_count": null,
   "metadata": {},
   "outputs": [],
   "source": [
    "# Get the unique values of Pclass:\n",
    "def get_the_unique_values_of_Pclass(df):\n",
    "    passenger_classes = np.sort(df[\"Pclass\"].unique())\n",
    "    for pclass in passenger_classes:\n",
    "        df.AgeFill[df.Pclass == pclass].plot(kind=\"kde\")\n",
    "\n",
    "\n",
    "get_the_unique_values_of_Pclass(df_train)\n",
    "plt.title(\"Age Density Plot by Passenger Class\")\n",
    "plt.xlabel(\"Age\")\n",
    "plt.legend((\"1st Class\", \"2nd Class\", \"3rd Class\"), loc=\"best\")"
   ]
  },
  {
   "cell_type": "markdown",
   "metadata": {},
   "source": [
    "## Acknowledgments"
   ]
  },
  {
   "cell_type": "markdown",
   "metadata": {},
   "source": [
    "\n",
    "Thanks to Donne Martin for creating the open-source project <a href=\"https://github.com/donnemartin/data-science-ipython-notebooks\">data-science-ipython-notebooks</a>, which inspires the majority of the content in this chapter."
   ]
  }
 ],
 "metadata": {
  "kernelspec": {
   "display_name": "Python 3 (ipykernel)",
   "language": "python",
   "name": "python3"
  },
  "language_info": {
   "codemirror_mode": {
    "name": "ipython",
    "version": 3
   },
   "file_extension": ".py",
   "mimetype": "text/x-python",
   "name": "python",
   "nbconvert_exporter": "python",
   "pygments_lexer": "ipython3",
   "version": "3.8.5"
  },
  "vscode": {
   "interpreter": {
    "hash": "41d25e42d6f40b10a4a523cb7c3fdf925a3f2162b0475594bd39b3950d44f5b4"
   }
  }
 },
 "nbformat": 4,
 "nbformat_minor": 4
}
