{
 "cells": [
  {
   "cell_type": "markdown",
   "metadata": {
    "papermill": {
     "duration": 0.038822,
     "end_time": "2021-01-24T17:28:44.306523",
     "exception": false,
     "start_time": "2021-01-24T17:28:44.267701",
     "status": "completed"
    },
    "tags": []
   },
   "source": [
    "# Object Recognition in Images using CNN\n"
   ]
  },
  {
   "cell_type": "markdown",
   "metadata": {
    "papermill": {
     "duration": 0.037396,
     "end_time": "2021-01-24T17:28:44.381699",
     "exception": false,
     "start_time": "2021-01-24T17:28:44.344303",
     "status": "completed"
    },
    "tags": []
   },
   "source": [
    "## About Dataset\n",
    "\n",
    "CIFAR-10 is an established computer-vision dataset used for object recognition. It is a subset of the 80\n",
    "million tiny images dataset and consists of 60,000 32x32 color images containing one of 10 object classes,\n",
    "with 6000 images per class. It was collected by Alex Krizhevsky, Vinod Nair, and Geoffrey Hinton.\n"
   ]
  },
  {
   "cell_type": "markdown",
   "metadata": {
    "papermill": {
     "duration": 0.037514,
     "end_time": "2021-01-24T17:28:44.456693",
     "exception": false,
     "start_time": "2021-01-24T17:28:44.419179",
     "status": "completed"
    },
    "tags": []
   },
   "source": [
    "![cifar10](https://miro.medium.com/max/709/1*LyV7_xga4jUHdx4_jHk1PQ.png)\n"
   ]
  },
  {
   "attachments": {},
   "cell_type": "markdown",
   "metadata": {
    "papermill": {
     "duration": 0.036891,
     "end_time": "2021-01-24T17:28:44.563986",
     "exception": false,
     "start_time": "2021-01-24T17:28:44.527095",
     "status": "completed"
    },
    "tags": []
   },
   "source": [
    "## Table of Contents\n"
   ]
  },
  {
   "attachments": {},
   "cell_type": "markdown",
   "metadata": {
    "papermill": {
     "duration": 0.036709,
     "end_time": "2021-01-24T17:28:44.637784",
     "exception": false,
     "start_time": "2021-01-24T17:28:44.601075",
     "status": "completed"
    },
    "tags": []
   },
   "source": [
    "### Import Libaries\n"
   ]
  },
  {
   "cell_type": "code",
   "execution_count": 1,
   "metadata": {
    "_cell_guid": "b1076dfc-b9ad-4769-8c92-a6c4dae69d19",
    "_uuid": "8f2839f25d086af736a60e9eeb907d3b93b6e0e5",
    "execution": {
     "iopub.execute_input": "2021-01-24T17:28:44.721335Z",
     "iopub.status.busy": "2021-01-24T17:28:44.720761Z",
     "iopub.status.idle": "2021-01-24T17:28:46.256911Z",
     "shell.execute_reply": "2021-01-24T17:28:46.256089Z"
    },
    "papermill": {
     "duration": 1.581736,
     "end_time": "2021-01-24T17:28:46.257021",
     "exception": false,
     "start_time": "2021-01-24T17:28:44.675285",
     "status": "completed"
    },
    "tags": []
   },
   "outputs": [],
   "source": [
    "import os\n",
    "import torch\n",
    "import torchvision\n",
    "import tarfile\n",
    "from torchvision.datasets.utils import download_url\n",
    "from torch.utils.data import random_split\n",
    "from torchvision.datasets import ImageFolder\n",
    "from torchvision.transforms import ToTensor, ToPILImage\n",
    "import matplotlib.pyplot as plt\n",
    "from torchvision.utils import make_grid\n",
    "from torch.utils.data.dataloader import DataLoader\n",
    "from torchvision.utils import make_grid\n",
    "import torch.nn as nn\n",
    "import torch.nn.functional as F"
   ]
  },
  {
   "attachments": {},
   "cell_type": "markdown",
   "metadata": {
    "papermill": {
     "duration": 0.038454,
     "end_time": "2021-01-24T17:28:46.333834",
     "exception": false,
     "start_time": "2021-01-24T17:28:46.295380",
     "status": "completed"
    },
    "tags": []
   },
   "source": [
    "### Exploring the Data\n",
    "\n",
    "Extract from tar archive file\n"
   ]
  },
  {
   "cell_type": "markdown",
   "metadata": {
    "papermill": {
     "duration": 0.037995,
     "end_time": "2021-01-24T17:29:06.537281",
     "exception": false,
     "start_time": "2021-01-24T17:29:06.499286",
     "status": "completed"
    },
    "tags": []
   },
   "source": [
    "The dataset is extracted to the directory `tmp/object-recognition-in-images-using-cnn/cifar10`. It contains 2 folders `train` and `test`, containing the training set (50000 images) and test set (10000 images) respectively. Each of them contains 10 folders, one for each class of images. Let's verify this using `os.listdir`.\n"
   ]
  },
  {
   "cell_type": "code",
   "execution_count": null,
   "metadata": {},
   "outputs": [],
   "source": [
    "import os\n",
    "import requests\n",
    "import zipfile"
   ]
  },
  {
   "cell_type": "code",
   "execution_count": null,
   "metadata": {},
   "outputs": [],
   "source": [
    "cifar10_url = \"https://static-1300131294.cos.ap-shanghai.myqcloud.com/data/deep-learning/cnn/object-recognition-in-images-using-cnn/cifar10.tgz.zip\"\n",
    "cifar10_model_url = \"https://static-1300131294.cos.ap-shanghai.myqcloud.com/data/deep-learning/cnn/object-recognition-in-images-using-cnn/cnn-cifar10-model.pth\"\n",
    "\n",
    "notebook_path = os.getcwd()\n",
    "\n",
    "tmp_folder_path = os.path.join(notebook_path, \"tmp\")\n",
    "\n",
    "if not os.path.exists(tmp_folder_path):\n",
    "    os.makedirs(tmp_folder_path)\n",
    "\n",
    "file_path = os.path.join(tmp_folder_path,\"object-recognition-in-images-using-cnn\")\n",
    "\n",
    "if not os.path.exists(file_path):\n",
    "    os.makedirs(file_path)\n",
    "\n",
    "zip_store_path = os.path.join(file_path, \"zip-store\")\n",
    "\n",
    "if not os.path.exists(zip_store_path):\n",
    "    os.makedirs(zip_store_path)\n",
    "\n",
    "cifar10_response = requests.get(cifar10_url)\n",
    "cifar10_model_response = requests.get(cifar10_model_url)\n",
    "\n",
    "cifar10_name = os.path.basename(cifar10_url)\n",
    "cifar10_mdoel_name = os.path.basename(cifar10_model_url)\n",
    "\n",
    "cifar10_save_path = os.path.join(zip_store_path, cifar10_name)\n",
    "cifar10_model_save_path = os.path.join(file_path, cifar10_mdoel_name)\n",
    "\n",
    "with open(cifar10_save_path, \"wb\") as file:\n",
    "    file.write(cifar10_response.content)\n",
    "\n",
    "with open(cifar10_model_save_path, \"wb\") as file:\n",
    "    file.write(cifar10_model_response.content)"
   ]
  },
  {
   "cell_type": "code",
   "execution_count": null,
   "metadata": {},
   "outputs": [],
   "source": [
    "cifar10_zip_file_path = f\"./tmp/object-recognition-in-images-using-cnn/zip-store/{cifar10_name}\"\n",
    "cifar10_extract_path = \"./tmp/object-recognition-in-images-using-cnn\"\n",
    "\n",
    "zip_ref = zipfile.ZipFile(cifar10_zip_file_path, 'r')\n",
    "zip_ref.extractall(cifar10_extract_path)\n",
    "zip_ref.close()"
   ]
  },
  {
   "cell_type": "code",
   "execution_count": null,
   "metadata": {
    "execution": {
     "iopub.execute_input": "2021-01-24T17:29:06.623172Z",
     "iopub.status.busy": "2021-01-24T17:29:06.622450Z",
     "iopub.status.idle": "2021-01-24T17:29:06.626275Z",
     "shell.execute_reply": "2021-01-24T17:29:06.627315Z"
    },
    "papermill": {
     "duration": 0.050789,
     "end_time": "2021-01-24T17:29:06.627495",
     "exception": false,
     "start_time": "2021-01-24T17:29:06.576706",
     "status": "completed"
    },
    "tags": []
   },
   "outputs": [],
   "source": [
    "with tarfile.open('./tmp/object-recognition-in-images-using-cnn/cifar10.tgz', 'r:gz') as tar:\n",
    "    tar.extractall(path='./tmp/object-recognition-in-images-using-cnn')"
   ]
  },
  {
   "cell_type": "code",
   "execution_count": null,
   "metadata": {},
   "outputs": [],
   "source": [
    "print(os.listdir('./tmp/object-recognition-in-images-using-cnn/cifar10'))\n",
    "classes= os.listdir('./tmp/object-recognition-in-images-using-cnn/cifar10/train')\n",
    "print(classes)"
   ]
  },
  {
   "cell_type": "markdown",
   "metadata": {
    "papermill": {
     "duration": 0.038334,
     "end_time": "2021-01-24T17:29:06.708429",
     "exception": false,
     "start_time": "2021-01-24T17:29:06.670095",
     "status": "completed"
    },
    "tags": []
   },
   "source": [
    "Let's look inside a couple of folders, one from the training set and another from the test set. As an exercise, you can verify that that there are an equal number of images for each class, 5000 in the training set and 1000 in the test set.\n"
   ]
  },
  {
   "cell_type": "code",
   "execution_count": null,
   "metadata": {
    "execution": {
     "iopub.execute_input": "2021-01-24T17:29:06.790176Z",
     "iopub.status.busy": "2021-01-24T17:29:06.789089Z",
     "iopub.status.idle": "2021-01-24T17:29:06.798306Z",
     "shell.execute_reply": "2021-01-24T17:29:06.799090Z"
    },
    "papermill": {
     "duration": 0.05269,
     "end_time": "2021-01-24T17:29:06.799278",
     "exception": false,
     "start_time": "2021-01-24T17:29:06.746588",
     "status": "completed"
    },
    "tags": []
   },
   "outputs": [],
   "source": [
    "cat_files= os.listdir('./tmp/object-recognition-in-images-using-cnn/cifar10/train/cat')\n",
    "print('No of training example for cats:',len(cat_files))\n",
    "print(cat_files[:5])"
   ]
  },
  {
   "cell_type": "code",
   "execution_count": null,
   "metadata": {
    "execution": {
     "iopub.execute_input": "2021-01-24T17:29:06.883790Z",
     "iopub.status.busy": "2021-01-24T17:29:06.882971Z",
     "iopub.status.idle": "2021-01-24T17:29:06.890916Z",
     "shell.execute_reply": "2021-01-24T17:29:06.890496Z"
    },
    "papermill": {
     "duration": 0.051549,
     "end_time": "2021-01-24T17:29:06.891010",
     "exception": false,
     "start_time": "2021-01-24T17:29:06.839461",
     "status": "completed"
    },
    "tags": []
   },
   "outputs": [],
   "source": [
    "automobile_files = os.listdir('./tmp/object-recognition-in-images-using-cnn/cifar10/train/automobile')\n",
    "print('Now of training example for automobiles:', len(automobile_files))\n",
    "print(automobile_files[:5])"
   ]
  },
  {
   "cell_type": "code",
   "execution_count": null,
   "metadata": {
    "execution": {
     "iopub.execute_input": "2021-01-24T17:29:06.974400Z",
     "iopub.status.busy": "2021-01-24T17:29:06.973497Z",
     "iopub.status.idle": "2021-01-24T17:29:06.979265Z",
     "shell.execute_reply": "2021-01-24T17:29:06.979978Z"
    },
    "papermill": {
     "duration": 0.050133,
     "end_time": "2021-01-24T17:29:06.980160",
     "exception": false,
     "start_time": "2021-01-24T17:29:06.930027",
     "status": "completed"
    },
    "tags": []
   },
   "outputs": [],
   "source": [
    "cat_files = os.listdir('./tmp/object-recognition-in-images-using-cnn/cifar10/test/cat')\n",
    "print('Now of test example for cats:', len(cat_files))\n",
    "print(cat_files[:5])"
   ]
  },
  {
   "cell_type": "markdown",
   "metadata": {
    "papermill": {
     "duration": 0.039496,
     "end_time": "2021-01-24T17:29:07.060148",
     "exception": false,
     "start_time": "2021-01-24T17:29:07.020652",
     "status": "completed"
    },
    "tags": []
   },
   "source": [
    "We can use the `ImageFolder` class from `torchvision` to load the data as PyTorch tensors.\n"
   ]
  },
  {
   "cell_type": "code",
   "execution_count": null,
   "metadata": {
    "execution": {
     "iopub.execute_input": "2021-01-24T17:29:07.143470Z",
     "iopub.status.busy": "2021-01-24T17:29:07.142672Z",
     "iopub.status.idle": "2021-01-24T17:29:07.510739Z",
     "shell.execute_reply": "2021-01-24T17:29:07.511288Z"
    },
    "papermill": {
     "duration": 0.411856,
     "end_time": "2021-01-24T17:29:07.511475",
     "exception": false,
     "start_time": "2021-01-24T17:29:07.099619",
     "status": "completed"
    },
    "tags": []
   },
   "outputs": [],
   "source": [
    "data_dir = './tmp/object-recognition-in-images-using-cnn/cifar10/'\n",
    "dataset = ImageFolder(data_dir+'/train', transform=ToTensor())"
   ]
  },
  {
   "cell_type": "markdown",
   "metadata": {
    "papermill": {
     "duration": 0.069972,
     "end_time": "2021-01-24T17:29:07.655735",
     "exception": false,
     "start_time": "2021-01-24T17:29:07.585763",
     "status": "completed"
    },
    "tags": []
   },
   "source": [
    "Let's look at a sample element from the training dataset. Each element is a tuple, containing a image tensor and a label. Since the data consists of 32x32 px color images with 3 channels (RGB), each image tensor has the shape `(3, 32, 32)`.\n"
   ]
  },
  {
   "cell_type": "code",
   "execution_count": null,
   "metadata": {
    "execution": {
     "iopub.execute_input": "2021-01-24T17:29:07.810122Z",
     "iopub.status.busy": "2021-01-24T17:29:07.807904Z",
     "iopub.status.idle": "2021-01-24T17:29:07.917651Z",
     "shell.execute_reply": "2021-01-24T17:29:07.918675Z"
    },
    "papermill": {
     "duration": 0.192349,
     "end_time": "2021-01-24T17:29:07.918842",
     "exception": false,
     "start_time": "2021-01-24T17:29:07.726493",
     "status": "completed"
    },
    "tags": []
   },
   "outputs": [],
   "source": [
    "img, label = dataset[0]\n",
    "print(img.shape, label)\n",
    "img"
   ]
  },
  {
   "cell_type": "markdown",
   "metadata": {
    "papermill": {
     "duration": 0.066465,
     "end_time": "2021-01-24T17:29:08.052380",
     "exception": false,
     "start_time": "2021-01-24T17:29:07.985915",
     "status": "completed"
    },
    "tags": []
   },
   "source": [
    "The list of classes is stored in the `.classes` property of the dataset. The numeric label for each element corresponds to index of the element's label in the list of classes.\n"
   ]
  },
  {
   "cell_type": "code",
   "execution_count": null,
   "metadata": {
    "execution": {
     "iopub.execute_input": "2021-01-24T17:29:08.195474Z",
     "iopub.status.busy": "2021-01-24T17:29:08.194575Z",
     "iopub.status.idle": "2021-01-24T17:29:08.198325Z",
     "shell.execute_reply": "2021-01-24T17:29:08.196248Z"
    },
    "papermill": {
     "duration": 0.079041,
     "end_time": "2021-01-24T17:29:08.198453",
     "exception": false,
     "start_time": "2021-01-24T17:29:08.119412",
     "status": "completed"
    },
    "tags": []
   },
   "outputs": [],
   "source": [
    "dataset"
   ]
  },
  {
   "cell_type": "code",
   "execution_count": null,
   "metadata": {
    "execution": {
     "iopub.execute_input": "2021-01-24T17:29:08.342981Z",
     "iopub.status.busy": "2021-01-24T17:29:08.341846Z",
     "iopub.status.idle": "2021-01-24T17:29:08.347070Z",
     "shell.execute_reply": "2021-01-24T17:29:08.343869Z"
    },
    "papermill": {
     "duration": 0.081253,
     "end_time": "2021-01-24T17:29:08.347275",
     "exception": false,
     "start_time": "2021-01-24T17:29:08.266022",
     "status": "completed"
    },
    "tags": []
   },
   "outputs": [],
   "source": [
    "print(dataset.classes)"
   ]
  },
  {
   "cell_type": "markdown",
   "metadata": {
    "papermill": {
     "duration": 0.064826,
     "end_time": "2021-01-24T17:29:08.467269",
     "exception": false,
     "start_time": "2021-01-24T17:29:08.402443",
     "status": "completed"
    },
    "tags": []
   },
   "source": [
    "We can view the image using `matplotlib`, but we need to change the tensor dimensions to `(32,32,3)` instead of `(3,32,32)`. Let's create a helper function to display an image and its label.\n"
   ]
  },
  {
   "cell_type": "code",
   "execution_count": null,
   "metadata": {
    "execution": {
     "iopub.execute_input": "2021-01-24T17:29:08.556352Z",
     "iopub.status.busy": "2021-01-24T17:29:08.554564Z",
     "iopub.status.idle": "2021-01-24T17:29:08.556909Z",
     "shell.execute_reply": "2021-01-24T17:29:08.557335Z"
    },
    "papermill": {
     "duration": 0.049254,
     "end_time": "2021-01-24T17:29:08.557450",
     "exception": false,
     "start_time": "2021-01-24T17:29:08.508196",
     "status": "completed"
    },
    "tags": []
   },
   "outputs": [],
   "source": [
    "def show_image(img, label):\n",
    "    print('Label: ', dataset.classes[label], \"(\"+str(label)+\")\")\n",
    "    plt.imshow(img.permute(1, 2, 0))"
   ]
  },
  {
   "cell_type": "code",
   "execution_count": null,
   "metadata": {
    "execution": {
     "iopub.execute_input": "2021-01-24T17:29:08.645448Z",
     "iopub.status.busy": "2021-01-24T17:29:08.643996Z",
     "iopub.status.idle": "2021-01-24T17:29:08.800139Z",
     "shell.execute_reply": "2021-01-24T17:29:08.800554Z"
    },
    "papermill": {
     "duration": 0.201888,
     "end_time": "2021-01-24T17:29:08.800688",
     "exception": false,
     "start_time": "2021-01-24T17:29:08.598800",
     "status": "completed"
    },
    "tags": []
   },
   "outputs": [],
   "source": [
    "show_image(dataset[222][0], dataset[222][1])"
   ]
  },
  {
   "cell_type": "code",
   "execution_count": null,
   "metadata": {
    "execution": {
     "iopub.execute_input": "2021-01-24T17:29:08.893295Z",
     "iopub.status.busy": "2021-01-24T17:29:08.892210Z",
     "iopub.status.idle": "2021-01-24T17:29:09.015557Z",
     "shell.execute_reply": "2021-01-24T17:29:09.015087Z"
    },
    "papermill": {
     "duration": 0.170685,
     "end_time": "2021-01-24T17:29:09.015658",
     "exception": false,
     "start_time": "2021-01-24T17:29:08.844973",
     "status": "completed"
    },
    "tags": []
   },
   "outputs": [],
   "source": [
    "show_image(*dataset[1099])"
   ]
  },
  {
   "cell_type": "markdown",
   "metadata": {
    "papermill": {
     "duration": 0.044019,
     "end_time": "2021-01-24T17:29:09.102885",
     "exception": false,
     "start_time": "2021-01-24T17:29:09.058866",
     "status": "completed"
    },
    "tags": []
   },
   "source": [
    "Before continuing, let's save our work using the `jovian` python library.\n"
   ]
  },
  {
   "attachments": {},
   "cell_type": "markdown",
   "metadata": {
    "papermill": {
     "duration": 0.043226,
     "end_time": "2021-01-24T17:29:09.189978",
     "exception": false,
     "start_time": "2021-01-24T17:29:09.146752",
     "status": "completed"
    },
    "tags": []
   },
   "source": [
    "## Training and Validation Datasets\n",
    "\n",
    "While building real world machine learning models, it is quite common to split the dataset into 3 parts:\n",
    "\n",
    "1. **Training set** - used to train the model i.e. compute the loss and adjust the weights of the model using gradient descent.\n",
    "2. **Validation set** - used to evaluate the model while training, adjust hyperparameters (learning rate etc.) and pick the best version of the model.\n",
    "3. **Test set** - used to compare different models, or different types of modeling approaches, and report the final accuracy of the model.\n",
    "\n",
    "Since there's no predefined validation set, we can set aside a small portion (5000 images) of the training set to be used as the validation set. We'll use the `random_split` helper method from PyTorch to do this. To ensure that we always create the same validation set, we'll also set a seed for the random number generator.\n"
   ]
  },
  {
   "cell_type": "code",
   "execution_count": null,
   "metadata": {
    "execution": {
     "iopub.execute_input": "2021-01-24T17:29:09.285026Z",
     "iopub.status.busy": "2021-01-24T17:29:09.284286Z",
     "iopub.status.idle": "2021-01-24T17:29:09.289769Z",
     "shell.execute_reply": "2021-01-24T17:29:09.289215Z"
    },
    "papermill": {
     "duration": 0.052973,
     "end_time": "2021-01-24T17:29:09.289857",
     "exception": false,
     "start_time": "2021-01-24T17:29:09.236884",
     "status": "completed"
    },
    "tags": []
   },
   "outputs": [],
   "source": [
    "random_seed = 42\n",
    "torch.manual_seed(random_seed)"
   ]
  },
  {
   "cell_type": "code",
   "execution_count": null,
   "metadata": {
    "execution": {
     "iopub.execute_input": "2021-01-24T17:29:09.387486Z",
     "iopub.status.busy": "2021-01-24T17:29:09.386915Z",
     "iopub.status.idle": "2021-01-24T17:29:09.397496Z",
     "shell.execute_reply": "2021-01-24T17:29:09.397988Z"
    },
    "papermill": {
     "duration": 0.064441,
     "end_time": "2021-01-24T17:29:09.398121",
     "exception": false,
     "start_time": "2021-01-24T17:29:09.333680",
     "status": "completed"
    },
    "tags": []
   },
   "outputs": [],
   "source": [
    "val_size = 5000\n",
    "train_size = len(dataset) - val_size\n",
    "train_ds, val_ds = random_split(\n",
    "    dataset, [train_size, val_size], generator=torch.manual_seed(random_seed))\n",
    "len(train_ds), len(val_ds)"
   ]
  },
  {
   "cell_type": "code",
   "execution_count": null,
   "metadata": {
    "execution": {
     "iopub.execute_input": "2021-01-24T17:29:09.490720Z",
     "iopub.status.busy": "2021-01-24T17:29:09.489897Z",
     "iopub.status.idle": "2021-01-24T17:29:09.492715Z",
     "shell.execute_reply": "2021-01-24T17:29:09.492300Z"
    },
    "papermill": {
     "duration": 0.050855,
     "end_time": "2021-01-24T17:29:09.492806",
     "exception": false,
     "start_time": "2021-01-24T17:29:09.441951",
     "status": "completed"
    },
    "tags": []
   },
   "outputs": [],
   "source": [
    "batch_size = 128\n",
    "train_dl = DataLoader(train_ds, batch_size, shuffle=True,\n",
    "                      num_workers=4, pin_memory=True)\n",
    "val_dl = DataLoader(val_ds, batch_size, num_workers=4, pin_memory=True)"
   ]
  },
  {
   "cell_type": "markdown",
   "metadata": {
    "papermill": {
     "duration": 0.043287,
     "end_time": "2021-01-24T17:29:09.579507",
     "exception": false,
     "start_time": "2021-01-24T17:29:09.536220",
     "status": "completed"
    },
    "tags": []
   },
   "source": [
    "Tensor Image is a tensor with (C, H, W) shape, where C is a number of channels, H and W are image height and width. Batch of Tensor Images is a tensor of (B, C, H, W) shape, where B is a number of images in the batch.\n"
   ]
  },
  {
   "cell_type": "code",
   "execution_count": null,
   "metadata": {
    "execution": {
     "iopub.execute_input": "2021-01-24T17:29:09.672319Z",
     "iopub.status.busy": "2021-01-24T17:29:09.671633Z",
     "iopub.status.idle": "2021-01-24T17:29:09.674922Z",
     "shell.execute_reply": "2021-01-24T17:29:09.675353Z"
    },
    "papermill": {
     "duration": 0.052304,
     "end_time": "2021-01-24T17:29:09.675466",
     "exception": false,
     "start_time": "2021-01-24T17:29:09.623162",
     "status": "completed"
    },
    "tags": []
   },
   "outputs": [],
   "source": [
    "# Data loader. Combines a dataset and a sampler, and provides an iterable over the given dataset.\n",
    "train_dl"
   ]
  },
  {
   "cell_type": "code",
   "execution_count": null,
   "metadata": {
    "execution": {
     "iopub.execute_input": "2021-01-24T17:29:09.769651Z",
     "iopub.status.busy": "2021-01-24T17:29:09.769052Z",
     "iopub.status.idle": "2021-01-24T17:29:09.773299Z",
     "shell.execute_reply": "2021-01-24T17:29:09.772810Z"
    },
    "papermill": {
     "duration": 0.054196,
     "end_time": "2021-01-24T17:29:09.773413",
     "exception": false,
     "start_time": "2021-01-24T17:29:09.719217",
     "status": "completed"
    },
    "tags": []
   },
   "outputs": [],
   "source": [
    "def show_images_batch(d1):\n",
    "    for images, labels in d1:\n",
    "        fig, ax = plt.subplots(figsize=(16, 8))\n",
    "        ax.set_xticks([])\n",
    "        ax.set_yticks([])\n",
    "        ax.imshow(make_grid(images, nrow=16).permute(1, 2, 0))\n",
    "        break  # to stop loop otherwise 4500 images in batch size of 128 will print and is computationally expensive"
   ]
  },
  {
   "attachments": {},
   "cell_type": "markdown",
   "metadata": {},
   "source": [
    "### training data single batch images\n"
   ]
  },
  {
   "cell_type": "code",
   "execution_count": null,
   "metadata": {
    "execution": {
     "iopub.execute_input": "2021-01-24T17:29:10.209005Z",
     "iopub.status.busy": "2021-01-24T17:29:10.207697Z",
     "iopub.status.idle": "2021-01-24T17:29:15.016219Z",
     "shell.execute_reply": "2021-01-24T17:29:15.016652Z"
    },
    "papermill": {
     "duration": 5.19804,
     "end_time": "2021-01-24T17:29:15.016771",
     "exception": false,
     "start_time": "2021-01-24T17:29:09.818731",
     "status": "completed"
    },
    "tags": []
   },
   "outputs": [],
   "source": [
    "show_images_batch(train_dl)"
   ]
  },
  {
   "cell_type": "code",
   "execution_count": null,
   "metadata": {
    "execution": {
     "iopub.execute_input": "2021-01-24T17:29:15.147376Z",
     "iopub.status.busy": "2021-01-24T17:29:15.145845Z",
     "iopub.status.idle": "2021-01-24T17:29:15.857293Z",
     "shell.execute_reply": "2021-01-24T17:29:15.857721Z"
    },
    "papermill": {
     "duration": 0.778436,
     "end_time": "2021-01-24T17:29:15.857857",
     "exception": false,
     "start_time": "2021-01-24T17:29:15.079421",
     "status": "completed"
    },
    "tags": []
   },
   "outputs": [],
   "source": [
    "show_images_batch(val_dl)"
   ]
  },
  {
   "attachments": {},
   "cell_type": "markdown",
   "metadata": {
    "papermill": {
     "duration": 0.079117,
     "end_time": "2021-01-24T17:29:16.016172",
     "exception": false,
     "start_time": "2021-01-24T17:29:15.937055",
     "status": "completed"
    },
    "tags": []
   },
   "source": [
    "## Convolutional Neural Network\n"
   ]
  },
  {
   "attachments": {},
   "cell_type": "markdown",
   "metadata": {
    "papermill": {
     "duration": 0.07866,
     "end_time": "2021-01-24T17:29:16.174560",
     "exception": false,
     "start_time": "2021-01-24T17:29:16.095900",
     "status": "completed"
    },
    "tags": []
   },
   "source": [
    "### Defining the Model (Convolutional Neural Network)\n",
    "\n",
    "The 2D convolution is a fairly simple operation at heart: you start with a kernel, which is simply a small matrix of weights. This kernel “slides” over the 2D input data, performing an elementwise multiplication with the part of the input it is currently on, and then summing up the results into a single output pixel.\n",
    "\n",
    "<img src=\"https://miro.medium.com/max/1070/1*Zx-ZMLKab7VOCQTxdZ1OAw.gif\" style=\"max-width:400px;\">\n"
   ]
  },
  {
   "cell_type": "markdown",
   "metadata": {
    "papermill": {
     "duration": 0.078855,
     "end_time": "2021-01-24T17:29:16.332838",
     "exception": false,
     "start_time": "2021-01-24T17:29:16.253983",
     "status": "completed"
    },
    "tags": []
   },
   "source": [
    "Let us implement a convolution operation on a 1 channel image with a 3x3 kernel.\n"
   ]
  },
  {
   "cell_type": "code",
   "execution_count": null,
   "metadata": {
    "execution": {
     "iopub.execute_input": "2021-01-24T17:29:16.499055Z",
     "iopub.status.busy": "2021-01-24T17:29:16.498442Z",
     "iopub.status.idle": "2021-01-24T17:29:16.501672Z",
     "shell.execute_reply": "2021-01-24T17:29:16.501253Z"
    },
    "papermill": {
     "duration": 0.089614,
     "end_time": "2021-01-24T17:29:16.501765",
     "exception": false,
     "start_time": "2021-01-24T17:29:16.412151",
     "status": "completed"
    },
    "tags": []
   },
   "outputs": [],
   "source": [
    "def apply_kernel(image, kernel):\n",
    "    ri, ci = image.shape       # image dimensions\n",
    "    rk, ck = kernel.shape      # kernel dimensions\n",
    "    ro, co = ri-rk+1, ci-ck+1  # output dimensions, No padding and no striding\n",
    "    output = torch.zeros([ro, co])\n",
    "    for i in range(ro):\n",
    "        for j in range(co):\n",
    "            output[i, j] = torch.sum(image[i:i+rk, j:j+ck] * kernel)\n",
    "    return output"
   ]
  },
  {
   "cell_type": "code",
   "execution_count": null,
   "metadata": {
    "execution": {
     "iopub.execute_input": "2021-01-24T17:29:16.669897Z",
     "iopub.status.busy": "2021-01-24T17:29:16.668928Z",
     "iopub.status.idle": "2021-01-24T17:29:16.677377Z",
     "shell.execute_reply": "2021-01-24T17:29:16.676810Z"
    },
    "papermill": {
     "duration": 0.096336,
     "end_time": "2021-01-24T17:29:16.677536",
     "exception": false,
     "start_time": "2021-01-24T17:29:16.581200",
     "status": "completed"
    },
    "tags": []
   },
   "outputs": [],
   "source": [
    "sample_image = torch.tensor([\n",
    "    [4, 4, 3, 1, 0],\n",
    "    [0, 0, 1, 4, 1],\n",
    "    [4, 1, 3, 3, 4],\n",
    "    [2, 0, 0, 3, 3],\n",
    "    [3, 0, 0, 0, 1]\n",
    "], dtype=torch.float32)\n",
    "\n",
    "sample_kernel = torch.tensor([\n",
    "    [1, 1, 1],\n",
    "    [1, 1, 1],\n",
    "    [1, 1, 1]\n",
    "], dtype=torch.float32)  # blur filter\n",
    "\n",
    "apply_kernel(sample_image, sample_kernel)"
   ]
  },
  {
   "cell_type": "markdown",
   "metadata": {
    "papermill": {
     "duration": 0.081134,
     "end_time": "2021-01-24T17:29:16.839577",
     "exception": false,
     "start_time": "2021-01-24T17:29:16.758443",
     "status": "completed"
    },
    "tags": []
   },
   "source": [
    "The `Conv2d` layer transforms a 3-channel image to a 16-channel _feature map_, and the `MaxPool2d` layer halves the height and width. The feature map gets smaller as we add more layers, until we are finally left with a small feature map, which can be flattened into a vector. We can then add some fully connected layers at the end to get vector of size 10 for each image.\n",
    "\n",
    "<img src=\"https://i.imgur.com/KKtPOKE.png\" style=\"max-width:540px\">\n",
    "\n",
    "Let's define the model by extending an `ImageClassificationBase` class which contains helper methods for training & validation.\n"
   ]
  },
  {
   "cell_type": "code",
   "execution_count": null,
   "metadata": {
    "execution": {
     "iopub.execute_input": "2021-01-24T17:29:17.013755Z",
     "iopub.status.busy": "2021-01-24T17:29:17.012836Z",
     "iopub.status.idle": "2021-01-24T17:29:17.015667Z",
     "shell.execute_reply": "2021-01-24T17:29:17.015240Z"
    },
    "papermill": {
     "duration": 0.094877,
     "end_time": "2021-01-24T17:29:17.015761",
     "exception": false,
     "start_time": "2021-01-24T17:29:16.920884",
     "status": "completed"
    },
    "tags": []
   },
   "outputs": [],
   "source": [
    "def accuracy(outputs, labels):\n",
    "    _, preds = torch.max(outputs, dim=1)\n",
    "    return torch.tensor(torch.sum(preds == labels).item()/len(preds))\n",
    "\n",
    "\n",
    "class ImageClassificationBase(nn.Module):\n",
    "    def training_step(self, batch):\n",
    "        images, labels = batch\n",
    "        out = self(images)  # Generate predictions\n",
    "        loss = F.cross_entropy(out, labels)  # calculate loss\n",
    "        return loss\n",
    "\n",
    "    def validation_step(self, batch):\n",
    "        images, labels = batch\n",
    "        out = self(images)  # Generate predictions\n",
    "        loss = F.cross_entropy(out, labels)  # calculate loss\n",
    "        acc = accuracy(out, labels)\n",
    "        return {'val_loss': loss.detach(), 'val_acc': acc}\n",
    "\n",
    "    def validation_epoch_end(self, outputs):\n",
    "        batch_losses = [x['val_loss'] for x in outputs]\n",
    "        # Stacking losses to combine losses and calculate average\n",
    "        epoch_loss = torch.stack(batch_losses).mean()\n",
    "        batch_accs = [x['val_acc'] for x in outputs]\n",
    "        epoch_acc = torch.stack(batch_accs).mean()  # Combine accuracies\n",
    "        return {'val_loss': epoch_loss.item(), 'val_acc': epoch_acc.item()}\n",
    "\n",
    "    def epoch_end(self, epoch, result):\n",
    "        print(\"Epoch [{}], train_loss: {:.4f}, val_loss: {:.4f}, val_acc: {:.4f}\".format(\n",
    "            epoch, result['train_loss'], result['val_loss'], result['val_acc']))"
   ]
  },
  {
   "cell_type": "markdown",
   "metadata": {
    "papermill": {
     "duration": 0.079387,
     "end_time": "2021-01-24T17:29:17.175862",
     "exception": false,
     "start_time": "2021-01-24T17:29:17.096475",
     "status": "completed"
    },
    "tags": []
   },
   "source": [
    "`detach()` detaches the output from the computationnal graph. So no gradient will be backproped along this variable.\n",
    "\n",
    "`torch.no_grad` says that no operation should build the graph.\n",
    "\n",
    "The difference is that one refers to only a given variable on which it’s called. The other affects all operations taking place within the with statement.tensor.detach() creates a tensor that shares storage with tensor that does not require grad. It detaches the output from the computational graph. So no gradient will be backpropagated along this variable.\n",
    "\n",
    "The wrapper with torch.no_grad() temporarily set all the requires_grad flag to false. torch.no_grad says that no operation should build the graph.\n",
    "\n",
    "The difference is that one refers to only a given variable on which it is called. The other affects all operations taking place within the with statement. Also, torch.no_grad will use less memory because it knows from the beginning that no gradients are needed so it doesn’t need to keep intermediary results.\n"
   ]
  },
  {
   "cell_type": "markdown",
   "metadata": {
    "papermill": {
     "duration": 0.079889,
     "end_time": "2021-01-24T17:29:17.336022",
     "exception": false,
     "start_time": "2021-01-24T17:29:17.256133",
     "status": "completed"
    },
    "tags": []
   },
   "source": [
    "We'll use `nn.Sequential` to chain the layers and activations functions into a single network architecture.\n"
   ]
  },
  {
   "cell_type": "code",
   "execution_count": null,
   "metadata": {
    "execution": {
     "iopub.execute_input": "2021-01-24T17:29:17.509210Z",
     "iopub.status.busy": "2021-01-24T17:29:17.508533Z",
     "iopub.status.idle": "2021-01-24T17:29:17.511876Z",
     "shell.execute_reply": "2021-01-24T17:29:17.511433Z"
    },
    "papermill": {
     "duration": 0.095086,
     "end_time": "2021-01-24T17:29:17.511967",
     "exception": false,
     "start_time": "2021-01-24T17:29:17.416881",
     "status": "completed"
    },
    "tags": []
   },
   "outputs": [],
   "source": [
    "class Cifar10CnnModel(ImageClassificationBase):\n",
    "    def __init__(self):\n",
    "        super().__init__()\n",
    "        self.network = nn.Sequential(\n",
    "            nn.Conv2d(3, 32, kernel_size=3, padding=1),\n",
    "            nn.ReLU(),\n",
    "            nn.Conv2d(32, 64, kernel_size=3, stride=1, padding=1),\n",
    "            nn.ReLU(),\n",
    "            nn.MaxPool2d(2, 2),  # output: 64 x 16 x 16\n",
    "\n",
    "            nn.Conv2d(64, 128, kernel_size=3, stride=1, padding=1),\n",
    "            nn.ReLU(),\n",
    "            nn.Conv2d(128, 128, kernel_size=3, stride=1, padding=1),\n",
    "            nn.ReLU(),\n",
    "            nn.MaxPool2d(2, 2),  # output: 128 x 8 x 8\n",
    "\n",
    "            nn.Conv2d(128, 256, kernel_size=3, stride=1, padding=1),\n",
    "            nn.ReLU(),\n",
    "            nn.Conv2d(256, 256, kernel_size=3, stride=1, padding=1),\n",
    "            nn.ReLU(),\n",
    "            nn.MaxPool2d(2, 2),  # output: 256 x 4 x 4\n",
    "\n",
    "            nn.Flatten(),\n",
    "            nn.Linear(256*4*4, 1024),\n",
    "            nn.ReLU(),\n",
    "            nn.Linear(1024, 512),\n",
    "            nn.ReLU(),\n",
    "            nn.Linear(512, 10))\n",
    "\n",
    "    def forward(self, xb):\n",
    "        return self.network(xb)"
   ]
  },
  {
   "cell_type": "code",
   "execution_count": null,
   "metadata": {
    "execution": {
     "iopub.execute_input": "2021-01-24T17:29:17.680214Z",
     "iopub.status.busy": "2021-01-24T17:29:17.679601Z",
     "iopub.status.idle": "2021-01-24T17:29:17.721210Z",
     "shell.execute_reply": "2021-01-24T17:29:17.721641Z"
    },
    "papermill": {
     "duration": 0.130023,
     "end_time": "2021-01-24T17:29:17.721765",
     "exception": false,
     "start_time": "2021-01-24T17:29:17.591742",
     "status": "completed"
    },
    "tags": []
   },
   "outputs": [],
   "source": [
    "model = Cifar10CnnModel()\n",
    "model"
   ]
  },
  {
   "cell_type": "code",
   "execution_count": null,
   "metadata": {
    "execution": {
     "iopub.execute_input": "2021-01-24T17:29:17.899905Z",
     "iopub.status.busy": "2021-01-24T17:29:17.899353Z",
     "iopub.status.idle": "2021-01-24T17:29:18.830181Z",
     "shell.execute_reply": "2021-01-24T17:29:18.830682Z"
    },
    "papermill": {
     "duration": 1.01775,
     "end_time": "2021-01-24T17:29:18.830822",
     "exception": false,
     "start_time": "2021-01-24T17:29:17.813072",
     "status": "completed"
    },
    "tags": []
   },
   "outputs": [],
   "source": [
    "for images, labels in train_dl:\n",
    "    print('images.shape:', images.shape)\n",
    "    out = model(images)\n",
    "    print('out.shape:', out.shape)\n",
    "    print('out[0]', out[0])\n",
    "    break"
   ]
  },
  {
   "cell_type": "code",
   "execution_count": null,
   "metadata": {
    "execution": {
     "iopub.execute_input": "2021-01-24T17:29:19.003091Z",
     "iopub.status.busy": "2021-01-24T17:29:19.002016Z",
     "iopub.status.idle": "2021-01-24T17:29:19.007020Z",
     "shell.execute_reply": "2021-01-24T17:29:19.006601Z"
    },
    "papermill": {
     "duration": 0.093437,
     "end_time": "2021-01-24T17:29:19.007136",
     "exception": false,
     "start_time": "2021-01-24T17:29:18.913699",
     "status": "completed"
    },
    "tags": []
   },
   "outputs": [],
   "source": [
    "out.shape"
   ]
  },
  {
   "cell_type": "code",
   "execution_count": null,
   "metadata": {
    "execution": {
     "iopub.execute_input": "2021-01-24T17:29:19.183554Z",
     "iopub.status.busy": "2021-01-24T17:29:19.182730Z",
     "iopub.status.idle": "2021-01-24T17:29:19.185811Z",
     "shell.execute_reply": "2021-01-24T17:29:19.185015Z"
    },
    "papermill": {
     "duration": 0.095901,
     "end_time": "2021-01-24T17:29:19.185918",
     "exception": false,
     "start_time": "2021-01-24T17:29:19.090017",
     "status": "completed"
    },
    "tags": []
   },
   "outputs": [],
   "source": [
    "def get_default_device():\n",
    "    \"\"\"Pick GPU if available, else CPU\"\"\"\n",
    "    if torch.cuda.is_available():\n",
    "        return torch.device('cuda')\n",
    "    else:\n",
    "        return torch.device('cpu')\n",
    "\n",
    "\n",
    "def to_device(data, device):\n",
    "    \"\"\"Move tensor(s) to chosen device\"\"\"\n",
    "    if isinstance(data, (list, tuple)):\n",
    "        return [to_device(x, device) for x in data]\n",
    "    return data.to(device, non_blocking=True)\n",
    "\n",
    "\n",
    "class DeviceDataLoader():\n",
    "    \"\"\"Wrap a dataloader to move data to a device\"\"\"\n",
    "\n",
    "    def __init__(self, dl, device):\n",
    "        self.dl = dl\n",
    "        self.device = device\n",
    "\n",
    "    def __iter__(self):\n",
    "        \"\"\"Yield a batch of data after moving it to device\"\"\"\n",
    "        for b in self.dl:\n",
    "            yield to_device(b, self.device)\n",
    "\n",
    "    def __len__(self):\n",
    "        \"\"\"Number of batches\"\"\"\n",
    "        return len(self.dl)"
   ]
  },
  {
   "cell_type": "markdown",
   "metadata": {
    "papermill": {
     "duration": 0.081418,
     "end_time": "2021-01-24T17:29:19.349899",
     "exception": false,
     "start_time": "2021-01-24T17:29:19.268481",
     "status": "completed"
    },
    "tags": []
   },
   "source": [
    "Based on where you run this notebook, your default device could be a CPU (`torch.device('cpu')`) or a GPU (`torch.device('cuda')`)\n"
   ]
  },
  {
   "cell_type": "code",
   "execution_count": null,
   "metadata": {
    "execution": {
     "iopub.execute_input": "2021-01-24T17:29:19.521672Z",
     "iopub.status.busy": "2021-01-24T17:29:19.521004Z",
     "iopub.status.idle": "2021-01-24T17:29:19.523874Z",
     "shell.execute_reply": "2021-01-24T17:29:19.524356Z"
    },
    "papermill": {
     "duration": 0.092163,
     "end_time": "2021-01-24T17:29:19.524493",
     "exception": false,
     "start_time": "2021-01-24T17:29:19.432330",
     "status": "completed"
    },
    "tags": []
   },
   "outputs": [],
   "source": [
    "device = get_default_device()\n",
    "device"
   ]
  },
  {
   "cell_type": "markdown",
   "metadata": {
    "papermill": {
     "duration": 0.093568,
     "end_time": "2021-01-24T17:29:19.702220",
     "exception": false,
     "start_time": "2021-01-24T17:29:19.608652",
     "status": "completed"
    },
    "tags": []
   },
   "source": [
    "We can now wrap our training and validation data loaders using `DeviceDataLoader` for automatically transferring batches of data to the GPU (if available), and use `to_device` to move our model to the GPU (if available).\n"
   ]
  },
  {
   "cell_type": "code",
   "execution_count": null,
   "metadata": {
    "execution": {
     "iopub.execute_input": "2021-01-24T17:29:19.915144Z",
     "iopub.status.busy": "2021-01-24T17:29:19.914545Z",
     "iopub.status.idle": "2021-01-24T17:29:19.933024Z",
     "shell.execute_reply": "2021-01-24T17:29:19.932580Z"
    },
    "papermill": {
     "duration": 0.107436,
     "end_time": "2021-01-24T17:29:19.933144",
     "exception": false,
     "start_time": "2021-01-24T17:29:19.825708",
     "status": "completed"
    },
    "tags": []
   },
   "outputs": [],
   "source": [
    "train_dl = DeviceDataLoader(train_dl, device)\n",
    "# load data to device (GPU if available)\n",
    "val_dl = DeviceDataLoader(val_dl, device)\n",
    "to_device(model, device)  # move model to GPU if available"
   ]
  },
  {
   "attachments": {},
   "cell_type": "markdown",
   "metadata": {
    "papermill": {
     "duration": 0.082579,
     "end_time": "2021-01-24T17:29:20.098822",
     "exception": false,
     "start_time": "2021-01-24T17:29:20.016243",
     "status": "completed"
    },
    "tags": []
   },
   "source": [
    "<a id=\"6\"></a>\n",
    "\n",
    "## Training the Model\n"
   ]
  },
  {
   "attachments": {},
   "cell_type": "markdown",
   "metadata": {
    "papermill": {
     "duration": 0.082915,
     "end_time": "2021-01-24T17:29:20.265298",
     "exception": false,
     "start_time": "2021-01-24T17:29:20.182383",
     "status": "completed"
    },
    "tags": []
   },
   "source": [
    "In this mode, the result of every computation will have requires_grad=False, even when the inputs have requires_grad=True.\n"
   ]
  },
  {
   "cell_type": "code",
   "execution_count": null,
   "metadata": {
    "execution": {
     "iopub.execute_input": "2021-01-24T17:29:20.441127Z",
     "iopub.status.busy": "2021-01-24T17:29:20.440278Z",
     "iopub.status.idle": "2021-01-24T17:29:20.443131Z",
     "shell.execute_reply": "2021-01-24T17:29:20.442705Z"
    },
    "papermill": {
     "duration": 0.09555,
     "end_time": "2021-01-24T17:29:20.443225",
     "exception": false,
     "start_time": "2021-01-24T17:29:20.347675",
     "status": "completed"
    },
    "tags": []
   },
   "outputs": [],
   "source": [
    "@torch.no_grad()\n",
    "def evaluate(model, val_loader):\n",
    "    model.eval() # Setting model to evaluation mode, the model can adjust its behavior regarding some operations, like Dropout.\n",
    "    outputs = [model.validation_step(batch) for batch in val_loader]\n",
    "    return model.validation_epoch_end(outputs)\n",
    "  \n",
    "def fit(epochs, lr, model, train_loader, val_loader, opt_func= torch.optim.SGD):\n",
    "    history=[]\n",
    "    optimizer= opt_func(model.parameters(),lr) # model paramters w.r.t calculate derivative of loss\n",
    "    for epoch in range(epochs):\n",
    "        # Training phase\n",
    "        model.train() # Setting model to training mode\n",
    "        train_losses=[]\n",
    "        for batch in train_loader:\n",
    "            loss= model.training_step(batch)\n",
    "            train_losses.append(loss)\n",
    "            loss.backward() #compute  gradients\n",
    "            optimizer.step()\n",
    "            optimizer.zero_grad() # zero the gradients\n",
    "        #Validation phase\n",
    "        result= evaluate(model,val_loader)\n",
    "        result['train_loss'] = torch.stack(train_losses).mean().item()\n",
    "        model.epoch_end(epoch, result)\n",
    "        history.append(result)\n",
    "    return history\n",
    "            "
   ]
  },
  {
   "cell_type": "code",
   "execution_count": null,
   "metadata": {
    "execution": {
     "iopub.execute_input": "2021-01-24T17:29:20.614004Z",
     "iopub.status.busy": "2021-01-24T17:29:20.613075Z",
     "iopub.status.idle": "2021-01-24T17:29:20.616429Z",
     "shell.execute_reply": "2021-01-24T17:29:20.616955Z"
    },
    "papermill": {
     "duration": 0.091207,
     "end_time": "2021-01-24T17:29:20.617071",
     "exception": false,
     "start_time": "2021-01-24T17:29:20.525864",
     "status": "completed"
    },
    "tags": []
   },
   "outputs": [],
   "source": [
    "model"
   ]
  },
  {
   "cell_type": "markdown",
   "metadata": {
    "papermill": {
     "duration": 0.084395,
     "end_time": "2021-01-24T17:29:20.785249",
     "exception": false,
     "start_time": "2021-01-24T17:29:20.700854",
     "status": "completed"
    },
    "tags": []
   },
   "source": [
    "The initial accuracy is around 10% in one epoch, which is expected model is not trained enough.\n"
   ]
  },
  {
   "cell_type": "code",
   "execution_count": null,
   "metadata": {
    "execution": {
     "iopub.execute_input": "2021-01-24T17:29:20.958889Z",
     "iopub.status.busy": "2021-01-24T17:29:20.957580Z",
     "iopub.status.idle": "2021-01-24T17:29:23.094027Z",
     "shell.execute_reply": "2021-01-24T17:29:23.095703Z"
    },
    "papermill": {
     "duration": 2.22575,
     "end_time": "2021-01-24T17:29:23.095975",
     "exception": false,
     "start_time": "2021-01-24T17:29:20.870225",
     "status": "completed"
    },
    "tags": []
   },
   "outputs": [],
   "source": [
    "evaluate(model, val_dl)"
   ]
  },
  {
   "cell_type": "code",
   "execution_count": null,
   "metadata": {
    "execution": {
     "iopub.execute_input": "2021-01-24T17:29:23.453998Z",
     "iopub.status.busy": "2021-01-24T17:29:23.452684Z",
     "iopub.status.idle": "2021-01-24T17:29:23.463511Z",
     "shell.execute_reply": "2021-01-24T17:29:23.461200Z"
    },
    "papermill": {
     "duration": 0.18838,
     "end_time": "2021-01-24T17:29:23.463781",
     "exception": false,
     "start_time": "2021-01-24T17:29:23.275401",
     "status": "completed"
    },
    "tags": []
   },
   "outputs": [],
   "source": [
    "num_epochs = 15\n",
    "opt_func = torch.optim.Adam\n",
    "lr = 0.001"
   ]
  },
  {
   "attachments": {},
   "cell_type": "markdown",
   "metadata": {},
   "source": [
    "If you are interested, you can use fit to train the model, but this can take more than one and a half hours. So to save time, we provide the trained model.\n"
   ]
  },
  {
   "cell_type": "code",
   "execution_count": null,
   "metadata": {
    "execution": {
     "iopub.execute_input": "2021-01-24T17:29:23.667426Z",
     "iopub.status.busy": "2021-01-24T17:29:23.666022Z",
     "iopub.status.idle": "2021-01-24T17:33:13.293471Z",
     "shell.execute_reply": "2021-01-24T17:33:13.293944Z"
    },
    "papermill": {
     "duration": 229.723316,
     "end_time": "2021-01-24T17:33:13.294081",
     "exception": false,
     "start_time": "2021-01-24T17:29:23.570765",
     "status": "completed"
    },
    "tags": []
   },
   "outputs": [],
   "source": [
    "# history = fit(num_epochs, lr, model, train_dl, val_dl, opt_func)\n",
    "# torch.save(history, 'cnn-cifar10-model.pth')\n",
    "history = torch.load('./tmp/object-recognition-in-images-using-cnn/cnn-cifar10-model.pth')"
   ]
  },
  {
   "cell_type": "markdown",
   "metadata": {
    "papermill": {
     "duration": 0.08732,
     "end_time": "2021-01-24T17:33:13.468236",
     "exception": false,
     "start_time": "2021-01-24T17:33:13.380916",
     "status": "completed"
    },
    "tags": []
   },
   "source": [
    "Plot valdation set accuracies to study how the model improves over time.\n"
   ]
  },
  {
   "cell_type": "code",
   "execution_count": null,
   "metadata": {
    "execution": {
     "iopub.execute_input": "2021-01-24T17:33:13.649404Z",
     "iopub.status.busy": "2021-01-24T17:33:13.647466Z",
     "iopub.status.idle": "2021-01-24T17:33:13.650003Z",
     "shell.execute_reply": "2021-01-24T17:33:13.650444Z"
    },
    "papermill": {
     "duration": 0.095598,
     "end_time": "2021-01-24T17:33:13.650561",
     "exception": false,
     "start_time": "2021-01-24T17:33:13.554963",
     "status": "completed"
    },
    "tags": []
   },
   "outputs": [],
   "source": [
    "def plot_accuracies(history):\n",
    "    accuracies = [x['val_acc'] for x in history]\n",
    "    plt.plot(accuracies, '-x')\n",
    "    plt.xlabel('Epoch')\n",
    "    plt.ylabel('Accuracy')\n",
    "    plt.title('Accuracy vs No of epochs')"
   ]
  },
  {
   "cell_type": "code",
   "execution_count": null,
   "metadata": {
    "execution": {
     "iopub.execute_input": "2021-01-24T17:33:13.898734Z",
     "iopub.status.busy": "2021-01-24T17:33:13.897731Z",
     "iopub.status.idle": "2021-01-24T17:33:14.124154Z",
     "shell.execute_reply": "2021-01-24T17:33:14.125173Z"
    },
    "papermill": {
     "duration": 0.384249,
     "end_time": "2021-01-24T17:33:14.125340",
     "exception": false,
     "start_time": "2021-01-24T17:33:13.741091",
     "status": "completed"
    },
    "tags": []
   },
   "outputs": [],
   "source": [
    "plt.figure(figsize=(10, 6))\n",
    "plot_accuracies(history)"
   ]
  },
  {
   "cell_type": "markdown",
   "metadata": {
    "papermill": {
     "duration": 0.115733,
     "end_time": "2021-01-24T17:33:14.420694",
     "exception": false,
     "start_time": "2021-01-24T17:33:14.304961",
     "status": "completed"
    },
    "tags": []
   },
   "source": [
    "Our model reaches an accuracy of around 75%, and by looking at the graph, it seems unlikely that the model will achieve an accuracy higher than 80% even after training for a long time. This suggests that we might need to use a more powerful model to capture the relationship between the images and the labels more accurately.\n"
   ]
  },
  {
   "cell_type": "code",
   "execution_count": null,
   "metadata": {
    "execution": {
     "iopub.execute_input": "2021-01-24T17:33:14.602564Z",
     "iopub.status.busy": "2021-01-24T17:33:14.601837Z",
     "iopub.status.idle": "2021-01-24T17:33:14.605828Z",
     "shell.execute_reply": "2021-01-24T17:33:14.605389Z"
    },
    "papermill": {
     "duration": 0.097708,
     "end_time": "2021-01-24T17:33:14.605914",
     "exception": false,
     "start_time": "2021-01-24T17:33:14.508206",
     "status": "completed"
    },
    "tags": []
   },
   "outputs": [],
   "source": [
    "def plot_losses(history):\n",
    "    train_losses = [x.get('train_loss') for x in history]\n",
    "    val_losses = [x['val_loss'] for x in history]\n",
    "    plt.plot(train_losses, '-bx')\n",
    "    plt.plot(val_losses, '-rx')\n",
    "    plt.xlabel('epoch')\n",
    "    plt.ylabel('loss')\n",
    "    plt.legend(['Training', 'Validation'])\n",
    "    plt.title('Loss vs. No. of epochs')"
   ]
  },
  {
   "cell_type": "code",
   "execution_count": null,
   "metadata": {
    "execution": {
     "iopub.execute_input": "2021-01-24T17:33:14.794218Z",
     "iopub.status.busy": "2021-01-24T17:33:14.792696Z",
     "iopub.status.idle": "2021-01-24T17:33:14.942151Z",
     "shell.execute_reply": "2021-01-24T17:33:14.942581Z"
    },
    "papermill": {
     "duration": 0.248661,
     "end_time": "2021-01-24T17:33:14.942698",
     "exception": false,
     "start_time": "2021-01-24T17:33:14.694037",
     "status": "completed"
    },
    "tags": []
   },
   "outputs": [],
   "source": [
    "plt.figure(figsize=(10, 6))\n",
    "plot_losses(history)"
   ]
  },
  {
   "cell_type": "markdown",
   "metadata": {
    "papermill": {
     "duration": 0.085524,
     "end_time": "2021-01-24T17:33:15.117049",
     "exception": false,
     "start_time": "2021-01-24T17:33:15.031525",
     "status": "completed"
    },
    "tags": []
   },
   "source": [
    "Initialy, both the training and validation losses seem to decrease over time. However, if we train the model for long enough,training loss continues to decrease, while the validation loss stops decreasing, and even starts to increase after a certain point(overfitting).\n"
   ]
  },
  {
   "attachments": {},
   "cell_type": "markdown",
   "metadata": {
    "papermill": {
     "duration": 0.086728,
     "end_time": "2021-01-24T17:33:15.289477",
     "exception": false,
     "start_time": "2021-01-24T17:33:15.202749",
     "status": "completed"
    },
    "tags": []
   },
   "source": [
    "## Testing with individual images\n"
   ]
  },
  {
   "cell_type": "code",
   "execution_count": null,
   "metadata": {
    "execution": {
     "iopub.execute_input": "2021-01-24T17:33:15.469810Z",
     "iopub.status.busy": "2021-01-24T17:33:15.468973Z",
     "iopub.status.idle": "2021-01-24T17:33:15.528289Z",
     "shell.execute_reply": "2021-01-24T17:33:15.527807Z"
    },
    "papermill": {
     "duration": 0.150754,
     "end_time": "2021-01-24T17:33:15.528387",
     "exception": false,
     "start_time": "2021-01-24T17:33:15.377633",
     "status": "completed"
    },
    "tags": []
   },
   "outputs": [],
   "source": [
    "test_dataset = ImageFolder(data_dir+'/test', transform=ToTensor())\n",
    "test_dataset"
   ]
  },
  {
   "cell_type": "code",
   "execution_count": null,
   "metadata": {
    "execution": {
     "iopub.execute_input": "2021-01-24T17:33:15.709036Z",
     "iopub.status.busy": "2021-01-24T17:33:15.708469Z",
     "iopub.status.idle": "2021-01-24T17:33:15.712565Z",
     "shell.execute_reply": "2021-01-24T17:33:15.712018Z"
    },
    "papermill": {
     "duration": 0.097069,
     "end_time": "2021-01-24T17:33:15.712661",
     "exception": false,
     "start_time": "2021-01-24T17:33:15.615592",
     "status": "completed"
    },
    "tags": []
   },
   "outputs": [],
   "source": [
    "def predict_image(img, model):\n",
    "    # unsqueeze turns an n-dimensionsal tensor into an n+1-dimensional one. But since it is ambiguous which axis the new dimension lies across, this needs to be specified.\n",
    "    xb = to_device(img.unsqueeze(0), device)\n",
    "    # Get predictions from model\n",
    "    yb = model(xb)\n",
    "    # Pick index/label with highest probability\n",
    "    _, preds = torch.max(yb, dim=1)\n",
    "    return dataset.classes[preds[0].item()]"
   ]
  },
  {
   "cell_type": "code",
   "execution_count": null,
   "metadata": {
    "execution": {
     "iopub.execute_input": "2021-01-24T17:33:15.894222Z",
     "iopub.status.busy": "2021-01-24T17:33:15.893417Z",
     "iopub.status.idle": "2021-01-24T17:33:16.025470Z",
     "shell.execute_reply": "2021-01-24T17:33:16.025860Z"
    },
    "papermill": {
     "duration": 0.224919,
     "end_time": "2021-01-24T17:33:16.026010",
     "exception": false,
     "start_time": "2021-01-24T17:33:15.801091",
     "status": "completed"
    },
    "tags": []
   },
   "outputs": [],
   "source": [
    "img, label = test_dataset[8]\n",
    "plt.imshow(img.permute(1, 2, 0))\n",
    "print('Label:', dataset.classes[label],\n",
    "      ', Predicted:', predict_image(img, model))"
   ]
  },
  {
   "cell_type": "code",
   "execution_count": null,
   "metadata": {
    "execution": {
     "iopub.execute_input": "2021-01-24T17:33:16.213545Z",
     "iopub.status.busy": "2021-01-24T17:33:16.212708Z",
     "iopub.status.idle": "2021-01-24T17:33:16.337524Z",
     "shell.execute_reply": "2021-01-24T17:33:16.337051Z"
    },
    "papermill": {
     "duration": 0.218776,
     "end_time": "2021-01-24T17:33:16.337631",
     "exception": false,
     "start_time": "2021-01-24T17:33:16.118855",
     "status": "completed"
    },
    "tags": []
   },
   "outputs": [],
   "source": [
    "img, label = test_dataset[1220]\n",
    "plt.imshow(img.permute(1, 2, 0))\n",
    "print('Label:', dataset.classes[label],\n",
    "      ', Predicted:', predict_image(img, model))"
   ]
  },
  {
   "cell_type": "code",
   "execution_count": null,
   "metadata": {
    "execution": {
     "iopub.execute_input": "2021-01-24T17:33:16.527934Z",
     "iopub.status.busy": "2021-01-24T17:33:16.527336Z",
     "iopub.status.idle": "2021-01-24T17:33:16.659503Z",
     "shell.execute_reply": "2021-01-24T17:33:16.660163Z"
    },
    "papermill": {
     "duration": 0.229691,
     "end_time": "2021-01-24T17:33:16.660292",
     "exception": false,
     "start_time": "2021-01-24T17:33:16.430601",
     "status": "completed"
    },
    "tags": []
   },
   "outputs": [],
   "source": [
    "img, label = test_dataset[345]\n",
    "plt.imshow(img.permute(1, 2, 0))\n",
    "print('Label:', dataset.classes[label],\n",
    "      ', Predicted:', predict_image(img, model))"
   ]
  },
  {
   "cell_type": "code",
   "execution_count": null,
   "metadata": {
    "execution": {
     "iopub.execute_input": "2021-01-24T17:33:16.854221Z",
     "iopub.status.busy": "2021-01-24T17:33:16.853380Z",
     "iopub.status.idle": "2021-01-24T17:33:16.976420Z",
     "shell.execute_reply": "2021-01-24T17:33:16.976877Z"
    },
    "papermill": {
     "duration": 0.222224,
     "end_time": "2021-01-24T17:33:16.977001",
     "exception": false,
     "start_time": "2021-01-24T17:33:16.754777",
     "status": "completed"
    },
    "tags": []
   },
   "outputs": [],
   "source": [
    "img, label = test_dataset[6153]\n",
    "plt.imshow(img.permute(1, 2, 0))\n",
    "print('Label:', dataset.classes[label],\n",
    "      ', Predicted:', predict_image(img, model))"
   ]
  },
  {
   "cell_type": "code",
   "execution_count": null,
   "metadata": {
    "execution": {
     "iopub.execute_input": "2021-01-24T17:33:17.171178Z",
     "iopub.status.busy": "2021-01-24T17:33:17.170402Z",
     "iopub.status.idle": "2021-01-24T17:33:17.293377Z",
     "shell.execute_reply": "2021-01-24T17:33:17.292910Z"
    },
    "papermill": {
     "duration": 0.221482,
     "end_time": "2021-01-24T17:33:17.293483",
     "exception": false,
     "start_time": "2021-01-24T17:33:17.072001",
     "status": "completed"
    },
    "tags": []
   },
   "outputs": [],
   "source": [
    "img, label = test_dataset[456]\n",
    "plt.imshow(img.permute(1, 2, 0))\n",
    "print('Label:', dataset.classes[label],\n",
    "      ', Predicted:', predict_image(img, model))"
   ]
  },
  {
   "cell_type": "code",
   "execution_count": null,
   "metadata": {
    "execution": {
     "iopub.execute_input": "2021-01-24T17:33:17.490060Z",
     "iopub.status.busy": "2021-01-24T17:33:17.489267Z",
     "iopub.status.idle": "2021-01-24T17:33:17.611779Z",
     "shell.execute_reply": "2021-01-24T17:33:17.611323Z"
    },
    "papermill": {
     "duration": 0.221976,
     "end_time": "2021-01-24T17:33:17.611883",
     "exception": false,
     "start_time": "2021-01-24T17:33:17.389907",
     "status": "completed"
    },
    "tags": []
   },
   "outputs": [],
   "source": [
    "img, label = test_dataset[10]\n",
    "plt.imshow(img.permute(1, 2, 0))\n",
    "print('Label:', dataset.classes[label],\n",
    "      ', Predicted:', predict_image(img, model))"
   ]
  },
  {
   "cell_type": "markdown",
   "metadata": {
    "papermill": {
     "duration": 0.103851,
     "end_time": "2021-01-24T17:33:17.813665",
     "exception": false,
     "start_time": "2021-01-24T17:33:17.709814",
     "status": "completed"
    },
    "tags": []
   },
   "source": [
    "`Identifying where our model performs poorly can help us improve the model, by collecting more training data, \n",
    "increasing/decreasing the complexity of the model, and changing the hypeparameters.`\n"
   ]
  },
  {
   "cell_type": "code",
   "execution_count": null,
   "metadata": {
    "execution": {
     "iopub.execute_input": "2021-01-24T17:33:18.011143Z",
     "iopub.status.busy": "2021-01-24T17:33:18.010248Z",
     "iopub.status.idle": "2021-01-24T17:33:18.135551Z",
     "shell.execute_reply": "2021-01-24T17:33:18.135087Z"
    },
    "papermill": {
     "duration": 0.225635,
     "end_time": "2021-01-24T17:33:18.135653",
     "exception": false,
     "start_time": "2021-01-24T17:33:17.910018",
     "status": "completed"
    },
    "tags": []
   },
   "outputs": [],
   "source": [
    "img, label = test_dataset[1432]\n",
    "plt.imshow(img.permute(1, 2, 0))\n",
    "print('Label:', dataset.classes[label],\n",
    "      ', Predicted:', predict_image(img, model))"
   ]
  },
  {
   "cell_type": "code",
   "execution_count": null,
   "metadata": {
    "execution": {
     "iopub.execute_input": "2021-01-24T17:33:18.338086Z",
     "iopub.status.busy": "2021-01-24T17:33:18.337007Z",
     "iopub.status.idle": "2021-01-24T17:33:21.811368Z",
     "shell.execute_reply": "2021-01-24T17:33:21.810766Z"
    },
    "papermill": {
     "duration": 3.577843,
     "end_time": "2021-01-24T17:33:21.811477",
     "exception": false,
     "start_time": "2021-01-24T17:33:18.233634",
     "status": "completed"
    },
    "tags": []
   },
   "outputs": [],
   "source": [
    "test_loader = DeviceDataLoader(DataLoader(test_dataset, batch_size), device)\n",
    "test_result = evaluate(model, test_loader)\n",
    "test_result"
   ]
  },
  {
   "attachments": {},
   "cell_type": "markdown",
   "metadata": {},
   "source": [
    "## Acknowledgments\n",
    "\n",
    "Thanks to datajameson for creating the Kaggle notebook [Cifar-10 Object Recognition(CNN) Explained](https://www.kaggle.com/code/datajameson/cifar-10-object-recognition-cnn-explained). It inspires the majority of the content in this chapter.\n"
   ]
  }
 ],
 "metadata": {
  "kernelspec": {
   "display_name": "Python 3",
   "language": "python",
   "name": "python3"
  },
  "language_info": {
   "codemirror_mode": {
    "name": "ipython",
    "version": 3
   },
   "file_extension": ".py",
   "mimetype": "text/x-python",
   "name": "python",
   "nbconvert_exporter": "python",
   "pygments_lexer": "ipython3",
   "version": "3.10.12"
  },
  "papermill": {
   "duration": 283.01141,
   "end_time": "2021-01-24T17:33:23.327998",
   "environment_variables": {},
   "exception": null,
   "input_path": "__notebook__.ipynb",
   "output_path": "__notebook__.ipynb",
   "parameters": {},
   "start_time": "2021-01-24T17:28:40.316588",
   "version": "2.1.0"
  }
 },
 "nbformat": 4,
 "nbformat_minor": 4
}
