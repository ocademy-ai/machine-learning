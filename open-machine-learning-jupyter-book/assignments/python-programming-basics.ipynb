{
 "cells": [
  {
   "cell_type": "markdown",
   "metadata": {},
   "source": [
    "# Python Programming Basics\n",
    "\n",
    "Fill `____` pieces of the below implemention in order to pass the assertions."
   ]
  },
  {
   "cell_type": "markdown",
   "metadata": {},
   "source": [
    "## Variables"
   ]
  },
  {
   "cell_type": "code",
   "execution_count": 3,
   "metadata": {},
   "outputs": [],
   "source": [
    "variable_with_changed_type = 4 # x is of type int\n",
    "\n",
    "variable_with_changed_type = ___ # x is now of type str\n",
    "assert variable_with_changed_type == 'Sally'"
   ]
  },
  {
   "cell_type": "markdown",
   "metadata": {},
   "source": [
    "## Operators"
   ]
  },
  {
   "cell_type": "markdown",
   "metadata": {},
   "source": [
    "### Arithmetic operators"
   ]
  },
  {
   "cell_type": "code",
   "execution_count": null,
   "metadata": {},
   "outputs": [],
   "source": [
    "# This is a simple integer. Its value can be used as part of expressions.\n",
    "x = 1 \n",
    "\n",
    "result = ___ # result = x + 1\n",
    "assert result == 3\n",
    "\n",
    "result = ___ # result = x * 2 * 2 * 2\n",
    "assert result == 0.5\n",
    "\n",
    "result = ___ # reuslt = x // 2\n",
    "assert result == 0\n",
    "\n",
    "result = ___ # result = x * 2 ** 3\n",
    "assert result == 8"
   ]
  },
  {
   "cell_type": "markdown",
   "metadata": {},
   "source": [
    "## Data types"
   ]
  },
  {
   "cell_type": "markdown",
   "metadata": {},
   "source": [
    "### Lists"
   ]
  },
  {
   "cell_type": "code",
   "execution_count": null,
   "metadata": {},
   "outputs": [],
   "source": [
    "# This is a list of strings.\n",
    "letters = [\"a\", \"b\", \"c\", \"d\", \"e\"]\n",
    "\n",
    "length = ___ # length = len(letters)\n",
    "assert length == 5\n",
    "\n",
    "char = ___ # char = letters[-1]\n",
    "assert char == \"e\"\n",
    "\n",
    "segment = ___ # segment = letters[:-1]\n",
    "assert segment == [\"a\", \"b\", \"c\", \"d\"]\n",
    "\n",
    "segment = ___ # segment = letters[1:]\n",
    "assert segment == [\"b\", \"c\", \"d\", \"e\"]\n",
    "\n",
    "segment = ___ # segment = letters[:]\n",
    "assert segment == [\"a\", \"b\", \"c\", \"d\", \"e\"]\n",
    "\n",
    "segment = ___ # segment = letters[0:3:2]\n",
    "assert segment == [\"a\", \"c\"]\n",
    "\n",
    "segment = ___ # segment = letters[::2]\n",
    "assert segment == [\"a\", \"c\", \"e\"]\n",
    "\n",
    "segment = ___ # segment = letters[::-2]\n",
    "assert segment == [\"e\", \"c\", \"a\"]\n",
    "\n",
    "\n",
    "# Lists can be nested at arbitrary levels.\n",
    "matrix = [[1, 2, 3], [4, 5, 6], [7, 8, 9]]\n",
    "\n",
    "length = ___ # length = len(matrix)\n",
    "assert length == 3\n",
    "\n",
    "num = ___ # num = matrix[1][0]\n",
    "assert num == matrix[1][0]\n"
   ]
  },
  {
   "cell_type": "markdown",
   "metadata": {},
   "source": [
    "### Dictionaries"
   ]
  },
  {
   "cell_type": "code",
   "execution_count": null,
   "metadata": {},
   "outputs": [],
   "source": [
    "# Module-level constants\n",
    "_GPA_MIN = 0.0\n",
    "_GPA_MAX = 4.0\n",
    "\n",
    "# Let's create a dictionary with student keys and GPA values.\n",
    "student_gpa = {\"john\": 3.5,\n",
    "                \"jane\": _GPA_MAX,\n",
    "                \"bob\": 2.8,\n",
    "                \"mary\": 3.2}"
   ]
  }
 ],
 "metadata": {
  "kernelspec": {
   "display_name": "Python 3.9.13 64-bit",
   "language": "python",
   "name": "python3"
  },
  "language_info": {
   "codemirror_mode": {
    "name": "ipython",
    "version": 3
   },
   "file_extension": ".py",
   "mimetype": "text/x-python",
   "name": "python",
   "nbconvert_exporter": "python",
   "pygments_lexer": "ipython3",
   "version": "3.9.13"
  },
  "orig_nbformat": 4,
  "vscode": {
   "interpreter": {
    "hash": "aee8b7b246df8f9039afb4144a1f6fd8d2ca17a180786b69acc140d282b71a49"
   }
  }
 },
 "nbformat": 4,
 "nbformat_minor": 2
}
