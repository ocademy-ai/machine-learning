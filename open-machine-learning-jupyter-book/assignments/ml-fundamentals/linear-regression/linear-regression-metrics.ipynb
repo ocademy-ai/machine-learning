{
 "cells": [
  {
   "cell_type": "markdown",
   "id": "63961ec0-328a-4289-8667-cc86f09db8f1",
   "metadata": {},
   "source": [
    "#  Linear Regression Metrics"
   ]
  },
  {
   "cell_type": "markdown",
   "id": "c556cae5-c568-444c-be0c-4a9f54a0af5b",
   "metadata": {},
   "source": [
    "Linear regression is a fundamental and widely used technique in machine learning and statistics for predicting continuous values based on input variables. It finds its application in various domains, from finance and economics to healthcare and engineering. When using linear regression, it's essential to assess the model's performance accurately. This is where linear regression metrics come into play.\n",
    "\n",
    "In this tutorial, we will delve into the world of linear regression metrics, exploring the key evaluation measures that allow us to gauge how well a linear regression model fits the data and makes predictions. These metrics provide valuable insights into the model's accuracy, precision, and ability to capture the underlying relationships between variables.\n",
    "\n",
    "We will cover essential concepts such as Mean Squared Error (MSE), Root Mean Squared Error (RMSE), R-squared (R2) score, and Mean Absolute Error (MAE). Understanding these metrics is crucial for data scientists, machine learning practitioners, and anyone looking to harness the power of linear regression for predictive modeling.\n",
    "\n",
    "Whether you are building models for price predictions, sales forecasts, or any other regression task, mastering these metrics will empower you to make informed decisions and fine-tune your models for optimal performance. Let's embark on this journey to explore the intricacies of linear regression metrics and enhance our ability to assess and improve regression models."
   ]
  },
  {
   "cell_type": "markdown",
   "id": "f39e137f-d413-4d64-97b7-d6500542e8ed",
   "metadata": {},
   "source": [
    "## Mean Squared Error (MSE)"
   ]
  },
  {
   "cell_type": "markdown",
   "id": "f893cbed-c0e9-46c5-aea3-8871c7bb9a5d",
   "metadata": {},
   "source": [
    "In the realm of linear regression metrics, one fundamental measure of model performance is the **Mean Squared Error (MSE)**. MSE serves as a valuable indicator of how well your linear regression model aligns its predictions with the actual data points. This metric quantifies the average of the squared differences between predicted values and observed values."
   ]
  },
  {
   "cell_type": "markdown",
   "id": "de348eec-516d-4d86-a02e-ccbe7dba7bf5",
   "metadata": {},
   "source": [
    "### The Formula"
   ]
  },
  {
   "cell_type": "markdown",
   "id": "545bc42e-7ca4-4c9a-91ca-fceeebaa1b83",
   "metadata": {},
   "source": [
    "Mathematically, the MSE is computed using the following formula:"
   ]
  },
  {
   "cell_type": "markdown",
   "id": "768aa918-1f0b-4ae5-b4c7-9e77097050e1",
   "metadata": {},
   "source": [
    "$$ MSE = \\frac{1}{n} \\sum_{i=1}^{n} (y_i - \\hat{y}_i)^2 $$"
   ]
  },
  {
   "cell_type": "markdown",
   "id": "dbd49d92-4228-458e-a865-5d4636bd4ff2",
   "metadata": {},
   "source": [
    "Where:\n",
    "\n",
    "- $n$ is the number of data points.\n",
    "- $y_i$ represents the actual observed value for the $i^{th}$ data point.\n",
    "- $\\hat{y}_i$ represents the predicted value for the $i^{th}$ data point."
   ]
  },
  {
   "cell_type": "markdown",
   "id": "54f58e2a-8d6e-4cfb-8a9a-ab50cdaaf956",
   "metadata": {},
   "source": [
    "### Interpretation"
   ]
  },
  {
   "cell_type": "markdown",
   "id": "d09eadf6-21c1-488e-98f1-4e0917be18b6",
   "metadata": {},
   "source": [
    "A lower MSE value indicates that the model's predictions are closer to the actual values, signifying better model performance. Conversely, a higher MSE suggests that the model's predictions deviate more from the true values, indicating poorer performance."
   ]
  },
  {
   "cell_type": "markdown",
   "id": "d2b803a5-b390-407a-886b-ccfcee059233",
   "metadata": {},
   "source": [
    "### Python Implementation"
   ]
  },
  {
   "cell_type": "markdown",
   "id": "e546d69d-7542-4c65-9635-4d5dced7248e",
   "metadata": {},
   "source": [
    "Let's take a look at how to calculate MSE in Python. We'll use a simple example with sample data:"
   ]
  },
  {
   "cell_type": "code",
   "execution_count": 3,
   "id": "7b027b00-2205-4475-a600-62059c7fc5c2",
   "metadata": {},
   "outputs": [
    {
     "name": "stdout",
     "output_type": "stream",
     "text": [
      "Mean Squared Error (MSE): 0.5079999999999996\n"
     ]
    }
   ],
   "source": [
    "# Import necessary libraries\n",
    "import numpy as np\n",
    "\n",
    "# Sample data for demonstration (replace with your actual data)\n",
    "actual_values = np.array([22.1, 19.9, 24.5, 20.1, 18.7])\n",
    "predicted_values = np.array([23.5, 20.2, 23.9, 19.8, 18.5])\n",
    "\n",
    "# Calculate the squared differences between actual and predicted values\n",
    "squared_errors = (actual_values - predicted_values) ** 2\n",
    "\n",
    "# Calculate the mean of squared errors to get MSE\n",
    "mse = np.mean(squared_errors)\n",
    "\n",
    "# Print the MSE\n",
    "print(\"Mean Squared Error (MSE):\", mse) "
   ]
  },
  {
   "cell_type": "markdown",
   "id": "ae646b7e",
   "metadata": {},
   "source": [
    "## Root Mean Squared Error (RMSE)"
   ]
  },
  {
   "cell_type": "markdown",
   "id": "7e4a128c",
   "metadata": {},
   "source": [
    "The Root Mean Squared Error (RMSE) is another important metric for evaluating the performance of a linear regression model. It is the square root of the Mean Squared Error (MSE) and provides a measure of the average magnitude of error between actual and predicted values.\n",
    "\n"
   ]
  },
  {
   "cell_type": "markdown",
   "id": "cbdd5ced",
   "metadata": {},
   "source": [
    "### The Formula"
   ]
  },
  {
   "cell_type": "markdown",
   "id": "a6dc6890",
   "metadata": {},
   "source": [
    "The formula for RMSE is:\n",
    "\n",
    "$$ RMSE = \\sqrt{\\frac{1}{n} \\sum_{i=1}^{n} (y_i - \\hat{y}_i)^2} $$\n",
    "\n",
    "Where:\n",
    "- $n$ is the number of data points\n",
    "- $y_i $ represents the actual value of the dependent variable\n",
    "- $ \\hat{y}_i $ represents the predicted value of the dependent variable"
   ]
  },
  {
   "cell_type": "markdown",
   "id": "f8190006",
   "metadata": {},
   "source": [
    "### Python Implementation"
   ]
  },
  {
   "cell_type": "code",
   "execution_count": 4,
   "id": "d244a67e",
   "metadata": {},
   "outputs": [
    {
     "name": "stdout",
     "output_type": "stream",
     "text": [
      "Root Mean Squared Error (RMSE): 0.7127411872482181\n"
     ]
    }
   ],
   "source": [
    "# Calculate RMSE\n",
    "rmse = np.sqrt(mse)\n",
    "\n",
    "# Print the RMSE\n",
    "print(\"Root Mean Squared Error (RMSE):\", rmse)"
   ]
  },
  {
   "cell_type": "markdown",
   "id": "1c168a9e",
   "metadata": {},
   "source": [
    "## R-squared (R2) Score"
   ]
  },
  {
   "cell_type": "markdown",
   "id": "d26273ff",
   "metadata": {},
   "source": [
    "The R-squared (R2) score, also known as the coefficient of determination, is a measure that indicates the proportion of the variance in the dependent variable that is predictable from the independent variables. It provides insight into how well the model is performing compared to a simple mean.\n",
    "\n"
   ]
  },
  {
   "cell_type": "markdown",
   "id": "8da8c1fa",
   "metadata": {},
   "source": [
    "### The Formula"
   ]
  },
  {
   "cell_type": "markdown",
   "id": "fa97caba",
   "metadata": {},
   "source": [
    "\n",
    "The formula for R2 score is:\n",
    "\n",
    "$$ R^2 = 1 - \\frac{\\sum_{i=1}^{n} (y_i - \\hat{y}_i)^2}{\\sum_{i=1}^{n} (y_i - \\bar{y})^2} $$\n",
    "\n",
    "Where:\n",
    "- $ n $ is the number of data points\n",
    "- $ y_i $ represents the actual value of the dependent variable\n",
    "- $ \\hat{y}_i $ represents the predicted value of the dependent variable\n",
    "- $ \\bar{y} $ is the mean of the dependent variable"
   ]
  },
  {
   "cell_type": "markdown",
   "id": "d999e0bc",
   "metadata": {},
   "source": [
    "### Python Implementation"
   ]
  },
  {
   "cell_type": "code",
   "execution_count": 5,
   "id": "a284986b",
   "metadata": {},
   "outputs": [
    {
     "name": "stdout",
     "output_type": "stream",
     "text": [
      "R-squared (R2) Score: 0.8776021588280649\n"
     ]
    }
   ],
   "source": [
    "# Calculate the mean of actual values\n",
    "mean_actual = np.mean(actual_values)\n",
    "\n",
    "# Calculate the total sum of squares\n",
    "total_sum_squares = np.sum((actual_values - mean_actual) ** 2)\n",
    "\n",
    "# Calculate the residual sum of squares\n",
    "residual_sum_squares = np.sum(squared_errors)\n",
    "\n",
    "# Calculate R2 score\n",
    "r2_score = 1 - (residual_sum_squares / total_sum_squares)\n",
    "\n",
    "# Print the R2 score\n",
    "print(\"R-squared (R2) Score:\", r2_score)"
   ]
  },
  {
   "cell_type": "markdown",
   "id": "a32ae853",
   "metadata": {},
   "source": [
    "## Residual Analysis"
   ]
  },
  {
   "cell_type": "markdown",
   "id": "c6813ba7",
   "metadata": {},
   "source": [
    "Residual analysis is a critical step in evaluating the performance of a linear regression model. It involves examining the differences between the observed and predicted values (i.e., the residuals). This helps us understand if there are any patterns or trends that the model might have missed."
   ]
  },
  {
   "cell_type": "markdown",
   "id": "4014eb09",
   "metadata": {},
   "source": [
    "### Python Implementation"
   ]
  },
  {
   "cell_type": "code",
   "execution_count": 6,
   "id": "4081a2ef",
   "metadata": {},
   "outputs": [
    {
     "data": {
      "image/png": "[encoded data removed]",
      "text/plain": [
       "<Figure size 800x600 with 1 Axes>"
      ]
     },
     "metadata": {},
     "output_type": "display_data"
    }
   ],
   "source": [
    "import matplotlib.pyplot as plt\n",
    "'''\n",
    "In this code, we first calculate the residuals by subtracting the predicted values from the actual values. Then, we create a scatter plot of predicted values against residuals. The red dashed line at y=0 is a reference line; ideally, we want the residuals to be evenly distributed around this line.\n",
    "'''\n",
    "# Calculate residuals\n",
    "residuals = actual_values - predicted_values\n",
    "\n",
    "# Plotting residuals\n",
    "plt.figure(figsize=(8, 6))\n",
    "plt.scatter(predicted_values, residuals, c='b', s=60, alpha=0.6)\n",
    "plt.axhline(y=0, color='r', linestyle='--', linewidth=2)\n",
    "plt.title(\"Residual Plot\")\n",
    "plt.xlabel(\"Predicted Values\")\n",
    "plt.ylabel(\"Residuals\")\n",
    "plt.show()"
   ]
  },
  {
   "cell_type": "markdown",
   "id": "a647fe11",
   "metadata": {},
   "source": [
    "### Interpretation"
   ]
  },
  {
   "cell_type": "markdown",
   "id": "d41d33af",
   "metadata": {},
   "source": [
    "If the residuals are randomly scattered around the red line, it suggests that the model is capturing the underlying patterns in the data well.\n",
    "If there's a clear pattern in the residuals (e.g., a curve or a trend), it indicates that the model might be missing some important features.\n",
    "Residual analysis is a crucial step in understanding the limitations of the model and can provide insights into potential areas of improvement."
   ]
  },
  {
   "cell_type": "markdown",
   "id": "74fa14ed",
   "metadata": {},
   "source": [
    "## Mean Absolute Error (MAE)"
   ]
  },
  {
   "cell_type": "markdown",
   "id": "a18ba873",
   "metadata": {},
   "source": [
    "The Mean Absolute Error (MAE) is a metric that measures the average absolute differences between actual and predicted values. Unlike MSE, MAE does not square the differences, which makes it less sensitive to outliers."
   ]
  },
  {
   "cell_type": "markdown",
   "id": "4f34c46b",
   "metadata": {},
   "source": [
    "### The Formula"
   ]
  },
  {
   "cell_type": "markdown",
   "id": "97e06de3",
   "metadata": {},
   "source": [
    "The formula for Mean Absolute Errord is:\n",
    "$$ MAE = \\frac{1}{n} \\sum_{i=1}^{n} |y_i - \\hat{y}_i| $$\n",
    "Where:\n",
    "- $ n $ is the number of data points\n",
    "- $ y_i $ represents the actual value of the dependent variable\n",
    "- $ \\hat{y}_i $ represents the predicted value of the dependent variable"
   ]
  },
  {
   "cell_type": "markdown",
   "id": "8da3c8ec",
   "metadata": {},
   "source": [
    "### Python Implementation"
   ]
  },
  {
   "cell_type": "code",
   "execution_count": 8,
   "id": "706e70a0",
   "metadata": {},
   "outputs": [
    {
     "name": "stdout",
     "output_type": "stream",
     "text": [
      "Mean Absolute Error (MAE): 0.5600000000000002\n"
     ]
    }
   ],
   "source": [
    "# Calculate absolute differences between actual and predicted values\n",
    "absolute_errors = np.abs(actual_values - predicted_values)\n",
    "\n",
    "# Calculate the mean of absolute errors to get MAE\n",
    "mae = np.mean(absolute_errors)\n",
    "\n",
    "# Print the MAE\n",
    "print(\"Mean Absolute Error (MAE):\", mae)\n"
   ]
  },
  {
   "cell_type": "markdown",
   "id": "9a53e170",
   "metadata": {},
   "source": [
    "### Interpretation"
   ]
  },
  {
   "cell_type": "markdown",
   "id": "b0c33ceb",
   "metadata": {},
   "source": [
    "The MAE gives us an average of how far off our predictions are from the actual values. It provides a more intuitive understanding of error compared to MSE."
   ]
  },
  {
   "cell_type": "markdown",
   "id": "fff0ccc0",
   "metadata": {},
   "source": [
    "## Mean Absolute Percentage Error (MAPE)"
   ]
  },
  {
   "cell_type": "markdown",
   "id": "eb7efd34",
   "metadata": {},
   "source": [
    "The Mean Absolute Percentage Error (MAPE) is a metric used to evaluate the accuracy of a model's predictions in percentage terms. It measures the average absolute percentage difference between actual and predicted values."
   ]
  },
  {
   "cell_type": "markdown",
   "id": "7517e467",
   "metadata": {},
   "source": [
    "### The Formula"
   ]
  },
  {
   "cell_type": "markdown",
   "id": "3cced860",
   "metadata": {},
   "source": [
    "The formula for MAPE is:\n",
    "\n",
    "$$ MAPE = \\frac{1}{n} \\sum_{i=1}^{n} \\left| \\frac{y_i - \\hat{y}_i}{y_i} \\right| \\times 100 $$\n",
    "Where:\n",
    "- $ n $ is the number of data points\n",
    "- $ y_i $ represents the actual value of the dependent variable\n",
    "- $ \\hat{y}_i $ represents the predicted value of the dependent variable"
   ]
  },
  {
   "cell_type": "markdown",
   "id": "f8bace78",
   "metadata": {},
   "source": [
    "### Interpretation"
   ]
  },
  {
   "cell_type": "code",
   "execution_count": 9,
   "id": "809ea600",
   "metadata": {},
   "outputs": [
    {
     "name": "stdout",
     "output_type": "stream",
     "text": [
      "Mean Absolute Percentage Error (MAPE): 2.5706829878497204\n"
     ]
    }
   ],
   "source": [
    "# Calculate absolute percentage differences between actual and predicted values\n",
    "absolute_percentage_errors = np.abs((actual_values - predicted_values) / actual_values) * 100\n",
    "\n",
    "# Calculate the mean of absolute percentage errors to get MAPE\n",
    "mape = np.mean(absolute_percentage_errors)\n",
    "\n",
    "# Print the MAPE\n",
    "print(\"Mean Absolute Percentage Error (MAPE):\", mape)"
   ]
  },
  {
   "cell_type": "markdown",
   "id": "da92a047",
   "metadata": {},
   "source": [
    "## Conclusion and Recap"
   ]
  },
  {
   "cell_type": "markdown",
   "id": "22109dea",
   "metadata": {},
   "source": [
    "In this tutorial, we covered several important metrics used to evaluate the performance of linear regression models. Here's a quick recap:\n",
    "\n",
    "- Mean Squared Error (MSE): Measures the average squared difference between actual and predicted values.\n",
    "\n",
    "- Root Mean Squared Error (RMSE): The square root of MSE, providing a measure of the average magnitude of error.\n",
    "\n",
    "- R-squared (R2) Score: Indicates the proportion of the variance in the dependent variable that is predictable from the independent variables.\n",
    "\n",
    "- Mean Absolute Error (MAE): Measures the average absolute differences between actual and predicted values.\n",
    "\n",
    "- Mean Absolute Percentage Error (MAPE): Measures the average absolute percentage difference between actual and predicted values.\n",
    "\n",
    "Each of these metrics provides unique insights into the performance of a linear regression model. Choosing the right metric depends on the specific characteristics of the data and the objectives of the modeling task.\n",
    "\n",
    "By understanding and utilizing these metrics, you can make informed decisions about the accuracy and reliability of your linear regression models."
   ]
  }
 ],
 "metadata": {
  "kernelspec": {
   "display_name": "Python 3 (ipykernel)",
   "language": "python",
   "name": "python3"
  },
  "language_info": {
   "codemirror_mode": {
    "name": "ipython",
    "version": 3
   },
   "file_extension": ".py",
   "mimetype": "text/x-python",
   "name": "python",
   "nbconvert_exporter": "python",
   "pygments_lexer": "ipython3",
   "version": "3.9.13"
  }
 },
 "nbformat": 4,
 "nbformat_minor": 5
}
