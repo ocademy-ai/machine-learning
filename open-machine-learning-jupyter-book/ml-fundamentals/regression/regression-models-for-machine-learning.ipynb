{
 "cells": [
  {
   "cell_type": "markdown",
   "id": "ad90fb21",
   "metadata": {
    "tags": [
     "remove-cell"
    ]
   },
   "source": [
    "---\n",
    "license:\n",
    "    code: MIT\n",
    "    content: CC-BY-4.0\n",
    "github: https://github.com/ocademy-ai/machine-learning\n",
    "venue: By Ocademy\n",
    "open_access: true\n",
    "bibliography:\n",
    "  - https://raw.githubusercontent.com/ocademy-ai/machine-learning/main/open-machine-learning-jupyter-book/references.bib\n",
    "---"
   ]
  },
  {
   "cell_type": "markdown",
   "id": "bbcfa3d3",
   "metadata": {},
   "source": [
    "# Regression models for Machine Learning\n",
    "\n",
    "In North America, pumpkins are often carved into scary faces for Halloween. Let's discover more about these fascinating vegetables!\n",
    "\n",
    ":::{figure} https://static-1300131294.cos.ap-shanghai.myqcloud.com/images/ml-regression/jack-o-lanterns.jpg\n",
    "---\n",
    "name: 'jack-o-lanterns'\n",
    "width: 90%\n",
    "---\n",
    "Photo by <a href=\"https://unsplash.com/@teutschmann?utm_source=unsplash&utm_medium=referral&utm_content=creditCopyText\">Beth Teutschmann</a> on <a href=\"https://unsplash.com/s/photos/jack-o-lanterns?utm_source=unsplash&utm_medium=referral&utm_content=creditCopyText\">Unsplash</a>\n",
    ":::\n",
    "\n",
    ":::{seealso}\n",
    "<div class=\"yt-container\">\n",
    "  <iframe src=\"https://www.youtube.com/embed/5QnJtDad4iQ\" allowfullscreen></iframe>\n",
    "</div>\n",
    "Click the video above for a quick introduction to this section.\n",
    ":::"
   ]
  },
  {
   "cell_type": "markdown",
   "id": "44c00074",
   "metadata": {},
   "source": [
    "This part covers types of regression in the context of machine learning. Regression models can help determine the _relationship_ between variables. This type of model can predict values such as length, temperature, or age, thus uncovering relationships between variables as it analyzes data points.\n",
    "\n",
    "In this series of sections, you'll discover the differences between linear and logistic regression, and when you should prefer one over the other.\n",
    "\n",
    "In this group of sections, you will get set up to begin machine learning tasks, including configuring Visual Studio Code to manage notebooks, the common environment for data scientists. You will discover Scikit-learn, a library for machine learning, and you will build your first models, focusing on Regression models in this chapter.\n",
    "\n",
    ":::{seealso}\n",
    "There are useful low-code tools that can help you learn about working with regression models. Try [Azure ML for this task](https://docs.microsoft.com/learn/modules/create-regression-model-azure-machine-learning-designer/?WT.mc_id=academic-77952-leestott)\n",
    ":::\n",
    "\n",
    "---"
   ]
  },
  {
   "cell_type": "markdown",
   "id": "616dc6d3",
   "metadata": {},
   "source": [
    ":::{tableofcontents}\n",
    ":::"
   ]
  }
 ],
 "metadata": {
  "kernelspec": {
   "display_name": "Python 3 (ipykernel)",
   "language": "python",
   "name": "python3"
  },
  "language_info": {
   "codemirror_mode": {
    "name": "ipython",
    "version": 3
   },
   "file_extension": ".py",
   "mimetype": "text/x-python",
   "name": "python",
   "nbconvert_exporter": "python",
   "pygments_lexer": "ipython3",
   "version": "3.9.13"
  }
 },
 "nbformat": 4,
 "nbformat_minor": 5
}
