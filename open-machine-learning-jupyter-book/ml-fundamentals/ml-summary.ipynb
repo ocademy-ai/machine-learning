{
 "cells": [
  {
   "cell_type": "markdown",
   "metadata": {
    "tags": [
     "remove-cell"
    ]
   },
   "source": [
    "---\n",
    "license:\n",
    "    code: MIT\n",
    "    content: CC-BY-4.0\n",
    "github: https://github.com/ocademy-ai/machine-learning\n",
    "venue: By Ocademy\n",
    "open_access: true\n",
    "bibliography:\n",
    "  - https://raw.githubusercontent.com/ocademy-ai/machine-learning/main/open-machine-learning-jupyter-book/references.bib\n",
    "---"
   ]
  },
  {
   "cell_type": "markdown",
   "metadata": {},
   "source": [
    "# Summary of machine learning fundamentals"
   ]
  },
  {
   "cell_type": "markdown",
   "metadata": {},
   "source": [
    "## Machine Learning Landscape : Discriminative Models\n",
    "\n",
    "Most of supervised machine learning can be looked at using the following framework: \n",
    "You have a set of training points $(x_i, y_i)$, and you want to find a function f that \"fits the data well\", \n",
    "that is, $yi \\approx f(x_i)$ for most $i$.\n",
    "\n",
    "You will start by doing the following:\n",
    "\n",
    "- Define the form of $f$. For instance, we can define $f = wx + b$, for some constants $w$ and $b$. \n",
    "Note that this is a set of functions — for different values of $w$ and $b$, \n",
    "you will get different functions $f$, and you want to find an $f$\n",
    "from this set that does the “best”.\n",
    "- As you might have noticed, we have been talking about this notion of “best”, \n",
    "which is ill-defined up to this point. So, we need to make this more concrete. \n",
    "The goal here, as stated above, is to have $y_i \\approx f(x_i)$\n",
    "for most $i$.\n",
    "\n",
    "The above two steps essentially define the **function class** and the **loss function** respectively.\n",
    "\n",
    "Depending on how you choose your function class and the loss function, \n",
    "you get different supervised learning models or even unsupervised learning models:\n",
    "\n",
    "- Linear function class with squared-error loss function — Linear regression\n",
    "- Linear function class with logistic loss function — Logistic regression\n",
    "- Linear function class with hinge loss — SVM\n",
    "- Function class containing a network of neurons with cross-entropy loss — Neural networks\n",
    "\n",
    "and so on."
   ]
  },
  {
   "cell_type": "markdown",
   "metadata": {},
   "source": [
    "## How to conceive a \"new\" Machine Learning algorithm : Discriminative Models\n",
    "\n",
    "\n",
    "- [How about perpendicular distance instead of vertical distance for Linear Regression?](https://math.stackexchange.com/questions/1530298/variant-of-linear-regression-using-perpendicular-distance-instead-of-vertical)\n",
    "\n",
    "- [How about Logistic Regression with Kernel Trick?](https://www.quora.com/How-can-one-use-kernels-utilizing-the-kernel-trick-in-logistic-regression)\n",
    "\n",
    "- [How about a Neural Network with Kernel Trick]\n",
    "\n",
    "- [How about a Neural Network not by Layers but inter-connected]\n",
    "\n",
    "- [How about horizontal or vertical lines - then we have Decision Tree]\n",
    "\n",
    "- [How about counting numbers - then we have KNN]\n",
    "\n",
    "- [How about counting numbers with Kernel trick](https://stats.stackexchange.com/questions/44166/kernelised-k-nearest-neighbour)\n"
   ]
  },
  {
   "cell_type": "markdown",
   "metadata": {},
   "source": [
    "## Machine Learning Landscape : Generative Models "
   ]
  },
  {
   "cell_type": "markdown",
   "metadata": {},
   "source": [
    "## LDA "
   ]
  },
  {
   "cell_type": "markdown",
   "metadata": {},
   "source": [
    "## Unsupervised learning"
   ]
  },
  {
   "cell_type": "markdown",
   "metadata": {},
   "source": [
    "## Semi-supervised learning\n",
    "\n",
    "[Semi-supervised learning](https://www.baeldung.com/cs/svm-vs-neural-network)"
   ]
  },
  {
   "cell_type": "markdown",
   "metadata": {},
   "source": [
    "## Your turn! 🚀\n",
    "\n",
    "TBD"
   ]
  },
  {
   "cell_type": "markdown",
   "metadata": {},
   "source": [
    "<div hidden>\n",
    "    https://www.baeldung.com/cs/svm-vs-neural-network\n",
    "</div>"
   ]
  }
 ],
 "metadata": {
  "language_info": {
   "name": "python"
  }
 },
 "nbformat": 4,
 "nbformat_minor": 2
}
