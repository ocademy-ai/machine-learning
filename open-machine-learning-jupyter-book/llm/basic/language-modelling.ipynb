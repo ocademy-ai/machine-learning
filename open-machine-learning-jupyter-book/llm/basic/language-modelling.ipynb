{
  "cells": [
    {
      "cell_type": "markdown",
      "metadata": {
        "tags": [
          "remove-cell"
        ]
      },
      "source": [
        "---\n",
        "license:\n",
        "    code: MIT\n",
        "    content: CC-BY-4.0\n",
        "github: https://github.com/ocademy-ai/machine-learning\n",
        "venue: By Ocademy\n",
        "open_access: true\n",
        "bibliography:\n",
        "  - https://raw.githubusercontent.com/ocademy-ai/machine-learning/main/open-machine-learning-jupyter-book/references.bib\n",
        "---"
      ]
    },
    {
      "cell_type": "markdown",
      "metadata": {
        "id": "vePKj2Q6Huai"
      },
      "source": [
        "# Transformers for Language Modelling"
      ]
    },
    {
      "cell_type": "markdown",
      "metadata": {
        "id": "Z5MqS6YYVoUr"
      },
      "source": [
        "As we have familiarized ourselves with the attention mechanism in Transformers, now let's see how these models can be trained as language models.\n",
        "\n",
        "* In the first part, I prepared a few pretrained language models for you to examine and play with.\n",
        "* In the second part, we will train a transformer language model from scratch.\n",
        "  * We will handcraft a simple English language with [Probabilistic Context free Grammar](https://en.wikipedia.org/wiki/Probabilistic_context-free_grammar).\n",
        "  * Then let the GPT learn this artificial language, and we will examine the emergent phenomena from training.\n"
      ]
    },
    {
      "cell_type": "markdown",
      "metadata": {
        "id": "uLMOx_hoJCJM"
      },
      "source": [
        "## Play with Pre-trained transformers language models"
      ]
    },
    {
      "cell_type": "markdown",
      "metadata": {
        "id": "jQBE1UBKJNUK"
      },
      "source": [
        "`transformers` library from huggingface is the *de facto* standard library for loading and using transformer architectures."
      ]
    },
    {
      "cell_type": "markdown",
      "metadata": {
        "id": "rOAOnHgbNgbQ"
      },
      "source": [
        "Let's load some common models and see their inner architecture. Specifically, we will look at two classic models, BERT and GPT2. (developped ~ 2018)\n",
        "\n",
        "They are both transformers but with some prominal differences\n",
        "\n",
        "* BERT: Bidirectional Encoder Representations from Transformers\n",
        "  * **Architecture**: All-to-all attention. Transformer Encoder.\n",
        "  * **Objective**: Masked language modelling\n",
        "  * **Usage**:\n",
        "    * Can fill in blanks and perform cloze task\n",
        "    * Provide representation for many downstream language understanding tasks.\n",
        "* GPT2: Generative Pre-trained Transformer 2\n",
        "  * **Architecture**: Causal attention. Transformer Decoder\n",
        "  * **Objective**: autoregressive language modelling\n",
        "  * **Usage**:\n",
        "    * Can continue prompt and answer questions\n",
        "    * Can be finetuned to follow task specific instructions.\n"
      ]
    },
    {
      "cell_type": "markdown",
      "metadata": {
        "id": "8O5wkUxciWes"
      },
      "source": [
        "Here are the conceptual picture of BERT and GPT2, let's keep it in mind and try to map them to the modules we see\n",
        "\n",
        "**BERT**\n",
        "\n",
        "![BERT (Transformer encoder)](https://static-1300131294.cos.ap-shanghai.myqcloud.com/images/llm/clipboard_20240409_034503.png)\n",
        "\n",
        "**GPT2**\n",
        "\n",
        "![](https://static-1300131294.cos.ap-shanghai.myqcloud.com/images/llm/clipboard_20240409_034531.png)"
      ]
    },
    {
      "cell_type": "markdown",
      "metadata": {
        "id": "U9qWUlFcfhNq"
      },
      "source": [
        "### Loading"
      ]
    },
    {
      "cell_type": "code",
      "execution_count": 1,
      "metadata": {
        "id": "s0SBgGkDf5Qa"
      },
      "outputs": [],
      "source": [
        "import transformers\n",
        "from transformers import GPT2Tokenizer, GPT2Model, GPT2Config, GPT2LMHeadModel, DataCollatorForLanguageModeling\n",
        "from transformers import pipeline, BertModel, BertConfig, BertTokenizer, BertLMHeadModel"
      ]
    },
    {
      "cell_type": "code",
      "execution_count": 2,
      "metadata": {
        "id": "lbBL4AOEOCxg"
      },
      "outputs": [],
      "source": [
        "import torch\n",
        "import torch.nn as nn\n",
        "def recursive_print(module, prefix=\"\", depth=0, deepest=3):\n",
        "    \"\"\"Simulating print(module) for torch.nn.Modules\n",
        "        but with depth control. Print to the `deepest` level. `deepest=0` means no print\n",
        "    \"\"\"\n",
        "    if depth == 0:\n",
        "        print(f\"[{type(module).__name__}]\")\n",
        "    if depth >= deepest:\n",
        "        return\n",
        "    for name, child in module.named_children():\n",
        "        if len([*child.named_children()]) == 0:\n",
        "            print(f\"{prefix}({name}): {child}\")\n",
        "        else:\n",
        "            if isinstance(child, nn.ModuleList):\n",
        "                print(f\"{prefix}({name}): {type(child).__name__} len={len(child)}\")\n",
        "            else:\n",
        "                print(f\"{prefix}({name}): {type(child).__name__}\")\n",
        "        recursive_print(child, prefix + \"  \", depth + 1, deepest)"
      ]
    },
    {
      "cell_type": "markdown",
      "metadata": {
        "id": "vu-Oe_jUNp5A"
      },
      "source": [
        "### BERT"
      ]
    },
    {
      "cell_type": "code",
      "execution_count": 3,
      "metadata": {
        "colab": {
          "base_uri": "https://localhost:8080/"
        },
        "id": "ktwsjxaYjoSh",
        "outputId": "cf594f06-fb52-4616-bff3-145540d48bc9"
      },
      "outputs": [
        {
          "data": {
            "application/vnd.jupyter.widget-view+json": {
              "model_id": "3da08a0571344893b36c4b7938aa98fa",
              "version_major": 2,
              "version_minor": 0
            },
            "text/plain": [
              "model.safetensors:   0%|          | 0.00/440M [00:00<?, ?B/s]"
            ]
          },
          "metadata": {},
          "output_type": "display_data"
        }
      ],
      "source": [
        "# Accessing the model configuration\n",
        "BERTtokenizer = BertTokenizer.from_pretrained('bert-base-uncased')\n",
        "BERTmodel = BertModel.from_pretrained('bert-base-uncased')\n",
        "BERTconfig = BERTmodel.config"
      ]
    },
    {
      "cell_type": "code",
      "execution_count": 4,
      "metadata": {
        "colab": {
          "base_uri": "https://localhost:8080/"
        },
        "id": "fdzl86yCj9Pq",
        "outputId": "f791234e-4d19-4cfb-fdd2-00497323a870"
      },
      "outputs": [
        {
          "data": {
            "text/plain": [
              "BertConfig {\n",
              "  \"_name_or_path\": \"bert-base-uncased\",\n",
              "  \"architectures\": [\n",
              "    \"BertForMaskedLM\"\n",
              "  ],\n",
              "  \"attention_probs_dropout_prob\": 0.1,\n",
              "  \"classifier_dropout\": null,\n",
              "  \"gradient_checkpointing\": false,\n",
              "  \"hidden_act\": \"gelu\",\n",
              "  \"hidden_dropout_prob\": 0.1,\n",
              "  \"hidden_size\": 768,\n",
              "  \"initializer_range\": 0.02,\n",
              "  \"intermediate_size\": 3072,\n",
              "  \"layer_norm_eps\": 1e-12,\n",
              "  \"max_position_embeddings\": 512,\n",
              "  \"model_type\": \"bert\",\n",
              "  \"num_attention_heads\": 12,\n",
              "  \"num_hidden_layers\": 12,\n",
              "  \"pad_token_id\": 0,\n",
              "  \"position_embedding_type\": \"absolute\",\n",
              "  \"transformers_version\": \"4.39.3\",\n",
              "  \"type_vocab_size\": 2,\n",
              "  \"use_cache\": true,\n",
              "  \"vocab_size\": 30522\n",
              "}"
            ]
          },
          "execution_count": 4,
          "metadata": {},
          "output_type": "execute_result"
        }
      ],
      "source": [
        "BERTconfig"
      ]
    },
    {
      "cell_type": "markdown",
      "metadata": {
        "id": "bFbIGvsCTZuw"
      },
      "source": [
        "### Let BERT do a cloze test"
      ]
    },
    {
      "cell_type": "code",
      "execution_count": 5,
      "metadata": {
        "id": "g4xA_U0eTGHI"
      },
      "outputs": [
        {
          "name": "stderr",
          "output_type": "stream",
          "text": [
            "Some weights of the model checkpoint at bert-base-uncased were not used when initializing BertForMaskedLM: ['bert.pooler.dense.bias', 'bert.pooler.dense.weight', 'cls.seq_relationship.bias', 'cls.seq_relationship.weight']\n",
            "- This IS expected if you are initializing BertForMaskedLM from the checkpoint of a model trained on another task or with another architecture (e.g. initializing a BertForSequenceClassification model from a BertForPreTraining model).\n",
            "- This IS NOT expected if you are initializing BertForMaskedLM from the checkpoint of a model that you expect to be exactly identical (initializing a BertForSequenceClassification model from a BertForSequenceClassification model).\n"
          ]
        },
        {
          "data": {
            "text/plain": [
              "[{'score': 0.10731107741594315,\n",
              "  'token': 4827,\n",
              "  'token_str': 'fashion',\n",
              "  'sequence': \"hello i'm a fashion model.\"},\n",
              " {'score': 0.08774460107088089,\n",
              "  'token': 2535,\n",
              "  'token_str': 'role',\n",
              "  'sequence': \"hello i'm a role model.\"},\n",
              " {'score': 0.05338377505540848,\n",
              "  'token': 2047,\n",
              "  'token_str': 'new',\n",
              "  'sequence': \"hello i'm a new model.\"},\n",
              " {'score': 0.04667223244905472,\n",
              "  'token': 3565,\n",
              "  'token_str': 'super',\n",
              "  'sequence': \"hello i'm a super model.\"},\n",
              " {'score': 0.027095822617411613,\n",
              "  'token': 2986,\n",
              "  'token_str': 'fine',\n",
              "  'sequence': \"hello i'm a fine model.\"}]"
            ]
          },
          "execution_count": 5,
          "metadata": {},
          "output_type": "execute_result"
        }
      ],
      "source": [
        "unmasker = pipeline('fill-mask', model='bert-base-uncased')\n",
        "unmasker(\"Hello I'm a [MASK] model.\")"
      ]
    },
    {
      "cell_type": "markdown",
      "metadata": {
        "id": "7U0O8Eu8VHaY"
      },
      "source": [
        "### Inner structure of BERT"
      ]
    },
    {
      "cell_type": "code",
      "execution_count": 6,
      "metadata": {
        "id": "b4BEywfcNzkQ"
      },
      "outputs": [
        {
          "name": "stdout",
          "output_type": "stream",
          "text": [
            "[BertModel]\n",
            "(embeddings): BertEmbeddings\n",
            "(encoder): BertEncoder\n",
            "(pooler): BertPooler\n"
          ]
        }
      ],
      "source": [
        "recursive_print(BERTmodel,deepest=1)"
      ]
    },
    {
      "cell_type": "code",
      "execution_count": 7,
      "metadata": {
        "id": "TPBgblJVOQYA"
      },
      "outputs": [
        {
          "name": "stdout",
          "output_type": "stream",
          "text": [
            "[BertEncoder]\n",
            "(layer): ModuleList len=12\n",
            "  (0): BertLayer\n",
            "  (1): BertLayer\n",
            "  (2): BertLayer\n",
            "  (3): BertLayer\n",
            "  (4): BertLayer\n",
            "  (5): BertLayer\n",
            "  (6): BertLayer\n",
            "  (7): BertLayer\n",
            "  (8): BertLayer\n",
            "  (9): BertLayer\n",
            "  (10): BertLayer\n",
            "  (11): BertLayer\n"
          ]
        }
      ],
      "source": [
        "recursive_print(BERTmodel.encoder,deepest=2)"
      ]
    },
    {
      "cell_type": "code",
      "execution_count": 8,
      "metadata": {
        "id": "hSbcC8x_OUbY"
      },
      "outputs": [
        {
          "name": "stdout",
          "output_type": "stream",
          "text": [
            "[BertLayer]\n",
            "(attention): BertAttention\n",
            "  (self): BertSelfAttention\n",
            "  (output): BertSelfOutput\n",
            "(intermediate): BertIntermediate\n",
            "  (dense): Linear(in_features=768, out_features=3072, bias=True)\n",
            "  (intermediate_act_fn): GELUActivation()\n",
            "(output): BertOutput\n",
            "  (dense): Linear(in_features=3072, out_features=768, bias=True)\n",
            "  (LayerNorm): LayerNorm((768,), eps=1e-12, elementwise_affine=True)\n",
            "  (dropout): Dropout(p=0.1, inplace=False)\n"
          ]
        }
      ],
      "source": [
        "recursive_print(BERTmodel.encoder.layer[0],deepest=2)"
      ]
    },
    {
      "cell_type": "code",
      "execution_count": 9,
      "metadata": {
        "id": "gv3oCVPcOago"
      },
      "outputs": [
        {
          "name": "stdout",
          "output_type": "stream",
          "text": [
            "[BertAttention]\n",
            "(self): BertSelfAttention\n",
            "  (query): Linear(in_features=768, out_features=768, bias=True)\n",
            "  (key): Linear(in_features=768, out_features=768, bias=True)\n",
            "  (value): Linear(in_features=768, out_features=768, bias=True)\n",
            "  (dropout): Dropout(p=0.1, inplace=False)\n",
            "(output): BertSelfOutput\n",
            "  (dense): Linear(in_features=768, out_features=768, bias=True)\n",
            "  (LayerNorm): LayerNorm((768,), eps=1e-12, elementwise_affine=True)\n",
            "  (dropout): Dropout(p=0.1, inplace=False)\n"
          ]
        }
      ],
      "source": [
        "recursive_print(BERTmodel.encoder.layer[0].attention,deepest=2)"
      ]
    },
    {
      "cell_type": "markdown",
      "metadata": {
        "id": "kb8DCNByNoKK"
      },
      "source": [
        "### GPT2"
      ]
    },
    {
      "cell_type": "code",
      "execution_count": 10,
      "metadata": {
        "id": "SjP1TOErh1_J"
      },
      "outputs": [],
      "source": [
        "GPTtokenizer = GPT2Tokenizer.from_pretrained('gpt2')\n",
        "GPTmodel  = GPT2Model.from_pretrained('gpt2')\n",
        "GPTconfig = GPT2Config.from_pretrained('gpt2')"
      ]
    },
    {
      "cell_type": "code",
      "execution_count": 11,
      "metadata": {
        "colab": {
          "base_uri": "https://localhost:8080/"
        },
        "id": "tV5E8ui1j_yx",
        "outputId": "fb0d212a-7483-4a56-b95b-ac9d86182517"
      },
      "outputs": [
        {
          "data": {
            "text/plain": [
              "GPT2Config {\n",
              "  \"activation_function\": \"gelu_new\",\n",
              "  \"architectures\": [\n",
              "    \"GPT2LMHeadModel\"\n",
              "  ],\n",
              "  \"attn_pdrop\": 0.1,\n",
              "  \"bos_token_id\": 50256,\n",
              "  \"embd_pdrop\": 0.1,\n",
              "  \"eos_token_id\": 50256,\n",
              "  \"initializer_range\": 0.02,\n",
              "  \"layer_norm_epsilon\": 1e-05,\n",
              "  \"model_type\": \"gpt2\",\n",
              "  \"n_ctx\": 1024,\n",
              "  \"n_embd\": 768,\n",
              "  \"n_head\": 12,\n",
              "  \"n_inner\": null,\n",
              "  \"n_layer\": 12,\n",
              "  \"n_positions\": 1024,\n",
              "  \"reorder_and_upcast_attn\": false,\n",
              "  \"resid_pdrop\": 0.1,\n",
              "  \"scale_attn_by_inverse_layer_idx\": false,\n",
              "  \"scale_attn_weights\": true,\n",
              "  \"summary_activation\": null,\n",
              "  \"summary_first_dropout\": 0.1,\n",
              "  \"summary_proj_to_labels\": true,\n",
              "  \"summary_type\": \"cls_index\",\n",
              "  \"summary_use_proj\": true,\n",
              "  \"task_specific_params\": {\n",
              "    \"text-generation\": {\n",
              "      \"do_sample\": true,\n",
              "      \"max_length\": 50\n",
              "    }\n",
              "  },\n",
              "  \"transformers_version\": \"4.39.3\",\n",
              "  \"use_cache\": true,\n",
              "  \"vocab_size\": 50257\n",
              "}"
            ]
          },
          "execution_count": 11,
          "metadata": {},
          "output_type": "execute_result"
        }
      ],
      "source": [
        "GPTconfig"
      ]
    },
    {
      "cell_type": "markdown",
      "metadata": {
        "id": "0F6T5YeKUlyZ"
      },
      "source": [
        "### Let GPT say something"
      ]
    },
    {
      "cell_type": "code",
      "execution_count": 12,
      "metadata": {
        "id": "AtrklIIoTg_R"
      },
      "outputs": [
        {
          "data": {
            "application/vnd.jupyter.widget-view+json": {
              "model_id": "6a88f830342e4cd894bbaf4f7e3642d4",
              "version_major": 2,
              "version_minor": 0
            },
            "text/plain": [
              "generation_config.json:   0%|          | 0.00/124 [00:00<?, ?B/s]"
            ]
          },
          "metadata": {},
          "output_type": "display_data"
        }
      ],
      "source": [
        "GPTLMmodel = GPT2LMHeadModel.from_pretrained('gpt2')"
      ]
    },
    {
      "cell_type": "code",
      "execution_count": 13,
      "metadata": {
        "id": "mP1uqpjEUACy"
      },
      "outputs": [
        {
          "name": "stderr",
          "output_type": "stream",
          "text": [
            "The attention mask and the pad token id were not set. As a consequence, you may observe unexpected behavior. Please pass your input's `attention_mask` to obtain reliable results.\n",
            "Setting `pad_token_id` to `eos_token_id`:50256 for open-end generation.\n"
          ]
        },
        {
          "name": "stdout",
          "output_type": "stream",
          "text": [
            "The meaning of life is a matter of faith, but it is also a matter of love. God is a good person, but not a good God. If\n",
            "The meaning of life as we know it is an eternal struggle between the two. We are both members of the same family. We both live in a world where\n",
            "The meaning of life in this world is so far removed from the human condition that it is hard to know what to make of it. The question is: How\n",
            "The meaning of life is life-giving and life is life. That is why God gives us life. And this is why God gives us life.\n",
            "\n",
            "\n",
            "The meaning of life is not simply the act of maintaining it, but the act of preserving it. It is the act of keeping it, of maintaining it,\n"
          ]
        }
      ],
      "source": [
        "input_ids = GPTtokenizer.encode(\"The meaning of life\")\n",
        "out_ids = GPTLMmodel.generate(torch.tensor(input_ids).long()[None,:],\n",
        "              max_length=32, do_sample=True, top_k=0, top_p=0.9, temperature=0.7,\n",
        "              num_return_sequences=5,)\n",
        "for seq in out_ids:\n",
        "  print(GPTtokenizer.decode(seq))"
      ]
    },
    {
      "cell_type": "markdown",
      "metadata": {
        "id": "bqbaXyKqUfyJ"
      },
      "source": [
        "### Inner structure of GPTmodel"
      ]
    },
    {
      "cell_type": "code",
      "execution_count": 14,
      "metadata": {
        "id": "YhWwubtXOyRp"
      },
      "outputs": [
        {
          "name": "stdout",
          "output_type": "stream",
          "text": [
            "[GPT2Model]\n",
            "(wte): Embedding(50257, 768)\n",
            "(wpe): Embedding(1024, 768)\n",
            "(drop): Dropout(p=0.1, inplace=False)\n",
            "(h): ModuleList len=12\n",
            "(ln_f): LayerNorm((768,), eps=1e-05, elementwise_affine=True)\n"
          ]
        }
      ],
      "source": [
        "recursive_print(GPTmodel,deepest=1)"
      ]
    },
    {
      "cell_type": "code",
      "execution_count": 15,
      "metadata": {
        "id": "t79MsKGJO0w4"
      },
      "outputs": [
        {
          "name": "stdout",
          "output_type": "stream",
          "text": [
            "[ModuleList]\n",
            "(0): GPT2Block\n",
            "(1): GPT2Block\n",
            "(2): GPT2Block\n",
            "(3): GPT2Block\n",
            "(4): GPT2Block\n",
            "(5): GPT2Block\n",
            "(6): GPT2Block\n",
            "(7): GPT2Block\n",
            "(8): GPT2Block\n",
            "(9): GPT2Block\n",
            "(10): GPT2Block\n",
            "(11): GPT2Block\n"
          ]
        }
      ],
      "source": [
        "recursive_print(GPTmodel.h,deepest=1)"
      ]
    },
    {
      "cell_type": "code",
      "execution_count": 16,
      "metadata": {
        "id": "nEgFEVV5O5IA"
      },
      "outputs": [
        {
          "name": "stdout",
          "output_type": "stream",
          "text": [
            "[GPT2Block]\n",
            "(ln_1): LayerNorm((768,), eps=1e-05, elementwise_affine=True)\n",
            "(attn): GPT2Attention\n",
            "(ln_2): LayerNorm((768,), eps=1e-05, elementwise_affine=True)\n",
            "(mlp): GPT2MLP\n"
          ]
        }
      ],
      "source": [
        "recursive_print(GPTmodel.h[0],deepest=1)"
      ]
    },
    {
      "cell_type": "code",
      "execution_count": 17,
      "metadata": {
        "id": "I0-aY8vhO7l4"
      },
      "outputs": [
        {
          "name": "stdout",
          "output_type": "stream",
          "text": [
            "[GPT2Attention]\n",
            "(c_attn): Conv1D()\n",
            "(c_proj): Conv1D()\n",
            "(attn_dropout): Dropout(p=0.1, inplace=False)\n",
            "(resid_dropout): Dropout(p=0.1, inplace=False)\n"
          ]
        }
      ],
      "source": [
        "recursive_print(GPTmodel.h[0].attn,deepest=2)"
      ]
    },
    {
      "cell_type": "code",
      "execution_count": 18,
      "metadata": {
        "id": "iPcIcXjuO-LY"
      },
      "outputs": [
        {
          "name": "stdout",
          "output_type": "stream",
          "text": [
            "[GPT2MLP]\n",
            "(c_fc): Conv1D()\n",
            "(c_proj): Conv1D()\n",
            "(act): NewGELUActivation()\n",
            "(dropout): Dropout(p=0.1, inplace=False)\n"
          ]
        }
      ],
      "source": [
        "recursive_print(GPTmodel.h[0].mlp,deepest=2)"
      ]
    },
    {
      "cell_type": "markdown",
      "metadata": {
        "id": "PArXwg9GJIqJ"
      },
      "source": [
        "## Train a transformer to \"speak your own language\"!"
      ]
    },
    {
      "cell_type": "markdown",
      "metadata": {
        "id": "o4St1-R-JOvB"
      },
      "source": [
        "So let's design an artificial language with simple grammar and let the transformer learn to \"speak\" it. More technically, this means, we hand-craft a probabilistic model of language (sequence) and then let the transformer learn it."
      ]
    },
    {
      "cell_type": "markdown",
      "metadata": {
        "id": "6B3jXbbn8OQh"
      },
      "source": [
        "### Probabilistic Generative Grammar"
      ]
    },
    {
      "cell_type": "markdown",
      "metadata": {
        "id": "UoeXKEeg8u5J"
      },
      "source": [
        "First let's make our *simplified English grammar*.\n",
        "\n",
        "By building a set of probabilistic generative grammar, or more technically, [Probabilistic context-free grammar, (PCFG)](https://en.wikipedia.org/wiki/Probabilistic_context-free_grammar)\n",
        "\n",
        "This language has these part of speeches\n",
        "* Noun\n",
        "* Intransitive verb\n",
        "* Transitive verb\n",
        "* Article\n",
        "* Adjective\n",
        "* Conjunction \"that\"\n",
        "\n"
      ]
    },
    {
      "cell_type": "code",
      "execution_count": 19,
      "metadata": {
        "id": "y8yLtchyJPTh"
      },
      "outputs": [],
      "source": [
        "#%% list of words and their parts of speech\n",
        "# nouns\n",
        "noun_list = [\"cat\", \"dog\", \"fox\", \"bird\", \"horse\", \"sheep\", \"cow\", \"bear\", \"zebra\", \"giraffe\"]\n",
        "# intransitive verb\n",
        "intrans_verb_list = [\"ran\", \"jumped\", \"swam\", \"flew\", \"walked\", \"slept\", \"sat\", \"stood\", \"danced\"]\n",
        "# transitive verbs that took an object or a clause\n",
        "trans_verbs_list = [\"saw\", \"heard\", \"smelled\", ]\n",
        "# adjectives\n",
        "adj_list = [\"big\", \"small\", \"tall\", \"short\", \"long\", \"wide\", \"fat\", \"thin\", \"round\", \"square\", \"smart\", \"pretty\"]\n",
        "# adverbs\n",
        "article_list = [\"the\", \"a\"]\n",
        "# conjunctive that introduces a clause.\n",
        "conjunction_list = [\"that\"]"
      ]
    },
    {
      "cell_type": "markdown",
      "metadata": {
        "id": "g-O7PkDO9Kmo"
      },
      "source": [
        "This language also has the following grammar, i.e. a set of substitution rules. For example,\n",
        "\n",
        "$$S\\to NP,VP$$\n",
        "means a sentence can be substituted by a Noun phrase (NP) + a Verb phrase (VP).\n",
        "$$VP\\to TV, Conj, NP, VP$$\n",
        "means a verb phrase can be substituted by a transitive verb (TV) + a conjunction (Conj) + a Noun phrase (NP) + a Verb phrase (VP).\n",
        "\n",
        "The full set of rules are following, feel free to modify it!"
      ]
    },
    {
      "cell_type": "code",
      "execution_count": 20,
      "metadata": {
        "id": "T591chDh9Xhw"
      },
      "outputs": [],
      "source": [
        "# Rules for mapping part of speech to words\n",
        "word_map = {\n",
        "    \"N\": noun_list,\n",
        "    \"IV\": intrans_verb_list,\n",
        "    \"TV\": trans_verbs_list,\n",
        "    \"Adj\": adj_list,\n",
        "    \"Article\": article_list,\n",
        "    \"Conj\": conjunction_list,\n",
        "}\n",
        "# Grammar for generating sentences\n",
        "rules = {\n",
        "    # sentence\n",
        "    \"S\": [[\"NP\", \"VP\"]],\n",
        "    # noun phrase\n",
        "    \"NP\": [[\"Article\", \"N\"],\n",
        "           [\"Article\", \"Adj\", \"N\"],\n",
        "           [\"Article\", \"Adj\", \"Adj\", \"N\"],\n",
        "           [\"Article\", \"N\", \"Conj\", \"IV\"]],\n",
        "    # verb phrase\n",
        "    \"VP\": [[\"IV\"],\n",
        "           [\"TV\", \"NP\"],\n",
        "           [\"TV\", \"Conj\", \"NP\", \"VP\"], ],\n",
        "}"
      ]
    },
    {
      "cell_type": "markdown",
      "metadata": {
        "id": "UgB8xXYb_FzY"
      },
      "source": [
        "### Sample from probabilistic generative grammar"
      ]
    },
    {
      "cell_type": "markdown",
      "metadata": {
        "id": "FqcnR1tO-LUp"
      },
      "source": [
        "Now, see what these rules can generate using **probabilistic generative grammar**, i.e. recursively applying the substitution rules to an initial token $S$ to elaborate it.\n"
      ]
    },
    {
      "cell_type": "code",
      "execution_count": 21,
      "metadata": {
        "colab": {
          "base_uri": "https://localhost:8080/"
        },
        "id": "ESX43r02-eGx",
        "outputId": "ab72c614-8376-4c94-8a65-c758a819842f"
      },
      "outputs": [
        {
          "name": "stdout",
          "output_type": "stream",
          "text": [
            "['NP', 'VP']\n",
            "['Article', 'N', 'Conj', 'IV', 'TV', 'Conj', 'NP', 'VP']\n",
            "['Article', 'N', 'Conj', 'IV', 'TV', 'Conj', 'Article', 'N', 'TV', 'NP']\n",
            "['Article', 'N', 'Conj', 'IV', 'TV', 'Conj', 'Article', 'N', 'TV', 'Article', 'N', 'Conj', 'IV']\n",
            "['Article', 'N', 'Conj', 'IV', 'TV', 'Conj', 'Article', 'N', 'TV', 'Article', 'N', 'Conj', 'IV']\n",
            "a cat that slept smelled that the zebra smelled the giraffe that ran\n"
          ]
        }
      ],
      "source": [
        "import random\n",
        "def generate_sentences(rules, word_map, max_depth=3, show=False):\n",
        "    \"\"\" A sentence generator with probabilistic generative grammar. \"\"\"\n",
        "    initial_token = \"S\"\n",
        "    sentence = [initial_token]\n",
        "    depth = 0\n",
        "    while True:\n",
        "        next_sentence = []\n",
        "        fully_expanded = True\n",
        "        for token in sentence:\n",
        "            if token in rules:\n",
        "                # expand the phrase\n",
        "                if depth < max_depth:\n",
        "                    next_sentence.extend(random.choice(rules[token]))\n",
        "                else:\n",
        "                    # to limit complexity, we stop adding clauses\n",
        "                    next_sentence.extend(random.choice(rules[token][:-1]))  # don't expand into the last conjunctive rule\n",
        "\n",
        "                fully_expanded = False\n",
        "            else:\n",
        "                next_sentence.append(token)\n",
        "\n",
        "        sentence = next_sentence\n",
        "        depth += 1\n",
        "        if show:\n",
        "            print(sentence)\n",
        "        if fully_expanded:\n",
        "            break\n",
        "    # turn tokens into words\n",
        "    verbal_sentence = []\n",
        "    for token in sentence:\n",
        "        word = random.choice(word_map[token])\n",
        "        verbal_sentence.append(word)\n",
        "    sent_str = \" \".join(verbal_sentence)\n",
        "    return verbal_sentence, sent_str\n",
        "\n",
        "\n",
        "word_seq, sentence_str = generate_sentences(rules, word_map, show=True, max_depth=5)\n",
        "print(sentence_str)"
      ]
    },
    {
      "cell_type": "markdown",
      "metadata": {
        "id": "JcTCYXJB-rlg"
      },
      "source": [
        "Surely you can generate all kinds of nonsensical sentences which are grammatically correct!\n",
        "> a small big cow smelled the thin fat zebra\n",
        "\n",
        "But let's ignore it for a moment and let a transformer learn to \"speak\" this simply English."
      ]
    },
    {
      "cell_type": "markdown",
      "metadata": {
        "id": "Zb_liucABJnA"
      },
      "source": [
        "### Tokenization: map words to numbers"
      ]
    },
    {
      "cell_type": "markdown",
      "metadata": {
        "id": "rMyAT6ekBN8Y"
      },
      "source": [
        "For a computational system to understand language, first, we need to break the sentence into words and turn the words into something they know , indices. This is known as tokenization and encoding."
      ]
    },
    {
      "cell_type": "code",
      "execution_count": 22,
      "metadata": {
        "id": "zdEB1j1MBe9a"
      },
      "outputs": [],
      "source": [
        "full_word_set = set(sum([words for words in word_map.values()], []))\n",
        "dictionary = {word: i for i, word in enumerate(full_word_set)}  # Mapping words to indices\n",
        "dictionary[\"[End]\"] = len(dictionary)\n",
        "EOS_ID = dictionary[\"[End]\"]  # end of sentence token\n",
        "PAD_ID = len(dictionary)  # padding token\n",
        "dictionary[\"\"] = PAD_ID\n",
        "\n",
        "inverse_dictionary = {i: word for word, i in dictionary.items()}   # Mapping indices to words"
      ]
    },
    {
      "cell_type": "code",
      "execution_count": 23,
      "metadata": {
        "id": "NLawdrkoBnpo"
      },
      "outputs": [],
      "source": [
        "def tokenize_sentence(sentence):\n",
        "    \"\"\" Tokenize a sentence into a list of words. \"\"\"\n",
        "    word_seq = sentence.split(\" \")\n",
        "    return word_seq\n",
        "\n",
        "\n",
        "def encode_sentence(sentence):\n",
        "    \"\"\" Encode a sentence into a list of indices. \"\"\"\n",
        "    word_seq = tokenize_sentence(sentence)\n",
        "    inds = encode2indices(word_seq)\n",
        "    return inds\n",
        "\n",
        "\n",
        "def encode2indices(word_seq):\n",
        "    \"\"\" Encode a list of words into a list of indices. \"\"\"\n",
        "    inds = [dictionary[word] for word in word_seq]\n",
        "    return inds\n",
        "\n",
        "\n",
        "def decode2words(indices):\n",
        "    \"\"\" Decode a list of indices into a list of words. \"\"\"\n",
        "    words = [inverse_dictionary[ind] for ind in indices]\n",
        "    return words\n",
        "\n",
        "\n",
        "def decode2sentence(indices):\n",
        "    \"\"\" Decode a list of indices into a sentence. \"\"\"\n",
        "    words = decode2words(indices)\n",
        "    sentence = \" \".join(words)\n",
        "    return sentence"
      ]
    },
    {
      "cell_type": "code",
      "execution_count": 24,
      "metadata": {
        "colab": {
          "base_uri": "https://localhost:8080/"
        },
        "id": "OOONetGNBsUg",
        "outputId": "9fd25b6c-3350-4137-9846-98db06741c05"
      },
      "outputs": [
        {
          "data": {
            "text/plain": [
              "[2, 3, 1, 26, 2, 10, 30, 19]"
            ]
          },
          "execution_count": 24,
          "metadata": {},
          "output_type": "execute_result"
        }
      ],
      "source": [
        "encode_sentence(\"a smart fox saw a cat that ran\")"
      ]
    },
    {
      "cell_type": "markdown",
      "metadata": {
        "id": "xv1r6svjCNbw"
      },
      "source": [
        "### Build Sequence Dataset: `pad_seq` etc."
      ]
    },
    {
      "cell_type": "markdown",
      "metadata": {
        "id": "wCEr77XUCXPA"
      },
      "source": [
        "Since we don't have a fixed dataset, but a generative model of language, we can simply generate new sentences on the fly and fed it to our transformer. (this is usually not the case)"
      ]
    },
    {
      "cell_type": "code",
      "execution_count": 25,
      "metadata": {
        "id": "QjreQ9A1CWuQ"
      },
      "outputs": [],
      "source": [
        "import torch\n",
        "from torch.nn.utils.rnn import pad_sequence\n",
        "\n",
        "def batch_sampler(batch_size=32, max_len=128):\n",
        "    batch = []\n",
        "    for i in range(batch_size):\n",
        "        word_seq, _ = generate_sentences(rules, word_map)\n",
        "        word_seq.append(\"[End]\")  # add this marker to say, the sentence has ended.\n",
        "        inds = encode2indices(word_seq)\n",
        "        batch.append(torch.tensor(inds, dtype=torch.long))\n",
        "    # pad the batch to be equal length, same len as the longest senetence.\n",
        "    padded_batch = pad_sequence(batch, batch_first=True, padding_value=PAD_ID)\n",
        "    # chuck to the max_len\n",
        "    padded_batch = padded_batch[:, :max_len]\n",
        "    return padded_batch"
      ]
    },
    {
      "cell_type": "code",
      "execution_count": 26,
      "metadata": {
        "id": "UdutjfrLC6YZ"
      },
      "outputs": [
        {
          "name": "stdout",
          "output_type": "stream",
          "text": [
            "torch.Size([32, 20])\n",
            "the cat that sat heard that the cat that sat smelled that the bird saw a sheep [End]  \n",
            "a dog swam [End]                \n",
            "a bird that swam heard that a giraffe smelled a fat horse [End]       \n",
            "a short smart dog saw that the sheep that stood saw that a bear sat [End]    \n",
            "the round cat swam [End]               \n",
            "the thin cow smelled a zebra that slept [End]           \n",
            "a bird heard that a cow saw a smart thin zebra [End]        \n",
            "a dog jumped [End]                \n",
            "a horse smelled that a cat danced [End]            \n",
            "the small dog saw that a wide bear smelled that the long sheep slept [End]     \n",
            "a thin thin cat slept [End]              \n",
            "a thin zebra saw the wide zebra [End]            \n",
            "the dog saw a big pretty cat [End]            \n",
            "the dog sat [End]                \n",
            "the small smart bear danced [End]              \n",
            "the horse that flew sat [End]              \n",
            "the sheep that stood smelled the sheep that jumped [End]          \n",
            "a long wide bird saw a zebra [End]            \n",
            "a zebra smelled that a big sheep walked [End]           \n",
            "a tall round fox saw the zebra [End]            \n",
            "a thin long bear walked [End]              \n",
            "the fox slept [End]                \n",
            "the fat short cat sat [End]              \n",
            "the big wide cat stood [End]              \n",
            "a long cow smelled that the horse that slept smelled the tall fat cat [End]     \n",
            "the long smart sheep smelled that a small cow heard the fat pretty bear [End]     \n",
            "the cat jumped [End]                \n",
            "a bird saw the zebra [End]              \n",
            "the wide small zebra jumped [End]              \n",
            "a fox smelled that the fat sheep smelled that the square fat fox walked [End]     \n",
            "the giraffe that walked saw that a dog that sat smelled that the wide tall giraffe smelled a cow [End]\n",
            "the horse smelled that a bear saw a square smart horse [End]        \n"
          ]
        }
      ],
      "source": [
        "batch = batch_sampler()\n",
        "print(batch.shape)\n",
        "for j in range(batch.shape[0]):\n",
        "    print(decode2sentence(batch[j].tolist()))"
      ]
    },
    {
      "cell_type": "markdown",
      "metadata": {
        "id": "1mY8pNhGAEa4"
      },
      "source": [
        "### Train a transformer on this language"
      ]
    },
    {
      "cell_type": "code",
      "execution_count": 27,
      "metadata": {
        "id": "0ErkXcuHAHQp"
      },
      "outputs": [],
      "source": [
        "import torch\n",
        "from torch.optim import AdamW\n",
        "from transformers import GPT2Model, GPT2Tokenizer, GPT2LMHeadModel, GPT2Config"
      ]
    },
    {
      "cell_type": "code",
      "execution_count": 28,
      "metadata": {
        "id": "EtgQC-vgAYcw"
      },
      "outputs": [],
      "source": [
        "miniGPTconfig = GPT2Config(vocab_size=len(dictionary), n_positions=128, n_ctx=128,\n",
        "                           n_embd=64, n_layer=3, n_head=8,\n",
        "                           eos_token_id=EOS_ID, pad_token_id=PAD_ID)\n",
        "miniGPT = GPT2LMHeadModel(miniGPTconfig, )"
      ]
    },
    {
      "cell_type": "markdown",
      "metadata": {
        "id": "Libcy4nWCChr"
      },
      "source": [
        "Finally, let's run our training loops!"
      ]
    },
    {
      "cell_type": "code",
      "execution_count": 29,
      "metadata": {
        "colab": {
          "base_uri": "https://localhost:8080/"
        },
        "id": "WtyKfvjzB9IQ",
        "outputId": "b5d0eab5-09ad-4d6a-8f93-66c6fca2bd5a"
      },
      "outputs": [
        {
          "name": "stderr",
          "output_type": "stream",
          "text": [
            "We strongly recommend passing in an `attention_mask` since your input_ids may be padded. See https://huggingface.co/docs/transformers/troubleshooting#incorrect-output-when-padding-tokens-arent-masked.\n"
          ]
        },
        {
          "name": "stdout",
          "output_type": "stream",
          "text": [
            "epoch 0, batch 0, loss 3.2727038860321045\n",
            "epoch 0, batch 1, loss 3.013523817062378\n",
            "epoch 0, batch 2, loss 2.9508156776428223\n",
            "epoch 0, batch 3, loss 2.864698648452759\n",
            "epoch 0, batch 4, loss 2.8440003395080566\n",
            "epoch 0, batch 5, loss 2.792489528656006\n",
            "epoch 0, batch 6, loss 2.7530574798583984\n",
            "epoch 0, batch 7, loss 2.712508201599121\n",
            "epoch 0, batch 8, loss 2.7014684677124023\n",
            "epoch 0, batch 9, loss 2.6464850902557373\n",
            "epoch 0, batch 10, loss 2.6130788326263428\n",
            "epoch 0, batch 11, loss 2.6004862785339355\n",
            "epoch 0, batch 12, loss 2.5547451972961426\n",
            "epoch 0, batch 13, loss 2.492750883102417\n",
            "epoch 0, batch 14, loss 2.4694128036499023\n",
            "epoch 0, batch 15, loss 2.4235713481903076\n",
            "epoch 0, batch 16, loss 2.3857686519622803\n",
            "epoch 0, batch 17, loss 2.4006121158599854\n",
            "epoch 0, batch 18, loss 2.3581535816192627\n",
            "epoch 0, batch 19, loss 2.2853527069091797\n",
            "epoch 0, batch 20, loss 2.2719969749450684\n",
            "epoch 0, batch 21, loss 2.2839810848236084\n",
            "epoch 0, batch 22, loss 2.259561061859131\n",
            "epoch 0, batch 23, loss 2.1954007148742676\n",
            "epoch 0, batch 24, loss 2.1371004581451416\n",
            "epoch 0, batch 25, loss 2.0955264568328857\n",
            "epoch 0, batch 26, loss 2.1326050758361816\n",
            "epoch 0, batch 27, loss 2.0571255683898926\n",
            "epoch 0, batch 28, loss 2.0366766452789307\n",
            "epoch 0, batch 29, loss 2.017181396484375\n",
            "epoch 0, batch 30, loss 1.9762787818908691\n",
            "epoch 0, batch 31, loss 1.9193634986877441\n",
            "epoch 0, batch 32, loss 1.9848976135253906\n",
            "epoch 0, batch 33, loss 1.9038301706314087\n",
            "epoch 0, batch 34, loss 1.872957468032837\n",
            "epoch 0, batch 35, loss 1.8023127317428589\n",
            "epoch 0, batch 36, loss 1.8214008808135986\n",
            "epoch 0, batch 37, loss 1.7515637874603271\n",
            "epoch 0, batch 38, loss 1.7599962949752808\n",
            "epoch 0, batch 39, loss 1.7228972911834717\n",
            "epoch 0, batch 40, loss 1.7311118841171265\n",
            "epoch 0, batch 41, loss 1.6666715145111084\n",
            "epoch 0, batch 42, loss 1.6528854370117188\n",
            "epoch 0, batch 43, loss 1.6836789846420288\n",
            "epoch 0, batch 44, loss 1.6230767965316772\n",
            "epoch 0, batch 45, loss 1.6041755676269531\n",
            "epoch 0, batch 46, loss 1.55047607421875\n",
            "epoch 0, batch 47, loss 1.5431965589523315\n",
            "epoch 0, batch 48, loss 1.512395977973938\n",
            "epoch 0, batch 49, loss 1.4878454208374023\n",
            "epoch 1, batch 0, loss 1.484283685684204\n",
            "epoch 1, batch 1, loss 1.5147674083709717\n",
            "epoch 1, batch 2, loss 1.4420981407165527\n",
            "epoch 1, batch 3, loss 1.4802629947662354\n",
            "epoch 1, batch 4, loss 1.4735491275787354\n",
            "epoch 1, batch 5, loss 1.3835302591323853\n",
            "epoch 1, batch 6, loss 1.4120527505874634\n",
            "epoch 1, batch 7, loss 1.3814001083374023\n",
            "epoch 1, batch 8, loss 1.420322299003601\n",
            "epoch 1, batch 9, loss 1.3910599946975708\n",
            "epoch 1, batch 10, loss 1.3818882703781128\n",
            "epoch 1, batch 11, loss 1.2963616847991943\n",
            "epoch 1, batch 12, loss 1.2820688486099243\n",
            "epoch 1, batch 13, loss 1.3216276168823242\n",
            "epoch 1, batch 14, loss 1.3533740043640137\n",
            "epoch 1, batch 15, loss 1.3162024021148682\n",
            "epoch 1, batch 16, loss 1.334485650062561\n",
            "epoch 1, batch 17, loss 1.2350927591323853\n",
            "epoch 1, batch 18, loss 1.2650562524795532\n",
            "epoch 1, batch 19, loss 1.1813908815383911\n",
            "epoch 1, batch 20, loss 1.2223633527755737\n",
            "epoch 1, batch 21, loss 1.2036733627319336\n",
            "epoch 1, batch 22, loss 1.2159011363983154\n",
            "epoch 1, batch 23, loss 1.1888813972473145\n",
            "epoch 1, batch 24, loss 1.1954584121704102\n",
            "epoch 1, batch 25, loss 1.202561616897583\n",
            "epoch 1, batch 26, loss 1.1740601062774658\n",
            "epoch 1, batch 27, loss 1.1533219814300537\n",
            "epoch 1, batch 28, loss 1.1416406631469727\n",
            "epoch 1, batch 29, loss 1.1652735471725464\n",
            "epoch 1, batch 30, loss 1.1516095399856567\n",
            "epoch 1, batch 31, loss 1.1084500551223755\n",
            "epoch 1, batch 32, loss 1.1114088296890259\n",
            "epoch 1, batch 33, loss 1.2187308073043823\n",
            "epoch 1, batch 34, loss 1.1055666208267212\n",
            "epoch 1, batch 35, loss 1.131159782409668\n",
            "epoch 1, batch 36, loss 1.1152591705322266\n",
            "epoch 1, batch 37, loss 1.1260128021240234\n",
            "epoch 1, batch 38, loss 1.0647740364074707\n",
            "epoch 1, batch 39, loss 1.110844373703003\n",
            "epoch 1, batch 40, loss 1.0777372121810913\n",
            "epoch 1, batch 41, loss 1.116552710533142\n",
            "epoch 1, batch 42, loss 1.081486701965332\n",
            "epoch 1, batch 43, loss 1.0923397541046143\n",
            "epoch 1, batch 44, loss 1.1311514377593994\n",
            "epoch 1, batch 45, loss 1.0535675287246704\n",
            "epoch 1, batch 46, loss 1.033979892730713\n",
            "epoch 1, batch 47, loss 1.0270079374313354\n",
            "epoch 1, batch 48, loss 1.0034534931182861\n",
            "epoch 1, batch 49, loss 1.1141964197158813\n",
            "epoch 2, batch 0, loss 1.0811495780944824\n",
            "epoch 2, batch 1, loss 1.0718233585357666\n",
            "epoch 2, batch 2, loss 1.0568015575408936\n",
            "epoch 2, batch 3, loss 1.054729700088501\n",
            "epoch 2, batch 4, loss 1.0524795055389404\n",
            "epoch 2, batch 5, loss 1.028294563293457\n",
            "epoch 2, batch 6, loss 1.0320098400115967\n",
            "epoch 2, batch 7, loss 1.0048317909240723\n",
            "epoch 2, batch 8, loss 0.9804179072380066\n",
            "epoch 2, batch 9, loss 0.9944889545440674\n",
            "epoch 2, batch 10, loss 0.9846476316452026\n",
            "epoch 2, batch 11, loss 1.0662739276885986\n",
            "epoch 2, batch 12, loss 0.9852057695388794\n",
            "epoch 2, batch 13, loss 0.9804151654243469\n",
            "epoch 2, batch 14, loss 0.9822817444801331\n",
            "epoch 2, batch 15, loss 0.9655719995498657\n",
            "epoch 2, batch 16, loss 0.9616129994392395\n",
            "epoch 2, batch 17, loss 0.9799185395240784\n",
            "epoch 2, batch 18, loss 0.9711923003196716\n",
            "epoch 2, batch 19, loss 0.9525609016418457\n",
            "epoch 2, batch 20, loss 0.9145498871803284\n",
            "epoch 2, batch 21, loss 0.9677637219429016\n",
            "epoch 2, batch 22, loss 0.9333570599555969\n",
            "epoch 2, batch 23, loss 0.9609147310256958\n",
            "epoch 2, batch 24, loss 0.9711549878120422\n",
            "epoch 2, batch 25, loss 0.949081301689148\n",
            "epoch 2, batch 26, loss 0.9375740885734558\n",
            "epoch 2, batch 27, loss 0.9734074473381042\n",
            "epoch 2, batch 28, loss 0.9486612677574158\n",
            "epoch 2, batch 29, loss 0.9926449060440063\n",
            "epoch 2, batch 30, loss 0.9132639765739441\n",
            "epoch 2, batch 31, loss 0.9556533098220825\n",
            "epoch 2, batch 32, loss 0.9298215508460999\n",
            "epoch 2, batch 33, loss 0.9498323202133179\n",
            "epoch 2, batch 34, loss 0.950808048248291\n",
            "epoch 2, batch 35, loss 0.922825038433075\n",
            "epoch 2, batch 36, loss 0.893294632434845\n",
            "epoch 2, batch 37, loss 0.948309600353241\n",
            "epoch 2, batch 38, loss 0.8933826684951782\n",
            "epoch 2, batch 39, loss 0.914124608039856\n",
            "epoch 2, batch 40, loss 0.8858266472816467\n",
            "epoch 2, batch 41, loss 0.9069903492927551\n",
            "epoch 2, batch 42, loss 0.8635560274124146\n",
            "epoch 2, batch 43, loss 0.9506620168685913\n",
            "epoch 2, batch 44, loss 0.9094947576522827\n",
            "epoch 2, batch 45, loss 0.9231759309768677\n",
            "epoch 2, batch 46, loss 0.9350917935371399\n",
            "epoch 2, batch 47, loss 0.9076787233352661\n",
            "epoch 2, batch 48, loss 0.869784951210022\n",
            "epoch 2, batch 49, loss 0.8812459111213684\n"
          ]
        },
        {
          "data": {
            "text/plain": [
              "GPT2LMHeadModel(\n",
              "  (transformer): GPT2Model(\n",
              "    (wte): Embedding(39, 64)\n",
              "    (wpe): Embedding(128, 64)\n",
              "    (drop): Dropout(p=0.1, inplace=False)\n",
              "    (h): ModuleList(\n",
              "      (0-2): 3 x GPT2Block(\n",
              "        (ln_1): LayerNorm((64,), eps=1e-05, elementwise_affine=True)\n",
              "        (attn): GPT2Attention(\n",
              "          (c_attn): Conv1D()\n",
              "          (c_proj): Conv1D()\n",
              "          (attn_dropout): Dropout(p=0.1, inplace=False)\n",
              "          (resid_dropout): Dropout(p=0.1, inplace=False)\n",
              "        )\n",
              "        (ln_2): LayerNorm((64,), eps=1e-05, elementwise_affine=True)\n",
              "        (mlp): GPT2MLP(\n",
              "          (c_fc): Conv1D()\n",
              "          (c_proj): Conv1D()\n",
              "          (act): NewGELUActivation()\n",
              "          (dropout): Dropout(p=0.1, inplace=False)\n",
              "        )\n",
              "      )\n",
              "    )\n",
              "    (ln_f): LayerNorm((64,), eps=1e-05, elementwise_affine=True)\n",
              "  )\n",
              "  (lm_head): Linear(in_features=64, out_features=39, bias=False)\n",
              ")"
            ]
          },
          "execution_count": 29,
          "metadata": {},
          "output_type": "execute_result"
        }
      ],
      "source": [
        "device = torch.device(\"cuda\" if torch.cuda.is_available() else \"cpu\")\n",
        "loss_curve = []\n",
        "optimizer = AdamW(miniGPT.parameters(), lr=5e-4)\n",
        "miniGPT.train()\n",
        "miniGPT.to(device)\n",
        "batch_size = 512\n",
        "for epoch in range(3):\n",
        "    for i in range(50):\n",
        "        batch = batch_sampler(batch_size=batch_size)\n",
        "        output = miniGPT(batch.to(device), labels=batch.to(device), )\n",
        "        loss = output.loss\n",
        "        loss.backward()\n",
        "        optimizer.step()\n",
        "        optimizer.zero_grad()\n",
        "        print(f\"epoch {epoch}, batch {i}, loss {loss.item()}\")\n",
        "        loss_curve.append(loss.item())\n",
        "\n",
        "\n",
        "miniGPT.eval().to(\"cpu\")"
      ]
    },
    {
      "cell_type": "markdown",
      "metadata": {
        "id": "6LK6lE5bDZSD"
      },
      "source": [
        "### Say Something? (or I'm Giving Up On You)"
      ]
    },
    {
      "cell_type": "code",
      "execution_count": 30,
      "metadata": {
        "colab": {
          "base_uri": "https://localhost:8080/"
        },
        "id": "iAXCBRvMDn0w",
        "outputId": "0ca3cb3b-1be6-4a0c-ec10-bacc4a2b3a4d"
      },
      "outputs": [
        {
          "name": "stdout",
          "output_type": "stream",
          "text": [
            "the dog that heard that a bird that the square fox flew [End]     \n",
            "the dog saw a zebra [End]            \n",
            "the dog that slept flew [End]            \n",
            "the dog that walked saw that the sheep that danced saw that the smart smart giraffe swam [End]\n",
            "the dog that sat saw that a fat fat sheep smelled that the thin square cow swam [End]\n"
          ]
        }
      ],
      "source": [
        "prompt = \"the dog\"\n",
        "prompt_inds = encode_sentence(prompt)\n",
        "ind_tsr = miniGPT.generate(torch.tensor(prompt_inds).long()[None, :],\n",
        "                           max_length=32, do_sample=True, top_k=0, top_p=0.9, temperature=0.7,\n",
        "                           num_return_sequences=5, pad_token_id=PAD_ID)\n",
        "for ind_seq in ind_tsr:\n",
        "    print(decode2sentence(ind_seq.tolist()))"
      ]
    },
    {
      "cell_type": "markdown",
      "metadata": {
        "id": "kTtBiBFYAHtA"
      },
      "source": [
        "### Does our transformer \"understand\" part-of-speech?"
      ]
    },
    {
      "cell_type": "code",
      "execution_count": 31,
      "metadata": {
        "id": "-8ZJ0DkCAMQ4"
      },
      "outputs": [],
      "source": [
        "import numpy as np\n",
        "import matplotlib.pyplot as plt\n",
        "from sklearn.cluster import KMeans\n",
        "from sklearn.manifold import TSNE"
      ]
    },
    {
      "cell_type": "markdown",
      "metadata": {
        "id": "o3lbxJdOGHo5"
      },
      "source": [
        "First, let's extract the embeddings of the words and the positions"
      ]
    },
    {
      "cell_type": "code",
      "execution_count": 32,
      "metadata": {
        "colab": {
          "base_uri": "https://localhost:8080/"
        },
        "id": "XOTdV7NWE7ow",
        "outputId": "a2f8a7b4-01ca-4ae5-db7b-9a65cece1f26"
      },
      "outputs": [
        {
          "name": "stdout",
          "output_type": "stream",
          "text": [
            "torch.Size([39, 64])\n",
            "torch.Size([128, 64])\n"
          ]
        }
      ],
      "source": [
        "token_embedding = miniGPT.transformer.wte.weight.detach()\n",
        "position_embedding = miniGPT.transformer.wpe.weight.detach()\n",
        "print(token_embedding.shape)\n",
        "print(position_embedding.shape)"
      ]
    },
    {
      "cell_type": "markdown",
      "metadata": {
        "id": "tW9e6bUjGNJp"
      },
      "source": [
        "We'd want to see how these learned embeddings cluster."
      ]
    },
    {
      "cell_type": "code",
      "execution_count": 33,
      "metadata": {
        "colab": {
          "base_uri": "https://localhost:8080/"
        },
        "id": "s89TVRDxE34H",
        "outputId": "6f26c247-6282-43bb-fcbc-8aac372c9728"
      },
      "outputs": [
        {
          "name": "stderr",
          "output_type": "stream",
          "text": [
            "d:\\app\\anaconda3\\envs\\open-machine-learning-jupyter-book\\lib\\site-packages\\sklearn\\cluster\\_kmeans.py:870: FutureWarning: The default value of `n_init` will change from 10 to 'auto' in 1.4. Set the value of `n_init` explicitly to suppress the warning\n",
            "  warnings.warn(\n"
          ]
        }
      ],
      "source": [
        "tsne = TSNE(n_components=2, random_state=0, perplexity=15.0)\n",
        "token_embedding_2d = tsne.fit_transform(token_embedding.numpy())\n",
        "kmeans = KMeans(n_clusters=6, random_state=0).fit(token_embedding_2d)"
      ]
    },
    {
      "cell_type": "code",
      "execution_count": 34,
      "metadata": {
        "id": "XOSlmKNvFwSB"
      },
      "outputs": [
        {
          "data": {
            "image/png": "[encoded data removed]",
            "text/plain": [
              "<Figure size 1000x1000 with 1 Axes>"
            ]
          },
          "metadata": {},
          "output_type": "display_data"
        }
      ],
      "source": [
        "plt.figure(figsize=[10, 10])\n",
        "plt.scatter(token_embedding_2d[:, 0], token_embedding_2d[:, 1], c=kmeans.labels_)\n",
        "# annotate each word on the plot\n",
        "for i, word in enumerate(inverse_dictionary.values()):\n",
        "    plt.annotate(word, (token_embedding_2d[i, 0], token_embedding_2d[i, 1]), fontsize=12)\n",
        "plt.show()"
      ]
    },
    {
      "cell_type": "markdown",
      "metadata": {
        "id": "14KJx0sUHkg4"
      },
      "source": [
        "Let's print out which words are in each cluster."
      ]
    },
    {
      "cell_type": "code",
      "execution_count": 35,
      "metadata": {
        "id": "s2pOMTtGFByp"
      },
      "outputs": [
        {
          "name": "stdout",
          "output_type": "stream",
          "text": [
            "cluster 0: ['smelled', 'saw', 'heard']\n",
            "cluster 1: ['wide', 'fox', 'smart', 'small', 'tall', 'bird', 'short', 'cat', 'sheep', 'bear', 'cow', 'horse', 'giraffe', 'round', 'dog', 'big', 'zebra', 'square', 'thin', 'fat', 'pretty', 'long']\n",
            "cluster 2: ['jumped', 'danced', 'walked', 'ran', 'stood', 'sat', 'swam', 'flew', 'slept']\n",
            "cluster 3: ['[End]']\n",
            "cluster 4: ['a', 'the']\n",
            "cluster 5: ['']\n",
            "cluster 6: ['that']\n"
          ]
        },
        {
          "name": "stderr",
          "output_type": "stream",
          "text": [
            "d:\\app\\anaconda3\\envs\\open-machine-learning-jupyter-book\\lib\\site-packages\\sklearn\\cluster\\_kmeans.py:870: FutureWarning: The default value of `n_init` will change from 10 to 'auto' in 1.4. Set the value of `n_init` explicitly to suppress the warning\n",
            "  warnings.warn(\n"
          ]
        }
      ],
      "source": [
        "nCluster = 7\n",
        "kmeans2 = KMeans(n_clusters=nCluster, random_state=42).fit(token_embedding.numpy())\n",
        "# print the list of words in each cluster\n",
        "for icluster in range(nCluster):\n",
        "    cluster_words = [word for word, ind in dictionary.items() if kmeans2.labels_[ind] == icluster]\n",
        "    print(f\"cluster {icluster}: {cluster_words}\")\n"
      ]
    },
    {
      "cell_type": "markdown",
      "metadata": {
        "id": "j4X0n5YjHcQ4"
      },
      "source": [
        "Overall birds eye view of the word representations (embeddings)"
      ]
    },
    {
      "cell_type": "code",
      "execution_count": 36,
      "metadata": {
        "id": "GIeE198aGxVv"
      },
      "outputs": [
        {
          "data": {
            "image/png": "[encoded data removed]",
            "text/plain": [
              "<Figure size 1000x500 with 2 Axes>"
            ]
          },
          "metadata": {},
          "output_type": "display_data"
        }
      ],
      "source": [
        "plt.figure(figsize=[10,5])\n",
        "plt.imshow(token_embedding)\n",
        "plt.ylabel(\"words\")\n",
        "plt.xlabel(\"embedding dim\")\n",
        "plt.colorbar()\n",
        "plt.show()"
      ]
    },
    {
      "cell_type": "code",
      "execution_count": 37,
      "metadata": {
        "id": "3YxZahn9Gfc4"
      },
      "outputs": [
        {
          "data": {
            "image/png": "[encoded data removed]",
            "text/plain": [
              "<Figure size 500x1000 with 2 Axes>"
            ]
          },
          "metadata": {},
          "output_type": "display_data"
        }
      ],
      "source": [
        "plt.figure(figsize=[5,10])\n",
        "plt.imshow(position_embedding)\n",
        "plt.ylabel(\"positions\")\n",
        "plt.xlabel(\"embedding dim\")\n",
        "plt.colorbar()\n",
        "plt.show()"
      ]
    },
    {
      "cell_type": "markdown",
      "metadata": {},
      "source": [
        "## Your turn! 🚀\n",
        "tbd."
      ]
    },
    {
      "cell_type": "markdown",
      "metadata": {},
      "source": [
        "## Acknowledgments\n",
        "\n",
        "Thanks to [Binxu Wang](https://github.com/Animadversio) for creating the open-source course [From Transformer to LLM: Architecture, Training and Usage](https://github.com/Animadversio/TransformerFromScratch). It inspires the majority of the content in this chapter."
      ]
    }
  ],
  "metadata": {
    "colab": {
      "provenance": []
    },
    "kernelspec": {
      "display_name": "Python 3",
      "name": "python3"
    },
    "language_info": {
      "codemirror_mode": {
        "name": "ipython",
        "version": 3
      },
      "file_extension": ".py",
      "mimetype": "text/x-python",
      "name": "python",
      "nbconvert_exporter": "python",
      "pygments_lexer": "ipython3",
      "version": "3.9.18"
    }
  },
  "nbformat": 4,
  "nbformat_minor": 0
}
