{
 "cells": [
  {
   "cell_type": "code",
   "execution_count": null,
   "id": "25fea2d2",
   "metadata": {
    "tags": [
     "hide-cell"
    ]
   },
   "outputs": [],
   "source": [
    "# Install the necessary dependencies\n",
    "\n",
    "import os\n",
    "import sys\n",
    "!{sys.executable} -m pip install --quiet pandas scikit-learn numpy matplotlib jupyterlab_myst ipython gensim torch"
   ]
  },
  {
   "cell_type": "markdown",
   "id": "74660f15",
   "metadata": {
    "tags": [
     "remove-cell"
    ]
   },
   "source": [
    "---\n",
    "license:\n",
    "    code: MIT\n",
    "    content: CC-BY-4.0\n",
    "github: https://github.com/ocademy-ai/machine-learning\n",
    "venue: By Ocademy\n",
    "open_access: true\n",
    "bibliography:\n",
    "  - https://raw.githubusercontent.com/ocademy-ai/machine-learning/main/open-machine-learning-jupyter-book/references.bib\n",
    "---"
   ]
  },
  {
   "cell_type": "markdown",
   "id": "3c79b007",
   "metadata": {},
   "source": [
    "# Word embedding"
   ]
  },
  {
   "cell_type": "markdown",
   "id": "9ef3de21",
   "metadata": {},
   "source": [
    "Word Embeddings are numeric representations of words in a lower-dimensional space, capturing semantic and syntactic information. Mainly including discrete representation methods and distribution representation methods"
   ]
  },
  {
   "cell_type": "markdown",
   "id": "31ac0f5a",
   "metadata": {},
   "source": [
    "## Discrete representation"
   ]
  },
  {
   "cell_type": "markdown",
   "id": "5d1dc20e",
   "metadata": {},
   "source": [
    "This method involves compiling a list of distinct terms and giving each one a unique integer value, or id. and after that, insert each word’s distinct id into the sentence. Every vocabulary word is handled as a feature in this instance. Thus, a large vocabulary will result in an extremely large feature size. Common discrete representation methods include:one-hot,Bag of Word (Bow) and Term frequency-inverse document frequency (TF-IDF)"
   ]
  },
  {
   "cell_type": "markdown",
   "id": "2cc04cbb",
   "metadata": {},
   "source": [
    "### One-Hot"
   ]
  },
  {
   "cell_type": "markdown",
   "id": "2f1dc868",
   "metadata": {},
   "source": [
    "One-hot encoding is a simple method for representing words in natural language processing (NLP). In this encoding scheme, each word in the vocabulary is represented as a unique vector, where the dimensionality of the vector is equal to the size of the vocabulary. The vector has all elements set to 0, except for the element corresponding to the index of the word in the vocabulary, which is set to 1."
   ]
  },
  {
   "cell_type": "code",
   "execution_count": 5,
   "id": "864709ef",
   "metadata": {},
   "outputs": [
    {
     "name": "stdout",
     "output_type": "stream",
     "text": [
      "Vocabulary: {'mat', 'dog', 'tree', 'in', 'on', 'hat', 'the', 'bird', 'cat'}\n",
      "Word to Index Mapping: {'mat': 0, 'dog': 1, 'tree': 2, 'in': 3, 'on': 4, 'hat': 5, 'the': 6, 'bird': 7, 'cat': 8}\n",
      "One-Hot Encoded Matrix:\n",
      "cat: [0, 0, 0, 0, 0, 0, 0, 0, 1]\n",
      "in: [0, 0, 0, 1, 0, 0, 0, 0, 0]\n",
      "the: [0, 0, 0, 0, 0, 0, 1, 0, 0]\n",
      "hat: [0, 0, 0, 0, 0, 1, 0, 0, 0]\n",
      "dog: [0, 1, 0, 0, 0, 0, 0, 0, 0]\n",
      "on: [0, 0, 0, 0, 1, 0, 0, 0, 0]\n",
      "the: [0, 0, 0, 0, 0, 0, 1, 0, 0]\n",
      "mat: [1, 0, 0, 0, 0, 0, 0, 0, 0]\n",
      "bird: [0, 0, 0, 0, 0, 0, 0, 1, 0]\n",
      "in: [0, 0, 0, 1, 0, 0, 0, 0, 0]\n",
      "the: [0, 0, 0, 0, 0, 0, 1, 0, 0]\n",
      "tree: [0, 0, 1, 0, 0, 0, 0, 0, 0]\n"
     ]
    }
   ],
   "source": [
    "def one_hot_encode(text):\n",
    "\twords = text.split()\n",
    "\tvocabulary = set(words)\n",
    "\tword_to_index = {word: i for i, word in enumerate(vocabulary)}\n",
    "\tone_hot_encoded = []\n",
    "\tfor word in words:\n",
    "\t\tone_hot_vector = [0] * len(vocabulary)\n",
    "\t\tone_hot_vector[word_to_index[word]] = 1\n",
    "\t\tone_hot_encoded.append(one_hot_vector)\n",
    "\n",
    "\treturn one_hot_encoded, word_to_index, vocabulary\n",
    "\n",
    "# sample\n",
    "example_text = \"cat in the hat dog on the mat bird in the tree\"\n",
    "\n",
    "one_hot_encoded, word_to_index, vocabulary = one_hot_encode(example_text)\n",
    "\n",
    "print(\"Vocabulary:\", vocabulary)\n",
    "print(\"Word to Index Mapping:\", word_to_index)\n",
    "print(\"One-Hot Encoded Matrix:\")\n",
    "for word, encoding in zip(example_text.split(), one_hot_encoded):\n",
    "\tprint(f\"{word}: {encoding}\")\n"
   ]
  },
  {
   "cell_type": "markdown",
   "id": "97ef1ca7",
   "metadata": {},
   "source": [
    "### Bag of Word (Bow)"
   ]
  },
  {
   "cell_type": "markdown",
   "id": "bd4709a2",
   "metadata": {},
   "source": [
    "Bag-of-Words (BoW) is a text representation technique that represents a document as an unordered set of words and their respective frequencies. It discards the word order and captures the frequency of each word in the document, creating a vector representation."
   ]
  },
  {
   "cell_type": "code",
   "execution_count": 3,
   "id": "9a2f8864",
   "metadata": {},
   "outputs": [
    {
     "name": "stdout",
     "output_type": "stream",
     "text": [
      "Bag-of-Words Matrix:\n",
      "[[0 1 1 1 0 0 1 0 1]\n",
      " [0 2 0 1 0 1 1 0 1]\n",
      " [1 0 0 1 1 0 1 1 1]\n",
      " [0 1 1 1 0 0 1 0 1]]\n",
      "Vocabulary (Feature Names): ['and' 'document' 'first' 'is' 'one' 'second' 'the' 'third' 'this']\n"
     ]
    }
   ],
   "source": [
    "from sklearn.feature_extraction.text import CountVectorizer\n",
    "documents = [\"This is the first document.\",\n",
    "\t\t\t\"This document is the second document.\",\n",
    "\t\t\t\"And this is the third one.\",\n",
    "\t\t\t\"Is this the first document?\"]\n",
    "\n",
    "vectorizer = CountVectorizer()\n",
    "X = vectorizer.fit_transform(documents)\n",
    "feature_names = vectorizer.get_feature_names_out()\n",
    "\n",
    "print(\"Bag-of-Words Matrix:\")\n",
    "print(X.toarray())\n",
    "print(\"Vocabulary (Feature Names):\", feature_names)\n"
   ]
  },
  {
   "cell_type": "markdown",
   "id": "6a18e45f",
   "metadata": {},
   "source": [
    "### Term frequency-inverse document frequency (TF-IDF)"
   ]
  },
  {
   "cell_type": "markdown",
   "id": "d4d1e4d7",
   "metadata": {},
   "source": [
    "Term Frequency-Inverse Document Frequency, commonly known as TF-IDF, is a numerical statistic that reflects the importance of a word in a document relative to a collection of documents (corpus). It is widely used in natural language processing and information retrieval to evaluate the significance of a term within a specific document in a larger corpus. TF-IDF consists of two components:"
   ]
  },
  {
   "cell_type": "markdown",
   "id": "3d63655c",
   "metadata": {},
   "source": [
    "**·Term Frequency (TF)**: Term Frequency measures how often a term (word) appears in a document. It is calculated using the formula:\n",
    "\n",
    "$TF(t,d)=\\frac{Total\\ number\\ of\\ times\\ term\\ t\\ appears\\ in\\ document\\ d}{Total\\ number\\ of\\ terms\\ in\\ document\\ d}$"
   ]
  },
  {
   "cell_type": "markdown",
   "id": "7570820c",
   "metadata": {},
   "source": [
    "**·Inverse Document Frequency (IDF)**: Inverse Document Frequency measures the importance of a term across a collection of documents. It is calculated using the formula:\n",
    "\n",
    "$IDF(t,D)=\\log{(\\frac{Total\\ documents}{Number\\ of\\ documents\\ containing\\ term\\ t})}$"
   ]
  },
  {
   "cell_type": "markdown",
   "id": "d95ef779",
   "metadata": {},
   "source": [
    "The TF-IDF score for a term t in a document d is then given by multiplying the TF and IDF values:\n",
    "\n",
    "TF-IDF(t,d,D)=TF(t,d)×IDF(t,D)          \n",
    "\n",
    "The higher the TF-IDF score for a term in a document, the more important that term is to that document within the context of the entire corpus. This weighting scheme helps in identifying and extracting relevant information from a large collection of documents, and it is commonly used in text mining, information retrieval, and document clustering.\n",
    "\n",
    "Let’s Implement Term Frequency-Inverse Document Frequency (TF-IDF) using python with the scikit-learn library. It begins by defining a set of sample documents. The TfidfVectorizer is employed to transform these documents into a TF-IDF matrix. The code then extracts and prints the TF-IDF values for each word in each document. This statistical measure helps assess the importance of words in a document relative to their frequency across a collection of documents, aiding in information retrieval and text analysis tasks."
   ]
  },
  {
   "cell_type": "code",
   "execution_count": 4,
   "id": "c645bb7a",
   "metadata": {},
   "outputs": [
    {
     "name": "stdout",
     "output_type": "stream",
     "text": [
      "Document 1:\n",
      "dog: 0.30151134457776363\n",
      "lazy: 0.30151134457776363\n",
      "over: 0.30151134457776363\n",
      "jumps: 0.30151134457776363\n",
      "fox: 0.30151134457776363\n",
      "brown: 0.30151134457776363\n",
      "quick: 0.30151134457776363\n",
      "the: 0.6030226891555273\n",
      "\n",
      "\n",
      "Document 2:\n",
      "step: 0.3535533905932738\n",
      "single: 0.3535533905932738\n",
      "with: 0.3535533905932738\n",
      "begins: 0.3535533905932738\n",
      "miles: 0.3535533905932738\n",
      "thousand: 0.3535533905932738\n",
      "of: 0.3535533905932738\n",
      "journey: 0.3535533905932738\n",
      "\n",
      "\n"
     ]
    }
   ],
   "source": [
    "from sklearn.feature_extraction.text import TfidfVectorizer\n",
    "\n",
    "# Sample\n",
    "documents = [\n",
    "\t\"The quick brown fox jumps over the lazy dog.\",\n",
    "\t\"A journey of a thousand miles begins with a single step.\",\n",
    "]\n",
    "\n",
    "vectorizer = TfidfVectorizer() # Create the TF-IDF vectorizer\n",
    "tfidf_matrix = vectorizer.fit_transform(documents)\n",
    "feature_names = vectorizer.get_feature_names_out()\n",
    "tfidf_values = {}\n",
    "\n",
    "for doc_index, doc in enumerate(documents):\n",
    "\tfeature_index = tfidf_matrix[doc_index, :].nonzero()[1]\n",
    "\ttfidf_doc_values = zip(feature_index, [tfidf_matrix[doc_index, x] for x in feature_index])\n",
    "\ttfidf_values[doc_index] = {feature_names[i]: value for i, value in tfidf_doc_values}\n",
    "#let's print\n",
    "for doc_index, values in tfidf_values.items():\n",
    "\tprint(f\"Document {doc_index + 1}:\")\n",
    "\tfor word, tfidf_value in values.items():\n",
    "\t\tprint(f\"{word}: {tfidf_value}\")\n",
    "\tprint(\"\\n\")\n"
   ]
  },
  {
   "cell_type": "markdown",
   "id": "f02af2ee",
   "metadata": {},
   "source": [
    "## Distributed representation"
   ]
  },
  {
   "cell_type": "markdown",
   "id": "dbf1c07c",
   "metadata": {},
   "source": [
    "### Word2Vec"
   ]
  },
  {
   "cell_type": "markdown",
   "id": "67e6d642",
   "metadata": {},
   "source": [
    "Word2Vec is a neural approach for generating word embeddings. It belongs to the family of neural word embedding techniques and specifically falls under the category of distributed representation models. It is a popular technique in natural language processing (NLP) that is used to represent words as continuous vector spaces. Developed by a team at Google, Word2Vec aims to capture the semantic relationships between words by mapping them to high-dimensional vectors. The underlying idea is that words with similar meanings should have similar vector representations. In Word2Vec every word is assigned a vector. We start with either a random vector or one-hot vector."
   ]
  },
  {
   "cell_type": "markdown",
   "id": "bf16b0de",
   "metadata": {},
   "source": [
    "There are two neural embedding methods for Word2Vec, Continuous Bag of Words (CBOW) and Skip-gram."
   ]
  },
  {
   "cell_type": "markdown",
   "id": "a4ba4b22",
   "metadata": {},
   "source": [
    "#### Continuous Bag of Words(CBOW)"
   ]
  },
  {
   "cell_type": "markdown",
   "id": "1e7d21ea",
   "metadata": {},
   "source": [
    "Continuous Bag of Words (CBOW) is a type of neural network architecture used in the Word2Vec model. The primary objective of CBOW is to predict a target word based on its context, which consists of the surrounding words in a given window. Given a sequence of words in a context window, the model is trained to predict the target word at the center of the window.\n",
    "\n",
    "CBOW is a feedforward neural network with a single hidden layer. The input layer represents the context words, and the output layer represents the target word. The hidden layer contains the learned continuous vector representations (word embeddings) of the input words.\n",
    "\n",
    "The architecture is useful for learning distributed representations of words in a continuous vector space."
   ]
  },
  {
   "cell_type": "markdown",
   "id": "97e81f1f",
   "metadata": {},
   "source": [
    ":::{figure} https://static-1300131294.cos.ap-shanghai.myqcloud.com/images/deep-learning/NLP/cbow.png\n",
    "---\n",
    "name: 'continuous bag of words'\n",
    "width: 90%\n",
    "---\n",
    "Continuous Bag of Words\n",
    ":::"
   ]
  },
  {
   "cell_type": "markdown",
   "id": "612a2f35",
   "metadata": {},
   "source": [
    "The hidden layer contains the continuous vector representations (word embeddings) of the input words.\n",
    "\n",
    "The weights between the input layer and the hidden layer are learned during training.\n",
    "The dimensionality of the hidden layer represents the size of the word embeddings (the continuous vector space)."
   ]
  },
  {
   "cell_type": "code",
   "execution_count": 6,
   "id": "c51a75d9",
   "metadata": {},
   "outputs": [
    {
     "name": "stdout",
     "output_type": "stream",
     "text": [
      "Epoch 1, Loss: 0\n",
      "Epoch 2, Loss: 0\n",
      "Epoch 3, Loss: 0\n",
      "Epoch 4, Loss: 0\n",
      "Epoch 5, Loss: 0\n",
      "Epoch 6, Loss: 0\n",
      "Epoch 7, Loss: 0\n",
      "Epoch 8, Loss: 0\n",
      "Epoch 9, Loss: 0\n",
      "Epoch 10, Loss: 0\n",
      "Epoch 11, Loss: 0\n",
      "Epoch 12, Loss: 0\n",
      "Epoch 13, Loss: 0\n",
      "Epoch 14, Loss: 0\n",
      "Epoch 15, Loss: 0\n",
      "Epoch 16, Loss: 0\n",
      "Epoch 17, Loss: 0\n",
      "Epoch 18, Loss: 0\n",
      "Epoch 19, Loss: 0\n",
      "Epoch 20, Loss: 0\n",
      "Epoch 21, Loss: 0\n",
      "Epoch 22, Loss: 0\n",
      "Epoch 23, Loss: 0\n",
      "Epoch 24, Loss: 0\n",
      "Epoch 25, Loss: 0\n",
      "Epoch 26, Loss: 0\n",
      "Epoch 27, Loss: 0\n",
      "Epoch 28, Loss: 0\n",
      "Epoch 29, Loss: 0\n",
      "Epoch 30, Loss: 0\n",
      "Epoch 31, Loss: 0\n",
      "Epoch 32, Loss: 0\n",
      "Epoch 33, Loss: 0\n",
      "Epoch 34, Loss: 0\n",
      "Epoch 35, Loss: 0\n",
      "Epoch 36, Loss: 0\n",
      "Epoch 37, Loss: 0\n",
      "Epoch 38, Loss: 0\n",
      "Epoch 39, Loss: 0\n",
      "Epoch 40, Loss: 0\n",
      "Epoch 41, Loss: 0\n",
      "Epoch 42, Loss: 0\n",
      "Epoch 43, Loss: 0\n",
      "Epoch 44, Loss: 0\n",
      "Epoch 45, Loss: 0\n",
      "Epoch 46, Loss: 0\n",
      "Epoch 47, Loss: 0\n",
      "Epoch 48, Loss: 0\n",
      "Epoch 49, Loss: 0\n",
      "Epoch 50, Loss: 0\n",
      "Epoch 51, Loss: 0\n",
      "Epoch 52, Loss: 0\n",
      "Epoch 53, Loss: 0\n",
      "Epoch 54, Loss: 0\n",
      "Epoch 55, Loss: 0\n",
      "Epoch 56, Loss: 0\n",
      "Epoch 57, Loss: 0\n",
      "Epoch 58, Loss: 0\n",
      "Epoch 59, Loss: 0\n",
      "Epoch 60, Loss: 0\n",
      "Epoch 61, Loss: 0\n",
      "Epoch 62, Loss: 0\n",
      "Epoch 63, Loss: 0\n",
      "Epoch 64, Loss: 0\n",
      "Epoch 65, Loss: 0\n",
      "Epoch 66, Loss: 0\n",
      "Epoch 67, Loss: 0\n",
      "Epoch 68, Loss: 0\n",
      "Epoch 69, Loss: 0\n",
      "Epoch 70, Loss: 0\n",
      "Epoch 71, Loss: 0\n",
      "Epoch 72, Loss: 0\n",
      "Epoch 73, Loss: 0\n",
      "Epoch 74, Loss: 0\n",
      "Epoch 75, Loss: 0\n",
      "Epoch 76, Loss: 0\n",
      "Epoch 77, Loss: 0\n",
      "Epoch 78, Loss: 0\n",
      "Epoch 79, Loss: 0\n",
      "Epoch 80, Loss: 0\n",
      "Epoch 81, Loss: 0\n",
      "Epoch 82, Loss: 0\n",
      "Epoch 83, Loss: 0\n",
      "Epoch 84, Loss: 0\n",
      "Epoch 85, Loss: 0\n",
      "Epoch 86, Loss: 0\n",
      "Epoch 87, Loss: 0\n",
      "Epoch 88, Loss: 0\n",
      "Epoch 89, Loss: 0\n",
      "Epoch 90, Loss: 0\n",
      "Epoch 91, Loss: 0\n",
      "Epoch 92, Loss: 0\n",
      "Epoch 93, Loss: 0\n",
      "Epoch 94, Loss: 0\n",
      "Epoch 95, Loss: 0\n",
      "Epoch 96, Loss: 0\n",
      "Epoch 97, Loss: 0\n",
      "Epoch 98, Loss: 0\n",
      "Epoch 99, Loss: 0\n",
      "Epoch 100, Loss: 0\n",
      "Embedding for 'embeddings': [[-1.0344244   0.07897425  0.03608504 -0.556515    0.14206451 -1.833232\n",
      "   0.7083351   0.66258     0.57552516  1.7009653 ]]\n"
     ]
    }
   ],
   "source": [
    "import torch\n",
    "import torch.nn as nn\n",
    "import torch.optim as optim\n",
    "\n",
    "# Define CBOW model\n",
    "class CBOWModel(nn.Module):\n",
    "\tdef __init__(self, vocab_size, embed_size):\n",
    "\t\tsuper(CBOWModel, self).__init__()\n",
    "\t\tself.embeddings = nn.Embedding(vocab_size, embed_size)\n",
    "\t\tself.linear = nn.Linear(embed_size, vocab_size)\n",
    "\n",
    "\tdef forward(self, context):\n",
    "\t\tcontext_embeds = self.embeddings(context).sum(dim=1)\n",
    "\t\toutput = self.linear(context_embeds)\n",
    "\t\treturn output\n",
    "\n",
    "# Sample data\n",
    "context_size = 2\n",
    "raw_text = \"word embeddings are awesome\"\n",
    "tokens = raw_text.split()\n",
    "vocab = set(tokens)\n",
    "word_to_index = {word: i for i, word in enumerate(vocab)}\n",
    "data = []\n",
    "for i in range(2, len(tokens) - 2):\n",
    "\tcontext = [word_to_index[word] for word in tokens[i - 2:i] + tokens[i + 1:i + 3]]\n",
    "\ttarget = word_to_index[tokens[i]]\n",
    "\tdata.append((torch.tensor(context), torch.tensor(target)))\n",
    "\n",
    "# Hyperparameters\n",
    "vocab_size = len(vocab)\n",
    "embed_size = 10\n",
    "learning_rate = 0.01\n",
    "epochs = 100\n",
    "\n",
    "# Initialize CBOW model\n",
    "cbow_model = CBOWModel(vocab_size, embed_size)\n",
    "criterion = nn.CrossEntropyLoss()\n",
    "optimizer = optim.SGD(cbow_model.parameters(), lr=learning_rate)\n",
    "\n",
    "# Training loop\n",
    "for epoch in range(epochs):\n",
    "\ttotal_loss = 0\n",
    "\tfor context, target in data:\n",
    "\t\toptimizer.zero_grad()\n",
    "\t\toutput = cbow_model(context)\n",
    "\t\tloss = criterion(output.unsqueeze(0), target.unsqueeze(0))\n",
    "\t\tloss.backward()\n",
    "\t\toptimizer.step()\n",
    "\t\ttotal_loss += loss.item()\n",
    "\tprint(f\"Epoch {epoch + 1}, Loss: {total_loss}\")\n",
    "\n",
    "# Example usage: Get embedding for a specific word\n",
    "word_to_lookup = \"embeddings\"\n",
    "word_index = word_to_index[word_to_lookup]\n",
    "embedding = cbow_model.embeddings(torch.tensor([word_index]))\n",
    "print(f\"Embedding for '{word_to_lookup}': {embedding.detach().numpy()}\")\n"
   ]
  },
  {
   "cell_type": "markdown",
   "id": "f057334a",
   "metadata": {},
   "source": [
    "#### Skip-Gram"
   ]
  },
  {
   "cell_type": "markdown",
   "id": "f38b64f9",
   "metadata": {},
   "source": [
    "The Skip-Gram model learns distributed representations of words in a continuous vector space. The main objective of Skip-Gram is to predict context words (words surrounding a target word) given a target word. This is the opposite of the Continuous Bag of Words (CBOW) model, where the objective is to predict the target word based on its context. It is shown that this method produces more meaningful embeddings."
   ]
  },
  {
   "cell_type": "markdown",
   "id": "a3f31a42",
   "metadata": {},
   "source": [
    ":::{figure} https://static-1300131294.cos.ap-shanghai.myqcloud.com/images/deep-learning/NLP/skipgram.png\n",
    "---\n",
    "name: 'skip gram'\n",
    "width: 90%\n",
    "---\n",
    "Skip Gram\n",
    ":::"
   ]
  },
  {
   "cell_type": "markdown",
   "id": "977b2fa3",
   "metadata": {},
   "source": [
    "After applying the above neural embedding methods we get trained vectors of each word after many iterations through the corpus. These trained vectors preserve syntactical or semantic information and are converted to lower dimensions. The vectors with similar meaning or semantic information are placed close to each other in space.\n",
    "\n",
    "Let’s understand with a basic example. The python code contains, parameter that controls the dimensionality of the word vectors, and you can adjust other parameters such as based on your specific needs.vector_sizewindow"
   ]
  },
  {
   "cell_type": "markdown",
   "id": "87dc4e0e",
   "metadata": {},
   "source": [
    ">Note: Word2Vec models can perform better with larger datasets. \n",
    ">If you have a large corpus, you might achieve more meaningful word embeddings.\n"
   ]
  },
  {
   "cell_type": "code",
   "execution_count": 8,
   "id": "bbe003fd",
   "metadata": {},
   "outputs": [
    {
     "name": "stdout",
     "output_type": "stream",
     "text": [
      "Requirement already satisfied: gensim in d:\\anaconda\\lib\\site-packages (4.3.0)\n",
      "Requirement already satisfied: FuzzyTM>=0.4.0 in d:\\anaconda\\lib\\site-packages (from gensim) (2.0.5)\n",
      "Requirement already satisfied: numpy>=1.18.5 in d:\\anaconda\\lib\\site-packages (from gensim) (1.23.5)\n",
      "Requirement already satisfied: scipy>=1.7.0 in d:\\anaconda\\lib\\site-packages (from gensim) (1.10.0)\n",
      "Requirement already satisfied: smart-open>=1.8.1 in d:\\anaconda\\lib\\site-packages (from gensim) (5.2.1)\n",
      "Requirement already satisfied: pyfume in d:\\anaconda\\lib\\site-packages (from FuzzyTM>=0.4.0->gensim) (0.2.25)\n",
      "Requirement already satisfied: pandas in d:\\anaconda\\lib\\site-packages (from FuzzyTM>=0.4.0->gensim) (1.5.3)\n",
      "Requirement already satisfied: python-dateutil>=2.8.1 in d:\\anaconda\\lib\\site-packages (from pandas->FuzzyTM>=0.4.0->gensim) (2.8.2)\n",
      "Requirement already satisfied: pytz>=2020.1 in d:\\anaconda\\lib\\site-packages (from pandas->FuzzyTM>=0.4.0->gensim) (2022.7)\n",
      "Requirement already satisfied: fst-pso in d:\\anaconda\\lib\\site-packages (from pyfume->FuzzyTM>=0.4.0->gensim) (1.8.1)\n",
      "Requirement already satisfied: simpful in d:\\anaconda\\lib\\site-packages (from pyfume->FuzzyTM>=0.4.0->gensim) (2.11.0)\n",
      "Requirement already satisfied: six>=1.5 in d:\\anaconda\\lib\\site-packages (from python-dateutil>=2.8.1->pandas->FuzzyTM>=0.4.0->gensim) (1.16.0)\n",
      "Requirement already satisfied: miniful in d:\\anaconda\\lib\\site-packages (from fst-pso->pyfume->FuzzyTM>=0.4.0->gensim) (0.0.6)\n"
     ]
    },
    {
     "name": "stderr",
     "output_type": "stream",
     "text": [
      "[nltk_data] Downloading package punkt to\n",
      "[nltk_data]     C:\\Users\\zhongmeiqi\\AppData\\Roaming\\nltk_data...\n",
      "[nltk_data]   Package punkt is already up-to-date!\n"
     ]
    },
    {
     "name": "stdout",
     "output_type": "stream",
     "text": [
      "Vector representation of 'word': [-9.5800208e-03  8.9437785e-03  4.1664648e-03  9.2367809e-03\n",
      "  6.6457358e-03  2.9233587e-03  9.8055992e-03 -4.4231843e-03\n",
      " -6.8048164e-03  4.2256550e-03  3.7299085e-03 -5.6668529e-03\n",
      "  9.7035142e-03 -3.5551414e-03  9.5499391e-03  8.3657773e-04\n",
      " -6.3355025e-03 -1.9741615e-03 -7.3781307e-03 -2.9811086e-03\n",
      "  1.0425397e-03  9.4814906e-03  9.3598543e-03 -6.5986011e-03\n",
      "  3.4773252e-03  2.2767992e-03 -2.4910474e-03 -9.2290826e-03\n",
      "  1.0267317e-03 -8.1645092e-03  6.3240929e-03 -5.8001447e-03\n",
      "  5.5353874e-03  9.8330071e-03 -1.5987856e-04  4.5296676e-03\n",
      " -1.8086446e-03  7.3613892e-03  3.9419360e-03 -9.0095028e-03\n",
      " -2.3953868e-03  3.6261671e-03 -1.0080514e-04 -1.2024897e-03\n",
      " -1.0558038e-03 -1.6681013e-03  6.0541567e-04  4.1633579e-03\n",
      " -4.2531900e-03 -3.8336846e-03 -5.0755290e-05  2.6549282e-04\n",
      " -1.7014991e-04 -4.7843382e-03  4.3120929e-03 -2.1710952e-03\n",
      "  2.1056964e-03  6.6702347e-04  5.9686624e-03 -6.8418151e-03\n",
      " -6.8183104e-03 -4.4762432e-03  9.4359247e-03 -1.5930856e-03\n",
      " -9.4291316e-03 -5.4270827e-04 -4.4478951e-03  5.9980620e-03\n",
      " -9.5831212e-03  2.8602476e-03 -9.2544509e-03  1.2484600e-03\n",
      "  6.0004774e-03  7.4001122e-03 -7.6209377e-03 -6.0561695e-03\n",
      " -6.8399287e-03 -7.9184016e-03 -9.4984965e-03 -2.1255787e-03\n",
      " -8.3757477e-04 -7.2564054e-03  6.7876028e-03  1.1183097e-03\n",
      "  5.8291717e-03  1.4714618e-03  7.9081533e-04 -7.3718326e-03\n",
      " -2.1769912e-03  4.3199472e-03 -5.0856168e-03  1.1304744e-03\n",
      "  2.8835384e-03 -1.5386029e-03  9.9318363e-03  8.3507905e-03\n",
      "  2.4184163e-03  7.1170190e-03  5.8888551e-03 -5.5787875e-03]\n"
     ]
    }
   ],
   "source": [
    "!pip install gensim\n",
    "from gensim.models import Word2Vec\n",
    "from nltk.tokenize import word_tokenize\n",
    "import nltk\n",
    "nltk.download('punkt') # Download the tokenizer models if not already downloaded\n",
    "\n",
    "sample = \"Word embeddings are dense vector representations of words.\"\n",
    "tokenized_corpus = word_tokenize(sample.lower()) # Lowercasing for consistency\n",
    "\n",
    "skipgram_model = Word2Vec(sentences=[tokenized_corpus],\n",
    "\t\t\t\t\t\tvector_size=100, # Dimensionality of the word vectors\n",
    "\t\t\t\t\t\twindow=5,\t\t # Maximum distance between the current and predicted word within a sentence\n",
    "\t\t\t\t\t\tsg=1,\t\t\t # Skip-Gram model (1 for Skip-Gram, 0 for CBOW)\n",
    "\t\t\t\t\t\tmin_count=1,\t # Ignores all words with a total frequency lower than this\n",
    "\t\t\t\t\t\tworkers=4)\t # Number of CPU cores to use for training the model\n",
    "\n",
    "# Training\n",
    "skipgram_model.train([tokenized_corpus], total_examples=1, epochs=10)\n",
    "skipgram_model.save(\"skipgram_model.model\")\n",
    "loaded_model = Word2Vec.load(\"skipgram_model.model\")\n",
    "vector_representation = loaded_model.wv['word']\n",
    "print(\"Vector representation of 'word':\", vector_representation)\n"
   ]
  },
  {
   "cell_type": "markdown",
   "id": "42cda55f",
   "metadata": {},
   "source": [
    "In practice, the choice between CBOW and Skip-gram often depends on the specific characteristics of the data and the task at hand. CBOW might be preferred when training resources are limited, and capturing syntactic information is important. Skip-gram, on the other hand, might be chosen when semantic relationships and the representation of rare words are crucial."
   ]
  },
  {
   "cell_type": "markdown",
   "id": "4ea1f37d",
   "metadata": {},
   "source": [
    "## Pretrained Word-Embedding"
   ]
  },
  {
   "cell_type": "markdown",
   "id": "59ead5c0",
   "metadata": {},
   "source": [
    "Pre-trained word embeddings are representations of words that are learned from large corpora and are made available for reuse in various natural language processing (NLP) tasks. These embeddings capture semantic relationships between words, allowing the model to understand similarities and relationships between different words in a meaningful way."
   ]
  },
  {
   "cell_type": "markdown",
   "id": "2c887969",
   "metadata": {},
   "source": [
    "### GloVe"
   ]
  },
  {
   "cell_type": "markdown",
   "id": "0b8a6505",
   "metadata": {},
   "source": [
    "GloVe is trained on global word co-occurrence statistics. It leverages the global context to create word embeddings that reflect the overall meaning of words based on their co-occurrence probabilities. this method, we take the corpus and iterate through it and get the co-occurrence of each word with other words in the corpus. We get a co-occurrence matrix through this. The words which occur next to each other get a value of 1, if they are one word apart then 1/2, if two words apart then 1/3 and so on.\n",
    "\n",
    "Let us take an example to understand how the matrix is created. We have a small corpus:"
   ]
  },
  {
   "cell_type": "markdown",
   "id": "ef94e71e",
   "metadata": {},
   "source": [
    ">Corpus:\n",
    ">\n",
    ">It is a nice evening.\n",
    ">\n",
    ">Good Evening!\n",
    ">\n",
    ">Is it a nice evening?"
   ]
  },
  {
   "cell_type": "markdown",
   "id": "394c071b",
   "metadata": {},
   "source": [
    "| |it|is|a|nice|evening|good|\n",
    "|----------|----------|----------|----------|----------|----------|----------|\n",
    "|it|0|\n",
    "|is|1+1|0|\n",
    "|a|1/2+1|1+1/2|0|\n",
    "|nice|1/3+1/2|1/2+1/3|1+1|0|\n",
    "|evening|1/4+1/3|1/3+1/4|1/2+1/2|1+1|0|\n",
    "|good|0|0|0|0|1|0|\n"
   ]
  },
  {
   "cell_type": "markdown",
   "id": "4bd03226",
   "metadata": {},
   "source": [
    "The upper half of the matrix will be a reflection of the lower half. We can consider a window frame as well to calculate the co-occurrences by shifting the frame till the end of the corpus. This helps gather information about the context in which the word is used.\n",
    "\n",
    "Initially, the vectors for each word is assigned randomly. Then we take two pairs of vectors and see how close they are to each other in space. If they occur together more often or have a higher value in the co-occurrence matrix and are far apart in space then they are brought close to each other. If they are close to each other but are rarely or not frequently used together then they are moved further apart in space.\n",
    "\n",
    "After many iterations of the above process, we’ll get a vector space representation that approximates the information from the co-occurrence matrix. The performance of GloVe is better than Word2Vec in terms of both semantic and syntactic capturing."
   ]
  },
  {
   "cell_type": "code",
   "execution_count": null,
   "id": "ae3737fa",
   "metadata": {},
   "outputs": [],
   "source": [
    "from gensim.models import KeyedVectors\n",
    "from gensim.downloader import load\n",
    "\n",
    "glove_model = load('glove-wiki-gigaword-50')\n",
    "word_pairs = [('learn', 'learning'), ('india', 'indian'), ('fame', 'famous')]\n",
    "\n",
    "# Compute similarity for each pair of words\n",
    "for pair in word_pairs:\n",
    "\tsimilarity = glove_model.similarity(pair[0], pair[1])\n",
    "\tprint(f\"Similarity between '{pair[0]}' and '{pair[1]}' using GloVe: {similarity:.3f}\")\n"
   ]
  },
  {
   "cell_type": "markdown",
   "id": "28c55b60",
   "metadata": {},
   "source": [
    "Output:\n",
    "\n",
    ">Similarity between 'learn' and 'learning' using GloVe: 0.802\n",
    ">\n",
    ">Similarity between 'india' and 'indian' using GloVe: 0.865\n",
    ">\n",
    ">Similarity between 'fame' and 'famous' using GloVe: 0.589"
   ]
  },
  {
   "cell_type": "markdown",
   "id": "e2847def",
   "metadata": {},
   "source": [
    "### Fasttext"
   ]
  },
  {
   "cell_type": "markdown",
   "id": "dfec4ddf",
   "metadata": {},
   "source": [
    "Developed by Facebook, FastText extends Word2Vec by representing words as bags of character n-grams. This approach is particularly useful for handling out-of-vocabulary words and capturing morphological variations."
   ]
  },
  {
   "cell_type": "code",
   "execution_count": null,
   "id": "eebd305d",
   "metadata": {},
   "outputs": [],
   "source": [
    "import gensim.downloader as api\n",
    "fasttext_model = api.load(\"fasttext-wiki-news-subwords-300\") ## Load the pre-trained fastText model\n",
    "# Define word pairs to compute similarity for\n",
    "word_pairs = [('learn', 'learning'), ('india', 'indian'), ('fame', 'famous')]\n",
    "\n",
    "# Compute similarity for each pair of words\n",
    "for pair in word_pairs:\n",
    "\tsimilarity = fasttext_model.similarity(pair[0], pair[1])\n",
    "\tprint(f\"Similarity between '{pair[0]}' and '{pair[1]}' using FastText: {similarity:.3f}\")\n"
   ]
  },
  {
   "cell_type": "markdown",
   "id": "157465a1",
   "metadata": {},
   "source": [
    "Output:\n",
    "\n",
    ">Similarity between 'learn' and 'learning' using Word2Vec: 0.642\n",
    ">\n",
    ">Similarity between 'india' and 'indian' using Word2Vec: 0.708\n",
    ">\n",
    ">Similarity between 'fame' and 'famous' using Word2Vec: 0.519"
   ]
  },
  {
   "cell_type": "markdown",
   "id": "81b1af62",
   "metadata": {},
   "source": [
    "### BERT (Bidirectional Encoder Representations from Transformers)"
   ]
  },
  {
   "cell_type": "markdown",
   "id": "5c151177",
   "metadata": {},
   "source": [
    "BERT is a transformer-based model that learns contextualized embeddings for words. It considers the entire context of a word by considering both left and right contexts, resulting in embeddings that capture rich contextual information."
   ]
  },
  {
   "cell_type": "code",
   "execution_count": null,
   "id": "332b65ea",
   "metadata": {},
   "outputs": [],
   "source": [
    "from transformers import BertTokenizer, BertModel\n",
    "import torch\n",
    "\n",
    "# Load pre-trained BERT model and tokenizer\n",
    "model_name = 'bert-base-uncased'\n",
    "tokenizer = BertTokenizer.from_pretrained(model_name)\n",
    "model = BertModel.from_pretrained(model_name)\n",
    "\n",
    "word_pairs = [('learn', 'learning'), ('india', 'indian'), ('fame', 'famous')]\n",
    "\n",
    "# Compute similarity for each pair of words\n",
    "for pair in word_pairs:\n",
    "\ttokens = tokenizer(pair, return_tensors='pt')\n",
    "\twith torch.no_grad():\n",
    "\t\toutputs = model(**tokens)\n",
    "\t\n",
    "\t# Extract embeddings for the [CLS] token\n",
    "\tcls_embedding = outputs.last_hidden_state[:, 0, :]\n",
    "\n",
    "\tsimilarity = torch.nn.functional.cosine_similarity(cls_embedding[0], cls_embedding[1], dim=0)\n",
    "\t\n",
    "\tprint(f\"Similarity between '{pair[0]}' and '{pair[1]}' using BERT: {similarity:.3f}\")\n"
   ]
  },
  {
   "cell_type": "markdown",
   "id": "a58c5b0d",
   "metadata": {},
   "source": [
    "Output:\n",
    "\n",
    ">Similarity between 'learn' and 'learning' using BERT: 0.930\n",
    ">\n",
    ">Similarity between 'india' and 'indian' using BERT: 0.957\n",
    ">\n",
    ">Similarity between 'fame' and 'famous' using BERT: 0.956"
   ]
  },
  {
   "cell_type": "markdown",
   "id": "66f947fb",
   "metadata": {},
   "source": [
    "## Considerations for Deploying Word Embedding Models"
   ]
  },
  {
   "cell_type": "markdown",
   "id": "6a613911",
   "metadata": {},
   "source": [
    "+ You need to use the exact same pipeline during deploying your model as were used to create the training data for the word embedding. If you use a different tokenizer or different method of handling white space, punctuation etc. you might end up with incompatible inputs."
   ]
  },
  {
   "cell_type": "markdown",
   "id": "5fa07fb4",
   "metadata": {},
   "source": [
    "+ Words in your input that doesn’t have a pre-trained vector. Such words are known as Out of Vocabulary Word(oov). What you can do is replace those words with “UNK” which means unknown and then handle them separately."
   ]
  },
  {
   "cell_type": "markdown",
   "id": "6a10d779",
   "metadata": {},
   "source": [
    "+ Dimension mis-match: Vectors can be of many lengths. If you train a model with vectors of length say 400 and then try to apply vectors of length 1000 at inference time, you will run into errors. So make sure to use the same dimensions throughout."
   ]
  },
  {
   "cell_type": "markdown",
   "id": "d15dc1cd",
   "metadata": {},
   "source": [
    "## Advantages and Disadvantage of Word Embeddings"
   ]
  },
  {
   "cell_type": "markdown",
   "id": "bfef3ca2",
   "metadata": {},
   "source": [
    "### Advantages"
   ]
  },
  {
   "cell_type": "markdown",
   "id": "e3250120",
   "metadata": {},
   "source": [
    "+ It is much faster to train than hand build models like WordNet (which uses graph embeddings).\n",
    "+ Almost all modern NLP applications start with an embedding layer.\n",
    "+ It Stores an approximation of meaning."
   ]
  },
  {
   "cell_type": "markdown",
   "id": "9c43e912",
   "metadata": {},
   "source": [
    "### Disadvantages"
   ]
  },
  {
   "cell_type": "markdown",
   "id": "e57b362a",
   "metadata": {},
   "source": [
    "+ It can be memory intensive.\n",
    "+ It is corpus dependent. Any underlying bias will have an effect on your model.\n",
    "+ It cannot distinguish between homophones. Eg: brake/break, cell/sell, weather/whether etc."
   ]
  },
  {
   "cell_type": "markdown",
   "id": "f18cb460",
   "metadata": {},
   "source": [
    "## Conclusion"
   ]
  },
  {
   "cell_type": "markdown",
   "id": "88044847",
   "metadata": {},
   "source": [
    "In conclusion, word embedding techniques such as TF-IDF, Word2Vec, and GloVe play a crucial role in natural language processing by representing words in a lower-dimensional space, capturing semantic and syntactic information."
   ]
  },
  {
   "cell_type": "markdown",
   "id": "13556362",
   "metadata": {},
   "source": [
    "## Your turn! 🚀\n",
    "\n",
    "Assignment - [News topic classification tasks](../../assignments/deep-learning/nlp/news-topic-classification-tasks.ipynb)\n",
    "\n",
    "## Acknowledgments\n",
    "\n",
    "Thanks to [GeeksforGeeks](https://auth.geeksforgeeks.org/user/shristikotaiah/articles?utm_source=geeksforgeeks&utm_medium=article_author&utm_campaign=auth_user) for creating the open-source project [Word Embeddings in NLP](https://www.geeksforgeeks.org/word-embeddings-in-nlp).It inspire the majority of the content in this chapter."
   ]
  }
 ],
 "metadata": {
  "kernelspec": {
   "display_name": "Python 3 (ipykernel)",
   "language": "python",
   "name": "python3"
  },
  "language_info": {
   "codemirror_mode": {
    "name": "ipython",
    "version": 3
   },
   "file_extension": ".py",
   "mimetype": "text/x-python",
   "name": "python",
   "nbconvert_exporter": "python",
   "pygments_lexer": "ipython3",
   "version": "3.9.13"
  }
 },
 "nbformat": 4,
 "nbformat_minor": 5
}
