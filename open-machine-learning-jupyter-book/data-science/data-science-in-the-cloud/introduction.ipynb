{
 "cells": [
  {
   "cell_type": "markdown",
   "id": "3a4fd454-064e-4abe-a85a-e4fa3fc480d2",
   "metadata": {
    "tags": [
     "hide-cell"
    ]
   },
   "source": [
    "---\n",
    "jupytext:\n",
    "  cell_metadata_filter: -all\n",
    "  formats: md:myst\n",
    "  text_representation:\n",
    "    extension: .md\n",
    "    format_name: myst\n",
    "    format_version: 0.13\n",
    "    jupytext_version: 1.11.5\n",
    "kernelspec:\n",
    "  display_name: Python 3\n",
    "  language: python\n",
    "  name: python3\n",
    "---\n"
   ]
  },
  {
   "cell_type": "code",
   "execution_count": 1,
   "id": "115df6f4-970c-40fe-b8cb-d8d6399d3b5f",
   "metadata": {
    "tags": [
     "hide-input"
    ]
   },
   "outputs": [
    {
     "name": "stderr",
     "output_type": "stream",
     "text": [
      "此时不应有 -m。\n"
     ]
    }
   ],
   "source": [
    "import os\n",
    "import sys\n",
    "!(sys.executable) -m pip install --quiet pandas scikit-learn numpy matplotlib jupyterlab_myst ipython\n"
   ]
  },
  {
   "cell_type": "markdown",
   "id": "8937ab8d",
   "metadata": {},
   "source": [
    "# Introduction\n",
    "\n",
    "In this section, you will learn the fundamental principles of the cloud, then you will see why it can be interesting for you to use cloud services to run your data science projects and we'll look at some examples of data science projects run in the cloud.\n",
    "\n",
    "## What is the cloud?\n",
    "\n",
    "The Cloud, or Cloud Computing, is the delivery of a wide range of pay-as-you-go computing services hosted on infrastructure over the internet. Services include solutions such as storage, databases, networking, software, analytics, and intelligent services.\n",
    "\n",
    "We usually differentiate the Public, Private and Hybrid clouds as follows:\n",
    "\n",
    "* Public cloud: a public cloud is owned and operated by a third-party cloud service provider which delivers its computing resources over the Internet to the public.\n",
    "* Private cloud: refers to cloud computing resources used exclusively by a single business or organization, with services and infrastructure maintained on a private network.\n",
    "* Hybrid cloud: the hybrid cloud is a system that combines public and private clouds. Users opt for an on-premises data center while allowing data and applications to be run on one or more public clouds.\n",
    "\n",
    "Most cloud computing services fall into three categories: Infrastructure as a Service (IaaS), Platform as a Service (PaaS) and Software as a Service (SaaS).\n",
    "\n",
    "* Infrastructure as a Service (IaaS): users rent an IT infrastructure such as servers and virtual machines (VMs), storage, networks, operating systems\n",
    "* Platform as a Service (PaaS): users rent an environment for developing, testing, delivering, and managing software applications. Users don鈥檛 need to worry about setting up or managing the underlying infrastructure of servers, storage, network, and databases needed for development.\n",
    "* Software as a Service (SaaS): users get access to software applications over the Internet, on-demand and typically on a subscription basis. Users don't need to worry about hosting and managing the software application, the underlying infrastructure or the maintenance, like software upgrades and security patching.\n",
    "\n",
    "Some of the largest Cloud providers are Amazon Web Services, Google Cloud Platform and Microsoft Azure.\n",
    "\n",
    "## Why choose the cloud for Data Science?\n",
    "\n",
    "Developers and IT professionals chose to work with the Cloud for many reasons, including the following:\n",
    "\n",
    "* Innovation: you can power your applications by integrating innovative services created by Cloud providers directly into your apps.\n",
    "* Flexibility: you only pay for the services that you need and can choose from a wide range of services. You typically pay as you go and adapt your services according to your evolving needs.\n",
    "* Budget: you don't need to make initial investments to purchase hardware and software, set up and run on-site data centers and you can just pay for what you use.\n",
    "* Scalability: your resources can scale according to the needs of your project, which means that your apps can use more or less computing power, storage and bandwidth, by adapting to external factors at any given time.\n",
    "* Productivity: you can focus on your business rather than spending time on tasks that can be managed by someone else, such as managing data centers.\n",
    "* Reliability: Cloud Computing offers several ways to continuously back up your data and you can set up disaster recovery plans to keep your business and services going, even in times of crisis.\n",
    "* Security: you can benefit from policies, technologies and controls that strengthen the security of your project.\n",
    "\n",
    "These are some of the most common reasons why people choose to use Cloud services. Now that we have a better understanding of what the Cloud is and what its main benefits are, let's look more specifically into the jobs of Data scientists and developers working with data, and how the Cloud can help them with several challenges they might face:\n",
    "\n",
    "* Storing large amounts of data: instead of buying, managing and protecting big servers, you can store your data directly in the cloud, with solutions such as Azure Cosmos DB, Azure SQL Database and Azure Data Lake Storage.\n",
    "* Performing Data Integration: data integration is an essential part of Data Science, that lets you make a transition from data collection to taking action. With data integration services offered in the cloud, you can collect, transform and integrate data from various sources into a single data warehouse, with Data Factory.\n",
    "* Processing data: processing vast amounts of data requires a lot of computing power, and not everyone has access to machines powerful enough for that, which is why many people choose to directly harness the cloud's huge computing power to run and deploy their solutions.\n",
    "* Using data analytics services: cloud services like Azure Synapse Analytics, Azure Stream Analytics and Azure Databricks to help you turn your data into actionable insights.\n",
    "* Using Machine Learning and data intelligence services: Instead of starting from scratch, you can use machine learning algorithms offered by the cloud provider, with services such as AzureML. You can also use cognitive services such as speech-to-text, text-to-speech, computer vision and more.\n",
    "\n",
    "## Examples of Data Science in the cloud\n",
    "\n",
    "Let's make this more tangible by looking at a couple of scenarios.\n",
    "\n",
    "### Real-time social media sentiment analysis\n",
    "\n",
    "We'll start with a scenario commonly studied by people who start with machine learning: social media sentiment analysis in real time.\n",
    "\n",
    "Let's say you run a news media website and you want to leverage live data to understand what content your readers could be interested in. To know more about that, you can build a program that performs real-time sentiment analysis of data from Twitter publications, on topics that are relevant to your readers.\n",
    "\n",
    "The key indicators you will look at are the volume of tweets on specific topics (hashtags) and sentiment, which is established using analytics tools that perform sentiment analysis around the specified topics.\n",
    "\n",
    "The steps necessary to create this project are as follows:\n",
    "\n",
    "* Create an event hub for streaming input, which will collect data from Twitter.\n",
    "* Configure and start a Twitter client application, which will call the Twitter Streaming APIs.\n",
    "* Create a Stream Analytics job.\n",
    "* Specify the job input and query.\n",
    "* Create an output sink and specify the job output.\n",
    "* Start the job.\n",
    "\n",
    "To view the full process, check out the [documentation](https://docs.microsoft.com/azure/stream-analytics/stream-analytics-twitter-sentiment-analysis-trends?WT.mc_id=academic-77958-bethanycheum&ocid=AID30411099).\n",
    "\n",
    "### Scientific papers analysis\n",
    "\n",
    "Let's take another example of a project created by [Dmitry Soshnikov](http://soshnikov.com), one of the authors of this curriculum.\n",
    "\n",
    "Dmitry created a tool that analyses COVID papers. By reviewing this project, you will see how you can create a tool that extracts knowledge from scientific papers, gains insights and helps researchers navigate through large collections of papers in an efficient way.\n",
    "\n",
    "Lets see the different steps used for this:\n",
    "\n",
    "* Extracting and pre-processing information with [Text Analytics for Health](https://docs.microsoft.com/azure/cognitive-services/text-analytics/how-tos/text-analytics-for-health?WT.mc_id=academic-77958-bethanycheum&ocid=AID3041109).\n",
    "* Using [Azure ML](https://azure.microsoft.com/services/machine-learning?WT.mc_id=academic-77958-bethanycheum&ocid=AID3041109) to parallelize the processing.\n",
    "* Storing and querying information with [Cosmos DB](https://azure.microsoft.com/services/cosmos-db?WT.mc_id=academic-77958-bethanycheum&ocid=AID3041109).\n",
    "* Create an interactive dashboard for data exploration and visualization using Power BI.\n",
    "\n",
    "To see the full process, visit [Dmitry's blog](https://soshnikov.com/science/analyzing-medical-papers-with-azure-and-text-analytics-for-health/).\n",
    "\n",
    "As you can see, we can leverage Cloud services in many ways to perform Data Science.\n",
    "\n",
    "## Self study\n",
    "\n",
    "* [What Is Cloud Computing? A Beginner's Guide | Microsoft Azure](https://azure.microsoft.com/overview/what-is-cloud-computing?ocid=AID3041109)\n",
    "* [Social media analysis with Azure Stream Analytics | Microsoft Learn](https://docs.microsoft.com/azure/stream-analytics/stream-analytics-twitter-sentiment-analysis-trends?ocid=AID3041109)\n",
    "* [Analyzing COVID Medical Papers with Azure and Text Analytics for Health](https://soshnikov.com/science/analyzing-medical-papers-with-azure-and-text-analytics-for-health/)\n",
    "\n",
    "## Your turn! 馃殌\n",
    "\n",
    "[Market research](https://static-1300131294.cos.ap-shanghai.myqcloud.com\n",
    "/assignments/data-science/market-research.md)\n",
    "\n",
    "## Acknowledgments\n",
    "\n",
    "Thanks to Microsoft for creating the open-source course [Data Science for Beginners](https://github.com/microsoft/Data-Science-For-Beginners). It inspires the majority of the content in this chapter."
   ]
  }
 ],
 "metadata": {
  "kernelspec": {
   "display_name": "Python 3 (ipykernel)",
   "language": "python",
   "name": "python3"
  },
  "language_info": {
   "codemirror_mode": {
    "name": "ipython",
    "version": 3
   },
   "file_extension": ".py",
   "mimetype": "text/x-python",
   "name": "python",
   "nbconvert_exporter": "python",
   "pygments_lexer": "ipython3",
   "version": "3.11.4"
  }
 },
 "nbformat": 4,
 "nbformat_minor": 5
}
