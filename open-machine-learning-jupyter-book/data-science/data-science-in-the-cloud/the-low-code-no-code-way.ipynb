{
 "cells": [
  {
   "cell_type": "code",
   "execution_count": 6,
   "id": "0a80de56-2278-4fd1-941e-c11d67db53e9",
   "metadata": {
    "tags": [
     "hide-cell"
    ]
   },
   "outputs": [],
   "source": [
    "# Install the necessary dependencies\n",
    "\n",
    "import os\n",
    "import sys \n",
    "!{sys.executable} -m pip install --quiet pandas scikit-learn numpy matplotlib jupyterlab_myst ipython"
   ]
  },
  {
   "cell_type": "markdown",
   "id": "9af51c62",
   "metadata": {
    "tags": [
     "remove-code"
    ]
   },
   "source": [
    "---\n",
    "license:\n",
    "    code: MIT\n",
    "    content: CC-BY-4.0\n",
    "github: https://github.com/ocademy-ai/machine-learning\n",
    "venue: By Ocademy\n",
    "open_access: true\n",
    "bibliography:\n",
    "  - https://raw.githubusercontent.com/ocademy-ai/machine-learning/main/open-machine-learning-jupyter-book/references.bib\n",
    "---"
   ]
  },
  {
   "cell_type": "markdown",
   "id": "079cbda6",
   "metadata": {},
   "source": [
    "# The \"low code/no code\" way\n",
    "\n",
    "## What is Azure Machine Learning(ML)?\n",
    "\n",
    "The Azure cloud platform is more than 200 products and cloud services designed to help you bring new solutions to life. Data scientists expend a lot of effort exploring and pre-processing data and trying various types of model-training algorithms to produce accurate models. These tasks are time-consuming and often make inefficient use of expensive compute hardware.\n",
    "\n",
    "[Azure ML](https://docs.microsoft.com/azure/machine-learning/overview-what-is-azure-machine-learning?WT.mc_id=academic-77958-bethanycheum&ocid=AID3041109) is a cloud-based platform for building and operating Machine Learning solutions in Azure. It includes a wide range of features and capabilities that help data scientists prepare data, train models, publish predictive services, and monitor their usage. Most importantly, it helps them to increase their efficiency by automating many of the time-consuming tasks associated with training models; and it enables them to use cloud-based compute resources that scale effectively, to handle large volumes of data while incurring costs only when actually used.\n",
    "\n",
    "Azure ML provides all the tools developers and data scientists need for their Machine Learning workflows. These include:\n",
    "\n",
    "- **Azure Machine Learning Studio**: it is a web portal in Azure Machine Learning for low-code and no-code options for model training, deployment, automation, tracking and asset management. The studio integrates with the Azure Machine Learning SDK for a seamless experience.\n",
    "- **Jupyter Notebooks**: quickly prototype and test ML models.\n",
    "- **Azure Machine Learning Designer**: allows to drag-n-drop modules to build experiments and then deploy pipelines in a low-code environment.\n",
    "- **Automated Machine Learning UI (AutoML)** : automates iterative tasks of Machine Learning model development, allowing to build Machine Learning models with high scale, efficiency, and productivity, all while sustaining model quality.\n",
    "- **Data Labelling**: an assisted ML tool to automatically label data.\n",
    "- **Machine Learning extension for Visual Studio Code**: provides a full-featured development environment for building and managing Machine Learning projects.\n",
    "- **Machine Learning CLI**: provides commands for managing Azure ML resources from the command line.\n",
    "- **Integration with open-source frameworks** such as PyTorch, TensorFlow, Scikit-learn and many more for training, deploying and managing the end-to-end Machine Learning process.\n",
    "- **MLflow**: It is an open-source library for managing the life cycle of your Lachine Learning experiments. **MLflow Tracking** is a component of MLflow that logs and tracks your training run metrics and model artifacts, irrespective of your experiment's environment.\n",
    "\n",
    "## The heart failure prediction project\n",
    "\n",
    "There is no doubt that making and building projects are the best way to put your skills and knowledge to the test. In this section, we are going to explore two different ways of building a data science project for the prediction of heart failure attacks in Azure ML Studio, through Low code/No code and through the Azure ML SDK as shown in the following schema:\n",
    "\n",
    "![project-schema](https://static-1300131294.cos.ap-shanghai.myqcloud.com/images/project-schema.png)\n",
    "\n",
    "Each way has its own pros and cons. The Low code/No code way is easier to start with as it involves interacting with a GUI (Graphical User Interface), with no prior knowledge of code required. This method enables quick testing of the project's viability and to create POC (Proof Of Concept). However, as the project grows and things need to be production ready, it is not feasible to create resources through GUI. We need to programmatically automate everything, from the creation of resources to the deployment of a model. This is where knowing how to use the Azure ML SDK becomes crucial.\n",
    "\n",
    "|                   | Low code/no code | Azure ML SDK              |\n",
    "|-------------------|------------------|---------------------------|\n",
    "| Expertise in code | Not required     | Required                  |\n",
    "| Time to develop   | Fast and easy    | Depends on code expertise |\n",
    "| Production ready  | No               | Yes                       |\n",
    "\n",
    "## The heart failure dataset\n",
    "\n",
    "Cardiovascular diseases (CVDs) are the number 1 cause of death globally, accounting for 31% of all deaths worldwide. Environmental and behavioral risk factors such as use of tobacco, unhealthy diet and obesity, physical inactivity and harmful use of alcohol could be used as features for estimation models. Being able to estimate the probability of the development of a CVD could be of great use to prevent attacks in high-risk people.\n",
    "\n",
    "Kaggle has made a [Heart Failure dataset](https://www.kaggle.com/andrewmvd/heart-failure-clinical-data) publicly available, that we are going to use for this project. You can download the dataset now. This is a tabular dataset with 13 columns (12 features and 1 target variable) and 299 rows.\n",
    "\n",
    "|    | Variable name             | Type            | Description                                               | Example           |\n",
    "|----|---------------------------|-----------------|-----------------------------------------------------------|-------------------|\n",
    "| 1  | age                       | numerical       | age of the patient                                        | 25                |\n",
    "| 2  | anaemia                   | boolean         | Decrease of red blood cells or haemoglobin                | 0 or 1            |\n",
    "| 3  | creatinine_phosphokinase  | numerical       | Level of CPK enzyme in the blood                          | 542               |\n",
    "| 4  | diabetes                  | boolean         | If the patient has diabetes                               | 0 or 1            |\n",
    "| 5  | ejection_fraction         | numerical       | Percentage of blood leaving the heart on each contraction | 45                |\n",
    "| 6  | high_blood_pressure       | boolean         | If the patient has hypertension                           | 0 or 1            |\n",
    "| 7  | platelets                 | numerical       | Platelets in the blood                                    | 149000            |\n",
    "| 8  | serum_creatinine          | numerical       | Level of serum creatinine in the blood                    | 0.5               |\n",
    "| 9  | serum_sodium              | numerical       | Level of serum sodium in the blood                        | jun               |\n",
    "| 10 | sex                       | boolean         | woman or man                                              | 0 or 1            |\n",
    "| 11 | smoking                   | boolean         | If the patient smokes                                     | 0 or 1            |\n",
    "| 12 | time                      | numerical       | follow-up period (days)                                   | 4                 |\n",
    "|----|---------------------------|-----------------|-----------------------------------------------------------|-------------------|\n",
    "| 21 | DEATH_EVENT [Target]      | boolean         | if the patient dies during the follow-up period           | 0 or 1            |\n",
    "\n",
    "Once you have the dataset, we can start the project in Azure.\n",
    "\n",
    "## Low code/no code training of a model in Azure ML Studio\n",
    "\n",
    "### Create an Azure ML workspace\n",
    "\n",
    "To train a model in Azure ML you first need to create an Azure ML workspace. The workspace is the top-level resource for Azure Machine Learning, providing a centralized place to work with all the artifacts you create when you use Azure Machine Learning. The workspace keeps a history of all training runs, including logs, metrics, output, and a snapshot of your scripts. You use this information to determine which training run produces the best model. [Learn more](https://docs.microsoft.com/azure/machine-learning/concept-workspace?WT.mc_id=academic-77958-bethanycheum&ocid=AID3041109).\n",
    "\n",
    "It is recommended to use the most up-to-date browser that's compatible with your operating system. The following browsers are supported:\n",
    "\n",
    "- Microsoft Edge (The new Microsoft Edge, the latest version. Not Microsoft Edge legacy)\n",
    "- Safari (latest version, Mac only)\n",
    "- Chrome (latest version)\n",
    "- Firefox (latest version)\n",
    "\n",
    "To use Azure Machine Learning, create a workspace in your Azure subscription. You can then use this workspace to manage data, compute resources, code, models, and other artifacts related to your Machine Learning workloads.\n",
    "\n",
    ":::{note}\n",
    "Your Azure subscription will be charged a small amount for data storage as long as the Azure Machine Learning workspace exists in your subscription, so we recommend you to delete the Azure Machine Learning workspace when you are no longer using it.\n",
    ":::\n",
    "\n",
    "1\\. Sign in to the [Azure portal](https://ms.portal.azure.com/) using the Microsoft credentials associated with your Azure subscription.\n",
    "\n",
    "2\\. Select **＋Create a resource**.\n",
    "\n",
    "![workspace-1](https://static-1300131294.cos.ap-shanghai.myqcloud.com/images/workspace-1.PNG)\n",
    "\n",
    "Search for Machine Learning and select the Machine Learning tile.\n",
    "\n",
    "![workspace-2](https://static-1300131294.cos.ap-shanghai.myqcloud.com/images/workspace-2.PNG)\n",
    "\n",
    "Click the create button.\n",
    "\n",
    "![workspace-3](https://static-1300131294.cos.ap-shanghai.myqcloud.com/images/workspace-3.PNG)\n",
    "\n",
    "Fill in the settings as follows:\n",
    "\n",
    "- Subscription: Your Azure subscription.\n",
    "- Resource group: Create or select a resource group.\n",
    "- Workspace name: Enter a unique name for your workspace.\n",
    "- Region: Select the geographical region closest to you.\n",
    "- Storage account: Note the default new storage account that will be created for your workspace.\n",
    "- Key vault: Note the default new key vault that will be created for your workspace.\n",
    "- Application insights: Note the default new application insights resource that will be created for your workspace.\n",
    "- Container registry: None (one will be created automatically the first time you deploy a model to a container)\n",
    "  ![workspace-4](https://static-1300131294.cos.ap-shanghai.myqcloud.com/images/workspace-4.PNG).\n",
    "- Click the create + review and then on the create button.\n",
    "  \n",
    "3\\. Wait for your workspace to be created (this can take a few minutes). Then go to it in the portal. You can find it through the Machine Learning Azure service.\n",
    "\n",
    "4\\. On the Overview page for your workspace, launch Azure Machine Learning studio (or open a new browser tab and navigate to [Azure ML](https://ml.azure.com), and sign into Azure Machine Learning studio using your Microsoft account. If prompted, select your Azure directory and subscription, and your Azure Machine Learning workspace.\n",
    "\n",
    "![workspace-5](https://static-1300131294.cos.ap-shanghai.myqcloud.com/images/workspace-5.PNG)\n",
    "\n",
    "5\\. In Azure Machine Learning Studio, toggle the 鈽?icon at the top left to view the various pages in the interface. You can use these pages to manage the resources in your workspace.\n",
    "\n",
    "![workspace-6](https://static-1300131294.cos.ap-shanghai.myqcloud.com/images/workspace-6.PNG)\n",
    "\n",
    "You can manage your workspace using the Azure portal, but for data scientists and Machine Learning operations engineers, Azure Machine Learning Studio provides a more focused user interface for managing workspace resources.\n",
    "\n",
    "### Compute resources\n",
    "\n",
    "Compute Resources are cloud-based resources on which you can run model training and data exploration processes. There are four kinds of compute resource you can create:\n",
    "\n",
    "- **Compute Instances**: Development workstations that data scientists can use to work with data and models. This involves the creation of a Virtual Machine (VM) and launching a notebook instance. You can then train a model by calling a computer cluster from the notebook.\n",
    "- **Compute Clusters**: Scalable clusters of VMs for on-demand processing of experiment code. You will need it when training a model. Compute clusters can also employ specialized GPU or CPU resources.\n",
    "- **Inference Clusters**: Deployment targets for predictive services that use your trained models.\n",
    "- **Attached Compute**: Links to existing Azure compute resources, such as Virtual Machines or Azure Databricks clusters.\n",
    "\n",
    "### Choosing the right options for your compute resources\n",
    "\n",
    "Some key factors are to consider when creating a compute resource and those choices can be critical decisions to make. \n",
    "\n",
    "**Do you need CPU or GPU?**\n",
    "\n",
    "A CPU (Central Processing Unit) is the electronic circuitry that executes instructions comprising a computer program. A GPU (Graphics Processing Unit) is a specialized electronic circuit that can execute graphics-related code at a very high rate. \n",
    "\n",
    "The main difference between CPU and GPU architecture is that a CPU is designed to handle a wide-range of tasks quickly (as measured by CPU clock speed), but are limited in the concurrency of tasks that can be running. GPUs are designed for parallel computing and therefore are much better at deep learning tasks.\n",
    "\n",
    "| CPU                                     | GPU                         |\n",
    "|-----------------------------------------|-----------------------------|\n",
    "| Less expensive                          | More expensive              |\n",
    "| Lower level of concurrency              | Higher level of concurrency |\n",
    "| Slower in training deep learning models | Optimal for deep learning   |\n",
    "\n",
    "**Cluster size**\n",
    "\n",
    "Larger clusters are more expensive but will result in better responsiveness. Therefore, if you have time but not enough money, you should start with a small cluster. Conversely, if you have money but not much time, you should start with a larger cluster.\n",
    "\n",
    "**VM size**\n",
    "\n",
    "Depending on your time and budgetary constraints, you can vary the size of your RAM, disk, number of cores and clock speed. Increasing all those parameters will be costlier, but will result in better performance.\n",
    "\n",
    "**Dedicated or low-priority instances?**\n",
    "\n",
    "A low-priority instance means that it is interruptible: essentially, Microsoft Azure can take those resources and assign them to another task, thus interrupting a job. A dedicated instance, or non-interruptible, means that the job will never be terminated without your permission.\n",
    "This is another consideration of time vs money, since interruptible instances are less expensive than dedicated ones.\n",
    "\n",
    "### Creating a compute cluster\n",
    "\n",
    "In the [Azure ML workspace](https://ml.azure.com/) that we created earlier, go to compute and you will be able to see the different compute resources we just discussed (i.e compute instances, compute clusters, inference clusters and attached compute). For this project, we are going to need a compute cluster for model training. In the Studio, Click on the \"Compute\" menu, then the \"Compute cluster\" tab and click on the \"+ New\" button to create a compute cluster.\n",
    "\n",
    "![22](https://static-1300131294.cos.ap-shanghai.myqcloud.com/images/cluster-1.PNG)\n",
    "\n",
    "6\\. Choose your options: Dedicated vs Low priority, CPU or GPU, VM size and core number (you can keep the default settings for this project).\n",
    "\n",
    "7\\. Click on the Next button.\n",
    "\n",
    "![23](https://static-1300131294.cos.ap-shanghai.myqcloud.com/images/cluster-2.PNG)\n",
    "\n",
    "8\\. Give the cluster a compute name\n",
    "\n",
    "9\\. Choose your options: Minimum/Maximum number of nodes, Idle seconds before scale down, SSH access. Note that if the minimum number of nodes is 0, you will save money when the cluster is idle. Note that the higher the number of maximum nodes, the shorter the training will be. The maximum number of nodes recommended is 3.  \n",
    "\n",
    "10\\. Click on the \"Create\" button. This step may take a few minutes.\n",
    "![29](https://static-1300131294.cos.ap-shanghai.myqcloud.com/images/cluster-3.PNG)\n",
    "\n",
    "Awesome! Now that we have a Compute cluster, we need to load the data to Azure ML Studio.\n",
    "\n",
    "### Loading the dataset\n",
    "\n",
    "11\\. In the [Azure ML workspace](https://ml.azure.com/) that we created earlier, click on \"Datasets\" in the left menu and click on the \"+ Create dataset\" button to create a dataset. Choose the \"From local files\" option and select the Kaggle dataset we downloaded earlier.\n",
    "![24](https://static-1300131294.cos.ap-shanghai.myqcloud.com/images/dataset-1.PNG)\n",
    "\n",
    "12\\. Give your dataset a name, a type and a description. Click Next. Upload the data from files. Click Next.\n",
    "![25](https://static-1300131294.cos.ap-shanghai.myqcloud.com/images/dataset-2.PNG)\n",
    "\n",
    "13\\. In the Schema, change the data type to Boolean for the following features: anemia, diabetes, high blood pressure, sex, smoking, and DEATH_EVENT. Click Next and Click Create.\n",
    "![26](https://static-1300131294.cos.ap-shanghai.myqcloud.com/images/dataset-3.PNG)\n",
    "\n",
    "Great! Now that the dataset is in place and the compute cluster is created, we can start the training of the model!\n",
    "\n",
    "## Low code/no code training with AutoML\n",
    "\n",
    "Traditional Machine Learning model development is resource-intensive, requires significant domain knowledge and time to produce and compare dozens of models. \n",
    "Automated Machine Learning (AutoML), is the process of automating the time-consuming, iterative tasks of Machine Learning model development. It allows data scientists, analysts, and developers to build ML models with high scale, efficiency, and productivity, all while sustaining model quality. It reduces the time it takes to get production-ready ML models, with great ease and efficiency. [Learn more](https://docs.microsoft.com/azure/machine-learning/concept-automated-ml?WT.mc_id=academic-77958-bethanycheum&ocid=AID3041109)\n",
    "\n",
    "14\\. In the [Azure ML workspace](https://ml.azure.com/) that we created earlier click on \"Automated ML\" in the left menu and select the dataset you just uploaded. Click Next.\n",
    "![27](https://static-1300131294.cos.ap-shanghai.myqcloud.com/images/aml-1.PNG)\n",
    "\n",
    "15\\.  Enter a new experiment name, the target column (DEATH_EVENT) and the compute cluster we created. Click Next.\n",
    "![28](https://static-1300131294.cos.ap-shanghai.myqcloud.com/images/aml-2.PNG)\n",
    "\n",
    "16\\. Choose \"Classification\" and Click Finish. This step might take between 30 minutes to 1 hour, depending upon your compute cluster size.\n",
    "![30](https://static-1300131294.cos.ap-shanghai.myqcloud.com/images/aml-3.PNG)\n",
    "\n",
    "17\\. Once the run is complete, click on the \"Automated ML\" tab, click on your run, and click on the Algorithm in the \"Best model summary\" card.\n",
    "![31](https://static-1300131294.cos.ap-shanghai.myqcloud.com/images/aml-4.PNG)\n",
    "\n",
    "Here you can see a detailed description of the best model that AutoML generated. You can also explore other modes generated in the Models tab. Take a few minutes to explore the models in the Explanations (preview button). Once you have chosen the model you want to use (here we will choose the best model selected by autoML), we will see how we can deploy it.\n",
    "\n",
    "## Low code/no code model deployment and endpoint consumption\n",
    "\n",
    "### Model deployment\n",
    "\n",
    "The automated Machine Learning interface allows you to deploy the best model as a web service in a few steps. Deployment is the integration of the model so that it can make predictions based on new data and identify potential areas of opportunity. For this project, deployment to a web service means that medical applications will be able to consume the model to be able to make live predictions of their patient's risk to get a heart attack.\n",
    "\n",
    "In the best model description, click on the \"Deploy\" button.\n",
    "\n",
    "![deploy-1](https://static-1300131294.cos.ap-shanghai.myqcloud.com/images/deploy-1.PNG)\n",
    "\n",
    "18\\. Give it a name, a description, compute type (Azure Container Instance), enable authentication and click on Deploy. This step might take about 20 minutes to complete. The deployment process entails several steps including registering the model, generating resources, and configuring them for the web service. A status message appears under Deploy status. Select Refresh periodically to check the deployment status. It is deployed and running when the status is \"Healthy\".\n",
    "\n",
    "![deploy-2](https://static-1300131294.cos.ap-shanghai.myqcloud.com/images/deploy-2.PNG)\n",
    "\n",
    "19\\. Once it has been deployed, click on the Endpoint tab and click on the endpoint you just deployed. You can find here all the details you need to know about the endpoint. \n",
    "\n",
    "![deploy-3](https://static-1300131294.cos.ap-shanghai.myqcloud.com/images/deploy-3.PNG)\n",
    "\n",
    "Amazing! Now that we have a model deployed, we can start the consumption of the endpoint.\n",
    "\n",
    "### Endpoint consumption\n",
    "\n",
    "Click on the \"Consume\" tab. Here you can find the REST endpoint and a python script in the consumption option. Take some time to read the python code. \n",
    "\n",
    "This script can be run directly from your local machine and will consume your endpoint.\n",
    "\n",
    "![35](https://static-1300131294.cos.ap-shanghai.myqcloud.com/images/consumption-1.PNG)\n",
    "\n",
    "Take a moment to check those 2 lines of code:"
   ]
  },
  {
   "cell_type": "code",
   "execution_count": 7,
   "id": "88ad0a9c",
   "metadata": {
    "attributes": {
     "classes": [
      "code-cell"
     ],
     "id": ""
    }
   },
   "outputs": [],
   "source": [
    "url = 'http://98e3715f-xxxx-xxxx-xxxx-9ec22d57b796.centralus.azurecontainer.io/score'\n",
    "api_key = '' # Replace this with the API key for the web service"
   ]
  },
  {
   "cell_type": "markdown",
   "id": "72761ffd",
   "metadata": {},
   "source": [
    "The `url` variable is the REST endpoint found in the consume tab and the `api_key` variable is the primary key also found in the consume tab (only in the case you have enabled authentication). This is how the script can consume the endpoint.\n",
    "\n",
    "20\\. Running the script, you should see the following output:"
   ]
  },
  {
   "cell_type": "code",
   "execution_count": 8,
   "id": "806ae22a",
   "metadata": {
    "attributes": {
     "classes": [
      "code-cell"
     ],
     "id": ""
    }
   },
   "outputs": [
    {
     "data": {
      "text/plain": [
       "b'\"{\\\\\"result\\\\\": [true]}\"'"
      ]
     },
     "execution_count": 8,
     "metadata": {},
     "output_type": "execute_result"
    }
   ],
   "source": [
    "b'\"{\\\\\"result\\\\\": [true]}\"'"
   ]
  },
  {
   "cell_type": "markdown",
   "id": "d244da87",
   "metadata": {},
   "source": [
    "This means that the prediction of heart failure for the data given is true. This makes sense because if you look more closely at the data automatically generated in the script, everything is at 0 and false by default. You can change the data with the following input sample:"
   ]
  },
  {
   "cell_type": "code",
   "execution_count": 9,
   "id": "4e10016c",
   "metadata": {
    "attributes": {
     "classes": [
      "code-cell"
     ],
     "id": ""
    }
   },
   "outputs": [],
   "source": [
    "data = {\n",
    "    \"data\":\n",
    "    [\n",
    "        {\n",
    "            'age': \"0\",\n",
    "            'anaemia': \"false\",\n",
    "            'creatinine_phosphokinase': \"0\",\n",
    "            'diabetes': \"false\",\n",
    "            'ejection_fraction': \"0\",\n",
    "            'high_blood_pressure': \"false\",\n",
    "            'platelets': \"0\",\n",
    "            'serum_creatinine': \"0\",\n",
    "            'serum_sodium': \"0\",\n",
    "            'sex': \"false\",\n",
    "            'smoking': \"false\",\n",
    "            'time': \"0\",\n",
    "        },\n",
    "        {\n",
    "            'age': \"60\",\n",
    "            'anaemia': \"false\",\n",
    "            'creatinine_phosphokinase': \"500\",\n",
    "            'diabetes': \"false\",\n",
    "            'ejection_fraction': \"38\",\n",
    "            'high_blood_pressure': \"false\",\n",
    "            'platelets': \"260000\",\n",
    "            'serum_creatinine': \"1.40\",\n",
    "            'serum_sodium': \"137\",\n",
    "            'sex': \"false\",\n",
    "            'smoking': \"false\",\n",
    "            'time': \"130\",\n",
    "        },\n",
    "    ],\n",
    "}"
   ]
  },
  {
   "cell_type": "markdown",
   "id": "cfd2909c",
   "metadata": {},
   "source": [
    "The script should return :"
   ]
  },
  {
   "cell_type": "code",
   "execution_count": 10,
   "id": "231ab12d",
   "metadata": {
    "attributes": {
     "classes": [
      "code-cell"
     ],
     "id": ""
    }
   },
   "outputs": [
    {
     "data": {
      "text/plain": [
       "b'\"{\\\\\"result\\\\\": [true, false]}\"'"
      ]
     },
     "execution_count": 10,
     "metadata": {},
     "output_type": "execute_result"
    }
   ],
   "source": [
    "b'\"{\\\\\"result\\\\\": [true, false]}\"'"
   ]
  },
  {
   "cell_type": "markdown",
   "id": "467172a8",
   "metadata": {},
   "source": [
    "Congratulations! You just consumed the model deployed and trained it on Azure ML!\n",
    "\n",
    ":::{note}\n",
    "Once you are done with the project, don't forget to delete all the resources.\n",
    ":::\n",
    "\n",
    "## Your turn! 🚀\n",
    "\n",
    "Look closely at the model explanations and details that AutoML generated for the top models. Try to understand why the best model is better than the other ones. What algorithms were compared? What are the differences between them? Why is the best one performing better in this case?\n",
    "\n",
    "Assignment - [Low code/no code Data Science project on Azure ML](https://static-1300131294.cos.ap-shanghai.myqcloud.com/assignments/data-science/low-code-no-code-data-science-project-on-azure-ml.md)\n",
    "\n",
    "## Self Study\n",
    "\n",
    "In this section, you learned how to train, deploy and consume a model to predict heart failure risk in a low code/no code fashion in the cloud. If you have not done it yet, dive deeper into the model explanations that AutoML generated for the top models and try to understand why the best model is better than others.\n",
    "\n",
    "You can go further into Low code/No code AutoML by reading this [documentation](https://docs.microsoft.com/azure/machine-learning/tutorial-first-experiment-automated-ml?WT.mc_id=academic-77958-bethanycheum&ocid=AID3041109).\n",
    "\n",
    "## Acknowledgments\n",
    "\n",
    "Thanks to Microsoft for creating the open-source course [Data Science for Beginners](https://github.com/microsoft/Data-Science-For-Beginners). It inspires the majority of the content in this chapter.\n",
    "\n",
    "Data for the Heart Failure Prediction project is sourced from [Larxel](https://www.kaggle.com/andrewmvd) on [Kaggle](https://www.kaggle.com/andrewmvd/heart-failure-clinical-data). It is licensed under the [Attribution 4.0 International (CC BY 4.0)](https://creativecommons.org/licenses/by/4.0/)"
   ]
  }
 ],
 "metadata": {
  "kernelspec": {
   "display_name": "Python 3 (ipykernel)",
   "language": "python",
   "name": "python3"
  },
  "language_info": {
   "codemirror_mode": {
    "name": "ipython",
    "version": 3
   },
   "file_extension": ".py",
   "mimetype": "text/x-python",
   "name": "python",
   "nbconvert_exporter": "python",
   "pygments_lexer": "ipython3",
   "version": "3.11.5"
  }
 },
 "nbformat": 4,
 "nbformat_minor": 5
}
