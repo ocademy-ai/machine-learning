{
 "cells": [
  {
   "cell_type": "code",
   "execution_count": null,
   "id": "6d328b78-aec2-4495-a449-b16032dd9615",
   "metadata": {
    "tags": [
     "hide-cell"
    ]
   },
   "outputs": [],
   "source": [
    "# Install the necessary dependencies\n",
    "\n",
    "import os\n",
    "import sys \n",
    "!{sys.executable} -m pip install --quiet pandas scikit-learn numpy matplotlib jupyterlab_myst ipython azureml os sys"
   ]
  },
  {
   "cell_type": "markdown",
   "id": "b5017bf6",
   "metadata": {
    "tags": [
     "remove-cell"
    ]
   },
   "source": [
    "---\n",
    "license:\n",
    "    code: MIT\n",
    "    content: CC-BY-4.0\n",
    "github: https://github.com/ocademy-ai/machine-learning\n",
    "venue: By Ocademy\n",
    "open_access: true\n",
    "bibliography:\n",
    "  - https://raw.githubusercontent.com/ocademy-ai/machine-learning/main/open-machine-learning-jupyter-book/references.bib\n",
    "---"
   ]
  },
  {
   "cell_type": "markdown",
   "id": "ce897deb",
   "metadata": {
    "tags": []
   },
   "source": [
    "\n",
    "\n",
    "# Data Science in the cloud: The \"Azure ML SDK\" way\n",
    "\n",
    "## Introduction\n",
    "\n",
    "### What is Azure ML SDK?\n",
    "\n",
    "Data scientists and AI developers use the Azure Machine Learning SDK to build and run Machine Learning workflows with the Azure Machine Learning service. You can interact with the service in any Python environment, including Jupyter Notebooks, Visual Studio Code, or your favorite Python IDE.\n",
    "\n",
    "Key areas of the SDK include:\n",
    "\n",
    "- Explore, prepare and manage the lifecycle of your datasets used in Machine Learning experiments.\n",
    "- Manage cloud resources for monitoring, logging, and organizing your Machine Learning experiments.\n",
    "- Train models either locally or by using cloud resources, including GPU-accelerated model training.\n",
    "- Use automated Machine Learning, which accepts configuration parameters and training data. It automatically iterates through algorithms and hyperparameter settings to find the best model for running predictions.\n",
    "- Deploy web services to convert your trained models into RESTful services that can be consumed in any application.\n",
    "\n",
    "[Learn more about the Azure Machine Learning SDK](https://docs.microsoft.com/python/api/overview/azure/ml?WT.mc_id=academic-77958-bethanycheum&ocid=AID3041109)\n",
    "\n",
    "In the [previous section](./the-low-code-no-code-way.md), we saw how to train, deploy and consume a model in a Low code/No code fashion. We used the Heart Failure dataset to generate and Heart failure prediction model. In this section, we are going to do the exact same thing but using the Azure Machine Learning SDK.\n",
    "\n",
    "![project-schema](https://static-1300131294.cos.ap-shanghai.myqcloud.com/images/project-schema.png)\n",
    "\n",
    "### Heart failure prediction project and dataset introduction\n",
    "\n",
    "Check [here](./the-low-code-no-code-way.md) the Heart failure prediction project and dataset introduction.\n",
    "\n",
    "## Training a model with the Azure ML SDK\n",
    "\n",
    "### Create an Azure ML workspace\n",
    "\n",
    "For simplicity, we are going to work on a Jupyter Notebook. This implies that you already have a Workspace and a compute instance. If you already have a Workspace, you can directly jump to section 2.3 Notebook creation.\n",
    "\n",
    "If not, please follow the instructions in section **2.1 Create an Azure ML workspace** in the [previous section](./the-low-code-no-code-way.md) to create a workspace.\n",
    "\n",
    "### Create a compute instance\n",
    "\n",
    "In the [Azure ML workspace](https://ml.azure.com/) that we created earlier, go to the compute menu and you will see the different compute resources available\n",
    "\n",
    "![compute-instance-1](https://static-1300131294.cos.ap-shanghai.myqcloud.com/images/compute-instance-1.PNG)\n",
    "\n",
    "Let's create a compute instance to provision a Jupyter Notebook.\n",
    "\n",
    "1. Click on the + New button. \n",
    "2. Give a name to your compute instance.\n",
    "3. Choose your options: CPU or GPU, VM size and core number.\n",
    "4. Click in the Create button.\n",
    "\n",
    "Congratulations, you have just created a compute instance! We will use this compute instance to create a Notebook in the [Creating Notebooks section](#23-creating-notebooks).\n",
    "\n",
    "### Loading the dataset\n",
    "\n",
    "Refer to the [previous section](./the-low-code-no-code-way.md) in the section [Loading the dataset](#loading-the-dataset) if you have not uploaded the dataset yet.\n",
    "\n",
    "### Creating Notebooks\n",
    "\n",
    ":::{note}\n",
    "For the next step you can either create a new notebook from scratch, or you can upload the [notebook we created](https://static-1300131294.cos.ap-shanghai.myqcloud.com/assignments/data-science/data-science-in-the-cloud-the-azure-ml-sdk-way.ipynb) in you Azure ML Studio. To upload it, simply click on the \"Notebook\" menu and upload the notebook.\n",
    ":::\n",
    "\n",
    "Notebooks are a really important part of the data science process. They can be used to Conduct Exploratory Data Analysis (EDA), call out to a computer cluster to train a model, and call out to an inference cluster to deploy an endpoint.\n",
    "\n",
    "To create a Notebook, we need a compute node that is serving out the Jupyter Notebook instance. Go back to the [Azure ML workspace](https://ml.azure.com/) and click on Compute instances. In the list of compute instances, you should see the [compute instance we created earlier](#create-a-compute-instance).\n",
    "\n",
    "1. In the Applications section, click on the Jupyter option.\n",
    "2. Tick the \"Yes, I understand\" box and click on the Continue button.\n",
    "![notebook-1](https://static-1300131294.cos.ap-shanghai.myqcloud.com/images/notebook-1.PNG)\n",
    "1. This should open a new browser tab with your Jupyter Notebook instance as follow. Click on the \"New\" button to create a notebook.\n",
    "\n",
    "![notebook-2](https://static-1300131294.cos.ap-shanghai.myqcloud.com/images/notebook-2.PNG)\n",
    "\n",
    "Now that we have a Notebook, we can start training the model with Azure ML SDK.\n",
    "\n",
    "### Training a model\n",
    "\n",
    "First of all, if you ever have a doubt, refer to the [Azure ML SDK documentation](https://docs.microsoft.com/python/api/overview/azure/ml?WT.mc_id=academic-77958-bethanycheum&ocid=AID3041109). It contains all the necessary information to understand the modules we are going to see in this section.\n",
    "\n",
    "#### Setup Workspace, experiment, compute cluster and dataset\n",
    "\n",
    "You need to load the `workspace` from the configuration file using the following code:"
   ]
  },
  {
   "cell_type": "code",
   "execution_count": null,
   "id": "6764ba31",
   "metadata": {
    "attributes": {
     "classes": [
      "code-cell"
     ],
     "id": ""
    }
   },
   "outputs": [],
   "source": [
    "from azureml.core import Workspace\n",
    "ws = Workspace.from_config()"
   ]
  },
  {
   "cell_type": "markdown",
   "id": "1350d570",
   "metadata": {},
   "source": [
    "This returns an object of type `Workspace` that represents the workspace. You need to create an `experiment` using the following code:"
   ]
  },
  {
   "cell_type": "code",
   "execution_count": null,
   "id": "6dca29c5",
   "metadata": {
    "attributes": {
     "classes": [
      "code-cell"
     ],
     "id": ""
    }
   },
   "outputs": [],
   "source": [
    "from azureml.core import Experiment\n",
    "experiment_name = 'aml-experiment'\n",
    "experiment = Experiment(ws, experiment_name)"
   ]
  },
  {
   "cell_type": "markdown",
   "id": "8b80dad1",
   "metadata": {},
   "source": [
    "To get or create an experiment from a workspace, you request the experiment using the experiment name. Experiment name must be 3-36 characters, start with a letter or a number, and can only contain letters, numbers, underscores, and dashes. If the experiment is not found in the workspace, a new experiment is created.\n",
    "\n",
    "Now you need to create a compute cluster for the training using the following code. Note that this step can take a few minutes."
   ]
  },
  {
   "cell_type": "code",
   "execution_count": null,
   "id": "76a2a067",
   "metadata": {
    "attributes": {
     "classes": [
      "code-cell"
     ],
     "id": ""
    }
   },
   "outputs": [],
   "source": [
    "from azureml.core.compute import AmlCompute\n",
    "\n",
    "aml_name = \"heart-f-cluster\"\n",
    "try:\n",
    "    aml_compute = AmlCompute(ws, aml_name)\n",
    "    print('Found existing AML compute context.')\n",
    "except:\n",
    "    print('Creating new AML compute context.')\n",
    "    aml_config = AmlCompute.provisioning_configuration(vm_size=\"Standard_D2_v2\", min_nodes=1, max_nodes=3)\n",
    "    aml_compute = AmlCompute.create(ws, name=aml_name, provisioning_configuration=aml_config)\n",
    "    aml_compute.wait_for_completion(show_output=True)\n",
    "\n",
    "cts = ws.compute_targets\n",
    "compute_target = cts[aml_name]"
   ]
  },
  {
   "cell_type": "markdown",
   "id": "5f9a5364",
   "metadata": {},
   "source": [
    "You can get the dataset from the workspace using the dataset name in the following way:"
   ]
  },
  {
   "cell_type": "code",
   "execution_count": null,
   "id": "f673ea26",
   "metadata": {
    "attributes": {
     "classes": [
      "code-cell"
     ],
     "id": ""
    }
   },
   "outputs": [],
   "source": [
    "dataset = ws.datasets['heart-failure-records']\n",
    "df = dataset.to_pandas_dataframe()\n",
    "df.describe()"
   ]
  },
  {
   "cell_type": "markdown",
   "id": "a5466359",
   "metadata": {},
   "source": [
    "#### AutoML configuration and training\n",
    "\n",
    "To set the AutoML configuration, use the [AutoMLConfig class](https://docs.microsoft.com/python/api/azureml-train-automl-client/azureml.train.automl.automlconfig(class)?WT.mc_id=academic-77958-bethanycheum&ocid=AID3041109).\n",
    "\n",
    "As described in the doc, there are a lot of parameters with which you can play with. For this project, we will use the following parameters:\n",
    "\n",
    "- `experiment_timeout_minutes`: The maximum amount of time (in minutes) that the experiment is allowed to run before it is automatically stopped and results are automatically made available\n",
    "- `max_concurrent_iterations`: The maximum number of concurrent training iterations allowed for the experiment.\n",
    "- `primary_metric`: The primary metric used to determine the experiment's status.\n",
    "- `compute_target`: The Azure Machine Learning compute target to run the Automated Machine Learning experiment on.\n",
    "- `task`: The type of task to run. Values can be 'classification', 'regression', or 'forecasting' depending on the type of automated ML problem to solve.\n",
    "- `training_data`: The training data to be used within the experiment. It should contain both training features and a label column (optionally a sample weights column).\n",
    "- `label_column_name`: The name of the label column.\n",
    "- `path`: The full path to the Azure Machine Learning project folder.\n",
    "- `enable_early_stopping`: Whether to enable early termination if the score is not improving in the short term.\n",
    "- `featurization`: Indicator for whether the featurization step should be done automatically or not, or whether customized featurization should be used.\n",
    "- `debug_log`: The log file to write debug information to."
   ]
  },
  {
   "cell_type": "code",
   "execution_count": null,
   "id": "7e2d6adb",
   "metadata": {
    "attributes": {
     "classes": [
      "code-cell"
     ],
     "id": ""
    }
   },
   "outputs": [],
   "source": [
    "from azureml.train.automl import AutoMLConfig\n",
    "\n",
    "project_folder = './aml-project'\n",
    "\n",
    "automl_settings = {\n",
    "    \"experiment_timeout_minutes\": 20,\n",
    "    \"max_concurrent_iterations\": 3,\n",
    "    \"primary_metric\" : 'AUC_weighted'\n",
    "}\n",
    "\n",
    "automl_config = AutoMLConfig(compute_target=compute_target,\n",
    "                             task = \"classification\",\n",
    "                             training_data=dataset,\n",
    "                             label_column_name=\"DEATH_EVENT\",\n",
    "                             path = project_folder,  \n",
    "                             enable_early_stopping= True,\n",
    "                             featurization= 'auto',\n",
    "                             debug_log = \"automl_errors.log\",\n",
    "                             **automl_settings\n",
    "                            )"
   ]
  },
  {
   "cell_type": "markdown",
   "id": "416b882b",
   "metadata": {},
   "source": [
    "Now that you have your configuration set, you can train the model using the following code. This step can take up to an hour depending on your cluster size."
   ]
  },
  {
   "cell_type": "code",
   "execution_count": null,
   "id": "27235651",
   "metadata": {
    "attributes": {
     "classes": [
      "code-cell"
     ],
     "id": ""
    }
   },
   "outputs": [],
   "source": [
    "remote_run = experiment.submit(automl_config)"
   ]
  },
  {
   "cell_type": "markdown",
   "id": "c1259456",
   "metadata": {},
   "source": [
    "You can run the RunDetails widget to show the different experiments."
   ]
  },
  {
   "cell_type": "code",
   "execution_count": null,
   "id": "de0410e3",
   "metadata": {
    "attributes": {
     "classes": [
      "code-cell"
     ],
     "id": ""
    }
   },
   "outputs": [],
   "source": [
    "from azureml.widgets import RunDetails\n",
    "RunDetails(remote_run).show()"
   ]
  },
  {
   "cell_type": "markdown",
   "id": "5698ca64",
   "metadata": {},
   "source": [
    "## Model deployment and endpoint consumption with the Azure ML SDK\n",
    "\n",
    "### Saving the best model\n",
    "\n",
    "The `remote_run` is an object of type [AutoMLRun](https://docs.microsoft.com/python/api/azureml-train-automl-client/azureml.train.automl.run.automlrun?WT.mc_id=academic-77958-bethanycheum&ocid=AID3041109). This object contains the method `get_output()` which returns the best run and the corresponding fitted model."
   ]
  },
  {
   "cell_type": "code",
   "execution_count": null,
   "id": "f5902263",
   "metadata": {
    "attributes": {
     "classes": [
      "code-cell"
     ],
     "id": ""
    }
   },
   "outputs": [],
   "source": [
    "best_run, fitted_model = remote_run.get_output()"
   ]
  },
  {
   "cell_type": "markdown",
   "id": "6aafe503",
   "metadata": {},
   "source": [
    "You can see the parameters used for the best model by just printing the fitted_model and see the properties of the best model by using the [get_properties()](https://docs.microsoft.com/python/api/azureml-core/azureml.core.run(class)?view=azure-ml-py#azureml_core_Run_get_properties?WT.mc_id=academic-77958-bethanycheum&ocid=AID3041109) method."
   ]
  },
  {
   "cell_type": "code",
   "execution_count": null,
   "id": "374d3f21",
   "metadata": {
    "attributes": {
     "classes": [
      "code-cell"
     ],
     "id": ""
    }
   },
   "outputs": [],
   "source": [
    "best_run.get_properties()"
   ]
  },
  {
   "cell_type": "markdown",
   "id": "07b9aac7",
   "metadata": {},
   "source": [
    "Now register the model with the [register_model](https://docs.microsoft.com/python/api/azureml-train-automl-client/azureml.train.automl.run.automlrun?view=azure-ml-py#register-model-model-name-none--description-none--tags-none--iteration-none--metric-none-?WT.mc_id=academic-77958-bethanycheum&ocid=AID3041109) method."
   ]
  },
  {
   "cell_type": "code",
   "execution_count": null,
   "id": "86b307f0",
   "metadata": {
    "attributes": {
     "classes": [
      "code-cell"
     ],
     "id": ""
    }
   },
   "outputs": [],
   "source": [
    "model_name = best_run.properties['model_name']\n",
    "script_file_name = 'inference/score.py'\n",
    "best_run.download_file('outputs/scoring_file_v_1_0_0.py', 'inference/score.py')\n",
    "description = \"aml heart failure project sdk\"\n",
    "model = best_run.register_model(\n",
    "    model_name = model_name,\n",
    "    model_path = './outputs/',\n",
    "    description = description,\n",
    "    tags = None\n",
    ")"
   ]
  },
  {
   "cell_type": "markdown",
   "id": "6b760b6a",
   "metadata": {},
   "source": [
    "### Model deployment\n",
    "\n",
    "Once the best model is saved, we can deploy it with the [InferenceConfig](https://docs.microsoft.com/python/api/azureml-core/azureml.core.model.inferenceconfig?view=azure-ml-py?ocid=AID3041109) class. InferenceConfig represents the configuration settings for a custom environment used for deployment. The [AciWebservice](https://docs.microsoft.com/python/api/azureml-core/azureml.core.webservice.aciwebservice?view=azure-ml-py) class represents a Machine Learning model deployed as a web service endpoint on Azure Container Instances. A deployed service is created from a model, script, and associated files. The resulting web service is a load-balanced, HTTP endpoint with a REST API. You can send data to this API and receive the prediction returned by the model.\n",
    "\n",
    "The model is deployed using the [deploy](https://docs.microsoft.com/python/api/azureml-core/azureml.core.model(class)?view=azure-ml-py#deploy-workspace--name--models--inference-config-none--deployment-config-none--deployment-target-none--overwrite-false--show-output-false-?WT.mc_id=academic-77958-bethanycheum&ocid=AID3041109) method."
   ]
  },
  {
   "cell_type": "code",
   "execution_count": null,
   "id": "63ca096a",
   "metadata": {
    "attributes": {
     "classes": [
      "code-cell"
     ],
     "id": ""
    }
   },
   "outputs": [],
   "source": [
    "from azureml.core.model import InferenceConfig, Model\n",
    "from azureml.core.webservice import AciWebservice\n",
    "\n",
    "inference_config = InferenceConfig(entry_script=script_file_name, environment=best_run.get_environment())\n",
    "\n",
    "aciconfig = AciWebservice.deploy_configuration(\n",
    "    cpu_cores = 1,\n",
    "    memory_gb = 1,\n",
    "    tags = {'type': \"automl-heart-failure-prediction\"},\n",
    "    description = 'Sample service for AutoML Heart Failure Prediction'\n",
    ")\n",
    "\n",
    "aci_service_name = 'automl-hf-sdk'\n",
    "aci_service = Model.deploy(ws, aci_service_name, [model], inference_config, aciconfig)\n",
    "aci_service.wait_for_deployment(True)\n",
    "print(aci_service.state)"
   ]
  },
  {
   "cell_type": "markdown",
   "id": "042a5d97",
   "metadata": {},
   "source": [
    "This step should take a few minutes.\n",
    "\n",
    "### Endpoint consumption\n",
    "\n",
    "You consume your endpoint by creating a sample input:"
   ]
  },
  {
   "cell_type": "code",
   "execution_count": null,
   "id": "8501e73d",
   "metadata": {
    "attributes": {
     "classes": [
      "code-cell"
     ],
     "id": ""
    }
   },
   "outputs": [],
   "source": [
    "data = {\n",
    "    \"data\":\n",
    "    [\n",
    "        {\n",
    "            'age': \"60\",\n",
    "            'anaemia': \"false\",\n",
    "            'creatinine_phosphokinase': \"500\",\n",
    "            'diabetes': \"false\",\n",
    "            'ejection_fraction': \"38\",\n",
    "            'high_blood_pressure': \"false\",\n",
    "            'platelets': \"260000\",\n",
    "            'serum_creatinine': \"1.40\",\n",
    "            'serum_sodium': \"137\",\n",
    "            'sex': \"false\",\n",
    "            'smoking': \"false\",\n",
    "            'time': \"130\",\n",
    "        },\n",
    "    ],\n",
    "}\n",
    "\n",
    "test_sample = str.encode(json.dumps(data))"
   ]
  },
  {
   "cell_type": "markdown",
   "id": "b138d435",
   "metadata": {},
   "source": [
    "And then you can send this input to your model for prediction :"
   ]
  },
  {
   "cell_type": "code",
   "execution_count": null,
   "id": "406240b7",
   "metadata": {
    "attributes": {
     "classes": [
      "code-cell"
     ],
     "id": ""
    }
   },
   "outputs": [],
   "source": [
    "response = aci_service.run(input_data=test_sample)\n",
    "response"
   ]
  },
  {
   "cell_type": "markdown",
   "id": "ee723fae",
   "metadata": {},
   "source": [
    "This should output `'{\"result\": [false]}'`. This means that the patient input we sent to the endpoint generated the prediction `false` which means this person is not likely to have a heart attack.\n",
    "\n",
    "Congratulations! You just consumed the model deployed and trained on Azure ML with the Azure ML SDK!\n",
    "\n",
    ":::{note}\n",
    "Once you are done with the project, don't forget to delete all the resources.\n",
    ":::\n",
    "\n",
    "## Your turn! 🚀\n",
    "\n",
    " There are many other things you can do through the SDK, unfortunately, we can not view them all in this section. But good news, learning how to skim through the SDK documentation can take you a long way on your own. Have a look at the Azure ML SDK documentation and find the `Pipeline` class that allows you to create pipelines. A Pipeline is a collection of steps which can be executed as a workflow.\n",
    "\n",
    ":::{note}\n",
    "**HINT:** Go to the [SDK documentation](https://docs.microsoft.com/python/api/overview/azure/ml/?view=azure-ml-py?WT.mc_id=academic-77958-bethanycheum&ocid=AID3041109) and type keywords in the search bar like \"Pipeline\". You should have the `azureml.pipeline.core.Pipeline` class in the search results.\n",
    ":::\n",
    "\n",
    "Assignment - [Data Science project using Azure ML SDK](https://static-1300131294.cos.ap-shanghai.myqcloud.com/assignments/data-science/data-science-project-using-azure-ml-sdk.md)\n",
    "\n",
    "## Self study\n",
    "\n",
    "In this section, you learned how to train, deploy and consume a model to predict heart failure risk with the Azure ML SDK in the cloud. Check this [documentation](https://docs.microsoft.com/python/api/overview/azure/ml/?view=azure-ml-py?WT.mc_id=academic-77958-bethanycheum&ocid=AID3041109) for further information about the Azure ML SDK. Try to create your own model with the Azure ML SDK.\n",
    "\n",
    "## Acknowledgments\n",
    "\n",
    "Thanks to Microsoft for creating the open-source course [Data Science for Beginners](https://github.com/microsoft/Data-Science-For-Beginners). It inspires the majority of the content in this chapter."
   ]
  }
 ],
 "metadata": {
  "kernelspec": {
   "display_name": "Python 3 (ipykernel)",
   "language": "python",
   "name": "python3"
  },
  "language_info": {
   "codemirror_mode": {
    "name": "ipython",
    "version": 3
   },
   "file_extension": ".py",
   "mimetype": "text/x-python",
   "name": "python",
   "nbconvert_exporter": "python",
   "pygments_lexer": "ipython3",
   "version": "3.11.5"
  }
 },
 "nbformat": 4,
 "nbformat_minor": 5
}
