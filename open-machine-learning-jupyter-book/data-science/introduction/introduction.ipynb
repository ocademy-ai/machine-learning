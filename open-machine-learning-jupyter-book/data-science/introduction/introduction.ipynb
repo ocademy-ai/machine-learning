{
 "cells": [
  {
   "cell_type": "markdown",
   "id": "b1cc84fa",
   "metadata": {
    "tags": [
     "hide-cell"
    ]
   },
   "source": [
    "---\n",
    "jupytext:\n",
    "  cell_metadata_filter: -all\n",
    "  formats: md:myst\n",
    "  text_representation:\n",
    "    extension: .md\n",
    "    format_name: myst\n",
    "    format_version: 0.13\n",
    "    jupytext_version: 1.11.5\n",
    "kernelspec:\n",
    "  display_name: Python 3\n",
    "  language: python\n",
    "  name: python3\n"
   ]
  },
  {
   "cell_type": "markdown",
   "id": "e74126cb-22df-48c8-8972-be97fa9145df",
   "metadata": {
    "tags": []
   },
   "source": [
    "# Introduction"
   ]
  },
  {
   "cell_type": "markdown",
   "id": "a8265b82",
   "metadata": {
    "attributes": {
     "classes": [
      "./../../images/the-data-science-venn-diagram.png"
     ],
     "id": ""
    },
    "tags": []
   },
   "source": [
    ":::{figure} https://static-1300131294.cos.qp-shanghai.myqcloud.com/images/the-data-science-venn-diagram.png\n",
    "---\n",
    "name: The data science venn diagram\n",
    "---\n",
    "The data science venn diagram{cite}:TheDataScienceVennDiagram:\n",
    ":::"
   ]
  },
  {
   "cell_type": "markdown",
   "id": "88fcce44",
   "metadata": {},
   "source": [
    "In this part, you will discover how Data Science is defined and learn about ethical considerations that must be considered by a data scientist. You will also learn how data is defined and learn a bit about statistics and probability, the core academic domains of Data Science.\n",
    "\n",
    "---"
   ]
  },
  {
   "cell_type": "markdown",
   "id": "4fb30976",
   "metadata": {},
   "source": [
    ":::{tableofcontents}\n",
    "\n",
    ":::"
   ]
  },
  {
   "cell_type": "markdown",
   "id": "d342276b",
   "metadata": {
    "tags": []
   },
   "source": [
    "---"
   ]
  },
  {
   "cell_type": "markdown",
   "id": "bd109ea2-3741-41f9-9f42-777d7b990d52",
   "metadata": {
    "tags": []
   },
   "source": [
    ":::{bibliography}\n",
    ":filter: docname in docnames\n",
    ":::"
   ]
  }
 ],
 "metadata": {
  "kernelspec": {
   "display_name": "Python 3 (ipykernel)",
   "language": "python",
   "name": "python3"
  },
  "language_info": {
   "codemirror_mode": {
    "name": "ipython",
    "version": 3
   },
   "file_extension": ".py",
   "mimetype": "text/x-python",
   "name": "python",
   "nbconvert_exporter": "python",
   "pygments_lexer": "ipython3",
   "version": "3.11.4"
  }
 },
 "nbformat": 4,
 "nbformat_minor": 5
}
