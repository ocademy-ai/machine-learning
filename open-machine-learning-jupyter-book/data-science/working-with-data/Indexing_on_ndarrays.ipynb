{
 "cells": [
  {
   "cell_type": "code",
   "execution_count": 1,
   "id": "1e583603-a8d0-45a1-aaf3-0f749a168e46",
   "metadata": {
    "editable": true,
    "slideshow": {
     "slide_type": ""
    },
    "tags": [
     "hide-input",
     "hide-cell"
    ]
   },
   "outputs": [],
   "source": [
    "import os\n",
    "import sys\n",
    "!{sys.executable} -m pip install --quiet pandas scikit-learn numpy matplotlib jupyterlab_myst ipython"
   ]
  },
  {
   "cell_type": "markdown",
   "id": "1ea71ee9-2f4a-430e-90f0-e78e58929077",
   "metadata": {
    "editable": true,
    "slideshow": {
     "slide_type": ""
    },
    "tags": [
     "hide-cell"
    ]
   },
   "source": [
    "---\n",
    "jupytext:\n",
    "  cell_metadata_filter: -all\n",
    "  formats: md:myst\n",
    "  text_representation:\n",
    "    extension: .md\n",
    "    format_name: myst\n",
    "    format_version: 0.13\n",
    "    jupytext_version: 1.11.5\n",
    "kernelspec:\n",
    "  display_name: Python 3\n",
    "  language: python\n",
    "  name: python3\n",
    "---"
   ]
  },
  {
   "cell_type": "markdown",
   "id": "6c8edfdf",
   "metadata": {},
   "source": [
    "## Indexing on ndarrays\n",
    "\n",
    "ndarrays can be indexed using the standard Python `x[obj]` syntax, where `x` is the array and `obj` the selection. There are different kinds of indexing available depending on `obj`: basic indexing, advanced indexing and field access."
   ]
  },
  {
   "cell_type": "markdown",
   "id": "053eddba-9b9f-43cb-b2c0-a4fb1fe59031",
   "metadata": {
    "attributes": {
     "classes": [
      "note"
     ],
     "id": ""
    }
   },
   "source": [
    "```{note}\n",
    "In Python, `x[(exp1, exp2, ..., expN)]` is equivalent to `x[exp1, exp2, ..., expN]`; the latter is just syntactic sugar for the former.\n",
    "```                                                                                                                      ```"
   ]
  },
  {
   "cell_type": "markdown",
   "id": "62d98393",
   "metadata": {
    "editable": true,
    "slideshow": {
     "slide_type": ""
    },
    "tags": []
   },
   "source": [
    "### Basic indexing\n",
    "\n",
    "#### Single element indexing\n",
    "\n",
    "Single element indexing works exactly like that for other standard Python sequences. It is 0-based, and accepts negative indices for indexing from the end of the array."
   ]
  },
  {
   "cell_type": "code",
   "execution_count": 2,
   "id": "5ae05845-cdae-4cc9-9448-efdc544bb0b4",
   "metadata": {
    "editable": true,
    "slideshow": {
     "slide_type": ""
    },
    "tags": []
   },
   "outputs": [
    {
     "data": {
      "text/plain": [
       "array([1, 2, 3])"
      ]
     },
     "execution_count": 2,
     "metadata": {},
     "output_type": "execute_result"
    }
   ],
   "source": [
    "import numpy as np\n",
    "a = np.array([1, 2, 3])\n",
    "a"
   ]
  },
  {
   "cell_type": "code",
   "execution_count": 3,
   "id": "fadf3ba6",
   "metadata": {
    "attributes": {
     "classes": [
      "code-cell"
     ],
     "id": ""
    },
    "editable": true,
    "slideshow": {
     "slide_type": ""
    },
    "tags": []
   },
   "outputs": [],
   "source": [
    "x = np.arange(10)"
   ]
  },
  {
   "cell_type": "code",
   "execution_count": 4,
   "id": "5b85aaca",
   "metadata": {
    "attributes": {
     "classes": [
      "code-cell"
     ],
     "id": ""
    }
   },
   "outputs": [
    {
     "data": {
      "text/plain": [
       "2"
      ]
     },
     "execution_count": 4,
     "metadata": {},
     "output_type": "execute_result"
    }
   ],
   "source": [
    "x[2]"
   ]
  },
  {
   "cell_type": "code",
   "execution_count": 5,
   "id": "82a5fdef",
   "metadata": {
    "attributes": {
     "classes": [
      "code-cell"
     ],
     "id": ""
    }
   },
   "outputs": [
    {
     "data": {
      "text/plain": [
       "8"
      ]
     },
     "execution_count": 5,
     "metadata": {},
     "output_type": "execute_result"
    }
   ],
   "source": [
    "x[-2]"
   ]
  },
  {
   "cell_type": "markdown",
   "id": "14aafa9c",
   "metadata": {},
   "source": [
    "It is not necessary to separate each dimension’s index into its own set of square brackets."
   ]
  },
  {
   "cell_type": "code",
   "execution_count": 6,
   "id": "36fe58c1",
   "metadata": {
    "attributes": {
     "classes": [
      "code-cell"
     ],
     "id": ""
    }
   },
   "outputs": [],
   "source": [
    "x.shape = (2, 5)  # now x is 2-dimensional"
   ]
  },
  {
   "cell_type": "code",
   "execution_count": 7,
   "id": "adea912e",
   "metadata": {
    "attributes": {
     "classes": [
      "code-cell"
     ],
     "id": ""
    }
   },
   "outputs": [
    {
     "data": {
      "text/plain": [
       "8"
      ]
     },
     "execution_count": 7,
     "metadata": {},
     "output_type": "execute_result"
    }
   ],
   "source": [
    "x[1, 3]"
   ]
  },
  {
   "cell_type": "code",
   "execution_count": 8,
   "id": "24b57fd8",
   "metadata": {
    "attributes": {
     "classes": [
      "code-cell"
     ],
     "id": ""
    }
   },
   "outputs": [
    {
     "data": {
      "text/plain": [
       "9"
      ]
     },
     "execution_count": 8,
     "metadata": {},
     "output_type": "execute_result"
    }
   ],
   "source": [
    "x[1, -1]"
   ]
  },
  {
   "cell_type": "markdown",
   "id": "c2e88bdf",
   "metadata": {},
   "source": [
    "Note that If one indexes a multidimensional array with fewer indices than dimensions, one gets a subdimensional array. For example:"
   ]
  },
  {
   "cell_type": "code",
   "execution_count": 9,
   "id": "de7fc8c5",
   "metadata": {
    "attributes": {
     "classes": [
      "code-cell"
     ],
     "id": ""
    }
   },
   "outputs": [
    {
     "data": {
      "text/plain": [
       "array([0, 1, 2, 3, 4])"
      ]
     },
     "execution_count": 9,
     "metadata": {},
     "output_type": "execute_result"
    }
   ],
   "source": [
    "x[0]"
   ]
  },
  {
   "cell_type": "markdown",
   "id": "4ef06dad",
   "metadata": {},
   "source": [
    "That is, each index specified selects the array corresponding to the rest of the dimensions selected. In the above example, choosing 0 means that the remaining dimension of length 5 is being left unspecified, and that what is returned is an array of that dimensionality and size. It must be noted that the returned array is a view, i.e., it is not a copy of the original, but points to the same values in memory as does the original array. In this case, the 1-D array at the first position (0) is returned. So using a single index on the returned array, results in a single element being returned. That is:"
   ]
  },
  {
   "cell_type": "code",
   "execution_count": 10,
   "id": "f766c445",
   "metadata": {
    "attributes": {
     "classes": [
      "code-cell"
     ],
     "id": ""
    }
   },
   "outputs": [
    {
     "data": {
      "text/plain": [
       "2"
      ]
     },
     "execution_count": 10,
     "metadata": {},
     "output_type": "execute_result"
    }
   ],
   "source": [
    "x[0][2]"
   ]
  },
  {
   "cell_type": "markdown",
   "id": "ce956453",
   "metadata": {},
   "source": [
    "So note that `x[0, 2] == x[0][2]` though the second case is more inefficient as a new temporary array is created after the first index that is subsequently indexed by 2."
   ]
  },
  {
   "cell_type": "markdown",
   "id": "3e4c45ba-804c-4dde-af21-cec32ef140c1",
   "metadata": {
    "attributes": {
     "classes": [
      "note"
     ],
     "id": ""
    },
    "editable": true,
    "slideshow": {
     "slide_type": ""
    },
    "tags": []
   },
   "source": [
    "NumPy uses *C-order* indexing. That means that the last index usually represents the most rapidly changing memory location, unlike *Fortran* or *IDL*, where the first index represents the most rapidly changing location in memory. This difference represents a great potential for confusion."
   ]
  },
  {
   "cell_type": "markdown",
   "id": "63431fe5",
   "metadata": {
    "editable": true,
    "slideshow": {
     "slide_type": ""
    },
    "tags": []
   },
   "source": [
    "#### Slicing and striding\n",
    "\n",
    "Basic slicing extends Python’s basic concept of slicing to N dimensions. Basic slicing occurs when obj is a `slice` object (constructed by `start:stop:step` notation inside of brackets), an integer, or a tuple of slice objects and integers. `Ellipsis` and `newaxis` objects can be interspersed with these as well.\n",
    "\n",
    "The simplest case of indexing with *N* integers returns an array scalar representing the corresponding item. As in Python, all indices are zero-based: for the i-th index , the valid range is $0 \\leq n_i \\leq d_i$  where $d_i$ is the *i*-th element of the shape of the array. Negative indices are interpreted as counting from the end of the array (i.e., if , it $n_i < 0$, it means $n_i + d_i$).\n",
    "\n",
    "All arrays generated by basic slicing are always **views** of the original array."
   ]
  },
  {
   "cell_type": "markdown",
   "id": "bd021691-420d-4b21-8151-57bc9141ff14",
   "metadata": {
    "attributes": {
     "classes": [
      "note"
     ],
     "id": ""
    },
    "editable": true,
    "slideshow": {
     "slide_type": ""
    },
    "tags": []
   },
   "source": [
    "NumPy slicing creates a **view** instead of a **copy** as in the case of built-in Python sequences such as string, tuple and list. Care must be taken when extracting a small portion from a large array which becomes useless after the extraction, because the small portion extracted contains a reference to the large original array whose memory will not be released until all arrays derived from it are garbage-collected. In such cases an explicit `copy()` is recommended."
   ]
  },
  {
   "cell_type": "markdown",
   "id": "19a90bb5",
   "metadata": {
    "editable": true,
    "slideshow": {
     "slide_type": ""
    },
    "tags": []
   },
   "source": [
    "- The basic slice syntax is `i:j:k` where *i* is the starting index, *j* is the stopping index, and *k* is the step ($k /neq 0$). This selects the m elements (in the corresponding dimension) with index values *i*, *i + k*, *…*,*i + (m - 1) k* where $m = q + (r /neq 0)$ and *q* and *r* are the quotient and remainder obtained by dividing *j - i* by *k*: *j - i = q k + r*, so that *i + (m - 1) k < j*. For example:"
   ]
  },
  {
   "cell_type": "code",
   "execution_count": null,
   "id": "eb409204",
   "metadata": {
    "attributes": {
     "classes": [
      "code-cell"
     ],
     "id": ""
    }
   },
   "outputs": [],
   "source": [
    "x = np.array([0, 1, 2, 3, 4, 5, 6, 7, 8, 9])\n",
    "x[1:7:2]"
   ]
  },
  {
   "cell_type": "markdown",
   "id": "ca1440b0",
   "metadata": {},
   "source": [
    "- Negative *i* and *j* are interpreted as *n + i* and *n + j* where *n* is the number of elements in the corresponding dimension. Negative *k* makes stepping go towards smaller indices. From the above example:"
   ]
  },
  {
   "cell_type": "code",
   "execution_count": null,
   "id": "a931e1c6",
   "metadata": {
    "attributes": {
     "classes": [
      "code-cell"
     ],
     "id": ""
    }
   },
   "outputs": [],
   "source": [
    "x[-2:10]"
   ]
  },
  {
   "cell_type": "code",
   "execution_count": null,
   "id": "97aa9fc9",
   "metadata": {
    "attributes": {
     "classes": [
      "code-cell"
     ],
     "id": ""
    }
   },
   "outputs": [],
   "source": [
    "x[-3:3:-1]"
   ]
  },
  {
   "cell_type": "markdown",
   "id": "c62c293c",
   "metadata": {},
   "source": [
    "- Assume *n* is the number of elements in the dimension being sliced. Then, if *i* is not given it defaults to 0 for *k > 0* and *n - 1* for *k < 0*. If *j* is not given it defaults to *n* for *k > 0* and *-n-1* for *k < 0*. If *k* is not given it defaults to 1. Note that `::` is the same as : and means select all indices along this axis. From the above example:"
   ]
  },
  {
   "cell_type": "code",
   "execution_count": null,
   "id": "84af094f",
   "metadata": {
    "attributes": {
     "classes": [
      "code-cell"
     ],
     "id": ""
    }
   },
   "outputs": [],
   "source": [
    "x[5:]"
   ]
  },
  {
   "cell_type": "markdown",
   "id": "d855c1e0",
   "metadata": {},
   "source": [
    "- If the number of objects in the selection tuple is less than N, then `:` is assumed for any subsequent dimensions. For example:"
   ]
  },
  {
   "cell_type": "code",
   "execution_count": null,
   "id": "9e146cf1",
   "metadata": {
    "attributes": {
     "classes": [
      "code-cell"
     ],
     "id": ""
    }
   },
   "outputs": [],
   "source": [
    "x = np.array([[[1],[2],[3]], [[4],[5],[6]]])\n",
    "x.shape"
   ]
  },
  {
   "cell_type": "code",
   "execution_count": null,
   "id": "0ee9afd7",
   "metadata": {
    "attributes": {
     "classes": [
      "code-cell"
     ],
     "id": ""
    }
   },
   "outputs": [],
   "source": [
    "x[1:2]"
   ]
  },
  {
   "cell_type": "markdown",
   "id": "78144c64",
   "metadata": {},
   "source": [
    "- An integer, *i*, returns the same values as `i:i+1` **except** the dimensionality of the returned object is reduced by 1. In particular, a selection tuple with the *p*-th element an integer (and all other entries *:*) returns the corresponding sub-array with dimension *N - 1*. If *N = 1* then the returned object is an array scalar.\n",
    "\n",
    "- If the selection tuple has all entries : except the p-th entry which is a slice object `i:j:k`, then the returned array has dimension *N* formed by concatenating the sub-arrays returned by integer indexing of elements *i*, *i+k*, *…*, *i + (m - 1) k < j*,\n",
    "\n",
    "- Basic slicing with more than one non-`:` entry in the slicing tuple, acts like repeated application of slicing using a single non-`:` entry, where the non-`:` entries are successively taken (with all other non-`:` entries replaced by `:`). Thus, `x[ind1, ..., ind2,:]` acts like `x[ind1][..., ind2, :]` under basic slicing.\n",
    "\n",
    "**WARNING:** The The above is **not** true for advanced indexing.\n",
    "\n",
    "- You may use slicing to set values in the array, but (unlike lists) you can never grow the array. The size of the value to be set in `x[obj] = value` must be (broadcastable) to the same shape as `x[obj]`.\n",
    "\n",
    "- A slicing tuple can always be constructed as obj and used in the `x[obj]` notation. Slice objects can be used in the construction in place of the `[start:stop:step]` notation. For example, `x[1:10:5, ::-1]` can also be implemented as `obj = (slice(1, 10, 5), slice(None, None, -1))`; `x[obj]` . This can be useful for constructing generic code that works on arrays of arbitrary dimensions.\n",
    "\n",
    "#### Dimensional indexing tools\n",
    "\n",
    "There are some tools to facilitate the easy matching of array shapes with expressions and in assignments.\n",
    "\n",
    "Ellipsis expands to the number of `:` objects needed for the selection tuple to index all dimensions. In most cases, this means that the length of the expanded selection tuple is `x.ndim`. There may only be a single ellipsis present. From the above example:"
   ]
  },
  {
   "cell_type": "code",
   "execution_count": null,
   "id": "efa97bb1",
   "metadata": {
    "attributes": {
     "classes": [
      "code-cell"
     ],
     "id": ""
    }
   },
   "outputs": [],
   "source": [
    "x[..., 0]"
   ]
  },
  {
   "cell_type": "markdown",
   "id": "73200510",
   "metadata": {},
   "source": [
    "This is equivalent to:"
   ]
  },
  {
   "cell_type": "code",
   "execution_count": null,
   "id": "41594a54",
   "metadata": {
    "attributes": {
     "classes": [
      "code-cell"
     ],
     "id": ""
    }
   },
   "outputs": [],
   "source": [
    "x[:, :, 0]"
   ]
  },
  {
   "cell_type": "markdown",
   "id": "d988c3d7",
   "metadata": {},
   "source": [
    "Each `newaxis` object in the selection tuple serves to expand the dimensions of the resulting selection by one unit-length dimension. The added dimension is the position of the `newaxis` object in the selection tuple. `newaxis` is an alias for `None`, and `None` can be used in place of this with the same result. From the above example:"
   ]
  },
  {
   "cell_type": "code",
   "execution_count": null,
   "id": "b260f7ec",
   "metadata": {
    "attributes": {
     "classes": [
      "code-cell"
     ],
     "id": ""
    }
   },
   "outputs": [],
   "source": [
    "x[:, np.newaxis, :, :].shape"
   ]
  },
  {
   "cell_type": "code",
   "execution_count": null,
   "id": "94908574",
   "metadata": {
    "attributes": {
     "classes": [
      "code-cell"
     ],
     "id": ""
    }
   },
   "outputs": [],
   "source": [
    "x[:, None, :, :].shape"
   ]
  },
  {
   "cell_type": "markdown",
   "id": "8195d5da",
   "metadata": {},
   "source": [
    "This can be handy to combine two arrays in a way that otherwise would require explicit reshaping operations. For example:"
   ]
  },
  {
   "cell_type": "code",
   "execution_count": null,
   "id": "7fd4ee84",
   "metadata": {
    "attributes": {
     "classes": [
      "code-cell"
     ],
     "id": ""
    }
   },
   "outputs": [],
   "source": [
    "x = np.arange(5)\n",
    "x[:, np.newaxis] + x[np.newaxis, :]"
   ]
  },
  {
   "cell_type": "markdown",
   "id": "cd97963d",
   "metadata": {},
   "source": [
    "### Advanced indexing\n",
    "\n",
    "Advanced indexing is triggered when the selection object, obj, is a non-tuple sequence object, an `ndarray` (of data type integer or bool), or a tuple with at least one sequence object or ndarray (of data type integer or bool). There are two types of advanced indexing: integer and Boolean.\n",
    "\n",
    "Advanced indexing always returns a copy of the data (contrast with basic slicing that returns a `view`).\n",
    "\n",
    "**WARNING:** The definition of advanced indexing means that `x[(1, 2, 3),]` is fundamentally different than `x[(1, 2, 3)]`. The latter is equivalent to `x[1, 2, 3]` which will trigger basic selection while the former will trigger advanced indexing. Be sure to understand why this occurs.\n",
    "\n",
    "Also recognize that `x[[1, 2, 3]]` will trigger advanced indexing, whereas due to the deprecated Numeric compatibility mentioned above, `x[[1, 2, slice(None)]]` will trigger basic slicing.\n",
    "\n",
    "#### Integer array indexing\n",
    "\n",
    "Integer array indexing allows selection of arbitrary items in the array based on their *N*-dimensional index. Each integer array represents a number of indices into that dimension.\n",
    "\n",
    "Negative values are permitted in the index arrays and work as they do with single indices or slices:"
   ]
  },
  {
   "cell_type": "code",
   "execution_count": null,
   "id": "c2bfe947",
   "metadata": {
    "attributes": {
     "classes": [
      "code-cell"
     ],
     "id": ""
    }
   },
   "outputs": [],
   "source": [
    "x = np.arange(10, 1, -1)"
   ]
  },
  {
   "cell_type": "code",
   "execution_count": null,
   "id": "2e50515c",
   "metadata": {
    "attributes": {
     "classes": [
      "code-cell"
     ],
     "id": ""
    }
   },
   "outputs": [],
   "source": [
    "x"
   ]
  },
  {
   "cell_type": "code",
   "execution_count": null,
   "id": "92e69b13",
   "metadata": {
    "attributes": {
     "classes": [
      "code-cell"
     ],
     "id": ""
    }
   },
   "outputs": [],
   "source": [
    "x[np.array([3, 3, 1, 8])]"
   ]
  },
  {
   "cell_type": "code",
   "execution_count": null,
   "id": "1c8e7153",
   "metadata": {
    "attributes": {
     "classes": [
      "code-cell"
     ],
     "id": ""
    }
   },
   "outputs": [],
   "source": [
    "x[np.array([3, 3, -3, 8])]"
   ]
  },
  {
   "cell_type": "markdown",
   "id": "effa3bc2",
   "metadata": {},
   "source": [
    "If the index values are out of bounds then an `IndexError` is thrown:"
   ]
  },
  {
   "cell_type": "code",
   "execution_count": null,
   "id": "fac31f7b",
   "metadata": {
    "attributes": {
     "classes": [
      "code-cell"
     ],
     "id": ""
    }
   },
   "outputs": [],
   "source": [
    "x = np.array([[1, 2], [3, 4], [5, 6]])"
   ]
  },
  {
   "cell_type": "code",
   "execution_count": null,
   "id": "e19e29de",
   "metadata": {
    "attributes": {
     "classes": [
      "code-cell"
     ],
     "id": ""
    }
   },
   "outputs": [],
   "source": [
    "x[np.array([1, -1])]"
   ]
  },
  {
   "cell_type": "code",
   "execution_count": null,
   "id": "cce9c2bb",
   "metadata": {
    "attributes": {
     "classes": [
      "py"
     ],
     "id": ""
    }
   },
   "outputs": [],
   "source": [
    "x[np.array([3, 4])]"
   ]
  },
  {
   "cell_type": "code",
   "execution_count": null,
   "id": "30649051",
   "metadata": {
    "attributes": {
     "classes": [
      "py"
     ],
     "id": ""
    }
   },
   "outputs": [],
   "source": [
    "Traceback (most recent call last):\n",
    "  ...\n",
    "IndexError: index 3 is out of bounds for axis 0 with size 3"
   ]
  },
  {
   "cell_type": "markdown",
   "id": "574f71d0",
   "metadata": {},
   "source": [
    "When the index consists of as many integer arrays as dimensions of the array being indexed, the indexing is straightforward, but different from slicing.\n",
    "\n",
    "Advanced indices always are broadcast and iterated as *one*:"
   ]
  },
  {
   "cell_type": "code",
   "execution_count": null,
   "id": "59ddb2ac",
   "metadata": {
    "attributes": {
     "classes": [
      "py"
     ],
     "id": ""
    }
   },
   "outputs": [],
   "source": [
    "result[i_1, ..., i_M] == x[ind_1[i_1, ..., i_M], ind_2[i_1, ..., i_M],\n",
    "                           ..., ind_N[i_1, ..., i_M]]"
   ]
  },
  {
   "cell_type": "markdown",
   "id": "70557f3e",
   "metadata": {},
   "source": [
    "Note that the resulting shape is identical to the (broadcast) indexing array shapes `ind_1, ..., ind_N`. If the indices cannot be broadcast to the same shape, an exception `IndexError: shape mismatch: indexing arrays could not be broadcast together with shapes...` is raised.\n",
    "\n",
    "Indexing with multidimensional index arrays tend to be more unusual uses, but they are permitted, and they are useful for some problems. We’ll start with the simplest multidimensional case:"
   ]
  },
  {
   "cell_type": "code",
   "execution_count": null,
   "id": "ed9116e9",
   "metadata": {
    "attributes": {
     "classes": [
      "code-cell"
     ],
     "id": ""
    }
   },
   "outputs": [],
   "source": [
    "y = np.arange(35).reshape(5, 7)"
   ]
  },
  {
   "cell_type": "code",
   "execution_count": null,
   "id": "9948df47",
   "metadata": {
    "attributes": {
     "classes": [
      "code-cell"
     ],
     "id": ""
    }
   },
   "outputs": [],
   "source": [
    "y"
   ]
  },
  {
   "cell_type": "code",
   "execution_count": null,
   "id": "06615085",
   "metadata": {
    "attributes": {
     "classes": [
      "code-cell"
     ],
     "id": ""
    }
   },
   "outputs": [],
   "source": [
    "y[np.array([0, 2, 4]), np.array([0, 1, 2])]"
   ]
  },
  {
   "cell_type": "markdown",
   "id": "eed2a43d",
   "metadata": {},
   "source": [
    "In this case, if the index arrays have a matching shape, and there is an index array for each dimension of the array being indexed, the resultant array has the same shape as the index arrays, and the values correspond to the index set for each position in the index arrays. In this example, the first index value is 0 for both index arrays, and thus the first value of the resultant array is `y[0, 0]`. The next value is `y[2, 1]`, and the last is `y[4, 2]`.\n",
    "\n",
    "If the index arrays do not have the same shape, there is an attempt to broadcast them to the same shape. If they cannot be broadcast to the same shape, an exception is raised:"
   ]
  },
  {
   "cell_type": "code",
   "execution_count": null,
   "id": "b0597d19",
   "metadata": {
    "attributes": {
     "classes": [
      "py"
     ],
     "id": ""
    }
   },
   "outputs": [],
   "source": [
    "y[np.array([0, 2, 4]), np.array([0, 1])]"
   ]
  },
  {
   "cell_type": "code",
   "execution_count": null,
   "id": "cd5320a8",
   "metadata": {
    "attributes": {
     "classes": [
      "py"
     ],
     "id": ""
    }
   },
   "outputs": [],
   "source": [
    "Traceback (most recent call last):\n",
    "  ...\n",
    "IndexError: shape mismatch: indexing arrays could not be broadcast together with shapes (3,) (2,)"
   ]
  },
  {
   "cell_type": "markdown",
   "id": "73fb39b8",
   "metadata": {},
   "source": [
    "The broadcasting mechanism permits index arrays to be combined with scalars for other indices. The effect is that the scalar value is used for all the corresponding values of the index arrays:"
   ]
  },
  {
   "cell_type": "code",
   "execution_count": null,
   "id": "4879faa3",
   "metadata": {
    "attributes": {
     "classes": [
      "code-cell"
     ],
     "id": ""
    }
   },
   "outputs": [],
   "source": [
    "y[np.array([0, 2, 4]), 1]"
   ]
  },
  {
   "cell_type": "markdown",
   "id": "304ded63",
   "metadata": {},
   "source": [
    "Jumping to the next level of complexity, it is possible to only partially index an array with index arrays. It takes a bit of thought to understand what happens in such cases. For example if we just use one index array with y:"
   ]
  },
  {
   "cell_type": "code",
   "execution_count": null,
   "id": "af9d0b92",
   "metadata": {
    "attributes": {
     "classes": [
      "code-cell"
     ],
     "id": ""
    }
   },
   "outputs": [],
   "source": [
    "y[np.array([0, 2, 4])]"
   ]
  },
  {
   "cell_type": "markdown",
   "id": "ba0c23eb",
   "metadata": {},
   "source": [
    "It results in the construction of a new array where each value of the index array selects one row from the array being indexed and the resultant array has the resulting shape (number of index elements, size of row).\n",
    "\n",
    "In general, the shape of the resultant array will be the concatenation of the shape of the index array (or the shape that all the index arrays were broadcast to) with the shape of any unused dimensions (those not indexed) in the array being indexed.\n",
    "\n",
    "##### Example 1\n",
    "\n",
    "From each row, a specific element should be selected. The row index is just `[0, 1, 2]` and the column index specifies the element to choose for the corresponding row, here `[0, 1, 0]`. Using both together the task can be solved using advanced indexing:"
   ]
  },
  {
   "cell_type": "code",
   "execution_count": null,
   "id": "3874e757",
   "metadata": {
    "attributes": {
     "classes": [
      "code-cell"
     ],
     "id": ""
    }
   },
   "outputs": [],
   "source": [
    "x = np.array([[1, 2], [3, 4], [5, 6]])\n",
    "x[[0, 1, 2], [0, 1, 0]]"
   ]
  },
  {
   "cell_type": "markdown",
   "id": "dbf5dc8d",
   "metadata": {},
   "source": [
    "To achieve a behaviour similar to the basic slicing above, broadcasting can be used. The function `ix_` can help with this broadcasting. This is best understood with an example.\n",
    "\n",
    "##### Example 2\n",
    "\n",
    "From a $4x3$ array the corner elements should be selected using advanced indexing. Thus all elements for which the column is one of `[0, 2]` and the row is one of `[0, 3]` need to be selected. To use advanced indexing one needs to select all elements explicitly. Using the method explained previously one could write:"
   ]
  },
  {
   "cell_type": "code",
   "execution_count": null,
   "id": "db6e719e",
   "metadata": {
    "attributes": {
     "classes": [
      "code-cell"
     ],
     "id": ""
    }
   },
   "outputs": [],
   "source": [
    "x = np.array([[ 0,  1,  2],\n",
    "              [ 3,  4,  5],\n",
    "              [ 6,  7,  8],\n",
    "              [ 9, 10, 11]])\n",
    "rows = np.array([[0, 0],\n",
    "                 [3, 3]], dtype=np.intp)\n",
    "columns = np.array([[0, 2],\n",
    "                    [0, 2]], dtype=np.intp)\n",
    "x[rows, columns]"
   ]
  },
  {
   "cell_type": "markdown",
   "id": "f2560071",
   "metadata": {},
   "source": [
    "However, since the indexing arrays above just repeat themselves, broadcasting can be used (compare operations such as `rows[:, np.newaxis] + columns`) to simplify this:"
   ]
  },
  {
   "cell_type": "code",
   "execution_count": null,
   "id": "9acd0250",
   "metadata": {
    "attributes": {
     "classes": [
      "code-cell"
     ],
     "id": ""
    }
   },
   "outputs": [],
   "source": [
    "rows = np.array([0, 3], dtype=np.intp)\n",
    "columns = np.array([0, 2], dtype=np.intp)"
   ]
  },
  {
   "cell_type": "code",
   "execution_count": null,
   "id": "7016b656",
   "metadata": {
    "attributes": {
     "classes": [
      "code-cell"
     ],
     "id": ""
    }
   },
   "outputs": [],
   "source": [
    "rows[:, np.newaxis]"
   ]
  },
  {
   "cell_type": "code",
   "execution_count": null,
   "id": "0debb4f2",
   "metadata": {
    "attributes": {
     "classes": [
      "code-cell"
     ],
     "id": ""
    }
   },
   "outputs": [],
   "source": [
    "x[rows[:, np.newaxis], columns]"
   ]
  },
  {
   "cell_type": "markdown",
   "id": "b9574247",
   "metadata": {},
   "source": [
    "This broadcasting can also be achieved using the function `ix_`:"
   ]
  },
  {
   "cell_type": "code",
   "execution_count": null,
   "id": "2de5eb94",
   "metadata": {
    "attributes": {
     "classes": [
      "code-cell"
     ],
     "id": ""
    }
   },
   "outputs": [],
   "source": [
    "x[np.ix_(rows, columns)]"
   ]
  },
  {
   "cell_type": "markdown",
   "id": "d9cc3bb9",
   "metadata": {},
   "source": [
    "Note that without the `np.ix_` call, only the diagonal elements would be selected:"
   ]
  },
  {
   "cell_type": "code",
   "execution_count": null,
   "id": "fac07130",
   "metadata": {
    "attributes": {
     "classes": [
      "code-cell"
     ],
     "id": ""
    }
   },
   "outputs": [],
   "source": [
    "x[rows, columns]"
   ]
  },
  {
   "cell_type": "markdown",
   "id": "3feff654",
   "metadata": {},
   "source": [
    "This difference is the most important thing to remember about indexing with multiple advanced indices.\n",
    "\n",
    "##### Example 3\n",
    "\n",
    "A real-life example of where advanced indexing may be useful is for a color lookup table where we want to map the values of an image into RGB triples for display. The lookup table could have a shape (nlookup, 3). Indexing such an array with an image with shape (ny, nx) with dtype=np.uint8 (or any integer type so long as values are with the bounds of the lookup table) will result in an array of shape (ny, nx, 3) where a triple of RGB values is associated with each pixel location.\n",
    "\n",
    "#### Boolean array indexing\n",
    "\n",
    "This advanced indexing occurs when obj is an array object of Boolean type, such as may be returned from comparison operators. A single boolean index array is practically identical to `x[obj.nonzero()]` where, as described above, `obj.nonzero()` returns a tuple (of length `obj.ndim`) of integer index arrays showing the `True` elements of obj. However, it is faster when `obj.shape == x.shape`.\n",
    "\n",
    "If `obj.ndim == x.ndim`, `x[obj]` returns a 1-dimensional array filled with the elements of x corresponding to the `True` values of obj. The search order will be **row-major**, C-style. If obj has `True` values at entries that are outside of the bounds of x, then an index error will be raised. If obj is smaller than x it is identical to filling it with `False`.\n",
    "\n",
    "A common use case for this is filtering for desired element values. For example, one may wish to select all entries from an array which are not `NaN`:"
   ]
  },
  {
   "cell_type": "code",
   "execution_count": null,
   "id": "086a5d57",
   "metadata": {
    "attributes": {
     "classes": [
      "code-cell"
     ],
     "id": ""
    }
   },
   "outputs": [],
   "source": [
    "x = np.array([[1., 2.], [np.nan, 3.], [np.nan, np.nan]])\n",
    "x[~np.isnan(x)]"
   ]
  },
  {
   "cell_type": "markdown",
   "id": "061a8583",
   "metadata": {},
   "source": [
    "Or wish to add a constant to all negative elements:"
   ]
  },
  {
   "cell_type": "code",
   "execution_count": null,
   "id": "2057fe6a",
   "metadata": {
    "attributes": {
     "classes": [
      "code-cell"
     ],
     "id": ""
    }
   },
   "outputs": [],
   "source": [
    "x = np.array([1., -1., -2., 3])\n",
    "x[x < 0] += 20\n",
    "x"
   ]
  },
  {
   "cell_type": "markdown",
   "id": "bbac447b",
   "metadata": {},
   "source": [
    "In general if an index includes a Boolean array, the result will be identical to inserting `obj.nonzero()` into the same position and using the integer array indexing mechanism described above. `x[ind_1, boolean_array, ind_2]` is equivalent to `x[(ind_1,) + boolean_array.nonzero() + (ind_2,)]`.\n",
    "\n",
    "If there is only one Boolean array and no integer indexing array present, this is straightforward. Care must only be taken to make sure that the boolean index has exactly as many dimensions as it is supposed to work with.\n",
    "\n",
    "In general, when the boolean array has fewer dimensions than the array being indexed, this is equivalent to `x[b, ...]`, which means x is indexed by b followed by as many : as are needed to fill out the rank of x. Thus the shape of the result is one dimension containing the number of True elements of the boolean array, followed by the remaining dimensions of the array being indexed:"
   ]
  },
  {
   "cell_type": "code",
   "execution_count": null,
   "id": "682802a2",
   "metadata": {
    "attributes": {
     "classes": [
      "code-cell"
     ],
     "id": ""
    }
   },
   "outputs": [],
   "source": [
    "x = np.arange(35).reshape(5, 7)\n",
    "b = x > 20"
   ]
  },
  {
   "cell_type": "code",
   "execution_count": null,
   "id": "b8fcaa3b",
   "metadata": {
    "attributes": {
     "classes": [
      "code-cell"
     ],
     "id": ""
    }
   },
   "outputs": [],
   "source": [
    "b[:, 5]"
   ]
  },
  {
   "cell_type": "code",
   "execution_count": null,
   "id": "0b0654d9",
   "metadata": {
    "attributes": {
     "classes": [
      "code-cell"
     ],
     "id": ""
    }
   },
   "outputs": [],
   "source": [
    "x[b[:, 5]]"
   ]
  },
  {
   "cell_type": "markdown",
   "id": "97fc838b",
   "metadata": {},
   "source": [
    "Here the 4th and 5th rows are selected from the indexed array and combined to make a 2-D array.\n",
    "\n",
    "##### Example 1\n",
    "\n",
    "From an array, select all rows which sum up to less or equal two:"
   ]
  },
  {
   "cell_type": "code",
   "execution_count": null,
   "id": "1c4b9e75",
   "metadata": {
    "attributes": {
     "classes": [
      "code-cell"
     ],
     "id": ""
    }
   },
   "outputs": [],
   "source": [
    "x = np.array([[0, 1], [1, 1], [2, 2]])\n",
    "rowsum = x.sum(-1)\n",
    "x[rowsum <= 2, :]"
   ]
  },
  {
   "cell_type": "markdown",
   "id": "582290aa",
   "metadata": {},
   "source": [
    "Combining multiple Boolean indexing arrays or a Boolean with an integer indexing array can best be understood with the `obj.nonzero()` analogy. The function `ix_` also supports boolean arrays and will work without any surprises.\n",
    "\n",
    "##### Example 2\n",
    "\n",
    "Use boolean indexing to select all rows adding up to an even number. At the same time columns 0 and 2 should be selected with an advanced integer index. Using the `ix_` function this can be done with:"
   ]
  },
  {
   "cell_type": "code",
   "execution_count": null,
   "id": "71b2ff80",
   "metadata": {
    "attributes": {
     "classes": [
      "code-cell"
     ],
     "id": ""
    }
   },
   "outputs": [],
   "source": [
    "x = np.array([[ 0,  1,  2],\n",
    "              [ 3,  4,  5],\n",
    "              [ 6,  7,  8],\n",
    "              [ 9, 10, 11]])\n",
    "rows = (x.sum(-1) % 2) == 0"
   ]
  },
  {
   "cell_type": "code",
   "execution_count": null,
   "id": "22b76d5a",
   "metadata": {
    "attributes": {
     "classes": [
      "code-cell"
     ],
     "id": ""
    }
   },
   "outputs": [],
   "source": [
    "rows"
   ]
  },
  {
   "cell_type": "code",
   "execution_count": null,
   "id": "a6215246",
   "metadata": {
    "attributes": {
     "classes": [
      "code-cell"
     ],
     "id": ""
    }
   },
   "outputs": [],
   "source": [
    "columns = [0, 2]"
   ]
  },
  {
   "cell_type": "code",
   "execution_count": null,
   "id": "67376c05",
   "metadata": {
    "attributes": {
     "classes": [
      "code-cell"
     ],
     "id": ""
    }
   },
   "outputs": [],
   "source": [
    "x[np.ix_(rows, columns)]"
   ]
  },
  {
   "cell_type": "markdown",
   "id": "ac252095",
   "metadata": {},
   "source": [
    "Without the n`p.ix_` call, only the diagonal elements would be selected.\n",
    "\n",
    "Or without `np.ix_` (compare the integer array examples):"
   ]
  },
  {
   "cell_type": "code",
   "execution_count": null,
   "id": "dbe8e4d9",
   "metadata": {
    "attributes": {
     "classes": [
      "code-cell"
     ],
     "id": ""
    }
   },
   "outputs": [],
   "source": [
    "rows = rows.nonzero()[0]\n",
    "x[rows[:, np.newaxis], columns]"
   ]
  },
  {
   "cell_type": "markdown",
   "id": "f2c5dc47",
   "metadata": {},
   "source": [
    "##### Example 3\n",
    "\n",
    "Use a 2-D boolean array of shape (2, 3) with four True elements to select rows from a 3-D array of shape (2, 3, 5) results in a 2-D result of shape (4, 5):"
   ]
  },
  {
   "cell_type": "code",
   "execution_count": null,
   "id": "89663edf",
   "metadata": {
    "attributes": {
     "classes": [
      "code-cell"
     ],
     "id": ""
    }
   },
   "outputs": [],
   "source": [
    "x = np.arange(30).reshape(2, 3, 5)\n",
    "x"
   ]
  },
  {
   "cell_type": "code",
   "execution_count": null,
   "id": "4e424160",
   "metadata": {
    "attributes": {
     "classes": [
      "code-cell"
     ],
     "id": ""
    }
   },
   "outputs": [],
   "source": [
    "b = np.array([[True, True, False], [False, True, True]])\n",
    "x[b]"
   ]
  },
  {
   "cell_type": "markdown",
   "id": "b3cec9dd",
   "metadata": {},
   "source": [
    "#### Combining advanced and basic indexing\n",
    "\n",
    "When there is at least one slice (`:`), ellipsis (`...`) or `newaxis` in the index (or the array has more dimensions than there are advanced indices), then the behaviour can be more complicated. It is like concatenating the indexing result for each advanced index element.\n",
    "\n",
    "In the simplest case, there is only a single advanced index combined with a slice. For example:"
   ]
  },
  {
   "cell_type": "code",
   "execution_count": null,
   "id": "6ffe675e",
   "metadata": {
    "attributes": {
     "classes": [
      "code-cell"
     ],
     "id": ""
    }
   },
   "outputs": [],
   "source": [
    "y = np.arange(35).reshape(5,7)\n",
    "y[np.array([0, 2, 4]), 1:3]"
   ]
  },
  {
   "cell_type": "markdown",
   "id": "44e6db1b",
   "metadata": {},
   "source": [
    "In effect, the slice and index array operation are independent. The slice operation extracts columns with index 1 and 2, (i.e. the 2nd and 3rd columns), followed by the index array operation which extracts rows with index 0, 2 and 4 (i.e the first, third and fifth rows). This is equivalent to:"
   ]
  },
  {
   "cell_type": "code",
   "execution_count": null,
   "id": "b6340af9",
   "metadata": {
    "attributes": {
     "classes": [
      "code-cell"
     ],
     "id": ""
    }
   },
   "outputs": [],
   "source": [
    "y[:, 1:3][np.array([0, 2, 4]), :]"
   ]
  },
  {
   "cell_type": "markdown",
   "id": "a45745b3",
   "metadata": {},
   "source": [
    "A single advanced index can, for example, replace a slice and the result array will be the same. However, it is a copy and may have a different memory layout. A slice is preferable when it is possible. For example:"
   ]
  },
  {
   "cell_type": "code",
   "execution_count": null,
   "id": "a5bccf3a",
   "metadata": {
    "attributes": {
     "classes": [
      "code-cell"
     ],
     "id": ""
    }
   },
   "outputs": [],
   "source": [
    "x = np.array([[ 0,  1,  2],\n",
    "              [ 3,  4,  5],\n",
    "              [ 6,  7,  8],\n",
    "              [ 9, 10, 11]])"
   ]
  },
  {
   "cell_type": "code",
   "execution_count": null,
   "id": "f814a5b9",
   "metadata": {
    "attributes": {
     "classes": [
      "code-cell"
     ],
     "id": ""
    }
   },
   "outputs": [],
   "source": [
    "x[1:2, 1:3]"
   ]
  },
  {
   "cell_type": "code",
   "execution_count": null,
   "id": "f7526d15",
   "metadata": {
    "attributes": {
     "classes": [
      "code-cell"
     ],
     "id": ""
    }
   },
   "outputs": [],
   "source": [
    "x[1:2, [1, 2]]"
   ]
  },
  {
   "cell_type": "markdown",
   "id": "3f5ad98c",
   "metadata": {},
   "source": [
    "The easiest way to understand a combination of multiple advanced indices may be to think in terms of the resulting shape. There are two parts to the indexing operation, the subspace defined by the basic indexing (excluding integers) and the subspace from the advanced indexing part. Two cases of index combination need to be distinguished:\n",
    "\n",
    "- The advanced indices are separated by a slice, `Ellipsis` or `newaxis`. For example `x[arr1, :, arr2]`.\n",
    "- The advanced indices are all next to each other. For example `x[..., arr1, arr2, :]` but not`x[arr1, :, 1]` since `1` is an advanced index in this regard.\n",
    "\n",
    "In the first case, the dimensions resulting from the advanced indexing operation come first in the result array, and the subspace dimensions after that. In the second case, the dimensions from the advanced indexing operations are inserted into the result array at the same spot as they were in the initial array (the latter logic is what makes simple advanced indexing behave just like slicing).\n",
    "\n",
    "##### Example 1\n",
    "\n",
    "Suppose `x.shape` is (10, 20, 30) and `ind` is a (2, 3, 4)-shaped indexing intp array, then `result = x[..., ind, :]` has shape (10, 2, 3, 4, 30) because the (20,)-shaped subspace has been replaced with a (2, 3, 4)-shaped broadcasted indexing subspace. If we let i, j, k loop over the (2, 3, 4)-shaped subspace then `result[..., i, j, k, :] = x[..., ind[i, j, k], :]`. This example produces the same result as `x.take(ind, axis=-2)`.\n",
    "\n",
    "##### Example 2\n",
    "\n",
    "Let `x.shape` be (10, 20, 30, 40, 50) and suppose `ind_1` and `ind_2` can be broadcast to the shape (2, 3, 4). Then `x[:, ind_1, ind_2]` has shape (10, 2, 3, 4, 40, 50) because the (20, 30)-shaped subspace from X has been replaced with the (2, 3, 4) subspace from the indices. However, `x[:, ind_1, :, ind_2]` has shape (2, 3, 4, 10, 30, 50) because there is no unambiguous place to drop in the indexing subspace, thus it is tacked-on to the beginning. It is always possible to use `.transpose()` to move the subspace anywhere desired. Note that this example cannot be replicated using `take`.\n",
    "\n",
    "##### Example 3\n",
    "\n",
    "Slicing can be combined with broadcasted boolean indices:"
   ]
  },
  {
   "cell_type": "code",
   "execution_count": null,
   "id": "7c57fce7",
   "metadata": {
    "attributes": {
     "classes": [
      "code-cell"
     ],
     "id": ""
    }
   },
   "outputs": [],
   "source": [
    "x = np.arange(35).reshape(5, 7)\n",
    "b = x > 20"
   ]
  },
  {
   "cell_type": "code",
   "execution_count": null,
   "id": "f49385fe",
   "metadata": {
    "attributes": {
     "classes": [
      "code-cell"
     ],
     "id": ""
    }
   },
   "outputs": [],
   "source": [
    "b"
   ]
  },
  {
   "cell_type": "code",
   "execution_count": null,
   "id": "90583214",
   "metadata": {
    "attributes": {
     "classes": [
      "code-cell"
     ],
     "id": ""
    }
   },
   "outputs": [],
   "source": [
    "x[b[:, 5], 1:3]"
   ]
  },
  {
   "cell_type": "markdown",
   "id": "76d34455",
   "metadata": {},
   "source": [
    "### Field access\n",
    "\n",
    "If the `ndarray` object is a structured array the fields of the array can be accessed by indexing the array with strings, dictionary-like.\n",
    "\n",
    "Indexing `x['field-name']` returns a new `view` to the array, which is of the same shape as x (except when the field is a sub-array) but of data type `x.dtype['field-name']` and contains only the part of the data in the specified field. Also, record array scalars can be “indexed” this way.\n",
    "\n",
    "Indexing into a structured array can also be done with a list of field names, e.g. `x[['field-name1', 'field-name2']]`. As of NumPy 1.16, this returns a view containing only those fields. In older versions of NumPy, it returned a copy. See the user guide section on `Structured arrays` for more information on multifield indexing.\n",
    "\n",
    "If the accessed field is a sub-array, the dimensions of the sub-array are appended to the shape of the result. For example:"
   ]
  },
  {
   "cell_type": "code",
   "execution_count": null,
   "id": "6565504a",
   "metadata": {
    "attributes": {
     "classes": [
      "code-cell"
     ],
     "id": ""
    }
   },
   "outputs": [],
   "source": [
    "x = np.zeros((2, 2), dtype=[('a', np.int32), ('b', np.float64, (3, 3))])"
   ]
  },
  {
   "cell_type": "code",
   "execution_count": null,
   "id": "3b7fafbc",
   "metadata": {
    "attributes": {
     "classes": [
      "code-cell"
     ],
     "id": ""
    }
   },
   "outputs": [],
   "source": [
    "x['a'].shape"
   ]
  },
  {
   "cell_type": "code",
   "execution_count": null,
   "id": "5e4c8dce",
   "metadata": {
    "attributes": {
     "classes": [
      "code-cell"
     ],
     "id": ""
    }
   },
   "outputs": [],
   "source": [
    "x['a'].dtype"
   ]
  },
  {
   "cell_type": "code",
   "execution_count": null,
   "id": "2d5aec47",
   "metadata": {
    "attributes": {
     "classes": [
      "code-cell"
     ],
     "id": ""
    }
   },
   "outputs": [],
   "source": [
    "x['b'].shape"
   ]
  },
  {
   "cell_type": "code",
   "execution_count": null,
   "id": "95b8372e",
   "metadata": {
    "attributes": {
     "classes": [
      "code-cell"
     ],
     "id": ""
    }
   },
   "outputs": [],
   "source": [
    "x['b'].dtype"
   ]
  },
  {
   "cell_type": "markdown",
   "id": "90dd694d",
   "metadata": {},
   "source": [
    "### Flat Iterator indexing\n",
    "\n",
    "`x.flat` returns an iterator that will iterate over the entire array (in C-contiguous style with the last index varying the fastest). This iterator object can also be indexed using basic slicing or advanced indexing as long as the selection object is not a tuple. This should be clear from the fact that`x.flat` is a 1-dimensional view. It can be used for integer indexing with 1-dimensional C-style-flat indices. The shape of any returned array is therefore the shape of the integer indexing object.\n",
    "\n",
    "### Assigning values to indexed arrays\n",
    "\n",
    "As mentioned, one can select a subset of an array to assign to using a single index, slices, and index and mask arrays. The value being assigned to the indexed array must be shape consistent (the same shape or broadcastable to the shape the index produces). For example, it is permitted to assign a constant to a slice:"
   ]
  },
  {
   "cell_type": "code",
   "execution_count": null,
   "id": "60467f7d",
   "metadata": {
    "attributes": {
     "classes": [
      "code-cell"
     ],
     "id": ""
    }
   },
   "outputs": [],
   "source": [
    "x = np.arange(10)\n",
    "x[2:7] = 1"
   ]
  },
  {
   "cell_type": "markdown",
   "id": "0797ab4a",
   "metadata": {},
   "source": [
    "Or an array of the right size:"
   ]
  },
  {
   "cell_type": "code",
   "execution_count": null,
   "id": "3401a923",
   "metadata": {
    "attributes": {
     "classes": [
      "code-cell"
     ],
     "id": ""
    }
   },
   "outputs": [],
   "source": [
    "x[2:7] = np.arange(5)"
   ]
  },
  {
   "cell_type": "markdown",
   "id": "e2a09c26",
   "metadata": {},
   "source": [
    "Note that assignments may result in changes if assigning higher types to lower types (like floats to ints) or even exceptions (assigning complex to floats or ints):"
   ]
  },
  {
   "cell_type": "code",
   "execution_count": null,
   "id": "c73478db",
   "metadata": {
    "attributes": {
     "classes": [
      "code-cell"
     ],
     "id": ""
    }
   },
   "outputs": [],
   "source": [
    "x[1] = 1.2\n",
    "x[1]"
   ]
  },
  {
   "cell_type": "code",
   "execution_count": null,
   "id": "a9bf40d8",
   "metadata": {
    "attributes": {
     "classes": [
      "py"
     ],
     "id": ""
    }
   },
   "outputs": [],
   "source": [
    "x[1] = 1.2j"
   ]
  },
  {
   "cell_type": "code",
   "execution_count": null,
   "id": "5d5f8da0",
   "metadata": {
    "attributes": {
     "classes": [
      "py"
     ],
     "id": ""
    }
   },
   "outputs": [],
   "source": [
    "Traceback (most recent call last):\n",
    "  ...\n",
    "TypeError: can't convert complex to int"
   ]
  },
  {
   "cell_type": "markdown",
   "id": "1759b7cb",
   "metadata": {},
   "source": [
    "Unlike some of the references (such as array and mask indices) assignments are always made to the original data in the array (indeed, nothing else would make sense!). Note though, that some actions may not work as one may naively expect. This particular example is often surprising to people:"
   ]
  },
  {
   "cell_type": "code",
   "execution_count": null,
   "id": "56d796ee",
   "metadata": {
    "attributes": {
     "classes": [
      "code-cell"
     ],
     "id": ""
    }
   },
   "outputs": [],
   "source": [
    "x = np.arange(0, 50, 10)\n",
    "x"
   ]
  },
  {
   "cell_type": "code",
   "execution_count": null,
   "id": "d940c43d",
   "metadata": {
    "attributes": {
     "classes": [
      "code-cell"
     ],
     "id": ""
    }
   },
   "outputs": [],
   "source": [
    "x[np.array([1, 1, 3, 1])] += 1\n",
    "x"
   ]
  },
  {
   "cell_type": "markdown",
   "id": "264d6dc4",
   "metadata": {},
   "source": [
    "Where people expect that the 1st location will be incremented by 3. In fact, it will only be incremented by 1. The reason is that a new array is extracted from the original (as a temporary) containing the values at 1, 1, 3, 1, then the value 1 is added to the temporary, and then the temporary is assigned back to the original array. Thus the value of the array at `x[1] + 1` is assigned to `x[1]` three times, rather than being incremented 3 times.\n",
    "\n",
    "### Dealing with variable numbers of indices within programs\n",
    "\n",
    "The indexing syntax is very powerful but limiting when dealing with a variable number of indices. For example, if you want to write a function that can handle arguments with various numbers of dimensions without having to write special case code for each number of possible dimensions, how can that be done? If one supplies to the index a tuple, the tuple will be interpreted as a list of indices. For example:"
   ]
  },
  {
   "cell_type": "code",
   "execution_count": null,
   "id": "5fdb4727",
   "metadata": {
    "attributes": {
     "classes": [
      "code-cell"
     ],
     "id": ""
    }
   },
   "outputs": [],
   "source": [
    "z = np.arange(81).reshape(3, 3, 3, 3)\n",
    "indices = (1, 1, 1, 1)\n",
    "z[indices]"
   ]
  },
  {
   "cell_type": "markdown",
   "id": "abc47feb",
   "metadata": {},
   "source": [
    "So one can use code to construct tuples of any number of indices and then use these within an index.\n",
    "\n",
    "Slices can be specified within programs by using the slice() function in Python. For example:"
   ]
  },
  {
   "cell_type": "code",
   "execution_count": null,
   "id": "8aff49f2",
   "metadata": {
    "attributes": {
     "classes": [
      "code-cell"
     ],
     "id": ""
    }
   },
   "outputs": [],
   "source": [
    "indices = (1, 1, 1, slice(0, 2))  # same as [1, 1, 1, 0:2]\n",
    "z[indices]"
   ]
  },
  {
   "cell_type": "markdown",
   "id": "9f3a6964",
   "metadata": {},
   "source": [
    "Likewise, ellipsis can be specified by code by using the Ellipsis object:"
   ]
  },
  {
   "cell_type": "code",
   "execution_count": null,
   "id": "c2f2441f",
   "metadata": {
    "attributes": {
     "classes": [
      "code-cell"
     ],
     "id": ""
    }
   },
   "outputs": [],
   "source": [
    "indices = (1, Ellipsis, 1)  # same as [1, ..., 1]\n",
    "z[indices]"
   ]
  },
  {
   "cell_type": "markdown",
   "id": "c0af9bcd",
   "metadata": {},
   "source": [
    "For this reason, it is possible to use the output from the `np.nonzero()` function directly as an index since it always returns a tuple of index arrays.\n",
    "\n",
    "Because of the special treatment of tuples, they are not automatically converted to an array as a list would be. As an example:"
   ]
  },
  {
   "cell_type": "code",
   "execution_count": null,
   "id": "b8d69c1e",
   "metadata": {
    "attributes": {
     "classes": [
      "code-cell"
     ],
     "id": ""
    }
   },
   "outputs": [],
   "source": [
    "z[[1, 1, 1, 1]]  # produces a large array"
   ]
  },
  {
   "cell_type": "code",
   "execution_count": null,
   "id": "55e27a65",
   "metadata": {
    "attributes": {
     "classes": [
      "code-cell"
     ],
     "id": ""
    },
    "editable": true,
    "slideshow": {
     "slide_type": ""
    },
    "tags": []
   },
   "outputs": [],
   "source": [
    "z[(1, 1, 1, 1)]  # returns a single value"
   ]
  }
 ],
 "metadata": {
  "kernelspec": {
   "display_name": "Python 3 (ipykernel)",
   "language": "python",
   "name": "python3"
  },
  "language_info": {
   "codemirror_mode": {
    "name": "ipython",
    "version": 3
   },
   "file_extension": ".py",
   "mimetype": "text/x-python",
   "name": "python",
   "nbconvert_exporter": "python",
   "pygments_lexer": "ipython3",
   "version": "3.11.1"
  }
 },
 "nbformat": 4,
 "nbformat_minor": 5
}
