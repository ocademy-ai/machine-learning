{
 "cells": [
  {
   "cell_type": "code",
   "execution_count": null,
   "id": "c8e7b835",
   "metadata": {
    "attributes": {
     "classes": [
      "code-cell"
     ],
     "id": ""
    }
   },
   "outputs": [],
   "source": [
    "# Install the necessary dependencies\n",
    "\n",
    "import os\n",
    "import sys\n",
    "import numpy as np\n",
    "import pandas as pd\n",
    "!{sys.executable} -m pip install --quiet jupyterlab_myst ipython"
   ]
  },
  {
   "cell_type": "markdown",
   "id": "76e49f3c",
   "metadata": {
    "tags": [
     "remove-cell"
    ]
   },
   "source": [
    "---\n",
    "license:\n",
    "    code: MIT\n",
    "    content: CC-BY-4.0\n",
    "github: https://github.com/ocademy-ai/machine-learning\n",
    "venue: By Ocademy\n",
    "open_access: true\n",
    "bibliography:\n",
    "  - https://raw.githubusercontent.com/ocademy-ai/machine-learning/main/open-machine-learning-jupyter-book/references.bib\n",
    "---"
   ]
  },
  {
   "cell_type": "markdown",
   "id": "105bf8eb",
   "metadata": {},
   "source": [
    "\n",
    "# Introduction and Data Structures\n",
    " \n",
    "Pandas is a fast, powerful, flexible and easy-to-use open-source data analysis and manipulation tool, built on top of the Python programming language.\n",
    "\n",
    "## Introducing Pandas objects\n",
    "\n",
    "In 3 sections, we’ll start with a quick, non-comprehensive overview of the fundamental data structures in Pandas to get you started. The fundamental behavior about data types, indexing, axis labeling, and alignment apply across all of the objects. "
   ]
  },
  {
   "cell_type": "markdown",
   "id": "2818782f-4106-4c67-9491-5569ffdaaf19",
   "metadata": {},
   "source": [
    "## Overview\n",
    "\n",
    "In this section, we'll introduce two data structure of pandas and the basic concept of data indexing and selection."
   ]
  },
  {
   "cell_type": "markdown",
   "id": "bb9af208",
   "metadata": {},
   "source": [
    "### Series\n",
    "\n",
    "`Series` is a one-dimensional labeled array capable of holding any data type (integers, strings, floating point numbers, Python objects, etc.). The axis labels are collectively referred to as the **index**. The basic method to create a `Series` is to call:"
   ]
  },
  {
   "cell_type": "markdown",
   "id": "2d6b11bf-93b8-439d-83ed-9ffae399bb1f",
   "metadata": {
    "attributes": {
     "classes": [
      "py"
     ],
     "id": ""
    }
   },
   "source": [
    "`s = pd.Series(data, index=index)`"
   ]
  },
  {
   "cell_type": "markdown",
   "id": "475acfee",
   "metadata": {},
   "source": [
    "Here, `data` can be many different things:\n",
    "\n",
    "- a Python dict\n",
    "- an ndarray\n",
    "- a scalar value (like 5)\n",
    "\n",
    "\n",
    "The passed **index** is a list of axis labels. Thus, this separates into a few cases depending on what the **data is**:\n",
    "\n",
    "#### Create a Series\n",
    "\n",
    "##### From ndarray\n",
    "\n",
    "If `data` is an ndarray, **index** must be the same length as the **data**. If no index is passed, one will be created having values `[0, ..., len(data) - 1]`."
   ]
  },
  {
   "cell_type": "code",
   "execution_count": null,
   "id": "646c8580",
   "metadata": {
    "attributes": {
     "classes": [
      "code-cell"
     ],
     "id": ""
    }
   },
   "outputs": [],
   "source": [
    "s = pd.Series(np.random.randn(5), index=[\"a\", \"b\", \"c\", \"d\", \"e\"])"
   ]
  },
  {
   "cell_type": "code",
   "execution_count": null,
   "id": "2d2455c1",
   "metadata": {
    "attributes": {
     "classes": [
      "code-cell"
     ],
     "id": ""
    }
   },
   "outputs": [],
   "source": [
    "s"
   ]
  },
  {
   "cell_type": "code",
   "execution_count": null,
   "id": "20f33329",
   "metadata": {
    "attributes": {
     "classes": [
      "code-cell"
     ],
     "id": ""
    }
   },
   "outputs": [],
   "source": [
    "s.index"
   ]
  },
  {
   "cell_type": "code",
   "execution_count": null,
   "id": "5376f720",
   "metadata": {
    "attributes": {
     "classes": [
      "code-cell"
     ],
     "id": ""
    }
   },
   "outputs": [],
   "source": [
    "pd.Series(np.random.randn(5))"
   ]
  },
  {
   "cell_type": "markdown",
   "id": "2f4e73c7",
   "metadata": {},
   "source": [
    ":::{note}\n",
    "Pandas supports non-unique index values. If an operation that does not support duplicate index values is attempted, an exception will be raised at that time.\n",
    ":::\n",
    "\n",
    "##### From dict\n",
    "`Series` can be instantiated from dicts:"
   ]
  },
  {
   "cell_type": "code",
   "execution_count": null,
   "id": "e8095575",
   "metadata": {
    "attributes": {
     "classes": [
      "code-cell"
     ],
     "id": ""
    }
   },
   "outputs": [],
   "source": [
    "d = {\"b\": 1, \"a\": 0, \"c\": 2}"
   ]
  },
  {
   "cell_type": "code",
   "execution_count": null,
   "id": "ba462934",
   "metadata": {
    "attributes": {
     "classes": [
      "code-cell"
     ],
     "id": ""
    }
   },
   "outputs": [],
   "source": [
    "pd.Series(d)"
   ]
  },
  {
   "cell_type": "markdown",
   "id": "c4329868",
   "metadata": {},
   "source": [
    "If an index is passed, the values in data corresponding to the labels in the index will be pulled out."
   ]
  },
  {
   "cell_type": "code",
   "execution_count": null,
   "id": "03488418",
   "metadata": {
    "attributes": {
     "classes": [
      "code-cell"
     ],
     "id": ""
    }
   },
   "outputs": [],
   "source": [
    "d = {\"a\": 0.0, \"b\": 1.0, \"c\": 2.0}"
   ]
  },
  {
   "cell_type": "code",
   "execution_count": null,
   "id": "c35e968c",
   "metadata": {
    "attributes": {
     "classes": [
      "code-cell"
     ],
     "id": ""
    }
   },
   "outputs": [],
   "source": [
    "pd.Series(d)"
   ]
  },
  {
   "cell_type": "code",
   "execution_count": null,
   "id": "95eafc4d",
   "metadata": {
    "attributes": {
     "classes": [
      "code-cell"
     ],
     "id": ""
    }
   },
   "outputs": [],
   "source": [
    "pd.Series(d, index=[\"b\", \"c\", \"d\", \"a\"])"
   ]
  },
  {
   "cell_type": "markdown",
   "id": "1be5c72d",
   "metadata": {},
   "source": [
    ":::{note}\n",
    "NaN (not a number) is the standard missing data marker used in Pandas.\n",
    ":::\n",
    "\n",
    "##### From scalar value\n",
    "\n",
    "If `data` is a scalar value, an index must be provided. The value will be repeated to match the length of **index**."
   ]
  },
  {
   "cell_type": "code",
   "execution_count": null,
   "id": "6f744115",
   "metadata": {
    "attributes": {
     "classes": [
      "code-cell"
     ],
     "id": ""
    }
   },
   "outputs": [],
   "source": [
    "pd.Series(5.0, index=[\"a\", \"b\", \"c\", \"d\", \"e\"])"
   ]
  },
  {
   "cell_type": "markdown",
   "id": "8060fb92",
   "metadata": {},
   "source": [
    "#### Series is ndarray-like\n",
    "\n",
    "`Series` acts very similarly to a `ndarray` and is a valid argument to most NumPy functions. However, operations such as slicing will also slice the index."
   ]
  },
  {
   "cell_type": "code",
   "execution_count": null,
   "id": "2ca453e9",
   "metadata": {
    "attributes": {
     "classes": [
      "code-cell"
     ],
     "id": ""
    }
   },
   "outputs": [],
   "source": [
    "s[0]"
   ]
  },
  {
   "cell_type": "code",
   "execution_count": null,
   "id": "4cf8e176",
   "metadata": {
    "attributes": {
     "classes": [
      "code-cell"
     ],
     "id": ""
    }
   },
   "outputs": [],
   "source": [
    "s[:3]"
   ]
  },
  {
   "cell_type": "code",
   "execution_count": null,
   "id": "1bab7730",
   "metadata": {
    "attributes": {
     "classes": [
      "code-cell"
     ],
     "id": ""
    }
   },
   "outputs": [],
   "source": [
    "s[s > s.median()]"
   ]
  },
  {
   "cell_type": "code",
   "execution_count": null,
   "id": "b5e98d89",
   "metadata": {
    "attributes": {
     "classes": [
      "code-cell"
     ],
     "id": ""
    }
   },
   "outputs": [],
   "source": [
    "s[[4, 3, 1]]"
   ]
  },
  {
   "cell_type": "code",
   "execution_count": null,
   "id": "c98a7190",
   "metadata": {
    "attributes": {
     "classes": [
      "code-cell"
     ],
     "id": ""
    }
   },
   "outputs": [],
   "source": [
    "np.exp(s)"
   ]
  },
  {
   "cell_type": "markdown",
   "id": "a49ee902",
   "metadata": {},
   "source": [
    "Like a NumPy array, a Pandas Series has a single `dtype`."
   ]
  },
  {
   "cell_type": "code",
   "execution_count": null,
   "id": "b0298996",
   "metadata": {
    "attributes": {
     "classes": [
      "code-cell"
     ],
     "id": ""
    }
   },
   "outputs": [],
   "source": [
    "s.dtype"
   ]
  },
  {
   "cell_type": "markdown",
   "id": "69857db8",
   "metadata": {},
   "source": [
    "If you need the actual array backing a `Series`, use `Series.array`."
   ]
  },
  {
   "cell_type": "code",
   "execution_count": null,
   "id": "1989c3a9",
   "metadata": {
    "attributes": {
     "classes": [
      "code-cell"
     ],
     "id": ""
    }
   },
   "outputs": [],
   "source": [
    "s.array"
   ]
  },
  {
   "cell_type": "markdown",
   "id": "7ed219b0",
   "metadata": {},
   "source": [
    "While `Series` is ndarray-like, if you need an actual ndarray, then use `Series.to_numpy()`."
   ]
  },
  {
   "cell_type": "code",
   "execution_count": null,
   "id": "1cc04172",
   "metadata": {
    "attributes": {
     "classes": [
      "code-cell"
     ],
     "id": ""
    }
   },
   "outputs": [],
   "source": [
    "s.to_numpy()"
   ]
  },
  {
   "cell_type": "markdown",
   "id": "12f01f86",
   "metadata": {},
   "source": [
    "Even if the `Series` is backed by an `ExtensionArray`, `Series.to_numpy()` will return a NumPy ndarray.\n",
    "\n",
    "#### Series is dict-like\n",
    "\n",
    "A `Series` is also like a fixed-size dict in that you can get and set values by index label:"
   ]
  },
  {
   "cell_type": "code",
   "execution_count": null,
   "id": "bcfe90c9",
   "metadata": {
    "attributes": {
     "classes": [
      "code-cell"
     ],
     "id": ""
    }
   },
   "outputs": [],
   "source": [
    "s[\"a\"]"
   ]
  },
  {
   "cell_type": "code",
   "execution_count": null,
   "id": "00c68766",
   "metadata": {
    "attributes": {
     "classes": [
      "code-cell"
     ],
     "id": ""
    }
   },
   "outputs": [],
   "source": [
    "s[\"e\"] = 12.0"
   ]
  },
  {
   "cell_type": "code",
   "execution_count": null,
   "id": "74f58473",
   "metadata": {
    "attributes": {
     "classes": [
      "code-cell"
     ],
     "id": ""
    }
   },
   "outputs": [],
   "source": [
    "s"
   ]
  },
  {
   "cell_type": "code",
   "execution_count": null,
   "id": "2f822110",
   "metadata": {
    "attributes": {
     "classes": [
      "code-cell"
     ],
     "id": ""
    }
   },
   "outputs": [],
   "source": [
    "\"e\" in s"
   ]
  },
  {
   "cell_type": "code",
   "execution_count": null,
   "id": "164dcf61",
   "metadata": {
    "attributes": {
     "classes": [
      "code-cell"
     ],
     "id": ""
    }
   },
   "outputs": [],
   "source": [
    "\"f\" in s"
   ]
  },
  {
   "cell_type": "markdown",
   "id": "ca979c84",
   "metadata": {},
   "source": [
    "If a label is not contained in the index, an exception is raised:"
   ]
  },
  {
   "cell_type": "code",
   "execution_count": null,
   "id": "40a23c62-9c88-4a6e-9316-60317abe7859",
   "metadata": {
    "attributes": {
     "classes": [
      "code-cell"
     ],
     "id": ""
    },
    "tags": [
     "raises-exception"
    ]
   },
   "outputs": [],
   "source": [
    "s[\"f\"]"
   ]
  },
  {
   "cell_type": "markdown",
   "id": "396df6e2",
   "metadata": {},
   "source": [
    "Using the `Series.get()` method, a missing label will return None or specified default:"
   ]
  },
  {
   "cell_type": "code",
   "execution_count": null,
   "id": "ad2a67c6",
   "metadata": {
    "attributes": {
     "classes": [
      "code-cell"
     ],
     "id": ""
    }
   },
   "outputs": [],
   "source": [
    "s.get(\"f\")"
   ]
  },
  {
   "cell_type": "code",
   "execution_count": null,
   "id": "13c1c13b",
   "metadata": {
    "attributes": {
     "classes": [
      "code-cell"
     ],
     "id": ""
    }
   },
   "outputs": [],
   "source": [
    "s.get(\"f\", np.nan)"
   ]
  },
  {
   "cell_type": "markdown",
   "id": "1b19c44c",
   "metadata": {},
   "source": [
    "These labels can also be accessed by `attribute`.\n",
    "\n",
    "#### Vectorized operations and label alignment with Series\n",
    "\n",
    "When working with raw NumPy arrays, looping through value-by-value is usually not necessary. The same is true when working with `Series` in Pandas. `Series` can also be passed into most NumPy methods expecting an ndarray."
   ]
  },
  {
   "cell_type": "code",
   "execution_count": null,
   "id": "35540134",
   "metadata": {
    "attributes": {
     "classes": [
      "code-cell"
     ],
     "id": ""
    }
   },
   "outputs": [],
   "source": [
    "s + s"
   ]
  },
  {
   "cell_type": "code",
   "execution_count": null,
   "id": "aea7c1dc",
   "metadata": {
    "attributes": {
     "classes": [
      "code-cell"
     ],
     "id": ""
    }
   },
   "outputs": [],
   "source": [
    "s * 2"
   ]
  },
  {
   "cell_type": "code",
   "execution_count": null,
   "id": "4dcdc8c4",
   "metadata": {
    "attributes": {
     "classes": [
      "code-cell"
     ],
     "id": ""
    }
   },
   "outputs": [],
   "source": [
    "np.exp(s)"
   ]
  },
  {
   "cell_type": "markdown",
   "id": "f8ed10f3",
   "metadata": {},
   "source": [
    "A key difference between `Series` and ndarray is that operations between `Series` automatically align the data based on the label. Thus, you can write computations without giving consideration to whether the `Series` involved have the same labels."
   ]
  },
  {
   "cell_type": "code",
   "execution_count": null,
   "id": "563555a0",
   "metadata": {
    "attributes": {
     "classes": [
      "code-cell"
     ],
     "id": ""
    }
   },
   "outputs": [],
   "source": [
    "s[1:] + s[:-1]"
   ]
  },
  {
   "cell_type": "markdown",
   "id": "7e19643a",
   "metadata": {},
   "source": [
    "The result of an operation between unaligned `Series` will have the **union** of the indexes involved. If a label is not found in one `Series` or the other, the result will be marked as missing `NaN`. Being able to write code without doing any explicit data alignment grants immense freedom and flexibility in interactive data analysis and research. The integrated data alignment features of the Pandas data structures set Pandas apart from the majority of related tools for working with labeled data.\n",
    "\n",
    ":::{note}\n",
    "In general, we chose to make the default result of operations between differently indexed objects yield the **union** of the indexes in order to avoid loss of information. Having an index label, though the data is missing, is typically important information as part of a computation. You of course have the option of dropping labels with missing data via the `dropna` function.\n",
    ":::\n",
    "\n",
    "#### Name attribute\n",
    "\n",
    "`Series` also has a `name` attribute:"
   ]
  },
  {
   "cell_type": "code",
   "execution_count": null,
   "id": "3b39834b",
   "metadata": {
    "attributes": {
     "classes": [
      "code-cell"
     ],
     "id": ""
    }
   },
   "outputs": [],
   "source": [
    "s = pd.Series(np.random.randn(5), name=\"something\")"
   ]
  },
  {
   "cell_type": "code",
   "execution_count": null,
   "id": "18210d7f",
   "metadata": {
    "attributes": {
     "classes": [
      "code-cell"
     ],
     "id": ""
    }
   },
   "outputs": [],
   "source": [
    "s"
   ]
  },
  {
   "cell_type": "code",
   "execution_count": null,
   "id": "06f09ce2",
   "metadata": {
    "attributes": {
     "classes": [
      "code-cell"
     ],
     "id": ""
    }
   },
   "outputs": [],
   "source": [
    "s.name"
   ]
  },
  {
   "cell_type": "markdown",
   "id": "b35b499b",
   "metadata": {},
   "source": [
    "The `Series` `name` can be assigned automatically in many cases, in particular, when selecting a single column from a `DataFrame`, the `name` will be assigned the column label.\n",
    "\n",
    "You can rename a `Series` with the `pandas.Series.rename()` method."
   ]
  },
  {
   "cell_type": "code",
   "execution_count": null,
   "id": "bd079c61",
   "metadata": {
    "attributes": {
     "classes": [
      "code-cell"
     ],
     "id": ""
    }
   },
   "outputs": [],
   "source": [
    "s2 = s.rename(\"different\")"
   ]
  },
  {
   "cell_type": "code",
   "execution_count": null,
   "id": "a1767258",
   "metadata": {
    "attributes": {
     "classes": [
      "code-cell"
     ],
     "id": ""
    }
   },
   "outputs": [],
   "source": [
    "s2.name"
   ]
  },
  {
   "cell_type": "markdown",
   "id": "398a679d",
   "metadata": {},
   "source": [
    "Note that `s` and `s2` refer to different objects.\n",
    "\n",
    "### DataFrame\n",
    "\n",
    "`DataFrame` is a 2-dimensional labeled data structure with columns of potentially different types. You can think of it like a spreadsheet or SQL table, or a `dict` of `Series` objects. It is generally the most commonly used Pandas object. Like `Series`, `DataFrame` accepts many different kinds of input:\n",
    "\n",
    "- Dict of 1D ndarrays, lists, dicts, or `Series`\n",
    "- 2-D `numpy.ndarray`\n",
    "- Structured or record ndarray\n",
    "- A `Series`\n",
    "- Another `DataFrame`\n",
    "\n",
    "Along with the data, you can optionally pass **index** (row labels) and **columns** (column labels) arguments. If you pass an index and / or columns, you are guaranteeing the index and / or columns of the resulting `DataFrame`. Thus, a `dict` of Series plus a specific index will discard all data not matching up to the passed index.\n",
    "\n",
    "If axis labels are not passed, they will be constructed from the input data based on common sense rules.\n",
    "\n",
    "#### Create a Dataframe\n",
    "\n",
    "##### From dict of `Series` or dicts\n",
    "\n",
    "The resulting **index** will be the **union** of the indexes of the various Series. If there are any nested dicts, these will first be converted to Series. If no columns are passed, the columns will be the ordered list of `dict` keys."
   ]
  },
  {
   "cell_type": "code",
   "execution_count": null,
   "id": "aa7ddc8a",
   "metadata": {
    "attributes": {
     "classes": [
      "code-cell"
     ],
     "id": ""
    }
   },
   "outputs": [],
   "source": [
    "d = {\n",
    "    \"one\": pd.Series([1.0, 2.0, 3.0], index=[\"a\", \"b\", \"c\"]),\n",
    "    \"two\": pd.Series([1.0, 2.0, 3.0, 4.0], index=[\"a\", \"b\", \"c\", \"d\"]),\n",
    "}"
   ]
  },
  {
   "cell_type": "code",
   "execution_count": null,
   "id": "f526badc",
   "metadata": {
    "attributes": {
     "classes": [
      "code-cell"
     ],
     "id": ""
    }
   },
   "outputs": [],
   "source": [
    "df = pd.DataFrame(d)"
   ]
  },
  {
   "cell_type": "code",
   "execution_count": null,
   "id": "69ddc66c",
   "metadata": {
    "attributes": {
     "classes": [
      "code-cell"
     ],
     "id": ""
    }
   },
   "outputs": [],
   "source": [
    "df"
   ]
  },
  {
   "cell_type": "code",
   "execution_count": null,
   "id": "1f5e8ccb",
   "metadata": {
    "attributes": {
     "classes": [
      "code-cell"
     ],
     "id": ""
    }
   },
   "outputs": [],
   "source": [
    "pd.DataFrame(d, index=[\"d\", \"b\", \"a\"])"
   ]
  },
  {
   "cell_type": "code",
   "execution_count": null,
   "id": "9940fb65",
   "metadata": {
    "attributes": {
     "classes": [
      "code-cell"
     ],
     "id": ""
    }
   },
   "outputs": [],
   "source": [
    "pd.DataFrame(d, index=[\"d\", \"b\", \"a\"], columns=[\"two\", \"three\"])"
   ]
  },
  {
   "cell_type": "markdown",
   "id": "93b5a50c",
   "metadata": {},
   "source": [
    "The row and column labels can be accessed respectively by accessing the **index** and **columns** attributes:\n",
    "\n",
    ":::{note}\n",
    "When a particular set of columns is passed along with a dict of data, the passed columns override the keys in the dict.\n",
    ":::"
   ]
  },
  {
   "cell_type": "code",
   "execution_count": null,
   "id": "8a3ba6ae",
   "metadata": {
    "attributes": {
     "classes": [
      "code-cell"
     ],
     "id": ""
    }
   },
   "outputs": [],
   "source": [
    "df.index"
   ]
  },
  {
   "cell_type": "code",
   "execution_count": null,
   "id": "13684125",
   "metadata": {
    "attributes": {
     "classes": [
      "code-cell"
     ],
     "id": ""
    }
   },
   "outputs": [],
   "source": [
    "df.columns"
   ]
  },
  {
   "cell_type": "markdown",
   "id": "49c8bc9a",
   "metadata": {},
   "source": [
    "##### From dict of ndarrays / lists\n",
    "\n",
    "The ndarrays must all be the same length. If an index is passed, it must also be the same length as the arrays. If no index is passed, the result will be `range(n)`, where `n` is the array length."
   ]
  },
  {
   "cell_type": "code",
   "execution_count": null,
   "id": "c4789555",
   "metadata": {
    "attributes": {
     "classes": [
      "code-cell"
     ],
     "id": ""
    }
   },
   "outputs": [],
   "source": [
    "d = {\"one\": [1.0, 2.0, 3.0, 4.0], \"two\": [4.0, 3.0, 2.0, 1.0]}"
   ]
  },
  {
   "cell_type": "code",
   "execution_count": null,
   "id": "29098be0",
   "metadata": {
    "attributes": {
     "classes": [
      "code-cell"
     ],
     "id": ""
    }
   },
   "outputs": [],
   "source": [
    "pd.DataFrame(d)"
   ]
  },
  {
   "cell_type": "code",
   "execution_count": null,
   "id": "5600834a",
   "metadata": {
    "attributes": {
     "classes": [
      "code-cell"
     ],
     "id": ""
    }
   },
   "outputs": [],
   "source": [
    "pd.DataFrame(d, index=[\"a\", \"b\", \"c\", \"d\"])"
   ]
  },
  {
   "cell_type": "markdown",
   "id": "506868de",
   "metadata": {},
   "source": [
    "##### From structured or record array\n",
    "\n",
    "This case is handled identically to a dict of arrays."
   ]
  },
  {
   "cell_type": "code",
   "execution_count": null,
   "id": "0b3b5090",
   "metadata": {
    "attributes": {
     "classes": [
      "code-cell"
     ],
     "id": ""
    }
   },
   "outputs": [],
   "source": [
    "data = np.zeros((2,), dtype=[(\"A\", \"i4\"), (\"B\", \"f4\"), (\"C\", \"a10\")])"
   ]
  },
  {
   "cell_type": "code",
   "execution_count": null,
   "id": "543153a7",
   "metadata": {
    "attributes": {
     "classes": [
      "code-cell"
     ],
     "id": ""
    }
   },
   "outputs": [],
   "source": [
    "data[:] = [(1, 2.0, \"Hello\"), (2, 3.0, \"World\")]"
   ]
  },
  {
   "cell_type": "code",
   "execution_count": null,
   "id": "c5278e68",
   "metadata": {
    "attributes": {
     "classes": [
      "code-cell"
     ],
     "id": ""
    }
   },
   "outputs": [],
   "source": [
    "pd.DataFrame(data)"
   ]
  },
  {
   "cell_type": "code",
   "execution_count": null,
   "id": "fefbfc51",
   "metadata": {
    "attributes": {
     "classes": [
      "code-cell"
     ],
     "id": ""
    }
   },
   "outputs": [],
   "source": [
    "pd.DataFrame(data, index=[\"first\", \"second\"])"
   ]
  },
  {
   "cell_type": "code",
   "execution_count": null,
   "id": "f76d517a",
   "metadata": {
    "attributes": {
     "classes": [
      "code-cell"
     ],
     "id": ""
    }
   },
   "outputs": [],
   "source": [
    "pd.DataFrame(data, columns=[\"C\", \"A\", \"B\"])"
   ]
  },
  {
   "cell_type": "markdown",
   "id": "75f7c017",
   "metadata": {},
   "source": [
    ":::{note}\n",
    "DataFrame is not intended to work exactly like a 2-dimensional NumPy ndarray.\n",
    ":::\n",
    "\n",
    "\n",
    "##### From a list of dicts"
   ]
  },
  {
   "cell_type": "code",
   "execution_count": null,
   "id": "a2aa6cb3",
   "metadata": {
    "attributes": {
     "classes": [
      "code-cell"
     ],
     "id": ""
    }
   },
   "outputs": [],
   "source": [
    "data2 = [{\"a\": 1, \"b\": 2}, {\"a\": 5, \"b\": 10, \"c\": 20}]"
   ]
  },
  {
   "cell_type": "code",
   "execution_count": null,
   "id": "1e45ffbc",
   "metadata": {
    "attributes": {
     "classes": [
      "code-cell"
     ],
     "id": ""
    }
   },
   "outputs": [],
   "source": [
    "pd.DataFrame(data2)"
   ]
  },
  {
   "cell_type": "code",
   "execution_count": null,
   "id": "8d6db924",
   "metadata": {
    "attributes": {
     "classes": [
      "code-cell"
     ],
     "id": ""
    }
   },
   "outputs": [],
   "source": [
    "pd.DataFrame(data2, index=[\"first\", \"second\"])"
   ]
  },
  {
   "cell_type": "code",
   "execution_count": null,
   "id": "258fa418",
   "metadata": {
    "attributes": {
     "classes": [
      "code-cell"
     ],
     "id": ""
    }
   },
   "outputs": [],
   "source": [
    "pd.DataFrame(data2, columns=[\"a\", \"b\"])"
   ]
  },
  {
   "cell_type": "markdown",
   "id": "dfb77761",
   "metadata": {},
   "source": [
    "##### From a dict of tuples\n",
    "\n",
    "You can automatically create a MultiIndexed frame by passing a tuples dictionary."
   ]
  },
  {
   "cell_type": "code",
   "execution_count": null,
   "id": "89af5166",
   "metadata": {
    "attributes": {
     "classes": [
      "code-cell"
     ],
     "id": ""
    }
   },
   "outputs": [],
   "source": [
    "pd.DataFrame(\n",
    "    {\n",
    "        (\"a\", \"b\"): {(\"A\", \"B\"): 1, (\"A\", \"C\"): 2},\n",
    "        (\"a\", \"a\"): {(\"A\", \"C\"): 3, (\"A\", \"B\"): 4},\n",
    "        (\"a\", \"c\"): {(\"A\", \"B\"): 5, (\"A\", \"C\"): 6},\n",
    "        (\"b\", \"a\"): {(\"A\", \"C\"): 7, (\"A\", \"B\"): 8},\n",
    "        (\"b\", \"b\"): {(\"A\", \"D\"): 9, (\"A\", \"B\"): 10},\n",
    "    }\n",
    ")"
   ]
  },
  {
   "cell_type": "markdown",
   "id": "e02d86d6",
   "metadata": {},
   "source": [
    "##### From a Series\n",
    "\n",
    "The result will be a DataFrame with the same index as the input Series, and with one column whose name is the original name of the Series (only if no other column name provided)."
   ]
  },
  {
   "cell_type": "code",
   "execution_count": null,
   "id": "77ff8552",
   "metadata": {
    "attributes": {
     "classes": [
      "code-cell"
     ],
     "id": ""
    }
   },
   "outputs": [],
   "source": [
    "ser = pd.Series(range(3), index=list(\"abc\"), name=\"ser\")"
   ]
  },
  {
   "cell_type": "code",
   "execution_count": null,
   "id": "a86d1926",
   "metadata": {
    "attributes": {
     "classes": [
      "code-cell"
     ],
     "id": ""
    }
   },
   "outputs": [],
   "source": [
    "pd.DataFrame(ser)"
   ]
  },
  {
   "cell_type": "markdown",
   "id": "2f824850",
   "metadata": {},
   "source": [
    "##### From a list of namedtuples\n",
    "\n",
    "The field names of the first `namedtuple` in the list determine the columns of the `DataFrame`. The remaining namedtuples (or tuples) are simply unpacked and their values are fed into the rows of the `DataFrame`. If any of those tuples is shorter than the first `namedtuple` then the later columns in the corresponding row are marked as missing values. If any are longer than the first `namedtuple` , a `ValueError` is raised."
   ]
  },
  {
   "cell_type": "code",
   "execution_count": null,
   "id": "67fd765e",
   "metadata": {
    "attributes": {
     "classes": [
      "code-cell"
     ],
     "id": ""
    }
   },
   "outputs": [],
   "source": [
    "from collections import namedtuple"
   ]
  },
  {
   "cell_type": "code",
   "execution_count": null,
   "id": "d4524af3",
   "metadata": {
    "attributes": {
     "classes": [
      "code-cell"
     ],
     "id": ""
    }
   },
   "outputs": [],
   "source": [
    "Point = namedtuple(\"Point\", \"x y\")"
   ]
  },
  {
   "cell_type": "code",
   "execution_count": null,
   "id": "02f0937c",
   "metadata": {
    "attributes": {
     "classes": [
      "code-cell"
     ],
     "id": ""
    }
   },
   "outputs": [],
   "source": [
    "pd.DataFrame([Point(0, 0), Point(0, 3), (2, 3)])"
   ]
  },
  {
   "cell_type": "code",
   "execution_count": null,
   "id": "4c81da05",
   "metadata": {
    "attributes": {
     "classes": [
      "code-cell"
     ],
     "id": ""
    }
   },
   "outputs": [],
   "source": [
    "Point3D = namedtuple(\"Point3D\", \"x y z\")"
   ]
  },
  {
   "cell_type": "code",
   "execution_count": null,
   "id": "6731aad6",
   "metadata": {
    "attributes": {
     "classes": [
      "code-cell"
     ],
     "id": ""
    }
   },
   "outputs": [],
   "source": [
    "pd.DataFrame([Point3D(0, 0, 0), Point3D(0, 3, 5), Point(2, 3)])"
   ]
  },
  {
   "cell_type": "markdown",
   "id": "8ff0bca2",
   "metadata": {},
   "source": [
    "##### From a list of dataclasses\n",
    "\n",
    "Data Classes as introduced in PEP557, can be passed into the DataFrame constructor. Passing a list of dataclasses is equivalent to passing a list of dictionaries.\n",
    "\n",
    "Please be aware, that all values in the list should be dataclasses, mixing types in the list would result in a `TypeError`."
   ]
  },
  {
   "cell_type": "code",
   "execution_count": null,
   "id": "5fe92237",
   "metadata": {
    "attributes": {
     "classes": [
      "code-cell"
     ],
     "id": ""
    }
   },
   "outputs": [],
   "source": [
    "from dataclasses import make_dataclass"
   ]
  },
  {
   "cell_type": "code",
   "execution_count": null,
   "id": "e13b27cf",
   "metadata": {
    "attributes": {
     "classes": [
      "code-cell"
     ],
     "id": ""
    }
   },
   "outputs": [],
   "source": [
    "Point = make_dataclass(\"Point\", [(\"x\", int), (\"y\", int)])"
   ]
  },
  {
   "cell_type": "code",
   "execution_count": null,
   "id": "df6b2816",
   "metadata": {
    "attributes": {
     "classes": [
      "code-cell"
     ],
     "id": ""
    }
   },
   "outputs": [],
   "source": [
    "pd.DataFrame([Point(0, 0), Point(0, 3), Point(2, 3)])"
   ]
  },
  {
   "cell_type": "markdown",
   "id": "8e826768",
   "metadata": {},
   "source": [
    "#### Column selection, addition, deletion\n",
    "\n",
    "You can treat a `DataFrame` semantically like a dict of like-indexed `Series` objects. Getting, setting, and deleting columns works with the same syntax as the analogous dict operations:"
   ]
  },
  {
   "cell_type": "code",
   "execution_count": null,
   "id": "a52d0734",
   "metadata": {
    "attributes": {
     "classes": [
      "code-cell"
     ],
     "id": ""
    }
   },
   "outputs": [],
   "source": [
    "df"
   ]
  },
  {
   "cell_type": "code",
   "execution_count": null,
   "id": "804405d6",
   "metadata": {
    "attributes": {
     "classes": [
      "code-cell"
     ],
     "id": ""
    }
   },
   "outputs": [],
   "source": [
    "df[\"one\"]"
   ]
  },
  {
   "cell_type": "code",
   "execution_count": null,
   "id": "dfa00c9b",
   "metadata": {
    "attributes": {
     "classes": [
      "code-cell"
     ],
     "id": ""
    }
   },
   "outputs": [],
   "source": [
    "df[\"three\"] = df[\"one\"] * df[\"two\"]"
   ]
  },
  {
   "cell_type": "code",
   "execution_count": null,
   "id": "0f98ffa9",
   "metadata": {
    "attributes": {
     "classes": [
      "code-cell"
     ],
     "id": ""
    }
   },
   "outputs": [],
   "source": [
    "df[\"flag\"] = df[\"one\"] > 2"
   ]
  },
  {
   "cell_type": "code",
   "execution_count": null,
   "id": "1ef5e1a3",
   "metadata": {
    "attributes": {
     "classes": [
      "code-cell"
     ],
     "id": ""
    }
   },
   "outputs": [],
   "source": [
    "df"
   ]
  },
  {
   "cell_type": "markdown",
   "id": "f518cd88",
   "metadata": {},
   "source": [
    "Columns can be deleted or popped like with a dict:"
   ]
  },
  {
   "cell_type": "code",
   "execution_count": null,
   "id": "b418f585",
   "metadata": {
    "attributes": {
     "classes": [
      "code-cell"
     ],
     "id": ""
    }
   },
   "outputs": [],
   "source": [
    "del df[\"two\"]"
   ]
  },
  {
   "cell_type": "code",
   "execution_count": null,
   "id": "209ebb78",
   "metadata": {
    "attributes": {
     "classes": [
      "code-cell"
     ],
     "id": ""
    }
   },
   "outputs": [],
   "source": [
    "three = df.pop(\"three\")"
   ]
  },
  {
   "cell_type": "code",
   "execution_count": null,
   "id": "9aee9b49",
   "metadata": {
    "attributes": {
     "classes": [
      "code-cell"
     ],
     "id": ""
    }
   },
   "outputs": [],
   "source": [
    "df"
   ]
  },
  {
   "cell_type": "markdown",
   "id": "40b5a135",
   "metadata": {},
   "source": [
    "When inserting a scalar value, it will naturally be propagated to fill the column:"
   ]
  },
  {
   "cell_type": "code",
   "execution_count": null,
   "id": "1bddfbc5",
   "metadata": {
    "attributes": {
     "classes": [
      "code-cell"
     ],
     "id": ""
    }
   },
   "outputs": [],
   "source": [
    "df[\"foo\"] = \"bar\""
   ]
  },
  {
   "cell_type": "code",
   "execution_count": null,
   "id": "e2613bd3",
   "metadata": {
    "attributes": {
     "classes": [
      "code-cell"
     ],
     "id": ""
    }
   },
   "outputs": [],
   "source": [
    "df"
   ]
  },
  {
   "cell_type": "markdown",
   "id": "d93a6895",
   "metadata": {},
   "source": [
    "When inserting a `Series` that does not have the same index as the `DataFrame`, it will be conformed to the DataFrame's index:"
   ]
  },
  {
   "cell_type": "code",
   "execution_count": null,
   "id": "c20564a5",
   "metadata": {
    "attributes": {
     "classes": [
      "code-cell"
     ],
     "id": ""
    }
   },
   "outputs": [],
   "source": [
    "df[\"one_trunc\"] = df[\"one\"][:2]"
   ]
  },
  {
   "cell_type": "code",
   "execution_count": null,
   "id": "877b972d-49b8-4225-855e-ec77bd876d8b",
   "metadata": {
    "tags": []
   },
   "outputs": [],
   "source": [
    "from IPython.display import HTML\n",
    "\n",
    "display(\n",
    "    HTML(\n",
    "        \"\"\"\n",
    "\n",
    "\n",
    "<link rel=\"stylesheet\" href=\"https://ocademy-ai.github.io/machine-learning/_static/style.css\">\n",
    "\n",
    "<div class='full-width docutils' >\n",
    "  <div class=\"admonition note pandastutor\" name=\"html-admonition\" style=\"margin-right:20%\">\n",
    "    <p class=\"admonition-title pandastutor\">Let's visualize it! 🎥</p>\n",
    "    <div class=\"pandastutor inner\" style=\"height:730px;\">\n",
    "      <iframe frameborder=\"0\" scrolling=\"no\" src=\"https://pandastutor.com/vis.html#code=import%20pandas%20as%20pd%0Aimport%20io%0Aimport%20numpy%20as%20np%0Ad%20%3D%20%7B%0A%20%20%20%20%22one%22%3A%20pd.Series%28%5B1.0,%202.0,%203.0%5D,%20index%3D%5B%22a%22,%20%22b%22,%20%22c%22%5D%29,%0A%20%20%20%20%22two%22%3A%20pd.Series%28%5B1.0,%202.0,%203.0,%204.0%5D,%20index%3D%5B%22a%22,%20%22b%22,%20%22c%22,%20%22d%22%5D%29,%0A%7D%0Adf%20%3D%20pd.DataFrame%28d%29%0Adf%5B%22flag%22%5D%20%3D%20df%5B%22one%22%5D%20%3E%202%0Adel%20df%5B%22two%22%5D%0Adf%5B%22foo%22%5D%20%3D%20%22bar%22%0Adf%5B%22one_trunc%22%5D%20%3Ddf.insert%281,%20%22bar%22,%20df%5B%22one%22%5D%29%0Adf.loc%5B%22b%22%5D&d=2023-09-19&lang=py&v=v1\n",
    "\"> </iframe>\n",
    "    </div>\n",
    "  </div>\n",
    "</div>\n",
    "\n",
    "\"\"\"\n",
    "    )\n",
    ")\n"
   ]
  },
  {
   "cell_type": "code",
   "execution_count": null,
   "id": "76026aba",
   "metadata": {
    "attributes": {
     "classes": [
      "code-cell"
     ],
     "id": ""
    }
   },
   "outputs": [],
   "source": [
    "df"
   ]
  },
  {
   "cell_type": "markdown",
   "id": "b7c3f5d9",
   "metadata": {},
   "source": [
    "You can insert raw ndarrays but their length must match the length of the DataFrame's index.\n",
    "\n",
    "By default, columns get inserted at the end. `DataFrame.insert()` inserts at a particular location in the columns:"
   ]
  },
  {
   "cell_type": "code",
   "execution_count": null,
   "id": "8dbfb773",
   "metadata": {
    "attributes": {
     "classes": [
      "code-cell"
     ],
     "id": ""
    }
   },
   "outputs": [],
   "source": [
    "df.insert(1, \"bar\", df[\"one\"])"
   ]
  },
  {
   "cell_type": "code",
   "execution_count": null,
   "id": "27dea852",
   "metadata": {
    "attributes": {
     "classes": [
      "code-cell"
     ],
     "id": ""
    }
   },
   "outputs": [],
   "source": [
    "df"
   ]
  },
  {
   "cell_type": "markdown",
   "id": "4786e42f",
   "metadata": {},
   "source": [
    "#### Assigning new columns in method chains\n",
    "\n",
    "DataFrame has an `assign()` method that allows you to easily create new columns that are potentially derived from existing columns."
   ]
  },
  {
   "cell_type": "code",
   "execution_count": null,
   "id": "e9e4dead",
   "metadata": {
    "attributes": {
     "classes": [
      "code-cell"
     ],
     "id": ""
    }
   },
   "outputs": [],
   "source": [
    "iris = pd.read_csv(\"https://static-1300131294.cos.ap-shanghai.myqcloud.com/data/data-science/working-with-data/pandas/iris.csv\")"
   ]
  },
  {
   "cell_type": "code",
   "execution_count": null,
   "id": "38eef1a4",
   "metadata": {
    "attributes": {
     "classes": [
      "code-cell"
     ],
     "id": ""
    }
   },
   "outputs": [],
   "source": [
    "iris.head()"
   ]
  },
  {
   "cell_type": "code",
   "execution_count": null,
   "id": "ed27d63b",
   "metadata": {
    "attributes": {
     "classes": [
      "code-cell"
     ],
     "id": ""
    }
   },
   "outputs": [],
   "source": [
    "iris.assign(sepal_ratio=iris[\"SepalWidth\"] / iris[\"SepalLength\"]).head()"
   ]
  },
  {
   "cell_type": "markdown",
   "id": "c989dbf7",
   "metadata": {},
   "source": [
    "In the example above, we inserted a precomputed value. We can also pass in a function of one argument to be evaluated on the DataFrame being assigned to."
   ]
  },
  {
   "cell_type": "code",
   "execution_count": null,
   "id": "4f39885a",
   "metadata": {
    "attributes": {
     "classes": [
      "code-cell"
     ],
     "id": ""
    }
   },
   "outputs": [],
   "source": [
    "iris.assign(sepal_ratio=lambda x: (x[\"SepalWidth\"] / x[\"SepalLength\"])).head()"
   ]
  },
  {
   "cell_type": "markdown",
   "id": "abcd0aee",
   "metadata": {},
   "source": [
    "`assign()` **always** returns a copy of the data, leaving the original DataFrame untouched.\n",
    "\n",
    "Passing a callable, as opposed to an actual value to be inserted, is useful when you don't have a reference to the DataFrame at hand. This is common when using `assign()` in a chain of operations. For example, we can limit the DataFrame to just those observations with a Sepal Length greater than 5, calculate the ratio, and plot:"
   ]
  },
  {
   "cell_type": "code",
   "execution_count": null,
   "id": "0508916b",
   "metadata": {
    "attributes": {
     "classes": [
      "code-cell"
     ],
     "id": ""
    }
   },
   "outputs": [],
   "source": [
    "(\n",
    "    iris.query(\"SepalLength > 5\")\n",
    "    .assign(\n",
    "        SepalRatio=lambda x: x.SepalWidth / x.SepalLength,\n",
    "        PetalRatio=lambda x: x.PetalWidth / x.PetalLength,\n",
    "    )\n",
    "    .plot(kind=\"scatter\", x=\"SepalRatio\", y=\"PetalRatio\")\n",
    ")"
   ]
  },
  {
   "cell_type": "markdown",
   "id": "7e1e3e3d",
   "metadata": {},
   "source": [
    "Since a function is passed in, the function is computed on the DataFrame being assigned to. Importantly, this is the DataFrame that's been filtered to those rows with sepal length greater than 5. The filtering happens first, and then the ratio calculations. This is an example where we didn't have a reference to the filtered DataFrame available.\n",
    "\n",
    "The function signature for `assign()` is simply `**kwargs`. The keys are the column names for the new fields, and the values are either a value to be inserted (for example, a `Series` or NumPy array), or a function of one argument to be called on the `DataFrame`. A copy of the original `DataFrame` is returned, with the new values inserted.\n",
    "\n",
    "The order of `**kwargs` is preserved. This allows for dependent assignment, where an expression later in `**kwargs` can refer to a column created earlier in the same `assign()`."
   ]
  },
  {
   "cell_type": "code",
   "execution_count": null,
   "id": "60b7e3c7",
   "metadata": {
    "attributes": {
     "classes": [
      "code-cell"
     ],
     "id": ""
    }
   },
   "outputs": [],
   "source": [
    "dfa = pd.DataFrame({\"A\": [1, 2, 3], \"B\": [4, 5, 6]})"
   ]
  },
  {
   "cell_type": "code",
   "execution_count": null,
   "id": "4c821875",
   "metadata": {
    "attributes": {
     "classes": [
      "code-cell"
     ],
     "id": ""
    }
   },
   "outputs": [],
   "source": [
    "dfa.assign(C=lambda x: x[\"A\"] + x[\"B\"], D=lambda x: x[\"A\"] + x[\"C\"])"
   ]
  },
  {
   "cell_type": "markdown",
   "id": "822c6838",
   "metadata": {},
   "source": [
    "In the second expression, `x['C']` will refer to the newly created column, that's equal to `dfa['A'] + dfa['B']`.\n",
    "\n",
    "#### Indexing / selection\n",
    "\n",
    "The basics of indexing are as follows:\n",
    "\n",
    "|Operation                     |Syntax         |Result   |\n",
    "|:-------                      |:-----         |:-----   |\n",
    "|Select column                 |`df[col]`      |Series   |\n",
    "|Select row by label           |`df.loc[label]`|Series   |\n",
    "|Select row by integer location|`df.iloc[loc]` |Series   |\n",
    "|Slice rows                    |`df[5:10] `    |DataFrame|\n",
    "|Select rows by boolean vector |`df[bool_vec]` |DataFrame|\n",
    "\n",
    "Row selection, for example, returns a `Series` whose index is the columns of the `DataFrame`:"
   ]
  },
  {
   "cell_type": "code",
   "execution_count": null,
   "id": "82154750",
   "metadata": {},
   "outputs": [],
   "source": [
    "df.loc[\"b\"]"
   ]
  },
  {
   "cell_type": "code",
   "execution_count": null,
   "id": "743d6893-bbf3-4fbf-a158-a3aaae040b39",
   "metadata": {
    "tags": [
     "hide-cell"
    ]
   },
   "outputs": [],
   "source": [
    "from IPython.display import HTML\n",
    "\n",
    "display(\n",
    "    HTML(\n",
    "        \"\"\"\n",
    "\n",
    "\n",
    "<link rel=\"stylesheet\" href=\"https://ocademy-ai.github.io/machine-learning/_static/style.css\">\n",
    "\n",
    "<div class='full-width docutils' >\n",
    "  <div class=\"admonition note pandastutor\" name=\"html-admonition\" style=\"margin-right:20%\">\n",
    "    <p class=\"admonition-title pandastutor\">Let's visualize it! 🎥</p>\n",
    "    <div class=\"pandastutor inner\" style=\"height:730px;\">\n",
    "      <iframe frameborder=\"0\" scrolling=\"no\" src=\"https://pandastutor.com/vis.html#code=import%20pandas%20as%20pd%0Aimport%20io%0Aimport%20numpy%20as%20np%0Ad%20%3D%20%7B%0A%20%20%20%20%22one%22%3A%20pd.Series%28%5B1.0,%202.0,%203.0%5D,%20index%3D%5B%22a%22,%20%22b%22,%20%22c%22%5D%29,%0A%20%20%20%20%22two%22%3A%20pd.Series%28%5B1.0,%202.0,%203.0,%204.0%5D,%20index%3D%5B%22a%22,%20%22b%22,%20%22c%22,%20%22d%22%5D%29,%0A%7D%0Adf%20%3D%20pd.DataFrame%28d%29%0Adf%5B%22flag%22%5D%20%3D%20df%5B%22one%22%5D%20%3E%202%0Adel%20df%5B%22two%22%5D%0Adf%5B%22foo%22%5D%20%3D%20%22bar%22%0Adf%5B%22one_trunc%22%5D%20%3Ddf.insert%281,%20%22bar%22,%20df%5B%22one%22%5D%29%0Adf.loc%5B%22b%22%5D&d=2023-09-19&lang=py&v=v1\"> </iframe>\n",
    "    </div>\n",
    "  </div>\n",
    "</div>\n",
    "\n",
    "\"\"\"\n",
    "    )\n",
    ")\n"
   ]
  },
  {
   "cell_type": "code",
   "execution_count": null,
   "id": "2fae006c",
   "metadata": {
    "attributes": {
     "classes": [
      "code-cell"
     ],
     "id": ""
    }
   },
   "outputs": [],
   "source": [
    "df.iloc[2]"
   ]
  },
  {
   "cell_type": "markdown",
   "id": "87fe370b",
   "metadata": {},
   "source": [
    "#### Data alignment and arithmetic\n",
    "\n",
    "Data alignment between `DataFrame` objects automatically aligns on **both** the columns and the index (row labels)**. Again, the resulting object will have the union of the column and row labels."
   ]
  },
  {
   "cell_type": "code",
   "execution_count": null,
   "id": "a3e29475",
   "metadata": {
    "attributes": {
     "classes": [
      "code-cell"
     ],
     "id": ""
    }
   },
   "outputs": [],
   "source": [
    "df = pd.DataFrame(np.random.randn(10, 4), columns=[\"A\", \"B\", \"C\", \"D\"])"
   ]
  },
  {
   "cell_type": "code",
   "execution_count": null,
   "id": "c4634479",
   "metadata": {
    "attributes": {
     "classes": [
      "code-cell"
     ],
     "id": ""
    }
   },
   "outputs": [],
   "source": [
    "df2 = pd.DataFrame(np.random.randn(7, 3), columns=[\"A\", \"B\", \"C\"])"
   ]
  },
  {
   "cell_type": "code",
   "execution_count": null,
   "id": "09eb77aa",
   "metadata": {
    "attributes": {
     "classes": [
      "code-cell"
     ],
     "id": ""
    }
   },
   "outputs": [],
   "source": [
    "df + df2"
   ]
  },
  {
   "cell_type": "markdown",
   "id": "9062570a",
   "metadata": {},
   "source": [
    "When doing an operation between `DataFrame` and `Series`, the default behavior is to align the `Series` **index** on the `DataFrame` **columns**, thus broadcasting row-wise. For example:"
   ]
  },
  {
   "cell_type": "code",
   "execution_count": null,
   "id": "c2a8adda",
   "metadata": {
    "attributes": {
     "classes": [
      "code-cell"
     ],
     "id": ""
    }
   },
   "outputs": [],
   "source": [
    "df - df.iloc[0]"
   ]
  },
  {
   "cell_type": "markdown",
   "id": "cf0c0013",
   "metadata": {},
   "source": [
    "Arithmetic operations with scalars operate element-wise:"
   ]
  },
  {
   "cell_type": "code",
   "execution_count": null,
   "id": "d4cc4904",
   "metadata": {
    "attributes": {
     "classes": [
      "code-cell"
     ],
     "id": ""
    }
   },
   "outputs": [],
   "source": [
    "df * 5 + 2"
   ]
  },
  {
   "cell_type": "code",
   "execution_count": null,
   "id": "131ec689",
   "metadata": {
    "attributes": {
     "classes": [
      "code-cell"
     ],
     "id": ""
    }
   },
   "outputs": [],
   "source": [
    "1 / df"
   ]
  },
  {
   "cell_type": "code",
   "execution_count": null,
   "id": "a2d50c6f",
   "metadata": {
    "attributes": {
     "classes": [
      "code-cell"
     ],
     "id": ""
    }
   },
   "outputs": [],
   "source": [
    "df ** 4"
   ]
  },
  {
   "cell_type": "markdown",
   "id": "ab0cc5cb",
   "metadata": {},
   "source": [
    "Boolean operators operate element-wise as well:"
   ]
  },
  {
   "cell_type": "code",
   "execution_count": null,
   "id": "edbec52a",
   "metadata": {
    "attributes": {
     "classes": [
      "code-cell"
     ],
     "id": ""
    }
   },
   "outputs": [],
   "source": [
    "df1 = pd.DataFrame({\"a\": [1, 0, 1], \"b\": [0, 1, 1]}, dtype=bool)"
   ]
  },
  {
   "cell_type": "code",
   "execution_count": null,
   "id": "727cd263",
   "metadata": {
    "attributes": {
     "classes": [
      "code-cell"
     ],
     "id": ""
    }
   },
   "outputs": [],
   "source": [
    "df2 = pd.DataFrame({\"a\": [0, 1, 1], \"b\": [1, 1, 0]}, dtype=bool)"
   ]
  },
  {
   "cell_type": "code",
   "execution_count": null,
   "id": "523bbe29",
   "metadata": {
    "attributes": {
     "classes": [
      "code-cell"
     ],
     "id": ""
    }
   },
   "outputs": [],
   "source": [
    "df1 & df2"
   ]
  },
  {
   "cell_type": "code",
   "execution_count": null,
   "id": "b1a355fc",
   "metadata": {
    "attributes": {
     "classes": [
      "code-cell"
     ],
     "id": ""
    }
   },
   "outputs": [],
   "source": [
    "df1 | df2"
   ]
  },
  {
   "cell_type": "code",
   "execution_count": null,
   "id": "e89dc58b",
   "metadata": {
    "attributes": {
     "classes": [
      "code-cell"
     ],
     "id": ""
    }
   },
   "outputs": [],
   "source": [
    "df1 ^ df2"
   ]
  },
  {
   "cell_type": "code",
   "execution_count": null,
   "id": "9b438ef3",
   "metadata": {
    "attributes": {
     "classes": [
      "code-cell"
     ],
     "id": ""
    }
   },
   "outputs": [],
   "source": [
    "-df1"
   ]
  },
  {
   "cell_type": "markdown",
   "id": "31d38eb7",
   "metadata": {},
   "source": [
    "#### Transposing\n",
    "\n",
    "To transpose, access the `T` attribute or `DataFrame.transpose()`, similar to an ndarray:"
   ]
  },
  {
   "cell_type": "code",
   "execution_count": null,
   "id": "84f274b9",
   "metadata": {
    "attributes": {
     "classes": [
      "code-cell"
     ],
     "id": ""
    }
   },
   "outputs": [],
   "source": [
    "df[:5].T"
   ]
  },
  {
   "cell_type": "markdown",
   "id": "20c81c1c",
   "metadata": {},
   "source": [
    "## Data indexing and selection\n",
    "\n",
    "The axis labeling information in Pandas objects serves many purposes:\n",
    "\n",
    "- Identifies data (i.e. provides metadata) using known indicators, important for analysis, visualization, and interactive console display.\n",
    "- Enables automatic and explicit data alignment.\n",
    "- Allows intuitive getting and setting of subsets of the data set.\n",
    "\n",
    "In this section, we will focus on the final point: namely, how to slice, dice, and generally get and set subsets of Pandas objects. The primary focus will be on Series and DataFrame as they have received more development attention in this area.\n",
    "\n",
    ":::{note}\n",
    "The Python and NumPy indexing operators `[]` and attribute operator `.` provide quick and easy access to Pandas data structures across a wide range of use cases. This makes interactive work intuitive, as there's little new to learn if you already know how to deal with Python dictionaries and NumPy arrays. However, since the type of the data to be accessed isn't known in advance, directly using standard operators has some optimization limits. For production code, we recommended that you take advantage of the optimized Pandas data access methods exposed in this chapter.\n",
    ":::"
   ]
  },
  {
   "cell_type": "markdown",
   "id": "5f5b68a0-0590-48bc-8129-c36c6faf57db",
   "metadata": {
    "attributes": {
     "classes": [
      "warning"
     ],
     "id": ""
    }
   },
   "source": [
    "Whether a copy or a reference is returned for a setting operation, may depend on the context. This is sometimes called `chained assignment` and should be avoided."
   ]
  },
  {
   "cell_type": "markdown",
   "id": "cbdec733",
   "metadata": {},
   "source": [
    "### Different choices for indexing\n",
    "\n",
    "Object selection has had a number of user-requested additions in order to support more explicit location-based indexing. Pandas now supports three types of multi-axis indexing.\n",
    "\n",
    "- `.loc` is primarily label based, but may also be used with a boolean array. `.loc` will raise `KeyError` when the items are not found. Allowed inputs are:\n",
    "  - A single label, e.g. `5` or `'a'` (Note that `5` is interpreted as a label of the index. This use is not an integer position along the index.).\n",
    "  - A list or array of labels `['a', 'b', 'c']`.\n",
    "  - A slice object with labels `'a':'f'` (Note that contrary to usual Python slices, both the start and the stop are included, when present in the index!)\n",
    "  - A boolean array (any `NA` values will be treated as `False`).\n",
    "  - A `callable` function with one argument (the calling Series or DataFrame) and that returns valid output for indexing (one of the above).\n",
    "\n",
    "- `.iloc` is primarily integer position based (from `0` to `length-1` of the axis), but may also be used with a boolean array. `.iloc` will raise `IndexError` if a requested indexer is out-of-bounds, except slice indexers which allow out-of-bounds indexing. (this conforms with Python/NumPy slice semantics). Allowed inputs are:\n",
    "  - An integer e.g. `5`.\n",
    "  - A list or array of integers `[4, 3, 0]`.\n",
    "  - A slice object with ints `1:7`.\n",
    "  - A boolean array (any `NA` values will be treated as `False`).\n",
    "  - A `callable` function with one argument (the calling Series or DataFrame) that returns valid output for indexing (one of the above).\n",
    "- `.loc`, `.iloc`, and also `[]` indexing can accept a `callable` as indexer.\n",
    "\n",
    "Getting values from an object with multi-axes selection uses the following notation (using `.loc` as an example, but the following applies to `.iloc` as well). Any of the axes accessors may be the null slice `:`. Axes left out of the specification are assumed to be `:`, e.g. `p.loc['a']` is equivalent to `p.loc['a', :]`.\n",
    "\n",
    "|**Object Type**|**Indexers**                        |\n",
    "|:--            |:-                                  |\n",
    "|Series         |`s.loc[indexer]`                    |\n",
    "|DataFrame      |`df.loc[row_indexer, column_indexer]`|\n",
    "\n",
    "### Basics\n",
    "\n",
    "As mentioned when introducing the data structures in the last section, the primary function of indexing with `[]` (a.k.a.` __getitem__` for those familiar with implementing class behavior in Python) is selecting out lower-dimensional slices. The following table shows return type values when indexing Pandas objects with `[]`:\n",
    "\n",
    "|**Object Type**|**Selection**   |Return Value Type                |\n",
    "|:-             |:-              |:-                               |\n",
    "|Series         |`series[label]` |scalar value                     |\n",
    "|DataFrame      |`frame[colname]`|`Series` corresponding to colname|\n",
    "\n",
    "Here we construct a simple time series data set to use for illustrating the indexing functionality:"
   ]
  },
  {
   "cell_type": "code",
   "execution_count": null,
   "id": "12d39083",
   "metadata": {
    "attributes": {
     "classes": [
      "code-cell"
     ],
     "id": ""
    }
   },
   "outputs": [],
   "source": [
    "dates = pd.date_range('1/1/2000', periods=8)\n",
    "df = pd.DataFrame(np.random.randn(8, 4),\n",
    "                  index=dates, columns=['A', 'B', 'C', 'D'])\n",
    "df"
   ]
  },
  {
   "cell_type": "markdown",
   "id": "da294328",
   "metadata": {},
   "source": [
    ":::{note}\n",
    "None of the indexing functionality is time series specific unless specifically stated.\n",
    ":::\n",
    "\n",
    "Thus, as per above, we have the most basic indexing using `[]`:"
   ]
  },
  {
   "cell_type": "code",
   "execution_count": null,
   "id": "1eee749c",
   "metadata": {
    "attributes": {
     "classes": [
      "code-cell"
     ],
     "id": ""
    }
   },
   "outputs": [],
   "source": [
    "s = df['A']\n",
    "\n",
    "s[dates[5]]"
   ]
  },
  {
   "cell_type": "markdown",
   "id": "9c672552",
   "metadata": {},
   "source": [
    "You can pass a list of columns to `[]` to select columns in that order. If a column is not contained in the DataFrame, an exception will be raised. Multiple columns can also be set in this manner:"
   ]
  },
  {
   "cell_type": "code",
   "execution_count": null,
   "id": "5a18bcbc",
   "metadata": {
    "attributes": {
     "classes": [
      "code-cell"
     ],
     "id": ""
    }
   },
   "outputs": [],
   "source": [
    "df"
   ]
  },
  {
   "cell_type": "code",
   "execution_count": null,
   "id": "be2e73fe",
   "metadata": {
    "attributes": {
     "classes": [
      "code-cell"
     ],
     "id": ""
    }
   },
   "outputs": [],
   "source": [
    "df[['B', 'A']] = df[['A', 'B']]\n",
    "df"
   ]
  },
  {
   "cell_type": "markdown",
   "id": "6e6cd9c9",
   "metadata": {},
   "source": [
    "You may find this useful for applying a transform (in-place) to a subset of the columns."
   ]
  },
  {
   "cell_type": "markdown",
   "id": "b9d41a7f-5d30-40e2-8508-83b4d08e1ef1",
   "metadata": {
    "attributes": {
     "classes": [
      "warning"
     ],
     "id": ""
    }
   },
   "source": [
    "Pandas aligns all AXES when setting `Series` and `DataFrame` from `.loc`, and `.iloc`.\n",
    "\n",
    "This will not modify `df` because the column alignment is before value assignment."
   ]
  },
  {
   "cell_type": "code",
   "execution_count": null,
   "id": "4e8a2ee9",
   "metadata": {
    "attributes": {
     "classes": [
      "code-cell"
     ],
     "id": ""
    }
   },
   "outputs": [],
   "source": [
    "df[['A', 'B']]"
   ]
  },
  {
   "cell_type": "code",
   "execution_count": null,
   "id": "cf8c39ef",
   "metadata": {
    "attributes": {
     "classes": [
      "code-cell"
     ],
     "id": ""
    }
   },
   "outputs": [],
   "source": [
    "df.loc[:, ['B', 'A']] = df[['A', 'B']]\n",
    "df[['A', 'B']]"
   ]
  },
  {
   "cell_type": "markdown",
   "id": "4ed60d11-3f81-43b5-8274-4d896238b734",
   "metadata": {
    "attributes": {
     "classes": [
      "warning"
     ],
     "id": ""
    }
   },
   "source": [
    "The correct way to swap column values is by using raw values:"
   ]
  },
  {
   "cell_type": "code",
   "execution_count": null,
   "id": "da9754c5",
   "metadata": {
    "attributes": {
     "classes": [
      "code-cell"
     ],
     "id": ""
    }
   },
   "outputs": [],
   "source": [
    "df.loc[:, ['B', 'A']] = df[['A', 'B']].to_numpy()\n",
    "df[['A', 'B']]"
   ]
  },
  {
   "cell_type": "markdown",
   "id": "beb7928a",
   "metadata": {},
   "source": [
    "### Attribute access\n",
    "\n",
    "You may access an index on a `Series` or column on a `DataFrame` directly as an attribute:"
   ]
  },
  {
   "cell_type": "code",
   "execution_count": null,
   "id": "86dec0c0",
   "metadata": {
    "attributes": {
     "classes": [
      "code-cell"
     ],
     "id": ""
    }
   },
   "outputs": [],
   "source": [
    "sa = pd.Series([1, 2, 3], index=list('abc'))\n",
    "dfa = df.copy()"
   ]
  },
  {
   "cell_type": "code",
   "execution_count": null,
   "id": "69ea1e07",
   "metadata": {
    "attributes": {
     "classes": [
      "code-cell"
     ],
     "id": ""
    }
   },
   "outputs": [],
   "source": [
    "sa.b"
   ]
  },
  {
   "cell_type": "code",
   "execution_count": null,
   "id": "ce9f7637",
   "metadata": {
    "attributes": {
     "classes": [
      "code-cell"
     ],
     "id": ""
    }
   },
   "outputs": [],
   "source": [
    "dfa.A"
   ]
  },
  {
   "cell_type": "code",
   "execution_count": null,
   "id": "10cead84",
   "metadata": {
    "attributes": {
     "classes": [
      "code-cell"
     ],
     "id": ""
    }
   },
   "outputs": [],
   "source": [
    "sa.a = 5\n",
    "sa"
   ]
  },
  {
   "cell_type": "code",
   "execution_count": null,
   "id": "6db24b96",
   "metadata": {
    "attributes": {
     "classes": [
      "code-cell"
     ],
     "id": ""
    }
   },
   "outputs": [],
   "source": [
    "dfa.A = list(range(len(dfa.index)))  # ok if A already exists\n",
    "dfa"
   ]
  },
  {
   "cell_type": "code",
   "execution_count": null,
   "id": "99790bfe",
   "metadata": {
    "attributes": {
     "classes": [
      "code-cell"
     ],
     "id": ""
    }
   },
   "outputs": [],
   "source": [
    "dfa['A'] = list(range(len(dfa.index)))  # use this form to create a new column\n",
    "dfa"
   ]
  },
  {
   "cell_type": "markdown",
   "id": "1dac3787-172d-4127-b483-d08921a0e060",
   "metadata": {
    "attributes": {
     "classes": [
      "warning"
     ],
     "id": ""
    }
   },
   "source": [
    "- You can use this access only if the index element is a valid Python identifier, e.g. s.1 is not allowed. See here for an explanation of valid identifiers.\n",
    "\n",
    "- The attribute will not be available if it conflicts with an existing method name, e.g. s.min is not allowed, but s['min'] is possible.\n",
    "\n",
    "- Similarly, the attribute will not be available if it conflicts with any of the following list: index, major_axis, minor_axis, items.\n",
    "\n",
    "- In any of these cases, standard indexing will still work, e.g. s['1'], s['min'], and s['index'] will access the corresponding element or column."
   ]
  },
  {
   "cell_type": "markdown",
   "id": "ae10e002",
   "metadata": {},
   "source": [
    "If you are using the IPython environment, you may also use tab-completion to see these accessible attributes.\n",
    "\n",
    "You can also assign a `dict` to a row of a `DataFrame`:"
   ]
  },
  {
   "cell_type": "code",
   "execution_count": null,
   "id": "29d1e1b0",
   "metadata": {
    "attributes": {
     "classes": [
      "code-cell"
     ],
     "id": ""
    }
   },
   "outputs": [],
   "source": [
    "x = pd.DataFrame({'x': [1, 2, 3], 'y': [3, 4, 5]})\n",
    "x.iloc[1] = {'x': 9, 'y': 99}\n",
    "x"
   ]
  },
  {
   "cell_type": "markdown",
   "id": "9e1ee914",
   "metadata": {},
   "source": [
    "You can use attribute access to modify an existing element of a Series or column of a DataFrame, but be careful; if you try to use attribute access to create a new column, it creates a new attribute rather than a new column. In 0.21.0 and later, this will raise a `UserWarning`:"
   ]
  },
  {
   "cell_type": "code",
   "execution_count": null,
   "id": "b55c8c4d",
   "metadata": {
    "attributes": {
     "classes": [
      "code-cell"
     ],
     "id": ""
    }
   },
   "outputs": [],
   "source": [
    "df = pd.DataFrame({'one': [1., 2., 3.]})\n",
    "df.two = [4, 5, 6]"
   ]
  },
  {
   "cell_type": "code",
   "execution_count": null,
   "id": "e0a12bf3",
   "metadata": {
    "attributes": {
     "classes": [
      "code-cell"
     ],
     "id": ""
    }
   },
   "outputs": [],
   "source": [
    "df"
   ]
  },
  {
   "cell_type": "markdown",
   "id": "96013159",
   "metadata": {},
   "source": [
    "### Slicing ranges\n",
    "\n",
    "For now, we explain the semantics of slicing using the [] operator.\n",
    "\n",
    "With Series, the syntax works exactly as with an ndarray, returning a slice of the values and the corresponding labels:"
   ]
  },
  {
   "cell_type": "code",
   "execution_count": null,
   "id": "ab285a63",
   "metadata": {
    "attributes": {
     "classes": [
      "code-cell"
     ],
     "id": ""
    }
   },
   "outputs": [],
   "source": [
    "s"
   ]
  },
  {
   "cell_type": "code",
   "execution_count": null,
   "id": "73654be5",
   "metadata": {
    "attributes": {
     "classes": [
      "code-cell"
     ],
     "id": ""
    }
   },
   "outputs": [],
   "source": [
    "s[:5]"
   ]
  },
  {
   "cell_type": "code",
   "execution_count": null,
   "id": "bafda5a6",
   "metadata": {
    "attributes": {
     "classes": [
      "code-cell"
     ],
     "id": ""
    }
   },
   "outputs": [],
   "source": [
    "s[::2]"
   ]
  },
  {
   "cell_type": "code",
   "execution_count": null,
   "id": "e28c3dc5",
   "metadata": {
    "attributes": {
     "classes": [
      "code-cell"
     ],
     "id": ""
    }
   },
   "outputs": [],
   "source": [
    "s[::-1]"
   ]
  },
  {
   "cell_type": "markdown",
   "id": "13b86bff",
   "metadata": {},
   "source": [
    "Note that setting works as well:"
   ]
  },
  {
   "cell_type": "code",
   "execution_count": null,
   "id": "46dbb94c",
   "metadata": {
    "attributes": {
     "classes": [
      "code-cell"
     ],
     "id": ""
    }
   },
   "outputs": [],
   "source": [
    "s2 = s.copy()\n",
    "s2[:5] = 0\n",
    "s2"
   ]
  },
  {
   "cell_type": "markdown",
   "id": "89fac206",
   "metadata": {},
   "source": [
    "With DataFrame, slicing inside of `[]` slices the rows. This is provided largely as a convenience since it is such a common operation."
   ]
  },
  {
   "cell_type": "code",
   "execution_count": null,
   "id": "d2c3c1af",
   "metadata": {
    "attributes": {
     "classes": [
      "code-cell"
     ],
     "id": ""
    }
   },
   "outputs": [],
   "source": [
    "df[:3]"
   ]
  },
  {
   "cell_type": "code",
   "execution_count": null,
   "id": "c46fa1e7",
   "metadata": {
    "attributes": {
     "classes": [
      "code-cell"
     ],
     "id": ""
    },
    "tags": []
   },
   "outputs": [],
   "source": [
    "df[::-1]"
   ]
  },
  {
   "cell_type": "markdown",
   "id": "674b4c29-0e55-4243-a46c-7fbffb51a02a",
   "metadata": {},
   "source": [
    "## Acknowledgments\n",
    "\n",
    "Thanks for [Pandas user guide](https://pandas.pydata.org/docs/user_guide/index.html). It contributes the majority of the content in this chapter."
   ]
  }
 ],
 "metadata": {
  "kernelspec": {
   "display_name": "Python 3 (ipykernel)",
   "language": "python",
   "name": "python3"
  },
  "language_info": {
   "codemirror_mode": {
    "name": "ipython",
    "version": 3
   },
   "file_extension": ".py",
   "mimetype": "text/x-python",
   "name": "python",
   "nbconvert_exporter": "python",
   "pygments_lexer": "ipython3",
   "version": "3.11.4"
  }
 },
 "nbformat": 4,
 "nbformat_minor": 5
}
