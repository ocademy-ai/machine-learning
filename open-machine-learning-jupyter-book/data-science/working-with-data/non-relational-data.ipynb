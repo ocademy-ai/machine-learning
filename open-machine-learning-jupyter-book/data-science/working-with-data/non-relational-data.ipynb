{
 "cells": [
  {
   "cell_type": "code",
   "execution_count": null,
   "id": "45ced608",
   "metadata": {
    "editable": true,
    "slideshow": {
     "slide_type": ""
    },
    "tags": [
     "hide-cell"
    ]
   },
   "outputs": [],
   "source": [
    "# Install the necessary dependencies\n",
    "\n",
    "import os\n",
    "import sys\n",
    "!{sys.executable} -m pip install --quiet pandas scikit-learn numpy matplotlib jupyterlab_myst ipython"
   ]
  },
  {
   "cell_type": "markdown",
   "id": "cf08250f",
   "metadata": {
    "editable": true,
    "slideshow": {
     "slide_type": ""
    },
    "tags": [
     "remove-cell"
    ]
   },
   "source": [
    "---\n",
    "license:\n",
    "    code: MIT\n",
    "    content: CC-BY-4.0\n",
    "github: https://github.com/ocademy-ai/machine-learning\n",
    "venue: By Ocademy\n",
    "open_access: true\n",
    "bibliography:\n",
    "  - https://raw.githubusercontent.com/ocademy-ai/machine-learning/main/open-machine-learning-jupyter-book/references.bib\n",
    "---"
   ]
  },
  {
   "cell_type": "markdown",
   "id": "b4b9672a",
   "metadata": {},
   "source": [
    "# Non-relational data\n",
    "\n",
    "Data is not limited to relational databases. This section focuses on non-relational data and will cover the basics of spreadsheets and NoSQL.\n",
    "\n",
    "## Spreadsheets\n",
    "\n",
    "Spreadsheets are a popular way to store and explore data because it requires less work to set up and get started. In this section, you'll learn the basic components of a spreadsheet, as well as formulas and functions. The examples will be illustrated with Microsoft Excel, but most of the parts and topics will have similar names and steps in comparison to other spreadsheet software.\n",
    "\n",
    "![An empty Microsoft Excel workbook with two worksheets](https://static-1300131294.cos.ap-shanghai.myqcloud.com/images/data-science/work-with-data/parts-of-spreadsheet.png)\n",
    "\n",
    "A spreadsheet is a file and will be accessible in the file system of a computer, device, or cloud-based file system. The software itself may be browser-based or an application that must be installed on a computer or downloaded as an app. In Excel, these files are also defined as **workbooks** and this terminology will be used for the remainder of this section.\n",
    "\n",
    "A workbook contains one or more **worksheets**, where each worksheet is labeled by tabs. Within a worksheet are rectangles called **cells**, which will contain the actual data. A cell is the intersection of a row and a column, where the columns are labeled with alphabetical characters and rows are labeled numerically. Some spreadsheets will contain headers in the first few rows to describe the data in a cell.\n",
    "\n",
    "With these basic elements of an Excel workbook, we'll use an example from [Microsoft Templates](https://templates.office.com/) focused on an inventory to walk through some additional parts of a spreadsheet.\n",
    "\n",
    "### Managing an inventory\n",
    "\n",
    "The spreadsheet file named \"InventoryExample\" is a formatted spreadsheet of items within an inventory that contains three worksheets, where the tabs are labeled \"Inventory List\", \"Inventory Pick List\" and \"Bin Lookup\". Row 4 of the Inventory List worksheet is the header, which describes the value of each cell in the header column.\n",
    "\n",
    "![A highlighted formula from an example inventory list in Microsoft Excel](https://static-1300131294.cos.ap-shanghai.myqcloud.com/images/data-science/work-with-data/function-excel.png)\n",
    "\n",
    "There are instances where a cell is dependent on the values of other cells to generate its value. The Inventory List spreadsheet keeps track of the cost of every item in its inventory, but what if we need to know the value of everything in the inventory? [**Formulas**](https://support.microsoft.com/en-us/office/overview-of-formulas-34519a4e-1e8d-4f4b-84d4-d642c4f63263) perform actions on cell data and are used to calculate the cost of the inventory in this example. This spreadsheet used a formula in the Inventory Value column to calculate the value of each item by multiplying the quantity under the QTY header and its costs by the cells under the COST header. Double-clicking or highlighting a cell will show the formula. You'll notice that formulas start with an equals sign, followed by the calculation or operation.\n",
    "\n",
    "![A highlighted function from an example inventory list in Microsoft Excel](https://static-1300131294.cos.ap-shanghai.myqcloud.com/images/data-science/work-with-data/formula-excel.png)\n",
    "\n",
    "We can use another formula to add all the values of Inventory Value together to get its total value. This could be calculated by adding each cell to generate the sum, but that can be a tedious task. Excel has [**functions**](https://support.microsoft.com/en-us/office/sum-function-043e1c7d-7726-4e80-8f32-07b23e057f89), or predefined formulas to perform calculations on cell values. Functions require arguments, which are the required values used to perform these calculations. When functions require more than one argument, they will need to be listed in a particular order or the function may not calculate the correct value. This example uses the `SUM` function and uses the values of Inventory Value as the argument to add generate the total listed under row 3, column B (also referred to as B3).\n",
    "\n",
    "## NoSQL\n",
    "\n",
    "NoSQL is an umbrella term for the different ways to store non-relational data and can be interpreted as \"non-SQL\", \"non-relational\" or  \"not only SQL\". These types of database systems can be categorized into 4 types."
   ]
  },
  {
   "cell_type": "markdown",
   "id": "e551ae3e",
   "metadata": {},
   "source": [
    "[Key-value](https://docs.microsoft.com/en-us/azure/architecture/data-guide/big-data/non-relational-data#keyvalue-data-stores) databases pair unique keys, which are unique identifiers associated with a value. These pairs are stored using a [hash table](https://www.hackerearth.com/practice/data-structures/hash-tables/basics-of-hash-tables/tutorial/) with an appropriate hashing function."
   ]
  },
  {
   "cell_type": "markdown",
   "id": "57bb3196",
   "metadata": {},
   "source": [
    "[Graph](https://docs.microsoft.com/en-us/azure/architecture/data-guide/big-data/non-relational-data#graph-data-stores) databases describe relationships in data and are represented as a collection of nodes and edges. A node represents an entity, something that exists in the real world such as a student or bank statement. Edges represent the relationship between two entities  Each node and edge have properties that provide additional information about each node and edge."
   ]
  },
  {
   "cell_type": "markdown",
   "id": "9afc707a",
   "metadata": {},
   "source": [
    "[Columnar](https://docs.microsoft.com/en-us/azure/architecture/data-guide/big-data/non-relational-data#columnar-data-stores) data stores organize data into columns and rows like a relational data structure but each column is divided into groups called a column family, where all the data under one column is related and can be retrieved and changed in one unit.\n",
    "\n",
    "### Document data stores with the Azure Cosmos DB\n",
    "\n",
    "[Document](https://docs.microsoft.com/en-us/azure/architecture/data-guide/big-data/non-relational-data#document-data-stores) data stores build on the concept of a key-value data store and are made up of a series of fields and objects. This section will explore document databases with the Cosmos DB emulator.\n",
    "\n",
    "A Cosmos DB database fits the definition of \"Not Only SQL\", where Cosmos DB's document database relies on SQL to query the data. The [previous section](./relational-databases.md) on SQL covers the basics of the language, and we'll be able to apply some of the same queries to a document database here. We'll be using the Cosmos DB Emulator, which allows us to create and explore a document database locally on a computer. Read more about the Emulator [here](https://docs.microsoft.com/en-us/azure/cosmos-db/local-emulator?tabs=ssl-netstd21).\n",
    "\n",
    "A document is a collection of fields and object values, where the fields describe what the object value represents. Below is an example of a document."
   ]
  },
  {
   "cell_type": "code",
   "execution_count": null,
   "id": "20ddc48f",
   "metadata": {
    "attributes": {
     "classes": [
      "json"
     ],
     "id": ""
    }
   },
   "outputs": [],
   "source": [
    "{\n",
    "    \"firstname\": \"Eva\",\n",
    "    \"age\": 44,\n",
    "    \"id\": \"8c74a315-aebf-4a16-bb38-2430a9896ce5\",\n",
    "    \"_rid\": \"bHwDAPQz8s0BAAAAAAAAAA==\",\n",
    "    \"_self\": \"dbs/bHwDAA==/colls/bHwDAPQz8s0=/docs/bHwDAPQz8s0BAAAAAAAAAA==/\",\n",
    "    \"_etag\": \"\\\"00000000-0000-0000-9f95-010a691e01d7\\\"\",\n",
    "    \"_attachments\": \"attachments/\",\n",
    "    \"_ts\": 1630544034\n",
    "}"
   ]
  },
  {
   "cell_type": "markdown",
   "id": "e70352a5",
   "metadata": {},
   "source": [
    "The fields of interest in this document are `firstname`, `id`, and `age`. The rest of the fields with the underscores were generated by Cosmos DB.\n",
    "\n",
    "#### Exploring data with the Cosmos DB emulator\n",
    "\n",
    "You can download and install the emulator [for Windows here](https://aka.ms/cosmosdb-emulator). Refer to this [documentation](https://docs.microsoft.com/en-us/azure/cosmos-db/local-emulator?tabs=ssl-netstd21#run-on-linux-macos) for options on how to run the Emulator for macOS and Linux.\n",
    "\n",
    "The Emulator launches a browser window, where the Explorer view allows you to explore documents.\n",
    "\n",
    "![The Explorer view of the Cosmos DB Emulator](https://static-1300131294.cos.ap-shanghai.myqcloud.com/images/data-science/work-with-data/cosmosdb-emulator-explorer.png)\n",
    "\n",
    "If you're following along, click on \"Start with Sample\" to generate a sample database called SampleDB. If you expand Sample DB by clicking on the arrow you'll find a container called `Persons`, a container holds a collection of items, which are the documents within the container. You can explore the four individual documents under `Items`.\n",
    "\n",
    "![Exploring sample data in the Cosmos DB Emulator](https://static-1300131294.cos.ap-shanghai.myqcloud.com/images/data-science/work-with-data/cosmosdb-emulator-persons.png)\n",
    "\n",
    "#### Querying document data with the Cosmos DB emulator\n",
    "\n",
    "We can also query the sample data by clicking on the new SQL Query button (second button from the left).\n",
    "\n",
    "`SELECT * FROM c` returns all the documents in the container. Let's add a where clause and find everyone younger than 40. `SELECT * FROM c where c.age < 40`\n",
    "\n",
    "![Running a SELECT query on sample data in the Cosmos DB Emulator to find documents that have an age field value that is less than 40](https://static-1300131294.cos.ap-shanghai.myqcloud.com/images/data-science/work-with-data/cosmosdb-emulator-persons-query.png)\n",
    "\n",
    "The query returns two documents, notice the age value for each document is less than 40.\n",
    "\n",
    "#### JSON and Documents\n",
    "\n",
    "If you're familiar with JavaScript Object Notation (JSON) you'll notice that documents look similar to JSON. There is a `PersonsData.json` file in this directory with more data that you may upload to the `Persons` container in the Emulator via the `Upload Item` button.\n",
    "\n",
    "In most instances, APIs that return JSON data can be directly transferred and stored in document databases. Below is another document, it represents tweets from the Microsoft Twitter account that were retrieved using the Twitter API, then inserted into Cosmos DB."
   ]
  },
  {
   "cell_type": "code",
   "execution_count": null,
   "id": "e89cdf0f",
   "metadata": {
    "attributes": {
     "classes": [
      "json"
     ],
     "id": ""
    }
   },
   "outputs": [],
   "source": [
    "{\n",
    "    \"created_at\": \"2021-08-31T19:03:01.000Z\",\n",
    "    \"id\": \"1432780985872142341\",\n",
    "    \"text\": \"Blank slate. Like this tweet if you’ve ever painted in Microsoft Paint before. https://t.co/cFeEs8eOPK\",\n",
    "    \"_rid\": \"dhAmAIUsA4oHAAAAAAAAAA==\",\n",
    "    \"_self\": \"dbs/dhAmAA==/colls/dhAmAIUsA4o=/docs/dhAmAIUsA4oHAAAAAAAAAA==/\",\n",
    "    \"_etag\": \"\\\"00000000-0000-0000-9f84-a0958ad901d7\\\"\",\n",
    "    \"_attachments\": \"attachments/\",\n",
    "    \"_ts\": 1630537000\n",
    "}"
   ]
  },
  {
   "cell_type": "markdown",
   "id": "55fcf7e5",
   "metadata": {},
   "source": [
    "The fields of interest in this document are `created_at`, `id`, and `text`.\n",
    "\n",
    "## Your turn! 🚀\n",
    "\n",
    "There is a <a href=\"../../assets/data/twitter-data.json\">`twitter-data.json`</a> file that you can upload to the SampleDB database. It's recommended that you add it to a separate container. This can be done by:\n",
    "\n",
    "1. Clicking the new container button in the top right\n",
    "2. Selecting the existing database (SampleDB) and creating a container id for the container\n",
    "3. Setting the partition key to `/id`\n",
    "4. Clicking OK (you can ignore the rest of the information in this view as this is a small dataset running locally on your machine)\n",
    "5. Open your new container and upload the Twitter Data file with `Upload Item` button\n",
    "\n",
    "Try to run a few select queries to find the documents that have Microsoft in the text field. Hint: try to use the [LIKE keyword](https://docs.microsoft.com/en-us/azure/cosmos-db/sql/sql-query-keywords#using-like-with-the--wildcard-character)\n",
    "\n",
    "Task - [Soda profits](../../assignments/data-science/soda-profits.md)\n",
    "\n",
    "## Self study\n",
    "\n",
    "- There are some additional formatting and features added to this spreadsheet that this section does not cover. Microsoft has a [large library of documentation and videos](https://support.microsoft.com/excel) on Excel if you're interested in learning more.\n",
    "\n",
    "- This architectural documentation details the characteristics of the different types of non-relational data: [Non-relational Data and NoSQL](https://docs.microsoft.com/en-us/azure/architecture/data-guide/big-data/non-relational-data)\n",
    "\n",
    "- Cosmos DB is a cloud-based non-relational database that can also store the different NoSQL types mentioned in this section. Learn more about these types in this [Cosmos DB Microsoft Learn Module](https://docs.microsoft.com/en-us/learn/paths/work-with-nosql-data-in-azure-cosmos-db/)"
   ]
  },
  {
   "cell_type": "markdown",
   "id": "2e6eb8c9",
   "metadata": {
    "attributes": {
     "classes": [
      "bibliography"
     ],
     "id": ""
    }
   },
   "source": [
    "## Acknowledgments\n",
    "\n",
    "Thanks to Microsoft for creating the open-source course [Data Science for Beginners](https://github.com/microsoft/Data-Science-For-Beginners). It inspires the majority of the content in this chapter."
   ]
  }
 ],
 "metadata": {
  "kernelspec": {
   "display_name": "Python 3 (ipykernel)",
   "language": "python",
   "name": "python3"
  },
  "language_info": {
   "codemirror_mode": {
    "name": "ipython",
    "version": 3
   },
   "file_extension": ".py",
   "mimetype": "text/x-python",
   "name": "python",
   "nbconvert_exporter": "python",
   "pygments_lexer": "ipython3",
   "version": "3.9.13"
  }
 },
 "nbformat": 4,
 "nbformat_minor": 5
}
