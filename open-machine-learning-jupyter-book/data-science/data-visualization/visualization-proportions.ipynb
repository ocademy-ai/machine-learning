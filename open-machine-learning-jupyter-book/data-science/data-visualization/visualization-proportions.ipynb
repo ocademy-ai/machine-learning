{
 "cells": [
  {
   "cell_type": "markdown",
   "id": "d73947ed",
   "metadata": {
    "tags": [
     "hide-cell"
    ]
   },
   "source": [
    "---\n",
    "jupytext:\n",
    "  cell_metadata_filter: -all\n",
    "  formats: md:myst\n",
    "  text_representation:\n",
    "    extension: .md\n",
    "    format_name: myst\n",
    "    format_version: 0.13\n",
    "    jupytext_version: 1.11.5\n",
    "kernelspec:\n",
    "  display_name: Python 3\n",
    "  language: python\n",
    "  name: python3\n",
    "---\n",
    "\n",
    "# Visualizing proportions\n",
    "\n",
    "In this section, you will use a different nature-focused dataset to visualize proportions, such as how many different types of fungi populate a given dataset about mushrooms. Let's explore these fascinating fungi using a dataset sourced from Audubon listing details about 23 species of gilled mushrooms in the Agaricus and Lepiota families. You will experiment with tasty visualizations such as:\n",
    "\n",
    "- Pie charts 🥧\n",
    "- Donut charts 🍩\n",
    "- Waffle charts 🧇"
   ]
  },
  {
   "cell_type": "markdown",
   "id": "27929da2-8cc4-41e3-acb7-72f2f57a24b8",
   "metadata": {
    "attributes": {
     "classes": [
      "seealso"
     ],
     "id": ""
    }
   },
   "source": [
    "A very interesting project called [Charticulator](https://charticulator.com) by Microsoft Research offers a free drag and drop interface for data visualizations. In one of their tutorials they also use this mushroom dataset! So you can explore the data and learn the library at the same time: [Charticulator tutorial](https://charticulator.com/tutorials/tutorial4.html)."
   ]
  },
  {
   "cell_type": "markdown",
   "id": "ec916966",
   "metadata": {},
   "source": [
    "## Get to know your mushrooms 🍄\n",
    "\n",
    "Mushrooms are very interesting. Let's import a dataset to study them:"
   ]
  },
  {
   "cell_type": "code",
   "execution_count": null,
   "id": "e2357f4e-40d1-4fac-93ed-cf1581eda0f9",
   "metadata": {
    "tags": [
     "hide-input",
     "output-scoll"
    ]
   },
   "outputs": [],
   "source": [
    "# Install the necessary dependencies\n",
    "\n",
    "import os\n",
    "import sys\n",
    "!{sys.executable} -m pip install --quiet pandas scikit-learn numpy matplotlib jupyterlab_myst ipython pywaffle"
   ]
  },
  {
   "cell_type": "code",
   "execution_count": null,
   "id": "b2f56f24",
   "metadata": {
    "attributes": {
     "classes": [
      "code-cell"
     ],
     "id": ""
    },
    "tags": [
     "output-scoll"
    ]
   },
   "outputs": [],
   "source": [
    "\n",
    "import pandas as pd\n",
    "import matplotlib.pyplot as plt\n",
    "\n",
    "mushrooms = pd.read_csv('https://static-1300131294.cos.accelerate.myqcloud.com/data/mushrooms.csv')\n",
    "mushrooms.head()"
   ]
  },
  {
   "cell_type": "markdown",
   "id": "a56e07f6",
   "metadata": {},
   "source": [
    "Right away, you notice that all the data is textual. You will have to convert this data to be able to use it in a chart. Most of the data, in fact, is represented as an object:"
   ]
  },
  {
   "cell_type": "code",
   "execution_count": null,
   "id": "60aeab17",
   "metadata": {
    "attributes": {
     "classes": [
      "code-cell"
     ],
     "id": ""
    }
   },
   "outputs": [],
   "source": [
    "print(mushrooms.select_dtypes([\"object\"]).columns)"
   ]
  },
  {
   "cell_type": "markdown",
   "id": "298c7a30",
   "metadata": {},
   "source": [
    "Take this data and convert the 'class' column to a category:"
   ]
  },
  {
   "cell_type": "code",
   "execution_count": null,
   "id": "0af5184a",
   "metadata": {
    "attributes": {
     "classes": [
      "code-cell"
     ],
     "id": ""
    }
   },
   "outputs": [],
   "source": [
    "cols = mushrooms.select_dtypes([\"object\"]).columns\n",
    "mushrooms[cols] = mushrooms[cols].astype('category')"
   ]
  },
  {
   "cell_type": "code",
   "execution_count": null,
   "id": "992cc325",
   "metadata": {
    "attributes": {
     "classes": [
      "code-cell"
     ],
     "id": ""
    },
    "tags": [
     "output-scoll"
    ]
   },
   "outputs": [],
   "source": [
    "\n",
    "edibleclass=mushrooms.groupby(['class']).count()\n",
    "edibleclass"
   ]
  },
  {
   "cell_type": "markdown",
   "id": "ee794ea0",
   "metadata": {},
   "source": [
    "Now, you can see that it has been grouped into categories according to the poisonous/edible class\n",
    "\n",
    "If you follow the order presented in this table to create your class category labels, you can build a pie chart:\n",
    "\n",
    "## Pie!"
   ]
  },
  {
   "cell_type": "code",
   "execution_count": null,
   "id": "7b51377c",
   "metadata": {
    "attributes": {
     "classes": [
      "code-cell"
     ],
     "id": ""
    }
   },
   "outputs": [],
   "source": [
    "labels=['Edible', 'Poisonous']\n",
    "plt.pie(edibleclass['population'], labels=labels, autopct='%.1f %%')\n",
    "plt.title('Edible?')\n",
    "plt.show()"
   ]
  },
  {
   "cell_type": "markdown",
   "id": "a3f2888f",
   "metadata": {},
   "source": [
    "Voila, a pie chart showing the proportions of this data according to these two classes of mushrooms. It's quite important to get the order of the labels correct, especially here, so be sure to verify the order with which the label array is built!\n",
    "\n",
    "## Donuts!\n",
    "\n",
    "A somewhat more visually interesting pie chart is a donut chart, which is a pie chart with a hole in the middle. Let's look at our data using this method.\n",
    "\n",
    "Take a look at the various habitats where mushrooms grow:"
   ]
  },
  {
   "cell_type": "code",
   "execution_count": null,
   "id": "51f60482",
   "metadata": {
    "attributes": {
     "classes": [
      "code-cell"
     ],
     "id": ""
    },
    "tags": [
     "output-scoll"
    ]
   },
   "outputs": [],
   "source": [
    "\n",
    "habitat = mushrooms.groupby(['habitat']).count()\n",
    "habitat"
   ]
  },
  {
   "cell_type": "markdown",
   "id": "045becaf",
   "metadata": {},
   "source": [
    "Here, you are grouping your data by habitat. There are 7 listed, so use those as labels for your donut chart:"
   ]
  },
  {
   "cell_type": "code",
   "execution_count": null,
   "id": "3e864b08",
   "metadata": {
    "attributes": {
     "classes": [
      "code-cell"
     ],
     "id": ""
    }
   },
   "outputs": [],
   "source": [
    "labels = ['Grasses', 'Leaves', 'Meadows', 'Paths', 'Urban', 'Waste', 'Wood']\n",
    "\n",
    "plt.pie(habitat['class'], labels=labels,\n",
    "        autopct='%1.1f%%', pctdistance=0.85)\n",
    "  \n",
    "center_circle = plt.Circle((0, 0), 0.40, fc='white')\n",
    "fig = plt.gcf()\n",
    "\n",
    "fig.gca().add_artist(center_circle)\n",
    "  \n",
    "plt.title('Mushroom Habitats')\n",
    "  \n",
    "plt.show()"
   ]
  },
  {
   "cell_type": "markdown",
   "id": "eb232cae",
   "metadata": {},
   "source": [
    "This code draws a chart and a center circle, then adds that center circle in the chart. Edit the width of the center circle by changing `0.40` to another value.\n",
    "\n",
    "Donut charts can be tweaked in several ways to change the labels. The labels in particular can be highlighted for readability. Learn more in the [docs](https://matplotlib.org/stable/gallery/pie_and_polar_charts/pie_and_donut_labels.html?highlight=donut).\n",
    "\n",
    "Now that you know how to group your data and then display it as a pie or donut, you can explore other types of charts. Try a waffle chart, which is just a different way of exploring quantity.\n",
    "\n",
    "## Waffles!\n",
    "\n",
    "A 'waffle' type chart is a different way to visualize quantities as a 2D array of squares. Try visualizing the different quantities of mushroom cap colors in this dataset. To do this, you need to install a helper library called [PyWaffle](https://pypi.org/project/pywaffle/) and use Matplotlib.\n",
    "\n",
    "Select a segment of your data to group together:"
   ]
  },
  {
   "cell_type": "code",
   "execution_count": null,
   "id": "d3d9e13a",
   "metadata": {
    "attributes": {
     "classes": [
      "code-cell"
     ],
     "id": ""
    },
    "tags": [
     "output-scoll"
    ]
   },
   "outputs": [],
   "source": [
    "\n",
    "capcolor = mushrooms.groupby(['cap-color']).count()\n",
    "capcolor"
   ]
  },
  {
   "cell_type": "markdown",
   "id": "d8ce76eb",
   "metadata": {},
   "source": [
    "Create a waffle chart by creating labels and then grouping your data:"
   ]
  },
  {
   "cell_type": "code",
   "execution_count": null,
   "id": "5e7a6f2c",
   "metadata": {
    "attributes": {
     "classes": [
      "code-cell"
     ],
     "id": ""
    }
   },
   "outputs": [],
   "source": [
    "from pywaffle import Waffle\n",
    "  \n",
    "data = {\n",
    "    'color': ['brown', 'buff', 'cinnamon', 'green', 'pink', 'purple', 'red', 'white', 'yellow'],\n",
    "    'amount': capcolor['class'],\n",
    "}\n",
    "  \n",
    "df = pd.DataFrame(data)\n",
    "  \n",
    "fig = plt.figure(\n",
    "    FigureClass = Waffle,\n",
    "    rows = 100,\n",
    "    values = df.amount,\n",
    "    labels = list(df.color),\n",
    "    figsize = (30, 30),\n",
    "    colors=[\"brown\", \"tan\", \"maroon\", \"green\", \"pink\", \"purple\", \"red\", \"whitesmoke\", \"yellow\"],\n",
    ")"
   ]
  },
  {
   "cell_type": "markdown",
   "id": "a4b826bc",
   "metadata": {},
   "source": [
    "Using a waffle chart, you can plainly see the proportions of cap colors of this mushrooms dataset. Interestingly, there are many green-capped mushrooms!"
   ]
  },
  {
   "cell_type": "markdown",
   "id": "fb216ead-2956-4da3-84e0-f8fc7880ec6b",
   "metadata": {
    "attributes": {
     "classes": [
      "seealso"
     ],
     "id": ""
    }
   },
   "source": [
    "Pywaffle supports icons within the charts that use any icon available in [Font Awesome](https://fontawesome.com/). Do some experiments to create an even more interesting waffle chart using icons instead of squares."
   ]
  },
  {
   "cell_type": "markdown",
   "id": "f0aefe63",
   "metadata": {},
   "source": [
    "In this section, you learned three ways to visualize proportions. First, you need to group your data into categories and then decide which is the best way to display the data - pie, donut, or waffle. All are delicious and gratify the user with an instant snapshot of a dataset.\n",
    "\n",
    "## Self study\n",
    "\n",
    "Sometimes it's not obvious when to use a pie, donut, or waffle chart. Here are some articles to read on this topic:\n",
    "\n",
    "- [Battle of the Charts: Pie Chart vs. Donut Chart| The Beautiful Blog](https://www.beautiful.ai/blog/battle-of-the-charts-pie-chart-vs-donut-chart)\n",
    "- [Pie Chart vs. Donut Chart: Showdown in the Ring](https://medium.com/@hypsypops/pie-chart-vs-donut-chart-showdown-in-the-ring-5d24fd86a9ce)\n",
    "- [About Doughnut Charts](https://www.mit.edu/~mbarker/formula1/f1help/11-ch-c6.htm)\n",
    "- [Data Visualization Done the Right Way with Tableau- Waffle Chart](https://medium.datadriveninvestor.com/data-visualization-done-the-right-way-with-tableau-waffle-chart-fdf2a19be402)\n",
    "\n",
    "Do some research to find more information on this sticky decision.\n",
    "\n",
    "## Your turn! 🚀\n",
    "\n",
    "Try recreating these tasty charts in [Charticulator](https://charticulator.com).\n",
    "\n",
    "Assignment - [Try it in Excel](../../assignments/data-science/try-it-in-excel.md)\n",
    "\n",
    "## Acknowledgments\n",
    "\n",
    "Thanks to Microsoft for creating the open-source course [Data Science for Beginners](https://github.com/microsoft/Data-Science-For-Beginners). It inspires the majority of the content in this chapter."
   ]
  }
 ],
 "metadata": {
  "kernelspec": {
   "display_name": "Python 3 (ipykernel)",
   "language": "python",
   "name": "python3"
  },
  "language_info": {
   "codemirror_mode": {
    "name": "ipython",
    "version": 3
   },
   "file_extension": ".py",
   "mimetype": "text/x-python",
   "name": "python",
   "nbconvert_exporter": "python",
   "pygments_lexer": "ipython3",
   "version": "3.9.13"
  }
 },
 "nbformat": 4,
 "nbformat_minor": 5
}
