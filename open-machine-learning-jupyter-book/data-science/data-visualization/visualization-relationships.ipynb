{
 "cells": [
  {
   "cell_type": "markdown",
   "id": "bed5cac6",
   "metadata": {
    "tags": [
     "hide-cell"
    ]
   },
   "source": [
    "---\n",
    "jupytext:\n",
    "  cell_metadata_filter: -all\n",
    "  formats: md:myst\n",
    "  text_representation:\n",
    "    extension: .md\n",
    "    format_name: myst\n",
    "    format_version: 0.13\n",
    "    jupytext_version: 1.11.5\n",
    "kernelspec:\n",
    "  display_name: Python 3\n",
    "  language: python\n",
    "  name: python3\n",
    "\n",
    "# Visualizing relationships: all about honey 🍯\n",
    "\n",
    "Continuing with the nature focus of our research, let's discover interesting visualizations to show the relationships between various types of honey, according to a dataset derived from the [United States Department of Agriculture](https://www.nass.usda.gov/About_NASS/index.php). \n",
    "\n",
    "This dataset of about 600 items displays honey production in many U.S. states. So, for example, you can look at the number of colonies, yield per colony, total production, stocks, price per pound, and value of the honey produced in a given state from 1998-2012, with one row per year for each state. \n",
    "\n",
    "It will be interesting to visualize the relationship between a given state's production per year and, for example, the price of honey in that state. Alternatively, you could visualize the relationship between states' honey yield per colony. This year's span covers the devastating 'CCD' or '[Colony Collapse Disorder](http://npic.orst.edu/envir/ccd.html)' first seen in 2006, so it is a poignant dataset to study. 🐝\n",
    "\n",
    "In this section, you can use Seaborn, which you have used before, as a good library to visualize relationships between variables. Particularly interesting is the use of Seaborn's `relplot` function that allows scatter plots and line plots to quickly visualize '[statistical relationships](https://seaborn.pydata.org/tutorial/relational.html?highlight=relationships)', which allows the data scientist to better understand how variables relate to each other.\n",
    "\n",
    "## Scatterplots\n",
    "\n",
    "Use a scatterplot to show how the price of honey has evolved, year over year, per state. Seaborn, using `relplot`, conveniently groups the state data and displays data points for both categorical and numeric data. \n",
    "\n",
    "Let's start by importing the data and Seaborn:"
   ]
  },
  {
   "cell_type": "code",
   "execution_count": 1,
   "id": "3ea82a12-74d3-40b5-919a-8e89d88e8d63",
   "metadata": {
    "tags": [
     "hide-input"
    ]
   },
   "outputs": [],
   "source": [
    "# Install the necessary dependencies\n",
    "\n",
    "import os\n",
    "import sys\n",
    "!{sys.executable} -m pip install --quiet pandas scikit-learn numpy matplotlib jupyterlab_myst ipython"
   ]
  },
  {
   "cell_type": "code",
   "execution_count": 2,
   "id": "8348f573",
   "metadata": {
    "attributes": {
     "classes": [
      "code-cell"
     ],
     "id": ""
    },
    "tags": [
     "output-scoll"
    ]
   },
   "outputs": [
    {
     "data": {
      "text/html": [
       "<div>\n",
       "<style scoped>\n",
       "    .dataframe tbody tr th:only-of-type {\n",
       "        vertical-align: middle;\n",
       "    }\n",
       "\n",
       "    .dataframe tbody tr th {\n",
       "        vertical-align: top;\n",
       "    }\n",
       "\n",
       "    .dataframe thead th {\n",
       "        text-align: right;\n",
       "    }\n",
       "</style>\n",
       "<table border=\"1\" class=\"dataframe\">\n",
       "  <thead>\n",
       "    <tr style=\"text-align: right;\">\n",
       "      <th></th>\n",
       "      <th>state</th>\n",
       "      <th>numcol</th>\n",
       "      <th>yieldpercol</th>\n",
       "      <th>totalprod</th>\n",
       "      <th>stocks</th>\n",
       "      <th>priceperlb</th>\n",
       "      <th>prodvalue</th>\n",
       "      <th>year</th>\n",
       "    </tr>\n",
       "  </thead>\n",
       "  <tbody>\n",
       "    <tr>\n",
       "      <th>0</th>\n",
       "      <td>AL</td>\n",
       "      <td>16000.0</td>\n",
       "      <td>71</td>\n",
       "      <td>1136000.0</td>\n",
       "      <td>159000.0</td>\n",
       "      <td>0.72</td>\n",
       "      <td>818000.0</td>\n",
       "      <td>1998</td>\n",
       "    </tr>\n",
       "    <tr>\n",
       "      <th>1</th>\n",
       "      <td>AZ</td>\n",
       "      <td>55000.0</td>\n",
       "      <td>60</td>\n",
       "      <td>3300000.0</td>\n",
       "      <td>1485000.0</td>\n",
       "      <td>0.64</td>\n",
       "      <td>2112000.0</td>\n",
       "      <td>1998</td>\n",
       "    </tr>\n",
       "    <tr>\n",
       "      <th>2</th>\n",
       "      <td>AR</td>\n",
       "      <td>53000.0</td>\n",
       "      <td>65</td>\n",
       "      <td>3445000.0</td>\n",
       "      <td>1688000.0</td>\n",
       "      <td>0.59</td>\n",
       "      <td>2033000.0</td>\n",
       "      <td>1998</td>\n",
       "    </tr>\n",
       "    <tr>\n",
       "      <th>3</th>\n",
       "      <td>CA</td>\n",
       "      <td>450000.0</td>\n",
       "      <td>83</td>\n",
       "      <td>37350000.0</td>\n",
       "      <td>12326000.0</td>\n",
       "      <td>0.62</td>\n",
       "      <td>23157000.0</td>\n",
       "      <td>1998</td>\n",
       "    </tr>\n",
       "    <tr>\n",
       "      <th>4</th>\n",
       "      <td>CO</td>\n",
       "      <td>27000.0</td>\n",
       "      <td>72</td>\n",
       "      <td>1944000.0</td>\n",
       "      <td>1594000.0</td>\n",
       "      <td>0.70</td>\n",
       "      <td>1361000.0</td>\n",
       "      <td>1998</td>\n",
       "    </tr>\n",
       "  </tbody>\n",
       "</table>\n",
       "</div>"
      ],
      "text/plain": [
       "  state    numcol  yieldpercol   totalprod      stocks  priceperlb  \\\n",
       "0    AL   16000.0           71   1136000.0    159000.0        0.72   \n",
       "1    AZ   55000.0           60   3300000.0   1485000.0        0.64   \n",
       "2    AR   53000.0           65   3445000.0   1688000.0        0.59   \n",
       "3    CA  450000.0           83  37350000.0  12326000.0        0.62   \n",
       "4    CO   27000.0           72   1944000.0   1594000.0        0.70   \n",
       "\n",
       "    prodvalue  year  \n",
       "0    818000.0  1998  \n",
       "1   2112000.0  1998  \n",
       "2   2033000.0  1998  \n",
       "3  23157000.0  1998  \n",
       "4   1361000.0  1998  "
      ]
     },
     "execution_count": 2,
     "metadata": {},
     "output_type": "execute_result"
    }
   ],
   "source": [
    "import pandas as pd\n",
    "import matplotlib.pyplot as plt\n",
    "import seaborn as sns\n",
    "\n",
    "honey = pd.read_csv('https://static-1300131294.cos.accelerate.myqcloud.com/data/honey.csv')\n",
    "honey.head()"
   ]
  },
  {
   "cell_type": "markdown",
   "id": "fe05ad8f",
   "metadata": {},
   "source": [
    "You notice that the honey data has several interesting columns, including year and price per pound. Let's explore this data, grouped by U.S. state\n",
    "\n",
    "Create a basic scatterplot to show the relationship between the price per pound of honey and its U.S. state of origin. Make the `y` axis tall enough to display all the states:"
   ]
  },
  {
   "cell_type": "code",
   "execution_count": 3,
   "id": "45765c3a",
   "metadata": {
    "attributes": {
     "classes": [
      "code-cell"
     ],
     "id": ""
    },
    "tags": [
     "output-scoll"
    ]
   },
   "outputs": [
    {
     "data": {
      "image/png": "[encoded data removed]",
      "text/plain": [
       "<Figure size 750x1500 with 1 Axes>"
      ]
     },
     "metadata": {},
     "output_type": "display_data"
    }
   ],
   "source": [
    "sns.relplot(x=\"priceperlb\", y=\"state\", data=honey, height=15, aspect=.5);"
   ]
  },
  {
   "cell_type": "markdown",
   "id": "e00a01b5",
   "metadata": {},
   "source": [
    "Now, show the same data with a honey color scheme to show how the price evolves over the years. You can do this by adding a 'hue' parameter to show the change, year over year:"
   ]
  },
  {
   "cell_type": "markdown",
   "id": "caab1b61-c017-4c61-99e8-ef950440b1a8",
   "metadata": {
    "attributes": {
     "classes": [
      "seealso"
     ],
     "id": ""
    }
   },
   "source": [
    "Learn more about the [color palettes you can use in Seaborn](https://seaborn.pydata.org/tutorial/color_palettes.html) - try a beautiful rainbow color scheme!"
   ]
  },
  {
   "cell_type": "code",
   "execution_count": 4,
   "id": "fbc8e40c",
   "metadata": {
    "attributes": {
     "classes": [
      "code-cell"
     ],
     "id": ""
    }
   },
   "outputs": [],
   "source": [
    "sns.relplot(x=\"priceperlb\", y=\"state\", hue=\"year\", palette=\"YlOrBr\", data=honey, height=15, aspect=.5);"
   ]
  },
  {
   "cell_type": "markdown",
   "id": "cf32eac4",
   "metadata": {},
   "source": [
    "With this color scheme change, you can see that there's obviously a strong progression over the years in terms of honey price per pound. Indeed, if you look at a sample set in the data to verify (pick a given state, Arizona for example) you can see a pattern of price increases year over year, with few exceptions:\n",
    "\n",
    "| state | numcol | yieldpercol | totalprod | stocks  | priceperlb | prodvalue | year |\n",
    "| ----- | ------ | ----------- | --------- | ------- | ---------- | --------- | ---- |\n",
    "| AZ    | 55000  | 60          | 3300000   | 1485000 | 0.64       | 2112000   | 1998 |\n",
    "| AZ    | 52000  | 62          | 3224000   | 1548000 | 0.62       | 1999000   | 1999 |\n",
    "| AZ    | 40000  | 59          | 2360000   | 1322000 | 0.73       | 1723000   | 2000 |\n",
    "| AZ    | 43000  | 59          | 2537000   | 1142000 | 0.72       | 1827000   | 2001 |\n",
    "| AZ    | 38000  | 63          | 2394000   | 1197000 | 1.08       | 2586000   | 2002 |\n",
    "| AZ    | 35000  | 72          | 2520000   | 983000  | 1.34       | 3377000   | 2003 |\n",
    "| AZ    | 32000  | 55          | 1760000   | 774000  | 1.11       | 1954000   | 2004 |\n",
    "| AZ    | 36000  | 50          | 1800000   | 720000  | 1.04       | 1872000   | 2005 |\n",
    "| AZ    | 30000  | 65          | 1950000   | 839000  | 0.91       | 1775000   | 2006 |\n",
    "| AZ    | 30000  | 64          | 1920000   | 902000  | 1.26       | 2419000   | 2007 |\n",
    "| AZ    | 25000  | 64          | 1600000   | 336000  | 1.26       | 2016000   | 2008 |\n",
    "| AZ    | 20000  | 52          | 1040000   | 562000  | 1.45       | 1508000   | 2009 |\n",
    "| AZ    | 24000  | 77          | 1848000   | 665000  | 1.52       | 2809000   | 2010 |\n",
    "| AZ    | 23000  | 53          | 1219000   | 427000  | 1.55       | 1889000   | 2011 |\n",
    "| AZ    | 22000  | 46          | 1012000   | 253000  | 1.79       | 1811000   | 2012 |\n",
    "\n",
    "Another way to visualize this progression is to use size, rather than color. For colorblind users, this might be a better option. Edit your visualization to show an increase of price by an increase in dot circumference:"
   ]
  },
  {
   "cell_type": "code",
   "execution_count": 5,
   "id": "66ce557a",
   "metadata": {
    "attributes": {
     "classes": [
      "code-cell"
     ],
     "id": ""
    },
    "tags": [
     "output-scoll"
    ]
   },
   "outputs": [],
   "source": [
    "sns.relplot(x=\"priceperlb\", y=\"state\", size=\"year\", data=honey, height=15, aspect=.5);"
   ]
  },
  {
   "cell_type": "markdown",
   "id": "6e7bc1d4",
   "metadata": {},
   "source": [
    "You can see the size of the dots gradually increasing.\n",
    "\n",
    "Is this a simple case of supply and demand? Due to factors such as climate change and colony collapse, is there less honey available for purchase year over year, and thus the price increases?\n",
    "\n",
    "To discover a correlation between some of the variables in this dataset, let's explore some line charts.\n",
    "\n",
    "## Line charts\n",
    "\n",
    "Question: Is there a clear rise in price of honey per pound year over year? You can most easily discover that by creating a single line chart:"
   ]
  },
  {
   "cell_type": "code",
   "execution_count": 6,
   "id": "30721163",
   "metadata": {
    "attributes": {
     "classes": [
      "code-cell"
     ],
     "id": ""
    },
    "tags": [
     "output-scoll"
    ]
   },
   "outputs": [],
   "source": [
    "sns.relplot(x=\"year\", y=\"priceperlb\", kind=\"line\", data=honey);"
   ]
  },
  {
   "cell_type": "markdown",
   "id": "7ca0700a",
   "metadata": {},
   "source": [
    "Answer: Yes, with some exceptions around the year 2003:"
   ]
  },
  {
   "cell_type": "markdown",
   "id": "828486f0-3d23-4971-9ae4-ef4d35b53a43",
   "metadata": {
    "attributes": {
     "classes": [
      "note"
     ],
     "id": ""
    }
   },
   "source": [
    "Because Seaborn is aggregating data around one line, it displays \"the multiple measurements at each x value by plotting the mean and the 95% confidence interval around the mean\". [Source](https://seaborn.pydata.org/tutorial/relational.html). This time-consuming behavior can be disabled by adding `ci=None`."
   ]
  },
  {
   "cell_type": "markdown",
   "id": "e258b148",
   "metadata": {},
   "source": [
    "Question: Well, in 2003 can we also see a spike in the honey supply? What if you look at total production year over year?"
   ]
  },
  {
   "cell_type": "code",
   "execution_count": 7,
   "id": "e9b1228c",
   "metadata": {
    "attributes": {
     "classes": [
      "code-cell"
     ],
     "id": ""
    },
    "tags": [
     "hide-input",
     "output-scoll"
    ]
   },
   "outputs": [],
   "source": [
    "sns.relplot(x=\"year\", y=\"totalprod\", kind=\"line\", data=honey);"
   ]
  },
  {
   "cell_type": "markdown",
   "id": "25b136d3",
   "metadata": {},
   "source": [
    "Answer: Not really. If you look at total production, it actually seems to have increased in that particular year, even though generally speaking the amount of honey being produced is in decline during these years.\n",
    "\n",
    "Question: In that case, what could have caused that spike in the price of honey around 2003? \n",
    "\n",
    "To discover this, you can explore a facet grid.\n",
    "\n",
    "## Facet grids\n",
    "\n",
    "Facet grids take one facet of your dataset (in our case, you can choose 'year' to avoid having too many facets produced). Seaborn can then make a plot for each of those facets of your chosen x and y coordinates for more easy visual comparison. Does 2003 stand out in this type of comparison?\n",
    "\n",
    "Create a facet grid by continuing to use `relplot` as recommended by [Seaborn's documentation](https://seaborn.pydata.org/generated/seaborn.FacetGrid.html?highlight=facetgrid#seaborn.FacetGrid)."
   ]
  },
  {
   "cell_type": "code",
   "execution_count": 8,
   "id": "5c42d0ad",
   "metadata": {
    "attributes": {
     "classes": [
      "code-cell"
     ],
     "id": ""
    },
    "tags": [
     "output-scoll"
    ]
   },
   "outputs": [
    {
     "data": {
      "text/plain": [
       "<seaborn.axisgrid.FacetGrid at 0x29ad1a309d0>"
      ]
     },
     "execution_count": 8,
     "metadata": {},
     "output_type": "execute_result"
    }
   ],
   "source": [
    "sns.relplot(\n",
    "    data=honey, \n",
    "    x=\"yieldpercol\", y=\"numcol\",\n",
    "    col=\"year\", \n",
    "    col_wrap=3,\n",
    "    kind=\"line\")"
   ]
  },
  {
   "cell_type": "markdown",
   "id": "ded0cf19",
   "metadata": {},
   "source": [
    "In this visualization, you can compare the yield per colony and number of colonies year over year, side by side with a wrap set at 3 for the columns\n",
    "\n",
    "For this dataset, nothing particularly stands out with regards to the number of colonies and their yield, year over year and state over state. Is there a different way to look at finding a correlation between these two variables?\n",
    "\n",
    "## Dual-line Plots\n",
    "\n",
    "Try a multiline plot by superimposing two lineplots on top of each other, using Seaborn's `despine` to remove their top and right spines, and using `ax.twinx` [derived from Matplotlib](https://matplotlib.org/stable/api/_as_gen/matplotlib.axes.Axes.twinx.html). Twinx allows a chart to share the x axis and display two y axes. So, display the yield per colony and the number of colonies, superimposed:"
   ]
  },
  {
   "cell_type": "code",
   "execution_count": 9,
   "id": "92327869",
   "metadata": {
    "attributes": {
     "classes": [
      "code-cell"
     ],
     "id": ""
    },
    "tags": [
     "output-scoll"
    ]
   },
   "outputs": [],
   "source": [
    "fig, ax = plt.subplots(figsize=(12,6))\n",
    "lineplot = sns.lineplot(x=honey['year'], y=honey['numcol'], data=honey, \n",
    "                        label = 'Number of bee colonies', legend=False)\n",
    "sns.despine()\n",
    "plt.ylabel('# colonies')\n",
    "plt.title('Honey Production Year over Year');\n",
    "\n",
    "ax2 = ax.twinx()\n",
    "lineplot2 = sns.lineplot(x=honey['year'], y=honey['yieldpercol'], ax=ax2, color=\"r\", \n",
    "                         label ='Yield per colony', legend=False) \n",
    "sns.despine(right=False)\n",
    "plt.ylabel('colony yield')\n",
    "ax.figure.legend();"
   ]
  },
  {
   "cell_type": "markdown",
   "id": "ce51b243",
   "metadata": {},
   "source": [
    "While nothing jumps out to the eye around the year 2003, it does allow us to end this section on a little happier note: while there are overall a declining number of colonies, the number of colonies is stabilizing even if their yield per colony is decreasing.\n",
    "\n",
    "Go, bees, go!\n",
    "\n",
    "🐝❤️\n",
    "\n",
    "## Self study\n",
    "\n",
    "Line plots can be simple or quite complex. Do a bit of reading in the [Seaborn documentation](https://seaborn.pydata.org/generated/seaborn.lineplot.html) on the various ways you can build them. Try to enhance the line charts you built in this section with other methods listed in the docs.\n",
    "\n",
    "## Your turn! 🚀\n",
    "\n",
    "In this section, you learned a bit more about other uses of scatterplots and line grids, including facet grids. Challenge yourself to create a facet grid using a different dataset, maybe one you used prior to these sections. Note how long they take to create and how you need to be careful about how many grids you need to draw using these techniques.\n",
    "\n",
    "Assignment - [Dive into the beehive](../../assignments/data-science/dive-into-the-beehive.md)\n",
    "\n",
    "## Acknowledgments\n",
    "\n",
    "Thanks to Microsoft for creating the open-source course [Data Science for Beginners](https://github.com/microsoft/Data-Science-For-Beginners). It inspires the majority of the content in this chapter."
   ]
  }
 ],
 "metadata": {
  "kernelspec": {
   "display_name": "Python 3 (ipykernel)",
   "language": "python",
   "name": "python3"
  },
  "language_info": {
   "codemirror_mode": {
    "name": "ipython",
    "version": 3
   },
   "file_extension": ".py",
   "mimetype": "text/x-python",
   "name": "python",
   "nbconvert_exporter": "python",
   "pygments_lexer": "ipython3",
   "version": "3.9.13"
  }
 },
 "nbformat": 4,
 "nbformat_minor": 5
}
