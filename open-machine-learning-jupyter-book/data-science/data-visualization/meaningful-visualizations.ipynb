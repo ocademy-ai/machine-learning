{
 "cells": [
  {
   "cell_type": "markdown",
   "id": "10526cb8",
   "metadata": {
    "tags": [
     "remove-cell"
    ]
   },
   "source": [
    "---\n",
    "license:\n",
    "    code: MIT\n",
    "    content: CC-BY-4.0\n",
    "github: https://github.com/ocademy-ai/machine-learning\n",
    "venue: By Ocademy\n",
    "open_access: true\n",
    "bibliography:\n",
    "  - https://raw.githubusercontent.com/ocademy-ai/machine-learning/main/open-machine-learning-jupyter-book/references.bib\n",
    "---"
   ]
  },
  {
   "cell_type": "markdown",
   "id": "20721714-ee9b-4e32-a2b9-203aaa891172",
   "metadata": {
    "attributes": {
     "classes": [
      "epigraph"
     ],
     "id": ""
    },
    "tags": []
   },
   "source": [
    "# Making meaningful visualizations\n",
    "\"Data is food for AI.\"   -- Andrew Ng"
   ]
  },
  {
   "cell_type": "markdown",
   "id": "09461831",
   "metadata": {
    "tags": []
   },
   "source": [
    "One of the basic skills of a data scientist is the ability to create a meaningful data visualization that helps answer questions you might have. Prior to visualizing your data, you need to ensure that it has been cleaned and prepared, as you did in prior sections. After that, you can start deciding how best to present the data.\n",
    "\n",
    "In this section, you will review:\n",
    "\n",
    "1. How to choose the right chart type\n",
    "2. How to avoid deceptive charting\n",
    "3. How to work with color\n",
    "4. How to style your charts for readability\n",
    "5. How to build animated or 3D charting solutions\n",
    "6. How to build a creative visualization\n",
    "\n",
    "## Choose the right chart type\n",
    "\n",
    "In previous sections, you experimented with building all kinds of interesting data visualizations using Matplotlib and Seaborn for charting. In general, you can select the [right kind of chart](https://chartio.com/learn/charts/how-to-select-a-data-vizualization/) for the question you are asking using this table:\n",
    "\n",
    "| You need to:               | You should use:                 |\n",
    "| -------------------------- | ------------------------------- |\n",
    "| Show data trends over time | Line                            |\n",
    "| Compare categories         | Bar, Pie                        |\n",
    "| Compare totals             | Pie, Stacked Bar                |\n",
    "| Show relationships         | Scatter, Line, Facet, Dual Line |\n",
    "| Show distributions         | Scatter, Histogram, Box         |\n",
    "| Show proportions           | Pie, Donut, Waffle              |"
   ]
  },
  {
   "cell_type": "markdown",
   "id": "8736e65e-9842-49bd-a624-e3288817e2cb",
   "metadata": {
    "attributes": {
     "classes": [
      "note"
     ],
     "id": ""
    },
    "tags": [
     "output-scoll"
    ]
   },
   "source": [
    "Depending on the makeup of your data, you might need to convert it from text to numeric to get a given chart to support it."
   ]
  },
  {
   "cell_type": "markdown",
   "id": "de8f8c35",
   "metadata": {},
   "source": [
    "## Avoid deception\n",
    "\n",
    "Even if a data scientist is careful to choose the right chart for the right data, there are plenty of ways that data can be displayed in a way to prove a point, often at the cost of undermining the data itself. There are many examples of deceptive charts and infographics!\n",
    "\n",
    "[![How Charts Lie by Alberto Cairo](https://static-1300131294.cos.ap-shanghai.myqcloud.com/images/data-science/data-visualization/tornado.png)](https://www.youtube.com/watch?v=oX74Nge8Wkw \"How charts lie\")"
   ]
  },
  {
   "cell_type": "markdown",
   "id": "88f998dd-d5c4-4364-a6db-d8928a8a3979",
   "metadata": {
    "attributes": {
     "classes": [
      "seealso"
     ],
     "id": ""
    },
    "tags": [
     "output-scoll"
    ]
   },
   "source": [
    "Click the image above for a conference talk about deceptive charts"
   ]
  },
  {
   "cell_type": "markdown",
   "id": "24edf491",
   "metadata": {},
   "source": [
    "This chart reverses the X axis to show the opposite of the truth, based on date:\n",
    "\n",
    "![bad chart 1](https://static-1300131294.cos.ap-shanghai.myqcloud.com/images/data-science/data-visualization/bad-chart-1.png)\n",
    "\n",
    "[This chart](https://media.firstcoastnews.com/assets/WTLV/images/170ae16f-4643-438f-b689-50d66ca6a8d8/170ae16f-4643-438f-b689-50d66ca6a8d8_1140x641.jpg) is even more deceptive, as the eye is drawn to the right to conclude that, over time, COVID cases have declined in the various counties. In fact, if you look closely at the dates, you find that they have been rearranged to give that deceptive downward trend.\n",
    "\n",
    "![bad chart 2](https://static-1300131294.cos.ap-shanghai.myqcloud.com/images/data-science/data-visualization/bad-chart-2.jpg)\n",
    "\n",
    "This notorious example uses color AND a flipped Y axis to deceive: instead of concluding that gun deaths spiked after the passage of gun-friendly legislation, in fact the eye is fooled to think that the opposite is true:\n",
    "\n",
    "![bad chart 3](https://static-1300131294.cos.ap-shanghai.myqcloud.com/images/data-science/data-visualization/bad-chart-3.jpg)\n",
    "\n",
    "This strange chart shows how proportion can be manipulated, to hilarious effect:\n",
    "\n",
    "![bad chart 4](https://static-1300131294.cos.ap-shanghai.myqcloud.com/images/data-science/data-visualization/bad-chart-4.jpg)\n",
    "\n",
    "Comparing the incomparable is yet another shady trick. There is a [wonderful web site](https://tylervigen.com/spurious-correlations) all about 'spurious correlations' displaying 'facts' correlating things like the divorce rate in Maine and the consumption of margarine. A Reddit group also collects the [ugly uses](https://www.reddit.com/r/dataisugly/top/?t=all) of data.\n",
    "\n",
    "It's important to understand how easily the eye can be fooled by deceptive charts. Even if the data scientist's intention is good, the choice of a bad type of chart, such as a pie chart showing too many categories, can be deceptive.\n",
    "\n",
    "## Color\n",
    "\n",
    "You saw in the 'Florida gun violence' chart above how color can provide an additional layer of meaning to charts, especially ones not designed using libraries such as Matplotlib and Seaborn which come with various vetted color libraries and palettes. If you are making a chart by hand, do a little study of [color theory](https://colormatters.com/color-and-design/basic-color-theory)"
   ]
  },
  {
   "cell_type": "markdown",
   "id": "d48a6ef3-c354-48ba-be26-8d8de8a7894a",
   "metadata": {
    "attributes": {
     "classes": [
      "note"
     ],
     "id": ""
    },
    "tags": [
     "output-scoll"
    ]
   },
   "source": [
    "Be aware, when designing charts, that accessibility is an important aspect of visualization. Some of your users might be color blind - does your chart display well for users with visual impairments?"
   ]
  },
  {
   "cell_type": "markdown",
   "id": "c903df70",
   "metadata": {},
   "source": [
    "Be careful when choosing colors for your chart, as color can convey meaning you might not intend. The 'pink ladies' in the 'height' chart above convey a distinctly 'feminine' ascribed meaning that adds to the bizarreness of the chart itself.\n",
    "\n",
    "While [color meaning](https://colormatters.com/color-symbolism/the-meanings-of-colors) might be different in different parts of the world, and tend to change in meaning according to their shade. Generally speaking, color meanings include:\n",
    "\n",
    "|         | Color  | Meaning             |\n",
    "|---------| ------ | ------------------- |\n",
    "|0        | red    | power               |\n",
    "|1        | blue   | trust, loyalty      |\n",
    "|2        | yellow | happiness, caution  |\n",
    "|3        | green  | ecology, luck, envy |\n",
    "|4        | purple | happiness           |\n",
    "|5        | orange | vibrance            |\n",
    "\n",
    "If you are tasked with building a chart with custom colors, ensure that your charts are both accessible and the color you choose coincides with the meaning you are trying to convey.\n",
    "\n",
    "## Styling your charts for readability\n",
    "\n",
    "Charts are not meaningful if they are not readable! Take a moment to consider styling the width and height of your chart to scale well with your data. If one variable (such as all 50 states) need to be displayed, show them vertically on the Y axis if possible so as to avoid a horizontally-scrolling chart.\n",
    "\n",
    "Label your axes, provide a legend if necessary, and offer tooltips for better comprehension of data.\n",
    "\n",
    "If your data is textual and verbose on the X axis, you can angle the text for better readability. [Matplotlib](https://matplotlib.org/stable/tutorials/toolkits/mplot3d.html) offers 3d plotting, if you data supports it. Sophisticated data visualizations can be produced using `mpl_toolkits.mplot3d`.\n",
    "\n",
    "![3d plots](https://static-1300131294.cos.ap-shanghai.myqcloud.com/images/data-science/data-visualization/3d.png)\n",
    "\n",
    "## Animation and 3D chart display\n",
    "\n",
    "Some of the best data visualizations today are animated. Shirley Wu has amazing ones done with D3, such as '[film flowers](http://bl.ocks.org/sxywu/raw/d612c6c653fb8b4d7ff3d422be164a5d/)', where each flower is a visualization of a movie. Another example for the Guardian is 'bussed out', an interactive experience combining visualizations with Greensock and D3 plus a scrollytelling article format to show how NYC handles its homeless problem by bussing people out of the city.\n",
    "\n",
    "![busing](https://static-1300131294.cos.ap-shanghai.myqcloud.com/images/data-science/data-visualization/busing.png)"
   ]
  },
  {
   "cell_type": "markdown",
   "id": "0fb7ea2e-e351-4dcc-b2fb-394cf1dbed19",
   "metadata": {
    "attributes": {
     "classes": [
      "seealso"
     ],
     "id": ""
    },
    "tags": [
     "output-scoll"
    ]
   },
   "source": [
    "Bussed out: How America moves thousands of homeless people around the country. (n.d.). The Guardian. Retrieved 5 November 2022, from http://www.theguardian.com/us-news/ng-interactive/2017/dec/20/bussed-out-america-moves-homeless-people-country-study"
   ]
  },
  {
   "cell_type": "markdown",
   "id": "76ee2117",
   "metadata": {},
   "source": [
    "While this section is insufficient to go into depth to teach these powerful visualization libraries, try your hand at D3 in a Vue.js app using a library to display a visualization of the book \"Dangerous Liaisons\" as an animated social network."
   ]
  },
  {
   "cell_type": "markdown",
   "id": "5be87b43-9e67-48ee-95cb-913a07d956d9",
   "metadata": {
    "attributes": {
     "classes": [
      "seealso"
     ],
     "id": ""
    },
    "tags": [
     "output-scoll"
    ]
   },
   "source": [
    " \"Les Liaisons Dangereuses\" is an epistolary novel, or a novel presented as a series of letters. Written in 1782 by Choderlos de Laclos, it tells the story of the vicious, morally-bankrupt social maneuvers of two dueling protagonists of the French aristocracy in the late 18th century, the Vicomte de Valmont and the Marquise de Merteuil. Both meet their demise in the end but not without inflicting a great deal of social damage. The novel unfolds as a series of letters written to various people in their circles, plotting for revenge or simply to make trouble. Create a visualization of these letters to discover the major kingpins of the narrative, visually."
   ]
  },
  {
   "cell_type": "markdown",
   "id": "41c900be",
   "metadata": {},
   "source": [
    "You will complete a web app that will display an animated view of this social network. It uses a library that was built to create a [visual of a network](https://github.com/emiliorizzo/vue-d3-network) using Vue.js and D3. When the app is running, you can pull the nodes around on the screen to shuffle the data around.\n",
    "\n",
    "![liaisons](https://static-1300131294.cos.ap-shanghai.myqcloud.com/images/data-science/data-visualization/liaisons.png)\n",
    "\n",
    "## Project: Build a chart to show a network using D3.js\n",
    "\n",
    "> This section includes a `solution` folder where you can find the completed project, for your reference.\n",
    "\n",
    "1. Follow the instructions in the README.md file in the starter folder's root. Make sure you have NPM and Node.js running on your machine before installing your project's dependencies.\n",
    "\n",
    "2. Open the `starter/src` folder. You'll discover an `assets` folder where you can find a .json file with all the letters from the novel, numbered, with a 'to' and 'from' annotation.\n",
    "\n",
    "3. Complete the code in `components/Nodes.vue` to enable the visualization. Look for the method called `createLinks()` and add the following nested loop.\n",
    "\n",
    "Loop through the .json object to capture the 'to' and 'from' data for the letters and build up the `links` object so that the visualization library can consume it:"
   ]
  },
  {
   "cell_type": "markdown",
   "id": "7474565a-12a6-4cda-a1f7-784b5c3cc323",
   "metadata": {
    "attributes": {
     "classes": [
      "javascript"
     ],
     "id": ""
    },
    "tags": []
   },
   "source": [
    "//loop through letters\n",
    "let f = 0;\n",
    "let t = 0;\n",
    "for (var i = 0; i < letters.length; i++) \n",
    "{ \n",
    "  for (var j = 0; j < characters.length; j++)\n",
    "  {\n",
    "    if (characters[j] == letters[i].from) \n",
    "    {\n",
    "      f = j;\n",
    "    }\n",
    "    if (characters[j] == letters[i].to) \n",
    "    {\n",
    "              t = j;\n",
    "    }\n",
    "  }\n",
    "  this.links.push({ sid: f, tid: t });\n",
    "}"
   ]
  },
  {
   "cell_type": "markdown",
   "id": "38e30cdc",
   "metadata": {},
   "source": [
    "Run your app from the terminal (npm run serve) and enjoy the visualization!\n",
    "\n",
    "## Self study\n",
    "\n",
    "Here are some articles to read about deceptive data visualization:\n",
    "\n",
    "* [How to Lie With Data Visualization](https://gizmodo.com/how-to-lie-with-data-visualization-1563576606)\n",
    "\n",
    "* [Visual Lies: Usability in Deceptive Data Visualizations](http://ixd.prattsi.org/2017/12/visual-lies-usability-in-deceptive-data-visualizations/)\n",
    "\n",
    "Take a look at these interest visualizations for historical assets and artifacts:\n",
    "\n",
    "* [Visualizing Objects, Places, and Spaces: A Digital Project Handbook](https://handbook.pubpub.org/)\n",
    "\n",
    "Look through this article on how animation can enhance your visualizations:\n",
    "\n",
    "* [Use Animation to Supercharge Data Visualization](https://medium.com/@EvanSinar/use-animation-to-supercharge-data-visualization-cd905a882ad4)\n",
    "\n",
    "## Your turn! 🚀\n",
    "\n",
    "Take a tour of the internet to discover deceptive visualizations. How does the author fool the user, and is it intentional? Try correcting the visualizations to show how they should look.\n",
    "\n",
    "Assignment - \n",
    "- [Build your own custom visualization](https://static-1300131294.cos.ap-shanghai.myqcloud.com/assignments/data-science/build-your-own-custom-vis.md)\n",
    "- [Matplotlib applied](https://static-1300131294.cos.ap-shanghai.myqcloud.com/assignments/data-science/matplotlib-applied.ipynb)\n",
    "\n",
    "## Acknowledgments\n",
    "\n",
    "Thanks to Microsoft for creating the open-source course [Data Science for Beginners](https://github.com/microsoft/Data-Science-For-Beginners). It inspires the majority of the content in this chapter."
   ]
  }
 ],
 "metadata": {
  "kernelspec": {
   "display_name": "Python 3 (ipykernel)",
   "language": "python",
   "name": "python3"
  },
  "language_info": {
   "codemirror_mode": {
    "name": "ipython",
    "version": 3
   },
   "file_extension": ".py",
   "mimetype": "text/x-python",
   "name": "python",
   "nbconvert_exporter": "python",
   "pygments_lexer": "ipython3",
   "version": "3.9.13"
  }
 },
 "nbformat": 4,
 "nbformat_minor": 5
}
