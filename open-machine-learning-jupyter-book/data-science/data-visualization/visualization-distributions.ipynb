{
 "cells": [
  {
   "cell_type": "code",
   "execution_count": null,
   "id": "994a515b-161c-4c96-88d7-307dc8d05f4d",
   "metadata": {
    "tags": [
     "hide-cell"
    ]
   },
   "outputs": [],
   "source": [
    "# Install the necessary dependencies\n",
    "\n",
    "import os\n",
    "import sys\n",
    "!{sys.executable} -m pip install --quiet pandas scikit-learn numpy matplotlib jupyterlab_myst ipython birds"
   ]
  },
  {
   "cell_type": "markdown",
   "id": "00a3829e",
   "metadata": {
    "tags": [
     "remove-cell"
    ]
   },
   "source": [
    "---\n",
    "license:\n",
    "    code: MIT\n",
    "    content: CC-BY-4.0\n",
    "github: https://github.com/ocademy-ai/machine-learning\n",
    "venue: By Ocademy\n",
    "open_access: true\n",
    "bibliography:\n",
    "  - https://raw.githubusercontent.com/ocademy-ai/machine-learning/main/open-machine-learning-jupyter-book/references.bib\n",
    "---"
   ]
  },
  {
   "cell_type": "markdown",
   "id": "11821a59",
   "metadata": {},
   "source": [
    "# Visualizing distributions\n",
    "\n",
    "In the previous section, you learned some interesting facts about a dataset about the birds of Minnesota. You found some erroneous data by visualizing outliers and looked at the differences between bird categories by their maximum length.\n",
    "\n",
    "## Explore the birds dataset\n",
    "\n",
    "Another way to dig into data is by looking at its distribution, or how the data is organized along an axis. Perhaps, for example, you'd like to learn about the general distribution, for this dataset, of the maximum wingspan or maximum body mass for the birds of Minnesota. \n",
    "\n",
    "Let's discover some facts about the distributions of data in this dataset."
   ]
  },
  {
   "cell_type": "code",
   "execution_count": null,
   "id": "54f5b4ef",
   "metadata": {
    "attributes": {
     "classes": [
      "code-cell"
     ],
     "id": ""
    },
    "tags": [
     "output_scroll",
     "hide-input"
    ]
   },
   "outputs": [],
   "source": [
    "\n",
    "import pandas as pd\n",
    "import matplotlib.pyplot as plt\n",
    "birds = pd.read_csv('https://static-1300131294.cos.ap-shanghai.myqcloud.com/data/birds.csv')\n",
    "birds.head()"
   ]
  },
  {
   "cell_type": "markdown",
   "id": "f436929c",
   "metadata": {},
   "source": [
    "In general, you can quickly look at the way data is distributed by using a scatter plot as we did in the previous section:"
   ]
  },
  {
   "cell_type": "code",
   "execution_count": null,
   "id": "d6676798",
   "metadata": {
    "attributes": {
     "classes": [
      "code-cell"
     ],
     "id": ""
    },
    "tags": [
     "output_scroll",
     "hide-input"
    ]
   },
   "outputs": [],
   "source": [
    "birds.plot(kind='scatter', x='MaxLength', y='Order', figsize=(12, 8))\n",
    "\n",
    "plt.title('Max Length per Order')\n",
    "plt.ylabel('Order')\n",
    "plt.xlabel('Max Length')\n",
    "\n",
    "plt.show()"
   ]
  },
  {
   "cell_type": "markdown",
   "id": "88d7be82",
   "metadata": {},
   "source": [
    "This gives an overview of the general distribution of body length per bird Order, but it is not the optimal way to display true distributions. That task is usually handled by creating a Histogram.\n",
    "\n",
    "## Working with histograms\n",
    "\n",
    "Matplotlib offers very good ways to visualize data distribution using Histograms. This type of chart is like a bar chart where the distribution can be seen via a rise and fall of the bars. To build a histogram, you need numeric data. To build a Histogram, you can plot a chart defining the kind as 'hist' for Histogram. This chart shows the distribution of MaxBodyMass for the entire dataset's range of numeric data. By dividing the array of data it is given into smaller bins, it can display the distribution of the data's values:"
   ]
  },
  {
   "cell_type": "code",
   "execution_count": null,
   "id": "d9aff5f1",
   "metadata": {
    "attributes": {
     "classes": [
      "code-cell"
     ],
     "id": ""
    },
    "tags": [
     "output_scroll",
     "hide-input"
    ]
   },
   "outputs": [],
   "source": [
    "birds['MaxBodyMass'].plot(kind='hist', bins=10, figsize=(12, 12))\n",
    "plt.show()"
   ]
  },
  {
   "cell_type": "markdown",
   "id": "2a16ac5b",
   "metadata": {},
   "source": [
    "As you can see, most of the 400+ birds in this dataset fall in the range of under 2000 for their Max Body Mass. Gain more insight into the data by changing  the `bins` parameter to a higher number, something like 30:"
   ]
  },
  {
   "cell_type": "code",
   "execution_count": null,
   "id": "6665b3c9",
   "metadata": {
    "attributes": {
     "classes": [
      "code-cell"
     ],
     "id": ""
    },
    "tags": [
     "output_scroll",
     "hide-input"
    ]
   },
   "outputs": [],
   "source": [
    "birds['MaxBodyMass'].plot(kind='hist', bins=30, figsize=(12, 12))\n",
    "plt.show()"
   ]
  },
  {
   "cell_type": "markdown",
   "id": "1331c268",
   "metadata": {},
   "source": [
    "This chart shows the distribution in a bit more granular fashion. A chart less skewed to the left could be created by ensuring that you only select data within a given range:\n",
    "\n",
    "Filter your data to get only those birds whose body mass is under 60, and show 40 `bins`:"
   ]
  },
  {
   "cell_type": "code",
   "execution_count": null,
   "id": "cbb5c5da",
   "metadata": {
    "attributes": {
     "classes": [
      "code-cell"
     ],
     "id": ""
    },
    "tags": [
     "output_scroll",
     "hide-input"
    ]
   },
   "outputs": [],
   "source": [
    "filteredBirds = birds[(birds['MaxBodyMass'] > 1) & (birds['MaxBodyMass'] < 60)]      \n",
    "filteredBirds['MaxBodyMass'].plot(kind='hist', bins=40, figsize=(12, 12))\n",
    "plt.show()     "
   ]
  },
  {
   "cell_type": "markdown",
   "id": "ee1a8940-5cc6-48cb-a029-d6f2b67b7daf",
   "metadata": {
    "attributes": {
     "classes": [
      "note"
     ],
     "id": ""
    }
   },
   "source": [
    "Try some other filters and data points. To see the full distribution of the data, remove the `['MaxBodyMass']` filter to show labeled distributions."
   ]
  },
  {
   "cell_type": "markdown",
   "id": "0c5442d1",
   "metadata": {},
   "source": [
    "The histogram offers some nice color and labeling enhancements to try as well:\n",
    "\n",
    "Create a 2D histogram to compare the relationship between two distributions. Let's compare `MaxBodyMass` vs. `MaxLength`. Matplotlib offers a built-in way to show convergence using brighter colors:"
   ]
  },
  {
   "cell_type": "code",
   "execution_count": null,
   "id": "b1ade936",
   "metadata": {
    "attributes": {
     "classes": [
      "code-cell"
     ],
     "id": ""
    },
    "tags": [
     "output_scroll",
     "hide-input"
    ]
   },
   "outputs": [],
   "source": [
    "x = filteredBirds['MaxBodyMass']\n",
    "y = filteredBirds['MaxLength']\n",
    "\n",
    "fig, ax = plt.subplots(tight_layout=True)\n",
    "hist = ax.hist2d(x, y)"
   ]
  },
  {
   "cell_type": "markdown",
   "id": "ad5e28b5",
   "metadata": {},
   "source": [
    "There appears to be an expected correlation between these two elements along an expected axis, with one particularly strong point of convergence:\n",
    "\n",
    "Histograms work well by default for numeric data. What if you need to see distributions according to text data?\n",
    "\n",
    "## Explore the dataset for distributions using text data \n",
    "\n",
    "This dataset also includes good information about the bird category and its genus, species, and family as well as its conservation status. Let's dig into this conservation information. What is the distribution of the birds according to their conservation status?"
   ]
  },
  {
   "cell_type": "markdown",
   "id": "4672db74-c31d-402b-abbf-6a17a39ebfe6",
   "metadata": {
    "attributes": {
     "classes": [
      "note"
     ],
     "id": ""
    },
    "tags": [
     "output_scroll"
    ]
   },
   "source": [
    "In the dataset, several acronyms are used to describe conservation status. These acronyms come from the [IUCN Red List Categories](https://www.iucnredlist.org/), an organization that catalogs species' status.\n",
    "> \n",
    "> - CR: Critically Endangered\n",
    "> - EN: Endangered\n",
    "> - EX: Extinct\n",
    "> - LC: Least Concern\n",
    "> - NT: Near Threatened\n",
    "> - VU: Vulnerable"
   ]
  },
  {
   "cell_type": "markdown",
   "id": "222d061f",
   "metadata": {},
   "source": [
    "These are text-based values so you will need to do a transform to create a histogram. Using the filteredBirds dataframe, display its conservation status alongside its Minimum Wingspan. What do you see?"
   ]
  },
  {
   "cell_type": "code",
   "execution_count": null,
   "id": "f4ead484",
   "metadata": {
    "attributes": {
     "classes": [
      "code-cell"
     ],
     "id": ""
    },
    "tags": [
     "output_scroll",
     "hide-input"
    ]
   },
   "outputs": [],
   "source": [
    "x1 = filteredBirds.loc[filteredBirds.ConservationStatus=='EX', 'MinWingspan']\n",
    "x2 = filteredBirds.loc[filteredBirds.ConservationStatus=='CR', 'MinWingspan']\n",
    "x3 = filteredBirds.loc[filteredBirds.ConservationStatus=='EN', 'MinWingspan']\n",
    "x4 = filteredBirds.loc[filteredBirds.ConservationStatus=='NT', 'MinWingspan']\n",
    "x5 = filteredBirds.loc[filteredBirds.ConservationStatus=='VU', 'MinWingspan']\n",
    "x6 = filteredBirds.loc[filteredBirds.ConservationStatus=='LC', 'MinWingspan']\n",
    "\n",
    "kwargs = dict(alpha=0.5, bins=20)\n",
    "\n",
    "plt.hist(x1, **kwargs, color='red', label='Extinct')\n",
    "plt.hist(x2, **kwargs, color='orange', label='Critically Endangered')\n",
    "plt.hist(x3, **kwargs, color='yellow', label='Endangered')\n",
    "plt.hist(x4, **kwargs, color='green', label='Near Threatened')\n",
    "plt.hist(x5, **kwargs, color='blue', label='Vulnerable')\n",
    "plt.hist(x6, **kwargs, color='gray', label='Least Concern')\n",
    "\n",
    "plt.gca().set(title='Conservation Status', ylabel='Min Wingspan')\n",
    "plt.legend();"
   ]
  },
  {
   "cell_type": "markdown",
   "id": "1c0eb9e2",
   "metadata": {},
   "source": [
    "There doesn't seem to be a good correlation between minimum wingspan and conservation status. Test other elements of the dataset using this method. You can try different filters as well. Do you find any correlation?\n",
    "\n",
    "## Density plots\n",
    "\n",
    "You may have noticed that the histograms we have looked at so far are 'stepped' and do not flow smoothly in an arc. To show a smoother density chart, you can try a density plot.\n",
    "\n",
    "To work with density plots, familiarize yourself with a new plotting library, [Seaborn](https://seaborn.pydata.org/generated/seaborn.kdeplot.html). \n",
    "\n",
    "Loading Seaborn, try a basic density plot:"
   ]
  },
  {
   "cell_type": "code",
   "execution_count": null,
   "id": "46cc4d6f",
   "metadata": {
    "attributes": {
     "classes": [
      "code-cell"
     ],
     "id": ""
    },
    "tags": [
     "output_scroll",
     "hide-input"
    ]
   },
   "outputs": [],
   "source": [
    "import seaborn as sns\n",
    "import matplotlib.pyplot as plt\n",
    "sns.kdeplot(filteredBirds['MinWingspan'])\n",
    "plt.show()"
   ]
  },
  {
   "cell_type": "markdown",
   "id": "6f47336b",
   "metadata": {},
   "source": [
    "You can see how the plot echoes the previous one for Minimum Wingspan data; it's just a bit smoother. According to Seaborn's documentation, \"Relative to a histogram, KDE can produce a plot that is less cluttered and more interpretable, especially when drawing multiple distributions. But it has the potential to introduce distortions if the underlying distribution is bounded or not smooth. Like a histogram, the quality of the representation also depends on the selection of good smoothing parameters.\" [source](https://seaborn.pydata.org/generated/seaborn.kdeplot.html) In other words, outliers as always will make your charts behave badly.\n",
    "\n",
    "If you wanted to revisit that jagged MaxBodyMass line in the second chart you built, you could smooth it out very well by recreating it using this method:"
   ]
  },
  {
   "cell_type": "code",
   "execution_count": null,
   "id": "605f1aac",
   "metadata": {
    "attributes": {
     "classes": [
      "code-cell"
     ],
     "id": ""
    },
    "tags": [
     "output_scroll",
     "hide-input"
    ]
   },
   "outputs": [],
   "source": [
    "sns.kdeplot(filteredBirds['MaxBodyMass'])\n",
    "plt.show()"
   ]
  },
  {
   "cell_type": "markdown",
   "id": "3d3f0f6e",
   "metadata": {},
   "source": [
    "If you wanted a smooth, but not too smooth line, edit the `bw_adjust` parameter:"
   ]
  },
  {
   "cell_type": "code",
   "execution_count": null,
   "id": "f4fbbac6",
   "metadata": {
    "attributes": {
     "classes": [
      "code-cell"
     ],
     "id": ""
    },
    "tags": [
     "output_scroll",
     "hide-input"
    ]
   },
   "outputs": [],
   "source": [
    "sns.kdeplot(filteredBirds['MaxBodyMass'], bw_adjust=.2)\n",
    "plt.show()"
   ]
  },
  {
   "cell_type": "markdown",
   "id": "f318cf3e-e111-43c7-aab6-2d404d6d6359",
   "metadata": {
    "attributes": {
     "classes": [
      "seealso"
     ],
     "id": ""
    },
    "tags": [
     "output_scroll"
    ]
   },
   "source": [
    "Read about the parameters available for this type of plot and experiment!"
   ]
  },
  {
   "cell_type": "markdown",
   "id": "f6e8c7a9",
   "metadata": {},
   "source": [
    "This type of chart offers beautifully explanatory visualizations. With a few lines of code, for example, you can show the max body mass density per bird Order:"
   ]
  },
  {
   "cell_type": "code",
   "execution_count": null,
   "id": "121d1da2",
   "metadata": {
    "attributes": {
     "classes": [
      "code-cell"
     ],
     "id": ""
    },
    "tags": [
     "output_scroll",
     "hide-input"
    ]
   },
   "outputs": [],
   "source": [
    "sns.kdeplot(\n",
    "   data=filteredBirds, x=\"MaxBodyMass\", hue=\"Order\",\n",
    "   fill=True, common_norm=False, palette=\"crest\",\n",
    "   alpha=.5, linewidth=0,\n",
    ")"
   ]
  },
  {
   "cell_type": "markdown",
   "id": "f549f523",
   "metadata": {},
   "source": [
    "You can also map the density of several variables in one chart. Text the MaxLength and MinLength of a bird compared to their conservation status:"
   ]
  },
  {
   "cell_type": "code",
   "execution_count": null,
   "id": "14531a07",
   "metadata": {
    "attributes": {
     "classes": [
      "code-cell"
     ],
     "id": ""
    },
    "tags": [
     "output_scroll",
     "hide-input"
    ]
   },
   "outputs": [],
   "source": [
    "sns.kdeplot(data=filteredBirds, x=\"MinLength\", y=\"MaxLength\", hue=\"ConservationStatus\")"
   ]
  },
  {
   "cell_type": "markdown",
   "id": "98796ace",
   "metadata": {
    "tags": [
     "output_scroll"
    ]
   },
   "source": [
    "Perhaps it's worth researching whether the cluster of 'Vulnerable' birds according to their lengths is meaningful or not.\n",
    "\n",
    "## Self study\n",
    "\n",
    "In this section, you used Matplotlib and started working with Seaborn to show more sophisticated charts. Do some research on `kdeplot` in Seaborn, a \"continuous probability density curve in one or more dimensions\". Read through [the documentation](https://seaborn.pydata.org/generated/seaborn.kdeplot.html) to understand how it works.\n",
    "\n",
    "## Your turn! 🚀\n",
    "\n",
    "Histograms are a more sophisticated type of chart than basic scatterplots, bar charts, or line charts. Go on a search on the internet to find good examples of the use of histograms. How are they used, what do they demonstrate, and in what fields or areas of inquiry do they tend to be used?\n",
    "\n",
    "Assignment - [Apply your skills](https://static-1300131294.cos.ap-shanghai.myqcloud.com/assignments/data-science/apply-your-skills.md)\n",
    "\n",
    "## Acknowledgments\n",
    "\n",
    "Thanks to Microsoft for creating the open-source course [Data Science for Beginners](https://github.com/microsoft/Data-Science-For-Beginners). It inspires the majority of the content in this chapter."
   ]
  }
 ],
 "metadata": {
  "kernelspec": {
   "display_name": "Python 3 (ipykernel)",
   "language": "python",
   "name": "python3"
  },
  "language_info": {
   "codemirror_mode": {
    "name": "ipython",
    "version": 3
   },
   "file_extension": ".py",
   "mimetype": "text/x-python",
   "name": "python",
   "nbconvert_exporter": "python",
   "pygments_lexer": "ipython3",
   "version": "3.9.13"
  }
 },
 "nbformat": 4,
 "nbformat_minor": 5
}
