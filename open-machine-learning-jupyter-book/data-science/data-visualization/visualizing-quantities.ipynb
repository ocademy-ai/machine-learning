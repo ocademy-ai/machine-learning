{
 "cells": [
  {
   "cell_type": "code",
   "execution_count": null,
   "id": "3e20e539-4e40-44d1-b7d1-04df1140769d",
   "metadata": {
    "tags": [
     "hide-cell"
    ]
   },
   "outputs": [],
   "source": [
    "# Install the necessary dependencies\n",
    "\n",
    "import os\n",
    "import sys\n",
    "!{sys.executable} -m pip install --quiet pandas scikit-learn numpy matplotlib jupyterlab_myst ipython"
   ]
  },
  {
   "cell_type": "markdown",
   "id": "45614e8e",
   "metadata": {
    "tags": [
     "remove-cell"
    ]
   },
   "source": [
    "---\n",
    "license:\n",
    "    code: MIT\n",
    "    content: CC-BY-4.0\n",
    "github: https://github.com/ocademy-ai/machine-learning\n",
    "venue: By Ocademy\n",
    "open_access: true\n",
    "bibliography:\n",
    "  - https://raw.githubusercontent.com/ocademy-ai/machine-learning/main/open-machine-learning-jupyter-book/references.bib\n",
    "---"
   ]
  },
  {
   "cell_type": "markdown",
   "id": "edd19dc3",
   "metadata": {},
   "source": [
    "# Visualizing quantities\n",
    "\n",
    "In this section, you will explore how to use one of the many available Python libraries to learn how to create interesting visualizations all around the concept of quantity. Using a cleaned dataset about the birds of Minnesota, you can learn many interesting facts about local wildlife.\n",
    "\n",
    "## Observe wingspan with matplotlib\n",
    "\n",
    "An excellent library to create both simple and sophisticated plots and charts of various kinds is [Matplotlib](https://matplotlib.org/stable/index.html). In general terms, the process of plotting data using these libraries includes identifying the parts of your dataframe that you want to target, performing any transforms on that data necessary, assigning its x and y axis values, deciding what kind of plot to show, and then showing the plot. Matplotlib offers a large variety of visualizations, but for this section, let's focus on the ones most appropriate for visualizing quantity: line charts, scatterplots, and bar plots."
   ]
  },
  {
   "cell_type": "markdown",
   "id": "85d814fb-5bd8-484f-ace6-c3f01bbff58a",
   "metadata": {
    "attributes": {
     "classes": [
      "note"
     ],
     "id": ""
    },
    "tags": []
   },
   "source": [
    "```{note}\n",
    "Use the best chart to suit your data's structure and the story you want to tell.\n",
    "- To analyze trends over time: line\n",
    "- To compare values: bar, column, pie, scatterplot\n",
    "- To show how parts relate to a whole: pie\n",
    "- To show distribution of data: scatterplot, bar\n",
    "- To show trends: line, column\n",
    "- To show relationships between values: line, scatterplot, bubble\n",
    "```"
   ]
  },
  {
   "cell_type": "markdown",
   "id": "492a87e4",
   "metadata": {},
   "source": [
    "If you have a dataset and need to discover how much of a given item is included, one of the first tasks you have at hand will be to inspect its values."
   ]
  },
  {
   "cell_type": "markdown",
   "id": "5e69c419-292b-4c5e-8890-d111ced777ca",
   "metadata": {
    "attributes": {
     "classes": [
      "seealso"
     ],
     "id": ""
    },
    "tags": []
   },
   "source": [
    "```{seealso}\n",
    "There are very good 'cheat sheets' available for Matplotlib [here](https://matplotlib.org/cheatsheets/cheatsheets.pdf).\n",
    "```"
   ]
  },
  {
   "cell_type": "markdown",
   "id": "c00955a8",
   "metadata": {},
   "source": [
    "## Build a line plot about bird wingspan values"
   ]
  },
  {
   "cell_type": "code",
   "execution_count": null,
   "id": "8894fd94",
   "metadata": {
    "attributes": {
     "classes": [
      "code-cell"
     ],
     "id": ""
    },
    "scrolled": true,
    "tags": []
   },
   "outputs": [],
   "source": [
    "import pandas as pd\n",
    "import matplotlib.pyplot as plt\n",
    "\n",
    "birds = pd.read_csv('https://static-1300131294.cos.accelerate.myqcloud.com/data/birds.csv')\n",
    "birds.head()"
   ]
  },
  {
   "cell_type": "markdown",
   "id": "2fb48269",
   "metadata": {},
   "source": [
    "This data is a mix of text and numbers. Let's start by plotting some of the numeric data using a basic line plot. Suppose you wanted a view of the maximum wingspan for these interesting birds."
   ]
  },
  {
   "cell_type": "code",
   "execution_count": null,
   "id": "2d4a96bd",
   "metadata": {
    "attributes": {
     "classes": [
      "code-cell"
     ],
     "id": ""
    },
    "tags": [
     "hide-input",
     "output-scoll"
    ]
   },
   "outputs": [],
   "source": [
    "wingspan = birds['MaxWingspan'] \n",
    "wingspan.plot()"
   ]
  },
  {
   "cell_type": "markdown",
   "id": "35b93ece",
   "metadata": {},
   "source": [
    "What do you notice immediately? There seems to be at least one outlier - that's quite a wingspan! A 2300-centimeter wingspan equals 23 meters - are there Pterodactyls roaming Minnesota? Let's investigate.\n",
    "\n",
    "While you could do a quick sort in Excel to find those outliers, which are probably typos, continue the visualization process by working from within the plot.\n",
    "\n",
    "Add labels to the x-axis to show what kind of birds are in question:"
   ]
  },
  {
   "cell_type": "code",
   "execution_count": null,
   "id": "19ebe543",
   "metadata": {
    "attributes": {
     "classes": [
      "code-cell"
     ],
     "id": ""
    },
    "tags": [
     "hide-input",
     "output-scoll"
    ]
   },
   "outputs": [],
   "source": [
    "plt.title('Max Wingspan in Centimeters')\n",
    "plt.ylabel('Wingspan (CM)')\n",
    "plt.xlabel('Birds')\n",
    "plt.xticks(rotation=45)\n",
    "x = birds['Name'] \n",
    "y = birds['MaxWingspan']\n",
    "\n",
    "plt.plot(x, y)\n",
    "\n",
    "plt.show()"
   ]
  },
  {
   "cell_type": "markdown",
   "id": "4a2c92f5",
   "metadata": {},
   "source": [
    "Even with the rotation of the labels set to 45 degrees, there are too many to read. Let's try a different strategy: label only those outliers and set the labels within the chart. You can use a scatter chart to make more room for the labeling:"
   ]
  },
  {
   "cell_type": "code",
   "execution_count": null,
   "id": "d2685936",
   "metadata": {
    "attributes": {
     "classes": [
      "code-cell"
     ],
     "id": ""
    },
    "tags": [
     "hide-input",
     "output-scoll"
    ]
   },
   "outputs": [],
   "source": [
    "plt.title('Max Wingspan in Centimeters')\n",
    "plt.ylabel('Wingspan (CM)')\n",
    "plt.tick_params(axis='both',which='both',labelbottom=False,bottom=False)\n",
    "\n",
    "for i in range(len(birds)):\n",
    "    x = birds['Name'][i]\n",
    "    y = birds['MaxWingspan'][i]\n",
    "    plt.plot(x, y, 'bo')\n",
    "    if birds['MaxWingspan'][i] > 500:\n",
    "        plt.text(x, y * (1 - 0.05), birds['Name'][i], fontsize=12)\n",
    "    \n",
    "plt.show()"
   ]
  },
  {
   "cell_type": "markdown",
   "id": "84ab9d8c",
   "metadata": {},
   "source": [
    "What's going on here? You used `tick_params` to hide the bottom labels and then created a loop over your birds dataset. Plotting the chart with small round blue dots by using `bo`, you checked for any bird with a maximum wingspan over 500 and displayed their label next to the dot if so. You offset the labels a little on the y axis (`y * (1 - 0.05)`) and used the bird name as a label.\n",
    "\n",
    "What did you discover?\n",
    "\n",
    "## Filter your data\n",
    "\n",
    "Both the Bald Eagle and the Prairie Falcon, while probably very large birds, appear to be mislabeled, with an extra `0` added to their maximum wingspan. It's unlikely that you'll meet a Bald Eagle with a 25-meter wingspan, but if so, please let us know! Let's create a new dataframe without those two outliers:"
   ]
  },
  {
   "cell_type": "code",
   "execution_count": null,
   "id": "32b3be6d",
   "metadata": {
    "attributes": {
     "classes": [
      "code-cell"
     ],
     "id": ""
    },
    "tags": [
     "hide-input",
     "output-scoll"
    ]
   },
   "outputs": [],
   "source": [
    "plt.title('Max Wingspan in Centimeters')\n",
    "plt.ylabel('Wingspan (CM)')\n",
    "plt.xlabel('Birds')\n",
    "plt.tick_params(axis='both',which='both',labelbottom=False,bottom=False)\n",
    "for i in range(len(birds)):\n",
    "    x = birds['Name'][i]\n",
    "    y = birds['MaxWingspan'][i]\n",
    "    if birds['Name'][i] not in ['Bald eagle', 'Prairie falcon']:\n",
    "        plt.plot(x, y, 'bo')\n",
    "plt.show()"
   ]
  },
  {
   "cell_type": "markdown",
   "id": "59faefdf",
   "metadata": {},
   "source": [
    "By filtering out outliers, your data is now more cohesive and understandable.\n",
    "\n",
    "Now that we have a cleaner dataset at least in terms of wingspan, let's discover more about these birds.\n",
    "\n",
    "While line and scatter plots can display information about data values and their distributions, we want to think about the values inherent in this dataset. You could create visualizations to answer the following questions about quantity:\n",
    "\n",
    "> How many categories of birds are there, and what are their numbers?\n",
    "> How many birds are extinct, endangered, rare, or common?\n",
    "> How many are there of the various genus and orders in Linnaeus's terminology?\n",
    "\n",
    "## Explore bar charts\n",
    "\n",
    "Bar charts are practical when you need to show groupings of data. Let's explore the categories of birds that exist in this dataset to see which is the most common by number.\n",
    "\n",
    "In the notebook file, create a basic bar chart"
   ]
  },
  {
   "cell_type": "markdown",
   "id": "8b8f69ac-09d1-446a-8c38-e81df7baddc5",
   "metadata": {
    "attributes": {
     "classes": [
      "note"
     ],
     "id": ""
    },
    "tags": []
   },
   "source": [
    "```{note}\n",
    "You can either filter out the two outlier birds we identified in the previous section, edit the typo in their wingspan, or leave them in for these exercises which do not depend on wingspan values.\n",
    "```"
   ]
  },
  {
   "cell_type": "markdown",
   "id": "ac9012a1",
   "metadata": {},
   "source": [
    "If you want to create a bar chart, you can select the data you want to focus on. Bar charts can be created from raw data:"
   ]
  },
  {
   "cell_type": "code",
   "execution_count": null,
   "id": "09c6be11",
   "metadata": {
    "attributes": {
     "classes": [
      "code-cell"
     ],
     "id": ""
    },
    "tags": [
     "hide-input",
     "output-scoll"
    ]
   },
   "outputs": [],
   "source": [
    "birds.plot(\n",
    "    x='Category',\n",
    "    kind='bar',\n",
    "    stacked=True,\n",
    "    title='Birds of Minnesota'\n",
    ")\n"
   ]
  },
  {
   "cell_type": "markdown",
   "id": "f40da3b0",
   "metadata": {},
   "source": [
    "This bar chart, however, is unreadable because there is too much non-grouped data. You need to select only the data that you want to plot, so let's look at the length of birds based on their category.\n",
    "\n",
    "Filter your data to include only the bird's category."
   ]
  },
  {
   "cell_type": "markdown",
   "id": "6b52a017-a82a-4a29-96f4-d218f496c8fc",
   "metadata": {
    "attributes": {
     "classes": [
      "note"
     ],
     "id": ""
    },
    "tags": []
   },
   "source": [
    ":::{note}\n",
    "Notice that you use Pandas to manage the data, and then let Matplotlib do the charting.\n",
    "：：："
   ]
  },
  {
   "cell_type": "markdown",
   "id": "9cddd8e0",
   "metadata": {},
   "source": [
    "Since there are many categories, you can display this chart vertically and tweak its height to account for all the data:"
   ]
  },
  {
   "cell_type": "code",
   "execution_count": null,
   "id": "3584ba13",
   "metadata": {
    "attributes": {
     "classes": [
      "code-cell"
     ],
     "id": ""
    },
    "tags": [
     "hide-input",
     "output-scoll"
    ]
   },
   "outputs": [],
   "source": [
    "category_count = birds.value_counts(birds['Category'].values, sort=True)\n",
    "plt.rcParams['figure.figsize'] = [6, 12]\n",
    "category_count.plot.barh()"
   ]
  },
  {
   "cell_type": "markdown",
   "id": "f60c8a9d",
   "metadata": {},
   "source": [
    "This bar chart shows a good view of the number of birds in each category. In a blink of an eye, you see that the largest number of birds in this region are in the Ducks/Geese/Waterfowl category. Minnesota is the 'land of 10,000 lakes' so this isn't surprising!"
   ]
  },
  {
   "cell_type": "markdown",
   "id": "b8b92120-d751-4d4d-b0b0-ab00eb478603",
   "metadata": {
    "attributes": {
     "classes": [
      "seealso"
     ],
     "id": ""
    },
    "tags": []
   },
   "source": [
    "```{seealso}\n",
    "Try some other counts on this dataset. Does anything surprise you?\n",
    "```"
   ]
  },
  {
   "cell_type": "markdown",
   "id": "88150931",
   "metadata": {},
   "source": [
    "## Comparing data\n",
    "\n",
    "You can try different comparisons of grouped data by creating new axes. Try a comparison of the MaxLength of a bird, based on its category:"
   ]
  },
  {
   "cell_type": "code",
   "execution_count": null,
   "id": "71624f1e",
   "metadata": {
    "attributes": {
     "classes": [
      "code-cell"
     ],
     "id": ""
    },
    "tags": [
     "hide-input",
     "output-scoll"
    ]
   },
   "outputs": [],
   "source": [
    "maxlength = birds['MaxLength']\n",
    "plt.barh(y=birds['Category'], width=maxlength)\n",
    "plt.rcParams['figure.figsize'] = [6, 12]\n",
    "plt.show()"
   ]
  },
  {
   "cell_type": "markdown",
   "id": "0d3cc108",
   "metadata": {},
   "source": [
    "Nothing is surprising here: hummingbirds have the least `MaxLength` compared to Pelicans or Geese. It's good when data makes logical sense!\n",
    "\n",
    "You can create more interesting visualizations of bar charts by superimposing data. Let's superimpose `Minimum` and Maximum Length on a given bird category:"
   ]
  },
  {
   "cell_type": "code",
   "execution_count": null,
   "id": "16d05db9",
   "metadata": {
    "attributes": {
     "classes": [
      "code-cell"
     ],
     "id": ""
    },
    "tags": [
     "hide-input",
     "output-scoll"
    ]
   },
   "outputs": [],
   "source": [
    "minLength = birds['MinLength']\n",
    "maxLength = birds['MaxLength']\n",
    "category = birds['Category']\n",
    "\n",
    "plt.barh(category, maxLength)\n",
    "plt.barh(category, minLength)\n",
    "\n",
    "plt.show()"
   ]
  },
  {
   "cell_type": "markdown",
   "id": "e0679a94",
   "metadata": {},
   "source": [
    "In this plot, you can see the range per bird category of the Minimum length and Maximum length. You can safely say that, given this data, the bigger the bird, the larger its length range. Fascinating!\n",
    "\n",
    "## Self study\n",
    "\n",
    "This first section has given you some information about how to use Matplotlib to visualize quantities. Do some research on other ways to work with datasets for visualization. [Plotly](https://github.com/plotly/plotly.py) is one that we won't cover in these sections, so take a look at what it can offer.\n",
    "\n",
    "## Your turn! 🚀\n",
    "\n",
    "This bird dataset offers a wealth of information about different types of birds within a particular ecosystem. Search around the internet and see if you can find other bird-oriented datasets. Practice building charts and graphs around these birds to discover facts you didn't realize.\n",
    "\n",
    "Assignment - [Lines scatters and bars](https://static-1300131294.cos.ap-shanghai.myqcloud.com/assignments/data-science/lines-scatters-and-bars.md)\n",
    "\n",
    "## Acknowledgments\n",
    "\n",
    "Thanks to Microsoft for creating the open-source course [Data Science for Beginners](https://github.com/microsoft/Data-Science-For-Beginners). It inspires the majority of the content in this chapter."
   ]
  }
 ],
 "metadata": {
  "kernelspec": {
   "display_name": "Python 3 (ipykernel)",
   "language": "python",
   "name": "python3"
  },
  "language_info": {
   "codemirror_mode": {
    "name": "ipython",
    "version": 3
   },
   "file_extension": ".py",
   "mimetype": "text/x-python",
   "name": "python",
   "nbconvert_exporter": "python",
   "pygments_lexer": "ipython3",
   "version": "3.11.5"
  }
 },
 "nbformat": 4,
 "nbformat_minor": 5
}
