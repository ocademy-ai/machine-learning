{
 "cells": [
  {
   "cell_type": "code",
   "execution_count": 1,
   "id": "b3953cf0-8228-4b81-b5d9-d3249228f011",
   "metadata": {
    "tags": [
     "hide-input"
    ]
   },
   "outputs": [],
   "source": [
    "# Install the necessary dependencies\n",
    "\n",
    "import os\n",
    "import sys\n",
    "!{sys.executable} -m pip install --quiet seaborn pandas scikit-learn numpy matplotlib jupyterlab_myst ipython"
   ]
  },
  {
   "cell_type": "markdown",
   "id": "4eb207a7",
   "metadata": {
    "tags": [
     "remove-cell"
    ]
   },
   "source": [
    "---\n",
    "license:\n",
    "    code: MIT\n",
    "    content: CC-BY-4.0\n",
    "github: https://github.com/ocademy-ai/machine-learning\n",
    "venue: By Ocademy\n",
    "open_access: true\n",
    "bibliography:\n",
    "  - https://raw.githubusercontent.com/ocademy-ai/machine-learning/main/open-machine-learning-jupyter-book/references.bib\n",
    "---"
   ]
  },
  {
   "cell_type": "markdown",
   "id": "6eee391d",
   "metadata": {},
   "source": [
    "# Getting started with ensemble learning"
   ]
  },
  {
   "cell_type": "markdown",
   "id": "239f071d",
   "metadata": {},
   "source": [
    "In previous sections, we explored different classification algorithms as well as techniques that can be used to properly validate and evaluate the quality of your models.\n",
    "\n",
    "Now, suppose that we have chosen the best possible model for a particular problem and are struggling to further improve its accuracy. In this case, we would need to apply some more advanced machine learning techniques that are collectively referred to as *ensembles*.\n",
    "\n",
    "An *ensemble* is a set of elements that collectively contribute to a whole. A familiar example is a musical ensemble, which blends the sounds of several musical instruments to create harmony, or architectural ensembles, which are a set of buildings designed as a unit. In ensembles, the (whole) harmonious outcome is more important than the performance of any individual part."
   ]
  },
  {
   "cell_type": "markdown",
   "id": "2eff740a",
   "metadata": {},
   "source": [
    "***Ensembles***\n",
    "\n",
    "[Condorcet's jury theorem](https://en.wikipedia.org/wiki/Condorcet%27s_jury_theorem) (1784) is about an ensemble in some sense. It states that, if each member of the jury makes an independent judgment and the probability of the correct decision by each juror is more than 0.5, then the probability of the correct decision by the whole jury increases with the total number of jurors and tends to one. On the other hand, if the probability of being right is less than 0.5 for each juror, then the probability of the correct decision by the whole jury decreases with the number of jurors and tends to zero. \n",
    "\n",
    "Let's write an analytic expression for this theorem:\n",
    "\n",
    "- $\\large N$ is the total number of jurors;\n",
    "- $\\large m$ is a minimal number of jurors that would make a majority, that is $\\large m = floor(N/2) + 1$;\n",
    "- $\\large {N \\choose i}$ is the number of $\\large i$-combinations from a set with $\\large N$ elements.\n",
    "- $\\large p$ is the probability of the correct decision by a juror;\n",
    "- $\\large \\mu$ is the probability of the correct decision by the whole jury.\n",
    "\n",
    "Then:\n",
    "\n",
    "$$ \\large \\mu = \\sum_{i=m}^{N}{N\\choose i}p^i(1-p)^{N-i} $$\n",
    "\n",
    "It can be seen that if $\\large p > 0.5$, then $\\large \\mu > p$. In addition, if $\\large N \\rightarrow \\infty $, then $\\large \\mu \\rightarrow 1$.\n",
    "\n",
    "$~~~~~~~$... whenever we are faced with making a decision that has some important consequence, we often seek the opinions of different “experts” \n",
    "\n",
    "$~~~~~~$  to help us that decision ...\n",
    "\n",
    "\n",
    "$~~~~~~~~~~~~~~~~~~~~~~~~~~~~~~~~~~~~~~~~~~~~~~~~~~~~~~~~~~~~~~~~~~~~~~~~~~~~~~~~~~~~~~~~~~~~~~~~~~~~~~~~~~~~~~~~~~~~~~~~~~~~~~~~~~~~~~~~~~~~$ — Page 2, Ensemble Machine Learning, 2012.\n",
    "\n"
   ]
  },
  {
   "cell_type": "markdown",
   "id": "5ab68564",
   "metadata": {},
   "source": [
    "Let's look at another example of ensembles: an observation known as [Wisdom of the crowd](https://en.wikipedia.org/wiki/Wisdom_of_the_crowd). <img src=\"https://habrastorage.org/webt/zg/hw/b7/zghwb7oztkmv840odqkjpink1vw.png\" align=\"right\" width=15% height=15%> In 1906, [Francis Galton](https://en.wikipedia.org/wiki/Francis_Galton) visited a country fair in Plymouth where he saw a contest being held for farmers.   800 participants tried to estimate the weight of a slaughtered bull. The real weight of the bull was 1198 pounds. Although none of the farmers could guess the exact weight of the animal, the average of their predictions was 1197 pounds.\n",
    "\n",
    "\n",
    "A similar idea for error reduction was also adopted in the field of Ensemble Learning which is called voting."
   ]
  },
  {
   "cell_type": "markdown",
   "id": "065ec775",
   "metadata": {},
   "source": [
    "The video below will show you what is Ensemble Learning and introduce several methods of Ensemble Learning. "
   ]
  },
  {
   "cell_type": "code",
   "execution_count": 2,
   "id": "5a43332a",
   "metadata": {
    "attributes": {
     "classes": [
      "code-cell"
     ],
     "id": ""
    },
    "tags": [
     "hide-input"
    ]
   },
   "outputs": [
    {
     "data": {
      "text/html": [
       "\n",
       "<div class=\"yt-container\">\n",
       "   <iframe src=\"https://www.youtube.com/embed/r00tBoV1lHw?si=QaFvP7NJ6s3A_Dca\" allowfullscreen></iframe>\n",
       "</div>\n"
      ],
      "text/plain": [
       "<IPython.core.display.HTML object>"
      ]
     },
     "metadata": {},
     "output_type": "display_data"
    }
   ],
   "source": [
    "from IPython.display import HTML\n",
    "display(HTML(\"\"\"\n",
    "<div class=\"yt-container\">\n",
    "   <iframe src=\"https://www.youtube.com/embed/r00tBoV1lHw?si=QaFvP7NJ6s3A_Dca\" allowfullscreen></iframe>\n",
    "</div>\n",
    "\"\"\"))"
   ]
  },
  {
   "cell_type": "markdown",
   "id": "286ec2c0",
   "metadata": {},
   "source": [
    "***Intuition for classification ensembles***\n"
   ]
  },
  {
   "cell_type": "markdown",
   "id": "251f688c",
   "metadata": {},
   "source": [
    "A model that learns how to classify points in effect draws lines in the feature space to\n",
    "separate examples. We can sample points in the feature space in a grid and get a map of how\n",
    "the model thinks the feature space should be by each class label. The separation of examples in\n",
    "the feature space by the model is called the decision boundary and a plot of the grid or map of\n",
    "how the model classifies points in the feature space is called a decision boundary plot. Now\n",
    "consider an ensemble where each model has a different mapping of inputs to outputs. In effect,\n",
    "each model has a different decision boundary or different idea of how to split up in the feature\n",
    "space by class label. Each model will draw the lines differently and make different errors.\n",
    "When we combine the predictions from these multiple different models, we are in effect\n",
    "averaging the decision boundaries. We are defining a new decision boundary that attempts to\n",
    "learn from all the different views on the feature space learned by contributing members. "
   ]
  },
  {
   "cell_type": "markdown",
   "id": "ababe0fd",
   "metadata": {},
   "source": [
    ":::{figure} https://static-1300131294.cos.ap-shanghai.myqcloud.com/images/ml-advanced/ensemble-learning/getting-started-with-ensemble-learning/Example_of%20Combining_Decision_Boundaries_Using_an_Ensemble.png\n",
    "---\n",
    "name: ' Example of Combining Decision Boundaries Using an Ensemble'\n",
    "width: 90%\n",
    "---\n",
    "Example of Combining Decision Boundaries Using an Ensemble. Taken from\n",
    "Ensemble Machine Learning, 2012\n",
    ":::"
   ]
  },
  {
   "cell_type": "markdown",
   "id": "bb489924",
   "metadata": {},
   "source": [
    "We can see the contributing members along the top, each with different decision boundaries\n",
    "in the feature space. Then the bottom-left draws all of the decision boundaries on the same plot showing how they differ and make different errors. Finally, we can combine these boundaries to\n",
    "in-effect create a new generalized decision boundary in the bottom-right that better captures\n",
    "the true but unknown division of the feature space, resulting in better predictive performance.\n"
   ]
  },
  {
   "cell_type": "markdown",
   "id": "20481b8f",
   "metadata": {},
   "source": [
    "We have learned what ensemble learning is, and in the next chapter, we will learn some specific algorithms for ensemble learning"
   ]
  },
  {
   "cell_type": "markdown",
   "id": "32240923",
   "metadata": {},
   "source": [
    "## Acknowledgments\n",
    "\n",
    "Thanks to the book [Ensemble Machine Learning: Methods and Applications 2012th Edition](https://amzn.to/2C7syo5) by Cha Zhang (Editor), Yunqian Ma (Editor). They inspire the majority of the content in this chapter."
   ]
  }
 ],
 "metadata": {
  "kernelspec": {
   "display_name": "Python 3 (ipykernel)",
   "language": "python",
   "name": "python3"
  },
  "language_info": {
   "codemirror_mode": {
    "name": "ipython",
    "version": 3
   },
   "file_extension": ".py",
   "mimetype": "text/x-python",
   "name": "python",
   "nbconvert_exporter": "python",
   "pygments_lexer": "ipython3",
   "version": "3.9.19"
  }
 },
 "nbformat": 4,
 "nbformat_minor": 5
}
