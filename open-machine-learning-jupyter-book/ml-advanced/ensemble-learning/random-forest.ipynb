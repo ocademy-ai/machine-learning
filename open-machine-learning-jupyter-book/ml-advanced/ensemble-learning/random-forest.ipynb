{
 "cells": [
  {
   "cell_type": "markdown",
   "id": "9f0ec010-aed3-4af1-a963-200fc8b54955",
   "metadata": {
    "tags": [
     "hide-cell"
    ]
   },
   "source": [
    "---\n",
    "jupytext:\n",
    "  cell_metadata_filter: -all\n",
    "  formats: md:myst\n",
    "  text_representation:\n",
    "    extension: .md\n",
    "    format_name: myst\n",
    "    format_version: 0.13\n",
    "    jupytext_version: 1.11.5\n",
    "kernelspec:\n",
    "  display_name: Python 3\n",
    "  language: python\n",
    "  name: python3"
   ]
  },
  {
   "cell_type": "code",
   "execution_count": null,
   "id": "d700a42a-7611-4726-a3c2-6b788682dfab",
   "metadata": {
    "tags": [
     "hide-input"
    ]
   },
   "outputs": [],
   "source": [
    "# Install the necessary dependencies\n",
    "\n",
    "import os\n",
    "import sys\n",
    "!{sys.executable} -m pip install --quiet pandas scikit-learn numpy matplotlib jupyterlab_myst ipython"
   ]
  },
  {
   "cell_type": "markdown",
   "id": "6195d6f2",
   "metadata": {},
   "source": [
    "# Random forest\n",
    "\n",
    "[Leo Breiman](https://en.wikipedia.org/wiki/Leo_Breiman) managed to apply bootstrapping not only in statistics but also in machine learning. He, along with Adel Cutler, extended and improved the random forest algorithm [proposed by Tin Kam Ho](http://ect.bell-labs.com/who/tkh/publications/papers/odt.pdf). They combined the construction of uncorrelated trees using [CART](https://en.wikipedia.org/wiki/Predictive_analytics#Classification_and_regression_trees_.28CART.29), bagging, and the [random subspace method](https://en.wikipedia.org/wiki/Random_subspace_method).  \n",
    "\n",
    "Decision trees are a good choice for the base classifier in bagging because they are quite sophisticated and can achieve zero classification error on any sample. The random subspace method reduces the correlation between the trees and thus prevents overfitting. With bagging, the base algorithms are trained on different random subsets of the original feature set.\n",
    "\n",
    "The following algorithm constructs an ensemble of models using the random subspace method:\n",
    "\n",
    "1. Let the number of instances be equal to $\\large \\ell$, and the number of features be equal to $\\large d$.\n",
    "2. Choose $\\large L$ as the number of individual models in the ensemble. \n",
    "3. For each model $\\large l$, choose the number of features $\\large dl < d$. As a rule, the same value of $\\large dl$ is used for all the models.\n",
    "4. For each model $\\large l$, create a training set by selecting $\\large dl$ features at random from the whole set of $\\large d$ features.\n",
    "5. Train each model.\n",
    "6. Apply the resulting ensemble model to a new instance by combining the results from all the models in $\\large L$. You can use either majority voting or aggregation of the posterior probabilities."
   ]
  },
  {
   "cell_type": "code",
   "execution_count": null,
   "id": "b11a863f",
   "metadata": {
    "attributes": {
     "classes": [
      "code-cell"
     ],
     "id": ""
    }
   },
   "outputs": [],
   "source": [
    "from IPython.display import HTML\n",
    "display(HTML(\"\"\"\n",
    "<p style=\"text-align: center;\">\n",
    "<iframe src=\"../../html/random-forest/index.html\" width=\"105%\" height=\"700px;\" style=\"border:none;\" scrolling=\"yes\"></iframe>\n",
    "A demo of Decision Tree. <a href=\"https://mlu-explain.github.io/random-forest/\">[source]</a>\n",
    "</p>\n",
    "\"\"\"))"
   ]
  },
  {
   "cell_type": "code",
   "execution_count": null,
   "id": "9f917522",
   "metadata": {
    "attributes": {
     "classes": [
      "code-cell"
     ],
     "id": ""
    }
   },
   "outputs": [],
   "source": [
    "from IPython.display import HTML\n",
    "display(HTML(\"\"\"\n",
    "<p style=\"text-align: center;\">\n",
    "<iframe src=\"../../html/random-forest-2/index.html\" width=\"105%\" height=\"1000px;\" style=\"border:none;\" scrolling=\"no\"></iframe>\n",
    "A demo of Decision Tree. <a href=\"https://cs.stanford.edu/~karpathy/svmjs/demo/demoforest.html\">[source]</a>\n",
    "</p>\n",
    "\"\"\"))"
   ]
  },
  {
   "cell_type": "code",
   "execution_count": null,
   "id": "59e10e0c",
   "metadata": {
    "attributes": {
     "classes": [
      "code-cell"
     ],
     "id": ""
    }
   },
   "outputs": [],
   "source": [
    "from IPython.display import HTML\n",
    "display(HTML(\"\"\"\n",
    "<p style=\"text-align: center;\">\n",
    "<iframe src=\"../../html/random-forest-3/index.html\" width=\"110%\" height=\"600px;\" style=\"border:none;\" scrolling=\"no\"></iframe>\n",
    "A demo of Decision Tree. <a href=\"https://nlhlong01.github.io/playground/#dataset=circle&regDataset=reg-plane&noise=25&seed=0.59759&showTestData=false&discretize=false&percTrainData=60&problem=classification&percSamples=50&nTrees=100&maxDepth=5\">[source]</a>\n",
    "</p>\n",
    "\"\"\"))"
   ]
  },
  {
   "cell_type": "markdown",
   "id": "83388e19",
   "metadata": {},
   "source": [
    "## Algorithm\n",
    "\n",
    "The algorithm for constructing a random forest of $\\large N$ trees goes as follows:\n",
    "\n",
    "* For each $\\large k = 1, \\dots, N$:\n",
    "\n",
    "    * Generate a bootstrap sample $\\large X_k$.\n",
    "    * Build a decision tree $\\large b_k$ on the sample $\\large X_k$:\n",
    "\n",
    "        * Pick the best feature according to the given criteria. Split the sample by this feature to create a new tree level. Repeat this procedure until the sample is exhausted.\n",
    "        * Building the tree until any of its leaves contains no more than $\\large n_\\text{min}$ instances or until a certain depth is reached.\n",
    "        * For each split, we first randomly pick $\\large m$ features from the $\\large d$ original ones and then search for the next best split only among the subset.\n",
    "\n",
    "The final classifier is defined by:\n",
    "$$\\large a(x) = \\frac{1}{N}\\sum_{k = 1}^N b_k(x)$$\n",
    "\n",
    "We use the majority voting for classification and the mean for regression.\n",
    "\n",
    "For classification problems, it is advisable to set $\\large m = \\sqrt{d}$. For regression problems, we usually take $\\large m = \\frac{d}{3}$, where $\\large d$ is the number of features. It is recommended to build each tree until all of its leaves contain only $\\large n_\\text{min} = 1$ examples for classification and $\\large n_\\text{min} = 5$ examples for regression. \n",
    "\n",
    "You can see random forest as bagging of decision trees with the modification of selecting a random subset of features at each split.\n",
    "\n",
    "## Comparison with Decision Trees and Bagging"
   ]
  },
  {
   "cell_type": "code",
   "execution_count": null,
   "id": "1c78fcd1",
   "metadata": {
    "attributes": {
     "classes": [
      "code-cell"
     ],
     "id": ""
    }
   },
   "outputs": [],
   "source": [
    "# Disable warnings in Anaconda\n",
    "import warnings\n",
    "\n",
    "import numpy as np\n",
    "\n",
    "warnings.filterwarnings('ignore')\n",
    "\n",
    "%matplotlib inline\n",
    "from matplotlib import pyplot as plt\n",
    "\n",
    "plt.style.use('ggplot')\n",
    "plt.rcParams['figure.figsize'] = 10, 6\n",
    "%config InlineBackend.figure_format = 'retina'\n",
    "\n",
    "import seaborn as sns\n",
    "from sklearn.datasets import make_circles\n",
    "from sklearn.ensemble import (BaggingClassifier, BaggingRegressor,\n",
    "                              RandomForestClassifier, RandomForestRegressor)\n",
    "from sklearn.model_selection import train_test_split\n",
    "from sklearn.tree import DecisionTreeClassifier, DecisionTreeRegressor"
   ]
  },
  {
   "cell_type": "code",
   "execution_count": null,
   "id": "954dfbfa",
   "metadata": {
    "attributes": {
     "classes": [
      "code-cell"
     ],
     "id": ""
    }
   },
   "outputs": [],
   "source": [
    "n_train = 150        \n",
    "n_test = 1000       \n",
    "noise = 0.1\n",
    "\n",
    "# Generate data\n",
    "def f(x):\n",
    "    x = x.ravel()\n",
    "    return np.exp(-x ** 2) + 1.5 * np.exp(-(x - 2) ** 2)\n",
    "\n",
    "def generate(n_samples, noise):\n",
    "    X = np.random.rand(n_samples) * 10 - 5\n",
    "    X = np.sort(X).ravel()\n",
    "    y = np.exp(-X ** 2) + 1.5 * np.exp(-(X - 2) ** 2)\\\n",
    "        + np.random.normal(0.0, noise, n_samples)\n",
    "    X = X.reshape((n_samples, 1))\n",
    "\n",
    "    return X, y\n",
    "\n",
    "X_train, y_train = generate(n_samples=n_train, noise=noise)\n",
    "X_test, y_test = generate(n_samples=n_test, noise=noise)\n",
    "\n",
    "# One decision tree regressor\n",
    "dtree = DecisionTreeRegressor().fit(X_train, y_train)\n",
    "d_predict = dtree.predict(X_test)\n",
    "\n",
    "plt.figure(figsize=(10, 6))\n",
    "plt.plot(X_test, f(X_test), \"b\")\n",
    "plt.scatter(X_train, y_train, c=\"b\", s=20)\n",
    "plt.plot(X_test, d_predict, \"g\", lw=2)\n",
    "plt.xlim([-5, 5])\n",
    "plt.title(\"Decision tree, MSE = %.2f\" \n",
    "          % np.sum((y_test - d_predict) ** 2))\n",
    "\n",
    "# Bagging with a decision tree regressor\n",
    "bdt = BaggingRegressor(DecisionTreeRegressor()).fit(X_train, y_train)\n",
    "bdt_predict = bdt.predict(X_test)\n",
    "\n",
    "plt.figure(figsize=(10, 6))\n",
    "plt.plot(X_test, f(X_test), \"b\")\n",
    "plt.scatter(X_train, y_train, c=\"b\", s=20)\n",
    "plt.plot(X_test, bdt_predict, \"y\", lw=2)\n",
    "plt.xlim([-5, 5])\n",
    "plt.title(\"Bagging for decision trees, MSE = %.2f\" % np.sum((y_test - bdt_predict) ** 2));\n",
    "\n",
    "# Random Forest\n",
    "rf = RandomForestRegressor(n_estimators=10).fit(X_train, y_train)\n",
    "rf_predict = rf.predict(X_test)\n",
    "\n",
    "plt.figure(figsize=(10, 6))\n",
    "plt.plot(X_test, f(X_test), \"b\")\n",
    "plt.scatter(X_train, y_train, c=\"b\", s=20)\n",
    "plt.plot(X_test, rf_predict, \"r\", lw=2)\n",
    "plt.xlim([-5, 5])\n",
    "plt.title(\"Random forest, MSE = %.2f\" % np.sum((y_test - rf_predict) ** 2));"
   ]
  },
  {
   "cell_type": "markdown",
   "id": "c2a45759",
   "metadata": {},
   "source": [
    "As we can see from our graphs and the MSE values above, a random forest of 10 trees achieves a better result than a single decision tree and is comparable to bagging with 10 trees. The main difference between random forests and bagging is that, in a random forest, the best feature for a split is selected from a random subset of the available features while, in bagging, all features are considered for the next best split.\n",
    "\n",
    "We can also look at the advantages of random forests and bagging in classification problems:"
   ]
  },
  {
   "cell_type": "code",
   "execution_count": null,
   "id": "eb67f0ed",
   "metadata": {
    "attributes": {
     "classes": [
      "code-cell"
     ],
     "id": ""
    }
   },
   "outputs": [],
   "source": [
    "np.random.seed(42)\n",
    "X, y = make_circles(n_samples=500, factor=0.1, noise=0.35, random_state=42)\n",
    "X_train_circles, X_test_circles, y_train_circles, y_test_circles = \\\n",
    "    train_test_split(X, y, test_size=0.2)\n",
    "\n",
    "dtree = DecisionTreeClassifier(random_state=42)\n",
    "dtree.fit(X_train_circles, y_train_circles)\n",
    "\n",
    "x_range = np.linspace(X.min(), X.max(), 100)\n",
    "xx1, xx2 = np.meshgrid(x_range, x_range)\n",
    "y_hat = dtree.predict(np.c_[xx1.ravel(), xx2.ravel()])\n",
    "y_hat = y_hat.reshape(xx1.shape)\n",
    "plt.contourf(xx1, xx2, y_hat, alpha=0.2)\n",
    "plt.scatter(X[:,0], X[:,1], c=y, cmap='viridis', alpha=.7)\n",
    "plt.title(\"Decision tree\")\n",
    "plt.show()\n",
    "\n",
    "b_dtree = BaggingClassifier(DecisionTreeClassifier(), \n",
    "                            n_estimators=300, random_state=42)\n",
    "b_dtree.fit(X_train_circles, y_train_circles)\n",
    "\n",
    "x_range = np.linspace(X.min(), X.max(), 100)\n",
    "xx1, xx2 = np.meshgrid(x_range, x_range)\n",
    "y_hat = b_dtree.predict(np.c_[xx1.ravel(), xx2.ravel()])\n",
    "y_hat = y_hat.reshape(xx1.shape)\n",
    "plt.contourf(xx1, xx2, y_hat, alpha=0.2)\n",
    "plt.scatter(X[:,0], X[:,1], c=y, cmap='viridis', alpha=.7)\n",
    "plt.title(\"Bagging (decision trees)\")\n",
    "plt.show()\n",
    "\n",
    "rf = RandomForestClassifier(n_estimators=300, random_state=42)\n",
    "rf.fit(X_train_circles, y_train_circles)\n",
    "\n",
    "x_range = np.linspace(X.min(), X.max(), 100)\n",
    "xx1, xx2 = np.meshgrid(x_range, x_range)\n",
    "y_hat = rf.predict(np.c_[xx1.ravel(), xx2.ravel()])\n",
    "y_hat = y_hat.reshape(xx1.shape)\n",
    "plt.contourf(xx1, xx2, y_hat, alpha=0.2)\n",
    "plt.scatter(X[:,0], X[:,1], c=y, cmap='viridis', alpha=.7)\n",
    "plt.title(\"Random forest\")\n",
    "plt.show()"
   ]
  },
  {
   "cell_type": "markdown",
   "id": "0279684e",
   "metadata": {},
   "source": [
    "The figures above show that the decision boundary of the decision tree is quite jagged and has a lot of acute angles that suggest overfitting and a weak ability to generalize. We would have trouble making reliable predictions on new test data. In contrast, the bagging algorithm has a rather smooth boundary and has no obvious signs of overfitting.\n",
    "\n",
    "Now, let's investigate some parameters which can help us increase the model accuracy.\n",
    "\n",
    "## Parameters\n",
    "\n",
    "The [scikit-learn library](http://scikit-learn.org/stable/) implements random forests by providing two estimators: `RandomForestClassifier` and `RandomForestRegressor`.\n",
    "\n",
    "The full list of random forest parameters for regression is shown below:\n",
    "\n",
    "\n",
    "   - `n_estimators` — the number of trees in the forest (default = 10)\n",
    "   - `criterion` — the function used to measure the quality of a split. Supported criteria are \"mse\" for the mean squared error, which is equal to variance reduction as feature selection criterion, and \"mae\" for the mean absolute error (default = \"mse\")\n",
    "   - `max_features` — the number of features to consider when looking for the best split. You can specify the number or percentage of features, or choose from the available values: \"auto\" (all features), \"sqrt\", \"log2\". (default = \"auto\")\n",
    "   -  `max_depth` — the maximum depth of the tree (default means that nodes are expanded until all leaves are pure or until all leaves contain less than min_samples_split samples)\n",
    "   -  `min_samples_split` — the minimum number of samples required to split an internal node. Can be specified as the number or as a percentage of a total number of samples (default = 2)\n",
    "   -  `min_samples_leaf` — the minimum number of samples required at a leaf node(default = 1)\n",
    "   -  `min_weight_fraction_leaf` — the minimum weighted fraction of the sum total of weights (of all the input samples) required to be at a leaf node. Samples have equal weight when sample_weight is not provided (default = 0)\n",
    "   - `max_leaf_nodes` — the maximum number of leaves (default = no restrictions)\n",
    "   - `min_impurity_split` — threshold for early stopping in tree growth. A node will split if its impurity is above the threshold, otherwise it is a leaf (default = 1е-7)\n",
    "   - `bootstrap` — whether bootstrap samples are used when building trees(default = True)\n",
    "   - `oob_score` — whether to use out-of-bag samples to estimate the R^2 on unseen data (default = False)\n",
    "   - `n_jobs` — the number of jobs to run in parallel for both fit and predict. If -1, then the number of jobs is set to the number of cores (default = 1)\n",
    "   - `random_state` — if int, random_state is the seed used by the random number generator; if RandomState instance, random_state is the random number generator; if None, the random number generator is the RandomState instance used by np.random (default = None)\n",
    "   - `verbose` — controls the verbosity of the tree building process (default = 0)\n",
    "   - `warm_start` — when set to True, reuse the solution of the previous call to fit and add more estimators to the ensemble, otherwise, just fit a whole new forest (default = False)\n",
    "\n",
    "In case of classification, parameters are mostly the same. Only the following differ for `RandomForestClassifier` as compared to `RandomForestRegressor`:\n",
    "\n",
    "   - `criterion` — the function used to measure the quality of a split. Supported criteria are \"gini\" for the Gini impurity and \"entropy\" for the information gain. Note: this parameter is tree-specific (default = \"gini\")\n",
    "   - `class_weight` — the weight of each class (by default all weights equal to 1, but you can create a dictionary with weights or specify it as \"balanced\" - uses the values of classes to automatically adjust weights inversely proportional to class frequencies in the input data or as \"balanced_subsample\" - the same as \"balanced\" except that weights are computed based on the bootstrap sample for every tree grown)\n",
    "   \n",
    "Below are the parameters which we need to pay attention to when we are building a new model:\n",
    "\n",
    "- `n_estimators` — the number of trees in the forest;\n",
    "- `criterion` — the function used to measure the quality of a split;\n",
    "- `max_features` — the number of features to consider when looking for the best split;\n",
    "- `min_samples_leaf` — the minimum number of samples required to be at a leaf node;\n",
    "- `max_depth` — the maximum depth of the tree.\n",
    "\n",
    "### Practice with random forests in a real problem\n",
    " \n",
    "In this example we will look at predicting customer churn. This is a classification problem, so we will use accuracy for model evaluation.\n",
    "\n",
    "First, let's build a simple classifier which we will use as a baseline. For the sake of simplicity, we will use only numeric features."
   ]
  },
  {
   "cell_type": "code",
   "execution_count": null,
   "id": "614c1a92",
   "metadata": {
    "attributes": {
     "classes": [
      "code-cell"
     ],
     "id": ""
    }
   },
   "outputs": [],
   "source": [
    "import pandas as pd\n",
    "from sklearn.metrics import accuracy_score\n",
    "from sklearn.model_selection import (GridSearchCV, StratifiedKFold,\n",
    "                                     cross_val_score)\n",
    "\n",
    "# Load data\n",
    "df = pd.read_csv(\"https://static-1300131294.cos.ap-shanghai.myqcloud.com/data/telecom_churn.csv\")\n",
    "\n",
    "# Choose the numeric features\n",
    "cols = []\n",
    "for i in df.columns:\n",
    "    if (df[i].dtype == \"float64\") or (df[i].dtype == 'int64'):\n",
    "        cols.append(i)\n",
    "        \n",
    "# Divide the dataset into the input and target\n",
    "X, y = df[cols].copy(), np.asarray(df[\"Churn\"],dtype='int8')\n",
    "\n",
    "# Initialize a stratified split of our dataset for the validation process\n",
    "skf = StratifiedKFold(n_splits=5, shuffle=True, random_state=42)\n",
    "\n",
    "# Initialize the classifier with the default parameters \n",
    "rfc = RandomForestClassifier(random_state=42, n_jobs=-1)\n",
    "\n",
    "# Train it on the training set\n",
    "results = cross_val_score(rfc, X, y, cv=skf)\n",
    "\n",
    "# Evaluate the accuracy on the test set\n",
    "print(\"CV accuracy score: {:.2f}%\".format(results.mean() * 100))"
   ]
  },
  {
   "cell_type": "markdown",
   "id": "cffc005b",
   "metadata": {},
   "source": [
    "We have accuracy close to 92%. Now, let's try to improve this result, and take a look at the behavior of the learning curves when we change the basic parameters.\n",
    "\n",
    "Let's start with the number of trees:"
   ]
  },
  {
   "cell_type": "code",
   "execution_count": null,
   "id": "7c0d9360",
   "metadata": {
    "attributes": {
     "classes": [
      "code-cell"
     ],
     "id": ""
    }
   },
   "outputs": [],
   "source": [
    "# Initialize the validation\n",
    "skf = StratifiedKFold(n_splits=5, shuffle=True, random_state=42)\n",
    "\n",
    "# Create lists to save the values of accuracy on training and test sets\n",
    "train_acc = []\n",
    "test_acc = []\n",
    "temp_train_acc = []\n",
    "temp_test_acc = []\n",
    "trees_grid = [5, 10, 15, 20, 30, 50, 75, 100]\n",
    "\n",
    "for ntrees in trees_grid:\n",
    "    rfc = RandomForestClassifier(n_estimators=ntrees, random_state=42, n_jobs=-1)\n",
    "    temp_train_acc = []\n",
    "    temp_test_acc = []\n",
    "    for train_index, test_index in skf.split(X, y):\n",
    "        X_train, X_test = X.iloc[train_index], X.iloc[test_index]\n",
    "        y_train, y_test = y[train_index], y[test_index]\n",
    "        rfc.fit(X_train, y_train)\n",
    "        temp_train_acc.append(rfc.score(X_train, y_train))\n",
    "        temp_test_acc.append(rfc.score(X_test, y_test))\n",
    "    train_acc.append(temp_train_acc)\n",
    "    test_acc.append(temp_test_acc)\n",
    "    \n",
    "train_acc, test_acc = np.asarray(train_acc), np.asarray(test_acc)\n",
    "print(\"Best CV accuracy is {:.2f}% with {} trees\".format(max(test_acc.mean(axis=1))*100, \n",
    "                                                        trees_grid[np.argmax(test_acc.mean(axis=1))]))"
   ]
  },
  {
   "cell_type": "code",
   "execution_count": null,
   "id": "dbc25232",
   "metadata": {
    "attributes": {
     "classes": [
      "code-cell"
     ],
     "id": ""
    }
   },
   "outputs": [],
   "source": [
    "plt.style.use('ggplot')\n",
    "\n",
    "fig, ax = plt.subplots(figsize=(8, 4))\n",
    "ax.plot(trees_grid, train_acc.mean(axis=1), alpha=0.5, color='blue', label='train')\n",
    "ax.plot(trees_grid, test_acc.mean(axis=1), alpha=0.5, color='red', label='cv')\n",
    "ax.fill_between(trees_grid, test_acc.mean(axis=1) - test_acc.std(axis=1), \n",
    "                test_acc.mean(axis=1) + test_acc.std(axis=1), color='#888888', alpha=0.4)\n",
    "ax.fill_between(trees_grid, test_acc.mean(axis=1) - 2*test_acc.std(axis=1), \n",
    "                test_acc.mean(axis=1) + 2*test_acc.std(axis=1), color='#888888', alpha=0.2)\n",
    "ax.legend(loc='best')\n",
    "ax.set_ylim([0.88,1.02])\n",
    "ax.set_ylabel(\"Accuracy\")\n",
    "ax.set_xlabel(\"N_estimators\");"
   ]
  },
  {
   "cell_type": "markdown",
   "id": "dbc10e95",
   "metadata": {},
   "source": [
    "As you can see, when a certain number of trees is reached, our accuracy on the test set is very close to the asymptote. You can decide by yourself which value would be the optimal number of trees for your problem.\n",
    "\n",
    "The figures also show that we achieved 100% accuracy on the training set, which tells us that we overfit. In order to avoid overfitting, we need to add regularization parameters to our model. \n",
    "\n",
    "We will start with the maximum depth of trees `max_depth` and fix the number of trees at 100:"
   ]
  },
  {
   "cell_type": "code",
   "execution_count": null,
   "id": "b2f77fb7",
   "metadata": {
    "attributes": {
     "classes": [
      "code-cell"
     ],
     "id": ""
    }
   },
   "outputs": [],
   "source": [
    "# Create lists to save accuracy values on the training and test sets\n",
    "train_acc = []\n",
    "test_acc = []\n",
    "temp_train_acc = []\n",
    "temp_test_acc = []\n",
    "max_depth_grid = [3, 5, 7, 9, 11, 13, 15, 17, 20, 22, 24]\n",
    "\n",
    "for max_depth in max_depth_grid:\n",
    "    rfc = RandomForestClassifier(n_estimators=100, random_state=42, n_jobs=-1, max_depth=max_depth)\n",
    "    temp_train_acc = []\n",
    "    temp_test_acc = []\n",
    "    for train_index, test_index in skf.split(X, y):\n",
    "        X_train, X_test = X.iloc[train_index], X.iloc[test_index]\n",
    "        y_train, y_test = y[train_index], y[test_index]\n",
    "        rfc.fit(X_train, y_train)\n",
    "        temp_train_acc.append(rfc.score(X_train, y_train))\n",
    "        temp_test_acc.append(rfc.score(X_test, y_test))\n",
    "    train_acc.append(temp_train_acc)\n",
    "    test_acc.append(temp_test_acc)\n",
    "    \n",
    "train_acc, test_acc = np.asarray(train_acc), np.asarray(test_acc)\n",
    "print(\"Best CV accuracy is {:.2f}% with {} max_depth\".format(max(test_acc.mean(axis=1))*100, \n",
    "                                                        max_depth_grid[np.argmax(test_acc.mean(axis=1))]))\n",
    "\n",
    "fig, ax = plt.subplots(figsize=(8, 4))\n",
    "ax.plot(max_depth_grid, train_acc.mean(axis=1), alpha=0.5, color='blue', label='train')\n",
    "ax.plot(max_depth_grid, test_acc.mean(axis=1), alpha=0.5, color='red', label='cv')\n",
    "ax.fill_between(max_depth_grid, test_acc.mean(axis=1) - test_acc.std(axis=1), \n",
    "                test_acc.mean(axis=1) + test_acc.std(axis=1), color='#888888', alpha=0.4)\n",
    "ax.fill_between(max_depth_grid, test_acc.mean(axis=1) - 2*test_acc.std(axis=1), \n",
    "                test_acc.mean(axis=1) + 2*test_acc.std(axis=1), color='#888888', alpha=0.2)\n",
    "ax.legend(loc='best')\n",
    "ax.set_ylim([0.88,1.02])\n",
    "ax.set_ylabel(\"Accuracy\")\n",
    "ax.set_xlabel(\"Max_depth\");"
   ]
  },
  {
   "cell_type": "markdown",
   "id": "37b729b6",
   "metadata": {},
   "source": [
    "Parameter `max_depth` copes well with the regularization of our model and it does not overfit as badly as before. The model accuracy has increased slightly.\n",
    "\n",
    "Another important parameter worth tuning is `min_samples_leaf`. It also contributes to regularization."
   ]
  },
  {
   "cell_type": "code",
   "execution_count": null,
   "id": "ce292012",
   "metadata": {
    "attributes": {
     "classes": [
      "code-cell"
     ],
     "id": ""
    }
   },
   "outputs": [],
   "source": [
    "# Create lists to save accuracy values on the training and test sets\n",
    "train_acc = []\n",
    "test_acc = []\n",
    "temp_train_acc = []\n",
    "temp_test_acc = []\n",
    "min_samples_leaf_grid = [1, 3, 5, 7, 9, 11, 13, 15, 17, 20, 22, 24]\n",
    "\n",
    "for min_samples_leaf in min_samples_leaf_grid:\n",
    "    rfc = RandomForestClassifier(n_estimators=100, random_state=42, n_jobs=-1, \n",
    "                                 min_samples_leaf=min_samples_leaf)\n",
    "    temp_train_acc = []\n",
    "    temp_test_acc = []\n",
    "    for train_index, test_index in skf.split(X, y):\n",
    "        X_train, X_test = X.iloc[train_index], X.iloc[test_index]\n",
    "        y_train, y_test = y[train_index], y[test_index]\n",
    "        rfc.fit(X_train, y_train)\n",
    "        temp_train_acc.append(rfc.score(X_train, y_train))\n",
    "        temp_test_acc.append(rfc.score(X_test, y_test))\n",
    "    train_acc.append(temp_train_acc)\n",
    "    test_acc.append(temp_test_acc)\n",
    "    \n",
    "train_acc, test_acc = np.asarray(train_acc), np.asarray(test_acc)\n",
    "print(\"Best CV accuracy is {:.2f}% with {} min_samples_leaf\".format(max(test_acc.mean(axis=1))*100, \n",
    "                                                        min_samples_leaf_grid[np.argmax(test_acc.mean(axis=1))]))"
   ]
  },
  {
   "cell_type": "code",
   "execution_count": null,
   "id": "6d1e8430",
   "metadata": {
    "attributes": {
     "classes": [
      "code-cell"
     ],
     "id": ""
    }
   },
   "outputs": [],
   "source": [
    "fig, ax = plt.subplots(figsize=(8, 4))\n",
    "ax.plot(min_samples_leaf_grid, train_acc.mean(axis=1), alpha=0.5, color='blue', label='train')\n",
    "ax.plot(min_samples_leaf_grid, test_acc.mean(axis=1), alpha=0.5, color='red', label='cv')\n",
    "ax.fill_between(min_samples_leaf_grid, test_acc.mean(axis=1) - test_acc.std(axis=1), \n",
    "                test_acc.mean(axis=1) + test_acc.std(axis=1), color='#888888', alpha=0.4)\n",
    "ax.fill_between(min_samples_leaf_grid, test_acc.mean(axis=1) - 2*test_acc.std(axis=1), \n",
    "                test_acc.mean(axis=1) + 2*test_acc.std(axis=1), color='#888888', alpha=0.2)\n",
    "ax.legend(loc='best')\n",
    "ax.set_ylim([0.88,1.02])\n",
    "ax.set_ylabel(\"Accuracy\")\n",
    "ax.set_xlabel(\"Min_samples_leaf\");"
   ]
  },
  {
   "cell_type": "markdown",
   "id": "7a7d0083",
   "metadata": {},
   "source": [
    "In this case, we do not see an improvement in accuracy on the validation set, but we significantly reduce the overfitting down to 2% while keeping the accuracy at about 92%.\n",
    "\n",
    "Let's consider the parameter `max_features`. For classification, the value $\\large \\sqrt{d}$ (the total number of features) is typically used as the default choice. Let's check whether it would be optimal to use 4 features in our case:"
   ]
  },
  {
   "cell_type": "code",
   "execution_count": null,
   "id": "88f4f8d6",
   "metadata": {
    "attributes": {
     "classes": [
      "code-cell"
     ],
     "id": ""
    }
   },
   "outputs": [],
   "source": [
    "# Create lists to save accuracy values on the training and test sets\n",
    "train_acc = []\n",
    "test_acc = []\n",
    "temp_train_acc = []\n",
    "temp_test_acc = []\n",
    "max_features_grid = [2, 4, 6, 8, 10, 12, 14, 16]\n",
    "\n",
    "for max_features in max_features_grid:\n",
    "    rfc = RandomForestClassifier(n_estimators=100, random_state=42, n_jobs=-1, \n",
    "                                 max_features=max_features)\n",
    "    temp_train_acc = []\n",
    "    temp_test_acc = []\n",
    "    for train_index, test_index in skf.split(X, y):\n",
    "        X_train, X_test = X.iloc[train_index], X.iloc[test_index]\n",
    "        y_train, y_test = y[train_index], y[test_index]\n",
    "        rfc.fit(X_train, y_train)\n",
    "        temp_train_acc.append(rfc.score(X_train, y_train))\n",
    "        temp_test_acc.append(rfc.score(X_test, y_test))\n",
    "    train_acc.append(temp_train_acc)\n",
    "    test_acc.append(temp_test_acc)\n",
    "    \n",
    "train_acc, test_acc = np.asarray(train_acc), np.asarray(test_acc)\n",
    "print(\"Best CV accuracy is {:.2f}% with {} max_features\".format(max(test_acc.mean(axis=1))*100, \n",
    "                                                        max_features_grid[np.argmax(test_acc.mean(axis=1))]))\n",
    "\n",
    "fig, ax = plt.subplots(figsize=(8, 4))\n",
    "ax.plot(max_features_grid, train_acc.mean(axis=1), alpha=0.5, color='blue', label='train')\n",
    "ax.plot(max_features_grid, test_acc.mean(axis=1), alpha=0.5, color='red', label='cv')\n",
    "ax.fill_between(max_features_grid, test_acc.mean(axis=1) - test_acc.std(axis=1), \n",
    "                test_acc.mean(axis=1) + test_acc.std(axis=1), color='#888888', alpha=0.4)\n",
    "ax.fill_between(max_features_grid, test_acc.mean(axis=1) - 2*test_acc.std(axis=1), \n",
    "                test_acc.mean(axis=1) + 2*test_acc.std(axis=1), color='#888888', alpha=0.2)\n",
    "ax.legend(loc='best')\n",
    "ax.set_ylim([0.88,1.02])\n",
    "ax.set_ylabel(\"Accuracy\")\n",
    "ax.set_xlabel(\"Max_features\");"
   ]
  },
  {
   "cell_type": "markdown",
   "id": "0336787d",
   "metadata": {},
   "source": [
    "In our case, the optimal number of features is equal to 10. This is the value at which the best result is achieved.\n",
    "\n",
    "We have seen how the learning curves change with different values of the basic parameters. Now, let's use `GridSearch` to find the optimal parameters for our example:"
   ]
  },
  {
   "cell_type": "code",
   "execution_count": null,
   "id": "99c4e72f",
   "metadata": {
    "attributes": {
     "classes": [
      "code-cell"
     ],
     "id": ""
    }
   },
   "outputs": [],
   "source": [
    "# Initialize the set of parameters for exhaustive search and fit \n",
    "parameters = {'max_features': [4, 7, 10, 13], \n",
    "              'min_samples_leaf': [1, 3, 5, 7], \n",
    "              'max_depth': [5, 10, 15, 20]}\n",
    "rfc = RandomForestClassifier(n_estimators=100, random_state=42, n_jobs=-1)\n",
    "gcv = GridSearchCV(rfc, parameters, n_jobs=-1, cv=skf, verbose=1)\n",
    "gcv.fit(X, y)"
   ]
  },
  {
   "cell_type": "code",
   "execution_count": null,
   "id": "d1aa1b68",
   "metadata": {
    "attributes": {
     "classes": [
      "code-cell"
     ],
     "id": ""
    }
   },
   "outputs": [],
   "source": [
    "gcv.best_params_, gcv.best_score_"
   ]
  },
  {
   "cell_type": "markdown",
   "id": "71a6685d",
   "metadata": {},
   "source": [
    "## Variance and Decorrelation\n",
    "\n",
    "Let's write the variance of a random forest as\n",
    "\n",
    "$$\\large Var f(x) = \\rho(x)\\sigma^2(x)$$\n",
    "\n",
    "$$\\large \\rho(x) = Corr\\left[T(x_1,\\Theta_1(Z)),T(x_2,\\Theta_2(Z))\\right],$$\n",
    "\n",
    "where\n",
    "\n",
    "* $\\large \\rho(x)$ is the sample correlation coefficient between any two trees used in averaging:\n",
    "* $\\large \\Theta_1(Z)$ and $\\large \\Theta_2(Z)$ are a randomly selected pair of trees on randomly selected elements of the sample $Z$;\n",
    "* $\\large T(x,\\Theta_i(Z))$ is the output of the $\\large i$-th tree classifier on an input vector $\\large x$;\n",
    "* $\\large \\sigma^2(x)$ is the sample variance of any randomly selected tree:\n",
    "\n",
    "$$\\large \\sigma^2(x) = Var\\left[T(x,\\Theta(X))\\right]$$\n",
    "\n",
    "It is easy to confuse $\\large \\rho(x)$ with the average correlation between the trained trees in a given random forest when we consider trees as N-vectors and calculate the average pairwise correlation between them. But this is not the case.\n",
    "\n",
    "In fact, this conditional correlation is not directly related to the averaging process, and the dependence of $\\large \\rho(x)$ on $\\large x$ warns us of this difference. $\\large \\rho(x)$ is the theoretical correlation between a pair of random trees estimated on the input $\\large x$. Its value comes from the repeated sampling of the training set from the population $\\large Z$ and the subsequent random choice of a pair of trees. In statistics jargon, this is the correlation caused by the sampling distribution of $\\large Z$ and $\\large \\Theta$.\n",
    "\n",
    "The conditional covariance of any pair of trees is equal to 0 because bootstrapping and feature selection are independent and identically distributed.\n",
    "\n",
    "If we consider the variance of a single tree, it barely depends on the parameters of the splitting ($\\large m$). But they are crucial for ensembles. The variance of a tree is much higher than the one of an ensemble. The book *The Elements of Statistical Learning (Trevor Hastie, Robert Tibshirani and Jerome Friedman)* has a great example that demonstrates this fact:\n",
    "\n",
    ":::{figure}https://habrastorage.org/webt/ee/3a/6v/ee3a6vx_gvop_wibdscz38qazba.png\n",
    "---\n",
    "name: 'comparison of tree and random forest'\n",
    "width: 90%\n",
    "---\n",
    "Comparison of Tree and Random Forest\n",
    ":::\n",
    "\n",
    "## Bias\n",
    "\n",
    "Just as in bagging, the bias of a random forest is the same as the bias of a single tree $\\large T(x,\\Theta(Z))$:\n",
    "\n",
    "$$ \\large \\begin{array}{rcl} Bias &=& \\mu(x) - E_Z \\, f_{rf}(x) \\\\\n",
    "&=& \\mu(x) - E_Z \\, E_{\\Theta | Z} \\, T(x,\\Theta(Z))\\end{array}$$  \n",
    "\n",
    "In absolute value, the bias is usually higher than that of an unprunned tree because randomization and sample space reduction impose their own restrictions on the model. Therefore, the improvements in prediction accuracy obtained by bagging and random forests are solely the result of variance reduction.\n",
    "\n",
    "##  Extremely Randomized Trees\n",
    "\n",
    "Extremely Randomized Trees employ a greater degree of randomization at the cut-point choice when splitting a tree node. As in random forests, a random subset of features is used. But, instead of the search for the optimal thresholds, their values are selected at random for each possible feature, and the best one among these randomly generated thresholds is used as the best rule to split the node. This usually trades off a slight reduction in the model variance with a small increase of the bias.\n",
    "\n",
    "In the `scikit-learn` library, there are 2 implementations of Extremely Randomized Trees: [ExtraTreesClassifier](http://scikit-learn.org/stable/modules/generated/sklearn.ensemble.ExtraTreesClassifier.html#sklearn.ensemble.ExtraTreesClassifier) and [ExtraTreesRegressor](http://scikit-learn.org/stable/modules/generated/sklearn.ensemble.ExtraTreesRegressor.html#sklearn.ensemble.ExtraTreesRegressor). \n",
    "\n",
    "This method should be used if you have greatly overfit with random forests or gradient boosting.\n",
    "\n",
    "## Similarities between Random Forest and k-Nearest Neighbors \n",
    "The random forest method is similar to the nearest neighbors technique. Random forests predictions are based on labels of alike examples from the training set. The more often these examples appear in the same leaf of a tree, the higher their similarity. Let's prove this formally.\n",
    "\n",
    "Let's consider a regression problem with the quadratic loss function. Let $\\large T_n(x)$ be the number of the leaf of the $\\large n$-th tree in a random forest with input $\\large x$.\n",
    "The algorithm response for the input vector $\\large x$ equals the averaged response over all the examples of the training sample that fall into the leaf $\\large T_n(x)$. This can be written as\n",
    "\n",
    "$$\\large b_n(x) = \\sum_{i=1}^{l}w_n(x,x_i)y_i,$$\n",
    "\n",
    "where\n",
    "\n",
    "$$ \\large w_n(x, x_i) = \\frac{\\left[T_n(x) = T_n(x_i)\\right]}{\\sum_{j=1}^{l}\\left[T_n(x) = T_n(x_j)\\right]}$$  \n",
    "\n",
    "Then, the response of the composition is\n",
    "\n",
    "$$ \\large \\begin{array}{rcl} a_n(x) &=& \\frac{1}{N}\\sum_{n=1}^{N}\\sum_{i=1}^{l}w_n(x,x_i)y_i \\\\\n",
    "&=& \\sum_{i=1}^{l}\\left(\\frac{1}{N}\\sum_{j=1}^{N}w_n(x,x_j)\\right)y_i \\end{array}$$\n",
    "\n",
    "You can see that the response of a random forest is a weighted sum of responses over all training examples.\n",
    "\n",
    "It is also worth noting that the number of the leaf $ \\large T_n(x)$, where the instance $\\large x$ ended up, is a valuable feature by itself. For example, the following approach works well: 1) A composition of a small number of trees is trained on a sample using a random forest or gradient boosting. 2) The categorical features $\\large T_1(x), \\dots, T_n(x)$ are added to the sample.\n",
    "\n",
    "These new features are the result of the non-linear space splitting, and they provide information about similarity between examples. In the book *The Elements of Statistical Learning*, there is a good illustrative example that demonstrates this similarity between random forests and the k-nearest neighbors technique:\n",
    "\n",
    ":::{figure}https://habrastorage.org/webt/ee/3a/6v/ee3a6vx_gvop_wibdscz38qazba.png\n",
    "---\n",
    "name: 'similarity between random forests and knn'\n",
    "width: 90%\n",
    "---\n",
    "Similarity between random forests and knn\n",
    ":::\n",
    "\n",
    "\n",
    "\n",
    "## Transformation of a dataset into a high-dimensional representation\n",
    "\n",
    "Random forests are mostly used in supervised learning, but there is a way to apply them in the unsupervised setting.\n",
    "\n",
    "Using the `scikit-learn` method [RandomTreesEmbedding](http://scikit-learn.org/stable/modules/generated/sklearn.ensemble.RandomTreesEmbedding.html#sklearn.ensemble.RandomTreesEmbedding), we can transform our dataset into a high-dimensional, [sparse](https://en.wikipedia.org/wiki/Sparse_matrix) representation. We first build extremely randomized trees and then use the index of the leaf containing the example as a new feature.\n",
    "\n",
    "For example, if the input appears in the first leaf, we assign $1$ as the feature value; if not, we assign $0$. This is a so-called *binary coding*. We can control the number of features and the sparseness of data by increasing or decreasing the number of trees and their depth. Because nearby data points are likely to fall into the same leaf, this transformation provides an implicit nonparametric estimate of their density.\n",
    "\n",
    "## Pros and cons of random forests\n",
    "\n",
    "### Pros:\n",
    "\n",
    "- High prediction accuracy; will perform better than linear algorithms in most problems; the accuracy is comparable with that of boosting.\n",
    "- Robust to outliers, thanks to random sampling.\n",
    "- Insensitive to the scaling of features as well as any other monotonic transformations due to the random subspace selection.\n",
    "- Doesn't require fine-grained parameter tuning, works quite well out-of-the-box. With tuning, it is possible to achieve a 0.5-3% gain in accuracy, depending on the problem setting and data.\n",
    "- Efficient for datasets with a large number of features and classes.\n",
    "- Handles both continuous and discrete variables equally well.\n",
    "- Rarely overfits. In practice, an increase in the tree number almost always improves the composition. But, after reaching a certain number of trees, the learning curve is very close to the asymptote.\n",
    "- There are developed methods to estimate feature importance.\n",
    "- Works well with missing data and maintains good accuracy even when a large part of data is missing.\n",
    "- Provides means to weight classes on the whole dataset as well as for each tree sample.\n",
    "- Under the hood, calculates proximities between pairs of examples that can subsequently be used in clustering, outlier detection, or interesting data representations.\n",
    "- The above functionality and properties may be extended to unlabeled data to enable unsupervised clustering, data visualization, and outlier detection.\n",
    "- Easily parallelized and highly scalable.\n",
    " \n",
    "### Cons:\n",
    "\n",
    " - In comparison with a single decision tree, Random Forest's output is more difficult to interpret.\n",
    " - There are no formal p-values for feature significance estimation.\n",
    " - Performs worse than linear methods in the case of sparse data: text inputs, bag of words, etc.\n",
    " - Unlike linear regression, Random Forest is unable to extrapolate. But, this can be also regarded as an advantage because outliers do not cause extreme values in Random Forests.\n",
    " - Prone to overfitting in some problems, especially, when dealing with noisy data.\n",
    " - In the case of categorical variables with varying level numbers, random forests favor variables with a greater number of levels. The tree will fit more towards a feature with many levels because this gains greater accuracy.\n",
    " - If a dataset contains groups of correlated features, preference might be given to groups of smaller size. See [this work](http://rnowling.github.io/machine/learning/2015/08/11/random-forest-correlation-bias.html).\n",
    " - The resulting model is large and requires a lot of RAM.\n",
    " \n",
    "## Your turn! 🚀\n",
    "\n",
    "TBD\n",
    "\n",
    "## Acknowledgments\n",
    "\n",
    "Thanks to [Yury Kashnitsky](https://www.kaggle.com/kashnitsky) for creating the open-source content [Ensembles and random forest](https://www.kaggle.com/code/kashnitsky/topic-5-ensembles-part-2-random-forest/notebook). They inspire the majority of the content in this chapter."
   ]
  }
 ],
 "metadata": {
  "kernelspec": {
   "display_name": "Python 3 (ipykernel)",
   "language": "python",
   "name": "python3"
  },
  "language_info": {
   "codemirror_mode": {
    "name": "ipython",
    "version": 3
   },
   "file_extension": ".py",
   "mimetype": "text/x-python",
   "name": "python",
   "nbconvert_exporter": "python",
   "pygments_lexer": "ipython3",
   "version": "3.9.18"
  }
 },
 "nbformat": 4,
 "nbformat_minor": 5
}
