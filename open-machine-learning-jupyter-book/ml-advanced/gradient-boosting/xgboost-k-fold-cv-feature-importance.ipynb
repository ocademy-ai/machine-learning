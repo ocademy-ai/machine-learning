{
 "cells": [
  {
   "cell_type": "code",
   "execution_count": null,
   "id": "1eece162-2c5e-40f6-830b-9392fca6d7e7",
   "metadata": {
    "tags": [
     "hide-input"
    ]
   },
   "outputs": [],
   "source": [
    "# Install the necessary dependencies\n",
    "\n",
    "import os\n",
    "import sys\n",
    "!{sys.executable} -m pip install --quiet pandas scikit-learn numpy matplotlib jupyterlab_myst ipython xgboost"
   ]
  },
  {
   "cell_type": "markdown",
   "id": "6aac3a13",
   "metadata": {
    "tags": [
     "remove-cell"
    ]
   },
   "source": [
    "---\n",
    "license:\n",
    "    code: MIT\n",
    "    content: CC-BY-4.0\n",
    "github: https://github.com/ocademy-ai/machine-learning\n",
    "venue: By Ocademy\n",
    "open_access: true\n",
    "bibliography:\n",
    "  - https://raw.githubusercontent.com/ocademy-ai/machine-learning/main/open-machine-learning-jupyter-book/references.bib\n",
    "---"
   ]
  },
  {
   "cell_type": "markdown",
   "id": "ee615ac5",
   "metadata": {},
   "source": [
    "# XGBoost + k-fold CV + Feature Importance\n",
    "\n",
    "As we all know that a lot of competitions were won using only one algorithm - **XGBoost**. It is one of the most popular machine learning algorithm these days. It works well for both types of tasks - regression and classification.\n",
    "\n",
    "So, in this kernel, we will discuss XGBoost and develop a simple baseline XGBoost model with Python."
   ]
  },
  {
   "cell_type": "markdown",
   "id": "67b9311a",
   "metadata": {},
   "source": [
    "## Introduction to XGBoost Algorithm\n",
    "\n",
    "- **XGBoost** stands for **Extreme Gradient Boosting.**\n",
    "\n",
    "- It is a performant machine learning library based on the paper [Greedy Function Approximation: A Gradient Boosting Machine, by Friedman](https://statweb.stanford.edu/~jhf/ftp/trebst.pdf)\n",
    "\n",
    "- It is an open source machine learning library providing a high-performance implementation of gradient boosted decision trees.\n",
    "\n",
    "- It is originally written in C++ and is comparatively faster than other ensemble classifiers.\n",
    "\n",
    "- It belongs to a family of boosting algorithms and uses the **gradient boosting (GBM)** framework at its core. \n",
    "\n",
    "- XGBoost implements a [Gradient Boosting algorithm](https://en.wikipedia.org/wiki/Gradient_boosting) based on decision trees.\n",
    "\n",
    "- So, to understand XGBoost completely, we need to understand **Gradient Boosting Algorithm** (discussed later).\n",
    "\n",
    "- Please follow the links below for more in-depth discussion on XGBoost.\n",
    "\n",
    "    [XGBoost Official Documentation](https://xgboost.readthedocs.io/en/latest/)\n",
    "\n",
    "    [XGBoost from Wikipedia](https://en.wikipedia.org/wiki/XGBoost)"
   ]
  },
  {
   "cell_type": "markdown",
   "id": "c231cf7e",
   "metadata": {},
   "source": [
    "### Evolution of tree-based algorithms\n",
    "\n",
    "- The tree based algorithms have evolved over the years.\n",
    "\n",
    "- XGBoost belongs to a family of tree-based algorithms.\n",
    "\n",
    "- Please see the chart below for the evolution of tree-based algorithms over the years."
   ]
  },
  {
   "cell_type": "markdown",
   "id": "26e06d03",
   "metadata": {},
   "source": [
    ":::{figure} https://static-1300131294.cos.ap-shanghai.myqcloud.com/images/ml-advanced/xgboost_k_fold_cv_feature_importance/Evolution_of_tree_based_algorithms.jpg\n",
    "---\n",
    "name: 'Evolution of tree-based algorithms'\n",
    "width: 90%\n",
    "---\n",
    "Evolution of tree-based algorithms\n",
    ":::"
   ]
  },
  {
   "cell_type": "markdown",
   "id": "e3c22fe6",
   "metadata": {},
   "source": [
    "### Main features of XGBoost\n",
    "\n",
    "- The primary reasons we should use this algorithm are its **accuracy**, **efficiency** and **feasibility**. \n",
    "\n",
    "- It is a linear model and a [tree learning](https://en.wikipedia.org/wiki/Decision_tree_learning) algorithm that does parallel computations on a single machine. \n",
    "\n",
    "- It also has extra features for doing cross validation and computing feature importance. \n",
    "\n",
    "- Given below are some of the main features of the model:\n",
    "\n",
    "  - **Sparsity** : It accepts sparse input for tree booster and linear booster.\n",
    "  \n",
    "  - **Customization** : It supports customized objective and evaluation functions.\n",
    "  \n",
    "  - **DMatrix** : Its optimized data structure that improves its performance and efficiency."
   ]
  },
  {
   "cell_type": "markdown",
   "id": "12731c15",
   "metadata": {},
   "source": [
    "## Bagging Vs Boosting\n",
    "\n",
    "- To know bagging and boosting, we need to know ensemble methods.\n",
    "\n",
    "- Ensemble methods combine several decision trees to produce better predictive performance than utilizing a single decision tree. \n",
    "\n",
    "- The main principle behind the ensemble model is that a group of weak learners come together to form a strong learner.\n",
    "\n",
    "- Now, we will talk about two techniques to perform ensemble decision trees. These are as follows:\n",
    "\n",
    "  - Bagging\n",
    "\n",
    "  - Boosting\n",
    "  \n",
    "- You can follow the link below for more in-depth discussion on Bagging and Boosting.\n",
    "\n",
    "    [Bagging vs Boosting](https://www.kaggle.com/prashant111/bagging-vs-boosting)"
   ]
  },
  {
   "cell_type": "markdown",
   "id": "88a724d2",
   "metadata": {},
   "source": [
    "### Bagging\n",
    "\n",
    "- Bagging (or Bootstrap Aggregation), is a simple and very powerful ensemble method. \n",
    "\n",
    "- Bagging is the application of the Bootstrap procedure to a high-variance machine learning algorithm, typically decision trees.\n",
    "\n",
    "- The idea behind bagging is combining the results of multiple models (for instance, all decision trees) to get a generalized result. \n",
    "\n",
    "- Bagging technique uses these subsets (bags) to get a fair idea of the distribution (complete set). The size of subsets created for bagging may be less than the original set.\n",
    "\n",
    "- Bagging had each model run independently and then aggregate the outputs at the end without preference to any model.\n",
    "\n",
    "- Bagging can be depicted with the following diagram："
   ]
  },
  {
   "cell_type": "markdown",
   "id": "4ce0d0e4",
   "metadata": {},
   "source": [
    ":::{figure} https://static-1300131294.cos.ap-shanghai.myqcloud.com/images/ml-advanced/xgboost_k_fold_cv_feature_importance/Process_of_bagging.webp\n",
    "---\n",
    "name: 'Process of Bagging'\n",
    "width: 90%\n",
    "---\n",
    "Process of Bagging\n",
    ":::"
   ]
  },
  {
   "cell_type": "markdown",
   "id": "f0aa400b",
   "metadata": {},
   "source": [
    "### Boosting\n",
    "\n",
    "- Boosting is a sequential process, where each subsequent model attempts to correct the errors of the previous model. The succeeding models are dependent on the previous model.\n",
    "\n",
    "- In this technique, learners are learned sequentially with early learners fitting simple models to the data and then analyzing data for errors. In other words, we fit consecutive trees (random sample) and at every step, the goal is to solve for net error from the prior tree.\n",
    "\n",
    "- When an input is misclassified by a hypothesis, its weight is increased so that next hypothesis is more likely to classify it correctly. By combining the whole set at the end converts weak learners into better performing model.\n",
    "\n",
    "- Boosting is another ensemble technique to create a collection of models. \n",
    "\n",
    "- Boosting can be depicted with the following diagram:"
   ]
  },
  {
   "cell_type": "markdown",
   "id": "aaa6c4f9",
   "metadata": {},
   "source": [
    ":::{figure} https://static-1300131294.cos.ap-shanghai.myqcloud.com/images/ml-advanced/xgboost_k_fold_cv_feature_importance/Process_of_boosting.webp\n",
    "---\n",
    "name: 'Process of Boosting'\n",
    "width: 90%\n",
    "---\n",
    "Process of Boosting\n",
    ":::"
   ]
  },
  {
   "cell_type": "markdown",
   "id": "5ba8fdef",
   "metadata": {},
   "source": [
    "## XGBoost algorithm intuition\n",
    "\n",
    "- XGBoost is a powerful and lightning fast machine learning library. It’s commonly used to win some professional level competitions. \n",
    "\n",
    "- It’s an intimidating algorithm, especially because of the number of large parameters that XGBoost provides.\n",
    "\n",
    "- Also, there is some confusion regarding gradient boosting, gradient boosted trees and XGBoost.\n",
    "\n",
    "- So, in this section, we will discuss - **gradient boosting**, **gradient boosted trees** and **XGBoost**. The purpose of this section is to clarify these concepts."
   ]
  },
  {
   "cell_type": "markdown",
   "id": "84f19877",
   "metadata": {},
   "source": [
    "### Gradient boosting\n",
    "\n",
    "- Gradient boosting is a machine learning technique for regression and classification problems, which produces a prediction model in the form of an ensemble of weak prediction models, typically decision trees.\n",
    "\n",
    "- It builds the model in a stage-wise fashion like other boosting methods do and it generalizes them by allowing optimization of an arbitrary differentiable loss function.\n",
    "\n",
    "- The objective of any supervised learning algorithm is to define a loss function and minimize it. The same is true for Gradient Boosting algorithm. Here, we have mean squared error (MSE) as loss-function defined as follows:\n",
    "\n",
    "$$ Loss = MSE = \\sum(y_i-y_i^p)^2 $$"
   ]
  },
  {
   "cell_type": "markdown",
   "id": "fb4491af-58b5-45cf-bb0c-2f34b23436a9",
   "metadata": {},
   "source": [
    "- where $y_i = ith$ target value, $y_i^p = ith$ prediction, $L(y_i,y_i^p)$ is loss function\n",
    "\n",
    "- We want our predictions, such that our loss function (MSE) is minimum. \n",
    "\n",
    "- By using gradient descent and updating our predictions based on a learning rate, we can find the values where MSE is minimum.\n",
    "\n",
    "- It can be depicted as follows:\n",
    "$$ y_i^p = y_i^p + a * \\sigma\\sum(y_i - y_i^p)^2/\\sigma y_i^p $$"
   ]
  },
  {
   "cell_type": "markdown",
   "id": "67f518c4-68c1-4460-9241-dd3d94383315",
   "metadata": {},
   "source": [
    "- which becomes, $y_i^p = y_i^p - a * 2 * \\sum(y_i - y_i^p)$\n",
    "\n",
    "- where, $a$ is learning rate and $\\sum(y_i-y_i^p)$ is sum of residuals\n",
    "\n",
    "- So, we are basically updating the predictions such that the sum of our residuals is close to 0 (or minimum) and predicted values are sufficiently close to actual values.\n",
    "\n",
    "- Now, we train our second model on the gradient of the error with respect to the loss predictions of the first model. Thus, we should correct the mistakes of the first model. \n",
    "\n",
    "- This is the core of gradient boosting, and what allows many simple models to compensate for each other’s weaknesses to better fit the data.\n",
    "\n",
    "- Gradient Boosting is an iterative procedure. So, we will repeat the above process over and over again. Each time we fit a new model to the gradient of the error of the updated sum of models.\n",
    "\n",
    "- So, gradient boosting is a method for optimizing the function F, but it doesn’t really care about h (since nothing about the optimization of h is defined). This means that any base model h can be used to construct F."
   ]
  },
  {
   "cell_type": "markdown",
   "id": "29035db5",
   "metadata": {},
   "source": [
    "### Gradient Boosted Trees\n",
    "\n",
    "- Gradient boosted trees consider the special case where the simple model h is a decision tree. \n",
    "\n",
    "- It can be depicted with the following diagram which is taken from XGBoost’s documentation."
   ]
  },
  {
   "cell_type": "markdown",
   "id": "7cb6cf42",
   "metadata": {},
   "source": [
    ":::{figure} https://static-1300131294.cos.ap-shanghai.myqcloud.com/images/ml-advanced/xgboost_k_fold_cv_feature_importance/Gradient_boosted_trees.png\n",
    "---\n",
    "name: 'Gradient Boosted Trees'\n",
    "width: 90%\n",
    "---\n",
    "Gradient Boosted Trees\n",
    ":::"
   ]
  },
  {
   "cell_type": "markdown",
   "id": "eee8a270",
   "metadata": {},
   "source": [
    "- In this case, there are 2 kinds of parameters P - **the weights at each leaf w** and **the number of leaves T in each tree** (so that in the above example, T=3 and w=[2, 0.1, -1]).\n",
    "\n",
    "- When building a decision tree, a challenge is to decide how to split a current leaf. For instance, in the above image, how could we add another layer to the (age > 15) leaf. \n",
    "\n",
    "- A ‘greedy’ way to do this is to consider every possible split on the remaining features (so, gender and occupation), and calculate the new loss for each split. We could then pick the tree which most reduces our loss."
   ]
  },
  {
   "cell_type": "markdown",
   "id": "cb08b5a2",
   "metadata": {},
   "source": [
    ":::{figure} https://static-1300131294.cos.ap-shanghai.myqcloud.com/images/ml-advanced/xgboost_k_fold_cv_feature_importance/New_tree_minimizing_loss.png\n",
    "---\n",
    "name: 'New Tree minimizing loss'\n",
    "width: 90%\n",
    "---\n",
    "New Tree minimizing loss\n",
    ":::"
   ]
  },
  {
   "cell_type": "markdown",
   "id": "78394939",
   "metadata": {},
   "source": [
    "- In addition to finding the new tree structures, the weights at each node need to be calculated as well, such that the loss is minimized. Since the tree structure is now fixed, this can be done analytically now by setting the loss function = 0.\n",
    "\n",
    "- After derivation, we get the following result.\n",
    "\n",
    "$$ w_j = \\frac{\\sum_{i\\in I_j} \\frac{\\partial loss}{\\partial (\\hat{y}=0)}}{\\sum_{i\\in I_j}(\\frac{\\partial^2 loss}{\\partial (\\hat{y}=0)^2})+ \\lambda} $$\n",
    "\n",
    "- Where $I_j$ is a set containing all the instances ((x, y) datapoints) at a leaf, and $w_j$ is the weight at leaf j. \n",
    "\n",
    "- This looks more intimidating than it is; for some intuition, if we consider $loss = MSE =(y-\\hat{y})^2$, then taking the first and second gradients where $\\hat{y} =0$ yields\n",
    "\n",
    "$$ w_j = \\frac{\\sum_{i\\in I_j} y}{\\sum_{i\\in I_j} 2 + \\lambda} $$\n",
    "\n",
    "- Here, the weights effectively become the average of the true labels at each leaf (with some regularization from the λ constant)."
   ]
  },
  {
   "cell_type": "markdown",
   "id": "4ce7cce9",
   "metadata": {},
   "source": [
    "### Extreme gradient boosting (XGBoost)\n",
    "\n",
    "- XGBoost is one of the fastest implementations of gradient boosted trees. It does this by tackling one of the major inefficiencies of gradient boosted trees. \n",
    "\n",
    "- Consider the case where there are thousands of features, and therefore thousands of possible splits. Now, if we consider the potential loss for all possible splits to create a new branch we have thousands of potential splits and losses.\n",
    "\n",
    "- XGBoost tackles this inefficiency by looking at the distribution of features across all data points in a leaf and using this information to reduce the search space of possible feature splits.\n",
    "\n",
    "- Although XGBoost implements a few regularization tricks, this speed up is by far the most useful feature of the library, allowing many hyperparameter settings to be investigated quickly. \n",
    "\n",
    "- This is helpful because there are many hyperparameters to tune which are designed to limit overfitting."
   ]
  },
  {
   "cell_type": "markdown",
   "id": "aa0d5b4e",
   "metadata": {},
   "source": [
    "## Implementing XGBoost in Python"
   ]
  },
  {
   "cell_type": "markdown",
   "id": "6adb96b8",
   "metadata": {},
   "source": [
    "### Load libraries"
   ]
  },
  {
   "cell_type": "code",
   "execution_count": 23,
   "id": "2e72408c",
   "metadata": {
    "attributes": {
     "classes": [
      "code-cell"
     ],
     "id": ""
    }
   },
   "outputs": [],
   "source": [
    "import numpy as np\n",
    "import pandas as pd\n",
    "import matplotlib.pyplot as plt"
   ]
  },
  {
   "cell_type": "markdown",
   "id": "ef1f470a",
   "metadata": {},
   "source": [
    "### Read dataset"
   ]
  },
  {
   "cell_type": "code",
   "execution_count": 24,
   "id": "2daa4d06",
   "metadata": {
    "attributes": {
     "classes": [
      "code-cell"
     ],
     "id": ""
    }
   },
   "outputs": [],
   "source": [
    "data = 'https://static-1300131294.cos.ap-shanghai.myqcloud.com/data/wholesale_customers_data.csv'\n",
    "\n",
    "df = pd.read_csv(data)"
   ]
  },
  {
   "cell_type": "markdown",
   "id": "ea7344e7",
   "metadata": {},
   "source": [
    "### EDA"
   ]
  },
  {
   "cell_type": "markdown",
   "id": "d821e8a7",
   "metadata": {},
   "source": [
    "#### Shape of dataset\n",
    "\n",
    "- I will start off by checking the shape of the dataset."
   ]
  },
  {
   "cell_type": "code",
   "execution_count": 25,
   "id": "227f8764",
   "metadata": {
    "attributes": {
     "classes": [
      "code-cell"
     ],
     "id": ""
    }
   },
   "outputs": [
    {
     "data": {
      "text/plain": [
       "(440, 8)"
      ]
     },
     "execution_count": 25,
     "metadata": {},
     "output_type": "execute_result"
    }
   ],
   "source": [
    "df.shape"
   ]
  },
  {
   "cell_type": "markdown",
   "id": "979ad8eb",
   "metadata": {},
   "source": [
    "We can see that there are 440 instances and 8 attributes in the dataset."
   ]
  },
  {
   "cell_type": "markdown",
   "id": "675a1194",
   "metadata": {},
   "source": [
    "#### Preview dataset"
   ]
  },
  {
   "cell_type": "code",
   "execution_count": 26,
   "id": "a39f72fe",
   "metadata": {
    "attributes": {
     "classes": [
      "code-cell"
     ],
     "id": ""
    },
    "tags": [
     "output-scoll"
    ]
   },
   "outputs": [
    {
     "data": {
      "text/html": [
       "<div>\n",
       "<style scoped>\n",
       "    .dataframe tbody tr th:only-of-type {\n",
       "        vertical-align: middle;\n",
       "    }\n",
       "\n",
       "    .dataframe tbody tr th {\n",
       "        vertical-align: top;\n",
       "    }\n",
       "\n",
       "    .dataframe thead th {\n",
       "        text-align: right;\n",
       "    }\n",
       "</style>\n",
       "<table border=\"1\" class=\"dataframe\">\n",
       "  <thead>\n",
       "    <tr style=\"text-align: right;\">\n",
       "      <th></th>\n",
       "      <th>Channel</th>\n",
       "      <th>Region</th>\n",
       "      <th>Fresh</th>\n",
       "      <th>Milk</th>\n",
       "      <th>Grocery</th>\n",
       "      <th>Frozen</th>\n",
       "      <th>Detergents_Paper</th>\n",
       "      <th>Delicassen</th>\n",
       "    </tr>\n",
       "  </thead>\n",
       "  <tbody>\n",
       "    <tr>\n",
       "      <th>0</th>\n",
       "      <td>2</td>\n",
       "      <td>3</td>\n",
       "      <td>12669</td>\n",
       "      <td>9656</td>\n",
       "      <td>7561</td>\n",
       "      <td>214</td>\n",
       "      <td>2674</td>\n",
       "      <td>1338</td>\n",
       "    </tr>\n",
       "    <tr>\n",
       "      <th>1</th>\n",
       "      <td>2</td>\n",
       "      <td>3</td>\n",
       "      <td>7057</td>\n",
       "      <td>9810</td>\n",
       "      <td>9568</td>\n",
       "      <td>1762</td>\n",
       "      <td>3293</td>\n",
       "      <td>1776</td>\n",
       "    </tr>\n",
       "    <tr>\n",
       "      <th>2</th>\n",
       "      <td>2</td>\n",
       "      <td>3</td>\n",
       "      <td>6353</td>\n",
       "      <td>8808</td>\n",
       "      <td>7684</td>\n",
       "      <td>2405</td>\n",
       "      <td>3516</td>\n",
       "      <td>7844</td>\n",
       "    </tr>\n",
       "    <tr>\n",
       "      <th>3</th>\n",
       "      <td>1</td>\n",
       "      <td>3</td>\n",
       "      <td>13265</td>\n",
       "      <td>1196</td>\n",
       "      <td>4221</td>\n",
       "      <td>6404</td>\n",
       "      <td>507</td>\n",
       "      <td>1788</td>\n",
       "    </tr>\n",
       "    <tr>\n",
       "      <th>4</th>\n",
       "      <td>2</td>\n",
       "      <td>3</td>\n",
       "      <td>22615</td>\n",
       "      <td>5410</td>\n",
       "      <td>7198</td>\n",
       "      <td>3915</td>\n",
       "      <td>1777</td>\n",
       "      <td>5185</td>\n",
       "    </tr>\n",
       "  </tbody>\n",
       "</table>\n",
       "</div>"
      ],
      "text/plain": [
       "   Channel  Region  Fresh  Milk  Grocery  Frozen  Detergents_Paper  Delicassen\n",
       "0        2       3  12669  9656     7561     214              2674        1338\n",
       "1        2       3   7057  9810     9568    1762              3293        1776\n",
       "2        2       3   6353  8808     7684    2405              3516        7844\n",
       "3        1       3  13265  1196     4221    6404               507        1788\n",
       "4        2       3  22615  5410     7198    3915              1777        5185"
      ]
     },
     "execution_count": 26,
     "metadata": {},
     "output_type": "execute_result"
    }
   ],
   "source": [
    "df.head()"
   ]
  },
  {
   "cell_type": "markdown",
   "id": "134476d8",
   "metadata": {},
   "source": [
    "- We can see that `Channel` variable contains values as 1 and 2. \n",
    "\n",
    "- These two values classify the customers from two different channels as\n",
    "     - 1 for Horeca (Hotel/Retail/Café) customers and \n",
    "     - 2 for Retail channel (nominal) customers."
   ]
  },
  {
   "cell_type": "markdown",
   "id": "0fd48237",
   "metadata": {},
   "source": [
    "#### Summary of dataset"
   ]
  },
  {
   "cell_type": "code",
   "execution_count": 27,
   "id": "85730528",
   "metadata": {
    "attributes": {
     "classes": [
      "code-cell"
     ],
     "id": ""
    }
   },
   "outputs": [
    {
     "name": "stdout",
     "output_type": "stream",
     "text": [
      "<class 'pandas.core.frame.DataFrame'>\n",
      "RangeIndex: 440 entries, 0 to 439\n",
      "Data columns (total 8 columns):\n",
      " #   Column            Non-Null Count  Dtype\n",
      "---  ------            --------------  -----\n",
      " 0   Channel           440 non-null    int64\n",
      " 1   Region            440 non-null    int64\n",
      " 2   Fresh             440 non-null    int64\n",
      " 3   Milk              440 non-null    int64\n",
      " 4   Grocery           440 non-null    int64\n",
      " 5   Frozen            440 non-null    int64\n",
      " 6   Detergents_Paper  440 non-null    int64\n",
      " 7   Delicassen        440 non-null    int64\n",
      "dtypes: int64(8)\n",
      "memory usage: 27.6 KB\n"
     ]
    }
   ],
   "source": [
    "df.info()"
   ]
  },
  {
   "cell_type": "markdown",
   "id": "2bf588c9",
   "metadata": {},
   "source": [
    "#### Summary statistics of dataset"
   ]
  },
  {
   "cell_type": "code",
   "execution_count": 28,
   "id": "c335dacb",
   "metadata": {
    "attributes": {
     "classes": [
      "code-cell"
     ],
     "id": ""
    },
    "tags": [
     "output-scoll"
    ]
   },
   "outputs": [
    {
     "data": {
      "text/html": [
       "<div>\n",
       "<style scoped>\n",
       "    .dataframe tbody tr th:only-of-type {\n",
       "        vertical-align: middle;\n",
       "    }\n",
       "\n",
       "    .dataframe tbody tr th {\n",
       "        vertical-align: top;\n",
       "    }\n",
       "\n",
       "    .dataframe thead th {\n",
       "        text-align: right;\n",
       "    }\n",
       "</style>\n",
       "<table border=\"1\" class=\"dataframe\">\n",
       "  <thead>\n",
       "    <tr style=\"text-align: right;\">\n",
       "      <th></th>\n",
       "      <th>Channel</th>\n",
       "      <th>Region</th>\n",
       "      <th>Fresh</th>\n",
       "      <th>Milk</th>\n",
       "      <th>Grocery</th>\n",
       "      <th>Frozen</th>\n",
       "      <th>Detergents_Paper</th>\n",
       "      <th>Delicassen</th>\n",
       "    </tr>\n",
       "  </thead>\n",
       "  <tbody>\n",
       "    <tr>\n",
       "      <th>count</th>\n",
       "      <td>440.000000</td>\n",
       "      <td>440.000000</td>\n",
       "      <td>440.000000</td>\n",
       "      <td>440.000000</td>\n",
       "      <td>440.000000</td>\n",
       "      <td>440.000000</td>\n",
       "      <td>440.000000</td>\n",
       "      <td>440.000000</td>\n",
       "    </tr>\n",
       "    <tr>\n",
       "      <th>mean</th>\n",
       "      <td>1.322727</td>\n",
       "      <td>2.543182</td>\n",
       "      <td>12000.297727</td>\n",
       "      <td>5796.265909</td>\n",
       "      <td>7951.277273</td>\n",
       "      <td>3071.931818</td>\n",
       "      <td>2881.493182</td>\n",
       "      <td>1524.870455</td>\n",
       "    </tr>\n",
       "    <tr>\n",
       "      <th>std</th>\n",
       "      <td>0.468052</td>\n",
       "      <td>0.774272</td>\n",
       "      <td>12647.328865</td>\n",
       "      <td>7380.377175</td>\n",
       "      <td>9503.162829</td>\n",
       "      <td>4854.673333</td>\n",
       "      <td>4767.854448</td>\n",
       "      <td>2820.105937</td>\n",
       "    </tr>\n",
       "    <tr>\n",
       "      <th>min</th>\n",
       "      <td>1.000000</td>\n",
       "      <td>1.000000</td>\n",
       "      <td>3.000000</td>\n",
       "      <td>55.000000</td>\n",
       "      <td>3.000000</td>\n",
       "      <td>25.000000</td>\n",
       "      <td>3.000000</td>\n",
       "      <td>3.000000</td>\n",
       "    </tr>\n",
       "    <tr>\n",
       "      <th>25%</th>\n",
       "      <td>1.000000</td>\n",
       "      <td>2.000000</td>\n",
       "      <td>3127.750000</td>\n",
       "      <td>1533.000000</td>\n",
       "      <td>2153.000000</td>\n",
       "      <td>742.250000</td>\n",
       "      <td>256.750000</td>\n",
       "      <td>408.250000</td>\n",
       "    </tr>\n",
       "    <tr>\n",
       "      <th>50%</th>\n",
       "      <td>1.000000</td>\n",
       "      <td>3.000000</td>\n",
       "      <td>8504.000000</td>\n",
       "      <td>3627.000000</td>\n",
       "      <td>4755.500000</td>\n",
       "      <td>1526.000000</td>\n",
       "      <td>816.500000</td>\n",
       "      <td>965.500000</td>\n",
       "    </tr>\n",
       "    <tr>\n",
       "      <th>75%</th>\n",
       "      <td>2.000000</td>\n",
       "      <td>3.000000</td>\n",
       "      <td>16933.750000</td>\n",
       "      <td>7190.250000</td>\n",
       "      <td>10655.750000</td>\n",
       "      <td>3554.250000</td>\n",
       "      <td>3922.000000</td>\n",
       "      <td>1820.250000</td>\n",
       "    </tr>\n",
       "    <tr>\n",
       "      <th>max</th>\n",
       "      <td>2.000000</td>\n",
       "      <td>3.000000</td>\n",
       "      <td>112151.000000</td>\n",
       "      <td>73498.000000</td>\n",
       "      <td>92780.000000</td>\n",
       "      <td>60869.000000</td>\n",
       "      <td>40827.000000</td>\n",
       "      <td>47943.000000</td>\n",
       "    </tr>\n",
       "  </tbody>\n",
       "</table>\n",
       "</div>"
      ],
      "text/plain": [
       "          Channel      Region          Fresh          Milk       Grocery  \\\n",
       "count  440.000000  440.000000     440.000000    440.000000    440.000000   \n",
       "mean     1.322727    2.543182   12000.297727   5796.265909   7951.277273   \n",
       "std      0.468052    0.774272   12647.328865   7380.377175   9503.162829   \n",
       "min      1.000000    1.000000       3.000000     55.000000      3.000000   \n",
       "25%      1.000000    2.000000    3127.750000   1533.000000   2153.000000   \n",
       "50%      1.000000    3.000000    8504.000000   3627.000000   4755.500000   \n",
       "75%      2.000000    3.000000   16933.750000   7190.250000  10655.750000   \n",
       "max      2.000000    3.000000  112151.000000  73498.000000  92780.000000   \n",
       "\n",
       "             Frozen  Detergents_Paper    Delicassen  \n",
       "count    440.000000        440.000000    440.000000  \n",
       "mean    3071.931818       2881.493182   1524.870455  \n",
       "std     4854.673333       4767.854448   2820.105937  \n",
       "min       25.000000          3.000000      3.000000  \n",
       "25%      742.250000        256.750000    408.250000  \n",
       "50%     1526.000000        816.500000    965.500000  \n",
       "75%     3554.250000       3922.000000   1820.250000  \n",
       "max    60869.000000      40827.000000  47943.000000  "
      ]
     },
     "execution_count": 28,
     "metadata": {},
     "output_type": "execute_result"
    }
   ],
   "source": [
    "df.describe()"
   ]
  },
  {
   "cell_type": "markdown",
   "id": "6f5d9583",
   "metadata": {},
   "source": [
    "#### Check for missing values"
   ]
  },
  {
   "cell_type": "code",
   "execution_count": 29,
   "id": "b4fc95a9",
   "metadata": {
    "attributes": {
     "classes": [
      "code-cell"
     ],
     "id": ""
    }
   },
   "outputs": [
    {
     "data": {
      "text/plain": [
       "Channel             0\n",
       "Region              0\n",
       "Fresh               0\n",
       "Milk                0\n",
       "Grocery             0\n",
       "Frozen              0\n",
       "Detergents_Paper    0\n",
       "Delicassen          0\n",
       "dtype: int64"
      ]
     },
     "execution_count": 29,
     "metadata": {},
     "output_type": "execute_result"
    }
   ],
   "source": [
    "df.isnull().sum()"
   ]
  },
  {
   "cell_type": "markdown",
   "id": "10e4c602",
   "metadata": {},
   "source": [
    "We can see that there are no missing values in the dataset."
   ]
  },
  {
   "cell_type": "markdown",
   "id": "3097837b",
   "metadata": {},
   "source": [
    "### Declare feature vector and target variable"
   ]
  },
  {
   "cell_type": "code",
   "execution_count": 30,
   "id": "dea502bb",
   "metadata": {
    "attributes": {
     "classes": [
      "code-cell"
     ],
     "id": ""
    }
   },
   "outputs": [],
   "source": [
    "X = df.drop('Channel', axis=1)\n",
    "\n",
    "y = df['Channel']"
   ]
  },
  {
   "cell_type": "markdown",
   "id": "96218c72",
   "metadata": {},
   "source": [
    "- Now, let's take a look at feature vector(X) and target variable(y)."
   ]
  },
  {
   "cell_type": "code",
   "execution_count": 31,
   "id": "be252613",
   "metadata": {
    "attributes": {
     "classes": [
      "code-cell"
     ],
     "id": ""
    },
    "tags": [
     "output-scoll"
    ]
   },
   "outputs": [
    {
     "data": {
      "text/html": [
       "<div>\n",
       "<style scoped>\n",
       "    .dataframe tbody tr th:only-of-type {\n",
       "        vertical-align: middle;\n",
       "    }\n",
       "\n",
       "    .dataframe tbody tr th {\n",
       "        vertical-align: top;\n",
       "    }\n",
       "\n",
       "    .dataframe thead th {\n",
       "        text-align: right;\n",
       "    }\n",
       "</style>\n",
       "<table border=\"1\" class=\"dataframe\">\n",
       "  <thead>\n",
       "    <tr style=\"text-align: right;\">\n",
       "      <th></th>\n",
       "      <th>Region</th>\n",
       "      <th>Fresh</th>\n",
       "      <th>Milk</th>\n",
       "      <th>Grocery</th>\n",
       "      <th>Frozen</th>\n",
       "      <th>Detergents_Paper</th>\n",
       "      <th>Delicassen</th>\n",
       "    </tr>\n",
       "  </thead>\n",
       "  <tbody>\n",
       "    <tr>\n",
       "      <th>0</th>\n",
       "      <td>3</td>\n",
       "      <td>12669</td>\n",
       "      <td>9656</td>\n",
       "      <td>7561</td>\n",
       "      <td>214</td>\n",
       "      <td>2674</td>\n",
       "      <td>1338</td>\n",
       "    </tr>\n",
       "    <tr>\n",
       "      <th>1</th>\n",
       "      <td>3</td>\n",
       "      <td>7057</td>\n",
       "      <td>9810</td>\n",
       "      <td>9568</td>\n",
       "      <td>1762</td>\n",
       "      <td>3293</td>\n",
       "      <td>1776</td>\n",
       "    </tr>\n",
       "    <tr>\n",
       "      <th>2</th>\n",
       "      <td>3</td>\n",
       "      <td>6353</td>\n",
       "      <td>8808</td>\n",
       "      <td>7684</td>\n",
       "      <td>2405</td>\n",
       "      <td>3516</td>\n",
       "      <td>7844</td>\n",
       "    </tr>\n",
       "    <tr>\n",
       "      <th>3</th>\n",
       "      <td>3</td>\n",
       "      <td>13265</td>\n",
       "      <td>1196</td>\n",
       "      <td>4221</td>\n",
       "      <td>6404</td>\n",
       "      <td>507</td>\n",
       "      <td>1788</td>\n",
       "    </tr>\n",
       "    <tr>\n",
       "      <th>4</th>\n",
       "      <td>3</td>\n",
       "      <td>22615</td>\n",
       "      <td>5410</td>\n",
       "      <td>7198</td>\n",
       "      <td>3915</td>\n",
       "      <td>1777</td>\n",
       "      <td>5185</td>\n",
       "    </tr>\n",
       "  </tbody>\n",
       "</table>\n",
       "</div>"
      ],
      "text/plain": [
       "   Region  Fresh  Milk  Grocery  Frozen  Detergents_Paper  Delicassen\n",
       "0       3  12669  9656     7561     214              2674        1338\n",
       "1       3   7057  9810     9568    1762              3293        1776\n",
       "2       3   6353  8808     7684    2405              3516        7844\n",
       "3       3  13265  1196     4221    6404               507        1788\n",
       "4       3  22615  5410     7198    3915              1777        5185"
      ]
     },
     "execution_count": 31,
     "metadata": {},
     "output_type": "execute_result"
    }
   ],
   "source": [
    "X.head()"
   ]
  },
  {
   "cell_type": "code",
   "execution_count": 32,
   "id": "22de8390",
   "metadata": {
    "attributes": {
     "classes": [
      "code-cell"
     ],
     "id": ""
    }
   },
   "outputs": [
    {
     "data": {
      "text/plain": [
       "0    2\n",
       "1    2\n",
       "2    2\n",
       "3    1\n",
       "4    2\n",
       "Name: Channel, dtype: int64"
      ]
     },
     "execution_count": 32,
     "metadata": {},
     "output_type": "execute_result"
    }
   ],
   "source": [
    "y.head()"
   ]
  },
  {
   "cell_type": "markdown",
   "id": "2aac2c79",
   "metadata": {},
   "source": [
    "- We can see that the y label contain values as 1 and 2. \n",
    "\n",
    "- We will need to convert it into 0 and 1 for further analysis. \n",
    "\n",
    "- We will do it as follows:"
   ]
  },
  {
   "cell_type": "code",
   "execution_count": 33,
   "id": "90dca21d",
   "metadata": {
    "attributes": {
     "classes": [
      "code-cell"
     ],
     "id": ""
    }
   },
   "outputs": [],
   "source": [
    "# convert labels into binary values\n",
    "\n",
    "y[y == 2] = 0\n",
    "\n",
    "y[y == 1] = 1"
   ]
  },
  {
   "cell_type": "code",
   "execution_count": 34,
   "id": "4eb0aca6",
   "metadata": {
    "attributes": {
     "classes": [
      "code-cell"
     ],
     "id": ""
    }
   },
   "outputs": [
    {
     "data": {
      "text/plain": [
       "0    0\n",
       "1    0\n",
       "2    0\n",
       "3    1\n",
       "4    0\n",
       "Name: Channel, dtype: int64"
      ]
     },
     "execution_count": 34,
     "metadata": {},
     "output_type": "execute_result"
    }
   ],
   "source": [
    "# again preview the y label\n",
    "\n",
    "y.head()"
   ]
  },
  {
   "cell_type": "markdown",
   "id": "36b19174",
   "metadata": {},
   "source": [
    "- Now, we will convert the dataset into an optimized data structure called **Dmatrix** that XGBoost supports and gives it acclaimed performance and efficiency gains. \n",
    "\n",
    "- We will do it as follows:"
   ]
  },
  {
   "cell_type": "code",
   "execution_count": 35,
   "id": "eba5aa92",
   "metadata": {
    "attributes": {
     "classes": [
      "code-cell"
     ],
     "id": ""
    }
   },
   "outputs": [],
   "source": [
    "# import XGBoost\n",
    "import xgboost as xgb\n",
    "\n",
    "# define data_dmatrix\n",
    "data_dmatrix = xgb.DMatrix(data=X,label=y)"
   ]
  },
  {
   "cell_type": "markdown",
   "id": "65c7fd50",
   "metadata": {},
   "source": [
    "### Split data into separate training and test set"
   ]
  },
  {
   "cell_type": "code",
   "execution_count": 36,
   "id": "f58da809",
   "metadata": {
    "attributes": {
     "classes": [
      "code-cell"
     ],
     "id": ""
    }
   },
   "outputs": [],
   "source": [
    "# split X and y into training and testing sets\n",
    "from sklearn.model_selection import train_test_split\n",
    "\n",
    "X_train, X_test, y_train, y_test = train_test_split(X, y, test_size = 0.3, random_state = 0)"
   ]
  },
  {
   "cell_type": "markdown",
   "id": "82284170",
   "metadata": {},
   "source": [
    "### Train the XGBoost Classifier\n",
    "\n",
    "- In order to train the XGBoost classifier, we need to know different parameters that XGBoost provides.\n",
    "\n",
    "- We will discuss these parameters in later sections.\n",
    "\n",
    "- Now, its time to train the XGBoost Classifier.\n",
    "\n",
    "- We will proceed as follows:"
   ]
  },
  {
   "cell_type": "code",
   "execution_count": 37,
   "id": "cdb622dd",
   "metadata": {
    "attributes": {
     "classes": [
      "code-cell"
     ],
     "id": ""
    }
   },
   "outputs": [
    {
     "data": {
      "text/html": [
       "<style>#sk-container-id-2 {color: black;background-color: white;}#sk-container-id-2 pre{padding: 0;}#sk-container-id-2 div.sk-toggleable {background-color: white;}#sk-container-id-2 label.sk-toggleable__label {cursor: pointer;display: block;width: 100%;margin-bottom: 0;padding: 0.3em;box-sizing: border-box;text-align: center;}#sk-container-id-2 label.sk-toggleable__label-arrow:before {content: \"▸\";float: left;margin-right: 0.25em;color: #696969;}#sk-container-id-2 label.sk-toggleable__label-arrow:hover:before {color: black;}#sk-container-id-2 div.sk-estimator:hover label.sk-toggleable__label-arrow:before {color: black;}#sk-container-id-2 div.sk-toggleable__content {max-height: 0;max-width: 0;overflow: hidden;text-align: left;background-color: #f0f8ff;}#sk-container-id-2 div.sk-toggleable__content pre {margin: 0.2em;color: black;border-radius: 0.25em;background-color: #f0f8ff;}#sk-container-id-2 input.sk-toggleable__control:checked~div.sk-toggleable__content {max-height: 200px;max-width: 100%;overflow: auto;}#sk-container-id-2 input.sk-toggleable__control:checked~label.sk-toggleable__label-arrow:before {content: \"▾\";}#sk-container-id-2 div.sk-estimator input.sk-toggleable__control:checked~label.sk-toggleable__label {background-color: #d4ebff;}#sk-container-id-2 div.sk-label input.sk-toggleable__control:checked~label.sk-toggleable__label {background-color: #d4ebff;}#sk-container-id-2 input.sk-hidden--visually {border: 0;clip: rect(1px 1px 1px 1px);clip: rect(1px, 1px, 1px, 1px);height: 1px;margin: -1px;overflow: hidden;padding: 0;position: absolute;width: 1px;}#sk-container-id-2 div.sk-estimator {font-family: monospace;background-color: #f0f8ff;border: 1px dotted black;border-radius: 0.25em;box-sizing: border-box;margin-bottom: 0.5em;}#sk-container-id-2 div.sk-estimator:hover {background-color: #d4ebff;}#sk-container-id-2 div.sk-parallel-item::after {content: \"\";width: 100%;border-bottom: 1px solid gray;flex-grow: 1;}#sk-container-id-2 div.sk-label:hover label.sk-toggleable__label {background-color: #d4ebff;}#sk-container-id-2 div.sk-serial::before {content: \"\";position: absolute;border-left: 1px solid gray;box-sizing: border-box;top: 0;bottom: 0;left: 50%;z-index: 0;}#sk-container-id-2 div.sk-serial {display: flex;flex-direction: column;align-items: center;background-color: white;padding-right: 0.2em;padding-left: 0.2em;position: relative;}#sk-container-id-2 div.sk-item {position: relative;z-index: 1;}#sk-container-id-2 div.sk-parallel {display: flex;align-items: stretch;justify-content: center;background-color: white;position: relative;}#sk-container-id-2 div.sk-item::before, #sk-container-id-2 div.sk-parallel-item::before {content: \"\";position: absolute;border-left: 1px solid gray;box-sizing: border-box;top: 0;bottom: 0;left: 50%;z-index: -1;}#sk-container-id-2 div.sk-parallel-item {display: flex;flex-direction: column;z-index: 1;position: relative;background-color: white;}#sk-container-id-2 div.sk-parallel-item:first-child::after {align-self: flex-end;width: 50%;}#sk-container-id-2 div.sk-parallel-item:last-child::after {align-self: flex-start;width: 50%;}#sk-container-id-2 div.sk-parallel-item:only-child::after {width: 0;}#sk-container-id-2 div.sk-dashed-wrapped {border: 1px dashed gray;margin: 0 0.4em 0.5em 0.4em;box-sizing: border-box;padding-bottom: 0.4em;background-color: white;}#sk-container-id-2 div.sk-label label {font-family: monospace;font-weight: bold;display: inline-block;line-height: 1.2em;}#sk-container-id-2 div.sk-label-container {text-align: center;}#sk-container-id-2 div.sk-container {/* jupyter's `normalize.less` sets `[hidden] { display: none; }` but bootstrap.min.css set `[hidden] { display: none !important; }` so we also need the `!important` here to be able to override the default hidden behavior on the sphinx rendered scikit-learn.org. See: https://github.com/scikit-learn/scikit-learn/issues/21755 */display: inline-block !important;position: relative;}#sk-container-id-2 div.sk-text-repr-fallback {display: none;}</style><div id=\"sk-container-id-2\" class=\"sk-top-container\"><div class=\"sk-text-repr-fallback\"><pre>XGBClassifier(alpha=10, base_score=0.5, booster=&#x27;gbtree&#x27;, callbacks=None,\n",
       "              colsample_bylevel=1, colsample_bynode=1, colsample_bytree=1,\n",
       "              early_stopping_rounds=None, enable_categorical=False,\n",
       "              eval_metric=None, gamma=0, gpu_id=-1, grow_policy=&#x27;depthwise&#x27;,\n",
       "              importance_type=None, interaction_constraints=&#x27;&#x27;,\n",
       "              learning_rate=1.0, max_bin=256, max_cat_to_onehot=4,\n",
       "              max_delta_step=0, max_depth=4, max_leaves=0, min_child_weight=1,\n",
       "              missing=nan, monotone_constraints=&#x27;()&#x27;, n_estimators=100,\n",
       "              n_jobs=0, num_parallel_tree=1, predictor=&#x27;auto&#x27;, random_state=0,\n",
       "              reg_alpha=10, ...)</pre><b>In a Jupyter environment, please rerun this cell to show the HTML representation or trust the notebook. <br />On GitHub, the HTML representation is unable to render, please try loading this page with nbviewer.org.</b></div><div class=\"sk-container\" hidden><div class=\"sk-item\"><div class=\"sk-estimator sk-toggleable\"><input class=\"sk-toggleable__control sk-hidden--visually\" id=\"sk-estimator-id-2\" type=\"checkbox\" checked><label for=\"sk-estimator-id-2\" class=\"sk-toggleable__label sk-toggleable__label-arrow\">XGBClassifier</label><div class=\"sk-toggleable__content\"><pre>XGBClassifier(alpha=10, base_score=0.5, booster=&#x27;gbtree&#x27;, callbacks=None,\n",
       "              colsample_bylevel=1, colsample_bynode=1, colsample_bytree=1,\n",
       "              early_stopping_rounds=None, enable_categorical=False,\n",
       "              eval_metric=None, gamma=0, gpu_id=-1, grow_policy=&#x27;depthwise&#x27;,\n",
       "              importance_type=None, interaction_constraints=&#x27;&#x27;,\n",
       "              learning_rate=1.0, max_bin=256, max_cat_to_onehot=4,\n",
       "              max_delta_step=0, max_depth=4, max_leaves=0, min_child_weight=1,\n",
       "              missing=nan, monotone_constraints=&#x27;()&#x27;, n_estimators=100,\n",
       "              n_jobs=0, num_parallel_tree=1, predictor=&#x27;auto&#x27;, random_state=0,\n",
       "              reg_alpha=10, ...)</pre></div></div></div></div></div>"
      ],
      "text/plain": [
       "XGBClassifier(alpha=10, base_score=0.5, booster='gbtree', callbacks=None,\n",
       "              colsample_bylevel=1, colsample_bynode=1, colsample_bytree=1,\n",
       "              early_stopping_rounds=None, enable_categorical=False,\n",
       "              eval_metric=None, gamma=0, gpu_id=-1, grow_policy='depthwise',\n",
       "              importance_type=None, interaction_constraints='',\n",
       "              learning_rate=1.0, max_bin=256, max_cat_to_onehot=4,\n",
       "              max_delta_step=0, max_depth=4, max_leaves=0, min_child_weight=1,\n",
       "              missing=nan, monotone_constraints='()', n_estimators=100,\n",
       "              n_jobs=0, num_parallel_tree=1, predictor='auto', random_state=0,\n",
       "              reg_alpha=10, ...)"
      ]
     },
     "execution_count": 37,
     "metadata": {},
     "output_type": "execute_result"
    }
   ],
   "source": [
    "# import XGBClassifier\n",
    "from xgboost import XGBClassifier\n",
    "\n",
    "\n",
    "# declare parameters\n",
    "params = {\n",
    "            'objective':'binary:logistic',\n",
    "            'max_depth': 4,\n",
    "            'alpha': 10,\n",
    "            'learning_rate': 1.0,\n",
    "            'n_estimators':100\n",
    "        }         \n",
    "           \n",
    "          \n",
    "# instantiate the classifier \n",
    "xgb_clf = XGBClassifier(**params)\n",
    "\n",
    "\n",
    "# fit the classifier to the training data\n",
    "xgb_clf.fit(X_train, y_train)"
   ]
  },
  {
   "cell_type": "markdown",
   "id": "00962183",
   "metadata": {},
   "source": [
    "we can view the parameters of the xgb trained model as follows:"
   ]
  },
  {
   "cell_type": "code",
   "execution_count": 38,
   "id": "94bbf482",
   "metadata": {
    "attributes": {
     "classes": [
      "code-cell"
     ],
     "id": ""
    }
   },
   "outputs": [
    {
     "name": "stdout",
     "output_type": "stream",
     "text": [
      "XGBClassifier(alpha=10, base_score=0.5, booster='gbtree', callbacks=None,\n",
      "              colsample_bylevel=1, colsample_bynode=1, colsample_bytree=1,\n",
      "              early_stopping_rounds=None, enable_categorical=False,\n",
      "              eval_metric=None, gamma=0, gpu_id=-1, grow_policy='depthwise',\n",
      "              importance_type=None, interaction_constraints='',\n",
      "              learning_rate=1.0, max_bin=256, max_cat_to_onehot=4,\n",
      "              max_delta_step=0, max_depth=4, max_leaves=0, min_child_weight=1,\n",
      "              missing=nan, monotone_constraints='()', n_estimators=100,\n",
      "              n_jobs=0, num_parallel_tree=1, predictor='auto', random_state=0,\n",
      "              reg_alpha=10, ...)\n"
     ]
    }
   ],
   "source": [
    "print(xgb_clf)"
   ]
  },
  {
   "cell_type": "markdown",
   "id": "f9436e76",
   "metadata": {},
   "source": [
    "### Make predictions with XGBoost classifier"
   ]
  },
  {
   "cell_type": "code",
   "execution_count": 39,
   "id": "6130b295",
   "metadata": {
    "attributes": {
     "classes": [
      "code-cell"
     ],
     "id": ""
    }
   },
   "outputs": [],
   "source": [
    "# make predictions on test data\n",
    "\n",
    "y_pred = xgb_clf.predict(X_test)"
   ]
  },
  {
   "cell_type": "markdown",
   "id": "e0198a7e",
   "metadata": {},
   "source": [
    "### Check accuracy score"
   ]
  },
  {
   "cell_type": "code",
   "execution_count": 40,
   "id": "19fc41bc",
   "metadata": {
    "attributes": {
     "classes": [
      "code-cell"
     ],
     "id": ""
    }
   },
   "outputs": [
    {
     "name": "stdout",
     "output_type": "stream",
     "text": [
      "XGBoost model accuracy score: 0.8864\n"
     ]
    }
   ],
   "source": [
    "# compute and print accuracy score\n",
    "\n",
    "from sklearn.metrics import accuracy_score\n",
    "\n",
    "print('XGBoost model accuracy score: {0:0.4f}'. format(accuracy_score(y_test, y_pred)))"
   ]
  },
  {
   "cell_type": "markdown",
   "id": "1c39a1ae",
   "metadata": {},
   "source": [
    "We can see that XGBoost obtain accuracy score of 88.64%."
   ]
  },
  {
   "cell_type": "markdown",
   "id": "4b37d43b",
   "metadata": {},
   "source": [
    "## k-fold Cross Validation using XGBoost\n",
    "\n",
    "- To build more robust models with XGBoost, we should always perform k-fold cross validation. \n",
    "\n",
    "- In this way, we ensure that the original training dataset is used for both training and validation. \n",
    "\n",
    "- Also, each entry is used for validation just once. \n",
    "\n",
    "- XGBoost supports k-fold cross validation using the cv() method. \n",
    "\n",
    "- In this method, we will specify several parameters which are as follows:\n",
    "\n",
    "  - **nfolds** - This parameter specifies the number of cross-validation sets we want to build.\n",
    "\n",
    "  - **num_boost_round** - It denotes the number of trees we build.\n",
    "\n",
    "  - **metrics** - It is the performance evaluation metrics to be considered during CV.\n",
    "\n",
    "  - **as_pandas** - It is used to return the results in a pandas DataFrame.\n",
    "\n",
    "  - **early_stopping_rounds** - This parameter stops training of the model early if the hold-out metric does not improve for a given number of rounds.\n",
    "\n",
    "  - **seed** - This parameter is used for reproducibility of results.\n",
    "\n",
    "We can use these parameters to build a k-fold cross-validation model by calling XGBoost's CV() method."
   ]
  },
  {
   "cell_type": "code",
   "execution_count": 41,
   "id": "691934f2",
   "metadata": {
    "attributes": {
     "classes": [
      "code-cell"
     ],
     "id": ""
    }
   },
   "outputs": [],
   "source": [
    "from xgboost import cv\n",
    "\n",
    "params = {\"objective\":\"binary:logistic\",'colsample_bytree': 0.3,'learning_rate': 0.1,\n",
    "                'max_depth': 5, 'alpha': 10}\n",
    "\n",
    "xgb_cv = cv(dtrain=data_dmatrix, params=params, nfold=3,\n",
    "                    num_boost_round=50, early_stopping_rounds=10, metrics=\"auc\", as_pandas=True, seed=123)"
   ]
  },
  {
   "cell_type": "markdown",
   "id": "b535e1d3",
   "metadata": {},
   "source": [
    "- **xgb_cv** contains train and test auc metrics for each boosting round. \n",
    "\n",
    "- Let's preview **xgb_cv**."
   ]
  },
  {
   "cell_type": "code",
   "execution_count": 42,
   "id": "e57098d9",
   "metadata": {
    "attributes": {
     "classes": [
      "code-cell"
     ],
     "id": ""
    },
    "tags": [
     "output-scoll"
    ]
   },
   "outputs": [
    {
     "data": {
      "text/html": [
       "<div>\n",
       "<style scoped>\n",
       "    .dataframe tbody tr th:only-of-type {\n",
       "        vertical-align: middle;\n",
       "    }\n",
       "\n",
       "    .dataframe tbody tr th {\n",
       "        vertical-align: top;\n",
       "    }\n",
       "\n",
       "    .dataframe thead th {\n",
       "        text-align: right;\n",
       "    }\n",
       "</style>\n",
       "<table border=\"1\" class=\"dataframe\">\n",
       "  <thead>\n",
       "    <tr style=\"text-align: right;\">\n",
       "      <th></th>\n",
       "      <th>train-auc-mean</th>\n",
       "      <th>train-auc-std</th>\n",
       "      <th>test-auc-mean</th>\n",
       "      <th>test-auc-std</th>\n",
       "    </tr>\n",
       "  </thead>\n",
       "  <tbody>\n",
       "    <tr>\n",
       "      <th>0</th>\n",
       "      <td>0.914999</td>\n",
       "      <td>0.009704</td>\n",
       "      <td>0.880965</td>\n",
       "      <td>0.021050</td>\n",
       "    </tr>\n",
       "    <tr>\n",
       "      <th>1</th>\n",
       "      <td>0.934374</td>\n",
       "      <td>0.013263</td>\n",
       "      <td>0.923562</td>\n",
       "      <td>0.022810</td>\n",
       "    </tr>\n",
       "    <tr>\n",
       "      <th>2</th>\n",
       "      <td>0.936252</td>\n",
       "      <td>0.013723</td>\n",
       "      <td>0.924433</td>\n",
       "      <td>0.025777</td>\n",
       "    </tr>\n",
       "    <tr>\n",
       "      <th>3</th>\n",
       "      <td>0.943878</td>\n",
       "      <td>0.009032</td>\n",
       "      <td>0.927152</td>\n",
       "      <td>0.022228</td>\n",
       "    </tr>\n",
       "    <tr>\n",
       "      <th>4</th>\n",
       "      <td>0.957881</td>\n",
       "      <td>0.008845</td>\n",
       "      <td>0.935191</td>\n",
       "      <td>0.016437</td>\n",
       "    </tr>\n",
       "  </tbody>\n",
       "</table>\n",
       "</div>"
      ],
      "text/plain": [
       "   train-auc-mean  train-auc-std  test-auc-mean  test-auc-std\n",
       "0        0.914999       0.009704       0.880965      0.021050\n",
       "1        0.934374       0.013263       0.923562      0.022810\n",
       "2        0.936252       0.013723       0.924433      0.025777\n",
       "3        0.943878       0.009032       0.927152      0.022228\n",
       "4        0.957881       0.008845       0.935191      0.016437"
      ]
     },
     "execution_count": 42,
     "metadata": {},
     "output_type": "execute_result"
    }
   ],
   "source": [
    "xgb_cv.head()"
   ]
  },
  {
   "cell_type": "markdown",
   "id": "024ec036",
   "metadata": {},
   "source": [
    "## Feature importance with XGBoost\n",
    "\n",
    "- XGBoost provides a way to examine the importance of each feature in the original dataset within the model. \n",
    "\n",
    "- It involves counting the number of times each feature is split on across all boosting trees in the model. \n",
    "\n",
    "- Then we visualize the result as a bar graph, with the features ordered according to how many times they appear.\n",
    "\n",
    "- We will proceed as follows:"
   ]
  },
  {
   "cell_type": "code",
   "execution_count": 43,
   "id": "3ff9cf79",
   "metadata": {
    "attributes": {
     "classes": [
      "code-cell"
     ],
     "id": ""
    }
   },
   "outputs": [
    {
     "data": {
      "image/png": "[encoded data removed]",
      "text/plain": [
       "<Figure size 640x480 with 1 Axes>"
      ]
     },
     "metadata": {},
     "output_type": "display_data"
    },
    {
     "data": {
      "text/plain": [
       "<Figure size 1600x1200 with 0 Axes>"
      ]
     },
     "metadata": {},
     "output_type": "display_data"
    }
   ],
   "source": [
    "xgb.plot_importance(xgb_clf)\n",
    "plt.figure(figsize = (16, 12))\n",
    "plt.show()"
   ]
  },
  {
   "cell_type": "markdown",
   "id": "73b3cf51",
   "metadata": {},
   "source": [
    "- We can see that the feature `Delicassesn` has been given the highest importance score among all the features. \n",
    "\n",
    "- Based upon this importance score, we can select the features with highest importance score and discard the redundant ones.\n",
    "\n",
    "- Thus XGBoost also gives us a way to do feature selection."
   ]
  },
  {
   "cell_type": "markdown",
   "id": "9d151011",
   "metadata": {},
   "source": [
    "## Results and conclusion\n",
    "\n",
    "- In this kernel, we implement XGBoost with Python and Scikit-Learn to classify the customers from two different channels as Horeca (Hotel/Retail/Café) customers or Retail channel (nominal) customers.\n",
    "\n",
    "- The y labels contain values as 1 and 2. We have converted them into 0 and 1 for further analysis.\n",
    "\n",
    "- We have trained the XGBoost classifier and found the accuracy score to be 88.64%.\n",
    "\n",
    "- We have performed k-fold cross-validation with XGBoost.\n",
    "\n",
    "- We have find the most important feature in XGBoost. We did it using the plot_importance() function in XGBoost that helps us to achieve this task."
   ]
  },
  {
   "cell_type": "markdown",
   "id": "b4ddd446",
   "metadata": {},
   "source": [
    "## Your turn! 🚀\n",
    "\n",
    "TBD"
   ]
  },
  {
   "cell_type": "markdown",
   "id": "4a2062a5",
   "metadata": {},
   "source": [
    "## Acknowledgments\n",
    "\n",
    "Thanks to [Prashant Banerjee](https://www.kaggle.com/prashant111) for creating the open-source course [XGBoost + k-fold CV + Feature Importance](https://www.kaggle.com/code/prashant111/xgboost-k-fold-cv-feature-importance). It inspires the majority of the content in this chapter."
   ]
  }
 ],
 "metadata": {
  "kernelspec": {
   "display_name": "Python 3 (ipykernel)",
   "language": "python",
   "name": "python3"
  },
  "language_info": {
   "codemirror_mode": {
    "name": "ipython",
    "version": 3
   },
   "file_extension": ".py",
   "mimetype": "text/x-python",
   "name": "python",
   "nbconvert_exporter": "python",
   "pygments_lexer": "ipython3",
   "version": "3.9.18"
  }
 },
 "nbformat": 4,
 "nbformat_minor": 5
}
