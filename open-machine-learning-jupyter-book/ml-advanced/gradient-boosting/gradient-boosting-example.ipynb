{
 "cells": [
  {
   "cell_type": "code",
   "execution_count": null,
   "id": "435a256a-7d50-410e-9bfa-b303d4eaff95",
   "metadata": {
    "tags": [
     "hide-input"
    ]
   },
   "outputs": [],
   "source": [
    "# Install the necessary dependencies\n",
    "\n",
    "import os\n",
    "import sys\n",
    "!{sys.executable} -m pip install --quiet pandas scikit-learn numpy matplotlib jupyterlab_myst ipython"
   ]
  },
  {
   "cell_type": "markdown",
   "id": "4bb18763",
   "metadata": {
    "tags": [
     "remove-cell"
    ]
   },
   "source": [
    "---\n",
    "license:\n",
    "    code: MIT\n",
    "    content: CC-BY-4.0\n",
    "github: https://github.com/ocademy-ai/machine-learning\n",
    "venue: By Ocademy\n",
    "open_access: true\n",
    "bibliography:\n",
    "  - https://raw.githubusercontent.com/ocademy-ai/machine-learning/main/open-machine-learning-jupyter-book/references.bib\n",
    "---"
   ]
  },
  {
   "cell_type": "markdown",
   "id": "e44880af",
   "metadata": {},
   "source": [
    "# Gradient boosting example"
   ]
  },
  {
   "cell_type": "markdown",
   "id": "50b29d0b",
   "metadata": {},
   "source": [
    "## What is gradient boosting?\n",
    "\n",
    "If you're inside the world of machine learning, it's for sure you have heard about gradient boosting algorithms such as xgboost or lightgbm. Indeed, gradient boosting represents the state-of-start for a lot of machine learning task, but how does it work? We'll try to answer this question specifically for the case of gradient boosting for trees which is the most popular case up today\n",
    "\n",
    "For me, understanding gradient boosting is all about undestarding its link to gradient descent. Remember gradient descent is the algorithm to minimize a loss function $L(\\theta)$ by sustracting the gradient to the parameters\n",
    "\n",
    "$$\n",
    "\\theta = \\theta - \\frac{\\partial L(\\theta)}{\\partial \\theta}\n",
    "$$"
   ]
  },
  {
   "cell_type": "markdown",
   "id": "f8600839",
   "metadata": {},
   "source": [
    "At first glance it doesn't make much sense; trees are based on a split-gain function (Gini, entropy), not a loss function. Moreover, what would be $\\theta$?\n",
    "\n",
    "Recall $\\theta = (\\theta_1,\\ldots,\\theta_n)$ are the learned parameters we use for making predictions, which are the paramters of the loss function. In gradient boosting, we consider the loss function as a function of the predictions instead, so we want to find $\\min_{p}L(y,p)$ and the way to achieve that is analogous to gradient descent, i.e, updating the predictions on the opposite direction of the gradients. But how can you update the predicitions? I mean, once the tree is built it has a fixed structure. \n",
    "\n",
    "Here comes the idea of additive modeling, in which you add (sequentially in this case) the predictions of several models in order to get a better performance. The first tree makes predictions on the original target, then, with the second tree, we try to minimize the loss function adding something which is not exactly minus the gradient loss, as in gradient descent, but instead we add *predictions on the gradients loss*, i.e, we fit a tree over with target the gradient loss. So, if $X,y$ represents the original data and $p = \\text{predict}(X,y)$ \n",
    "\n",
    "$$\n",
    "p = p-\\text{predict}\\left(X,\\dfrac{\\partial L(y,p)}{\\partial p}\\right)\n",
    "$$ "
   ]
  },
  {
   "cell_type": "markdown",
   "id": "892cfad9",
   "metadata": {},
   "source": [
    "This equation would be the *gradient descent* version of trees. Maybe this is nothing new for you, but I hope it gives you a better or new way of seeing gradient boosting."
   ]
  },
  {
   "cell_type": "markdown",
   "id": "4b3d6fd9",
   "metadata": {},
   "source": [
    "## Implementing Gradient boosting\n",
    "\n",
    "Now let's get our hands on some data and see a woking example"
   ]
  },
  {
   "cell_type": "code",
   "execution_count": 2,
   "id": "9e0da69f",
   "metadata": {
    "attributes": {
     "classes": [
      "code-cell"
     ],
     "id": ""
    }
   },
   "outputs": [],
   "source": [
    "import pandas as pd\n",
    "import numpy as np\n",
    "from sklearn.model_selection import train_test_split\n",
    "from sklearn.tree import DecisionTreeClassifier, DecisionTreeRegressor\n",
    "from sklearn.metrics import f1_score,roc_auc_score\n",
    "import matplotlib.pyplot as plt\n",
    "import warnings\n",
    "\n",
    "warnings.filterwarnings('ignore')\n",
    "seed = 1301"
   ]
  },
  {
   "cell_type": "markdown",
   "id": "db2cfc66",
   "metadata": {},
   "source": [
    "We will work with a modified version of our familiar titanic dataset. This is a ready-to-train version: doesn't not contains missings and categorical data has been encoded."
   ]
  },
  {
   "cell_type": "code",
   "execution_count": 3,
   "id": "993b0cca",
   "metadata": {
    "attributes": {
     "classes": [
      "code-cell"
     ],
     "id": ""
    },
    "tags": [
     "output-scoll"
    ]
   },
   "outputs": [
    {
     "data": {
      "text/html": [
       "<div>\n",
       "<style scoped>\n",
       "    .dataframe tbody tr th:only-of-type {\n",
       "        vertical-align: middle;\n",
       "    }\n",
       "\n",
       "    .dataframe tbody tr th {\n",
       "        vertical-align: top;\n",
       "    }\n",
       "\n",
       "    .dataframe thead th {\n",
       "        text-align: right;\n",
       "    }\n",
       "</style>\n",
       "<table border=\"1\" class=\"dataframe\">\n",
       "  <thead>\n",
       "    <tr style=\"text-align: right;\">\n",
       "      <th></th>\n",
       "      <th>Passengerid</th>\n",
       "      <th>Age</th>\n",
       "      <th>Fare</th>\n",
       "      <th>Sex</th>\n",
       "      <th>sibsp</th>\n",
       "      <th>zero</th>\n",
       "      <th>zero.1</th>\n",
       "      <th>zero.2</th>\n",
       "      <th>zero.3</th>\n",
       "      <th>zero.4</th>\n",
       "      <th>...</th>\n",
       "      <th>zero.12</th>\n",
       "      <th>zero.13</th>\n",
       "      <th>zero.14</th>\n",
       "      <th>Pclass</th>\n",
       "      <th>zero.15</th>\n",
       "      <th>zero.16</th>\n",
       "      <th>Embarked</th>\n",
       "      <th>zero.17</th>\n",
       "      <th>zero.18</th>\n",
       "      <th>2urvived</th>\n",
       "    </tr>\n",
       "  </thead>\n",
       "  <tbody>\n",
       "    <tr>\n",
       "      <th>0</th>\n",
       "      <td>1</td>\n",
       "      <td>22.0</td>\n",
       "      <td>7.2500</td>\n",
       "      <td>0</td>\n",
       "      <td>1</td>\n",
       "      <td>0</td>\n",
       "      <td>0</td>\n",
       "      <td>0</td>\n",
       "      <td>0</td>\n",
       "      <td>0</td>\n",
       "      <td>...</td>\n",
       "      <td>0</td>\n",
       "      <td>0</td>\n",
       "      <td>0</td>\n",
       "      <td>3</td>\n",
       "      <td>0</td>\n",
       "      <td>0</td>\n",
       "      <td>2.0</td>\n",
       "      <td>0</td>\n",
       "      <td>0</td>\n",
       "      <td>0</td>\n",
       "    </tr>\n",
       "    <tr>\n",
       "      <th>1</th>\n",
       "      <td>2</td>\n",
       "      <td>38.0</td>\n",
       "      <td>71.2833</td>\n",
       "      <td>1</td>\n",
       "      <td>1</td>\n",
       "      <td>0</td>\n",
       "      <td>0</td>\n",
       "      <td>0</td>\n",
       "      <td>0</td>\n",
       "      <td>0</td>\n",
       "      <td>...</td>\n",
       "      <td>0</td>\n",
       "      <td>0</td>\n",
       "      <td>0</td>\n",
       "      <td>1</td>\n",
       "      <td>0</td>\n",
       "      <td>0</td>\n",
       "      <td>0.0</td>\n",
       "      <td>0</td>\n",
       "      <td>0</td>\n",
       "      <td>1</td>\n",
       "    </tr>\n",
       "    <tr>\n",
       "      <th>2</th>\n",
       "      <td>3</td>\n",
       "      <td>26.0</td>\n",
       "      <td>7.9250</td>\n",
       "      <td>1</td>\n",
       "      <td>0</td>\n",
       "      <td>0</td>\n",
       "      <td>0</td>\n",
       "      <td>0</td>\n",
       "      <td>0</td>\n",
       "      <td>0</td>\n",
       "      <td>...</td>\n",
       "      <td>0</td>\n",
       "      <td>0</td>\n",
       "      <td>0</td>\n",
       "      <td>3</td>\n",
       "      <td>0</td>\n",
       "      <td>0</td>\n",
       "      <td>2.0</td>\n",
       "      <td>0</td>\n",
       "      <td>0</td>\n",
       "      <td>1</td>\n",
       "    </tr>\n",
       "    <tr>\n",
       "      <th>3</th>\n",
       "      <td>4</td>\n",
       "      <td>35.0</td>\n",
       "      <td>53.1000</td>\n",
       "      <td>1</td>\n",
       "      <td>1</td>\n",
       "      <td>0</td>\n",
       "      <td>0</td>\n",
       "      <td>0</td>\n",
       "      <td>0</td>\n",
       "      <td>0</td>\n",
       "      <td>...</td>\n",
       "      <td>0</td>\n",
       "      <td>0</td>\n",
       "      <td>0</td>\n",
       "      <td>1</td>\n",
       "      <td>0</td>\n",
       "      <td>0</td>\n",
       "      <td>2.0</td>\n",
       "      <td>0</td>\n",
       "      <td>0</td>\n",
       "      <td>1</td>\n",
       "    </tr>\n",
       "    <tr>\n",
       "      <th>4</th>\n",
       "      <td>5</td>\n",
       "      <td>35.0</td>\n",
       "      <td>8.0500</td>\n",
       "      <td>0</td>\n",
       "      <td>0</td>\n",
       "      <td>0</td>\n",
       "      <td>0</td>\n",
       "      <td>0</td>\n",
       "      <td>0</td>\n",
       "      <td>0</td>\n",
       "      <td>...</td>\n",
       "      <td>0</td>\n",
       "      <td>0</td>\n",
       "      <td>0</td>\n",
       "      <td>3</td>\n",
       "      <td>0</td>\n",
       "      <td>0</td>\n",
       "      <td>2.0</td>\n",
       "      <td>0</td>\n",
       "      <td>0</td>\n",
       "      <td>0</td>\n",
       "    </tr>\n",
       "  </tbody>\n",
       "</table>\n",
       "<p>5 rows × 28 columns</p>\n",
       "</div>"
      ],
      "text/plain": [
       "   Passengerid   Age     Fare  Sex  sibsp  zero  zero.1  zero.2  zero.3  \\\n",
       "0            1  22.0   7.2500    0      1     0       0       0       0   \n",
       "1            2  38.0  71.2833    1      1     0       0       0       0   \n",
       "2            3  26.0   7.9250    1      0     0       0       0       0   \n",
       "3            4  35.0  53.1000    1      1     0       0       0       0   \n",
       "4            5  35.0   8.0500    0      0     0       0       0       0   \n",
       "\n",
       "   zero.4  ...  zero.12  zero.13  zero.14  Pclass  zero.15  zero.16  Embarked  \\\n",
       "0       0  ...        0        0        0       3        0        0       2.0   \n",
       "1       0  ...        0        0        0       1        0        0       0.0   \n",
       "2       0  ...        0        0        0       3        0        0       2.0   \n",
       "3       0  ...        0        0        0       1        0        0       2.0   \n",
       "4       0  ...        0        0        0       3        0        0       2.0   \n",
       "\n",
       "   zero.17  zero.18  2urvived  \n",
       "0        0        0         0  \n",
       "1        0        0         1  \n",
       "2        0        0         1  \n",
       "3        0        0         1  \n",
       "4        0        0         0  \n",
       "\n",
       "[5 rows x 28 columns]"
      ]
     },
     "execution_count": 3,
     "metadata": {},
     "output_type": "execute_result"
    }
   ],
   "source": [
    "path = \"https://static-1300131294.cos.ap-shanghai.myqcloud.com/data/titanic_train_and_test.csv\"\n",
    "data = pd.read_csv(path)\n",
    "\n",
    "data.head()"
   ]
  },
  {
   "cell_type": "code",
   "execution_count": 4,
   "id": "59284066",
   "metadata": {
    "attributes": {
     "classes": [
      "code-cell"
     ],
     "id": ""
    }
   },
   "outputs": [],
   "source": [
    "###to get train and test\n",
    "def split_data(data,target,drop,test_size=0.2,seed=seed):\n",
    "    \n",
    "    return train_test_split(data.dropna().drop(target+drop,axis=1),\n",
    "                            data.dropna()[target],\n",
    "                            test_size=test_size,\n",
    "                            random_state = seed)"
   ]
  },
  {
   "cell_type": "code",
   "execution_count": 5,
   "id": "dd717fed",
   "metadata": {
    "attributes": {
     "classes": [
      "code-cell"
     ],
     "id": ""
    }
   },
   "outputs": [],
   "source": [
    "drop,target  = ['Passengerid'],['2urvived']\n",
    "\n",
    "#split the data\n",
    "X_train,X_test,y_train,y_test = split_data(data,target,drop=drop)"
   ]
  },
  {
   "cell_type": "markdown",
   "id": "39e67e58",
   "metadata": {},
   "source": [
    "Let's fit a base learner for the data."
   ]
  },
  {
   "cell_type": "code",
   "execution_count": 6,
   "id": "bd05fa8c",
   "metadata": {
    "attributes": {
     "classes": [
      "code-cell"
     ],
     "id": ""
    }
   },
   "outputs": [
    {
     "name": "stdout",
     "output_type": "stream",
     "text": [
      "f1 score: 0.63\n",
      "AUC score: 0.86\n"
     ]
    }
   ],
   "source": [
    "tcl = DecisionTreeClassifier(max_depth=3,random_state=seed)\n",
    "tcl.fit(X_train,y_train)\n",
    "y_pred = tcl.predict(X_test)\n",
    "y_prob = tcl.predict_proba(X_test)[:,1]\n",
    "print(f\"f1 score: {f1_score(y_test,y_pred):.2f}\")\n",
    "print(f\"AUC score: {roc_auc_score(y_test,y_prob):.2f}\")"
   ]
  },
  {
   "cell_type": "markdown",
   "id": "c779dcce",
   "metadata": {},
   "source": [
    "Now we will construct a gradient booster class implementing the previous algorithm. Let's code it first and then talk a little bit about the details."
   ]
  },
  {
   "cell_type": "code",
   "execution_count": 7,
   "id": "9cb6370d",
   "metadata": {
    "attributes": {
     "classes": [
      "code-cell"
     ],
     "id": ""
    }
   },
   "outputs": [],
   "source": [
    "class gradient_booster():\n",
    "    def __init__(self,loss,gradient_loss,max_depth,nu):\n",
    "        self.max_depth = max_depth #max depth of all learners\n",
    "        self.nu = nu #learning rate\n",
    "        self.loss = loss #loss function to be optimized\n",
    "        self.gradient_loss = gradient_loss #gradient of the loss function\n",
    "        self.learners = [] #list with all the learners\n",
    "        self.loss_history = [] #loss through the process\n",
    "    \n",
    "    def fit(self,X,y,epochs):\n",
    "        base_learner = DecisionTreeClassifier(max_depth=self.max_depth,random_state=seed)\n",
    "        base_learner.fit(X,y)\n",
    "        initial_probs = base_learner.predict_proba(X)[:,1]\n",
    "        \n",
    "        probs = initial_probs\n",
    "        preds = initial_probs\n",
    "        loss_history = [] \n",
    "        self.learners = [base_learner]\n",
    "        target = y\n",
    "        \n",
    "        for i in range(epochs):\n",
    "            target = -gradient_loss(y,probs)\n",
    "            rt = DecisionTreeRegressor(max_depth=self.max_depth,random_state=seed) #regressor tree\n",
    "            rt.fit(X,target)\n",
    "            self.learners.append(rt)\n",
    "            preds += self.nu*rt.predict(X) #these are not probabilities!!!\n",
    "            probs = 1 / (1 + np.exp(-preds)) #these are probabilities\n",
    "            self.loss_history.append(loss(y,probs))\n",
    "            \n",
    "        return self\n",
    "    \n",
    "    def predict_proba(self,X):\n",
    "        try:\n",
    "            preds  = self.learners[0].predict_proba(X)[:,1]\n",
    "            \n",
    "            for m in self.learners[1:]:\n",
    "                preds += self.nu*m.predict(X)\n",
    "\n",
    "            return 1 / (1 + np.exp(-preds))\n",
    "        \n",
    "        except NotFittedError:\n",
    "            print(\"Model not fitted yet\")"
   ]
  },
  {
   "cell_type": "markdown",
   "id": "94961725",
   "metadata": {},
   "source": [
    "We intenionally picked a classification problem over a regression because has some additional technical details worth understanding.\n",
    "\n",
    "1. Note that the base learner is a classifier tree but the next learners are regressors due to the gradients being a continuous target.\n",
    "2. The outputs of the regressor trees aren't probabilities and therefore the cumulative predictions `preds` neither are. That's why we pass them to the sigmoid function.\n",
    "3. Finally, and this stand for the general case, we added a shrinkage parameter `nu` because of the same reasons we add it to gradient descent: the gradients can become crazy and overshoot the minimum.\n",
    "\n",
    "Next we define the loss which is the classic binary deviance."
   ]
  },
  {
   "cell_type": "code",
   "execution_count": 8,
   "id": "10d66c9f",
   "metadata": {
    "attributes": {
     "classes": [
      "code-cell"
     ],
     "id": ""
    }
   },
   "outputs": [],
   "source": [
    "def loss(y,p):\n",
    "    return -2.0 * np.mean(y * np.log(p/(1-p)) - np.logaddexp(0.0, np.log(p/(1-p)))) "
   ]
  },
  {
   "cell_type": "code",
   "execution_count": 9,
   "id": "3ccd3b59",
   "metadata": {
    "attributes": {
     "classes": [
      "code-cell"
     ],
     "id": ""
    }
   },
   "outputs": [],
   "source": [
    "def gradient_loss(y,p):\n",
    "    return (p-y)/(p*(1-p))"
   ]
  },
  {
   "cell_type": "markdown",
   "id": "710a13c6",
   "metadata": {},
   "source": [
    "Let's implement the booster and see how it performs"
   ]
  },
  {
   "cell_type": "code",
   "execution_count": 10,
   "id": "a9f18a72",
   "metadata": {
    "attributes": {
     "classes": [
      "code-cell"
     ],
     "id": ""
    }
   },
   "outputs": [
    {
     "name": "stdout",
     "output_type": "stream",
     "text": [
      "f1 score: 0.71\n",
      "AUC score: 0.88\n"
     ]
    }
   ],
   "source": [
    "booster = gradient_booster(loss=loss,gradient_loss=gradient_loss,max_depth=3,nu=0.01)\n",
    "X, y, epochs = X_train.values, y_train.values.ravel(), 50\n",
    "booster.fit(X,y,epochs)\n",
    "y_prob = booster.predict_proba(X_test)\n",
    "y_pred = 1*(y_prob>0.5)\n",
    "print(f\"f1 score: {f1_score(y_test,y_pred):.2f}\")\n",
    "print(f\"AUC score: {roc_auc_score(y_test,y_prob):.2f}\")"
   ]
  },
  {
   "cell_type": "markdown",
   "id": "a66ed60a",
   "metadata": {},
   "source": [
    "Nice! We got decent increment in auc and a good amount of f1. To finish this section we'll plot the classic loss vs epochs plot to verify that the loss is decresing with every addition of a new tree."
   ]
  },
  {
   "cell_type": "code",
   "execution_count": 11,
   "id": "b472389d",
   "metadata": {
    "attributes": {
     "classes": [
      "code-cell"
     ],
     "id": ""
    }
   },
   "outputs": [
    {
     "data": {
      "image/png": "[encoded data removed]",
      "text/plain": [
       "<Figure size 600x600 with 1 Axes>"
      ]
     },
     "metadata": {},
     "output_type": "display_data"
    }
   ],
   "source": [
    "fig,ax = plt.subplots(1,1,figsize=(6,6))\n",
    "plt.plot(range(epochs),booster.loss_history)\n",
    "plt.show()"
   ]
  },
  {
   "cell_type": "markdown",
   "id": "299a9855",
   "metadata": {},
   "source": [
    "## Your turn! 🚀\n",
    "\n",
    "TBD"
   ]
  },
  {
   "cell_type": "markdown",
   "id": "f1432d8d",
   "metadata": {},
   "source": [
    "## Acknowledgments\n",
    "\n",
    "Thanks to Alexis Moraga for creating the open-source course [Understanding Gradient Boosting](https://www.kaggle.com/code/senoratiramisu/understanding-gradient-boosting). It inspires the majority of the content in this chapter."
   ]
  }
 ],
 "metadata": {
  "kernelspec": {
   "display_name": "Python 3 (ipykernel)",
   "language": "python",
   "name": "python3"
  },
  "language_info": {
   "codemirror_mode": {
    "name": "ipython",
    "version": 3
   },
   "file_extension": ".py",
   "mimetype": "text/x-python",
   "name": "python",
   "nbconvert_exporter": "python",
   "pygments_lexer": "ipython3",
   "version": "3.9.18"
  }
 },
 "nbformat": 4,
 "nbformat_minor": 5
}
