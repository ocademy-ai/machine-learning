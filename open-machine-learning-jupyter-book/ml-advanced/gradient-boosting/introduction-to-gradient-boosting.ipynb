{
 "cells": [
  {
   "cell_type": "code",
   "execution_count": null,
   "id": "a5358dee-3ef0-4dea-8130-02559ede8261",
   "metadata": {
    "tags": [
     "hide-input"
    ]
   },
   "outputs": [],
   "source": [
    "# Install the necessary dependencies\n",
    "\n",
    "import os\n",
    "import sys\n",
    "!{sys.executable} -m pip install --quiet pandas scikit-learn numpy matplotlib jupyterlab_myst ipython"
   ]
  },
  {
   "cell_type": "markdown",
   "id": "8b922fe8",
   "metadata": {
    "tags": [
     "remove-cell"
    ]
   },
   "source": [
    "---\n",
    "license:\n",
    "    code: MIT\n",
    "    content: CC-BY-4.0\n",
    "github: https://github.com/ocademy-ai/machine-learning\n",
    "venue: By Ocademy\n",
    "open_access: true\n",
    "bibliography:\n",
    "  - https://raw.githubusercontent.com/ocademy-ai/machine-learning/main/open-machine-learning-jupyter-book/references.bib\n",
    "---"
   ]
  },
  {
   "cell_type": "markdown",
   "id": "b40fe7e9",
   "metadata": {
    "tags": []
   },
   "source": [
    "# Introduction to Gradient Boosting\n",
    "\n",
    "Gradient Boosting is a popular machine learning algorithm that is used for both regression and classification tasks. It is a type of ensemble method that combines multiple weak learners into a single strong learner by sequentially fitting new models to the errors made by previous models.\n",
    "\n",
    "The idea behind gradient boosting is to use a loss function to measure the difference between the predicted and actual values, and then fit a new model to the residual errors. In each iteration, the model is trained on the errors made by the previous models, and the final prediction is obtained by summing the predictions of all models.\n",
    "\n",
    "The main advantage of gradient boosting is that it can handle complex data patterns and can achieve high accuracy on a wide range of tasks. However, it is computationally expensive and can be sensitive to overfitting if not properly tuned.\n",
    "\n",
    "In this section we will further explore gradient boosting."
   ]
  },
  {
   "cell_type": "markdown",
   "id": "16f75442",
   "metadata": {},
   "source": [
    ":::{figure} https://static-1300131294.cos.ap-shanghai.myqcloud.com/images/ml-advanced/introduction-to-gradient-boosting/gradient-boosting-process.png\n",
    "---\n",
    "name: 'gradient boosting'\n",
    "width: 90%\n",
    "---\n",
    "Gradient Boosting Process Diagram\n",
    ":::"
   ]
  },
  {
   "cell_type": "markdown",
   "id": "789499f3",
   "metadata": {},
   "source": [
    "```{tableofcontents}\n",
    "```"
   ]
  }
 ],
 "metadata": {
  "kernelspec": {
   "display_name": "Python 3 (ipykernel)",
   "language": "python",
   "name": "python3"
  },
  "language_info": {
   "codemirror_mode": {
    "name": "ipython",
    "version": 3
   },
   "file_extension": ".py",
   "mimetype": "text/x-python",
   "name": "python",
   "nbconvert_exporter": "python",
   "pygments_lexer": "ipython3",
   "version": "3.9.18"
  }
 },
 "nbformat": 4,
 "nbformat_minor": 5
}
