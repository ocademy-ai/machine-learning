{
 "cells": [
  {
   "cell_type": "markdown",
   "id": "813222c9-dfa6-490f-ba57-5d1aca11e5c3",
   "metadata": {
    "id": "813222c9-dfa6-490f-ba57-5d1aca11e5c3",
    "tags": [
     "hide-cell"
    ]
   },
   "source": [
    "---\n",
    "license:\n",
    "    code: MIT\n",
    "    content: CC-BY-4.0\n",
    "github: https://github.com/ocademy-ai/machine-learning\n",
    "venue: By Ocademy\n",
    "open_access: true\n",
    "bibliography:\n",
    "  - https://raw.githubusercontent.com/ocademy-ai/machine-learning/main/open-machine-learning-jupyter-book/references.bib\n",
    "---"
   ]
  },
  {
   "cell_type": "markdown",
   "id": "753b1c0e",
   "metadata": {
    "id": "753b1c0e",
    "tags": []
   },
   "source": [
    "# K-Means clustering\n",
    "\n",
    "In this section, you will learn how to create clusters using Scikit-learn and the Nigerian music dataset you imported earlier. We will cover the basics of K-Means for Clustering. Keep in mind that, as you learned in the earlier section, there are many ways to work with clusters and the method you use depends on your data. We will try K-Means as it's the most common clustering technique. Let's get started!\n",
    "\n",
    "Terms you will learn about:\n",
    "\n",
    "- Silhouette scoring\n",
    "- Elbow method\n",
    "- Inertia\n",
    "- Variance\n",
    "\n",
    "## Introduction\n",
    "\n",
    "K-Means Clustering is a method derived from the domain of signal processing. It is used to divide and partition groups of data into 'k' clusters using a series of observations. Each observation works to group a given datapoint closest to its nearest 'mean', or the center point of a cluster.\n",
    "\n",
    "The clusters can be visualized as Voronoi diagrams, which include a point (or 'seed') and its corresponding region.\n",
    "\n",
    ":::{figure} https://static-1300131294.cos.ap-shanghai.myqcloud.com/images/clustering/voronoi.png\n",
    "---\n",
    "name: voronoi diagram\n",
    "---\n",
    "voronoi diagram infographic by Jen Looper\n",
    ":::\n",
    "\n",
    "The K-Means clustering process executes in a three-step process):\n",
    "\n",
    "- The algorithm selects k-number of center points by sampling from the dataset. After this, it loops:\n",
    "\n",
    "1. It assigns each sample to the nearest centroid.\n",
    "2. It creates new centroids by taking the mean value of all of the samples assigned to the previous centroids.\n",
    "3. Then, it calculates the difference between the new and old centroids and repeats until the centroids are stabilized.\n",
    "\n",
    "One drawback of using K-Means includes the fact that you will need to establish 'k', that is the number of centroids. Fortunately the  'elbow method' helps to estimate a good starting value for 'k'. You'll try it in a minute.\n",
    "\n",
    "## Prerequisite\n",
    "\n",
    "You will work in this section's _notebook.ipynb_ file that includes the data import and preliminary cleaning you did in the last section.\n",
    "\n",
    "## Exercise - preparation\n",
    "\n",
    "Start by taking another look at the songs data."
   ]
  },
  {
   "cell_type": "code",
   "execution_count": null,
   "id": "83752800-50f3-480c-af1d-f9bc675b6db3",
   "metadata": {
    "id": "83752800-50f3-480c-af1d-f9bc675b6db3",
    "tags": [
     "hide-input"
    ]
   },
   "outputs": [],
   "source": [
    "# Install the necessary dependencies\n",
    "\n",
    "import os\n",
    "import sys\n",
    "!{sys.executable} -m pip install --quiet pandas scikit-learn numpy matplotlib jupyterlab_myst ipython threadpoolctl seaborn"
   ]
  },
  {
   "cell_type": "code",
   "execution_count": null,
   "id": "8bf636c3",
   "metadata": {},
   "outputs": [],
   "source": [
    "from IPython.display import HTML\n",
    "display(HTML(\"\"\"\n",
    "<p style=\"text-align: center;\">\n",
    "  <iframe src=\"https://static-1300131294.cos.ap-shanghai.myqcloud.com/html/clustering-vis/clustering.html\" width=\"105%\" height=\"800px\"\n",
    "  style=\"border:none;\" scrolling=\"auto\"></iframe>\n",
    "  A demo of linear-regression. <a href=\"https://www.naftaliharris.com/blog/visualizing-k-means-clustering/\"> [source]</a>\n",
    "</p>\n",
    "\"\"\"))"
   ]
  },
  {
   "cell_type": "code",
   "execution_count": null,
   "id": "2ae8e949",
   "metadata": {
    "attributes": {
     "classes": [
      "code-cell"
     ],
     "id": ""
    },
    "colab": {
     "base_uri": "https://localhost:8080/",
     "height": 706
    },
    "id": "2ae8e949",
    "outputId": "f6329d7f-1760-45c0-a1a6-e10bc296b5e7",
    "tags": []
   },
   "outputs": [],
   "source": [
    "import matplotlib.pyplot as plt\n",
    "import pandas as pd\n",
    "import seaborn as sns\n",
    "\n",
    "df = pd.read_csv(\"https://static-1300131294.cos.ap-shanghai.myqcloud.com/data/nigerian-songs.csv\")\n",
    "df = df[(df['artist_top_genre'] == 'afro dancehall') | (df['artist_top_genre'] == 'afropop') | (df['artist_top_genre'] == 'nigerian pop')]\n",
    "df = df[(df['popularity'] > 0)]\n",
    "top = df['artist_top_genre'].value_counts()\n",
    "\n",
    "plt.figure(figsize=(10,7))\n",
    "sns.barplot(x=top.index,y=top.values)\n",
    "plt.xticks(rotation=45)\n",
    "plt.title('Top genres',color = 'blue')"
   ]
  },
  {
   "cell_type": "markdown",
   "id": "0138665b",
   "metadata": {
    "id": "0138665b"
   },
   "source": [
    "1. Create a boxplot, calling `boxplot()` for each column:"
   ]
  },
  {
   "cell_type": "code",
   "execution_count": null,
   "id": "52cd7b0a",
   "metadata": {
    "attributes": {
     "classes": [
      "code-cell"
     ],
     "id": ""
    },
    "colab": {
     "base_uri": "https://localhost:8080/",
     "height": 1000
    },
    "id": "52cd7b0a",
    "outputId": "6cf2d712-cc5a-4bf6-f6e3-020fd0466a14"
   },
   "outputs": [],
   "source": [
    "plt.figure(figsize=(20,20), dpi=200)\n",
    "\n",
    "plt.subplot(4,3,1)\n",
    "sns.boxplot(x = 'popularity', data = df)\n",
    "\n",
    "plt.subplot(4,3,2)\n",
    "sns.boxplot(x = 'acousticness', data = df)\n",
    "\n",
    "plt.subplot(4,3,3)\n",
    "sns.boxplot(x = 'energy', data = df)\n",
    "\n",
    "plt.subplot(4,3,4)\n",
    "sns.boxplot(x = 'instrumentalness', data = df)\n",
    "\n",
    "plt.subplot(4,3,5)\n",
    "sns.boxplot(x = 'liveness', data = df)\n",
    "\n",
    "plt.subplot(4,3,6)\n",
    "sns.boxplot(x = 'loudness', data = df)\n",
    "\n",
    "plt.subplot(4,3,7)\n",
    "sns.boxplot(x = 'speechiness', data = df)\n",
    "\n",
    "plt.subplot(4,3,8)\n",
    "sns.boxplot(x = 'tempo', data = df)\n",
    "\n",
    "plt.subplot(4,3,9)\n",
    "sns.boxplot(x = 'time_signature', data = df)\n",
    "\n",
    "plt.subplot(4,3,10)\n",
    "sns.boxplot(x = 'danceability', data = df)\n",
    "\n",
    "plt.subplot(4,3,11)\n",
    "sns.boxplot(x = 'length', data = df)\n",
    "\n",
    "plt.subplot(4,3,12)\n",
    "sns.boxplot(x = 'release_date', data = df)"
   ]
  },
  {
   "cell_type": "markdown",
   "id": "6b1f2872",
   "metadata": {
    "id": "6b1f2872"
   },
   "source": [
    "This data is a little noisy: by observing each column as a boxplot, you can see outliers.\n",
    "\n",
    "You could go through the dataset and remove these outliers, but that would make the data pretty minimal.\n",
    "\n",
    "2. For now, choose which columns you will use for your clustering exercise. Pick ones with similar ranges and encode the `artist_top_genre` column as numeric data:"
   ]
  },
  {
   "cell_type": "code",
   "execution_count": null,
   "id": "9cdd6a5d",
   "metadata": {
    "attributes": {
     "classes": [
      "code-cell"
     ],
     "id": ""
    },
    "id": "9cdd6a5d"
   },
   "outputs": [],
   "source": [
    "from sklearn.preprocessing import LabelEncoder\n",
    "le = LabelEncoder()\n",
    "\n",
    "X = df.loc[:, ('artist_top_genre','popularity','danceability','acousticness','loudness','energy')]\n",
    "\n",
    "y = df['artist_top_genre']\n",
    "\n",
    "X['artist_top_genre'] = le.fit_transform(X['artist_top_genre'])\n",
    "\n",
    "y = le.transform(y)"
   ]
  },
  {
   "cell_type": "markdown",
   "id": "7a7059ff",
   "metadata": {
    "id": "7a7059ff"
   },
   "source": [
    "3. Now you need to pick how many clusters to target. You know there are 3 song genres that we carved out of the dataset, so let's try 3:"
   ]
  },
  {
   "cell_type": "code",
   "execution_count": null,
   "id": "4ea15cfb",
   "metadata": {
    "attributes": {
     "classes": [
      "code-cell"
     ],
     "id": ""
    },
    "colab": {
     "base_uri": "https://localhost:8080/"
    },
    "id": "4ea15cfb",
    "outputId": "700d8be7-c6ac-4ba7-91ea-daea1e6bf589"
   },
   "outputs": [],
   "source": [
    "from sklearn.cluster import KMeans\n",
    "\n",
    "nclusters = 3\n",
    "seed = 0\n",
    "\n",
    "km = KMeans(n_clusters=nclusters, random_state=seed, n_init='auto')\n",
    "km.fit(X)\n",
    "\n",
    "# Predict the cluster for each data point\n",
    "\n",
    "y_cluster_kmeans = km.predict(X)\n",
    "y_cluster_kmeans"
   ]
  },
  {
   "cell_type": "markdown",
   "id": "11af26e8",
   "metadata": {
    "id": "11af26e8"
   },
   "source": [
    "You see an array printed out with predicted clusters (0, 1,or 2) for each row of the dataframe.\n",
    "\n",
    "4. Use this array to calculate a 'silhouette score':"
   ]
  },
  {
   "cell_type": "code",
   "execution_count": null,
   "id": "f35f6d5d",
   "metadata": {
    "attributes": {
     "classes": [
      "code-cell"
     ],
     "id": ""
    },
    "colab": {
     "base_uri": "https://localhost:8080/"
    },
    "id": "f35f6d5d",
    "outputId": "d17fe6ef-b099-476d-a247-5eb593d61c47"
   },
   "outputs": [],
   "source": [
    "from sklearn import metrics\n",
    "score = metrics.silhouette_score(X, y_cluster_kmeans)\n",
    "score"
   ]
  },
  {
   "cell_type": "markdown",
   "id": "9fafb9e2",
   "metadata": {
    "id": "9fafb9e2"
   },
   "source": [
    "## Silhouette score\n",
    "\n",
    "Look for a silhouette score closer to 1. This score varies from -1 to 1, and if the score is 1, the cluster is dense and well-separated from other clusters. A value near 0 represents overlapping clusters with samples very close to the decision boundary of the neighboring clusters.\n",
    "\n",
    "Our score is **.53**, so right in the middle. This indicates that our data is not particularly well-suited to this type of clustering, but let's continue.\n",
    "\n",
    "### Exercise - build a model\n",
    "\n",
    "1. Import `KMeans` and start the clustering process."
   ]
  },
  {
   "cell_type": "code",
   "execution_count": null,
   "id": "7db20a94",
   "metadata": {
    "attributes": {
     "classes": [
      "code-cell"
     ],
     "id": ""
    },
    "colab": {
     "base_uri": "https://localhost:8080/"
    },
    "id": "7db20a94",
    "outputId": "35823b7c-0f94-45b0-ec5a-a576b7496bbc"
   },
   "outputs": [],
   "source": [
    "wcss = []\n",
    "\n",
    "for i in range(1, 11):\n",
    "    kmeans = KMeans(n_clusters = i, init = 'k-means++', random_state = 42, n_init = 'auto')\n",
    "    kmeans.fit(X)\n",
    "    wcss.append(kmeans.inertia_)"
   ]
  },
  {
   "cell_type": "markdown",
   "id": "d02c3553",
   "metadata": {
    "id": "d02c3553"
   },
   "source": [
    "There are a few parts here that warrant explaining.\n",
    "\n",
    ":::{seealso}\n",
    "🎓 range: These are the iterations of the clustering process\n",
    "\n",
    "🎓 random_state: \"Determines random number generation for centroid initialization.\"\n",
    "\n",
    "🎓 WCSS: \"within-cluster sums of squares\" measures the squared average distance of all the points within a cluster to the cluster centroid.\n",
    "\n",
    "🎓 Inertia: K-Means algorithms attempt to choose centroids to minimize 'inertia', \"a measure of how internally coherent clusters are.\" The value is appended to the wcss variable on each iteration.\n",
    "\n",
    "🎓 k-means++: In Scikit-learn you can use the 'k-means++' optimization, which \"initializes the centroids to be (generally) distant from each other, leading to probably better results than random initialization.\n",
    ":::\n",
    "\n",
    "### Elbow method\n",
    "\n",
    "Previously, you surmised that, because you have targeted 3 song genres, you should choose 3 clusters. But is that the case?\n",
    "\n",
    "1. Use the 'elbow method' to make sure."
   ]
  },
  {
   "cell_type": "code",
   "execution_count": null,
   "id": "9b70dfd7",
   "metadata": {
    "attributes": {
     "classes": [
      "code-cell"
     ],
     "id": ""
    },
    "colab": {
     "base_uri": "https://localhost:8080/",
     "height": 487
    },
    "id": "9b70dfd7",
    "outputId": "84929290-f7ef-4d8e-844d-24275d9ae489"
   },
   "outputs": [],
   "source": [
    "plt.figure(figsize=(10,5))\n",
    "sns.lineplot(wcss)\n",
    "plt.title('Elbow')\n",
    "plt.xlabel('Number of clusters')\n",
    "plt.ylabel('WCSS')\n",
    "plt.show()"
   ]
  },
  {
   "cell_type": "markdown",
   "id": "889ceb5c",
   "metadata": {
    "id": "889ceb5c"
   },
   "source": [
    ":::{figure} https://static-1300131294.cos.ap-shanghai.myqcloud.com/images/clustering/elbow.png\n",
    "---\n",
    "name: elbow\n",
    "---\n",
    ":::\n",
    "\n",
    "Use the `wcss` variable that you built in the previous step to create a chart showing where the 'bend' in the elbow is, which indicates the optimum number of clusters. Maybe it **is** 3!\n",
    "\n",
    "## Exercise - display the clusters\n",
    "\n",
    "1. Try the process again, this time setting three clusters, and display the clusters as a scatterplot:"
   ]
  },
  {
   "cell_type": "code",
   "execution_count": null,
   "id": "99778db3",
   "metadata": {
    "attributes": {
     "classes": [
      "code-cell"
     ],
     "id": ""
    },
    "colab": {
     "base_uri": "https://localhost:8080/",
     "height": 486
    },
    "id": "99778db3",
    "outputId": "5b6debe8-ef6e-450b-ad7f-1b88299b5f53"
   },
   "outputs": [],
   "source": [
    "kmeans = KMeans(n_clusters = 3)\n",
    "kmeans.fit(X)\n",
    "labels = kmeans.predict(X, n_init='auto')\n",
    "plt.scatter(df['popularity'],df['danceability'],c = labels)\n",
    "plt.xlabel('popularity')\n",
    "plt.ylabel('danceability')\n",
    "plt.show()"
   ]
  },
  {
   "cell_type": "markdown",
   "id": "f1a1fc8f",
   "metadata": {
    "id": "f1a1fc8f"
   },
   "source": [
    "2. Check the model's accuracy:"
   ]
  },
  {
   "cell_type": "code",
   "execution_count": null,
   "id": "22155deb",
   "metadata": {
    "attributes": {
     "classes": [
      "code-cell"
     ],
     "id": ""
    },
    "colab": {
     "base_uri": "https://localhost:8080/"
    },
    "id": "22155deb",
    "outputId": "62858ab9-9518-43f7-e124-43e234b745c7"
   },
   "outputs": [],
   "source": [
    "labels = kmeans.labels_\n",
    "correct_labels = sum(y == labels)\n",
    "print(\"Result: %d out of %d samples were correctly labeled.\" % (correct_labels, y.size))\n",
    "print('Accuracy score: {0:0.2f}'. format(correct_labels/float(y.size)))"
   ]
  },
  {
   "cell_type": "markdown",
   "id": "cfabf71a",
   "metadata": {
    "id": "cfabf71a"
   },
   "source": [
    "This model's accuracy is not very good, and the shape of the clusters gives you a hint why.\n",
    "\n",
    "This data is too imbalanced, too little correlated and there is too much variance between the column values to cluster well. In fact, the clusters that form are probably heavily influenced or skewed by the three genre categories we defined above. That was a learning process!\n",
    "\n",
    "In Scikit-learn's documentation, you can see that a model like this one, with clusters not very well demarcated, has a 'variance' problem:\n",
    "\n",
    ":::{figure} https://static-1300131294.cos.ap-shanghai.myqcloud.com/images/clustering/problems.png\n",
    "---\n",
    "name: problem models\n",
    "---\n",
    "roblem models by Scikit-learn\n",
    ":::\n",
    "\n",
    "## Variance\n",
    "\n",
    "Variance is defined as \"the average of the squared differences from the Mean\" . In the context of this clustering problem, it refers to data that the numbers of our dataset tend to diverge a bit too much from the mean.\n",
    "\n",
    ":::{seealso}\n",
    "This is a great moment to think about all the ways you could correct this issue. Tweak the data a bit more? Use different columns? Use a different algorithm? Hint: Try scaling your data to normalize it and test other columns.\n",
    ":::\n",
    "\n",
    "## Your turn! 🚀\n",
    "\n",
    "TBD\n",
    "\n",
    "## Self study\n",
    "\n",
    "You can use this tool to visualize sample data points and determine their centroids.\n",
    "\n",
    "- [such as this one](https://user.ceng.metu.edu.tr/~akifakkus/courses/ceng574/k-means/)\n",
    "- [this handout on K-Means](https://stanford.edu/~cpiech/cs221/handouts/kmeans.html)\n",
    "\n",
    "## Acknowledgments\n",
    "\n",
    "Thanks to Microsoft for creating the open-source course [Machine Learning for Beginners](https://github.com/microsoft/ML-For-Beginners). It inspires the majority of the content in this chapter."
   ]
  }
 ],
 "metadata": {
  "colab": {
   "provenance": []
  },
  "kernelspec": {
   "display_name": "Python 3 (ipykernel)",
   "language": "python",
   "name": "python3"
  },
  "language_info": {
   "codemirror_mode": {
    "name": "ipython",
    "version": 3
   },
   "file_extension": ".py",
   "mimetype": "text/x-python",
   "name": "python",
   "nbconvert_exporter": "python",
   "pygments_lexer": "ipython3",
   "version": "3.9.5"
  }
 },
 "nbformat": 4,
 "nbformat_minor": 5
}
