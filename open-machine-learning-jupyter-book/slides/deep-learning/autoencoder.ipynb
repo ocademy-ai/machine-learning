{
 "cells": [
  {
   "cell_type": "code",
   "execution_count": null,
   "metadata": {
    "slideshow": {
     "slide_type": "skip"
    }
   },
   "outputs": [],
   "source": [
    "%%html\n",
    "<!-- The customized css for the slides -->\n",
    "<link rel=\"stylesheet\" type=\"text/css\" href=\"../styles/python-programming-introduction.css\"/>\n",
    "<link rel=\"stylesheet\" type=\"text/css\" href=\"../styles/basic.css\"/>\n",
    "<link rel=\"stylesheet\" type=\"text/css\" href=\"../../assets/styles/basic.css\" />"
   ]
  },
  {
   "cell_type": "markdown",
   "metadata": {
    "slideshow": {
     "slide_type": "slide"
    }
   },
   "source": [
    "# Autoencoder"
   ]
  },
  {
   "cell_type": "markdown",
   "metadata": {
    "slideshow": {
     "slide_type": "subslide"
    }
   },
   "source": [
    "## What is a Autoencoder (AE)? \n",
    "\n",
    "- A special type of neural network that is trained to copy its input to its output\n",
    "-  For example, given an image of a handwritten digit, an autoencoder first encodes the image into a lower dimensional latent representation, then decodes the latent representation back to an image\n",
    "-  An autoencoder learns to compress the data while minimizing the reconstruction error"
   ]
  },
  {
   "cell_type": "markdown",
   "metadata": {
    "slideshow": {
     "slide_type": "subslide"
    }
   },
   "source": [
    "## What is a Autoencoder (AE)? \n",
    "\n",
    "![](../images/autoencoder/ae.webp)"
   ]
  },
  {
   "cell_type": "markdown",
   "metadata": {
    "slideshow": {
     "slide_type": "subslide"
    }
   },
   "source": [
    "## What is a Autoencoder (AE)? \n",
    "\n",
    "![](../images/autoencoder/ae.png)"
   ]
  },
  {
   "cell_type": "markdown",
   "metadata": {
    "slideshow": {
     "slide_type": "subslide"
    }
   },
   "source": [
    "## What can AE be used for?\n",
    "- Denoising\n",
    "\n",
    "![](../images/autoencoder/denoise.gif)"
   ]
  },
  {
   "cell_type": "markdown",
   "metadata": {
    "slideshow": {
     "slide_type": "subslide"
    }
   },
   "source": [
    "## What can AE be used for?\n",
    "- Feature compression (dimensionality reduction)\n",
    "    - Similar to PCA, but in a non-linear manner\n",
    "- And then for clustering"
   ]
  },
  {
   "cell_type": "markdown",
   "metadata": {
    "slideshow": {
     "slide_type": "slide"
    }
   },
   "source": [
    "## What is a Variational Autoencoder (VAE)? \n",
    "- A VAE is a probabilistic take on the autoencoder, a model which takes high dimensional input data and compresses it into a smaller representation\n",
    "- Unlike a traditional autoencoder, which maps the input onto a latent vector, a VAE maps the input data into the parameters of a probability distribution, such as the mean and variance of a Gaussian\n",
    "- This approach produces a continuous, structured latent space, which is useful for image generation"
   ]
  },
  {
   "cell_type": "markdown",
   "metadata": {
    "slideshow": {
     "slide_type": "subslide"
    }
   },
   "source": [
    "## What is a Variational Autoencoder (VAE)? \n",
    "\n",
    "![](../images/autoencoder/vae2.png)"
   ]
  },
  {
   "cell_type": "markdown",
   "metadata": {
    "slideshow": {
     "slide_type": "subslide"
    }
   },
   "source": [
    "## What is a Variational Autoencoder (VAE)? \n",
    "\n",
    "![](../images/autoencoder/vae2.webp)"
   ]
  },
  {
   "cell_type": "markdown",
   "metadata": {
    "slideshow": {
     "slide_type": "subslide"
    }
   },
   "source": [
    "## What is a Variational Autoencoder (VAE)? \n",
    "\n",
    "![](../images/autoencoder/vae.png)"
   ]
  },
  {
   "cell_type": "markdown",
   "metadata": {
    "slideshow": {
     "slide_type": "subslide"
    }
   },
   "source": [
    "## What can VAE be used for?\n",
    "\n",
    "- It's a generative model!"
   ]
  },
  {
   "cell_type": "markdown",
   "metadata": {
    "slideshow": {
     "slide_type": "slide"
    }
   },
   "source": [
    "## Vis 1\n",
    "\n",
    "- https://introduction-to-autoencoders.vercel.app/"
   ]
  },
  {
   "cell_type": "markdown",
   "metadata": {
    "slideshow": {
     "slide_type": "slide"
    }
   },
   "source": [
    "## Vis 2\n",
    "\n",
    "- https://anomagram.fastforwardlabs.com/\n",
    "\n",
    "![](../images/autoencoder/anomagram.gif)\n"
   ]
  },
  {
   "cell_type": "markdown",
   "metadata": {
    "slideshow": {
     "slide_type": "slide"
    }
   },
   "source": [
    "## Time to code!\n",
    "\n",
    "- https://www.tensorflow.org/tutorials/generative/autoencoder\n",
    "\n",
    "- https://www.tensorflow.org/tutorials/generative/cvae\n",
    "\n",
    "- https://colab.research.google.com/github/savadikarc/vae/blob/master/vae.ipynb\n"
   ]
  },
  {
   "cell_type": "markdown",
   "metadata": {
    "slideshow": {
     "slide_type": "slide"
    }
   },
   "source": [
    "## Acknowledgement\n",
    "\n",
    "https://www.tensorflow.org/tutorials/generative/autoencoder\n",
    "\n",
    "https://www.tensorflow.org/tutorials/generative/cvae\n",
    "\n",
    "https://www.assemblyai.com/blog/introduction-to-variational-autoencoders-using-keras/\n",
    "\n",
    "https://www.linkedin.com/pulse/introducing-anomagram-interactive-visualization-applied-dibia/\n",
    "\n",
    "https://towardsdatascience.com/generating-images-with-autoencoders-77fd3a8dd368\n"
   ]
  }
 ],
 "metadata": {
  "celltoolbar": "Slideshow",
  "kernelspec": {
   "display_name": "Python 3 (ipykernel)",
   "language": "python",
   "name": "python3"
  },
  "language_info": {
   "codemirror_mode": {
    "name": "ipython",
    "version": 3
   },
   "file_extension": ".py",
   "mimetype": "text/x-python",
   "name": "python",
   "nbconvert_exporter": "python",
   "pygments_lexer": "ipython3",
   "version": "3.7.4"
  }
 },
 "nbformat": 4,
 "nbformat_minor": 2
}
