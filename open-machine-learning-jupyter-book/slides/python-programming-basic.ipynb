{
 "cells": [
  {
   "cell_type": "code",
   "execution_count": 1,
   "metadata": {
    "init_cell": true,
    "slideshow": {
     "slide_type": "skip"
    },
    "tags": [
     "hide-input"
    ]
   },
   "outputs": [
    {
     "data": {
      "text/html": [
       "\n",
       "<!-- The customized css for the slides -->\n",
       " \n",
       "<style> \n",
       "div.logo {\n",
       "    display: flex;\n",
       "    align-items: center;\n",
       "    margin-top: 30px;\n",
       "}\n",
       "div.alignRight {\n",
       "    display: flex;\n",
       "    justify-content: flex-end;\n",
       "}\n",
       "div.topLanguageInner {\n",
       "    display: flex;\n",
       "    flex-direction: column;\n",
       "    justify-content: center;\n",
       "    align-items: center;\n",
       "}\n",
       "\n",
       "img.removeMargin {\n",
       "    margin: 0px;\n",
       "}\n",
       "</style>\n"
      ],
      "text/plain": [
       "<IPython.core.display.HTML object>"
      ]
     },
     "metadata": {},
     "output_type": "display_data"
    }
   ],
   "source": [
    "%%html\n",
    "\n",
    "<!-- The customized css for the slides -->\n",
    " \n",
    "<style> \n",
    "div.logo {\n",
    "    display: flex;\n",
    "    align-items: center;\n",
    "    margin-top: 30px;\n",
    "}\n",
    "div.alignRight {\n",
    "    display: flex;\n",
    "    justify-content: flex-end;\n",
    "}\n",
    "div.topLanguageInner {\n",
    "    display: flex;\n",
    "    flex-direction: column;\n",
    "    justify-content: center;\n",
    "    align-items: center;\n",
    "}\n",
    "\n",
    "img.removeMargin {\n",
    "    margin: 0px;\n",
    "}\n",
    "</style>"
   ]
  },
  {
   "cell_type": "markdown",
   "metadata": {
    "notebookRunGroups": {
     "groupValue": ""
    },
    "slideshow": {
     "slide_type": "slide"
    }
   },
   "source": [
    "# Python programming introduction\n",
    "\n",
    "<div class=\"logo\">\n",
    "    <img class=\"removeMargin\" src=\"./images/logo.png\" width=\"30\"/>\n",
    "    <b style=\"margin-left:10px;\">Open Academy</b>\n",
    "</div>"
   ]
  },
  {
   "cell_type": "markdown",
   "metadata": {
    "slideshow": {
     "slide_type": "slide"
    }
   },
   "source": [
    "## 1. What's Python?\n",
    "\n",
    "- Python is a high-level programming language for general-purpose programming.\n",
    "- Python is open-source.\n",
    "- Python was created by a Dutch programmer, Guido van Rossum.\n",
    "- The first version was released on February 20, 1991.\n",
    "\n",
    "<div class=\"alignRight\">\n",
    "  <img class=\"removeMargin\" src=\"https://www.python.org/static/img/python-logo.png\"/>\n",
    "</div>"
   ]
  },
  {
   "cell_type": "markdown",
   "metadata": {
    "cell_style": "center",
    "slideshow": {
     "slide_type": "slide"
    }
   },
   "source": [
    "## 2. Why Python?\n",
    "\n",
    "- Easy to learn.\n",
    "- Well adopted.\n",
    "- Multipurpose, e.g. web development, software development, mathematics, system scripting.\n",
    "- Dominate data engineering and Machine Learning.\n",
    "\n",
    "<div class=\"alignRight\">\n",
    "    <div class=\"topLanguageInner\">\n",
    "        <img class=\"removeMargin\" src=\"./images/top-computer-languages-jun-2022.png\" width=\"360\"/>\n",
    "        <a href=\"https://statisticstimes.com/tech/top-computer-languages.php\">Top computer languages(Jun 2022).</a>\n",
    "    </div>\n",
    "</div>"
   ]
  },
  {
   "cell_type": "markdown",
   "metadata": {
    "cell_style": "center",
    "slideshow": {
     "slide_type": "slide"
    }
   },
   "source": [
    "## 3. Basic Python \n",
    "\n",
    "- A Python script can be written in Python interactive shell or the code editor. \n",
    "- A Python file has an extension `.py`."
   ]
  },
  {
   "cell_type": "markdown",
   "metadata": {
    "slideshow": {
     "slide_type": "slide"
    }
   },
   "source": [
    "### Indentation\n",
    "\n",
    "An indentation is a white space in a text. Indentation in many languages is used to increase code readability, however, Python uses indentation to create blocks of codes."
   ]
  },
  {
   "cell_type": "code",
   "execution_count": 39,
   "metadata": {},
   "outputs": [
    {
     "ename": "IndentationError",
     "evalue": "expected an indented block (483814690.py, line 3)",
     "output_type": "error",
     "traceback": [
      "\u001b[0;36m  Input \u001b[0;32mIn [39]\u001b[0;36m\u001b[0m\n\u001b[0;31m    print(\"a\")\u001b[0m\n\u001b[0m    ^\u001b[0m\n\u001b[0;31mIndentationError\u001b[0m\u001b[0;31m:\u001b[0m expected an indented block\n"
     ]
    }
   ],
   "source": [
    "# incorrect\n",
    "def a():\n",
    "print(\"a\")\n",
    "\n",
    "# correct\n",
    "def b():\n",
    "    print(\"b\")"
   ]
  },
  {
   "cell_type": "markdown",
   "metadata": {
    "slideshow": {
     "slide_type": "slide"
    }
   },
   "source": [
    "### Comments\n",
    "\n",
    "Comments are very important to make the code more readable and to leave remarks in our code. Python does not run comment parts of our code. \n",
    "\n",
    "**Example: Single Line Comment**\n",
    "\n",
    "```py\n",
    "# This is the first comment\n",
    "# This is the second comment\n",
    "# Python is eating the world\n",
    "```\n",
    "\n",
    "**Example: Multiline Comment**\n",
    "\n",
    "```py\n",
    "\"\"\"This is multiline comment\n",
    "multiline comment takes multiple lines.\n",
    "Python is eating the world\n",
    "\"\"\"\n",
    "```"
   ]
  },
  {
   "cell_type": "markdown",
   "metadata": {
    "cell_style": "split",
    "slideshow": {
     "slide_type": "slide"
    }
   },
   "source": [
    "### Data types\n",
    "\n",
    "#### Number\n",
    "\n",
    "- Integer: integer(negative, zero and positive) numbers.\n",
    "    Example: ... -3, -2, -1, 0, 1, 2, 3 ...\n",
    "- Float: decimal number.\n",
    "    Example: ... -3.5, -2.25, -1.0, 0.0, 1.1, 2.2, 3.5 ...\n",
    "- Complex.®\n",
    "    Example: 1 + j, 2 + 4j\n"
   ]
  },
  {
   "cell_type": "markdown",
   "metadata": {
    "cell_style": "split",
    "slideshow": {
     "slide_type": "subslide"
    }
   },
   "source": [
    "#### String\n",
    "\n",
    "A collection of one or more characters under a single or double quote. If a string is more than one sentence then we use a triple quote.\n",
    "\n",
    "```py\n",
    "'Asabeneh'\n",
    "'Finland'\n",
    "'Python'\n",
    "'I love teaching'\n",
    "'I hope you are enjoying the first day of open-academy Challenge'\n",
    "```"
   ]
  },
  {
   "cell_type": "markdown",
   "metadata": {
    "slideshow": {
     "slide_type": "subslide"
    }
   },
   "source": [
    "#### Booleans\n",
    "\n",
    "```Python\n",
    "True  #  Is the light on? If it is on, then the value is True\n",
    "False # I\n",
    "```\n"
   ]
  },
  {
   "cell_type": "markdown",
   "metadata": {
    "slideshow": {
     "slide_type": "subslide"
    }
   },
   "source": [
    "#### List\n",
    "\n",
    "Python list is an ordered collection that allows to store items of different data types. A list is similar to an array in JavaScript.\n",
    "\n",
    "**Example:**\n",
    "\n",
    "```py\n",
    "[0, 1, 2, 3, 4, 5]  # all are the same data types - a list of numbers\n",
    "['Banana', 'Orange', 'Mango', 'Avocado'] # all the same data types - a list of strings (fruits)\n",
    "['Finland','Estonia', 'Sweden','Norway'] # all the same data types - a list of strings (countries)\n",
    "['Banana', 10, False, 9.81] # different data types in the list - string, integer, boolean and float\n",
    "```"
   ]
  },
  {
   "cell_type": "markdown",
   "metadata": {},
   "source": [
    "#### Dictionary\n",
    "\n",
    "A Python dictionary object is an unordered collection of data in a key-value pair format.\n",
    "\n",
    "**Example:**\n",
    "\n",
    "```py\n",
    "{\n",
    "'first_name':'Asabeneh',\n",
    "'last_name':'Yetayeh',\n",
    "'country':'Finland', \n",
    "'age':250, \n",
    "'is_married':True,\n",
    "'skills':['JS', 'React', 'Node', 'Python']\n",
    "}\n",
    "```"
   ]
  },
  {
   "cell_type": "markdown",
   "metadata": {
    "slideshow": {
     "slide_type": "subslide"
    }
   },
   "source": [
    "#### Tuple\n",
    "\n",
    "A tuple is an ordered collection of different data types like a list, but tuples can not be modified once they are created. They are immutable.\n",
    "\n",
    "**Example:**\n",
    "\n",
    "```py\n",
    "('Asabeneh', 'Pawel', 'Brook', 'Abraham', 'Lidiya') # Names\n",
    "```\n",
    "\n",
    "```py\n",
    "('Earth', 'Jupiter', 'Neptune', 'Mars', 'Venus', 'Saturn', 'Uranus', 'Mercury') # planets\n",
    "```"
   ]
  },
  {
   "cell_type": "markdown",
   "metadata": {
    "slideshow": {
     "slide_type": "subslide"
    }
   },
   "source": [
    "#### Set\n",
    "\n",
    "A set is a collection of data types similar to a list and tuple. Unlike the list and the tuple, a set is not an ordered collection of items. Like in Mathematics, set in Python only stores unique items. In later sections, we will go into detail about every Python data type.\n",
    "\n",
    "**Example:**\n",
    "\n",
    "```py\n",
    "{2, 4, 3, 5}\n",
    "{3.14, 9.81, 2.7} # order is not important in set\n",
    "```"
   ]
  },
  {
   "cell_type": "markdown",
   "metadata": {
    "slideshow": {
     "slide_type": "slide"
    }
   },
   "source": [
    "### Checking data types\n",
    "\n",
    "To check the data type of certain data/variables we use the `type` function. \n"
   ]
  },
  {
   "cell_type": "code",
   "execution_count": 23,
   "metadata": {
    "slideshow": {
     "slide_type": "fragment"
    }
   },
   "outputs": [
    {
     "data": {
      "text/plain": [
       "str"
      ]
     },
     "execution_count": 23,
     "metadata": {},
     "output_type": "execute_result"
    }
   ],
   "source": [
    "type(\"abc\")"
   ]
  },
  {
   "cell_type": "code",
   "execution_count": 24,
   "metadata": {
    "slideshow": {
     "slide_type": "-"
    }
   },
   "outputs": [
    {
     "data": {
      "text/plain": [
       "int"
      ]
     },
     "execution_count": 24,
     "metadata": {},
     "output_type": "execute_result"
    }
   ],
   "source": [
    "type(1)"
   ]
  },
  {
   "cell_type": "code",
   "execution_count": 25,
   "metadata": {},
   "outputs": [
    {
     "data": {
      "text/plain": [
       "list"
      ]
     },
     "execution_count": 25,
     "metadata": {},
     "output_type": "execute_result"
    }
   ],
   "source": [
    "type([1, 2, 3])"
   ]
  },
  {
   "cell_type": "markdown",
   "metadata": {
    "slideshow": {
     "slide_type": "slide"
    }
   },
   "source": [
    "### Python file\n",
    "\n",
    "A sample Python file `helloworld.py`.\n",
    "\n",
    "```py\n",
    "print(2 + 3)             # addition(+)\n",
    "print(3 - 1)             # subtraction(-)\n",
    "print(2 * 3)             # multiplication(*)\n",
    "print(3 / 2)             # division(/)\n",
    "print(3 ** 2)            # exponential(**)\n",
    "print(3 % 2)             # modulus(%)\n",
    "print(3 // 2)            # Floor division operator(//)\n",
    "\n",
    "# Checking data types\n",
    "print(type(10))          # Int\n",
    "print(type(3.14))        # Float\n",
    "print(type(1 + 3j))      # Complex number\n",
    "print(type('Asabeneh'))  # String\n",
    "print(type([1, 2, 3]))   # List\n",
    "print(type({'name':'Asabeneh'})) # Dictionary\n",
    "print(type({9.8, 3.14, 2.7}))    # Set\n",
    "print(type((9.8, 3.14, 2.7)))    # Tuple\n",
    "```"
   ]
  },
  {
   "cell_type": "markdown",
   "metadata": {
    "slideshow": {
     "slide_type": "subslide"
    }
   },
   "source": [
    "### Python file\n"
   ]
  },
  {
   "cell_type": "raw",
   "metadata": {
    "tags": [
     "hide-input"
    ]
   },
   "source": [
    "5\n",
    "2\n",
    "6\n",
    "1.5\n",
    "9\n",
    "1\n",
    "1\n",
    "<class 'int'>\n",
    "<class 'float'>\n",
    "<class 'complex'>\n",
    "<class 'str'>\n",
    "<class 'list'>\n",
    "<class 'dict'>\n",
    "<class 'set'>\n",
    "<class 'tuple'>"
   ]
  },
  {
   "cell_type": "markdown",
   "metadata": {
    "slideshow": {
     "slide_type": "slide"
    }
   },
   "source": [
    "## 4. Your turn! 🚀\n",
    "\n",
    "[Python programming introduction - Your turn](https://open-academy.github.io/machine-learning/prerequisites/python-programming-introduction.html#your-turn)\n"
   ]
  },
  {
   "cell_type": "markdown",
   "metadata": {
    "slideshow": {
     "slide_type": "slide"
    }
   },
   "source": [
    "## 5. References\n",
    "\n",
    "1. [Python programming introduction](https://open-academy.github.io/machine-learning/prerequisites/python-programming-introduction.html#)"
   ]
  }
 ],
 "metadata": {
  "celltoolbar": "Slideshow",
  "init_cell": "run_on_kernel_ready",
  "jupytext": {
   "formats": "ipynb"
  },
  "kernelspec": {
   "display_name": "Python 3",
   "language": "python",
   "name": "python3"
  },
  "language_info": {
   "codemirror_mode": {
    "name": "ipython",
    "version": 3
   },
   "file_extension": ".py",
   "mimetype": "text/x-python",
   "name": "python",
   "nbconvert_exporter": "python",
   "pygments_lexer": "ipython3",
   "version": "3.8.10"
  },
  "rise": {
   "autolaunch": true,
   "chalkboard": {
    "color": [
     "rgb(250, 250, 250)",
     "rgb(250, 250, 250)"
    ]
   },
   "enable_chalkboard": true
  },
  "vscode": {
   "interpreter": {
    "hash": "aee8b7b246df8f9039afb4144a1f6fd8d2ca17a180786b69acc140d282b71a49"
   }
  }
 },
 "nbformat": 4,
 "nbformat_minor": 2
}
