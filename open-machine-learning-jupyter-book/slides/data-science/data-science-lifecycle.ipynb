{
 "cells": [
  {
   "cell_type": "code",
   "execution_count": 8,
   "metadata": {
    "init_cell": true,
    "pycharm": {
     "name": "#%%\n"
    },
    "slideshow": {
     "slide_type": "skip"
    },
    "tags": [
     "hide-input"
    ]
   },
   "outputs": [
    {
     "data": {
      "text/html": [
       "<!-- The customized css for the slides -->\n",
       "<link rel=\"stylesheet\" type=\"text/css\" href=\"../../assets/styles/basic.css\"/>\n",
       "<link rel=\"stylesheet\" type=\"text/css\" href=\"../../assets/styles/python-programming-basic.css\"/>\n"
      ],
      "text/plain": [
       "<IPython.core.display.HTML object>"
      ]
     },
     "metadata": {},
     "output_type": "display_data"
    }
   ],
   "source": [
    "%%html\n",
    "<!-- The customized css for the slides -->\n",
    "<link rel=\"stylesheet\" type=\"text/css\" href=\"../../assets/styles/basic.css\"/>\n",
    "<link rel=\"stylesheet\" type=\"text/css\" href=\"../../assets/styles/python-programming-basic.css\"/>"
   ]
  },
  {
   "cell_type": "markdown",
   "metadata": {
    "notebookRunGroups": {
     "groupValue": ""
    },
    "pycharm": {
     "name": "#%% md\n"
    },
    "slideshow": {
     "slide_type": "slide"
    }
   },
   "source": [
    "# Data Science lifecycle"
   ]
  },
  {
   "cell_type": "markdown",
   "metadata": {
    "pycharm": {
     "name": "#%% md\n"
    },
    "slideshow": {
     "slide_type": "slide"
    }
   },
   "source": [
    "## 1. What's Data Science lifecycle"
   ]
  },
  {
   "cell_type": "markdown",
   "metadata": {
    "slideshow": {
     "slide_type": "fragment"
    }
   },
   "source": [
    "Data Science is a process which can be broken down into 5 stages:\n",
    "\n",
    "<br>\n",
    "\n",
    "<div class=\"row\">\n",
    "    \n",
    "<div class=\"one\">\n",
    "        \n",
    "- Capturing\n",
    "- Processing\n",
    "- Analysis\n",
    "- Communication\n",
    "- Maintenance\n",
    "        \n",
    "</div>\n",
    "\n",
    "<div class=\"image-citation-box\">\n",
    "\n",
    "<img class=\"removeMargin\" width=\"500\" src=\"../images/data-science-lifecycle.jpeg\"/>\n",
    "<font size=\"4\"><i> The Data Science lifecycle<sup>[1]</sup></i></font>\n",
    "\n",
    "</div>\n",
    "    \n",
    "\n",
    "</div >\n",
    "\n",
    "<font size=\"4\">\n",
    "\n",
    "*1. What is data science? (n.d.). UCB-UMT. Retrieved 19 February 2023, from https://ischoolonline.berkeley.edu/data-science/what-is-data-science/*\n",
    "\n",
    "</font>"
   ]
  },
  {
   "cell_type": "markdown",
   "metadata": {
    "pycharm": {
     "name": "#%%\n"
    },
    "slideshow": {
     "slide_type": "slide"
    }
   },
   "source": [
    "## 2. Capturing"
   ]
  },
  {
   "cell_type": "markdown",
   "metadata": {
    "pycharm": {
     "name": "#%%\n"
    },
    "slideshow": {
     "slide_type": "fragment"
    }
   },
   "source": [
    "The capturing is combined by two stages: acquiring the data and defining the purpose and problems that need to be addressed."
   ]
  },
  {
   "cell_type": "markdown",
   "metadata": {
    "slideshow": {
     "slide_type": "fragment"
    }
   },
   "source": [
    "Defining the goals of the project will require deeper context into the problem or question. "
   ]
  },
  {
   "cell_type": "markdown",
   "metadata": {
    "slideshow": {
     "slide_type": "notes"
    }
   },
   "source": [
    "First, we need to identify and acquire those who need their problem solved. These may be stakeholders in a business or sponsors of the project, who can help identify who or what will benefit from this project as well as what, and why they need it. A well-defined goal should be measurable and quantifiable to define an acceptable result."
   ]
  },
  {
   "cell_type": "markdown",
   "metadata": {
    "pycharm": {
     "name": "#%%\n"
    },
    "slideshow": {
     "slide_type": "subslide"
    }
   },
   "source": [
    "Questions a data scientist may ask:\n",
    "\n",
    "- Has this problem been approached before? What was discovered?\n",
    "- Are the purpose and goal understood by all involved?\n",
    "- etc.\n",
    "\n",
    "Questions a data scientist may ask about the data:\n",
    "\n",
    "- What data is already available to me?\n",
    "- Who owns this data?\n",
    "- etc."
   ]
  },
  {
   "cell_type": "markdown",
   "metadata": {
    "pycharm": {
     "name": "#%%\n"
    },
    "slideshow": {
     "slide_type": "slide"
    }
   },
   "source": [
    "## 3. Processing"
   ]
  },
  {
   "cell_type": "markdown",
   "metadata": {
    "slideshow": {
     "slide_type": "fragment"
    }
   },
   "source": [
    "The processing stage of the lifecycle focuses on discovering patterns in the data as well as modeling.\n",
    "\n",
    "- Classification: organizing data into categories for more efficient use.\n",
    "- Clustering: grouping data into similar groups.\n",
    "- Regression: determining the relationships between variables to predict or forecast values."
   ]
  },
  {
   "cell_type": "markdown",
   "metadata": {
    "pycharm": {
     "name": "#%% md\n"
    },
    "slideshow": {
     "slide_type": "slide"
    }
   },
   "source": [
    "## 4. Maintaining"
   ]
  },
  {
   "cell_type": "markdown",
   "metadata": {
    "pycharm": {
     "name": "#%%\n"
    },
    "slideshow": {
     "slide_type": "fragment"
    }
   },
   "source": [
    "In the diagram of the lifecycle, you may have noticed that maintenance sits between capturing and processing. \n",
    "\n",
    "Maintenance is an ongoing process of managing, storing, and securing the data throughout the process of a project and should be taken into consideration throughout the entirety of the project."
   ]
  },
  {
   "cell_type": "markdown",
   "metadata": {
    "pycharm": {
     "name": "#%% md\n"
    },
    "slideshow": {
     "slide_type": "slide"
    }
   },
   "source": [
    "### Storing data"
   ]
  },
  {
   "cell_type": "markdown",
   "metadata": {
    "slideshow": {
     "slide_type": "fragment"
    }
   },
   "source": [
    "Considerations of how and where the data is stored can influence the cost of its storage as well as the performance of how fast the data can be accessed\n",
    "\n",
    "- On premise vs off premise vs public or private cloud\n",
    "- Cold vs hot data"
   ]
  },
  {
   "cell_type": "markdown",
   "metadata": {
    "slideshow": {
     "slide_type": "slide"
    }
   },
   "source": [
    "### Managing data"
   ]
  },
  {
   "cell_type": "markdown",
   "metadata": {},
   "source": [
    "As you work with data you may discover that some of the data needs to be cleaned using some of the techniques covered in the section focused on [data preparation](https://open-academy.github.io/machine-learning/data-science/working-with-data/data-preparation.html) building accurate models. \n",
    "\n",
    "When new data arrives, it will need some of the same applications to maintain consistency in quality. "
   ]
  },
  {
   "cell_type": "markdown",
   "metadata": {
    "slideshow": {
     "slide_type": "slide"
    }
   },
   "source": [
    "### Securing the data"
   ]
  },
  {
   "cell_type": "markdown",
   "metadata": {
    "slideshow": {
     "slide_type": "fragment"
    }
   },
   "source": [
    "One of the main goals of securing data is ensuring that those working on it are in control of what is collected and in what context it is being used. \n",
    "\n",
    "- Confirm that all data is encrypted.\n",
    "Provide customers with information on how their data is used.\n",
    "- Remove data access from those who have left the project.\n",
    "- Let only certain project members alter the data.\n",
    "- etc."
   ]
  },
  {
   "attachments": {},
   "cell_type": "markdown",
   "metadata": {
    "slideshow": {
     "slide_type": "slide"
    }
   },
   "source": [
    "## 5. Analyzing"
   ]
  },
  {
   "cell_type": "markdown",
   "metadata": {
    "slideshow": {
     "slide_type": "fragment"
    }
   },
   "source": [
    "Analyzing the data lifecycle confirms that the data can answer the questions that are proposed or solve a particular problem. "
   ]
  },
  {
   "cell_type": "markdown",
   "metadata": {},
   "source": [
    "- Exploratory data analysis\n",
    "- Data profiling, descriptive statistics, and Pandas\n",
    "- Sampling and querying\n",
    "- Exploring with visualizations\n",
    "- Exploring to identify inconsistencies"
   ]
  },
  {
   "attachments": {},
   "cell_type": "markdown",
   "metadata": {
    "slideshow": {
     "slide_type": "slide"
    }
   },
   "source": [
    "## 6. Communication"
   ]
  },
  {
   "cell_type": "markdown",
   "metadata": {
    "slideshow": {
     "slide_type": "fragment"
    }
   },
   "source": [
    "To communicate is to convey or exchange information.\n",
    "\n",
    "Information can be ideas, thoughts, feelings, messages, covert signals, data – anything that a sender (someone sending information) wants a receiver (someone receiving information) to understand."
   ]
  },
  {
   "cell_type": "markdown",
   "metadata": {
    "slideshow": {
     "slide_type": "subslide"
    }
   },
   "source": [
    "- Data communication & storytelling\n",
    "- Types of communication\n",
    "  - One way communication\n",
    "  - Two way communication"
   ]
  },
  {
   "cell_type": "markdown",
   "metadata": {
    "slideshow": {
     "slide_type": "slide"
    }
   },
   "source": [
    "### Effective communication"
   ]
  },
  {
   "cell_type": "markdown",
   "metadata": {
    "slideshow": {
     "slide_type": "fragment"
    }
   },
   "source": [
    "- Your responsibilities as a communicator\n",
    "- Understand your audience, your channel & your communication method\n",
    "- Begin with the end in mind\n",
    "- Approach it like an actual story\n",
    "- Use meaningful words & phrases\n",
    "- Use emotion"
   ]
  },
  {
   "attachments": {},
   "cell_type": "markdown",
   "metadata": {
    "pycharm": {
     "name": "#%% md\n"
    },
    "slideshow": {
     "slide_type": "slide"
    }
   },
   "source": [
    "## 7. Your turn! 🚀\n",
    "\n",
    "1. [Data science lifecycle](https://open-academy.github.io/machine-learning/data-science/data-science-lifecycle/introduction.html#your-turn)\n",
    "2. [Analyzing](https://open-academy.github.io/machine-learning/data-science/data-science-lifecycle/analyzing.html#your-turn)\n",
    "3. [Communication](https://open-academy.github.io/machine-learning/data-science/data-science-lifecycle/communication.html#your-turn)\n"
   ]
  },
  {
   "attachments": {},
   "cell_type": "markdown",
   "metadata": {
    "pycharm": {
     "name": "#%% md\n"
    },
    "slideshow": {
     "slide_type": "slide"
    }
   },
   "source": [
    "## 8. References\n",
    "\n",
    "1. [Data Science lifecycle](https://open-academy.github.io/machine-learning/data-science/data-science-lifecycle/data-science-lifecycle.html)"
   ]
  }
 ],
 "metadata": {
  "celltoolbar": "Slideshow",
  "init_cell": "run_on_kernel_ready",
  "jupytext": {
   "formats": "ipynb"
  },
  "kernelspec": {
   "display_name": "Python 3 (ipykernel)",
   "language": "python",
   "name": "python3"
  },
  "language_info": {
   "codemirror_mode": {
    "name": "ipython",
    "version": 3
   },
   "file_extension": ".py",
   "mimetype": "text/x-python",
   "name": "python",
   "nbconvert_exporter": "python",
   "pygments_lexer": "ipython3",
   "version": "3.9.16"
  },
  "rise": {
   "autolaunch": true,
   "chalkboard": {
    "color": [
     "rgb(250, 250, 250)",
     "rgb(250, 250, 250)"
    ]
   },
   "enable_chalkboard": true,
   "header": "<div class=\"logo header\"><img class=\"removeMargin\" src=\"../images/logo.png\" width=\"50\"/><b class=\"headerText\" style=\"margin-left:10px;\">Ocademy</b></div>",
   "scroll": true
  },
  "vscode": {
   "interpreter": {
    "hash": "aee8b7b246df8f9039afb4144a1f6fd8d2ca17a180786b69acc140d282b71a49"
   }
  }
 },
 "nbformat": 4,
 "nbformat_minor": 2
}
