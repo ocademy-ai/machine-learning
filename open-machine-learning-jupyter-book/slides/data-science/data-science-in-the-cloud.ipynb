{
 "cells": [
  {
   "cell_type": "code",
   "execution_count": 1,
   "metadata": {
    "init_cell": true,
    "pycharm": {
     "name": "#%%\n"
    },
    "slideshow": {
     "slide_type": "skip"
    },
    "tags": [
     "hide-input"
    ]
   },
   "outputs": [
    {
     "data": {
      "text/html": [
       "<!-- The customized css for the slides -->\n",
       "<link rel=\"stylesheet\" type=\"text/css\" href=\"../../assets/styles/basic.css\"/>\n",
       "<link rel=\"stylesheet\" type=\"text/css\" href=\"../../assets/styles/python-programming-basic.css\"/>\n"
      ],
      "text/plain": [
       "<IPython.core.display.HTML object>"
      ]
     },
     "metadata": {},
     "output_type": "display_data"
    }
   ],
   "source": [
    "%%html\n",
    "<!-- The customized css for the slides -->\n",
    "<link rel=\"stylesheet\" type=\"text/css\" href=\"../../assets/styles/basic.css\"/>\n",
    "<link rel=\"stylesheet\" type=\"text/css\" href=\"../../assets/styles/python-programming-basic.css\"/>"
   ]
  },
  {
   "cell_type": "markdown",
   "metadata": {
    "notebookRunGroups": {
     "groupValue": ""
    },
    "pycharm": {
     "name": "#%% md\n"
    },
    "slideshow": {
     "slide_type": "slide"
    }
   },
   "source": [
    "# Data Science in the cloud"
   ]
  },
  {
   "cell_type": "markdown",
   "metadata": {
    "pycharm": {
     "name": "#%% md\n"
    },
    "slideshow": {
     "slide_type": "slide"
    }
   },
   "source": [
    "## 1. What is the cloud?"
   ]
  },
  {
   "cell_type": "markdown",
   "metadata": {
    "cell_style": "center",
    "pycharm": {
     "name": "#%% md\n"
    },
    "slideshow": {
     "slide_type": "fragment"
    }
   },
   "source": [
    "The Cloud, or Cloud Computing, is the delivery of a wide range of pay-as-you-go computing services hosted on infrastructure over the internet. Services include solutions such as storage, databases, networking, software, analytics, and intelligent services."
   ]
  },
  {
   "cell_type": "markdown",
   "metadata": {
    "slideshow": {
     "slide_type": "subslide"
    }
   },
   "source": [
    "\n",
    "- Infrastructure as a Service (IaaS)\n",
    "- Platform as a Service (PaaS)\n",
    "- Software as a Service (SaaS)"
   ]
  },
  {
   "cell_type": "markdown",
   "metadata": {
    "slideshow": {
     "slide_type": "subslide"
    }
   },
   "source": [
    "- Public cloud\n",
    "- Private cloud\n",
    "- Hybrid cloud"
   ]
  },
  {
   "cell_type": "markdown",
   "metadata": {
    "cell_style": "center",
    "pycharm": {
     "name": "#%% md\n"
    },
    "slideshow": {
     "slide_type": "slide"
    }
   },
   "source": [
    "## 2. Why choose the cloud for Data Science?"
   ]
  },
  {
   "cell_type": "markdown",
   "metadata": {
    "pycharm": {
     "name": "#%% md\n"
    },
    "slideshow": {
     "slide_type": "fragment"
    }
   },
   "source": [
    "* Innovation\n",
    "* Flexibility\n",
    "* Budget\n",
    "* Scalability\n",
    "* Productivity\n",
    "* Reliability\n",
    "* Security"
   ]
  },
  {
   "cell_type": "markdown",
   "metadata": {
    "slideshow": {
     "slide_type": "subslide"
    }
   },
   "source": [
    "These are some of the most common reasons why people choose to use Cloud services.\n",
    "\n",
    "* Storing large amounts of data\n",
    "* Performing Data Integration\n",
    "* Processing data\n",
    "* Using data analytics services\n",
    "* Using Machine Learning and data intelligence services"
   ]
  },
  {
   "cell_type": "markdown",
   "metadata": {
    "pycharm": {
     "name": "#%%\n"
    },
    "slideshow": {
     "slide_type": "slide"
    }
   },
   "source": [
    "## 3. The “low code/no code” way\n"
   ]
  },
  {
   "cell_type": "markdown",
   "metadata": {
    "pycharm": {
     "name": "#%%\n"
    },
    "slideshow": {
     "slide_type": "fragment"
    }
   },
   "source": [
    "<br>\n",
    "\n",
    "<div class=\"row\">\n",
    "    \n",
    "<div class=\"one\">\n",
    "\n",
    "Low code/no code tools is the cloud-based platform for building and operating Machine Learning solutions. It includes a wide range of features and capabilities that help data scientists prepare data, train models, publish predictive services, and monitor their usage. \n",
    "\n",
    "Most importantly, it helps them to increase their efficiency by automating many of the time-consuming tasks associated with training models; and it enables them to use cloud-based compute resources that scale effectively, to handle large volumes of data while incurring costs only when actually used.\n",
    "\n",
    "\n",
    "</div>\n",
    "\n",
    "<div class=\"image-citation-box\">\n",
    "\n",
    "<img class=\"removeMargin\" width=\"500\" src=\"../images/2021-no-code-ai-market-map.png\"/>\n",
    "<font size=\"4\"><i>2021 no-code AI market map<sup>[1]</sup></i></font>\n",
    "\n",
    "</div>\n",
    "    \n",
    "\n",
    "</div >\n",
    "\n",
    "<font size=\"4\">\n",
    "\n",
    "*1. 45 no-code ai tools: The complete no-code ai guide(Updated December 2022). (n.d.). Akkio. Retrieved 5 March 2023, from https://www.akkio.com/post/45-no-code-ai-tools-complete-guide*\n",
    "\n",
    "</font>"
   ]
  },
  {
   "cell_type": "markdown",
   "metadata": {
    "slideshow": {
     "slide_type": "slide"
    }
   },
   "source": [
    "## 4. Low code/no code Machine Learning\n",
    "\n",
    "The Low code/No code way is easier to start with as it involves interacting with a GUI (Graphical User Interface), with no prior knowledge of code required.\n",
    "\n",
    "- Low code/no code training of a model\n",
    "- Low code/no code training with AutoML\n",
    "- Low code/no code model deployment and endpoint consumption"
   ]
  },
  {
   "cell_type": "markdown",
   "metadata": {
    "pycharm": {
     "name": "#%% md\n"
    },
    "slideshow": {
     "slide_type": "slide"
    }
   },
   "source": [
    "## 5. Your turn! 🚀\n",
    "\n",
    "1. [Market research](https://ocademy-ai.github.io/machine-learning/assignments/data-science/market-research.html)\n",
    "2. [Data Science project using Azure ML SDK](https://ocademy-ai.github.io/machine-learning/assignments/data-science/data-science-project-using-azure-ml-sdk.html)"
   ]
  },
  {
   "cell_type": "markdown",
   "metadata": {
    "pycharm": {
     "name": "#%% md\n"
    },
    "slideshow": {
     "slide_type": "slide"
    }
   },
   "source": [
    "## 6. References\n",
    "\n",
    "1. [Data Science in the cloud](https://ocademy-ai.github.io/machine-learning/data-science/data-science-in-the-cloud/data-science-in-the-cloud.html)"
   ]
  }
 ],
 "metadata": {
  "celltoolbar": "Slideshow",
  "init_cell": "run_on_kernel_ready",
  "jupytext": {
   "formats": "ipynb"
  },
  "kernelspec": {
   "display_name": "Python 3 (ipykernel)",
   "language": "python",
   "name": "python3"
  },
  "language_info": {
   "codemirror_mode": {
    "name": "ipython",
    "version": 3
   },
   "file_extension": ".py",
   "mimetype": "text/x-python",
   "name": "python",
   "nbconvert_exporter": "python",
   "pygments_lexer": "ipython3",
   "version": "3.9.16"
  },
  "rise": {
   "autolaunch": true,
   "chalkboard": {
    "color": [
     "rgb(250, 250, 250)",
     "rgb(250, 250, 250)"
    ]
   },
   "enable_chalkboard": true,
   "header": "<div class=\"logo header\"><img class=\"removeMargin\" src=\"../images/logo.png\" width=\"50\"/><b class=\"headerText\" style=\"margin-left:10px;\">Ocademy</b></div>",
   "scroll": true
  },
  "vscode": {
   "interpreter": {
    "hash": "fc3149fd9fe17da3f0f988ef81bdc9e4b9ac18e0364707fa25cf242c2519fd14"
   }
  }
 },
 "nbformat": 4,
 "nbformat_minor": 2
}
