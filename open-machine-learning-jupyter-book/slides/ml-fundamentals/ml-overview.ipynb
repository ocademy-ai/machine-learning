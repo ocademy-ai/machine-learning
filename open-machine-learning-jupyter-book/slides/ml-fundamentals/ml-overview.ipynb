{
 "cells": [
  {
   "cell_type": "code",
   "execution_count": 1,
   "metadata": {
    "init_cell": true,
    "pycharm": {
     "name": "#%%\n"
    },
    "slideshow": {
     "slide_type": "skip"
    },
    "tags": [
     "hide-input"
    ]
   },
   "outputs": [
    {
     "data": {
      "text/html": [
       "<!-- The customized css for the slides -->\n",
       "<link rel=\"stylesheet\" type=\"text/css\" href=\"../styles/python-programming-introduction.css\"/>\n",
       "<link rel=\"stylesheet\" type=\"text/css\" href=\"../styles/basic.css\"/>\n"
      ],
      "text/plain": [
       "<IPython.core.display.HTML object>"
      ]
     },
     "metadata": {},
     "output_type": "display_data"
    }
   ],
   "source": [
    "%%html\n",
    "<!-- The customized css for the slides -->\n",
    "<link rel=\"stylesheet\" type=\"text/css\" href=\"../styles/python-programming-introduction.css\"/>\n",
    "<link rel=\"stylesheet\" type=\"text/css\" href=\"../styles/basic.css\"/>"
   ]
  },
  {
   "cell_type": "markdown",
   "metadata": {
    "tags": [
     "remove-cell"
    ]
   },
   "source": [
    "---\n",
    "license:\n",
    "    code: MIT\n",
    "    content: CC-BY-4.0\n",
    "github: https://github.com/ocademy-ai/machine-learning\n",
    "venue: By Ocademy\n",
    "open_access: true\n",
    "bibliography:\n",
    "  - https://raw.githubusercontent.com/ocademy-ai/machine-learning/main/open-machine-learning-jupyter-book/references.bib\n",
    "---"
   ]
  },
  {
   "cell_type": "markdown",
   "metadata": {
    "notebookRunGroups": {
     "groupValue": ""
    },
    "pycharm": {
     "name": "#%% md\n"
    },
    "slideshow": {
     "slide_type": "slide"
    }
   },
   "source": [
    "# Machine Learning overview"
   ]
  },
  {
   "cell_type": "markdown",
   "metadata": {
    "pycharm": {
     "name": "#%% md\n"
    },
    "slideshow": {
     "slide_type": "slide"
    }
   },
   "source": [
    "## Table of Content\n",
    "\n",
    "- What is machine learning?\n",
    "- Difference between AI, data science, ML and DL\n",
    "- Difference between ML and ordinary programming\n",
    "- Key terminology\n",
    "- Applications of machine learning\n",
    "- Types of machine learning\n",
    "- A typical machine learning project workflow"
   ]
  },
  {
   "cell_type": "markdown",
   "metadata": {
    "pycharm": {
     "name": "#%% md\n"
    },
    "slideshow": {
     "slide_type": "slide"
    }
   },
   "source": [
    "## What is Machine Learning\n",
    "- Machine learning is a new programming paradigm in which instead of explicitly programming computers to perform some tasks, we let them learn from data in order to find the underlying patterns in the data\n",
    "- In few words, machine learning is the science of giving the machine the ability to reason about the data\n"
   ]
  },
  {
   "cell_type": "markdown",
   "metadata": {
    "pycharm": {
     "name": "#%% md\n"
    },
    "slideshow": {
     "slide_type": "subslide"
    }
   },
   "source": [
    "## What is Machine Learning\n",
    "\n",
    "- The term [machine learning](https://en.wikipedia.org/wiki/Machine_learning) was coined by Arthur Samuel in 1959. At that time, Arthur defined machine learning as a:\n",
    "\n",
    "> *Field of study that gives computers the ability to learn without being explicitly programmed.*\n"
   ]
  },
  {
   "cell_type": "markdown",
   "metadata": {
    "pycharm": {
     "name": "#%% md\n"
    },
    "slideshow": {
     "slide_type": "subslide"
    }
   },
   "source": [
    "## What is Machine Learning\n",
    "\n",
    "- A more technical definition of machine learning was provided by Tom M. Mitchell in 1997. Here is how Tom defined machine learning: \n",
    "\n",
    "> *A computer program is said to learn from experience E with respect to some task T and some performance measure P, if its performance on T, as measured by P, improves with experience E.*\n"
   ]
  },
  {
   "cell_type": "markdown",
   "metadata": {
    "pycharm": {
     "name": "#%% md\n"
    },
    "slideshow": {
     "slide_type": "subslide"
    }
   },
   "source": [
    "## What is Machine Learning\n",
    "\n",
    "- Wikipedia provides a much clearer definition of machine learning: \n",
    "\n",
    "> *Machine learning (ML) is the study of computer algorithms that improve automatically through experience and by the use of data. It is seen as a part of artificial intelligence. Machine learning algorithms build a model based on sample data, known as \"training data\", in order to make predictions or decisions without being explicitly programmed to do so. - Wikipedia.*\n",
    "\n",
    "- In simple words, machine learning algorithms are trained on data rather than being programmed explicitly\n"
   ]
  },
  {
   "cell_type": "markdown",
   "metadata": {
    "pycharm": {
     "name": "#%% md\n"
    },
    "slideshow": {
     "slide_type": "slide"
    }
   },
   "source": [
    "## Artificial Intelligence, Data Science, Machine Learning, and Deep Learning \n",
    "\n",
    "- AI is a branch of computer science concerned with building intelligent machines capable of performing tasks at the level of human. AI seeks to mimic human. AI is an interdisciplinary field that involves machine learning, programming, robotics, data science, etc...\n"
   ]
  },
  {
   "cell_type": "markdown",
   "metadata": {
    "pycharm": {
     "name": "#%% md\n"
    },
    "slideshow": {
     "slide_type": "subslide"
    }
   },
   "source": [
    "## Artificial Intelligence, Data Science, Machine Learning, and Deep Learning \n",
    "\n",
    "- Machine learning on the other hand is the branch of AI and as we saw, it is concerned with giving the machine the ability to learn from data. Machine learning algorithms consists of shallow or classical algorithms such as decision trees and deep learning algorithms such as convolutional neural networks\n",
    "\n"
   ]
  },
  {
   "cell_type": "markdown",
   "metadata": {
    "pycharm": {
     "name": "#%% md\n"
    },
    "slideshow": {
     "slide_type": "subslide"
    }
   },
   "source": [
    "## Artificial Intelligence, Data Science, Machine Learning, and Deep Learning \n",
    "\n",
    "- Deep learning is a branch of machine learning that deals with the study of artificial neural networks and it was inspired by the human brain. Classical machine learning algorithms needs a lot of feature engineering, but deep learning algorithms can extract features in huge amount of data such as images themselves\n",
    "\n"
   ]
  },
  {
   "cell_type": "markdown",
   "metadata": {
    "pycharm": {
     "name": "#%% md\n"
    },
    "slideshow": {
     "slide_type": "subslide"
    }
   },
   "source": [
    "## Artificial Intelligence, Data Science, Machine Learning, and Deep Learning \n",
    "- The difference between AI, machine learning and deep learning\n",
    "\n",
    "![](../images/ml-fundamentals/ml-overview/ai-ml-dl.png)\n",
    "\n"
   ]
  },
  {
   "cell_type": "markdown",
   "metadata": {
    "pycharm": {
     "name": "#%% md\n"
    },
    "slideshow": {
     "slide_type": "slide"
    }
   },
   "source": [
    "## Ordinary Programming vs Machine Learning \n",
    "\n",
    "### Ordinary Programming\n",
    "- In ordinary programming, the job of the programmer is to clearly write every single rule that makes up the task he/she is trying to accomplish\n",
    "\n",
    "- In order to get the results, she/he must write all rules that acts up on the data\n"
   ]
  },
  {
   "cell_type": "markdown",
   "metadata": {
    "pycharm": {
     "name": "#%% md\n"
    },
    "slideshow": {
     "slide_type": "subslide"
    }
   },
   "source": [
    "## Ordinary Programming vs Machine Learning \n",
    "\n",
    "### Machine Learning\n",
    "- Machine learning flips that. Instead of having to write the rules that makes up a particular application, we can feed data and results(or labels) to the machine learning model, and its job can be to determine the set of rules that map the data and labels\n"
   ]
  },
  {
   "cell_type": "markdown",
   "metadata": {
    "pycharm": {
     "name": "#%% md\n"
    },
    "slideshow": {
     "slide_type": "subslide"
    }
   },
   "source": [
    "## Ordinary Programming vs Machine Learning \n",
    "\n",
    "- Traditional Programming vs Deep Learning\n",
    "\n",
    "![](../images/ml-fundamentals/ml-overview/traditional-ml.png)\n",
    "\n"
   ]
  },
  {
   "cell_type": "markdown",
   "metadata": {
    "pycharm": {
     "name": "#%% md\n"
    },
    "slideshow": {
     "slide_type": "subslide"
    }
   },
   "source": [
    "## Ordinary Programming vs Machine Learning \n",
    "\n",
    "- Let's take a real world example. If you wanted to build an application that given a picture of person can determine if he/she is wearing or not wearing a facemask, you can just feed a bunch of images of people with and without facemasks to the machine learning model, and the model can learn the rules or patterns that map the images to whether they have a facemask or not\n",
    "- You can even extend that further and use those learned rules to recognize facemasks in the images that were never seen by the that model\n",
    "\n"
   ]
  },
  {
   "cell_type": "markdown",
   "metadata": {
    "pycharm": {
     "name": "#%% md\n"
    },
    "slideshow": {
     "slide_type": "subslide"
    }
   },
   "source": [
    "## Ordinary Programming vs Machine Learning \n",
    "\n",
    "- Approaching a facemask recognition problem with rule based programming would really be a hard problem. You would have to write lots of code that would later turn out to not work typically because your program will be tested on different kinds of facemasks and people in various scenarios and it's almost impossible to express that in rules\n",
    "- Whereas with machine learning, all you need is a bunch of images of people with and without facemasks, and there you are few steps away from getting an effective facemask recognizer"
   ]
  },
  {
   "cell_type": "markdown",
   "metadata": {
    "pycharm": {
     "name": "#%% md\n"
    },
    "slideshow": {
     "slide_type": "slide"
    }
   },
   "source": [
    "## Applications of Machine Learning\n",
    "\n",
    "- Machine learning has transformed many industries, from banking, manufacturing, streaming, autonomous vehicles, agriculture, etc...In fact, most of the tech products and services we use daily possess some sorts of machine learning algorithms running in their backgrounds\n",
    "- Fraud detection, Loan repayment prediction, Diagnozing diseases and predicting the survival rate, Detecting defects in industry, Churn prediction, Spam detection, Autonomous vehicles, etc.\n",
    "\n",
    "\n"
   ]
  },
  {
   "cell_type": "markdown",
   "metadata": {
    "pycharm": {
     "name": "#%% md\n"
    },
    "slideshow": {
     "slide_type": "slide"
    }
   },
   "source": [
    "## Key terminology\n",
    "### Labels\n",
    "\n",
    "- A `label` is the thing we're predicting—the `y` variable in simple linear regression. The label could be the future price of wheat, the kind of animal shown in a picture, the meaning of an audio clip, or just about anything.\n"
   ]
  },
  {
   "cell_type": "markdown",
   "metadata": {
    "pycharm": {
     "name": "#%% md\n"
    },
    "slideshow": {
     "slide_type": "subslide"
    }
   },
   "source": [
    "## Key terminology\n",
    "### Features\n",
    "\n",
    "- A `feature` is an input variable—the `x` variable in simple linear regression. A simple machine learning project might use a single feature, while a more sophisticated machine learning project could use millions of features, specified as:\n",
    "\n",
    "$$x_1, x_2, ..., x_N$$\n"
   ]
  },
  {
   "cell_type": "markdown",
   "metadata": {
    "pycharm": {
     "name": "#%% md\n"
    },
    "slideshow": {
     "slide_type": "subslide"
    }
   },
   "source": [
    "## Key terminology\n",
    "### Examples\n",
    "\n",
    "- An `example` is a particular instance of data, **`x`**. (We put **`x`** in boldface to indicate that it is a vector.) We break examples into two categories:\n",
    "    - labeled examples\n",
    "    - unlabeled examples\n"
   ]
  },
  {
   "cell_type": "markdown",
   "metadata": {
    "pycharm": {
     "name": "#%% md\n"
    },
    "slideshow": {
     "slide_type": "subslide"
    }
   },
   "source": [
    "## Key terminology\n",
    "### Examples\n",
    "\n",
    "- A **`labeled example`** includes both feature(s) and the label. That is:\n",
    "\n",
    "```text\n",
    "labeled examples: {features, label}: (x, y)\n",
    "```\n",
    "\n",
    "- Use labeled examples to **train** the model. In our spam detector example, the labeled examples would be individual emails that users have explicitly marked as \"spam\" or \"not spam.\"\n"
   ]
  },
  {
   "cell_type": "markdown",
   "metadata": {
    "pycharm": {
     "name": "#%% md\n"
    },
    "slideshow": {
     "slide_type": "subslide"
    }
   },
   "source": [
    "## Key terminology\n",
    "### Models\n",
    "\n",
    "- A model defines the relationship between features and label. For example, a spam detection model might associate certain features strongly with \"spam\". Let's highlight two phases of a model's life:\n",
    "    - **Training** means creating or **learning** the model. That is, you show the model labeled examples and enable the model to gradually learn the relationships between features and label.\n",
    "    - **Inference** means applying the trained model to unlabeled examples. That is, you use the trained model to make useful predictions (`y'`). For example, during inference, you can predict if an email is a spam or not for new unlabeled examples.\n"
   ]
  },
  {
   "cell_type": "markdown",
   "metadata": {
    "pycharm": {
     "name": "#%% md\n"
    },
    "slideshow": {
     "slide_type": "slide"
    }
   },
   "source": [
    "## Types of Machine Learning Systems\n",
    "\n",
    "- In broad, there are 3 main types of machine learning systems that are:\n",
    "    * Supervised learning\n",
    "    * Unsupervised learning\n",
    "    * Reinforcement learning\n"
   ]
  },
  {
   "cell_type": "markdown",
   "metadata": {
    "pycharm": {
     "name": "#%% md\n"
    },
    "slideshow": {
     "slide_type": "subslide"
    }
   },
   "source": [
    "## Types of Machine Learning Systems\n",
    "### Supervised Learning\n",
    "- Most machine learning tasks fall into supervised learning type\n",
    "- Trained with input data along with some form of guidance that we can call labels\n",
    "- In other words, a supervised learning model maps the input data `X` to output labels `y`\n",
    "- Labels are also known as targets and they act as a description of the input data. \n"
   ]
  },
  {
   "cell_type": "markdown",
   "metadata": {
    "pycharm": {
     "name": "#%% md\n"
    },
    "slideshow": {
     "slide_type": "subslide"
    }
   },
   "source": [
    "## Types of Machine Learning Systems\n",
    "### Supervised Learning\n",
    "- there are 2 main kinds of supervised learning problems:\n",
    "    - Classification problems: identify a given category from numerous categories or simply make choice between a number of categories\n",
    "    - Regression problems: predict a continuous value of something\n"
   ]
  },
  {
   "cell_type": "markdown",
   "metadata": {
    "pycharm": {
     "name": "#%% md\n"
    },
    "slideshow": {
     "slide_type": "subslide"
    }
   },
   "source": [
    "## Types of Machine Learning Systems\n",
    "### Supervised Learning\n",
    "\n",
    "![](../images/ml-fundamentals/ml-overview/class-reg.png)\n"
   ]
  },
  {
   "cell_type": "markdown",
   "metadata": {
    "pycharm": {
     "name": "#%% md\n"
    },
    "slideshow": {
     "slide_type": "subslide"
    }
   },
   "source": [
    "## Types of Machine Learning Systems\n",
    "### Unsupervised Learning\n",
    "\n",
    "- Unsupervised learning algorithms are trained on unlabelled data\n",
    "- Unsupervised learning algorithms are primarily used for:\n",
    "    * Clustering\n",
    "    * Dimension reduction and data visualization\n"
   ]
  },
  {
   "cell_type": "markdown",
   "metadata": {
    "pycharm": {
     "name": "#%% md\n"
    },
    "slideshow": {
     "slide_type": "subslide"
    }
   },
   "source": [
    "## Types of Machine Learning Systems\n",
    "### Reinforcement Learning\n",
    "\n",
    "- Mostly applied in robotics and games\n",
    "- A learning system called *an agent* can perceives the environment, performs some actions, and gets *rewarded* or *penalized* depending on how it is performing. The main goal of the agent is to accumulate as much as rewards as possible.\n",
    "- The *agent* learns the best strategy(*policy*) necessary for getting the most reward itself. \n"
   ]
  },
  {
   "cell_type": "markdown",
   "metadata": {
    "pycharm": {
     "name": "#%% md\n"
    },
    "slideshow": {
     "slide_type": "slide"
    }
   },
   "source": [
    "## Typical Machine Learning Workflow\n",
    "\n",
    "- Overall, a typical machine learning project workflow consists of: \n",
    "    * Defining and formulating a problem\n",
    "    * Collecting data\n",
    "    * Establishing a baseline\n",
    "    * Exploratory data analysis(EDA)\n",
    "    * Selecting and training a model\n",
    "    * Performing error analysis and improving a model\n",
    "    * Deploying a model\n"
   ]
  },
  {
   "cell_type": "markdown",
   "metadata": {
    "pycharm": {
     "name": "#%% md\n"
    },
    "slideshow": {
     "slide_type": "subslide"
    }
   },
   "source": [
    "## Typical Machine Learning Workflow\n",
    "### Defining and formulating a problem\n",
    "\n",
    "- Understanding the problem is all about diving deep into the details of the problem at hand and asking the right questions\n",
    "- First, it's important to narrow down the problem until you can have a simple and a well-defined goal. Here are examples of simple goals: To *classify* products into different categories, to *predict* the price of a used car given its features (such as brand, age, etc...), to *recognize* if a person is wearing a facemask, to *divide* customers into different groups that share similar behaviors, etc...\n",
    "- As you can see, the goal can tell whether the problem is classification, regression, or clustering...\n",
    "\n"
   ]
  },
  {
   "cell_type": "markdown",
   "metadata": {
    "pycharm": {
     "name": "#%% md\n"
    },
    "slideshow": {
     "slide_type": "subslide"
    }
   },
   "source": [
    "## Typical Machine Learning Workflow\n",
    "### Collecting Data\n",
    "\n",
    "- There are 2 main types of data that are: \n",
    "    * Structured data that are organized in tabular or spreadsheet format. Example of tabular data includes customer records, car sales, etc...\n",
    "    * Unstructure data such as images, texts, sounds, and videos. Unstructured data are not organized as the former. \n",
    "- There are lots of open-source datasets on platforms like Kaggle, Google datasets, UCL, and government websites\n",
    "- There are times that you will have to collect your own data, especially if you are solving a problem that no one solved before\n"
   ]
  },
  {
   "cell_type": "markdown",
   "metadata": {
    "pycharm": {
     "name": "#%% md\n"
    },
    "slideshow": {
     "slide_type": "subslide"
    }
   },
   "source": [
    "## Typical Machine Learning Workflow\n",
    "### Establishing a Baseline\n",
    "\n",
    "- Without a benchmark, you won't know how to evaluate your results properly\n",
    "- The single most purpose of a baseline is to act as a reference point when comparing the actual model with the baseline\n",
    "- The ultimate goal is to beat a baseline, and sometime, if you can't beat it, it might mean the project is not worth pursuing, or the baseline can be all you need\n",
    "\n"
   ]
  },
  {
   "cell_type": "markdown",
   "metadata": {
    "pycharm": {
     "name": "#%% md\n"
    },
    "slideshow": {
     "slide_type": "subslide"
    }
   },
   "source": [
    "## Typical Machine Learning Workflow\n",
    "### Exploratory data analysis(EDA)\n",
    "\n",
    "- Before manipulating the data, it is quite important to learn about the dataset\n",
    "- Go through some values, plot some features, and try to understand the correlation between them\n",
    "- If the work is vision-related, visualize some images, spot what’s missing in the images\n",
    "- Are they diverse enough? What types of image scenarios can you add? Or what are images that can mislead the model?\n"
   ]
  },
  {
   "cell_type": "markdown",
   "metadata": {
    "pycharm": {
     "name": "#%% md\n"
    },
    "slideshow": {
     "slide_type": "subslide"
    }
   },
   "source": [
    "## Typical Machine Learning Workflow\n",
    "### Data Preprocessing \n",
    "\n",
    "- Perhaps the biggest part of any machine learning project\n",
    "- Convert the raw data to go in a format that can be accepted by the machine learning algorithms\n",
    "- Imputing missing values\n",
    "- Encoding categorical features\n",
    "- Scaling the numeric features"
   ]
  },
  {
   "cell_type": "markdown",
   "metadata": {
    "pycharm": {
     "name": "#%% md\n"
    },
    "slideshow": {
     "slide_type": "subslide"
    }
   },
   "source": [
    "## Typical Machine Learning Workflow\n",
    "### Selecting and Training a Model\n",
    "\n",
    "- Depending on your problem, you can choose different relevant model\n",
    "- The scope of the problem\n",
    "- The size of the dataset\n",
    "- The level of interpretability\n",
    "- Training time"
   ]
  },
  {
   "cell_type": "markdown",
   "metadata": {
    "pycharm": {
     "name": "#%% md\n"
    },
    "slideshow": {
     "slide_type": "subslide"
    }
   },
   "source": [
    "## Typical Machine Learning Workflow\n",
    "### Performing Error Analysis\n",
    "\n",
    "- Performing error analysis will guide you throughout the process of improving the results of the model\n",
    "- The improvement can either be from the data or the model\n",
    "- One of the best ways to do error analysis is to plot the learning curve and to try noticing where the model is failing and what might be the reason, and the right actions that you can take to reduce the errors"
   ]
  },
  {
   "cell_type": "markdown",
   "metadata": {
    "pycharm": {
     "name": "#%% md\n"
    },
    "slideshow": {
     "slide_type": "subslide"
    }
   },
   "source": [
    "## Typical Machine Learning Workflow\n",
    "### Deploying a Model\n",
    "\n",
    "- Model deployment is the last part in this workflow. \n",
    "- When all the previous steps has gone right, and you are happy about the results of the model on the test set, the next step will be to deploy the model so that the users can start to make requests and get predictions or enhanced services"
   ]
  },
  {
   "cell_type": "markdown",
   "metadata": {
    "pycharm": {
     "name": "#%% md\n"
    },
    "slideshow": {
     "slide_type": "slide"
    }
   },
   "source": [
    "## Thank you!\n",
    "\n",
    "- Any questions?\n"
   ]
  }
 ],
 "metadata": {
  "celltoolbar": "Slideshow",
  "init_cell": "run_on_kernel_ready",
  "jupytext": {
   "formats": "ipynb"
  },
  "kernelspec": {
   "display_name": "Python 3 (ipykernel)",
   "language": "python",
   "name": "python3"
  },
  "language_info": {
   "codemirror_mode": {
    "name": "ipython",
    "version": 3
   },
   "file_extension": ".py",
   "mimetype": "text/x-python",
   "name": "python",
   "nbconvert_exporter": "python",
   "pygments_lexer": "ipython3",
   "version": "3.7.4"
  },
  "rise": {
   "autolaunch": true,
   "chalkboard": {
    "color": [
     "rgb(250, 250, 250)",
     "rgb(250, 250, 250)"
    ]
   },
   "enable_chalkboard": true,
   "header": "<div class=\"logo header\"><img class=\"removeMargin\" src=\"../images/logo.png\" width=\"50\"/><b class=\"headerText\" style=\"margin-left:10px;\">Ocademy</b></div>",
   "progress": true,
   "scroll": true
  },
  "vscode": {
   "interpreter": {
    "hash": "aee8b7b246df8f9039afb4144a1f6fd8d2ca17a180786b69acc140d282b71a49"
   }
  }
 },
 "nbformat": 4,
 "nbformat_minor": 2
}
