{
 "cells": [
  {
   "cell_type": "code",
   "execution_count": 1,
   "metadata": {
    "tags": [
     "remove_cell"
    ]
   },
   "outputs": [
    {
     "name": "stdout",
     "output_type": "stream",
     "text": [
      "\n",
      "\u001b[1m[\u001b[0m\u001b[34;49mnotice\u001b[0m\u001b[1;39;49m]\u001b[0m\u001b[39;49m A new release of pip is available: \u001b[0m\u001b[31;49m23.1.2\u001b[0m\u001b[39;49m -> \u001b[0m\u001b[32;49m23.2.1\u001b[0m\n",
      "\u001b[1m[\u001b[0m\u001b[34;49mnotice\u001b[0m\u001b[1;39;49m]\u001b[0m\u001b[39;49m To update, run: \u001b[0m\u001b[32;49mpip install --upgrade pip\u001b[0m\n"
     ]
    },
    {
     "name": "stderr",
     "output_type": "stream",
     "text": [
      "/Users/zhangqi/ws/machine-learning/lib/utils/awesome_list.py:67: SyntaxWarning: \"is\" with a literal. Did you mean \"==\"?\n",
      "  if x[text_column] is '' or x[text_column] is np.nan:\n",
      "/Users/zhangqi/ws/machine-learning/lib/utils/awesome_list.py:70: SyntaxWarning: \"is\" with a literal. Did you mean \"==\"?\n",
      "  if x[url_column] is '' or x[url_column] is np.nan:\n",
      "/Users/zhangqi/ws/machine-learning/lib/utils/awesome_list.py:81: SyntaxWarning: \"is not\" with a literal. Did you mean \"!=\"?\n",
      "  result.append('<a href=\"{0}\">{1}</a>'.format(url, text) if url is not '' else text)\n"
     ]
    }
   ],
   "source": [
    "# Install the necessary dependencies\n",
    "\n",
    "import os\n",
    "import sys\n",
    "!{sys.executable} -m pip install --quiet pandas langcodes langcodes[data] tabulate\n",
    "\n",
    "module_path = os.path.abspath(os.path.join('../'))\n",
    "if module_path not in sys.path:\n",
    "    sys.path.append(module_path)\n",
    "\n",
    "import pandas as pd\n",
    "from IPython.core.display import Markdown\n",
    "from lib.utils.awesome_list import *\n"
   ]
  },
  {
   "cell_type": "markdown",
   "metadata": {},
   "source": [
    "# Awesome Free AI Learning Resource\n",
    "\n"
   ]
  },
  {
   "cell_type": "code",
   "execution_count": 2,
   "metadata": {},
   "outputs": [
    {
     "data": {
      "text/markdown": [
       "|    | Title                                                                                                                                       | Author                                                                                                                                                                                                                                  | Price   | Topic               | Language           | Level       | Label                                             | Publishedat   |\n",
       "|---:|:--------------------------------------------------------------------------------------------------------------------------------------------|:----------------------------------------------------------------------------------------------------------------------------------------------------------------------------------------------------------------------------------------|:--------|:--------------------|:-------------------|:------------|:--------------------------------------------------|:--------------|\n",
       "|  1 | <a href=\"https://info.deeplearning.ai/machine-learning-yearning-book#MYL-form\">Machine Learning Yearning Book</a>                           | <a href=\"https://www.andrewng.org/\">Andrew Ng</a>                                                                                                                                                                                       | 🟩 Free | 🧠 Machine learning | 🇺🇸 English         | 🟩 Beginner | 🧠 Machine learning 🤖 AI                         |               |\n",
       "|  2 | <a href=\"https://www.deeplearningbook.org/\">Deep Learning</a>                                                                               | <a href=\"https://en.wikipedia.org/wiki/Ian_Goodfellow\">Ian Goodfellow</a>, <a href=\"https://en.wikipedia.org/wiki/Yoshua_Bengio\">Yoshua Bengio</a>, <a href=\"https://www.linkedin.com/in/aaron-courville-53a63459/\">Aaron Courville</a> | 🟩 Free | 👽 Deep learning    | 🇺🇸 English         | 🟥 Advanced | 🧠 Machine learning 🤖 AI 👽 Deep learning        | 2015-05-07    |\n",
       "|  3 | <a href=\"http://neuralnetworksanddeeplearning.com/\">Neural Networks and Deep Learning</a>                                                   | <a href=\"http://michaelnielsen.org/\">Michael Nielsen </a>                                                                                                                                                                               | 🟩 Free | 👽 Deep learning    | 🇺🇸 English         | 🟥 Advanced | 🧠 Machine learning 🤖 AI 👽 Deep learning        | 2014-12-01    |\n",
       "|  4 | <a href=\"https://www.microsoft.com/en-us/research/wp-content/uploads/2016/02/DeepLearning-NowPublishing-Vol7-SIG-039.pdf\">Deep Learning</a> | <a href=\"https://www.linkedin.com/in/lideng/\">Li Deng</a>, <a href=\"https://www.linkedin.com/in/dongyu/\">Dong Yu</a>                                                                                                                    | 🟩 Free | 👽 Deep learning    | 🇺🇸 English         | 🟥 Advanced | 🧠 Machine learning 🤖 AI 👽 Deep learning        | 2013-01-01    |\n",
       "|  5 | <a href=\"http://aima.cs.berkeley.edu/index.html\">Artificial Intelligence: A Modern Approach</a>                                             | <a href=\"http://www.cs.berkeley.edu/~russell\">Stuart Russell</a>, <a href=\"http://www.norvig.com/\">Peter Norvig</a>                                                                                                                     | 🟩 Free | 🤖 AI               | 🇺🇸 English         | 🟩 Beginner | 🧠 Machine learning 🤖 AI 👽 Deep learning        | 2022-08-22    |\n",
       "|  6 | <a href=\"https://arxiv.org/pdf/1404.7828v4.pdf\">Deep Learning in Neural Networks: An Overview</a>                                           | <a href=\"https://en.wikipedia.org/wiki/J%C3%BCrgen_Schmidhuber\">Jurgen Schmidhuber</a>                                                                                                                                                  | 🟩 Free | 👽 Deep learning    | 🇺🇸 English         | 🟥 Advanced | 🧠 Machine learning 🤖 AI 👽 Deep learning        | 2014-08-08    |\n",
       "|  7 | <a href=\"https://d2l.ai/\">Dive into Deep Learning</a>                                                                                       | <a href=\"https://www.astonzhang.com/\">Aston Zhang</a>, <a href=\"http://zacklipton.com/\">Zack C. Lipton</a>, <a href=\"https://www.cs.cmu.edu/~muli/\">Mu Li</a>, <a href=\"https://alex.smola.org/\">Alex J. Smola</a>                      | 🟩 Free | 👽 Deep learning    | 🇺🇸 English 🇨🇳 中文 | 🟥 Advanced | 🧠 Machine learning 🤖 AI 👽 Deep learning ⌨️ Code | 2019-01-01    |"
      ],
      "text/plain": [
       "<IPython.core.display.Markdown object>"
      ]
     },
     "metadata": {},
     "output_type": "display_data"
    }
   ],
   "source": [
    "# Render the output\n",
    "\n",
    "df = pd.read_csv('./data.csv')\n",
    "\n",
    "excluded_columns = ['platformSrc', 'id', 'source',\n",
    "                    'createdAt', 'authorSrc',\n",
    "                    'description', 'license', 'updatedAt']\n",
    "df = apply_common_style(df, excluded_columns)\n",
    "\n",
    "display(Markdown(df.to_markdown()))"
   ]
  }
 ],
 "metadata": {
  "kernelspec": {
   "display_name": "base",
   "language": "python",
   "name": "python3"
  },
  "language_info": {
   "codemirror_mode": {
    "name": "ipython",
    "version": 3
   },
   "file_extension": ".py",
   "mimetype": "text/x-python",
   "name": "python",
   "nbconvert_exporter": "python",
   "pygments_lexer": "ipython3",
   "version": "3.9.5"
  },
  "orig_nbformat": 4
 },
 "nbformat": 4,
 "nbformat_minor": 2
}
