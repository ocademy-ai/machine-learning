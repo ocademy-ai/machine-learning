{
 "cells": [
  {
   "cell_type": "code",
   "execution_count": 1,
   "metadata": {
    "tags": [
     "remove_cell"
    ]
   },
   "outputs": [
    {
     "name": "stdout",
     "output_type": "stream",
     "text": [
      "\n",
      "\u001b[1m[\u001b[0m\u001b[34;49mnotice\u001b[0m\u001b[1;39;49m]\u001b[0m\u001b[39;49m A new release of pip is available: \u001b[0m\u001b[31;49m23.1.2\u001b[0m\u001b[39;49m -> \u001b[0m\u001b[32;49m23.2.1\u001b[0m\n",
      "\u001b[1m[\u001b[0m\u001b[34;49mnotice\u001b[0m\u001b[1;39;49m]\u001b[0m\u001b[39;49m To update, run: \u001b[0m\u001b[32;49mpip install --upgrade pip\u001b[0m\n"
     ]
    },
    {
     "name": "stderr",
     "output_type": "stream",
     "text": [
      "/Users/zhangqi/ws/machine-learning/lib/utils/awesome_list.py:66: SyntaxWarning: \"is\" with a literal. Did you mean \"==\"?\n",
      "  if x[text_column] is '' or x[text_column] is np.nan:\n",
      "/Users/zhangqi/ws/machine-learning/lib/utils/awesome_list.py:69: SyntaxWarning: \"is\" with a literal. Did you mean \"==\"?\n",
      "  if x[url_column] is '' or x[url_column] is np.nan:\n",
      "/Users/zhangqi/ws/machine-learning/lib/utils/awesome_list.py:80: SyntaxWarning: \"is not\" with a literal. Did you mean \"!=\"?\n",
      "  result.append('<a href=\"{0}\">{1}</a>'.format(url, text) if url is not '' else text)\n"
     ]
    }
   ],
   "source": [
    "# Install the necessary dependencies\n",
    "\n",
    "import os\n",
    "import sys\n",
    "!{sys.executable} -m pip install --quiet pandas langcodes langcodes[data] tabulate\n",
    "\n",
    "module_path = os.path.abspath(os.path.join('../'))\n",
    "if module_path not in sys.path:\n",
    "    sys.path.append(module_path)\n",
    "\n",
    "import pandas as pd\n",
    "from IPython.core.display import Markdown\n",
    "from lib.utils.awesome_list import *\n"
   ]
  },
  {
   "cell_type": "markdown",
   "metadata": {},
   "source": [
    "# Awesome Free AI Learning Resource\n",
    "\n"
   ]
  },
  {
   "cell_type": "code",
   "execution_count": 2,
   "metadata": {},
   "outputs": [
    {
     "data": {
      "text/markdown": [
       "|    | Title                                                                           | Author                                                    | Topic            | Platform                                        | Language           | Level       | Label                                      | Licence   |\n",
       "|---:|:--------------------------------------------------------------------------------|:----------------------------------------------------------|:-----------------|:------------------------------------------------|:-------------------|:------------|:-------------------------------------------|:----------|\n",
       "|  1 | <a href=\"http://deeplearning.stanford.edu/tutorial/\">Deep Learning Tutorial</a> | <a href=\"https://www.andrewng.org/\">Andrew Ng</a>, others | 👽 Deep learning | <a href=\"http://www.stanford.edu/\">Stanford</a> | 🇺🇸 English 🇨🇳 中文 | 🟥 Advanced | 🧠 Machine learning 👽 Deep learning 🤖 AI |           |"
      ],
      "text/plain": [
       "<IPython.core.display.Markdown object>"
      ]
     },
     "metadata": {},
     "output_type": "display_data"
    }
   ],
   "source": [
    "# Render the output\n",
    "\n",
    "df = pd.read_csv('./data.csv')\n",
    "\n",
    "excluded_columns = ['platformSrc', 'id', 'source',\n",
    "                    'createdAt', 'authorSrc', 'objectives',\n",
    "                    'description', 'duration', 'license', 'updatedAt']\n",
    "df = apply_common_style(df, excluded_columns)\n",
    "\n",
    "display(Markdown(df.to_markdown()))"
   ]
  }
 ],
 "metadata": {
  "kernelspec": {
   "display_name": "base",
   "language": "python",
   "name": "python3"
  },
  "language_info": {
   "codemirror_mode": {
    "name": "ipython",
    "version": 3
   },
   "file_extension": ".py",
   "mimetype": "text/x-python",
   "name": "python",
   "nbconvert_exporter": "python",
   "pygments_lexer": "ipython3",
   "version": "3.9.5"
  },
  "orig_nbformat": 4
 },
 "nbformat": 4,
 "nbformat_minor": 2
}
