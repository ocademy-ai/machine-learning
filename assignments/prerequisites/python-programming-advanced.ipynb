{
 "cells": [
  {
   "attachments": {},
   "cell_type": "markdown",
   "metadata": {
    "tags": [
     "hide-input"
    ]
   },
   "source": [
    "<details><summary><b>LICENSE</b></summary>\n",
    "\n",
    "MIT License\n",
    "\n",
    "Copyright (c) 2018 Oleksii Trekhleb\n",
    "\n",
    "Copyright (c) 2020 Samuel Huang\n",
    "\n",
    "Copyright (c) 2023 jerry-git\n",
    "\n",
    "Permission is hereby granted, free of charge, to any person obtaining a copy\n",
    "of this software and associated documentation files (the \"Software\"), to deal\n",
    "in the Software without restriction, including without limitation the rights\n",
    "to use, copy, modify, merge, publish, distribute, sublicense, and/or sell\n",
    "copies of the Software, and to permit persons to whom the Software is\n",
    "furnished to do so, subject to the following conditions:\n",
    "\n",
    "The above copyright notice and this permission notice shall be included in all\n",
    "copies or substantial portions of the Software.\n",
    "\n",
    "THE SOFTWARE IS PROVIDED \"AS IS\", WITHOUT WARRANTY OF ANY KIND, EXPRESS OR\n",
    "IMPLIED, INCLUDING BUT NOT LIMITED TO THE WARRANTIES OF MERCHANTABILITY,\n",
    "FITNESS FOR A PARTICULAR PURPOSE AND NONINFRINGEMENT. IN NO EVENT SHALL THE\n",
    "AUTHORS OR COPYRIGHT HOLDERS BE LIABLE FOR ANY CLAIM, DAMAGES OR OTHER\n",
    "LIABILITY, WHETHER IN AN ACTION OF CONTRACT, TORT OR OTHERWISE, ARISING FROM,\n",
    "OUT OF OR IN CONNECTION WITH THE SOFTWARE OR THE USE OR OTHER DEALINGS IN THE\n",
    "SOFTWARE.\n",
    "\n",
    "</details>"
   ]
  },
  {
   "cell_type": "markdown",
   "metadata": {},
   "source": [
    "# Python programming advanced"
   ]
  },
  {
   "cell_type": "code",
   "execution_count": null,
   "outputs": [],
   "source": [
    "# set up the env\n",
    "\n",
    "import pytest\n",
    "import ipytest\n",
    "import unittest\n",
    "\n",
    "ipytest.autoconfig()"
   ],
   "metadata": {
    "collapsed": false
   }
  },
  {
   "cell_type": "markdown",
   "metadata": {},
   "source": [
    "## Conditionals"
   ]
  },
  {
   "cell_type": "markdown",
   "metadata": {},
   "source": [
    "### if-elif-else\n",
    "\n",
    "Fill missing pieces `____` of the following code such that prints make sense."
   ]
  },
  {
   "cell_type": "code",
   "execution_count": null,
   "metadata": {},
   "outputs": [],
   "source": [
    "# Binary search algorithm\n",
    "def binary_search(list, target):\n",
    "    \"\"\"Searches for a target element in a sorted list using binary search.\n",
    "\n",
    "   Args:\n",
    "       lst (list): The sorted list to be searched.\n",
    "       target (any): The element to be searched for.\n",
    "\n",
    "   Returns:\n",
    "       int: The index of the target element if found, -1 otherwise.\n",
    "   \"\"\"\n",
    "    # Initialize low and high indices\n",
    "    # Initialize the left and right pointers\n",
    "    left = 0\n",
    "    right = len(list) - 1\n",
    "    # Loop until the left pointer is greater than the right pointer\n",
    "    while left <= right:\n",
    "        # Find the middle index of the current range\n",
    "        mid = (left + right) // 2\n",
    "        # Compare the target with the middle element of the list\n",
    "        if target == ____:\n",
    "            # Return the index of the target if found\n",
    "            return mid\n",
    "        ____ target ____:\n",
    "            # Narrow the search range to the left half if the target is smaller than the middle element\n",
    "            ____ = mid - 1\n",
    "        else:\n",
    "            # Narrow the search range to the right half if the target is larger than the middle element\n",
    "            ____ = mid + 1\n",
    "    # Return -1 if the target is not found in the list\n",
    "    return -1\n",
    "\n",
    "lst = [1, 2, 3, 4, 5, 6, 7, 8, 9]\n",
    "assert binary_search(lst, 5) == 4\n",
    "assert binary_search(lst, 9) == 8\n",
    "assert binary_search(lst, -1) == -1\n",
    "assert binary_search(lst, 10) == -1"
   ]
  },
  {
   "cell_type": "markdown",
   "metadata": {
    "collapsed": false
   },
   "source": [
    "<h5><font color=blue>Check result by executing below... 📝</font></h5>"
   ]
  },
  {
   "cell_type": "code",
   "execution_count": null,
   "metadata": {
    "jupyter": {
     "source_hidden": true
    },
    "tags": [
     "hide-input"
    ]
   },
   "editable": false,
   "outputs": [],
   "source": [
    "%%ipytest -qq\n",
    "\n",
    "class TestBinarySearch:\n",
    "    def test_existing_element(self):\n",
    "        lst = [1, 3, 5, 7, 9]\n",
    "        target = 5\n",
    "        assert binary_search(lst, target) == 2\n",
    "\n",
    "    def test_non_existing_element(self):\n",
    "        lst = [1, 3, 5, 7, 9]\n",
    "        target = 6\n",
    "        assert binary_search(lst, target) == -1\n",
    "\n",
    "    def test_empty_list(self):\n",
    "        lst = []\n",
    "        target = 5\n",
    "        assert binary_search(lst, target) == -1\n",
    "\n",
    "    def test_single_element_list(self):\n",
    "        lst = [5]\n",
    "        target = 5\n",
    "        assert binary_search(lst, target) == 0\n",
    "\n",
    "    def test_wrong_target_type(self):\n",
    "        lst = [1, 3, 5, 7, 9]\n",
    "        target = \"a\"\n",
    "        with pytest.raises(TypeError):\n",
    "            binary_search(lst, target)"
   ]
  },
  {
   "attachments": {},
   "cell_type": "markdown",
   "metadata": {
    "tags": [
     "hide-input"
    ]
   },
   "source": [
    "<div class=\"alert alert-info\">\n",
    "    \n",
    "<details><summary>👩‍💻 <b>Hint</b></summary>\n",
    "\n",
    "Compare the target value with the middle element during each iteration and narrow down the search range based on the comparison result.\n",
    "\n",
    "</details>\n",
    "\n",
    "</div>"
   ]
  },
  {
   "cell_type": "markdown",
   "metadata": {},
   "source": [
    "## For loops"
   ]
  },
  {
   "cell_type": "markdown",
   "metadata": {},
   "source": [
    "### Fill the missing pieces\n",
    "\n",
    "Fill the `____` parts in the code below."
   ]
  },
  {
   "cell_type": "code",
   "execution_count": null,
   "metadata": {},
   "outputs": [],
   "source": [
    "def factorial(n):\n",
    "    \"\"\"\n",
    "    Calculate the factorial of a number.\n",
    "\n",
    "    Args:\n",
    "        n (int): The number to calculate the factorial of.\n",
    "\n",
    "    Returns:\n",
    "        int: The factorial of the input number.\n",
    "    \"\"\"\n",
    "    result = 1\n",
    "    ____ ____ in range(1, n + 1):\n",
    "        result ____\n",
    "    return result\n",
    "\n",
    "\n",
    "assert factorial(3) == 6"
   ]
  },
  {
   "cell_type": "markdown",
   "source": [
    "<h5><font color=blue>Check result by executing below... 📝</font></h5>"
   ],
   "metadata": {
    "collapsed": false
   }
  },
  {
   "cell_type": "code",
   "execution_count": null,
   "editable": false,
   "outputs": [],
   "source": [
    "%%ipytest -qq\n",
    "\n",
    "class TestFactorial:\n",
    "    def test_positive_number(self):\n",
    "        assert factorial(5) == 120\n",
    "        assert factorial(10) == 3628800\n",
    "        assert factorial(0) == 1\n",
    "\n",
    "    def test_float_number(self):\n",
    "        with pytest.raises(TypeError):\n",
    "            factorial(3.14)\n",
    "\n",
    "    def test_string_input(self):\n",
    "        with pytest.raises(TypeError):\n",
    "            factorial(\"5\")"
   ],
   "metadata": {
    "jupyter": {
     "source_hidden": true
    },
    "tags": [
     "hide-input"
    ]
   }
  },
  {
   "attachments": {},
   "cell_type": "markdown",
   "metadata": {
    "tags": [
     "hide-input"
    ]
   },
   "source": [
    "<div class=\"alert alert-info\">\n",
    "    \n",
    "<details><summary>👩‍💻 <b>Hint</b></summary>\n",
    "\n",
    "Use a loop to iterate through the numbers from 1 to n and multiply the result by each number to calculate the factorial.\n",
    "\n",
    "</details>\n",
    "\n",
    "</div>"
   ]
  },
  {
   "cell_type": "markdown",
   "metadata": {},
   "source": [
    "### range()"
   ]
  },
  {
   "cell_type": "code",
   "execution_count": null,
   "metadata": {},
   "outputs": [],
   "source": [
    "def calculate_sum(n):\n",
    "    \"\"\"\n",
    "    Calculate the sum of numbers from 1 to n.\n",
    "\n",
    "    Args:\n",
    "        n (int): The upper limit.\n",
    "\n",
    "    Returns:\n",
    "        int: The sum of the numbers.\n",
    "    \"\"\"\n",
    "    total = 0\n",
    "    for num in ____(1, ____):\n",
    "        total += num\n",
    "    return total\n",
    "\n",
    "assert calculate_sum(4) == 10"
   ]
  },
  {
   "cell_type": "markdown",
   "source": [
    "<h5><font color=blue>Check result by executing below... 📝</font></h5>"
   ],
   "metadata": {
    "collapsed": false
   }
  },
  {
   "cell_type": "code",
   "execution_count": null,
   "editable": false,
   "outputs": [],
   "source": [
    "%%ipytest -qq\n",
    "\n",
    "class TestCalculateSum:\n",
    "    def test_positive_number(self):\n",
    "        assert calculate_sum(5) == 15\n",
    "        assert calculate_sum(10) == 55\n",
    "        assert calculate_sum(100) == 5050\n",
    "\n",
    "    def test_zero(self):\n",
    "        assert calculate_sum(0) == 0\n",
    "\n",
    "    def test_negative_number(self):\n",
    "        assert calculate_sum(-5) == 0\n",
    "\n",
    "    def test_float_number(self):\n",
    "        with pytest.raises(TypeError):\n",
    "            calculate_sum(3.14)\n",
    "\n",
    "    def test_string_input(self):\n",
    "        with pytest.raises(TypeError):\n",
    "            calculate_sum(\"5\")"
   ],
   "metadata": {
    "jupyter": {
     "source_hidden": true
    },
    "tags": [
     "hide-input"
    ]
   }
  },
  {
   "attachments": {},
   "cell_type": "markdown",
   "metadata": {
    "tags": [
     "hide-input"
    ]
   },
   "source": [
    "<div class=\"alert alert-info\">\n",
    "    \n",
    "<details><summary>👩‍💻 <b>Hint</b></summary>\n",
    "\n",
    "Use a loop to iterate through the numbers starting from 1 up to and including n, and accumulate the sum by adding each number to the total variable.\n",
    "\n",
    "</details>\n",
    "\n",
    "</div>"
   ]
  },
  {
   "cell_type": "markdown",
   "metadata": {},
   "source": [
    "\n",
    "### Looping dictionaries"
   ]
  },
  {
   "cell_type": "code",
   "execution_count": null,
   "metadata": {},
   "outputs": [],
   "source": [
    "my_dict = {'hacker': True, 'age': 72, 'name': 'John Doe'}\n",
    "keys_list = []\n",
    "values_list = []"
   ]
  },
  {
   "cell_type": "code",
   "execution_count": null,
   "metadata": {},
   "outputs": [],
   "source": [
    "# Your solution here:\n",
    "____"
   ]
  },
  {
   "cell_type": "markdown",
   "metadata": {},
   "source": [
    "### Calculate the sum of dict values\n",
    "\n",
    "Calculate the sum of the values in `magic_dict` by taking only into account numeric values (hint: see [isinstance](https://docs.python.org/3/library/functions.html#isinstance)). "
   ]
  },
  {
   "cell_type": "code",
   "execution_count": null,
   "metadata": {
    "editable": false
   },
   "outputs": [],
   "source": [
    "magic_dict = dict(val1=44, val2='secret value', val3=55.0, val4=1)"
   ]
  },
  {
   "cell_type": "code",
   "execution_count": null,
   "metadata": {},
   "outputs": [],
   "source": [
    "# Your implementation\n",
    "sum_of_values = ____"
   ]
  },
  {
   "cell_type": "code",
   "execution_count": null,
   "metadata": {
    "editable": false
   },
   "outputs": [],
   "source": [
    "assert sum_of_values == 100"
   ]
  },
  {
   "cell_type": "markdown",
   "metadata": {},
   "source": [
    "### Create a list of strings based on a list of numbers\n",
    "\n",
    "The rules:\n",
    "* If the number is a multiple of five and odd, the string should be `'five odd'`\n",
    "* If the number is a multiple of five and even, the string should be `'five even'`\n",
    "* If the number is odd, the string is `'odd'`\n",
    "* If the number is even, the string is `'even'`"
   ]
  },
  {
   "cell_type": "code",
   "execution_count": null,
   "metadata": {
    "editable": false
   },
   "outputs": [],
   "source": [
    "numbers = [1, 3, 4, 6, 81, 80, 100, 95]"
   ]
  },
  {
   "cell_type": "code",
   "execution_count": null,
   "metadata": {},
   "outputs": [],
   "source": [
    "# Your implementation\n",
    "my_list = ____"
   ]
  },
  {
   "cell_type": "code",
   "execution_count": null,
   "metadata": {
    "editable": false
   },
   "outputs": [],
   "source": [
    "assert my_list == ['odd', 'odd', 'even', 'even', 'odd', 'five even', 'five even', 'five odd']"
   ]
  },
  {
   "cell_type": "markdown",
   "metadata": {},
   "source": [
    "## While loops"
   ]
  },
  {
   "cell_type": "markdown",
   "metadata": {},
   "source": [
    "### Fill the missing pieces\n",
    "\n",
    "Fill the `____` parts in the code below."
   ]
  },
  {
   "cell_type": "code",
   "execution_count": null,
   "metadata": {},
   "outputs": [],
   "source": [
    "def count_digits(number):\n",
    "    \"\"\"\n",
    "    Count the number of digits in a given number.\n",
    "\n",
    "    Args:\n",
    "        number (int): The input number.\n",
    "\n",
    "    Returns:\n",
    "        int: The count of digits in the number.\n",
    "\n",
    "    Raises:\n",
    "        TypeError: If the input is not an integer.\n",
    "    \"\"\"\n",
    "    if not isinstance(number, int):\n",
    "        raise TypeError(\"Input must be an integer.\")\n",
    "\n",
    "    count = 0\n",
    "    ____ number != ____:\n",
    "        number //= ____\n",
    "        count += 1\n",
    "    return count\n",
    "\n",
    "assert count_digits(123) == 3"
   ]
  },
  {
   "cell_type": "markdown",
   "source": [
    "<h5><font color=blue>Check result by executing below... 📝</font></h5>"
   ],
   "metadata": {
    "collapsed": false
   }
  },
  {
   "cell_type": "code",
   "execution_count": null,
   "editable": false,
   "outputs": [],
   "source": [
    "%%ipytest -qq\n",
    "\n",
    "class TestCountDigits:\n",
    "    def test_positive_number(self):\n",
    "        assert count_digits(123) == 3\n",
    "\n",
    "    def test_zero(self):\n",
    "        assert count_digits(0) == 0\n",
    "\n",
    "    def test_negative_number(self):\n",
    "        assert count_digits(-123) == 3\n",
    "\n",
    "    def test_float_number(self):\n",
    "        with pytest.raises(TypeError):\n",
    "            count_digits(3.14)\n",
    "\n",
    "    def test_string_input(self):\n",
    "        with pytest.raises(TypeError):\n",
    "            count_digits(\"123\")"
   ],
   "metadata": {
    "jupyter": {
     "source_hidden": true
    },
    "tags": [
     "hide-input"
    ]
   }
  },
  {
   "attachments": {},
   "cell_type": "markdown",
   "metadata": {
    "tags": [
     "hide-input"
    ]
   },
   "source": [
    "<div class=\"alert alert-info\">\n",
    "    \n",
    "<details><summary>👩‍💻 <b>Hint</b></summary>\n",
    "\n",
    "Use a loop to repeatedly divide the number by 10 and increment the count variable until the number becomes zero.\n",
    "\n",
    "</details>\n",
    "\n",
    "</div>"
   ]
  },
  {
   "cell_type": "markdown",
   "metadata": {},
   "source": [
    "## Break"
   ]
  },
  {
   "attachments": {},
   "cell_type": "markdown",
   "metadata": {},
   "source": [
    "### Fill the missing pieces using `break` statement"
   ]
  },
  {
   "cell_type": "code",
   "execution_count": null,
   "metadata": {},
   "outputs": [],
   "source": [
    "def find_prime_factors(number):\n",
    "    \"\"\"\n",
    "    Function to find and return the prime factors of a given number.\n",
    "    \n",
    "    Args:\n",
    "    number (int): The number to find the prime factors of.\n",
    "\n",
    "    Returns:\n",
    "    list: A list containing the prime factors of the given number.\n",
    "    \"\"\"\n",
    "    prime_factors = []  # Initialize an empty list to store the prime factors\n",
    "    divisor = 2  # Start with the smallest prime number as the divisor\n",
    "\n",
    "    while number > 1:  # Continue the loop until the number is reduced to 1\n",
    "        if number % divisor == 0:  # Check if the current divisor is a factor of the number\n",
    "            prime_factors.append(divisor)  # If it is, add it to the list of prime factors\n",
    "            number = number ____ divisor  # Divide the number by the divisor to continue finding the remaining factors\n",
    "        else:\n",
    "            divisor ____ 1  # If the divisor is not a factor, increment it by 1\n",
    "            if divisor * divisor > number:  # If the square of the divisor is greater than the number\n",
    "                if number > 1:  # And the remaining number is greater than 1\n",
    "                    ____.append(____)  # Add the remaining number as a prime factor\n",
    "                ____  # Break out of the loop, as no further factors need to be checked\n",
    "\n",
    "    return prime_factors  # Return the list of prime factors\n",
    "\n",
    "assert find_prime_factors(18) == [2, 3, 3]"
   ]
  },
  {
   "cell_type": "markdown",
   "source": [
    "<h5><font color=blue>Check result by executing below... 📝</font></h5>"
   ],
   "metadata": {
    "collapsed": false
   }
  },
  {
   "cell_type": "code",
   "execution_count": null,
   "editable": false,
   "outputs": [],
   "source": [
    "%%ipytest -qq\n",
    "\n",
    "class TestFindPrimeFactors:\n",
    "    def test_positive_number(self):\n",
    "        assert find_prime_factors(10) == [2, 5]\n",
    "        assert find_prime_factors(12) == [2, 2, 3]\n",
    "        assert find_prime_factors(29) == [29]\n",
    "        assert find_prime_factors(56) == [2, 2, 2, 7]\n",
    "        assert find_prime_factors(100) == [2, 2, 5, 5]\n",
    "\n",
    "    def test_zero(self):\n",
    "        assert find_prime_factors(0) == []\n",
    "\n",
    "    def test_negative_number(self):\n",
    "        assert find_prime_factors(-10) == []\n",
    "        assert find_prime_factors(-12) == []\n",
    "        assert find_prime_factors(-29) == []\n",
    "        assert find_prime_factors(-56) == []\n",
    "        assert find_prime_factors(-100) == []\n",
    "\n",
    "    def test_string_input(self):\n",
    "        with pytest.raises(TypeError):\n",
    "            find_prime_factors(\"123\")"
   ],
   "metadata": {
    "jupyter": {
     "source_hidden": true
    },
    "tags": [
     "hide-input"
    ]
   }
  },
  {
   "attachments": {},
   "cell_type": "markdown",
   "metadata": {
    "tags": [
     "hide-input"
    ]
   },
   "source": [
    "<div class=\"alert alert-info\">\n",
    "    \n",
    "<details><summary>👩‍💻 <b>Hint</b></summary>\n",
    "\n",
    "Try using the divisor to decompose the number.\n",
    "\n",
    "</details>\n",
    "\n",
    "</div>"
   ]
  },
  {
   "cell_type": "markdown",
   "metadata": {},
   "source": [
    "## Continue"
   ]
  },
  {
   "attachments": {},
   "cell_type": "markdown",
   "metadata": {},
   "source": [
    "### Fill the missing pieces using  `continue` statement"
   ]
  },
  {
   "cell_type": "code",
   "execution_count": null,
   "metadata": {},
   "outputs": [],
   "source": [
    "def sieve_of_eratosthenes(n):\n",
    "    \"\"\"\n",
    "    Finds all prime numbers less than or equal to n using the sieve of Eratosthenes method.\n",
    "\n",
    "    Args:\n",
    "        n (int): A positive integer to be the upper bound of the prime numbers.\n",
    "\n",
    "    Returns:\n",
    "        list: A list of all prime numbers less than or equal to n.\n",
    "    \"\"\"\n",
    "    if n <= 1:\n",
    "        return []\n",
    "    # Initialize a list of booleans from 0 to n, where True means the number is prime\n",
    "    is_prime = [True] * (n + 2)\n",
    "\n",
    "    # Mark 0 and 1 as not prime\n",
    "    is_prime[0] = False\n",
    "    is_prime[1] = False\n",
    "\n",
    "    # Loop from 2 to the square root of n\n",
    "    for i in range(2, int(n ** 0.5) + 1):\n",
    "        # If the current number is marked as prime\n",
    "        if is_prime[i]:\n",
    "\n",
    "            # Loop from i^2 to n with step size i\n",
    "            for j in range(i * i, n + 1, i):\n",
    "                # Mark all multiples of i as not prime\n",
    "                is_prime[j] = ____\n",
    "    # Initialize an empty list to store the prime numbers\n",
    "    primes = []\n",
    "\n",
    "    # Loop from 2 to n\n",
    "    for i in range(2, n + 1):\n",
    "\n",
    "        # If the current number is marked as prime\n",
    "        if ____:\n",
    "            # Append it to the list of prime numbers\n",
    "            primes.____\n",
    "\n",
    "        # Otherwise, continue to the next iteration\n",
    "        else:\n",
    "            ____\n",
    "    # Return the list of prime numbers\n",
    "    return primes\n",
    "\n",
    "assert sieve_of_eratosthenes(10) == [2, 3, 5, 7]"
   ]
  },
  {
   "cell_type": "markdown",
   "source": [
    "<h5><font color=blue>Check result by executing below... 📝</font></h5>"
   ],
   "metadata": {
    "collapsed": false
   }
  },
  {
   "cell_type": "code",
   "execution_count": null,
   "editable": false,
   "outputs": [],
   "source": [
    "%%ipytest -qq\n",
    "\n",
    "class TestSieveOfEratosthenes:\n",
    "    def test_positive_number(self):\n",
    "        assert sieve_of_eratosthenes(10) == [2, 3, 5, 7]\n",
    "        assert sieve_of_eratosthenes(20) == [2, 3, 5, 7, 11, 13, 17, 19]\n",
    "        assert sieve_of_eratosthenes(30) == [2, 3, 5, 7, 11, 13, 17, 19, 23, 29]\n",
    "        assert sieve_of_eratosthenes(50) == [2, 3, 5, 7, 11, 13, 17, 19, 23, 29, 31, 37, 41, 43, 47]\n",
    "\n",
    "    def test_zero(self):\n",
    "        assert sieve_of_eratosthenes(0) == []\n",
    "\n",
    "    def test_negative_number(self):\n",
    "        assert sieve_of_eratosthenes(-10) == []\n",
    "\n",
    "    def test_float_number(self):\n",
    "        with pytest.raises(TypeError):\n",
    "            sieve_of_eratosthenes(3.14)\n",
    "\n",
    "    def test_string_input(self):\n",
    "        with pytest.raises(TypeError):\n",
    "            sieve_of_eratosthenes(\"123\")"
   ],
   "metadata": {
    "jupyter": {
     "source_hidden": true
    },
    "tags": [
     "hide-input"
    ]
   }
  },
  {
   "attachments": {},
   "cell_type": "markdown",
   "metadata": {
    "tags": [
     "hide-input"
    ]
   },
   "source": [
    "<div class=\"alert alert-info\">\n",
    "    \n",
    "<details><summary>👩‍💻 <b>Hint</b></summary>\n",
    "\n",
    "In the inner loop, mark all multiples of the current prime number as not prime. To do this, set the corresponding indices in the is_prime list to False.\n",
    "\n",
    "</details>\n",
    "\n",
    "</div>"
   ]
  },
  {
   "cell_type": "markdown",
   "metadata": {},
   "source": [
    "## Functions"
   ]
  },
  {
   "attachments": {},
   "cell_type": "markdown",
   "metadata": {},
   "source": [
    "### Fill the missing pieces of the `gcd` function\n",
    "\n"
   ]
  },
  {
   "cell_type": "code",
   "execution_count": null,
   "metadata": {},
   "outputs": [],
   "source": [
    "def gcd(a, b):\n",
    "    \"\"\"\n",
    "    Finds the greatest common divisor of two positive integers using the Euclidean algorithm.\n",
    "\n",
    "    Args:\n",
    "        a (int): A positive integer.\n",
    "        b (int): Another positive integer.\n",
    "\n",
    "    Returns:\n",
    "        int: The greatest common divisor of a and b.\n",
    "    \"\"\"\n",
    "    if not isinstance(a, int) or not isinstance(b, int):\n",
    "        raise TypeError(\"Inputs must be integers.\")\n",
    "\n",
    "    # Base case: if b is 0, return a\n",
    "    if b == 0:\n",
    "        return ____\n",
    "\n",
    "    # Recursive case: if b is not 0, return the GCD of b and the remainder of a divided by b\n",
    "    else:\n",
    "        return gcd(b, ____)\n",
    "\n",
    "assert gcd(12, 18) == 6"
   ]
  },
  {
   "cell_type": "markdown",
   "source": [
    "<h5><font color=blue>Check result by executing below... 📝</font></h5>"
   ],
   "metadata": {
    "collapsed": false
   }
  },
  {
   "cell_type": "code",
   "execution_count": null,
   "editable": false,
   "outputs": [],
   "source": [
    "%%ipytest -qq\n",
    "\n",
    "class TestGCD:\n",
    "    def test_positive_numbers(self):\n",
    "        assert gcd(10, 25) == 5\n",
    "        assert gcd(14, 28) == 14\n",
    "        assert gcd(21, 14) == 7\n",
    "        assert gcd(48, 18) == 6\n",
    "        assert gcd(17, 29) == 1\n",
    "\n",
    "    def test_zero(self):\n",
    "        assert gcd(0, 10) == 10\n",
    "        assert gcd(10, 0) == 10\n",
    "        assert gcd(0, 0) == 0\n",
    "\n",
    "    def test_negative_numbers(self):\n",
    "        assert gcd(-10, 25) == 5\n",
    "        assert gcd(14, -28) == 14\n",
    "        assert gcd(-21, -14) == 7\n",
    "\n",
    "    def test_same_number(self):\n",
    "        assert gcd(10, 10) == 10\n",
    "        assert gcd(0, 0) == 0\n",
    "\n",
    "    def test_one_as_input(self):\n",
    "        assert gcd(1, 25) == 1\n",
    "        assert gcd(14, 1) == 1\n",
    "        assert gcd(1, 1) == 1\n",
    "\n",
    "    def test_large_numbers(self):\n",
    "        assert gcd(123456789, 987654321) == 9\n",
    "        assert gcd(2**64, 2**32) == 2**32\n",
    "\n",
    "    def test_float_numbers(self):\n",
    "        with pytest.raises(TypeError):\n",
    "            gcd(3.14, 2.71)\n",
    "\n",
    "    def test_string_input(self):\n",
    "        with pytest.raises(TypeError):\n",
    "            gcd(\"123\", \"456\")"
   ],
   "metadata": {
    "jupyter": {
     "source_hidden": true
    },
    "tags": [
     "hide-input"
    ]
   }
  },
  {
   "attachments": {},
   "cell_type": "markdown",
   "metadata": {
    "tags": [
     "hide-input"
    ]
   },
   "source": [
    "<div class=\"alert alert-info\">\n",
    "    \n",
    "<details><summary>👩‍💻 <b>Hint</b></summary>\n",
    "\n",
    "Use the Euclidean algorithm recursively, updating the values of a and b.\n",
    "\n",
    "</details>\n",
    "\n",
    "</div>"
   ]
  },
  {
   "cell_type": "markdown",
   "metadata": {},
   "source": [
    "### Searching for wanted people\n",
    "\n",
    "Implement `find_wanted_people` function which takes a list of names (strings) as argument. The function should return a list of names which are present both in `WANTED_PEOPLE` and in the name list given as argument to the function."
   ]
  },
  {
   "cell_type": "code",
   "execution_count": null,
   "metadata": {
    "editable": false
   },
   "outputs": [],
   "source": [
    "WANTED_PEOPLE = ['John Doe', 'Clint Eastwood', 'Chuck Norris']"
   ]
  },
  {
   "cell_type": "code",
   "execution_count": null,
   "metadata": {},
   "outputs": [],
   "source": [
    "# Your implementation here\n",
    "____"
   ]
  },
  {
   "cell_type": "code",
   "execution_count": null,
   "metadata": {
    "editable": false
   },
   "outputs": [],
   "source": [
    "people_to_check1 = ['Donald Duck', 'Clint Eastwood', 'John Doe', 'Barack Obama']\n",
    "wanted1 = find_wanted_people(people_to_check1)\n",
    "assert len(wanted1) == 2\n",
    "assert 'John Doe' in wanted1\n",
    "assert 'Clint Eastwood' in wanted1\n",
    "\n",
    "people_to_check2 = ['Donald Duck', 'Mickey Mouse', 'Zorro', 'Superman', 'Robin Hood']\n",
    "wanted2 = find_wanted_people(people_to_check2)\n",
    "\n",
    "assert wanted2 == []"
   ]
  },
  {
   "cell_type": "markdown",
   "metadata": {},
   "source": [
    "### Counting average length of words in a sentence\n",
    "\n",
    "Create a function `average_length_of_words` which takes a string as an argument and returns the average length of the words in the string. You can assume that there is a single space between each word and that the input does not have punctuation. The result should be rounded to one decimal place (hint: see [`round`](https://docs.python.org/3/library/functions.html#round))."
   ]
  },
  {
   "cell_type": "code",
   "execution_count": null,
   "metadata": {},
   "outputs": [],
   "source": [
    "# Your implementation here\n",
    "____"
   ]
  },
  {
   "cell_type": "code",
   "execution_count": null,
   "metadata": {
    "editable": false
   },
   "outputs": [],
   "source": [
    "assert average_length_of_words('only four lett erwo rdss') == 4\n",
    "assert average_length_of_words('one two three') == 3.7\n",
    "assert average_length_of_words('one two three four') == 3.8\n",
    "assert average_length_of_words('') == 0"
   ]
  },
  {
   "cell_type": "markdown",
   "metadata": {},
   "source": [
    "## Lambda"
   ]
  },
  {
   "cell_type": "markdown",
   "metadata": {},
   "source": [
    "### Fill the missing pieces"
   ]
  },
  {
   "cell_type": "code",
   "execution_count": null,
   "metadata": {},
   "outputs": [],
   "source": [
    "def map_function(nums, func):\n",
    "    \"\"\"\n",
    "    Applies a function to each element in a list of numbers and returns a new list of results.\n",
    "\n",
    "    Args:\n",
    "        nums (list): A list of numbers to be processed.\n",
    "        func (function): A function to be applied to each element in the list.\n",
    "\n",
    "    Returns:\n",
    "        list: A new list of numbers where each element is the result of applying the function to the corresponding element in the original list.\n",
    "    \"\"\"\n",
    "    # Use the map function and a lambda expression to apply the function to each element in the list and convert the result to a list\n",
    "    return list(map(____ x: ____, ____))\n",
    "\n",
    "\n",
    "# Define a list of numbers\n",
    "nums = [1, 2, 3, 4, 5]\n",
    "\n",
    "\n",
    "# Define a function that squares a number\n",
    "def square(x):\n",
    "    return ____\n",
    "\n",
    "# Call the map_function with the list of numbers and the square function\n",
    "assert map_function(nums, square) == [1, 4, 9, 16, 25]"
   ]
  },
  {
   "cell_type": "markdown",
   "source": [
    "<h5><font color=blue>Check result by executing below... 📝</font></h5>"
   ],
   "metadata": {
    "collapsed": false
   }
  },
  {
   "cell_type": "code",
   "execution_count": null,
   "editable": false,
   "outputs": [],
   "source": [
    "%%ipytest -qq\n",
    "\n",
    "class TestMapFunction:\n",
    "    def test_square_function(self):\n",
    "        assert map_function([1, 2, 3, 4, 5], square) == [1, 4, 9, 16, 25]\n",
    "        assert map_function([0, -1, 2, -3, 4], square) == [0, 1, 4, 9, 16]\n",
    "        assert map_function([], square) == []\n",
    "\n",
    "    def test_negative_numbers(self):\n",
    "        assert map_function([-1, -2, -3], abs) == [1, 2, 3]\n",
    "        assert map_function([-1, -2, -3], square) == [1, 4, 9]\n",
    "\n",
    "    def test_float_numbers(self):\n",
    "        assert map_function([1.5, 2.5, 3.5], int) == [1, 2, 3]\n",
    "        assert map_function([0.5, 1.5, 2.5], round) == [0, 2, 2]\n",
    "\n",
    "    def test_string_numbers(self):\n",
    "        with pytest.raises(TypeError):\n",
    "            map_function([\"1\", \"2\", \"3\"], square)"
   ],
   "metadata": {
    "jupyter": {
     "source_hidden": true
    },
    "tags": [
     "hide-input"
    ]
   }
  },
  {
   "attachments": {},
   "cell_type": "markdown",
   "metadata": {
    "tags": [
     "hide-input"
    ]
   },
   "source": [
    "<div class=\"alert alert-info\">\n",
    "    \n",
    "<details><summary>👩‍💻 <b>Hint</b></summary>\n",
    "\n",
    "Use the map() function with a lambda expression to apply the given function to each element in the list and convert the result to a list.\n",
    "\n",
    "</details>\n",
    "\n",
    "</div>"
   ]
  },
  {
   "cell_type": "markdown",
   "metadata": {},
   "source": [
    "## Classes"
   ]
  },
  {
   "attachments": {},
   "cell_type": "markdown",
   "metadata": {},
   "source": [
    "### Fill the missing pieces of the `Stack` class\n",
    "\n",
    "Fill `____` pieces of the `Stack` implemention in order to pass the assertions."
   ]
  },
  {
   "cell_type": "code",
   "execution_count": null,
   "metadata": {},
   "outputs": [],
   "source": [
    "class Stack:\n",
    "    \"\"\"\n",
    "    A class to represent a stack data structure.\n",
    "\n",
    "    Attributes:\n",
    "        items (list): A list of items in the stack.\n",
    "\n",
    "    Methods:\n",
    "        push(item): Adds an item to the top of the stack.\n",
    "        pop(): Removes and returns the top item from the stack.\n",
    "        peek(): Returns the top item from the stack without removing it.\n",
    "        is_empty(): Returns True if the stack is empty, False otherwise.\n",
    "    \"\"\"\n",
    "\n",
    "    # Initialize an empty list to store the items\n",
    "    def _____(____):\n",
    "        ____.items = []\n",
    "\n",
    "    # Add an item to the top of the stack\n",
    "    def push(self, ____):\n",
    "        self.items.append(____)\n",
    "\n",
    "    # Remove and return the top item from the stack\n",
    "    def pop(self):\n",
    "        return self.items.____\n",
    "\n",
    "    # Check if the stack is empty\n",
    "    def is_empty(self):\n",
    "        return ____ == 0\n",
    "\n",
    "stack = Stack()\n",
    "stack.push(1)\n",
    "\n",
    "assert stack.pop() == 1\n",
    "assert stack.is_empty() == True"
   ]
  },
  {
   "cell_type": "markdown",
   "source": [
    "<h5><font color=blue>Check result by executing below... 📝</font></h5>"
   ],
   "metadata": {
    "collapsed": false
   }
  },
  {
   "cell_type": "code",
   "execution_count": null,
   "editable": false,
   "outputs": [],
   "source": [
    "%%ipytest -qq\n",
    "\n",
    "class TestStack:\n",
    "    def test_push(self):\n",
    "        stack = Stack()\n",
    "        stack.push(1)\n",
    "        stack.push(2)\n",
    "        stack.push(3)\n",
    "        assert stack.items == [1, 2, 3]\n",
    "\n",
    "    def test_pop(self):\n",
    "        stack = Stack()\n",
    "        stack.push(1)\n",
    "        stack.push(2)\n",
    "        stack.push(3)\n",
    "        assert stack.pop() == 3\n",
    "        assert stack.pop() == 2\n",
    "        assert stack.pop() == 1\n",
    "        assert stack.is_empty()\n",
    "\n",
    "    def test_is_empty(self):\n",
    "        stack = Stack()\n",
    "        assert stack.is_empty()\n",
    "        stack.push(1)\n",
    "        assert not stack.is_empty()\n",
    "        stack.pop()\n",
    "        assert stack.is_empty()"
   ],
   "metadata": {
    "jupyter": {
     "source_hidden": true
    },
    "tags": [
     "hide-input"
    ]
   }
  },
  {
   "attachments": {},
   "cell_type": "markdown",
   "metadata": {
    "tags": [
     "hide-input"
    ]
   },
   "source": [
    "<div class=\"alert alert-info\">\n",
    "    \n",
    "<details><summary>👩‍💻 <b>Hint</b></summary>\n",
    "\n",
    "Initialize the list in __init__, use list operations to push and pop items, and check the list length to determine if it's empty.\n",
    "\n",
    "</details>\n",
    "\n",
    "</div>"
   ]
  },
  {
   "attachments": {},
   "cell_type": "markdown",
   "metadata": {},
   "source": [
    "### Fill the missing pieces of the `Complex` class\n"
   ]
  },
  {
   "cell_type": "code",
   "execution_count": null,
   "metadata": {},
   "outputs": [],
   "source": [
    "class Complex:\n",
    "    \"\"\"\n",
    "    A class to represent a complex number.\n",
    "\n",
    "    Attributes:\n",
    "        real (float): The real part of the complex number.\n",
    "        imag (float): The imaginary part of the complex number.\n",
    "\n",
    "    Methods:\n",
    "        __add__(other): Returns the sum of two complex numbers.\n",
    "        __sub__(other): Returns the difference of two complex numbers.\n",
    "        __mul__(other): Returns the product of two complex numbers.\n",
    "        __truediv__(other): Returns the quotient of two complex numbers.\n",
    "        __abs__(): Returns the absolute value of the complex number.\n",
    "        __eq__(): Returns whether two complex numbers are equal.\n",
    "        conjugate(): Returns the conjugate of the complex number.\n",
    "    \"\"\"\n",
    "\n",
    "    # Initialize the real and imaginary parts of the complex number\n",
    "    def ____(self, real, imag):\n",
    "        ____ = ____\n",
    "        ____ = ____\n",
    "\n",
    "    # Define the string representation of the complex number\n",
    "    def __str__(self):\n",
    "        if self.imag >= 0:\n",
    "            return f\"{____} + {____}i\"\n",
    "        else:\n",
    "            return f\"{____} - {____}i\"\n",
    "\n",
    "    # Define the addition of two complex numbers\n",
    "    def __add__(self, other):\n",
    "        return ____\n",
    "\n",
    "    # Define the subtraction of two complex numbers\n",
    "    def __sub__(self, other):\n",
    "        return ____\n",
    "\n",
    "    # Define the multiplication of two complex numbers\n",
    "    def __mul__(self, other):\n",
    "        return ____\n",
    "\n",
    "    # Define the division of two complex numbers\n",
    "    def __truediv__(self, other):\n",
    "        denominator = other.real ____ + other.imag ____\n",
    "        return Complex((self.real * ____ + self.imag * ____) ____ denominator,\n",
    "                       (self.imag * ____ - self.real * ____) ____ denominator)\n",
    "\n",
    "    # Define the absolute value of the complex number\n",
    "    def __abs__(self):\n",
    "        return (self.real ____ + self.imag ____) ____\n",
    "\n",
    "    # Define the equality of two complex numbers\n",
    "    def __eq__(self, other):\n",
    "        return self.real == other.real ____ self.imag == other.imag\n",
    "\n",
    "    # Define the conjugate of the complex number\n",
    "    def conjugate(self):\n",
    "        return ____\n",
    "\n",
    "\n",
    "# Create two complex numbers\n",
    "z1 = Complex(3, 4)\n",
    "z2 = Complex(1, -2)\n",
    "\n",
    "assert z1 + z2 == Complex(4, 2)\n",
    "assert z1 - z2 == Complex(2, 6)\n",
    "assert z1 * z2 == Complex(11, -2)\n",
    "assert z1 / z2 == Complex(-1, 2)\n",
    "assert abs(z1) == 5\n",
    "assert abs(z2) == 2.23606797749979\n",
    "assert z1.conjugate() == Complex(3, -4)\n",
    "assert z2.conjugate() == Complex(1, 2)"
   ]
  },
  {
   "cell_type": "markdown",
   "source": [
    "<h5><font color=blue>Check result by executing below... 📝</font></h5>"
   ],
   "metadata": {
    "collapsed": false
   }
  },
  {
   "cell_type": "code",
   "execution_count": null,
   "editable": false,
   "outputs": [],
   "source": [
    "%%ipytest -qq\n",
    "\n",
    "class TestComplex:\n",
    "    def test_addition(self):\n",
    "        c1 = Complex(1, 2)\n",
    "        c2 = Complex(3, 4)\n",
    "        result = c1 + c2\n",
    "        assert result.real == 4\n",
    "        assert result.imag == 6\n",
    "\n",
    "    def test_subtraction(self):\n",
    "        c1 = Complex(1, 2)\n",
    "        c2 = Complex(3, 4)\n",
    "        result = c1 - c2\n",
    "        assert result.real == -2\n",
    "        assert result.imag == -2\n",
    "\n",
    "    def test_multiplication(self):\n",
    "        c1 = Complex(1, 2)\n",
    "        c2 = Complex(3, 4)\n",
    "        result = c1 * c2\n",
    "        assert result.real == -5\n",
    "        assert result.imag == 10\n",
    "\n",
    "    def test_division(self):\n",
    "        c1 = Complex(1, 2)\n",
    "        c2 = Complex(3, 4)\n",
    "        result = c1 / c2\n",
    "        assert result.real == 0.44\n",
    "        assert result.imag == 0.08\n",
    "\n",
    "    def test_absolute_value(self):\n",
    "        c = Complex(3, 4)\n",
    "        result = abs(c)\n",
    "        assert result == 5\n",
    "\n",
    "    def test_equality(self):\n",
    "        c1 = Complex(1, 2)\n",
    "        c2 = Complex(1, 2)\n",
    "        c3 = Complex(3, 4)\n",
    "        assert c1 == c2\n",
    "        assert c1 != c3\n",
    "\n",
    "    def test_conjugate(self):\n",
    "        c = Complex(1, 2)\n",
    "        result = c.conjugate()\n",
    "        assert result.real == 1\n",
    "        assert result.imag == -2"
   ],
   "metadata": {
    "jupyter": {
     "source_hidden": true
    },
    "tags": [
     "hide-input"
    ]
   }
  },
  {
   "attachments": {},
   "cell_type": "markdown",
   "metadata": {
    "tags": [
     "hide-input"
    ]
   },
   "source": [
    "<div class=\"alert alert-info\">\n",
    "    \n",
    "<details><summary>👩‍💻 <b>Hint</b></summary>\n",
    "\n",
    "Implement arithmetic operations using appropriate operators and utilize mathematical operations and string formatting for other methods.\n",
    "\n",
    "</details>\n",
    "\n",
    "</div>"
   ]
  },
  {
   "cell_type": "markdown",
   "metadata": {},
   "source": [
    "## Exceptions"
   ]
  },
  {
   "cell_type": "markdown",
   "metadata": {},
   "source": [
    "### Dealing with exceptions\n",
    "\n",
    "Fill `____` parts of the implementation below. `sum_of_list` function takes a list as argument and calculates the sum of values in the list. If some element in the list can not be converted to a numeric value, it should be ignored from the sum."
   ]
  },
  {
   "cell_type": "code",
   "execution_count": null,
   "metadata": {},
   "outputs": [],
   "source": [
    "def sum_of_list(values):\n",
    "    ____ = 0\n",
    "    for val in values:\n",
    "        ____:\n",
    "        numeric_val = float(val)\n",
    "    ____\n",
    "    ____ as e:\n",
    "    ____\n",
    "\n",
    "\n",
    "____ += numeric_val\n",
    "return ____"
   ]
  },
  {
   "cell_type": "code",
   "execution_count": null,
   "metadata": {
    "editable": false
   },
   "outputs": [],
   "source": [
    "list1 = [1, 2, 3]\n",
    "list2 = ['1', 2.5, '3.0']\n",
    "list3 = ['', '1']\n",
    "list4 = []\n",
    "list5 = ['John', 'Doe', 'was', 'here']\n",
    "nasty_list = [KeyError(), [], dict()]\n",
    "\n",
    "assert sum_of_list(list1) == 6\n",
    "assert sum_of_list(list2) == 6.5\n",
    "assert sum_of_list(list3) == 1\n",
    "assert sum_of_list(list4) == 0\n",
    "assert sum_of_list(list5) == 0\n",
    "assert sum_of_list(nasty_list) == 0"
   ]
  },
  {
   "attachments": {},
   "cell_type": "markdown",
   "metadata": {},
   "source": [
    "### Dealing with exceptions"
   ]
  },
  {
   "cell_type": "code",
   "execution_count": null,
   "metadata": {},
   "outputs": [],
   "source": [
    "def square_root(x):\n",
    "    \"\"\"\n",
    "    Finds the square root of a non-negative number using the Newton's method.\n",
    "\n",
    "    Args:\n",
    "        x (float): A non-negative number to be the input.\n",
    "\n",
    "    Returns:\n",
    "        float: The square root of x.\n",
    "\n",
    "    Raises:\n",
    "        ValueError: If x is negative.\n",
    "    \"\"\"\n",
    "    # Check if x is negative\n",
    "    if x < 0:\n",
    "        # Raise a ValueError exception with a message\n",
    "        raise ValueError(\"x must be non-negative\")\n",
    "\n",
    "    # Use a try block to attempt the square root calculation\n",
    "    ____:\n",
    "        # Initialize a guess value as half of x\n",
    "        guess = x / 2\n",
    "\n",
    "        # Loop until the guess is close enough to the actual square root\n",
    "        while abs(____ - x) > 0.000001:\n",
    "            # Update the guess value using the Newton's formula\n",
    "            guess = (guess + x ____ guess) / 2\n",
    "\n",
    "        # Return the guess value as the square root of x\n",
    "        return guess\n",
    "\n",
    "    # Use an except block to handle possible ZeroDivisionError exceptions\n",
    "    ____ ZeroDivisionError as ____:\n",
    "        # Print the exception message\n",
    "        print(____)\n",
    "\n",
    "        return ____\n",
    "\n",
    "\n",
    "import math\n",
    "\n",
    "assert math.isclose(square_root(25), 5, rel_tol=0.000001)\n",
    "import pytest\n",
    "\n",
    "with pytest.raises(ValueError):\n",
    "    square_root(-9)"
   ]
  },
  {
   "cell_type": "markdown",
   "source": [
    "<h5><font color=blue>Check result by executing below... 📝</font></h5>"
   ],
   "metadata": {
    "collapsed": false
   }
  },
  {
   "cell_type": "code",
   "execution_count": null,
   "editable": false,
   "outputs": [],
   "source": [
    "%%ipytest -qq\n",
    "\n",
    "class TestSquareRoot:\n",
    "    def test_positive_number(self):\n",
    "        result = square_root(16)\n",
    "        assert result == pytest.approx(4)\n",
    "\n",
    "    def test_zero(self):\n",
    "        result = square_root(0)\n",
    "        assert result == 0\n",
    "\n",
    "    def test_negative_number(self):\n",
    "        with pytest.raises(ValueError):\n",
    "            square_root(-16)\n",
    "\n",
    "    def test_large_number(self):\n",
    "        result = square_root(123456789)\n",
    "        assert result == pytest.approx(11111.11109, rel=1e-5)\n"
   ],
   "metadata": {
    "jupyter": {
     "source_hidden": true
    },
    "tags": [
     "hide-input"
    ]
   }
  },
  {
   "attachments": {},
   "cell_type": "markdown",
   "metadata": {
    "tags": [
     "hide-input"
    ]
   },
   "source": [
    "<div class=\"alert alert-info\">\n",
    "    \n",
    "<details><summary>👩‍💻 <b>Hint</b></summary>\n",
    "\n",
    "Try-except for ZeroDivisionError, initialize guess as x/2, update using Newton's formula until desired precision.\n",
    "\n",
    "</details>\n",
    "\n",
    "</div>"
   ]
  },
  {
   "cell_type": "markdown",
   "metadata": {},
   "source": [
    "## Acknowledgments\n",
    "\n",
    "Thanks to below awesome open source projects for Python learning, which inspire this chapter.\n",
    "\n",
    "- [learn-python](https://github.com/trekhleb/learn-python) and [Oleksii Trekhleb](https://github.com/trekhleb)\n",
    "- [ultimate-python](https://github.com/huangsam/ultimate-python) and [Samuel Huang](https://github.com/huangsam)\n",
    "- [learn-python3](https://github.com/jerry-git/learn-python3) and [Jerry Pussine](https://github.com/jerry-gitq )\n",
    "- [chatgpt](https://openai.com/product/chatgpt)"
   ]
  }
 ],
 "metadata": {
  "kernelspec": {
   "display_name": "Python 3.9.13 64-bit",
   "language": "python",
   "name": "python3"
  },
  "language_info": {
   "codemirror_mode": {
    "name": "ipython",
    "version": 3
   },
   "file_extension": ".py",
   "mimetype": "text/x-python",
   "name": "python",
   "nbconvert_exporter": "python",
   "pygments_lexer": "ipython3",
   "version": "3.9.16"
  },
  "orig_nbformat": 4,
  "vscode": {
   "interpreter": {
    "hash": "aee8b7b246df8f9039afb4144a1f6fd8d2ca17a180786b69acc140d282b71a49"
   }
  }
 },
 "nbformat": 4,
 "nbformat_minor": 2
}
