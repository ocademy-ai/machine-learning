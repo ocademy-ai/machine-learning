{
 "cells": [
  {
   "cell_type": "markdown",
   "metadata": {
    "pycharm": {
     "name": "#%% md\n"
    }
   },
   "source": [
    "# Python programming introduction"
   ]
  },
  {
   "cell_type": "markdown",
   "metadata": {
    "pycharm": {
     "name": "#%% md\n"
    }
   },
   "source": [
    "Please follow the <a href=\"../../prerequisites/python-programming-introduction.md\">Python programming basics section</a> to set up your Python environment. "
   ]
  },
  {
   "cell_type": "markdown",
   "metadata": {
    "pycharm": {
     "name": "#%% md\n"
    }
   },
   "source": [
    "## Exercise: Level 1\n",
    "\n",
    "1. Check the Python version you are using\n",
    "2. Open the Python interactive shell and do the following operations. The operands are 3 and 4.\n",
    "   - addition(+)\n",
    "   - subtraction(-)\n",
    "   - multiplication(\\*)\n",
    "   - modulus(%)\n",
    "   - division(/)\n",
    "   - exponential(\\*\\*)\n",
    "   - floor division operator(//)\n",
    "3. Write strings on the Python interactive shell. The strings are the following:\n",
    "   - Your name\n",
    "   - Your family name\n",
    "   - Your country\n",
    "   - I am enjoying Ocademy courses\n",
    "4. Check the data types of the following data:\n",
    "   - 10\n",
    "   - 9.8\n",
    "   - 3.14\n",
    "   - 4 - `4j`\n",
    "   - ['Asabeneh', 'Python', 'Finland']\n",
    "   - Your name\n",
    "   - Your family name\n",
    "   - Your country"
   ]
  },
  {
   "cell_type": "markdown",
   "metadata": {
    "pycharm": {
     "name": "#%% md\n"
    }
   },
   "source": [
    "## Exercise: Level 2\n",
    "\n",
    "Create a folder named day_1 inside `open-academy` folder. Inside `day_1` folder, create a Python file `helloworld.py` and repeat questions 1, 2, 3, and 4. Remember to use `print()` when you are working on a Python file. Navigate to the directory where you have saved your file, and run it."
   ]
  },
  {
   "cell_type": "markdown",
   "metadata": {
    "pycharm": {
     "name": "#%% md\n"
    }
   },
   "source": [
    "## Exercise: Level 3\n",
    "\n",
    "Create a Jupyter Notebook code cell below, and repeat questions 1, 2, 3, and 4. Then you can run it and check the result."
   ]
  },
  {
   "cell_type": "markdown",
   "metadata": {
    "pycharm": {
     "name": "#%% md\n"
    }
   },
   "source": [
    "## Exercise: Level 4\n",
    "\n",
    "1. Write an example for different Python data types such as Number(Integer, Float, Complex), String, Boolean, List, Tuple, Set, and Dictionary.\n",
    "2. Find a [Euclidian distance](https://en.wikipedia.org/wiki/Euclidean_distance#:~:text=In%20mathematics%2C%20the%20Euclidean%20distance,being%20called%20the%20Pythagorean%20distance.) between (2, 3) and (10, 8)"
   ]
  },
  {
   "cell_type": "code",
   "execution_count": null,
   "metadata": {
    "pycharm": {
     "name": "#%%\n"
    }
   },
   "outputs": [],
   "source": [
    "# Your anwser here."
   ]
  }
 ],
 "metadata": {
  "kernelspec": {
   "display_name": "Python 3 (ipykernel)",
   "language": "python",
   "name": "python3"
  },
  "language_info": {
   "codemirror_mode": {
    "name": "ipython",
    "version": 3
   },
   "file_extension": ".py",
   "mimetype": "text/x-python",
   "name": "python",
   "nbconvert_exporter": "python",
   "pygments_lexer": "ipython3",
   "version": "3.9.5"
  },
  "vscode": {
   "interpreter": {
    "hash": "aee8b7b246df8f9039afb4144a1f6fd8d2ca17a180786b69acc140d282b71a49"
   }
  }
 },
 "nbformat": 4,
 "nbformat_minor": 4
}
