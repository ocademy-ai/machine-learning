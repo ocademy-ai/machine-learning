{
 "cells": [
  {
   "attachments": {},
   "cell_type": "markdown",
   "metadata": {
    "pycharm": {
     "name": "#%% md\n"
    }
   },
   "source": [
    "# Python programming introduction"
   ]
  },
  {
   "attachments": {},
   "cell_type": "markdown",
   "metadata": {},
   "source": [
    "## Merge two ascending lists into a new ascending list and returns."
   ]
  },
  {
   "cell_type": "code",
   "execution_count": 4,
   "metadata": {},
   "outputs": [],
   "source": [
    "from typing import List, Optional\n",
    "\n",
    "class ListNode:\n",
    "    def __init__(self, val=0, next=None):\n",
    "        self.val = val\n",
    "        self.next = next\n",
    "\n",
    "def mergeTwoLists(l1: ListNode, l2: ListNode) -> ListNode:\n",
    "    if not l1: return l2  \n",
    "    if not l2: return l1\n",
    "    if l1.val <= l2.val:\n",
    "        l1.next = mergeTwoLists(l1.next,l2)\n",
    "        return l1\n",
    "    else:\n",
    "        l2.next = mergeTwoLists(l1,l2.next)\n",
    "        return l2\n",
    "    \n",
    "\n",
    "l1 = ListNode(0)\n",
    "l1.next = ListNode(2)\n",
    "l1.next.next = ListNode(4)\n",
    "\n",
    "l2 = ListNode(1)\n",
    "l2.next = ListNode(3)\n",
    "l2.next.next = ListNode(4)\n",
    "\n",
    "merged_list = mergeTwoLists(l1.next, l2)\n",
    "\n",
    "assert merged_list.val == 1\n",
    "assert merged_list.next.val == 2\n",
    "assert merged_list.next.next.val == 3\n",
    "assert merged_list.next.next.next.val == 4\n",
    "assert merged_list.next.next.next.next.val == 4\n",
    "assert merged_list.next.next.next.next.next == None\n"
   ]
  }
 ],
 "metadata": {
  "kernelspec": {
   "display_name": "Python 3 (ipykernel)",
   "language": "python",
   "name": "python3"
  },
  "language_info": {
   "codemirror_mode": {
    "name": "ipython",
    "version": 3
   },
   "file_extension": ".py",
   "mimetype": "text/x-python",
   "name": "python",
   "nbconvert_exporter": "python",
   "pygments_lexer": "ipython3",
   "version": "3.10.9"
  },
  "vscode": {
   "interpreter": {
    "hash": "aee8b7b246df8f9039afb4144a1f6fd8d2ca17a180786b69acc140d282b71a49"
   }
  }
 },
 "nbformat": 4,
 "nbformat_minor": 4
}
