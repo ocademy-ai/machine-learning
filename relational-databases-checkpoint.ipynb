{
 "cells": [
  {
   "cell_type": "markdown",
   "id": "fefdba25-7a93-4f1d-83c0-44f0a61e66b2",
   "metadata": {
    "editable": true,
    "slideshow": {
     "slide_type": ""
    },
    "tags": [
     "hide-cell"
    ]
   },
   "source": [
    "---\n",
    "jupytext:\n",
    "  cell_metadata_filter: -all\n",
    "  formats: md:myst\n",
    "  text_representation:\n",
    "    extension: .md\n",
    "    format_name: myst\n",
    "    format_version: 0.13\n",
    "    jupytext_version: 1.11.5\n",
    "kernelspec:\n",
    "  display_name: Python 3\n",
    "  language: python\n",
    "  name: python3\n",
    "---"
   ]
  },
  {
   "cell_type": "code",
   "execution_count": 1,
   "id": "2f4bcb49-b1e6-4754-9868-b46e46c14182",
   "metadata": {
    "editable": true,
    "slideshow": {
     "slide_type": ""
    },
    "tags": [
     "hide-input"
    ]
   },
   "outputs": [],
   "source": [
    "import os\n",
    "import sys\n",
    "!{sys.executable} -m pip install --quiet pandas scikit-learn numpy matplotlib jupyterlab_myst ipython\n"
   ]
  },
  {
   "cell_type": "markdown",
   "id": "7e89d101",
   "metadata": {
    "editable": true,
    "slideshow": {
     "slide_type": ""
    },
    "tags": []
   },
   "source": [
    "\n",
    "\n",
    "# Relational databases\n",
    "\n",
    "Chances are you have used a spreadsheet in the past to store information. You had a set of rows and columns, where the rows contained the information (or data), and the columns described the information (sometimes called metadata). A relational database is built upon this core principle of columns and rows in tables, allowing you to have information spread across multiple tables. This allows you to work with more complex data, avoid duplication, and have flexibility in the way you explore the data. Let's explore the concepts of a relational database.\n",
    "\n",
    "## It all starts with tables\n",
    "\n",
    "A relational database has at its core tables. Just as with the spreadsheet, a table is a collection of columns and rows. The row contains the data or information we wish to work with, such as the name of a city or the amount of rainfall. The columns describe the data they store.\n",
    "\n",
    "Let's begin our exploration by starting a table to store information about cities. We might start with their name and country. You could store this in a table as follows:\n",
    "\n",
    "| City     | Country       |\n",
    "| -------- | ------------- |\n",
    "| Tokyo    | Japan         |\n",
    "| Atlanta  | United States |\n",
    "| Auckland | New Zealand   |\n",
    "\n",
    "Notice the column names of `city`, `country` and `population` describe the data being stored, and each row has information about one city.\n",
    "\n",
    "## The shortcomings of a single table approach\n",
    "\n",
    "Chances are, the table above seems relatively familiar to you. Let's start to add some additional data to our burgeoning database - annual rainfall (in millimeters). We'll focus on the years 2018, 2019 and 2020. If we were to add it for Tokyo, it might look something like this:\n",
    "\n",
    "| City  | Country | Year | Amount |\n",
    "| ----- | ------- | ---- | ------ |\n",
    "| Tokyo | Japan   | 2020 | 1690   |\n",
    "| Tokyo | Japan   | 2019 | 1874   |\n",
    "| Tokyo | Japan   | 2018 | 1445   |\n",
    "\n",
    "What do you notice about our table? You might notice we're duplicating the name and country of the city over and over. That could take up quite a bit of storage, and is largely unnecessary to have multiple copies of. After all, Tokyo has just one name we're interested in.\n",
    "\n",
    "OK, let's try something else. Let's add new columns for each year:\n",
    "\n",
    "| City     | Country       | 2018 | 2019 | 2020 |\n",
    "| -------- | ------------- | ---- | ---- | ---- |\n",
    "| Tokyo    | Japan         | 1445 | 1874 | 1690 |\n",
    "| Atlanta  | United States | 1779 | 1111 | 1683 |\n",
    "| Auckland | New Zealand   | 1386 | 942  | 1176 |\n",
    "\n",
    "While this avoids the row duplication, it adds a couple of other challenges. We would need to modify the structure of our table each time there's a new year. Additionally, as our data grows having our years as columns will make it trickier to retrieve and calculate values.\n",
    "\n",
    "This is why we need multiple tables and relationships. By breaking apart our data we can avoid duplication and have more flexibility in how we work with our data.\n",
    "\n",
    "## The concepts of relationships\n",
    "\n",
    "Let's return to our data and determine how we want to split things up. We know we want to store the name and country of our cities, so this will probably work best in one table.\n",
    "\n",
    "| City     | Country       |\n",
    "| -------- | ------------- |\n",
    "| Tokyo    | Japan         |\n",
    "| Atlanta  | United States |\n",
    "| Auckland | New Zealand   |\n",
    "\n",
    "But before we create the next table, we need to figure out how to reference each city. We need some form of an identifier, ID or (in technical database terms) a primary key. A primary key is a value used to identify one specific row in a table. While this could be based on a value itself (we could use the name of the city, for example), it should almost always be a number or other identifier. We don't want the id to ever change as it would break the relationship. You will find in most cases the primary key or id will be an auto-generated number.\n",
    "\n",
    ":::{note}\n",
    "✅ Primary key is frequently abbreviated as PK\n",
    ":::\n",
    "\n",
    "\n",
    "### cities\n",
    "\n",
    "| city_id | City     | Country       |\n",
    "| ------- | -------- | ------------- |\n",
    "| 1       | Tokyo    | Japan         |\n",
    "| 2       | Atlanta  | United States |\n",
    "| 3       | Auckland | New Zealand   |\n",
    "\n",
    ":::{note}\n",
    "✅ You will notice we use the terms \"id\" and \"primary key\" interchangeably during this section. The concepts here apply to DataFrames, which you will explore later. DataFrames don't use the terminology of \"primary key\", however you will notice they behave much in the same way.\n",
    ":::\n",
    "\n",
    "With our cities table created, let's store the rainfall. Rather than duplicating the full information about the city, we can use the id. We should also ensure the newly created table has an *id* column as well, as all tables should have an id or primary key.\n",
    "\n",
    "### rainfall\n",
    "\n",
    "| rainfall_id | city_id | Year | Amount |\n",
    "| ----------- | ------- | ---- | ------ |\n",
    "| 1           | 1       | 2018 | 1445   |\n",
    "| 2           | 1       | 2019 | 1874   |\n",
    "| 3           | 1       | 2020 | 1690   |\n",
    "| 4           | 2       | 2018 | 1779   |\n",
    "| 5           | 2       | 2019 | 1111   |\n",
    "| 6           | 2       | 2020 | 1683   |\n",
    "| 7           | 3       | 2018 | 1386   |\n",
    "| 8           | 3       | 2019 | 942    |\n",
    "| 9           | 3       | 2020 | 1176   |\n",
    "\n",
    "Notice the `city_id` column inside the newly created `rainfall` table. This column contains values that reference the IDs in the `cities` table. In technical relational data terms, this is called a **foreign key**; it's a primary key from another table. You can just think of it as a reference or a pointer. `city_id` 1 reference Tokyo.\n",
    "\n",
    ":::{note}\n",
    "Foreign key is frequently abbreviated as FK\n",
    ":::\n",
    "\n",
    "\n",
    "## Retrieving the data\n",
    "\n",
    "With our data separated into two tables, you may be wondering how we retrieve it. If we are using a relational database such as MySQL, SQL Server or Oracle, we can use a language called Structured Query Language or SQL. SQL (sometimes pronounced sequel) is a standard language used to retrieve and modify data in a relational database.\n",
    "\n",
    "To retrieve data you use the command `SELECT`. At its core, you **select** the columns you want to see **from** the table they're contained in. If you wanted to display just the names of the cities, you could use the following:"
   ]
  },
  {
   "cell_type": "raw",
   "id": "f3896dec-0a72-406f-a2cb-4180c40e463b",
   "metadata": {
    "attributes": {
     "classes": [
      "sql"
     ],
     "id": ""
    },
    "editable": true,
    "raw_mimetype": "",
    "slideshow": {
     "slide_type": ""
    },
    "tags": []
   },
   "source": [
    "SELECT city\n",
    "FROM cities;\n",
    "\n",
    "-- Output:\n",
    "-- Tokyo\n",
    "-- Atlanta\n",
    "-- Auckland"
   ]
  },
  {
   "cell_type": "markdown",
   "id": "b2790db4",
   "metadata": {
    "editable": true,
    "slideshow": {
     "slide_type": ""
    },
    "tags": []
   },
   "source": [
    "`SELECT` is where you list the columns, and `FROM` is where you list the tables.\n",
    "\n",
    ":::{note}\n",
    "SQL syntax is case-insensitive, meaning `select` and `SELECT` mean the same thing. However, depending on the type of database you are using the columns and tables might be case sensitive. As a result, it's a best practice to always treat everything in programming like it's case sensitive. When writing SQL queries common convention is to put the keywords in all upper-case letters.\n",
    ":::\n",
    "\n",
    "\n",
    "The query above will display all cities. Let's imagine we only wanted to display cities in New Zealand. We need some form of a filter. The SQL keyword for this is `WHERE`, or \"where something is true\"."
   ]
  },
  {
   "cell_type": "raw",
   "id": "690937b6-11ab-4d19-a426-52e1cd67552c",
   "metadata": {
    "attributes": {
     "classes": [
      "sql"
     ],
     "id": ""
    },
    "editable": true,
    "raw_mimetype": "",
    "slideshow": {
     "slide_type": ""
    },
    "tags": []
   },
   "source": [
    "SELECT city\n",
    "FROM cities\n",
    "WHERE country = 'New Zealand';\n",
    "\n",
    "-- Output:\n",
    "-- Auckland"
   ]
  },
  {
   "cell_type": "markdown",
   "id": "38d18065",
   "metadata": {},
   "source": [
    "## Joining data\n",
    "\n",
    "Until now we've retrieved data from a single table. Now we want to bring the data together from both `cities` and `rainfall`. This is done by *joining* them together. You will effectively create a seam between the two tables, and match up the values from a column from each table.\n",
    "\n",
    "In our example, we will match the `city_id` column in `rainfall` with the city_id column in `cities`. This will match the rainfall value with its respective city. The type of join we will perform is what's called an *inner* join, meaning if any rows don't match with anything from the other table they won't be displayed. In our case every city has rainfall, so everything will be displayed.\n",
    "\n",
    "Let's retrieve the rainfall for 2019 for all our cities.\n",
    "\n",
    "We're going to do this in steps. The first step is to join the data together by indicating the columns for the seam - `city_id` as highlighted before."
   ]
  },
  {
   "cell_type": "raw",
   "id": "4bd7c97f-e6dd-461c-bfb6-0dd21dd10a2e",
   "metadata": {
    "attributes": {
     "classes": [
      "sql"
     ],
     "id": ""
    },
    "editable": true,
    "raw_mimetype": "",
    "slideshow": {
     "slide_type": ""
    },
    "tags": []
   },
   "source": [
    "SELECT cities.city\n",
    "    rainfall.amount\n",
    "FROM cities\n",
    "    INNER JOIN rainfall ON cities.city_id = rainfall.city_id"
   ]
  },
  {
   "cell_type": "markdown",
   "id": "70c0200c",
   "metadata": {
    "editable": true,
    "slideshow": {
     "slide_type": ""
    },
    "tags": []
   },
   "source": [
    "We have highlighted the two columns we want, and the fact we want to join the tables together by the `city_id`. Now we can add the `WHERE` statement to filter out the only year 2019."
   ]
  },
  {
   "cell_type": "raw",
   "id": "7722ce4d-5414-4d39-bdb2-2ffa43826701",
   "metadata": {
    "attributes": {
     "classes": [
      "sql"
     ],
     "id": ""
    }
   },
   "source": [
    "SELECT cities.city\n",
    "    rainfall.amount\n",
    "FROM cities\n",
    "    INNER JOIN rainfall ON cities.city_id = rainfall.city_id\n",
    "WHERE rainfall.year = 2019\n",
    "\n",
    "-- Output\n",
    "\n",
    "-- city     | amount\n",
    "-- -------- | ------\n",
    "-- Tokyo    | 1874\n",
    "-- Atlanta  | 1111\n",
    "-- Auckland |  942"
   ]
  },
  {
   "cell_type": "markdown",
   "id": "4ff2c8fc",
   "metadata": {
    "editable": true,
    "slideshow": {
     "slide_type": ""
    },
    "tags": []
   },
   "source": [
    "## Conclusion\n",
    "\n",
    "Relational databases are centered around dividing information between multiple tables which is then brought back together for display and analysis. This provides a high degree of flexibility to perform calculations and otherwise manipulate data. You have seen the core concepts of a relational database, and how to perform a join between two tables.\n",
    "\n",
    "## Your turn! 🚀\n",
    "\n",
    "There are numerous relational databases available on the internet. You can explore the data by using the skills you've learned above.\n",
    "\n",
    "Assignment - [Displaying airport data](../../assignments/data-science/displaying-airport-data.md)\n",
    "\n",
    "## Self study\n",
    "\n",
    "There are several resources available on [Microsoft Learn](https://docs.microsoft.com/learn?WT.mc_id=academic-77958-bethanycheum) for you to continue your exploration of SQL and relational database concepts\n",
    "\n",
    "- [Describe concepts of relational data](https://docs.microsoft.com//learn/modules/describe-concepts-of-relational-data?WT.mc_id=academic-77958-bethanycheum)\n",
    "- [Get Started Querying with Transact-SQL](https://docs.microsoft.com//learn/paths/get-started-querying-with-transact-sql?WT.mc_id=academic-77958-bethanycheum) (Transact-SQL is a version of SQL)\n",
    "- [SQL content on Microsoft Learn](https://docs.microsoft.com/learn/browse/?products=azure-sql-database%2Csql-server&expanded=azure&WT.mc_id=academic-77958-bethanycheum)\n",
    "\n",
    "## Acknowledgments\n",
    "\n",
    "Thanks to Microsoft for creating the open-source course [Data Science for Beginners](https://github.com/microsoft/Data-Science-For-Beginners). It inspires the majority of the content in this chapter."
   ]
  }
 ],
 "metadata": {
  "kernelspec": {
   "display_name": "Python 3 (ipykernel)",
   "language": "python",
   "name": "python3"
  },
  "language_info": {
   "codemirror_mode": {
    "name": "ipython",
    "version": 3
   },
   "file_extension": ".py",
   "mimetype": "text/x-python",
   "name": "python",
   "nbconvert_exporter": "python",
   "pygments_lexer": "ipython3",
   "version": "3.11.1"
  }
 },
 "nbformat": 4,
 "nbformat_minor": 5
}
