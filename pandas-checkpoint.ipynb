{
 "cells": [
  {
   "cell_type": "markdown",
   "id": "e6995531-841b-42c3-af4c-d5833cbd13dc",
   "metadata": {
    "editable": true,
    "slideshow": {
     "slide_type": ""
    },
    "tags": [
     "hide-cell"
    ]
   },
   "source": [
    "---\n",
    "jupytext:\n",
    "  cell_metadata_filter: -all\n",
    "  formats: md:myst\n",
    "  text_representation:\n",
    "    extension: .md\n",
    "    format_name: myst\n",
    "    format_version: 0.13\n",
    "    jupytext_version: 1.11.5\n",
    "kernelspec:\n",
    "  display_name: Python 3\n",
    "  language: python\n",
    "  name: python3\n",
    "---"
   ]
  },
  {
   "cell_type": "code",
   "execution_count": 1,
   "id": "360698ca-3ca3-4a3c-a2ff-d73839b60e86",
   "metadata": {
    "editable": true,
    "slideshow": {
     "slide_type": ""
    },
    "tags": [
     "hide-input"
    ]
   },
   "outputs": [],
   "source": [
    "import os\n",
    "import sys\n",
    "!{sys.executable} -m pip install --quiet pandas scikit-learn numpy matplotlib jupyterlab_myst ipython\n"
   ]
  },
  {
   "cell_type": "markdown",
   "id": "91229422",
   "metadata": {
    "editable": true,
    "slideshow": {
     "slide_type": ""
    },
    "tags": []
   },
   "source": [
    "# Pandas\n",
    "\n",
    "Pandas is a fast, powerful, flexible and easy-to-use open-source data analysis and manipulation tool, built on top of the Python programming language.\n",
    "\n",
    "## Introducing Pandas objects\n",
    "\n",
    "We’ll start with a quick, non-comprehensive overview of the fundamental data structures in Pandas to get you started. The fundamental behavior about data types, indexing, axis labeling, and alignment apply across all of the objects. To get started, import NumPy and load Pandas into your namespace:"
   ]
  },
  {
   "cell_type": "code",
   "execution_count": 2,
   "id": "a3efa24c",
   "metadata": {
    "attributes": {
     "classes": [
      "code-cell"
     ],
     "id": ""
    }
   },
   "outputs": [],
   "source": [
    "import numpy as np\n",
    "import pandas as pd"
   ]
  },
  {
   "cell_type": "markdown",
   "id": "c2705582",
   "metadata": {},
   "source": [
    "### Series\n",
    "\n",
    "`Series` is a one-dimensional labeled array capable of holding any data type (integers, strings, floating point numbers, Python objects, etc.). The axis labels are collectively referred to as the **index**. The basic method to create a `Series` is to call:"
   ]
  },
  {
   "cell_type": "markdown",
   "id": "257838b8-8638-464b-bc79-709f6859e4f0",
   "metadata": {
    "attributes": {
     "classes": [
      "py"
     ],
     "id": ""
    },
    "editable": true,
    "slideshow": {
     "slide_type": ""
    },
    "tags": []
   },
   "source": [
    "s = pd.Series(data, index=index)"
   ]
  },
  {
   "cell_type": "markdown",
   "id": "d8f8f7fc",
   "metadata": {
    "editable": true,
    "slideshow": {
     "slide_type": ""
    },
    "tags": []
   },
   "source": [
    "Here, `data` can be many different things:\n",
    "\n",
    "- a Python dict\n",
    "- an ndarray\n",
    "- a scalar value (like 5)\n",
    "\n",
    "\n",
    "The passed **index** is a list of axis labels. Thus, this separates into a few cases depending on what the **data is**:\n",
    "\n",
    "#### Create a Series\n",
    "\n",
    "##### From ndarray\n",
    "\n",
    "If `data` is an ndarray, **index** must be the same length as the **data**. If no index is passed, one will be created having values `[0, ..., len(data) - 1]`."
   ]
  },
  {
   "cell_type": "code",
   "execution_count": 3,
   "id": "5a6bd794",
   "metadata": {
    "attributes": {
     "classes": [
      "code-cell"
     ],
     "id": ""
    }
   },
   "outputs": [],
   "source": [
    "s = pd.Series(np.random.randn(5), index=[\"a\", \"b\", \"c\", \"d\", \"e\"])"
   ]
  },
  {
   "cell_type": "code",
   "execution_count": 4,
   "id": "3c7507b1",
   "metadata": {
    "attributes": {
     "classes": [
      "code-cell"
     ],
     "id": ""
    }
   },
   "outputs": [
    {
     "data": {
      "text/plain": [
       "a   -0.091612\n",
       "b   -0.196024\n",
       "c   -0.142447\n",
       "d    0.308081\n",
       "e    0.128599\n",
       "dtype: float64"
      ]
     },
     "execution_count": 4,
     "metadata": {},
     "output_type": "execute_result"
    }
   ],
   "source": [
    "s"
   ]
  },
  {
   "cell_type": "code",
   "execution_count": 5,
   "id": "fe014f7f",
   "metadata": {
    "attributes": {
     "classes": [
      "code-cell"
     ],
     "id": ""
    }
   },
   "outputs": [
    {
     "data": {
      "text/plain": [
       "Index(['a', 'b', 'c', 'd', 'e'], dtype='object')"
      ]
     },
     "execution_count": 5,
     "metadata": {},
     "output_type": "execute_result"
    }
   ],
   "source": [
    "s.index"
   ]
  },
  {
   "cell_type": "code",
   "execution_count": 6,
   "id": "3e2d7b7d",
   "metadata": {
    "attributes": {
     "classes": [
      "code-cell"
     ],
     "id": ""
    }
   },
   "outputs": [
    {
     "data": {
      "text/plain": [
       "0   -0.612519\n",
       "1   -0.398721\n",
       "2   -0.100217\n",
       "3   -0.229897\n",
       "4   -0.128139\n",
       "dtype: float64"
      ]
     },
     "execution_count": 6,
     "metadata": {},
     "output_type": "execute_result"
    }
   ],
   "source": [
    "pd.Series(np.random.randn(5))"
   ]
  },
  {
   "cell_type": "markdown",
   "id": "0ee8e396",
   "metadata": {},
   "source": [
    ":::{note}\n",
    "Pandas supports non-unique index values. If an operation that does not support duplicate index values is attempted, an exception will be raised at that time.\n",
    ":::\n",
    "\n",
    "\n",
    "##### From dict\n",
    "`Series` can be instantiated from dicts:"
   ]
  },
  {
   "cell_type": "code",
   "execution_count": 7,
   "id": "504fbda5",
   "metadata": {
    "attributes": {
     "classes": [
      "code-cell"
     ],
     "id": ""
    }
   },
   "outputs": [],
   "source": [
    "d = {\"b\": 1, \"a\": 0, \"c\": 2}"
   ]
  },
  {
   "cell_type": "code",
   "execution_count": 8,
   "id": "055bcece",
   "metadata": {
    "attributes": {
     "classes": [
      "code-cell"
     ],
     "id": ""
    }
   },
   "outputs": [
    {
     "data": {
      "text/plain": [
       "b    1\n",
       "a    0\n",
       "c    2\n",
       "dtype: int64"
      ]
     },
     "execution_count": 8,
     "metadata": {},
     "output_type": "execute_result"
    }
   ],
   "source": [
    "pd.Series(d)"
   ]
  },
  {
   "cell_type": "markdown",
   "id": "a635fd37",
   "metadata": {},
   "source": [
    "If an index is passed, the values in data corresponding to the labels in the index will be pulled out."
   ]
  },
  {
   "cell_type": "code",
   "execution_count": 9,
   "id": "ec24f6cd",
   "metadata": {
    "attributes": {
     "classes": [
      "code-cell"
     ],
     "id": ""
    }
   },
   "outputs": [],
   "source": [
    "d = {\"a\": 0.0, \"b\": 1.0, \"c\": 2.0}"
   ]
  },
  {
   "cell_type": "code",
   "execution_count": 10,
   "id": "90462223",
   "metadata": {
    "attributes": {
     "classes": [
      "code-cell"
     ],
     "id": ""
    }
   },
   "outputs": [
    {
     "data": {
      "text/plain": [
       "a    0.0\n",
       "b    1.0\n",
       "c    2.0\n",
       "dtype: float64"
      ]
     },
     "execution_count": 10,
     "metadata": {},
     "output_type": "execute_result"
    }
   ],
   "source": [
    "pd.Series(d)"
   ]
  },
  {
   "cell_type": "code",
   "execution_count": 11,
   "id": "10e5aef4",
   "metadata": {
    "attributes": {
     "classes": [
      "code-cell"
     ],
     "id": ""
    }
   },
   "outputs": [
    {
     "data": {
      "text/plain": [
       "b    1.0\n",
       "c    2.0\n",
       "d    NaN\n",
       "a    0.0\n",
       "dtype: float64"
      ]
     },
     "execution_count": 11,
     "metadata": {},
     "output_type": "execute_result"
    }
   ],
   "source": [
    "pd.Series(d, index=[\"b\", \"c\", \"d\", \"a\"])"
   ]
  },
  {
   "cell_type": "markdown",
   "id": "98edd52d",
   "metadata": {},
   "source": [
    ":::{note}\n",
    "NaN (not a number) is the standard missing data marker used in Pandas.\n",
    ":::\n",
    "\n",
    "\n",
    "##### From scalar value\n",
    "\n",
    "If `data` is a scalar value, an index must be provided. The value will be repeated to match the length of **index**."
   ]
  },
  {
   "cell_type": "code",
   "execution_count": 12,
   "id": "bbf1321f",
   "metadata": {
    "attributes": {
     "classes": [
      "code-cell"
     ],
     "id": ""
    }
   },
   "outputs": [
    {
     "data": {
      "text/plain": [
       "a    5.0\n",
       "b    5.0\n",
       "c    5.0\n",
       "d    5.0\n",
       "e    5.0\n",
       "dtype: float64"
      ]
     },
     "execution_count": 12,
     "metadata": {},
     "output_type": "execute_result"
    }
   ],
   "source": [
    "pd.Series(5.0, index=[\"a\", \"b\", \"c\", \"d\", \"e\"])"
   ]
  },
  {
   "cell_type": "markdown",
   "id": "c424c9ba",
   "metadata": {},
   "source": [
    "#### Series is ndarray-like\n",
    "\n",
    "`Series` acts very similarly to a `ndarray` and is a valid argument to most NumPy functions. However, operations such as slicing will also slice the index."
   ]
  },
  {
   "cell_type": "code",
   "execution_count": 13,
   "id": "fdcbcc2c",
   "metadata": {
    "attributes": {
     "classes": [
      "code-cell"
     ],
     "id": ""
    }
   },
   "outputs": [
    {
     "name": "stderr",
     "output_type": "stream",
     "text": [
      "C:\\Users\\devin\\AppData\\Local\\Temp\\ipykernel_1748\\243613605.py:1: FutureWarning: Series.__getitem__ treating keys as positions is deprecated. In a future version, integer keys will always be treated as labels (consistent with DataFrame behavior). To access a value by position, use `ser.iloc[pos]`\n",
      "  s[0]\n"
     ]
    },
    {
     "data": {
      "text/plain": [
       "-0.0916117431600372"
      ]
     },
     "execution_count": 13,
     "metadata": {},
     "output_type": "execute_result"
    }
   ],
   "source": [
    "s[0]"
   ]
  },
  {
   "cell_type": "code",
   "execution_count": 14,
   "id": "fe5700b3",
   "metadata": {
    "attributes": {
     "classes": [
      "code-cell"
     ],
     "id": ""
    }
   },
   "outputs": [
    {
     "data": {
      "text/plain": [
       "a   -0.091612\n",
       "b   -0.196024\n",
       "c   -0.142447\n",
       "dtype: float64"
      ]
     },
     "execution_count": 14,
     "metadata": {},
     "output_type": "execute_result"
    }
   ],
   "source": [
    "s[:3]"
   ]
  },
  {
   "cell_type": "code",
   "execution_count": 15,
   "id": "9407f014",
   "metadata": {
    "attributes": {
     "classes": [
      "code-cell"
     ],
     "id": ""
    }
   },
   "outputs": [
    {
     "data": {
      "text/plain": [
       "d    0.308081\n",
       "e    0.128599\n",
       "dtype: float64"
      ]
     },
     "execution_count": 15,
     "metadata": {},
     "output_type": "execute_result"
    }
   ],
   "source": [
    "s[s > s.median()]"
   ]
  },
  {
   "cell_type": "code",
   "execution_count": 16,
   "id": "0ff94dd9",
   "metadata": {
    "attributes": {
     "classes": [
      "code-cell"
     ],
     "id": ""
    }
   },
   "outputs": [
    {
     "name": "stderr",
     "output_type": "stream",
     "text": [
      "C:\\Users\\devin\\AppData\\Local\\Temp\\ipykernel_1748\\3696278557.py:1: FutureWarning: Series.__getitem__ treating keys as positions is deprecated. In a future version, integer keys will always be treated as labels (consistent with DataFrame behavior). To access a value by position, use `ser.iloc[pos]`\n",
      "  s[[4, 3, 1]]\n"
     ]
    },
    {
     "data": {
      "text/plain": [
       "e    0.128599\n",
       "d    0.308081\n",
       "b   -0.196024\n",
       "dtype: float64"
      ]
     },
     "execution_count": 16,
     "metadata": {},
     "output_type": "execute_result"
    }
   ],
   "source": [
    "s[[4, 3, 1]]"
   ]
  },
  {
   "cell_type": "code",
   "execution_count": 17,
   "id": "4a3c24af",
   "metadata": {
    "attributes": {
     "classes": [
      "code-cell"
     ],
     "id": ""
    }
   },
   "outputs": [
    {
     "data": {
      "text/plain": [
       "a    0.912459\n",
       "b    0.821992\n",
       "c    0.867233\n",
       "d    1.360812\n",
       "e    1.137234\n",
       "dtype: float64"
      ]
     },
     "execution_count": 17,
     "metadata": {},
     "output_type": "execute_result"
    }
   ],
   "source": [
    "np.exp(s)"
   ]
  },
  {
   "cell_type": "markdown",
   "id": "20a2d3a5",
   "metadata": {},
   "source": [
    "Like a NumPy array, a Pandas Series has a single `dtype`."
   ]
  },
  {
   "cell_type": "code",
   "execution_count": 18,
   "id": "b95683e0",
   "metadata": {
    "attributes": {
     "classes": [
      "code-cell"
     ],
     "id": ""
    }
   },
   "outputs": [
    {
     "data": {
      "text/plain": [
       "dtype('float64')"
      ]
     },
     "execution_count": 18,
     "metadata": {},
     "output_type": "execute_result"
    }
   ],
   "source": [
    "s.dtype"
   ]
  },
  {
   "cell_type": "markdown",
   "id": "d811be48",
   "metadata": {},
   "source": [
    "If you need the actual array backing a `Series`, use `Series.array`."
   ]
  },
  {
   "cell_type": "code",
   "execution_count": 19,
   "id": "d2c057ec",
   "metadata": {
    "attributes": {
     "classes": [
      "code-cell"
     ],
     "id": ""
    }
   },
   "outputs": [
    {
     "data": {
      "text/plain": [
       "<NumpyExtensionArray>\n",
       "[ -0.0916117431600372, -0.19602413817425074,  -0.1424474789883748,\n",
       "  0.30808136702591515,  0.12859890347055977]\n",
       "Length: 5, dtype: float64"
      ]
     },
     "execution_count": 19,
     "metadata": {},
     "output_type": "execute_result"
    }
   ],
   "source": [
    "s.array"
   ]
  },
  {
   "cell_type": "markdown",
   "id": "3ad6a87e",
   "metadata": {},
   "source": [
    "While `Series` is ndarray-like, if you need an actual ndarray, then use `Series.to_numpy()`."
   ]
  },
  {
   "cell_type": "code",
   "execution_count": 20,
   "id": "7c009339",
   "metadata": {
    "attributes": {
     "classes": [
      "code-cell"
     ],
     "id": ""
    }
   },
   "outputs": [
    {
     "data": {
      "text/plain": [
       "array([-0.09161174, -0.19602414, -0.14244748,  0.30808137,  0.1285989 ])"
      ]
     },
     "execution_count": 20,
     "metadata": {},
     "output_type": "execute_result"
    }
   ],
   "source": [
    "s.to_numpy()"
   ]
  },
  {
   "cell_type": "markdown",
   "id": "5ddc455e",
   "metadata": {},
   "source": [
    "Even if the `Series` is backed by an `ExtensionArray`, `Series.to_numpy()` will return a NumPy ndarray.\n",
    "\n",
    "#### Series is dict-like\n",
    "\n",
    "A `Series` is also like a fixed-size dict in that you can get and set values by index label:"
   ]
  },
  {
   "cell_type": "code",
   "execution_count": 21,
   "id": "82ea7ad5",
   "metadata": {
    "attributes": {
     "classes": [
      "code-cell"
     ],
     "id": ""
    }
   },
   "outputs": [
    {
     "data": {
      "text/plain": [
       "-0.0916117431600372"
      ]
     },
     "execution_count": 21,
     "metadata": {},
     "output_type": "execute_result"
    }
   ],
   "source": [
    "s[\"a\"]"
   ]
  },
  {
   "cell_type": "code",
   "execution_count": 22,
   "id": "a18f0b0b",
   "metadata": {
    "attributes": {
     "classes": [
      "code-cell"
     ],
     "id": ""
    }
   },
   "outputs": [],
   "source": [
    "s[\"e\"] = 12.0"
   ]
  },
  {
   "cell_type": "code",
   "execution_count": 23,
   "id": "8e0c2e17",
   "metadata": {
    "attributes": {
     "classes": [
      "code-cell"
     ],
     "id": ""
    }
   },
   "outputs": [
    {
     "data": {
      "text/plain": [
       "a    -0.091612\n",
       "b    -0.196024\n",
       "c    -0.142447\n",
       "d     0.308081\n",
       "e    12.000000\n",
       "dtype: float64"
      ]
     },
     "execution_count": 23,
     "metadata": {},
     "output_type": "execute_result"
    }
   ],
   "source": [
    "s"
   ]
  },
  {
   "cell_type": "code",
   "execution_count": 24,
   "id": "053ef4fa",
   "metadata": {
    "attributes": {
     "classes": [
      "code-cell"
     ],
     "id": ""
    }
   },
   "outputs": [
    {
     "data": {
      "text/plain": [
       "True"
      ]
     },
     "execution_count": 24,
     "metadata": {},
     "output_type": "execute_result"
    }
   ],
   "source": [
    "\"e\" in s"
   ]
  },
  {
   "cell_type": "code",
   "execution_count": 25,
   "id": "b7a08610",
   "metadata": {
    "attributes": {
     "classes": [
      "code-cell"
     ],
     "id": ""
    }
   },
   "outputs": [
    {
     "data": {
      "text/plain": [
       "False"
      ]
     },
     "execution_count": 25,
     "metadata": {},
     "output_type": "execute_result"
    }
   ],
   "source": [
    "\"f\" in s"
   ]
  },
  {
   "cell_type": "markdown",
   "id": "f672855e",
   "metadata": {},
   "source": [
    "If a label is not contained in the index, an exception is raised:"
   ]
  },
  {
   "cell_type": "raw",
   "id": "506a5c8d-7c8b-4fb5-9b8f-1ab275e57f8e",
   "metadata": {
    "attributes": {
     "classes": [
      "code-cell"
     ],
     "id": ""
    }
   },
   "source": [
    ":tags: [\"raises-exception\"]\n",
    "s[\"f\"]"
   ]
  },
  {
   "cell_type": "markdown",
   "id": "93e1b0a2",
   "metadata": {},
   "source": [
    "Using the `Series.get()` method, a missing label will return None or specified default:"
   ]
  },
  {
   "cell_type": "code",
   "execution_count": null,
   "id": "16d520d6",
   "metadata": {
    "attributes": {
     "classes": [
      "code-cell"
     ],
     "id": ""
    }
   },
   "outputs": [],
   "source": [
    "s.get(\"f\")"
   ]
  },
  {
   "cell_type": "code",
   "execution_count": null,
   "id": "e731cce1",
   "metadata": {
    "attributes": {
     "classes": [
      "code-cell"
     ],
     "id": ""
    }
   },
   "outputs": [],
   "source": [
    "s.get(\"f\", np.nan)"
   ]
  },
  {
   "cell_type": "markdown",
   "id": "35035711",
   "metadata": {},
   "source": [
    "These labels can also be accessed by `attribute`.\n",
    "\n",
    "#### Vectorized operations and label alignment with Series\n",
    "\n",
    "When working with raw NumPy arrays, looping through value-by-value is usually not necessary. The same is true when working with `Series` in Pandas. `Series` can also be passed into most NumPy methods expecting an ndarray."
   ]
  },
  {
   "cell_type": "code",
   "execution_count": null,
   "id": "b6f296f5",
   "metadata": {
    "attributes": {
     "classes": [
      "code-cell"
     ],
     "id": ""
    }
   },
   "outputs": [],
   "source": [
    "s + s"
   ]
  },
  {
   "cell_type": "code",
   "execution_count": null,
   "id": "ef46ba75",
   "metadata": {
    "attributes": {
     "classes": [
      "code-cell"
     ],
     "id": ""
    }
   },
   "outputs": [],
   "source": [
    "s * 2"
   ]
  },
  {
   "cell_type": "code",
   "execution_count": null,
   "id": "51444440",
   "metadata": {
    "attributes": {
     "classes": [
      "code-cell"
     ],
     "id": ""
    }
   },
   "outputs": [],
   "source": [
    "np.exp(s)"
   ]
  },
  {
   "cell_type": "markdown",
   "id": "5eb541c3",
   "metadata": {},
   "source": [
    "A key difference between `Series` and ndarray is that operations between `Series` automatically align the data based on the label. Thus, you can write computations without giving consideration to whether the `Series` involved have the same labels."
   ]
  },
  {
   "cell_type": "code",
   "execution_count": null,
   "id": "23336478",
   "metadata": {
    "attributes": {
     "classes": [
      "code-cell"
     ],
     "id": ""
    }
   },
   "outputs": [],
   "source": [
    "s[1:] + s[:-1]"
   ]
  },
  {
   "cell_type": "markdown",
   "id": "476698b2",
   "metadata": {},
   "source": [
    "The result of an operation between unaligned `Series` will have the **union** of the indexes involved. If a label is not found in one `Series` or the other, the result will be marked as missing `NaN`. Being able to write code without doing any explicit data alignment grants immense freedom and flexibility in interactive data analysis and research. The integrated data alignment features of the Pandas data structures set Pandas apart from the majority of related tools for working with labeled data.\n",
    "\n",
    ":::{note}\n",
    "In general, we chose to make the default result of operations between differently indexed objects yield the **union** of the indexes in order to avoid loss of information. Having an index label, though the data is missing, is typically important information as part of a computation. You of course have the option of dropping labels with missing data via the `dropna` function.\n",
    ":::\n",
    "\n",
    "\n",
    "#### Name attribute\n",
    "\n",
    "`Series` also has a `name` attribute:"
   ]
  },
  {
   "cell_type": "code",
   "execution_count": null,
   "id": "02c45fec",
   "metadata": {
    "attributes": {
     "classes": [
      "code-cell"
     ],
     "id": ""
    }
   },
   "outputs": [],
   "source": [
    "s = pd.Series(np.random.randn(5), name=\"something\")"
   ]
  },
  {
   "cell_type": "code",
   "execution_count": null,
   "id": "4cc35f7d",
   "metadata": {
    "attributes": {
     "classes": [
      "code-cell"
     ],
     "id": ""
    }
   },
   "outputs": [],
   "source": [
    "s"
   ]
  },
  {
   "cell_type": "code",
   "execution_count": null,
   "id": "f8c2d965",
   "metadata": {
    "attributes": {
     "classes": [
      "code-cell"
     ],
     "id": ""
    }
   },
   "outputs": [],
   "source": [
    "s.name"
   ]
  },
  {
   "cell_type": "markdown",
   "id": "1c3166b2",
   "metadata": {},
   "source": [
    "The `Series` `name` can be assigned automatically in many cases, in particular, when selecting a single column from a `DataFrame`, the `name` will be assigned the column label.\n",
    "\n",
    "You can rename a `Series` with the `pandas.Series.rename()` method."
   ]
  },
  {
   "cell_type": "code",
   "execution_count": null,
   "id": "d598f1d3",
   "metadata": {
    "attributes": {
     "classes": [
      "code-cell"
     ],
     "id": ""
    }
   },
   "outputs": [],
   "source": [
    "s2 = s.rename(\"different\")"
   ]
  },
  {
   "cell_type": "code",
   "execution_count": null,
   "id": "0b9f5439",
   "metadata": {
    "attributes": {
     "classes": [
      "code-cell"
     ],
     "id": ""
    }
   },
   "outputs": [],
   "source": [
    "s2.name"
   ]
  },
  {
   "cell_type": "markdown",
   "id": "81c16837",
   "metadata": {},
   "source": [
    "Note that `s` and `s2` refer to different objects.\n",
    "\n",
    "### DataFrame\n",
    "\n",
    "`DataFrame` is a 2-dimensional labeled data structure with columns of potentially different types. You can think of it like a spreadsheet or SQL table, or a `dict` of `Series` objects. It is generally the most commonly used Pandas object. Like `Series`, `DataFrame` accepts many different kinds of input:\n",
    "\n",
    "- Dict of 1D ndarrays, lists, dicts, or `Series`\n",
    "- 2-D `numpy.ndarray`\n",
    "- Structured or record ndarray\n",
    "- A `Series`\n",
    "- Another `DataFrame`\n",
    "\n",
    "Along with the data, you can optionally pass **index** (row labels) and **columns** (column labels) arguments. If you pass an index and / or columns, you are guaranteeing the index and / or columns of the resulting `DataFrame`. Thus, a `dict` of Series plus a specific index will discard all data not matching up to the passed index.\n",
    "\n",
    "If axis labels are not passed, they will be constructed from the input data based on common sense rules.\n",
    "\n",
    "#### Create a Dataframe\n",
    "\n",
    "##### From dict of `Series` or dicts\n",
    "\n",
    "The resulting **index** will be the **union** of the indexes of the various Series. If there are any nested dicts, these will first be converted to Series. If no columns are passed, the columns will be the ordered list of `dict` keys."
   ]
  },
  {
   "cell_type": "code",
   "execution_count": null,
   "id": "ceeac424",
   "metadata": {
    "attributes": {
     "classes": [
      "code-cell"
     ],
     "id": ""
    },
    "editable": true,
    "slideshow": {
     "slide_type": ""
    },
    "tags": [
     "output-scroll"
    ]
   },
   "outputs": [],
   "source": [
    "d = {\n",
    "    \"one\": pd.Series([1.0, 2.0, 3.0], index=[\"a\", \"b\", \"c\"]),\n",
    "    \"two\": pd.Series([1.0, 2.0, 3.0, 4.0], index=[\"a\", \"b\", \"c\", \"d\"]),\n",
    "}"
   ]
  },
  {
   "cell_type": "code",
   "execution_count": null,
   "id": "5f60fc31",
   "metadata": {
    "attributes": {
     "classes": [
      "code-cell"
     ],
     "id": ""
    }
   },
   "outputs": [],
   "source": [
    "df = pd.DataFrame(d)"
   ]
  },
  {
   "cell_type": "code",
   "execution_count": null,
   "id": "919519c0",
   "metadata": {
    "attributes": {
     "classes": [
      "code-cell"
     ],
     "id": ""
    }
   },
   "outputs": [],
   "source": [
    "df"
   ]
  },
  {
   "cell_type": "code",
   "execution_count": null,
   "id": "146c7c30",
   "metadata": {
    "attributes": {
     "classes": [
      "code-cell"
     ],
     "id": ""
    }
   },
   "outputs": [],
   "source": [
    "pd.DataFrame(d, index=[\"d\", \"b\", \"a\"])"
   ]
  },
  {
   "cell_type": "code",
   "execution_count": null,
   "id": "1f582156",
   "metadata": {
    "attributes": {
     "classes": [
      "code-cell"
     ],
     "id": ""
    }
   },
   "outputs": [],
   "source": [
    "pd.DataFrame(d, index=[\"d\", \"b\", \"a\"], columns=[\"two\", \"three\"])"
   ]
  },
  {
   "cell_type": "markdown",
   "id": "0f4f1703",
   "metadata": {},
   "source": [
    "The row and column labels can be accessed respectively by accessing the **index** and **columns** attributes:\n",
    "\n",
    ":::{note}\n",
    "When a particular set of columns is passed along with a dict of data, the passed columns override the keys in the dict.\n",
    ":::"
   ]
  },
  {
   "cell_type": "code",
   "execution_count": null,
   "id": "06d3a843",
   "metadata": {
    "attributes": {
     "classes": [
      "code-cell"
     ],
     "id": ""
    }
   },
   "outputs": [],
   "source": [
    "df.index"
   ]
  },
  {
   "cell_type": "code",
   "execution_count": null,
   "id": "7f49a375",
   "metadata": {
    "attributes": {
     "classes": [
      "code-cell"
     ],
     "id": ""
    }
   },
   "outputs": [],
   "source": [
    "df.columns"
   ]
  },
  {
   "cell_type": "markdown",
   "id": "9145fdde",
   "metadata": {},
   "source": [
    "##### From dict of ndarrays / lists\n",
    "\n",
    "The ndarrays must all be the same length. If an index is passed, it must also be the same length as the arrays. If no index is passed, the result will be `range(n)`, where `n` is the array length."
   ]
  },
  {
   "cell_type": "code",
   "execution_count": null,
   "id": "57111a03",
   "metadata": {
    "attributes": {
     "classes": [
      "code-cell"
     ],
     "id": ""
    }
   },
   "outputs": [],
   "source": [
    "d = {\"one\": [1.0, 2.0, 3.0, 4.0], \"two\": [4.0, 3.0, 2.0, 1.0]}"
   ]
  },
  {
   "cell_type": "code",
   "execution_count": null,
   "id": "b55cf349",
   "metadata": {
    "attributes": {
     "classes": [
      "code-cell"
     ],
     "id": ""
    }
   },
   "outputs": [],
   "source": [
    "pd.DataFrame(d)"
   ]
  },
  {
   "cell_type": "code",
   "execution_count": null,
   "id": "0b898ee6",
   "metadata": {
    "attributes": {
     "classes": [
      "code-cell"
     ],
     "id": ""
    }
   },
   "outputs": [],
   "source": [
    "pd.DataFrame(d, index=[\"a\", \"b\", \"c\", \"d\"])"
   ]
  },
  {
   "cell_type": "markdown",
   "id": "907c1bcc",
   "metadata": {},
   "source": [
    "##### From structured or record array\n",
    "\n",
    "This case is handled identically to a dict of arrays."
   ]
  },
  {
   "cell_type": "code",
   "execution_count": null,
   "id": "ea3f224e",
   "metadata": {
    "attributes": {
     "classes": [
      "code-cell"
     ],
     "id": ""
    }
   },
   "outputs": [],
   "source": [
    "data = np.zeros((2,), dtype=[(\"A\", \"i4\"), (\"B\", \"f4\"), (\"C\", \"a10\")])"
   ]
  },
  {
   "cell_type": "code",
   "execution_count": null,
   "id": "0d1e3719",
   "metadata": {
    "attributes": {
     "classes": [
      "code-cell"
     ],
     "id": ""
    }
   },
   "outputs": [],
   "source": [
    "data[:] = [(1, 2.0, \"Hello\"), (2, 3.0, \"World\")]"
   ]
  },
  {
   "cell_type": "code",
   "execution_count": null,
   "id": "9b6a0cf4",
   "metadata": {
    "attributes": {
     "classes": [
      "code-cell"
     ],
     "id": ""
    }
   },
   "outputs": [],
   "source": [
    "pd.DataFrame(data)"
   ]
  },
  {
   "cell_type": "code",
   "execution_count": null,
   "id": "8e5502b0",
   "metadata": {
    "attributes": {
     "classes": [
      "code-cell"
     ],
     "id": ""
    }
   },
   "outputs": [],
   "source": [
    "pd.DataFrame(data, index=[\"first\", \"second\"])"
   ]
  },
  {
   "cell_type": "code",
   "execution_count": null,
   "id": "98e87066",
   "metadata": {
    "attributes": {
     "classes": [
      "code-cell"
     ],
     "id": ""
    }
   },
   "outputs": [],
   "source": [
    "pd.DataFrame(data, columns=[\"C\", \"A\", \"B\"])"
   ]
  },
  {
   "cell_type": "markdown",
   "id": "aeef1217",
   "metadata": {},
   "source": [
    ":::{note}\n",
    "DataFrame is not intended to work exactly like a 2-dimensional NumPy ndarray.\n",
    ":::\n",
    "\n",
    "\n",
    "\n",
    "##### From a list of dicts"
   ]
  },
  {
   "cell_type": "code",
   "execution_count": null,
   "id": "c817a187",
   "metadata": {
    "attributes": {
     "classes": [
      "code-cell"
     ],
     "id": ""
    }
   },
   "outputs": [],
   "source": [
    "data2 = [{\"a\": 1, \"b\": 2}, {\"a\": 5, \"b\": 10, \"c\": 20}]"
   ]
  },
  {
   "cell_type": "code",
   "execution_count": null,
   "id": "5d9e24c2",
   "metadata": {
    "attributes": {
     "classes": [
      "code-cell"
     ],
     "id": ""
    }
   },
   "outputs": [],
   "source": [
    "pd.DataFrame(data2)"
   ]
  },
  {
   "cell_type": "code",
   "execution_count": null,
   "id": "1b71cc1c",
   "metadata": {
    "attributes": {
     "classes": [
      "code-cell"
     ],
     "id": ""
    }
   },
   "outputs": [],
   "source": [
    "pd.DataFrame(data2, index=[\"first\", \"second\"])"
   ]
  },
  {
   "cell_type": "code",
   "execution_count": null,
   "id": "0bae63fc",
   "metadata": {
    "attributes": {
     "classes": [
      "code-cell"
     ],
     "id": ""
    }
   },
   "outputs": [],
   "source": [
    "pd.DataFrame(data2, columns=[\"a\", \"b\"])"
   ]
  },
  {
   "cell_type": "markdown",
   "id": "d3064bf3",
   "metadata": {},
   "source": [
    "##### From a dict of tuples\n",
    "\n",
    "You can automatically create a MultiIndexed frame by passing a tuples dictionary."
   ]
  },
  {
   "cell_type": "code",
   "execution_count": null,
   "id": "8b4249dc",
   "metadata": {
    "attributes": {
     "classes": [
      "code-cell"
     ],
     "id": ""
    },
    "editable": true,
    "slideshow": {
     "slide_type": ""
    },
    "tags": [
     "output-scroll"
    ]
   },
   "outputs": [],
   "source": [
    "pd.DataFrame(\n",
    "    {\n",
    "        (\"a\", \"b\"): {(\"A\", \"B\"): 1, (\"A\", \"C\"): 2},\n",
    "        (\"a\", \"a\"): {(\"A\", \"C\"): 3, (\"A\", \"B\"): 4},\n",
    "        (\"a\", \"c\"): {(\"A\", \"B\"): 5, (\"A\", \"C\"): 6},\n",
    "        (\"b\", \"a\"): {(\"A\", \"C\"): 7, (\"A\", \"B\"): 8},\n",
    "        (\"b\", \"b\"): {(\"A\", \"D\"): 9, (\"A\", \"B\"): 10},\n",
    "    }\n",
    ")"
   ]
  },
  {
   "cell_type": "markdown",
   "id": "c9600188",
   "metadata": {},
   "source": [
    "##### From a Series\n",
    "\n",
    "The result will be a DataFrame with the same index as the input Series, and with one column whose name is the original name of the Series (only if no other column name provided)."
   ]
  },
  {
   "cell_type": "code",
   "execution_count": null,
   "id": "d139e576",
   "metadata": {
    "attributes": {
     "classes": [
      "code-cell"
     ],
     "id": ""
    }
   },
   "outputs": [],
   "source": [
    "ser = pd.Series(range(3), index=list(\"abc\"), name=\"ser\")"
   ]
  },
  {
   "cell_type": "code",
   "execution_count": null,
   "id": "8c9e5d2a",
   "metadata": {
    "attributes": {
     "classes": [
      "code-cell"
     ],
     "id": ""
    }
   },
   "outputs": [],
   "source": [
    "pd.DataFrame(ser)"
   ]
  },
  {
   "cell_type": "markdown",
   "id": "aa02df7a",
   "metadata": {},
   "source": [
    "##### From a list of namedtuples\n",
    "\n",
    "The field names of the first `namedtuple` in the list determine the columns of the `DataFrame`. The remaining namedtuples (or tuples) are simply unpacked and their values are fed into the rows of the `DataFrame`. If any of those tuples is shorter than the first `namedtuple` then the later columns in the corresponding row are marked as missing values. If any are longer than the first `namedtuple` , a `ValueError` is raised."
   ]
  },
  {
   "cell_type": "code",
   "execution_count": null,
   "id": "dd7fb989",
   "metadata": {
    "attributes": {
     "classes": [
      "code-cell"
     ],
     "id": ""
    }
   },
   "outputs": [],
   "source": [
    "from collections import namedtuple"
   ]
  },
  {
   "cell_type": "code",
   "execution_count": null,
   "id": "7125c070",
   "metadata": {
    "attributes": {
     "classes": [
      "code-cell"
     ],
     "id": ""
    }
   },
   "outputs": [],
   "source": [
    "Point = namedtuple(\"Point\", \"x y\")"
   ]
  },
  {
   "cell_type": "code",
   "execution_count": null,
   "id": "19a14c7c",
   "metadata": {
    "attributes": {
     "classes": [
      "code-cell"
     ],
     "id": ""
    }
   },
   "outputs": [],
   "source": [
    "pd.DataFrame([Point(0, 0), Point(0, 3), (2, 3)])"
   ]
  },
  {
   "cell_type": "code",
   "execution_count": null,
   "id": "5cb1553c",
   "metadata": {
    "attributes": {
     "classes": [
      "code-cell"
     ],
     "id": ""
    }
   },
   "outputs": [],
   "source": [
    "Point3D = namedtuple(\"Point3D\", \"x y z\")"
   ]
  },
  {
   "cell_type": "code",
   "execution_count": null,
   "id": "9dbc1c98",
   "metadata": {
    "attributes": {
     "classes": [
      "code-cell"
     ],
     "id": ""
    }
   },
   "outputs": [],
   "source": [
    "pd.DataFrame([Point3D(0, 0, 0), Point3D(0, 3, 5), Point(2, 3)])"
   ]
  },
  {
   "cell_type": "markdown",
   "id": "1638ee1a",
   "metadata": {},
   "source": [
    "##### From a list of dataclasses\n",
    "\n",
    "Data Classes as introduced in PEP557, can be passed into the DataFrame constructor. Passing a list of dataclasses is equivalent to passing a list of dictionaries.\n",
    "\n",
    "Please be aware, that all values in the list should be dataclasses, mixing types in the list would result in a `TypeError`."
   ]
  },
  {
   "cell_type": "code",
   "execution_count": null,
   "id": "cf55487d",
   "metadata": {
    "attributes": {
     "classes": [
      "code-cell"
     ],
     "id": ""
    }
   },
   "outputs": [],
   "source": [
    "from dataclasses import make_dataclass"
   ]
  },
  {
   "cell_type": "code",
   "execution_count": null,
   "id": "626d9f8e",
   "metadata": {
    "attributes": {
     "classes": [
      "code-cell"
     ],
     "id": ""
    }
   },
   "outputs": [],
   "source": [
    "Point = make_dataclass(\"Point\", [(\"x\", int), (\"y\", int)])"
   ]
  },
  {
   "cell_type": "code",
   "execution_count": null,
   "id": "51b7fa35",
   "metadata": {
    "attributes": {
     "classes": [
      "code-cell"
     ],
     "id": ""
    }
   },
   "outputs": [],
   "source": [
    "pd.DataFrame([Point(0, 0), Point(0, 3), Point(2, 3)])"
   ]
  },
  {
   "cell_type": "markdown",
   "id": "0b56e815",
   "metadata": {},
   "source": [
    "#### Column selection, addition, deletion\n",
    "\n",
    "You can treat a `DataFrame` semantically like a dict of like-indexed `Series` objects. Getting, setting, and deleting columns works with the same syntax as the analogous dict operations:"
   ]
  },
  {
   "cell_type": "code",
   "execution_count": null,
   "id": "c6acca4f",
   "metadata": {
    "attributes": {
     "classes": [
      "code-cell"
     ],
     "id": ""
    }
   },
   "outputs": [],
   "source": [
    "df"
   ]
  },
  {
   "cell_type": "code",
   "execution_count": null,
   "id": "bd70fcb7",
   "metadata": {
    "attributes": {
     "classes": [
      "code-cell"
     ],
     "id": ""
    }
   },
   "outputs": [],
   "source": [
    "df[\"one\"]"
   ]
  },
  {
   "cell_type": "code",
   "execution_count": null,
   "id": "67a9b259",
   "metadata": {
    "attributes": {
     "classes": [
      "code-cell"
     ],
     "id": ""
    }
   },
   "outputs": [],
   "source": [
    "df[\"three\"] = df[\"one\"] * df[\"two\"]"
   ]
  },
  {
   "cell_type": "code",
   "execution_count": null,
   "id": "71fd4876",
   "metadata": {
    "attributes": {
     "classes": [
      "code-cell"
     ],
     "id": ""
    }
   },
   "outputs": [],
   "source": [
    "df[\"flag\"] = df[\"one\"] > 2"
   ]
  },
  {
   "cell_type": "code",
   "execution_count": null,
   "id": "64921d67",
   "metadata": {
    "attributes": {
     "classes": [
      "code-cell"
     ],
     "id": ""
    }
   },
   "outputs": [],
   "source": [
    "df"
   ]
  },
  {
   "cell_type": "markdown",
   "id": "f683a06c",
   "metadata": {},
   "source": [
    "Columns can be deleted or popped like with a dict:"
   ]
  },
  {
   "cell_type": "code",
   "execution_count": null,
   "id": "69b48440",
   "metadata": {
    "attributes": {
     "classes": [
      "code-cell"
     ],
     "id": ""
    }
   },
   "outputs": [],
   "source": [
    "del df[\"two\"]"
   ]
  },
  {
   "cell_type": "code",
   "execution_count": null,
   "id": "5cac38af",
   "metadata": {
    "attributes": {
     "classes": [
      "code-cell"
     ],
     "id": ""
    }
   },
   "outputs": [],
   "source": [
    "three = df.pop(\"three\")"
   ]
  },
  {
   "cell_type": "code",
   "execution_count": null,
   "id": "7905af48",
   "metadata": {
    "attributes": {
     "classes": [
      "code-cell"
     ],
     "id": ""
    }
   },
   "outputs": [],
   "source": [
    "df"
   ]
  },
  {
   "cell_type": "markdown",
   "id": "9dd27f73",
   "metadata": {},
   "source": [
    "When inserting a scalar value, it will naturally be propagated to fill the column:"
   ]
  },
  {
   "cell_type": "code",
   "execution_count": null,
   "id": "74026894",
   "metadata": {
    "attributes": {
     "classes": [
      "code-cell"
     ],
     "id": ""
    }
   },
   "outputs": [],
   "source": [
    "df[\"foo\"] = \"bar\""
   ]
  },
  {
   "cell_type": "code",
   "execution_count": null,
   "id": "3df26831",
   "metadata": {
    "attributes": {
     "classes": [
      "code-cell"
     ],
     "id": ""
    }
   },
   "outputs": [],
   "source": [
    "df"
   ]
  },
  {
   "cell_type": "markdown",
   "id": "8f28f078",
   "metadata": {},
   "source": [
    "When inserting a `Series` that does not have the same index as the `DataFrame`, it will be conformed to the DataFrame’s index:"
   ]
  },
  {
   "cell_type": "code",
   "execution_count": null,
   "id": "1962a63d",
   "metadata": {
    "attributes": {
     "classes": [
      "code-cell"
     ],
     "id": ""
    }
   },
   "outputs": [],
   "source": [
    "df[\"one_trunc\"] = df[\"one\"][:2]"
   ]
  },
  {
   "cell_type": "code",
   "execution_count": null,
   "id": "0e59d861",
   "metadata": {
    "attributes": {
     "classes": [
      "code-cell"
     ],
     "id": ""
    },
    "editable": true,
    "slideshow": {
     "slide_type": ""
    },
    "tags": [
     "output-scroll",
     "hide-input"
    ]
   },
   "outputs": [],
   "source": [
    "from IPython.display import HTML\n",
    "<div class='full-width docutils' >\n",
    "  <div class=\"admonition note pandastutor\" name=\"html-admonition\" style=\"margin-right:20%\">\n",
    "    <p class=\"admonition-title pandastutor\">Let's visualize it! 🎥</p>\n",
    "    <div class=\"pandastutor inner\" style=\"height:1000px;\">\n",
    "      <iframe frameborder=\"0\" scrolling=\"no\" src=\"https://pandastutor.com/vis.html#code=import%20pandas%20as%20pd%0Aimport%20io%0Aimport%20numpy%20as%20np%0Ad%20%3D%20%7B%0A%20%20%20%20%22one%22%3A%20pd.Series%28%5B1.0,%202.0,%203.0%5D,%20index%3D%5B%22a%22,%20%22b%22,%20%22c%22%5D%29,%0A%20%20%20%20%22two%22%3A%20pd.Series%28%5B1.0,%202.0,%203.0,%204.0%5D,%20index%3D%5B%22a%22,%20%22b%22,%20%22c%22,%20%22d%22%5D%29,%0A%7D%0Adf%20%3D%20pd.DataFrame%28d%29%0Adf%5B%22flag%22%5D%20%3D%20df%5B%22one%22%5D%20%3E%202%0Adel%20df%5B%22two%22%5D%0Adf%5B%22foo%22%5D%20%3D%20%22bar%22%0Adf%5B%22one%22%5D%5B%3A2%5D&d=2023-07-13&lang=py&v=v1\"> </iframe>\n",
    "    </div>\n",
    "  </div>\n",
    "</div>\n",
    "display(HTML(\"\"\"\n",
    "\n",
    "\"\"\"))"
   ]
  },
  {
   "cell_type": "code",
   "execution_count": null,
   "id": "928a65e2",
   "metadata": {
    "attributes": {
     "classes": [
      "code-cell"
     ],
     "id": ""
    }
   },
   "outputs": [],
   "source": [
    "df"
   ]
  },
  {
   "cell_type": "markdown",
   "id": "81a730fc",
   "metadata": {},
   "source": [
    "You can insert raw ndarrays but their length must match the length of the DataFrame’s index.\n",
    "\n",
    "By default, columns get inserted at the end. `DataFrame.insert()` inserts at a particular location in the columns:"
   ]
  },
  {
   "cell_type": "code",
   "execution_count": null,
   "id": "d6de408c",
   "metadata": {
    "attributes": {
     "classes": [
      "code-cell"
     ],
     "id": ""
    }
   },
   "outputs": [],
   "source": [
    "df.insert(1, \"bar\", df[\"one\"])"
   ]
  },
  {
   "cell_type": "code",
   "execution_count": null,
   "id": "7f795ddd",
   "metadata": {
    "attributes": {
     "classes": [
      "code-cell"
     ],
     "id": ""
    }
   },
   "outputs": [],
   "source": [
    "df"
   ]
  },
  {
   "cell_type": "markdown",
   "id": "b86bdf50",
   "metadata": {},
   "source": [
    "#### Assigning new columns in method chains\n",
    "\n",
    "DataFrame has an `assign()` method that allows you to easily create new columns that are potentially derived from existing columns."
   ]
  },
  {
   "cell_type": "code",
   "execution_count": null,
   "id": "6358f31d",
   "metadata": {
    "attributes": {
     "classes": [
      "code-cell"
     ],
     "id": ""
    }
   },
   "outputs": [],
   "source": [
    "iris = pd.read_csv(\"../../assets/data/iris.csv\")"
   ]
  },
  {
   "cell_type": "code",
   "execution_count": null,
   "id": "3cd91566",
   "metadata": {
    "attributes": {
     "classes": [
      "code-cell"
     ],
     "id": ""
    }
   },
   "outputs": [],
   "source": [
    "iris.head()"
   ]
  },
  {
   "cell_type": "code",
   "execution_count": null,
   "id": "8ec97a09",
   "metadata": {
    "attributes": {
     "classes": [
      "code-cell"
     ],
     "id": ""
    }
   },
   "outputs": [],
   "source": [
    "iris.assign(sepal_ratio=iris[\"SepalWidth\"] / iris[\"SepalLength\"]).head()"
   ]
  },
  {
   "cell_type": "markdown",
   "id": "e5efba52",
   "metadata": {},
   "source": [
    "In the example above, we inserted a precomputed value. We can also pass in a function of one argument to be evaluated on the DataFrame being assigned to."
   ]
  },
  {
   "cell_type": "code",
   "execution_count": null,
   "id": "daca1df7",
   "metadata": {
    "attributes": {
     "classes": [
      "code-cell"
     ],
     "id": ""
    }
   },
   "outputs": [],
   "source": [
    "iris.assign(sepal_ratio=lambda x: (x[\"SepalWidth\"] / x[\"SepalLength\"])).head()"
   ]
  },
  {
   "cell_type": "markdown",
   "id": "ae03dcf5",
   "metadata": {},
   "source": [
    "`assign()` **always** returns a copy of the data, leaving the original DataFrame untouched.\n",
    "\n",
    "Passing a callable, as opposed to an actual value to be inserted, is useful when you don’t have a reference to the DataFrame at hand. This is common when using `assign()` in a chain of operations. For example, we can limit the DataFrame to just those observations with a Sepal Length greater than 5, calculate the ratio, and plot:"
   ]
  },
  {
   "cell_type": "code",
   "execution_count": null,
   "id": "eb8272e8",
   "metadata": {
    "attributes": {
     "classes": [
      "code-cell"
     ],
     "id": ""
    },
    "editable": true,
    "slideshow": {
     "slide_type": ""
    },
    "tags": [
     "output-scroll"
    ]
   },
   "outputs": [],
   "source": [
    "(\n",
    "    iris.query(\"SepalLength > 5\")\n",
    "    .assign(\n",
    "        SepalRatio=lambda x: x.SepalWidth / x.SepalLength,\n",
    "        PetalRatio=lambda x: x.PetalWidth / x.PetalLength,\n",
    "    )\n",
    "    .plot(kind=\"scatter\", x=\"SepalRatio\", y=\"PetalRatio\")\n",
    ")"
   ]
  },
  {
   "cell_type": "markdown",
   "id": "13bbdccd",
   "metadata": {},
   "source": [
    "Since a function is passed in, the function is computed on the DataFrame being assigned to. Importantly, this is the DataFrame that’s been filtered to those rows with sepal length greater than 5. The filtering happens first, and then the ratio calculations. This is an example where we didn’t have a reference to the filtered DataFrame available.\n",
    "\n",
    "The function signature for `assign()` is simply `**kwargs`. The keys are the column names for the new fields, and the values are either a value to be inserted (for example, a `Series` or NumPy array), or a function of one argument to be called on the `DataFrame`. A copy of the original `DataFrame` is returned, with the new values inserted.\n",
    "\n",
    "The order of `**kwargs` is preserved. This allows for dependent assignment, where an expression later in `**kwargs` can refer to a column created earlier in the same `assign()`."
   ]
  },
  {
   "cell_type": "code",
   "execution_count": null,
   "id": "f16bc7f7",
   "metadata": {
    "attributes": {
     "classes": [
      "code-cell"
     ],
     "id": ""
    }
   },
   "outputs": [],
   "source": [
    "dfa = pd.DataFrame({\"A\": [1, 2, 3], \"B\": [4, 5, 6]})"
   ]
  },
  {
   "cell_type": "code",
   "execution_count": null,
   "id": "8ccd7b32",
   "metadata": {
    "attributes": {
     "classes": [
      "code-cell"
     ],
     "id": ""
    }
   },
   "outputs": [],
   "source": [
    "dfa.assign(C=lambda x: x[\"A\"] + x[\"B\"], D=lambda x: x[\"A\"] + x[\"C\"])"
   ]
  },
  {
   "cell_type": "markdown",
   "id": "3a83ebba",
   "metadata": {},
   "source": [
    "In the second expression, `x['C']` will refer to the newly created column, that’s equal to `dfa['A'] + dfa['B']`.\n",
    "\n",
    "#### Indexing / selection\n",
    "\n",
    "The basics of indexing are as follows:\n",
    "\n",
    "|Operation                     |Syntax         |Result   |\n",
    "|:-------                      |:-----         |:-----   |\n",
    "|Select column                 |`df[col]`      |Series   |\n",
    "|Select row by label           |`df.loc[label]`|Series   |\n",
    "|Select row by integer location|`df.iloc[loc]` |Series   |\n",
    "|Slice rows                    |`df[5:10] `    |DataFrame|\n",
    "|Select rows by boolean vector |`df[bool_vec]` |DataFrame|\n",
    "\n",
    "Row selection, for example, returns a `Series` whose index is the columns of the `DataFrame`:"
   ]
  },
  {
   "cell_type": "code",
   "execution_count": null,
   "id": "0c0ae57d",
   "metadata": {},
   "outputs": [],
   "source": [
    "df.loc[\"b\"]"
   ]
  },
  {
   "cell_type": "code",
   "execution_count": null,
   "id": "645d4af9",
   "metadata": {
    "attributes": {
     "classes": [
      "code-cell"
     ],
     "id": ""
    },
    "editable": true,
    "slideshow": {
     "slide_type": ""
    },
    "tags": [
     "output-scroll",
     "hide-input"
    ]
   },
   "outputs": [],
   "source": [
    "from IPython.display import HTML\n",
    "<div class='full-width docutils' >\n",
    "  <div class=\"admonition note pandastutor\" name=\"html-admonition\" style=\"margin-right:20%\">\n",
    "    <p class=\"admonition-title pandastutor\">Let's visualize it! 🎥</p>\n",
    "    <div class=\"pandastutor inner\" style=\"height:730px;\">\n",
    "      <iframe frameborder=\"0\" scrolling=\"no\" src=\"https://pandastutor.com/vis.html#code=import%20pandas%20as%20pd%0Aimport%20io%0Aimport%20numpy%20as%20np%0Ad%20%3D%20%7B%0A%20%20%20%20%22one%22%3A%20pd.Series%28%5B1.0,%202.0,%203.0%5D,%20index%3D%5B%22a%22,%20%22b%22,%20%22c%22%5D%29,%0A%20%20%20%20%22two%22%3A%20pd.Series%28%5B1.0,%202.0,%203.0,%204.0%5D,%20index%3D%5B%22a%22,%20%22b%22,%20%22c%22,%20%22d%22%5D%29,%0A%7D%0Adf%20%3D%20pd.DataFrame%28d%29%0Adf%5B%22flag%22%5D%20%3D%20df%5B%22one%22%5D%20%3E%202%0Adel%20df%5B%22two%22%5D%0Adf%5B%22foo%22%5D%20%3D%20%22bar%22%0Adf%5B%22one_trunc%22%5D%20%3Ddf.insert%281,%20%22bar%22,%20df%5B%22one%22%5D%29%0Adf.loc%5B%22b%22%5D&d=2023-07-13&lang=py&v=v1\"> </iframe>\n",
    "    </div>\n",
    "  </div>\n",
    "</div>\n",
    "display(HTML(\"\"\"\n",
    "\n",
    "\"\"\"))"
   ]
  },
  {
   "cell_type": "code",
   "execution_count": null,
   "id": "37d8f3e8",
   "metadata": {
    "attributes": {
     "classes": [
      "code-cell"
     ],
     "id": ""
    }
   },
   "outputs": [],
   "source": [
    "df.iloc[2]"
   ]
  },
  {
   "cell_type": "markdown",
   "id": "5ca23288",
   "metadata": {},
   "source": [
    "#### Data alignment and arithmetic\n",
    "\n",
    "Data alignment between `DataFrame` objects automatically aligns on **both** the columns and the index (row labels)**. Again, the resulting object will have the union of the column and row labels."
   ]
  },
  {
   "cell_type": "code",
   "execution_count": null,
   "id": "caf9bdd7",
   "metadata": {
    "attributes": {
     "classes": [
      "code-cell"
     ],
     "id": ""
    }
   },
   "outputs": [],
   "source": [
    "df = pd.DataFrame(np.random.randn(10, 4), columns=[\"A\", \"B\", \"C\", \"D\"])"
   ]
  },
  {
   "cell_type": "code",
   "execution_count": null,
   "id": "ad17cffe",
   "metadata": {
    "attributes": {
     "classes": [
      "code-cell"
     ],
     "id": ""
    }
   },
   "outputs": [],
   "source": [
    "df2 = pd.DataFrame(np.random.randn(7, 3), columns=[\"A\", \"B\", \"C\"])"
   ]
  },
  {
   "cell_type": "code",
   "execution_count": null,
   "id": "16e926a6",
   "metadata": {
    "attributes": {
     "classes": [
      "code-cell"
     ],
     "id": ""
    }
   },
   "outputs": [],
   "source": [
    "df + df2"
   ]
  },
  {
   "cell_type": "markdown",
   "id": "5b115406",
   "metadata": {},
   "source": [
    "When doing an operation between `DataFrame` and `Series`, the default behavior is to align the `Series` **index** on the `DataFrame` **columns**, thus broadcasting row-wise. For example:"
   ]
  },
  {
   "cell_type": "code",
   "execution_count": null,
   "id": "04e39d1a",
   "metadata": {
    "attributes": {
     "classes": [
      "code-cell"
     ],
     "id": ""
    }
   },
   "outputs": [],
   "source": [
    "df - df.iloc[0]"
   ]
  },
  {
   "cell_type": "markdown",
   "id": "1ab48d65",
   "metadata": {},
   "source": [
    "Arithmetic operations with scalars operate element-wise:"
   ]
  },
  {
   "cell_type": "code",
   "execution_count": null,
   "id": "25e672c4",
   "metadata": {
    "attributes": {
     "classes": [
      "code-cell"
     ],
     "id": ""
    }
   },
   "outputs": [],
   "source": [
    "df * 5 + 2"
   ]
  },
  {
   "cell_type": "code",
   "execution_count": null,
   "id": "01ba5388",
   "metadata": {
    "attributes": {
     "classes": [
      "code-cell"
     ],
     "id": ""
    }
   },
   "outputs": [],
   "source": [
    "1 / df"
   ]
  },
  {
   "cell_type": "code",
   "execution_count": null,
   "id": "4ef6bd74",
   "metadata": {
    "attributes": {
     "classes": [
      "code-cell"
     ],
     "id": ""
    }
   },
   "outputs": [],
   "source": [
    "df ** 4"
   ]
  },
  {
   "cell_type": "markdown",
   "id": "ab022ada",
   "metadata": {},
   "source": [
    "Boolean operators operate element-wise as well:"
   ]
  },
  {
   "cell_type": "code",
   "execution_count": null,
   "id": "0b810d08",
   "metadata": {
    "attributes": {
     "classes": [
      "code-cell"
     ],
     "id": ""
    }
   },
   "outputs": [],
   "source": [
    "df1 = pd.DataFrame({\"a\": [1, 0, 1], \"b\": [0, 1, 1]}, dtype=bool)"
   ]
  },
  {
   "cell_type": "code",
   "execution_count": null,
   "id": "62070380",
   "metadata": {
    "attributes": {
     "classes": [
      "code-cell"
     ],
     "id": ""
    }
   },
   "outputs": [],
   "source": [
    "df2 = pd.DataFrame({\"a\": [0, 1, 1], \"b\": [1, 1, 0]}, dtype=bool)"
   ]
  },
  {
   "cell_type": "code",
   "execution_count": null,
   "id": "a21858cb",
   "metadata": {
    "attributes": {
     "classes": [
      "code-cell"
     ],
     "id": ""
    }
   },
   "outputs": [],
   "source": [
    "df1 & df2"
   ]
  },
  {
   "cell_type": "code",
   "execution_count": null,
   "id": "9a660148",
   "metadata": {
    "attributes": {
     "classes": [
      "code-cell"
     ],
     "id": ""
    }
   },
   "outputs": [],
   "source": [
    "df1 | df2"
   ]
  },
  {
   "cell_type": "code",
   "execution_count": null,
   "id": "7a46e4eb",
   "metadata": {
    "attributes": {
     "classes": [
      "code-cell"
     ],
     "id": ""
    }
   },
   "outputs": [],
   "source": [
    "df1 ^ df2"
   ]
  },
  {
   "cell_type": "code",
   "execution_count": null,
   "id": "d33ab577",
   "metadata": {
    "attributes": {
     "classes": [
      "code-cell"
     ],
     "id": ""
    }
   },
   "outputs": [],
   "source": [
    "-df1"
   ]
  },
  {
   "cell_type": "markdown",
   "id": "e3ec0372",
   "metadata": {},
   "source": [
    "#### Transposing\n",
    "\n",
    "To transpose, access the `T` attribute or `DataFrame.transpose()`, similar to an ndarray:"
   ]
  },
  {
   "cell_type": "code",
   "execution_count": null,
   "id": "5bc0b5ef",
   "metadata": {
    "attributes": {
     "classes": [
      "code-cell"
     ],
     "id": ""
    }
   },
   "outputs": [],
   "source": [
    "df[:5].T"
   ]
  },
  {
   "cell_type": "markdown",
   "id": "4f5a1e4f",
   "metadata": {},
   "source": [
    "## Data indexing and selection\n",
    "\n",
    "The axis labeling information in Pandas objects serves many purposes:\n",
    "\n",
    "- Identifies data (i.e. provides metadata) using known indicators, important for analysis, visualization, and interactive console display.\n",
    "- Enables automatic and explicit data alignment.\n",
    "- Allows intuitive getting and setting of subsets of the data set.\n",
    "\n",
    "In this section, we will focus on the final point: namely, how to slice, dice, and generally get and set subsets of Pandas objects. The primary focus will be on Series and DataFrame as they have received more development attention in this area.\n",
    "\n",
    ":::{note}\n",
    "The Python and NumPy indexing operators `[]` and attribute operator `.` provide quick and easy access to Pandas data structures across a wide range of use cases. This makes interactive work intuitive, as there’s little new to learn if you already know how to deal with Python dictionaries and NumPy arrays. However, since the type of the data to be accessed isn’t known in advance, directly using standard operators has some optimization limits. For production code, we recommended that you take advantage of the optimized Pandas data access methods exposed in this chapter.\n",
    ":::\n",
    "\n",
    "\n",
    ":::{note}\n",
    "Whether a copy or a reference is returned for a setting operation, may depend on the context. This is sometimes called `chained assignment` and should be avoided.\n",
    ":::\n",
    "\n",
    "\n",
    "### Different choices for indexing\n",
    "\n",
    "Object selection has had a number of user-requested additions in order to support more explicit location-based indexing. Pandas now supports three types of multi-axis indexing.\n",
    "\n",
    "- `.loc` is primarily label based, but may also be used with a boolean array. `.loc` will raise `KeyError` when the items are not found. Allowed inputs are:\n",
    "  - A single label, e.g. `5` or `'a'` (Note that `5` is interpreted as a label of the index. This use is not an integer position along the index.).\n",
    "  - A list or array of labels `['a', 'b', 'c']`.\n",
    "  - A slice object with labels `'a':'f'` (Note that contrary to usual Python slices, both the start and the stop are included, when present in the index!)\n",
    "  - A boolean array (any `NA` values will be treated as `False`).\n",
    "  - A `callable` function with one argument (the calling Series or DataFrame) and that returns valid output for indexing (one of the above).\n",
    "\n",
    "- `.iloc` is primarily integer position based (from `0` to `length-1` of the axis), but may also be used with a boolean array. `.iloc` will raise `IndexError` if a requested indexer is out-of-bounds, except slice indexers which allow out-of-bounds indexing. (this conforms with Python/NumPy slice semantics). Allowed inputs are:\n",
    "  - An integer e.g. `5`.\n",
    "  - A list or array of integers `[4, 3, 0]`.\n",
    "  - A slice object with ints `1:7`.\n",
    "  - A boolean array (any `NA` values will be treated as `False`).\n",
    "  - A `callable` function with one argument (the calling Series or DataFrame) that returns valid output for indexing (one of the above).\n",
    "- `.loc`, `.iloc`, and also `[]` indexing can accept a `callable` as indexer.\n",
    "\n",
    "Getting values from an object with multi-axes selection uses the following notation (using `.loc` as an example, but the following applies to `.iloc` as well). Any of the axes accessors may be the null slice `:`. Axes left out of the specification are assumed to be `:`, e.g. `p.loc['a']` is equivalent to `p.loc['a', :]`.\n",
    "\n",
    "|**Object Type**|**Indexers**                        |\n",
    "|:--            |:-                                  |\n",
    "|Series         |`s.loc[indexer]`                    |\n",
    "|DataFrame      |`df.loc[row_indexer, column_indexer]`|\n",
    "\n",
    "### Basics\n",
    "\n",
    "As mentioned when introducing the data structures in the last section, the primary function of indexing with `[]` (a.k.a.` __getitem__` for those familiar with implementing class behavior in Python) is selecting out lower-dimensional slices. The following table shows return type values when indexing Pandas objects with `[]`:\n",
    "\n",
    "|**Object Type**|**Selection**   |Return Value Type                |\n",
    "|:-             |:-              |:-                               |\n",
    "|Series         |`series[label]` |scalar value                     |\n",
    "|DataFrame      |`frame[colname]`|`Series` corresponding to colname|\n",
    "\n",
    "Here we construct a simple time series data set to use for illustrating the indexing functionality:"
   ]
  },
  {
   "cell_type": "code",
   "execution_count": null,
   "id": "458335a0",
   "metadata": {
    "attributes": {
     "classes": [
      "code-cell"
     ],
     "id": ""
    }
   },
   "outputs": [],
   "source": [
    "dates = pd.date_range('1/1/2000', periods=8)\n",
    "df = pd.DataFrame(np.random.randn(8, 4),\n",
    "                  index=dates, columns=['A', 'B', 'C', 'D'])\n",
    "df"
   ]
  },
  {
   "cell_type": "markdown",
   "id": "97f7b8f3",
   "metadata": {},
   "source": [
    ":::{note}\n",
    "None of the indexing functionality is time series specific unless specifically stated.\n",
    ":::\n",
    "\n",
    "\n",
    "Thus, as per above, we have the most basic indexing using `[]`:"
   ]
  },
  {
   "cell_type": "code",
   "execution_count": null,
   "id": "73842aba",
   "metadata": {
    "attributes": {
     "classes": [
      "code-cell"
     ],
     "id": ""
    }
   },
   "outputs": [],
   "source": [
    "s = df['A']\n",
    "\n",
    "s[dates[5]]"
   ]
  },
  {
   "cell_type": "markdown",
   "id": "19dd32c5",
   "metadata": {},
   "source": [
    "You can pass a list of columns to `[]` to select columns in that order. If a column is not contained in the DataFrame, an exception will be raised. Multiple columns can also be set in this manner:"
   ]
  },
  {
   "cell_type": "code",
   "execution_count": null,
   "id": "3e3eff7e",
   "metadata": {
    "attributes": {
     "classes": [
      "code-cell"
     ],
     "id": ""
    }
   },
   "outputs": [],
   "source": [
    "df"
   ]
  },
  {
   "cell_type": "code",
   "execution_count": null,
   "id": "3f229287",
   "metadata": {
    "attributes": {
     "classes": [
      "code-cell"
     ],
     "id": ""
    }
   },
   "outputs": [],
   "source": [
    "df[['B', 'A']] = df[['A', 'B']]\n",
    "df"
   ]
  },
  {
   "cell_type": "markdown",
   "id": "79c7911b",
   "metadata": {},
   "source": [
    "You may find this useful for applying a transform (in-place) to a subset of the columns.\n",
    "\n",
    ":::{note}\n",
    "Pandas aligns all AXES when setting `Series` and `DataFrame` from `.loc`, and `.iloc`.\n",
    ":::\n",
    "\n",
    "This will not modify `df` because the column alignment is before value assignment."
   ]
  },
  {
   "cell_type": "code",
   "execution_count": null,
   "id": "aa528705",
   "metadata": {
    "attributes": {
     "classes": [
      "code-cell"
     ],
     "id": ""
    }
   },
   "outputs": [],
   "source": [
    "df[['A', 'B']]"
   ]
  },
  {
   "cell_type": "code",
   "execution_count": null,
   "id": "c6120d33",
   "metadata": {
    "attributes": {
     "classes": [
      "code-cell"
     ],
     "id": ""
    }
   },
   "outputs": [],
   "source": [
    "df.loc[:, ['B', 'A']] = df[['A', 'B']]\n",
    "df[['A', 'B']]"
   ]
  },
  {
   "cell_type": "markdown",
   "id": "e001eb32",
   "metadata": {},
   "source": [
    ":::{note}\n",
    "The correct way to swap column values is by using raw values:\n",
    ":::"
   ]
  },
  {
   "cell_type": "code",
   "execution_count": null,
   "id": "ba0f232d",
   "metadata": {
    "attributes": {
     "classes": [
      "code-cell"
     ],
     "id": ""
    }
   },
   "outputs": [],
   "source": [
    "df.loc[:, ['B', 'A']] = df[['A', 'B']].to_numpy()\n",
    "df[['A', 'B']]"
   ]
  },
  {
   "cell_type": "markdown",
   "id": "2b9c1e5c",
   "metadata": {},
   "source": [
    "### Attribute access\n",
    "\n",
    "You may access an index on a `Series` or column on a `DataFrame` directly as an attribute:"
   ]
  },
  {
   "cell_type": "code",
   "execution_count": null,
   "id": "bd0ca1ea",
   "metadata": {
    "attributes": {
     "classes": [
      "code-cell"
     ],
     "id": ""
    }
   },
   "outputs": [],
   "source": [
    "sa = pd.Series([1, 2, 3], index=list('abc'))\n",
    "dfa = df.copy()"
   ]
  },
  {
   "cell_type": "code",
   "execution_count": null,
   "id": "bfc030a6",
   "metadata": {
    "attributes": {
     "classes": [
      "code-cell"
     ],
     "id": ""
    }
   },
   "outputs": [],
   "source": [
    "sa.b"
   ]
  },
  {
   "cell_type": "code",
   "execution_count": null,
   "id": "caf6a27f",
   "metadata": {
    "attributes": {
     "classes": [
      "code-cell"
     ],
     "id": ""
    }
   },
   "outputs": [],
   "source": [
    "dfa.A"
   ]
  },
  {
   "cell_type": "code",
   "execution_count": null,
   "id": "e7a4d8bf",
   "metadata": {
    "attributes": {
     "classes": [
      "code-cell"
     ],
     "id": ""
    }
   },
   "outputs": [],
   "source": [
    "sa.a = 5\n",
    "sa"
   ]
  },
  {
   "cell_type": "code",
   "execution_count": null,
   "id": "cc31b25b",
   "metadata": {
    "attributes": {
     "classes": [
      "code-cell"
     ],
     "id": ""
    }
   },
   "outputs": [],
   "source": [
    "dfa.A = list(range(len(dfa.index)))  # ok if A already exists\n",
    "dfa"
   ]
  },
  {
   "cell_type": "code",
   "execution_count": null,
   "id": "25c018bc",
   "metadata": {
    "attributes": {
     "classes": [
      "code-cell"
     ],
     "id": ""
    }
   },
   "outputs": [],
   "source": [
    "dfa['A'] = list(range(len(dfa.index)))  # use this form to create a new column\n",
    "dfa"
   ]
  },
  {
   "cell_type": "markdown",
   "id": "4755ff6d",
   "metadata": {},
   "source": [
    ":::{note}\n",
    "- You can use this access only if the index element is a valid Python identifier, e.g. s.1 is not allowed. See here for an explanation of valid identifiers.\n",
    "\n",
    "- The attribute will not be available if it conflicts with an existing method name, e.g. s.min is not allowed, but s['min'] is possible.\n",
    "\n",
    "- Similarly, the attribute will not be available if it conflicts with any of the following list: index, major_axis, minor_axis, items.\n",
    "\n",
    "- In any of these cases, standard indexing will still work, e.g. s['1'], s['min'], and s['index'] will access the corresponding element or column.\n",
    ":::\n",
    "\n",
    "If you are using the IPython environment, you may also use tab-completion to see these accessible attributes.\n",
    "\n",
    "You can also assign a `dict` to a row of a `DataFrame`:"
   ]
  },
  {
   "cell_type": "code",
   "execution_count": null,
   "id": "e4b1451a",
   "metadata": {
    "attributes": {
     "classes": [
      "code-cell"
     ],
     "id": ""
    },
    "editable": true,
    "slideshow": {
     "slide_type": ""
    },
    "tags": [
     "output-scroll"
    ]
   },
   "outputs": [],
   "source": [
    "x = pd.DataFrame({'x': [1, 2, 3], 'y': [3, 4, 5]})\n",
    "x.iloc[1] = {'x': 9, 'y': 99}\n",
    "x"
   ]
  },
  {
   "cell_type": "markdown",
   "id": "0d0ad8fa",
   "metadata": {},
   "source": [
    "You can use attribute access to modify an existing element of a Series or column of a DataFrame, but be careful; if you try to use attribute access to create a new column, it creates a new attribute rather than a new column. In 0.21.0 and later, this will raise a `UserWarning`:"
   ]
  },
  {
   "cell_type": "code",
   "execution_count": null,
   "id": "b50bdbc2",
   "metadata": {
    "attributes": {
     "classes": [
      "code-cell"
     ],
     "id": ""
    }
   },
   "outputs": [],
   "source": [
    "df = pd.DataFrame({'one': [1., 2., 3.]})\n",
    "df.two = [4, 5, 6]"
   ]
  },
  {
   "cell_type": "code",
   "execution_count": null,
   "id": "a0e8e1e7",
   "metadata": {
    "attributes": {
     "classes": [
      "code-cell"
     ],
     "id": ""
    }
   },
   "outputs": [],
   "source": [
    "df"
   ]
  },
  {
   "cell_type": "markdown",
   "id": "f533bc88",
   "metadata": {},
   "source": [
    "### Slicing ranges\n",
    "\n",
    "For now, we explain the semantics of slicing using the [] operator.\n",
    "\n",
    "With Series, the syntax works exactly as with an ndarray, returning a slice of the values and the corresponding labels:"
   ]
  },
  {
   "cell_type": "code",
   "execution_count": null,
   "id": "b5cee919",
   "metadata": {
    "attributes": {
     "classes": [
      "code-cell"
     ],
     "id": ""
    }
   },
   "outputs": [],
   "source": [
    "s"
   ]
  },
  {
   "cell_type": "code",
   "execution_count": null,
   "id": "a115e85e",
   "metadata": {
    "attributes": {
     "classes": [
      "code-cell"
     ],
     "id": ""
    }
   },
   "outputs": [],
   "source": [
    "s[:5]"
   ]
  },
  {
   "cell_type": "code",
   "execution_count": null,
   "id": "a0aa7ef7",
   "metadata": {
    "attributes": {
     "classes": [
      "code-cell"
     ],
     "id": ""
    }
   },
   "outputs": [],
   "source": [
    "s[::2]"
   ]
  },
  {
   "cell_type": "code",
   "execution_count": null,
   "id": "48c44165",
   "metadata": {
    "attributes": {
     "classes": [
      "code-cell"
     ],
     "id": ""
    }
   },
   "outputs": [],
   "source": [
    "s[::-1]"
   ]
  },
  {
   "cell_type": "markdown",
   "id": "cf2f2a39",
   "metadata": {},
   "source": [
    "Note that setting works as well:"
   ]
  },
  {
   "cell_type": "code",
   "execution_count": null,
   "id": "8e3c1872",
   "metadata": {
    "attributes": {
     "classes": [
      "code-cell"
     ],
     "id": ""
    }
   },
   "outputs": [],
   "source": [
    "s2 = s.copy()\n",
    "s2[:5] = 0\n",
    "s2"
   ]
  },
  {
   "cell_type": "markdown",
   "id": "81362d78",
   "metadata": {},
   "source": [
    "With DataFrame, slicing inside of `[]` slices the rows. This is provided largely as a convenience since it is such a common operation."
   ]
  },
  {
   "cell_type": "code",
   "execution_count": null,
   "id": "77faac43",
   "metadata": {
    "attributes": {
     "classes": [
      "code-cell"
     ],
     "id": ""
    }
   },
   "outputs": [],
   "source": [
    "df[:3]"
   ]
  },
  {
   "cell_type": "code",
   "execution_count": null,
   "id": "0d83f660",
   "metadata": {
    "attributes": {
     "classes": [
      "code-cell"
     ],
     "id": ""
    }
   },
   "outputs": [],
   "source": [
    "df[::-1]"
   ]
  },
  {
   "cell_type": "markdown",
   "id": "a8a18118",
   "metadata": {},
   "source": [
    "### Selection by label\n",
    "\n",
    ":::{note}\n",
    "Whether a copy or a reference is returned for a setting operation, may depend on the context. This is sometimes called `chained assignment` and should be avoided.\n",
    ":::\n",
    "\n",
    "\n",
    ":::{note}\n",
    "`.loc` is strict when you present slicers that are not compatible (or convertible) with the index type. For example using integers in a `DatetimeIndex`. These will raise a `TypeError`.\n",
    ":::"
   ]
  },
  {
   "cell_type": "code",
   "execution_count": null,
   "id": "babc6be9",
   "metadata": {
    "attributes": {
     "classes": [
      "code-cell"
     ],
     "id": ""
    }
   },
   "outputs": [],
   "source": [
    "dfl = pd.DataFrame(np.random.randn(5, 4),\n",
    "                   columns=list('ABCD'),\n",
    "                   index=pd.date_range('20130101', periods=5))"
   ]
  },
  {
   "cell_type": "code",
   "execution_count": null,
   "id": "c3a16a7a",
   "metadata": {
    "attributes": {
     "classes": [
      "code-cell"
     ],
     "id": ""
    }
   },
   "outputs": [],
   "source": [
    ":tags: [\"raises-exception\"]\n",
    "dfl.loc[2:3]"
   ]
  },
  {
   "cell_type": "markdown",
   "id": "1257e445",
   "metadata": {},
   "source": [
    ":::{note}\n",
    "String likes in slicing can be convertible to the type of the index and lead to natural slicing.\n",
    ":::"
   ]
  },
  {
   "cell_type": "code",
   "execution_count": null,
   "id": "61c8bafa",
   "metadata": {},
   "outputs": [],
   "source": [
    "dfl.loc['20130102':'20130104']"
   ]
  },
  {
   "cell_type": "code",
   "execution_count": null,
   "id": "6cc95123",
   "metadata": {
    "attributes": {
     "classes": [
      "code-cell"
     ],
     "id": ""
    },
    "editable": true,
    "slideshow": {
     "slide_type": ""
    },
    "tags": [
     "output-scroll",
     "hide-input"
    ]
   },
   "outputs": [],
   "source": [
    "from IPython.display import HTML\n",
    "<div class='full-width docutils' >\n",
    "  <div class=\"admonition note pandastutor\" name=\"html-admonition\" style=\"margin-right:20%\">\n",
    "    <p class=\"admonition-title pandastutor\">Let's visualize it! 🎥</p>\n",
    "    <div class=\"pandastutor inner\" style=\"height:730px;\">\n",
    "      <iframe frameborder=\"0\" scrolling=\"no\" src=\"https://pandastutor.com/vis.html#code=import%20pandas%20as%20pd%0Aimport%20io%0Aimport%20numpy%20as%20np%0Aimport%20random%0Anp.random.seed%20%2810%29%0Adfl%20%3D%20pd.DataFrame%28np.random.randn%285,%204%29,%0A%20%20%20%20%20%20%20%20%20%20%20%20%20%20%20%20%20%20%20columns%3Dlist%28'ABCD'%29,%0A%20%20%20%20%20%20%20%20%20%20%20%20%20%20%20%20%20%20%20index%3Dpd.date_range%28'20130101',%20periods%3D5%29%29%0Adfl%0Adfl.loc%5B'20130102'%3A'20130104'%5D&d=2023-07-13&lang=py&v=v1\"> </iframe>\n",
    "    </div>\n",
    "  </div>\n",
    "</div>\n",
    "display(HTML(\"\"\"\n",
    "\n",
    "\"\"\"))"
   ]
  },
  {
   "cell_type": "markdown",
   "id": "3e0a6085",
   "metadata": {},
   "source": [
    ":::{note}\n",
    "Pandas will raise a `KeyError` if indexing with a list with missing labels.\n",
    ":::\n",
    "\n",
    "\n",
    "Pandas provides a suite of methods in order to have **purely label-based indexing**. This is a strict inclusion-based protocol. Every label asked for must be in the index, or a `KeyError` will be raised. When slicing, both the start bound **AND** the stop bound are included, if present in the index. Integers are valid labels, but they refer to the label **and not the position**.\n",
    "\n",
    "- The `.loc` attribute is the primary access method. The following are valid inputs:\n",
    "\n",
    "- A single label, e.g. `5` or `'a'` (Note that `5` is interpreted as a label of the index. This use is not an integer position along the index.).\n",
    "\n",
    "- A list or array of labels `['a', 'b', 'c']`.\n",
    "\n",
    "- A slice object with labels `'a':'f'` (Note that contrary to usual Python slices, both the start and the stop are included, when present in the index!\n",
    "\n",
    "- A boolean array.\n",
    "\n",
    "- A `callable`."
   ]
  },
  {
   "cell_type": "code",
   "execution_count": null,
   "id": "e05534b4",
   "metadata": {},
   "outputs": [],
   "source": [
    "s1 = pd.Series(np.random.randn(6), index=list('abcdef'))\n",
    "s1\n",
    "s1.loc['c':]"
   ]
  },
  {
   "cell_type": "code",
   "execution_count": null,
   "id": "980b63b6",
   "metadata": {
    "attributes": {
     "classes": [
      "code-cell"
     ],
     "id": ""
    }
   },
   "outputs": [],
   "source": [
    "from IPython.display import HTML\n",
    "<div class='full-width docutils' >\n",
    "  <div class=\"admonition note pandastutor\" name=\"html-admonition\" style=\"margin-right:20%\">\n",
    "    <p class=\"admonition-title pandastutor\">Let's visualize it! 🎥</p>\n",
    "    <div class=\"pandastutor inner\" style=\"height:630px;\">\n",
    "      <iframe frameborder=\"0\" scrolling=\"no\" src=\"https://pandastutor.com/vis.html#code=import%20pandas%20as%20pd%0Aimport%20io%0Aimport%20numpy%20as%20np%0Aimport%20random%0Anp.random.seed%2810%29%0As1%20%3D%20pd.Series%28np.random.randn%286%29,%20index%3Dlist%28'abcdef'%29%29%0As1.loc%5B'c'%3A%5D%0A&d=2023-07-14&lang=py&v=v1\"> </iframe>\n",
    "    </div>\n",
    "  </div>\n",
    "</div>\n",
    "display(HTML(\"\"\"\n",
    "\n",
    "\"\"\"))"
   ]
  },
  {
   "cell_type": "code",
   "execution_count": null,
   "id": "434749a5",
   "metadata": {},
   "outputs": [],
   "source": [
    "s1.loc['b']"
   ]
  },
  {
   "cell_type": "code",
   "execution_count": null,
   "id": "1897d0be",
   "metadata": {
    "attributes": {
     "classes": [
      "code-cell"
     ],
     "id": ""
    }
   },
   "outputs": [],
   "source": [
    "from IPython.display import HTML\n",
    "<div class='full-width docutils' >\n",
    "  <div class=\"admonition note pandastutor\" name=\"html-admonition\" style=\"margin-right:20%\">\n",
    "    <p class=\"admonition-title pandastutor\">Let's visualize it! 🎥</p>\n",
    "    <div class=\"pandastutor inner\" style=\"height:630px;\">\n",
    "      <iframe frameborder=\"0\" scrolling=\"no\" src=\"https://pandastutor.com/vis.html#code=import%20pandas%20as%20pd%0Aimport%20io%0Aimport%20numpy%20as%20np%0Aimport%20random%0Anp.random.seed%2810%29%0As1%20%3D%20pd.Series%28np.random.randn%286%29,%20index%3Dlist%28'abcdef'%29%29%0As1.loc%5B'b'%5D%0A&d=2023-07-14&lang=py&v=v1\"> </iframe>\n",
    "    </div>\n",
    "  </div>\n",
    "</div>\n",
    "display(HTML(\"\"\"\n",
    "\n",
    "\"\"\"))"
   ]
  },
  {
   "cell_type": "markdown",
   "id": "839520bb",
   "metadata": {},
   "source": [
    "Note that the setting works as well:"
   ]
  },
  {
   "cell_type": "code",
   "execution_count": null,
   "id": "3eaf6d7d",
   "metadata": {},
   "outputs": [],
   "source": [
    "s1.loc['c':] = 0\n",
    "s1"
   ]
  },
  {
   "cell_type": "code",
   "execution_count": null,
   "id": "c1a33cf4",
   "metadata": {
    "attributes": {
     "classes": [
      "code-cell"
     ],
     "id": ""
    }
   },
   "outputs": [],
   "source": [
    "from IPython.display import HTML\n",
    "<div class='full-width docutils' >\n",
    "  <div class=\"admonition note pandastutor\" name=\"html-admonition\" style=\"margin-right:20%\">\n",
    "    <p class=\"admonition-title pandastutor\">Let's visualize it! 🎥</p>\n",
    "    <div class=\"pandastutor inner\" style=\"height:630px;\">\n",
    "      <iframe frameborder=\"0\" scrolling=\"no\" src=\"https://pandastutor.com/vis.html#code=import%20pandas%20as%20pd%0Aimport%20io%0Aimport%20numpy%20as%20np%0Aimport%20random%0Anp.random.seed%2810%29%0As1%20%3D%20pd.Series%28np.random.randn%286%29,%20index%3Dlist%28'abcdef'%29%29%0As1.loc%5B'c'%3A%5D%20%3D%200%0As1&d=2023-07-14&lang=py&v=v1\"> </iframe>\n",
    "    </div>\n",
    "  </div>\n",
    "</div>\n",
    "display(HTML(\"\"\"\n",
    "\n",
    "\"\"\"))"
   ]
  },
  {
   "cell_type": "markdown",
   "id": "396c5a7b",
   "metadata": {},
   "source": [
    "With a DataFrame:"
   ]
  },
  {
   "cell_type": "code",
   "execution_count": null,
   "id": "b251c218",
   "metadata": {},
   "outputs": [],
   "source": [
    "df1 = pd.DataFrame(np.random.randn(6, 4),\n",
    "                   index=list('abcdef'),\n",
    "                   columns=list('ABCD'))\n",
    "df1\n",
    "df1.loc[['a', 'b', 'd'], :]"
   ]
  },
  {
   "cell_type": "code",
   "execution_count": null,
   "id": "35d46745",
   "metadata": {
    "attributes": {
     "classes": [
      "code-cell"
     ],
     "id": ""
    },
    "editable": true,
    "slideshow": {
     "slide_type": ""
    },
    "tags": [
     "output-scroll",
     "hide-input"
    ]
   },
   "outputs": [],
   "source": [
    "from IPython.display import HTML\n",
    "<div class='full-width docutils' >\n",
    "  <div class=\"admonition note pandastutor\" name=\"html-admonition\" style=\"margin-right:20%\">\n",
    "    <p class=\"admonition-title pandastutor\">Let's visualize it! 🎥</p>\n",
    "    <div class=\"pandastutor inner\" style=\"height:680px;\">\n",
    "      <iframe frameborder=\"0\" scrolling=\"no\" src=\"https://pandastutor.com/vis.html#code=import%20pandas%20as%20pd%0Aimport%20io%0Aimport%20numpy%20as%20np%0Aimport%20random%0Anp.random.seed%2810%29%0Adf1%20%3D%20pd.DataFrame%28np.random.randn%286,%204%29,%0A%20%20%20%20%20%20%20%20%20%20%20%20%20%20%20%20%20%20%20index%3Dlist%28'abcdef'%29,%0A%20%20%20%20%20%20%20%20%20%20%20%20%20%20%20%20%20%20%20columns%3Dlist%28'ABCD'%29%29%0Adf1%0Adf1.loc%5B%5B'a',%20'b',%20'd'%5D,%20%3A%5D%0A&d=2023-07-14&lang=py&v=v1\"> </iframe>\n",
    "    </div>\n",
    "  </div>\n",
    "</div>\n",
    "display(HTML(\"\"\"\n",
    "\n",
    "\"\"\"))"
   ]
  },
  {
   "cell_type": "markdown",
   "id": "d792b8b8",
   "metadata": {},
   "source": [
    "Accessing via label slices:"
   ]
  },
  {
   "cell_type": "code",
   "execution_count": null,
   "id": "4dc59949",
   "metadata": {},
   "outputs": [],
   "source": [
    "df1.loc['d':, 'A':'C']"
   ]
  },
  {
   "cell_type": "code",
   "execution_count": null,
   "id": "659812e8",
   "metadata": {
    "attributes": {
     "classes": [
      "code-cell"
     ],
     "id": ""
    },
    "editable": true,
    "slideshow": {
     "slide_type": ""
    },
    "tags": [
     "output-scroll",
     "hide-input"
    ]
   },
   "outputs": [],
   "source": [
    "from IPython.display import HTML\n",
    "<div class='full-width docutils' >\n",
    "  <div class=\"admonition note pandastutor\" name=\"html-admonition\" style=\"margin-right:20%\">\n",
    "    <p class=\"admonition-title pandastutor\">Let's visualize it! 🎥</p>\n",
    "    <div class=\"pandastutor inner\" style=\"height:710px;\">\n",
    "      <iframe frameborder=\"0\" scrolling=\"no\" src=\"https://pandastutor.com/vis.html#code=import%20pandas%20as%20pd%0Aimport%20io%0Aimport%20numpy%20as%20np%0Aimport%20random%0Anp.random.seed%2810%29%0Adf1%20%3D%20pd.DataFrame%28np.random.randn%286,%204%29,%0A%20%20%20%20%20%20%20%20%20%20%20%20%20%20%20%20%20%20%20index%3Dlist%28'abcdef'%29,%0A%20%20%20%20%20%20%20%20%20%20%20%20%20%20%20%20%20%20%20columns%3Dlist%28'ABCD'%29%29%0Adf1%0Adf1.loc%5B'd'%3A,%20'A'%3A'C'%5D%0A&d=2023-07-14&lang=py&v=v1\"> </iframe>\n",
    "    </div>\n",
    "  </div>\n",
    "</div>\n",
    "display(HTML(\"\"\"\n",
    "\n",
    "\"\"\"))"
   ]
  },
  {
   "cell_type": "markdown",
   "id": "d85cd892",
   "metadata": {},
   "source": [
    "For getting a cross-section using a label (equivalent to `df.xs('a')`):"
   ]
  },
  {
   "cell_type": "code",
   "execution_count": null,
   "id": "e5fdcfe4",
   "metadata": {},
   "outputs": [],
   "source": [
    "df1.loc['a']"
   ]
  },
  {
   "cell_type": "code",
   "execution_count": null,
   "id": "aa0a2f46",
   "metadata": {
    "attributes": {
     "classes": [
      "code-cell"
     ],
     "id": ""
    },
    "editable": true,
    "slideshow": {
     "slide_type": ""
    },
    "tags": [
     "output-scroll",
     "hide-input"
    ]
   },
   "outputs": [],
   "source": [
    "from IPython.display import HTML\n",
    "<div class='full-width docutils' >\n",
    "  <div class=\"admonition note pandastutor\" name=\"html-admonition\" style=\"margin-right:20%\">\n",
    "    <p class=\"admonition-title pandastutor\">Let's visualize it! 🎥</p>\n",
    "    <div class=\"pandastutor inner\" style=\"height:690px;\">\n",
    "      <iframe frameborder=\"0\" scrolling=\"no\" src=\"https://pandastutor.com/vis.html#code=import%20pandas%20as%20pd%0Aimport%20io%0Aimport%20numpy%20as%20np%0Aimport%20random%0Anp.random.seed%2810%29%0Adf1%20%3D%20pd.DataFrame%28np.random.randn%286,%204%29,%0A%20%20%20%20%20%20%20%20%20%20%20%20%20%20%20%20%20%20%20index%3Dlist%28'abcdef'%29,%0A%20%20%20%20%20%20%20%20%20%20%20%20%20%20%20%20%20%20%20columns%3Dlist%28'ABCD'%29%29%0Adf1%0Adf1.loc%5B'a'%5D&d=2023-07-14&lang=py&v=v1\"> </iframe>\n",
    "    </div>\n",
    "  </div>\n",
    "</div>\n",
    "display(HTML(\"\"\"\n",
    "\n",
    "\"\"\"))"
   ]
  },
  {
   "cell_type": "markdown",
   "id": "8ab6204d",
   "metadata": {},
   "source": [
    "For getting values with a boolean array:"
   ]
  },
  {
   "cell_type": "code",
   "execution_count": null,
   "id": "4a59404e",
   "metadata": {},
   "outputs": [],
   "source": [
    "df1.loc['a'] > 0"
   ]
  },
  {
   "cell_type": "code",
   "execution_count": null,
   "id": "088f78ed",
   "metadata": {
    "attributes": {
     "classes": [
      "code-cell"
     ],
     "id": ""
    },
    "editable": true,
    "slideshow": {
     "slide_type": ""
    },
    "tags": [
     "output-scroll",
     "hide-input"
    ]
   },
   "outputs": [],
   "source": [
    "from IPython.display import HTML\n",
    "<div class='full-width docutils' >\n",
    "  <div class=\"admonition note pandastutor\" name=\"html-admonition\" style=\"margin-right:20%\">\n",
    "    <p class=\"admonition-title pandastutor\">Let's visualize it! 🎥</p>\n",
    "    <div class=\"pandastutor inner\" style=\"height:650px;\">\n",
    "      <iframe frameborder=\"0\" scrolling=\"no\" src=\"https://pandastutor.com/vis.html#code=import%20pandas%20as%20pd%0Aimport%20io%0Aimport%20numpy%20as%20np%0Aimport%20random%0Anp.random.seed%2810%29%0Adf1%20%3D%20pd.DataFrame%28np.random.randn%286,%204%29,%0A%20%20%20%20%20%20%20%20%20%20%20%20%20%20%20%20%20%20%20index%3Dlist%28'abcdef'%29,%0A%20%20%20%20%20%20%20%20%20%20%20%20%20%20%20%20%20%20%20columns%3Dlist%28'ABCD'%29%29%0Adf1%0Adf1.loc%5B'a'%5D%20%3E%200&d=2023-07-14&lang=py&v=v1\"> </iframe>\n",
    "    </div>\n",
    "  </div>\n",
    "</div>\n",
    "display(HTML(\"\"\"\n",
    "\n",
    "\"\"\"))"
   ]
  },
  {
   "cell_type": "code",
   "execution_count": null,
   "id": "2788e19d",
   "metadata": {},
   "outputs": [],
   "source": [
    "df1.loc[:, df1.loc['a'] > 0]"
   ]
  },
  {
   "cell_type": "code",
   "execution_count": null,
   "id": "5dcc7b89",
   "metadata": {
    "attributes": {
     "classes": [
      "code-cell"
     ],
     "id": ""
    },
    "editable": true,
    "slideshow": {
     "slide_type": ""
    },
    "tags": [
     "output-scroll",
     "hide-input"
    ]
   },
   "outputs": [],
   "source": [
    "from IPython.display import HTML\n",
    "<div class='full-width docutils' >\n",
    "  <div class=\"admonition note pandastutor\" name=\"html-admonition\" style=\"margin-right:20%\">\n",
    "    <p class=\"admonition-title pandastutor\">Let's visualize it! 🎥</p>\n",
    "    <div class=\"pandastutor inner\" style=\"height:700px;\">\n",
    "      <iframe frameborder=\"0\" scrolling=\"no\" src=\"https://pandastutor.com/vis.html#code=import%20pandas%20as%20pd%0Aimport%20io%0Aimport%20numpy%20as%20np%0Aimport%20random%0Anp.random.seed%2810%29%0Adf1%20%3D%20pd.DataFrame%28np.random.randn%286,%204%29,%0A%20%20%20%20%20%20%20%20%20%20%20%20%20%20%20%20%20%20%20index%3Dlist%28'abcdef'%29,%0A%20%20%20%20%20%20%20%20%20%20%20%20%20%20%20%20%20%20%20columns%3Dlist%28'ABCD'%29%29%0Adf1%0Adf1.loc%5B%3A,%20df1.loc%5B'a'%5D%20%3E%200%5D&d=2023-07-14&lang=py&v=v1\"> </iframe>\n",
    "    </div>\n",
    "  </div>\n",
    "</div>\n",
    "display(HTML(\"\"\"\n",
    "\n",
    "\"\"\"))"
   ]
  },
  {
   "cell_type": "markdown",
   "id": "8c5954bb",
   "metadata": {},
   "source": [
    "NA values in a boolean array propagate as `False`:"
   ]
  },
  {
   "cell_type": "code",
   "execution_count": null,
   "id": "37ea5a0c",
   "metadata": {
    "attributes": {
     "classes": [
      "code-cell"
     ],
     "id": ""
    }
   },
   "outputs": [],
   "source": [
    "mask = pd.array([True, False, True, False, pd.NA, False], dtype=\"boolean\")\n",
    "mask"
   ]
  },
  {
   "cell_type": "code",
   "execution_count": null,
   "id": "1eaddac0",
   "metadata": {},
   "outputs": [],
   "source": [
    "df1[mask]"
   ]
  },
  {
   "cell_type": "code",
   "execution_count": null,
   "id": "77dc5e22",
   "metadata": {
    "attributes": {
     "classes": [
      "code-cell"
     ],
     "id": ""
    },
    "editable": true,
    "slideshow": {
     "slide_type": ""
    },
    "tags": [
     "output-scroll",
     "hide-input"
    ]
   },
   "outputs": [],
   "source": [
    "from IPython.display import HTML\n",
    "<div class='full-width docutils' >\n",
    "  <div class=\"admonition note pandastutor\" name=\"html-admonition\" style=\"margin-right:20%\">\n",
    "    <p class=\"admonition-title pandastutor\">Let's visualize it! 🎥</p>\n",
    "    <div class=\"pandastutor inner\" style=\"height:680px;\">\n",
    "      <iframe frameborder=\"0\" scrolling=\"no\" src=\"https://pandastutor.com/vis.html#code=import%20pandas%20as%20pd%0Aimport%20io%0Aimport%20numpy%20as%20np%0Aimport%20random%0Anp.random.seed%2810%29%0Adf1%20%3D%20pd.DataFrame%28np.random.randn%286,%204%29,%0A%20%20%20%20%20%20%20%20%20%20%20%20%20%20%20%20%20%20%20index%3Dlist%28'abcdef'%29,%0A%20%20%20%20%20%20%20%20%20%20%20%20%20%20%20%20%20%20%20columns%3Dlist%28'ABCD'%29%29%0Amask%20%3D%20pd.array%28%5BTrue,%20False,%20True,%20False,%20pd.NA,%20False%5D,%20dtype%3D%22boolean%22%29%0Adf1%5Bmask%5D&d=2023-07-14&lang=py&v=v1\"> </iframe>\n",
    "    </div>\n",
    "  </div>\n",
    "</div>\n",
    "display(HTML(\"\"\"\n",
    "\n",
    "\"\"\"))"
   ]
  },
  {
   "cell_type": "markdown",
   "id": "4c951b35",
   "metadata": {},
   "source": [
    "For getting a value explicitly:"
   ]
  },
  {
   "cell_type": "code",
   "execution_count": null,
   "id": "b9172ebf",
   "metadata": {},
   "outputs": [],
   "source": [
    "df1.loc['a', 'A'] # this is also equivalent to ``df1.at['a','A']``"
   ]
  },
  {
   "cell_type": "code",
   "execution_count": null,
   "id": "25402e60",
   "metadata": {
    "attributes": {
     "classes": [
      "code-cell"
     ],
     "id": ""
    },
    "editable": true,
    "slideshow": {
     "slide_type": ""
    },
    "tags": [
     "output-scroll",
     "hide-input"
    ]
   },
   "outputs": [],
   "source": [
    "from IPython.display import HTML\n",
    "<div class='full-width docutils' >\n",
    "  <div class=\"admonition note pandastutor\" name=\"html-admonition\" style=\"margin-right:20%\">\n",
    "    <p class=\"admonition-title pandastutor\">Let's visualize it! 🎥</p>\n",
    "    <div class=\"pandastutor inner\" style=\"height:680px;\">\n",
    "      <iframe frameborder=\"0\" scrolling=\"no\" src=\"https://pandastutor.com/vis.html#code=import%20pandas%20as%20pd%0Aimport%20io%0Aimport%20numpy%20as%20np%0Aimport%20random%0Anp.random.seed%2810%29%0Adf1%20%3D%20pd.DataFrame%28np.random.randn%286,%204%29,%0A%20%20%20%20%20%20%20%20%20%20%20%20%20%20%20%20%20%20%20index%3Dlist%28'abcdef'%29,%0A%20%20%20%20%20%20%20%20%20%20%20%20%20%20%20%20%20%20%20columns%3Dlist%28'ABCD'%29%29%0Adf1%0Adf1.loc%5B'a',%20'A'%5D%20&d=2023-07-14&lang=py&v=v1\"> </iframe>\n",
    "    </div>\n",
    "  </div>\n",
    "</div>\n",
    "display(HTML(\"\"\"\n",
    "\n",
    "\"\"\"))"
   ]
  },
  {
   "cell_type": "markdown",
   "id": "2fcc1f92",
   "metadata": {},
   "source": [
    "#### Slicing with labels\n",
    "\n",
    "When using `.loc` with slices, if both the start and the stop labels are present in the index, then elements located between the two (including them) are returned:"
   ]
  },
  {
   "cell_type": "code",
   "execution_count": null,
   "id": "3ea56db5",
   "metadata": {},
   "outputs": [],
   "source": [
    "s = pd.Series(list('abcde'), index=[0, 3, 2, 5, 4])\n",
    "s.loc[3:5]"
   ]
  },
  {
   "cell_type": "code",
   "execution_count": null,
   "id": "802e5783",
   "metadata": {
    "attributes": {
     "classes": [
      "code-cell"
     ],
     "id": ""
    },
    "editable": true,
    "slideshow": {
     "slide_type": ""
    },
    "tags": [
     "output-scroll",
     "hide-input"
    ]
   },
   "outputs": [],
   "source": [
    "from IPython.display import HTML\n",
    "<div class='full-width docutils' >\n",
    "  <div class=\"admonition note pandastutor\" name=\"html-admonition\" style=\"margin-right:20%\">\n",
    "    <p class=\"admonition-title pandastutor\">Let's visualize it! 🎥</p>\n",
    "    <div class=\"pandastutor inner\" style=\"height:580px;\">\n",
    "      <iframe frameborder=\"0\" scrolling=\"no\" src=\"https://pandastutor.com/vis.html#code=import%20pandas%20as%20pd%0Aimport%20io%0As%20%3D%20pd.Series%28list%28'abcde'%29,%20index%3D%5B0,%203,%202,%205,%204%5D%29%0As.loc%5B3%3A5%5D&d=2023-07-14&lang=py&v=v1\"> </iframe>\n",
    "    </div>\n",
    "  </div>\n",
    "</div>\n",
    "display(HTML(\"\"\"\n",
    "\n",
    "\"\"\"))"
   ]
  },
  {
   "cell_type": "markdown",
   "id": "20cc11c2",
   "metadata": {},
   "source": [
    "If at least one of the two is absent, but the index is sorted, and can be compared against start and stop labels, then slicing will still work as expected, by selecting labels which rank between the two:"
   ]
  },
  {
   "cell_type": "code",
   "execution_count": null,
   "id": "b62adb87",
   "metadata": {},
   "outputs": [],
   "source": [
    "s.sort_index()"
   ]
  },
  {
   "cell_type": "code",
   "execution_count": null,
   "id": "6b522ee7",
   "metadata": {
    "attributes": {
     "classes": [
      "code-cell"
     ],
     "id": ""
    },
    "editable": true,
    "slideshow": {
     "slide_type": ""
    },
    "tags": [
     "output-scroll",
     "hide-input"
    ]
   },
   "outputs": [],
   "source": [
    "from IPython.display import HTML\n",
    "<div class='full-width docutils' >\n",
    "  <div class=\"admonition note pandastutor\" name=\"html-admonition\" style=\"margin-right:20%\">\n",
    "    <p class=\"admonition-title pandastutor\">Let's visualize it! 🎥</p>\n",
    "    <div class=\"pandastutor inner\" style=\"height:600px;\">\n",
    "      <iframe frameborder=\"0\" scrolling=\"no\" src=\"https://pandastutor.com/vis.html#code=import%20pandas%20as%20pd%0Aimport%20io%0As%20%3D%20pd.Series%28list%28'abcde'%29,%20index%3D%5B0,%203,%202,%205,%204%5D%29%0As.sort_index%28%29&d=2023-07-14&lang=py&v=v1\"> </iframe>\n",
    "    </div>\n",
    "  </div>\n",
    "</div>\n",
    "display(HTML(\"\"\"\n",
    "\n",
    "\"\"\"))"
   ]
  },
  {
   "cell_type": "code",
   "execution_count": null,
   "id": "20215253",
   "metadata": {},
   "outputs": [],
   "source": [
    "s.sort_index().loc[1:6]"
   ]
  },
  {
   "cell_type": "code",
   "execution_count": null,
   "id": "45c3135e",
   "metadata": {
    "attributes": {
     "classes": [
      "code-cell"
     ],
     "id": ""
    },
    "editable": true,
    "slideshow": {
     "slide_type": ""
    },
    "tags": [
     "output-scroll",
     "hide-input"
    ]
   },
   "outputs": [],
   "source": [
    "from IPython.display import HTML\n",
    "<div class='full-width docutils' >\n",
    "  <div class=\"admonition note pandastutor\" name=\"html-admonition\" style=\"margin-right:20%\">\n",
    "    <p class=\"admonition-title pandastutor\">Let's visualize it! 🎥</p>\n",
    "    <div class=\"pandastutor inner\" style=\"height:820px;\">\n",
    "      <iframe frameborder=\"0\" scrolling=\"no\" src=\"https://pandastutor.com/vis.html#code=import%20pandas%20as%20pd%0Aimport%20io%0As%20%3D%20pd.Series%28list%28'abcde'%29,%20index%3D%5B0,%203,%202,%205,%204%5D%29%0As.sort_index%28%29.loc%5B1%3A6%5D&d=2023-07-14&lang=py&v=v1\"> </iframe>\n",
    "    </div>\n",
    "  </div>\n",
    "</div>\n",
    "display(HTML(\"\"\"\n",
    "\n",
    "\"\"\"))"
   ]
  },
  {
   "cell_type": "markdown",
   "id": "60dd304c",
   "metadata": {},
   "source": [
    "However, if at least one of the two is absent and the index is not sorted, an error will be raised (since doing otherwise would be computationally expensive, as well as potentially ambiguous for mixed-type indexes). For instance, in the above example, `s.loc[1:6]` would raise `KeyError`."
   ]
  },
  {
   "cell_type": "code",
   "execution_count": null,
   "id": "bd54cc26",
   "metadata": {},
   "outputs": [],
   "source": [
    "s = pd.Series(list('abcdef'), index=[0, 3, 2, 5, 4, 2])\n",
    "s.loc[3:5]"
   ]
  },
  {
   "cell_type": "code",
   "execution_count": null,
   "id": "8790ce71",
   "metadata": {
    "attributes": {
     "classes": [
      "code-cell"
     ],
     "id": ""
    },
    "editable": true,
    "slideshow": {
     "slide_type": ""
    },
    "tags": [
     "output-scroll",
     "hide-input"
    ]
   },
   "outputs": [],
   "source": [
    "from IPython.display import HTML\n",
    "<div class='full-width docutils' >\n",
    "  <div class=\"admonition note pandastutor\" name=\"html-admonition\" style=\"margin-right:20%\">\n",
    "    <p class=\"admonition-title pandastutor\">Let's visualize it! 🎥</p>\n",
    "    <div class=\"pandastutor inner\" style=\"height:650px;\">\n",
    "      <iframe frameborder=\"0\" scrolling=\"no\" src=\"https://pandastutor.com/vis.html#code=import%20pandas%20as%20pd%0Aimport%20io%0As%20%3D%20pd.Series%28list%28'abcdef'%29,%20index%3D%5B0,%203,%202,%205,%204,%202%5D%29%0As.loc%5B3%3A5%5D&d=2023-07-14&lang=py&v=v1\"> </iframe>\n",
    "    </div>\n",
    "  </div>\n",
    "</div>\n",
    "display(HTML(\"\"\"\n",
    "\n",
    "\"\"\"))"
   ]
  },
  {
   "cell_type": "markdown",
   "id": "0dc39fb7",
   "metadata": {},
   "source": [
    "Also, if the index has duplicate labels and either the start or the stop label is duplicated, an error will be raised. For instance, in the above example, `s.loc[2:5]` would raise a `KeyError`.\n",
    "\n",
    "### Selection by position\n",
    "\n",
    ":::{note}\n",
    "Whether a copy or a reference is returned for a setting operation, may depend on the context. This is sometimes called `chained assignment` and should be avoided.\n",
    ":::\n",
    "\n",
    "\n",
    "Pandas provides a suite of methods in order to get purely integer-based indexing. The semantics follow closely Python and NumPy slicing. These are 0-based indexing. When slicing, the start bound is included, while the upper bound is excluded. Trying to use a non-integer, even a valid label will raise an `IndexError`.\n",
    "\n",
    "The `.iloc` attribute is the primary access method. The following are valid inputs:\n",
    "\n",
    "- An integer e.g. `5`.\n",
    "\n",
    "- A list or array of integers `[4, 3, 0]`.\n",
    "\n",
    "- A slice object with ints `1:7`.\n",
    "\n",
    "- A boolean array.\n",
    "\n",
    "- A `callable`."
   ]
  },
  {
   "cell_type": "code",
   "execution_count": null,
   "id": "9c16f952",
   "metadata": {},
   "outputs": [],
   "source": [
    "s1 = pd.Series(np.random.randn(5), index=list(range(0, 10, 2)))\n",
    "s1\n",
    "s1.iloc[:3]"
   ]
  },
  {
   "cell_type": "code",
   "execution_count": null,
   "id": "f7f8aa5a",
   "metadata": {
    "attributes": {
     "classes": [
      "code-cell"
     ],
     "id": ""
    }
   },
   "outputs": [],
   "source": [
    "from IPython.display import HTML\n",
    "<div class='full-width docutils' >\n",
    "  <div class=\"admonition note pandastutor\" name=\"html-admonition\" style=\"margin-right:20%\">\n",
    "    <p class=\"admonition-title pandastutor\">Let's visualize it! 🎥</p>\n",
    "    <div class=\"pandastutor inner\" style=\"height:600px;\">\n",
    "      <iframe frameborder=\"0\" scrolling=\"no\" src=\"https://pandastutor.com/vis.html#code=import%20pandas%20as%20pd%0Aimport%20io%0Aimport%20numpy%20as%20np%0Aimport%20random%0Anp.random.seed%2810%29%0As1%20%3D%20pd.Series%28np.random.randn%285%29,%20index%3Dlist%28range%280,%2010,%202%29%29%29%0As1.iloc%5B%3A3%5D&d=2023-07-14&lang=py&v=v1\"> </iframe>\n",
    "    </div>\n",
    "  </div>\n",
    "</div>\n",
    "display(HTML(\"\"\"\n",
    "\n",
    "\"\"\"))"
   ]
  },
  {
   "cell_type": "code",
   "execution_count": null,
   "id": "093d8789",
   "metadata": {},
   "outputs": [],
   "source": [
    "s1.iloc[3]"
   ]
  },
  {
   "cell_type": "code",
   "execution_count": null,
   "id": "33bb9eb7",
   "metadata": {
    "attributes": {
     "classes": [
      "code-cell"
     ],
     "id": ""
    },
    "editable": true,
    "slideshow": {
     "slide_type": ""
    },
    "tags": [
     "hide-input",
     "output-scroll"
    ]
   },
   "outputs": [],
   "source": [
    "from IPython.display import HTML\n",
    "<div class='full-width docutils' >\n",
    "  <div class=\"admonition note pandastutor\" name=\"html-admonition\" style=\"margin-right:20%\">\n",
    "    <p class=\"admonition-title pandastutor\">Let's visualize it! 🎥</p>\n",
    "    <div class=\"pandastutor inner\" style=\"height:600px;\">\n",
    "      <iframe frameborder=\"0\" scrolling=\"no\" src=\"https://pandastutor.com/vis.html#code=import%20pandas%20as%20pd%0Aimport%20io%0Aimport%20numpy%20as%20np%0Aimport%20random%0Anp.random.seed%2810%29%0As1%20%3D%20pd.Series%28np.random.randn%285%29,%20index%3Dlist%28range%280,%2010,%202%29%29%29%0As1.iloc%5B3%5D&d=2023-07-14&lang=py&v=v1\"> </iframe>\n",
    "    </div>\n",
    "  </div>\n",
    "</div>\n",
    "display(HTML(\"\"\"\n",
    "\n",
    "\"\"\"))"
   ]
  },
  {
   "cell_type": "markdown",
   "id": "60b2ab7f",
   "metadata": {},
   "source": [
    "Note that setting works as well:"
   ]
  },
  {
   "cell_type": "code",
   "execution_count": null,
   "id": "dd222295",
   "metadata": {},
   "outputs": [],
   "source": [
    "s1.iloc[:3] = 0\n",
    "s1"
   ]
  },
  {
   "cell_type": "code",
   "execution_count": null,
   "id": "fdc1f637",
   "metadata": {
    "attributes": {
     "classes": [
      "code-cell"
     ],
     "id": ""
    },
    "editable": true,
    "slideshow": {
     "slide_type": ""
    },
    "tags": [
     "hide-input",
     "output-scroll"
    ]
   },
   "outputs": [],
   "source": [
    "from IPython.display import HTML\n",
    "<div class='full-width docutils' >\n",
    "  <div class=\"admonition note pandastutor\" name=\"html-admonition\" style=\"margin-right:20%\">\n",
    "    <p class=\"admonition-title pandastutor\">Let's visualize it! 🎥</p>\n",
    "    <div class=\"pandastutor inner\" style=\"height:620px;\">\n",
    "      <iframe frameborder=\"0\" scrolling=\"no\" src=\"https://pandastutor.com/vis.html#code=import%20pandas%20as%20pd%0Aimport%20io%0Aimport%20numpy%20as%20np%0Aimport%20random%0Anp.random.seed%2810%29%0As1%20%3D%20pd.Series%28np.random.randn%285%29,%20index%3Dlist%28range%280,%2010,%202%29%29%29%0As1.iloc%5B%3A3%5D%20%3D%200%0As1&d=2023-07-14&lang=py&v=v1\"> </iframe>\n",
    "    </div>\n",
    "  </div>\n",
    "</div>\n",
    "display(HTML(\"\"\"\n",
    "\n",
    "\"\"\"))"
   ]
  },
  {
   "cell_type": "markdown",
   "id": "7cef68fb",
   "metadata": {},
   "source": [
    "With a DataFrame,Select via integer slicing:"
   ]
  },
  {
   "cell_type": "code",
   "execution_count": null,
   "id": "559695b9",
   "metadata": {},
   "outputs": [],
   "source": [
    "df1 = pd.DataFrame(np.random.randn(6, 4),\n",
    "                   index=list(range(0, 12, 2)),\n",
    "                   columns=list(range(0, 8, 2)))\n",
    "df1\n",
    "df1.iloc[:3]"
   ]
  },
  {
   "cell_type": "code",
   "execution_count": null,
   "id": "1c58dfd0",
   "metadata": {
    "attributes": {
     "classes": [
      "code-cell"
     ],
     "id": ""
    },
    "editable": true,
    "slideshow": {
     "slide_type": ""
    },
    "tags": [
     "hide-input",
     "output-scroll"
    ]
   },
   "outputs": [],
   "source": [
    "from IPython.display import HTML\n",
    "<div class='full-width docutils' >\n",
    "  <div class=\"admonition note pandastutor\" name=\"html-admonition\" style=\"margin-right:20%\">\n",
    "    <p class=\"admonition-title pandastutor\">Let's visualize it! 🎥</p>\n",
    "    <div class=\"pandastutor inner\" style=\"height:680px;\">\n",
    "      <iframe frameborder=\"0\" scrolling=\"no\" src=\"https://pandastutor.com/vis.html#code=import%20pandas%20as%20pd%0Aimport%20io%0Aimport%20numpy%20as%20np%0Aimport%20random%0Anp.random.seed%2810%29%0Adf1%20%3D%20pd.DataFrame%28np.random.randn%286,%204%29,%0A%20%20%20%20%20%20%20%20%20%20%20%20%20%20%20%20%20%20%20index%3Dlist%28range%280,%2012,%202%29%29,%0A%20%20%20%20%20%20%20%20%20%20%20%20%20%20%20%20%20%20%20columns%3Dlist%28range%280,%208,%202%29%29%29%0Adf1%0Adf1.iloc%5B%3A3%5D&d=2023-07-14&lang=py&v=v1\"> </iframe>\n",
    "    </div>\n",
    "  </div>\n",
    "</div>\n",
    "display(HTML(\"\"\"\n",
    "\n",
    "\"\"\"))"
   ]
  },
  {
   "cell_type": "code",
   "execution_count": null,
   "id": "c406d977",
   "metadata": {},
   "outputs": [],
   "source": [
    "df1.iloc[1:5, 2:4]"
   ]
  },
  {
   "cell_type": "code",
   "execution_count": null,
   "id": "c938ead7",
   "metadata": {
    "attributes": {
     "classes": [
      "code-cell"
     ],
     "id": ""
    },
    "editable": true,
    "slideshow": {
     "slide_type": ""
    },
    "tags": [
     "hide-input",
     "output-scroll"
    ]
   },
   "outputs": [],
   "source": [
    "from IPython.display import HTML\n",
    "<div class='full-width docutils' >\n",
    "  <div class=\"admonition note pandastutor\" name=\"html-admonition\" style=\"margin-right:20%\">\n",
    "    <p class=\"admonition-title pandastutor\">Let's visualize it! 🎥</p>\n",
    "    <div class=\"pandastutor inner\" style=\"height:700px;\">\n",
    "      <iframe frameborder=\"0\" scrolling=\"no\" src=\"https://pandastutor.com/vis.html#code=import%20pandas%20as%20pd%0Aimport%20io%0Aimport%20numpy%20as%20np%0Aimport%20random%0Anp.random.seed%2810%29%0Adf1%20%3D%20pd.DataFrame%28np.random.randn%286,%204%29,%0A%20%20%20%20%20%20%20%20%20%20%20%20%20%20%20%20%20%20%20index%3Dlist%28range%280,%2012,%202%29%29,%0A%20%20%20%20%20%20%20%20%20%20%20%20%20%20%20%20%20%20%20columns%3Dlist%28range%280,%208,%202%29%29%29%0Adf1%0Adf1.iloc%5B1%3A5,%202%3A4%5D&d=2023-07-14&lang=py&v=v1\"> </iframe>\n",
    "    </div>\n",
    "  </div>\n",
    "</div>\n",
    "display(HTML(\"\"\"\n",
    "\n",
    "\"\"\"))"
   ]
  },
  {
   "cell_type": "markdown",
   "id": "f6796885",
   "metadata": {},
   "source": [
    "Select via integer list:"
   ]
  },
  {
   "cell_type": "code",
   "execution_count": null,
   "id": "7e159a1a",
   "metadata": {},
   "outputs": [],
   "source": [
    "df1.iloc[[1, 3, 5], [1, 3]]"
   ]
  },
  {
   "cell_type": "code",
   "execution_count": null,
   "id": "4aef3553",
   "metadata": {
    "attributes": {
     "classes": [
      "code-cell"
     ],
     "id": ""
    },
    "editable": true,
    "slideshow": {
     "slide_type": ""
    },
    "tags": [
     "hide-input",
     "output-scroll"
    ]
   },
   "outputs": [],
   "source": [
    "from IPython.display import HTML\n",
    "<div class='full-width docutils' >\n",
    "  <div class=\"admonition note pandastutor\" name=\"html-admonition\" style=\"margin-right:20%\">\n",
    "    <p class=\"admonition-title pandastutor\">Let's visualize it! 🎥</p>\n",
    "    <div class=\"pandastutor inner\" style=\"height:700px;\">\n",
    "      <iframe frameborder=\"0\" scrolling=\"no\" src=\"https://pandastutor.com/vis.html#code=import%20pandas%20as%20pd%0Aimport%20io%0Aimport%20numpy%20as%20np%0Aimport%20random%0Anp.random.seed%2810%29%0Adf1%20%3D%20pd.DataFrame%28np.random.randn%286,%204%29,%0A%20%20%20%20%20%20%20%20%20%20%20%20%20%20%20%20%20%20%20index%3Dlist%28range%280,%2012,%202%29%29,%0A%20%20%20%20%20%20%20%20%20%20%20%20%20%20%20%20%20%20%20columns%3Dlist%28range%280,%208,%202%29%29%29%0Adf1%0Adf1.iloc%5B%5B1,%203,%205%5D,%20%5B1,%203%5D%5D&d=2023-07-14&lang=py&v=v1\"> </iframe>\n",
    "    </div>\n",
    "  </div>\n",
    "</div>\n",
    "display(HTML(\"\"\"\n",
    "\n",
    "\"\"\"))"
   ]
  },
  {
   "cell_type": "code",
   "execution_count": null,
   "id": "299e0f2c",
   "metadata": {},
   "outputs": [],
   "source": [
    "df1.iloc[1:3, :]"
   ]
  },
  {
   "cell_type": "code",
   "execution_count": null,
   "id": "fc46d348",
   "metadata": {
    "attributes": {
     "classes": [
      "code-cell"
     ],
     "id": ""
    },
    "editable": true,
    "slideshow": {
     "slide_type": ""
    },
    "tags": [
     "hide-input",
     "output-scroll"
    ]
   },
   "outputs": [],
   "source": [
    "from IPython.display import HTML\n",
    "<div class='full-width docutils' >\n",
    "  <div class=\"admonition note pandastutor\" name=\"html-admonition\" style=\"margin-right:20%\">\n",
    "    <p class=\"admonition-title pandastutor\">Let's visualize it! 🎥</p>\n",
    "    <div class=\"pandastutor inner\" style=\"height:680px;\">\n",
    "      <iframe frameborder=\"0\" scrolling=\"no\" src=\"https://pandastutor.com/vis.html#code=import%20pandas%20as%20pd%0Aimport%20io%0Aimport%20numpy%20as%20np%0Aimport%20random%0Anp.random.seed%2810%29%0Adf1%20%3D%20pd.DataFrame%28np.random.randn%286,%204%29,%0A%20%20%20%20%20%20%20%20%20%20%20%20%20%20%20%20%20%20%20index%3Dlist%28range%280,%2012,%202%29%29,%0A%20%20%20%20%20%20%20%20%20%20%20%20%20%20%20%20%20%20%20columns%3Dlist%28range%280,%208,%202%29%29%29%0Adf1%0Adf1.iloc%5B1%3A3,%20%3A%5D&d=2023-07-14&lang=py&v=v1\"> </iframe>\n",
    "    </div>\n",
    "  </div>\n",
    "</div>\n",
    "display(HTML(\"\"\"\n",
    "\n",
    "\"\"\"))"
   ]
  },
  {
   "cell_type": "code",
   "execution_count": null,
   "id": "496d00bf",
   "metadata": {},
   "outputs": [],
   "source": [
    "df1.iloc[:, 1:3]"
   ]
  },
  {
   "cell_type": "code",
   "execution_count": null,
   "id": "d892d1a4",
   "metadata": {
    "attributes": {
     "classes": [
      "code-cell"
     ],
     "id": ""
    }
   },
   "outputs": [],
   "source": [
    "from IPython.display import HTML\n",
    "<div class='full-width docutils' >\n",
    "  <div class=\"admonition note pandastutor\" name=\"html-admonition\" style=\"margin-right:20%\">\n",
    "    <p class=\"admonition-title pandastutor\">Let's visualize it! 🎥</p>\n",
    "    <div class=\"pandastutor inner\" style=\"height:700px;\">\n",
    "      <iframe frameborder=\"0\" scrolling=\"no\" src=\"https://pandastutor.com/vis.html#code=import%20pandas%20as%20pd%0Aimport%20io%0Aimport%20numpy%20as%20np%0Aimport%20random%0Anp.random.seed%2810%29%0Adf1%20%3D%20pd.DataFrame%28np.random.randn%286,%204%29,%0A%20%20%20%20%20%20%20%20%20%20%20%20%20%20%20%20%20%20%20index%3Dlist%28range%280,%2012,%202%29%29,%0A%20%20%20%20%20%20%20%20%20%20%20%20%20%20%20%20%20%20%20columns%3Dlist%28range%280,%208,%202%29%29%29%0Adf1%0Adf1.iloc%5B%3A,%201%3A3%5D&d=2023-07-14&lang=py&v=v1\"> </iframe>\n",
    "    </div>\n",
    "  </div>\n",
    "</div>\n",
    "display(HTML(\"\"\"\n",
    "\n",
    "\"\"\"))"
   ]
  },
  {
   "cell_type": "code",
   "execution_count": null,
   "id": "b82d2846",
   "metadata": {},
   "outputs": [],
   "source": [
    "df1.iloc[1, 1] # this is also equivalent to ``df1.iat[1,1]``"
   ]
  },
  {
   "cell_type": "code",
   "execution_count": null,
   "id": "e2777cae",
   "metadata": {
    "attributes": {
     "classes": [
      "code-cell"
     ],
     "id": ""
    }
   },
   "outputs": [],
   "source": [
    "from IPython.display import HTML\n",
    "<div class='full-width docutils' >\n",
    "  <div class=\"admonition note pandastutor\" name=\"html-admonition\" style=\"margin-right:20%\">\n",
    "    <p class=\"admonition-title pandastutor\">Let's visualize it! 🎥</p>\n",
    "    <div class=\"pandastutor inner\" style=\"height:680px;\">\n",
    "      <iframe frameborder=\"0\" scrolling=\"no\" src=\"https://pandastutor.com/vis.html#code=import%20pandas%20as%20pd%0Aimport%20io%0Aimport%20numpy%20as%20np%0Aimport%20random%0Anp.random.seed%2810%29%0Adf1%20%3D%20pd.DataFrame%28np.random.randn%286,%204%29,%0A%20%20%20%20%20%20%20%20%20%20%20%20%20%20%20%20%20%20%20index%3Dlist%28range%280,%2012,%202%29%29,%0A%20%20%20%20%20%20%20%20%20%20%20%20%20%20%20%20%20%20%20columns%3Dlist%28range%280,%208,%202%29%29%29%0Adf1%0Adf1.iloc%5B1,%201%5D&d=2023-07-14&lang=py&v=v1\"> </iframe>\n",
    "    </div>\n",
    "  </div>\n",
    "</div>\n",
    "display(HTML(\"\"\"\n",
    "\n",
    "\"\"\"))"
   ]
  },
  {
   "cell_type": "markdown",
   "id": "e882905c",
   "metadata": {},
   "source": [
    "For getting a cross-section using an integer position (equiv to `df.xs(1)`):"
   ]
  },
  {
   "cell_type": "code",
   "execution_count": null,
   "id": "cf49c7e7",
   "metadata": {},
   "outputs": [],
   "source": [
    "df1.iloc[1]"
   ]
  },
  {
   "cell_type": "code",
   "execution_count": null,
   "id": "f0dff48f",
   "metadata": {
    "attributes": {
     "classes": [
      "code-cell"
     ],
     "id": ""
    }
   },
   "outputs": [],
   "source": [
    "from IPython.display import HTML\n",
    "<div class='full-width docutils' >\n",
    "  <div class=\"admonition note pandastutor\" name=\"html-admonition\" style=\"margin-right:20%\">\n",
    "    <p class=\"admonition-title pandastutor\">Let's visualize it! 🎥</p>\n",
    "    <div class=\"pandastutor inner\" style=\"height:700px;\">\n",
    "      <iframe frameborder=\"0\" scrolling=\"no\" src=\"https://pandastutor.com/vis.html#code=import%20pandas%20as%20pd%0Aimport%20io%0Aimport%20numpy%20as%20np%0Aimport%20random%0Anp.random.seed%2810%29%0Adf1%20%3D%20pd.DataFrame%28np.random.randn%286,%204%29,%0A%20%20%20%20%20%20%20%20%20%20%20%20%20%20%20%20%20%20%20index%3Dlist%28range%280,%2012,%202%29%29,%0A%20%20%20%20%20%20%20%20%20%20%20%20%20%20%20%20%20%20%20columns%3Dlist%28range%280,%208,%202%29%29%29%0Adf1%0Adf1.iloc%5B1%5D&d=2023-07-14&lang=py&v=v1\"> </iframe>\n",
    "    </div>\n",
    "  </div>\n",
    "</div>\n",
    "display(HTML(\"\"\"\n",
    "\n",
    "\"\"\"))"
   ]
  },
  {
   "cell_type": "markdown",
   "id": "914d0e31",
   "metadata": {},
   "source": [
    "Out-of-range slice indexes are handled gracefully just as in Python/NumPy."
   ]
  },
  {
   "cell_type": "code",
   "execution_count": null,
   "id": "ca792701",
   "metadata": {
    "attributes": {
     "classes": [
      "code-cell"
     ],
     "id": ""
    }
   },
   "outputs": [],
   "source": [
    "x = list('abcdef') # these are allowed in Python/NumPy.\n",
    "x"
   ]
  },
  {
   "cell_type": "code",
   "execution_count": null,
   "id": "45aab33c",
   "metadata": {
    "attributes": {
     "classes": [
      "code-cell"
     ],
     "id": ""
    }
   },
   "outputs": [],
   "source": [
    "x[4:10]"
   ]
  },
  {
   "cell_type": "code",
   "execution_count": null,
   "id": "9afca44f",
   "metadata": {
    "attributes": {
     "classes": [
      "code-cell"
     ],
     "id": ""
    }
   },
   "outputs": [],
   "source": [
    "x[8:10]"
   ]
  },
  {
   "cell_type": "code",
   "execution_count": null,
   "id": "3c124b77",
   "metadata": {
    "attributes": {
     "classes": [
      "code-cell"
     ],
     "id": ""
    }
   },
   "outputs": [],
   "source": [
    "s = pd.Series(x)\n",
    "s"
   ]
  },
  {
   "cell_type": "code",
   "execution_count": null,
   "id": "f7090757",
   "metadata": {},
   "outputs": [],
   "source": [
    "s.iloc[4:10]"
   ]
  },
  {
   "cell_type": "code",
   "execution_count": null,
   "id": "1ec95962",
   "metadata": {
    "attributes": {
     "classes": [
      "code-cell"
     ],
     "id": ""
    }
   },
   "outputs": [],
   "source": [
    "from IPython.display import HTML\n",
    "<div class='full-width docutils' >\n",
    "  <div class=\"admonition note pandastutor\" name=\"html-admonition\" style=\"margin-right:20%\">\n",
    "    <p class=\"admonition-title pandastutor\">Let's visualize it! 🎥</p>\n",
    "    <div class=\"pandastutor inner\" style=\"height:600px;\">\n",
    "      <iframe frameborder=\"0\" scrolling=\"no\" src=\"https://pandastutor.com/vis.html#code=import%20pandas%20as%20pd%0Aimport%20io%0Ax%20%3D%20list%28'abcdef'%29%20%0As%20%3D%20pd.Series%28x%29%0As.iloc%5B4%3A10%5D&d=2023-07-14&lang=py&v=v1\"> </iframe>\n",
    "    </div>\n",
    "  </div>\n",
    "</div>\n",
    "display(HTML(\"\"\"\n",
    "\n",
    "\"\"\"))"
   ]
  },
  {
   "cell_type": "code",
   "execution_count": null,
   "id": "1a13b70b",
   "metadata": {
    "attributes": {
     "classes": [
      "code-cell"
     ],
     "id": ""
    }
   },
   "outputs": [],
   "source": [
    "s.iloc[8:10]"
   ]
  },
  {
   "cell_type": "markdown",
   "id": "fd39caf3",
   "metadata": {},
   "source": [
    "Note that using slices that go out of bounds can result in an empty axis (e.g. an empty DataFrame being returned)."
   ]
  },
  {
   "cell_type": "code",
   "execution_count": null,
   "id": "07e25ad8",
   "metadata": {
    "attributes": {
     "classes": [
      "code-cell"
     ],
     "id": ""
    }
   },
   "outputs": [],
   "source": [
    "dfl = pd.DataFrame(np.random.randn(5, 2), columns=list('AB'))"
   ]
  },
  {
   "cell_type": "code",
   "execution_count": null,
   "id": "039b1476",
   "metadata": {},
   "outputs": [],
   "source": [
    "dfl.iloc[:, 2:3]"
   ]
  },
  {
   "cell_type": "code",
   "execution_count": null,
   "id": "ee04b7e1",
   "metadata": {
    "attributes": {
     "classes": [
      "code-cell"
     ],
     "id": ""
    }
   },
   "outputs": [],
   "source": [
    "from IPython.display import HTML\n",
    "<div class='full-width docutils' >\n",
    "  <div class=\"admonition note pandastutor\" name=\"html-admonition\" style=\"margin-right:20%\">\n",
    "    <p class=\"admonition-title pandastutor\">Let's visualize it! 🎥</p>\n",
    "    <div class=\"pandastutor inner\" style=\"height:630px;\">\n",
    "      <iframe frameborder=\"0\" scrolling=\"no\" src=\"https://pandastutor.com/vis.html#code=import%20pandas%20as%20pd%0Aimport%20io%0Aimport%20numpy%20as%20np%0Aimport%20random%20%0Anp.random.seed%2810%29%0Adfl%20%3D%20pd.DataFrame%28np.random.randn%285,%202%29,%20columns%3Dlist%28'AB'%29%29%0Adfl%0Adfl.iloc%5B%3A,%202%3A3%5D&d=2023-07-14&lang=py&v=v1\"> </iframe>\n",
    "    </div>\n",
    "  </div>\n",
    "</div>\n",
    "display(HTML(\"\"\"\n",
    "\n",
    "\"\"\"))"
   ]
  },
  {
   "cell_type": "code",
   "execution_count": null,
   "id": "81b9581b",
   "metadata": {},
   "outputs": [],
   "source": [
    "dfl.iloc[:, 1:3]"
   ]
  },
  {
   "cell_type": "code",
   "execution_count": null,
   "id": "37eb473a",
   "metadata": {
    "attributes": {
     "classes": [
      "code-cell"
     ],
     "id": ""
    }
   },
   "outputs": [],
   "source": [
    "from IPython.display import HTML\n",
    "<div class='full-width docutils' >\n",
    "  <div class=\"admonition note pandastutor\" name=\"html-admonition\" style=\"margin-right:20%\">\n",
    "    <p class=\"admonition-title pandastutor\">Let's visualize it! 🎥</p>\n",
    "    <div class=\"pandastutor inner\" style=\"height:630px;\">\n",
    "      <iframe frameborder=\"0\" scrolling=\"no\" src=\"https://pandastutor.com/vis.html#code=import%20pandas%20as%20pd%0Aimport%20io%0Aimport%20numpy%20as%20np%0Aimport%20random%20%0Anp.random.seed%2810%29%0Adfl%20%3D%20pd.DataFrame%28np.random.randn%285,%202%29,%20columns%3Dlist%28'AB'%29%29%0Adfl.iloc%5B%3A,%201%3A3%5D&d=2023-07-14&lang=py&v=v1\"> </iframe>\n",
    "    </div>\n",
    "  </div>\n",
    "</div>\n",
    "display(HTML(\"\"\"\n",
    "\n",
    "\"\"\"))"
   ]
  },
  {
   "cell_type": "code",
   "execution_count": null,
   "id": "1d789c94",
   "metadata": {},
   "outputs": [],
   "source": [
    "dfl.iloc[4:6]"
   ]
  },
  {
   "cell_type": "code",
   "execution_count": null,
   "id": "45a9d7d2",
   "metadata": {
    "attributes": {
     "classes": [
      "code-cell"
     ],
     "id": ""
    }
   },
   "outputs": [],
   "source": [
    "from IPython.display import HTML\n",
    "<div class='full-width docutils' >\n",
    "  <div class=\"admonition note pandastutor\" name=\"html-admonition\" style=\"margin-right:20%\">\n",
    "    <p class=\"admonition-title pandastutor\">Let's visualize it! 🎥</p>\n",
    "    <div class=\"pandastutor inner\" style=\"height:600px;\">\n",
    "      <iframe frameborder=\"0\" scrolling=\"no\" src=\"https://pandastutor.com/vis.html#code=import%20pandas%20as%20pd%0Aimport%20io%0Aimport%20numpy%20as%20np%0Aimport%20random%20%0Anp.random.seed%2810%29%0Adfl%20%3D%20pd.DataFrame%28np.random.randn%285,%202%29,%20columns%3Dlist%28'AB'%29%29%0Adfl.iloc%5B4%3A6%5D&d=2023-07-14&lang=py&v=v1\"> </iframe>\n",
    "    </div>\n",
    "  </div>\n",
    "</div>\n",
    "display(HTML(\"\"\"\n",
    "\n",
    "\"\"\"))"
   ]
  },
  {
   "cell_type": "markdown",
   "id": "577e30e7",
   "metadata": {},
   "source": [
    "A single indexer that is out of bounds will raise an `IndexError`. A list of indexers where any element is out of bounds will raise an `IndexError`."
   ]
  },
  {
   "cell_type": "code",
   "execution_count": null,
   "id": "6dc7aa99",
   "metadata": {
    "attributes": {
     "classes": [
      "code-cell"
     ],
     "id": ""
    }
   },
   "outputs": [],
   "source": [
    ":tags: [\"raises-exception\"]\n",
    "dfl.iloc[[4, 5, 6]]"
   ]
  },
  {
   "cell_type": "code",
   "execution_count": null,
   "id": "9ca82ddb",
   "metadata": {
    "attributes": {
     "classes": [
      "code-cell"
     ],
     "id": ""
    }
   },
   "outputs": [],
   "source": [
    ":tags: [\"raises-exception\"]\n",
    "dfl.iloc[:, 4]"
   ]
  },
  {
   "cell_type": "markdown",
   "id": "e1d2a5e2",
   "metadata": {},
   "source": [
    "### Selection by callable\n",
    "\n",
    "`.loc`, `.iloc`, and also `[]` indexing can accept a `callable` as indexer. The `callable` must be a function with one argument (the calling Series or DataFrame) that returns valid output for indexing."
   ]
  },
  {
   "cell_type": "code",
   "execution_count": null,
   "id": "a9ee44fe",
   "metadata": {},
   "outputs": [],
   "source": [
    "df1 = pd.DataFrame(np.random.randn(6, 4),\n",
    "                   index=list('abcdef'),\n",
    "                   columns=list('ABCD'))\n",
    "df1\n",
    "df1.loc[lambda df: df['A'] > 0, :]"
   ]
  },
  {
   "cell_type": "code",
   "execution_count": null,
   "id": "cf8f0297",
   "metadata": {
    "attributes": {
     "classes": [
      "code-cell"
     ],
     "id": ""
    }
   },
   "outputs": [],
   "source": [
    "from IPython.display import HTML\n",
    "<div class='full-width docutils' >\n",
    "  <div class=\"admonition note pandastutor\" name=\"html-admonition\" style=\"margin-right:20%\">\n",
    "    <p class=\"admonition-title pandastutor\">Let's visualize it! 🎥</p>\n",
    "    <div class=\"pandastutor inner\" style=\"height:700px;\">\n",
    "      <iframe frameborder=\"0\" scrolling=\"no\" src=\"https://pandastutor.com/vis.html#code=import%20pandas%20as%20pd%0Aimport%20io%0Aimport%20numpy%20as%20np%0Aimport%20random%20%0Anp.random.seed%2810%29%0Adf1%20%3D%20pd.DataFrame%28np.random.randn%286,%204%29,%0A%20%20%20%20%20%20%20%20%20%20%20%20%20%20%20%20%20%20%20index%3Dlist%28'abcdef'%29,%0A%20%20%20%20%20%20%20%20%20%20%20%20%20%20%20%20%20%20%20columns%3Dlist%28'ABCD'%29%29%0Adf1%0Adf1.loc%5Blambda%20df%3A%20df%5B'A'%5D%20%3E%200,%20%3A%5D&d=2023-07-14&lang=py&v=v1\"> </iframe>\n",
    "    </div>\n",
    "  </div>\n",
    "</div>\n",
    "display(HTML(\"\"\"\n",
    "\n",
    "\"\"\"))"
   ]
  },
  {
   "cell_type": "code",
   "execution_count": null,
   "id": "9e632f6a",
   "metadata": {},
   "outputs": [],
   "source": [
    "df1.loc[:, lambda df: ['A', 'B']]"
   ]
  },
  {
   "cell_type": "code",
   "execution_count": null,
   "id": "32f4edd4",
   "metadata": {
    "attributes": {
     "classes": [
      "code-cell"
     ],
     "id": ""
    }
   },
   "outputs": [],
   "source": [
    "from IPython.display import HTML\n",
    "<div class='full-width docutils' >\n",
    "  <div class=\"admonition note pandastutor\" name=\"html-admonition\" style=\"margin-right:20%\">\n",
    "    <p class=\"admonition-title pandastutor\">Let's visualize it! 🎥</p>\n",
    "    <div class=\"pandastutor inner\" style=\"height:700px;\">\n",
    "      <iframe frameborder=\"0\" scrolling=\"no\" src=\"https://pandastutor.com/vis.html#code=import%20pandas%20as%20pd%0Aimport%20io%0Aimport%20numpy%20as%20np%0Aimport%20random%0Anp.random.seed%2810%29%0Adf1%20%3D%20pd.DataFrame%28np.random.randn%286,%204%29,%0A%20%20%20%20%20%20%20%20%20%20%20%20%20%20%20%20%20%20%20index%3Dlist%28'abcdef'%29,%0A%20%20%20%20%20%20%20%20%20%20%20%20%20%20%20%20%20%20%20columns%3Dlist%28'ABCD'%29%29%0Adf1.loc%5B%3A,%20lambda%20df%3A%20%5B'A',%20'B'%5D%5D&d=2023-07-14&lang=py&v=v1\"> </iframe>\n",
    "    </div>\n",
    "  </div>\n",
    "</div>\n",
    "display(HTML(\"\"\"\n",
    "\n",
    "\"\"\"))"
   ]
  },
  {
   "cell_type": "code",
   "execution_count": null,
   "id": "d9df6b56",
   "metadata": {},
   "outputs": [],
   "source": [
    "df1.iloc[:, lambda df: [0, 1]]"
   ]
  },
  {
   "cell_type": "code",
   "execution_count": null,
   "id": "d34d6321",
   "metadata": {
    "attributes": {
     "classes": [
      "code-cell"
     ],
     "id": ""
    }
   },
   "outputs": [],
   "source": [
    "from IPython.display import HTML\n",
    "<div class='full-width docutils' >\n",
    "  <div class=\"admonition note pandastutor\" name=\"html-admonition\" style=\"margin-right:20%\">\n",
    "    <p class=\"admonition-title pandastutor\">Let's visualize it! 🎥</p>\n",
    "    <div class=\"pandastutor inner\" style=\"height:700px;\">\n",
    "      <iframe frameborder=\"0\" scrolling=\"no\" src=\"https://pandastutor.com/vis.html#code=import%20pandas%20as%20pd%0Aimport%20io%0Aimport%20numpy%20as%20np%0Aimport%20random%0Anp.random.seed%2810%29%0Adf1%20%3D%20pd.DataFrame%28np.random.randn%286,%204%29,%0A%20%20%20%20%20%20%20%20%20%20%20%20%20%20%20%20%20%20%20index%3Dlist%28'abcdef'%29,%0A%20%20%20%20%20%20%20%20%20%20%20%20%20%20%20%20%20%20%20columns%3Dlist%28'ABCD'%29%29%0Adf1.iloc%5B%3A,%20lambda%20df%3A%20%5B0,%201%5D%5D&d=2023-07-14&lang=py&v=v1\"> </iframe>\n",
    "    </div>\n",
    "  </div>\n",
    "</div>\n",
    "display(HTML(\"\"\"\n",
    "\n",
    "\"\"\"))"
   ]
  },
  {
   "cell_type": "code",
   "execution_count": null,
   "id": "375f1549",
   "metadata": {},
   "outputs": [],
   "source": [
    "df1[lambda df: df.columns[0]]"
   ]
  },
  {
   "cell_type": "code",
   "execution_count": null,
   "id": "7bfcffe0",
   "metadata": {
    "attributes": {
     "classes": [
      "code-cell"
     ],
     "id": ""
    }
   },
   "outputs": [],
   "source": [
    "from IPython.display import HTML\n",
    "<div class='full-width docutils' >\n",
    "  <div class=\"admonition note pandastutor\" name=\"html-admonition\" style=\"margin-right:20%\">\n",
    "    <p class=\"admonition-title pandastutor\">Let's visualize it! 🎥</p>\n",
    "    <div class=\"pandastutor inner\" style=\"height:650px;\">\n",
    "      <iframe frameborder=\"0\" scrolling=\"no\" src=\"https://pandastutor.com/vis.html#code=import%20pandas%20as%20pd%0Aimport%20io%0Aimport%20numpy%20as%20np%0Aimport%20random%0Anp.random.seed%2810%29%0Adf1%20%3D%20pd.DataFrame%28np.random.randn%286,%204%29,%0A%20%20%20%20%20%20%20%20%20%20%20%20%20%20%20%20%20%20%20index%3Dlist%28'abcdef'%29,%0A%20%20%20%20%20%20%20%20%20%20%20%20%20%20%20%20%20%20%20columns%3Dlist%28'ABCD'%29%29%0Adf1%5Blambda%20df%3A%20df.columns%5B0%5D%5D&d=2023-07-14&lang=py&v=v1\"> </iframe>\n",
    "    </div>\n",
    "  </div>\n",
    "</div>\n",
    "display(HTML(\"\"\"\n",
    "\n",
    "\"\"\"))"
   ]
  },
  {
   "cell_type": "markdown",
   "id": "55d21dc1",
   "metadata": {},
   "source": [
    "You can use callable indexing in `Series`."
   ]
  },
  {
   "cell_type": "code",
   "execution_count": null,
   "id": "c601c606",
   "metadata": {},
   "outputs": [],
   "source": [
    "df1['A'].loc[lambda s: s > 0]"
   ]
  },
  {
   "cell_type": "code",
   "execution_count": null,
   "id": "0908d93a",
   "metadata": {
    "attributes": {
     "classes": [
      "code-cell"
     ],
     "id": ""
    }
   },
   "outputs": [],
   "source": [
    "from IPython.display import HTML\n",
    "<div class='full-width docutils' >\n",
    "  <div class=\"admonition note pandastutor\" name=\"html-admonition\" style=\"margin-right:20%\">\n",
    "    <p class=\"admonition-title pandastutor\">Let's visualize it! 🎥</p>\n",
    "    <div class=\"pandastutor inner\" style=\"height:920px;\">\n",
    "      <iframe frameborder=\"0\" scrolling=\"no\" src=\"https://pandastutor.com/vis.html#code=import%20pandas%20as%20pd%0Aimport%20io%0Aimport%20numpy%20as%20np%0Aimport%20random%0Anp.random.seed%2810%29%0Adf1%20%3D%20pd.DataFrame%28np.random.randn%286,%204%29,%0A%20%20%20%20%20%20%20%20%20%20%20%20%20%20%20%20%20%20%20index%3Dlist%28'abcdef'%29,%0A%20%20%20%20%20%20%20%20%20%20%20%20%20%20%20%20%20%20%20columns%3Dlist%28'ABCD'%29%29%0Adf1%5B'A'%5D.loc%5Blambda%20s%3A%20s%20%3E%200%5D&d=2023-07-14&lang=py&v=v1\"> </iframe>\n",
    "    </div>\n",
    "  </div>\n",
    "</div>\n",
    "display(HTML(\"\"\"\n",
    "\n",
    "\"\"\"))"
   ]
  },
  {
   "cell_type": "markdown",
   "id": "d0191dba",
   "metadata": {},
   "source": [
    "### Combining positional and label-based indexing\n",
    "\n",
    "If you wish to get the 0th and the 2nd elements from the index in the `'A'` column, you can do:"
   ]
  },
  {
   "cell_type": "code",
   "execution_count": null,
   "id": "41ed6ee4",
   "metadata": {},
   "outputs": [],
   "source": [
    "dfd = pd.DataFrame({'A': [1, 2, 3],\n",
    "                    'B': [4, 5, 6]},\n",
    "                   index=list('abc'))\n",
    "dfd\n",
    "dfd.loc[dfd.index[[0, 2]], 'A']"
   ]
  },
  {
   "cell_type": "code",
   "execution_count": null,
   "id": "59155aa2",
   "metadata": {
    "attributes": {
     "classes": [
      "code-cell"
     ],
     "id": ""
    }
   },
   "outputs": [],
   "source": [
    "from IPython.display import HTML\n",
    "<div class='full-width docutils' >\n",
    "  <div class=\"admonition note pandastutor\" name=\"html-admonition\" style=\"margin-right:20%\">\n",
    "    <p class=\"admonition-title pandastutor\">Let's visualize it! 🎥</p>\n",
    "    <div class=\"pandastutor inner\" style=\"height:550px;\">\n",
    "      <iframe frameborder=\"0\" scrolling=\"no\" src=\"https://pandastutor.com/vis.html#code=import%20pandas%20as%20pd%0Aimport%20io%0Adfd%20%3D%20pd.DataFrame%28%7B'A'%3A%20%5B1,%202,%203%5D,%0A%20%20%20%20%20%20%20%20%20%20%20%20%20%20%20%20%20%20%20%20'B'%3A%20%5B4,%205,%206%5D%7D,%0A%20%20%20%20%20%20%20%20%20%20%20%20%20%20%20%20%20%20%20index%3Dlist%28'abc'%29%29%0Adfd.loc%5Bdfd.index%5B%5B0,%202%5D%5D,%20'A'%5D&d=2023-07-14&lang=py&v=v1\"> </iframe>\n",
    "    </div>\n",
    "  </div>\n",
    "</div>\n",
    "display(HTML(\"\"\"\n",
    "\n",
    "\"\"\"))"
   ]
  },
  {
   "cell_type": "markdown",
   "id": "322f389f",
   "metadata": {},
   "source": [
    "This can also be expressed using `.iloc`, by explicitly getting locations on the indexers, and using positional indexing to select things."
   ]
  },
  {
   "cell_type": "code",
   "execution_count": null,
   "id": "0e96094b",
   "metadata": {},
   "outputs": [],
   "source": [
    "dfd.iloc[[0, 2], dfd.columns.get_loc('A')]"
   ]
  },
  {
   "cell_type": "code",
   "execution_count": null,
   "id": "2ce4ee5f",
   "metadata": {
    "attributes": {
     "classes": [
      "code-cell"
     ],
     "id": ""
    }
   },
   "outputs": [],
   "source": [
    "from IPython.display import HTML\n",
    "<div class='full-width docutils' >\n",
    "  <div class=\"admonition note pandastutor\" name=\"html-admonition\" style=\"margin-right:20%\">\n",
    "    <p class=\"admonition-title pandastutor\">Let's visualize it! 🎥</p>\n",
    "    <div class=\"pandastutor inner\" style=\"height:550px;\">\n",
    "      <iframe frameborder=\"0\" scrolling=\"no\" src=\"https://pandastutor.com/vis.html#code=import%20pandas%20as%20pd%0Aimport%20io%0Adfd%20%3D%20pd.DataFrame%28%7B'A'%3A%20%5B1,%202,%203%5D,%0A%20%20%20%20%20%20%20%20%20%20%20%20%20%20%20%20%20%20%20%20'B'%3A%20%5B4,%205,%206%5D%7D,%0A%20%20%20%20%20%20%20%20%20%20%20%20%20%20%20%20%20%20%20index%3Dlist%28'abc'%29%29%0Adfd.iloc%5B%5B0,%202%5D,%20dfd.columns.get_loc%28'A'%29%5D&d=2023-07-14&lang=py&v=v1\"> </iframe>\n",
    "    </div>\n",
    "  </div>\n",
    "</div>\n",
    "display(HTML(\"\"\"\n",
    "\n",
    "\"\"\"))"
   ]
  },
  {
   "cell_type": "markdown",
   "id": "48e0580e",
   "metadata": {},
   "source": [
    "For getting multiple indexers, using `.get_indexer`:"
   ]
  },
  {
   "cell_type": "code",
   "execution_count": null,
   "id": "ab84dae4",
   "metadata": {},
   "outputs": [],
   "source": [
    "dfd.iloc[[0, 2], dfd.columns.get_indexer(['A', 'B'])]"
   ]
  },
  {
   "cell_type": "code",
   "execution_count": null,
   "id": "07e6de07",
   "metadata": {
    "attributes": {
     "classes": [
      "code-cell"
     ],
     "id": ""
    }
   },
   "outputs": [],
   "source": [
    "from IPython.display import HTML\n",
    "<div class='full-width docutils' >\n",
    "  <div class=\"admonition note pandastutor\" name=\"html-admonition\" style=\"margin-right:20%\">\n",
    "    <p class=\"admonition-title pandastutor\">Let's visualize it! 🎥</p>\n",
    "    <div class=\"pandastutor inner\" style=\"height:550px;\">\n",
    "      <iframe frameborder=\"0\" scrolling=\"no\" src=\"https://pandastutor.com/vis.html#code=import%20pandas%20as%20pd%0Aimport%20io%0Adfd%20%3D%20pd.DataFrame%28%7B'A'%3A%20%5B1,%202,%203%5D,%0A%20%20%20%20%20%20%20%20%20%20%20%20%20%20%20%20%20%20%20%20'B'%3A%20%5B4,%205,%206%5D%7D,%0A%20%20%20%20%20%20%20%20%20%20%20%20%20%20%20%20%20%20%20index%3Dlist%28'abc'%29%29%0Adfd.iloc%5B%5B0,%202%5D,%20dfd.columns.get_indexer%28%5B'A',%20'B'%5D%29%5D&d=2023-07-14&lang=py&v=v1\"> </iframe>\n",
    "    </div>\n",
    "  </div>\n",
    "</div>\n",
    "display(HTML(\"\"\"\n",
    "\n",
    "\"\"\"))"
   ]
  },
  {
   "cell_type": "markdown",
   "id": "859cea00",
   "metadata": {},
   "source": [
    "## Combining datasets: concat, merge and join\n",
    "\n",
    "### concat\n",
    "\n",
    "- Concatenate Pandas objects along a particular axis.\n",
    "\n",
    "- Allows optional set logic along the other axes.\n",
    "\n",
    "- Can also add a layer of hierarchical indexing on the concatenation axis, which may be useful if the labels are the same (or overlapping) on the passed axis number.\n",
    "\n",
    "For example:\n",
    "\n",
    "Combine two `Series`."
   ]
  },
  {
   "cell_type": "code",
   "execution_count": null,
   "id": "9387604a",
   "metadata": {
    "attributes": {
     "classes": [
      "code-cell"
     ],
     "id": ""
    }
   },
   "outputs": [],
   "source": [
    "s1 = pd.Series(['a', 'b'])\n",
    "s2 = pd.Series(['c', 'd'])\n",
    "pd.concat([s1, s2])"
   ]
  },
  {
   "cell_type": "markdown",
   "id": "f2f50999",
   "metadata": {},
   "source": [
    "Clear the existing index and reset it in the result by setting the `ignore_index` option to `True`."
   ]
  },
  {
   "cell_type": "code",
   "execution_count": null,
   "id": "8c6176d4",
   "metadata": {
    "attributes": {
     "classes": [
      "code-cell"
     ],
     "id": ""
    }
   },
   "outputs": [],
   "source": [
    "pd.concat([s1, s2], ignore_index=True)"
   ]
  },
  {
   "cell_type": "markdown",
   "id": "3efbee1c",
   "metadata": {},
   "source": [
    "Add a hierarchical index at the outermost level of the data with the `keys` option."
   ]
  },
  {
   "cell_type": "code",
   "execution_count": null,
   "id": "2723c2a0",
   "metadata": {
    "attributes": {
     "classes": [
      "code-cell"
     ],
     "id": ""
    }
   },
   "outputs": [],
   "source": [
    "pd.concat([s1, s2], keys=['s1', 's2'])"
   ]
  },
  {
   "cell_type": "markdown",
   "id": "b0c1b0d1",
   "metadata": {},
   "source": [
    "Label the index keys you create with the `names` option."
   ]
  },
  {
   "cell_type": "code",
   "execution_count": null,
   "id": "0faddb86",
   "metadata": {
    "attributes": {
     "classes": [
      "code-cell"
     ],
     "id": ""
    }
   },
   "outputs": [],
   "source": [
    "pd.concat([s1, s2], keys=['s1', 's2'],\n",
    "          names=['Series name', 'Row ID'])"
   ]
  },
  {
   "cell_type": "markdown",
   "id": "b2f93c8a",
   "metadata": {},
   "source": [
    "Combine two `DataFrame` objects with identical columns."
   ]
  },
  {
   "cell_type": "code",
   "execution_count": null,
   "id": "cec1ef25",
   "metadata": {
    "attributes": {
     "classes": [
      "code-cell"
     ],
     "id": ""
    }
   },
   "outputs": [],
   "source": [
    "df1 = pd.DataFrame([['a', 1], ['b', 2]],\n",
    "                   columns=['letter', 'number'])\n",
    "df1"
   ]
  },
  {
   "cell_type": "code",
   "execution_count": null,
   "id": "77ac225a",
   "metadata": {
    "attributes": {
     "classes": [
      "code-cell"
     ],
     "id": ""
    }
   },
   "outputs": [],
   "source": [
    "df2 = pd.DataFrame([['c', 3], ['d', 4]],\n",
    "                   columns=['letter', 'number'])\n",
    "df2"
   ]
  },
  {
   "cell_type": "code",
   "execution_count": null,
   "id": "874762be",
   "metadata": {
    "attributes": {
     "classes": [
      "code-cell"
     ],
     "id": ""
    }
   },
   "outputs": [],
   "source": [
    "pd.concat([df1, df2])"
   ]
  },
  {
   "cell_type": "markdown",
   "id": "7a07ee2a",
   "metadata": {},
   "source": [
    "Combine `DataFrame` objects with overlapping columns and return everything. Columns outside the intersection will be filled with `NaN` values."
   ]
  },
  {
   "cell_type": "code",
   "execution_count": null,
   "id": "1a3922fd",
   "metadata": {
    "attributes": {
     "classes": [
      "code-cell"
     ],
     "id": ""
    }
   },
   "outputs": [],
   "source": [
    "df3 = pd.DataFrame([['c', 3, 'cat'], ['d', 4, 'dog']],\n",
    "                   columns=['letter', 'number', 'animal'])\n",
    "df3"
   ]
  },
  {
   "cell_type": "code",
   "execution_count": null,
   "id": "f0b48aac",
   "metadata": {
    "attributes": {
     "classes": [
      "code-cell"
     ],
     "id": ""
    }
   },
   "outputs": [],
   "source": [
    "pd.concat([df1, df3], sort=False)"
   ]
  },
  {
   "cell_type": "markdown",
   "id": "c0f9fe47",
   "metadata": {},
   "source": [
    "Combine DataFrame objects with overlapping columns and return only those that are shared by passing inner to the join keyword argument."
   ]
  },
  {
   "cell_type": "code",
   "execution_count": null,
   "id": "f94f2067",
   "metadata": {
    "attributes": {
     "classes": [
      "code-cell"
     ],
     "id": ""
    }
   },
   "outputs": [],
   "source": [
    "pd.concat([df1, df3], join=\"inner\")"
   ]
  },
  {
   "cell_type": "markdown",
   "id": "d6c54264",
   "metadata": {},
   "source": [
    "Combine `DataFrame` objects horizontally along the x-axis by passing in `axis=1`."
   ]
  },
  {
   "cell_type": "code",
   "execution_count": null,
   "id": "ffc36689",
   "metadata": {
    "attributes": {
     "classes": [
      "code-cell"
     ],
     "id": ""
    }
   },
   "outputs": [],
   "source": [
    "df4 = pd.DataFrame([['bird', 'polly'], ['monkey', 'george']],\n",
    "                   columns=['animal', 'name'])\n",
    "pd.concat([df1, df4], axis=1)"
   ]
  },
  {
   "cell_type": "markdown",
   "id": "1f105a72",
   "metadata": {},
   "source": [
    "Prevent the result from including duplicate index values with the `verify_integrity` option."
   ]
  },
  {
   "cell_type": "code",
   "execution_count": null,
   "id": "4950e820",
   "metadata": {
    "attributes": {
     "classes": [
      "code-cell"
     ],
     "id": ""
    }
   },
   "outputs": [],
   "source": [
    "df5 = pd.DataFrame([1], index=['a'])\n",
    "df5"
   ]
  },
  {
   "cell_type": "code",
   "execution_count": null,
   "id": "7d749743",
   "metadata": {
    "attributes": {
     "classes": [
      "code-cell"
     ],
     "id": ""
    }
   },
   "outputs": [],
   "source": [
    "df6 = pd.DataFrame([2], index=['a'])\n",
    "df6"
   ]
  },
  {
   "cell_type": "code",
   "execution_count": null,
   "id": "f6a2918d",
   "metadata": {
    "attributes": {
     "classes": [
      "code-cell"
     ],
     "id": ""
    }
   },
   "outputs": [],
   "source": [
    ":tags: [\"raises-exception\"]\n",
    "pd.concat([df5, df6], verify_integrity=True)"
   ]
  },
  {
   "cell_type": "markdown",
   "id": "611f9fe6",
   "metadata": {},
   "source": [
    "Append a single row to the end of a `DataFrame` object."
   ]
  },
  {
   "cell_type": "code",
   "execution_count": null,
   "id": "415b7b63",
   "metadata": {
    "attributes": {
     "classes": [
      "code-cell"
     ],
     "id": ""
    }
   },
   "outputs": [],
   "source": [
    "df7 = pd.DataFrame({'a': 1, 'b': 2}, index=[0])\n",
    "df7"
   ]
  },
  {
   "cell_type": "code",
   "execution_count": null,
   "id": "bb9a2df1",
   "metadata": {
    "attributes": {
     "classes": [
      "code-cell"
     ],
     "id": ""
    }
   },
   "outputs": [],
   "source": [
    "new_row = pd.Series({'a': 3, 'b': 4})\n",
    "new_row"
   ]
  },
  {
   "cell_type": "code",
   "execution_count": null,
   "id": "ef3c0d40",
   "metadata": {
    "attributes": {
     "classes": [
      "code-cell"
     ],
     "id": ""
    }
   },
   "outputs": [],
   "source": [
    "pd.concat([df7, new_row.to_frame().T], ignore_index=True)"
   ]
  },
  {
   "cell_type": "markdown",
   "id": "605dda38",
   "metadata": {},
   "source": [
    ":::{note}\n",
    "`append()` has been deprecated since version 1.4.0: Use `concat()` instead. \n",
    ":::\n",
    "\n",
    "### merge\n",
    "\n",
    "- Merge DataFrame or named Series objects with a database-style join.\n",
    "\n",
    "- A named Series object is treated as a DataFrame with a single named column.\n",
    "\n",
    "- The join is done on columns or indexes. If joining columns on columns, the DataFrame indexes will be ignored. Otherwise if joining indexes on indexes or indexes on a column or columns, the index will be passed on. When performing a cross-merge, no column specifications to merge on are allowed.\n",
    "\n",
    ":::{note}\n",
    "If both key columns contain rows where the key is a null value, those rows will be matched against each other. This is different from usual SQL join behaviour and can lead to unexpected results.\n",
    ":::\n",
    "\n",
    "\n",
    "For example:"
   ]
  },
  {
   "cell_type": "code",
   "execution_count": null,
   "id": "d1b180c8",
   "metadata": {},
   "outputs": [],
   "source": [
    "df1 = pd.DataFrame({'lkey': ['foo', 'bar', 'baz', 'foo'],\n",
    "                    'value': [1, 2, 3, 5]})\n",
    "df2 = pd.DataFrame({'rkey': ['foo', 'bar', 'baz', 'foo'],\n",
    "                    'value': [5, 6, 7, 8]})"
   ]
  },
  {
   "cell_type": "markdown",
   "id": "35ea28cf",
   "metadata": {},
   "source": [
    "Merge DataFrames `df1` and `df2` with specified left and right suffixes appended to any overlapping columns."
   ]
  },
  {
   "cell_type": "code",
   "execution_count": null,
   "id": "daaabeac",
   "metadata": {},
   "outputs": [],
   "source": [
    "df1.merge(df2, left_on='lkey', right_on='rkey', suffixes=('_left', '_right'))"
   ]
  },
  {
   "cell_type": "code",
   "execution_count": null,
   "id": "60849414",
   "metadata": {
    "attributes": {
     "classes": [
      "code-cell"
     ],
     "id": ""
    }
   },
   "outputs": [],
   "source": [
    "from IPython.display import HTML\n",
    "<div class='full-width docutils' >\n",
    "  <div class=\"admonition note pandastutor\" name=\"html-admonition\" style=\"margin-right:20%\">\n",
    "    <p class=\"admonition-title pandastutor\">Let's visualize it! 🎥</p>\n",
    "    <div class=\"pandastutor inner\" style=\"height:800px;\">\n",
    "      <iframe frameborder=\"0\" scrolling=\"no\" src=\"https://pandastutor.com/vis.html#code=import%20pandas%20as%20pd%0Aimport%20io%0Aimport%20numpy%20as%20np%0Adf1%20%3D%20pd.DataFrame%28%7B'lkey'%3A%20%5B'foo',%20'bar',%20'baz',%20'foo'%5D,%0A%20%20%20%20%20%20%20%20%20%20%20%20%20%20%20%20%20%20%20%20'value'%3A%20%5B1,%202,%203,%205%5D%7D%29%0Adf2%20%3D%20pd.DataFrame%28%7B'rkey'%3A%20%5B'foo',%20'bar',%20'baz',%20'foo'%5D,%0A%20%20%20%20%20%20%20%20%20%20%20%20%20%20%20%20%20%20%20%20'value'%3A%20%5B5,%206,%207,%208%5D%7D%29%0Adf1.merge%28df2,%20left_on%3D'lkey',%20right_on%3D'rkey'%29&d=2023-05-27&lang=py&v=v1\"> </iframe>\n",
    "    </div>\n",
    "  </div>\n",
    "</div>\n",
    "display(HTML(\"\"\"\n",
    "\n",
    "\"\"\"))"
   ]
  },
  {
   "cell_type": "markdown",
   "id": "205f9a81",
   "metadata": {},
   "source": [
    "Merge DataFrames `df1` and `df2`, but raise an exception if the DataFrames have any overlapping columns."
   ]
  },
  {
   "cell_type": "code",
   "execution_count": null,
   "id": "8ec26f63",
   "metadata": {
    "attributes": {
     "classes": [
      "code-cell"
     ],
     "id": ""
    }
   },
   "outputs": [],
   "source": [
    ":tags: [\"raises-exception\"]\n",
    "df1.merge(df2, left_on='lkey', right_on='rkey', suffixes=(False, False))"
   ]
  },
  {
   "cell_type": "markdown",
   "id": "10c4bdd7",
   "metadata": {},
   "source": [
    "Using `how` parameter decide the type of merge to be performed."
   ]
  },
  {
   "cell_type": "code",
   "execution_count": null,
   "id": "f11486f4",
   "metadata": {
    "editable": true,
    "slideshow": {
     "slide_type": ""
    },
    "tags": [
     "output-scroll"
    ]
   },
   "outputs": [],
   "source": [
    "df1 = pd.DataFrame({'a': ['foo', 'bar'], 'b': [1, 2]})\n",
    "df2 = pd.DataFrame({'a': ['foo', 'baz'], 'c': [3, 4]})"
   ]
  },
  {
   "cell_type": "code",
   "execution_count": null,
   "id": "d3a85f46",
   "metadata": {},
   "outputs": [],
   "source": [
    "df1.merge(df2, how='inner', on='a')"
   ]
  },
  {
   "cell_type": "code",
   "execution_count": null,
   "id": "1d8233d8",
   "metadata": {
    "attributes": {
     "classes": [
      "code-cell"
     ],
     "id": ""
    }
   },
   "outputs": [],
   "source": [
    "from IPython.display import HTML\n",
    "<div class='full-width docutils' >\n",
    "  <div class=\"admonition note pandastutor\" name=\"html-admonition\" style=\"margin-right:20%\">\n",
    "    <p class=\"admonition-title pandastutor\">Let's visualize it! 🎥</p>\n",
    "    <div class=\"pandastutor inner\" style=\"height:600px;\">\n",
    "      <iframe frameborder=\"0\" scrolling=\"no\" src=\"https://pandastutor.com/vis.html#code=import%20pandas%20as%20pd%0Aimport%20io%0Adf1%20%3D%20pd.DataFrame%28%7B'a'%3A%20%5B'foo',%20'bar'%5D,%20'b'%3A%20%5B1,%202%5D%7D%29%0Adf2%20%3D%20pd.DataFrame%28%7B'a'%3A%20%5B'foo',%20'baz'%5D,%20'c'%3A%20%5B3,%204%5D%7D%29%0Adf1.merge%28df2,%20how%3D'inner',%20on%3D'a'%29&d=2023-07-15&lang=py&v=v1\"> </iframe>\n",
    "    </div>\n",
    "  </div>\n",
    "</div>\n",
    "display(HTML(\"\"\"\n",
    "\n",
    "\"\"\"))"
   ]
  },
  {
   "cell_type": "code",
   "execution_count": null,
   "id": "c1c6dd3b",
   "metadata": {},
   "outputs": [],
   "source": [
    "df1.merge(df2, how='left', on='a')"
   ]
  },
  {
   "cell_type": "code",
   "execution_count": null,
   "id": "eddd5e0d",
   "metadata": {
    "attributes": {
     "classes": [
      "code-cell"
     ],
     "id": ""
    }
   },
   "outputs": [],
   "source": [
    "from IPython.display import HTML\n",
    "<div class='full-width docutils' >\n",
    "  <div class=\"admonition note pandastutor\" name=\"html-admonition\" style=\"margin-right:20%\">\n",
    "    <p class=\"admonition-title pandastutor\">Let's visualize it! 🎥</p>\n",
    "    <div class=\"pandastutor inner\" style=\"height:630px;\">\n",
    "      <iframe frameborder=\"0\" scrolling=\"no\" src=\"https://pandastutor.com/vis.html#code=import%20pandas%20as%20pd%0Aimport%20io%0Adf1%20%3D%20pd.DataFrame%28%7B'a'%3A%20%5B'foo',%20'bar'%5D,%20'b'%3A%20%5B1,%202%5D%7D%29%0Adf2%20%3D%20pd.DataFrame%28%7B'a'%3A%20%5B'foo',%20'baz'%5D,%20'c'%3A%20%5B3,%204%5D%7D%29%0Adf1.merge%28df2,%20how%3D'left',%20on%3D'a'%29&d=2023-07-15&lang=py&v=v1\"> </iframe>\n",
    "    </div>\n",
    "  </div>\n",
    "</div>\n",
    "display(HTML(\"\"\"\n",
    "\n",
    "\"\"\"))"
   ]
  },
  {
   "cell_type": "code",
   "execution_count": null,
   "id": "e0c9d49c",
   "metadata": {},
   "outputs": [],
   "source": [
    "df1 = pd.DataFrame({'left': ['foo', 'bar']})\n",
    "df2 = pd.DataFrame({'right': [7, 8]})"
   ]
  },
  {
   "cell_type": "code",
   "execution_count": null,
   "id": "c45a76df",
   "metadata": {},
   "outputs": [],
   "source": [
    "df1.merge(df2, how='cross')"
   ]
  },
  {
   "cell_type": "code",
   "execution_count": null,
   "id": "a8459682",
   "metadata": {
    "attributes": {
     "classes": [
      "code-cell"
     ],
     "id": ""
    }
   },
   "outputs": [],
   "source": [
    "from IPython.display import HTML\n",
    "<div class='full-width docutils' >\n",
    "  <div class=\"admonition note pandastutor\" name=\"html-admonition\" style=\"margin-right:20%\">\n",
    "    <p class=\"admonition-title pandastutor\">Let's visualize it! 🎥</p>\n",
    "    <div class=\"pandastutor inner\" style=\"height:670px;\">\n",
    "      <iframe frameborder=\"0\" scrolling=\"no\" src=\"https://pandastutor.com/vis.html#code=import%20pandas%20as%20pd%0Aimport%20io%0Adf1%20%3D%20pd.DataFrame%28%7B'left'%3A%20%5B'foo',%20'bar'%5D%7D%29%0Adf2%20%3D%20pd.DataFrame%28%7B'right'%3A%20%5B7,%208%5D%7D%29%0Adf1.merge%28df2,%20how%3D'cross'%29&d=2023-07-15&lang=py&v=v1\"> </iframe>\n",
    "    </div>\n",
    "  </div>\n",
    "</div>\n",
    "display(HTML(\"\"\"\n",
    "\n",
    "\"\"\"))"
   ]
  },
  {
   "cell_type": "markdown",
   "id": "bd6226bd",
   "metadata": {},
   "source": [
    "### join\n",
    "\n",
    "- Join columns of another DataFrame.\n",
    "\n",
    "- Join columns with other DataFrame either on index or on a key column. Efficiently join multiple DataFrame objects by index at once by passing a list.\n",
    "\n",
    "For example:"
   ]
  },
  {
   "cell_type": "code",
   "execution_count": null,
   "id": "2961b518",
   "metadata": {
    "attributes": {
     "classes": [
      "code-cell"
     ],
     "id": ""
    }
   },
   "outputs": [],
   "source": [
    "df = pd.DataFrame({'key': ['K0', 'K1', 'K2', 'K3', 'K4', 'K5'],\n",
    "                   'A': ['A0', 'A1', 'A2', 'A3', 'A4', 'A5']})"
   ]
  },
  {
   "cell_type": "code",
   "execution_count": null,
   "id": "611e3a56",
   "metadata": {
    "attributes": {
     "classes": [
      "code-cell"
     ],
     "id": ""
    }
   },
   "outputs": [],
   "source": [
    "other = pd.DataFrame({'key': ['K0', 'K1', 'K2'],\n",
    "                      'B': ['B0', 'B1', 'B2']})                     "
   ]
  },
  {
   "cell_type": "markdown",
   "id": "4f022db5",
   "metadata": {},
   "source": [
    "Join DataFrames using their indexes."
   ]
  },
  {
   "cell_type": "code",
   "execution_count": null,
   "id": "9955d1e9",
   "metadata": {},
   "outputs": [],
   "source": [
    "df.join(other, lsuffix='_caller', rsuffix='_other')"
   ]
  },
  {
   "cell_type": "code",
   "execution_count": null,
   "id": "61b5a2ab",
   "metadata": {
    "attributes": {
     "classes": [
      "code-cell"
     ],
     "id": ""
    }
   },
   "outputs": [],
   "source": [
    "from IPython.display import HTML\n",
    "<div class='full-width docutils' >\n",
    "  <div class=\"admonition note pandastutor\" name=\"html-admonition\" style=\"margin-right:20%\">\n",
    "    <p class=\"admonition-title pandastutor\">Let's visualize it! 🎥</p>\n",
    "    <div class=\"pandastutor inner\" style=\"height:830px;\">\n",
    "      <iframe frameborder=\"0\" scrolling=\"no\" src=\"https://pandastutor.com/vis.html#code=import%20pandas%20as%20pd%0Aimport%20io%0Adf%20%3D%20pd.DataFrame%28%7B'key'%3A%20%5B'K0',%20'K1',%20'K2',%20'K3',%20'K4',%20'K5'%5D,'A'%3A%20%5B'A0',%20'A1',%20'A2',%20'A3',%20'A4',%20'A5'%5D%7D%29%0Aother%20%3D%20pd.DataFrame%28%7B'key'%3A%20%5B'K0',%20'K1',%20'K2'%5D,'B'%3A%20%5B'B0',%20'B1',%20'B2'%5D%7D%29%0Adf.join%28other,%20lsuffix%3D'_caller',%20rsuffix%3D'_other'%29&d=2023-07-15&lang=py&v=v1\"> </iframe>\n",
    "    </div>\n",
    "  </div>\n",
    "</div>\n",
    "display(HTML(\"\"\"\n",
    "\n",
    "\"\"\"))"
   ]
  },
  {
   "cell_type": "markdown",
   "id": "7a2219ba",
   "metadata": {},
   "source": [
    "If we want to join using the `key` columns, we need to set `key` to be the index in both `df` and `other`. The joined DataFrame will have `key` as its index."
   ]
  },
  {
   "cell_type": "code",
   "execution_count": null,
   "id": "52d503cf",
   "metadata": {},
   "outputs": [],
   "source": [
    "df.set_index('key').join(other.set_index('key'))"
   ]
  },
  {
   "cell_type": "code",
   "execution_count": null,
   "id": "67fce5c0",
   "metadata": {
    "attributes": {
     "classes": [
      "code-cell"
     ],
     "id": ""
    }
   },
   "outputs": [],
   "source": [
    "from IPython.display import HTML\n",
    "<div class='full-width docutils' >\n",
    "  <div class=\"admonition note pandastutor\" name=\"html-admonition\" style=\"margin-right:20%\">\n",
    "    <p class=\"admonition-title pandastutor\">Let's visualize it! 🎥</p>\n",
    "    <div class=\"pandastutor inner\" style=\"height:1170px;\">\n",
    "      <iframe frameborder=\"0\" scrolling=\"no\" src=\"https://pandastutor.com/vis.html#code=import%20pandas%20as%20pd%0Aimport%20io%0Aimport%20numpy%20as%20np%0Adf%20%3D%20pd.DataFrame%28%7B'key'%3A%20%5B'K0',%20'K1',%20'K2',%20'K3',%20'K4',%20'K5'%5D,%0A%20%20%20%20%20%20%20%20%20%20%20%20%20%20%20%20%20%20%20'A'%3A%20%5B'A0',%20'A1',%20'A2',%20'A3',%20'A4',%20'A5'%5D%7D%29%0Aother%20%3D%20pd.DataFrame%28%7B'key'%3A%20%5B'K0',%20'K1',%20'K2'%5D,%0A%20%20%20%20%20%20%20%20%20%20%20%20%20%20%20%20%20%20'B'%3A%20%5B'B0',%20'B1',%20'B2'%5D%7D%29%0Adf.set_index%28'key'%29.join%28other.set_index%28'key'%29%29&d=2023-05-27&lang=py&v=v1\"> </iframe>\n",
    "    </div>\n",
    "  </div>\n",
    "</div>\n",
    "display(HTML(\"\"\"\n",
    "\n",
    "\"\"\"))"
   ]
  },
  {
   "cell_type": "markdown",
   "id": "d932c7f3",
   "metadata": {},
   "source": [
    "Another option to join using the key columns is to use the `on` parameter. `DataFrame.join` always uses `other`’s index but we can use any column in `df`. This method preserves the original DataFrame’s index in the result."
   ]
  },
  {
   "cell_type": "code",
   "execution_count": null,
   "id": "24f0710f",
   "metadata": {
    "attributes": {
     "classes": [
      "code-cell"
     ],
     "id": ""
    }
   },
   "outputs": [],
   "source": [
    "df.join(other.set_index('key'), on='key')"
   ]
  },
  {
   "cell_type": "markdown",
   "id": "c43c585f",
   "metadata": {},
   "source": [
    "Using non-unique key values shows how they are matched."
   ]
  },
  {
   "cell_type": "code",
   "execution_count": null,
   "id": "f755ae05",
   "metadata": {
    "attributes": {
     "classes": [
      "code-cell"
     ],
     "id": ""
    }
   },
   "outputs": [],
   "source": [
    "df = pd.DataFrame({'key': ['K0', 'K1', 'K1', 'K3', 'K0', 'K1'],\n",
    "                   'A': ['A0', 'A1', 'A2', 'A3', 'A4', 'A5']})\n",
    "df                   "
   ]
  },
  {
   "cell_type": "code",
   "execution_count": null,
   "id": "526d2a77",
   "metadata": {
    "attributes": {
     "classes": [
      "code-cell"
     ],
     "id": ""
    }
   },
   "outputs": [],
   "source": [
    "df.join(other.set_index('key'), on='key', validate='m:1')"
   ]
  },
  {
   "cell_type": "markdown",
   "id": "7226e593",
   "metadata": {},
   "source": [
    "## Aggregation and grouping\n",
    "\n",
    "Group `DataFrame` using a mapper or by a `Series` of columns.\n",
    "\n",
    "A `groupby` operation involves some combination of splitting the object, applying a function, and combining the results. This can be used to group large amounts of data and compute operations on these groups.\n",
    "\n",
    "For example:"
   ]
  },
  {
   "cell_type": "code",
   "execution_count": null,
   "id": "1a216898",
   "metadata": {},
   "outputs": [],
   "source": [
    "df = pd.DataFrame({'Animal': ['Falcon', 'Falcon',\n",
    "                              'Parrot', 'Parrot'],\n",
    "                   'Max Speed': [380., 370., 24., 26.]})\n",
    "df\n",
    "df.groupby(['Animal']).mean()"
   ]
  },
  {
   "cell_type": "code",
   "execution_count": null,
   "id": "e37c3d2e",
   "metadata": {
    "attributes": {
     "classes": [
      "code-cell"
     ],
     "id": ""
    }
   },
   "outputs": [],
   "source": [
    "from IPython.display import HTML\n",
    "<div class='full-width docutils' >\n",
    "  <div class=\"admonition note pandastutor\" name=\"html-admonition\" style=\"margin-right:20%\">\n",
    "    <p class=\"admonition-title pandastutor\">Let's visualize it! 🎥</p>\n",
    "    <div class=\"pandastutor inner\" style=\"height:785px;\">\n",
    "      <iframe frameborder=\"0\" scrolling=\"no\" src=\"https://pandastutor.com/vis.html#code=import%20pandas%20as%20pd%0Aimport%20io%0Aimport%20numpy%20as%20np%0Adf%20%3D%20pd.DataFrame%28%7B'Animal'%3A%20%5B'Falcon',%20'Falcon',%0A%20%20%20%20%20%20%20%20%20%20%20%20%20%20%20%20%20%20%20%20%20%20%20%20%20%20%20%20%20%20'Parrot',%20'Parrot'%5D,%0A%20%20%20%20%20%20%20%20%20%20%20%20%20%20%20%20%20%20%20'Max%20Speed'%3A%20%5B380.,%20370.,%2024.,%2026.%5D%7D%29%0Adf%0Adf.groupby%28%5B'Animal'%5D%29.mean%28%29&d=2023-05-27&lang=py&v=v1\"> </iframe>\n",
    "    </div>\n",
    "  </div>\n",
    "</div>\n",
    "display(HTML(\"\"\"\n",
    "\n",
    "\"\"\"))"
   ]
  },
  {
   "cell_type": "markdown",
   "id": "c8073409",
   "metadata": {},
   "source": [
    "### Hierarchical Indexes\n",
    "\n",
    "#################\n",
    "\n",
    "We can `groupby` different levels of a hierarchical index using the `level` parameter:"
   ]
  },
  {
   "cell_type": "code",
   "execution_count": null,
   "id": "745dace5",
   "metadata": {},
   "outputs": [],
   "source": [
    "arrays = [['Falcon', 'Falcon', 'Parrot', 'Parrot'],\n",
    "          ['Captive', 'Wild', 'Captive', 'Wild']]\n",
    "index = pd.MultiIndex.from_arrays(arrays, names=('Animal', 'Type'))\n",
    "df = pd.DataFrame({'Max Speed': [390., 350., 30., 20.]},\n",
    "                  index=index)\n",
    "df.groupby(level=0).mean()"
   ]
  },
  {
   "cell_type": "code",
   "execution_count": null,
   "id": "daa3243a",
   "metadata": {
    "attributes": {
     "classes": [
      "code-cell"
     ],
     "id": ""
    }
   },
   "outputs": [],
   "source": [
    "from IPython.display import HTML\n",
    "<div class='full-width docutils' >\n",
    "  <div class=\"admonition note pandastutor\" name=\"html-admonition\" style=\"margin-right:20%\">\n",
    "    <p class=\"admonition-title pandastutor\">Let's visualize it! 🎥</p>\n",
    "    <div class=\"pandastutor inner\" style=\"height:810px;\">\n",
    "      <iframe frameborder=\"0\" scrolling=\"no\" src=\"https://pandastutor.com/vis.html#code=import%20pandas%20as%20pd%0Aimport%20io%0Aarrays%20%3D%20%5B%5B'Falcon',%20'Falcon',%20'Parrot',%20'Parrot'%5D,%0A%20%20%20%20%20%20%20%20%20%20%5B'Captive',%20'Wild',%20'Captive',%20'Wild'%5D%5D%0Aindex%20%3D%20pd.MultiIndex.from_arrays%28arrays,%20names%3D%28'Animal',%20'Type'%29%29%0Adf%20%3D%20pd.DataFrame%28%7B'Max%20Speed'%3A%20%5B390.,%20350.,%2030.,%2020.%5D%7D,%0A%20%20%20%20%20%20%20%20%20%20%20%20%20%20%20%20%20%20index%3Dindex%29%0Adf.groupby%28level%3D0%29.mean%28%29&d=2023-07-15&lang=py&v=v1\"> </iframe>\n",
    "    </div>\n",
    "  </div>\n",
    "</div>\n",
    "display(HTML(\"\"\"\n",
    "\n",
    "\"\"\"))"
   ]
  },
  {
   "cell_type": "code",
   "execution_count": null,
   "id": "8bf03ba0",
   "metadata": {},
   "outputs": [],
   "source": [
    "df.groupby(level=\"Type\").mean()"
   ]
  },
  {
   "cell_type": "code",
   "execution_count": null,
   "id": "d81e00bb",
   "metadata": {
    "attributes": {
     "classes": [
      "code-cell"
     ],
     "id": ""
    }
   },
   "outputs": [],
   "source": [
    "from IPython.display import HTML\n",
    "<div class='full-width docutils' >\n",
    "  <div class=\"admonition note pandastutor\" name=\"html-admonition\" style=\"margin-right:20%\">\n",
    "    <p class=\"admonition-title pandastutor\">Let's visualize it! 🎥</p>\n",
    "    <div class=\"pandastutor inner\" style=\"height:810px;\">\n",
    "      <iframe frameborder=\"0\" scrolling=\"no\" src=\"https://pandastutor.com/vis.html#code=import%20pandas%20as%20pd%0Aimport%20io%0Aarrays%20%3D%20%5B%5B'Falcon',%20'Falcon',%20'Parrot',%20'Parrot'%5D,%0A%20%20%20%20%20%20%20%20%20%20%5B'Captive',%20'Wild',%20'Captive',%20'Wild'%5D%5D%0Aindex%20%3D%20pd.MultiIndex.from_arrays%28arrays,%20names%3D%28'Animal',%20'Type'%29%29%0Adf%20%3D%20pd.DataFrame%28%7B'Max%20Speed'%3A%20%5B390.,%20350.,%2030.,%2020.%5D%7D,%0A%20%20%20%20%20%20%20%20%20%20%20%20%20%20%20%20%20%20index%3Dindex%29%0Adf.groupby%28level%3D%22Type%22%29.mean%28%29&d=2023-07-15&lang=py&v=v1\"> </iframe>\n",
    "    </div>\n",
    "  </div>\n",
    "</div>\n",
    "display(HTML(\"\"\"\n",
    "\n",
    "\"\"\"))"
   ]
  },
  {
   "cell_type": "markdown",
   "id": "743a9b44",
   "metadata": {},
   "source": [
    "We can also choose to include NA in group keys or not by setting `dropna` parameter, the default setting is `True`."
   ]
  },
  {
   "cell_type": "code",
   "execution_count": null,
   "id": "d3dbd01a",
   "metadata": {},
   "outputs": [],
   "source": [
    "l = [[1, 2, 3], [1, None, 4], [2, 1, 3], [1, 2, 2]]\n",
    "df = pd.DataFrame(l, columns=[\"a\", \"b\", \"c\"])\n",
    "df.groupby(by=[\"b\"]).sum()"
   ]
  },
  {
   "cell_type": "code",
   "execution_count": null,
   "id": "d3fc09de",
   "metadata": {
    "attributes": {
     "classes": [
      "code-cell"
     ],
     "id": ""
    }
   },
   "outputs": [],
   "source": [
    "from IPython.display import HTML\n",
    "<div class='full-width docutils' >\n",
    "  <div class=\"admonition note pandastutor\" name=\"html-admonition\" style=\"margin-right:20%\">\n",
    "    <p class=\"admonition-title pandastutor\">Let's visualize it! 🎥</p>\n",
    "    <div class=\"pandastutor inner\" style=\"height:770px;\">\n",
    "      <iframe frameborder=\"0\" scrolling=\"no\" src=\"https://pandastutor.com/vis.html#code=import%20pandas%20as%20pd%0Aimport%20io%0Al%20%3D%20%5B%5B1,%202,%203%5D,%20%5B1,%20None,%204%5D,%20%5B2,%201,%203%5D,%20%5B1,%202,%202%5D%5D%0Adf%20%3D%20pd.DataFrame%28l,%20columns%3D%5B%22a%22,%20%22b%22,%20%22c%22%5D%29%0Adf.groupby%28by%3D%5B%22b%22%5D%29.sum%28%29%0A&d=2023-07-15&lang=py&v=v1\"> </iframe>\n",
    "    </div>\n",
    "  </div>\n",
    "</div>\n",
    "display(HTML(\"\"\"\n",
    "\n",
    "\"\"\"))"
   ]
  },
  {
   "cell_type": "code",
   "execution_count": null,
   "id": "9e5d5024",
   "metadata": {},
   "outputs": [],
   "source": [
    "df.groupby(by=[\"b\"], dropna=False).sum()"
   ]
  },
  {
   "cell_type": "code",
   "execution_count": null,
   "id": "5fc99647",
   "metadata": {
    "attributes": {
     "classes": [
      "code-cell"
     ],
     "id": ""
    }
   },
   "outputs": [],
   "source": [
    "from IPython.display import HTML\n",
    "<div class='full-width docutils' >\n",
    "  <div class=\"admonition note pandastutor\" name=\"html-admonition\" style=\"margin-right:20%\">\n",
    "    <p class=\"admonition-title pandastutor\">Let's visualize it! 🎥</p>\n",
    "    <div class=\"pandastutor inner\" style=\"height:750px;\">\n",
    "      <iframe frameborder=\"0\" scrolling=\"no\" src=\"https://pandastutor.com/vis.html#code=import%20pandas%20as%20pd%0Aimport%20io%0Aimport%20numpy%20as%20np%0Al%20%3D%20%5B%5B1,%202,%203%5D,%20%5B1,%20None,%204%5D,%20%5B2,%201,%203%5D,%20%5B1,%202,%202%5D%5D%0Adf%20%3D%20pd.DataFrame%28l,%20columns%3D%5B%22a%22,%20%22b%22,%20%22c%22%5D%29%0Adf.groupby%28by%3D%5B%22b%22%5D,%20dropna%3DFalse%29.sum%28%29&d=2023-05-27&lang=py&v=v1\"> </iframe>\n",
    "    </div>\n",
    "  </div>\n",
    "</div>\n",
    "display(HTML(\"\"\"\n",
    "\n",
    "\"\"\"))"
   ]
  },
  {
   "cell_type": "code",
   "execution_count": null,
   "id": "40177362",
   "metadata": {},
   "outputs": [],
   "source": [
    "l = [[\"a\", 12, 12], [None, 12.3, 33.], [\"b\", 12.3, 123], [\"a\", 1, 1]]\n",
    "df = pd.DataFrame(l, columns=[\"a\", \"b\", \"c\"])\n",
    "df.groupby(by=\"a\").sum()"
   ]
  },
  {
   "cell_type": "code",
   "execution_count": null,
   "id": "915c4685",
   "metadata": {
    "attributes": {
     "classes": [
      "code-cell"
     ],
     "id": ""
    }
   },
   "outputs": [],
   "source": [
    "from IPython.display import HTML\n",
    "<div class='full-width docutils' >\n",
    "  <div class=\"admonition note pandastutor\" name=\"html-admonition\" style=\"margin-right:20%\">\n",
    "    <p class=\"admonition-title pandastutor\">Let's visualize it! 🎥</p>\n",
    "    <div class=\"pandastutor inner\" style=\"height:750px;\">\n",
    "      <iframe frameborder=\"0\" scrolling=\"no\" src=\"https://pandastutor.com/vis.html#code=import%20pandas%20as%20pd%0Aimport%20io%0Al%20%3D%20%5B%5B%22a%22,%2012,%2012%5D,%20%5BNone,%2012.3,%2033.%5D,%20%5B%22b%22,%2012.3,%20123%5D,%20%5B%22a%22,%201,%201%5D%5D%0Adf%20%3D%20pd.DataFrame%28l,%20columns%3D%5B%22a%22,%20%22b%22,%20%22c%22%5D%29%0Adf.groupby%28by%3D%22a%22%29.sum%28%29&d=2023-07-15&lang=py&v=v1\"> </iframe>\n",
    "    </div>\n",
    "  </div>\n",
    "</div>\n",
    "display(HTML(\"\"\"\n",
    "\n",
    "\"\"\"))"
   ]
  },
  {
   "cell_type": "code",
   "execution_count": null,
   "id": "4aeef9b7",
   "metadata": {},
   "outputs": [],
   "source": [
    "df.groupby(by=\"a\", dropna=False).sum()"
   ]
  },
  {
   "cell_type": "code",
   "execution_count": null,
   "id": "e5f864cd",
   "metadata": {
    "attributes": {
     "classes": [
      "code-cell"
     ],
     "id": ""
    }
   },
   "outputs": [],
   "source": [
    "from IPython.display import HTML\n",
    "<div class='full-width docutils' >\n",
    "  <div class=\"admonition note pandastutor\" name=\"html-admonition\" style=\"margin-right:20%\">\n",
    "    <p class=\"admonition-title pandastutor\">Let's visualize it! 🎥</p>\n",
    "    <div class=\"pandastutor inner\" style=\"height:750px;\">\n",
    "      <iframe frameborder=\"0\" scrolling=\"no\" src=\"https://pandastutor.com/vis.html#code=import%20pandas%20as%20pd%0Aimport%20io%0Al%20%3D%20%5B%5B%22a%22,%2012,%2012%5D,%20%5BNone,%2012.3,%2033.%5D,%20%5B%22b%22,%2012.3,%20123%5D,%20%5B%22a%22,%201,%201%5D%5D%0Adf%20%3D%20pd.DataFrame%28l,%20columns%3D%5B%22a%22,%20%22b%22,%20%22c%22%5D%29%0Adf.groupby%28by%3D%22a%22,%20dropna%3DFalse%29.sum%28%29%0A&d=2023-07-15&lang=py&v=v1\"> </iframe>\n",
    "    </div>\n",
    "  </div>\n",
    "</div>\n",
    "display(HTML(\"\"\"\n",
    "\n",
    "\"\"\"))"
   ]
  },
  {
   "cell_type": "markdown",
   "id": "e3125dd3",
   "metadata": {},
   "source": [
    "When using `.apply()`, use `group_keys` to include or exclude the group keys. The `group_keys` argument defaults to `True` (include)."
   ]
  },
  {
   "cell_type": "code",
   "execution_count": null,
   "id": "8c83f492",
   "metadata": {
    "attributes": {
     "classes": [
      "code-cell"
     ],
     "id": ""
    }
   },
   "outputs": [],
   "source": [
    "df = pd.DataFrame({'Animal': ['Falcon', 'Falcon',\n",
    "                              'Parrot', 'Parrot'],\n",
    "                   'Max Speed': [380., 370., 24., 26.]})\n",
    "df.groupby(\"Animal\", group_keys=True).apply(lambda x: x)"
   ]
  },
  {
   "cell_type": "code",
   "execution_count": null,
   "id": "3e773bde",
   "metadata": {
    "attributes": {
     "classes": [
      "code-cell"
     ],
     "id": ""
    }
   },
   "outputs": [],
   "source": [
    "df.groupby(\"Animal\", group_keys=False).apply(lambda x: x)"
   ]
  },
  {
   "cell_type": "markdown",
   "id": "adba9323",
   "metadata": {},
   "source": [
    "## Pivot table\n",
    "\n",
    "Create a spreadsheet-style pivot table as a DataFrame.\n",
    "\n",
    "The levels in the pivot table will be stored in MultiIndex objects (hierarchical indexes) on the index and columns of the result DataFrame."
   ]
  },
  {
   "cell_type": "code",
   "execution_count": null,
   "id": "fcb33f6b",
   "metadata": {
    "attributes": {
     "classes": [
      "code-cell"
     ],
     "id": ""
    }
   },
   "outputs": [],
   "source": [
    "df = pd.DataFrame({\"A\": [\"foo\", \"foo\", \"foo\", \"foo\", \"foo\",\n",
    "                         \"bar\", \"bar\", \"bar\", \"bar\"],\n",
    "                   \"B\": [\"one\", \"one\", \"one\", \"two\", \"two\",\n",
    "                         \"one\", \"one\", \"two\", \"two\"],\n",
    "                   \"C\": [\"small\", \"large\", \"large\", \"small\",\n",
    "                         \"small\", \"large\", \"small\", \"small\",\n",
    "                         \"large\"],\n",
    "                   \"D\": [1, 2, 2, 3, 3, 4, 5, 6, 7],\n",
    "                   \"E\": [2, 4, 5, 5, 6, 6, 8, 9, 9]})\n",
    "df"
   ]
  },
  {
   "cell_type": "markdown",
   "id": "1dab8202",
   "metadata": {},
   "source": [
    "This first example aggregates values by taking the sum."
   ]
  },
  {
   "cell_type": "code",
   "execution_count": null,
   "id": "d7771bda",
   "metadata": {
    "attributes": {
     "classes": [
      "code-cell"
     ],
     "id": ""
    }
   },
   "outputs": [],
   "source": [
    "table = pd.pivot_table(df, values='D', index=['A', 'B'],\n",
    "                    columns=['C'], aggfunc=np.sum)\n",
    "table"
   ]
  },
  {
   "cell_type": "markdown",
   "id": "fcb9a785",
   "metadata": {},
   "source": [
    "We can also fill in missing values using the `fill_value` parameter."
   ]
  },
  {
   "cell_type": "code",
   "execution_count": null,
   "id": "4d6729a8",
   "metadata": {
    "attributes": {
     "classes": [
      "code-cell"
     ],
     "id": ""
    }
   },
   "outputs": [],
   "source": [
    "table = pd.pivot_table(df, values='D', index=['A', 'B'],\n",
    "                    columns=['C'], aggfunc=np.sum, fill_value=0)\n",
    "table"
   ]
  },
  {
   "cell_type": "markdown",
   "id": "95b8438b",
   "metadata": {},
   "source": [
    "The next example aggregates by taking the mean across multiple columns."
   ]
  },
  {
   "cell_type": "code",
   "execution_count": null,
   "id": "75bf76c7",
   "metadata": {
    "attributes": {
     "classes": [
      "code-cell"
     ],
     "id": ""
    }
   },
   "outputs": [],
   "source": [
    "table = pd.pivot_table(df, values=['D', 'E'], index=['A', 'C'],\n",
    "                    aggfunc={'D': np.mean,\n",
    "                             'E': np.mean})\n",
    "table"
   ]
  },
  {
   "cell_type": "markdown",
   "id": "d0fac994",
   "metadata": {},
   "source": [
    "We can also calculate multiple types of aggregations for any given value column."
   ]
  },
  {
   "cell_type": "code",
   "execution_count": null,
   "id": "799bc147",
   "metadata": {
    "attributes": {
     "classes": [
      "code-cell"
     ],
     "id": ""
    }
   },
   "outputs": [],
   "source": [
    "table = pd.pivot_table(df, values=['D', 'E'], index=['A', 'C'],\n",
    "                    aggfunc={'D': np.mean,\n",
    "                             'E': [min, max, np.mean]})\n",
    "table"
   ]
  },
  {
   "cell_type": "markdown",
   "id": "185ab61e",
   "metadata": {},
   "source": [
    "## High-performance Pandas: eval() and query()\n",
    "\n",
    "### eval()\n",
    "\n",
    "Evaluate a string describing operations on DataFrame columns.\n",
    "\n",
    "Operates on columns only, not specific rows or elements. This allows `eval` to run arbitrary code, which can make you vulnerable to code injection if you pass user input to this function.\n",
    "\n",
    "For example:"
   ]
  },
  {
   "cell_type": "code",
   "execution_count": null,
   "id": "0a7ee35c",
   "metadata": {
    "attributes": {
     "classes": [
      "code-cell"
     ],
     "id": ""
    }
   },
   "outputs": [],
   "source": [
    "df = pd.DataFrame({'A': range(1, 6), 'B': range(10, 0, -2)})\n",
    "df"
   ]
  },
  {
   "cell_type": "code",
   "execution_count": null,
   "id": "a98596d3",
   "metadata": {
    "attributes": {
     "classes": [
      "code-cell"
     ],
     "id": ""
    }
   },
   "outputs": [],
   "source": [
    "df.eval('A + B')"
   ]
  },
  {
   "cell_type": "markdown",
   "id": "48a868fd",
   "metadata": {},
   "source": [
    "The assignment is allowed though by default the original `DataFrame` is not modified."
   ]
  },
  {
   "cell_type": "code",
   "execution_count": null,
   "id": "a4701ad6",
   "metadata": {
    "attributes": {
     "classes": [
      "code-cell"
     ],
     "id": ""
    }
   },
   "outputs": [],
   "source": [
    "df.eval('C = A + B')"
   ]
  },
  {
   "cell_type": "code",
   "execution_count": null,
   "id": "5944cf9b",
   "metadata": {
    "attributes": {
     "classes": [
      "code-cell"
     ],
     "id": ""
    }
   },
   "outputs": [],
   "source": [
    "df"
   ]
  },
  {
   "cell_type": "markdown",
   "id": "055fae14",
   "metadata": {},
   "source": [
    "Use `inplace=True` to modify the original DataFrame."
   ]
  },
  {
   "cell_type": "code",
   "execution_count": null,
   "id": "d15e2ff5",
   "metadata": {
    "attributes": {
     "classes": [
      "code-cell"
     ],
     "id": ""
    }
   },
   "outputs": [],
   "source": [
    "df.eval('C = A + B', inplace=True)\n",
    "df"
   ]
  },
  {
   "cell_type": "markdown",
   "id": "e6c17ea8",
   "metadata": {},
   "source": [
    "Multiple columns can be assigned using multi-line expressions:"
   ]
  },
  {
   "cell_type": "code",
   "execution_count": null,
   "id": "a43639c1",
   "metadata": {
    "attributes": {
     "classes": [
      "code-cell"
     ],
     "id": ""
    }
   },
   "outputs": [],
   "source": [
    "df.eval(\n",
    "    '''\n",
    "    C = A + B\n",
    "    D = A - B\n",
    "    '''\n",
    ")"
   ]
  },
  {
   "cell_type": "markdown",
   "id": "f5d861c7",
   "metadata": {},
   "source": [
    "### query()\n",
    "\n",
    "Query the columns of a DataFrame with a boolean expression.\n",
    "\n",
    "For example:"
   ]
  },
  {
   "cell_type": "code",
   "execution_count": null,
   "id": "14e9e5b8",
   "metadata": {
    "attributes": {
     "classes": [
      "code-cell"
     ],
     "id": ""
    }
   },
   "outputs": [],
   "source": [
    "df = pd.DataFrame({\n",
    "    'A': range(1, 6),\n",
    "    'B': range(10, 0, -2),\n",
    "    'C C': range(10, 5, -1)\n",
    "})\n",
    "df"
   ]
  },
  {
   "cell_type": "code",
   "execution_count": null,
   "id": "8324d0af",
   "metadata": {
    "attributes": {
     "classes": [
      "code-cell"
     ],
     "id": ""
    }
   },
   "outputs": [],
   "source": [
    "df.query('A > B')"
   ]
  },
  {
   "cell_type": "markdown",
   "id": "cef6d7b6",
   "metadata": {},
   "source": [
    "The previous expression is equivalent to"
   ]
  },
  {
   "cell_type": "code",
   "execution_count": null,
   "id": "c5732100",
   "metadata": {
    "attributes": {
     "classes": [
      "code-cell"
     ],
     "id": ""
    }
   },
   "outputs": [],
   "source": [
    "df[df.A > df.B]"
   ]
  },
  {
   "cell_type": "markdown",
   "id": "479e1cde",
   "metadata": {},
   "source": [
    "For columns with spaces in their name, you can use backtick quoting."
   ]
  },
  {
   "cell_type": "code",
   "execution_count": null,
   "id": "76cf4050",
   "metadata": {
    "attributes": {
     "classes": [
      "code-cell"
     ],
     "id": ""
    }
   },
   "outputs": [],
   "source": [
    "df.query('B == `C C`')"
   ]
  },
  {
   "cell_type": "markdown",
   "id": "1ad94a39",
   "metadata": {},
   "source": [
    "The previous expression is equivalent to"
   ]
  },
  {
   "cell_type": "code",
   "execution_count": null,
   "id": "8136033a",
   "metadata": {
    "attributes": {
     "classes": [
      "code-cell"
     ],
     "id": ""
    }
   },
   "outputs": [],
   "source": [
    "df[df.B == df['C C']]"
   ]
  },
  {
   "cell_type": "code",
   "execution_count": null,
   "id": "5e2e6be5",
   "metadata": {
    "attributes": {
     "classes": [
      "code-cell"
     ],
     "id": ""
    }
   },
   "outputs": [],
   "source": [
    "from IPython.display import HTML\n",
    "<div class='full-width docutils' >\n",
    "  <div class=\"admonition note pandastutor\" name=\"html-admonition\" style=\"margin-right:20%\">\n",
    "    <p class=\"admonition-title pandastutor\">Let's visualize it! 🎥</p>\n",
    "    <div class=\"pandastutor inner\" style=\"height:660px;\">\n",
    "      <iframe frameborder=\"0\" scrolling=\"no\" src=\"https://pandastutor.com/vis.html#code=import%20pandas%20as%20pd%0Aimport%20io%0Aimport%20numpy%20as%20np%0Adf%20%3D%20pd.DataFrame%28%7B%0A%20%20%20%20'A'%3A%20range%281,%206%29,%0A%20%20%20%20'B'%3A%20range%2810,%200,%20-2%29,%0A%20%20%20%20'C%20C'%3A%20range%2810,%205,%20-1%29%0A%7D%29%0A%0Adf%5Bdf.B%20%3D%3D%20df%5B'C%20C'%5D%5D&d=2023-07-13&lang=py&v=v1\"> </iframe>\n",
    "    </div>\n",
    "  </div>\n",
    "</div>\n",
    "display(HTML(\"\"\"\n",
    "\n",
    "\"\"\"))"
   ]
  },
  {
   "cell_type": "markdown",
   "id": "7861e578",
   "metadata": {
    "editable": true,
    "slideshow": {
     "slide_type": ""
    },
    "tags": [
     "output-scroll"
    ]
   },
   "source": [
    "## Your turn! 🚀\n",
    "\n",
    "### Processing image data\n",
    "\n",
    "Recently, very powerful AI models have been developed that allow us to understand images. There are many tasks that can be solved using pre-trained neural networks, or cloud services. Some examples include:\n",
    "\n",
    "- **Image Classification**, can help you categorize the image into one of the pre-defined classes. You can easily train your own image classifiers using services such as [Custom Vision](https://azure.microsoft.com/services/cognitive-services/custom-vision-service/?WT.mc_id=academic-77958-bethanycheum)\n",
    "- **Object Detection** to detect different objects in the image. Services such as [computer vision](https://azure.microsoft.com/services/cognitive-services/computer-vision/?WT.mc_id=academic-77958-bethanycheum) can detect a number of common objects, and you can train [Custom Vision](https://azure.microsoft.com/services/cognitive-services/custom-vision-service/?WT.mc_id=academic-77958-bethanycheum) model to detect some specific objects of interest.\n",
    "- **Face Detection**, including Age, Gender and Emotion detection. This can be done via [Face API](https://azure.microsoft.com/services/cognitive-services/face/?WT.mc_id=academic-77958-bethanycheum).\n",
    "\n",
    "All those cloud services can be called using [Python SDKs](https://docs.microsoft.com/samples/azure-samples/cognitive-services-python-sdk-samples/cognitive-services-python-sdk-samples/?WT.mc_id=academic-77958-bethanycheum), and thus can be easily incorporated into your data exploration workflow.\n",
    "\n",
    "Here are some examples of exploring data from Image data sources:\n",
    "\n",
    "- In the blog post [How to Learn Data Science without Coding](https://soshnikov.com/azure/how-to-learn-data-science-without-coding/) we explore Instagram photos, trying to understand what makes people give more likes to a photo. We first extract as much information from pictures as possible using [computer vision](https://azure.microsoft.com/services/cognitive-services/computer-vision/?WT.mc_id=academic-77958-bethanycheum), and then use [Azure Machine Learning AutoML](https://docs.microsoft.com/azure/machine-learning/concept-automated-ml/?WT.mc_id=academic-77958-bethanycheum) to build the interpretable model.\n",
    "- In [Facial Studies Workshop](https://github.com/CloudAdvocacy/FaceStudies) we use [Face API](https://azure.microsoft.com/services/cognitive-services/face/?WT.mc_id=academic-77958-bethanycheum) to extract emotions from people on photographs from events, in order to try to understand what makes people happy.\n",
    "\n",
    "### Assignment\n",
    "\n",
    "[Perform more detailed data study for the challenges above](../../assignments/data-science/data-processing-in-python.md)\n",
    "\n",
    "## Self study\n",
    "\n",
    "In this chapter, we've covered many of the basics of using Pandas effectively for data analysis. Still, much has been omitted from our discussion. To learn more about Pandas, we recommend the following resources:\n",
    "\n",
    "- [Pandas online documentation](http://pandas.pydata.org/): This is the go-to source for complete documentation of the package. While the examples in the documentation tend to be small generated datasets, the description of the options is complete and generally very useful for understanding the use of various functions.\n",
    "\n",
    "- [*Python for Data Analysis*](http://shop.oreilly.com/product/0636920023784.do) Written by Wes McKinney (the original creator of Pandas), this book contains much more detail on the Pandas package than we had room for in this chapter. In particular, he takes a deep dive into tools for time series, which were his bread and butter as a financial consultant. The book also has many entertaining examples of applying Pandas to gain insight from real-world datasets. Keep in mind, though, that the book is now several years old, and the Pandas package has quite a few new features that this book does not cover (but be on the lookout for a new edition in 2017).\n",
    "\n",
    "- [Stack Overflow](http://stackoverflow.com/questions/tagged/pandas): Pandas has so many users that any question you have has likely been asked and answered on Stack Overflow. Using Pandas is a case where some Google-Fu is your best friend. Simply go to your favorite search engine and type in the question, problem, or error you're coming across–more than likely you'll find your answer on a Stack Overflow page.\n",
    "\n",
    "- [Pandas on PyVideo](http://pyvideo.org/search?q=pandas): From PyCon to SciPy to PyData, many conferences have featured tutorials from Pandas developers and power users. The PyCon tutorials in particular tend to be given by very well-vetted presenters.\n",
    "\n",
    "Using these resources, combined with the walk-through given in this chapter, my hope is that you'll be poised to use Pandas to tackle any data analysis problem you come across!\n",
    "\n",
    "## Acknowledgments\n",
    "\n",
    "Thanks for [Pandas user guide](https://pandas.pydata.org/docs/user_guide/index.html). It contributes the majority of the content in this chapter."
   ]
  }
 ],
 "metadata": {
  "kernelspec": {
   "display_name": "Python 3 (ipykernel)",
   "language": "python",
   "name": "python3"
  },
  "language_info": {
   "codemirror_mode": {
    "name": "ipython",
    "version": 3
   },
   "file_extension": ".py",
   "mimetype": "text/x-python",
   "name": "python",
   "nbconvert_exporter": "python",
   "pygments_lexer": "ipython3",
   "version": "3.11.1"
  }
 },
 "nbformat": 4,
 "nbformat_minor": 5
}
