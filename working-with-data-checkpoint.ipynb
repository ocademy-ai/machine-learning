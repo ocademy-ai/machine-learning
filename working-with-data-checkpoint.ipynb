{
 "cells": [
  {
   "cell_type": "markdown",
   "id": "13c12c88-d592-4128-8f5d-b4ff58920f4b",
   "metadata": {
    "editable": true,
    "slideshow": {
     "slide_type": ""
    },
    "tags": [
     "hide-cell"
    ]
   },
   "source": [
    "---\n",
    "jupytext:\n",
    "  cell_metadata_filter: -all\n",
    "  formats: md:myst\n",
    "  text_representation:\n",
    "    extension: .md\n",
    "    format_name: myst\n",
    "    format_version: 0.13\n",
    "    jupytext_version: 1.11.5\n",
    "kernelspec:\n",
    "  display_name: Python 3\n",
    "  language: python\n",
    "  name: python3\n",
    "---"
   ]
  },
  {
   "cell_type": "code",
   "execution_count": null,
   "id": "e2029bd1-927e-4405-9693-49a8b61f25e5",
   "metadata": {
    "editable": true,
    "scrolled": true,
    "slideshow": {
     "slide_type": ""
    },
    "tags": [
     "hide-input"
    ]
   },
   "outputs": [],
   "source": [
    "import os\n",
    "import sys\n",
    "!{sys.executable} -m pip install --quiet pandas scikit-learn numpy matplotlib jupyterlab_myst ipython"
   ]
  },
  {
   "cell_type": "markdown",
   "id": "ff00ab36",
   "metadata": {
    "editable": true,
    "slideshow": {
     "slide_type": ""
    },
    "tags": []
   },
   "source": [
    "# Working with data\n",
    "\n",
    "![](https://static-1300131294.cos.ap-shanghai.myqcloud.com/images/data-love.jpeg)\n",
    "\n",
    "> Photo by <a href=\"https://unsplash.com/@swimstaralex?utm_source=unsplash&utm_medium=referral&utm_content=creditCopyText\">Alexander Sinn</a> on <a href=\"https://unsplash.com/s/photos/data?utm_source=unsplash&utm_medium=referral&utm_content=creditCopyText\">Unsplash</a>\n",
    "\n",
    "In these sections, you will learn some of the ways that data can be managed, manipulated, and used in applications. You will learn about relational and non-relational databases and how data can be stored in them. You'll learn the fundamentals of working with Python to manage data, and you'll discover some of the many ways that you can work with Python to manage and mine data.\n",
    "\n",
    "---"
   ]
  },
  {
   "cell_type": "raw",
   "id": "c2533e03-cf9d-4398-9686-bb5f1a196fff",
   "metadata": {
    "editable": true,
    "raw_mimetype": "",
    "slideshow": {
     "slide_type": ""
    },
    "tags": []
   },
   "source": [
    ":::{tableofcontents}\n",
    ":::"
   ]
  }
 ],
 "metadata": {
  "kernelspec": {
   "display_name": "Python 3 (ipykernel)",
   "language": "python",
   "name": "python3"
  },
  "language_info": {
   "codemirror_mode": {
    "name": "ipython",
    "version": 3
   },
   "file_extension": ".py",
   "mimetype": "text/x-python",
   "name": "python",
   "nbconvert_exporter": "python",
   "pygments_lexer": "ipython3",
   "version": "3.11.1"
  }
 },
 "nbformat": 4,
 "nbformat_minor": 5
}
