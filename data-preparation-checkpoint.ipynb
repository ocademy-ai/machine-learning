{
 "cells": [
  {
   "cell_type": "markdown",
   "id": "8ccadffd-e996-4ad0-9ff1-aac15c45661f",
   "metadata": {
    "editable": true,
    "slideshow": {
     "slide_type": ""
    },
    "tags": [
     "hide-cell"
    ]
   },
   "source": [
    "---\n",
    "jupytext:\n",
    "  cell_metadata_filter: -all\n",
    "  formats: md:myst\n",
    "  text_representation:\n",
    "    extension: .md\n",
    "    format_name: myst\n",
    "    format_version: 0.13\n",
    "    jupytext_version: 1.11.5\n",
    "kernelspec:\n",
    "  display_name: Python 3\n",
    "  language: python\n",
    "  name: python3\n",
    "  ---"
   ]
  },
  {
   "cell_type": "code",
   "execution_count": 1,
   "id": "40b9852f-e9ae-4f1d-8e7b-c299a202ee32",
   "metadata": {
    "editable": true,
    "slideshow": {
     "slide_type": ""
    },
    "tags": [
     "hide-input"
    ]
   },
   "outputs": [
    {
     "name": "stderr",
     "output_type": "stream",
     "text": [
      "DEPRECATION: Loading egg at c:\\users\\devin\\appdata\\local\\programs\\python\\python311\\lib\\site-packages\\notedown-1.5.1-py3.11.egg is deprecated. pip 23.3 will enforce this behaviour change. A possible replacement is to use pip for package installation..\n",
      "DEPRECATION: Loading egg at c:\\users\\devin\\appdata\\local\\programs\\python\\python311\\lib\\site-packages\\pandoc_attributes-0.1.7-py3.11.egg is deprecated. pip 23.3 will enforce this behaviour change. A possible replacement is to use pip for package installation..\n"
     ]
    }
   ],
   "source": [
    "import os\n",
    "import sys\n",
    "!{sys.executable} -m pip install --quiet pandas scikit-learn numpy matplotlib jupyterlab_myst ipython"
   ]
  },
  {
   "cell_type": "markdown",
   "id": "94e4acca-6327-4b89-9fca-bf1cbade231e",
   "metadata": {
    "attributes": {
     "classes": [
      "note"
     ],
     "id": ""
    },
    "editable": true,
    "raw_mimetype": "",
    "slideshow": {
     "slide_type": ""
    },
    "tags": []
   },
   "source": [
    "```{note}\n",
    "**Learning goal:** By the end of this subsection, you should be comfortable finding general information about the data stored in pandas DataFrames.\n",
    "```"
   ]
  },
  {
   "cell_type": "markdown",
   "id": "7168f521",
   "metadata": {
    "editable": true,
    "slideshow": {
     "slide_type": ""
    },
    "tags": []
   },
   "source": [
    "Once you have loaded your data into Pandas, it will more likely than not be in a DataFrame(refer to the previous [section](./pandas.md) for a detailed overview). However, if the data set in your DataFrame has 60,000 rows and 400 columns, how do you even begin to get a sense of what you're working with? Fortunately, [Pandas](https://pandas.pydata.org/) provides some convenient tools to quickly look at overall information about a DataFrame in addition to the first few and last few rows.\n",
    "\n",
    "In order to explore this functionality, we will import the Python scikit-learn library and use an iconic dataset: the **Iris data set**."
   ]
  },
  {
   "cell_type": "code",
   "execution_count": 2,
   "id": "2385c341",
   "metadata": {
    "attributes": {
     "classes": [
      "code-cell"
     ],
     "id": ""
    },
    "editable": true,
    "slideshow": {
     "slide_type": ""
    },
    "tags": [
     "hide-input",
     "hide-cell"
    ]
   },
   "outputs": [],
   "source": [
    "import pandas as pd\n",
    "from sklearn.datasets import load_iris\n",
    "\n",
    "iris = load_iris()\n",
    "iris_df = pd.DataFrame(data=iris['data'], columns=iris['feature_names'])"
   ]
  },
  {
   "cell_type": "markdown",
   "id": "2fa2b17f",
   "metadata": {
    "editable": true,
    "slideshow": {
     "slide_type": ""
    },
    "tags": []
   },
   "source": [
    "|                                        |sepal length (cm)|sepal width (cm)|petal length (cm)|petal width (cm)|\n",
    "|----------------------------------------|-----------------|----------------|-----------------|----------------|\n",
    "|0                                       |5.1              |3.5             |1.4              |0.2             |\n",
    "|1                                       |4.9              |3.0             |1.4              |0.2             |\n",
    "|2                                       |4.7              |3.2             |1.3              |0.2             |\n",
    "|3                                       |4.6              |3.1             |1.5              |0.2             |\n",
    "|4                                       |5.0              |3.6             |1.4              |0.2             |\n",
    "\n",
    "**`DataFrame.info()`**: To start, the `info()` method is used to print a summary of the content present in a `DataFrame`. Let's take a look at this dataset to see what we have:"
   ]
  },
  {
   "cell_type": "code",
   "execution_count": 3,
   "id": "a0132a88",
   "metadata": {
    "attributes": {
     "classes": [
      "code-cell"
     ],
     "id": ""
    },
    "editable": true,
    "slideshow": {
     "slide_type": ""
    },
    "tags": [
     "output-scroll"
    ]
   },
   "outputs": [
    {
     "name": "stdout",
     "output_type": "stream",
     "text": [
      "<class 'pandas.core.frame.DataFrame'>\n",
      "RangeIndex: 150 entries, 0 to 149\n",
      "Data columns (total 4 columns):\n",
      " #   Column             Non-Null Count  Dtype  \n",
      "---  ------             --------------  -----  \n",
      " 0   sepal length (cm)  150 non-null    float64\n",
      " 1   sepal width (cm)   150 non-null    float64\n",
      " 2   petal length (cm)  150 non-null    float64\n",
      " 3   petal width (cm)   150 non-null    float64\n",
      "dtypes: float64(4)\n",
      "memory usage: 4.8 KB\n"
     ]
    }
   ],
   "source": [
    "iris_df.info()"
   ]
  },
  {
   "cell_type": "markdown",
   "id": "04ca4c64",
   "metadata": {
    "editable": true,
    "slideshow": {
     "slide_type": ""
    },
    "tags": []
   },
   "source": [
    "From this, we know that the *Iris* dataset has 150 entries in four columns with no null entries. All of the data is stored as 64-bit floating-point numbers.\n",
    "\n",
    "**`DataFrame.head()`**: Next, to check the actual content of the `DataFrame`, we use the `head()` method. Let's see what the first few rows of our `iris_df` look like:"
   ]
  },
  {
   "cell_type": "code",
   "execution_count": 4,
   "id": "5657548e",
   "metadata": {
    "attributes": {
     "classes": [
      "code-cell"
     ],
     "id": ""
    },
    "editable": true,
    "slideshow": {
     "slide_type": ""
    },
    "tags": [
     "output-scroll"
    ]
   },
   "outputs": [
    {
     "data": {
      "text/html": [
       "<div>\n",
       "<style scoped>\n",
       "    .dataframe tbody tr th:only-of-type {\n",
       "        vertical-align: middle;\n",
       "    }\n",
       "\n",
       "    .dataframe tbody tr th {\n",
       "        vertical-align: top;\n",
       "    }\n",
       "\n",
       "    .dataframe thead th {\n",
       "        text-align: right;\n",
       "    }\n",
       "</style>\n",
       "<table border=\"1\" class=\"dataframe\">\n",
       "  <thead>\n",
       "    <tr style=\"text-align: right;\">\n",
       "      <th></th>\n",
       "      <th>sepal length (cm)</th>\n",
       "      <th>sepal width (cm)</th>\n",
       "      <th>petal length (cm)</th>\n",
       "      <th>petal width (cm)</th>\n",
       "    </tr>\n",
       "  </thead>\n",
       "  <tbody>\n",
       "    <tr>\n",
       "      <th>0</th>\n",
       "      <td>5.1</td>\n",
       "      <td>3.5</td>\n",
       "      <td>1.4</td>\n",
       "      <td>0.2</td>\n",
       "    </tr>\n",
       "    <tr>\n",
       "      <th>1</th>\n",
       "      <td>4.9</td>\n",
       "      <td>3.0</td>\n",
       "      <td>1.4</td>\n",
       "      <td>0.2</td>\n",
       "    </tr>\n",
       "    <tr>\n",
       "      <th>2</th>\n",
       "      <td>4.7</td>\n",
       "      <td>3.2</td>\n",
       "      <td>1.3</td>\n",
       "      <td>0.2</td>\n",
       "    </tr>\n",
       "    <tr>\n",
       "      <th>3</th>\n",
       "      <td>4.6</td>\n",
       "      <td>3.1</td>\n",
       "      <td>1.5</td>\n",
       "      <td>0.2</td>\n",
       "    </tr>\n",
       "    <tr>\n",
       "      <th>4</th>\n",
       "      <td>5.0</td>\n",
       "      <td>3.6</td>\n",
       "      <td>1.4</td>\n",
       "      <td>0.2</td>\n",
       "    </tr>\n",
       "  </tbody>\n",
       "</table>\n",
       "</div>"
      ],
      "text/plain": [
       "   sepal length (cm)  sepal width (cm)  petal length (cm)  petal width (cm)\n",
       "0                5.1               3.5                1.4               0.2\n",
       "1                4.9               3.0                1.4               0.2\n",
       "2                4.7               3.2                1.3               0.2\n",
       "3                4.6               3.1                1.5               0.2\n",
       "4                5.0               3.6                1.4               0.2"
      ]
     },
     "execution_count": 4,
     "metadata": {},
     "output_type": "execute_result"
    }
   ],
   "source": [
    "iris_df.head()"
   ]
  },
  {
   "cell_type": "markdown",
   "id": "117dce2f",
   "metadata": {
    "editable": true,
    "slideshow": {
     "slide_type": ""
    },
    "tags": []
   },
   "source": [
    "**`DataFrame.tail()`**: Conversely, to check the last few rows of the `DataFrame`, we use the `tail()` method:"
   ]
  },
  {
   "cell_type": "code",
   "execution_count": 5,
   "id": "d0ec454a",
   "metadata": {
    "attributes": {
     "classes": [
      "code-cell"
     ],
     "id": ""
    },
    "editable": true,
    "slideshow": {
     "slide_type": ""
    },
    "tags": [
     "output-scroll"
    ]
   },
   "outputs": [
    {
     "data": {
      "text/html": [
       "<div>\n",
       "<style scoped>\n",
       "    .dataframe tbody tr th:only-of-type {\n",
       "        vertical-align: middle;\n",
       "    }\n",
       "\n",
       "    .dataframe tbody tr th {\n",
       "        vertical-align: top;\n",
       "    }\n",
       "\n",
       "    .dataframe thead th {\n",
       "        text-align: right;\n",
       "    }\n",
       "</style>\n",
       "<table border=\"1\" class=\"dataframe\">\n",
       "  <thead>\n",
       "    <tr style=\"text-align: right;\">\n",
       "      <th></th>\n",
       "      <th>sepal length (cm)</th>\n",
       "      <th>sepal width (cm)</th>\n",
       "      <th>petal length (cm)</th>\n",
       "      <th>petal width (cm)</th>\n",
       "    </tr>\n",
       "  </thead>\n",
       "  <tbody>\n",
       "    <tr>\n",
       "      <th>145</th>\n",
       "      <td>6.7</td>\n",
       "      <td>3.0</td>\n",
       "      <td>5.2</td>\n",
       "      <td>2.3</td>\n",
       "    </tr>\n",
       "    <tr>\n",
       "      <th>146</th>\n",
       "      <td>6.3</td>\n",
       "      <td>2.5</td>\n",
       "      <td>5.0</td>\n",
       "      <td>1.9</td>\n",
       "    </tr>\n",
       "    <tr>\n",
       "      <th>147</th>\n",
       "      <td>6.5</td>\n",
       "      <td>3.0</td>\n",
       "      <td>5.2</td>\n",
       "      <td>2.0</td>\n",
       "    </tr>\n",
       "    <tr>\n",
       "      <th>148</th>\n",
       "      <td>6.2</td>\n",
       "      <td>3.4</td>\n",
       "      <td>5.4</td>\n",
       "      <td>2.3</td>\n",
       "    </tr>\n",
       "    <tr>\n",
       "      <th>149</th>\n",
       "      <td>5.9</td>\n",
       "      <td>3.0</td>\n",
       "      <td>5.1</td>\n",
       "      <td>1.8</td>\n",
       "    </tr>\n",
       "  </tbody>\n",
       "</table>\n",
       "</div>"
      ],
      "text/plain": [
       "     sepal length (cm)  sepal width (cm)  petal length (cm)  petal width (cm)\n",
       "145                6.7               3.0                5.2               2.3\n",
       "146                6.3               2.5                5.0               1.9\n",
       "147                6.5               3.0                5.2               2.0\n",
       "148                6.2               3.4                5.4               2.3\n",
       "149                5.9               3.0                5.1               1.8"
      ]
     },
     "execution_count": 5,
     "metadata": {},
     "output_type": "execute_result"
    }
   ],
   "source": [
    "iris_df.tail()"
   ]
  },
  {
   "cell_type": "markdown",
   "id": "35e20381-1f9f-4a32-a2d9-b958cef38285",
   "metadata": {
    "attributes": {
     "classes": [
      "note"
     ],
     "id": ""
    },
    "editable": true,
    "slideshow": {
     "slide_type": ""
    },
    "tags": []
   },
   "source": [
    ":::{note}\n",
    "**Takeaway:** Even just by looking at the metadata about the information in a DataFrame or the first and last few values in one, you can get an immediate idea about the size, shape, and content of the data you are dealing with.\n",
    ":::"
   ]
  },
  {
   "cell_type": "markdown",
   "id": "2a933eba",
   "metadata": {
    "editable": true,
    "slideshow": {
     "slide_type": ""
    },
    "tags": []
   },
   "source": [
    "## Dealing with missing data"
   ]
  },
  {
   "cell_type": "markdown",
   "id": "12edd530-ae01-42ec-b5ce-8cae7c9113e6",
   "metadata": {
    "attributes": {
     "classes": [
      "note"
     ],
     "id": ""
    },
    "editable": true,
    "slideshow": {
     "slide_type": ""
    },
    "tags": []
   },
   "source": [
    ":::{note}\n",
    "**Learning goal:** By the end of this subsection, you should know how to replace or remove null values from DataFrames.\n",
    ":::"
   ]
  },
  {
   "cell_type": "markdown",
   "id": "8bdbdd84",
   "metadata": {
    "editable": true,
    "slideshow": {
     "slide_type": ""
    },
    "tags": []
   },
   "source": [
    "Most of the time the datasets you want to use (or have to use) have missing values in them. How missing data is handled carries with it subtle tradeoffs that can affect your final analysis and real-world outcomes?\n",
    "\n",
    "Pandas handles missing values in two ways. The first you've seen before in previous sections: `NaN`, or Not a Number. This is actually a special value that is part of the IEEE floating-point specification and it is only used to indicate missing floating-point values.\n",
    "\n",
    "For missing values apart from floats, pandas uses the Python `None` object. While it might seem confusing that you will encounter two different kinds of values that say essentially the same thing, there are sound programmatic reasons for this design choice and, in practice, going this route enables pandas to deliver a good compromise for the vast majority of cases. Notwithstanding this, both `None` and `NaN` carry restrictions that you need to be mindful of with regard to how they can be used.\n",
    "\n",
    "Check out more about `NaN` and `None` from the [notebook](../../assignments/data-science/analyzing-data.ipynb)!\n",
    "\n",
    "**Detecting null values**: In `pandas`, the `isnull()` and `notnull()` methods are your primary methods for detecting null data. Both return Boolean masks over your data. We will be using `numpy` for `NaN` values:"
   ]
  },
  {
   "cell_type": "code",
   "execution_count": null,
   "id": "eb893ba8",
   "metadata": {
    "attributes": {
     "classes": [
      "code-cell"
     ],
     "id": ""
    },
    "editable": true,
    "slideshow": {
     "slide_type": ""
    },
    "tags": [
     "hide-input",
     "output-scroll"
    ]
   },
   "outputs": [],
   "source": [
    "import numpy as np\n",
    "\n",
    "example1 = pd.Series([0, np.nan, '', None])\n",
    "example1.isnull()"
   ]
  },
  {
   "cell_type": "markdown",
   "id": "18b77a63",
   "metadata": {},
   "source": [
    "Look closely at the output. Does any of it surprise you? While `0` is an arithmetic null, it's nevertheless a perfectly good integer and pandas treats it as such. `''` is a little more subtle. While we used it in Section 1 to represent an empty string value, it is nevertheless a string object and not a representation of null as far as pandas is concerned.\n",
    "\n",
    "Now, let's turn this around and use these methods in a manner more like you will use them in practice. You can use Boolean masks directly as a ``Series`` or ``DataFrame`` index, which can be useful when trying to work with isolated missing (or present) values."
   ]
  },
  {
   "cell_type": "markdown",
   "id": "9c9d0cda-9121-4766-bc4c-e0656eeb2385",
   "metadata": {
    "attributes": {
     "classes": [
      "note"
     ],
     "id": ""
    },
    "editable": true,
    "slideshow": {
     "slide_type": ""
    },
    "tags": []
   },
   "source": [
    ":::{note}\n",
    "**Takeaway**: Both the `isnull()` and `notnull()` methods produce similar results when you use them in `DataFrame`s: they show the results and the index of those results, which will help you enormously as you wrestle with your data.\n",
    ":::"
   ]
  },
  {
   "cell_type": "markdown",
   "id": "875f2398",
   "metadata": {
    "editable": true,
    "slideshow": {
     "slide_type": ""
    },
    "tags": []
   },
   "source": [
    "**Dropping null values**: Beyond identifying missing values, pandas provides a convenient means to remove null values from `Series` and `DataFrame`s. (Particularly on large data sets, it is often more advisable to simply remove missing [NA] values from your analysis than deal with them in other ways.) To see this in action, let's return to `example1`:"
   ]
  },
  {
   "cell_type": "code",
   "execution_count": null,
   "id": "9184a5b0",
   "metadata": {
    "attributes": {
     "classes": [
      "code-cell"
     ],
     "id": ""
    },
    "editable": true,
    "slideshow": {
     "slide_type": ""
    },
    "tags": [
     "output-scroll"
    ]
   },
   "outputs": [],
   "source": [
    "example1 = example1.dropna()\n",
    "example1"
   ]
  },
  {
   "cell_type": "markdown",
   "id": "ba66fafb",
   "metadata": {
    "editable": true,
    "slideshow": {
     "slide_type": ""
    },
    "tags": []
   },
   "source": [
    "Note that this should look like your output from `example3[example3.notnull()]`. The difference here is that, rather than just indexing on the masked values, `dropna` has removed those missing values from the `Series` `example1`.\n",
    "\n",
    "Because `DataFrame`s have two dimensions, they afford more options for dropping data."
   ]
  },
  {
   "cell_type": "code",
   "execution_count": null,
   "id": "ec9cfb17",
   "metadata": {
    "attributes": {
     "classes": [
      "code-cell"
     ],
     "id": ""
    },
    "editable": true,
    "slideshow": {
     "slide_type": ""
    },
    "tags": [
     "output-scroll"
    ]
   },
   "outputs": [],
   "source": [
    "example2 = pd.DataFrame([[1,      np.nan, 7], \n",
    "                         [2,      5,      8], \n",
    "                         [np.nan, 6,      9]])\n",
    "example2"
   ]
  },
  {
   "cell_type": "markdown",
   "id": "1e683604",
   "metadata": {
    "editable": true,
    "slideshow": {
     "slide_type": ""
    },
    "tags": []
   },
   "source": [
    "|      | 0 | 1 | 2 |\n",
    "|------|---|---|---|\n",
    "|0     |1.0|NaN|7  |\n",
    "|1     |2.0|5.0|8  |\n",
    "|2     |NaN|6.0|9  |\n",
    "\n",
    "(Did you notice that pandas upcast two of the columns to floats to accommodate the `NaN`s?)\n",
    "\n",
    "You cannot drop a single value from a `DataFrame`, so you have to drop full rows or columns. Depending on what you are doing, you might want to do one or the other, and so pandas gives you options for both. Because in data science, columns generally represent variables and rows represent observations, you are more likely to drop rows of data; the default setting for `dropna()` is to drop all rows that contain any null values:"
   ]
  },
  {
   "cell_type": "code",
   "execution_count": null,
   "id": "f987906d-be44-406a-8810-dc833b591236",
   "metadata": {
    "attributes": {
     "classes": [
      "code-cell"
     ],
     "id": ""
    },
    "editable": true,
    "slideshow": {
     "slide_type": ""
    },
    "tags": [
     "output-scroll"
    ]
   },
   "outputs": [],
   "source": [
    "example2.dropna()"
   ]
  },
  {
   "cell_type": "markdown",
   "id": "829fd3bc",
   "metadata": {},
   "source": [
    "If necessary, you can drop NA values from columns. Use `axis=1` to do so:"
   ]
  },
  {
   "cell_type": "code",
   "execution_count": null,
   "id": "244c19bc",
   "metadata": {
    "attributes": {
     "classes": [
      "code-cell"
     ],
     "id": ""
    },
    "editable": true,
    "slideshow": {
     "slide_type": ""
    },
    "tags": [
     "output-scroll"
    ]
   },
   "outputs": [],
   "source": [
    "example2.dropna(axis='columns')"
   ]
  },
  {
   "cell_type": "markdown",
   "id": "5fc9e331",
   "metadata": {},
   "source": [
    "Notice that this can drop a lot of data that you might want to keep, particularly in smaller datasets. What if you just want to drop rows or columns that contain several or even just all null values? You specify those setting in `dropna` with the `how` and `thresh` parameters.\n",
    "\n",
    "By default, `how='any'` (if you would like to check for yourself or see what other parameters the method has, run `example4.dropna?` in a code cell). You could alternatively specify `how='all'` so as to drop only rows or columns that contain all null values. Let's expand our example `DataFrame` to see this in action."
   ]
  },
  {
   "cell_type": "code",
   "execution_count": null,
   "id": "5a0ceee0",
   "metadata": {
    "attributes": {
     "classes": [
      "code-cell"
     ],
     "id": ""
    },
    "editable": true,
    "slideshow": {
     "slide_type": ""
    },
    "tags": [
     "output-scroll"
    ]
   },
   "outputs": [],
   "source": [
    "example2[3] = np.nan\n",
    "example2"
   ]
  },
  {
   "cell_type": "markdown",
   "id": "17f38eca",
   "metadata": {},
   "source": [
    "|      |0  |1  |2  |3  |\n",
    "|------|---|---|---|---|\n",
    "|0     |1.0|NaN|7  |NaN|\n",
    "|1     |2.0|5.0|8  |NaN|\n",
    "|2     |NaN|6.0|9  |NaN|\n",
    "\n",
    "The `thresh` parameter gives you finer-grained control: you set the number of *non-null* values that a row or column needs to have in order to be kept:"
   ]
  },
  {
   "cell_type": "code",
   "execution_count": null,
   "id": "7f19a73a",
   "metadata": {
    "attributes": {
     "classes": [
      "code-cell"
     ],
     "id": ""
    },
    "editable": true,
    "slideshow": {
     "slide_type": ""
    },
    "tags": [
     "output-scroll"
    ]
   },
   "outputs": [],
   "source": [
    "example2.dropna(axis='rows', thresh=3)"
   ]
  },
  {
   "cell_type": "markdown",
   "id": "e4e82deb",
   "metadata": {},
   "source": [
    "Here, the first and last rows have been dropped, because they contain only two non-null values.\n",
    "\n",
    "**Filling null values**: Depending on your dataset, it can sometimes make more sense to fill null values with valid ones rather than drop them. You could use `isnull` to do this in place, but that can be laborious, particularly if you have a lot of values to fill. Because this is such a common task in data science, pandas provides `fillna`, which returns a copy of the `Series` or `DataFrame` with the missing values replaced with one of your choosing. Let's create another example `Series` to see how this works in practice."
   ]
  },
  {
   "cell_type": "code",
   "execution_count": null,
   "id": "4da2fe02",
   "metadata": {
    "attributes": {
     "classes": [
      "code-cell"
     ],
     "id": ""
    },
    "editable": true,
    "slideshow": {
     "slide_type": ""
    },
    "tags": [
     "output-scroll"
    ]
   },
   "outputs": [],
   "source": [
    "example3 = pd.Series([1, np.nan, 2, None, 3], index=list('abcde'))\n",
    "example3"
   ]
  },
  {
   "cell_type": "markdown",
   "id": "0a5ba4dc",
   "metadata": {},
   "source": [
    "You can fill all of the null entries with a single value, such as `0`:"
   ]
  },
  {
   "cell_type": "code",
   "execution_count": null,
   "id": "2e6a1c21",
   "metadata": {
    "attributes": {
     "classes": [
      "code-cell"
     ],
     "id": ""
    },
    "editable": true,
    "slideshow": {
     "slide_type": ""
    },
    "tags": [
     "output-scroll"
    ]
   },
   "outputs": [],
   "source": [
    "example3.fillna(0)"
   ]
  },
  {
   "cell_type": "markdown",
   "id": "3ba21e4b",
   "metadata": {},
   "source": [
    "You can **forward-fill** null values, which is to use the last valid value to fill a null:"
   ]
  },
  {
   "cell_type": "code",
   "execution_count": null,
   "id": "8fad8695",
   "metadata": {
    "attributes": {
     "classes": [
      "code-cell"
     ],
     "id": ""
    },
    "editable": true,
    "slideshow": {
     "slide_type": ""
    },
    "tags": [
     "output-scroll"
    ]
   },
   "outputs": [],
   "source": [
    "example3.fillna(method='ffill')"
   ]
  },
  {
   "cell_type": "markdown",
   "id": "fb26bf35",
   "metadata": {},
   "source": [
    "You can also **back-fill** to propagate the next valid value backward to fill a null:"
   ]
  },
  {
   "cell_type": "code",
   "execution_count": null,
   "id": "fafd8eff",
   "metadata": {
    "attributes": {
     "classes": [
      "code-cell"
     ],
     "id": ""
    },
    "editable": true,
    "slideshow": {
     "slide_type": ""
    },
    "tags": [
     "output-scroll"
    ]
   },
   "outputs": [],
   "source": [
    "example3.fillna(method='bfill')"
   ]
  },
  {
   "cell_type": "markdown",
   "id": "5686728e",
   "metadata": {},
   "source": [
    "As you might guess, this works the same with `DataFrame`s, but you can also specify an `axis` along which to fill null values. taking the previously used `example2` again:"
   ]
  },
  {
   "cell_type": "code",
   "execution_count": null,
   "id": "0179cae7",
   "metadata": {
    "attributes": {
     "classes": [
      "code-cell"
     ],
     "id": ""
    },
    "editable": true,
    "slideshow": {
     "slide_type": ""
    },
    "tags": [
     "output-scroll"
    ]
   },
   "outputs": [],
   "source": [
    "example2.fillna(method='ffill', axis=1)"
   ]
  },
  {
   "cell_type": "markdown",
   "id": "f9ed1d2b",
   "metadata": {},
   "source": [
    "Notice that when a previous value is not available for forward-filling, the null value remains."
   ]
  },
  {
   "cell_type": "markdown",
   "id": "641eb983-d053-4ec9-9f90-311c1fefdf79",
   "metadata": {
    "attributes": {
     "classes": [
      "note"
     ],
     "id": ""
    },
    "editable": true,
    "slideshow": {
     "slide_type": ""
    },
    "tags": []
   },
   "source": [
    ":::{note}\n",
    "**Takeaway:** There are multiple ways to deal with missing values in your datasets. The specific strategy you use (removing them, replacing them, or even how you replace them) should be dictated by the particulars of that data. You will develop a better sense of how to deal with missing values the more you handle and interact with datasets.\n",
    ":::"
   ]
  },
  {
   "cell_type": "markdown",
   "id": "ff48c167",
   "metadata": {
    "editable": true,
    "slideshow": {
     "slide_type": ""
    },
    "tags": []
   },
   "source": [
    "## Removing duplicate data"
   ]
  },
  {
   "cell_type": "markdown",
   "id": "c4faa09a-f835-41c1-b6af-5e200407690a",
   "metadata": {
    "attributes": {
     "classes": [
      "note"
     ],
     "id": ""
    },
    "editable": true,
    "slideshow": {
     "slide_type": ""
    },
    "tags": []
   },
   "source": [
    ":::{note}\n",
    "**Learning goal:** By the end of this subsection, you should be comfortable identifying and removing duplicate values from DataFrames.\n",
    ":::"
   ]
  },
  {
   "cell_type": "markdown",
   "id": "52f78f6b",
   "metadata": {
    "editable": true,
    "slideshow": {
     "slide_type": ""
    },
    "tags": []
   },
   "source": [
    "In addition to missing data, you will often encounter duplicated data in real-world datasets. Fortunately, Pandas provides an easy means of detecting and removing duplicate entries.\n",
    "\n",
    "**Identifying duplicates: `duplicated`**: You can easily spot duplicate values using the `duplicated` method in Pandas, which returns a Boolean mask indicating whether an entry in a `DataFrame` is a duplicate of an earlier one. Let's create another example `DataFrame` to see this in action."
   ]
  },
  {
   "cell_type": "code",
   "execution_count": null,
   "id": "210eb4dd",
   "metadata": {
    "attributes": {
     "classes": [
      "code-cell"
     ],
     "id": ""
    },
    "editable": true,
    "slideshow": {
     "slide_type": ""
    },
    "tags": [
     "output-scroll"
    ]
   },
   "outputs": [],
   "source": [
    "example4 = pd.DataFrame({'letters': ['A','B'] * 2 + ['B'],\n",
    "                         'numbers': [1, 2, 1, 3, 3]})\n",
    "example4"
   ]
  },
  {
   "cell_type": "markdown",
   "id": "84f14b35",
   "metadata": {},
   "source": [
    "|      |letters|numbers|\n",
    "|------|-------|-------|\n",
    "|0     |A      |1      |\n",
    "|1     |B      |2      |\n",
    "|2     |A      |1      |\n",
    "|3     |B      |3      |\n",
    "|4     |B      |3      |"
   ]
  },
  {
   "cell_type": "code",
   "execution_count": null,
   "id": "11eb1575",
   "metadata": {
    "attributes": {
     "classes": [
      "code-cell"
     ],
     "id": ""
    },
    "editable": true,
    "slideshow": {
     "slide_type": ""
    },
    "tags": [
     "output-scroll"
    ]
   },
   "outputs": [],
   "source": [
    "example4.duplicated()"
   ]
  },
  {
   "cell_type": "markdown",
   "id": "b5e8c16d",
   "metadata": {},
   "source": [
    "**Dropping duplicates: `drop_duplicates`:** simply returns a copy of the data for which all of the `duplicated` values are `False`:"
   ]
  },
  {
   "cell_type": "code",
   "execution_count": null,
   "id": "01ab79b6",
   "metadata": {
    "attributes": {
     "classes": [
      "code-cell"
     ],
     "id": ""
    },
    "editable": true,
    "slideshow": {
     "slide_type": ""
    },
    "tags": [
     "output-scroll"
    ]
   },
   "outputs": [],
   "source": [
    "example4.drop_duplicates()"
   ]
  },
  {
   "cell_type": "markdown",
   "id": "5e40d813",
   "metadata": {
    "editable": true,
    "slideshow": {
     "slide_type": ""
    },
    "tags": []
   },
   "source": [
    "Both `duplicated` and `drop_duplicates` default to consider all columns but you can specify that they examine only a subset of columns in your `DataFrame`:"
   ]
  },
  {
   "cell_type": "code",
   "execution_count": null,
   "id": "30e9edbf",
   "metadata": {
    "attributes": {
     "classes": [
      "code-cell"
     ],
     "id": ""
    },
    "editable": true,
    "slideshow": {
     "slide_type": ""
    },
    "tags": [
     "output-scroll"
    ]
   },
   "outputs": [],
   "source": [
    "example4.drop_duplicates(['letters'])"
   ]
  },
  {
   "cell_type": "markdown",
   "id": "465b02f1-4e41-4177-a716-e5bb9929ebb0",
   "metadata": {
    "attributes": {
     "classes": [
      "note"
     ],
     "id": ""
    },
    "editable": true,
    "slideshow": {
     "slide_type": ""
    },
    "tags": []
   },
   "source": [
    ":::{note}\n",
    "**Takeaway:** Removing duplicate data is an essential part of almost every data-science project. Duplicate data can change the results of your analyses and give you inaccurate results!\n",
    ":::"
   ]
  },
  {
   "cell_type": "markdown",
   "id": "01b13800",
   "metadata": {
    "editable": true,
    "slideshow": {
     "slide_type": ""
    },
    "tags": []
   },
   "source": [
    "## Self study\n",
    "\n",
    "There are many ways to discover and approach preparing your data for analysis and modeling and cleaning the data is an important step that is a \"hands on\" experience. Try these challenges from Kaggle to explore techniques that this section didn't cover.\n",
    "\n",
    "- [Data Cleaning Challenge: Parsing Dates](https://www.kaggle.com/rtatman/data-cleaning-challenge-parsing-dates/)\n",
    "- [Data Cleaning Challenge: Scale and Normalize Data](https://www.kaggle.com/rtatman/data-cleaning-challenge-scale-and-normalize-data)\n",
    "\n",
    "## Your turn! 🚀\n",
    "\n",
    "All of the discussed materials are provided as a [Jupyter Notebook](../../assignments/data-science/data-preparation.ipynb). Additionally, there are exercises present after each section, give them a try!\n",
    "\n",
    "Task - [Evaluating data from a form](../../assignments/data-science/evaluating-data-from-a-form.ipynb)\n",
    "\n",
    "## Acknowledgments\n",
    "\n",
    "Thanks to Microsoft for creating the open-source course [Data Science for Beginners](https://github.com/microsoft/Data-Science-For-Beginners). It inspires the majority of the content in this chapter."
   ]
  }
 ],
 "metadata": {
  "kernelspec": {
   "display_name": "Python 3 (ipykernel)",
   "language": "python",
   "name": "python3"
  },
  "language_info": {
   "codemirror_mode": {
    "name": "ipython",
    "version": 3
   },
   "file_extension": ".py",
   "mimetype": "text/x-python",
   "name": "python",
   "nbconvert_exporter": "python",
   "pygments_lexer": "ipython3",
   "version": "3.11.1"
  },
  "toc": {
   "base_numbering": 0
  }
 },
 "nbformat": 4,
 "nbformat_minor": 5
}
