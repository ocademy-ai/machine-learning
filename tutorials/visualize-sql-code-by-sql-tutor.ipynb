{
 "cells": [
  {
   "cell_type": "markdown",
   "id": "228ece6a-e181-4668-8ff4-0c66cbd3701c",
   "metadata": {},
   "source": [
    "# Visualize SQL with SQLTutor\n",
    "\n",
    "\n",
    "Created by Eugene Wu and Robert Ward, [SQLTutor](https://github.com/cudbg/sqltutor) visualizes each operator in the SQL query plan. It is an open-source web-based tool for learning SQL. 🐘\n",
    "\n",
    "It's Interactive.\n",
    "Users can Click on an operator to visualize its input and output tables, along with their row/column dependence.👍\n",
    "\n",
    "It also supports adding tables in CSV textareasv data. 💾\n",
    "\n",
    "Overall, we think it's a great tool to learn and teach SQL. 🎓👨‍🏫 \n",
    "Definitely check it out if you want to level up your SQL skills.\n",
    "\n"
   ]
  },
  {
   "cell_type": "markdown",
   "id": "949bad9f-7e40-4669-abc4-b301ff5a9b62",
   "metadata": {},
   "source": [
    "## Get started"
   ]
  },
  {
   "cell_type": "code",
   "execution_count": 1,
   "id": "ce1b9d3f-0b45-4d2a-90d0-ecd4023a6ada",
   "metadata": {},
   "outputs": [],
   "source": [
    "# Install the necessary dependencies\n",
    "\n",
    "import os\n",
    "import sys\n",
    "!{sys.executable} -m pip install --quiet ipython\n",
    "\n",
    "from IPython.display import HTML"
   ]
  },
  {
   "cell_type": "markdown",
   "id": "8b5e4be8-fe76-4043-84d5-7f803b6d3440",
   "metadata": {},
   "source": [
    "## Visualize SELECT\n",
    "\n",
    "```SQL\n",
    "SELECT *\n",
    "FROM sailors\n",
    "WHERE rating > 5\n",
    "```"
   ]
  },
  {
   "cell_type": "code",
   "execution_count": 2,
   "id": "ed097095-7e31-4754-8a18-030fd12edb89",
   "metadata": {},
   "outputs": [
    {
     "data": {
      "text/html": [
       "\n",
       "  <iframe width=\"1000\" height=\"1600\" scrolling=\"no\" frameborder=\"0\" src=\"https://cudbg.github.io/sqltutor/?q=select%20*%0Afrom%20sailors%0Awhere%20rating%20%3E%205&csvs=%5B%5D\"> </iframe>\n"
      ],
      "text/plain": [
       "<IPython.core.display.HTML object>"
      ]
     },
     "metadata": {},
     "output_type": "display_data"
    }
   ],
   "source": [
    "display(HTML(\"\"\"\n",
    "  <iframe width=\"1000\" height=\"1600\" scrolling=\"no\" frameborder=\"0\" src=\"https://cudbg.github.io/sqltutor/?q=select%20*%0Afrom%20sailors%0Awhere%20rating%20%3E%205&csvs=%5B%5D\"> </iframe>\n",
    "\"\"\"))"
   ]
  },
  {
   "cell_type": "markdown",
   "id": "94a6582b-283a-4ab8-a73c-8c8a66e88e35",
   "metadata": {},
   "source": [
    "## Visualize JOIN\n",
    "\n",
    "```SQL\n",
    "SELECT s.sid, r.bid\n",
    "FROM sailors as s,\n",
    "     reserves as r\n",
    "WHERE s.sid = r.sid\n",
    "```"
   ]
  },
  {
   "cell_type": "code",
   "execution_count": 3,
   "id": "60dd7f66-0731-4bab-84b9-049b986e6b10",
   "metadata": {},
   "outputs": [
    {
     "data": {
      "text/html": [
       "\n",
       "  <iframe width=\"1000\" height=\"1600\" scrolling=\"no\" frameborder=\"0\" src=\"https://cudbg.github.io/sqltutor/?q=SELECT%20s.sid,%20r.bid%0AFROM%20sailors%20as%20s,%0A%20%20%20%20%20reserves%20as%20r%0AWHERE%20s.sid%20=%20r.sid&csvs=%5B%5D\"> </iframe>\n"
      ],
      "text/plain": [
       "<IPython.core.display.HTML object>"
      ]
     },
     "metadata": {},
     "output_type": "display_data"
    }
   ],
   "source": [
    "display(HTML(\"\"\"\n",
    "  <iframe width=\"1000\" height=\"1600\" scrolling=\"no\" frameborder=\"0\" src=\"https://cudbg.github.io/sqltutor/?q=SELECT%20s.sid,%20r.bid%0AFROM%20sailors%20as%20s,%0A%20%20%20%20%20reserves%20as%20r%0AWHERE%20s.sid%20=%20r.sid&csvs=%5B%5D\"> </iframe>\n",
    "\"\"\"))"
   ]
  },
  {
   "cell_type": "markdown",
   "id": "ca5cf57a-3c76-4d8c-ae65-e0e5f4f79f70",
   "metadata": {},
   "source": [
    "## Visualize GROUPBY\n",
    "\n",
    "Consider a slightly more complex query like this. SQLtutor breaks it down step-by-step.\n",
    "```SQL\n",
    "SELECT s.sid, sum(s.age)\n",
    "FROM sailors as s,\n",
    "     reserves as r\n",
    "WHERE s.sid = r.sid\n",
    "GROUP BY s.sid\n",
    "HAVING count(1) > 1\n",
    "```"
   ]
  },
  {
   "cell_type": "code",
   "execution_count": 4,
   "id": "d654b88b",
   "metadata": {},
   "outputs": [
    {
     "data": {
      "text/html": [
       "\n",
       "  <iframe width=\"1000\" height=\"1600\" scrolling=\"no\" frameborder=\"0\" src=\"https://cudbg.github.io/sqltutor/?q=SELECT%20s.sid,%20sum(s.age)%0AFROM%20sailors%20as%20s,%0A%20%20%20%20%20reserves%20as%20r%0AWHERE%20s.sid%20=%20r.sid%0AGROUP%20BY%20s.sid%0AHAVING%20count(1)%20%3E%201&csvs=%5B%5D\"> </iframe>\n"
      ],
      "text/plain": [
       "<IPython.core.display.HTML object>"
      ]
     },
     "metadata": {},
     "output_type": "display_data"
    }
   ],
   "source": [
    "display(HTML(\"\"\"\n",
    "  <iframe width=\"1000\" height=\"1600\" scrolling=\"no\" frameborder=\"0\" src=\"https://cudbg.github.io/sqltutor/?q=SELECT%20s.sid,%20sum(s.age)%0AFROM%20sailors%20as%20s,%0A%20%20%20%20%20reserves%20as%20r%0AWHERE%20s.sid%20=%20r.sid%0AGROUP%20BY%20s.sid%0AHAVING%20count(1)%20%3E%201&csvs=%5B%5D\"> </iframe>\n",
    "\"\"\"))"
   ]
  },
  {
   "cell_type": "code",
   "execution_count": null,
   "id": "9ff172bd-04a1-47a5-9ada-87fb8ea461e2",
   "metadata": {},
   "outputs": [],
   "source": []
  }
 ],
 "metadata": {
  "kernelspec": {
   "display_name": "Python 3 (ipykernel)",
   "language": "python",
   "name": "python3"
  },
  "language_info": {
   "codemirror_mode": {
    "name": "ipython",
    "version": 3
   },
   "file_extension": ".py",
   "mimetype": "text/x-python",
   "name": "python",
   "nbconvert_exporter": "python",
   "pygments_lexer": "ipython3",
   "version": "3.8.6"
  }
 },
 "nbformat": 4,
 "nbformat_minor": 5
}
