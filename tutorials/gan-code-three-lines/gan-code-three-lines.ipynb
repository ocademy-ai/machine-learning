{
 "cells": [
  {
   "cell_type": "code",
   "execution_count": 1,
   "id": "e94dd520-6fd9-47ef-be88-e569cf4926b8",
   "metadata": {},
   "outputs": [],
   "source": [
    "import numpy as np\n",
    "import matplotlib.pyplot as plt\n",
    "from tensorflow import keras\n",
    "import warnings\n",
    "warnings.filterwarnings('ignore')"
   ]
  },
  {
   "cell_type": "code",
   "execution_count": 2,
   "id": "96650249-1ed3-4977-932e-ad4536de9372",
   "metadata": {},
   "outputs": [
    {
     "data": {
      "text/plain": [
       "array([[-0.17546075,  1.13177628, -2.60593429, ..., -0.02580361,\n",
       "        -0.39047748,  0.48420129],\n",
       "       [-0.38157264, -0.17321876,  1.48766689, ..., -0.51373312,\n",
       "         0.60010188,  0.73576374],\n",
       "       [ 0.96374613, -0.0922311 ,  0.11979711, ...,  0.71799336,\n",
       "         0.49176819, -1.82401146],\n",
       "       ...,\n",
       "       [-2.0229303 ,  0.66322717, -0.75382544, ..., -0.74140849,\n",
       "         0.69045199, -1.54986274],\n",
       "       [ 0.22338408,  0.57347203,  0.6821966 , ...,  0.26103449,\n",
       "        -0.29175868,  1.97617291],\n",
       "       [ 1.9404898 ,  0.67052671, -1.05522669, ..., -1.08806885,\n",
       "        -2.88452957,  0.31423995]])"
      ]
     },
     "execution_count": 2,
     "metadata": {},
     "output_type": "execute_result"
    }
   ],
   "source": [
    "noise = np.random.normal(loc = 0, scale = 1, size = [100, 100])\n",
    "noise"
   ]
  },
  {
   "cell_type": "code",
   "execution_count": 3,
   "id": "aac36e09-ffae-47e4-93b3-64b791662133",
   "metadata": {},
   "outputs": [
    {
     "data": {
      "text/plain": [
       "<keras.engine.sequential.Sequential at 0x1057e5ab0>"
      ]
     },
     "execution_count": 3,
     "metadata": {},
     "output_type": "execute_result"
    }
   ],
   "source": [
    "generator_model = keras.models.load_model('gan-model.hdf5')\n",
    "generator_model"
   ]
  },
  {
   "cell_type": "code",
   "execution_count": 4,
   "id": "082d3863-06d3-4d74-b2aa-bb1f6640b5a3",
   "metadata": {},
   "outputs": [
    {
     "name": "stdout",
     "output_type": "stream",
     "text": [
      "4/4 [==============================] - 0s 2ms/step\n"
     ]
    },
    {
     "name": "stderr",
     "output_type": "stream",
     "text": [
      "2023-10-31 11:40:51.803088: W tensorflow/core/platform/profile_utils/cpu_utils.cc:128] Failed to get CPU frequency: 0 Hz\n"
     ]
    },
    {
     "data": {
      "text/plain": [
       "(100, 28, 28)"
      ]
     },
     "execution_count": 4,
     "metadata": {},
     "output_type": "execute_result"
    }
   ],
   "source": [
    "generated_images = generator_model.predict(noise).reshape(100, 28, 28)\n",
    "generated_images.shape"
   ]
  },
  {
   "cell_type": "code",
   "execution_count": 5,
   "id": "b02fe871-596a-492d-b5d8-d946a0f51a5f",
   "metadata": {},
   "outputs": [
    {
     "data": {
      "image/png": "[encoded data removed]",
      "text/plain": [
       "<Figure size 640x480 with 1 Axes>"
      ]
     },
     "metadata": {},
     "output_type": "display_data"
    }
   ],
   "source": [
    "plt.imshow(generated_images[32], interpolation=\"nearest\")\n",
    "plt.axis(\"off\")\n",
    "plt.show()"
   ]
  }
 ],
 "metadata": {
  "kernelspec": {
   "display_name": "Python 3 (ipykernel)",
   "language": "python",
   "name": "python3"
  },
  "language_info": {
   "codemirror_mode": {
    "name": "ipython",
    "version": 3
   },
   "file_extension": ".py",
   "mimetype": "text/x-python",
   "name": "python",
   "nbconvert_exporter": "python",
   "pygments_lexer": "ipython3",
   "version": "3.10.6"
  }
 },
 "nbformat": 4,
 "nbformat_minor": 5
}
