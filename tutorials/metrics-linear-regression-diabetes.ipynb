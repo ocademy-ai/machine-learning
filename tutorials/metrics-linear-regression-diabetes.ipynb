{
 "cells": [
  {
   "cell_type": "markdown",
   "metadata": {
    "id": "nWlTdQke4ptj"
   },
   "source": [
    "# **Linear Regression - SKLearn Diabetes Dataset**"
   ]
  },
  {
   "cell_type": "markdown",
   "metadata": {},
   "source": [
    "The application of machine learning in medical fields such as cancer detection and diagnosis, drug research and development, and medical image analysis is nothing new. There are many start-ups here, as well as big players such as Google Health, DeepMind, and IBM Watson Health. Treating diseases is no small matter. Is the application of machine learning in the medical field really reliable? Practice is the only criterion for testing truth. Let’s try using machine learning to predict the course of diabetes."
   ]
  },
  {
   "cell_type": "markdown",
   "metadata": {},
   "source": [
    "![healthcare-ai-startups-to-watch](https://static-1300131294.cos.ap-shanghai.myqcloud.com/images/tutorials/code-for-videos/metrics-linear-regression-diabetes/healthcare-ai-startups-to-watch.png)"
   ]
  },
  {
   "cell_type": "markdown",
   "metadata": {},
   "source": [
    "We found a real data set online, which was collected by North Carolina State University in the United States in 2004. It contains the age, gender, body mass index (BMI), average blood pressure (BP) of 442 diabetic patients, and Six laboratory indicators including blood cholesterol concentration, a total of 10 characteristics."
   ]
  },
  {
   "cell_type": "markdown",
   "metadata": {},
   "source": [
    "![data-displaying](https://static-1300131294.cos.ap-shanghai.myqcloud.com/images/tutorials/code-for-videos/metrics-linear-regression-diabetes/data-display.png)"
   ]
  },
  {
   "cell_type": "code",
   "execution_count": null,
   "metadata": {
    "id": "rXlnGP1U4nlv"
   },
   "outputs": [],
   "source": [
    "%matplotlib inline\n",
    "\n",
    "import pandas as pd   \n",
    "import numpy as np    \n",
    "import sklearn        \n",
    "import seaborn as sns  \n",
    "from sklearn.model_selection import train_test_split\n",
    "import matplotlib.pyplot as plt  "
   ]
  },
  {
   "cell_type": "code",
   "execution_count": null,
   "metadata": {
    "id": "eFL2kJV86eOG"
   },
   "outputs": [],
   "source": [
    "from sklearn import datasets\n",
    "diabetes = datasets.load_diabetes()"
   ]
  },
  {
   "cell_type": "code",
   "execution_count": null,
   "metadata": {
    "colab": {
     "base_uri": "https://localhost:8080/"
    },
    "id": "noECL29j8RYK",
    "outputId": "3f878f9f-7fbb-425b-9b66-2f56a033646a"
   },
   "outputs": [
    {
     "name": "stdout",
     "output_type": "stream",
     "text": [
      ".. _diabetes_dataset:\n",
      "\n",
      "Diabetes dataset\n",
      "----------------\n",
      "\n",
      "Ten baseline variables, age, sex, body mass index, average blood\n",
      "pressure, and six blood serum measurements were obtained for each of n =\n",
      "442 diabetes patients, as well as the response of interest, a\n",
      "quantitative measure of disease progression one year after baseline.\n",
      "\n",
      "**Data Set Characteristics:**\n",
      "\n",
      "  :Number of Instances: 442\n",
      "\n",
      "  :Number of Attributes: First 10 columns are numeric predictive values\n",
      "\n",
      "  :Target: Column 11 is a quantitative measure of disease progression one year after baseline\n",
      "\n",
      "  :Attribute Information:\n",
      "      - age     age in years\n",
      "      - sex\n",
      "      - bmi     body mass index\n",
      "      - bp      average blood pressure\n",
      "      - s1      tc, total serum cholesterol\n",
      "      - s2      ldl, low-density lipoproteins\n",
      "      - s3      hdl, high-density lipoproteins\n",
      "      - s4      tch, total cholesterol / HDL\n",
      "      - s5      ltg, possibly log of serum triglycerides level\n",
      "      - s6      glu, blood sugar level\n",
      "\n",
      "Note: Each of these 10 feature variables have been mean centered and scaled by the standard deviation times the square root of `n_samples` (i.e. the sum of squares of each column totals 1).\n",
      "\n",
      "Source URL:\n",
      "https://www4.stat.ncsu.edu/~boos/var.select/diabetes.html\n",
      "\n",
      "For more information see:\n",
      "Bradley Efron, Trevor Hastie, Iain Johnstone and Robert Tibshirani (2004) \"Least Angle Regression,\" Annals of Statistics (with discussion), 407-499.\n",
      "(https://web.stanford.edu/~hastie/Papers/LARS/LeastAngle_2002.pdf)\n",
      "\n"
     ]
    }
   ],
   "source": [
    "print(diabetes.DESCR)"
   ]
  },
  {
   "cell_type": "markdown",
   "metadata": {
    "id": "s0Q11DuW_epf"
   },
   "source": [
    "So we know the that the target/response/dependent varialble to be predicted is a continuous numerical value which is a measure of disease progression after one year.\n",
    "\n",
    "The features/independent variables we have are the 10 attributes from Age to serum measurement samples"
   ]
  },
  {
   "cell_type": "code",
   "execution_count": null,
   "metadata": {
    "colab": {
     "base_uri": "https://localhost:8080/"
    },
    "id": "IYHNaEDy8C17",
    "outputId": "9ca91111-c2ca-4e16-99dd-d561544af439"
   },
   "outputs": [
    {
     "data": {
      "text/plain": [
       "['age', 'sex', 'bmi', 'bp', 's1', 's2', 's3', 's4', 's5', 's6']"
      ]
     },
     "execution_count": 4,
     "metadata": {},
     "output_type": "execute_result"
    }
   ],
   "source": [
    "diabetes.feature_names    "
   ]
  },
  {
   "cell_type": "code",
   "execution_count": null,
   "metadata": {
    "colab": {
     "base_uri": "https://localhost:8080/"
    },
    "id": "t_A_9BCw8ah-",
    "outputId": "4b224055-60c2-448c-8fcd-87af53af3c50"
   },
   "outputs": [
    {
     "data": {
      "text/plain": [
       "(442, 10)"
      ]
     },
     "execution_count": 5,
     "metadata": {},
     "output_type": "execute_result"
    }
   ],
   "source": [
    "diabetes.data.shape   "
   ]
  },
  {
   "cell_type": "code",
   "execution_count": null,
   "metadata": {
    "colab": {
     "base_uri": "https://localhost:8080/"
    },
    "id": "kdHS_7x78c0M",
    "outputId": "ce68baeb-9e1d-4f9a-b280-49f244cabd37"
   },
   "outputs": [
    {
     "data": {
      "text/plain": [
       "(442,)"
      ]
     },
     "execution_count": 6,
     "metadata": {},
     "output_type": "execute_result"
    }
   ],
   "source": [
    "diabetes.target.shape"
   ]
  },
  {
   "cell_type": "code",
   "execution_count": null,
   "metadata": {
    "id": "ixJnp21tCOQt"
   },
   "outputs": [],
   "source": [
    "db_df = pd.DataFrame(diabetes.data,columns=diabetes.feature_names)"
   ]
  },
  {
   "cell_type": "markdown",
   "metadata": {
    "id": "Gkwo4m66CcPg"
   },
   "source": [
    "We created a pandas dataframe using the dataset."
   ]
  },
  {
   "cell_type": "code",
   "execution_count": null,
   "metadata": {
    "colab": {
     "base_uri": "https://localhost:8080/",
     "height": 195
    },
    "id": "g48Xevr1AyG3",
    "outputId": "a127c774-1dc1-49b4-f836-edd61f16d53c"
   },
   "outputs": [
    {
     "data": {
      "text/html": [
       "<div>\n",
       "<style scoped>\n",
       "    .dataframe tbody tr th:only-of-type {\n",
       "        vertical-align: middle;\n",
       "    }\n",
       "\n",
       "    .dataframe tbody tr th {\n",
       "        vertical-align: top;\n",
       "    }\n",
       "\n",
       "    .dataframe thead th {\n",
       "        text-align: right;\n",
       "    }\n",
       "</style>\n",
       "<table border=\"1\" class=\"dataframe\">\n",
       "  <thead>\n",
       "    <tr style=\"text-align: right;\">\n",
       "      <th></th>\n",
       "      <th>age</th>\n",
       "      <th>sex</th>\n",
       "      <th>bmi</th>\n",
       "      <th>bp</th>\n",
       "      <th>s1</th>\n",
       "      <th>s2</th>\n",
       "      <th>s3</th>\n",
       "      <th>s4</th>\n",
       "      <th>s5</th>\n",
       "      <th>s6</th>\n",
       "    </tr>\n",
       "  </thead>\n",
       "  <tbody>\n",
       "    <tr>\n",
       "      <th>82</th>\n",
       "      <td>-0.016412</td>\n",
       "      <td>-0.044642</td>\n",
       "      <td>-0.035307</td>\n",
       "      <td>-0.026328</td>\n",
       "      <td>0.032830</td>\n",
       "      <td>0.017162</td>\n",
       "      <td>0.100183</td>\n",
       "      <td>-0.039493</td>\n",
       "      <td>-0.070209</td>\n",
       "      <td>-0.079778</td>\n",
       "    </tr>\n",
       "    <tr>\n",
       "      <th>57</th>\n",
       "      <td>-0.027310</td>\n",
       "      <td>-0.044642</td>\n",
       "      <td>-0.063330</td>\n",
       "      <td>-0.050427</td>\n",
       "      <td>-0.089630</td>\n",
       "      <td>-0.104340</td>\n",
       "      <td>0.052322</td>\n",
       "      <td>-0.076395</td>\n",
       "      <td>-0.056153</td>\n",
       "      <td>-0.067351</td>\n",
       "    </tr>\n",
       "    <tr>\n",
       "      <th>41</th>\n",
       "      <td>-0.099961</td>\n",
       "      <td>-0.044642</td>\n",
       "      <td>-0.067641</td>\n",
       "      <td>-0.108956</td>\n",
       "      <td>-0.074494</td>\n",
       "      <td>-0.072712</td>\n",
       "      <td>0.015505</td>\n",
       "      <td>-0.039493</td>\n",
       "      <td>-0.049872</td>\n",
       "      <td>-0.009362</td>\n",
       "    </tr>\n",
       "    <tr>\n",
       "      <th>180</th>\n",
       "      <td>-0.038207</td>\n",
       "      <td>0.050680</td>\n",
       "      <td>0.004572</td>\n",
       "      <td>0.035644</td>\n",
       "      <td>-0.011201</td>\n",
       "      <td>0.005889</td>\n",
       "      <td>-0.047082</td>\n",
       "      <td>0.034309</td>\n",
       "      <td>0.016307</td>\n",
       "      <td>-0.001078</td>\n",
       "    </tr>\n",
       "    <tr>\n",
       "      <th>75</th>\n",
       "      <td>-0.009147</td>\n",
       "      <td>0.050680</td>\n",
       "      <td>-0.030996</td>\n",
       "      <td>-0.026328</td>\n",
       "      <td>-0.011201</td>\n",
       "      <td>-0.001001</td>\n",
       "      <td>-0.021311</td>\n",
       "      <td>-0.002592</td>\n",
       "      <td>0.006207</td>\n",
       "      <td>0.027917</td>\n",
       "    </tr>\n",
       "  </tbody>\n",
       "</table>\n",
       "</div>"
      ],
      "text/plain": [
       "          age       sex       bmi        bp        s1        s2        s3  \\\n",
       "82  -0.016412 -0.044642 -0.035307 -0.026328  0.032830  0.017162  0.100183   \n",
       "57  -0.027310 -0.044642 -0.063330 -0.050427 -0.089630 -0.104340  0.052322   \n",
       "41  -0.099961 -0.044642 -0.067641 -0.108956 -0.074494 -0.072712  0.015505   \n",
       "180 -0.038207  0.050680  0.004572  0.035644 -0.011201  0.005889 -0.047082   \n",
       "75  -0.009147  0.050680 -0.030996 -0.026328 -0.011201 -0.001001 -0.021311   \n",
       "\n",
       "           s4        s5        s6  \n",
       "82  -0.039493 -0.070209 -0.079778  \n",
       "57  -0.076395 -0.056153 -0.067351  \n",
       "41  -0.039493 -0.049872 -0.009362  \n",
       "180  0.034309  0.016307 -0.001078  \n",
       "75  -0.002592  0.006207  0.027917  "
      ]
     },
     "execution_count": 8,
     "metadata": {},
     "output_type": "execute_result"
    }
   ],
   "source": [
    "db_df.sample(5)    #checking a sample of the dataframe"
   ]
  },
  {
   "cell_type": "markdown",
   "metadata": {
    "id": "5NfZptNhDFbH"
   },
   "source": [
    "Note: As per dataset documentation: **\"Each of these 10 feature variables have been mean centered and scaled by the standard deviation times `n_samples` (i.e. the sum of squares of each column totals 1)\"**. That is the reason we see that the variables to have seemingly odd values,they are centered to bring them to a common scale."
   ]
  },
  {
   "cell_type": "markdown",
   "metadata": {
    "id": "bK0soD_iEDtW"
   },
   "source": [
    "**Add Dependent Variable to the dataset**"
   ]
  },
  {
   "cell_type": "code",
   "execution_count": null,
   "metadata": {
    "id": "R2fF-QGPGHuS"
   },
   "outputs": [],
   "source": [
    "db_df['Progression'] = diabetes.target #new column name 'Progression'"
   ]
  },
  {
   "cell_type": "code",
   "execution_count": null,
   "metadata": {
    "colab": {
     "base_uri": "https://localhost:8080/",
     "height": 106
    },
    "id": "rTsArM6IGPls",
    "outputId": "e477176d-de83-4b35-8326-d0a01d57fa77"
   },
   "outputs": [
    {
     "data": {
      "text/html": [
       "<div>\n",
       "<style scoped>\n",
       "    .dataframe tbody tr th:only-of-type {\n",
       "        vertical-align: middle;\n",
       "    }\n",
       "\n",
       "    .dataframe tbody tr th {\n",
       "        vertical-align: top;\n",
       "    }\n",
       "\n",
       "    .dataframe thead th {\n",
       "        text-align: right;\n",
       "    }\n",
       "</style>\n",
       "<table border=\"1\" class=\"dataframe\">\n",
       "  <thead>\n",
       "    <tr style=\"text-align: right;\">\n",
       "      <th></th>\n",
       "      <th>age</th>\n",
       "      <th>sex</th>\n",
       "      <th>bmi</th>\n",
       "      <th>bp</th>\n",
       "      <th>s1</th>\n",
       "      <th>s2</th>\n",
       "      <th>s3</th>\n",
       "      <th>s4</th>\n",
       "      <th>s5</th>\n",
       "      <th>s6</th>\n",
       "      <th>Progression</th>\n",
       "    </tr>\n",
       "  </thead>\n",
       "  <tbody>\n",
       "    <tr>\n",
       "      <th>414</th>\n",
       "      <td>0.081666</td>\n",
       "      <td>0.050680</td>\n",
       "      <td>0.006728</td>\n",
       "      <td>-0.004534</td>\n",
       "      <td>0.109883</td>\n",
       "      <td>0.117056</td>\n",
       "      <td>-0.032356</td>\n",
       "      <td>0.091875</td>\n",
       "      <td>0.054720</td>\n",
       "      <td>0.007207</td>\n",
       "      <td>131.0</td>\n",
       "    </tr>\n",
       "    <tr>\n",
       "      <th>344</th>\n",
       "      <td>-0.107226</td>\n",
       "      <td>-0.044642</td>\n",
       "      <td>-0.011595</td>\n",
       "      <td>-0.040099</td>\n",
       "      <td>0.049341</td>\n",
       "      <td>0.064447</td>\n",
       "      <td>-0.013948</td>\n",
       "      <td>0.034309</td>\n",
       "      <td>0.007027</td>\n",
       "      <td>-0.030072</td>\n",
       "      <td>200.0</td>\n",
       "    </tr>\n",
       "  </tbody>\n",
       "</table>\n",
       "</div>"
      ],
      "text/plain": [
       "          age       sex       bmi        bp        s1        s2        s3  \\\n",
       "414  0.081666  0.050680  0.006728 -0.004534  0.109883  0.117056 -0.032356   \n",
       "344 -0.107226 -0.044642 -0.011595 -0.040099  0.049341  0.064447 -0.013948   \n",
       "\n",
       "           s4        s5        s6  Progression  \n",
       "414  0.091875  0.054720  0.007207        131.0  \n",
       "344  0.034309  0.007027 -0.030072        200.0  "
      ]
     },
     "execution_count": 10,
     "metadata": {},
     "output_type": "execute_result"
    }
   ],
   "source": [
    "db_df.sample(2) #checking the dataset once again."
   ]
  },
  {
   "cell_type": "code",
   "execution_count": null,
   "metadata": {
    "colab": {
     "base_uri": "https://localhost:8080/"
    },
    "id": "nBbVyynPGRTt",
    "outputId": "6732e0c8-216c-4e80-dd23-557d557f78e5"
   },
   "outputs": [
    {
     "data": {
      "text/plain": [
       "age            0\n",
       "sex            0\n",
       "bmi            0\n",
       "bp             0\n",
       "s1             0\n",
       "s2             0\n",
       "s3             0\n",
       "s4             0\n",
       "s5             0\n",
       "s6             0\n",
       "Progression    0\n",
       "dtype: int64"
      ]
     },
     "execution_count": 11,
     "metadata": {},
     "output_type": "execute_result"
    }
   ],
   "source": [
    "db_df.isna().sum()"
   ]
  },
  {
   "cell_type": "markdown",
   "metadata": {
    "id": "sBQEJGffHSlR"
   },
   "source": [
    "There are no missing values in the dataframe"
   ]
  },
  {
   "cell_type": "code",
   "execution_count": null,
   "metadata": {
    "colab": {
     "base_uri": "https://localhost:8080/",
     "height": 284
    },
    "id": "BT-tuYE1HPqN",
    "outputId": "cd6d26f7-5340-4208-fb06-fcc3be7565b8"
   },
   "outputs": [
    {
     "data": {
      "text/html": [
       "<div>\n",
       "<style scoped>\n",
       "    .dataframe tbody tr th:only-of-type {\n",
       "        vertical-align: middle;\n",
       "    }\n",
       "\n",
       "    .dataframe tbody tr th {\n",
       "        vertical-align: top;\n",
       "    }\n",
       "\n",
       "    .dataframe thead th {\n",
       "        text-align: right;\n",
       "    }\n",
       "</style>\n",
       "<table border=\"1\" class=\"dataframe\">\n",
       "  <thead>\n",
       "    <tr style=\"text-align: right;\">\n",
       "      <th></th>\n",
       "      <th>age</th>\n",
       "      <th>sex</th>\n",
       "      <th>bmi</th>\n",
       "      <th>bp</th>\n",
       "      <th>s1</th>\n",
       "      <th>s2</th>\n",
       "      <th>s3</th>\n",
       "      <th>s4</th>\n",
       "      <th>s5</th>\n",
       "      <th>s6</th>\n",
       "      <th>Progression</th>\n",
       "    </tr>\n",
       "  </thead>\n",
       "  <tbody>\n",
       "    <tr>\n",
       "      <th>count</th>\n",
       "      <td>4.420000e+02</td>\n",
       "      <td>4.420000e+02</td>\n",
       "      <td>4.420000e+02</td>\n",
       "      <td>4.420000e+02</td>\n",
       "      <td>4.420000e+02</td>\n",
       "      <td>4.420000e+02</td>\n",
       "      <td>4.420000e+02</td>\n",
       "      <td>4.420000e+02</td>\n",
       "      <td>4.420000e+02</td>\n",
       "      <td>4.420000e+02</td>\n",
       "      <td>442.000000</td>\n",
       "    </tr>\n",
       "    <tr>\n",
       "      <th>mean</th>\n",
       "      <td>-2.511817e-19</td>\n",
       "      <td>1.230790e-17</td>\n",
       "      <td>-2.245564e-16</td>\n",
       "      <td>-4.797570e-17</td>\n",
       "      <td>-1.381499e-17</td>\n",
       "      <td>3.918434e-17</td>\n",
       "      <td>-5.777179e-18</td>\n",
       "      <td>-9.042540e-18</td>\n",
       "      <td>9.293722e-17</td>\n",
       "      <td>1.130318e-17</td>\n",
       "      <td>152.133484</td>\n",
       "    </tr>\n",
       "    <tr>\n",
       "      <th>std</th>\n",
       "      <td>4.761905e-02</td>\n",
       "      <td>4.761905e-02</td>\n",
       "      <td>4.761905e-02</td>\n",
       "      <td>4.761905e-02</td>\n",
       "      <td>4.761905e-02</td>\n",
       "      <td>4.761905e-02</td>\n",
       "      <td>4.761905e-02</td>\n",
       "      <td>4.761905e-02</td>\n",
       "      <td>4.761905e-02</td>\n",
       "      <td>4.761905e-02</td>\n",
       "      <td>77.093005</td>\n",
       "    </tr>\n",
       "    <tr>\n",
       "      <th>min</th>\n",
       "      <td>-1.072256e-01</td>\n",
       "      <td>-4.464164e-02</td>\n",
       "      <td>-9.027530e-02</td>\n",
       "      <td>-1.123988e-01</td>\n",
       "      <td>-1.267807e-01</td>\n",
       "      <td>-1.156131e-01</td>\n",
       "      <td>-1.023071e-01</td>\n",
       "      <td>-7.639450e-02</td>\n",
       "      <td>-1.260971e-01</td>\n",
       "      <td>-1.377672e-01</td>\n",
       "      <td>25.000000</td>\n",
       "    </tr>\n",
       "    <tr>\n",
       "      <th>25%</th>\n",
       "      <td>-3.729927e-02</td>\n",
       "      <td>-4.464164e-02</td>\n",
       "      <td>-3.422907e-02</td>\n",
       "      <td>-3.665608e-02</td>\n",
       "      <td>-3.424784e-02</td>\n",
       "      <td>-3.035840e-02</td>\n",
       "      <td>-3.511716e-02</td>\n",
       "      <td>-3.949338e-02</td>\n",
       "      <td>-3.324559e-02</td>\n",
       "      <td>-3.317903e-02</td>\n",
       "      <td>87.000000</td>\n",
       "    </tr>\n",
       "    <tr>\n",
       "      <th>50%</th>\n",
       "      <td>5.383060e-03</td>\n",
       "      <td>-4.464164e-02</td>\n",
       "      <td>-7.283766e-03</td>\n",
       "      <td>-5.670422e-03</td>\n",
       "      <td>-4.320866e-03</td>\n",
       "      <td>-3.819065e-03</td>\n",
       "      <td>-6.584468e-03</td>\n",
       "      <td>-2.592262e-03</td>\n",
       "      <td>-1.947171e-03</td>\n",
       "      <td>-1.077698e-03</td>\n",
       "      <td>140.500000</td>\n",
       "    </tr>\n",
       "    <tr>\n",
       "      <th>75%</th>\n",
       "      <td>3.807591e-02</td>\n",
       "      <td>5.068012e-02</td>\n",
       "      <td>3.124802e-02</td>\n",
       "      <td>3.564379e-02</td>\n",
       "      <td>2.835801e-02</td>\n",
       "      <td>2.984439e-02</td>\n",
       "      <td>2.931150e-02</td>\n",
       "      <td>3.430886e-02</td>\n",
       "      <td>3.243232e-02</td>\n",
       "      <td>2.791705e-02</td>\n",
       "      <td>211.500000</td>\n",
       "    </tr>\n",
       "    <tr>\n",
       "      <th>max</th>\n",
       "      <td>1.107267e-01</td>\n",
       "      <td>5.068012e-02</td>\n",
       "      <td>1.705552e-01</td>\n",
       "      <td>1.320436e-01</td>\n",
       "      <td>1.539137e-01</td>\n",
       "      <td>1.987880e-01</td>\n",
       "      <td>1.811791e-01</td>\n",
       "      <td>1.852344e-01</td>\n",
       "      <td>1.335973e-01</td>\n",
       "      <td>1.356118e-01</td>\n",
       "      <td>346.000000</td>\n",
       "    </tr>\n",
       "  </tbody>\n",
       "</table>\n",
       "</div>"
      ],
      "text/plain": [
       "                age           sex           bmi            bp            s1  \\\n",
       "count  4.420000e+02  4.420000e+02  4.420000e+02  4.420000e+02  4.420000e+02   \n",
       "mean  -2.511817e-19  1.230790e-17 -2.245564e-16 -4.797570e-17 -1.381499e-17   \n",
       "std    4.761905e-02  4.761905e-02  4.761905e-02  4.761905e-02  4.761905e-02   \n",
       "min   -1.072256e-01 -4.464164e-02 -9.027530e-02 -1.123988e-01 -1.267807e-01   \n",
       "25%   -3.729927e-02 -4.464164e-02 -3.422907e-02 -3.665608e-02 -3.424784e-02   \n",
       "50%    5.383060e-03 -4.464164e-02 -7.283766e-03 -5.670422e-03 -4.320866e-03   \n",
       "75%    3.807591e-02  5.068012e-02  3.124802e-02  3.564379e-02  2.835801e-02   \n",
       "max    1.107267e-01  5.068012e-02  1.705552e-01  1.320436e-01  1.539137e-01   \n",
       "\n",
       "                 s2            s3            s4            s5            s6  \\\n",
       "count  4.420000e+02  4.420000e+02  4.420000e+02  4.420000e+02  4.420000e+02   \n",
       "mean   3.918434e-17 -5.777179e-18 -9.042540e-18  9.293722e-17  1.130318e-17   \n",
       "std    4.761905e-02  4.761905e-02  4.761905e-02  4.761905e-02  4.761905e-02   \n",
       "min   -1.156131e-01 -1.023071e-01 -7.639450e-02 -1.260971e-01 -1.377672e-01   \n",
       "25%   -3.035840e-02 -3.511716e-02 -3.949338e-02 -3.324559e-02 -3.317903e-02   \n",
       "50%   -3.819065e-03 -6.584468e-03 -2.592262e-03 -1.947171e-03 -1.077698e-03   \n",
       "75%    2.984439e-02  2.931150e-02  3.430886e-02  3.243232e-02  2.791705e-02   \n",
       "max    1.987880e-01  1.811791e-01  1.852344e-01  1.335973e-01  1.356118e-01   \n",
       "\n",
       "       Progression  \n",
       "count   442.000000  \n",
       "mean    152.133484  \n",
       "std      77.093005  \n",
       "min      25.000000  \n",
       "25%      87.000000  \n",
       "50%     140.500000  \n",
       "75%     211.500000  \n",
       "max     346.000000  "
      ]
     },
     "execution_count": 12,
     "metadata": {},
     "output_type": "execute_result"
    }
   ],
   "source": [
    "db_df.describe()"
   ]
  },
  {
   "cell_type": "code",
   "execution_count": null,
   "metadata": {
    "colab": {
     "base_uri": "https://localhost:8080/"
    },
    "id": "NUEgyDVMHgku",
    "outputId": "7b8378aa-0f3a-4757-c78f-04e426194592"
   },
   "outputs": [
    {
     "name": "stdout",
     "output_type": "stream",
     "text": [
      "<class 'pandas.core.frame.DataFrame'>\n",
      "RangeIndex: 442 entries, 0 to 441\n",
      "Data columns (total 11 columns):\n",
      " #   Column       Non-Null Count  Dtype  \n",
      "---  ------       --------------  -----  \n",
      " 0   age          442 non-null    float64\n",
      " 1   sex          442 non-null    float64\n",
      " 2   bmi          442 non-null    float64\n",
      " 3   bp           442 non-null    float64\n",
      " 4   s1           442 non-null    float64\n",
      " 5   s2           442 non-null    float64\n",
      " 6   s3           442 non-null    float64\n",
      " 7   s4           442 non-null    float64\n",
      " 8   s5           442 non-null    float64\n",
      " 9   s6           442 non-null    float64\n",
      " 10  Progression  442 non-null    float64\n",
      "dtypes: float64(11)\n",
      "memory usage: 38.1 KB\n"
     ]
    }
   ],
   "source": [
    "db_df.info() "
   ]
  },
  {
   "cell_type": "markdown",
   "metadata": {
    "id": "IalW5FWnIDgW"
   },
   "source": [
    "**Let us check the Linear correlation between the variables in the dataframe**"
   ]
  },
  {
   "cell_type": "code",
   "execution_count": null,
   "metadata": {
    "colab": {
     "base_uri": "https://localhost:8080/",
     "height": 373
    },
    "id": "3Me2wZ9JIC2L",
    "outputId": "a1b95db4-043e-4edc-c77f-47576d50f3e8"
   },
   "outputs": [
    {
     "data": {
      "text/html": [
       "<div>\n",
       "<style scoped>\n",
       "    .dataframe tbody tr th:only-of-type {\n",
       "        vertical-align: middle;\n",
       "    }\n",
       "\n",
       "    .dataframe tbody tr th {\n",
       "        vertical-align: top;\n",
       "    }\n",
       "\n",
       "    .dataframe thead th {\n",
       "        text-align: right;\n",
       "    }\n",
       "</style>\n",
       "<table border=\"1\" class=\"dataframe\">\n",
       "  <thead>\n",
       "    <tr style=\"text-align: right;\">\n",
       "      <th></th>\n",
       "      <th>age</th>\n",
       "      <th>sex</th>\n",
       "      <th>bmi</th>\n",
       "      <th>bp</th>\n",
       "      <th>s1</th>\n",
       "      <th>s2</th>\n",
       "      <th>s3</th>\n",
       "      <th>s4</th>\n",
       "      <th>s5</th>\n",
       "      <th>s6</th>\n",
       "      <th>Progression</th>\n",
       "    </tr>\n",
       "  </thead>\n",
       "  <tbody>\n",
       "    <tr>\n",
       "      <th>age</th>\n",
       "      <td>1.000000</td>\n",
       "      <td>0.173737</td>\n",
       "      <td>0.185085</td>\n",
       "      <td>0.335428</td>\n",
       "      <td>0.260061</td>\n",
       "      <td>0.219243</td>\n",
       "      <td>-0.075181</td>\n",
       "      <td>0.203841</td>\n",
       "      <td>0.270774</td>\n",
       "      <td>0.301731</td>\n",
       "      <td>0.187889</td>\n",
       "    </tr>\n",
       "    <tr>\n",
       "      <th>sex</th>\n",
       "      <td>0.173737</td>\n",
       "      <td>1.000000</td>\n",
       "      <td>0.088161</td>\n",
       "      <td>0.241010</td>\n",
       "      <td>0.035277</td>\n",
       "      <td>0.142637</td>\n",
       "      <td>-0.379090</td>\n",
       "      <td>0.332115</td>\n",
       "      <td>0.149916</td>\n",
       "      <td>0.208133</td>\n",
       "      <td>0.043062</td>\n",
       "    </tr>\n",
       "    <tr>\n",
       "      <th>bmi</th>\n",
       "      <td>0.185085</td>\n",
       "      <td>0.088161</td>\n",
       "      <td>1.000000</td>\n",
       "      <td>0.395411</td>\n",
       "      <td>0.249777</td>\n",
       "      <td>0.261170</td>\n",
       "      <td>-0.366811</td>\n",
       "      <td>0.413807</td>\n",
       "      <td>0.446157</td>\n",
       "      <td>0.388680</td>\n",
       "      <td>0.586450</td>\n",
       "    </tr>\n",
       "    <tr>\n",
       "      <th>bp</th>\n",
       "      <td>0.335428</td>\n",
       "      <td>0.241010</td>\n",
       "      <td>0.395411</td>\n",
       "      <td>1.000000</td>\n",
       "      <td>0.242464</td>\n",
       "      <td>0.185548</td>\n",
       "      <td>-0.178762</td>\n",
       "      <td>0.257650</td>\n",
       "      <td>0.393480</td>\n",
       "      <td>0.390430</td>\n",
       "      <td>0.441482</td>\n",
       "    </tr>\n",
       "    <tr>\n",
       "      <th>s1</th>\n",
       "      <td>0.260061</td>\n",
       "      <td>0.035277</td>\n",
       "      <td>0.249777</td>\n",
       "      <td>0.242464</td>\n",
       "      <td>1.000000</td>\n",
       "      <td>0.896663</td>\n",
       "      <td>0.051519</td>\n",
       "      <td>0.542207</td>\n",
       "      <td>0.515503</td>\n",
       "      <td>0.325717</td>\n",
       "      <td>0.212022</td>\n",
       "    </tr>\n",
       "    <tr>\n",
       "      <th>s2</th>\n",
       "      <td>0.219243</td>\n",
       "      <td>0.142637</td>\n",
       "      <td>0.261170</td>\n",
       "      <td>0.185548</td>\n",
       "      <td>0.896663</td>\n",
       "      <td>1.000000</td>\n",
       "      <td>-0.196455</td>\n",
       "      <td>0.659817</td>\n",
       "      <td>0.318357</td>\n",
       "      <td>0.290600</td>\n",
       "      <td>0.174054</td>\n",
       "    </tr>\n",
       "    <tr>\n",
       "      <th>s3</th>\n",
       "      <td>-0.075181</td>\n",
       "      <td>-0.379090</td>\n",
       "      <td>-0.366811</td>\n",
       "      <td>-0.178762</td>\n",
       "      <td>0.051519</td>\n",
       "      <td>-0.196455</td>\n",
       "      <td>1.000000</td>\n",
       "      <td>-0.738493</td>\n",
       "      <td>-0.398577</td>\n",
       "      <td>-0.273697</td>\n",
       "      <td>-0.394789</td>\n",
       "    </tr>\n",
       "    <tr>\n",
       "      <th>s4</th>\n",
       "      <td>0.203841</td>\n",
       "      <td>0.332115</td>\n",
       "      <td>0.413807</td>\n",
       "      <td>0.257650</td>\n",
       "      <td>0.542207</td>\n",
       "      <td>0.659817</td>\n",
       "      <td>-0.738493</td>\n",
       "      <td>1.000000</td>\n",
       "      <td>0.617859</td>\n",
       "      <td>0.417212</td>\n",
       "      <td>0.430453</td>\n",
       "    </tr>\n",
       "    <tr>\n",
       "      <th>s5</th>\n",
       "      <td>0.270774</td>\n",
       "      <td>0.149916</td>\n",
       "      <td>0.446157</td>\n",
       "      <td>0.393480</td>\n",
       "      <td>0.515503</td>\n",
       "      <td>0.318357</td>\n",
       "      <td>-0.398577</td>\n",
       "      <td>0.617859</td>\n",
       "      <td>1.000000</td>\n",
       "      <td>0.464669</td>\n",
       "      <td>0.565883</td>\n",
       "    </tr>\n",
       "    <tr>\n",
       "      <th>s6</th>\n",
       "      <td>0.301731</td>\n",
       "      <td>0.208133</td>\n",
       "      <td>0.388680</td>\n",
       "      <td>0.390430</td>\n",
       "      <td>0.325717</td>\n",
       "      <td>0.290600</td>\n",
       "      <td>-0.273697</td>\n",
       "      <td>0.417212</td>\n",
       "      <td>0.464669</td>\n",
       "      <td>1.000000</td>\n",
       "      <td>0.382483</td>\n",
       "    </tr>\n",
       "    <tr>\n",
       "      <th>Progression</th>\n",
       "      <td>0.187889</td>\n",
       "      <td>0.043062</td>\n",
       "      <td>0.586450</td>\n",
       "      <td>0.441482</td>\n",
       "      <td>0.212022</td>\n",
       "      <td>0.174054</td>\n",
       "      <td>-0.394789</td>\n",
       "      <td>0.430453</td>\n",
       "      <td>0.565883</td>\n",
       "      <td>0.382483</td>\n",
       "      <td>1.000000</td>\n",
       "    </tr>\n",
       "  </tbody>\n",
       "</table>\n",
       "</div>"
      ],
      "text/plain": [
       "                  age       sex       bmi        bp        s1        s2  \\\n",
       "age          1.000000  0.173737  0.185085  0.335428  0.260061  0.219243   \n",
       "sex          0.173737  1.000000  0.088161  0.241010  0.035277  0.142637   \n",
       "bmi          0.185085  0.088161  1.000000  0.395411  0.249777  0.261170   \n",
       "bp           0.335428  0.241010  0.395411  1.000000  0.242464  0.185548   \n",
       "s1           0.260061  0.035277  0.249777  0.242464  1.000000  0.896663   \n",
       "s2           0.219243  0.142637  0.261170  0.185548  0.896663  1.000000   \n",
       "s3          -0.075181 -0.379090 -0.366811 -0.178762  0.051519 -0.196455   \n",
       "s4           0.203841  0.332115  0.413807  0.257650  0.542207  0.659817   \n",
       "s5           0.270774  0.149916  0.446157  0.393480  0.515503  0.318357   \n",
       "s6           0.301731  0.208133  0.388680  0.390430  0.325717  0.290600   \n",
       "Progression  0.187889  0.043062  0.586450  0.441482  0.212022  0.174054   \n",
       "\n",
       "                   s3        s4        s5        s6  Progression  \n",
       "age         -0.075181  0.203841  0.270774  0.301731     0.187889  \n",
       "sex         -0.379090  0.332115  0.149916  0.208133     0.043062  \n",
       "bmi         -0.366811  0.413807  0.446157  0.388680     0.586450  \n",
       "bp          -0.178762  0.257650  0.393480  0.390430     0.441482  \n",
       "s1           0.051519  0.542207  0.515503  0.325717     0.212022  \n",
       "s2          -0.196455  0.659817  0.318357  0.290600     0.174054  \n",
       "s3           1.000000 -0.738493 -0.398577 -0.273697    -0.394789  \n",
       "s4          -0.738493  1.000000  0.617859  0.417212     0.430453  \n",
       "s5          -0.398577  0.617859  1.000000  0.464669     0.565883  \n",
       "s6          -0.273697  0.417212  0.464669  1.000000     0.382483  \n",
       "Progression -0.394789  0.430453  0.565883  0.382483     1.000000  "
      ]
     },
     "execution_count": 14,
     "metadata": {},
     "output_type": "execute_result"
    }
   ],
   "source": [
    "corr = db_df.corr()\n",
    "corr"
   ]
  },
  {
   "cell_type": "markdown",
   "metadata": {
    "id": "3-FMUCEuIVjJ"
   },
   "source": [
    "**Let us visualize the correlation matrix for better understanding**"
   ]
  },
  {
   "cell_type": "code",
   "execution_count": null,
   "metadata": {
    "colab": {
     "base_uri": "https://localhost:8080/",
     "height": 535
    },
    "id": "tcHifibSHuPJ",
    "outputId": "d4d0ab43-2f24-494c-e333-aed459bd7660"
   },
   "outputs": [
    {
     "data": {
      "image/png": "[encoded data removed]",
      "text/plain": [
       "<Figure size 800x800 with 2 Axes>"
      ]
     },
     "metadata": {},
     "output_type": "display_data"
    }
   ],
   "source": [
    "plt.subplots(figsize=(8,8))\n",
    "sns.heatmap(corr,cmap= 'RdYlGn',annot=True)\n",
    "plt.show()"
   ]
  },
  {
   "cell_type": "markdown",
   "metadata": {
    "id": "kfytffPdJ_bz"
   },
   "source": [
    "This plot shows the linear correlation between the variables within themselves & also variables with the target 'Progression'. This could be a phase where the variables which are multicollinear can be eliminated. Since this example will serve as an example of methodology followed in builiding a model, we are not going for feature selection (which will be an article in itself)."
   ]
  },
  {
   "cell_type": "markdown",
   "metadata": {
    "id": "oHq2SY6IKrvV"
   },
   "source": [
    "### MODELLING"
   ]
  },
  {
   "cell_type": "markdown",
   "metadata": {},
   "source": [
    "After reading the data, we first create a feature vector In machine learning codes, feature vectors Then, we split the data set through sklearn's train_test_split method, which is the green code in the picture. 75% of it is called the training set, which is X_train and y_train, and the remaining 25% is the test set, which is X_test and y_test."
   ]
  },
  {
   "cell_type": "markdown",
   "metadata": {
    "id": "A5Q0vuEHKxy_"
   },
   "source": [
    "**1) Create Features & Target**"
   ]
  },
  {
   "cell_type": "code",
   "execution_count": null,
   "metadata": {
    "id": "ty2GxP-0Iru5"
   },
   "outputs": [],
   "source": [
    "X = db_df.drop(labels='Progression', axis=1) \n",
    "y = db_df['Progression']"
   ]
  },
  {
   "cell_type": "markdown",
   "metadata": {
    "id": "MD_OZb_tOm1_"
   },
   "source": [
    "**2) Train test split**"
   ]
  },
  {
   "cell_type": "code",
   "execution_count": null,
   "metadata": {
    "colab": {
     "base_uri": "https://localhost:8080/"
    },
    "id": "WXHYbg1wLuRD",
    "outputId": "2206f2d5-1cd1-4475-a056-b51eb66e6f6e"
   },
   "outputs": [
    {
     "name": "stdout",
     "output_type": "stream",
     "text": [
      "(331, 10)\n",
      "(111, 10)\n",
      "(331,)\n",
      "(111,)\n"
     ]
    }
   ],
   "source": [
    "X_train, X_test, y_train, y_test = train_test_split(\n",
    "    X, y, test_size=0.25, random_state=42)\n",
    "print(X_train.shape)\n",
    "print(X_test.shape)\n",
    "print(y_train.shape)\n",
    "print(y_test.shape)"
   ]
  },
  {
   "cell_type": "markdown",
   "metadata": {},
   "source": [
    "In machine learning, train-test split is a very common concept. It refers to dividing the data set into two parts when training a machine model. We usually only use a large part of the overall data set to train the model, such as the 75% above. It is called the training set, which is easy to understand. The focus is on the small portion of data reserved called the test set."
   ]
  },
  {
   "cell_type": "markdown",
   "metadata": {},
   "source": [
    "![dataset-illustration](https://static-1300131294.cos.ap-shanghai.myqcloud.com/images/tutorials/code-for-videos/metrics-linear-regression-diabetes/dataset-illustration.png)"
   ]
  },
  {
   "cell_type": "markdown",
   "metadata": {},
   "source": [
    "After the model is trained, we use the test set as a guinea pig to let the model predict. By comparing the prediction results with the labels originally included in the test set, we can know whether the model prediction is accurate. In this way, we can also evaluate the performance of the model when predicting new data that has never been seen before, which is the generalization performance of the model that you may have heard about."
   ]
  },
  {
   "cell_type": "markdown",
   "metadata": {},
   "source": [
    "After understanding the test set and training set, we can type two simple lines of code to train the model using linear regression."
   ]
  },
  {
   "cell_type": "markdown",
   "metadata": {
    "id": "TK2BMpJ4P8tY"
   },
   "source": [
    "**3) Create instance of a model**"
   ]
  },
  {
   "cell_type": "code",
   "execution_count": null,
   "metadata": {
    "id": "3kdgWZHRLr55"
   },
   "outputs": [],
   "source": [
    "from sklearn.linear_model import LinearRegression\n",
    "lm = LinearRegression()"
   ]
  },
  {
   "cell_type": "markdown",
   "metadata": {
    "id": "8i6CvmuVRfEE"
   },
   "source": [
    "**4) Fit the model**"
   ]
  },
  {
   "cell_type": "code",
   "execution_count": null,
   "metadata": {
    "colab": {
     "base_uri": "https://localhost:8080/"
    },
    "id": "8WE5NdU3Qqx_",
    "outputId": "bdbe614d-ee64-4eff-9498-264e576c1410"
   },
   "outputs": [
    {
     "data": {
      "text/html": [
       "<style>#sk-container-id-1 {color: black;background-color: white;}#sk-container-id-1 pre{padding: 0;}#sk-container-id-1 div.sk-toggleable {background-color: white;}#sk-container-id-1 label.sk-toggleable__label {cursor: pointer;display: block;width: 100%;margin-bottom: 0;padding: 0.3em;box-sizing: border-box;text-align: center;}#sk-container-id-1 label.sk-toggleable__label-arrow:before {content: \"▸\";float: left;margin-right: 0.25em;color: #696969;}#sk-container-id-1 label.sk-toggleable__label-arrow:hover:before {color: black;}#sk-container-id-1 div.sk-estimator:hover label.sk-toggleable__label-arrow:before {color: black;}#sk-container-id-1 div.sk-toggleable__content {max-height: 0;max-width: 0;overflow: hidden;text-align: left;background-color: #f0f8ff;}#sk-container-id-1 div.sk-toggleable__content pre {margin: 0.2em;color: black;border-radius: 0.25em;background-color: #f0f8ff;}#sk-container-id-1 input.sk-toggleable__control:checked~div.sk-toggleable__content {max-height: 200px;max-width: 100%;overflow: auto;}#sk-container-id-1 input.sk-toggleable__control:checked~label.sk-toggleable__label-arrow:before {content: \"▾\";}#sk-container-id-1 div.sk-estimator input.sk-toggleable__control:checked~label.sk-toggleable__label {background-color: #d4ebff;}#sk-container-id-1 div.sk-label input.sk-toggleable__control:checked~label.sk-toggleable__label {background-color: #d4ebff;}#sk-container-id-1 input.sk-hidden--visually {border: 0;clip: rect(1px 1px 1px 1px);clip: rect(1px, 1px, 1px, 1px);height: 1px;margin: -1px;overflow: hidden;padding: 0;position: absolute;width: 1px;}#sk-container-id-1 div.sk-estimator {font-family: monospace;background-color: #f0f8ff;border: 1px dotted black;border-radius: 0.25em;box-sizing: border-box;margin-bottom: 0.5em;}#sk-container-id-1 div.sk-estimator:hover {background-color: #d4ebff;}#sk-container-id-1 div.sk-parallel-item::after {content: \"\";width: 100%;border-bottom: 1px solid gray;flex-grow: 1;}#sk-container-id-1 div.sk-label:hover label.sk-toggleable__label {background-color: #d4ebff;}#sk-container-id-1 div.sk-serial::before {content: \"\";position: absolute;border-left: 1px solid gray;box-sizing: border-box;top: 0;bottom: 0;left: 50%;z-index: 0;}#sk-container-id-1 div.sk-serial {display: flex;flex-direction: column;align-items: center;background-color: white;padding-right: 0.2em;padding-left: 0.2em;position: relative;}#sk-container-id-1 div.sk-item {position: relative;z-index: 1;}#sk-container-id-1 div.sk-parallel {display: flex;align-items: stretch;justify-content: center;background-color: white;position: relative;}#sk-container-id-1 div.sk-item::before, #sk-container-id-1 div.sk-parallel-item::before {content: \"\";position: absolute;border-left: 1px solid gray;box-sizing: border-box;top: 0;bottom: 0;left: 50%;z-index: -1;}#sk-container-id-1 div.sk-parallel-item {display: flex;flex-direction: column;z-index: 1;position: relative;background-color: white;}#sk-container-id-1 div.sk-parallel-item:first-child::after {align-self: flex-end;width: 50%;}#sk-container-id-1 div.sk-parallel-item:last-child::after {align-self: flex-start;width: 50%;}#sk-container-id-1 div.sk-parallel-item:only-child::after {width: 0;}#sk-container-id-1 div.sk-dashed-wrapped {border: 1px dashed gray;margin: 0 0.4em 0.5em 0.4em;box-sizing: border-box;padding-bottom: 0.4em;background-color: white;}#sk-container-id-1 div.sk-label label {font-family: monospace;font-weight: bold;display: inline-block;line-height: 1.2em;}#sk-container-id-1 div.sk-label-container {text-align: center;}#sk-container-id-1 div.sk-container {/* jupyter's `normalize.less` sets `[hidden] { display: none; }` but bootstrap.min.css set `[hidden] { display: none !important; }` so we also need the `!important` here to be able to override the default hidden behavior on the sphinx rendered scikit-learn.org. See: https://github.com/scikit-learn/scikit-learn/issues/21755 */display: inline-block !important;position: relative;}#sk-container-id-1 div.sk-text-repr-fallback {display: none;}</style><div id=\"sk-container-id-1\" class=\"sk-top-container\"><div class=\"sk-text-repr-fallback\"><pre>LinearRegression()</pre><b>In a Jupyter environment, please rerun this cell to show the HTML representation or trust the notebook. <br />On GitHub, the HTML representation is unable to render, please try loading this page with nbviewer.org.</b></div><div class=\"sk-container\" hidden><div class=\"sk-item\"><div class=\"sk-estimator sk-toggleable\"><input class=\"sk-toggleable__control sk-hidden--visually\" id=\"sk-estimator-id-1\" type=\"checkbox\" checked><label for=\"sk-estimator-id-1\" class=\"sk-toggleable__label sk-toggleable__label-arrow\">LinearRegression</label><div class=\"sk-toggleable__content\"><pre>LinearRegression()</pre></div></div></div></div></div>"
      ],
      "text/plain": [
       "LinearRegression()"
      ]
     },
     "execution_count": 19,
     "metadata": {},
     "output_type": "execute_result"
    }
   ],
   "source": [
    "lm.fit(X_train, y_train)"
   ]
  },
  {
   "cell_type": "markdown",
   "metadata": {},
   "source": [
    "After getting the model, we add a line of code, follow the above idea to predict the trained model on the test data set, and get a string of predicted labels."
   ]
  },
  {
   "cell_type": "markdown",
   "metadata": {
    "id": "MyjfD-AlTOpq"
   },
   "source": [
    "**5) Predict the progression of diabetes based on test data**"
   ]
  },
  {
   "cell_type": "code",
   "execution_count": null,
   "metadata": {
    "id": "Mn03skmOSfQQ"
   },
   "outputs": [],
   "source": [
    "y_predicted = lm.predict(X_test)"
   ]
  },
  {
   "cell_type": "code",
   "execution_count": null,
   "metadata": {},
   "outputs": [
    {
     "data": {
      "text/plain": [
       "array([137.94908878, 182.533354  , 129.85295373, 292.5630923 ,\n",
       "       124.86788221,  89.73883143, 255.95872903, 177.64545905,\n",
       "        87.8884795 , 107.93961905,  93.26357149, 171.11939483,\n",
       "        56.06305218, 207.22146277,  99.78918734, 131.7128101 ,\n",
       "       215.86378125, 252.18591603, 201.56577486, 220.38870357,\n",
       "       204.35745939,  88.9068622 ,  68.52958146, 190.02378425,\n",
       "       153.91270751, 164.02719031, 192.83227597, 187.16765226,\n",
       "        46.60570802, 109.3112624 , 175.04965912,  87.8076198 ,\n",
       "       130.37646375, 186.56325253, 172.4733248 , 188.61448165,\n",
       "       124.07175323, 119.16132637, 147.74400127,  59.27254049,\n",
       "        70.90046253, 109.30036497, 170.97191153, 156.56943489,\n",
       "       168.68664924,  61.5457612 ,  71.19039454, 111.94779801,\n",
       "        54.32009551, 165.81267886, 152.78043565,  63.80587155,\n",
       "       110.07651605, 108.64317139, 179.16381014, 156.79651896,\n",
       "        93.29011121, 212.91986757, 119.28417849,  70.70890653,\n",
       "       186.678156  , 205.65720098, 140.02890626, 106.54792751,\n",
       "       131.56053828, 204.1777152 , 173.28530628, 168.65451177,\n",
       "       123.58356159, 145.48705122, 182.55320386, 200.92667653,\n",
       "       234.12723658, 148.64994751,  82.27100531, 162.11044268,\n",
       "       191.41240355, 208.42456254, 159.81231419, 207.08218272,\n",
       "       108.51881567, 141.86853307,  51.88969227,  52.84070977,\n",
       "       114.22596758,  77.8342828 ,  82.21344298,  56.82131329,\n",
       "       167.18495845, 188.01895568, 153.37024514, 242.28645379,\n",
       "       108.00439128,  63.19252263,  55.14671457, 197.58282031,\n",
       "       248.94925646, 184.2773709 , 104.76270243,  63.45726497,\n",
       "       196.41780688, 110.05014478, 296.72299518,  98.13799734,\n",
       "       151.08901065, 105.09659013, 131.61057546, 128.29545093,\n",
       "       166.00077036, 185.58746376, 111.88655248])"
      ]
     },
     "execution_count": 21,
     "metadata": {},
     "output_type": "execute_result"
    }
   ],
   "source": [
    "y_predicted"
   ]
  },
  {
   "cell_type": "markdown",
   "metadata": {},
   "source": [
    "At this time, you must be thinking how should we use the prediction results on these test sets? How can it tell us how well the model performs on the diabetes dataset? For example, we can put the original label y_test in the above test set and the predicted label y_predicted into a DataFrame in the simplest and crudest way, and then print them out for comparison. It seems that the effect is not very good. The difference between the predicted value and the test value in the printed lines is not small."
   ]
  },
  {
   "cell_type": "code",
   "execution_count": null,
   "metadata": {},
   "outputs": [
    {
     "data": {
      "text/plain": [
       "array([[219.        ,  70.        , 202.        , 230.        ,\n",
       "        111.        ,  84.        , 242.        , 272.        ,\n",
       "         94.        ,  96.        ,  94.        , 252.        ,\n",
       "         99.        , 297.        , 135.        ,  67.        ,\n",
       "        295.        , 264.        , 170.        , 275.        ,\n",
       "        310.        ,  64.        , 128.        , 232.        ,\n",
       "        129.        , 118.        , 263.        ,  77.        ,\n",
       "         48.        , 107.        , 140.        , 113.        ,\n",
       "         90.        , 164.        , 180.        , 233.        ,\n",
       "         42.        ,  84.        , 172.        ,  63.        ,\n",
       "         48.        , 108.        , 156.        , 168.        ,\n",
       "         90.        ,  52.        , 200.        ,  87.        ,\n",
       "         90.        , 258.        , 136.        , 158.        ,\n",
       "         69.        ,  72.        , 171.        ,  95.        ,\n",
       "         72.        , 151.        , 168.        ,  60.        ,\n",
       "        122.        ,  52.        , 187.        , 102.        ,\n",
       "        214.        , 248.        , 181.        , 110.        ,\n",
       "        140.        , 202.        , 101.        , 222.        ,\n",
       "        281.        ,  61.        ,  89.        ,  91.        ,\n",
       "        186.        , 220.        , 237.        , 233.        ,\n",
       "         68.        , 190.        ,  96.        ,  72.        ,\n",
       "        153.        ,  98.        ,  37.        ,  63.        ,\n",
       "        184.        , 144.        , 150.        , 280.        ,\n",
       "        125.        ,  59.        ,  65.        , 281.        ,\n",
       "        277.        , 167.        ,  90.        ,  72.        ,\n",
       "        178.        ,  88.        , 270.        , 101.        ,\n",
       "        197.        ,  97.        ,  53.        ,  71.        ,\n",
       "        262.        ,  52.        , 102.        ],\n",
       "       [137.94908878, 182.533354  , 129.85295373, 292.5630923 ,\n",
       "        124.86788221,  89.73883143, 255.95872903, 177.64545905,\n",
       "         87.8884795 , 107.93961905,  93.26357149, 171.11939483,\n",
       "         56.06305218, 207.22146277,  99.78918734, 131.7128101 ,\n",
       "        215.86378125, 252.18591603, 201.56577486, 220.38870357,\n",
       "        204.35745939,  88.9068622 ,  68.52958146, 190.02378425,\n",
       "        153.91270751, 164.02719031, 192.83227597, 187.16765226,\n",
       "         46.60570802, 109.3112624 , 175.04965912,  87.8076198 ,\n",
       "        130.37646375, 186.56325253, 172.4733248 , 188.61448165,\n",
       "        124.07175323, 119.16132637, 147.74400127,  59.27254049,\n",
       "         70.90046253, 109.30036497, 170.97191153, 156.56943489,\n",
       "        168.68664924,  61.5457612 ,  71.19039454, 111.94779801,\n",
       "         54.32009551, 165.81267886, 152.78043565,  63.80587155,\n",
       "        110.07651605, 108.64317139, 179.16381014, 156.79651896,\n",
       "         93.29011121, 212.91986757, 119.28417849,  70.70890653,\n",
       "        186.678156  , 205.65720098, 140.02890626, 106.54792751,\n",
       "        131.56053828, 204.1777152 , 173.28530628, 168.65451177,\n",
       "        123.58356159, 145.48705122, 182.55320386, 200.92667653,\n",
       "        234.12723658, 148.64994751,  82.27100531, 162.11044268,\n",
       "        191.41240355, 208.42456254, 159.81231419, 207.08218272,\n",
       "        108.51881567, 141.86853307,  51.88969227,  52.84070977,\n",
       "        114.22596758,  77.8342828 ,  82.21344298,  56.82131329,\n",
       "        167.18495845, 188.01895568, 153.37024514, 242.28645379,\n",
       "        108.00439128,  63.19252263,  55.14671457, 197.58282031,\n",
       "        248.94925646, 184.2773709 , 104.76270243,  63.45726497,\n",
       "        196.41780688, 110.05014478, 296.72299518,  98.13799734,\n",
       "        151.08901065, 105.09659013, 131.61057546, 128.29545093,\n",
       "        166.00077036, 185.58746376, 111.88655248]])"
      ]
     },
     "execution_count": 22,
     "metadata": {},
     "output_type": "execute_result"
    }
   ],
   "source": [
    "y_concat = np.vstack((y_test, y_predicted))\n",
    "y_concat"
   ]
  },
  {
   "cell_type": "code",
   "execution_count": null,
   "metadata": {},
   "outputs": [
    {
     "data": {
      "text/html": [
       "<div>\n",
       "<style scoped>\n",
       "    .dataframe tbody tr th:only-of-type {\n",
       "        vertical-align: middle;\n",
       "    }\n",
       "\n",
       "    .dataframe tbody tr th {\n",
       "        vertical-align: top;\n",
       "    }\n",
       "\n",
       "    .dataframe thead th {\n",
       "        text-align: right;\n",
       "    }\n",
       "</style>\n",
       "<table border=\"1\" class=\"dataframe\">\n",
       "  <thead>\n",
       "    <tr style=\"text-align: right;\">\n",
       "      <th></th>\n",
       "      <th>actual</th>\n",
       "      <th>predicted</th>\n",
       "    </tr>\n",
       "  </thead>\n",
       "  <tbody>\n",
       "    <tr>\n",
       "      <th>287</th>\n",
       "      <td>219.0</td>\n",
       "      <td>137.949089</td>\n",
       "    </tr>\n",
       "    <tr>\n",
       "      <th>211</th>\n",
       "      <td>70.0</td>\n",
       "      <td>182.533354</td>\n",
       "    </tr>\n",
       "    <tr>\n",
       "      <th>72</th>\n",
       "      <td>202.0</td>\n",
       "      <td>129.852954</td>\n",
       "    </tr>\n",
       "    <tr>\n",
       "      <th>321</th>\n",
       "      <td>230.0</td>\n",
       "      <td>292.563092</td>\n",
       "    </tr>\n",
       "    <tr>\n",
       "      <th>73</th>\n",
       "      <td>111.0</td>\n",
       "      <td>124.867882</td>\n",
       "    </tr>\n",
       "    <tr>\n",
       "      <th>...</th>\n",
       "      <td>...</td>\n",
       "      <td>...</td>\n",
       "    </tr>\n",
       "    <tr>\n",
       "      <th>45</th>\n",
       "      <td>53.0</td>\n",
       "      <td>131.610575</td>\n",
       "    </tr>\n",
       "    <tr>\n",
       "      <th>153</th>\n",
       "      <td>71.0</td>\n",
       "      <td>128.295451</td>\n",
       "    </tr>\n",
       "    <tr>\n",
       "      <th>239</th>\n",
       "      <td>262.0</td>\n",
       "      <td>166.000770</td>\n",
       "    </tr>\n",
       "    <tr>\n",
       "      <th>380</th>\n",
       "      <td>52.0</td>\n",
       "      <td>185.587464</td>\n",
       "    </tr>\n",
       "    <tr>\n",
       "      <th>278</th>\n",
       "      <td>102.0</td>\n",
       "      <td>111.886552</td>\n",
       "    </tr>\n",
       "  </tbody>\n",
       "</table>\n",
       "<p>111 rows × 2 columns</p>\n",
       "</div>"
      ],
      "text/plain": [
       "     actual   predicted\n",
       "287   219.0  137.949089\n",
       "211    70.0  182.533354\n",
       "72    202.0  129.852954\n",
       "321   230.0  292.563092\n",
       "73    111.0  124.867882\n",
       "..      ...         ...\n",
       "45     53.0  131.610575\n",
       "153    71.0  128.295451\n",
       "239   262.0  166.000770\n",
       "380    52.0  185.587464\n",
       "278   102.0  111.886552\n",
       "\n",
       "[111 rows x 2 columns]"
      ]
     },
     "execution_count": 23,
     "metadata": {},
     "output_type": "execute_result"
    }
   ],
   "source": [
    "y_concatenated = {'actual': y_test, \n",
    "                  'predicted': y_predicted}\n",
    "pd.DataFrame(y_concatenated)"
   ]
  },
  {
   "cell_type": "markdown",
   "metadata": {},
   "source": [
    "However, this method is obviously too primitive. Is there a better way to evaluate the quality of the model?"
   ]
  },
  {
   "cell_type": "markdown",
   "metadata": {},
   "source": [
    "***\n",
    "There is a module called metrics in the sklearn library, which contains various evaluation indicators for evaluating the performance of machine learning models. For example, there are 14 types for regression problems, of which there are five most common ones.\n",
    "\n",
    "![metrics-14-evaluation-indicators](https://static-1300131294.cos.ap-shanghai.myqcloud.com/images/tutorials/code-for-videos/metrics-linear-regression-diabetes/metrics-14-evaluation-indicators.png)\n",
    "\n",
    "Among the five commonly used indicators for regression problems, mean absolute error MAE is the abbreviation of mean absolute error, which is the average length of the blue line segment in the picture.\n",
    "\n",
    "![MAE](https://static-1300131294.cos.ap-shanghai.myqcloud.com/images/tutorials/code-for-videos/metrics-linear-regression-diabetes/MAE.png)\n",
    "\n",
    "In the figure, the horizontal axis is the feature, the vertical axis is the label, the black dots are the data in the test data set, the red diagonal line is the trained linear model, and the intersection of the blue line and the red line is the label predicted by the model. .\n",
    "\n",
    "![MAE-explain](https://static-1300131294.cos.ap-shanghai.myqcloud.com/images/tutorials/code-for-videos/metrics-linear-regression-diabetes/MAE-explain.png)\n",
    "\n",
    "MAE actually calculates the difference between the actual label and the predicted label of each data point in the data set, and then takes the average. The smaller this value is, the smaller the difference between the overall prediction results of the data and the real situation is, indicating that the performance of the regression model is better. This is actually a simple mathematical expression for us to judge the quality of the model based on intuition.\n",
    "\n",
    "Mean absolute percentage error MAPE is the abbreviation of mean absolute percentage error. It is the length of the red line in the picture divided by the length of the blue line, and then the overall average is taken. MAPE, like MAE, is based on the difference between the actual label and the predicted label, which is the red line in the picture. However, each difference must first be divided by the value of its corresponding real label, which is the blue line in the picture. Then take the average overall. The smaller the value of MAPE, the smaller the percentage error in the model's prediction, which means that the model's prediction of the true value is more accurate.\n",
    "\n",
    "![MAPE](https://static-1300131294.cos.ap-shanghai.myqcloud.com/images/tutorials/code-for-videos/metrics-linear-regression-diabetes/MAPE.png)\n",
    "\n",
    "Similarly, the mean square error MSE is the mean of the average areas of the red squares in the picture. It is actually related to the MAE. It means first getting the square of the difference between the real label and the predicted label, and then taking the overall average. The root mean square error RMSE is the square root of the MSE. Similarly, the smaller the MSE and RMSE, the better the performance of the model. \n",
    "\n",
    "![MSE](https://static-1300131294.cos.ap-shanghai.myqcloud.com/images/tutorials/code-for-videos/metrics-linear-regression-diabetes/MSE.png)\n",
    "\n",
    "R-squared, also known as the coefficient of determination, is an indicator used to measure the extent to which a linear regression model explains changes in data. It is calculated by subtracting 1 from the ratio of the sum of the red areas and the sum of the blue areas in the figure.\n",
    "\n",
    "![coefficient-of-determination](https://static-1300131294.cos.ap-shanghai.myqcloud.com/images/tutorials/code-for-videos/metrics-linear-regression-diabetes/coefficient-of-determination.png)\n",
    "\n",
    "***"
   ]
  },
  {
   "cell_type": "markdown",
   "metadata": {
    "id": "Dh4yjceuVoU1"
   },
   "source": [
    "**6) Evaluate the Model**"
   ]
  },
  {
   "cell_type": "code",
   "execution_count": null,
   "metadata": {
    "id": "JkEDJKdQVXSX"
   },
   "outputs": [],
   "source": [
    "from sklearn import metrics as mt\n",
    "import math"
   ]
  },
  {
   "cell_type": "markdown",
   "metadata": {},
   "source": [
    "The first is the MAE mean absolute error. The mean_absolute_error method of sklearn corresponds to the abs and mean methods of NumPy. Our diabetes prediction model got 41.5."
   ]
  },
  {
   "cell_type": "code",
   "execution_count": null,
   "metadata": {},
   "outputs": [
    {
     "name": "stdout",
     "output_type": "stream",
     "text": [
      "Mean Absolute Error\n",
      "mae_numpy   =  41.548506859880604\n",
      "mae_sklearn =  41.548506859880604\n"
     ]
    }
   ],
   "source": [
    "mae_numpy = (y_predicted - y_test).abs().mean()\n",
    "mae_sklearn = mt.mean_absolute_error(y_test, y_predicted)\n",
    "\n",
    "print(\"Mean Absolute Error\")\n",
    "print('mae_numpy   = ', mae_numpy)\n",
    "print('mae_sklearn = ', mae_sklearn)"
   ]
  },
  {
   "cell_type": "markdown",
   "metadata": {},
   "source": [
    "For the mean absolute percentage error MAPE, you can use the mean_absolute_percentage_error method of sklearn. Compared with MAE, the NumPy implementation only has one more step to remove y_test. The result of our model is 37.3%."
   ]
  },
  {
   "cell_type": "code",
   "execution_count": 28,
   "metadata": {},
   "outputs": [
    {
     "name": "stdout",
     "output_type": "stream",
     "text": [
      "Mean Absolute Percentage Error\n",
      "mape_numpy   =  0.37310970433744683\n",
      "mape_sklearn =  0.37310970433744683\n"
     ]
    }
   ],
   "source": [
    "mape_numpy = ((y_predicted - y_test).abs() / y_test).mean() \n",
    "mape_sklearn = mt.mean_absolute_percentage_error(y_test, y_predicted)\n",
    "\n",
    "print(\"Mean Absolute Percentage Error\")\n",
    "print('mape_numpy   = ', mape_numpy)\n",
    "print('mape_sklearn = ', mape_sklearn)"
   ]
  },
  {
   "cell_type": "markdown",
   "metadata": {},
   "source": [
    "The mean square error MSE can be calculated using the mean_squared_error method of sklearn or the square and mean methods of NumPy. The result is 2848.\n"
   ]
  },
  {
   "cell_type": "code",
   "execution_count": null,
   "metadata": {},
   "outputs": [
    {
     "name": "stdout",
     "output_type": "stream",
     "text": [
      "Mean Squared Error\n",
      "mse_numpy   =  2848.3106508475053\n",
      "mse_sklearn =  2848.3106508475053\n"
     ]
    }
   ],
   "source": [
    "mse_numpy = np.square((y_predicted - y_test)).mean()\n",
    "mse_sklearn = mt.mean_squared_error(y_test, y_predicted)\n",
    "\n",
    "print(\"Mean Squared Error\")\n",
    "print('mse_numpy   = ', mse_numpy)\n",
    "print('mse_sklearn = ', mse_sklearn)"
   ]
  },
  {
   "cell_type": "markdown",
   "metadata": {},
   "source": [
    "The root mean square error RMSE is the square root of the MSE, and the result we get is 53.37.\n"
   ]
  },
  {
   "cell_type": "code",
   "execution_count": null,
   "metadata": {},
   "outputs": [
    {
     "name": "stdout",
     "output_type": "stream",
     "text": [
      "Root Mean Squared Error\n",
      "rmse_numpy   =  53.369566710321955\n",
      "rmse_sklearn =  53.369566710321955\n"
     ]
    }
   ],
   "source": [
    "rmse_numpy = math.sqrt(np.square((y_predicted - y_test)).mean())\n",
    "rmse_sklearn = math.sqrt(mt.mean_squared_error(y_test, y_predicted))\n",
    "\n",
    "print(\"Root Mean Squared Error\")\n",
    "print('rmse_numpy   = ', rmse_numpy)\n",
    "print('rmse_sklearn = ', rmse_sklearn)"
   ]
  },
  {
   "cell_type": "markdown",
   "metadata": {},
   "source": [
    "Finally, there is the coefficient of determination R squared. Although this evaluation index is the most difficult to understand, it is enough to translate the mathematical formula into NumPy code, that is, sum sum, mean average, and then square. The R-squared value of our model is 0.4849.\n"
   ]
  },
  {
   "cell_type": "code",
   "execution_count": 29,
   "metadata": {},
   "outputs": [
    {
     "name": "stdout",
     "output_type": "stream",
     "text": [
      "R Squared\n",
      "r_squared_numpy   =  0.4849058889476756\n",
      "r_squared_sklearn =  0.4849058889476756\n"
     ]
    }
   ],
   "source": [
    "r_squared_numpy = 1 - (np.sum((y_test - y_predicted) ** 2) \\\n",
    "                    / np.sum((y_test - np.mean(y_test)) ** 2))\n",
    "r_squared_sklearn = mt.r2_score(y_test, y_predicted)\n",
    "\n",
    "print(\"R Squared\")\n",
    "print('r_squared_numpy   = ', r_squared_numpy)\n",
    "print('r_squared_sklearn = ', r_squared_sklearn)"
   ]
  },
  {
   "cell_type": "markdown",
   "metadata": {},
   "source": [
    "We calculated various evaluation indicators, such as R-squared is 0.48 and mean absolute percentage error MAPE is 37%. So what does this say about our model, whether it’s good or bad? Let me talk about the conclusion first. The effect of the model is very average. It is not very good or very bad. It can be regarded as making do with the level of use. Whether to adopt this model still needs to be decided based on the specific circumstances. Let’s first select the more representative MAPE to discuss in detail."
   ]
  },
  {
   "cell_type": "code",
   "execution_count": 30,
   "metadata": {
    "colab": {
     "base_uri": "https://localhost:8080/"
    },
    "id": "hWpUY9SIWI4h",
    "outputId": "bef5963c-c489-4d88-a4e2-c6096e9c360f"
   },
   "outputs": [
    {
     "name": "stdout",
     "output_type": "stream",
     "text": [
      "1) The Mean Squared Error of model is  2848.3106508475053 \n",
      "hence the Root Mean Squared Error (RMSE) of model is  53.369566710321955\n",
      "2) The Mean Absolute Error of model is  41.548506859880604\n",
      "3) The Mean Absolute Percentage Error of model is  0.37310970433744683\n",
      "4) The R-Square score of the model is  0.4849058889476756\n"
     ]
    }
   ],
   "source": [
    "print(\"1) The Mean Squared Error of model is \", \n",
    "      mt.mean_squared_error(y_test, y_predicted), \n",
    "      \"\\nhence the Root Mean Squared Error (RMSE) of model is \",\n",
    "      math.sqrt(mt.mean_squared_error(y_test, y_predicted)))\n",
    "\n",
    "print(\"2) The Mean Absolute Error of model is \", \n",
    "      mt.mean_absolute_error(y_test, y_predicted))\n",
    "\n",
    "print(\"3) The Mean Absolute Percentage Error of model is \", \n",
    "      mt.mean_absolute_percentage_error(y_test, y_predicted))\n",
    "\n",
    "print(\"4) The R-Square score of the model is \",\n",
    "      mt.r2_score(y_test, y_predicted))"
   ]
  },
  {
   "cell_type": "markdown",
   "metadata": {},
   "source": [
    "MAPE is obtained by dividing the length of the red line segment by the length of the blue line segment in the figure, and then taking the overall average. For each data point in the data set, the length of the blue line segment is its label value. This is a property of the data itself. Obviously it will not change no matter how the model changes. The red line segment is the difference between the label predicted by our model and the real label. Obviously our model cannot perfectly fit every data point in the data set, so this value will never be equal to 0.\n",
    "\n",
    "![MAPE](https://static-1300131294.cos.ap-shanghai.myqcloud.com/images/tutorials/code-for-videos/metrics-linear-regression-diabetes/MAPE.png)"
   ]
  },
  {
   "cell_type": "markdown",
   "metadata": {},
   "source": [
    "Because we use a multiple linear regression model to predict diabetes, there is no way to display the image of the predicted model in two-dimensional space. But you can imagine with the help of simple linear regression. If the predicted model perfectly passes through every data point, then the length of all red lines will be 0, and the final MAPE will be 0, which means that the model is infinite. Close to perfection, which of course is impossible in practice.\n",
    "\n",
    "![simple linear regression](https://static-1300131294.cos.ap-shanghai.myqcloud.com/images/tutorials/code-for-videos/metrics-linear-regression-diabetes/simple-linear-regression.png)"
   ]
  },
  {
   "cell_type": "code",
   "execution_count": 31,
   "metadata": {
    "id": "InKSklnpYksH"
   },
   "outputs": [],
   "source": [
    "coeff = pd.Series(lm.coef_, index = X_train.columns)\n",
    "intercept = lm.intercept_"
   ]
  },
  {
   "cell_type": "code",
   "execution_count": 32,
   "metadata": {
    "colab": {
     "base_uri": "https://localhost:8080/"
    },
    "id": "3j23ArqeaWdC",
    "outputId": "48babc01-2f5b-4e58-e34d-fa0fc6d93309"
   },
   "outputs": [
    {
     "name": "stdout",
     "output_type": "stream",
     "text": [
      "Coefficients:\n",
      "age     47.749681\n",
      "sex   -241.990907\n",
      "bmi    531.971063\n",
      "bp     381.562862\n",
      "s1    -918.502905\n",
      "s2     508.257783\n",
      "s3     116.950164\n",
      "s4     269.492303\n",
      "s5     695.808117\n",
      "s6      26.324582\n",
      "dtype: float64\n",
      "\n",
      "Intercept:\n",
      "151.6651755919933\n"
     ]
    }
   ],
   "source": [
    "print(\"Coefficients:\")\n",
    "print(coeff)\n",
    "print(\"\")\n",
    "print(\"Intercept:\")\n",
    "print(intercept)"
   ]
  },
  {
   "cell_type": "markdown",
   "metadata": {},
   "source": [
    "At this point, the MAPE of our model does not seem to be ideal, but even so, it cannot be concluded that the performance of this model is not good. In fact, in addition to evaluation indicators, evaluating whether a model is good or bad also requires a comprehensive consideration of many factors related to the problem being solved.\n",
    "\n",
    "If we are just a data scientist or machine learning engineer, we generally cannot decide whether to adopt a machine learning model when analyzing data in medical or a certain professional field. At this time, we should hand over all information about the model, including evaluation indicators, to doctors and other professionals, allowing them to make comprehensive judgments and finally draw conclusions."
   ]
  },
  {
   "cell_type": "markdown",
   "metadata": {
    "id": "EGVapiGlfV_J"
   },
   "source": [
    "## Let us use another package called Statsmodel & build another model. Statsmodel\n",
    "## package gives a better summary of the model parameters w.r.t Linear Regression"
   ]
  },
  {
   "cell_type": "code",
   "execution_count": 33,
   "metadata": {
    "id": "UcUa1WhdfVow"
   },
   "outputs": [],
   "source": [
    "import statsmodels.api as sm"
   ]
  },
  {
   "cell_type": "code",
   "execution_count": 34,
   "metadata": {
    "id": "6JYL7DWqfTlV"
   },
   "outputs": [],
   "source": [
    "lm2 = sm.OLS.from_formula(\"Progression ~ age+sex+bmi+bp+s1+s2+s3+s4+s5+s6\", \n",
    "                          data=db_df)\n",
    "trained_lm2 = lm2.fit()"
   ]
  },
  {
   "cell_type": "code",
   "execution_count": 35,
   "metadata": {
    "id": "fS-bMLcbiqlN"
   },
   "outputs": [],
   "source": [
    "predictions = trained_lm2.predict(X)"
   ]
  },
  {
   "cell_type": "code",
   "execution_count": 36,
   "metadata": {
    "colab": {
     "base_uri": "https://localhost:8080/"
    },
    "id": "T6Nkbvr1i1S9",
    "outputId": "ba5ba4ae-c7fe-45b3-d44e-f5b9ea52c203"
   },
   "outputs": [
    {
     "name": "stdout",
     "output_type": "stream",
     "text": [
      "                            OLS Regression Results                            \n",
      "==============================================================================\n",
      "Dep. Variable:            Progression   R-squared:                       0.518\n",
      "Model:                            OLS   Adj. R-squared:                  0.507\n",
      "Method:                 Least Squares   F-statistic:                     46.27\n",
      "Date:                Thu, 17 Aug 2023   Prob (F-statistic):           3.83e-62\n",
      "Time:                        19:33:03   Log-Likelihood:                -2386.0\n",
      "No. Observations:                 442   AIC:                             4794.\n",
      "Df Residuals:                     431   BIC:                             4839.\n",
      "Df Model:                          10                                         \n",
      "Covariance Type:            nonrobust                                         \n",
      "==============================================================================\n",
      "                 coef    std err          t      P>|t|      [0.025      0.975]\n",
      "------------------------------------------------------------------------------\n",
      "Intercept    152.1335      2.576     59.061      0.000     147.071     157.196\n",
      "age          -10.0099     59.749     -0.168      0.867    -127.446     107.426\n",
      "sex         -239.8156     61.222     -3.917      0.000    -360.147    -119.484\n",
      "bmi          519.8459     66.533      7.813      0.000     389.076     650.616\n",
      "bp           324.3846     65.422      4.958      0.000     195.799     452.970\n",
      "s1          -792.1756    416.680     -1.901      0.058   -1611.153      26.802\n",
      "s2           476.7390    339.030      1.406      0.160    -189.620    1143.098\n",
      "s3           101.0433    212.531      0.475      0.635    -316.684     518.770\n",
      "s4           177.0632    161.476      1.097      0.273    -140.315     494.441\n",
      "s5           751.2737    171.900      4.370      0.000     413.407    1089.140\n",
      "s6            67.6267     65.984      1.025      0.306     -62.064     197.318\n",
      "==============================================================================\n",
      "Omnibus:                        1.506   Durbin-Watson:                   2.029\n",
      "Prob(Omnibus):                  0.471   Jarque-Bera (JB):                1.404\n",
      "Skew:                           0.017   Prob(JB):                        0.496\n",
      "Kurtosis:                       2.726   Cond. No.                         227.\n",
      "==============================================================================\n",
      "\n",
      "Notes:\n",
      "[1] Standard Errors assume that the covariance matrix of the errors is correctly specified.\n"
     ]
    }
   ],
   "source": [
    "summary_model = trained_lm2.summary()\n",
    "print(summary_model)"
   ]
  },
  {
   "cell_type": "markdown",
   "metadata": {},
   "source": [
    "In previous issues, we calculated various evaluation indicators of the linear regression model for predicting diabetes, among which R square was 0.48. Generally speaking, if it is close to 1, it is very good, and if it is close to 0, it is very poor, so the 0.48 we get here indicates that the explanatory power of the model is at a medium level.\n",
    "\n",
    "![efficiency-of-coefficient-of-determination](https://static-1300131294.cos.ap-shanghai.myqcloud.com/images/tutorials/code-for-videos/metrics-linear-regression-diabetes/efficiency-of-coefficient-of-determination.png)\n",
    "\n",
    "In other words, our model can explain part of the label variation, but there is still a considerable portion of the variation that is not explained by the model. The \"explanation\" here can also be understood loosely as correlation.\n",
    "\n",
    "![correlation-interpretation](https://static-1300131294.cos.ap-shanghai.myqcloud.com/images/tutorials/code-for-videos/metrics-linear-regression-diabetes/correlation-interpretation.png)\n",
    "\n",
    "If you still remember, the features in the data set we used to predict the progression of diabetes include six laboratory indicators including age, gender, BMI, average blood pressure, and blood cholesterol concentration. Although we are not doctors, we have heard more or less that people with obesity, high blood pressure, hyperlipidemia or a genetic history are prone to diabetes, and these are all reflected in the data set. But factors such as poor eating habits, lack of exercise, and smoking are also associated with diabetes, but they were not included in the data set.\n",
    "\n",
    "![diabetes](https://static-1300131294.cos.ap-shanghai.myqcloud.com/images/tutorials/code-for-videos/metrics-linear-regression-diabetes/correlation-interpretation.png)\n",
    "\n",
    "This actually shows that our data set itself is not comprehensive enough. It contains both features related to diabetes and those not related to diabetes, and there are also some other related features that are not included. Therefore, the R-squared value of the trained model will be a value of 0.48, which means that it can only explain the label in the question, that is, the progression of diabetes, to a certain extent. My statement here may be a bit far-fetched, but I hope it can help everyone understand the concept of R-squared in a more down-to-earth way with specific examples.\n",
    "\n",
    "Like MAPE, there is actually no gold standard for R-squared that can simply tell us how well a model performs. For example, in the social sciences, an R-squared of 0.5 may mean that the model is good; in the financial field, it needs more than 0.7. In some fields, we even require R-squared to be above 0.9 to consider the model good enough. In the medical field, we also need to discuss with professionals with medical knowledge to determine the specific level of R-squared to judge the quality of the model, and ultimately determine whether to adopt the model we trained.\n",
    "\n",
    "![good-for-R-squared-value](https://static-1300131294.cos.ap-shanghai.myqcloud.com/images/tutorials/code-for-videos/metrics-linear-regression-diabetes/good-for-R-squared-value.png)\n",
    "\n",
    "Finally, to summarize, in the past few issues, we trained a linear regression model to predict the progression of diabetes based on real data, learned the concepts of segmentation and evaluation indicators for test training data sets, and implemented evaluation analysis with code. . Although judging from the evaluation indicators obtained based on our limited medical knowledge, the effect of our model is average. But don’t worry. As early as 2004, Stanford University proposed an algorithm with better effects. We will never rashly use an algorithm with average effects on patients.\n",
    "\n",
    "![least-angle-regression](https://static-1300131294.cos.ap-shanghai.myqcloud.com/images/tutorials/code-for-videos/metrics-linear-regression-diabetes/least-angle-regression.png)"
   ]
  }
 ],
 "metadata": {
  "colab": {
   "name": "Linear Regression.ipynb",
   "provenance": []
  },
  "kernelspec": {
   "display_name": "Python 3 (ipykernel)",
   "language": "python",
   "name": "python3"
  },
  "language_info": {
   "codemirror_mode": {
    "name": "ipython",
    "version": 3
   },
   "file_extension": ".py",
   "mimetype": "text/x-python",
   "name": "python",
   "nbconvert_exporter": "python",
   "pygments_lexer": "ipython3",
   "version": "3.10.6"
  },
  "toc": {
   "base_numbering": 1,
   "nav_menu": {},
   "number_sections": true,
   "sideBar": true,
   "skip_h1_title": false,
   "title_cell": "Table of Contents",
   "title_sidebar": "Contents",
   "toc_cell": false,
   "toc_position": {},
   "toc_section_display": true,
   "toc_window_display": false
  }
 },
 "nbformat": 4,
 "nbformat_minor": 1
}
