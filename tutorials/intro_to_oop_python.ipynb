{
 "cells": [
  {
   "cell_type": "markdown",
   "metadata": {},
   "source": [
    "# 10 Must-Know OOP Concepts in Python\n",
    "\n",
    "Object-Oriented Programming (OOP) is a powerful paradigm that allows developers to structure their code in a modular and reusable manner. Python, being an object-oriented programming language, provides robust support for OOP concepts. Understanding these concepts is essential for writing clean, efficient, and maintainable Python code. \n",
    "\n",
    "In this article, we will explore 10 must-know OOP concepts in Python.\n",
    "\n",
    "## 1. Classes and Objects\n",
    "\n",
    "At the heart of OOP in Python are classes and objects. A class is a blueprint for creating objects, while an object is an instance of a class. Classes encapsulate data and behavior into a single entity, allowing you to create multiple instances with distinct attributes and methods. Here's an example:"
   ]
  },
  {
   "cell_type": "code",
   "execution_count": 1,
   "metadata": {},
   "outputs": [
    {
     "name": "stdout",
     "output_type": "stream",
     "text": [
      "The Tesla Model 3's engine is starting.\n"
     ]
    }
   ],
   "source": [
    "class Car:\n",
    "    def __init__(self, make, model):\n",
    "        self.make = make\n",
    "        self.model = model\n",
    "    \n",
    "    def start_engine(self):\n",
    "        print(f\"The {self.make} {self.model}'s engine is starting.\")\n",
    "\n",
    "my_car = Car(\"Tesla\", \"Model 3\")\n",
    "my_car.start_engine()"
   ]
  },
  {
   "cell_type": "markdown",
   "metadata": {},
   "source": [
    "## 2. Encapsulation\n",
    "\n",
    "Encapsulation refers to the bundling of data and methods within a class. It allows you to hide the internal implementation details of a class and only expose necessary information to the outside world. Encapsulation helps in achieving data abstraction and enhances code security and maintainability. Here's an example:"
   ]
  },
  {
   "cell_type": "code",
   "execution_count": 2,
   "metadata": {},
   "outputs": [
    {
     "name": "stdout",
     "output_type": "stream",
     "text": [
      "1500\n"
     ]
    }
   ],
   "source": [
    "class BankAccount:\n",
    "    def __init__(self, account_number, balance):\n",
    "        self.account_number = account_number\n",
    "        self.__balance = balance\n",
    "    \n",
    "    def deposit(self, amount):\n",
    "        self.__balance += amount\n",
    "    \n",
    "    def get_balance(self):\n",
    "        return self.__balance\n",
    "\n",
    "account = BankAccount(\"123456789\", 1000)\n",
    "account.deposit(500)\n",
    "print(account.get_balance())"
   ]
  },
  {
   "cell_type": "markdown",
   "metadata": {},
   "source": [
    "In the above example, the `balance` attribute is encapsulated by using the double underscore prefix (`__`). This makes it private, and it can only be accessed through the `get_balance()` method.\n",
    "\n",
    "## 3. Inheritance\n",
    "\n",
    "Inheritance enables the creation of new classes (derived classes) based on existing classes (base classes). The derived class inherits the attributes and methods of the base class, allowing code reuse and promoting the concept of hierarchy. In Python, multiple inheritance is supported, where a class can inherit from multiple base classes. Here's an example:"
   ]
  },
  {
   "cell_type": "code",
   "execution_count": 3,
   "metadata": {},
   "outputs": [],
   "source": [
    "class ElectricCar(Car):\n",
    "    def __init__(self, make, model, battery_capacity):\n",
    "        super().__init__(make, model)\n",
    "        self.battery_capacity = battery_capacity"
   ]
  },
  {
   "cell_type": "markdown",
   "metadata": {},
   "source": [
    "## 4. Polymorphism\n",
    "\n",
    "Polymorphism allows objects of different classes to be treated as objects of a common base class. It provides a way to perform a single action in different ways, depending on the object type. Here's an example:"
   ]
  },
  {
   "cell_type": "code",
   "execution_count": 4,
   "metadata": {},
   "outputs": [
    {
     "name": "stdout",
     "output_type": "stream",
     "text": [
      "20\n",
      "28.259999999999998\n"
     ]
    }
   ],
   "source": [
    "class Shape:\n",
    "    def area(self):\n",
    "        pass\n",
    "\n",
    "class Rectangle(Shape):\n",
    "    def __init__(self, length, width):\n",
    "        self.length = length\n",
    "        self.width = width\n",
    "    \n",
    "    def area(self):\n",
    "        return self.length * self.width\n",
    "\n",
    "class Circle(Shape):\n",
    "    def __init__(self, radius):\n",
    "        self.radius = radius\n",
    "    \n",
    "    def area(self):\n",
    "        return 3.14 * self.radius * self.radius\n",
    "\n",
    "shapes = [Rectangle(4, 5), Circle(3)]\n",
    "for shape in shapes:\n",
    "    print(shape.area())"
   ]
  },
  {
   "cell_type": "markdown",
   "metadata": {},
   "source": [
    "In the above example, the `Rectangle` and `Circle` classes inherit from the `Shape` class. Each class implements its own `area()` method, which is then called polymorphically in the loop.\n",
    "\n",
    "## 5. Abstraction\n",
    "\n",
    "Abstraction allows you to focus on the essential features of an object while hiding the unnecessary details. It is achieved by defining abstract classes or interfaces that provide a common interface for derived classes. Python doesn't have built-in support for abstract classes, but it can be achieved using the `abc` module. Here's an example:"
   ]
  },
  {
   "cell_type": "code",
   "execution_count": 7,
   "metadata": {},
   "outputs": [
    {
     "name": "stdout",
     "output_type": "stream",
     "text": [
      "Woof!\n",
      "Meow!\n"
     ]
    }
   ],
   "source": [
    "from abc import ABC, abstractmethod\n",
    "\n",
    "class Animal(ABC):\n",
    "    @abstractmethod\n",
    "    def sound(self):\n",
    "        pass\n",
    "\n",
    "class Dog(Animal):\n",
    "    def sound(self):\n",
    "        return \"Woof!\"\n",
    "\n",
    "class Cat(Animal):\n",
    "    def sound(self):\n",
    "        return \"Meow!\"\n",
    "\n",
    "dog = Dog()\n",
    "print(dog.sound())\n",
    "\n",
    "cat = Cat()\n",
    "print(cat.sound())"
   ]
  },
  {
   "cell_type": "markdown",
   "metadata": {},
   "source": [
    "In the above example, the `Animal` class is defined as an abstract base class using the `ABC` module. It contains an abstract method `sound()`, which is then implemented by the `Dog` and `Cat` classes.\n",
    "\n",
    "## 6. Method Overriding\n",
    "\n",
    "Method overriding allows a derived class to provide its own implementation of a method inherited from the base class. This is useful when you want to modify the behavior of a method in the derived class. Here's an example:"
   ]
  },
  {
   "cell_type": "code",
   "execution_count": 8,
   "metadata": {},
   "outputs": [
    {
     "name": "stdout",
     "output_type": "stream",
     "text": [
      "20\n"
     ]
    }
   ],
   "source": [
    "class Shape:\n",
    "    def area(self):\n",
    "        return 0\n",
    "\n",
    "class Rectangle(Shape):\n",
    "    def __init__(self, length, width):\n",
    "        self.length = length\n",
    "        self.width = width\n",
    "    \n",
    "    def area(self):\n",
    "        return self.length * self.width\n",
    "\n",
    "rectangle = Rectangle(4, 5)\n",
    "print(rectangle.area())"
   ]
  },
  {
   "cell_type": "markdown",
   "metadata": {},
   "source": [
    "In the above example, the `Rectangle` class overrides the `area()` method inherited from the `Shape` class to provide its own implementation.\n",
    "\n",
    "## 7. Class Variables\n",
    "\n",
    "Class variables are variables shared by all instances of a class. They are defined within the class but outside any method. Class variables are useful for storing data that is common to all instances of a class. Here's an example:"
   ]
  },
  {
   "cell_type": "code",
   "execution_count": 9,
   "metadata": {},
   "outputs": [
    {
     "name": "stdout",
     "output_type": "stream",
     "text": [
      "31.400000000000002\n"
     ]
    }
   ],
   "source": [
    "class Circle:\n",
    "    pi = 3.14\n",
    "\n",
    "    def __init__(self, radius):\n",
    "        self.radius = radius\n",
    "    \n",
    "    def circumference(self):\n",
    "        return 2 * Circle.pi * self.radius\n",
    "\n",
    "circle = Circle(5)\n",
    "print(circle.circumference())"
   ]
  },
  {
   "cell_type": "markdown",
   "metadata": {},
   "source": [
    "In the above example, the `pi` variable is a class variable shared by all `Circle` instances.\n",
    "\n",
    "## 8. Instance Variables\n",
    "\n",
    "Instance variables are unique to each instance of a class. They are defined within the `__init__` method and have different values for different instances. Instance variables hold data that is specific to each object. Here's an example:"
   ]
  },
  {
   "cell_type": "code",
   "execution_count": 10,
   "metadata": {},
   "outputs": [
    {
     "name": "stdout",
     "output_type": "stream",
     "text": [
      "Alice\n",
      "Bob\n"
     ]
    }
   ],
   "source": [
    "class Person:\n",
    "    def __init__(self, name):\n",
    "        self.name = name\n",
    "\n",
    "person1 = Person(\"Alice\")\n",
    "person2 = Person(\"Bob\")\n",
    "\n",
    "print(person1.name)\n",
    "print(person2.name)"
   ]
  },
  {
   "cell_type": "markdown",
   "metadata": {},
   "source": [
    "In the above example, the `name` variable is an instance variable specific to each `Person` object.\n",
    "\n",
    "## 9. Getter and Setter Methods\n",
    "\n",
    "Getter and setter methods provide controlled access to instance variables. They allow you to define custom logic for getting and setting the values of variables. Getter methods retrieve the value of a variable, while setter methods set the value of a variable.\n",
    "In Python, a Pythonic way of implementing getter and setter methods is using the `@property` decorator and setter decorator `@<attribute_name>.setter`.\n",
    "\n",
    "Here's an example:"
   ]
  },
  {
   "cell_type": "code",
   "execution_count": 11,
   "metadata": {},
   "outputs": [
    {
     "name": "stdout",
     "output_type": "stream",
     "text": [
      "1000\n",
      "1500\n",
      "1500\n"
     ]
    }
   ],
   "source": [
    "class BankAccount:\n",
    "    def __init__(self, account_number, balance):\n",
    "        self._account_number = account_number\n",
    "        self._balance = balance\n",
    "    \n",
    "    @property\n",
    "    def balance(self):\n",
    "        return self._balance\n",
    "    \n",
    "    @balance.setter\n",
    "    def balance(self, new_balance):\n",
    "        if new_balance >= 0:\n",
    "            self._balance = new_balance\n",
    "\n",
    "account = BankAccount(\"123456789\", 1000)\n",
    "print(account.balance)\n",
    "\n",
    "account.balance = 1500\n",
    "print(account.balance)\n",
    "\n",
    "account.balance = -500  # Invalid balance, setter method prevents it\n",
    "print(account.balance)"
   ]
  },
  {
   "cell_type": "markdown",
   "metadata": {},
   "source": [
    "In the above example, the `@property` decorator is used to define the getter method for the balance attribute. The `@<attribute_name>.setter` decorator is used to define the setter method for the balance attribute. This approach allows you to access and modify the balance attribute as if it were a normal attribute, while providing custom logic in the getter and setter methods.\n",
    "\n",
    "## 10. Class Methods and Static Methods\n",
    "\n",
    "Class methods and static methods are methods that are bound to the class rather than the instance of a class. Class methods operate on class variables, while static methods do not require access to either instance variables or class variables. Here's an example:\n"
   ]
  },
  {
   "cell_type": "code",
   "execution_count": 12,
   "metadata": {},
   "outputs": [
    {
     "name": "stdout",
     "output_type": "stream",
     "text": [
      "5\n",
      "6\n"
     ]
    }
   ],
   "source": [
    "class MathUtils:\n",
    "    @staticmethod\n",
    "    def add(a, b):\n",
    "        return a + b\n",
    "    \n",
    "    @classmethod\n",
    "    def multiply(cls, a, b):\n",
    "        return cls._multiply_positive(a, b)\n",
    "    \n",
    "    @staticmethod\n",
    "    def _multiply_positive(a, b):\n",
    "        if a > 0 and b > 0:\n",
    "            return a * b\n",
    "        else:\n",
    "            raise ValueError(\"Both inputs must be positive.\")\n",
    "\n",
    "print(MathUtils.add(2, 3))\n",
    "print(MathUtils.multiply(2, 3))"
   ]
  },
  {
   "cell_type": "markdown",
   "metadata": {},
   "source": [
    "In the above example, `add()` is a static method and `multiply()` is a class method.\n",
    "\n",
    "These 10 OOP concepts provide a solid foundation for writing efficient and maintainable Python code. By understanding and utilizing these concepts, you can leverage the power of object-oriented programming to build complex and robust applications.\n",
    "\n",
    "Remember to practice these concepts through hands-on coding and explore more advanced topics as you continue your journey into OOP with Python. Happy coding!"
   ]
  }
 ],
 "metadata": {
  "kernelspec": {
   "display_name": "Python 3",
   "language": "python",
   "name": "python3"
  },
  "language_info": {
   "codemirror_mode": {
    "name": "ipython",
    "version": 3
   },
   "file_extension": ".py",
   "mimetype": "text/x-python",
   "name": "python",
   "nbconvert_exporter": "python",
   "pygments_lexer": "ipython3",
   "version": "3.8.6"
  }
 },
 "nbformat": 4,
 "nbformat_minor": 2
}
