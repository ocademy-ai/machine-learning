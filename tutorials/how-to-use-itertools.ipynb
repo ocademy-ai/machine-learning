{
 "cells": [
  {
   "cell_type": "markdown",
   "metadata": {},
   "source": [
    "# Python's Secret Weapon: itertools\n",
    "`itertools` is an under-appreciated gem that deserves a spot in every Python programmer's toolkit. As Pythoneers put it, it's [\"pretty much the coolest thing ever\"](https://jmduke.com/2013/11/29/itertools)!\n",
    "\n",
    "\n",
    "## What is itertools really?\n",
    "\n",
    "According to [itertools docs](https://docs.python.org/3/library/itertools.html), it standardizes a core set of fast, memory efficient tools that are useful by themselves or in combination. Together, they form an **“iterator algebra”** making it possible to construct specialized tools succinctly and efficiently in pure Python.\n",
    "\n",
    "To understand itertools, you need to understand iterators. Simply put, iterators are objects that let you traverse collections of data, such as lists, tuples, dictionaries, and sets, and return one element at a time. This makes them extremely useful when handling large datasets.\n",
    "\n",
    "To understand iterators, we recommend [this article](https://diveintopython3.net/iterators.html).\n",
    "\n",
    "\n",
    "Fluency with itertools allows you to write beautiful code that does more with less. By composing these functions, you can tackle problems in very few lines. Itertools are the secret weapon of Pythonistas in-the-know.\n",
    "\n",
    "In this tutorial, we'll explore essential itertools through examples. Let's level up your Python skills and add some itertools magic!"
   ]
  },
  {
   "cell_type": "markdown",
   "metadata": {},
   "source": [
    "## Generate consecutive data points\n",
    "\n",
    "Let's say you are doing a profit forcasting for your business, and when counting future numbers, it hinges on the assumption that the costs will grow at an linear rate say 0.05 dollars every year, starting from 10. So you might want to create a list of theoretical costs to pass to your overall simulation function.\n",
    "\n",
    "You can do such using list comprehension:"
   ]
  },
  {
   "cell_type": "code",
   "execution_count": 2,
   "metadata": {},
   "outputs": [],
   "source": [
    "costs = [10+0.05*i for i in range(100)]\n",
    "# costs = [10, 10.05, 10.1, 10.15 ...]"
   ]
  },
  {
   "cell_type": "markdown",
   "metadata": {},
   "source": [
    "Let's see how it's done with `itertools.count()`. \n",
    "Basically `count` takes a start and a step: `count([start=0], [step=1])` and gives the infinite sequence: `start, start + step, start + 2 * step, ...`\n"
   ]
  },
  {
   "cell_type": "code",
   "execution_count": 6,
   "metadata": {},
   "outputs": [],
   "source": [
    "import itertools\n",
    "costs = itertools.count(10, 0.05) # this gives an infinite sequence to iter on with `while`"
   ]
  },
  {
   "cell_type": "markdown",
   "metadata": {},
   "source": [
    "In some other cases, you want to create a sequence of repeating patterns.\n",
    "\n",
    "The `cycle()` function returns an iterator that repeats the contents of the arguments it is given indefinitely."
   ]
  },
  {
   "cell_type": "code",
   "execution_count": 48,
   "metadata": {},
   "outputs": [
    {
     "name": "stdout",
     "output_type": "stream",
     "text": [
      "0 #377eb8\n",
      "1 #ff7f00\n",
      "2 #4daf4a\n",
      "3 #377eb8\n",
      "4 #ff7f00\n",
      "5 #4daf4a\n",
      "6 #377eb8\n"
     ]
    }
   ],
   "source": [
    "# a palette of 3 colors\n",
    "palette = itertools.cycle(['#377eb8', '#ff7f00', '#4daf4a'])\n",
    "\n",
    "for i, color in zip(range(7), palette):\n",
    "    print(i, color)"
   ]
  },
  {
   "cell_type": "markdown",
   "metadata": {},
   "source": [
    "The `repeat()` function returns an iterator that produces the same value each time it is accessed.\n"
   ]
  },
  {
   "cell_type": "code",
   "execution_count": 49,
   "metadata": {},
   "outputs": [
    {
     "data": {
      "text/plain": [
       "[None, None, None, None, None]"
      ]
     },
     "execution_count": 49,
     "metadata": {},
     "output_type": "execute_result"
    }
   ],
   "source": [
    "list(itertools.repeat(None, 5))"
   ]
  },
  {
   "cell_type": "markdown",
   "metadata": {},
   "source": [
    "## Filter data points\n",
    "The `islice()` function returns an iterator which returns selected items from the input iterator, by index. Let's say we want to filter `costs` in our previous example to the first 10 elements.\n",
    "\n"
   ]
  },
  {
   "cell_type": "code",
   "execution_count": 50,
   "metadata": {},
   "outputs": [
    {
     "data": {
      "text/plain": [
       "[10,\n",
       " 10.05,\n",
       " 10.100000000000001,\n",
       " 10.150000000000002,\n",
       " 10.200000000000003,\n",
       " 10.250000000000004,\n",
       " 10.300000000000004,\n",
       " 10.350000000000005,\n",
       " 10.400000000000006,\n",
       " 10.450000000000006]"
      ]
     },
     "execution_count": 50,
     "metadata": {},
     "output_type": "execute_result"
    }
   ],
   "source": [
    "cost_next_10years = itertools.islice(costs, 10)\n",
    "list(cost_next_10years)"
   ]
  },
  {
   "cell_type": "markdown",
   "metadata": {},
   "source": [
    "The `dropwhile()` function returns an iterator that produces elements of the input iterator after a condition becomes false _for the first time_; afterwards, returns every element.\n"
   ]
  },
  {
   "cell_type": "code",
   "execution_count": 51,
   "metadata": {},
   "outputs": [
    {
     "data": {
      "text/plain": [
       "[1, 4, 0]"
      ]
     },
     "execution_count": 51,
     "metadata": {},
     "output_type": "execute_result"
    }
   ],
   "source": [
    "# dropwhile checks if the element is equal to zero, and return elements after the 1st non-zero value\n",
    "list(itertools.dropwhile(lambda i: i == 0, [0,0,1,4,0]))"
   ]
  },
  {
   "cell_type": "markdown",
   "metadata": {},
   "source": [
    "Here is another example of leveraging `dropwhile()`. We can see, version number is cleaned in a way that all leading zeros are dropped while keeping the zeros after non-zero values：`10` -> `10` and `00901` -> `901`."
   ]
  },
  {
   "cell_type": "code",
   "execution_count": 52,
   "metadata": {},
   "outputs": [
    {
     "data": {
      "text/plain": [
       "[3, 10, 901]"
      ]
     },
     "execution_count": 52,
     "metadata": {},
     "output_type": "execute_result"
    }
   ],
   "source": [
    "def ver_list(version):\n",
    "        version = [int(i) for i in version.split(\".\")]\n",
    "        return list(itertools.dropwhile(lambda i: i == 0, version))\n",
    "version = '3.10.00901'\n",
    "ver_list(version)"
   ]
  },
  {
   "cell_type": "markdown",
   "metadata": {},
   "source": [
    "The opposite is `takewhile()`. It returns elements from the iterable _as long as_ the predicate is true. \n",
    "\n"
   ]
  },
  {
   "cell_type": "code",
   "execution_count": 53,
   "metadata": {},
   "outputs": [
    {
     "name": "stdout",
     "output_type": "stream",
     "text": [
      "[-1, 0]\n",
      "[]\n"
     ]
    }
   ],
   "source": [
    "print(list(itertools.takewhile(lambda i: i < 2, [-1, 0, 3, 4, 1])))\n",
    "print(list(itertools.takewhile(lambda i: i < 2, [4, 1, -1, 0])))"
   ]
  },
  {
   "cell_type": "markdown",
   "metadata": {},
   "source": [
    "`compress()` offers another way to filter the contents of an iterable. Instead of calling a function, it uses the values in another iterable to indicate when to accept a value and when to ignore it.\n"
   ]
  },
  {
   "cell_type": "code",
   "execution_count": 54,
   "metadata": {},
   "outputs": [
    {
     "data": {
      "text/plain": [
       "[2, 3, 5]"
      ]
     },
     "execution_count": 54,
     "metadata": {},
     "output_type": "execute_result"
    }
   ],
   "source": [
    "items = [1, 2, 3, 4, 5]\n",
    "flags = [False, True, True, False, True]\n",
    "list(itertools.compress(items, flags))"
   ]
  },
  {
   "cell_type": "markdown",
   "metadata": {},
   "source": [
    "\n",
    "## Merging data points\n",
    "\n",
    "The `chain()` function takes several iterators as arguments and returns a single iterator that produces the contents of all of the inputs as though they came from a single iterator.\n"
   ]
  },
  {
   "cell_type": "code",
   "execution_count": 55,
   "metadata": {},
   "outputs": [
    {
     "name": "stdout",
     "output_type": "stream",
     "text": [
      "1 2 3 a b c "
     ]
    }
   ],
   "source": [
    "for i in itertools.chain([1, 2, 3], ['a', 'b', 'c']):\n",
    "    print(i, end=' ')"
   ]
  },
  {
   "cell_type": "markdown",
   "metadata": {},
   "source": [
    "You might have used native `zip` to combine the elements of several iterators into tuples. "
   ]
  },
  {
   "cell_type": "code",
   "execution_count": 56,
   "metadata": {},
   "outputs": [
    {
     "name": "stdout",
     "output_type": "stream",
     "text": [
      "(1, 'a')\n",
      "(2, 'b')\n",
      "(3, 'c')\n"
     ]
    }
   ],
   "source": [
    "for t in zip([1, 2, 3], ['a', 'b', 'c']):\n",
    "    print(t)"
   ]
  },
  {
   "cell_type": "markdown",
   "metadata": {},
   "source": [
    "`zip()` stops when the first input iterator is exhausted. To process all of the inputs, even if the iterators produce different numbers of values, use `zip_longest()`."
   ]
  },
  {
   "cell_type": "code",
   "execution_count": 57,
   "metadata": {},
   "outputs": [
    {
     "name": "stdout",
     "output_type": "stream",
     "text": [
      "zip stops early:\n",
      "[(0, 0), (1, 1), (2, 2), (3, 3), (4, 4)]\n",
      "\n",
      "zip_longest processes all of the values:\n",
      "[(0, 0), (1, 1), (2, 2), (3, 3), (4, 4), (5, None), (6, None), (7, None), (8, None), (9, None)]\n"
     ]
    }
   ],
   "source": [
    "r1 = range(10)\n",
    "r2 = range(5)\n",
    "\n",
    "print('zip stops early:')\n",
    "print(list(zip(r1, r2)))\n",
    "\n",
    "r1 = range(10)\n",
    "r2 = range(5)\n",
    "\n",
    "print('\\nzip_longest processes all of the values:')\n",
    "print(list(itertools.zip_longest(r1, r2)))"
   ]
  },
  {
   "cell_type": "markdown",
   "metadata": {},
   "source": [
    "## Combining in various ways\n",
    "\n",
    "The `accumulate()` lets you get accumulated sums, or accumulated results of other binary functions (specified via the optional func argument).\n",
    "\n"
   ]
  },
  {
   "cell_type": "code",
   "execution_count": 26,
   "metadata": {},
   "outputs": [
    {
     "data": {
      "text/plain": [
       "[300, 400, 600, 1100, 1500]"
      ]
     },
     "execution_count": 26,
     "metadata": {},
     "output_type": "execute_result"
    }
   ],
   "source": [
    "sales = [300, 100, 200, 500, 400]\n",
    "cum_sales = list(itertools.accumulate(sales))\n",
    "cum_sales"
   ]
  },
  {
   "cell_type": "markdown",
   "metadata": {},
   "source": [
    "`product` gives the Cartesian product of input iterables. \n",
    "Roughly equivalent to nested for-loops in a generator expression. For example,` product(A, B`) returns the same as` ((x,y) for x in A for y in B`."
   ]
  },
  {
   "cell_type": "code",
   "execution_count": 36,
   "metadata": {},
   "outputs": [
    {
     "data": {
      "text/plain": [
       "[('hello', 'Jason'), ('hello', 'Julia'), ('bye', 'Jason'), ('bye', 'Julia')]"
      ]
     },
     "execution_count": 36,
     "metadata": {},
     "output_type": "execute_result"
    }
   ],
   "source": [
    "list(itertools.product(['hello', 'bye'], ['Jason', 'Julia']))"
   ]
  },
  {
   "cell_type": "markdown",
   "metadata": {},
   "source": [
    "Let's use it to produce a deck of cards:"
   ]
  },
  {
   "cell_type": "code",
   "execution_count": 30,
   "metadata": {},
   "outputs": [
    {
     "name": "stdout",
     "output_type": "stream",
     "text": [
      "[(2, '♠'), (2, '♥'), (2, '♦'), (2, '♣'), (3, '♠'), (3, '♥'), (3, '♦'), (3, '♣'), (4, '♠'), (4, '♥'), (4, '♦'), (4, '♣'), (5, '♠'), (5, '♥'), (5, '♦'), (5, '♣'), (6, '♠'), (6, '♥'), (6, '♦'), (6, '♣'), (7, '♠'), (7, '♥'), (7, '♦'), (7, '♣'), (8, '♠'), (8, '♥'), (8, '♦'), (8, '♣'), (9, '♠'), (9, '♥'), (9, '♦'), (9, '♣'), (10, '♠'), (10, '♥'), (10, '♦'), (10, '♣'), ('J', '♠'), ('J', '♥'), ('J', '♦'), ('J', '♣'), ('Q', '♠'), ('Q', '♥'), ('Q', '♦'), ('Q', '♣'), ('K', '♠'), ('K', '♥'), ('K', '♦'), ('K', '♣'), ('A', '♠'), ('A', '♥'), ('A', '♦'), ('A', '♣')]\n"
     ]
    }
   ],
   "source": [
    "FACE_CARDS = ('J', 'Q', 'K', 'A')\n",
    "SUITS = ('♠', '♥', '♦', '♣')\n",
    "\n",
    "# first use chain to get the rank\n",
    "card_ranks = itertools.chain(range(2, 11), FACE_CARDS)\n",
    "\n",
    "DECK = list(itertools.product(card_ranks, SUITS))\n",
    "print(DECK)"
   ]
  },
  {
   "cell_type": "markdown",
   "metadata": {},
   "source": [
    "Use `itertools.permutations()` to get all possible permutations of an iterable and `itertools.combinations()` to get all possible combinations of an iterable.\n"
   ]
  },
  {
   "cell_type": "code",
   "execution_count": 46,
   "metadata": {},
   "outputs": [
    {
     "data": {
      "text/plain": [
       "[('a', 'b', 'c'),\n",
       " ('a', 'b', 'd'),\n",
       " ('a', 'c', 'b'),\n",
       " ('a', 'c', 'd'),\n",
       " ('a', 'd', 'b'),\n",
       " ('a', 'd', 'c'),\n",
       " ('b', 'a', 'c'),\n",
       " ('b', 'a', 'd'),\n",
       " ('b', 'c', 'a'),\n",
       " ('b', 'c', 'd'),\n",
       " ('b', 'd', 'a'),\n",
       " ('b', 'd', 'c'),\n",
       " ('c', 'a', 'b'),\n",
       " ('c', 'a', 'd'),\n",
       " ('c', 'b', 'a'),\n",
       " ('c', 'b', 'd'),\n",
       " ('c', 'd', 'a'),\n",
       " ('c', 'd', 'b'),\n",
       " ('d', 'a', 'b'),\n",
       " ('d', 'a', 'c'),\n",
       " ('d', 'b', 'a'),\n",
       " ('d', 'b', 'c'),\n",
       " ('d', 'c', 'a'),\n",
       " ('d', 'c', 'b')]"
      ]
     },
     "execution_count": 46,
     "metadata": {},
     "output_type": "execute_result"
    }
   ],
   "source": [
    "list(itertools.permutations('abcd', 3))"
   ]
  },
  {
   "cell_type": "code",
   "execution_count": 45,
   "metadata": {},
   "outputs": [
    {
     "data": {
      "text/plain": [
       "[('a', 'b', 'c'), ('a', 'b', 'd'), ('a', 'c', 'd'), ('b', 'c', 'd')]"
      ]
     },
     "execution_count": 45,
     "metadata": {},
     "output_type": "execute_result"
    }
   ],
   "source": [
    "list(itertools.combinations('abcd', 3))"
   ]
  },
  {
   "cell_type": "markdown",
   "metadata": {},
   "source": [
    "Let's look at a slightly more complex example of using `permutation` and `product` together."
   ]
  },
  {
   "cell_type": "code",
   "execution_count": 39,
   "metadata": {},
   "outputs": [
    {
     "data": {
      "text/plain": [
       "[('%Y', '%b', '%d'),\n",
       " ('%Y', '%d', '%b'),\n",
       " ('%b', '%Y', '%d'),\n",
       " ('%b', '%d', '%Y'),\n",
       " ('%d', '%Y', '%b'),\n",
       " ('%d', '%b', '%Y'),\n",
       " ('%Y', '%B', '%d'),\n",
       " ('%Y', '%d', '%B'),\n",
       " ('%B', '%Y', '%d'),\n",
       " ('%B', '%d', '%Y'),\n",
       " ('%d', '%Y', '%B'),\n",
       " ('%d', '%B', '%Y')]"
      ]
     },
     "execution_count": 39,
     "metadata": {},
     "output_type": "execute_result"
    }
   ],
   "source": [
    "year_tokens = ['%Y']\n",
    "month_tokens = ['%b', '%B']\n",
    "day_tokens = ['%d']\n",
    "# use product so that it accepts 2 types of month_tokens\n",
    "# this generates to [('%Y', '%b', '%d'), ('%Y', '%B', '%d')]\n",
    "prods = itertools.product(year_tokens, month_tokens, day_tokens)\n",
    "\n",
    "# use permuations to allow all arrangement of year, month, day orders\n",
    "perms = [y for x in prods for y in itertools.permutations(x)]\n",
    "list(perms)\n"
   ]
  },
  {
   "cell_type": "markdown",
   "metadata": {},
   "source": [
    "Itertools provide the building blocks to efficiently tackle programming challenges. Add these tools to your Python toolkit and get creative - with the power of \"iterator algebra\" at your fingertips, you can combine functions in novel ways to write more Pythonic code!"
   ]
  },
  {
   "cell_type": "markdown",
   "metadata": {},
   "source": [
    "Credit:\n",
    "- https://pymotw.com/3/itertools/index.html\n",
    "- https://jmduke.com/2013/11/29/itertools\n",
    "- https://docs.python.org/3/library/itertools.html"
   ]
  }
 ],
 "metadata": {
  "kernelspec": {
   "display_name": "Python 3 (ipykernel)",
   "language": "python",
   "name": "python3"
  },
  "language_info": {
   "codemirror_mode": {
    "name": "ipython",
    "version": 3
   },
   "file_extension": ".py",
   "mimetype": "text/x-python",
   "name": "python",
   "nbconvert_exporter": "python",
   "pygments_lexer": "ipython3",
   "version": "3.8.6"
  }
 },
 "nbformat": 4,
 "nbformat_minor": 4
}
