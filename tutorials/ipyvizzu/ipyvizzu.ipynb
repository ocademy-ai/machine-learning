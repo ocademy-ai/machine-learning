{
 "cells": [
  {
   "attachments": {},
   "cell_type": "markdown",
   "metadata": {},
   "source": [
    "# An awesome Python animation library: ipyvizzu 📚\n",
    "\n",
    "[ipyvizzu](https://ipyvizzu.vizzuhq.com/) is a Python library that provides an interactive and declarative approach to create stunning visualizations. With ipyvizzu, you can easily build interactive charts, explore data, and communicate insights effectively. In this tutorial, we will explore the key features of ipyvizzu and demonstrate how to create basic charts and animations.\n",
    "\n",
    "## Highlighted Features 🌟\n",
    "\n",
    "- 👥 Interactive: ipyvizzu allows you to interact with your charts, enabling zooming, panning, and tooltips for better exploration and analysis.\n",
    "- 🧩 Declarative Syntax: With an intuitive and declarative syntax, you can quickly specify the attributes and configurations of your visualizations.\n",
    "- 📈 Wide Range of Chart Types: ipyvizzu supports a variety of chart types, including bar charts, scatter plots, line charts, and more, to cater to diverse data visualization needs.\n",
    "- 🎬 Animation: ipyvizzu provides powerful animation capabilities, allowing you to create dynamic and engaging visualizations.\n",
    "\n",
    "Let's get started by installing ipyvizzu and exploring how to create basic charts.\n",
    "\n",
    "## Basic Charting with ipyvizzu 📊\n",
    "\n",
    "To demonstrate the basic charting functionof ipyvizzu, let's create a stack area plot using a sample dataset that contains revenue by different music format over time. The stack area plot is useful for visualizig the composition of different format categories over time.\n",
    "\n",
    "(RIP my old CD player...)\n"
   ]
  },
  {
   "cell_type": "code",
   "execution_count": 1,
   "metadata": {},
   "outputs": [
    {
     "data": {
      "application/javascript": "class IpyVizzu {\n  static version = \"0.16.1\";\n  static analytics = undefined;\n  static inhibitScroll = false;\n\n  constructor() {\n    document.addEventListener(\n      \"wheel\",\n      (evt) => {\n        IpyVizzu.inhibitScroll = true;\n      },\n      true,\n    );\n    document.addEventListener(\n      \"keydown\",\n      (evt) => {\n        IpyVizzu.inhibitScroll = true;\n      },\n      true,\n    );\n    document.addEventListener(\n      \"touchstart\",\n      (evt) => {\n        IpyVizzu.inhibitScroll = true;\n      },\n      true,\n    );\n\n    this.elements = {};\n    this.charts = {};\n    this.controls = {};\n\n    this.storage = {};\n    this.displays = {};\n\n    this.events = {};\n    this.loaded = {};\n    this.libs = {};\n  }\n\n  static clearInhibitScroll(element) {\n    IpyVizzu.inhibitScroll = false;\n  }\n\n  createChart(element, chartId, vizzulib, divWidth, divHeight) {\n    this.elements[chartId] = document.createElement(\"div\");\n    this.elements[\n      chartId\n    ].style.cssText = `width: ${divWidth}; height: ${divHeight};`;\n    this.loaded[chartId] = import(vizzulib);\n    this.charts[chartId] = this.loaded[chartId].then((Vizzu) => {\n      this.libs[chartId] = Vizzu.default;\n      const VizzuConstructor = Vizzu.default;\n      return new VizzuConstructor(this.elements[chartId]).initializing;\n    });\n    this._moveHere(chartId, element);\n  }\n\n  animate(\n    element,\n    chartId,\n    animId,\n    displayTarget,\n    scrollEnabled,\n    getChartTarget,\n    chartAnimOpts,\n  ) {\n    if (displayTarget === \"end\") this._moveHere(chartId, element);\n    this.controls[chartId] = this.charts[chartId];\n    this.charts[chartId] = this.charts[chartId].then((chart) => {\n      if (displayTarget === \"actual\") this._moveHere(chartId, element);\n      this._scroll(chartId, scrollEnabled);\n      let chartTarget = getChartTarget(this.libs[chartId]);\n      if (typeof chartTarget === \"string\") {\n        chartTarget = this.storage[chartTarget];\n      } else if (Array.isArray(chartTarget)) {\n        for (let i = 0; i < chartTarget.length; i++) {\n          const target = chartTarget[i].target;\n          if (typeof target === \"string\") {\n            chartTarget[i].target = this.storage[target];\n          }\n        }\n      }\n      chart = chart.animate(chartTarget, chartAnimOpts);\n      this.controls[animId] = chart;\n      return chart;\n    });\n  }\n\n  store(element, chartId, id) {\n    this.charts[chartId] = this.charts[chartId].then((chart) => {\n      this.storage[id] = chart.store();\n      return chart;\n    });\n  }\n\n  feature(element, chartId, name, enabled) {\n    this.charts[chartId] = this.charts[chartId].then((chart) => {\n      chart.feature(name, enabled);\n      return chart;\n    });\n  }\n\n  setEvent(element, chartId, id, event, handler) {\n    this.charts[chartId] = this.charts[chartId].then((chart) => {\n      this.events[id] = handler;\n      chart.on(event, this.events[id]);\n      return chart;\n    });\n  }\n\n  clearEvent(element, chartId, id, event) {\n    this.charts[chartId] = this.charts[chartId].then((chart) => {\n      chart.off(event, this.events[id]);\n      return chart;\n    });\n  }\n\n  log(element, chartId, chartProperty) {\n    this.charts[chartId] = this.charts[chartId].then((chart) => {\n      console.log(chart[chartProperty]);\n      return chart;\n    });\n  }\n\n  control(element, method, prevId, lastId, ...params) {\n    this.controls[prevId].then(() => {\n      this.controls[lastId].activated.then((control) => {\n        if (method === \"seek\") {\n          const value = params[0];\n          control[method](value);\n          return;\n        }\n        if (method === \"store\") {\n          const id = params[0];\n          this.storage[id] = control[method]();\n          return;\n        }\n        control[method]();\n      });\n    });\n  }\n\n  _moveHere(chartId, element) {\n    element.append(this.elements[chartId]);\n  }\n\n  _scroll(chartId, enabled) {\n    if (!IpyVizzu.inhibitScroll && enabled) {\n      this.elements[chartId].scrollIntoView({\n        behavior: \"auto\",\n        block: \"center\",\n      });\n    }\n  }\n\n  static _hide(element) {\n    document.getElementById(\n      element.selector.substring(1),\n    ).parentNode.style.display = \"none\";\n  }\n\n  static _display(prevElement, element) {\n    if (prevElement.parentNode) {\n      prevElement.parentNode.style.display = \"none\";\n    }\n    document.getElementById(\n      element.selector.substring(1),\n    ).parentNode.style.display = \"flex\";\n    document.getElementById(\n      element.selector.substring(1),\n    ).parentNode.style.margin = \"auto\";\n  }\n\n  static changeAnalyticsTo(analytics) {\n    if (IpyVizzu.analytics !== analytics) {\n      console.log(\"ipyvizzu gather usage stats:\", analytics);\n      IpyVizzu.analytics = analytics;\n    }\n    if (analytics) {\n      IpyVizzu._addHeadScript();\n    } else {\n      IpyVizzu._removeScript(\"ipyvizzu-analytics-head\");\n    }\n  }\n\n  static _addHeadScript() {\n    const scriptId = \"ipyvizzu-analytics-head\";\n    if (!IpyVizzu._isScriptAppended(scriptId)) {\n      const script = document.createElement(\"script\");\n      script.defer = true;\n      script.src = \"https://plausible.io/js/script.local.js\";\n      script.dataset.domain = \"usage.ipyvizzu.com\";\n      script.id = scriptId;\n      document.getElementsByTagName(\"head\")[0].appendChild(script);\n    }\n  }\n\n  static _isScriptAppended(id) {\n    return document.querySelector(`script[id=\"${id}\"]`) !== null;\n  }\n\n  static _removeScript(id) {\n    const script = document.getElementById(id);\n    if (script) script.remove();\n  }\n}\n\nif (IpyVizzu.version !== window.IpyVizzu?.version) {\n  window.IpyVizzu = IpyVizzu;\n  console.log(`ipyvizzu ${IpyVizzu.version}`);\n  window.ipyvizzu = new window.IpyVizzu();\n}\n"
     },
     "metadata": {},
     "output_type": "display_data"
    },
    {
     "data": {
      "application/javascript": "if (window.IpyVizzu) window.IpyVizzu.changeAnalyticsTo(true);"
     },
     "metadata": {},
     "output_type": "display_data"
    },
    {
     "data": {
      "application/javascript": "window.ipyvizzu.createChart(element, 'f229b8d', 'https://cdn.jsdelivr.net/npm/vizzu@0.8/dist/vizzu.min.js', '800px', '480px');"
     },
     "metadata": {},
     "output_type": "display_data"
    },
    {
     "data": {
      "application/javascript": "window.ipyvizzu.animate(element, 'f229b8d', '677c390', 'actual', false, lib => { return {\"data\": {\"series\": [{\"name\": \"Year\", \"values\": [\"1973\", \"1973\", \"1973\", \"1973\", \"1973\", \"1973\", \"1973\", \"1973\", \"1974\", \"1974\", \"1974\", \"1974\", \"1974\", \"1974\", \"1974\", \"1974\", \"1975\", \"1975\", \"1975\", \"1975\", \"1975\", \"1975\", \"1975\", \"1975\", \"1976\", \"1976\", \"1976\", \"1976\", \"1976\", \"1976\", \"1976\", \"1976\", \"1977\", \"1977\", \"1977\", \"1977\", \"1977\", \"1977\", \"1977\", \"1977\", \"1978\", \"1978\", \"1978\", \"1978\", \"1978\", \"1978\", \"1978\", \"1978\", \"1979\", \"1979\", \"1979\", \"1979\", \"1979\", \"1979\", \"1979\", \"1979\", \"1980\", \"1980\", \"1980\", \"1980\", \"1980\", \"1980\", \"1980\", \"1980\", \"1981\", \"1981\", \"1981\", \"1981\", \"1981\", \"1981\", \"1981\", \"1981\", \"1982\", \"1982\", \"1982\", \"1982\", \"1982\", \"1982\", \"1982\", \"1982\", \"1983\", \"1983\", \"1983\", \"1983\", \"1983\", \"1983\", \"1983\", \"1983\", \"1984\", \"1984\", \"1984\", \"1984\", \"1984\", \"1984\", \"1984\", \"1984\", \"1985\", \"1985\", \"1985\", \"1985\", \"1985\", \"1985\", \"1985\", \"1985\", \"1986\", \"1986\", \"1986\", \"1986\", \"1986\", \"1986\", \"1986\", \"1986\", \"1987\", \"1987\", \"1987\", \"1987\", \"1987\", \"1987\", \"1987\", \"1987\", \"1988\", \"1988\", \"1988\", \"1988\", \"1988\", \"1988\", \"1988\", \"1988\", \"1989\", \"1989\", \"1989\", \"1989\", \"1989\", \"1989\", \"1989\", \"1989\", \"1990\", \"1990\", \"1990\", \"1990\", \"1990\", \"1990\", \"1990\", \"1990\", \"1991\", \"1991\", \"1991\", \"1991\", \"1991\", \"1991\", \"1991\", \"1991\", \"1992\", \"1992\", \"1992\", \"1992\", \"1992\", \"1992\", \"1992\", \"1992\", \"1993\", \"1993\", \"1993\", \"1993\", \"1993\", \"1993\", \"1993\", \"1993\", \"1994\", \"1994\", \"1994\", \"1994\", \"1994\", \"1994\", \"1994\", \"1994\", \"1995\", \"1995\", \"1995\", \"1995\", \"1995\", \"1995\", \"1995\", \"1995\", \"1996\", \"1996\", \"1996\", \"1996\", \"1996\", \"1996\", \"1996\", \"1996\", \"1997\", \"1997\", \"1997\", \"1997\", \"1997\", \"1997\", \"1997\", \"1997\", \"1998\", \"1998\", \"1998\", \"1998\", \"1998\", \"1998\", \"1998\", \"1998\", \"1999\", \"1999\", \"1999\", \"1999\", \"1999\", \"1999\", \"1999\", \"1999\", \"2000\", \"2000\", \"2000\", \"2000\", \"2000\", \"2000\", \"2000\", \"2000\", \"2001\", \"2001\", \"2001\", \"2001\", \"2001\", \"2001\", \"2001\", \"2001\", \"2002\", \"2002\", \"2002\", \"2002\", \"2002\", \"2002\", \"2002\", \"2002\", \"2003\", \"2003\", \"2003\", \"2003\", \"2003\", \"2003\", \"2003\", \"2003\", \"2004\", \"2004\", \"2004\", \"2004\", \"2004\", \"2004\", \"2004\", \"2004\", \"2005\", \"2005\", \"2005\", \"2005\", \"2005\", \"2005\", \"2005\", \"2005\", \"2006\", \"2006\", \"2006\", \"2006\", \"2006\", \"2006\", \"2006\", \"2006\", \"2007\", \"2007\", \"2007\", \"2007\", \"2007\", \"2007\", \"2007\", \"2007\", \"2008\", \"2008\", \"2008\", \"2008\", \"2008\", \"2008\", \"2008\", \"2008\", \"2009\", \"2009\", \"2009\", \"2009\", \"2009\", \"2009\", \"2009\", \"2009\", \"2010\", \"2010\", \"2010\", \"2010\", \"2010\", \"2010\", \"2010\", \"2010\", \"2011\", \"2011\", \"2011\", \"2011\", \"2011\", \"2011\", \"2011\", \"2011\", \"2012\", \"2012\", \"2012\", \"2012\", \"2012\", \"2012\", \"2012\", \"2012\", \"2013\", \"2013\", \"2013\", \"2013\", \"2013\", \"2013\", \"2013\", \"2013\", \"2014\", \"2014\", \"2014\", \"2014\", \"2014\", \"2014\", \"2014\", \"2014\", \"2015\", \"2015\", \"2015\", \"2015\", \"2015\", \"2015\", \"2015\", \"2015\", \"2016\", \"2016\", \"2016\", \"2016\", \"2016\", \"2016\", \"2016\", \"2016\", \"2017\", \"2017\", \"2017\", \"2017\", \"2017\", \"2017\", \"2017\", \"2017\", \"2018\", \"2018\", \"2018\", \"2018\", \"2018\", \"2018\", \"2018\", \"2018\", \"2019\", \"2019\", \"2019\", \"2019\", \"2019\", \"2019\", \"2019\", \"2019\", \"2020\", \"2020\", \"2020\", \"2020\", \"2020\", \"2020\", \"2020\", \"2020\"], \"type\": \"dimension\"}, {\"name\": \"Format\", \"values\": [\"DVD\", \"Other\", \"Tapes\", \"Download\", \"Streaming\", \"Cassette\", \"Vinyl\", \"CD\", \"DVD\", \"Other\", \"Tapes\", \"Download\", \"Streaming\", \"Cassette\", \"Vinyl\", \"CD\", \"DVD\", \"Other\", \"Tapes\", \"Download\", \"Streaming\", \"Cassette\", \"Vinyl\", \"CD\", \"DVD\", \"Other\", \"Tapes\", \"Download\", \"Streaming\", \"Cassette\", \"Vinyl\", \"CD\", \"DVD\", \"Other\", \"Tapes\", \"Download\", \"Streaming\", \"Cassette\", \"Vinyl\", \"CD\", \"DVD\", \"Other\", \"Tapes\", \"Download\", \"Streaming\", \"Cassette\", \"Vinyl\", \"CD\", \"DVD\", \"Other\", \"Tapes\", \"Download\", \"Streaming\", \"Cassette\", \"Vinyl\", \"CD\", \"DVD\", \"Other\", \"Tapes\", \"Download\", \"Streaming\", \"Cassette\", \"Vinyl\", \"CD\", \"DVD\", \"Other\", \"Tapes\", \"Download\", \"Streaming\", \"Cassette\", \"Vinyl\", \"CD\", \"DVD\", \"Other\", \"Tapes\", \"Download\", \"Streaming\", \"Cassette\", \"Vinyl\", \"CD\", \"DVD\", \"Other\", \"Tapes\", \"Download\", \"Streaming\", \"Cassette\", \"Vinyl\", \"CD\", \"DVD\", \"Other\", \"Tapes\", \"Download\", \"Streaming\", \"Cassette\", \"Vinyl\", \"CD\", \"DVD\", \"Other\", \"Tapes\", \"Download\", \"Streaming\", \"Cassette\", \"Vinyl\", \"CD\", \"DVD\", \"Other\", \"Tapes\", \"Download\", \"Streaming\", \"Cassette\", \"Vinyl\", \"CD\", \"DVD\", \"Other\", \"Tapes\", \"Download\", \"Streaming\", \"Cassette\", \"Vinyl\", \"CD\", \"DVD\", \"Other\", \"Tapes\", \"Download\", \"Streaming\", \"Cassette\", \"Vinyl\", \"CD\", \"DVD\", \"Other\", \"Tapes\", \"Download\", \"Streaming\", \"Cassette\", \"Vinyl\", \"CD\", \"DVD\", \"Other\", \"Tapes\", \"Download\", \"Streaming\", \"Cassette\", \"Vinyl\", \"CD\", \"DVD\", \"Other\", \"Tapes\", \"Download\", \"Streaming\", \"Cassette\", \"Vinyl\", \"CD\", \"DVD\", \"Other\", \"Tapes\", \"Download\", \"Streaming\", \"Cassette\", \"Vinyl\", \"CD\", \"DVD\", \"Other\", \"Tapes\", \"Download\", \"Streaming\", \"Cassette\", \"Vinyl\", \"CD\", \"DVD\", \"Other\", \"Tapes\", \"Download\", \"Streaming\", \"Cassette\", \"Vinyl\", \"CD\", \"DVD\", \"Other\", \"Tapes\", \"Download\", \"Streaming\", \"Cassette\", \"Vinyl\", \"CD\", \"DVD\", \"Other\", \"Tapes\", \"Download\", \"Streaming\", \"Cassette\", \"Vinyl\", \"CD\", \"DVD\", \"Other\", \"Tapes\", \"Download\", \"Streaming\", \"Cassette\", \"Vinyl\", \"CD\", \"DVD\", \"Other\", \"Tapes\", \"Download\", \"Streaming\", \"Cassette\", \"Vinyl\", \"CD\", \"DVD\", \"Other\", \"Tapes\", \"Download\", \"Streaming\", \"Cassette\", \"Vinyl\", \"CD\", \"DVD\", \"Other\", \"Tapes\", \"Download\", \"Streaming\", \"Cassette\", \"Vinyl\", \"CD\", \"DVD\", \"Other\", \"Tapes\", \"Download\", \"Streaming\", \"Cassette\", \"Vinyl\", \"CD\", \"DVD\", \"Other\", \"Tapes\", \"Download\", \"Streaming\", \"Cassette\", \"Vinyl\", \"CD\", \"DVD\", \"Other\", \"Tapes\", \"Download\", \"Streaming\", \"Cassette\", \"Vinyl\", \"CD\", \"DVD\", \"Other\", \"Tapes\", \"Download\", \"Streaming\", \"Cassette\", \"Vinyl\", \"CD\", \"DVD\", \"Other\", \"Tapes\", \"Download\", \"Streaming\", \"Cassette\", \"Vinyl\", \"CD\", \"DVD\", \"Other\", \"Tapes\", \"Download\", \"Streaming\", \"Cassette\", \"Vinyl\", \"CD\", \"DVD\", \"Other\", \"Tapes\", \"Download\", \"Streaming\", \"Cassette\", \"Vinyl\", \"CD\", \"DVD\", \"Other\", \"Tapes\", \"Download\", \"Streaming\", \"Cassette\", \"Vinyl\", \"CD\", \"DVD\", \"Other\", \"Tapes\", \"Download\", \"Streaming\", \"Cassette\", \"Vinyl\", \"CD\", \"DVD\", \"Other\", \"Tapes\", \"Download\", \"Streaming\", \"Cassette\", \"Vinyl\", \"CD\", \"DVD\", \"Other\", \"Tapes\", \"Download\", \"Streaming\", \"Cassette\", \"Vinyl\", \"CD\", \"DVD\", \"Other\", \"Tapes\", \"Download\", \"Streaming\", \"Cassette\", \"Vinyl\", \"CD\", \"DVD\", \"Other\", \"Tapes\", \"Download\", \"Streaming\", \"Cassette\", \"Vinyl\", \"CD\", \"DVD\", \"Other\", \"Tapes\", \"Download\", \"Streaming\", \"Cassette\", \"Vinyl\", \"CD\", \"DVD\", \"Other\", \"Tapes\", \"Download\", \"Streaming\", \"Cassette\", \"Vinyl\", \"CD\", \"DVD\", \"Other\", \"Tapes\", \"Download\", \"Streaming\", \"Cassette\", \"Vinyl\", \"CD\", \"DVD\", \"Other\", \"Tapes\", \"Download\", \"Streaming\", \"Cassette\", \"Vinyl\", \"CD\", \"DVD\", \"Other\", \"Tapes\", \"Download\", \"Streaming\", \"Cassette\", \"Vinyl\", \"CD\", \"DVD\", \"Other\", \"Tapes\", \"Download\", \"Streaming\", \"Cassette\", \"Vinyl\", \"CD\", \"DVD\", \"Other\", \"Tapes\", \"Download\", \"Streaming\", \"Cassette\", \"Vinyl\", \"CD\"], \"type\": \"dimension\"}, {\"name\": \"Revenue [m$]\", \"values\": [0.0, 0.0, 2941.0, 0.0, 0.0, 443.0, 8371.0, 0.0, 0.0, 0.0, 2953.0, 0.0, 0.0, 458.0, 8137.0, 0.0, 0.0, 0.0, 2854.0, 0.0, 0.0, 475.0, 8161.0, 0.0, 0.0, 0.0, 3108.0, 0.0, 0.0, 663.0, 8679.0, 0.0, 0.0, 0.0, 3464.0, 0.0, 0.0, 1066.0, 10422.0, 0.0, 0.0, 0.0, 3763.0, 0.0, 0.0, 1785.0, 10851.0, 0.0, 0.0, 0.0, 2439.0, 0.0, 0.0, 2070.0, 8594.0, 0.0, 0.0, 0.0, 1655.0, 0.0, 0.0, 2214.0, 7695.0, 0.0, 0.0, 0.0, 891.0, 0.0, 0.0, 3026.0, 7397.0, 0.0, 0.0, 0.0, 97.0, 0.0, 0.0, 3713.0, 5922.0, 0.0, 0.0, 0.0, 0.0, 0.0, 0.0, 4706.0, 5089.0, 45.0, 0.0, 0.0, 0.0, 0.0, 0.0, 5938.0, 4602.0, 257.0, 0.0, 0.0, 0.0, 0.0, 0.0, 5800.0, 3756.0, 937.0, 0.0, 0.0, 0.0, 0.0, 0.0, 5902.0, 2860.0, 2196.0, 0.0, 0.0, 0.0, 0.0, 0.0, 6776.0, 2270.0, 3631.0, 0.0, 0.0, 0.0, 0.0, 0.0, 7531.0, 1559.0, 4594.0, 0.0, 241.0, 0.0, 0.0, 0.0, 7389.0, 703.0, 5401.0, 0.0, 341.0, 0.0, 0.0, 0.0, 7387.0, 358.0, 6847.0, 0.0, 224.0, 0.0, 0.0, 0.0, 6176.0, 177.0, 8309.0, 0.0, 290.0, 0.0, 0.0, 0.0, 6300.0, 147.0, 9909.0, 0.0, 382.0, 0.0, 0.0, 0.0, 5757.0, 111.0, 11744.0, 0.0, 404.0, 0.0, 0.0, 0.0, 5678.0, 114.0, 14880.0, 0.0, 374.0, 0.0, 0.0, 0.0, 4313.0, 122.0, 16113.0, 0.0, 389.0, 0.0, 0.0, 0.0, 3455.0, 139.0, 16691.0, 0.0, 522.0, 0.0, 0.0, 0.0, 2671.0, 111.0, 16428.0, 0.0, 807.0, 0.0, 0.0, 0.0, 2404.0, 95.0, 18465.0, 0.0, 585.0, 0.0, 0.0, 0.0, 1724.0, 93.0, 20255.0, 0.0, 424.0, 0.0, 0.0, 0.0, 948.0, 81.0, 20075.0, 8.8, 481.0, 0.0, 0.0, 0.0, 531.0, 86.0, 18982.0, 12.0, 415.0, 0.0, 0.0, 0.0, 302.0, 65.0, 17355.0, 11.0, 562.0, 0.0, 0.0, 0.0, 152.0, 61.0, 15888.0, 8.9, 832.0, 0.0, 251.0, 9.5, 32.0, 54.0, 15726.0, 15.0, 1358.0, 0.0, 666.0, 225.0, 17.0, 36.0, 13969.0, 3.1, 1575.0, 0.0, 1125.0, 307.0, 4.8, 33.0, 12049.0, 3.5, 1927.0, 0.0, 1669.0, 337.0, 3.7, 34.0, 9324.0, 1.4, 1451.0, 0.0, 2054.0, 386.0, 1.1, 72.0, 6585.0, 1.9, 1351.0, 0.0, 2361.0, 436.0, 0.0, 80.0, 5217.0, 1.1, 974.0, 0.0, 2665.0, 548.0, 0.0, 108.0, 4028.0, 0.3, 721.0, 0.0, 3021.0, 752.0, 0.0, 143.0, 3573.0, 0.2, 515.0, 0.0, 3235.0, 1164.0, 0.0, 187.0, 2807.0, 0.0, 445.0, 0.0, 3136.0, 1616.0, 0.0, 237.0, 2382.0, 2.3, 381.0, 0.0, 2719.0, 1998.0, 0.0, 273.0, 1947.0, 5.9, 362.0, 0.0, 2464.0, 2546.0, 0.0, 370.0, 1580.0, 3.1, 357.0, 0.0, 1930.0, 4179.0, 0.0, 389.0, 1221.0, 0.3, 325.0, 0.0, 1412.0, 5721.0, 0.0, 417.0, 1103.0, 0.3, 351.0, 0.0, 1038.0, 7491.0, 0.0, 438.0, 718.0, 1.3, 333.0, 0.0, 810.0, 8992.0, 0.0, 492.0, 639.0, 1.8, 314.0, 0.0, 653.0, 10075.0, 0.0, 626.0, 484.0], \"type\": \"measure\"}]}} }, undefined);"
     },
     "metadata": {},
     "output_type": "display_data"
    },
    {
     "data": {
      "application/javascript": "window.ipyvizzu.animate(element, 'f229b8d', '9e63838', 'actual', false, lib => { return {\"config\": {\"x\": \"Year\", \"y\": [\"Format\", \"Revenue [m$]\"], \"color\": \"Format\", \"geometry\": \"area\", \"align\": \"center\", \"title\": \"Music Revenue by Format 1973-2020\"}, \"style\": {\"plot\": {\"xAxis\": {\"label\": {\"fontSize\": 9, \"angle\": 2.0}}, \"marker\": {\"colorPalette\": \"#b74c20FF #c47f58FF #1c9761FF #ea4549FF #875792FF #3562b6FF #ee7c34FF #efae3aFF\"}}}} }, undefined);"
     },
     "metadata": {},
     "output_type": "display_data"
    }
   ],
   "source": [
    "import pandas as pd\n",
    "from ipyvizzu import Chart, Data, Config, Style\n",
    " \n",
    "df = pd.read_csv(\n",
    "    \"https://ipyvizzu.vizzuhq.com/0.16/showcases/music/music.csv\",\n",
    "    dtype={\"Year\": str},\n",
    ")\n",
    "data = Data()\n",
    "data.add_df(df)\n",
    " \n",
    "chart = Chart()\n",
    " \n",
    "chart.animate(data)\n",
    " \n",
    "chart.animate(\n",
    "    Config(\n",
    "        {\n",
    "            \"x\": \"Year\",\n",
    "            \"y\": [\"Format\", \"Revenue [m$]\"],\n",
    "            \"color\": \"Format\",\n",
    "            \"geometry\": \"area\",\n",
    "            \"align\": \"center\",\n",
    "            \"title\": \"Music Revenue by Format 1973-2020\",\n",
    "        }\n",
    "    ),\n",
    "    Style(\n",
    "        {\n",
    "            \"plot\": {\n",
    "                \"xAxis\": {\"label\": {\"fontSize\": 9, \"angle\": 2.0}},\n",
    "                \"marker\": {\n",
    "                    \"colorPalette\": \"#b74c20FF #c47f58FF #1c9761FF\"\n",
    "                    + \" #ea4549FF #875792FF #3562b6FF\"\n",
    "                    + \" #ee7c34FF #efae3aFF\"\n",
    "                },\n",
    "            }\n",
    "        }\n",
    "    ),\n",
    ")\n",
    " \n"
   ]
  },
  {
   "attachments": {},
   "cell_type": "markdown",
   "metadata": {},
   "source": [
    "Pretty neat, but what really blows me away is how easy and intuitive it is to create animation with ipyvizzu.\n",
    "\n",
    "## Creating Animations with ipyvizzu 🎬\n",
    "Animations can be powerful tools to convey changes over time or to highlight specific aspects of your data. Basically, a static chart is the result of a single animation state. When there are more states, ipyvizzu automatically transitions between these.\n",
    "\n",
    "Here's a simple animation using the stack area plot we created earlier. "
   ]
  },
  {
   "cell_type": "code",
   "execution_count": 2,
   "metadata": {},
   "outputs": [
    {
     "data": {
      "application/javascript": "if (window.IpyVizzu) { window.IpyVizzu.clearInhibitScroll(element); }"
     },
     "metadata": {},
     "output_type": "display_data"
    },
    {
     "data": {
      "application/javascript": "class IpyVizzu {\n  static version = \"0.16.1\";\n  static analytics = undefined;\n  static inhibitScroll = false;\n\n  constructor() {\n    document.addEventListener(\n      \"wheel\",\n      (evt) => {\n        IpyVizzu.inhibitScroll = true;\n      },\n      true,\n    );\n    document.addEventListener(\n      \"keydown\",\n      (evt) => {\n        IpyVizzu.inhibitScroll = true;\n      },\n      true,\n    );\n    document.addEventListener(\n      \"touchstart\",\n      (evt) => {\n        IpyVizzu.inhibitScroll = true;\n      },\n      true,\n    );\n\n    this.elements = {};\n    this.charts = {};\n    this.controls = {};\n\n    this.storage = {};\n    this.displays = {};\n\n    this.events = {};\n    this.loaded = {};\n    this.libs = {};\n  }\n\n  static clearInhibitScroll(element) {\n    IpyVizzu.inhibitScroll = false;\n  }\n\n  createChart(element, chartId, vizzulib, divWidth, divHeight) {\n    this.elements[chartId] = document.createElement(\"div\");\n    this.elements[\n      chartId\n    ].style.cssText = `width: ${divWidth}; height: ${divHeight};`;\n    this.loaded[chartId] = import(vizzulib);\n    this.charts[chartId] = this.loaded[chartId].then((Vizzu) => {\n      this.libs[chartId] = Vizzu.default;\n      const VizzuConstructor = Vizzu.default;\n      return new VizzuConstructor(this.elements[chartId]).initializing;\n    });\n    this._moveHere(chartId, element);\n  }\n\n  animate(\n    element,\n    chartId,\n    animId,\n    displayTarget,\n    scrollEnabled,\n    getChartTarget,\n    chartAnimOpts,\n  ) {\n    if (displayTarget === \"end\") this._moveHere(chartId, element);\n    this.controls[chartId] = this.charts[chartId];\n    this.charts[chartId] = this.charts[chartId].then((chart) => {\n      if (displayTarget === \"actual\") this._moveHere(chartId, element);\n      this._scroll(chartId, scrollEnabled);\n      let chartTarget = getChartTarget(this.libs[chartId]);\n      if (typeof chartTarget === \"string\") {\n        chartTarget = this.storage[chartTarget];\n      } else if (Array.isArray(chartTarget)) {\n        for (let i = 0; i < chartTarget.length; i++) {\n          const target = chartTarget[i].target;\n          if (typeof target === \"string\") {\n            chartTarget[i].target = this.storage[target];\n          }\n        }\n      }\n      chart = chart.animate(chartTarget, chartAnimOpts);\n      this.controls[animId] = chart;\n      return chart;\n    });\n  }\n\n  store(element, chartId, id) {\n    this.charts[chartId] = this.charts[chartId].then((chart) => {\n      this.storage[id] = chart.store();\n      return chart;\n    });\n  }\n\n  feature(element, chartId, name, enabled) {\n    this.charts[chartId] = this.charts[chartId].then((chart) => {\n      chart.feature(name, enabled);\n      return chart;\n    });\n  }\n\n  setEvent(element, chartId, id, event, handler) {\n    this.charts[chartId] = this.charts[chartId].then((chart) => {\n      this.events[id] = handler;\n      chart.on(event, this.events[id]);\n      return chart;\n    });\n  }\n\n  clearEvent(element, chartId, id, event) {\n    this.charts[chartId] = this.charts[chartId].then((chart) => {\n      chart.off(event, this.events[id]);\n      return chart;\n    });\n  }\n\n  log(element, chartId, chartProperty) {\n    this.charts[chartId] = this.charts[chartId].then((chart) => {\n      console.log(chart[chartProperty]);\n      return chart;\n    });\n  }\n\n  control(element, method, prevId, lastId, ...params) {\n    this.controls[prevId].then(() => {\n      this.controls[lastId].activated.then((control) => {\n        if (method === \"seek\") {\n          const value = params[0];\n          control[method](value);\n          return;\n        }\n        if (method === \"store\") {\n          const id = params[0];\n          this.storage[id] = control[method]();\n          return;\n        }\n        control[method]();\n      });\n    });\n  }\n\n  _moveHere(chartId, element) {\n    element.append(this.elements[chartId]);\n  }\n\n  _scroll(chartId, enabled) {\n    if (!IpyVizzu.inhibitScroll && enabled) {\n      this.elements[chartId].scrollIntoView({\n        behavior: \"auto\",\n        block: \"center\",\n      });\n    }\n  }\n\n  static _hide(element) {\n    document.getElementById(\n      element.selector.substring(1),\n    ).parentNode.style.display = \"none\";\n  }\n\n  static _display(prevElement, element) {\n    if (prevElement.parentNode) {\n      prevElement.parentNode.style.display = \"none\";\n    }\n    document.getElementById(\n      element.selector.substring(1),\n    ).parentNode.style.display = \"flex\";\n    document.getElementById(\n      element.selector.substring(1),\n    ).parentNode.style.margin = \"auto\";\n  }\n\n  static changeAnalyticsTo(analytics) {\n    if (IpyVizzu.analytics !== analytics) {\n      console.log(\"ipyvizzu gather usage stats:\", analytics);\n      IpyVizzu.analytics = analytics;\n    }\n    if (analytics) {\n      IpyVizzu._addHeadScript();\n    } else {\n      IpyVizzu._removeScript(\"ipyvizzu-analytics-head\");\n    }\n  }\n\n  static _addHeadScript() {\n    const scriptId = \"ipyvizzu-analytics-head\";\n    if (!IpyVizzu._isScriptAppended(scriptId)) {\n      const script = document.createElement(\"script\");\n      script.defer = true;\n      script.src = \"https://plausible.io/js/script.local.js\";\n      script.dataset.domain = \"usage.ipyvizzu.com\";\n      script.id = scriptId;\n      document.getElementsByTagName(\"head\")[0].appendChild(script);\n    }\n  }\n\n  static _isScriptAppended(id) {\n    return document.querySelector(`script[id=\"${id}\"]`) !== null;\n  }\n\n  static _removeScript(id) {\n    const script = document.getElementById(id);\n    if (script) script.remove();\n  }\n}\n\nif (IpyVizzu.version !== window.IpyVizzu?.version) {\n  window.IpyVizzu = IpyVizzu;\n  console.log(`ipyvizzu ${IpyVizzu.version}`);\n  window.ipyvizzu = new window.IpyVizzu();\n}\n"
     },
     "metadata": {},
     "output_type": "display_data"
    },
    {
     "data": {
      "application/javascript": "if (window.IpyVizzu) window.IpyVizzu.changeAnalyticsTo(true);"
     },
     "metadata": {},
     "output_type": "display_data"
    },
    {
     "data": {
      "application/javascript": "window.ipyvizzu.createChart(element, '2d39564', 'https://cdn.jsdelivr.net/npm/vizzu@0.8/dist/vizzu.min.js', '800px', '480px');"
     },
     "metadata": {},
     "output_type": "display_data"
    },
    {
     "data": {
      "application/javascript": "window.ipyvizzu.animate(element, '2d39564', 'e294001', 'actual', false, lib => { return {\"data\": {\"series\": [{\"name\": \"Year\", \"values\": [\"1973\", \"1973\", \"1973\", \"1973\", \"1973\", \"1973\", \"1973\", \"1973\", \"1974\", \"1974\", \"1974\", \"1974\", \"1974\", \"1974\", \"1974\", \"1974\", \"1975\", \"1975\", \"1975\", \"1975\", \"1975\", \"1975\", \"1975\", \"1975\", \"1976\", \"1976\", \"1976\", \"1976\", \"1976\", \"1976\", \"1976\", \"1976\", \"1977\", \"1977\", \"1977\", \"1977\", \"1977\", \"1977\", \"1977\", \"1977\", \"1978\", \"1978\", \"1978\", \"1978\", \"1978\", \"1978\", \"1978\", \"1978\", \"1979\", \"1979\", \"1979\", \"1979\", \"1979\", \"1979\", \"1979\", \"1979\", \"1980\", \"1980\", \"1980\", \"1980\", \"1980\", \"1980\", \"1980\", \"1980\", \"1981\", \"1981\", \"1981\", \"1981\", \"1981\", \"1981\", \"1981\", \"1981\", \"1982\", \"1982\", \"1982\", \"1982\", \"1982\", \"1982\", \"1982\", \"1982\", \"1983\", \"1983\", \"1983\", \"1983\", \"1983\", \"1983\", \"1983\", \"1983\", \"1984\", \"1984\", \"1984\", \"1984\", \"1984\", \"1984\", \"1984\", \"1984\", \"1985\", \"1985\", \"1985\", \"1985\", \"1985\", \"1985\", \"1985\", \"1985\", \"1986\", \"1986\", \"1986\", \"1986\", \"1986\", \"1986\", \"1986\", \"1986\", \"1987\", \"1987\", \"1987\", \"1987\", \"1987\", \"1987\", \"1987\", \"1987\", \"1988\", \"1988\", \"1988\", \"1988\", \"1988\", \"1988\", \"1988\", \"1988\", \"1989\", \"1989\", \"1989\", \"1989\", \"1989\", \"1989\", \"1989\", \"1989\", \"1990\", \"1990\", \"1990\", \"1990\", \"1990\", \"1990\", \"1990\", \"1990\", \"1991\", \"1991\", \"1991\", \"1991\", \"1991\", \"1991\", \"1991\", \"1991\", \"1992\", \"1992\", \"1992\", \"1992\", \"1992\", \"1992\", \"1992\", \"1992\", \"1993\", \"1993\", \"1993\", \"1993\", \"1993\", \"1993\", \"1993\", \"1993\", \"1994\", \"1994\", \"1994\", \"1994\", \"1994\", \"1994\", \"1994\", \"1994\", \"1995\", \"1995\", \"1995\", \"1995\", \"1995\", \"1995\", \"1995\", \"1995\", \"1996\", \"1996\", \"1996\", \"1996\", \"1996\", \"1996\", \"1996\", \"1996\", \"1997\", \"1997\", \"1997\", \"1997\", \"1997\", \"1997\", \"1997\", \"1997\", \"1998\", \"1998\", \"1998\", \"1998\", \"1998\", \"1998\", \"1998\", \"1998\", \"1999\", \"1999\", \"1999\", \"1999\", \"1999\", \"1999\", \"1999\", \"1999\", \"2000\", \"2000\", \"2000\", \"2000\", \"2000\", \"2000\", \"2000\", \"2000\", \"2001\", \"2001\", \"2001\", \"2001\", \"2001\", \"2001\", \"2001\", \"2001\", \"2002\", \"2002\", \"2002\", \"2002\", \"2002\", \"2002\", \"2002\", \"2002\", \"2003\", \"2003\", \"2003\", \"2003\", \"2003\", \"2003\", \"2003\", \"2003\", \"2004\", \"2004\", \"2004\", \"2004\", \"2004\", \"2004\", \"2004\", \"2004\", \"2005\", \"2005\", \"2005\", \"2005\", \"2005\", \"2005\", \"2005\", \"2005\", \"2006\", \"2006\", \"2006\", \"2006\", \"2006\", \"2006\", \"2006\", \"2006\", \"2007\", \"2007\", \"2007\", \"2007\", \"2007\", \"2007\", \"2007\", \"2007\", \"2008\", \"2008\", \"2008\", \"2008\", \"2008\", \"2008\", \"2008\", \"2008\", \"2009\", \"2009\", \"2009\", \"2009\", \"2009\", \"2009\", \"2009\", \"2009\", \"2010\", \"2010\", \"2010\", \"2010\", \"2010\", \"2010\", \"2010\", \"2010\", \"2011\", \"2011\", \"2011\", \"2011\", \"2011\", \"2011\", \"2011\", \"2011\", \"2012\", \"2012\", \"2012\", \"2012\", \"2012\", \"2012\", \"2012\", \"2012\", \"2013\", \"2013\", \"2013\", \"2013\", \"2013\", \"2013\", \"2013\", \"2013\", \"2014\", \"2014\", \"2014\", \"2014\", \"2014\", \"2014\", \"2014\", \"2014\", \"2015\", \"2015\", \"2015\", \"2015\", \"2015\", \"2015\", \"2015\", \"2015\", \"2016\", \"2016\", \"2016\", \"2016\", \"2016\", \"2016\", \"2016\", \"2016\", \"2017\", \"2017\", \"2017\", \"2017\", \"2017\", \"2017\", \"2017\", \"2017\", \"2018\", \"2018\", \"2018\", \"2018\", \"2018\", \"2018\", \"2018\", \"2018\", \"2019\", \"2019\", \"2019\", \"2019\", \"2019\", \"2019\", \"2019\", \"2019\", \"2020\", \"2020\", \"2020\", \"2020\", \"2020\", \"2020\", \"2020\", \"2020\"], \"type\": \"dimension\"}, {\"name\": \"Format\", \"values\": [\"DVD\", \"Other\", \"Tapes\", \"Download\", \"Streaming\", \"Cassette\", \"Vinyl\", \"CD\", \"DVD\", \"Other\", \"Tapes\", \"Download\", \"Streaming\", \"Cassette\", \"Vinyl\", \"CD\", \"DVD\", \"Other\", \"Tapes\", \"Download\", \"Streaming\", \"Cassette\", \"Vinyl\", \"CD\", \"DVD\", \"Other\", \"Tapes\", \"Download\", \"Streaming\", \"Cassette\", \"Vinyl\", \"CD\", \"DVD\", \"Other\", \"Tapes\", \"Download\", \"Streaming\", \"Cassette\", \"Vinyl\", \"CD\", \"DVD\", \"Other\", \"Tapes\", \"Download\", \"Streaming\", \"Cassette\", \"Vinyl\", \"CD\", \"DVD\", \"Other\", \"Tapes\", \"Download\", \"Streaming\", \"Cassette\", \"Vinyl\", \"CD\", \"DVD\", \"Other\", \"Tapes\", \"Download\", \"Streaming\", \"Cassette\", \"Vinyl\", \"CD\", \"DVD\", \"Other\", \"Tapes\", \"Download\", \"Streaming\", \"Cassette\", \"Vinyl\", \"CD\", \"DVD\", \"Other\", \"Tapes\", \"Download\", \"Streaming\", \"Cassette\", \"Vinyl\", \"CD\", \"DVD\", \"Other\", \"Tapes\", \"Download\", \"Streaming\", \"Cassette\", \"Vinyl\", \"CD\", \"DVD\", \"Other\", \"Tapes\", \"Download\", \"Streaming\", \"Cassette\", \"Vinyl\", \"CD\", \"DVD\", \"Other\", \"Tapes\", \"Download\", \"Streaming\", \"Cassette\", \"Vinyl\", \"CD\", \"DVD\", \"Other\", \"Tapes\", \"Download\", \"Streaming\", \"Cassette\", \"Vinyl\", \"CD\", \"DVD\", \"Other\", \"Tapes\", \"Download\", \"Streaming\", \"Cassette\", \"Vinyl\", \"CD\", \"DVD\", \"Other\", \"Tapes\", \"Download\", \"Streaming\", \"Cassette\", \"Vinyl\", \"CD\", \"DVD\", \"Other\", \"Tapes\", \"Download\", \"Streaming\", \"Cassette\", \"Vinyl\", \"CD\", \"DVD\", \"Other\", \"Tapes\", \"Download\", \"Streaming\", \"Cassette\", \"Vinyl\", \"CD\", \"DVD\", \"Other\", \"Tapes\", \"Download\", \"Streaming\", \"Cassette\", \"Vinyl\", \"CD\", \"DVD\", \"Other\", \"Tapes\", \"Download\", \"Streaming\", \"Cassette\", \"Vinyl\", \"CD\", \"DVD\", \"Other\", \"Tapes\", \"Download\", \"Streaming\", \"Cassette\", \"Vinyl\", \"CD\", \"DVD\", \"Other\", \"Tapes\", \"Download\", \"Streaming\", \"Cassette\", \"Vinyl\", \"CD\", \"DVD\", \"Other\", \"Tapes\", \"Download\", \"Streaming\", \"Cassette\", \"Vinyl\", \"CD\", \"DVD\", \"Other\", \"Tapes\", \"Download\", \"Streaming\", \"Cassette\", \"Vinyl\", \"CD\", \"DVD\", \"Other\", \"Tapes\", \"Download\", \"Streaming\", \"Cassette\", \"Vinyl\", \"CD\", \"DVD\", \"Other\", \"Tapes\", \"Download\", \"Streaming\", \"Cassette\", \"Vinyl\", \"CD\", \"DVD\", \"Other\", \"Tapes\", \"Download\", \"Streaming\", \"Cassette\", \"Vinyl\", \"CD\", \"DVD\", \"Other\", \"Tapes\", \"Download\", \"Streaming\", \"Cassette\", \"Vinyl\", \"CD\", \"DVD\", \"Other\", \"Tapes\", \"Download\", \"Streaming\", \"Cassette\", \"Vinyl\", \"CD\", \"DVD\", \"Other\", \"Tapes\", \"Download\", \"Streaming\", \"Cassette\", \"Vinyl\", \"CD\", \"DVD\", \"Other\", \"Tapes\", \"Download\", \"Streaming\", \"Cassette\", \"Vinyl\", \"CD\", \"DVD\", \"Other\", \"Tapes\", \"Download\", \"Streaming\", \"Cassette\", \"Vinyl\", \"CD\", \"DVD\", \"Other\", \"Tapes\", \"Download\", \"Streaming\", \"Cassette\", \"Vinyl\", \"CD\", \"DVD\", \"Other\", \"Tapes\", \"Download\", \"Streaming\", \"Cassette\", \"Vinyl\", \"CD\", \"DVD\", \"Other\", \"Tapes\", \"Download\", \"Streaming\", \"Cassette\", \"Vinyl\", \"CD\", \"DVD\", \"Other\", \"Tapes\", \"Download\", \"Streaming\", \"Cassette\", \"Vinyl\", \"CD\", \"DVD\", \"Other\", \"Tapes\", \"Download\", \"Streaming\", \"Cassette\", \"Vinyl\", \"CD\", \"DVD\", \"Other\", \"Tapes\", \"Download\", \"Streaming\", \"Cassette\", \"Vinyl\", \"CD\", \"DVD\", \"Other\", \"Tapes\", \"Download\", \"Streaming\", \"Cassette\", \"Vinyl\", \"CD\", \"DVD\", \"Other\", \"Tapes\", \"Download\", \"Streaming\", \"Cassette\", \"Vinyl\", \"CD\", \"DVD\", \"Other\", \"Tapes\", \"Download\", \"Streaming\", \"Cassette\", \"Vinyl\", \"CD\", \"DVD\", \"Other\", \"Tapes\", \"Download\", \"Streaming\", \"Cassette\", \"Vinyl\", \"CD\", \"DVD\", \"Other\", \"Tapes\", \"Download\", \"Streaming\", \"Cassette\", \"Vinyl\", \"CD\", \"DVD\", \"Other\", \"Tapes\", \"Download\", \"Streaming\", \"Cassette\", \"Vinyl\", \"CD\", \"DVD\", \"Other\", \"Tapes\", \"Download\", \"Streaming\", \"Cassette\", \"Vinyl\", \"CD\", \"DVD\", \"Other\", \"Tapes\", \"Download\", \"Streaming\", \"Cassette\", \"Vinyl\", \"CD\", \"DVD\", \"Other\", \"Tapes\", \"Download\", \"Streaming\", \"Cassette\", \"Vinyl\", \"CD\", \"DVD\", \"Other\", \"Tapes\", \"Download\", \"Streaming\", \"Cassette\", \"Vinyl\", \"CD\"], \"type\": \"dimension\"}, {\"name\": \"Revenue [m$]\", \"values\": [0.0, 0.0, 2941.0, 0.0, 0.0, 443.0, 8371.0, 0.0, 0.0, 0.0, 2953.0, 0.0, 0.0, 458.0, 8137.0, 0.0, 0.0, 0.0, 2854.0, 0.0, 0.0, 475.0, 8161.0, 0.0, 0.0, 0.0, 3108.0, 0.0, 0.0, 663.0, 8679.0, 0.0, 0.0, 0.0, 3464.0, 0.0, 0.0, 1066.0, 10422.0, 0.0, 0.0, 0.0, 3763.0, 0.0, 0.0, 1785.0, 10851.0, 0.0, 0.0, 0.0, 2439.0, 0.0, 0.0, 2070.0, 8594.0, 0.0, 0.0, 0.0, 1655.0, 0.0, 0.0, 2214.0, 7695.0, 0.0, 0.0, 0.0, 891.0, 0.0, 0.0, 3026.0, 7397.0, 0.0, 0.0, 0.0, 97.0, 0.0, 0.0, 3713.0, 5922.0, 0.0, 0.0, 0.0, 0.0, 0.0, 0.0, 4706.0, 5089.0, 45.0, 0.0, 0.0, 0.0, 0.0, 0.0, 5938.0, 4602.0, 257.0, 0.0, 0.0, 0.0, 0.0, 0.0, 5800.0, 3756.0, 937.0, 0.0, 0.0, 0.0, 0.0, 0.0, 5902.0, 2860.0, 2196.0, 0.0, 0.0, 0.0, 0.0, 0.0, 6776.0, 2270.0, 3631.0, 0.0, 0.0, 0.0, 0.0, 0.0, 7531.0, 1559.0, 4594.0, 0.0, 241.0, 0.0, 0.0, 0.0, 7389.0, 703.0, 5401.0, 0.0, 341.0, 0.0, 0.0, 0.0, 7387.0, 358.0, 6847.0, 0.0, 224.0, 0.0, 0.0, 0.0, 6176.0, 177.0, 8309.0, 0.0, 290.0, 0.0, 0.0, 0.0, 6300.0, 147.0, 9909.0, 0.0, 382.0, 0.0, 0.0, 0.0, 5757.0, 111.0, 11744.0, 0.0, 404.0, 0.0, 0.0, 0.0, 5678.0, 114.0, 14880.0, 0.0, 374.0, 0.0, 0.0, 0.0, 4313.0, 122.0, 16113.0, 0.0, 389.0, 0.0, 0.0, 0.0, 3455.0, 139.0, 16691.0, 0.0, 522.0, 0.0, 0.0, 0.0, 2671.0, 111.0, 16428.0, 0.0, 807.0, 0.0, 0.0, 0.0, 2404.0, 95.0, 18465.0, 0.0, 585.0, 0.0, 0.0, 0.0, 1724.0, 93.0, 20255.0, 0.0, 424.0, 0.0, 0.0, 0.0, 948.0, 81.0, 20075.0, 8.8, 481.0, 0.0, 0.0, 0.0, 531.0, 86.0, 18982.0, 12.0, 415.0, 0.0, 0.0, 0.0, 302.0, 65.0, 17355.0, 11.0, 562.0, 0.0, 0.0, 0.0, 152.0, 61.0, 15888.0, 8.9, 832.0, 0.0, 251.0, 9.5, 32.0, 54.0, 15726.0, 15.0, 1358.0, 0.0, 666.0, 225.0, 17.0, 36.0, 13969.0, 3.1, 1575.0, 0.0, 1125.0, 307.0, 4.8, 33.0, 12049.0, 3.5, 1927.0, 0.0, 1669.0, 337.0, 3.7, 34.0, 9324.0, 1.4, 1451.0, 0.0, 2054.0, 386.0, 1.1, 72.0, 6585.0, 1.9, 1351.0, 0.0, 2361.0, 436.0, 0.0, 80.0, 5217.0, 1.1, 974.0, 0.0, 2665.0, 548.0, 0.0, 108.0, 4028.0, 0.3, 721.0, 0.0, 3021.0, 752.0, 0.0, 143.0, 3573.0, 0.2, 515.0, 0.0, 3235.0, 1164.0, 0.0, 187.0, 2807.0, 0.0, 445.0, 0.0, 3136.0, 1616.0, 0.0, 237.0, 2382.0, 2.3, 381.0, 0.0, 2719.0, 1998.0, 0.0, 273.0, 1947.0, 5.9, 362.0, 0.0, 2464.0, 2546.0, 0.0, 370.0, 1580.0, 3.1, 357.0, 0.0, 1930.0, 4179.0, 0.0, 389.0, 1221.0, 0.3, 325.0, 0.0, 1412.0, 5721.0, 0.0, 417.0, 1103.0, 0.3, 351.0, 0.0, 1038.0, 7491.0, 0.0, 438.0, 718.0, 1.3, 333.0, 0.0, 810.0, 8992.0, 0.0, 492.0, 639.0, 1.8, 314.0, 0.0, 653.0, 10075.0, 0.0, 626.0, 484.0], \"type\": \"measure\"}]}} }, undefined);"
     },
     "metadata": {},
     "output_type": "display_data"
    },
    {
     "data": {
      "application/javascript": "window.ipyvizzu.animate(element, '2d39564', '01b5637', 'actual', false, lib => { return {\"config\": {\"x\": \"Year\", \"y\": [\"Format\", \"Revenue [m$]\"], \"color\": \"Format\", \"geometry\": \"area\", \"align\": \"center\", \"title\": \"Music Revenue by Format 1973-2020\"}, \"style\": {\"plot\": {\"xAxis\": {\"label\": {\"fontSize\": 9, \"angle\": 2.0}}, \"marker\": {\"colorPalette\": \"#b74c20FF #c47f58FF #1c9761FF #ea4549FF #875792FF #3562b6FF #ee7c34FF #efae3aFF\"}}}} }, undefined);"
     },
     "metadata": {},
     "output_type": "display_data"
    },
    {
     "data": {
      "application/javascript": "window.ipyvizzu.animate(element, '2d39564', 'fa439a4', 'actual', false, lib => { return {\"config\": {\"align\": \"stretch\", \"title\": \"Music Revenue by Format 1973-2020(%)\"}} }, {\"delay\": 1, \"easing\": \"linear\"});"
     },
     "metadata": {},
     "output_type": "display_data"
    },
    {
     "data": {
      "application/javascript": "window.ipyvizzu.animate(element, '2d39564', 'd02290c', 'actual', false, lib => { return {\"config\": {\"align\": \"center\", \"title\": \"Music Revenue by Format 1973-2020\"}} }, {\"delay\": 1});"
     },
     "metadata": {},
     "output_type": "display_data"
    },
    {
     "data": {
      "application/javascript": "window.ipyvizzu.animate(element, '2d39564', 'a10b266', 'actual', false, lib => { return {\"config\": {\"split\": true}} }, {\"delay\": 1});"
     },
     "metadata": {},
     "output_type": "display_data"
    },
    {
     "data": {
      "application/javascript": "window.ipyvizzu.animate(element, '2d39564', 'a5e870d', 'actual', false, lib => { return {\"data\": {\"filter\": record => { return (record.Format == 'Vinyl' ||record.Format == 'Streaming') }}, \"config\": {\"title\": \"Revenue of Vinyl & Streaming 1973-2020\"}} }, {\"delay\": 1});"
     },
     "metadata": {},
     "output_type": "display_data"
    },
    {
     "data": {
      "application/javascript": "window.ipyvizzu.animate(element, '2d39564', 'b5126e3', 'actual', false, lib => { return {\"data\": {\"filter\": null}, \"config\": {\"title\": \"Music Revenue by Format 1973-2020\", \"split\": false}} }, {\"delay\": 1});"
     },
     "metadata": {},
     "output_type": "display_data"
    },
    {
     "data": {
      "application/javascript": "window.ipyvizzu.animate(element, '2d39564', 'c29e166', 'actual', false, lib => { return {\"config\": {\"x\": \"Year\", \"y\": \"Revenue [m$]\", \"noop\": \"Format\", \"align\": \"none\", \"geometry\": \"line\"}} }, {\"delay\": 1});"
     },
     "metadata": {},
     "output_type": "display_data"
    },
    {
     "data": {
      "application/javascript": "window.ipyvizzu.store(element, '2d39564', '0439591');"
     },
     "metadata": {},
     "output_type": "display_data"
    },
    {
     "data": {
      "text/plain": [
       "<ipyvizzu.animation.Snapshot at 0x124d9d20130>"
      ]
     },
     "execution_count": 2,
     "metadata": {},
     "output_type": "execute_result"
    }
   ],
   "source": [
    "import pandas as pd\n",
    "from ipyvizzu import Chart, Data, Config, Style\n",
    " \n",
    "df = pd.read_csv(\n",
    "    \"https://ipyvizzu.vizzuhq.com/0.16/showcases/music/music.csv\",\n",
    "    dtype={\"Year\": str},\n",
    ")\n",
    "data = Data()\n",
    "data.add_df(df)\n",
    " \n",
    "chart = Chart()\n",
    " \n",
    "chart.animate(data)\n",
    " \n",
    "chart.animate(\n",
    "    Config(\n",
    "        {\n",
    "            \"x\": \"Year\",\n",
    "            \"y\": [\"Format\", \"Revenue [m$]\"],\n",
    "            \"color\": \"Format\",\n",
    "            \"geometry\": \"area\",\n",
    "            \"align\": \"center\",\n",
    "            \"title\": \"Music Revenue by Format 1973-2020\",\n",
    "        }\n",
    "    ),\n",
    "    Style(\n",
    "        {\n",
    "            \"plot\": {\n",
    "                \"xAxis\": {\"label\": {\"fontSize\": 9, \"angle\": 2.0}},\n",
    "                \"marker\": {\n",
    "                    \"colorPalette\": \"#b74c20FF #c47f58FF #1c9761FF\"\n",
    "                    + \" #ea4549FF #875792FF #3562b6FF\"\n",
    "                    + \" #ee7c34FF #efae3aFF\"\n",
    "                },\n",
    "            }\n",
    "        }\n",
    "    ),\n",
    ")\n",
    " \n",
    "chart.animate(\n",
    "    Config(\n",
    "        {\n",
    "            \"align\": \"stretch\",\n",
    "            \"title\": \"Music Revenue by Format 1973-2020(%)\",\n",
    "        }\n",
    "    ),\n",
    "    delay=1,\n",
    "    easing=\"linear\",\n",
    ")\n",
    " \n",
    "chart.animate(\n",
    "    Config(\n",
    "        {\n",
    "            \"align\": \"center\",\n",
    "            \"title\": \"Music Revenue by Format 1973-2020\",\n",
    "        }\n",
    "    ),\n",
    "    delay=1,\n",
    ")\n",
    " \n",
    "chart.animate(Config({\"split\": True}), delay=1)\n",
    " \n",
    "chart.animate(\n",
    "    Data.filter(\n",
    "        \"record.Format == 'Vinyl' ||record.Format == 'Streaming'\"\n",
    "    ),\n",
    "    Config({\"title\": \"Revenue of Vinyl & Streaming 1973-2020\"}),\n",
    "    delay=1,\n",
    ")\n",
    " \n",
    "chart.animate(\n",
    "    Data.filter(None),\n",
    "    Config(\n",
    "        {\"title\": \"Music Revenue by Format 1973-2020\", \"split\": False}\n",
    "    ),\n",
    "    delay=1,\n",
    ")\n",
    " \n",
    "chart.animate(\n",
    "    Config(\n",
    "        {\n",
    "            \"x\": \"Year\",\n",
    "            \"y\": \"Revenue [m$]\",\n",
    "            \"noop\": \"Format\",\n",
    "            \"align\": \"none\",\n",
    "            \"geometry\": \"line\",\n",
    "        }\n",
    "    ),\n",
    "    delay=1,\n",
    ")\n",
    "\n",
    "chart.store()"
   ]
  },
  {
   "attachments": {},
   "cell_type": "markdown",
   "metadata": {},
   "source": [
    "## Acknowledgement\n",
    "\n",
    "Thanks to [ipyvizzu gallery](https://ipyvizzu.vizzuhq.com/) for providing the code used in this tutorial. I highly recommend visiting their website to explore more of their fantastic content."
   ]
  }
 ],
 "metadata": {
  "kernelspec": {
   "display_name": "Python 3 (ipykernel)",
   "language": "python",
   "name": "python3"
  },
  "language_info": {
   "codemirror_mode": {
    "name": "ipython",
    "version": 3
   },
   "file_extension": ".py",
   "mimetype": "text/x-python",
   "name": "python",
   "nbconvert_exporter": "python",
   "pygments_lexer": "ipython3",
   "version": "3.8.6"
  }
 },
 "nbformat": 4,
 "nbformat_minor": 4
}
