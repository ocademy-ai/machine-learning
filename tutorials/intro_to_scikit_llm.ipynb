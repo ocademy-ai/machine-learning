{
  "nbformat": 4,
  "nbformat_minor": 0,
  "metadata": {
    "colab": {
      "provenance": []
    },
    "kernelspec": {
      "name": "python3",
      "display_name": "Python 3"
    },
    "language_info": {
      "name": "python"
    }
  },
  "cells": [
    {
      "cell_type": "markdown",
      "source": [
        "# Scikit-LLM: Sklearn Meets Large Language Models\n",
        "\n",
        "[Scikit-LLM](https://github.com/iryna-kondr/scikit-llm) is a package that seamlessly integrates powerful language models like ChatGPT into scikit-learn for enhanced text analysis tasks.\n",
        "\n",
        "## Installation 💾\n",
        "\n",
        "```bash\n",
        "pip install scikit-llm\n",
        "```\n",
        "\n",
        "\n",
        "## Features ⚡\n",
        "- zero-shot text classification\n",
        "- few-shot text classification\n",
        "- text vectorization\n",
        "- text summary\n",
        "- language translation\n",
        "\n",
        "\n",
        "\n",
        "## How does it work? 🙋‍♀️\n",
        "\n",
        "**zero-shot**: Scikit-LLM will automatically query the OpenAI API and transform the response into a regular list of labels.\n",
        "\n",
        "**few-shot**: the training samples will be added to prompt and passed to the model.\n",
        "\n",
        "**dynamic few-shot**:\n",
        "- during fitting, the \"training\" data is partitioned by class,\n",
        "vectorized, and stored.\n",
        "- during inference, the classifier looks for the nearest neighbors\n",
        "which allows including only the most similar examples in the prompt.\n",
        "\n",
        "## Tutorial 📖\n",
        "In this tutorial we will briefly introduce  **Zero-Shot Text Classification**\n",
        "\n",
        "One of the powerful ChatGPT features is the ability to perform text classification without being re-trained. For that, the only requirement is that the labels must be descriptive.\n",
        "\n",
        "The `ZeroShotGPTClassifier` class allows to create such a model as a regular scikit-learn classifier."
      ],
      "metadata": {
        "id": "SPspqNYNtWQS"
      }
    },
    {
      "cell_type": "markdown",
      "source": [
        "### Configuring OpenAI API Key"
      ],
      "metadata": {
        "id": "eUzg4LQNvVdg"
      }
    },
    {
      "cell_type": "code",
      "source": [
        "from skllm import ZeroShotGPTClassifier\n",
        "from skllm.config import SKLLMConfig\n",
        "\n",
        "SKLLMConfig.set_openai_key(\"your openai key\")\n",
        "SKLLMConfig.set_openai_org(\"your openai org\")\n",
        "\n",
        "clf = ZeroShotGPTClassifier(openai_model=\"gpt-3.5-turbo\")"
      ],
      "metadata": {
        "id": "RF9Yq8GGp8Bw"
      },
      "execution_count": 4,
      "outputs": []
    },
    {
      "cell_type": "markdown",
      "source": [
        "### Zero-Shot Text Classification\n",
        "\n",
        "Scikit-LLM will automatically query the OpenAI API and transform the response into a regular list of labels.\n",
        "\n",
        "Additionally, Scikit-LLM will ensure that the obtained response contains a valid label. If this is not the case, a label will be selected randomly (label probabilities are proportional to label occurrences in the training set)."
      ],
      "metadata": {
        "id": "2uqWwmdCvcHI"
      }
    },
    {
      "cell_type": "code",
      "source": [
        "movie_reviews = [\n",
        "    \"This movie was absolutely wonderful. The storyline was compelling and the characters were very realistic.\",\n",
        "    \"I really loved the film! The plot had a few unexpected twists which kept me engaged till the end.\",\n",
        "    \"The movie was alright. Not great, but not bad either. A decent one-time watch.\",\n",
        "    \"I didn't enjoy the film that much. The plot was quite predictable and the characters lacked depth.\",\n",
        "    \"This movie was not to my taste. It felt too slow and the storyline wasn't engaging enough.\",\n",
        "    \"The film was okay. It was neither impressive nor disappointing. It was just fine.\",\n",
        "    \"I was blown away by the movie! The cinematography was excellent and the performances were top-notch.\",\n",
        "    \"I didn't like the movie at all. The story was uninteresting and the acting was mediocre at best.\",\n",
        "    \"The movie was decent. It had its moments but was not consistently engaging.\"\n",
        "]\n",
        "\n",
        "movie_review_labels = [\n",
        "    \"positive\",\n",
        "    \"positive\",\n",
        "    \"neutral\",\n",
        "    \"negative\",\n",
        "    \"negative\",\n",
        "    \"neutral\",\n",
        "    \"positive\",\n",
        "    \"negative\",\n",
        "    \"neutral\"\n",
        "]\n",
        "\n",
        "new_movie_reviews = [\n",
        "    # A positive review\n",
        "    \"The movie was fantastic! I was captivated by the storyline from beginning to end.\",\n",
        "\n",
        "    # A negative review\n",
        "    \"I found the film to be quite boring. The plot moved too slowly and the acting was subpar.\",\n",
        "\n",
        "    # A neutral review\n",
        "    \"The movie was okay. Not the best I've seen, but certainly not the worst.\"\n",
        "]"
      ],
      "metadata": {
        "id": "GG8iWGrWqhro"
      },
      "execution_count": 5,
      "outputs": []
    },
    {
      "cell_type": "code",
      "source": [
        "# Train the model\n",
        "clf.fit(X=movie_reviews, y=movie_review_labels)\n",
        "\n",
        "# Use the trained classifier to predict the sentiment of the new reviews\n",
        "predicted_movie_review_labels = clf.predict(X=new_movie_reviews)\n",
        "\n",
        "for review, sentiment in zip(new_movie_reviews, predicted_movie_review_labels):\n",
        "    print(f\"Review: {review}\\nPredicted Sentiment: {sentiment}\\n\\n\")"
      ],
      "metadata": {
        "colab": {
          "base_uri": "https://localhost:8080/"
        },
        "id": "WYu9ExkcqldI",
        "outputId": "a1b99c29-ea47-42ef-f77f-823c84b70ca1"
      },
      "execution_count": 6,
      "outputs": [
        {
          "output_type": "stream",
          "name": "stderr",
          "text": [
            "100%|██████████| 3/3 [00:04<00:00,  1.43s/it]"
          ]
        },
        {
          "output_type": "stream",
          "name": "stdout",
          "text": [
            "Review: The movie was fantastic! I was captivated by the storyline from beginning to end.\n",
            "Predicted Sentiment: positive\n",
            "\n",
            "\n",
            "Review: I found the film to be quite boring. The plot moved too slowly and the acting was subpar.\n",
            "Predicted Sentiment: negative\n",
            "\n",
            "\n",
            "Review: The movie was okay. Not the best I've seen, but certainly not the worst.\n",
            "Predicted Sentiment: neutral\n",
            "\n",
            "\n"
          ]
        },
        {
          "output_type": "stream",
          "name": "stderr",
          "text": [
            "\n"
          ]
        }
      ]
    }
  ]
}
