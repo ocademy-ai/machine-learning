{
 "cells": [
  {
   "cell_type": "markdown",
   "metadata": {},
   "source": [
    "Data Source: \n",
    "\n",
    "- https://www.kaggle.com/datasets/nikhilkohli/us-stock-market-data-60-extracted-features"
   ]
  },
  {
   "cell_type": "code",
   "execution_count": 1,
   "metadata": {
    "_cell_guid": "b1076dfc-b9ad-4769-8c92-a6c4dae69d19",
    "_uuid": "8f2839f25d086af736a60e9eeb907d3b93b6e0e5"
   },
   "outputs": [],
   "source": [
    "%matplotlib inline\n",
    "\n",
    "import pandas as pd\n",
    "import matplotlib.pyplot as plt\n",
    "import numpy as np\n",
    "from sklearn.model_selection import  train_test_split\n",
    "from sklearn import metrics"
   ]
  },
  {
   "cell_type": "code",
   "execution_count": 2,
   "metadata": {},
   "outputs": [
    {
     "data": {
      "text/html": [
       "<div>\n",
       "<style scoped>\n",
       "    .dataframe tbody tr th:only-of-type {\n",
       "        vertical-align: middle;\n",
       "    }\n",
       "\n",
       "    .dataframe tbody tr th {\n",
       "        vertical-align: top;\n",
       "    }\n",
       "\n",
       "    .dataframe thead th {\n",
       "        text-align: right;\n",
       "    }\n",
       "</style>\n",
       "<table border=\"1\" class=\"dataframe\">\n",
       "  <thead>\n",
       "    <tr style=\"text-align: right;\">\n",
       "      <th></th>\n",
       "      <th>Open</th>\n",
       "      <th>High</th>\n",
       "      <th>Low</th>\n",
       "      <th>Close</th>\n",
       "      <th>Volume</th>\n",
       "      <th>SD20</th>\n",
       "      <th>Upper_Band</th>\n",
       "      <th>Lower_Band</th>\n",
       "      <th>S_Close(t-1)</th>\n",
       "      <th>S_Close(t-2)</th>\n",
       "      <th>...</th>\n",
       "      <th>QQQ_MA10</th>\n",
       "      <th>QQQ_MA20</th>\n",
       "      <th>QQQ_MA50</th>\n",
       "      <th>SnP_Close</th>\n",
       "      <th>SnP(t-1))</th>\n",
       "      <th>SnP(t-5)</th>\n",
       "      <th>DJIA_Close</th>\n",
       "      <th>DJIA(t-1))</th>\n",
       "      <th>DJIA(t-5)</th>\n",
       "      <th>Close_forcast</th>\n",
       "    </tr>\n",
       "    <tr>\n",
       "      <th>Date</th>\n",
       "      <th></th>\n",
       "      <th></th>\n",
       "      <th></th>\n",
       "      <th></th>\n",
       "      <th></th>\n",
       "      <th></th>\n",
       "      <th></th>\n",
       "      <th></th>\n",
       "      <th></th>\n",
       "      <th></th>\n",
       "      <th></th>\n",
       "      <th></th>\n",
       "      <th></th>\n",
       "      <th></th>\n",
       "      <th></th>\n",
       "      <th></th>\n",
       "      <th></th>\n",
       "      <th></th>\n",
       "      <th></th>\n",
       "      <th></th>\n",
       "      <th></th>\n",
       "    </tr>\n",
       "  </thead>\n",
       "  <tbody>\n",
       "    <tr>\n",
       "      <th>2005-10-17</th>\n",
       "      <td>6.66</td>\n",
       "      <td>6.69</td>\n",
       "      <td>6.50</td>\n",
       "      <td>6.60</td>\n",
       "      <td>154208600</td>\n",
       "      <td>0.169237</td>\n",
       "      <td>6.827473</td>\n",
       "      <td>6.150527</td>\n",
       "      <td>6.67</td>\n",
       "      <td>6.63</td>\n",
       "      <td>...</td>\n",
       "      <td>33.692</td>\n",
       "      <td>33.9970</td>\n",
       "      <td>34.2690</td>\n",
       "      <td>1190.10</td>\n",
       "      <td>1186.57</td>\n",
       "      <td>1187.33</td>\n",
       "      <td>10348.10</td>\n",
       "      <td>10287.34</td>\n",
       "      <td>10238.76</td>\n",
       "      <td>6.45</td>\n",
       "    </tr>\n",
       "    <tr>\n",
       "      <th>2005-10-18</th>\n",
       "      <td>6.57</td>\n",
       "      <td>6.66</td>\n",
       "      <td>6.44</td>\n",
       "      <td>6.45</td>\n",
       "      <td>152397000</td>\n",
       "      <td>0.168339</td>\n",
       "      <td>6.819677</td>\n",
       "      <td>6.146323</td>\n",
       "      <td>6.60</td>\n",
       "      <td>6.67</td>\n",
       "      <td>...</td>\n",
       "      <td>33.570</td>\n",
       "      <td>33.9525</td>\n",
       "      <td>34.2466</td>\n",
       "      <td>1178.14</td>\n",
       "      <td>1190.10</td>\n",
       "      <td>1184.87</td>\n",
       "      <td>10285.26</td>\n",
       "      <td>10348.10</td>\n",
       "      <td>10253.17</td>\n",
       "      <td>6.78</td>\n",
       "    </tr>\n",
       "    <tr>\n",
       "      <th>2005-10-19</th>\n",
       "      <td>6.43</td>\n",
       "      <td>6.78</td>\n",
       "      <td>6.32</td>\n",
       "      <td>6.78</td>\n",
       "      <td>252170800</td>\n",
       "      <td>0.180306</td>\n",
       "      <td>6.861112</td>\n",
       "      <td>6.139888</td>\n",
       "      <td>6.45</td>\n",
       "      <td>6.60</td>\n",
       "      <td>...</td>\n",
       "      <td>33.562</td>\n",
       "      <td>33.9600</td>\n",
       "      <td>34.2330</td>\n",
       "      <td>1195.76</td>\n",
       "      <td>1178.14</td>\n",
       "      <td>1177.68</td>\n",
       "      <td>10414.13</td>\n",
       "      <td>10285.26</td>\n",
       "      <td>10216.91</td>\n",
       "      <td>6.93</td>\n",
       "    </tr>\n",
       "    <tr>\n",
       "      <th>2005-10-20</th>\n",
       "      <td>6.72</td>\n",
       "      <td>6.97</td>\n",
       "      <td>6.71</td>\n",
       "      <td>6.93</td>\n",
       "      <td>339440500</td>\n",
       "      <td>0.202674</td>\n",
       "      <td>6.931847</td>\n",
       "      <td>6.121153</td>\n",
       "      <td>6.78</td>\n",
       "      <td>6.45</td>\n",
       "      <td>...</td>\n",
       "      <td>33.567</td>\n",
       "      <td>33.9455</td>\n",
       "      <td>34.2190</td>\n",
       "      <td>1177.80</td>\n",
       "      <td>1195.76</td>\n",
       "      <td>1176.84</td>\n",
       "      <td>10281.10</td>\n",
       "      <td>10414.13</td>\n",
       "      <td>10216.59</td>\n",
       "      <td>6.87</td>\n",
       "    </tr>\n",
       "    <tr>\n",
       "      <th>2005-10-21</th>\n",
       "      <td>7.02</td>\n",
       "      <td>7.03</td>\n",
       "      <td>6.83</td>\n",
       "      <td>6.87</td>\n",
       "      <td>199181500</td>\n",
       "      <td>0.216680</td>\n",
       "      <td>6.974860</td>\n",
       "      <td>6.108140</td>\n",
       "      <td>6.93</td>\n",
       "      <td>6.78</td>\n",
       "      <td>...</td>\n",
       "      <td>33.586</td>\n",
       "      <td>33.9365</td>\n",
       "      <td>34.2034</td>\n",
       "      <td>1179.59</td>\n",
       "      <td>1177.80</td>\n",
       "      <td>1186.57</td>\n",
       "      <td>10215.22</td>\n",
       "      <td>10281.10</td>\n",
       "      <td>10287.34</td>\n",
       "      <td>7.01</td>\n",
       "    </tr>\n",
       "  </tbody>\n",
       "</table>\n",
       "<p>5 rows × 63 columns</p>\n",
       "</div>"
      ],
      "text/plain": [
       "            Open  High   Low  Close     Volume      SD20  Upper_Band  \\\n",
       "Date                                                                   \n",
       "2005-10-17  6.66  6.69  6.50   6.60  154208600  0.169237    6.827473   \n",
       "2005-10-18  6.57  6.66  6.44   6.45  152397000  0.168339    6.819677   \n",
       "2005-10-19  6.43  6.78  6.32   6.78  252170800  0.180306    6.861112   \n",
       "2005-10-20  6.72  6.97  6.71   6.93  339440500  0.202674    6.931847   \n",
       "2005-10-21  7.02  7.03  6.83   6.87  199181500  0.216680    6.974860   \n",
       "\n",
       "            Lower_Band  S_Close(t-1)  S_Close(t-2)  ...  QQQ_MA10  QQQ_MA20  \\\n",
       "Date                                                ...                       \n",
       "2005-10-17    6.150527          6.67          6.63  ...    33.692   33.9970   \n",
       "2005-10-18    6.146323          6.60          6.67  ...    33.570   33.9525   \n",
       "2005-10-19    6.139888          6.45          6.60  ...    33.562   33.9600   \n",
       "2005-10-20    6.121153          6.78          6.45  ...    33.567   33.9455   \n",
       "2005-10-21    6.108140          6.93          6.78  ...    33.586   33.9365   \n",
       "\n",
       "            QQQ_MA50  SnP_Close  SnP(t-1))  SnP(t-5)  DJIA_Close  DJIA(t-1))  \\\n",
       "Date                                                                           \n",
       "2005-10-17   34.2690    1190.10    1186.57   1187.33    10348.10    10287.34   \n",
       "2005-10-18   34.2466    1178.14    1190.10   1184.87    10285.26    10348.10   \n",
       "2005-10-19   34.2330    1195.76    1178.14   1177.68    10414.13    10285.26   \n",
       "2005-10-20   34.2190    1177.80    1195.76   1176.84    10281.10    10414.13   \n",
       "2005-10-21   34.2034    1179.59    1177.80   1186.57    10215.22    10281.10   \n",
       "\n",
       "            DJIA(t-5)  Close_forcast  \n",
       "Date                                  \n",
       "2005-10-17   10238.76           6.45  \n",
       "2005-10-18   10253.17           6.78  \n",
       "2005-10-19   10216.91           6.93  \n",
       "2005-10-20   10216.59           6.87  \n",
       "2005-10-21   10287.34           7.01  \n",
       "\n",
       "[5 rows x 63 columns]"
      ]
     },
     "execution_count": 2,
     "metadata": {},
     "output_type": "execute_result"
    }
   ],
   "source": [
    "df_stock = pd.read_csv('https://static-1300131294.cos.ap-shanghai.myqcloud.com/data/code-for-videos/data/us-stock/AAPL.csv',  index_col=0)\n",
    "df_stock = df_stock.rename(columns={'Close(t)':'Close'})\n",
    "df_stock.head()"
   ]
  },
  {
   "cell_type": "code",
   "execution_count": 3,
   "metadata": {},
   "outputs": [
    {
     "data": {
      "text/html": [
       "<div>\n",
       "<style scoped>\n",
       "    .dataframe tbody tr th:only-of-type {\n",
       "        vertical-align: middle;\n",
       "    }\n",
       "\n",
       "    .dataframe tbody tr th {\n",
       "        vertical-align: top;\n",
       "    }\n",
       "\n",
       "    .dataframe thead th {\n",
       "        text-align: right;\n",
       "    }\n",
       "</style>\n",
       "<table border=\"1\" class=\"dataframe\">\n",
       "  <thead>\n",
       "    <tr style=\"text-align: right;\">\n",
       "      <th></th>\n",
       "      <th>Open</th>\n",
       "      <th>High</th>\n",
       "      <th>Low</th>\n",
       "      <th>Close</th>\n",
       "      <th>Volume</th>\n",
       "      <th>SD20</th>\n",
       "      <th>Upper_Band</th>\n",
       "      <th>Lower_Band</th>\n",
       "      <th>S_Close(t-1)</th>\n",
       "      <th>S_Close(t-2)</th>\n",
       "      <th>...</th>\n",
       "      <th>QQQ_MA10</th>\n",
       "      <th>QQQ_MA20</th>\n",
       "      <th>QQQ_MA50</th>\n",
       "      <th>SnP_Close</th>\n",
       "      <th>SnP(t-1))</th>\n",
       "      <th>SnP(t-5)</th>\n",
       "      <th>DJIA_Close</th>\n",
       "      <th>DJIA(t-1))</th>\n",
       "      <th>DJIA(t-5)</th>\n",
       "      <th>Close_forcast</th>\n",
       "    </tr>\n",
       "    <tr>\n",
       "      <th>Date</th>\n",
       "      <th></th>\n",
       "      <th></th>\n",
       "      <th></th>\n",
       "      <th></th>\n",
       "      <th></th>\n",
       "      <th></th>\n",
       "      <th></th>\n",
       "      <th></th>\n",
       "      <th></th>\n",
       "      <th></th>\n",
       "      <th></th>\n",
       "      <th></th>\n",
       "      <th></th>\n",
       "      <th></th>\n",
       "      <th></th>\n",
       "      <th></th>\n",
       "      <th></th>\n",
       "      <th></th>\n",
       "      <th></th>\n",
       "      <th></th>\n",
       "      <th></th>\n",
       "    </tr>\n",
       "  </thead>\n",
       "  <tbody>\n",
       "    <tr>\n",
       "      <th>2020-08-07</th>\n",
       "      <td>452.82</td>\n",
       "      <td>454.70</td>\n",
       "      <td>441.17</td>\n",
       "      <td>444.45</td>\n",
       "      <td>49453300</td>\n",
       "      <td>27.954399</td>\n",
       "      <td>455.316298</td>\n",
       "      <td>343.498702</td>\n",
       "      <td>454.79</td>\n",
       "      <td>439.46</td>\n",
       "      <td>...</td>\n",
       "      <td>266.054</td>\n",
       "      <td>263.4085</td>\n",
       "      <td>252.2098</td>\n",
       "      <td>3351.28</td>\n",
       "      <td>3349.16</td>\n",
       "      <td>3271.12</td>\n",
       "      <td>27433.48</td>\n",
       "      <td>27386.98</td>\n",
       "      <td>26428.32</td>\n",
       "      <td>450.91</td>\n",
       "    </tr>\n",
       "    <tr>\n",
       "      <th>2020-08-10</th>\n",
       "      <td>450.40</td>\n",
       "      <td>455.10</td>\n",
       "      <td>440.00</td>\n",
       "      <td>450.91</td>\n",
       "      <td>53100900</td>\n",
       "      <td>29.847338</td>\n",
       "      <td>462.586675</td>\n",
       "      <td>343.197325</td>\n",
       "      <td>444.45</td>\n",
       "      <td>454.79</td>\n",
       "      <td>...</td>\n",
       "      <td>267.073</td>\n",
       "      <td>263.9970</td>\n",
       "      <td>252.9570</td>\n",
       "      <td>3360.47</td>\n",
       "      <td>3351.28</td>\n",
       "      <td>3294.61</td>\n",
       "      <td>27791.44</td>\n",
       "      <td>27433.48</td>\n",
       "      <td>26664.40</td>\n",
       "      <td>437.50</td>\n",
       "    </tr>\n",
       "    <tr>\n",
       "      <th>2020-08-11</th>\n",
       "      <td>447.88</td>\n",
       "      <td>449.93</td>\n",
       "      <td>436.43</td>\n",
       "      <td>437.50</td>\n",
       "      <td>46975600</td>\n",
       "      <td>30.576290</td>\n",
       "      <td>466.543079</td>\n",
       "      <td>344.237921</td>\n",
       "      <td>450.91</td>\n",
       "      <td>444.45</td>\n",
       "      <td>...</td>\n",
       "      <td>267.911</td>\n",
       "      <td>264.2380</td>\n",
       "      <td>253.5878</td>\n",
       "      <td>3333.69</td>\n",
       "      <td>3360.47</td>\n",
       "      <td>3306.51</td>\n",
       "      <td>27686.91</td>\n",
       "      <td>27791.44</td>\n",
       "      <td>26828.47</td>\n",
       "      <td>452.04</td>\n",
       "    </tr>\n",
       "    <tr>\n",
       "      <th>2020-08-12</th>\n",
       "      <td>441.99</td>\n",
       "      <td>453.10</td>\n",
       "      <td>441.19</td>\n",
       "      <td>452.04</td>\n",
       "      <td>41486200</td>\n",
       "      <td>32.050532</td>\n",
       "      <td>472.583564</td>\n",
       "      <td>344.381436</td>\n",
       "      <td>437.50</td>\n",
       "      <td>450.91</td>\n",
       "      <td>...</td>\n",
       "      <td>269.120</td>\n",
       "      <td>264.7860</td>\n",
       "      <td>254.3206</td>\n",
       "      <td>3380.35</td>\n",
       "      <td>3333.69</td>\n",
       "      <td>3327.77</td>\n",
       "      <td>27976.84</td>\n",
       "      <td>27686.91</td>\n",
       "      <td>27201.52</td>\n",
       "      <td>460.04</td>\n",
       "    </tr>\n",
       "    <tr>\n",
       "      <th>2020-08-13</th>\n",
       "      <td>457.72</td>\n",
       "      <td>464.17</td>\n",
       "      <td>455.71</td>\n",
       "      <td>460.04</td>\n",
       "      <td>52520500</td>\n",
       "      <td>33.532634</td>\n",
       "      <td>479.279768</td>\n",
       "      <td>345.149232</td>\n",
       "      <td>452.04</td>\n",
       "      <td>437.50</td>\n",
       "      <td>...</td>\n",
       "      <td>270.255</td>\n",
       "      <td>265.4540</td>\n",
       "      <td>255.0446</td>\n",
       "      <td>3373.43</td>\n",
       "      <td>3380.35</td>\n",
       "      <td>3349.16</td>\n",
       "      <td>27896.72</td>\n",
       "      <td>27976.84</td>\n",
       "      <td>27386.98</td>\n",
       "      <td>459.63</td>\n",
       "    </tr>\n",
       "  </tbody>\n",
       "</table>\n",
       "<p>5 rows × 63 columns</p>\n",
       "</div>"
      ],
      "text/plain": [
       "              Open    High     Low   Close    Volume       SD20  Upper_Band  \\\n",
       "Date                                                                          \n",
       "2020-08-07  452.82  454.70  441.17  444.45  49453300  27.954399  455.316298   \n",
       "2020-08-10  450.40  455.10  440.00  450.91  53100900  29.847338  462.586675   \n",
       "2020-08-11  447.88  449.93  436.43  437.50  46975600  30.576290  466.543079   \n",
       "2020-08-12  441.99  453.10  441.19  452.04  41486200  32.050532  472.583564   \n",
       "2020-08-13  457.72  464.17  455.71  460.04  52520500  33.532634  479.279768   \n",
       "\n",
       "            Lower_Band  S_Close(t-1)  S_Close(t-2)  ...  QQQ_MA10  QQQ_MA20  \\\n",
       "Date                                                ...                       \n",
       "2020-08-07  343.498702        454.79        439.46  ...   266.054  263.4085   \n",
       "2020-08-10  343.197325        444.45        454.79  ...   267.073  263.9970   \n",
       "2020-08-11  344.237921        450.91        444.45  ...   267.911  264.2380   \n",
       "2020-08-12  344.381436        437.50        450.91  ...   269.120  264.7860   \n",
       "2020-08-13  345.149232        452.04        437.50  ...   270.255  265.4540   \n",
       "\n",
       "            QQQ_MA50  SnP_Close  SnP(t-1))  SnP(t-5)  DJIA_Close  DJIA(t-1))  \\\n",
       "Date                                                                           \n",
       "2020-08-07  252.2098    3351.28    3349.16   3271.12    27433.48    27386.98   \n",
       "2020-08-10  252.9570    3360.47    3351.28   3294.61    27791.44    27433.48   \n",
       "2020-08-11  253.5878    3333.69    3360.47   3306.51    27686.91    27791.44   \n",
       "2020-08-12  254.3206    3380.35    3333.69   3327.77    27976.84    27686.91   \n",
       "2020-08-13  255.0446    3373.43    3380.35   3349.16    27896.72    27976.84   \n",
       "\n",
       "            DJIA(t-5)  Close_forcast  \n",
       "Date                                  \n",
       "2020-08-07   26428.32         450.91  \n",
       "2020-08-10   26664.40         437.50  \n",
       "2020-08-11   26828.47         452.04  \n",
       "2020-08-12   27201.52         460.04  \n",
       "2020-08-13   27386.98         459.63  \n",
       "\n",
       "[5 rows x 63 columns]"
      ]
     },
     "execution_count": 3,
     "metadata": {},
     "output_type": "execute_result"
    }
   ],
   "source": [
    "df_stock.tail(5)"
   ]
  },
  {
   "cell_type": "code",
   "execution_count": 4,
   "metadata": {},
   "outputs": [
    {
     "data": {
      "text/plain": [
       "(3732, 63)"
      ]
     },
     "execution_count": 4,
     "metadata": {},
     "output_type": "execute_result"
    }
   ],
   "source": [
    "df_stock.shape"
   ]
  },
  {
   "cell_type": "code",
   "execution_count": 5,
   "metadata": {},
   "outputs": [
    {
     "data": {
      "text/plain": [
       "Index(['Open', 'High', 'Low', 'Close', 'Volume', 'SD20', 'Upper_Band',\n",
       "       'Lower_Band', 'S_Close(t-1)', 'S_Close(t-2)', 'S_Close(t-3)',\n",
       "       'S_Close(t-5)', 'S_Open(t-1)', 'MA5', 'MA10', 'MA20', 'MA50', 'MA200',\n",
       "       'EMA10', 'EMA20', 'EMA50', 'EMA100', 'EMA200', 'MACD', 'MACD_EMA',\n",
       "       'ATR', 'ADX', 'CCI', 'ROC', 'RSI', 'William%R', 'SO%K', 'STD5',\n",
       "       'ForceIndex1', 'ForceIndex20', 'Date_col', 'Day', 'DayofWeek',\n",
       "       'DayofYear', 'Week', 'Is_month_end', 'Is_month_start', 'Is_quarter_end',\n",
       "       'Is_quarter_start', 'Is_year_end', 'Is_year_start', 'Is_leap_year',\n",
       "       'Year', 'Month', 'QQQ_Close', 'QQQ(t-1)', 'QQQ(t-2)', 'QQQ(t-5)',\n",
       "       'QQQ_MA10', 'QQQ_MA20', 'QQQ_MA50', 'SnP_Close', 'SnP(t-1))',\n",
       "       'SnP(t-5)', 'DJIA_Close', 'DJIA(t-1))', 'DJIA(t-5)', 'Close_forcast'],\n",
       "      dtype='object')"
      ]
     },
     "execution_count": 5,
     "metadata": {},
     "output_type": "execute_result"
    }
   ],
   "source": [
    "df_stock.columns"
   ]
  },
  {
   "cell_type": "markdown",
   "metadata": {},
   "source": [
    "### Plot Time Series chart for AAPL"
   ]
  },
  {
   "cell_type": "code",
   "execution_count": 6,
   "metadata": {},
   "outputs": [
    {
     "data": {
      "image/png": "[encoded data removed]",
      "text/plain": [
       "<Figure size 1000x600 with 1 Axes>"
      ]
     },
     "metadata": {},
     "output_type": "display_data"
    }
   ],
   "source": [
    "df_stock['Close'].plot(figsize=(10, 6))\n",
    "plt.title(\"Stock Price\", fontsize=13)\n",
    "plt.ylabel('Price', fontsize=12)\n",
    "plt.xlabel('Time', fontsize=12)\n",
    "plt.grid(which=\"major\", color='k', linestyle='-.', linewidth=0.5)\n",
    "plt.show()"
   ]
  },
  {
   "cell_type": "markdown",
   "metadata": {},
   "source": [
    "Remove some of the columns which are not required"
   ]
  },
  {
   "cell_type": "code",
   "execution_count": 7,
   "metadata": {},
   "outputs": [],
   "source": [
    "df_stock = df_stock.drop(columns='Date_col')"
   ]
  },
  {
   "cell_type": "markdown",
   "metadata": {},
   "source": [
    "### Test Train Set"
   ]
  },
  {
   "cell_type": "markdown",
   "metadata": {},
   "source": [
    "Close_forecast is the column that we are trying to predict here which is the price for the next day. "
   ]
  },
  {
   "cell_type": "code",
   "execution_count": 8,
   "metadata": {},
   "outputs": [
    {
     "name": "stdout",
     "output_type": "stream",
     "text": [
      "(2799, 61) (933, 61)\n",
      "(2799,) (933,)\n"
     ]
    }
   ],
   "source": [
    "from sklearn.preprocessing import StandardScaler\n",
    "\n",
    "X = df_stock.drop(columns=['Close_forcast'], axis=1)\n",
    "y = df_stock['Close_forcast']\n",
    "\n",
    "scaler_X = StandardScaler()\n",
    "X = scaler_X.fit_transform(X)\n",
    "\n",
    "X_train, X_test, y_train, y_test = train_test_split(\n",
    "    X, y, test_size=0.25, random_state=42)\n",
    "\n",
    "print(X_train.shape, X_test.shape)\n",
    "print(y_train.shape, y_test.shape)"
   ]
  },
  {
   "cell_type": "code",
   "execution_count": 9,
   "metadata": {},
   "outputs": [
    {
     "data": {
      "text/plain": [
       "Date\n",
       "2017-03-10    132.63\n",
       "2015-09-21    104.79\n",
       "2012-06-14     70.88\n",
       "2012-05-09     70.43\n",
       "2007-05-03     12.44\n",
       "               ...  \n",
       "2008-03-25     17.91\n",
       "2018-12-20    147.48\n",
       "2014-08-22     92.26\n",
       "2020-05-06    302.37\n",
       "2015-03-13    114.47\n",
       "Name: Close_forcast, Length: 933, dtype: float64"
      ]
     },
     "execution_count": 9,
     "metadata": {},
     "output_type": "execute_result"
    }
   ],
   "source": [
    "y_test"
   ]
  },
  {
   "cell_type": "code",
   "execution_count": 10,
   "metadata": {},
   "outputs": [
    {
     "data": {
      "text/html": [
       "<style>#sk-container-id-1 {color: black;background-color: white;}#sk-container-id-1 pre{padding: 0;}#sk-container-id-1 div.sk-toggleable {background-color: white;}#sk-container-id-1 label.sk-toggleable__label {cursor: pointer;display: block;width: 100%;margin-bottom: 0;padding: 0.3em;box-sizing: border-box;text-align: center;}#sk-container-id-1 label.sk-toggleable__label-arrow:before {content: \"▸\";float: left;margin-right: 0.25em;color: #696969;}#sk-container-id-1 label.sk-toggleable__label-arrow:hover:before {color: black;}#sk-container-id-1 div.sk-estimator:hover label.sk-toggleable__label-arrow:before {color: black;}#sk-container-id-1 div.sk-toggleable__content {max-height: 0;max-width: 0;overflow: hidden;text-align: left;background-color: #f0f8ff;}#sk-container-id-1 div.sk-toggleable__content pre {margin: 0.2em;color: black;border-radius: 0.25em;background-color: #f0f8ff;}#sk-container-id-1 input.sk-toggleable__control:checked~div.sk-toggleable__content {max-height: 200px;max-width: 100%;overflow: auto;}#sk-container-id-1 input.sk-toggleable__control:checked~label.sk-toggleable__label-arrow:before {content: \"▾\";}#sk-container-id-1 div.sk-estimator input.sk-toggleable__control:checked~label.sk-toggleable__label {background-color: #d4ebff;}#sk-container-id-1 div.sk-label input.sk-toggleable__control:checked~label.sk-toggleable__label {background-color: #d4ebff;}#sk-container-id-1 input.sk-hidden--visually {border: 0;clip: rect(1px 1px 1px 1px);clip: rect(1px, 1px, 1px, 1px);height: 1px;margin: -1px;overflow: hidden;padding: 0;position: absolute;width: 1px;}#sk-container-id-1 div.sk-estimator {font-family: monospace;background-color: #f0f8ff;border: 1px dotted black;border-radius: 0.25em;box-sizing: border-box;margin-bottom: 0.5em;}#sk-container-id-1 div.sk-estimator:hover {background-color: #d4ebff;}#sk-container-id-1 div.sk-parallel-item::after {content: \"\";width: 100%;border-bottom: 1px solid gray;flex-grow: 1;}#sk-container-id-1 div.sk-label:hover label.sk-toggleable__label {background-color: #d4ebff;}#sk-container-id-1 div.sk-serial::before {content: \"\";position: absolute;border-left: 1px solid gray;box-sizing: border-box;top: 0;bottom: 0;left: 50%;z-index: 0;}#sk-container-id-1 div.sk-serial {display: flex;flex-direction: column;align-items: center;background-color: white;padding-right: 0.2em;padding-left: 0.2em;position: relative;}#sk-container-id-1 div.sk-item {position: relative;z-index: 1;}#sk-container-id-1 div.sk-parallel {display: flex;align-items: stretch;justify-content: center;background-color: white;position: relative;}#sk-container-id-1 div.sk-item::before, #sk-container-id-1 div.sk-parallel-item::before {content: \"\";position: absolute;border-left: 1px solid gray;box-sizing: border-box;top: 0;bottom: 0;left: 50%;z-index: -1;}#sk-container-id-1 div.sk-parallel-item {display: flex;flex-direction: column;z-index: 1;position: relative;background-color: white;}#sk-container-id-1 div.sk-parallel-item:first-child::after {align-self: flex-end;width: 50%;}#sk-container-id-1 div.sk-parallel-item:last-child::after {align-self: flex-start;width: 50%;}#sk-container-id-1 div.sk-parallel-item:only-child::after {width: 0;}#sk-container-id-1 div.sk-dashed-wrapped {border: 1px dashed gray;margin: 0 0.4em 0.5em 0.4em;box-sizing: border-box;padding-bottom: 0.4em;background-color: white;}#sk-container-id-1 div.sk-label label {font-family: monospace;font-weight: bold;display: inline-block;line-height: 1.2em;}#sk-container-id-1 div.sk-label-container {text-align: center;}#sk-container-id-1 div.sk-container {/* jupyter's `normalize.less` sets `[hidden] { display: none; }` but bootstrap.min.css set `[hidden] { display: none !important; }` so we also need the `!important` here to be able to override the default hidden behavior on the sphinx rendered scikit-learn.org. See: https://github.com/scikit-learn/scikit-learn/issues/21755 */display: inline-block !important;position: relative;}#sk-container-id-1 div.sk-text-repr-fallback {display: none;}</style><div id=\"sk-container-id-1\" class=\"sk-top-container\"><div class=\"sk-text-repr-fallback\"><pre>LinearRegression()</pre><b>In a Jupyter environment, please rerun this cell to show the HTML representation or trust the notebook. <br />On GitHub, the HTML representation is unable to render, please try loading this page with nbviewer.org.</b></div><div class=\"sk-container\" hidden><div class=\"sk-item\"><div class=\"sk-estimator sk-toggleable\"><input class=\"sk-toggleable__control sk-hidden--visually\" id=\"sk-estimator-id-1\" type=\"checkbox\" checked><label for=\"sk-estimator-id-1\" class=\"sk-toggleable__label sk-toggleable__label-arrow\">LinearRegression</label><div class=\"sk-toggleable__content\"><pre>LinearRegression()</pre></div></div></div></div></div>"
      ],
      "text/plain": [
       "LinearRegression()"
      ]
     },
     "execution_count": 10,
     "metadata": {},
     "output_type": "execute_result"
    }
   ],
   "source": [
    "from sklearn.linear_model import LinearRegression\n",
    "\n",
    "lr = LinearRegression()\n",
    "lr.fit(X_train, y_train)"
   ]
  },
  {
   "cell_type": "code",
   "execution_count": 11,
   "metadata": {
    "_cell_guid": "79c7e3d0-c299-4dcb-8224-4455121ee9b0",
    "_uuid": "d629ff2d2480ee46fbb7e2d37f6b5fab8052498a"
   },
   "outputs": [
    {
     "name": "stdout",
     "output_type": "stream",
     "text": [
      "LR Coefficients: \n",
      " [ 9.98417573e-01  1.37597502e+01  6.41901127e+00 -2.27042212e+01\n",
      "  8.79956181e-02  4.27854245e+05 -1.75563710e+06  3.23319089e+06\n",
      " -6.43912544e+01 -4.24577097e+01 -1.61687867e+01 -2.84642508e+01\n",
      "  7.05591071e+00 -4.46566541e+01 -2.01373832e+01 -1.81920161e+06\n",
      "  3.90296857e-02  1.93563253e+00  5.28449172e+05  5.29874558e+05\n",
      "  2.85276363e+06 -1.36799007e+06 -2.54281454e+06  3.54990950e+00\n",
      " -2.34032737e+00 -2.63939443e-01  8.64434900e-02  1.92025462e+11\n",
      " -4.35477122e-02 -5.32013799e-02  7.35064966e+06 -7.35064952e+06\n",
      " -1.47211688e-01 -3.73182297e-01  4.92839813e-02 -4.25713062e-01\n",
      " -6.04095459e-02  5.01789856e+00 -1.54632568e-01  7.09190369e-02\n",
      " -2.47430801e-02 -9.60273743e-02  3.79714966e-02  7.89618492e-02\n",
      " -4.87090582e+05 -9.09614563e-02 -4.84237671e-01 -4.88282776e+00\n",
      " -3.67049217e+00  7.59627819e+00 -3.75049782e+00  1.10392761e+00\n",
      " -5.00070572e+00 -1.32564545e-01  4.94374084e+00  1.35933075e+01\n",
      " -1.66610909e+01  4.03753662e+00 -1.49610443e+01  1.69116211e+01\n",
      " -4.10735321e+00]\n",
      "LR Intercept: \n",
      " 87.30387100065475\n"
     ]
    }
   ],
   "source": [
    "print('LR Coefficients: \\n', lr.coef_)\n",
    "print('LR Intercept: \\n', lr.intercept_)"
   ]
  },
  {
   "cell_type": "markdown",
   "metadata": {},
   "source": [
    "### Predict for the test dataset"
   ]
  },
  {
   "cell_type": "code",
   "execution_count": 12,
   "metadata": {},
   "outputs": [],
   "source": [
    "y_train_pred = lr.predict(X_train)"
   ]
  },
  {
   "cell_type": "code",
   "execution_count": 13,
   "metadata": {},
   "outputs": [
    {
     "data": {
      "text/plain": [
       "array([132.71284657, 107.09377979,  70.32560073,  69.42541728,\n",
       "        12.2630674 ,  10.24009523,   7.04209703,  61.70864668,\n",
       "        61.77906461,  16.86898975,  91.92753183, 182.31089848,\n",
       "         8.3084246 , 108.52289126,  25.17900125, 117.05339606,\n",
       "        95.95799511,  12.41179981, 110.22514201,  15.20539901,\n",
       "        61.06192809, 184.10815986, 214.32341555,  10.43280169,\n",
       "       316.17664822, 191.14201481, 182.9985697 ,   6.85341953,\n",
       "        11.23847522,  38.04018299,   8.14859007,  49.23313175,\n",
       "       146.56138354, 318.12084972,  65.44458561,  48.08116732,\n",
       "        53.86342754, 201.11919611,  15.79788933, 118.38471086,\n",
       "        14.93862782,  57.18721915, 151.58753184, 185.25317156,\n",
       "        67.0121438 , 166.92404405,  17.04468575,  16.89711115,\n",
       "        12.02607107, 106.331601  ,  91.20904734,  73.60084903,\n",
       "        11.56820069,  26.05154697,  83.36434649,   8.84287963,\n",
       "       113.33273879,  90.76886547,  19.62324444,  47.27308591,\n",
       "       439.71155351, 181.92018367, 112.86692163, 106.37407714,\n",
       "       458.19474054,   8.80968688, 244.87547336, 159.91831478,\n",
       "         7.81173854,  11.55103771,  42.95345316,  93.67167912,\n",
       "       321.09503347,  90.11060909,  25.29867621,  69.50625261,\n",
       "        63.66030092,  22.74423364, 186.77518488, 106.13895253,\n",
       "        75.21131823,  26.30962168,  91.52959136,  13.29054764,\n",
       "        69.51507557, 167.5196157 ,  41.94146125,  32.62855763,\n",
       "       155.5964408 ,   7.89554988,  11.60813736,  19.9169345 ,\n",
       "       255.9285641 , 149.28664027, 227.21219298,  25.81864056,\n",
       "         8.5052299 ,  32.81500633,  66.67076623, 135.07334816,\n",
       "        82.49596042,  27.47080861,  56.43890401, 111.47543043,\n",
       "       103.84430817,  15.93197416, 118.44612495,  39.92191126,\n",
       "        25.59838164,  14.72892231,  91.85398459, 117.82972194,\n",
       "        67.66735456,   7.58186652, 165.36623847,  20.08360009,\n",
       "        65.02376401, 170.03510574,  14.375789  ,  10.42089645,\n",
       "         9.03999204, 147.62919776,  83.64753758, 320.40343389,\n",
       "        46.59185485,  28.25274512,  43.73275269,  11.26925314,\n",
       "       167.48682957,   9.62225854,  11.72904911,  31.79464151,\n",
       "       167.49348334,  15.7905643 , 218.46530931,  24.68561033,\n",
       "         7.95925637, 102.8944555 ,  18.72484438,   9.00721624,\n",
       "        89.59229089,   8.4821421 ,  42.83282638,   8.75517924,\n",
       "        55.86181815, 204.99366314, 186.76393705,  29.8337071 ,\n",
       "       200.14428407,   9.37759128,  87.88731623,  62.79379715,\n",
       "        37.81592429, 104.02116262, 168.35448106,  30.64306826,\n",
       "       139.94047033, 117.06709972,  15.28428995, 200.16886618,\n",
       "       238.98503714, 102.75009552,  11.03861119,  17.98910262,\n",
       "        10.41693485,  82.43365008,  59.63500916, 109.55838683,\n",
       "         9.59314736,  11.23713964,  77.44370914, 133.34792484,\n",
       "        52.07262558,   9.28835445, 157.40918189, 319.07097718,\n",
       "        13.10523414,  37.89109419,  10.77706103,  95.62035298,\n",
       "        27.94085985, 115.06598032, 296.93158392,  77.84117323,\n",
       "        52.20402619,  18.49240796, 163.45314479,  30.52109536,\n",
       "        71.73284528, 102.74875507,  66.58887613, 162.46437611,\n",
       "         9.73611025,  41.55077743,  91.57307137,   9.1359249 ,\n",
       "        51.50236408,  48.71562845,  12.6113819 ,  10.5414251 ,\n",
       "        93.95788998,  69.6768468 ,  15.14048559, 121.18866007,\n",
       "       138.68222624,  99.22933835,  16.61446465,  38.37884042,\n",
       "       144.83276595, 202.38670044,  30.65061024,  21.00919925,\n",
       "        48.15767983, 192.79697008, 146.42129228,  24.16990052,\n",
       "       108.5546028 , 139.93496003,  90.76460005,   7.44565684,\n",
       "        47.35717869, 119.93837622,  22.99922077, 261.32041805,\n",
       "        41.84056643, 225.05907852,  23.23577835,   6.64683333,\n",
       "        89.48426126,   7.62022371,  33.03908261, 107.54441043,\n",
       "        72.74581577,  23.34420339,  22.63070756, 119.63550122,\n",
       "        38.48996797, 260.11933619,  15.62032473, 186.25767898,\n",
       "        22.89586529, 114.33667582,  72.17815509, 318.3849171 ,\n",
       "       110.14453902,  23.83005963,  92.45402597,  16.59197142,\n",
       "       109.16272635,   8.87814621, 217.64047013,  46.58027666,\n",
       "        76.19322987,  67.69980437, 208.24382022, 180.23951243,\n",
       "       186.11012619, 185.71330237,  69.95976888,  20.23432041,\n",
       "       162.67560532,  15.1352814 ,  87.34836215,  47.86045743,\n",
       "        49.44629137,  16.74117479, 104.68428081, 137.93916955,\n",
       "        10.17894325,  27.90391168, 156.10336758,  21.5903326 ,\n",
       "        49.58026615,  77.33159172,  15.25347677, 114.46659011,\n",
       "        22.39886115, 220.95655667,   7.20956949,  69.23305365,\n",
       "        24.44825924,  27.84217245,  47.43998169,   9.32282773,\n",
       "        45.84062043,  93.38006383,   9.95080212, 258.25691661,\n",
       "       151.57636781,  11.71004742, 115.49198738,  42.81057282,\n",
       "       287.64907773,   8.45299162, 203.05640236,  15.17606369,\n",
       "        15.82087453,  10.69127437,  67.93373675,  10.69739287,\n",
       "        49.08970163, 113.29566008, 116.84450298, 155.47841151,\n",
       "         9.19743635,  10.85794433, 103.40096113, 117.6543015 ,\n",
       "        55.52407443,  64.39771274,  11.24933414,  35.68735688,\n",
       "        98.09933086,  10.07373118,  13.28119742,  57.07422208,\n",
       "        84.32344996,  73.66775026,  48.85378903, 106.28788845,\n",
       "        31.73696715,  11.70517783, 117.82786796, 170.47315226,\n",
       "        56.19450944,  25.19935898, 137.09695414,  20.27752723,\n",
       "        88.65131715,  10.05195801,   9.22094699,  36.96582339,\n",
       "       139.14814188,  56.60584689, 321.00130198,  44.26618125,\n",
       "       208.91818334,  43.66467604,  63.71908904,  82.21867211,\n",
       "        75.95456293, 207.44790504, 217.88674228,  13.47644723,\n",
       "       226.1843272 ,   8.56161883,  11.68507933,  25.25410037,\n",
       "        10.47478876,  82.31861784, 222.78994291,  16.81156095,\n",
       "        43.81765842, 102.64690486,  82.47041158,  39.64849981,\n",
       "        40.84968141, 104.3025879 , 167.13632109,  16.03156649,\n",
       "         8.82532418,  17.01613941,   8.43651827,  48.70795091,\n",
       "        20.52697582,  15.38194593,  10.73788223,  26.06851354,\n",
       "       113.08631162,  74.9173031 ,  41.58077547,   7.59450131,\n",
       "       157.30681585,  57.66010453,  11.5916966 ,   7.63325766,\n",
       "        48.30365207, 106.09727317, 109.26404668,  55.24842897,\n",
       "       146.57960871,  10.86154519,   7.48878296, 213.77611105,\n",
       "       137.90127468,  42.56741667,  68.06219049,  66.99069845,\n",
       "       111.35665281,  21.59259472,  55.3201905 ,  64.38085565,\n",
       "        16.51893175,  30.60552363,  68.52493962,  97.14789554,\n",
       "        55.76921493,   7.90031499,  44.16523077, 167.92573066,\n",
       "        20.47593349,  19.83317564,   8.99125421,  98.82129194,\n",
       "        65.31263307,  12.05464255, 179.47729883,  66.72983503,\n",
       "       111.37147065,  16.37634461,  90.49014329, 107.65767684,\n",
       "       162.4884576 , 160.33162135,  14.71927736,  54.81019282,\n",
       "       370.37174456,  42.8861678 ,  89.57863076,  12.12057469,\n",
       "       202.39041626,  19.22873787,  65.3754572 ,  71.00470476,\n",
       "       105.13336639, 132.30045259,  43.79304175, 182.57169963,\n",
       "         8.11275459,  15.13920185,  10.43454944, 169.46645452,\n",
       "       319.48353996,  11.59779542,  67.46114098,  91.29899201,\n",
       "        44.44042959,  89.86817902,  68.32912368,  22.86868557,\n",
       "        70.47103464,  12.07536165,  28.49441743, 112.80439712,\n",
       "        22.39434409,  95.69895932,  49.31586078,  26.17903032,\n",
       "       198.32082026,  69.53577124, 378.90091217,  11.12398515,\n",
       "       146.75887118,  89.92400504,  32.31960379,  67.84685562,\n",
       "        68.42987327,   9.94733437,  31.72332711, 108.36417708,\n",
       "       153.06367738,  12.12714235,  30.470657  ,  21.58271818,\n",
       "        52.60939349, 459.15839809, 101.47231914, 202.28796749,\n",
       "        15.27937078,   9.45629396,  99.82755695, 263.93579156,\n",
       "        63.67870375,  85.95027709, 164.28688595,  54.92747022,\n",
       "        54.18222946,  23.52720965,  31.02868842,  91.53539557,\n",
       "         7.4026184 , 219.52441364,   8.41591176, 332.15442725,\n",
       "         7.77753987, 110.85745373,  22.14412138,  96.73874983,\n",
       "         8.16231572,  70.46654877,  57.57034012,  99.1507715 ,\n",
       "        96.07122978,   8.37355457,  45.6973419 , 162.66053423,\n",
       "       215.88886727,   9.45978768,  88.6935865 ,  15.65585591,\n",
       "        41.82227564,  40.58554239,  98.70751954, 150.30986283,\n",
       "       104.12318096,  78.38802739, 109.78312135,  24.11842742,\n",
       "       118.35496893, 156.58141841,   9.2081456 ,   9.1776855 ,\n",
       "        25.09327089,  10.30271279,  75.29305208, 210.36336377,\n",
       "       112.739621  ,  23.70227023,  67.92066267, 102.07219584,\n",
       "        90.39530361, 378.21302768,  70.94070369, 233.47496025,\n",
       "        58.30579609, 291.49299659,  23.80676997,  27.88928391,\n",
       "       100.93491154,  45.34918541, 207.60929045,  46.17657678,\n",
       "        19.69665099,  91.00558601,  51.88113361,  25.21341216,\n",
       "        24.18314557, 266.43837749,  30.68493825,  13.36070235,\n",
       "        89.64657954,  11.37072082, 103.30299341, 204.32742958,\n",
       "       118.32512597,  10.96234443,  21.01376284, 148.6303847 ,\n",
       "        13.87709214,  42.32526056,  88.49091883,  91.31799046,\n",
       "        56.20521285,  47.05707752, 238.56031702,   7.06208425,\n",
       "        21.30070007, 392.00196746,  21.78979819,  69.43546793,\n",
       "       113.43407483,  11.35830957,  66.6005762 ,  11.67203523,\n",
       "         7.68299351, 130.63395517,  10.30718214,  97.50838082,\n",
       "        15.76949324,  69.03354471,  67.59052436,  13.36510545,\n",
       "       169.44397165,  16.32665819,  40.32113103,  68.27136022,\n",
       "        48.52628859, 213.71246449, 130.2141018 , 203.95901383,\n",
       "        91.53496855,  10.2216613 ,  15.67634734,  21.39676738,\n",
       "        40.4127377 ,  86.40602079,  99.3445993 , 148.00124689,\n",
       "       139.36328969,  10.76366714, 102.08494793,  59.72639726,\n",
       "         9.37520835, 110.1527045 ,  69.68215885, 101.98697069,\n",
       "       167.3013957 ,   8.3097608 ,  83.44650492,  83.99222276,\n",
       "         9.39409809,  78.52548228,  86.65465611,  25.21898955,\n",
       "        84.96883336,  83.53385073,  16.5170128 , 185.47029279,\n",
       "       169.71805504, 322.75509094,  69.77651829,  42.2276794 ,\n",
       "        96.03838101,  93.67277744,  69.93506883,  11.90491568,\n",
       "        10.4595014 ,  14.51142038,  81.86292561,  41.29014219,\n",
       "       242.70602395,  15.07319743,  14.95715583, 105.28781642,\n",
       "        51.63465879,  21.07310599, 139.40648389,  98.30229215,\n",
       "        61.30518861, 146.43574836, 313.20365063,  23.36097009,\n",
       "        22.95301771,  11.99501097,  15.01732385,  17.53645634,\n",
       "        51.67057795,   8.45437312,  85.75022087, 157.18750667,\n",
       "        11.67188434, 266.01048121,  74.34681968, 171.33476949,\n",
       "       167.02773601,  43.45294405,  99.77993828,  16.39302975,\n",
       "        47.13186413,  92.04735745,  65.97520005,  42.57440588,\n",
       "        43.33916875,  32.86050762, 309.63445421,  16.03939662,\n",
       "        67.25872461, 115.97031145,   6.78147749,  20.5706507 ,\n",
       "        46.53938012, 317.37610171,  53.6035631 , 113.48908401,\n",
       "       219.57589027,   9.05385176, 221.53861822, 139.99503551,\n",
       "        91.10318711,  33.7592098 ,  22.43215266,  82.50524622,\n",
       "       268.67230001, 114.21578692,   7.15452017,  11.28354313,\n",
       "       337.63758008, 145.15605205,  32.52500226, 119.79169426,\n",
       "       219.08747297,  43.68485434,  82.00336505,  14.2804151 ,\n",
       "        87.15196461,   8.53972117,  91.34891101,  10.46851622,\n",
       "        20.1154585 , 105.4865488 , 175.92072615, 120.01241274,\n",
       "        38.04338654, 105.63231116,  15.53365552,  47.83685176,\n",
       "        10.76954816, 210.72174811, 264.60601017, 102.33152777,\n",
       "        16.05040629,  35.69002424,  11.41760916, 242.23431386,\n",
       "       163.75630144,  87.37662944,  19.19873927,  66.35425642,\n",
       "        22.44875029,  42.45748451, 174.76770484, 176.45097798,\n",
       "       197.35534598,  48.17479601,  92.55197887, 170.32611353,\n",
       "         9.24342635,  11.24499685,  21.09314206,  65.2152651 ,\n",
       "        66.14947396, 104.26577612, 190.00143696,  91.41369139,\n",
       "        87.27879237,  23.53101427, 234.41960727,  63.06045371,\n",
       "        90.0046554 , 104.44602515, 218.1877911 ,  23.46634228,\n",
       "       102.09188382,  25.92667457, 319.33917591,  31.40339538,\n",
       "       103.0803129 ,  17.30086963,  96.38583937, 128.68590683,\n",
       "        68.4320506 ,  17.23768518, 130.50759738, 195.43475507,\n",
       "       219.08461738,  10.03395663,  65.94616967, 121.79883029,\n",
       "       184.72100685,  57.5118218 ,  91.8075705 , 109.03125238,\n",
       "         8.67936499, 185.85694973,  65.94068059,  20.94558281,\n",
       "       104.12161672,  58.63342562,  15.33203144, 118.58850999,\n",
       "        60.5851398 ,  10.54436365,  31.4850852 ,  21.74175321,\n",
       "         7.41970774, 116.17435412, 385.63168779,  66.15110359,\n",
       "        56.82541514, 144.65672649,  52.20620746,  74.27586787,\n",
       "       321.56814342,  91.55121334,  24.64572232,  24.73337267,\n",
       "        54.00103309,  24.1900005 ,  30.70180442,   8.32911848,\n",
       "         8.98757773, 288.0351761 ,  54.99682038,  91.47451863,\n",
       "        64.40166066,   8.40468079, 162.55587007,  20.05585165,\n",
       "        41.46667595,  10.06180879, 158.80326956, 119.31228966,\n",
       "       160.65099564,  32.14411818,  54.675988  ,  69.68321759,\n",
       "        91.28456042,  24.86007699,  94.21080977,   9.80390866,\n",
       "        55.10796839, 101.75288289, 167.89017998,  31.94632883,\n",
       "       188.69218979,   9.02206082,  44.29349594,  86.29447045,\n",
       "        24.0630964 ,  16.74605439,  95.17557486,  16.49807378,\n",
       "       198.6735674 ,  10.3299117 ,  64.94192683,  70.4835444 ,\n",
       "        20.50387527,  48.82577649, 115.60879275, 164.58030983,\n",
       "       104.48666775, 102.62820832,   9.71537584,  25.30579361,\n",
       "        57.41913515, 116.87610244,  39.8803433 ,  16.34790311,\n",
       "        54.92476417,  22.34221302, 110.54986418, 117.77240333,\n",
       "        20.80497789,   7.22449765,  53.23706413,  15.05698882,\n",
       "        21.12879348,  66.91215095,  71.97824323, 117.79878351,\n",
       "        86.51438597,  62.9905897 , 147.83396015,  75.94157918,\n",
       "        10.97475953,  89.81824935, 106.09601765,  77.33324436,\n",
       "        40.41533091,  29.86062194,   6.59993055,  46.95861709,\n",
       "       104.65260265, 183.94840858,  71.24701403, 136.90966774,\n",
       "        57.56700965,  11.76658576,  90.7645479 ,  18.59069365,\n",
       "        15.38112202, 110.14643156,  19.71188496, 116.19508606,\n",
       "       312.45460191, 158.29805152,  81.78840879,  17.54832042,\n",
       "         9.02756295, 350.53631863,  22.45977782,  20.2587875 ,\n",
       "        92.3698987 ,  21.63362365,  16.75620318, 144.15970751,\n",
       "        27.86132518,  11.93225255,  32.58050856, 167.59383273,\n",
       "       106.63790914,   9.26556483,  40.32752705,  36.93726998,\n",
       "         7.92876681,  21.8368803 ,  46.41021043,  14.6211848 ,\n",
       "        99.48605898,  81.66223968,  91.47515128, 221.86918828,\n",
       "       181.61150031,   9.25187751,  91.7003635 ,  11.78068824,\n",
       "        24.13741639,  86.41019047, 109.71062962,  89.24328929,\n",
       "        17.49208416,  17.38035868, 124.82779915,  11.75711067,\n",
       "        20.25024854, 187.71277557, 104.1757968 ,   7.50902185,\n",
       "       142.86269166,   8.31574071,  43.37480513, 251.74234977,\n",
       "       388.80677051, 108.36389447,  34.05690377,  72.25468073,\n",
       "        22.41857194,  23.24323366, 164.61098939, 108.28247589,\n",
       "        19.75431611,  33.39025906,  54.05441403,  39.82173872,\n",
       "       168.78097247, 119.88785721,  55.59262771,  67.42982684,\n",
       "        17.20292565, 153.46658224,  92.10168425, 301.5932845 ,\n",
       "       113.39128469])"
      ]
     },
     "execution_count": 13,
     "metadata": {},
     "output_type": "execute_result"
    }
   ],
   "source": [
    "y_test_pred = lr.predict(X_test)\n",
    "y_test_pred"
   ]
  },
  {
   "cell_type": "code",
   "execution_count": 14,
   "metadata": {},
   "outputs": [
    {
     "name": "stdout",
     "output_type": "stream",
     "text": [
      "Training MAPE:  0.02 %\n",
      "Training Mean Squared Error: 5.98\n",
      "Training RMSE:  2.45\n",
      "Training MAE:  1.24\n"
     ]
    }
   ],
   "source": [
    "print(\"Training MAPE: \", round(metrics.mean_absolute_percentage_error(y_train, y_train_pred), 2), \"%\")\n",
    "print(\n",
    "    \"Training Mean Squared Error:\",\n",
    "    round(metrics.mean_squared_error(y_train, y_train_pred), 2),\n",
    ")\n",
    "print(\n",
    "    \"Training RMSE: \",\n",
    "    round(np.sqrt(metrics.mean_squared_error(y_train, y_train_pred)), 2),\n",
    ")\n",
    "print(\"Training MAE: \", round(metrics.mean_absolute_error(y_train, y_train_pred), 2))"
   ]
  },
  {
   "cell_type": "code",
   "execution_count": 15,
   "metadata": {},
   "outputs": [
    {
     "name": "stdout",
     "output_type": "stream",
     "text": [
      "Test R-squared: 0.9991770518494122\n",
      "Test MAPE: 0.01773257615144969 %\n",
      "Test Mean Squared Error: 5.0864456534135645\n",
      "Test RMSE:  2.2553149787587463\n",
      "Test MAE:  1.1024841492536244\n"
     ]
    }
   ],
   "source": [
    "print(\"Test R-squared:\", metrics.r2_score(\n",
    "    y_test, y_test_pred))\n",
    "print(\"Test MAPE:\", metrics.mean_absolute_percentage_error(\n",
    "    y_test, y_test_pred), \"%\")\n",
    "print(\n",
    "    \"Test Mean Squared Error:\",\n",
    "    metrics.mean_squared_error(y_test, y_test_pred)\n",
    ")\n",
    "print(\"Test RMSE: \", np.sqrt(metrics.mean_squared_error(\n",
    "    y_test, y_test_pred)))\n",
    "print(\"Test MAE: \", metrics.mean_absolute_error(\n",
    "    y_test, y_test_pred))"
   ]
  },
  {
   "cell_type": "code",
   "execution_count": 16,
   "metadata": {},
   "outputs": [
    {
     "data": {
      "text/html": [
       "<div>\n",
       "<style scoped>\n",
       "    .dataframe tbody tr th:only-of-type {\n",
       "        vertical-align: middle;\n",
       "    }\n",
       "\n",
       "    .dataframe tbody tr th {\n",
       "        vertical-align: top;\n",
       "    }\n",
       "\n",
       "    .dataframe thead th {\n",
       "        text-align: right;\n",
       "    }\n",
       "</style>\n",
       "<table border=\"1\" class=\"dataframe\">\n",
       "  <thead>\n",
       "    <tr style=\"text-align: right;\">\n",
       "      <th></th>\n",
       "      <th>Date</th>\n",
       "      <th>Actual</th>\n",
       "      <th>Predicted</th>\n",
       "    </tr>\n",
       "  </thead>\n",
       "  <tbody>\n",
       "    <tr>\n",
       "      <th>0</th>\n",
       "      <td>2005-10-17</td>\n",
       "      <td>6.45</td>\n",
       "      <td>6.781477</td>\n",
       "    </tr>\n",
       "    <tr>\n",
       "      <th>1</th>\n",
       "      <td>2005-10-26</td>\n",
       "      <td>6.84</td>\n",
       "      <td>7.419708</td>\n",
       "    </tr>\n",
       "    <tr>\n",
       "      <th>2</th>\n",
       "      <td>2005-11-02</td>\n",
       "      <td>7.64</td>\n",
       "      <td>7.620224</td>\n",
       "    </tr>\n",
       "    <tr>\n",
       "      <th>3</th>\n",
       "      <td>2005-11-04</td>\n",
       "      <td>7.44</td>\n",
       "      <td>7.811739</td>\n",
       "    </tr>\n",
       "    <tr>\n",
       "      <th>4</th>\n",
       "      <td>2005-11-09</td>\n",
       "      <td>7.55</td>\n",
       "      <td>7.895550</td>\n",
       "    </tr>\n",
       "    <tr>\n",
       "      <th>...</th>\n",
       "      <td>...</td>\n",
       "      <td>...</td>\n",
       "      <td>...</td>\n",
       "    </tr>\n",
       "    <tr>\n",
       "      <th>928</th>\n",
       "      <td>2020-07-27</td>\n",
       "      <td>372.34</td>\n",
       "      <td>378.213028</td>\n",
       "    </tr>\n",
       "    <tr>\n",
       "      <th>929</th>\n",
       "      <td>2020-07-29</td>\n",
       "      <td>384.07</td>\n",
       "      <td>378.900912</td>\n",
       "    </tr>\n",
       "    <tr>\n",
       "      <th>930</th>\n",
       "      <td>2020-08-06</td>\n",
       "      <td>444.45</td>\n",
       "      <td>458.194741</td>\n",
       "    </tr>\n",
       "    <tr>\n",
       "      <th>931</th>\n",
       "      <td>2020-08-11</td>\n",
       "      <td>452.04</td>\n",
       "      <td>439.711554</td>\n",
       "    </tr>\n",
       "    <tr>\n",
       "      <th>932</th>\n",
       "      <td>2020-08-13</td>\n",
       "      <td>459.63</td>\n",
       "      <td>459.158398</td>\n",
       "    </tr>\n",
       "  </tbody>\n",
       "</table>\n",
       "<p>933 rows × 3 columns</p>\n",
       "</div>"
      ],
      "text/plain": [
       "           Date  Actual   Predicted\n",
       "0    2005-10-17    6.45    6.781477\n",
       "1    2005-10-26    6.84    7.419708\n",
       "2    2005-11-02    7.64    7.620224\n",
       "3    2005-11-04    7.44    7.811739\n",
       "4    2005-11-09    7.55    7.895550\n",
       "..          ...     ...         ...\n",
       "928  2020-07-27  372.34  378.213028\n",
       "929  2020-07-29  384.07  378.900912\n",
       "930  2020-08-06  444.45  458.194741\n",
       "931  2020-08-11  452.04  439.711554\n",
       "932  2020-08-13  459.63  459.158398\n",
       "\n",
       "[933 rows x 3 columns]"
      ]
     },
     "execution_count": 16,
     "metadata": {},
     "output_type": "execute_result"
    }
   ],
   "source": [
    "df_test_pred = pd.DataFrame(y_test.values, \n",
    "                columns=['Actual'], index=y_test.index)\n",
    "df_test_pred['Predicted'] = y_test_pred\n",
    "df_test_pred = df_test_pred.reset_index()\n",
    "sorted_df_test_pred = df_test_pred.sort_values(by='Date')\n",
    "sorted_df_test_pred = sorted_df_test_pred.reset_index()\n",
    "sorted_df_test_pred = sorted_df_test_pred.drop(columns=['index'])\n",
    "sorted_df_test_pred"
   ]
  },
  {
   "cell_type": "code",
   "execution_count": 17,
   "metadata": {},
   "outputs": [
    {
     "data": {
      "image/png": "[encoded data removed]",
      "text/plain": [
       "<Figure size 640x480 with 1 Axes>"
      ]
     },
     "metadata": {},
     "output_type": "display_data"
    }
   ],
   "source": [
    "plt.plot(sorted_df_test_pred.index, sorted_df_test_pred['Actual'], color='b')\n",
    "plt.plot(sorted_df_test_pred.index, sorted_df_test_pred['Predicted'], color='g')\n",
    "plt.grid(which=\"major\", color='k', linestyle='-.', linewidth=0.5)\n",
    "plt.show()"
   ]
  },
  {
   "cell_type": "code",
   "execution_count": 18,
   "metadata": {},
   "outputs": [
    {
     "data": {
      "text/html": [
       "<div>\n",
       "<style scoped>\n",
       "    .dataframe tbody tr th:only-of-type {\n",
       "        vertical-align: middle;\n",
       "    }\n",
       "\n",
       "    .dataframe tbody tr th {\n",
       "        vertical-align: top;\n",
       "    }\n",
       "\n",
       "    .dataframe thead th {\n",
       "        text-align: right;\n",
       "    }\n",
       "</style>\n",
       "<table border=\"1\" class=\"dataframe\">\n",
       "  <thead>\n",
       "    <tr style=\"text-align: right;\">\n",
       "      <th></th>\n",
       "      <th>Date</th>\n",
       "      <th>Actual</th>\n",
       "      <th>Predicted</th>\n",
       "    </tr>\n",
       "  </thead>\n",
       "  <tbody>\n",
       "    <tr>\n",
       "      <th>0</th>\n",
       "      <td>2005-10-18</td>\n",
       "      <td>6.78</td>\n",
       "      <td>6.471999</td>\n",
       "    </tr>\n",
       "    <tr>\n",
       "      <th>1</th>\n",
       "      <td>2005-10-19</td>\n",
       "      <td>6.93</td>\n",
       "      <td>6.946561</td>\n",
       "    </tr>\n",
       "    <tr>\n",
       "      <th>2</th>\n",
       "      <td>2005-10-20</td>\n",
       "      <td>6.87</td>\n",
       "      <td>7.384496</td>\n",
       "    </tr>\n",
       "    <tr>\n",
       "      <th>3</th>\n",
       "      <td>2005-10-21</td>\n",
       "      <td>7.01</td>\n",
       "      <td>7.314377</td>\n",
       "    </tr>\n",
       "    <tr>\n",
       "      <th>4</th>\n",
       "      <td>2005-10-24</td>\n",
       "      <td>6.93</td>\n",
       "      <td>7.345238</td>\n",
       "    </tr>\n",
       "    <tr>\n",
       "      <th>...</th>\n",
       "      <td>...</td>\n",
       "      <td>...</td>\n",
       "      <td>...</td>\n",
       "    </tr>\n",
       "    <tr>\n",
       "      <th>2794</th>\n",
       "      <td>2020-08-04</td>\n",
       "      <td>439.46</td>\n",
       "      <td>440.634808</td>\n",
       "    </tr>\n",
       "    <tr>\n",
       "      <th>2795</th>\n",
       "      <td>2020-08-05</td>\n",
       "      <td>454.79</td>\n",
       "      <td>440.079367</td>\n",
       "    </tr>\n",
       "    <tr>\n",
       "      <th>2796</th>\n",
       "      <td>2020-08-07</td>\n",
       "      <td>450.91</td>\n",
       "      <td>443.185779</td>\n",
       "    </tr>\n",
       "    <tr>\n",
       "      <th>2797</th>\n",
       "      <td>2020-08-10</td>\n",
       "      <td>437.50</td>\n",
       "      <td>447.533670</td>\n",
       "    </tr>\n",
       "    <tr>\n",
       "      <th>2798</th>\n",
       "      <td>2020-08-12</td>\n",
       "      <td>460.04</td>\n",
       "      <td>452.324387</td>\n",
       "    </tr>\n",
       "  </tbody>\n",
       "</table>\n",
       "<p>2799 rows × 3 columns</p>\n",
       "</div>"
      ],
      "text/plain": [
       "            Date  Actual   Predicted\n",
       "0     2005-10-18    6.78    6.471999\n",
       "1     2005-10-19    6.93    6.946561\n",
       "2     2005-10-20    6.87    7.384496\n",
       "3     2005-10-21    7.01    7.314377\n",
       "4     2005-10-24    6.93    7.345238\n",
       "...          ...     ...         ...\n",
       "2794  2020-08-04  439.46  440.634808\n",
       "2795  2020-08-05  454.79  440.079367\n",
       "2796  2020-08-07  450.91  443.185779\n",
       "2797  2020-08-10  437.50  447.533670\n",
       "2798  2020-08-12  460.04  452.324387\n",
       "\n",
       "[2799 rows x 3 columns]"
      ]
     },
     "execution_count": 18,
     "metadata": {},
     "output_type": "execute_result"
    }
   ],
   "source": [
    "df_train_pred = pd.DataFrame(y_train.values, columns=['Actual'], index=y_train.index)\n",
    "df_train_pred['Predicted'] = y_train_pred\n",
    "df_train_pred = df_train_pred.reset_index()\n",
    "sorted_df_train_pred = df_train_pred.sort_values(by='Date')\n",
    "sorted_df_train_pred = sorted_df_train_pred.reset_index()\n",
    "sorted_df_train_pred = sorted_df_train_pred.drop(columns=['index'])\n",
    "sorted_df_train_pred"
   ]
  },
  {
   "cell_type": "code",
   "execution_count": 19,
   "metadata": {},
   "outputs": [
    {
     "data": {
      "image/png": "[encoded data removed]",
      "text/plain": [
       "<Figure size 640x480 with 1 Axes>"
      ]
     },
     "metadata": {},
     "output_type": "display_data"
    }
   ],
   "source": [
    "plt.plot(sorted_df_train_pred.index, sorted_df_train_pred['Actual'], color='b')\n",
    "plt.plot(sorted_df_train_pred.index, sorted_df_train_pred['Predicted'], color='g')\n",
    "plt.grid(which=\"major\", color='k', linestyle='-.', linewidth=0.5)\n",
    "plt.show()"
   ]
  },
  {
   "cell_type": "code",
   "execution_count": 20,
   "metadata": {},
   "outputs": [
    {
     "data": {
      "text/html": [
       "<div>\n",
       "<style scoped>\n",
       "    .dataframe tbody tr th:only-of-type {\n",
       "        vertical-align: middle;\n",
       "    }\n",
       "\n",
       "    .dataframe tbody tr th {\n",
       "        vertical-align: top;\n",
       "    }\n",
       "\n",
       "    .dataframe thead th {\n",
       "        text-align: right;\n",
       "    }\n",
       "</style>\n",
       "<table border=\"1\" class=\"dataframe\">\n",
       "  <thead>\n",
       "    <tr style=\"text-align: right;\">\n",
       "      <th></th>\n",
       "      <th>Date</th>\n",
       "      <th>Actual</th>\n",
       "      <th>Predicted</th>\n",
       "      <th>AE</th>\n",
       "      <th>SE</th>\n",
       "    </tr>\n",
       "  </thead>\n",
       "  <tbody>\n",
       "    <tr>\n",
       "      <th>0</th>\n",
       "      <td>2005-10-18</td>\n",
       "      <td>6.78</td>\n",
       "      <td>6.471999</td>\n",
       "      <td>0.308001</td>\n",
       "      <td>0.094864</td>\n",
       "    </tr>\n",
       "    <tr>\n",
       "      <th>1</th>\n",
       "      <td>2005-10-19</td>\n",
       "      <td>6.93</td>\n",
       "      <td>6.946561</td>\n",
       "      <td>0.016561</td>\n",
       "      <td>0.000274</td>\n",
       "    </tr>\n",
       "    <tr>\n",
       "      <th>2</th>\n",
       "      <td>2005-10-20</td>\n",
       "      <td>6.87</td>\n",
       "      <td>7.384496</td>\n",
       "      <td>0.514496</td>\n",
       "      <td>0.264706</td>\n",
       "    </tr>\n",
       "    <tr>\n",
       "      <th>3</th>\n",
       "      <td>2005-10-21</td>\n",
       "      <td>7.01</td>\n",
       "      <td>7.314377</td>\n",
       "      <td>0.304377</td>\n",
       "      <td>0.092645</td>\n",
       "    </tr>\n",
       "    <tr>\n",
       "      <th>4</th>\n",
       "      <td>2005-10-24</td>\n",
       "      <td>6.93</td>\n",
       "      <td>7.345238</td>\n",
       "      <td>0.415238</td>\n",
       "      <td>0.172423</td>\n",
       "    </tr>\n",
       "    <tr>\n",
       "      <th>...</th>\n",
       "      <td>...</td>\n",
       "      <td>...</td>\n",
       "      <td>...</td>\n",
       "      <td>...</td>\n",
       "      <td>...</td>\n",
       "    </tr>\n",
       "    <tr>\n",
       "      <th>2794</th>\n",
       "      <td>2020-08-04</td>\n",
       "      <td>439.46</td>\n",
       "      <td>440.634808</td>\n",
       "      <td>1.174808</td>\n",
       "      <td>1.380173</td>\n",
       "    </tr>\n",
       "    <tr>\n",
       "      <th>2795</th>\n",
       "      <td>2020-08-05</td>\n",
       "      <td>454.79</td>\n",
       "      <td>440.079367</td>\n",
       "      <td>14.710633</td>\n",
       "      <td>216.402715</td>\n",
       "    </tr>\n",
       "    <tr>\n",
       "      <th>2796</th>\n",
       "      <td>2020-08-07</td>\n",
       "      <td>450.91</td>\n",
       "      <td>443.185779</td>\n",
       "      <td>7.724221</td>\n",
       "      <td>59.663590</td>\n",
       "    </tr>\n",
       "    <tr>\n",
       "      <th>2797</th>\n",
       "      <td>2020-08-10</td>\n",
       "      <td>437.50</td>\n",
       "      <td>447.533670</td>\n",
       "      <td>10.033670</td>\n",
       "      <td>100.674525</td>\n",
       "    </tr>\n",
       "    <tr>\n",
       "      <th>2798</th>\n",
       "      <td>2020-08-12</td>\n",
       "      <td>460.04</td>\n",
       "      <td>452.324387</td>\n",
       "      <td>7.715613</td>\n",
       "      <td>59.530690</td>\n",
       "    </tr>\n",
       "  </tbody>\n",
       "</table>\n",
       "<p>2799 rows × 5 columns</p>\n",
       "</div>"
      ],
      "text/plain": [
       "            Date  Actual   Predicted         AE          SE\n",
       "0     2005-10-18    6.78    6.471999   0.308001    0.094864\n",
       "1     2005-10-19    6.93    6.946561   0.016561    0.000274\n",
       "2     2005-10-20    6.87    7.384496   0.514496    0.264706\n",
       "3     2005-10-21    7.01    7.314377   0.304377    0.092645\n",
       "4     2005-10-24    6.93    7.345238   0.415238    0.172423\n",
       "...          ...     ...         ...        ...         ...\n",
       "2794  2020-08-04  439.46  440.634808   1.174808    1.380173\n",
       "2795  2020-08-05  454.79  440.079367  14.710633  216.402715\n",
       "2796  2020-08-07  450.91  443.185779   7.724221   59.663590\n",
       "2797  2020-08-10  437.50  447.533670  10.033670  100.674525\n",
       "2798  2020-08-12  460.04  452.324387   7.715613   59.530690\n",
       "\n",
       "[2799 rows x 5 columns]"
      ]
     },
     "execution_count": 20,
     "metadata": {},
     "output_type": "execute_result"
    }
   ],
   "source": [
    "df_train_pred = pd.DataFrame(y_train.values, \n",
    "                    columns=['Actual'], index=y_train.index)\n",
    "df_train_pred['Predicted'] = y_train_pred\n",
    "df_train_pred = df_train_pred.reset_index()\n",
    "sorted_df_train_pred = df_train_pred.sort_values(by='Date')\n",
    "sorted_df_train_pred = sorted_df_train_pred.reset_index()\n",
    "sorted_df_train_pred = sorted_df_train_pred.drop(columns=['index'])\n",
    "sorted_df_train_pred['AE'] = \\\n",
    "    (sorted_df_train_pred['Predicted'] - \\\n",
    "     sorted_df_train_pred['Actual']).abs()\n",
    "sorted_df_train_pred['SE'] = \\\n",
    "    np.square((sorted_df_train_pred['Predicted'] - \\\n",
    "     sorted_df_train_pred['Actual']))\n",
    "sorted_df_train_pred"
   ]
  },
  {
   "cell_type": "code",
   "execution_count": 21,
   "metadata": {},
   "outputs": [
    {
     "data": {
      "text/plain": [
       "<AxesSubplot:>"
      ]
     },
     "execution_count": 21,
     "metadata": {},
     "output_type": "execute_result"
    },
    {
     "data": {
      "image/png": "[encoded data removed]",
      "text/plain": [
       "<Figure size 640x480 with 1 Axes>"
      ]
     },
     "metadata": {},
     "output_type": "display_data"
    }
   ],
   "source": [
    "sorted_df_train_pred[['AE']].plot()"
   ]
  },
  {
   "cell_type": "code",
   "execution_count": 22,
   "metadata": {},
   "outputs": [
    {
     "data": {
      "image/png": "[encoded data removed]",
      "text/plain": [
       "<Figure size 700x300 with 2 Axes>"
      ]
     },
     "metadata": {},
     "output_type": "display_data"
    }
   ],
   "source": [
    "fig, axs = plt.subplots(1, 2, figsize=(7, 3))\n",
    "\n",
    "axs[0].plot(sorted_df_train_pred['AE'], color='blue')\n",
    "axs[0].set_title('AE')\n",
    "\n",
    "axs[1].plot(sorted_df_train_pred['SE'], color='orange')\n",
    "axs[1].set_title('SE')\n",
    "\n",
    "plt.show()"
   ]
  },
  {
   "cell_type": "code",
   "execution_count": 23,
   "metadata": {},
   "outputs": [
    {
     "name": "stdout",
     "output_type": "stream",
     "text": [
      "mae =  1.2358514394376081\n",
      "mse =  5.980281121100539\n"
     ]
    }
   ],
   "source": [
    "mae = sorted_df_train_pred['AE'].mean()\n",
    "mse = sorted_df_train_pred['SE'].mean()\n",
    "print('mae = ', mae)\n",
    "print('mse = ', mse)"
   ]
  },
  {
   "cell_type": "code",
   "execution_count": 24,
   "metadata": {},
   "outputs": [
    {
     "name": "stdout",
     "output_type": "stream",
     "text": [
      "mae2 =  1.2358514394376081\n",
      "mse2 =  5.980281121100539\n"
     ]
    }
   ],
   "source": [
    "mae2 = metrics.mean_absolute_error(y_train, y_train_pred)\n",
    "mse2 = metrics.mean_squared_error(y_train, y_train_pred)\n",
    "print('mae2 = ', mae2)\n",
    "print('mse2 = ', mse2)"
   ]
  },
  {
   "cell_type": "code",
   "execution_count": 25,
   "metadata": {},
   "outputs": [],
   "source": [
    "from sklearn.linear_model import SGDRegressor\n",
    "\n",
    "regressor = SGDRegressor(eta0=0.0005)\n",
    "losses = []\n",
    "epochs = 100\n",
    "\n",
    "for epoch in range(epochs):\n",
    "    regressor.partial_fit(X_train, y_train)\n",
    "    loss = (regressor.predict(X_train) - y_train).abs().mean()\n",
    "    losses.append(loss)"
   ]
  },
  {
   "cell_type": "code",
   "execution_count": 35,
   "metadata": {},
   "outputs": [
    {
     "data": {
      "text/plain": [
       "[67.72470363120252,\n",
       " 56.79656674045813,\n",
       " 48.7105663970458,\n",
       " 42.33075082694444,\n",
       " 37.080159710529756,\n",
       " 32.706366075711024,\n",
       " 29.041784255227213,\n",
       " 25.851417571691172,\n",
       " 23.094470067080398,\n",
       " 20.704238469242814,\n",
       " 18.618771175778054,\n",
       " 16.791590311977288,\n",
       " 15.170563678291403,\n",
       " 13.741087257680855,\n",
       " 12.473330367265328,\n",
       " 11.340264233745913,\n",
       " 10.34260752615806,\n",
       " 9.445995111536972,\n",
       " 8.630934455743699,\n",
       " 7.931425626414553,\n",
       " 7.278132049319633,\n",
       " 6.708735237035398,\n",
       " 6.2092872082687425,\n",
       " 5.7181291554687474,\n",
       " 5.354147621607431,\n",
       " 4.956232812129057,\n",
       " 4.623725572335515,\n",
       " 4.370232070072694,\n",
       " 4.104317975170223,\n",
       " 3.891329401203768]"
      ]
     },
     "execution_count": 35,
     "metadata": {},
     "output_type": "execute_result"
    }
   ],
   "source": [
    "losses[:30]"
   ]
  },
  {
   "cell_type": "code",
   "execution_count": 27,
   "metadata": {},
   "outputs": [
    {
     "data": {
      "text/plain": [
       "[1.8050325228137918,\n",
       " 1.8019074541081468,\n",
       " 1.799687425107924,\n",
       " 1.797101431866791,\n",
       " 1.7934737696108778,\n",
       " 1.7934254413952806,\n",
       " 1.7917162098795276,\n",
       " 1.7909286119693073,\n",
       " 1.7871556493583547,\n",
       " 1.7828193021570669]"
      ]
     },
     "execution_count": 27,
     "metadata": {},
     "output_type": "execute_result"
    }
   ],
   "source": [
    "losses[-10:]"
   ]
  },
  {
   "cell_type": "code",
   "execution_count": 28,
   "metadata": {},
   "outputs": [
    {
     "data": {
      "text/plain": [
       "array([ 2.34504600e+00,  2.34136807e+00,  2.33947054e+00,  2.33941186e+00,\n",
       "       -9.33349408e-01,  2.07903004e+00,  2.30125759e+00,  2.26010813e+00,\n",
       "        2.33399000e+00,  2.31197071e+00,  2.30035912e+00,  2.28952195e+00,\n",
       "        2.32048678e+00,  2.31748005e+00,  2.30182004e+00,  2.28490181e+00,\n",
       "        2.25965853e+00,  2.25405652e+00,  2.32165462e+00,  2.32165462e+00,\n",
       "        2.32165462e+00,  2.32165462e+00,  2.32165462e+00,  1.37032021e+00,\n",
       "        1.22858635e+00,  2.33717265e+00,  4.82654220e-02,  5.00631816e-12,\n",
       "        5.87087391e-02,  4.25540191e-02,  3.52309893e-01,  3.52309893e-01,\n",
       "       -1.23829343e-01,  1.92839693e-01,  5.95655000e-01, -2.82898857e-01,\n",
       "       -1.29892622e-01,  5.60947749e-02,  7.06114560e-02,  1.58825462e-01,\n",
       "       -3.82228595e-01,  2.87691310e-02, -2.79294775e-01,  9.02719376e-02,\n",
       "        0.00000000e+00,  7.12374527e-01,  1.67216085e+00,  7.87443232e-02,\n",
       "        2.07769797e+00,  2.07558257e+00,  2.05894893e+00,  2.03042372e+00,\n",
       "        2.04192693e+00,  2.02932249e+00,  2.01350859e+00,  1.58771423e+00,\n",
       "        1.58096745e+00,  1.53826560e+00,  1.56129848e+00,  1.54960210e+00,\n",
       "        1.50900131e+00])"
      ]
     },
     "execution_count": 28,
     "metadata": {},
     "output_type": "execute_result"
    }
   ],
   "source": [
    "from sklearn.linear_model import SGDRegressor\n",
    "\n",
    "regressor1 = SGDRegressor(eta0=0.0005)\n",
    "epochs = 1\n",
    "\n",
    "for epoch in range(epochs):\n",
    "    regressor1.partial_fit(X_train, y_train)\n",
    "    \n",
    "regressor1.coef_"
   ]
  },
  {
   "cell_type": "code",
   "execution_count": 29,
   "metadata": {},
   "outputs": [
    {
     "data": {
      "text/plain": [
       "array([ 2.87276698e+00,  2.89072217e+00,  2.86797126e+00,  2.88501934e+00,\n",
       "       -6.18209118e-01,  2.23467308e+00,  2.72733636e+00,  2.71972316e+00,\n",
       "        2.83808636e+00,  2.75517478e+00,  2.71317287e+00,  2.66151350e+00,\n",
       "        2.81187432e+00,  2.77366867e+00,  2.73313594e+00,  2.72716916e+00,\n",
       "        2.70033306e+00,  2.31537419e+00,  2.80035278e+00,  2.80035278e+00,\n",
       "        2.80035278e+00,  2.80035278e+00,  2.80035278e+00,  1.83802104e+00,\n",
       "        1.47819414e+00,  3.12785646e+00, -1.81349886e-01,  1.66302928e-11,\n",
       "       -2.07948490e-01, -1.70104565e-01,  5.02888942e-01,  5.02888942e-01,\n",
       "        1.79507910e-01,  4.94780558e-01,  9.50397017e-01, -5.27260105e-01,\n",
       "        6.16010176e-02,  7.77648448e-02,  1.52919885e-01,  4.87322037e-01,\n",
       "       -2.91829975e-01,  6.62174135e-02, -2.21652475e-01,  9.34792085e-02,\n",
       "        0.00000000e+00,  9.12903831e-01,  1.57335684e+00,  1.20733099e-01,\n",
       "        1.78083467e+00,  1.75246456e+00,  1.69336607e+00,  1.62422731e+00,\n",
       "        1.67074182e+00,  1.65744661e+00,  1.65574942e+00,  5.46399168e-01,\n",
       "        5.41750623e-01,  4.19205048e-01,  5.63452214e-01,  5.61491191e-01,\n",
       "        4.59669533e-01])"
      ]
     },
     "execution_count": 29,
     "metadata": {},
     "output_type": "execute_result"
    }
   ],
   "source": [
    "from sklearn.linear_model import SGDRegressor\n",
    "\n",
    "regressor10 = SGDRegressor(eta0=0.0005)\n",
    "epochs = 10\n",
    "\n",
    "for epoch in range(epochs):\n",
    "    regressor10.partial_fit(X_train, y_train)\n",
    "    \n",
    "regressor10.coef_"
   ]
  },
  {
   "cell_type": "code",
   "execution_count": 30,
   "metadata": {},
   "outputs": [
    {
     "data": {
      "text/plain": [
       "array([ 3.54988162e+00,  3.56730831e+00,  3.60160103e+00,  3.61466915e+00,\n",
       "        1.38085025e-01,  4.94616214e-01,  3.03694242e+00,  3.38631899e+00,\n",
       "        3.46881842e+00,  3.21615199e+00,  3.07762648e+00,  2.92925060e+00,\n",
       "        3.35853187e+00,  3.27734534e+00,  3.15824734e+00,  3.20385165e+00,\n",
       "        3.20258024e+00,  2.22502197e+00,  3.35564021e+00,  3.35564021e+00,\n",
       "        3.35564021e+00,  3.35564021e+00,  3.35564021e+00,  2.16676558e+00,\n",
       "        1.06342828e+00,  2.62318615e+00, -9.44600023e-02,  2.19529543e-11,\n",
       "       -3.97859777e-01, -6.66053735e-01,  6.32133442e-01,  6.32133442e-01,\n",
       "       -1.57319264e-01,  6.01655442e-01,  6.68210256e-01, -1.85011210e-01,\n",
       "       -7.10106148e-02,  7.88797244e-02,  3.31277247e-02,  2.08922859e-01,\n",
       "       -8.50540739e-02, -1.50039496e-01,  1.36680439e-02,  1.37675880e-01,\n",
       "        0.00000000e+00,  3.44561895e-02,  9.79449661e-01,  9.30627720e-02,\n",
       "        1.36952467e+00,  1.29349736e+00,  1.12215654e+00,  9.36128303e-01,\n",
       "        1.08252544e+00,  1.10002321e+00,  1.14927336e+00, -2.60420575e-01,\n",
       "       -2.83249461e-01, -6.46866213e-01, -2.32724653e-01, -2.53778579e-01,\n",
       "       -6.07582191e-01])"
      ]
     },
     "execution_count": 30,
     "metadata": {},
     "output_type": "execute_result"
    }
   ],
   "source": [
    "from sklearn.linear_model import SGDRegressor\n",
    "\n",
    "regressor100 = SGDRegressor(eta0=0.0005)\n",
    "epochs = 100\n",
    "\n",
    "for epoch in range(epochs):\n",
    "    regressor100.partial_fit(X_train, y_train)\n",
    "    \n",
    "regressor100.coef_"
   ]
  },
  {
   "cell_type": "code",
   "execution_count": 34,
   "metadata": {},
   "outputs": [
    {
     "data": {
      "image/png": "[encoded data removed]",
      "text/plain": [
       "<Figure size 700x400 with 1 Axes>"
      ]
     },
     "metadata": {},
     "output_type": "display_data"
    }
   ],
   "source": [
    "fig = plt.figure(figsize=(7, 4))\n",
    "plt.plot(losses[:30], marker='o', markersize=10, color='green')\n",
    "plt.xlabel('epoch')\n",
    "plt.ylabel('loss')\n",
    "plt.show()"
   ]
  },
  {
   "cell_type": "code",
   "execution_count": 32,
   "metadata": {
    "scrolled": false
   },
   "outputs": [
    {
     "data": {
      "image/png": "[encoded data removed]",
      "text/plain": [
       "<Figure size 700x400 with 1 Axes>"
      ]
     },
     "metadata": {},
     "output_type": "display_data"
    }
   ],
   "source": [
    "fig = plt.figure(figsize=(7, 4))\n",
    "plt.plot(losses, color='green')\n",
    "plt.xlabel('epoch')\n",
    "plt.ylabel('loss')\n",
    "plt.show()"
   ]
  }
 ],
 "metadata": {
  "kernelspec": {
   "display_name": "Python 3 (ipykernel)",
   "language": "python",
   "name": "python3"
  },
  "language_info": {
   "codemirror_mode": {
    "name": "ipython",
    "version": 3
   },
   "file_extension": ".py",
   "mimetype": "text/x-python",
   "name": "python",
   "nbconvert_exporter": "python",
   "pygments_lexer": "ipython3",
   "version": "3.10.6"
  },
  "toc": {
   "base_numbering": 1,
   "nav_menu": {},
   "number_sections": true,
   "sideBar": true,
   "skip_h1_title": false,
   "title_cell": "Table of Contents",
   "title_sidebar": "Contents",
   "toc_cell": false,
   "toc_position": {},
   "toc_section_display": true,
   "toc_window_display": false
  }
 },
 "nbformat": 4,
 "nbformat_minor": 4
}
