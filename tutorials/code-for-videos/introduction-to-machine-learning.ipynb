{
 "cells": [
  {
   "cell_type": "markdown",
   "metadata": {},
   "source": [
    "# Introduction to machine learning"
   ]
  },
  {
   "cell_type": "markdown",
   "metadata": {},
   "source": [
    "## How is machine learning different from human learning?"
   ]
  },
  {
   "cell_type": "markdown",
   "metadata": {},
   "source": [
    "People learn and machines learn. Is there any similarity between machine learning and human learning?\n",
    "\n",
    "Suppose there is a child who wants to learn to recognize different kinds of fruits. If we were to teach him, how would we do it?\n",
    "\n",
    "![Fruit](https://static-1300131294.cos.ap-shanghai.myqcloud.com/images/tutorials/ml-tutorial-introduction/fruit.png)\n",
    "\n",
    "We can start with two simple fruits, say apples and oranges. We first take out an apple and tell the child that this fruit is called an apple and what kind of characteristics it has. Then, we'll take out an orange and also tell the children what it is called and what its characteristics are.\n",
    "\n",
    "<div style=\"display: flex;\">\n",
    "    <img src=\"https://static-1300131294.cos.ap-shanghai.myqcloud.com/images/tutorials/ml-tutorial-introduction/apple.png\" style=\"width: 50%;\">\n",
    "    <img src=\"https://static-1300131294.cos.ap-shanghai.myqcloud.com/images/tutorials/ml-tutorial-introduction/image3.png\" style=\"width: 50%;\">\n",
    "</div>\n",
    "\n",
    "\n",
    "Then, we can take out a bunch of apples and oranges that have been mixed together for this child to identify one by one and see if he will make a judgment based on what he learned earlier about the different characteristics of apples and oranges. He might say, \"This red one is an apple and that yellow one is an orange.\" Or, he'll say, \"This one that feels smooth is an apple, and that one that feels pitted is an orange.\"\n",
    "\n",
    "![Fruit2](https://static-1300131294.cos.ap-shanghai.myqcloud.com/images/tutorials/ml-tutorial-introduction/image4.png)\n",
    "\n",
    "And when we make the task even more difficult, such as constantly introducing different varieties of apples and oranges from around the world, then the child may guess wrong. But it doesn't matter, he will also remember the experience of these judgmental errors just as he remembers when he was accurate, so that he won't make them again in the future. We use this method of continuous training, the child will be able to judge the fruit from time to time to learn the different characteristics of different fruits, or the common points of the same fruit, his guess on the fruit will become more and more accurate.\n",
    "\n",
    "There are many similarities between the process of machine learning and human learning. If we consider the child as a computer, and the judgment of fruits as a piece of data, then the process of learning to recognize fruits can be likened to the process of machine learning. Like the child, the computer can learn from the data, and this learning ability allows the computer not only to recognize and classify pictures, and even predict trends in the future, in order to solve different problems in various fields in reality. And just like this smart little kid, computers can continue to learn and improve by constantly introducing new data.\n",
    "\n",
    "![Fruit classify](https://static-1300131294.cos.ap-shanghai.myqcloud.com/images/tutorials/ml-tutorial-introduction/fruit-classify.png)\n",
    "\n",
    "So here you may ask, how does the kid's brain or the computer learn this knowledge through machine learning? To make an inappropriate analogy, the child's brain or machine learning algorithms, in fact, there are many, many programmers to help him write code.\n",
    "\n",
    "![algorithm](https://static-1300131294.cos.ap-shanghai.myqcloud.com/images/tutorials/ml-tutorial-introduction/algorithm.gif)\n",
    "\n",
    "Every time the child sees a new fruit, the programmers in his brain write some new code into his brain that describes how to recognize the new fruit. As the variety and number of fruits the child has seen increases, the code in his brain for recognizing fruits will become longer and longer, the parameters in the code will be set more and more reasonably, and the functions will become more and more perfect, and he will be able to accurately distinguish different fruits more and more accurately.\n",
    "\n",
    "If we strictly define machine learning, it is a branch of artificial intelligence that relies on algorithms and statistical models to allow computer systems to automatically learn and improve the performance of task execution based on input data without specific programming. Simply put, it's a process of generating code from data, generating rules, and tuning parameters.\n",
    "\n",
    "And the reason machine learning doesn't require specific programming is because of the existence of the programmers mentioned earlier who write their own code. And the process of writing their programs is the process of training machine learning models, and the programs they write are machine learning models. Of course these programmers don't work all the time, they only pick up the keyboard and hit it when they see new data. Often, it is also only when new data is introduced that we retrain the machine learning model.\n",
    "\n"
   ]
  },
  {
   "cell_type": "markdown",
   "metadata": {},
   "source": [
    "## An example to figure out features in machine learning"
   ]
  },
  {
   "cell_type": "markdown",
   "metadata": {},
   "source": [
    "In machine learning, features (Feature) this word can be said to be ubiquitous, we often see \"feature vector\", \"feature extraction\", \"feature engineering\" and so on. The term \"feature vector\", \"feature extraction\", \"feature engineering\" and so on. So what exactly are features in machine learning?\n",
    "\n",
    "Cats and dogs are two common pets in our lives, and I think everyone must be able to cite a few unique features of cats and dogs. For example, cats tend to have ears that are erect, while dogs have ears that droop. Another example is that cats' pupils take on a distinct almond shape, while dogs' pupils are mostly round. The reason why we human beings can distinguish between cats and dogs is that we have seen many different cats and dogs in our daily life, and gradually mastered these characteristics of their appearance, and by example, we can make accurate judgments.\n",
    "\n",
    "If we want to train a machine learning model to distinguish between pictures of cats and dogs, then by the same token, we first need to collect some pictures of cats and dogs to form a dataset like this one, so that the machine learning algorithm can learn from it. In the world of machine learning, the different ear shapes, eye positions, tail patterns, hair colors, etc. of cats and dogs in each picture are the so-called features.\n",
    "\n",
    "![cat and dog](https://static-1300131294.cos.ap-shanghai.myqcloud.com/images/tutorials/ml-tutorial-introduction/dog-cat-data.png)\n",
    "\n",
    "While we humans use figurative language to describe the characteristics of cats and dogs, machine learning has to use features to describe the differences between these two animals. We provide these features as input to a machine learning algorithm, and after training the algorithm to learn from these features, we get a machine learning model that can be used to distinguish between cats and dogs. When the model then sees a picture of an animal with erect triangular ears and jewel-like shiny pupils, then it can determine that the animal is more likely to be a cat than a dog.\n",
    "\n",
    "In machine learning, features are meaningful attributes or information extracted from data that can be used to describe different aspects of a sample or data point, a subset of the data used to train a machine learning model. Features are the input to machine learning algorithms and the object of learning. In machine learning, features are sometimes called Attribute, Variable, or Predictor, and they all refer to one concept really."
   ]
  },
  {
   "cell_type": "markdown",
   "metadata": {},
   "source": [
    "## What is labeling in machine learning?"
   ]
  },
  {
   "cell_type": "markdown",
   "metadata": {},
   "source": [
    "Understanding the features of machine learning, you must know the label.\n",
    "\n",
    "When you usually buy things in the supermarket, each item will have a small paper sticker or label with the name and price of the item.\n",
    "\n",
    "![shop-tag](https://static-1300131294.cos.ap-shanghai.myqcloud.com/images/tutorials/ml-tutorial-introduction/shop-tag.png)\n",
    "\n",
    "Some people like to organize things so much that he will put a note on each item to label what the item is. I don't know if you've ever seen The Big Bang Theory, but Sheldon in it loves to do this.\n",
    "\n",
    "![boom-tag](https://static-1300131294.cos.ap-shanghai.myqcloud.com/images/tutorials/ml-tutorial-introduction/boom.png)\n",
    "\n",
    "If we use machine learning to recognize pictures of cats and dogs, then labels are the marks in the training data that we use to tell the machine learning algorithm whether each picture is a cat or a dog.\n",
    "\n",
    "![tag of cat and dog](https://static-1300131294.cos.ap-shanghai.myqcloud.com/images/tutorials/ml-tutorial-introduction/dog-tag.gif)\n",
    "\n",
    "Formally, a label is information that describes the category to which a sample belongs. In the scenario of recognizing pictures of cats and dogs, the samples are pictures of cats and dogs, and the categories are cats and dogs. For each picture, we look at it and make a judgment that it is a cat or a dog, which is the process of labeling.\n",
    "\n",
    "When each piece of data in the dataset is labeled, the machine learning model can know which pictures are cats and which pictures are dogs, and will correspond the features of the pictures to the labels. The features, as we mentioned in the last issue, are the different ear shapes, eye positions, tail patterns, hair colors, etc. of cats and dogs. During the training process, the model improves its accuracy by constantly learning and summarizing the relationship between features and labels, and eventually is able to predict whether a new, never-before-seen picture is a cat or a dog.\n",
    "\n",
    "![dataset of cat and dog](https://static-1300131294.cos.ap-shanghai.myqcloud.com/images/tutorials/ml-tutorial-introduction/dataset.png)\n",
    "\n",
    "In machine learning, \"label\" is sometimes referred to as Target, or Ground Truth, which are the same concept. In many contexts, Output or Result also means label. Labels, too, are what machine learning models are trying to predict.\n",
    "\n",
    "In the examples and definitions above, we have assumed that labels have been provided in the dataset, or that we can label the data, and that the labels take on a category, also known as discrete values, such as cats and dogs. Predicting such labels, such as determining whether an unknown picture is a cat or a dog, is a typical machine learning classification task, Classification, and if the labels are not discrete but continuous, such as the price of housing in a certain city, predicting such labels is a machine learning regression task, Regression.\n",
    "\n",
    "Classification and regression are both part of the often-heard of supervised learning, Supervised Learning, which requires that labels must be provided in the dataset used to train the machine learning model. If the dataset is not labeled or cannot be labeled, then machine learning needs to find hidden structures and patterns in the unlabeled data, a situation known as Unsupervised Learning.\n",
    "\n",
    "![machine learning](https://static-1300131294.cos.ap-shanghai.myqcloud.com/images/tutorials/ml-tutorial-introduction/ml.png)\n",
    "\n",
    "These are very core and fundamental concepts in machine learning, and as you can see, labeling is at a central position for the definition of a machine learning problem. "
   ]
  }
 ],
 "metadata": {
  "kernelspec": {
   "display_name": "Python 3",
   "language": "python",
   "name": "python3"
  },
  "language_info": {
   "name": "python",
   "version": "3.9.6"
  },
  "orig_nbformat": 4
 },
 "nbformat": 4,
 "nbformat_minor": 2
}
