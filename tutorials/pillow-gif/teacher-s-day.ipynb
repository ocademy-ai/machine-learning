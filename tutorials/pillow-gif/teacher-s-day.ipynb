{
 "cells": [
  {
   "cell_type": "code",
   "execution_count": 1,
   "id": "32c00c3a",
   "metadata": {},
   "outputs": [],
   "source": [
    "import glob\n",
    "from PIL import Image"
   ]
  },
  {
   "cell_type": "code",
   "execution_count": 2,
   "id": "4922ab85",
   "metadata": {},
   "outputs": [],
   "source": [
    "def make_gif(frame_folder):\n",
    "    frames = [Image.open(image) for image in sorted(glob.glob(f\"{frame_folder}/*\"))]\n",
    "    frame_one = frames[0]\n",
    "    frame_one.save(f\"{frame_folder}.gif\", format=\"GIF\", append_images=frames,\n",
    "               save_all=True, duration=500, loop=1)"
   ]
  },
  {
   "cell_type": "code",
   "execution_count": 3,
   "id": "960f6861",
   "metadata": {},
   "outputs": [],
   "source": [
    "make_gif(\"./teacher-s-day\")"
   ]
  },
  {
   "cell_type": "markdown",
   "id": "1138b073",
   "metadata": {},
   "source": [
    "Ref: \n",
    "\n",
    "- https://pythonexamples.org/pillow-create-gif/\n",
    "- https://python.plainenglish.io/how-to-make-gif-images-in-python-df404d778e6b"
   ]
  }
 ],
 "metadata": {
  "kernelspec": {
   "display_name": "Python 3 (ipykernel)",
   "language": "python",
   "name": "python3"
  },
  "language_info": {
   "codemirror_mode": {
    "name": "ipython",
    "version": 3
   },
   "file_extension": ".py",
   "mimetype": "text/x-python",
   "name": "python",
   "nbconvert_exporter": "python",
   "pygments_lexer": "ipython3",
   "version": "3.10.6"
  },
  "toc": {
   "base_numbering": 1,
   "nav_menu": {},
   "number_sections": true,
   "sideBar": true,
   "skip_h1_title": false,
   "title_cell": "Table of Contents",
   "title_sidebar": "Contents",
   "toc_cell": false,
   "toc_position": {},
   "toc_section_display": true,
   "toc_window_display": false
  }
 },
 "nbformat": 4,
 "nbformat_minor": 5
}
